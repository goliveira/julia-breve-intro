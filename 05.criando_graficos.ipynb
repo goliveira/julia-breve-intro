{
 "cells": [
  {
   "cell_type": "markdown",
   "metadata": {},
   "source": [
    "# Criando gráficos em Julia\n",
    "\n",
    "Existem várias formas de criar gráficos em Julia.\n",
    "Descrevemos a seguir como criar gráficos usando `Plots.jl`."
   ]
  },
  {
   "cell_type": "code",
   "execution_count": 1,
   "metadata": {},
   "outputs": [
    {
     "name": "stdout",
     "output_type": "stream",
     "text": [
      "\u001b[32m\u001b[1m  Updating\u001b[22m\u001b[39m registry at `~/.julia/registries/General`\n",
      "\u001b[32m\u001b[1m  Updating\u001b[22m\u001b[39m git-repo `https://github.com/JuliaRegistries/General.git`\n",
      "\u001b[?25l\u001b[2K\u001b[?25h\u001b[32m\u001b[1m Resolving\u001b[22m\u001b[39m package versions...\n",
      "\u001b[32m\u001b[1m  Updating\u001b[22m\u001b[39m `~/.julia/environments/v1.2/Project.toml`\n",
      "\u001b[90m [no changes]\u001b[39m\n",
      "\u001b[32m\u001b[1m  Updating\u001b[22m\u001b[39m `~/.julia/environments/v1.2/Manifest.toml`\n",
      "\u001b[90m [no changes]\u001b[39m\n"
     ]
    }
   ],
   "source": [
    "using Pkg\n",
    "Pkg.add(\"Plots\")"
   ]
  },
  {
   "cell_type": "code",
   "execution_count": 2,
   "metadata": {},
   "outputs": [],
   "source": [
    "using Plots"
   ]
  },
  {
   "cell_type": "markdown",
   "metadata": {},
   "source": [
    "Uma das vantagens de `Plots.jl` é que ele permite mudar de um backend para outro facilmente.\n",
    "Neste notebook, vamos usar os backends `gr()` e `unicodeplots()`.\n",
    "\n",
    "Vamos fazer o gráfico de alguns pontos da função exponencial."
   ]
  },
  {
   "cell_type": "code",
   "execution_count": 3,
   "metadata": {},
   "outputs": [],
   "source": [
    "x = [-2.1, -0.3, 1.2, 2.2, 2.9, 3.7, 4.5, 5.1];\n",
    "y = exp.(x);"
   ]
  },
  {
   "cell_type": "markdown",
   "metadata": {},
   "source": [
    "Para fazer os gráficos, vamos carregar o backend GR:"
   ]
  },
  {
   "cell_type": "code",
   "execution_count": 4,
   "metadata": {},
   "outputs": [
    {
     "data": {
      "text/plain": [
       "Plots.GRBackend()"
      ]
     },
     "execution_count": 4,
     "metadata": {},
     "output_type": "execute_result"
    }
   ],
   "source": [
    "gr()"
   ]
  },
  {
   "cell_type": "markdown",
   "metadata": {},
   "source": [
    "Agora usamos os comandos `plot` e `scatter` para fazer os gráficos."
   ]
  },
  {
   "cell_type": "code",
   "execution_count": 5,
   "metadata": {},
   "outputs": [
    {
     "data": {
      "image/svg+xml": [
       "<?xml version=\"1.0\" encoding=\"utf-8\"?>\n",
       "<svg xmlns=\"http://www.w3.org/2000/svg\" xmlns:xlink=\"http://www.w3.org/1999/xlink\" width=\"600\" height=\"400\" viewBox=\"0 0 2400 1600\">\n",
       "<defs>\n",
       "  <clipPath id=\"clip7600\">\n",
       "    <rect x=\"0\" y=\"0\" width=\"2400\" height=\"1600\"/>\n",
       "  </clipPath>\n",
       "</defs>\n",
       "<polygon clip-path=\"url(#clip7600)\" points=\"\n",
       "0,1600 2400,1600 2400,0 0,0 \n",
       "  \" fill=\"#ffffff\" fill-rule=\"evenodd\" fill-opacity=\"1\"/>\n",
       "<defs>\n",
       "  <clipPath id=\"clip7601\">\n",
       "    <rect x=\"480\" y=\"0\" width=\"1681\" height=\"1600\"/>\n",
       "  </clipPath>\n",
       "</defs>\n",
       "<polygon clip-path=\"url(#clip7600)\" points=\"\n",
       "167.279,1487.47 2352.76,1487.47 2352.76,47.2441 167.279,47.2441 \n",
       "  \" fill=\"#ffffff\" fill-rule=\"evenodd\" fill-opacity=\"1\"/>\n",
       "<defs>\n",
       "  <clipPath id=\"clip7602\">\n",
       "    <rect x=\"167\" y=\"47\" width=\"2186\" height=\"1441\"/>\n",
       "  </clipPath>\n",
       "</defs>\n",
       "<polyline clip-path=\"url(#clip7602)\" style=\"stroke:#000000; stroke-width:2; stroke-opacity:0.1; fill:none\" points=\"\n",
       "  257.768,1487.47 257.768,47.2441 \n",
       "  \"/>\n",
       "<polyline clip-path=\"url(#clip7602)\" style=\"stroke:#000000; stroke-width:2; stroke-opacity:0.1; fill:none\" points=\"\n",
       "  830.482,1487.47 830.482,47.2441 \n",
       "  \"/>\n",
       "<polyline clip-path=\"url(#clip7602)\" style=\"stroke:#000000; stroke-width:2; stroke-opacity:0.1; fill:none\" points=\"\n",
       "  1403.2,1487.47 1403.2,47.2441 \n",
       "  \"/>\n",
       "<polyline clip-path=\"url(#clip7602)\" style=\"stroke:#000000; stroke-width:2; stroke-opacity:0.1; fill:none\" points=\"\n",
       "  1975.91,1487.47 1975.91,47.2441 \n",
       "  \"/>\n",
       "<polyline clip-path=\"url(#clip7602)\" style=\"stroke:#000000; stroke-width:2; stroke-opacity:0.1; fill:none\" points=\"\n",
       "  167.279,1447.73 2352.76,1447.73 \n",
       "  \"/>\n",
       "<polyline clip-path=\"url(#clip7602)\" style=\"stroke:#000000; stroke-width:2; stroke-opacity:0.1; fill:none\" points=\"\n",
       "  167.279,1033.23 2352.76,1033.23 \n",
       "  \"/>\n",
       "<polyline clip-path=\"url(#clip7602)\" style=\"stroke:#000000; stroke-width:2; stroke-opacity:0.1; fill:none\" points=\"\n",
       "  167.279,618.74 2352.76,618.74 \n",
       "  \"/>\n",
       "<polyline clip-path=\"url(#clip7602)\" style=\"stroke:#000000; stroke-width:2; stroke-opacity:0.1; fill:none\" points=\"\n",
       "  167.279,204.245 2352.76,204.245 \n",
       "  \"/>\n",
       "<polyline clip-path=\"url(#clip7600)\" style=\"stroke:#000000; stroke-width:4; stroke-opacity:1; fill:none\" points=\"\n",
       "  167.279,1487.47 2352.76,1487.47 \n",
       "  \"/>\n",
       "<polyline clip-path=\"url(#clip7600)\" style=\"stroke:#000000; stroke-width:4; stroke-opacity:1; fill:none\" points=\"\n",
       "  167.279,1487.47 167.279,47.2441 \n",
       "  \"/>\n",
       "<polyline clip-path=\"url(#clip7600)\" style=\"stroke:#000000; stroke-width:4; stroke-opacity:1; fill:none\" points=\"\n",
       "  257.768,1487.47 257.768,1465.87 \n",
       "  \"/>\n",
       "<polyline clip-path=\"url(#clip7600)\" style=\"stroke:#000000; stroke-width:4; stroke-opacity:1; fill:none\" points=\"\n",
       "  830.482,1487.47 830.482,1465.87 \n",
       "  \"/>\n",
       "<polyline clip-path=\"url(#clip7600)\" style=\"stroke:#000000; stroke-width:4; stroke-opacity:1; fill:none\" points=\"\n",
       "  1403.2,1487.47 1403.2,1465.87 \n",
       "  \"/>\n",
       "<polyline clip-path=\"url(#clip7600)\" style=\"stroke:#000000; stroke-width:4; stroke-opacity:1; fill:none\" points=\"\n",
       "  1975.91,1487.47 1975.91,1465.87 \n",
       "  \"/>\n",
       "<polyline clip-path=\"url(#clip7600)\" style=\"stroke:#000000; stroke-width:4; stroke-opacity:1; fill:none\" points=\"\n",
       "  167.279,1447.73 200.061,1447.73 \n",
       "  \"/>\n",
       "<polyline clip-path=\"url(#clip7600)\" style=\"stroke:#000000; stroke-width:4; stroke-opacity:1; fill:none\" points=\"\n",
       "  167.279,1033.23 200.061,1033.23 \n",
       "  \"/>\n",
       "<polyline clip-path=\"url(#clip7600)\" style=\"stroke:#000000; stroke-width:4; stroke-opacity:1; fill:none\" points=\"\n",
       "  167.279,618.74 200.061,618.74 \n",
       "  \"/>\n",
       "<polyline clip-path=\"url(#clip7600)\" style=\"stroke:#000000; stroke-width:4; stroke-opacity:1; fill:none\" points=\"\n",
       "  167.279,204.245 200.061,204.245 \n",
       "  \"/>\n",
       "<g clip-path=\"url(#clip7600)\">\n",
       "<text style=\"fill:#000000; fill-opacity:1; font-family:Arial,Helvetica Neue,Helvetica,sans-serif; font-size:48px; text-anchor:middle;\" transform=\"rotate(0, 257.768, 1541.47)\" x=\"257.768\" y=\"1541.47\">-2</text>\n",
       "</g>\n",
       "<g clip-path=\"url(#clip7600)\">\n",
       "<text style=\"fill:#000000; fill-opacity:1; font-family:Arial,Helvetica Neue,Helvetica,sans-serif; font-size:48px; text-anchor:middle;\" transform=\"rotate(0, 830.482, 1541.47)\" x=\"830.482\" y=\"1541.47\">0</text>\n",
       "</g>\n",
       "<g clip-path=\"url(#clip7600)\">\n",
       "<text style=\"fill:#000000; fill-opacity:1; font-family:Arial,Helvetica Neue,Helvetica,sans-serif; font-size:48px; text-anchor:middle;\" transform=\"rotate(0, 1403.2, 1541.47)\" x=\"1403.2\" y=\"1541.47\">2</text>\n",
       "</g>\n",
       "<g clip-path=\"url(#clip7600)\">\n",
       "<text style=\"fill:#000000; fill-opacity:1; font-family:Arial,Helvetica Neue,Helvetica,sans-serif; font-size:48px; text-anchor:middle;\" transform=\"rotate(0, 1975.91, 1541.47)\" x=\"1975.91\" y=\"1541.47\">4</text>\n",
       "</g>\n",
       "<g clip-path=\"url(#clip7600)\">\n",
       "<text style=\"fill:#000000; fill-opacity:1; font-family:Arial,Helvetica Neue,Helvetica,sans-serif; font-size:48px; text-anchor:end;\" transform=\"rotate(0, 143.279, 1465.23)\" x=\"143.279\" y=\"1465.23\">0</text>\n",
       "</g>\n",
       "<g clip-path=\"url(#clip7600)\">\n",
       "<text style=\"fill:#000000; fill-opacity:1; font-family:Arial,Helvetica Neue,Helvetica,sans-serif; font-size:48px; text-anchor:end;\" transform=\"rotate(0, 143.279, 1050.73)\" x=\"143.279\" y=\"1050.73\">50</text>\n",
       "</g>\n",
       "<g clip-path=\"url(#clip7600)\">\n",
       "<text style=\"fill:#000000; fill-opacity:1; font-family:Arial,Helvetica Neue,Helvetica,sans-serif; font-size:48px; text-anchor:end;\" transform=\"rotate(0, 143.279, 636.24)\" x=\"143.279\" y=\"636.24\">100</text>\n",
       "</g>\n",
       "<g clip-path=\"url(#clip7600)\">\n",
       "<text style=\"fill:#000000; fill-opacity:1; font-family:Arial,Helvetica Neue,Helvetica,sans-serif; font-size:48px; text-anchor:end;\" transform=\"rotate(0, 143.279, 221.745)\" x=\"143.279\" y=\"221.745\">150</text>\n",
       "</g>\n",
       "<polyline clip-path=\"url(#clip7602)\" style=\"stroke:#009af9; stroke-width:4; stroke-opacity:1; fill:none\" points=\"\n",
       "  229.132,1446.71 744.575,1441.59 1174.11,1420.21 1460.47,1372.91 1660.92,1297.07 1890,1112.42 2119.09,701.497 2290.9,88.0053 \n",
       "  \"/>\n",
       "<circle clip-path=\"url(#clip7602)\" style=\"fill:#000000; stroke:none; fill-opacity:1\" cx=\"229.132\" cy=\"1446.71\" r=\"18\"/>\n",
       "<circle clip-path=\"url(#clip7602)\" style=\"fill:#e26f46; stroke:none; fill-opacity:1\" cx=\"229.132\" cy=\"1446.71\" r=\"14\"/>\n",
       "<circle clip-path=\"url(#clip7602)\" style=\"fill:#000000; stroke:none; fill-opacity:1\" cx=\"744.575\" cy=\"1441.59\" r=\"18\"/>\n",
       "<circle clip-path=\"url(#clip7602)\" style=\"fill:#e26f46; stroke:none; fill-opacity:1\" cx=\"744.575\" cy=\"1441.59\" r=\"14\"/>\n",
       "<circle clip-path=\"url(#clip7602)\" style=\"fill:#000000; stroke:none; fill-opacity:1\" cx=\"1174.11\" cy=\"1420.21\" r=\"18\"/>\n",
       "<circle clip-path=\"url(#clip7602)\" style=\"fill:#e26f46; stroke:none; fill-opacity:1\" cx=\"1174.11\" cy=\"1420.21\" r=\"14\"/>\n",
       "<circle clip-path=\"url(#clip7602)\" style=\"fill:#000000; stroke:none; fill-opacity:1\" cx=\"1460.47\" cy=\"1372.91\" r=\"18\"/>\n",
       "<circle clip-path=\"url(#clip7602)\" style=\"fill:#e26f46; stroke:none; fill-opacity:1\" cx=\"1460.47\" cy=\"1372.91\" r=\"14\"/>\n",
       "<circle clip-path=\"url(#clip7602)\" style=\"fill:#000000; stroke:none; fill-opacity:1\" cx=\"1660.92\" cy=\"1297.07\" r=\"18\"/>\n",
       "<circle clip-path=\"url(#clip7602)\" style=\"fill:#e26f46; stroke:none; fill-opacity:1\" cx=\"1660.92\" cy=\"1297.07\" r=\"14\"/>\n",
       "<circle clip-path=\"url(#clip7602)\" style=\"fill:#000000; stroke:none; fill-opacity:1\" cx=\"1890\" cy=\"1112.42\" r=\"18\"/>\n",
       "<circle clip-path=\"url(#clip7602)\" style=\"fill:#e26f46; stroke:none; fill-opacity:1\" cx=\"1890\" cy=\"1112.42\" r=\"14\"/>\n",
       "<circle clip-path=\"url(#clip7602)\" style=\"fill:#000000; stroke:none; fill-opacity:1\" cx=\"2119.09\" cy=\"701.497\" r=\"18\"/>\n",
       "<circle clip-path=\"url(#clip7602)\" style=\"fill:#e26f46; stroke:none; fill-opacity:1\" cx=\"2119.09\" cy=\"701.497\" r=\"14\"/>\n",
       "<circle clip-path=\"url(#clip7602)\" style=\"fill:#000000; stroke:none; fill-opacity:1\" cx=\"2290.9\" cy=\"88.0053\" r=\"18\"/>\n",
       "<circle clip-path=\"url(#clip7602)\" style=\"fill:#e26f46; stroke:none; fill-opacity:1\" cx=\"2290.9\" cy=\"88.0053\" r=\"14\"/>\n",
       "<polygon clip-path=\"url(#clip7600)\" points=\"\n",
       "1896.26,312.204 2280.76,312.204 2280.76,130.764 1896.26,130.764 \n",
       "  \" fill=\"#ffffff\" fill-rule=\"evenodd\" fill-opacity=\"1\"/>\n",
       "<polyline clip-path=\"url(#clip7600)\" style=\"stroke:#000000; stroke-width:4; stroke-opacity:1; fill:none\" points=\"\n",
       "  1896.26,312.204 2280.76,312.204 2280.76,130.764 1896.26,130.764 1896.26,312.204 \n",
       "  \"/>\n",
       "<polyline clip-path=\"url(#clip7600)\" style=\"stroke:#009af9; stroke-width:4; stroke-opacity:1; fill:none\" points=\"\n",
       "  1920.26,191.244 2064.26,191.244 \n",
       "  \"/>\n",
       "<g clip-path=\"url(#clip7600)\">\n",
       "<text style=\"fill:#000000; fill-opacity:1; font-family:Arial,Helvetica Neue,Helvetica,sans-serif; font-size:48px; text-anchor:start;\" transform=\"rotate(0, 2088.26, 208.744)\" x=\"2088.26\" y=\"208.744\">linha</text>\n",
       "</g>\n",
       "<circle clip-path=\"url(#clip7600)\" style=\"fill:#000000; stroke:none; fill-opacity:1\" cx=\"2004.26\" cy=\"251.724\" r=\"25\"/>\n",
       "<circle clip-path=\"url(#clip7600)\" style=\"fill:#e26f46; stroke:none; fill-opacity:1\" cx=\"2004.26\" cy=\"251.724\" r=\"21\"/>\n",
       "<g clip-path=\"url(#clip7600)\">\n",
       "<text style=\"fill:#000000; fill-opacity:1; font-family:Arial,Helvetica Neue,Helvetica,sans-serif; font-size:48px; text-anchor:start;\" transform=\"rotate(0, 2088.26, 269.224)\" x=\"2088.26\" y=\"269.224\">pontos</text>\n",
       "</g>\n",
       "</svg>\n"
      ]
     },
     "execution_count": 5,
     "metadata": {},
     "output_type": "execute_result"
    }
   ],
   "source": [
    "plot(x, y, label=\"linha\")\n",
    "scatter!(x, y, label=\"pontos\")"
   ]
  },
  {
   "cell_type": "markdown",
   "metadata": {},
   "source": [
    "A função `scatter!` (com `!` no final) é uma função mutante, e portanto ela irá modificar o gráfico que já existia.\n",
    "Em contraste, execute o comando acima sem o ponto de exclamação `!` e veja o que ocorre.\n",
    "\n",
    "A seguir, adicionamos informações ao gráfico:"
   ]
  },
  {
   "cell_type": "code",
   "execution_count": 6,
   "metadata": {},
   "outputs": [
    {
     "data": {
      "image/svg+xml": [
       "<?xml version=\"1.0\" encoding=\"utf-8\"?>\n",
       "<svg xmlns=\"http://www.w3.org/2000/svg\" xmlns:xlink=\"http://www.w3.org/1999/xlink\" width=\"600\" height=\"400\" viewBox=\"0 0 2400 1600\">\n",
       "<defs>\n",
       "  <clipPath id=\"clip8000\">\n",
       "    <rect x=\"0\" y=\"0\" width=\"2400\" height=\"1600\"/>\n",
       "  </clipPath>\n",
       "</defs>\n",
       "<polygon clip-path=\"url(#clip8000)\" points=\"\n",
       "0,1600 2400,1600 2400,0 0,0 \n",
       "  \" fill=\"#ffffff\" fill-rule=\"evenodd\" fill-opacity=\"1\"/>\n",
       "<defs>\n",
       "  <clipPath id=\"clip8001\">\n",
       "    <rect x=\"480\" y=\"0\" width=\"1681\" height=\"1600\"/>\n",
       "  </clipPath>\n",
       "</defs>\n",
       "<polygon clip-path=\"url(#clip8000)\" points=\"\n",
       "229.135,1425.62 2352.76,1425.62 2352.76,121.675 229.135,121.675 \n",
       "  \" fill=\"#ffffff\" fill-rule=\"evenodd\" fill-opacity=\"1\"/>\n",
       "<defs>\n",
       "  <clipPath id=\"clip8002\">\n",
       "    <rect x=\"229\" y=\"121\" width=\"2125\" height=\"1305\"/>\n",
       "  </clipPath>\n",
       "</defs>\n",
       "<polyline clip-path=\"url(#clip8002)\" style=\"stroke:#000000; stroke-width:2; stroke-opacity:0.1; fill:none\" points=\"\n",
       "  317.063,1425.62 317.063,121.675 \n",
       "  \"/>\n",
       "<polyline clip-path=\"url(#clip8002)\" style=\"stroke:#000000; stroke-width:2; stroke-opacity:0.1; fill:none\" points=\"\n",
       "  873.567,1425.62 873.567,121.675 \n",
       "  \"/>\n",
       "<polyline clip-path=\"url(#clip8002)\" style=\"stroke:#000000; stroke-width:2; stroke-opacity:0.1; fill:none\" points=\"\n",
       "  1430.07,1425.62 1430.07,121.675 \n",
       "  \"/>\n",
       "<polyline clip-path=\"url(#clip8002)\" style=\"stroke:#000000; stroke-width:2; stroke-opacity:0.1; fill:none\" points=\"\n",
       "  1986.58,1425.62 1986.58,121.675 \n",
       "  \"/>\n",
       "<polyline clip-path=\"url(#clip8002)\" style=\"stroke:#000000; stroke-width:2; stroke-opacity:0.1; fill:none\" points=\"\n",
       "  229.135,1389.63 2352.76,1389.63 \n",
       "  \"/>\n",
       "<polyline clip-path=\"url(#clip8002)\" style=\"stroke:#000000; stroke-width:2; stroke-opacity:0.1; fill:none\" points=\"\n",
       "  229.135,1014.36 2352.76,1014.36 \n",
       "  \"/>\n",
       "<polyline clip-path=\"url(#clip8002)\" style=\"stroke:#000000; stroke-width:2; stroke-opacity:0.1; fill:none\" points=\"\n",
       "  229.135,639.091 2352.76,639.091 \n",
       "  \"/>\n",
       "<polyline clip-path=\"url(#clip8002)\" style=\"stroke:#000000; stroke-width:2; stroke-opacity:0.1; fill:none\" points=\"\n",
       "  229.135,263.82 2352.76,263.82 \n",
       "  \"/>\n",
       "<polyline clip-path=\"url(#clip8000)\" style=\"stroke:#000000; stroke-width:4; stroke-opacity:1; fill:none\" points=\"\n",
       "  229.135,1425.62 2352.76,1425.62 \n",
       "  \"/>\n",
       "<polyline clip-path=\"url(#clip8000)\" style=\"stroke:#000000; stroke-width:4; stroke-opacity:1; fill:none\" points=\"\n",
       "  229.135,1425.62 229.135,121.675 \n",
       "  \"/>\n",
       "<polyline clip-path=\"url(#clip8000)\" style=\"stroke:#000000; stroke-width:4; stroke-opacity:1; fill:none\" points=\"\n",
       "  317.063,1425.62 317.063,1406.06 \n",
       "  \"/>\n",
       "<polyline clip-path=\"url(#clip8000)\" style=\"stroke:#000000; stroke-width:4; stroke-opacity:1; fill:none\" points=\"\n",
       "  873.567,1425.62 873.567,1406.06 \n",
       "  \"/>\n",
       "<polyline clip-path=\"url(#clip8000)\" style=\"stroke:#000000; stroke-width:4; stroke-opacity:1; fill:none\" points=\"\n",
       "  1430.07,1425.62 1430.07,1406.06 \n",
       "  \"/>\n",
       "<polyline clip-path=\"url(#clip8000)\" style=\"stroke:#000000; stroke-width:4; stroke-opacity:1; fill:none\" points=\"\n",
       "  1986.58,1425.62 1986.58,1406.06 \n",
       "  \"/>\n",
       "<polyline clip-path=\"url(#clip8000)\" style=\"stroke:#000000; stroke-width:4; stroke-opacity:1; fill:none\" points=\"\n",
       "  229.135,1389.63 260.99,1389.63 \n",
       "  \"/>\n",
       "<polyline clip-path=\"url(#clip8000)\" style=\"stroke:#000000; stroke-width:4; stroke-opacity:1; fill:none\" points=\"\n",
       "  229.135,1014.36 260.99,1014.36 \n",
       "  \"/>\n",
       "<polyline clip-path=\"url(#clip8000)\" style=\"stroke:#000000; stroke-width:4; stroke-opacity:1; fill:none\" points=\"\n",
       "  229.135,639.091 260.99,639.091 \n",
       "  \"/>\n",
       "<polyline clip-path=\"url(#clip8000)\" style=\"stroke:#000000; stroke-width:4; stroke-opacity:1; fill:none\" points=\"\n",
       "  229.135,263.82 260.99,263.82 \n",
       "  \"/>\n",
       "<g clip-path=\"url(#clip8000)\">\n",
       "<text style=\"fill:#000000; fill-opacity:1; font-family:Arial,Helvetica Neue,Helvetica,sans-serif; font-size:48px; text-anchor:middle;\" transform=\"rotate(0, 317.063, 1479.62)\" x=\"317.063\" y=\"1479.62\">-2</text>\n",
       "</g>\n",
       "<g clip-path=\"url(#clip8000)\">\n",
       "<text style=\"fill:#000000; fill-opacity:1; font-family:Arial,Helvetica Neue,Helvetica,sans-serif; font-size:48px; text-anchor:middle;\" transform=\"rotate(0, 873.567, 1479.62)\" x=\"873.567\" y=\"1479.62\">0</text>\n",
       "</g>\n",
       "<g clip-path=\"url(#clip8000)\">\n",
       "<text style=\"fill:#000000; fill-opacity:1; font-family:Arial,Helvetica Neue,Helvetica,sans-serif; font-size:48px; text-anchor:middle;\" transform=\"rotate(0, 1430.07, 1479.62)\" x=\"1430.07\" y=\"1479.62\">2</text>\n",
       "</g>\n",
       "<g clip-path=\"url(#clip8000)\">\n",
       "<text style=\"fill:#000000; fill-opacity:1; font-family:Arial,Helvetica Neue,Helvetica,sans-serif; font-size:48px; text-anchor:middle;\" transform=\"rotate(0, 1986.58, 1479.62)\" x=\"1986.58\" y=\"1479.62\">4</text>\n",
       "</g>\n",
       "<g clip-path=\"url(#clip8000)\">\n",
       "<text style=\"fill:#000000; fill-opacity:1; font-family:Arial,Helvetica Neue,Helvetica,sans-serif; font-size:48px; text-anchor:end;\" transform=\"rotate(0, 205.135, 1407.13)\" x=\"205.135\" y=\"1407.13\">0</text>\n",
       "</g>\n",
       "<g clip-path=\"url(#clip8000)\">\n",
       "<text style=\"fill:#000000; fill-opacity:1; font-family:Arial,Helvetica Neue,Helvetica,sans-serif; font-size:48px; text-anchor:end;\" transform=\"rotate(0, 205.135, 1031.86)\" x=\"205.135\" y=\"1031.86\">50</text>\n",
       "</g>\n",
       "<g clip-path=\"url(#clip8000)\">\n",
       "<text style=\"fill:#000000; fill-opacity:1; font-family:Arial,Helvetica Neue,Helvetica,sans-serif; font-size:48px; text-anchor:end;\" transform=\"rotate(0, 205.135, 656.591)\" x=\"205.135\" y=\"656.591\">100</text>\n",
       "</g>\n",
       "<g clip-path=\"url(#clip8000)\">\n",
       "<text style=\"fill:#000000; fill-opacity:1; font-family:Arial,Helvetica Neue,Helvetica,sans-serif; font-size:48px; text-anchor:end;\" transform=\"rotate(0, 205.135, 281.32)\" x=\"205.135\" y=\"281.32\">150</text>\n",
       "</g>\n",
       "<g clip-path=\"url(#clip8000)\">\n",
       "<text style=\"fill:#000000; fill-opacity:1; font-family:Arial,Helvetica Neue,Helvetica,sans-serif; font-size:84px; text-anchor:middle;\" transform=\"rotate(0, 1290.95, 73.2)\" x=\"1290.95\" y=\"73.2\">Alguns pontos do gráfico da função seno</text>\n",
       "</g>\n",
       "<g clip-path=\"url(#clip8000)\">\n",
       "<text style=\"fill:#000000; fill-opacity:1; font-family:Arial,Helvetica Neue,Helvetica,sans-serif; font-size:66px; text-anchor:middle;\" transform=\"rotate(0, 1290.95, 1559.48)\" x=\"1290.95\" y=\"1559.48\">x</text>\n",
       "</g>\n",
       "<g clip-path=\"url(#clip8000)\">\n",
       "<text style=\"fill:#000000; fill-opacity:1; font-family:Arial,Helvetica Neue,Helvetica,sans-serif; font-size:66px; text-anchor:middle;\" transform=\"rotate(-90, 89.2861, 773.647)\" x=\"89.2861\" y=\"773.647\">y = sin(x)</text>\n",
       "</g>\n",
       "<polyline clip-path=\"url(#clip8002)\" style=\"stroke:#009af9; stroke-width:4; stroke-opacity:1; fill:none\" points=\"\n",
       "  289.238,1388.71 790.092,1384.07 1207.47,1364.71 1485.72,1321.9 1680.5,1253.23 1903.1,1086.06 2125.7,714.017 2292.65,158.579 \n",
       "  \"/>\n",
       "<circle clip-path=\"url(#clip8002)\" style=\"fill:#000000; stroke:none; fill-opacity:1\" cx=\"289.238\" cy=\"1388.71\" r=\"18\"/>\n",
       "<circle clip-path=\"url(#clip8002)\" style=\"fill:#e26f46; stroke:none; fill-opacity:1\" cx=\"289.238\" cy=\"1388.71\" r=\"14\"/>\n",
       "<circle clip-path=\"url(#clip8002)\" style=\"fill:#000000; stroke:none; fill-opacity:1\" cx=\"790.092\" cy=\"1384.07\" r=\"18\"/>\n",
       "<circle clip-path=\"url(#clip8002)\" style=\"fill:#e26f46; stroke:none; fill-opacity:1\" cx=\"790.092\" cy=\"1384.07\" r=\"14\"/>\n",
       "<circle clip-path=\"url(#clip8002)\" style=\"fill:#000000; stroke:none; fill-opacity:1\" cx=\"1207.47\" cy=\"1364.71\" r=\"18\"/>\n",
       "<circle clip-path=\"url(#clip8002)\" style=\"fill:#e26f46; stroke:none; fill-opacity:1\" cx=\"1207.47\" cy=\"1364.71\" r=\"14\"/>\n",
       "<circle clip-path=\"url(#clip8002)\" style=\"fill:#000000; stroke:none; fill-opacity:1\" cx=\"1485.72\" cy=\"1321.9\" r=\"18\"/>\n",
       "<circle clip-path=\"url(#clip8002)\" style=\"fill:#e26f46; stroke:none; fill-opacity:1\" cx=\"1485.72\" cy=\"1321.9\" r=\"14\"/>\n",
       "<circle clip-path=\"url(#clip8002)\" style=\"fill:#000000; stroke:none; fill-opacity:1\" cx=\"1680.5\" cy=\"1253.23\" r=\"18\"/>\n",
       "<circle clip-path=\"url(#clip8002)\" style=\"fill:#e26f46; stroke:none; fill-opacity:1\" cx=\"1680.5\" cy=\"1253.23\" r=\"14\"/>\n",
       "<circle clip-path=\"url(#clip8002)\" style=\"fill:#000000; stroke:none; fill-opacity:1\" cx=\"1903.1\" cy=\"1086.06\" r=\"18\"/>\n",
       "<circle clip-path=\"url(#clip8002)\" style=\"fill:#e26f46; stroke:none; fill-opacity:1\" cx=\"1903.1\" cy=\"1086.06\" r=\"14\"/>\n",
       "<circle clip-path=\"url(#clip8002)\" style=\"fill:#000000; stroke:none; fill-opacity:1\" cx=\"2125.7\" cy=\"714.017\" r=\"18\"/>\n",
       "<circle clip-path=\"url(#clip8002)\" style=\"fill:#e26f46; stroke:none; fill-opacity:1\" cx=\"2125.7\" cy=\"714.017\" r=\"14\"/>\n",
       "<circle clip-path=\"url(#clip8002)\" style=\"fill:#000000; stroke:none; fill-opacity:1\" cx=\"2292.65\" cy=\"158.579\" r=\"18\"/>\n",
       "<circle clip-path=\"url(#clip8002)\" style=\"fill:#e26f46; stroke:none; fill-opacity:1\" cx=\"2292.65\" cy=\"158.579\" r=\"14\"/>\n",
       "<polygon clip-path=\"url(#clip8000)\" points=\"\n",
       "1896.26,386.635 2280.76,386.635 2280.76,205.195 1896.26,205.195 \n",
       "  \" fill=\"#ffffff\" fill-rule=\"evenodd\" fill-opacity=\"1\"/>\n",
       "<polyline clip-path=\"url(#clip8000)\" style=\"stroke:#000000; stroke-width:4; stroke-opacity:1; fill:none\" points=\"\n",
       "  1896.26,386.635 2280.76,386.635 2280.76,205.195 1896.26,205.195 1896.26,386.635 \n",
       "  \"/>\n",
       "<polyline clip-path=\"url(#clip8000)\" style=\"stroke:#009af9; stroke-width:4; stroke-opacity:1; fill:none\" points=\"\n",
       "  1920.26,265.675 2064.26,265.675 \n",
       "  \"/>\n",
       "<g clip-path=\"url(#clip8000)\">\n",
       "<text style=\"fill:#000000; fill-opacity:1; font-family:Arial,Helvetica Neue,Helvetica,sans-serif; font-size:48px; text-anchor:start;\" transform=\"rotate(0, 2088.26, 283.175)\" x=\"2088.26\" y=\"283.175\">linha</text>\n",
       "</g>\n",
       "<circle clip-path=\"url(#clip8000)\" style=\"fill:#000000; stroke:none; fill-opacity:1\" cx=\"2004.26\" cy=\"326.155\" r=\"25\"/>\n",
       "<circle clip-path=\"url(#clip8000)\" style=\"fill:#e26f46; stroke:none; fill-opacity:1\" cx=\"2004.26\" cy=\"326.155\" r=\"21\"/>\n",
       "<g clip-path=\"url(#clip8000)\">\n",
       "<text style=\"fill:#000000; fill-opacity:1; font-family:Arial,Helvetica Neue,Helvetica,sans-serif; font-size:48px; text-anchor:start;\" transform=\"rotate(0, 2088.26, 343.655)\" x=\"2088.26\" y=\"343.655\">pontos</text>\n",
       "</g>\n",
       "</svg>\n"
      ]
     },
     "execution_count": 6,
     "metadata": {},
     "output_type": "execute_result"
    }
   ],
   "source": [
    "xlabel!(\"x\")\n",
    "ylabel!(\"y = sin(x)\")\n",
    "title!(\"Alguns pontos do gráfico da função seno\")"
   ]
  },
  {
   "cell_type": "markdown",
   "metadata": {},
   "source": [
    "O comando `xflip` modifica a orientação do eixo X."
   ]
  },
  {
   "cell_type": "code",
   "execution_count": 7,
   "metadata": {},
   "outputs": [
    {
     "data": {
      "image/svg+xml": [
       "<?xml version=\"1.0\" encoding=\"utf-8\"?>\n",
       "<svg xmlns=\"http://www.w3.org/2000/svg\" xmlns:xlink=\"http://www.w3.org/1999/xlink\" width=\"600\" height=\"400\" viewBox=\"0 0 2400 1600\">\n",
       "<defs>\n",
       "  <clipPath id=\"clip8400\">\n",
       "    <rect x=\"0\" y=\"0\" width=\"2400\" height=\"1600\"/>\n",
       "  </clipPath>\n",
       "</defs>\n",
       "<polygon clip-path=\"url(#clip8400)\" points=\"\n",
       "0,1600 2400,1600 2400,0 0,0 \n",
       "  \" fill=\"#ffffff\" fill-rule=\"evenodd\" fill-opacity=\"1\"/>\n",
       "<defs>\n",
       "  <clipPath id=\"clip8401\">\n",
       "    <rect x=\"480\" y=\"0\" width=\"1681\" height=\"1600\"/>\n",
       "  </clipPath>\n",
       "</defs>\n",
       "<polygon clip-path=\"url(#clip8400)\" points=\"\n",
       "229.135,1425.62 2352.76,1425.62 2352.76,121.675 229.135,121.675 \n",
       "  \" fill=\"#ffffff\" fill-rule=\"evenodd\" fill-opacity=\"1\"/>\n",
       "<defs>\n",
       "  <clipPath id=\"clip8402\">\n",
       "    <rect x=\"229\" y=\"121\" width=\"2125\" height=\"1305\"/>\n",
       "  </clipPath>\n",
       "</defs>\n",
       "<polyline clip-path=\"url(#clip8402)\" style=\"stroke:#000000; stroke-width:2; stroke-opacity:0.1; fill:none\" points=\"\n",
       "  2264.83,1425.62 2264.83,121.675 \n",
       "  \"/>\n",
       "<polyline clip-path=\"url(#clip8402)\" style=\"stroke:#000000; stroke-width:2; stroke-opacity:0.1; fill:none\" points=\"\n",
       "  1708.32,1425.62 1708.32,121.675 \n",
       "  \"/>\n",
       "<polyline clip-path=\"url(#clip8402)\" style=\"stroke:#000000; stroke-width:2; stroke-opacity:0.1; fill:none\" points=\"\n",
       "  1151.82,1425.62 1151.82,121.675 \n",
       "  \"/>\n",
       "<polyline clip-path=\"url(#clip8402)\" style=\"stroke:#000000; stroke-width:2; stroke-opacity:0.1; fill:none\" points=\"\n",
       "  595.315,1425.62 595.315,121.675 \n",
       "  \"/>\n",
       "<polyline clip-path=\"url(#clip8402)\" style=\"stroke:#000000; stroke-width:2; stroke-opacity:0.1; fill:none\" points=\"\n",
       "  2352.76,1389.63 229.135,1389.63 \n",
       "  \"/>\n",
       "<polyline clip-path=\"url(#clip8402)\" style=\"stroke:#000000; stroke-width:2; stroke-opacity:0.1; fill:none\" points=\"\n",
       "  2352.76,1014.36 229.135,1014.36 \n",
       "  \"/>\n",
       "<polyline clip-path=\"url(#clip8402)\" style=\"stroke:#000000; stroke-width:2; stroke-opacity:0.1; fill:none\" points=\"\n",
       "  2352.76,639.091 229.135,639.091 \n",
       "  \"/>\n",
       "<polyline clip-path=\"url(#clip8402)\" style=\"stroke:#000000; stroke-width:2; stroke-opacity:0.1; fill:none\" points=\"\n",
       "  2352.76,263.82 229.135,263.82 \n",
       "  \"/>\n",
       "<polyline clip-path=\"url(#clip8400)\" style=\"stroke:#000000; stroke-width:4; stroke-opacity:1; fill:none\" points=\"\n",
       "  2352.76,1425.62 229.135,1425.62 \n",
       "  \"/>\n",
       "<polyline clip-path=\"url(#clip8400)\" style=\"stroke:#000000; stroke-width:4; stroke-opacity:1; fill:none\" points=\"\n",
       "  229.135,1425.62 229.135,121.675 \n",
       "  \"/>\n",
       "<polyline clip-path=\"url(#clip8400)\" style=\"stroke:#000000; stroke-width:4; stroke-opacity:1; fill:none\" points=\"\n",
       "  2264.83,1425.62 2264.83,1406.06 \n",
       "  \"/>\n",
       "<polyline clip-path=\"url(#clip8400)\" style=\"stroke:#000000; stroke-width:4; stroke-opacity:1; fill:none\" points=\"\n",
       "  1708.32,1425.62 1708.32,1406.06 \n",
       "  \"/>\n",
       "<polyline clip-path=\"url(#clip8400)\" style=\"stroke:#000000; stroke-width:4; stroke-opacity:1; fill:none\" points=\"\n",
       "  1151.82,1425.62 1151.82,1406.06 \n",
       "  \"/>\n",
       "<polyline clip-path=\"url(#clip8400)\" style=\"stroke:#000000; stroke-width:4; stroke-opacity:1; fill:none\" points=\"\n",
       "  595.315,1425.62 595.315,1406.06 \n",
       "  \"/>\n",
       "<polyline clip-path=\"url(#clip8400)\" style=\"stroke:#000000; stroke-width:4; stroke-opacity:1; fill:none\" points=\"\n",
       "  229.135,1389.63 260.99,1389.63 \n",
       "  \"/>\n",
       "<polyline clip-path=\"url(#clip8400)\" style=\"stroke:#000000; stroke-width:4; stroke-opacity:1; fill:none\" points=\"\n",
       "  229.135,1014.36 260.99,1014.36 \n",
       "  \"/>\n",
       "<polyline clip-path=\"url(#clip8400)\" style=\"stroke:#000000; stroke-width:4; stroke-opacity:1; fill:none\" points=\"\n",
       "  229.135,639.091 260.99,639.091 \n",
       "  \"/>\n",
       "<polyline clip-path=\"url(#clip8400)\" style=\"stroke:#000000; stroke-width:4; stroke-opacity:1; fill:none\" points=\"\n",
       "  229.135,263.82 260.99,263.82 \n",
       "  \"/>\n",
       "<g clip-path=\"url(#clip8400)\">\n",
       "<text style=\"fill:#000000; fill-opacity:1; font-family:Arial,Helvetica Neue,Helvetica,sans-serif; font-size:48px; text-anchor:middle;\" transform=\"rotate(0, 2264.83, 1479.62)\" x=\"2264.83\" y=\"1479.62\">-2</text>\n",
       "</g>\n",
       "<g clip-path=\"url(#clip8400)\">\n",
       "<text style=\"fill:#000000; fill-opacity:1; font-family:Arial,Helvetica Neue,Helvetica,sans-serif; font-size:48px; text-anchor:middle;\" transform=\"rotate(0, 1708.32, 1479.62)\" x=\"1708.32\" y=\"1479.62\">0</text>\n",
       "</g>\n",
       "<g clip-path=\"url(#clip8400)\">\n",
       "<text style=\"fill:#000000; fill-opacity:1; font-family:Arial,Helvetica Neue,Helvetica,sans-serif; font-size:48px; text-anchor:middle;\" transform=\"rotate(0, 1151.82, 1479.62)\" x=\"1151.82\" y=\"1479.62\">2</text>\n",
       "</g>\n",
       "<g clip-path=\"url(#clip8400)\">\n",
       "<text style=\"fill:#000000; fill-opacity:1; font-family:Arial,Helvetica Neue,Helvetica,sans-serif; font-size:48px; text-anchor:middle;\" transform=\"rotate(0, 595.315, 1479.62)\" x=\"595.315\" y=\"1479.62\">4</text>\n",
       "</g>\n",
       "<g clip-path=\"url(#clip8400)\">\n",
       "<text style=\"fill:#000000; fill-opacity:1; font-family:Arial,Helvetica Neue,Helvetica,sans-serif; font-size:48px; text-anchor:end;\" transform=\"rotate(0, 205.135, 1407.13)\" x=\"205.135\" y=\"1407.13\">0</text>\n",
       "</g>\n",
       "<g clip-path=\"url(#clip8400)\">\n",
       "<text style=\"fill:#000000; fill-opacity:1; font-family:Arial,Helvetica Neue,Helvetica,sans-serif; font-size:48px; text-anchor:end;\" transform=\"rotate(0, 205.135, 1031.86)\" x=\"205.135\" y=\"1031.86\">50</text>\n",
       "</g>\n",
       "<g clip-path=\"url(#clip8400)\">\n",
       "<text style=\"fill:#000000; fill-opacity:1; font-family:Arial,Helvetica Neue,Helvetica,sans-serif; font-size:48px; text-anchor:end;\" transform=\"rotate(0, 205.135, 656.591)\" x=\"205.135\" y=\"656.591\">100</text>\n",
       "</g>\n",
       "<g clip-path=\"url(#clip8400)\">\n",
       "<text style=\"fill:#000000; fill-opacity:1; font-family:Arial,Helvetica Neue,Helvetica,sans-serif; font-size:48px; text-anchor:end;\" transform=\"rotate(0, 205.135, 281.32)\" x=\"205.135\" y=\"281.32\">150</text>\n",
       "</g>\n",
       "<g clip-path=\"url(#clip8400)\">\n",
       "<text style=\"fill:#000000; fill-opacity:1; font-family:Arial,Helvetica Neue,Helvetica,sans-serif; font-size:84px; text-anchor:middle;\" transform=\"rotate(0, 1290.95, 73.2)\" x=\"1290.95\" y=\"73.2\">Alguns pontos do gráfico da função seno</text>\n",
       "</g>\n",
       "<g clip-path=\"url(#clip8400)\">\n",
       "<text style=\"fill:#000000; fill-opacity:1; font-family:Arial,Helvetica Neue,Helvetica,sans-serif; font-size:66px; text-anchor:middle;\" transform=\"rotate(0, 1290.95, 1559.48)\" x=\"1290.95\" y=\"1559.48\">x</text>\n",
       "</g>\n",
       "<g clip-path=\"url(#clip8400)\">\n",
       "<text style=\"fill:#000000; fill-opacity:1; font-family:Arial,Helvetica Neue,Helvetica,sans-serif; font-size:66px; text-anchor:middle;\" transform=\"rotate(-90, 89.2861, 773.647)\" x=\"89.2861\" y=\"773.647\">y = sin(x)</text>\n",
       "</g>\n",
       "<polyline clip-path=\"url(#clip8402)\" style=\"stroke:#009af9; stroke-width:4; stroke-opacity:1; fill:none\" points=\"\n",
       "  2292.65,1388.71 1791.8,1384.07 1374.42,1364.71 1096.17,1321.9 901.393,1253.23 678.791,1086.06 456.189,714.017 289.238,158.579 \n",
       "  \"/>\n",
       "<circle clip-path=\"url(#clip8402)\" style=\"fill:#000000; stroke:none; fill-opacity:1\" cx=\"2292.65\" cy=\"1388.71\" r=\"18\"/>\n",
       "<circle clip-path=\"url(#clip8402)\" style=\"fill:#e26f46; stroke:none; fill-opacity:1\" cx=\"2292.65\" cy=\"1388.71\" r=\"14\"/>\n",
       "<circle clip-path=\"url(#clip8402)\" style=\"fill:#000000; stroke:none; fill-opacity:1\" cx=\"1791.8\" cy=\"1384.07\" r=\"18\"/>\n",
       "<circle clip-path=\"url(#clip8402)\" style=\"fill:#e26f46; stroke:none; fill-opacity:1\" cx=\"1791.8\" cy=\"1384.07\" r=\"14\"/>\n",
       "<circle clip-path=\"url(#clip8402)\" style=\"fill:#000000; stroke:none; fill-opacity:1\" cx=\"1374.42\" cy=\"1364.71\" r=\"18\"/>\n",
       "<circle clip-path=\"url(#clip8402)\" style=\"fill:#e26f46; stroke:none; fill-opacity:1\" cx=\"1374.42\" cy=\"1364.71\" r=\"14\"/>\n",
       "<circle clip-path=\"url(#clip8402)\" style=\"fill:#000000; stroke:none; fill-opacity:1\" cx=\"1096.17\" cy=\"1321.9\" r=\"18\"/>\n",
       "<circle clip-path=\"url(#clip8402)\" style=\"fill:#e26f46; stroke:none; fill-opacity:1\" cx=\"1096.17\" cy=\"1321.9\" r=\"14\"/>\n",
       "<circle clip-path=\"url(#clip8402)\" style=\"fill:#000000; stroke:none; fill-opacity:1\" cx=\"901.393\" cy=\"1253.23\" r=\"18\"/>\n",
       "<circle clip-path=\"url(#clip8402)\" style=\"fill:#e26f46; stroke:none; fill-opacity:1\" cx=\"901.393\" cy=\"1253.23\" r=\"14\"/>\n",
       "<circle clip-path=\"url(#clip8402)\" style=\"fill:#000000; stroke:none; fill-opacity:1\" cx=\"678.791\" cy=\"1086.06\" r=\"18\"/>\n",
       "<circle clip-path=\"url(#clip8402)\" style=\"fill:#e26f46; stroke:none; fill-opacity:1\" cx=\"678.791\" cy=\"1086.06\" r=\"14\"/>\n",
       "<circle clip-path=\"url(#clip8402)\" style=\"fill:#000000; stroke:none; fill-opacity:1\" cx=\"456.189\" cy=\"714.017\" r=\"18\"/>\n",
       "<circle clip-path=\"url(#clip8402)\" style=\"fill:#e26f46; stroke:none; fill-opacity:1\" cx=\"456.189\" cy=\"714.017\" r=\"14\"/>\n",
       "<circle clip-path=\"url(#clip8402)\" style=\"fill:#000000; stroke:none; fill-opacity:1\" cx=\"289.238\" cy=\"158.579\" r=\"18\"/>\n",
       "<circle clip-path=\"url(#clip8402)\" style=\"fill:#e26f46; stroke:none; fill-opacity:1\" cx=\"289.238\" cy=\"158.579\" r=\"14\"/>\n",
       "<polygon clip-path=\"url(#clip8400)\" points=\"\n",
       "1896.26,386.635 2280.76,386.635 2280.76,205.195 1896.26,205.195 \n",
       "  \" fill=\"#ffffff\" fill-rule=\"evenodd\" fill-opacity=\"1\"/>\n",
       "<polyline clip-path=\"url(#clip8400)\" style=\"stroke:#000000; stroke-width:4; stroke-opacity:1; fill:none\" points=\"\n",
       "  1896.26,386.635 2280.76,386.635 2280.76,205.195 1896.26,205.195 1896.26,386.635 \n",
       "  \"/>\n",
       "<polyline clip-path=\"url(#clip8400)\" style=\"stroke:#009af9; stroke-width:4; stroke-opacity:1; fill:none\" points=\"\n",
       "  1920.26,265.675 2064.26,265.675 \n",
       "  \"/>\n",
       "<g clip-path=\"url(#clip8400)\">\n",
       "<text style=\"fill:#000000; fill-opacity:1; font-family:Arial,Helvetica Neue,Helvetica,sans-serif; font-size:48px; text-anchor:start;\" transform=\"rotate(0, 2088.26, 283.175)\" x=\"2088.26\" y=\"283.175\">linha</text>\n",
       "</g>\n",
       "<circle clip-path=\"url(#clip8400)\" style=\"fill:#000000; stroke:none; fill-opacity:1\" cx=\"2004.26\" cy=\"326.155\" r=\"25\"/>\n",
       "<circle clip-path=\"url(#clip8400)\" style=\"fill:#e26f46; stroke:none; fill-opacity:1\" cx=\"2004.26\" cy=\"326.155\" r=\"21\"/>\n",
       "<g clip-path=\"url(#clip8400)\">\n",
       "<text style=\"fill:#000000; fill-opacity:1; font-family:Arial,Helvetica Neue,Helvetica,sans-serif; font-size:48px; text-anchor:start;\" transform=\"rotate(0, 2088.26, 343.655)\" x=\"2088.26\" y=\"343.655\">pontos</text>\n",
       "</g>\n",
       "</svg>\n"
      ]
     },
     "execution_count": 7,
     "metadata": {},
     "output_type": "execute_result"
    }
   ],
   "source": [
    "xflip!()"
   ]
  },
  {
   "cell_type": "markdown",
   "metadata": {},
   "source": [
    "Agora, sem modificar a sintaxe, podemos criar o gráfico acima usando outro backend.\n",
    "Por exemplo, vamos usar o backend `unicodeplots()`.\n",
    "Primeiramente instalamos o pacote `UnicodePlots`."
   ]
  },
  {
   "cell_type": "code",
   "execution_count": 8,
   "metadata": {},
   "outputs": [
    {
     "name": "stdout",
     "output_type": "stream",
     "text": [
      "\u001b[32m\u001b[1m Resolving\u001b[22m\u001b[39m package versions...\n",
      "\u001b[32m\u001b[1m  Updating\u001b[22m\u001b[39m `~/.julia/environments/v1.2/Project.toml`\n",
      "\u001b[90m [no changes]\u001b[39m\n",
      "\u001b[32m\u001b[1m  Updating\u001b[22m\u001b[39m `~/.julia/environments/v1.2/Manifest.toml`\n",
      "\u001b[90m [no changes]\u001b[39m\n"
     ]
    }
   ],
   "source": [
    "using Pkg\n",
    "Pkg.add(\"UnicodePlots\")"
   ]
  },
  {
   "cell_type": "markdown",
   "metadata": {},
   "source": [
    "Em seguida, carregamos o backend `unicodeplots()` e executamos os mesmos comandos que usamos anteriormente:"
   ]
  },
  {
   "cell_type": "code",
   "execution_count": 9,
   "metadata": {},
   "outputs": [
    {
     "data": {
      "text/plain": [
       "Plots.UnicodePlotsBackend()"
      ]
     },
     "execution_count": 9,
     "metadata": {},
     "output_type": "execute_result"
    }
   ],
   "source": [
    "unicodeplots()"
   ]
  },
  {
   "cell_type": "code",
   "execution_count": 10,
   "metadata": {},
   "outputs": [
    {
     "data": {
      "text/plain": [
       "                                            Alguns pontos do gráfico da função seno\n",
       "                                 +------------------------------------------------------------+       \n",
       "              168.93889082605114 |                  |                                       , | linha \n",
       "                                 |                  |                                      .` | pontos\n",
       "                                 |                  |                                      /  |       \n",
       "                                 |                  |                                     .   |       \n",
       "                                 |                  |                                    ./   |       \n",
       "                                 |                  |                                    /    |       \n",
       "                                 |                  |                                   .`    |       \n",
       "                                 |                  |                                   /     |       \n",
       "                                 |                  |                                  ,`     |       \n",
       "   y = sin(x)                    |                  |                                 ./      |       \n",
       "                                 |                  |                                .`       |       \n",
       "                                 |                  |                               .`        |       \n",
       "                                 |                  |                              .`         |       \n",
       "                                 |                  |                             /           |       \n",
       "                                 |                  |                            /            |       \n",
       "                                 |                  |                         .r\"             |       \n",
       "                                 |                  |                       _/`               |       \n",
       "                                 |                  |                  ._r-/                  |       \n",
       "                                 |                  |         .___r---\"`                      |       \n",
       "              -4.794527097896479 |-----------------T@TTTTTTTTT--------------------------------|       \n",
       "                                 +------------------------------------------------------------+       \n",
       "                                 -2.316                                                   5.316\n",
       "                                                               x"
      ]
     },
     "execution_count": 10,
     "metadata": {},
     "output_type": "execute_result"
    }
   ],
   "source": [
    "plot(x, y, label=\"linha\")\n",
    "scatter!(x, y, label=\"pontos\")\n",
    "xlabel!(\"x\")\n",
    "ylabel!(\"y = sin(x)\")\n",
    "title!(\"Alguns pontos do gráfico da função seno\")"
   ]
  },
  {
   "cell_type": "markdown",
   "metadata": {},
   "source": [
    "Como mencionamos, existem outros backends para criar gráficos.\n",
    "Vimos apenas dois exemplos."
   ]
  }
 ],
 "metadata": {
  "kernelspec": {
   "display_name": "Julia 1.2.0",
   "language": "julia",
   "name": "julia-1.2"
  },
  "language_info": {
   "file_extension": ".jl",
   "mimetype": "application/julia",
   "name": "julia",
   "version": "1.2.0"
  }
 },
 "nbformat": 4,
 "nbformat_minor": 2
}
