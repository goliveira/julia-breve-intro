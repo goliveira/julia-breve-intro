{
 "cells": [
  {
   "cell_type": "markdown",
   "metadata": {},
   "source": [
    "# Conhecendo a linguagem Julia\n",
    "\n",
    "Neste documento, apresentamos a sintaxe básica da linguagem Julia.\n",
    "Nosso objetivo é mostrar que essa linguagem é leve e fácil de usar.\n",
    "\n",
    "Vamos apresentar\n",
    "- Números\n",
    "- Strings\n",
    "- Estruturas de dados\n",
    "- Laços\n",
    "- Condicionais\n",
    "- Funções"
   ]
  },
  {
   "cell_type": "markdown",
   "metadata": {},
   "source": [
    "## Números"
   ]
  },
  {
   "cell_type": "code",
   "execution_count": null,
   "metadata": {},
   "outputs": [],
   "source": [
    "x = 2.6\n",
    "y = -7.5\n",
    "x + y"
   ]
  },
  {
   "cell_type": "code",
   "execution_count": null,
   "metadata": {},
   "outputs": [],
   "source": [
    "z = sqrt(x^2 + y^2);"
   ]
  },
  {
   "cell_type": "code",
   "execution_count": null,
   "metadata": {},
   "outputs": [],
   "source": [
    "z"
   ]
  },
  {
   "cell_type": "code",
   "execution_count": null,
   "metadata": {},
   "outputs": [],
   "source": [
    "a = 1\n",
    "b = 0\n",
    "a == b"
   ]
  },
  {
   "cell_type": "markdown",
   "metadata": {},
   "source": [
    "## Strings"
   ]
  },
  {
   "cell_type": "code",
   "execution_count": null,
   "metadata": {},
   "outputs": [],
   "source": [
    "string1 = \"Quantas vezes \""
   ]
  },
  {
   "cell_type": "code",
   "execution_count": null,
   "metadata": {},
   "outputs": [],
   "source": [
    "string2 = \"você leu a apostila?\""
   ]
  },
  {
   "cell_type": "code",
   "execution_count": null,
   "metadata": {},
   "outputs": [],
   "source": [
    "string(string1, string2)"
   ]
  },
  {
   "cell_type": "code",
   "execution_count": null,
   "metadata": {},
   "outputs": [],
   "source": [
    "x = 2\n",
    "println(\"Não me lembro bem, mas pelo menos umas $x vezes.\")"
   ]
  },
  {
   "cell_type": "markdown",
   "metadata": {},
   "source": [
    "## Estruturas de dados"
   ]
  },
  {
   "cell_type": "markdown",
   "metadata": {},
   "source": [
    "### Uplas\n",
    "\n",
    "Podemos criar uma upla especificando uma sequência ordenada de elementos entre `( )`.\n",
    "```julia\n",
    "(item1, item2, ...)\n",
    "```"
   ]
  },
  {
   "cell_type": "code",
   "execution_count": null,
   "metadata": {},
   "outputs": [],
   "source": [
    "frutas = (\"melão\", \"abacaxi\", \"manga\")"
   ]
  },
  {
   "cell_type": "code",
   "execution_count": null,
   "metadata": {},
   "outputs": [],
   "source": [
    "frutas[1]"
   ]
  },
  {
   "cell_type": "code",
   "execution_count": null,
   "metadata": {},
   "outputs": [],
   "source": [
    "p = (5, -3)"
   ]
  },
  {
   "cell_type": "code",
   "execution_count": null,
   "metadata": {},
   "outputs": [],
   "source": [
    "p[2]"
   ]
  },
  {
   "cell_type": "markdown",
   "metadata": {},
   "source": [
    "### Dicionários\n",
    "\n",
    "Se temos conjuntos de dados relacionados um ao outro, podemos armazená-los em um dicionário.\n",
    "Para fazer isso, usamos a função `Dict()`.\n",
    "```julia\n",
    "Dict(chave1 => valor1, chave2 => valor2, ...)\n",
    "```\n",
    "Um bom exemplo de dicionário é uma lista de contatos, onde associamos nomes a telefones."
   ]
  },
  {
   "cell_type": "code",
   "execution_count": null,
   "metadata": {},
   "outputs": [],
   "source": [
    "agenda_de_telefones = Dict(\"João\" => \"99999-0000\", \"Maria\" => \"11111-2222\")"
   ]
  },
  {
   "cell_type": "code",
   "execution_count": null,
   "metadata": {},
   "outputs": [],
   "source": [
    "agenda_de_telefones[\"Maria\"]"
   ]
  },
  {
   "cell_type": "markdown",
   "metadata": {},
   "source": [
    "### Listas\n",
    "\n",
    "Diferentemente de uplas, listas podem ser modificadas.\n",
    "Diferentemente de dicionários, listas contêm sequências ordenadas de elementos.\n",
    "Podemos criar uma lista especificando uma sequência entre `[` `]`.\n",
    "```julia\n",
    "[item1, item2, ...]\n",
    "```\n",
    "Por exemplo, podemos criar uma lista com uma sequência de tarefas a fazer."
   ]
  },
  {
   "cell_type": "code",
   "execution_count": null,
   "metadata": {},
   "outputs": [],
   "source": [
    "tarefas = [\"caminhar\", \"estudar\", \"comer\", \"dormir\"]"
   ]
  },
  {
   "cell_type": "code",
   "execution_count": null,
   "metadata": {},
   "outputs": [],
   "source": [
    "fibonacci = [1, 1, 2, 3, 5, 8, 13]"
   ]
  },
  {
   "cell_type": "code",
   "execution_count": null,
   "metadata": {},
   "outputs": [],
   "source": [
    "lista_mista = [1, 3, 7, \"verde\", \"azul\"]"
   ]
  },
  {
   "cell_type": "markdown",
   "metadata": {},
   "source": [
    "Podemos também criar listas de outras estruturas de dados, ou listas multidimensionais."
   ]
  },
  {
   "cell_type": "code",
   "execution_count": null,
   "metadata": {},
   "outputs": [],
   "source": [
    "números = [[1, 2], [3, 4, 5], [6, 7, 8, 9]]"
   ]
  },
  {
   "cell_type": "code",
   "execution_count": null,
   "metadata": {},
   "outputs": [],
   "source": [
    "M = rand(4, 3)"
   ]
  },
  {
   "cell_type": "markdown",
   "metadata": {},
   "source": [
    "## Laços"
   ]
  },
  {
   "cell_type": "markdown",
   "metadata": {},
   "source": [
    "### Laço do tipo `for`\n",
    "\n",
    "A sintaxe para um laço do tipo `for` é\n",
    "```julia\n",
    "for *variável* in *loop iterable*\n",
    "    *comandos*\n",
    "end\n",
    "```"
   ]
  },
  {
   "cell_type": "code",
   "execution_count": null,
   "metadata": {},
   "outputs": [],
   "source": [
    "for n in 1:10\n",
    "    println(n)\n",
    "end"
   ]
  },
  {
   "cell_type": "markdown",
   "metadata": {},
   "source": [
    "### Laço do tipo `while`\n",
    "\n",
    "A sintaxe para um laço do tipo `while` é\n",
    "```julia\n",
    "while *condição*\n",
    "    *comandos*\n",
    "end\n",
    "```"
   ]
  },
  {
   "cell_type": "code",
   "execution_count": null,
   "metadata": {},
   "outputs": [],
   "source": [
    "n = 0\n",
    "while n < 10\n",
    "    n += 1\n",
    "    println(n)\n",
    "end"
   ]
  },
  {
   "cell_type": "markdown",
   "metadata": {},
   "source": [
    "## Condicionais"
   ]
  },
  {
   "cell_type": "markdown",
   "metadata": {},
   "source": [
    "### Condicional do tipo `if`\n",
    "\n",
    "Em Julia, a sintaxe\n",
    "```julia\n",
    "if *condição 1*\n",
    "    *opção 1*\n",
    "elseif *condição 2*\n",
    "    *opção 2*\n",
    "else\n",
    "    *opção 3*\n",
    "end\n",
    "```\n",
    "permite executar, condicionalmente, uma das opções."
   ]
  },
  {
   "cell_type": "code",
   "execution_count": null,
   "metadata": {},
   "outputs": [],
   "source": [
    "x = 7\n",
    "y = 3\n",
    "if x > y\n",
    "    x\n",
    "else\n",
    "    y\n",
    "end"
   ]
  },
  {
   "cell_type": "markdown",
   "metadata": {},
   "source": [
    "### Condicional com operador ternário\n",
    "\n",
    "O operador ternário a seguir nos fornece uma alternativa para representar uma condicional do tipo `if`.\n",
    "A sintaxe\n",
    "```julia\n",
    "a ? b : c\n",
    "```\n",
    "significa o mesmo que\n",
    "```julia\n",
    "if a\n",
    "    b\n",
    "else\n",
    "    c\n",
    "end\n",
    "```\n",
    "Portanto, podemos reescrever o código da célula anterior da seguinte forma:"
   ]
  },
  {
   "cell_type": "code",
   "execution_count": null,
   "metadata": {},
   "outputs": [],
   "source": [
    "x = 7\n",
    "y = 3\n",
    "(x > y) ? x : y"
   ]
  },
  {
   "cell_type": "markdown",
   "metadata": {},
   "source": [
    "## Funções\n",
    "\n",
    "Tópicos:\n",
    "- Como declarar uma função\n",
    "- Duck-typing em Julia\n",
    "- Funções mutantes versus funções não-mutantes\n",
    "- Algumas funções de ordem superior"
   ]
  },
  {
   "cell_type": "markdown",
   "metadata": {},
   "source": [
    "### Como declarar uma função"
   ]
  },
  {
   "cell_type": "markdown",
   "metadata": {},
   "source": [
    "#### Primeira forma: Usando `function` e `end`"
   ]
  },
  {
   "cell_type": "code",
   "execution_count": null,
   "metadata": {},
   "outputs": [],
   "source": [
    "function f(x)\n",
    "    x^2\n",
    "end"
   ]
  },
  {
   "cell_type": "code",
   "execution_count": null,
   "metadata": {},
   "outputs": [],
   "source": [
    "f(3)"
   ]
  },
  {
   "cell_type": "markdown",
   "metadata": {},
   "source": [
    "#### Segunda forma: Usando `=`"
   ]
  },
  {
   "cell_type": "code",
   "execution_count": null,
   "metadata": {},
   "outputs": [],
   "source": [
    "g(x) = x^2"
   ]
  },
  {
   "cell_type": "code",
   "execution_count": null,
   "metadata": {},
   "outputs": [],
   "source": [
    "g(-2)"
   ]
  },
  {
   "cell_type": "markdown",
   "metadata": {},
   "source": [
    "#### Terceira forma: Como uma função anônima"
   ]
  },
  {
   "cell_type": "code",
   "execution_count": null,
   "metadata": {},
   "outputs": [],
   "source": [
    "h = x -> x^2"
   ]
  },
  {
   "cell_type": "code",
   "execution_count": null,
   "metadata": {},
   "outputs": [],
   "source": [
    "h(9)"
   ]
  },
  {
   "cell_type": "markdown",
   "metadata": {},
   "source": [
    "### Duck-typing em Julia\n",
    "\n",
    "*\"If it quacks like a duck, it's a duck.\"*\n",
    "\n",
    "Duck-typing em Julia significa que as funções em Julia vão funcionar com qualquer argumento que faça sentido.\n",
    "Por exemplo, `f` vai funcionar se o argumento for uma matriz quadrada, pois faz sentido multiplicar uma matriz quadrada por ela mesma."
   ]
  },
  {
   "cell_type": "code",
   "execution_count": null,
   "metadata": {
    "scrolled": true
   },
   "outputs": [],
   "source": [
    "A = rand(3, 3)"
   ]
  },
  {
   "cell_type": "code",
   "execution_count": null,
   "metadata": {},
   "outputs": [],
   "source": [
    "f(A)"
   ]
  },
  {
   "cell_type": "markdown",
   "metadata": {},
   "source": [
    "Todavia, se o argumento passado a `f` for um vetor, ocorrerá um erro pois não é claro o que significa multiplicar um vetor por ele mesmo."
   ]
  },
  {
   "cell_type": "code",
   "execution_count": null,
   "metadata": {},
   "outputs": [],
   "source": [
    "v = rand(3)"
   ]
  },
  {
   "cell_type": "code",
   "execution_count": null,
   "metadata": {},
   "outputs": [],
   "source": [
    "f(v)"
   ]
  },
  {
   "cell_type": "markdown",
   "metadata": {},
   "source": [
    "### Funções mutantes versus funções não-mutantes\n",
    "\n",
    "Por convenção, funções seguidas de `!` alteram seus conteúdos e funções não seguidas de `!` não alteram.\n",
    "Por exemplo, vamos ver a diferença entre `sort` e `sort!`."
   ]
  },
  {
   "cell_type": "code",
   "execution_count": null,
   "metadata": {},
   "outputs": [],
   "source": [
    "v = [5, 9, 1]"
   ]
  },
  {
   "cell_type": "code",
   "execution_count": null,
   "metadata": {},
   "outputs": [],
   "source": [
    "sort(v)"
   ]
  },
  {
   "cell_type": "code",
   "execution_count": null,
   "metadata": {},
   "outputs": [],
   "source": [
    "v"
   ]
  },
  {
   "cell_type": "markdown",
   "metadata": {},
   "source": [
    "O comando `sort(v)` retorna uma lista que contém os elementos de `v` em ordem crescente, mas a lista `v` não é alterada.\n",
    "Por outro lado, quando executamos `sort!(v)`, a lista `v` é alterada e colocada em ordem crescente."
   ]
  },
  {
   "cell_type": "code",
   "execution_count": null,
   "metadata": {},
   "outputs": [],
   "source": [
    "sort!(v)"
   ]
  },
  {
   "cell_type": "code",
   "execution_count": null,
   "metadata": {},
   "outputs": [],
   "source": [
    "v"
   ]
  },
  {
   "cell_type": "markdown",
   "metadata": {},
   "source": [
    "### Algumas funções de ordem superior\n",
    "\n",
    "#### A função `map`\n",
    "\n",
    "A função `map` é uma função de ordem superior em Julia que *recebe uma função* como argumento.\n",
    "A função `map` então aplica a função em cada elemento de uma estrutura de dados que também é passada como argumento.\n",
    "Por exemplo, o comando\n",
    "```julia\n",
    "map(f, [1, 2, 3])\n",
    "```\n",
    "fornece uma lista cujos elementos são obtidos aplicando `f` a cada elemento de `[1, 2, 3]`:\n",
    "```julia\n",
    "[f(1), f(2), f(3)]\n",
    "```"
   ]
  },
  {
   "cell_type": "code",
   "execution_count": null,
   "metadata": {},
   "outputs": [],
   "source": [
    "map(f, [1, 2, 3])"
   ]
  },
  {
   "cell_type": "markdown",
   "metadata": {},
   "source": [
    "Também é possível passar para a função `map` uma função anônima:"
   ]
  },
  {
   "cell_type": "code",
   "execution_count": null,
   "metadata": {},
   "outputs": [],
   "source": [
    "map(x -> x^3, [1, 2, 3])"
   ]
  },
  {
   "cell_type": "markdown",
   "metadata": {},
   "source": [
    "### A função `broadcast`\n",
    "\n",
    "A função `broadcast` é outra função de order superior em Julia.\n",
    "A função `broadcast` é uma generalização da função `map`, ou seja, pode fazer tudo que a função `map` faz, e mais.\n",
    "A sintaxe usada para executar `broadcast` é semelhante à usada para executar `map`."
   ]
  },
  {
   "cell_type": "code",
   "execution_count": null,
   "metadata": {},
   "outputs": [],
   "source": [
    "broadcast(f, [1, 2, 3])"
   ]
  },
  {
   "cell_type": "markdown",
   "metadata": {},
   "source": [
    "Novamente, aplicamos `f` a todos os elementos de `[1, 2, 3]`, desta vez usando `broadcast`.\n",
    "\n",
    "Uma forma equivalente de executar `broadcast` é inserir um  `.` entre o nome da função que você quer aplicar e os argumentos de entrada.\n",
    "Por exemplo,\n",
    "```julia\n",
    "broadcast(f, [1, 2, 3])\n",
    "```\n",
    "é equivalente a\n",
    "```julia\n",
    "f.([1, 2, 3])\n",
    "```"
   ]
  },
  {
   "cell_type": "code",
   "execution_count": null,
   "metadata": {},
   "outputs": [],
   "source": [
    "f.([1, 2, 3])"
   ]
  },
  {
   "cell_type": "markdown",
   "metadata": {},
   "source": [
    "Observe quão diferente isso é de executar\n",
    "```julia\n",
    "f([1, 2, 3])\n",
    "```\n",
    "Nós podemos elevar cada elemento de um vetor ao quadrado, mas não podemos elevar o vetor ao quadrado.\n",
    "\n",
    "Mais uma vez, observamos a diferença entre\n",
    "```julia\n",
    "f(A)\n",
    "```\n",
    "e\n",
    "```julia\n",
    "f.(A)\n",
    "```\n",
    "para uma matrix `A`."
   ]
  },
  {
   "cell_type": "code",
   "execution_count": null,
   "metadata": {},
   "outputs": [],
   "source": [
    "A = [i + 3j for j in 0:2, i in 1:3]"
   ]
  },
  {
   "cell_type": "code",
   "execution_count": null,
   "metadata": {},
   "outputs": [],
   "source": [
    "f(A)"
   ]
  },
  {
   "cell_type": "markdown",
   "metadata": {},
   "source": [
    "Novamente, vemos que\n",
    "```julia\n",
    "f(A) = A^2 = A*A\n",
    "```\n",
    "enquanto as entradas de\n",
    "```julia\n",
    "f.(A)\n",
    "```\n",
    "são os quadrados das entradas de `A`:"
   ]
  },
  {
   "cell_type": "code",
   "execution_count": null,
   "metadata": {},
   "outputs": [],
   "source": [
    "f.(A)"
   ]
  },
  {
   "cell_type": "markdown",
   "metadata": {},
   "source": [
    "A sintaxe usando `.` permite expressar operações pontuais com uma notação elegante do ponto de vista matemático.\n",
    "Por exemplo, podemos escrever"
   ]
  },
  {
   "cell_type": "code",
   "execution_count": null,
   "metadata": {},
   "outputs": [],
   "source": [
    "B = A .+ 2 .* f.(A) ./ A"
   ]
  },
  {
   "cell_type": "markdown",
   "metadata": {},
   "source": [
    "em vez de"
   ]
  },
  {
   "cell_type": "code",
   "execution_count": null,
   "metadata": {},
   "outputs": [],
   "source": [
    "B = broadcast(x -> x + 2*f(x) / x, A)"
   ]
  }
 ],
 "metadata": {
  "kernelspec": {
   "display_name": "Julia 1.0.3",
   "language": "julia",
   "name": "julia-1.0"
  },
  "language_info": {
   "file_extension": ".jl",
   "mimetype": "application/julia",
   "name": "julia",
   "version": "1.0.3"
  }
 },
 "nbformat": 4,
 "nbformat_minor": 1
}
