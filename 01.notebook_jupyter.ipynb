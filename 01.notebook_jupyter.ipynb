{
 "cells": [
  {
   "cell_type": "markdown",
   "metadata": {},
   "source": [
    "# Introdução ao notebook Jupyter\n",
    "\n",
    "O notebook Jupyter é um aplicativo de código aberto para criação de documentos que contêm código de programação, equações, gráficos e texto.\n",
    "O notebook suporta diversas linguagems de programação, em particular, a linguagem Julia."
   ]
  },
  {
   "cell_type": "markdown",
   "metadata": {},
   "source": [
    "## Executando uma célula\n",
    "\n",
    "Para executar uma célula, pressione `Shift-Enter` (segure o `Shift` e tecle `Enter`) ou clique no botão `Run` na barra de ferramentas acima.\n",
    "A célula será executada e o cursor será movido para a próxima célula."
   ]
  },
  {
   "cell_type": "code",
   "execution_count": 0,
   "metadata": {},
   "outputs": [],
   "source": [
    "1 + 1\n",
    "1 + 2"
   ]
  },
  {
   "cell_type": "markdown",
   "metadata": {},
   "source": [
    "Note que apenas a saída do último comando é exibida na tela.\n",
    "Você pode suprimir a saída de um comando usando ponto-e-vírgula:"
   ]
  },
  {
   "cell_type": "code",
   "execution_count": 0,
   "metadata": {},
   "outputs": [],
   "source": [
    "1 + 1\n",
    "1 + 2;"
   ]
  },
  {
   "cell_type": "markdown",
   "metadata": {},
   "source": [
    "## Acessando a documentação de uma função\n",
    "\n",
    "Para acessar a documentação de uma função da linguagem Julia, preceda a função com um ponto de interrogação.\n",
    "Por exemplo, para acessar a documentação da função `println`, usamos"
   ]
  },
  {
   "cell_type": "code",
   "execution_count": 0,
   "metadata": {},
   "outputs": [],
   "source": [
    "?println"
   ]
  },
  {
   "cell_type": "markdown",
   "metadata": {},
   "source": [
    "Vamos usar a função `println` para imprimir \"Olá, Julia\" na tela:"
   ]
  },
  {
   "cell_type": "code",
   "execution_count": 0,
   "metadata": {},
   "outputs": [],
   "source": [
    "println(\"Olá, Julia\")"
   ]
  },
  {
   "cell_type": "markdown",
   "metadata": {},
   "source": [
    "### Dica para traduzir a documentação\n",
    "\n",
    "Selecione o parágrafo de descrição com o mouse e copie e cole o conteúdo em https://translate.google.com.\n",
    "\n",
    "Por exemplo, na documentação de `println`, selecionamos o parágrafo\n",
    "\n",
    "> Print (using print) xs followed by a newline. If io is not supplied, prints to stdout.\n",
    "\n",
    "e obtivemos a tradução\n",
    "\n",
    "> Imprimir (usando impressão) xs seguido por uma nova linha. Se io não for fornecido, imprime para stdout."
   ]
  }
 ],
 "metadata": {
  "kernelspec": {
   "display_name": "Julia 1.0.3",
   "language": "julia",
   "name": "julia-1.0"
  },
  "language_info": {
   "file_extension": ".jl",
   "mimetype": "application/julia",
   "name": "julia",
   "version": "1.0.3"
  }
 },
 "nbformat": 4,
 "nbformat_minor": 1
}
