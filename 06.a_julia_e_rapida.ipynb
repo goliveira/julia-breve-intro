{
 "cells": [
  {
   "cell_type": "markdown",
   "metadata": {},
   "source": [
    "# A Julia é rápida\n",
    "\n",
    "Frequentemente, programas são executados em diferentes linguagens de programação com o propósito de comparar os desempenhos das linguagens.\n",
    "Esse tipo de comparação não é simples e pode gerar discussões.\n",
    "\n",
    "Neste notebook vamos fazer uma comparação simples entre algumas linguagens de programação e deixar que você tire suas próprias conclusões."
   ]
  },
  {
   "cell_type": "markdown",
   "metadata": {},
   "source": [
    "## A função soma\n",
    "\n",
    "Consideramos a função soma, denotada por `sum`, que é definida por\n",
    "$$\n",
    "\\mathrm{sum}(a) = \\sum_{j=1}^n a_j,\n",
    "$$\n",
    "onde $a = [a_1, a_2, \\dots, a_j]$ é uma lista com $n$ elementos.\n",
    "\n",
    "Vamos criar uma lista com 10<sup>7</sup> elementos escolhidos aleatoriamente no intervalo $[0,1]$:"
   ]
  },
  {
   "cell_type": "code",
   "execution_count": 1,
   "metadata": {},
   "outputs": [
    {
     "data": {
      "text/plain": [
       "10000000-element Vector{Float64}:\n",
       " 0.4224337803564968\n",
       " 0.9856661295064579\n",
       " 0.6973715274590819\n",
       " 0.5202643942320682\n",
       " 0.5508534384606958\n",
       " 0.13688020517676613\n",
       " 0.8345646935914204\n",
       " 0.1968820322413074\n",
       " 0.7723728533544614\n",
       " 0.6547967638747265\n",
       " 0.8258799950596061\n",
       " 0.9127083800912679\n",
       " 0.16454618387715714\n",
       " ⋮\n",
       " 0.9847899188841034\n",
       " 0.8341838734257967\n",
       " 0.7270299177256443\n",
       " 0.8164345129334567\n",
       " 0.5787898464242371\n",
       " 0.38151686782024896\n",
       " 0.6691668664437118\n",
       " 0.9999483077050684\n",
       " 0.960725118868051\n",
       " 0.5616232079528354\n",
       " 0.46014165397881324\n",
       " 0.7392972921224756"
      ]
     },
     "execution_count": 1,
     "metadata": {},
     "output_type": "execute_result"
    }
   ],
   "source": [
    "a = rand(10^7)"
   ]
  },
  {
   "cell_type": "markdown",
   "metadata": {},
   "source": [
    "Calculamos a soma dos elementos de `a`:"
   ]
  },
  {
   "cell_type": "code",
   "execution_count": 2,
   "metadata": {},
   "outputs": [
    {
     "data": {
      "text/plain": [
       "4.99902827575294e6"
      ]
     },
     "execution_count": 2,
     "metadata": {},
     "output_type": "execute_result"
    }
   ],
   "source": [
    "sum(a)"
   ]
  },
  {
   "cell_type": "markdown",
   "metadata": {},
   "source": [
    "O resultado esperado é 0.5 * 10<sup>7</sup>, pois o valor médio de cada elemento da lista é igual a 0.5."
   ]
  },
  {
   "cell_type": "markdown",
   "metadata": {},
   "source": [
    "## Medindo desempenho de formas diferentes, em linguagens diferentes"
   ]
  },
  {
   "cell_type": "code",
   "execution_count": 3,
   "metadata": {},
   "outputs": [
    {
     "name": "stdout",
     "output_type": "stream",
     "text": [
      "  0.004233 seconds (1 allocation: 16 bytes)\n"
     ]
    },
    {
     "data": {
      "text/plain": [
       "4.99902827575294e6"
      ]
     },
     "execution_count": 3,
     "metadata": {},
     "output_type": "execute_result"
    }
   ],
   "source": [
    "@time sum(a)"
   ]
  },
  {
   "cell_type": "markdown",
   "metadata": {},
   "source": [
    "A macro `@time` é boa para uma estimativa grosseira, mas não é muito precisa.\n",
    "\n",
    "O pacote `BenchmarkTools.jl` fornece um método simples e preciso de fazer comparações."
   ]
  },
  {
   "cell_type": "code",
   "execution_count": 4,
   "metadata": {},
   "outputs": [
    {
     "name": "stderr",
     "output_type": "stream",
     "text": [
      "\u001b[32m\u001b[1m    Updating\u001b[22m\u001b[39m registry at `~/.julia/registries/General`\n",
      "\u001b[32m\u001b[1m   Resolving\u001b[22m\u001b[39m package versions...\n",
      "\u001b[32m\u001b[1m  No Changes\u001b[22m\u001b[39m to `~/Sync/julia-breve-intro/Project.toml`\n",
      "\u001b[32m\u001b[1m  No Changes\u001b[22m\u001b[39m to `~/Sync/julia-breve-intro/Manifest.toml`\n"
     ]
    }
   ],
   "source": [
    "using Pkg\n",
    "Pkg.add(\"BenchmarkTools\")"
   ]
  },
  {
   "cell_type": "code",
   "execution_count": 5,
   "metadata": {},
   "outputs": [],
   "source": [
    "using BenchmarkTools"
   ]
  },
  {
   "cell_type": "markdown",
   "metadata": {},
   "source": [
    "## 1. C\n",
    "\n",
    "A linguagem C é considerada uma linguagem difícil para os humanos e simples para as máquinas.\n",
    "\n",
    "Em uma sessão da Julia, podemos inserir um programa em C, compilá-lo e executá-lo:"
   ]
  },
  {
   "cell_type": "code",
   "execution_count": 6,
   "metadata": {},
   "outputs": [
    {
     "data": {
      "text/plain": [
       "c_sum (generic function with 1 method)"
      ]
     },
     "execution_count": 6,
     "metadata": {},
     "output_type": "execute_result"
    }
   ],
   "source": [
    "using Libdl\n",
    "C_code = \"\"\"\n",
    "#include <stddef.h>\n",
    "double c_sum(size_t n, double *X) {\n",
    "    double s = 0.0;\n",
    "    for (size_t i = 0; i < n; ++i) {\n",
    "        s += X[i];\n",
    "    }\n",
    "    return s;\n",
    "}\n",
    "\"\"\"\n",
    "\n",
    "const Clib = tempname()  # Cria um arquivo temporário\n",
    "\n",
    "# Compila para uma biblioteca compartilhada passando\n",
    "# o código C_code para o compilador gcc (só funciona\n",
    "# se o gcc estiver instalado):\n",
    "\n",
    "open(`gcc -fPIC -O3 -msse3 -xc -shared -o $(Clib * \".\" * Libdl.dlext) -`, \"w\") do f\n",
    "    print(f, C_code) \n",
    "end\n",
    "\n",
    "# Define uma função em Julia que chama a função do C\n",
    "c_sum(X::Array{Float64}) = ccall((\"c_sum\", Clib), Float64, (Csize_t, Ptr{Float64}), length(X), X)"
   ]
  },
  {
   "cell_type": "code",
   "execution_count": 7,
   "metadata": {},
   "outputs": [
    {
     "data": {
      "text/plain": [
       "4.999028275753145e6"
      ]
     },
     "execution_count": 7,
     "metadata": {},
     "output_type": "execute_result"
    }
   ],
   "source": [
    "c_sum(a)"
   ]
  },
  {
   "cell_type": "code",
   "execution_count": 8,
   "metadata": {},
   "outputs": [
    {
     "data": {
      "text/plain": [
       "true"
      ]
     },
     "execution_count": 8,
     "metadata": {},
     "output_type": "execute_result"
    }
   ],
   "source": [
    "c_sum(a) ≈ sum(a)  # Digite \\approx e tecle <TAB> para obter o símbolo ≈"
   ]
  },
  {
   "cell_type": "code",
   "execution_count": 9,
   "metadata": {},
   "outputs": [
    {
     "data": {
      "text/plain": [
       "2.0489096641540527e-7"
      ]
     },
     "execution_count": 9,
     "metadata": {},
     "output_type": "execute_result"
    }
   ],
   "source": [
    "c_sum(a) - sum(a)"
   ]
  },
  {
   "cell_type": "code",
   "execution_count": 10,
   "metadata": {},
   "outputs": [
    {
     "data": {
      "text/plain": [
       "isapprox (generic function with 9 methods)"
      ]
     },
     "execution_count": 10,
     "metadata": {},
     "output_type": "execute_result"
    }
   ],
   "source": [
    "≈ # é uma abreviação (alias) para a função `isapprox`"
   ]
  },
  {
   "cell_type": "code",
   "execution_count": 11,
   "metadata": {},
   "outputs": [
    {
     "name": "stdout",
     "output_type": "stream",
     "text": [
      "search: \u001b[0m\u001b[1mi\u001b[22m\u001b[0m\u001b[1ms\u001b[22m\u001b[0m\u001b[1ma\u001b[22m\u001b[0m\u001b[1mp\u001b[22m\u001b[0m\u001b[1mp\u001b[22m\u001b[0m\u001b[1mr\u001b[22m\u001b[0m\u001b[1mo\u001b[22m\u001b[0m\u001b[1mx\u001b[22m\n",
      "\n"
     ]
    },
    {
     "data": {
      "text/latex": [
       "\\begin{verbatim}\n",
       "isapprox(x, y; atol::Real=0, rtol::Real=atol>0 ? 0 : √eps, nans::Bool=false[, norm::Function])\n",
       "\\end{verbatim}\n",
       "Inexact equality comparison: \\texttt{true} if \\texttt{norm(x-y) <= max(atol, rtol*max(norm(x), norm(y)))}. The default \\texttt{atol} is zero and the default \\texttt{rtol} depends on the types of \\texttt{x} and \\texttt{y}. The keyword argument \\texttt{nans} determines whether or not NaN values are considered equal (defaults to false).\n",
       "\n",
       "For real or complex floating-point values, if an \\texttt{atol > 0} is not specified, \\texttt{rtol} defaults to the square root of \\href{@ref}{\\texttt{eps}} of the type of \\texttt{x} or \\texttt{y}, whichever is bigger (least precise). This corresponds to requiring equality of about half of the significand digits. Otherwise, e.g. for integer arguments or if an \\texttt{atol > 0} is supplied, \\texttt{rtol} defaults to zero.\n",
       "\n",
       "The \\texttt{norm} keyword defaults to \\texttt{abs} for numeric \\texttt{(x,y)} and to \\texttt{LinearAlgebra.norm} for arrays (where an alternative \\texttt{norm} choice is sometimes useful). When \\texttt{x} and \\texttt{y} are arrays, if \\texttt{norm(x-y)} is not finite (i.e. \\texttt{±Inf} or \\texttt{NaN}), the comparison falls back to checking whether all elements of \\texttt{x} and \\texttt{y} are approximately equal component-wise.\n",
       "\n",
       "The binary operator \\texttt{≈} is equivalent to \\texttt{isapprox} with the default arguments, and \\texttt{x ≉ y} is equivalent to \\texttt{!isapprox(x,y)}.\n",
       "\n",
       "Note that \\texttt{x ≈ 0} (i.e., comparing to zero with the default tolerances) is equivalent to \\texttt{x == 0} since the default \\texttt{atol} is \\texttt{0}.  In such cases, you should either supply an appropriate \\texttt{atol} (or use \\texttt{norm(x) ≤ atol}) or rearrange your code (e.g. use \\texttt{x ≈ y} rather than \\texttt{x - y ≈ 0}).   It is not possible to pick a nonzero \\texttt{atol} automatically because it depends on the overall scaling (the \"units\") of your problem: for example, in \\texttt{x - y ≈ 0}, \\texttt{atol=1e-9} is an absurdly small tolerance if \\texttt{x} is the \\href{https://en.wikipedia.org/wiki/Earth_radius}{radius of the Earth} in meters, but an absurdly large tolerance if \\texttt{x} is the \\href{https://en.wikipedia.org/wiki/Bohr_radius}{radius of a Hydrogen atom} in meters.\n",
       "\n",
       "\\begin{quote}\n",
       "\\textbf{compat}\n",
       "\n",
       "Julia 1.6\n",
       "\n",
       "Passing the \\texttt{norm} keyword argument when comparing numeric (non-array) arguments requires Julia 1.6 or later.\n",
       "\n",
       "\\end{quote}\n",
       "\\section{Examples}\n",
       "\\begin{verbatim}\n",
       "julia> 0.1 ≈ (0.1 - 1e-10)\n",
       "true\n",
       "\n",
       "julia> isapprox(10, 11; atol = 2)\n",
       "true\n",
       "\n",
       "julia> isapprox([10.0^9, 1.0], [10.0^9, 2.0])\n",
       "true\n",
       "\n",
       "julia> 1e-10 ≈ 0\n",
       "false\n",
       "\n",
       "julia> isapprox(1e-10, 0, atol=1e-8)\n",
       "true\n",
       "\\end{verbatim}\n",
       "\\rule{\\textwidth}{1pt}\n",
       "\\begin{verbatim}\n",
       "isapprox(x; kwargs...) / ≈(x; kwargs...)\n",
       "\\end{verbatim}\n",
       "Create a function that compares its argument to \\texttt{x} using \\texttt{≈}, i.e. a function equivalent to \\texttt{y -> y ≈ x}.\n",
       "\n",
       "The keyword arguments supported here are the same as those in the 2-argument \\texttt{isapprox}.\n",
       "\n"
      ],
      "text/markdown": [
       "```\n",
       "isapprox(x, y; atol::Real=0, rtol::Real=atol>0 ? 0 : √eps, nans::Bool=false[, norm::Function])\n",
       "```\n",
       "\n",
       "Inexact equality comparison: `true` if `norm(x-y) <= max(atol, rtol*max(norm(x), norm(y)))`. The default `atol` is zero and the default `rtol` depends on the types of `x` and `y`. The keyword argument `nans` determines whether or not NaN values are considered equal (defaults to false).\n",
       "\n",
       "For real or complex floating-point values, if an `atol > 0` is not specified, `rtol` defaults to the square root of [`eps`](@ref) of the type of `x` or `y`, whichever is bigger (least precise). This corresponds to requiring equality of about half of the significand digits. Otherwise, e.g. for integer arguments or if an `atol > 0` is supplied, `rtol` defaults to zero.\n",
       "\n",
       "The `norm` keyword defaults to `abs` for numeric `(x,y)` and to `LinearAlgebra.norm` for arrays (where an alternative `norm` choice is sometimes useful). When `x` and `y` are arrays, if `norm(x-y)` is not finite (i.e. `±Inf` or `NaN`), the comparison falls back to checking whether all elements of `x` and `y` are approximately equal component-wise.\n",
       "\n",
       "The binary operator `≈` is equivalent to `isapprox` with the default arguments, and `x ≉ y` is equivalent to `!isapprox(x,y)`.\n",
       "\n",
       "Note that `x ≈ 0` (i.e., comparing to zero with the default tolerances) is equivalent to `x == 0` since the default `atol` is `0`.  In such cases, you should either supply an appropriate `atol` (or use `norm(x) ≤ atol`) or rearrange your code (e.g. use `x ≈ y` rather than `x - y ≈ 0`).   It is not possible to pick a nonzero `atol` automatically because it depends on the overall scaling (the \"units\") of your problem: for example, in `x - y ≈ 0`, `atol=1e-9` is an absurdly small tolerance if `x` is the [radius of the Earth](https://en.wikipedia.org/wiki/Earth_radius) in meters, but an absurdly large tolerance if `x` is the [radius of a Hydrogen atom](https://en.wikipedia.org/wiki/Bohr_radius) in meters.\n",
       "\n",
       "!!! compat \"Julia 1.6\"\n",
       "    Passing the `norm` keyword argument when comparing numeric (non-array) arguments requires Julia 1.6 or later.\n",
       "\n",
       "\n",
       "# Examples\n",
       "\n",
       "```jldoctest\n",
       "julia> 0.1 ≈ (0.1 - 1e-10)\n",
       "true\n",
       "\n",
       "julia> isapprox(10, 11; atol = 2)\n",
       "true\n",
       "\n",
       "julia> isapprox([10.0^9, 1.0], [10.0^9, 2.0])\n",
       "true\n",
       "\n",
       "julia> 1e-10 ≈ 0\n",
       "false\n",
       "\n",
       "julia> isapprox(1e-10, 0, atol=1e-8)\n",
       "true\n",
       "```\n",
       "\n",
       "---\n",
       "\n",
       "```\n",
       "isapprox(x; kwargs...) / ≈(x; kwargs...)\n",
       "```\n",
       "\n",
       "Create a function that compares its argument to `x` using `≈`, i.e. a function equivalent to `y -> y ≈ x`.\n",
       "\n",
       "The keyword arguments supported here are the same as those in the 2-argument `isapprox`.\n"
      ],
      "text/plain": [
       "\u001b[36m  isapprox(x, y; atol::Real=0, rtol::Real=atol>0 ? 0 : √eps, nans::Bool=false[, norm::Function])\u001b[39m\n",
       "\n",
       "  Inexact equality comparison: \u001b[36mtrue\u001b[39m if \u001b[36mnorm(x-y) <= max(atol,\n",
       "  rtol*max(norm(x), norm(y)))\u001b[39m. The default \u001b[36matol\u001b[39m is zero and the default \u001b[36mrtol\u001b[39m\n",
       "  depends on the types of \u001b[36mx\u001b[39m and \u001b[36my\u001b[39m. The keyword argument \u001b[36mnans\u001b[39m determines\n",
       "  whether or not NaN values are considered equal (defaults to false).\n",
       "\n",
       "  For real or complex floating-point values, if an \u001b[36matol > 0\u001b[39m is not specified,\n",
       "  \u001b[36mrtol\u001b[39m defaults to the square root of \u001b[36meps\u001b[39m of the type of \u001b[36mx\u001b[39m or \u001b[36my\u001b[39m, whichever is\n",
       "  bigger (least precise). This corresponds to requiring equality of about half\n",
       "  of the significand digits. Otherwise, e.g. for integer arguments or if an\n",
       "  \u001b[36matol > 0\u001b[39m is supplied, \u001b[36mrtol\u001b[39m defaults to zero.\n",
       "\n",
       "  The \u001b[36mnorm\u001b[39m keyword defaults to \u001b[36mabs\u001b[39m for numeric \u001b[36m(x,y)\u001b[39m and to \u001b[36mLinearAlgebra.norm\u001b[39m\n",
       "  for arrays (where an alternative \u001b[36mnorm\u001b[39m choice is sometimes useful). When \u001b[36mx\u001b[39m\n",
       "  and \u001b[36my\u001b[39m are arrays, if \u001b[36mnorm(x-y)\u001b[39m is not finite (i.e. \u001b[36m±Inf\u001b[39m or \u001b[36mNaN\u001b[39m), the\n",
       "  comparison falls back to checking whether all elements of \u001b[36mx\u001b[39m and \u001b[36my\u001b[39m are\n",
       "  approximately equal component-wise.\n",
       "\n",
       "  The binary operator \u001b[36m≈\u001b[39m is equivalent to \u001b[36misapprox\u001b[39m with the default arguments,\n",
       "  and \u001b[36mx ≉ y\u001b[39m is equivalent to \u001b[36m!isapprox(x,y)\u001b[39m.\n",
       "\n",
       "  Note that \u001b[36mx ≈ 0\u001b[39m (i.e., comparing to zero with the default tolerances) is\n",
       "  equivalent to \u001b[36mx == 0\u001b[39m since the default \u001b[36matol\u001b[39m is \u001b[36m0\u001b[39m. In such cases, you should\n",
       "  either supply an appropriate \u001b[36matol\u001b[39m (or use \u001b[36mnorm(x) ≤ atol\u001b[39m) or rearrange your\n",
       "  code (e.g. use \u001b[36mx ≈ y\u001b[39m rather than \u001b[36mx - y ≈ 0\u001b[39m). It is not possible to pick a\n",
       "  nonzero \u001b[36matol\u001b[39m automatically because it depends on the overall scaling (the\n",
       "  \"units\") of your problem: for example, in \u001b[36mx - y ≈ 0\u001b[39m, \u001b[36matol=1e-9\u001b[39m is an\n",
       "  absurdly small tolerance if \u001b[36mx\u001b[39m is the radius of the Earth\n",
       "  (https://en.wikipedia.org/wiki/Earth_radius) in meters, but an absurdly\n",
       "  large tolerance if \u001b[36mx\u001b[39m is the radius of a Hydrogen atom\n",
       "  (https://en.wikipedia.org/wiki/Bohr_radius) in meters.\n",
       "\n",
       "\u001b[39m\u001b[1m  │ \u001b[22m\u001b[39m\u001b[1mJulia 1.6\u001b[22m\n",
       "\u001b[39m\u001b[1m  │\u001b[22m\n",
       "\u001b[39m\u001b[1m  │\u001b[22m  Passing the \u001b[36mnorm\u001b[39m keyword argument when comparing numeric\n",
       "\u001b[39m\u001b[1m  │\u001b[22m  (non-array) arguments requires Julia 1.6 or later.\n",
       "\n",
       "\u001b[1m  Examples\u001b[22m\n",
       "\u001b[1m  ≡≡≡≡≡≡≡≡≡≡\u001b[22m\n",
       "\n",
       "\u001b[36m  julia> 0.1 ≈ (0.1 - 1e-10)\u001b[39m\n",
       "\u001b[36m  true\u001b[39m\n",
       "\u001b[36m  \u001b[39m\n",
       "\u001b[36m  julia> isapprox(10, 11; atol = 2)\u001b[39m\n",
       "\u001b[36m  true\u001b[39m\n",
       "\u001b[36m  \u001b[39m\n",
       "\u001b[36m  julia> isapprox([10.0^9, 1.0], [10.0^9, 2.0])\u001b[39m\n",
       "\u001b[36m  true\u001b[39m\n",
       "\u001b[36m  \u001b[39m\n",
       "\u001b[36m  julia> 1e-10 ≈ 0\u001b[39m\n",
       "\u001b[36m  false\u001b[39m\n",
       "\u001b[36m  \u001b[39m\n",
       "\u001b[36m  julia> isapprox(1e-10, 0, atol=1e-8)\u001b[39m\n",
       "\u001b[36m  true\u001b[39m\n",
       "\n",
       "  ────────────────────────────────────────────────────────────────────────────\n",
       "\n",
       "\u001b[36m  isapprox(x; kwargs...) / ≈(x; kwargs...)\u001b[39m\n",
       "\n",
       "  Create a function that compares its argument to \u001b[36mx\u001b[39m using \u001b[36m≈\u001b[39m, i.e. a function\n",
       "  equivalent to \u001b[36my -> y ≈ x\u001b[39m.\n",
       "\n",
       "  The keyword arguments supported here are the same as those in the 2-argument\n",
       "  \u001b[36misapprox\u001b[39m."
      ]
     },
     "execution_count": 11,
     "metadata": {},
     "output_type": "execute_result"
    }
   ],
   "source": [
    "?isapprox"
   ]
  },
  {
   "cell_type": "markdown",
   "metadata": {},
   "source": [
    "Agora podemos medir o desempenho do código C diretamente da sessão Julia."
   ]
  },
  {
   "cell_type": "code",
   "execution_count": 12,
   "metadata": {},
   "outputs": [
    {
     "data": {
      "text/plain": [
       "BenchmarkTools.Trial: 585 samples with 1 evaluation.\n",
       " Range \u001b[90m(\u001b[39m\u001b[36m\u001b[1mmin\u001b[22m\u001b[39m … \u001b[35mmax\u001b[39m\u001b[90m):  \u001b[39m\u001b[36m\u001b[1m8.521 ms\u001b[22m\u001b[39m … \u001b[35m 8.626 ms\u001b[39m  \u001b[90m┊\u001b[39m GC \u001b[90m(\u001b[39mmin … max\u001b[90m): \u001b[39m0.00% … 0.00%\n",
       " Time  \u001b[90m(\u001b[39m\u001b[34m\u001b[1mmedian\u001b[22m\u001b[39m\u001b[90m):     \u001b[39m\u001b[34m\u001b[1m8.535 ms              \u001b[22m\u001b[39m\u001b[90m┊\u001b[39m GC \u001b[90m(\u001b[39mmedian\u001b[90m):    \u001b[39m0.00%\n",
       " Time  \u001b[90m(\u001b[39m\u001b[32m\u001b[1mmean\u001b[22m\u001b[39m ± \u001b[32mσ\u001b[39m\u001b[90m):   \u001b[39m\u001b[32m\u001b[1m8.537 ms\u001b[22m\u001b[39m ± \u001b[32m10.687 μs\u001b[39m  \u001b[90m┊\u001b[39m GC \u001b[90m(\u001b[39mmean ± σ\u001b[90m):  \u001b[39m0.00% ± 0.00%\n",
       "\n",
       "  \u001b[39m \u001b[39m \u001b[39m \u001b[39m▁\u001b[39m \u001b[39m▁\u001b[39m \u001b[39m▁\u001b[39m▂\u001b[39m▄\u001b[39m▄\u001b[39m▂\u001b[39m▃\u001b[39m█\u001b[34m▂\u001b[39m\u001b[32m▅\u001b[39m\u001b[39m▁\u001b[39m▁\u001b[39m▂\u001b[39m \u001b[39m \u001b[39m \u001b[39m▁\u001b[39m▁\u001b[39m \u001b[39m \u001b[39m \u001b[39m \u001b[39m \u001b[39m \u001b[39m \u001b[39m \u001b[39m \u001b[39m \u001b[39m \u001b[39m \u001b[39m \u001b[39m \u001b[39m \u001b[39m \u001b[39m \u001b[39m \u001b[39m \u001b[39m \u001b[39m \u001b[39m \u001b[39m \u001b[39m \u001b[39m \u001b[39m \u001b[39m \u001b[39m \u001b[39m \u001b[39m \u001b[39m \u001b[39m \u001b[39m \u001b[39m \u001b[39m \u001b[39m \n",
       "  \u001b[39m▃\u001b[39m▄\u001b[39m▅\u001b[39m█\u001b[39m▇\u001b[39m█\u001b[39m█\u001b[39m█\u001b[39m█\u001b[39m█\u001b[39m█\u001b[39m█\u001b[39m█\u001b[39m█\u001b[34m█\u001b[39m\u001b[32m█\u001b[39m\u001b[39m█\u001b[39m█\u001b[39m█\u001b[39m█\u001b[39m▆\u001b[39m█\u001b[39m█\u001b[39m█\u001b[39m▆\u001b[39m▆\u001b[39m▃\u001b[39m▄\u001b[39m▃\u001b[39m▄\u001b[39m▁\u001b[39m▄\u001b[39m▂\u001b[39m▃\u001b[39m▂\u001b[39m▂\u001b[39m▂\u001b[39m▁\u001b[39m▁\u001b[39m▂\u001b[39m▃\u001b[39m▁\u001b[39m▁\u001b[39m▁\u001b[39m▁\u001b[39m▂\u001b[39m▁\u001b[39m▁\u001b[39m▁\u001b[39m▁\u001b[39m▁\u001b[39m▂\u001b[39m▁\u001b[39m▁\u001b[39m▁\u001b[39m▁\u001b[39m▁\u001b[39m▂\u001b[39m \u001b[39m▄\n",
       "  8.52 ms\u001b[90m        Histogram: frequency by time\u001b[39m        8.58 ms \u001b[0m\u001b[1m<\u001b[22m\n",
       "\n",
       " Memory estimate\u001b[90m: \u001b[39m\u001b[33m0 bytes\u001b[39m, allocs estimate\u001b[90m: \u001b[39m\u001b[33m0\u001b[39m."
      ]
     },
     "execution_count": 12,
     "metadata": {},
     "output_type": "execute_result"
    }
   ],
   "source": [
    "c_bench = @benchmark c_sum($a)"
   ]
  },
  {
   "cell_type": "code",
   "execution_count": 13,
   "metadata": {},
   "outputs": [
    {
     "name": "stdout",
     "output_type": "stream",
     "text": [
      "C: O tempo mais rápido foi 8.521421 msec\n"
     ]
    }
   ],
   "source": [
    "println(\"C: O tempo mais rápido foi $(minimum(c_bench.times) / 1e6) msec\")"
   ]
  },
  {
   "cell_type": "code",
   "execution_count": 14,
   "metadata": {},
   "outputs": [
    {
     "data": {
      "text/plain": [
       "Dict{Any, Any} with 1 entry:\n",
       "  \"C\" => 8.52142"
      ]
     },
     "execution_count": 14,
     "metadata": {},
     "output_type": "execute_result"
    }
   ],
   "source": [
    "d = Dict()\n",
    "d[\"C\"] = minimum(c_bench.times) / 1e6  # em milisegundos\n",
    "d"
   ]
  },
  {
   "cell_type": "code",
   "execution_count": 15,
   "metadata": {},
   "outputs": [
    {
     "data": {
      "text/plain": [
       "Plots.GRBackend()"
      ]
     },
     "execution_count": 15,
     "metadata": {},
     "output_type": "execute_result"
    }
   ],
   "source": [
    "using Plots\n",
    "gr()"
   ]
  },
  {
   "cell_type": "code",
   "execution_count": 16,
   "metadata": {},
   "outputs": [
    {
     "data": {
      "image/svg+xml": [
       "<?xml version=\"1.0\" encoding=\"utf-8\"?>\n",
       "<svg xmlns=\"http://www.w3.org/2000/svg\" xmlns:xlink=\"http://www.w3.org/1999/xlink\" width=\"600\" height=\"400\" viewBox=\"0 0 2400 1600\">\n",
       "<defs>\n",
       "  <clipPath id=\"clip230\">\n",
       "    <rect x=\"0\" y=\"0\" width=\"2400\" height=\"1600\"/>\n",
       "  </clipPath>\n",
       "</defs>\n",
       "<path clip-path=\"url(#clip230)\" d=\"\n",
       "M0 1600 L2400 1600 L2400 0 L0 0  Z\n",
       "  \" fill=\"#ffffff\" fill-rule=\"evenodd\" fill-opacity=\"1\"/>\n",
       "<defs>\n",
       "  <clipPath id=\"clip231\">\n",
       "    <rect x=\"480\" y=\"0\" width=\"1681\" height=\"1600\"/>\n",
       "  </clipPath>\n",
       "</defs>\n",
       "<path clip-path=\"url(#clip230)\" d=\"\n",
       "M203.964 1423.18 L2352.76 1423.18 L2352.76 47.2441 L203.964 47.2441  Z\n",
       "  \" fill=\"#ffffff\" fill-rule=\"evenodd\" fill-opacity=\"1\"/>\n",
       "<defs>\n",
       "  <clipPath id=\"clip232\">\n",
       "    <rect x=\"203\" y=\"47\" width=\"2150\" height=\"1377\"/>\n",
       "  </clipPath>\n",
       "</defs>\n",
       "<polyline clip-path=\"url(#clip232)\" style=\"stroke:#000000; stroke-linecap:butt; stroke-linejoin:round; stroke-width:2; stroke-opacity:0.1; fill:none\" points=\"\n",
       "  489.867,1423.18 489.867,47.2441 \n",
       "  \"/>\n",
       "<polyline clip-path=\"url(#clip232)\" style=\"stroke:#000000; stroke-linecap:butt; stroke-linejoin:round; stroke-width:2; stroke-opacity:0.1; fill:none\" points=\"\n",
       "  824.987,1423.18 824.987,47.2441 \n",
       "  \"/>\n",
       "<polyline clip-path=\"url(#clip232)\" style=\"stroke:#000000; stroke-linecap:butt; stroke-linejoin:round; stroke-width:2; stroke-opacity:0.1; fill:none\" points=\"\n",
       "  1160.11,1423.18 1160.11,47.2441 \n",
       "  \"/>\n",
       "<polyline clip-path=\"url(#clip232)\" style=\"stroke:#000000; stroke-linecap:butt; stroke-linejoin:round; stroke-width:2; stroke-opacity:0.1; fill:none\" points=\"\n",
       "  1495.23,1423.18 1495.23,47.2441 \n",
       "  \"/>\n",
       "<polyline clip-path=\"url(#clip232)\" style=\"stroke:#000000; stroke-linecap:butt; stroke-linejoin:round; stroke-width:2; stroke-opacity:0.1; fill:none\" points=\"\n",
       "  1830.35,1423.18 1830.35,47.2441 \n",
       "  \"/>\n",
       "<polyline clip-path=\"url(#clip232)\" style=\"stroke:#000000; stroke-linecap:butt; stroke-linejoin:round; stroke-width:2; stroke-opacity:0.1; fill:none\" points=\"\n",
       "  2165.47,1423.18 2165.47,47.2441 \n",
       "  \"/>\n",
       "<polyline clip-path=\"url(#clip230)\" style=\"stroke:#000000; stroke-linecap:butt; stroke-linejoin:round; stroke-width:4; stroke-opacity:1; fill:none\" points=\"\n",
       "  203.964,1423.18 2352.76,1423.18 \n",
       "  \"/>\n",
       "<polyline clip-path=\"url(#clip230)\" style=\"stroke:#000000; stroke-linecap:butt; stroke-linejoin:round; stroke-width:4; stroke-opacity:1; fill:none\" points=\"\n",
       "  489.867,1423.18 489.867,1404.28 \n",
       "  \"/>\n",
       "<polyline clip-path=\"url(#clip230)\" style=\"stroke:#000000; stroke-linecap:butt; stroke-linejoin:round; stroke-width:4; stroke-opacity:1; fill:none\" points=\"\n",
       "  824.987,1423.18 824.987,1404.28 \n",
       "  \"/>\n",
       "<polyline clip-path=\"url(#clip230)\" style=\"stroke:#000000; stroke-linecap:butt; stroke-linejoin:round; stroke-width:4; stroke-opacity:1; fill:none\" points=\"\n",
       "  1160.11,1423.18 1160.11,1404.28 \n",
       "  \"/>\n",
       "<polyline clip-path=\"url(#clip230)\" style=\"stroke:#000000; stroke-linecap:butt; stroke-linejoin:round; stroke-width:4; stroke-opacity:1; fill:none\" points=\"\n",
       "  1495.23,1423.18 1495.23,1404.28 \n",
       "  \"/>\n",
       "<polyline clip-path=\"url(#clip230)\" style=\"stroke:#000000; stroke-linecap:butt; stroke-linejoin:round; stroke-width:4; stroke-opacity:1; fill:none\" points=\"\n",
       "  1830.35,1423.18 1830.35,1404.28 \n",
       "  \"/>\n",
       "<polyline clip-path=\"url(#clip230)\" style=\"stroke:#000000; stroke-linecap:butt; stroke-linejoin:round; stroke-width:4; stroke-opacity:1; fill:none\" points=\"\n",
       "  2165.47,1423.18 2165.47,1404.28 \n",
       "  \"/>\n",
       "<path clip-path=\"url(#clip230)\" d=\"M437.541 1467.44 Q434.207 1467.44 432.286 1469.22 Q430.388 1471 430.388 1474.13 Q430.388 1477.25 432.286 1479.04 Q434.207 1480.82 437.541 1480.82 Q440.874 1480.82 442.795 1479.04 Q444.717 1477.23 444.717 1474.13 Q444.717 1471 442.795 1469.22 Q440.897 1467.44 437.541 1467.44 M432.865 1465.45 Q429.855 1464.71 428.166 1462.65 Q426.499 1460.59 426.499 1457.63 Q426.499 1453.48 429.439 1451.07 Q432.402 1448.67 437.541 1448.67 Q442.703 1448.67 445.642 1451.07 Q448.582 1453.48 448.582 1457.63 Q448.582 1460.59 446.892 1462.65 Q445.226 1464.71 442.24 1465.45 Q445.619 1466.24 447.494 1468.53 Q449.392 1470.82 449.392 1474.13 Q449.392 1479.15 446.314 1481.84 Q443.258 1484.52 437.541 1484.52 Q431.823 1484.52 428.744 1481.84 Q425.689 1479.15 425.689 1474.13 Q425.689 1470.82 427.587 1468.53 Q429.485 1466.24 432.865 1465.45 M431.152 1458.06 Q431.152 1460.75 432.818 1462.25 Q434.508 1463.76 437.541 1463.76 Q440.55 1463.76 442.24 1462.25 Q443.953 1460.75 443.953 1458.06 Q443.953 1455.38 442.24 1453.88 Q440.55 1452.37 437.541 1452.37 Q434.508 1452.37 432.818 1453.88 Q431.152 1455.38 431.152 1458.06 Z\" fill=\"#000000\" fill-rule=\"evenodd\" fill-opacity=\"1\" /><path clip-path=\"url(#clip230)\" d=\"M457.703 1477.97 L462.587 1477.97 L462.587 1483.85 L457.703 1483.85 L457.703 1477.97 Z\" fill=\"#000000\" fill-rule=\"evenodd\" fill-opacity=\"1\" /><path clip-path=\"url(#clip230)\" d=\"M472.818 1449.29 L491.175 1449.29 L491.175 1453.23 L477.101 1453.23 L477.101 1461.7 Q478.119 1461.35 479.138 1461.19 Q480.156 1461 481.175 1461 Q486.962 1461 490.341 1464.18 Q493.721 1467.35 493.721 1472.76 Q493.721 1478.34 490.249 1481.44 Q486.776 1484.52 480.457 1484.52 Q478.281 1484.52 476.013 1484.15 Q473.767 1483.78 471.36 1483.04 L471.36 1478.34 Q473.443 1479.48 475.665 1480.03 Q477.888 1480.59 480.364 1480.59 Q484.369 1480.59 486.707 1478.48 Q489.045 1476.38 489.045 1472.76 Q489.045 1469.15 486.707 1467.05 Q484.369 1464.94 480.364 1464.94 Q478.489 1464.94 476.615 1465.36 Q474.763 1465.77 472.818 1466.65 L472.818 1449.29 Z\" fill=\"#000000\" fill-rule=\"evenodd\" fill-opacity=\"1\" /><path clip-path=\"url(#clip230)\" d=\"M503.744 1479.92 L511.383 1479.92 L511.383 1453.55 L503.073 1455.22 L503.073 1450.96 L511.337 1449.29 L516.012 1449.29 L516.012 1479.92 L523.651 1479.92 L523.651 1483.85 L503.744 1483.85 L503.744 1479.92 Z\" fill=\"#000000\" fill-rule=\"evenodd\" fill-opacity=\"1\" /><path clip-path=\"url(#clip230)\" d=\"M533.142 1449.29 L551.498 1449.29 L551.498 1453.23 L537.424 1453.23 L537.424 1461.7 Q538.443 1461.35 539.461 1461.19 Q540.48 1461 541.498 1461 Q547.285 1461 550.665 1464.18 Q554.045 1467.35 554.045 1472.76 Q554.045 1478.34 550.572 1481.44 Q547.1 1484.52 540.781 1484.52 Q538.605 1484.52 536.336 1484.15 Q534.091 1483.78 531.684 1483.04 L531.684 1478.34 Q533.767 1479.48 535.989 1480.03 Q538.211 1480.59 540.688 1480.59 Q544.693 1480.59 547.031 1478.48 Q549.369 1476.38 549.369 1472.76 Q549.369 1469.15 547.031 1467.05 Q544.693 1464.94 540.688 1464.94 Q538.813 1464.94 536.938 1465.36 Q535.086 1465.77 533.142 1466.65 L533.142 1449.29 Z\" fill=\"#000000\" fill-rule=\"evenodd\" fill-opacity=\"1\" /><path clip-path=\"url(#clip230)\" d=\"M772.163 1467.44 Q768.83 1467.44 766.908 1469.22 Q765.01 1471 765.01 1474.13 Q765.01 1477.25 766.908 1479.04 Q768.83 1480.82 772.163 1480.82 Q775.496 1480.82 777.417 1479.04 Q779.339 1477.23 779.339 1474.13 Q779.339 1471 777.417 1469.22 Q775.519 1467.44 772.163 1467.44 M767.487 1465.45 Q764.478 1464.71 762.788 1462.65 Q761.121 1460.59 761.121 1457.63 Q761.121 1453.48 764.061 1451.07 Q767.024 1448.67 772.163 1448.67 Q777.325 1448.67 780.265 1451.07 Q783.204 1453.48 783.204 1457.63 Q783.204 1460.59 781.515 1462.65 Q779.848 1464.71 776.862 1465.45 Q780.241 1466.24 782.116 1468.53 Q784.015 1470.82 784.015 1474.13 Q784.015 1479.15 780.936 1481.84 Q777.88 1484.52 772.163 1484.52 Q766.445 1484.52 763.367 1481.84 Q760.311 1479.15 760.311 1474.13 Q760.311 1470.82 762.209 1468.53 Q764.107 1466.24 767.487 1465.45 M765.774 1458.06 Q765.774 1460.75 767.441 1462.25 Q769.13 1463.76 772.163 1463.76 Q775.172 1463.76 776.862 1462.25 Q778.575 1460.75 778.575 1458.06 Q778.575 1455.38 776.862 1453.88 Q775.172 1452.37 772.163 1452.37 Q769.13 1452.37 767.441 1453.88 Q765.774 1455.38 765.774 1458.06 Z\" fill=\"#000000\" fill-rule=\"evenodd\" fill-opacity=\"1\" /><path clip-path=\"url(#clip230)\" d=\"M792.325 1477.97 L797.209 1477.97 L797.209 1483.85 L792.325 1483.85 L792.325 1477.97 Z\" fill=\"#000000\" fill-rule=\"evenodd\" fill-opacity=\"1\" /><path clip-path=\"url(#clip230)\" d=\"M807.44 1449.29 L825.797 1449.29 L825.797 1453.23 L811.723 1453.23 L811.723 1461.7 Q812.741 1461.35 813.76 1461.19 Q814.778 1461 815.797 1461 Q821.584 1461 824.963 1464.18 Q828.343 1467.35 828.343 1472.76 Q828.343 1478.34 824.871 1481.44 Q821.399 1484.52 815.079 1484.52 Q812.903 1484.52 810.635 1484.15 Q808.389 1483.78 805.982 1483.04 L805.982 1478.34 Q808.065 1479.48 810.288 1480.03 Q812.51 1480.59 814.987 1480.59 Q818.991 1480.59 821.329 1478.48 Q823.667 1476.38 823.667 1472.76 Q823.667 1469.15 821.329 1467.05 Q818.991 1464.94 814.987 1464.94 Q813.112 1464.94 811.237 1465.36 Q809.385 1465.77 807.44 1466.65 L807.44 1449.29 Z\" fill=\"#000000\" fill-rule=\"evenodd\" fill-opacity=\"1\" /><path clip-path=\"url(#clip230)\" d=\"M841.584 1479.92 L857.903 1479.92 L857.903 1483.85 L835.959 1483.85 L835.959 1479.92 Q838.621 1477.16 843.204 1472.53 Q847.811 1467.88 848.991 1466.54 Q851.236 1464.01 852.116 1462.28 Q853.019 1460.52 853.019 1458.83 Q853.019 1456.07 851.074 1454.34 Q849.153 1452.6 846.051 1452.6 Q843.852 1452.6 841.399 1453.37 Q838.968 1454.13 836.19 1455.68 L836.19 1450.96 Q839.014 1449.82 841.468 1449.25 Q843.922 1448.67 845.959 1448.67 Q851.329 1448.67 854.523 1451.35 Q857.718 1454.04 857.718 1458.53 Q857.718 1460.66 856.908 1462.58 Q856.121 1464.48 854.014 1467.07 Q853.436 1467.74 850.334 1470.96 Q847.232 1474.15 841.584 1479.92 Z\" fill=\"#000000\" fill-rule=\"evenodd\" fill-opacity=\"1\" /><path clip-path=\"url(#clip230)\" d=\"M877.718 1452.37 Q874.107 1452.37 872.278 1455.94 Q870.472 1459.48 870.472 1466.61 Q870.472 1473.71 872.278 1477.28 Q874.107 1480.82 877.718 1480.82 Q881.352 1480.82 883.158 1477.28 Q884.986 1473.71 884.986 1466.61 Q884.986 1459.48 883.158 1455.94 Q881.352 1452.37 877.718 1452.37 M877.718 1448.67 Q883.528 1448.67 886.584 1453.27 Q889.662 1457.86 889.662 1466.61 Q889.662 1475.33 886.584 1479.94 Q883.528 1484.52 877.718 1484.52 Q871.908 1484.52 868.829 1479.94 Q865.773 1475.33 865.773 1466.61 Q865.773 1457.86 868.829 1453.27 Q871.908 1448.67 877.718 1448.67 Z\" fill=\"#000000\" fill-rule=\"evenodd\" fill-opacity=\"1\" /><path clip-path=\"url(#clip230)\" d=\"M1107.78 1467.44 Q1104.45 1467.44 1102.53 1469.22 Q1100.63 1471 1100.63 1474.13 Q1100.63 1477.25 1102.53 1479.04 Q1104.45 1480.82 1107.78 1480.82 Q1111.11 1480.82 1113.03 1479.04 Q1114.96 1477.23 1114.96 1474.13 Q1114.96 1471 1113.03 1469.22 Q1111.14 1467.44 1107.78 1467.44 M1103.1 1465.45 Q1100.1 1464.71 1098.41 1462.65 Q1096.74 1460.59 1096.74 1457.63 Q1096.74 1453.48 1099.68 1451.07 Q1102.64 1448.67 1107.78 1448.67 Q1112.94 1448.67 1115.88 1451.07 Q1118.82 1453.48 1118.82 1457.63 Q1118.82 1460.59 1117.13 1462.65 Q1115.47 1464.71 1112.48 1465.45 Q1115.86 1466.24 1117.73 1468.53 Q1119.63 1470.82 1119.63 1474.13 Q1119.63 1479.15 1116.55 1481.84 Q1113.5 1484.52 1107.78 1484.52 Q1102.06 1484.52 1098.98 1481.84 Q1095.93 1479.15 1095.93 1474.13 Q1095.93 1470.82 1097.83 1468.53 Q1099.72 1466.24 1103.1 1465.45 M1101.39 1458.06 Q1101.39 1460.75 1103.06 1462.25 Q1104.75 1463.76 1107.78 1463.76 Q1110.79 1463.76 1112.48 1462.25 Q1114.19 1460.75 1114.19 1458.06 Q1114.19 1455.38 1112.48 1453.88 Q1110.79 1452.37 1107.78 1452.37 Q1104.75 1452.37 1103.06 1453.88 Q1101.39 1455.38 1101.39 1458.06 Z\" fill=\"#000000\" fill-rule=\"evenodd\" fill-opacity=\"1\" /><path clip-path=\"url(#clip230)\" d=\"M1127.94 1477.97 L1132.83 1477.97 L1132.83 1483.85 L1127.94 1483.85 L1127.94 1477.97 Z\" fill=\"#000000\" fill-rule=\"evenodd\" fill-opacity=\"1\" /><path clip-path=\"url(#clip230)\" d=\"M1143.06 1449.29 L1161.41 1449.29 L1161.41 1453.23 L1147.34 1453.23 L1147.34 1461.7 Q1148.36 1461.35 1149.38 1461.19 Q1150.4 1461 1151.41 1461 Q1157.2 1461 1160.58 1464.18 Q1163.96 1467.35 1163.96 1472.76 Q1163.96 1478.34 1160.49 1481.44 Q1157.02 1484.52 1150.7 1484.52 Q1148.52 1484.52 1146.25 1484.15 Q1144.01 1483.78 1141.6 1483.04 L1141.6 1478.34 Q1143.68 1479.48 1145.91 1480.03 Q1148.13 1480.59 1150.6 1480.59 Q1154.61 1480.59 1156.95 1478.48 Q1159.28 1476.38 1159.28 1472.76 Q1159.28 1469.15 1156.95 1467.05 Q1154.61 1464.94 1150.6 1464.94 Q1148.73 1464.94 1146.85 1465.36 Q1145 1465.77 1143.06 1466.65 L1143.06 1449.29 Z\" fill=\"#000000\" fill-rule=\"evenodd\" fill-opacity=\"1\" /><path clip-path=\"url(#clip230)\" d=\"M1177.2 1479.92 L1193.52 1479.92 L1193.52 1483.85 L1171.58 1483.85 L1171.58 1479.92 Q1174.24 1477.16 1178.82 1472.53 Q1183.43 1467.88 1184.61 1466.54 Q1186.85 1464.01 1187.73 1462.28 Q1188.64 1460.52 1188.64 1458.83 Q1188.64 1456.07 1186.69 1454.34 Q1184.77 1452.6 1181.67 1452.6 Q1179.47 1452.6 1177.02 1453.37 Q1174.59 1454.13 1171.81 1455.68 L1171.81 1450.96 Q1174.63 1449.82 1177.09 1449.25 Q1179.54 1448.67 1181.58 1448.67 Q1186.95 1448.67 1190.14 1451.35 Q1193.34 1454.04 1193.34 1458.53 Q1193.34 1460.66 1192.53 1462.58 Q1191.74 1464.48 1189.63 1467.07 Q1189.05 1467.74 1185.95 1470.96 Q1182.85 1474.15 1177.2 1479.92 Z\" fill=\"#000000\" fill-rule=\"evenodd\" fill-opacity=\"1\" /><path clip-path=\"url(#clip230)\" d=\"M1203.38 1449.29 L1221.74 1449.29 L1221.74 1453.23 L1207.66 1453.23 L1207.66 1461.7 Q1208.68 1461.35 1209.7 1461.19 Q1210.72 1461 1211.74 1461 Q1217.53 1461 1220.9 1464.18 Q1224.28 1467.35 1224.28 1472.76 Q1224.28 1478.34 1220.81 1481.44 Q1217.34 1484.52 1211.02 1484.52 Q1208.84 1484.52 1206.58 1484.15 Q1204.33 1483.78 1201.92 1483.04 L1201.92 1478.34 Q1204.01 1479.48 1206.23 1480.03 Q1208.45 1480.59 1210.93 1480.59 Q1214.93 1480.59 1217.27 1478.48 Q1219.61 1476.38 1219.61 1472.76 Q1219.61 1469.15 1217.27 1467.05 Q1214.93 1464.94 1210.93 1464.94 Q1209.05 1464.94 1207.18 1465.36 Q1205.33 1465.77 1203.38 1466.65 L1203.38 1449.29 Z\" fill=\"#000000\" fill-rule=\"evenodd\" fill-opacity=\"1\" /><path clip-path=\"url(#clip230)\" d=\"M1442.4 1467.44 Q1439.07 1467.44 1437.15 1469.22 Q1435.25 1471 1435.25 1474.13 Q1435.25 1477.25 1437.15 1479.04 Q1439.07 1480.82 1442.4 1480.82 Q1445.74 1480.82 1447.66 1479.04 Q1449.58 1477.23 1449.58 1474.13 Q1449.58 1471 1447.66 1469.22 Q1445.76 1467.44 1442.4 1467.44 M1437.73 1465.45 Q1434.72 1464.71 1433.03 1462.65 Q1431.36 1460.59 1431.36 1457.63 Q1431.36 1453.48 1434.3 1451.07 Q1437.26 1448.67 1442.4 1448.67 Q1447.56 1448.67 1450.5 1451.07 Q1453.44 1453.48 1453.44 1457.63 Q1453.44 1460.59 1451.75 1462.65 Q1450.09 1464.71 1447.1 1465.45 Q1450.48 1466.24 1452.36 1468.53 Q1454.25 1470.82 1454.25 1474.13 Q1454.25 1479.15 1451.18 1481.84 Q1448.12 1484.52 1442.4 1484.52 Q1436.68 1484.52 1433.61 1481.84 Q1430.55 1479.15 1430.55 1474.13 Q1430.55 1470.82 1432.45 1468.53 Q1434.35 1466.24 1437.73 1465.45 M1436.01 1458.06 Q1436.01 1460.75 1437.68 1462.25 Q1439.37 1463.76 1442.4 1463.76 Q1445.41 1463.76 1447.1 1462.25 Q1448.81 1460.75 1448.81 1458.06 Q1448.81 1455.38 1447.1 1453.88 Q1445.41 1452.37 1442.4 1452.37 Q1439.37 1452.37 1437.68 1453.88 Q1436.01 1455.38 1436.01 1458.06 Z\" fill=\"#000000\" fill-rule=\"evenodd\" fill-opacity=\"1\" /><path clip-path=\"url(#clip230)\" d=\"M1462.56 1477.97 L1467.45 1477.97 L1467.45 1483.85 L1462.56 1483.85 L1462.56 1477.97 Z\" fill=\"#000000\" fill-rule=\"evenodd\" fill-opacity=\"1\" /><path clip-path=\"url(#clip230)\" d=\"M1477.68 1449.29 L1496.04 1449.29 L1496.04 1453.23 L1481.96 1453.23 L1481.96 1461.7 Q1482.98 1461.35 1484 1461.19 Q1485.02 1461 1486.04 1461 Q1491.82 1461 1495.2 1464.18 Q1498.58 1467.35 1498.58 1472.76 Q1498.58 1478.34 1495.11 1481.44 Q1491.64 1484.52 1485.32 1484.52 Q1483.14 1484.52 1480.87 1484.15 Q1478.63 1483.78 1476.22 1483.04 L1476.22 1478.34 Q1478.31 1479.48 1480.53 1480.03 Q1482.75 1480.59 1485.23 1480.59 Q1489.23 1480.59 1491.57 1478.48 Q1493.91 1476.38 1493.91 1472.76 Q1493.91 1469.15 1491.57 1467.05 Q1489.23 1464.94 1485.23 1464.94 Q1483.35 1464.94 1481.48 1465.36 Q1479.62 1465.77 1477.68 1466.65 L1477.68 1449.29 Z\" fill=\"#000000\" fill-rule=\"evenodd\" fill-opacity=\"1\" /><path clip-path=\"url(#clip230)\" d=\"M1521.96 1465.22 Q1525.32 1465.94 1527.19 1468.2 Q1529.09 1470.47 1529.09 1473.81 Q1529.09 1478.92 1525.57 1481.72 Q1522.05 1484.52 1515.57 1484.52 Q1513.4 1484.52 1511.08 1484.08 Q1508.79 1483.67 1506.34 1482.81 L1506.34 1478.3 Q1508.28 1479.43 1510.6 1480.01 Q1512.91 1480.59 1515.43 1480.59 Q1519.83 1480.59 1522.12 1478.85 Q1524.44 1477.12 1524.44 1473.81 Q1524.44 1470.75 1522.29 1469.04 Q1520.16 1467.3 1516.34 1467.3 L1512.31 1467.3 L1512.31 1463.46 L1516.52 1463.46 Q1519.97 1463.46 1521.8 1462.09 Q1523.63 1460.7 1523.63 1458.11 Q1523.63 1455.45 1521.73 1454.04 Q1519.86 1452.6 1516.34 1452.6 Q1514.42 1452.6 1512.22 1453.02 Q1510.02 1453.44 1507.38 1454.31 L1507.38 1450.15 Q1510.04 1449.41 1512.36 1449.04 Q1514.69 1448.67 1516.75 1448.67 Q1522.08 1448.67 1525.18 1451.1 Q1528.28 1453.5 1528.28 1457.63 Q1528.28 1460.5 1526.64 1462.49 Q1524.99 1464.45 1521.96 1465.22 Z\" fill=\"#000000\" fill-rule=\"evenodd\" fill-opacity=\"1\" /><path clip-path=\"url(#clip230)\" d=\"M1547.96 1452.37 Q1544.35 1452.37 1542.52 1455.94 Q1540.71 1459.48 1540.71 1466.61 Q1540.71 1473.71 1542.52 1477.28 Q1544.35 1480.82 1547.96 1480.82 Q1551.59 1480.82 1553.4 1477.28 Q1555.23 1473.71 1555.23 1466.61 Q1555.23 1459.48 1553.4 1455.94 Q1551.59 1452.37 1547.96 1452.37 M1547.96 1448.67 Q1553.77 1448.67 1556.82 1453.27 Q1559.9 1457.86 1559.9 1466.61 Q1559.9 1475.33 1556.82 1479.94 Q1553.77 1484.52 1547.96 1484.52 Q1542.15 1484.52 1539.07 1479.94 Q1536.01 1475.33 1536.01 1466.61 Q1536.01 1457.86 1539.07 1453.27 Q1542.15 1448.67 1547.96 1448.67 Z\" fill=\"#000000\" fill-rule=\"evenodd\" fill-opacity=\"1\" /><path clip-path=\"url(#clip230)\" d=\"M1778.02 1467.44 Q1774.69 1467.44 1772.77 1469.22 Q1770.87 1471 1770.87 1474.13 Q1770.87 1477.25 1772.77 1479.04 Q1774.69 1480.82 1778.02 1480.82 Q1781.35 1480.82 1783.27 1479.04 Q1785.2 1477.23 1785.2 1474.13 Q1785.2 1471 1783.27 1469.22 Q1781.38 1467.44 1778.02 1467.44 M1773.34 1465.45 Q1770.33 1464.71 1768.65 1462.65 Q1766.98 1460.59 1766.98 1457.63 Q1766.98 1453.48 1769.92 1451.07 Q1772.88 1448.67 1778.02 1448.67 Q1783.18 1448.67 1786.12 1451.07 Q1789.06 1453.48 1789.06 1457.63 Q1789.06 1460.59 1787.37 1462.65 Q1785.71 1464.71 1782.72 1465.45 Q1786.1 1466.24 1787.97 1468.53 Q1789.87 1470.82 1789.87 1474.13 Q1789.87 1479.15 1786.79 1481.84 Q1783.74 1484.52 1778.02 1484.52 Q1772.3 1484.52 1769.22 1481.84 Q1766.17 1479.15 1766.17 1474.13 Q1766.17 1470.82 1768.07 1468.53 Q1769.96 1466.24 1773.34 1465.45 M1771.63 1458.06 Q1771.63 1460.75 1773.3 1462.25 Q1774.99 1463.76 1778.02 1463.76 Q1781.03 1463.76 1782.72 1462.25 Q1784.43 1460.75 1784.43 1458.06 Q1784.43 1455.38 1782.72 1453.88 Q1781.03 1452.37 1778.02 1452.37 Q1774.99 1452.37 1773.3 1453.88 Q1771.63 1455.38 1771.63 1458.06 Z\" fill=\"#000000\" fill-rule=\"evenodd\" fill-opacity=\"1\" /><path clip-path=\"url(#clip230)\" d=\"M1798.18 1477.97 L1803.07 1477.97 L1803.07 1483.85 L1798.18 1483.85 L1798.18 1477.97 Z\" fill=\"#000000\" fill-rule=\"evenodd\" fill-opacity=\"1\" /><path clip-path=\"url(#clip230)\" d=\"M1813.3 1449.29 L1831.65 1449.29 L1831.65 1453.23 L1817.58 1453.23 L1817.58 1461.7 Q1818.6 1461.35 1819.62 1461.19 Q1820.64 1461 1821.65 1461 Q1827.44 1461 1830.82 1464.18 Q1834.2 1467.35 1834.2 1472.76 Q1834.2 1478.34 1830.73 1481.44 Q1827.26 1484.52 1820.94 1484.52 Q1818.76 1484.52 1816.49 1484.15 Q1814.25 1483.78 1811.84 1483.04 L1811.84 1478.34 Q1813.92 1479.48 1816.14 1480.03 Q1818.37 1480.59 1820.84 1480.59 Q1824.85 1480.59 1827.19 1478.48 Q1829.52 1476.38 1829.52 1472.76 Q1829.52 1469.15 1827.19 1467.05 Q1824.85 1464.94 1820.84 1464.94 Q1818.97 1464.94 1817.09 1465.36 Q1815.24 1465.77 1813.3 1466.65 L1813.3 1449.29 Z\" fill=\"#000000\" fill-rule=\"evenodd\" fill-opacity=\"1\" /><path clip-path=\"url(#clip230)\" d=\"M1857.58 1465.22 Q1860.94 1465.94 1862.81 1468.2 Q1864.71 1470.47 1864.71 1473.81 Q1864.71 1478.92 1861.19 1481.72 Q1857.67 1484.52 1851.19 1484.52 Q1849.02 1484.52 1846.7 1484.08 Q1844.41 1483.67 1841.95 1482.81 L1841.95 1478.3 Q1843.9 1479.43 1846.21 1480.01 Q1848.53 1480.59 1851.05 1480.59 Q1855.45 1480.59 1857.74 1478.85 Q1860.06 1477.12 1860.06 1473.81 Q1860.06 1470.75 1857.9 1469.04 Q1855.77 1467.3 1851.95 1467.3 L1847.93 1467.3 L1847.93 1463.46 L1852.14 1463.46 Q1855.59 1463.46 1857.42 1462.09 Q1859.25 1460.7 1859.25 1458.11 Q1859.25 1455.45 1857.35 1454.04 Q1855.47 1452.6 1851.95 1452.6 Q1850.03 1452.6 1847.83 1453.02 Q1845.64 1453.44 1843 1454.31 L1843 1450.15 Q1845.66 1449.41 1847.97 1449.04 Q1850.31 1448.67 1852.37 1448.67 Q1857.7 1448.67 1860.8 1451.1 Q1863.9 1453.5 1863.9 1457.63 Q1863.9 1460.5 1862.26 1462.49 Q1860.61 1464.45 1857.58 1465.22 Z\" fill=\"#000000\" fill-rule=\"evenodd\" fill-opacity=\"1\" /><path clip-path=\"url(#clip230)\" d=\"M1873.62 1449.29 L1891.98 1449.29 L1891.98 1453.23 L1877.9 1453.23 L1877.9 1461.7 Q1878.92 1461.35 1879.94 1461.19 Q1880.96 1461 1881.98 1461 Q1887.76 1461 1891.14 1464.18 Q1894.52 1467.35 1894.52 1472.76 Q1894.52 1478.34 1891.05 1481.44 Q1887.58 1484.52 1881.26 1484.52 Q1879.08 1484.52 1876.82 1484.15 Q1874.57 1483.78 1872.16 1483.04 L1872.16 1478.34 Q1874.25 1479.48 1876.47 1480.03 Q1878.69 1480.59 1881.17 1480.59 Q1885.17 1480.59 1887.51 1478.48 Q1889.85 1476.38 1889.85 1472.76 Q1889.85 1469.15 1887.51 1467.05 Q1885.17 1464.94 1881.17 1464.94 Q1879.29 1464.94 1877.42 1465.36 Q1875.57 1465.77 1873.62 1466.65 L1873.62 1449.29 Z\" fill=\"#000000\" fill-rule=\"evenodd\" fill-opacity=\"1\" /><path clip-path=\"url(#clip230)\" d=\"M2112.64 1467.44 Q2109.31 1467.44 2107.39 1469.22 Q2105.49 1471 2105.49 1474.13 Q2105.49 1477.25 2107.39 1479.04 Q2109.31 1480.82 2112.64 1480.82 Q2115.98 1480.82 2117.9 1479.04 Q2119.82 1477.23 2119.82 1474.13 Q2119.82 1471 2117.9 1469.22 Q2116 1467.44 2112.64 1467.44 M2107.97 1465.45 Q2104.96 1464.71 2103.27 1462.65 Q2101.6 1460.59 2101.6 1457.63 Q2101.6 1453.48 2104.54 1451.07 Q2107.5 1448.67 2112.64 1448.67 Q2117.8 1448.67 2120.74 1451.07 Q2123.68 1453.48 2123.68 1457.63 Q2123.68 1460.59 2121.99 1462.65 Q2120.33 1464.71 2117.34 1465.45 Q2120.72 1466.24 2122.6 1468.53 Q2124.49 1470.82 2124.49 1474.13 Q2124.49 1479.15 2121.42 1481.84 Q2118.36 1484.52 2112.64 1484.52 Q2106.92 1484.52 2103.85 1481.84 Q2100.79 1479.15 2100.79 1474.13 Q2100.79 1470.82 2102.69 1468.53 Q2104.59 1466.24 2107.97 1465.45 M2106.25 1458.06 Q2106.25 1460.75 2107.92 1462.25 Q2109.61 1463.76 2112.64 1463.76 Q2115.65 1463.76 2117.34 1462.25 Q2119.05 1460.75 2119.05 1458.06 Q2119.05 1455.38 2117.34 1453.88 Q2115.65 1452.37 2112.64 1452.37 Q2109.61 1452.37 2107.92 1453.88 Q2106.25 1455.38 2106.25 1458.06 Z\" fill=\"#000000\" fill-rule=\"evenodd\" fill-opacity=\"1\" /><path clip-path=\"url(#clip230)\" d=\"M2132.8 1477.97 L2137.69 1477.97 L2137.69 1483.85 L2132.8 1483.85 L2132.8 1477.97 Z\" fill=\"#000000\" fill-rule=\"evenodd\" fill-opacity=\"1\" /><path clip-path=\"url(#clip230)\" d=\"M2147.92 1449.29 L2166.28 1449.29 L2166.28 1453.23 L2152.2 1453.23 L2152.2 1461.7 Q2153.22 1461.35 2154.24 1461.19 Q2155.26 1461 2156.28 1461 Q2162.06 1461 2165.44 1464.18 Q2168.82 1467.35 2168.82 1472.76 Q2168.82 1478.34 2165.35 1481.44 Q2161.88 1484.52 2155.56 1484.52 Q2153.38 1484.52 2151.11 1484.15 Q2148.87 1483.78 2146.46 1483.04 L2146.46 1478.34 Q2148.54 1479.48 2150.77 1480.03 Q2152.99 1480.59 2155.47 1480.59 Q2159.47 1480.59 2161.81 1478.48 Q2164.15 1476.38 2164.15 1472.76 Q2164.15 1469.15 2161.81 1467.05 Q2159.47 1464.94 2155.47 1464.94 Q2153.59 1464.94 2151.72 1465.36 Q2149.86 1465.77 2147.92 1466.65 L2147.92 1449.29 Z\" fill=\"#000000\" fill-rule=\"evenodd\" fill-opacity=\"1\" /><path clip-path=\"url(#clip230)\" d=\"M2190.88 1453.37 L2179.08 1471.81 L2190.88 1471.81 L2190.88 1453.37 M2189.66 1449.29 L2195.54 1449.29 L2195.54 1471.81 L2200.47 1471.81 L2200.47 1475.7 L2195.54 1475.7 L2195.54 1483.85 L2190.88 1483.85 L2190.88 1475.7 L2175.28 1475.7 L2175.28 1471.19 L2189.66 1449.29 Z\" fill=\"#000000\" fill-rule=\"evenodd\" fill-opacity=\"1\" /><path clip-path=\"url(#clip230)\" d=\"M2218.2 1452.37 Q2214.59 1452.37 2212.76 1455.94 Q2210.95 1459.48 2210.95 1466.61 Q2210.95 1473.71 2212.76 1477.28 Q2214.59 1480.82 2218.2 1480.82 Q2221.83 1480.82 2223.64 1477.28 Q2225.47 1473.71 2225.47 1466.61 Q2225.47 1459.48 2223.64 1455.94 Q2221.83 1452.37 2218.2 1452.37 M2218.2 1448.67 Q2224.01 1448.67 2227.06 1453.27 Q2230.14 1457.86 2230.14 1466.61 Q2230.14 1475.33 2227.06 1479.94 Q2224.01 1484.52 2218.2 1484.52 Q2212.39 1484.52 2209.31 1479.94 Q2206.25 1475.33 2206.25 1466.61 Q2206.25 1457.86 2209.31 1453.27 Q2212.39 1448.67 2218.2 1448.67 Z\" fill=\"#000000\" fill-rule=\"evenodd\" fill-opacity=\"1\" /><path clip-path=\"url(#clip230)\" d=\"M1095.33 1539.24 Q1097.53 1535.29 1100.58 1533.41 Q1103.64 1531.54 1107.77 1531.54 Q1113.34 1531.54 1116.37 1535.45 Q1119.39 1539.33 1119.39 1546.53 L1119.39 1568.04 L1113.5 1568.04 L1113.5 1546.72 Q1113.5 1541.59 1111.69 1539.11 Q1109.88 1536.63 1106.15 1536.63 Q1101.6 1536.63 1098.96 1539.65 Q1096.32 1542.68 1096.32 1547.9 L1096.32 1568.04 L1090.43 1568.04 L1090.43 1546.72 Q1090.43 1541.56 1088.61 1539.11 Q1086.8 1536.63 1083.01 1536.63 Q1078.52 1536.63 1075.88 1539.68 Q1073.24 1542.71 1073.24 1547.9 L1073.24 1568.04 L1067.35 1568.04 L1067.35 1532.4 L1073.24 1532.4 L1073.24 1537.93 Q1075.25 1534.66 1078.05 1533.1 Q1080.85 1531.54 1084.7 1531.54 Q1088.58 1531.54 1091.29 1533.51 Q1094.02 1535.48 1095.33 1539.24 Z\" fill=\"#000000\" fill-rule=\"evenodd\" fill-opacity=\"1\" /><path clip-path=\"url(#clip230)\" d=\"M1131.07 1532.4 L1136.93 1532.4 L1136.93 1568.04 L1131.07 1568.04 L1131.07 1532.4 M1131.07 1518.52 L1136.93 1518.52 L1136.93 1525.93 L1131.07 1525.93 L1131.07 1518.52 Z\" fill=\"#000000\" fill-rule=\"evenodd\" fill-opacity=\"1\" /><path clip-path=\"url(#clip230)\" d=\"M1149.18 1518.52 L1155.04 1518.52 L1155.04 1568.04 L1149.18 1568.04 L1149.18 1518.52 Z\" fill=\"#000000\" fill-rule=\"evenodd\" fill-opacity=\"1\" /><path clip-path=\"url(#clip230)\" d=\"M1167.29 1532.4 L1173.15 1532.4 L1173.15 1568.04 L1167.29 1568.04 L1167.29 1532.4 M1167.29 1518.52 L1173.15 1518.52 L1173.15 1525.93 L1167.29 1525.93 L1167.29 1518.52 Z\" fill=\"#000000\" fill-rule=\"evenodd\" fill-opacity=\"1\" /><path clip-path=\"url(#clip230)\" d=\"M1208.13 1533.45 L1208.13 1538.98 Q1205.65 1537.71 1202.97 1537.07 Q1200.3 1536.44 1197.44 1536.44 Q1193.08 1536.44 1190.88 1537.77 Q1188.71 1539.11 1188.71 1541.79 Q1188.71 1543.82 1190.27 1545 Q1191.83 1546.15 1196.54 1547.2 L1198.55 1547.64 Q1204.79 1548.98 1207.4 1551.43 Q1210.04 1553.85 1210.04 1558.21 Q1210.04 1563.17 1206.09 1566.07 Q1202.18 1568.97 1195.3 1568.97 Q1192.44 1568.97 1189.32 1568.39 Q1186.23 1567.85 1182.79 1566.74 L1182.79 1560.69 Q1186.04 1562.38 1189.19 1563.24 Q1192.34 1564.07 1195.43 1564.07 Q1199.57 1564.07 1201.8 1562.66 Q1204.02 1561.23 1204.02 1558.65 Q1204.02 1556.27 1202.4 1554.99 Q1200.81 1553.72 1195.37 1552.54 L1193.33 1552.07 Q1187.89 1550.92 1185.47 1548.56 Q1183.05 1546.18 1183.05 1542.04 Q1183.05 1537.01 1186.61 1534.27 Q1190.18 1531.54 1196.74 1531.54 Q1199.98 1531.54 1202.85 1532.01 Q1205.71 1532.49 1208.13 1533.45 Z\" fill=\"#000000\" fill-rule=\"evenodd\" fill-opacity=\"1\" /><path clip-path=\"url(#clip230)\" d=\"M1249.86 1548.76 L1249.86 1551.62 L1222.93 1551.62 Q1223.31 1557.67 1226.56 1560.85 Q1229.84 1564 1235.66 1564 Q1239.04 1564 1242.19 1563.17 Q1245.37 1562.35 1248.49 1560.69 L1248.49 1566.23 Q1245.34 1567.57 1242.03 1568.27 Q1238.72 1568.97 1235.31 1568.97 Q1226.78 1568.97 1221.78 1564 Q1216.82 1559.04 1216.82 1550.57 Q1216.82 1541.82 1221.53 1536.69 Q1226.27 1531.54 1234.29 1531.54 Q1241.49 1531.54 1245.66 1536.18 Q1249.86 1540.8 1249.86 1548.76 M1244 1547.04 Q1243.94 1542.23 1241.3 1539.37 Q1238.69 1536.5 1234.36 1536.5 Q1229.46 1536.5 1226.5 1539.27 Q1223.57 1542.04 1223.12 1547.07 L1244 1547.04 Z\" fill=\"#000000\" fill-rule=\"evenodd\" fill-opacity=\"1\" /><path clip-path=\"url(#clip230)\" d=\"M1282.93 1549.81 Q1282.93 1543.44 1280.29 1539.94 Q1277.68 1536.44 1272.93 1536.44 Q1268.22 1536.44 1265.58 1539.94 Q1262.97 1543.44 1262.97 1549.81 Q1262.97 1556.14 1265.58 1559.64 Q1268.22 1563.14 1272.93 1563.14 Q1277.68 1563.14 1280.29 1559.64 Q1282.93 1556.14 1282.93 1549.81 M1288.78 1563.62 Q1288.78 1572.72 1284.74 1577.15 Q1280.7 1581.6 1272.36 1581.6 Q1269.27 1581.6 1266.54 1581.13 Q1263.8 1580.68 1261.22 1579.72 L1261.22 1574.03 Q1263.8 1575.43 1266.31 1576.1 Q1268.83 1576.76 1271.44 1576.76 Q1277.2 1576.76 1280.06 1573.74 Q1282.93 1570.75 1282.93 1564.67 L1282.93 1561.77 Q1281.11 1564.92 1278.28 1566.48 Q1275.45 1568.04 1271.5 1568.04 Q1264.94 1568.04 1260.93 1563.05 Q1256.92 1558.05 1256.92 1549.81 Q1256.92 1541.53 1260.93 1536.53 Q1264.94 1531.54 1271.5 1531.54 Q1275.45 1531.54 1278.28 1533.1 Q1281.11 1534.66 1282.93 1537.81 L1282.93 1532.4 L1288.78 1532.4 L1288.78 1563.62 Z\" fill=\"#000000\" fill-rule=\"evenodd\" fill-opacity=\"1\" /><path clip-path=\"url(#clip230)\" d=\"M1300.24 1553.98 L1300.24 1532.4 L1306.1 1532.4 L1306.1 1553.75 Q1306.1 1558.81 1308.07 1561.36 Q1310.05 1563.87 1313.99 1563.87 Q1318.73 1563.87 1321.47 1560.85 Q1324.24 1557.83 1324.24 1552.61 L1324.24 1532.4 L1330.1 1532.4 L1330.1 1568.04 L1324.24 1568.04 L1324.24 1562.57 Q1322.11 1565.82 1319.28 1567.41 Q1316.47 1568.97 1312.75 1568.97 Q1306.61 1568.97 1303.42 1565.15 Q1300.24 1561.33 1300.24 1553.98 M1314.98 1531.54 L1314.98 1531.54 Z\" fill=\"#000000\" fill-rule=\"evenodd\" fill-opacity=\"1\" /><path clip-path=\"url(#clip230)\" d=\"M1371.79 1546.53 L1371.79 1568.04 L1365.94 1568.04 L1365.94 1546.72 Q1365.94 1541.66 1363.96 1539.14 Q1361.99 1536.63 1358.04 1536.63 Q1353.3 1536.63 1350.56 1539.65 Q1347.83 1542.68 1347.83 1547.9 L1347.83 1568.04 L1341.94 1568.04 L1341.94 1532.4 L1347.83 1532.4 L1347.83 1537.93 Q1349.93 1534.72 1352.76 1533.13 Q1355.62 1531.54 1359.35 1531.54 Q1365.49 1531.54 1368.64 1535.36 Q1371.79 1539.14 1371.79 1546.53 Z\" fill=\"#000000\" fill-rule=\"evenodd\" fill-opacity=\"1\" /><path clip-path=\"url(#clip230)\" d=\"M1406.93 1537.81 L1406.93 1518.52 L1412.79 1518.52 L1412.79 1568.04 L1406.93 1568.04 L1406.93 1562.7 Q1405.09 1565.88 1402.25 1567.44 Q1399.45 1568.97 1395.5 1568.97 Q1389.04 1568.97 1384.97 1563.81 Q1380.93 1558.65 1380.93 1550.25 Q1380.93 1541.85 1384.97 1536.69 Q1389.04 1531.54 1395.5 1531.54 Q1399.45 1531.54 1402.25 1533.1 Q1405.09 1534.62 1406.93 1537.81 M1386.97 1550.25 Q1386.97 1556.71 1389.62 1560.4 Q1392.29 1564.07 1396.94 1564.07 Q1401.58 1564.07 1404.26 1560.4 Q1406.93 1556.71 1406.93 1550.25 Q1406.93 1543.79 1404.26 1540.13 Q1401.58 1536.44 1396.94 1536.44 Q1392.29 1536.44 1389.62 1540.13 Q1386.97 1543.79 1386.97 1550.25 Z\" fill=\"#000000\" fill-rule=\"evenodd\" fill-opacity=\"1\" /><path clip-path=\"url(#clip230)\" d=\"M1438.66 1536.5 Q1433.95 1536.5 1431.22 1540.19 Q1428.48 1543.85 1428.48 1550.25 Q1428.48 1556.65 1431.18 1560.34 Q1433.92 1564 1438.66 1564 Q1443.34 1564 1446.08 1560.31 Q1448.82 1556.62 1448.82 1550.25 Q1448.82 1543.92 1446.08 1540.23 Q1443.34 1536.5 1438.66 1536.5 M1438.66 1531.54 Q1446.3 1531.54 1450.66 1536.5 Q1455.02 1541.47 1455.02 1550.25 Q1455.02 1559 1450.66 1564 Q1446.3 1568.97 1438.66 1568.97 Q1430.99 1568.97 1426.63 1564 Q1422.3 1559 1422.3 1550.25 Q1422.3 1541.47 1426.63 1536.5 Q1430.99 1531.54 1438.66 1531.54 Z\" fill=\"#000000\" fill-rule=\"evenodd\" fill-opacity=\"1\" /><path clip-path=\"url(#clip230)\" d=\"M1487.46 1533.45 L1487.46 1538.98 Q1484.97 1537.71 1482.3 1537.07 Q1479.63 1536.44 1476.76 1536.44 Q1472.4 1536.44 1470.21 1537.77 Q1468.04 1539.11 1468.04 1541.79 Q1468.04 1543.82 1469.6 1545 Q1471.16 1546.15 1475.87 1547.2 L1477.88 1547.64 Q1484.12 1548.98 1486.73 1551.43 Q1489.37 1553.85 1489.37 1558.21 Q1489.37 1563.17 1485.42 1566.07 Q1481.51 1568.97 1474.63 1568.97 Q1471.77 1568.97 1468.65 1568.39 Q1465.56 1567.85 1462.12 1566.74 L1462.12 1560.69 Q1465.37 1562.38 1468.52 1563.24 Q1471.67 1564.07 1474.76 1564.07 Q1478.9 1564.07 1481.12 1562.66 Q1483.35 1561.23 1483.35 1558.65 Q1483.35 1556.27 1481.73 1554.99 Q1480.14 1553.72 1474.69 1552.54 L1472.66 1552.07 Q1467.21 1550.92 1464.8 1548.56 Q1462.38 1546.18 1462.38 1542.04 Q1462.38 1537.01 1465.94 1534.27 Q1469.51 1531.54 1476.06 1531.54 Q1479.31 1531.54 1482.17 1532.01 Q1485.04 1532.49 1487.46 1533.45 Z\" fill=\"#000000\" fill-rule=\"evenodd\" fill-opacity=\"1\" /><polyline clip-path=\"url(#clip232)\" style=\"stroke:#000000; stroke-linecap:butt; stroke-linejoin:round; stroke-width:2; stroke-opacity:0.1; fill:none\" points=\"\n",
       "  203.964,1384.24 2352.76,1384.24 \n",
       "  \"/>\n",
       "<polyline clip-path=\"url(#clip232)\" style=\"stroke:#000000; stroke-linecap:butt; stroke-linejoin:round; stroke-width:2; stroke-opacity:0.1; fill:none\" points=\"\n",
       "  203.964,1002.46 2352.76,1002.46 \n",
       "  \"/>\n",
       "<polyline clip-path=\"url(#clip232)\" style=\"stroke:#000000; stroke-linecap:butt; stroke-linejoin:round; stroke-width:2; stroke-opacity:0.1; fill:none\" points=\"\n",
       "  203.964,620.678 2352.76,620.678 \n",
       "  \"/>\n",
       "<polyline clip-path=\"url(#clip232)\" style=\"stroke:#000000; stroke-linecap:butt; stroke-linejoin:round; stroke-width:2; stroke-opacity:0.1; fill:none\" points=\"\n",
       "  203.964,238.898 2352.76,238.898 \n",
       "  \"/>\n",
       "<polyline clip-path=\"url(#clip230)\" style=\"stroke:#000000; stroke-linecap:butt; stroke-linejoin:round; stroke-width:4; stroke-opacity:1; fill:none\" points=\"\n",
       "  203.964,1423.18 203.964,47.2441 \n",
       "  \"/>\n",
       "<polyline clip-path=\"url(#clip230)\" style=\"stroke:#000000; stroke-linecap:butt; stroke-linejoin:round; stroke-width:4; stroke-opacity:1; fill:none\" points=\"\n",
       "  203.964,1384.24 222.861,1384.24 \n",
       "  \"/>\n",
       "<polyline clip-path=\"url(#clip230)\" style=\"stroke:#000000; stroke-linecap:butt; stroke-linejoin:round; stroke-width:4; stroke-opacity:1; fill:none\" points=\"\n",
       "  203.964,1002.46 222.861,1002.46 \n",
       "  \"/>\n",
       "<polyline clip-path=\"url(#clip230)\" style=\"stroke:#000000; stroke-linecap:butt; stroke-linejoin:round; stroke-width:4; stroke-opacity:1; fill:none\" points=\"\n",
       "  203.964,620.678 222.861,620.678 \n",
       "  \"/>\n",
       "<polyline clip-path=\"url(#clip230)\" style=\"stroke:#000000; stroke-linecap:butt; stroke-linejoin:round; stroke-width:4; stroke-opacity:1; fill:none\" points=\"\n",
       "  203.964,238.898 222.861,238.898 \n",
       "  \"/>\n",
       "<path clip-path=\"url(#clip230)\" d=\"M156.019 1370.04 Q152.408 1370.04 150.579 1373.6 Q148.774 1377.14 148.774 1384.27 Q148.774 1391.38 150.579 1394.94 Q152.408 1398.49 156.019 1398.49 Q159.653 1398.49 161.459 1394.94 Q163.288 1391.38 163.288 1384.27 Q163.288 1377.14 161.459 1373.6 Q159.653 1370.04 156.019 1370.04 M156.019 1366.33 Q161.829 1366.33 164.885 1370.94 Q167.964 1375.52 167.964 1384.27 Q167.964 1393 164.885 1397.61 Q161.829 1402.19 156.019 1402.19 Q150.209 1402.19 147.13 1397.61 Q144.075 1393 144.075 1384.27 Q144.075 1375.52 147.13 1370.94 Q150.209 1366.33 156.019 1366.33 Z\" fill=\"#000000\" fill-rule=\"evenodd\" fill-opacity=\"1\" /><path clip-path=\"url(#clip230)\" d=\"M116.668 1015.8 L124.306 1015.8 L124.306 989.437 L115.996 991.104 L115.996 986.845 L124.26 985.178 L128.936 985.178 L128.936 1015.8 L136.575 1015.8 L136.575 1019.74 L116.668 1019.74 L116.668 1015.8 Z\" fill=\"#000000\" fill-rule=\"evenodd\" fill-opacity=\"1\" /><path clip-path=\"url(#clip230)\" d=\"M156.019 988.257 Q152.408 988.257 150.579 991.822 Q148.774 995.363 148.774 1002.49 Q148.774 1009.6 150.579 1013.16 Q152.408 1016.71 156.019 1016.71 Q159.653 1016.71 161.459 1013.16 Q163.288 1009.6 163.288 1002.49 Q163.288 995.363 161.459 991.822 Q159.653 988.257 156.019 988.257 M156.019 984.553 Q161.829 984.553 164.885 989.16 Q167.964 993.743 167.964 1002.49 Q167.964 1011.22 164.885 1015.83 Q161.829 1020.41 156.019 1020.41 Q150.209 1020.41 147.13 1015.83 Q144.075 1011.22 144.075 1002.49 Q144.075 993.743 147.13 989.16 Q150.209 984.553 156.019 984.553 Z\" fill=\"#000000\" fill-rule=\"evenodd\" fill-opacity=\"1\" /><path clip-path=\"url(#clip230)\" d=\"M119.885 634.023 L136.204 634.023 L136.204 637.958 L114.26 637.958 L114.26 634.023 Q116.922 631.268 121.505 626.639 Q126.112 621.986 127.292 620.643 Q129.538 618.12 130.417 616.384 Q131.32 614.625 131.32 612.935 Q131.32 610.18 129.376 608.444 Q127.455 606.708 124.353 606.708 Q122.154 606.708 119.7 607.472 Q117.269 608.236 114.492 609.787 L114.492 605.065 Q117.316 603.93 119.769 603.352 Q122.223 602.773 124.26 602.773 Q129.63 602.773 132.825 605.458 Q136.019 608.143 136.019 612.634 Q136.019 614.764 135.209 616.685 Q134.422 618.583 132.316 621.176 Q131.737 621.847 128.635 625.064 Q125.533 628.259 119.885 634.023 Z\" fill=\"#000000\" fill-rule=\"evenodd\" fill-opacity=\"1\" /><path clip-path=\"url(#clip230)\" d=\"M156.019 606.477 Q152.408 606.477 150.579 610.041 Q148.774 613.583 148.774 620.713 Q148.774 627.819 150.579 631.384 Q152.408 634.926 156.019 634.926 Q159.653 634.926 161.459 631.384 Q163.288 627.819 163.288 620.713 Q163.288 613.583 161.459 610.041 Q159.653 606.477 156.019 606.477 M156.019 602.773 Q161.829 602.773 164.885 607.379 Q167.964 611.963 167.964 620.713 Q167.964 629.439 164.885 634.046 Q161.829 638.629 156.019 638.629 Q150.209 638.629 147.13 634.046 Q144.075 629.439 144.075 620.713 Q144.075 611.963 147.13 607.379 Q150.209 602.773 156.019 602.773 Z\" fill=\"#000000\" fill-rule=\"evenodd\" fill-opacity=\"1\" /><path clip-path=\"url(#clip230)\" d=\"M130.024 237.544 Q133.38 238.261 135.255 240.53 Q137.154 242.798 137.154 246.131 Q137.154 251.247 133.635 254.048 Q130.117 256.849 123.635 256.849 Q121.459 256.849 119.144 256.409 Q116.853 255.993 114.399 255.136 L114.399 250.622 Q116.343 251.756 118.658 252.335 Q120.973 252.914 123.496 252.914 Q127.894 252.914 130.186 251.178 Q132.501 249.442 132.501 246.131 Q132.501 243.076 130.348 241.363 Q128.218 239.627 124.399 239.627 L120.371 239.627 L120.371 235.784 L124.584 235.784 Q128.033 235.784 129.862 234.419 Q131.691 233.03 131.691 230.437 Q131.691 227.775 129.792 226.363 Q127.917 224.928 124.399 224.928 Q122.478 224.928 120.279 225.345 Q118.08 225.761 115.441 226.641 L115.441 222.474 Q118.103 221.733 120.418 221.363 Q122.755 220.993 124.816 220.993 Q130.14 220.993 133.242 223.423 Q136.343 225.831 136.343 229.951 Q136.343 232.821 134.7 234.812 Q133.056 236.78 130.024 237.544 Z\" fill=\"#000000\" fill-rule=\"evenodd\" fill-opacity=\"1\" /><path clip-path=\"url(#clip230)\" d=\"M156.019 224.696 Q152.408 224.696 150.579 228.261 Q148.774 231.803 148.774 238.932 Q148.774 246.039 150.579 249.604 Q152.408 253.145 156.019 253.145 Q159.653 253.145 161.459 249.604 Q163.288 246.039 163.288 238.932 Q163.288 231.803 161.459 228.261 Q159.653 224.696 156.019 224.696 M156.019 220.993 Q161.829 220.993 164.885 225.599 Q167.964 230.183 167.964 238.932 Q167.964 247.659 164.885 252.266 Q161.829 256.849 156.019 256.849 Q150.209 256.849 147.13 252.266 Q144.075 247.659 144.075 238.932 Q144.075 230.183 147.13 225.599 Q150.209 220.993 156.019 220.993 Z\" fill=\"#000000\" fill-rule=\"evenodd\" fill-opacity=\"1\" /><path clip-path=\"url(#clip230)\" d=\"M16.4842 907.166 L16.4842 879.857 L21.895 879.857 L21.895 900.736 L35.8996 900.736 L35.8996 881.894 L41.3104 881.894 L41.3104 900.736 L64.0042 900.736 L64.0042 907.166 L16.4842 907.166 Z\" fill=\"#000000\" fill-rule=\"evenodd\" fill-opacity=\"1\" /><path clip-path=\"url(#clip230)\" d=\"M33.8307 854.012 Q33.2578 854.999 33.0032 856.176 Q32.7167 857.322 32.7167 858.723 Q32.7167 863.688 35.9632 866.361 Q39.1779 869.003 45.2253 869.003 L64.0042 869.003 L64.0042 874.891 L28.3562 874.891 L28.3562 869.003 L33.8944 869.003 Q30.6479 867.157 29.0883 864.197 Q27.4968 861.237 27.4968 857.004 Q27.4968 856.399 27.5923 855.667 Q27.656 854.935 27.8151 854.044 L33.8307 854.012 Z\" fill=\"#000000\" fill-rule=\"evenodd\" fill-opacity=\"1\" /><path clip-path=\"url(#clip230)\" d=\"M44.7161 818.81 L47.5806 818.81 L47.5806 845.737 Q53.6281 845.355 56.8109 842.108 Q59.9619 838.83 59.9619 833.005 Q59.9619 829.631 59.1344 826.48 Q58.3069 823.297 56.6518 820.178 L62.1899 820.178 Q63.5267 823.329 64.227 826.639 Q64.9272 829.95 64.9272 833.355 Q64.9272 841.885 59.9619 846.882 Q54.9967 851.848 46.5303 851.848 Q37.7774 851.848 32.6531 847.137 Q27.4968 842.395 27.4968 834.374 Q27.4968 827.181 32.1438 823.011 Q36.7589 818.81 44.7161 818.81 M42.9973 824.666 Q38.1912 824.73 35.3266 827.371 Q32.4621 829.981 32.4621 834.31 Q32.4621 839.212 35.2312 842.172 Q38.0002 845.1 43.0292 845.546 L42.9973 824.666 Z\" fill=\"#000000\" fill-rule=\"evenodd\" fill-opacity=\"1\" /><path clip-path=\"url(#clip230)\" d=\"M46.212 805.696 Q52.6732 805.696 56.3653 803.054 Q60.0256 800.381 60.0256 795.734 Q60.0256 791.087 56.3653 788.413 Q52.6732 785.74 46.212 785.74 Q39.7508 785.74 36.0905 788.413 Q32.3984 791.087 32.3984 795.734 Q32.3984 800.381 36.0905 803.054 Q39.7508 805.696 46.212 805.696 M58.657 785.74 Q61.8398 787.586 63.3994 790.419 Q64.9272 793.219 64.9272 797.166 Q64.9272 803.627 59.771 807.701 Q54.6147 811.744 46.212 811.744 Q37.8093 811.744 32.6531 807.701 Q27.4968 803.627 27.4968 797.166 Q27.4968 793.219 29.0564 790.419 Q30.5842 787.586 33.7671 785.74 L28.3562 785.74 L28.3562 779.883 L77.5631 779.883 L77.5631 785.74 L58.657 785.74 Z\" fill=\"#000000\" fill-rule=\"evenodd\" fill-opacity=\"1\" /><path clip-path=\"url(#clip230)\" d=\"M49.9359 768.425 L28.3562 768.425 L28.3562 762.569 L49.7131 762.569 Q54.7739 762.569 57.3202 760.595 Q59.8346 758.622 59.8346 754.675 Q59.8346 749.933 56.8109 747.195 Q53.7872 744.426 48.5673 744.426 L28.3562 744.426 L28.3562 738.57 L64.0042 738.57 L64.0042 744.426 L58.5296 744.426 Q61.7762 746.559 63.3676 749.392 Q64.9272 752.192 64.9272 755.916 Q64.9272 762.059 61.1078 765.242 Q57.2883 768.425 49.9359 768.425 M27.4968 753.688 L27.4968 753.688 Z\" fill=\"#000000\" fill-rule=\"evenodd\" fill-opacity=\"1\" /><path clip-path=\"url(#clip230)\" d=\"M44.7161 696.015 L47.5806 696.015 L47.5806 722.942 Q53.6281 722.56 56.8109 719.314 Q59.9619 716.035 59.9619 710.211 Q59.9619 706.837 59.1344 703.686 Q58.3069 700.503 56.6518 697.384 L62.1899 697.384 Q63.5267 700.535 64.227 703.845 Q64.9272 707.155 64.9272 710.561 Q64.9272 719.091 59.9619 724.088 Q54.9967 729.053 46.5303 729.053 Q37.7774 729.053 32.6531 724.343 Q27.4968 719.6 27.4968 711.579 Q27.4968 704.386 32.1438 700.216 Q36.7589 696.015 44.7161 696.015 M42.9973 701.872 Q38.1912 701.935 35.3266 704.577 Q32.4621 707.187 32.4621 711.516 Q32.4621 716.417 35.2312 719.377 Q38.0002 722.305 43.0292 722.751 L42.9973 701.872 M11.869 714.285 L11.869 709.574 L23.8365 701.776 L23.8365 706.2 L16.0386 711.929 L23.8365 717.659 L23.8365 722.083 L11.869 714.285 Z\" fill=\"#000000\" fill-rule=\"evenodd\" fill-opacity=\"1\" /><path clip-path=\"url(#clip230)\" d=\"M42.4881 656.771 L64.0042 656.771 L64.0042 662.627 L42.679 662.627 Q37.6183 662.627 35.1038 664.6 Q32.5894 666.574 32.5894 670.52 Q32.5894 675.263 35.6131 678 Q38.6368 680.737 43.8567 680.737 L64.0042 680.737 L64.0042 686.626 L28.3562 686.626 L28.3562 680.737 L33.8944 680.737 Q30.6797 678.637 29.0883 675.804 Q27.4968 672.939 27.4968 669.216 Q27.4968 663.073 31.3163 659.922 Q35.1038 656.771 42.4881 656.771 Z\" fill=\"#000000\" fill-rule=\"evenodd\" fill-opacity=\"1\" /><path clip-path=\"url(#clip230)\" d=\"M29.7248 619.436 L35.1993 619.436 Q33.8307 621.918 33.1623 624.433 Q32.4621 626.915 32.4621 629.462 Q32.4621 635.159 36.0905 638.31 Q39.6872 641.461 46.212 641.461 Q52.7369 641.461 56.3653 638.31 Q59.9619 635.159 59.9619 629.462 Q59.9619 626.915 59.2935 624.433 Q58.5933 621.918 57.2247 619.436 L62.6355 619.436 Q63.7814 621.886 64.3543 624.528 Q64.9272 627.138 64.9272 630.098 Q64.9272 638.151 59.8664 642.893 Q54.8057 647.636 46.212 647.636 Q37.491 647.636 32.4939 642.861 Q27.4968 638.055 27.4968 629.716 Q27.4968 627.011 28.0697 624.433 Q28.6108 621.855 29.7248 619.436 Z\" fill=\"#000000\" fill-rule=\"evenodd\" fill-opacity=\"1\" /><path clip-path=\"url(#clip230)\" d=\"M28.3562 609.251 L28.3562 603.394 L64.0042 603.394 L64.0042 609.251 L28.3562 609.251 M14.479 609.251 L14.479 603.394 L21.895 603.394 L21.895 609.251 L14.479 609.251 Z\" fill=\"#000000\" fill-rule=\"evenodd\" fill-opacity=\"1\" /><path clip-path=\"url(#clip230)\" d=\"M46.0847 574.939 Q46.0847 582.037 47.7079 584.774 Q49.3312 587.512 53.2461 587.512 Q56.3653 587.512 58.2114 585.475 Q60.0256 583.406 60.0256 579.873 Q60.0256 575.003 56.5881 572.075 Q53.1188 569.115 47.3897 569.115 L46.0847 569.115 L46.0847 574.939 M43.6657 563.258 L64.0042 563.258 L64.0042 569.115 L58.5933 569.115 Q61.8398 571.12 63.3994 574.112 Q64.9272 577.104 64.9272 581.432 Q64.9272 586.907 61.8716 590.153 Q58.7843 593.368 53.6281 593.368 Q47.6125 593.368 44.5569 589.358 Q41.5014 585.315 41.5014 577.327 L41.5014 569.115 L40.9285 569.115 Q36.8862 569.115 34.6901 571.788 Q32.4621 574.43 32.4621 579.236 Q32.4621 582.292 33.1941 585.188 Q33.9262 588.085 35.3903 590.758 L29.9795 590.758 Q28.7381 587.543 28.1334 584.52 Q27.4968 581.496 27.4968 578.631 Q27.4968 570.897 31.5072 567.078 Q35.5176 563.258 43.6657 563.258 Z\" fill=\"#000000\" fill-rule=\"evenodd\" fill-opacity=\"1\" /><path clip-path=\"url(#clip232)\" d=\"\n",
       "M892.011 1346.06 L892.011 1384.24 L959.035 1384.24 L959.035 1346.06 L892.011 1346.06 L892.011 1346.06  Z\n",
       "  \" fill=\"#009af9\" fill-rule=\"evenodd\" fill-opacity=\"1\"/>\n",
       "<polyline clip-path=\"url(#clip232)\" style=\"stroke:#000000; stroke-linecap:butt; stroke-linejoin:round; stroke-width:4; stroke-opacity:1; fill:none\" points=\"\n",
       "  892.011,1346.06 892.011,1384.24 959.035,1384.24 959.035,1346.06 892.011,1346.06 \n",
       "  \"/>\n",
       "<path clip-path=\"url(#clip232)\" d=\"\n",
       "M959.035 1155.17 L959.035 1384.24 L1026.06 1384.24 L1026.06 1155.17 L959.035 1155.17 L959.035 1155.17  Z\n",
       "  \" fill=\"#009af9\" fill-rule=\"evenodd\" fill-opacity=\"1\"/>\n",
       "<polyline clip-path=\"url(#clip232)\" style=\"stroke:#000000; stroke-linecap:butt; stroke-linejoin:round; stroke-width:4; stroke-opacity:1; fill:none\" points=\"\n",
       "  959.035,1155.17 959.035,1384.24 1026.06,1384.24 1026.06,1155.17 959.035,1155.17 \n",
       "  \"/>\n",
       "<path clip-path=\"url(#clip232)\" d=\"\n",
       "M1026.06 1193.35 L1026.06 1384.24 L1093.08 1384.24 L1093.08 1193.35 L1026.06 1193.35 L1026.06 1193.35  Z\n",
       "  \" fill=\"#009af9\" fill-rule=\"evenodd\" fill-opacity=\"1\"/>\n",
       "<polyline clip-path=\"url(#clip232)\" style=\"stroke:#000000; stroke-linecap:butt; stroke-linejoin:round; stroke-width:4; stroke-opacity:1; fill:none\" points=\"\n",
       "  1026.06,1193.35 1026.06,1384.24 1093.08,1384.24 1093.08,1193.35 1026.06,1193.35 \n",
       "  \"/>\n",
       "<path clip-path=\"url(#clip232)\" d=\"\n",
       "M1093.08 697.034 L1093.08 1384.24 L1160.11 1384.24 L1160.11 697.034 L1093.08 697.034 L1093.08 697.034  Z\n",
       "  \" fill=\"#009af9\" fill-rule=\"evenodd\" fill-opacity=\"1\"/>\n",
       "<polyline clip-path=\"url(#clip232)\" style=\"stroke:#000000; stroke-linecap:butt; stroke-linejoin:round; stroke-width:4; stroke-opacity:1; fill:none\" points=\"\n",
       "  1093.08,697.034 1093.08,1384.24 1160.11,1384.24 1160.11,697.034 1093.08,697.034 \n",
       "  \"/>\n",
       "<path clip-path=\"url(#clip232)\" d=\"\n",
       "M1160.11 620.678 L1160.11 1384.24 L1227.13 1384.24 L1227.13 620.678 L1160.11 620.678 L1160.11 620.678  Z\n",
       "  \" fill=\"#009af9\" fill-rule=\"evenodd\" fill-opacity=\"1\"/>\n",
       "<polyline clip-path=\"url(#clip232)\" style=\"stroke:#000000; stroke-linecap:butt; stroke-linejoin:round; stroke-width:4; stroke-opacity:1; fill:none\" points=\"\n",
       "  1160.11,620.678 1160.11,1384.24 1227.13,1384.24 1227.13,620.678 1160.11,620.678 \n",
       "  \"/>\n",
       "<path clip-path=\"url(#clip232)\" d=\"\n",
       "M1227.13 773.39 L1227.13 1384.24 L1294.15 1384.24 L1294.15 773.39 L1227.13 773.39 L1227.13 773.39  Z\n",
       "  \" fill=\"#009af9\" fill-rule=\"evenodd\" fill-opacity=\"1\"/>\n",
       "<polyline clip-path=\"url(#clip232)\" style=\"stroke:#000000; stroke-linecap:butt; stroke-linejoin:round; stroke-width:4; stroke-opacity:1; fill:none\" points=\"\n",
       "  1227.13,773.39 1227.13,1384.24 1294.15,1384.24 1294.15,773.39 1227.13,773.39 \n",
       "  \"/>\n",
       "<path clip-path=\"url(#clip232)\" d=\"\n",
       "M1294.15 773.39 L1294.15 1384.24 L1361.18 1384.24 L1361.18 773.39 L1294.15 773.39 L1294.15 773.39  Z\n",
       "  \" fill=\"#009af9\" fill-rule=\"evenodd\" fill-opacity=\"1\"/>\n",
       "<polyline clip-path=\"url(#clip232)\" style=\"stroke:#000000; stroke-linecap:butt; stroke-linejoin:round; stroke-width:4; stroke-opacity:1; fill:none\" points=\"\n",
       "  1294.15,773.39 1294.15,1384.24 1361.18,1384.24 1361.18,773.39 1294.15,773.39 \n",
       "  \"/>\n",
       "<path clip-path=\"url(#clip232)\" d=\"\n",
       "M1361.18 506.144 L1361.18 1384.24 L1428.2 1384.24 L1428.2 506.144 L1361.18 506.144 L1361.18 506.144  Z\n",
       "  \" fill=\"#009af9\" fill-rule=\"evenodd\" fill-opacity=\"1\"/>\n",
       "<polyline clip-path=\"url(#clip232)\" style=\"stroke:#000000; stroke-linecap:butt; stroke-linejoin:round; stroke-width:4; stroke-opacity:1; fill:none\" points=\"\n",
       "  1361.18,506.144 1361.18,1384.24 1428.2,1384.24 1428.2,506.144 1361.18,506.144 \n",
       "  \"/>\n",
       "<path clip-path=\"url(#clip232)\" d=\"\n",
       "M1428.2 620.678 L1428.2 1384.24 L1495.23 1384.24 L1495.23 620.678 L1428.2 620.678 L1428.2 620.678  Z\n",
       "  \" fill=\"#009af9\" fill-rule=\"evenodd\" fill-opacity=\"1\"/>\n",
       "<polyline clip-path=\"url(#clip232)\" style=\"stroke:#000000; stroke-linecap:butt; stroke-linejoin:round; stroke-width:4; stroke-opacity:1; fill:none\" points=\"\n",
       "  1428.2,620.678 1428.2,1384.24 1495.23,1384.24 1495.23,620.678 1428.2,620.678 \n",
       "  \"/>\n",
       "<path clip-path=\"url(#clip232)\" d=\"\n",
       "M1495.23 124.364 L1495.23 1384.24 L1562.25 1384.24 L1562.25 124.364 L1495.23 124.364 L1495.23 124.364  Z\n",
       "  \" fill=\"#009af9\" fill-rule=\"evenodd\" fill-opacity=\"1\"/>\n",
       "<polyline clip-path=\"url(#clip232)\" style=\"stroke:#000000; stroke-linecap:butt; stroke-linejoin:round; stroke-width:4; stroke-opacity:1; fill:none\" points=\"\n",
       "  1495.23,124.364 1495.23,1384.24 1562.25,1384.24 1562.25,124.364 1495.23,124.364 \n",
       "  \"/>\n",
       "<path clip-path=\"url(#clip232)\" d=\"\n",
       "M1562.25 467.966 L1562.25 1384.24 L1629.27 1384.24 L1629.27 467.966 L1562.25 467.966 L1562.25 467.966  Z\n",
       "  \" fill=\"#009af9\" fill-rule=\"evenodd\" fill-opacity=\"1\"/>\n",
       "<polyline clip-path=\"url(#clip232)\" style=\"stroke:#000000; stroke-linecap:butt; stroke-linejoin:round; stroke-width:4; stroke-opacity:1; fill:none\" points=\"\n",
       "  1562.25,467.966 1562.25,1384.24 1629.27,1384.24 1629.27,467.966 1562.25,467.966 \n",
       "  \"/>\n",
       "<path clip-path=\"url(#clip232)\" d=\"\n",
       "M1629.27 238.898 L1629.27 1384.24 L1696.3 1384.24 L1696.3 238.898 L1629.27 238.898 L1629.27 238.898  Z\n",
       "  \" fill=\"#009af9\" fill-rule=\"evenodd\" fill-opacity=\"1\"/>\n",
       "<polyline clip-path=\"url(#clip232)\" style=\"stroke:#000000; stroke-linecap:butt; stroke-linejoin:round; stroke-width:4; stroke-opacity:1; fill:none\" points=\"\n",
       "  1629.27,238.898 1629.27,1384.24 1696.3,1384.24 1696.3,238.898 1629.27,238.898 \n",
       "  \"/>\n",
       "<path clip-path=\"url(#clip232)\" d=\"\n",
       "M1696.3 162.542 L1696.3 1384.24 L1763.32 1384.24 L1763.32 162.542 L1696.3 162.542 L1696.3 162.542  Z\n",
       "  \" fill=\"#009af9\" fill-rule=\"evenodd\" fill-opacity=\"1\"/>\n",
       "<polyline clip-path=\"url(#clip232)\" style=\"stroke:#000000; stroke-linecap:butt; stroke-linejoin:round; stroke-width:4; stroke-opacity:1; fill:none\" points=\"\n",
       "  1696.3,162.542 1696.3,1384.24 1763.32,1384.24 1763.32,162.542 1696.3,162.542 \n",
       "  \"/>\n",
       "<path clip-path=\"url(#clip232)\" d=\"\n",
       "M1763.32 86.1857 L1763.32 1384.24 L1830.35 1384.24 L1830.35 86.1857 L1763.32 86.1857 L1763.32 86.1857  Z\n",
       "  \" fill=\"#009af9\" fill-rule=\"evenodd\" fill-opacity=\"1\"/>\n",
       "<polyline clip-path=\"url(#clip232)\" style=\"stroke:#000000; stroke-linecap:butt; stroke-linejoin:round; stroke-width:4; stroke-opacity:1; fill:none\" points=\"\n",
       "  1763.32,86.1857 1763.32,1384.24 1830.35,1384.24 1830.35,86.1857 1763.32,86.1857 \n",
       "  \"/>\n",
       "<path clip-path=\"url(#clip232)\" d=\"\n",
       "M1830.35 162.542 L1830.35 1384.24 L1897.37 1384.24 L1897.37 162.542 L1830.35 162.542 L1830.35 162.542  Z\n",
       "  \" fill=\"#009af9\" fill-rule=\"evenodd\" fill-opacity=\"1\"/>\n",
       "<polyline clip-path=\"url(#clip232)\" style=\"stroke:#000000; stroke-linecap:butt; stroke-linejoin:round; stroke-width:4; stroke-opacity:1; fill:none\" points=\"\n",
       "  1830.35,162.542 1830.35,1384.24 1897.37,1384.24 1897.37,162.542 1830.35,162.542 \n",
       "  \"/>\n",
       "<path clip-path=\"url(#clip232)\" d=\"\n",
       "M1897.37 200.72 L1897.37 1384.24 L1964.39 1384.24 L1964.39 200.72 L1897.37 200.72 L1897.37 200.72  Z\n",
       "  \" fill=\"#009af9\" fill-rule=\"evenodd\" fill-opacity=\"1\"/>\n",
       "<polyline clip-path=\"url(#clip232)\" style=\"stroke:#000000; stroke-linecap:butt; stroke-linejoin:round; stroke-width:4; stroke-opacity:1; fill:none\" points=\"\n",
       "  1897.37,200.72 1897.37,1384.24 1964.39,1384.24 1964.39,200.72 1897.37,200.72 \n",
       "  \"/>\n",
       "<path clip-path=\"url(#clip232)\" d=\"\n",
       "M1964.39 277.076 L1964.39 1384.24 L2031.42 1384.24 L2031.42 277.076 L1964.39 277.076 L1964.39 277.076  Z\n",
       "  \" fill=\"#009af9\" fill-rule=\"evenodd\" fill-opacity=\"1\"/>\n",
       "<polyline clip-path=\"url(#clip232)\" style=\"stroke:#000000; stroke-linecap:butt; stroke-linejoin:round; stroke-width:4; stroke-opacity:1; fill:none\" points=\"\n",
       "  1964.39,277.076 1964.39,1384.24 2031.42,1384.24 2031.42,277.076 1964.39,277.076 \n",
       "  \"/>\n",
       "<path clip-path=\"url(#clip232)\" d=\"\n",
       "M2031.42 658.856 L2031.42 1384.24 L2098.44 1384.24 L2098.44 658.856 L2031.42 658.856 L2031.42 658.856  Z\n",
       "  \" fill=\"#009af9\" fill-rule=\"evenodd\" fill-opacity=\"1\"/>\n",
       "<polyline clip-path=\"url(#clip232)\" style=\"stroke:#000000; stroke-linecap:butt; stroke-linejoin:round; stroke-width:4; stroke-opacity:1; fill:none\" points=\"\n",
       "  2031.42,658.856 2031.42,1384.24 2098.44,1384.24 2098.44,658.856 2031.42,658.856 \n",
       "  \"/>\n",
       "<path clip-path=\"url(#clip232)\" d=\"\n",
       "M2098.44 429.788 L2098.44 1384.24 L2165.47 1384.24 L2165.47 429.788 L2098.44 429.788 L2098.44 429.788  Z\n",
       "  \" fill=\"#009af9\" fill-rule=\"evenodd\" fill-opacity=\"1\"/>\n",
       "<polyline clip-path=\"url(#clip232)\" style=\"stroke:#000000; stroke-linecap:butt; stroke-linejoin:round; stroke-width:4; stroke-opacity:1; fill:none\" points=\"\n",
       "  2098.44,429.788 2098.44,1384.24 2165.47,1384.24 2165.47,429.788 2098.44,429.788 \n",
       "  \"/>\n",
       "<path clip-path=\"url(#clip232)\" d=\"\n",
       "M2165.47 773.39 L2165.47 1384.24 L2232.49 1384.24 L2232.49 773.39 L2165.47 773.39 L2165.47 773.39  Z\n",
       "  \" fill=\"#009af9\" fill-rule=\"evenodd\" fill-opacity=\"1\"/>\n",
       "<polyline clip-path=\"url(#clip232)\" style=\"stroke:#000000; stroke-linecap:butt; stroke-linejoin:round; stroke-width:4; stroke-opacity:1; fill:none\" points=\"\n",
       "  2165.47,773.39 2165.47,1384.24 2232.49,1384.24 2232.49,773.39 2165.47,773.39 \n",
       "  \"/>\n",
       "<path clip-path=\"url(#clip232)\" d=\"\n",
       "M2232.49 697.034 L2232.49 1384.24 L2299.51 1384.24 L2299.51 697.034 L2232.49 697.034 L2232.49 697.034  Z\n",
       "  \" fill=\"#009af9\" fill-rule=\"evenodd\" fill-opacity=\"1\"/>\n",
       "<polyline clip-path=\"url(#clip232)\" style=\"stroke:#000000; stroke-linecap:butt; stroke-linejoin:round; stroke-width:4; stroke-opacity:1; fill:none\" points=\"\n",
       "  2232.49,697.034 2232.49,1384.24 2299.51,1384.24 2299.51,697.034 2232.49,697.034 \n",
       "  \"/>\n",
       "<path clip-path=\"url(#clip232)\" d=\"\n",
       "M2299.51 697.034 L2299.51 1384.24 L2366.54 1384.24 L2366.54 697.034 L2299.51 697.034 L2299.51 697.034  Z\n",
       "  \" fill=\"#009af9\" fill-rule=\"evenodd\" fill-opacity=\"1\"/>\n",
       "<polyline clip-path=\"url(#clip232)\" style=\"stroke:#000000; stroke-linecap:butt; stroke-linejoin:round; stroke-width:4; stroke-opacity:1; fill:none\" points=\"\n",
       "  2299.51,697.034 2299.51,1384.24 2366.54,1384.24 2366.54,697.034 2299.51,697.034 \n",
       "  \"/>\n",
       "<path clip-path=\"url(#clip232)\" d=\"\n",
       "M2366.54 735.212 L2366.54 1384.24 L2433.56 1384.24 L2433.56 735.212 L2366.54 735.212 L2366.54 735.212  Z\n",
       "  \" fill=\"#009af9\" fill-rule=\"evenodd\" fill-opacity=\"1\"/>\n",
       "<polyline clip-path=\"url(#clip232)\" style=\"stroke:#000000; stroke-linecap:butt; stroke-linejoin:round; stroke-width:4; stroke-opacity:1; fill:none\" points=\"\n",
       "  2366.54,735.212 2366.54,1384.24 2433.56,1384.24 2433.56,735.212 2366.54,735.212 \n",
       "  \"/>\n",
       "<path clip-path=\"url(#clip232)\" d=\"\n",
       "M2433.56 697.034 L2433.56 1384.24 L2500.59 1384.24 L2500.59 697.034 L2433.56 697.034 L2433.56 697.034  Z\n",
       "  \" fill=\"#009af9\" fill-rule=\"evenodd\" fill-opacity=\"1\"/>\n",
       "<polyline clip-path=\"url(#clip232)\" style=\"stroke:#000000; stroke-linecap:butt; stroke-linejoin:round; stroke-width:4; stroke-opacity:1; fill:none\" points=\"\n",
       "  2433.56,697.034 2433.56,1384.24 2500.59,1384.24 2500.59,697.034 2433.56,697.034 \n",
       "  \"/>\n",
       "<path clip-path=\"url(#clip232)\" d=\"\n",
       "M2500.59 658.856 L2500.59 1384.24 L2567.61 1384.24 L2567.61 658.856 L2500.59 658.856 L2500.59 658.856  Z\n",
       "  \" fill=\"#009af9\" fill-rule=\"evenodd\" fill-opacity=\"1\"/>\n",
       "<polyline clip-path=\"url(#clip232)\" style=\"stroke:#000000; stroke-linecap:butt; stroke-linejoin:round; stroke-width:4; stroke-opacity:1; fill:none\" points=\"\n",
       "  2500.59,658.856 2500.59,1384.24 2567.61,1384.24 2567.61,658.856 2500.59,658.856 \n",
       "  \"/>\n",
       "<path clip-path=\"url(#clip232)\" d=\"\n",
       "M2567.61 887.924 L2567.61 1384.24 L2634.63 1384.24 L2634.63 887.924 L2567.61 887.924 L2567.61 887.924  Z\n",
       "  \" fill=\"#009af9\" fill-rule=\"evenodd\" fill-opacity=\"1\"/>\n",
       "<polyline clip-path=\"url(#clip232)\" style=\"stroke:#000000; stroke-linecap:butt; stroke-linejoin:round; stroke-width:4; stroke-opacity:1; fill:none\" points=\"\n",
       "  2567.61,887.924 2567.61,1384.24 2634.63,1384.24 2634.63,887.924 2567.61,887.924 \n",
       "  \"/>\n",
       "<path clip-path=\"url(#clip232)\" d=\"\n",
       "M2634.63 1002.46 L2634.63 1384.24 L2701.66 1384.24 L2701.66 1002.46 L2634.63 1002.46 L2634.63 1002.46  Z\n",
       "  \" fill=\"#009af9\" fill-rule=\"evenodd\" fill-opacity=\"1\"/>\n",
       "<polyline clip-path=\"url(#clip232)\" style=\"stroke:#000000; stroke-linecap:butt; stroke-linejoin:round; stroke-width:4; stroke-opacity:1; fill:none\" points=\"\n",
       "  2634.63,1002.46 2634.63,1384.24 2701.66,1384.24 2701.66,1002.46 2634.63,1002.46 \n",
       "  \"/>\n",
       "<path clip-path=\"url(#clip232)\" d=\"\n",
       "M2701.66 1231.53 L2701.66 1384.24 L2768.68 1384.24 L2768.68 1231.53 L2701.66 1231.53 L2701.66 1231.53  Z\n",
       "  \" fill=\"#009af9\" fill-rule=\"evenodd\" fill-opacity=\"1\"/>\n",
       "<polyline clip-path=\"url(#clip232)\" style=\"stroke:#000000; stroke-linecap:butt; stroke-linejoin:round; stroke-width:4; stroke-opacity:1; fill:none\" points=\"\n",
       "  2701.66,1231.53 2701.66,1384.24 2768.68,1384.24 2768.68,1231.53 2701.66,1231.53 \n",
       "  \"/>\n",
       "<path clip-path=\"url(#clip232)\" d=\"\n",
       "M2768.68 1231.53 L2768.68 1384.24 L2835.71 1384.24 L2835.71 1231.53 L2768.68 1231.53 L2768.68 1231.53  Z\n",
       "  \" fill=\"#009af9\" fill-rule=\"evenodd\" fill-opacity=\"1\"/>\n",
       "<polyline clip-path=\"url(#clip232)\" style=\"stroke:#000000; stroke-linecap:butt; stroke-linejoin:round; stroke-width:4; stroke-opacity:1; fill:none\" points=\"\n",
       "  2768.68,1231.53 2768.68,1384.24 2835.71,1384.24 2835.71,1231.53 2768.68,1231.53 \n",
       "  \"/>\n",
       "<path clip-path=\"url(#clip232)\" d=\"\n",
       "M2835.71 1193.35 L2835.71 1384.24 L2902.73 1384.24 L2902.73 1193.35 L2835.71 1193.35 L2835.71 1193.35  Z\n",
       "  \" fill=\"#009af9\" fill-rule=\"evenodd\" fill-opacity=\"1\"/>\n",
       "<polyline clip-path=\"url(#clip232)\" style=\"stroke:#000000; stroke-linecap:butt; stroke-linejoin:round; stroke-width:4; stroke-opacity:1; fill:none\" points=\"\n",
       "  2835.71,1193.35 2835.71,1384.24 2902.73,1384.24 2902.73,1193.35 2835.71,1193.35 \n",
       "  \"/>\n",
       "<path clip-path=\"url(#clip232)\" d=\"\n",
       "M2902.73 1193.35 L2902.73 1384.24 L2969.75 1384.24 L2969.75 1193.35 L2902.73 1193.35 L2902.73 1193.35  Z\n",
       "  \" fill=\"#009af9\" fill-rule=\"evenodd\" fill-opacity=\"1\"/>\n",
       "<polyline clip-path=\"url(#clip232)\" style=\"stroke:#000000; stroke-linecap:butt; stroke-linejoin:round; stroke-width:4; stroke-opacity:1; fill:none\" points=\"\n",
       "  2902.73,1193.35 2902.73,1384.24 2969.75,1384.24 2969.75,1193.35 2902.73,1193.35 \n",
       "  \"/>\n",
       "<path clip-path=\"url(#clip232)\" d=\"\n",
       "M2969.75 1384.24 L2969.75 1384.24 L3036.78 1384.24 L3036.78 1384.24 L2969.75 1384.24 L2969.75 1384.24  Z\n",
       "  \" fill=\"#009af9\" fill-rule=\"evenodd\" fill-opacity=\"1\"/>\n",
       "<polyline clip-path=\"url(#clip232)\" style=\"stroke:#000000; stroke-linecap:butt; stroke-linejoin:round; stroke-width:4; stroke-opacity:1; fill:none\" points=\"\n",
       "  2969.75,1384.24 2969.75,1384.24 3036.78,1384.24 2969.75,1384.24 \n",
       "  \"/>\n",
       "<path clip-path=\"url(#clip232)\" d=\"\n",
       "M3036.78 1193.35 L3036.78 1384.24 L3103.8 1384.24 L3103.8 1193.35 L3036.78 1193.35 L3036.78 1193.35  Z\n",
       "  \" fill=\"#009af9\" fill-rule=\"evenodd\" fill-opacity=\"1\"/>\n",
       "<polyline clip-path=\"url(#clip232)\" style=\"stroke:#000000; stroke-linecap:butt; stroke-linejoin:round; stroke-width:4; stroke-opacity:1; fill:none\" points=\"\n",
       "  3036.78,1193.35 3036.78,1384.24 3103.8,1384.24 3103.8,1193.35 3036.78,1193.35 \n",
       "  \"/>\n",
       "<path clip-path=\"url(#clip232)\" d=\"\n",
       "M3103.8 1307.88 L3103.8 1384.24 L3170.83 1384.24 L3170.83 1307.88 L3103.8 1307.88 L3103.8 1307.88  Z\n",
       "  \" fill=\"#009af9\" fill-rule=\"evenodd\" fill-opacity=\"1\"/>\n",
       "<polyline clip-path=\"url(#clip232)\" style=\"stroke:#000000; stroke-linecap:butt; stroke-linejoin:round; stroke-width:4; stroke-opacity:1; fill:none\" points=\"\n",
       "  3103.8,1307.88 3103.8,1384.24 3170.83,1384.24 3170.83,1307.88 3103.8,1307.88 \n",
       "  \"/>\n",
       "<path clip-path=\"url(#clip232)\" d=\"\n",
       "M3170.83 1307.88 L3170.83 1384.24 L3237.85 1384.24 L3237.85 1307.88 L3170.83 1307.88 L3170.83 1307.88  Z\n",
       "  \" fill=\"#009af9\" fill-rule=\"evenodd\" fill-opacity=\"1\"/>\n",
       "<polyline clip-path=\"url(#clip232)\" style=\"stroke:#000000; stroke-linecap:butt; stroke-linejoin:round; stroke-width:4; stroke-opacity:1; fill:none\" points=\"\n",
       "  3170.83,1307.88 3170.83,1384.24 3237.85,1384.24 3237.85,1307.88 3170.83,1307.88 \n",
       "  \"/>\n",
       "<path clip-path=\"url(#clip232)\" d=\"\n",
       "M3237.85 1346.06 L3237.85 1384.24 L3304.87 1384.24 L3304.87 1346.06 L3237.85 1346.06 L3237.85 1346.06  Z\n",
       "  \" fill=\"#009af9\" fill-rule=\"evenodd\" fill-opacity=\"1\"/>\n",
       "<polyline clip-path=\"url(#clip232)\" style=\"stroke:#000000; stroke-linecap:butt; stroke-linejoin:round; stroke-width:4; stroke-opacity:1; fill:none\" points=\"\n",
       "  3237.85,1346.06 3237.85,1384.24 3304.87,1384.24 3304.87,1346.06 3237.85,1346.06 \n",
       "  \"/>\n",
       "<path clip-path=\"url(#clip232)\" d=\"\n",
       "M3304.87 1346.06 L3304.87 1384.24 L3371.9 1384.24 L3371.9 1346.06 L3304.87 1346.06 L3304.87 1346.06  Z\n",
       "  \" fill=\"#009af9\" fill-rule=\"evenodd\" fill-opacity=\"1\"/>\n",
       "<polyline clip-path=\"url(#clip232)\" style=\"stroke:#000000; stroke-linecap:butt; stroke-linejoin:round; stroke-width:4; stroke-opacity:1; fill:none\" points=\"\n",
       "  3304.87,1346.06 3304.87,1384.24 3371.9,1384.24 3371.9,1346.06 3304.87,1346.06 \n",
       "  \"/>\n",
       "<path clip-path=\"url(#clip232)\" d=\"\n",
       "M3371.9 1346.06 L3371.9 1384.24 L3438.92 1384.24 L3438.92 1346.06 L3371.9 1346.06 L3371.9 1346.06  Z\n",
       "  \" fill=\"#009af9\" fill-rule=\"evenodd\" fill-opacity=\"1\"/>\n",
       "<polyline clip-path=\"url(#clip232)\" style=\"stroke:#000000; stroke-linecap:butt; stroke-linejoin:round; stroke-width:4; stroke-opacity:1; fill:none\" points=\"\n",
       "  3371.9,1346.06 3371.9,1384.24 3438.92,1384.24 3438.92,1346.06 3371.9,1346.06 \n",
       "  \"/>\n",
       "<path clip-path=\"url(#clip232)\" d=\"\n",
       "M3438.92 1384.24 L3438.92 1384.24 L3505.95 1384.24 L3505.95 1384.24 L3438.92 1384.24 L3438.92 1384.24  Z\n",
       "  \" fill=\"#009af9\" fill-rule=\"evenodd\" fill-opacity=\"1\"/>\n",
       "<polyline clip-path=\"url(#clip232)\" style=\"stroke:#000000; stroke-linecap:butt; stroke-linejoin:round; stroke-width:4; stroke-opacity:1; fill:none\" points=\"\n",
       "  3438.92,1384.24 3438.92,1384.24 3505.95,1384.24 3438.92,1384.24 \n",
       "  \"/>\n",
       "<path clip-path=\"url(#clip232)\" d=\"\n",
       "M3505.95 1384.24 L3505.95 1384.24 L3572.97 1384.24 L3572.97 1384.24 L3505.95 1384.24 L3505.95 1384.24  Z\n",
       "  \" fill=\"#009af9\" fill-rule=\"evenodd\" fill-opacity=\"1\"/>\n",
       "<polyline clip-path=\"url(#clip232)\" style=\"stroke:#000000; stroke-linecap:butt; stroke-linejoin:round; stroke-width:4; stroke-opacity:1; fill:none\" points=\"\n",
       "  3505.95,1384.24 3505.95,1384.24 3572.97,1384.24 3505.95,1384.24 \n",
       "  \"/>\n",
       "<path clip-path=\"url(#clip232)\" d=\"\n",
       "M3572.97 1307.88 L3572.97 1384.24 L3639.99 1384.24 L3639.99 1307.88 L3572.97 1307.88 L3572.97 1307.88  Z\n",
       "  \" fill=\"#009af9\" fill-rule=\"evenodd\" fill-opacity=\"1\"/>\n",
       "<polyline clip-path=\"url(#clip232)\" style=\"stroke:#000000; stroke-linecap:butt; stroke-linejoin:round; stroke-width:4; stroke-opacity:1; fill:none\" points=\"\n",
       "  3572.97,1307.88 3572.97,1384.24 3639.99,1384.24 3639.99,1307.88 3572.97,1307.88 \n",
       "  \"/>\n",
       "<path clip-path=\"url(#clip232)\" d=\"\n",
       "M3639.99 1346.06 L3639.99 1384.24 L3707.02 1384.24 L3707.02 1346.06 L3639.99 1346.06 L3639.99 1346.06  Z\n",
       "  \" fill=\"#009af9\" fill-rule=\"evenodd\" fill-opacity=\"1\"/>\n",
       "<polyline clip-path=\"url(#clip232)\" style=\"stroke:#000000; stroke-linecap:butt; stroke-linejoin:round; stroke-width:4; stroke-opacity:1; fill:none\" points=\"\n",
       "  3639.99,1346.06 3639.99,1384.24 3707.02,1384.24 3707.02,1346.06 3639.99,1346.06 \n",
       "  \"/>\n",
       "<path clip-path=\"url(#clip232)\" d=\"\n",
       "M3707.02 1384.24 L3707.02 1384.24 L3774.04 1384.24 L3774.04 1384.24 L3707.02 1384.24 L3707.02 1384.24  Z\n",
       "  \" fill=\"#009af9\" fill-rule=\"evenodd\" fill-opacity=\"1\"/>\n",
       "<polyline clip-path=\"url(#clip232)\" style=\"stroke:#000000; stroke-linecap:butt; stroke-linejoin:round; stroke-width:4; stroke-opacity:1; fill:none\" points=\"\n",
       "  3707.02,1384.24 3707.02,1384.24 3774.04,1384.24 3707.02,1384.24 \n",
       "  \"/>\n",
       "<path clip-path=\"url(#clip232)\" d=\"\n",
       "M3774.04 1384.24 L3774.04 1384.24 L3841.07 1384.24 L3841.07 1384.24 L3774.04 1384.24 L3774.04 1384.24  Z\n",
       "  \" fill=\"#009af9\" fill-rule=\"evenodd\" fill-opacity=\"1\"/>\n",
       "<polyline clip-path=\"url(#clip232)\" style=\"stroke:#000000; stroke-linecap:butt; stroke-linejoin:round; stroke-width:4; stroke-opacity:1; fill:none\" points=\"\n",
       "  3774.04,1384.24 3774.04,1384.24 3841.07,1384.24 3774.04,1384.24 \n",
       "  \"/>\n",
       "<path clip-path=\"url(#clip232)\" d=\"\n",
       "M3841.07 1384.24 L3841.07 1384.24 L3908.09 1384.24 L3908.09 1384.24 L3841.07 1384.24 L3841.07 1384.24  Z\n",
       "  \" fill=\"#009af9\" fill-rule=\"evenodd\" fill-opacity=\"1\"/>\n",
       "<polyline clip-path=\"url(#clip232)\" style=\"stroke:#000000; stroke-linecap:butt; stroke-linejoin:round; stroke-width:4; stroke-opacity:1; fill:none\" points=\"\n",
       "  3841.07,1384.24 3841.07,1384.24 3908.09,1384.24 3841.07,1384.24 \n",
       "  \"/>\n",
       "<path clip-path=\"url(#clip232)\" d=\"\n",
       "M3908.09 1384.24 L3908.09 1384.24 L3975.11 1384.24 L3975.11 1384.24 L3908.09 1384.24 L3908.09 1384.24  Z\n",
       "  \" fill=\"#009af9\" fill-rule=\"evenodd\" fill-opacity=\"1\"/>\n",
       "<polyline clip-path=\"url(#clip232)\" style=\"stroke:#000000; stroke-linecap:butt; stroke-linejoin:round; stroke-width:4; stroke-opacity:1; fill:none\" points=\"\n",
       "  3908.09,1384.24 3908.09,1384.24 3975.11,1384.24 3908.09,1384.24 \n",
       "  \"/>\n",
       "<path clip-path=\"url(#clip232)\" d=\"\n",
       "M3975.11 1346.06 L3975.11 1384.24 L4042.14 1384.24 L4042.14 1346.06 L3975.11 1346.06 L3975.11 1346.06  Z\n",
       "  \" fill=\"#009af9\" fill-rule=\"evenodd\" fill-opacity=\"1\"/>\n",
       "<polyline clip-path=\"url(#clip232)\" style=\"stroke:#000000; stroke-linecap:butt; stroke-linejoin:round; stroke-width:4; stroke-opacity:1; fill:none\" points=\"\n",
       "  3975.11,1346.06 3975.11,1384.24 4042.14,1384.24 4042.14,1346.06 3975.11,1346.06 \n",
       "  \"/>\n",
       "<path clip-path=\"url(#clip232)\" d=\"\n",
       "M4042.14 1384.24 L4042.14 1384.24 L4109.16 1384.24 L4109.16 1384.24 L4042.14 1384.24 L4042.14 1384.24  Z\n",
       "  \" fill=\"#009af9\" fill-rule=\"evenodd\" fill-opacity=\"1\"/>\n",
       "<polyline clip-path=\"url(#clip232)\" style=\"stroke:#000000; stroke-linecap:butt; stroke-linejoin:round; stroke-width:4; stroke-opacity:1; fill:none\" points=\"\n",
       "  4042.14,1384.24 4042.14,1384.24 4109.16,1384.24 4042.14,1384.24 \n",
       "  \"/>\n",
       "<path clip-path=\"url(#clip232)\" d=\"\n",
       "M4109.16 1384.24 L4109.16 1384.24 L4176.19 1384.24 L4176.19 1384.24 L4109.16 1384.24 L4109.16 1384.24  Z\n",
       "  \" fill=\"#009af9\" fill-rule=\"evenodd\" fill-opacity=\"1\"/>\n",
       "<polyline clip-path=\"url(#clip232)\" style=\"stroke:#000000; stroke-linecap:butt; stroke-linejoin:round; stroke-width:4; stroke-opacity:1; fill:none\" points=\"\n",
       "  4109.16,1384.24 4109.16,1384.24 4176.19,1384.24 4109.16,1384.24 \n",
       "  \"/>\n",
       "<path clip-path=\"url(#clip232)\" d=\"\n",
       "M4176.19 1384.24 L4176.19 1384.24 L4243.21 1384.24 L4243.21 1384.24 L4176.19 1384.24 L4176.19 1384.24  Z\n",
       "  \" fill=\"#009af9\" fill-rule=\"evenodd\" fill-opacity=\"1\"/>\n",
       "<polyline clip-path=\"url(#clip232)\" style=\"stroke:#000000; stroke-linecap:butt; stroke-linejoin:round; stroke-width:4; stroke-opacity:1; fill:none\" points=\"\n",
       "  4176.19,1384.24 4176.19,1384.24 4243.21,1384.24 4176.19,1384.24 \n",
       "  \"/>\n",
       "<path clip-path=\"url(#clip232)\" d=\"\n",
       "M4243.21 1384.24 L4243.21 1384.24 L4310.23 1384.24 L4310.23 1384.24 L4243.21 1384.24 L4243.21 1384.24  Z\n",
       "  \" fill=\"#009af9\" fill-rule=\"evenodd\" fill-opacity=\"1\"/>\n",
       "<polyline clip-path=\"url(#clip232)\" style=\"stroke:#000000; stroke-linecap:butt; stroke-linejoin:round; stroke-width:4; stroke-opacity:1; fill:none\" points=\"\n",
       "  4243.21,1384.24 4243.21,1384.24 4310.23,1384.24 4243.21,1384.24 \n",
       "  \"/>\n",
       "<path clip-path=\"url(#clip232)\" d=\"\n",
       "M4310.23 1384.24 L4310.23 1384.24 L4377.26 1384.24 L4377.26 1384.24 L4310.23 1384.24 L4310.23 1384.24  Z\n",
       "  \" fill=\"#009af9\" fill-rule=\"evenodd\" fill-opacity=\"1\"/>\n",
       "<polyline clip-path=\"url(#clip232)\" style=\"stroke:#000000; stroke-linecap:butt; stroke-linejoin:round; stroke-width:4; stroke-opacity:1; fill:none\" points=\"\n",
       "  4310.23,1384.24 4310.23,1384.24 4377.26,1384.24 4310.23,1384.24 \n",
       "  \"/>\n",
       "<path clip-path=\"url(#clip232)\" d=\"\n",
       "M4377.26 1346.06 L4377.26 1384.24 L4444.28 1384.24 L4444.28 1346.06 L4377.26 1346.06 L4377.26 1346.06  Z\n",
       "  \" fill=\"#009af9\" fill-rule=\"evenodd\" fill-opacity=\"1\"/>\n",
       "<polyline clip-path=\"url(#clip232)\" style=\"stroke:#000000; stroke-linecap:butt; stroke-linejoin:round; stroke-width:4; stroke-opacity:1; fill:none\" points=\"\n",
       "  4377.26,1346.06 4377.26,1384.24 4444.28,1384.24 4444.28,1346.06 4377.26,1346.06 \n",
       "  \"/>\n",
       "<path clip-path=\"url(#clip232)\" d=\"\n",
       "M4444.28 1384.24 L4444.28 1384.24 L4511.31 1384.24 L4511.31 1384.24 L4444.28 1384.24 L4444.28 1384.24  Z\n",
       "  \" fill=\"#009af9\" fill-rule=\"evenodd\" fill-opacity=\"1\"/>\n",
       "<polyline clip-path=\"url(#clip232)\" style=\"stroke:#000000; stroke-linecap:butt; stroke-linejoin:round; stroke-width:4; stroke-opacity:1; fill:none\" points=\"\n",
       "  4444.28,1384.24 4444.28,1384.24 4511.31,1384.24 4444.28,1384.24 \n",
       "  \"/>\n",
       "<path clip-path=\"url(#clip232)\" d=\"\n",
       "M4511.31 1384.24 L4511.31 1384.24 L4578.33 1384.24 L4578.33 1384.24 L4511.31 1384.24 L4511.31 1384.24  Z\n",
       "  \" fill=\"#009af9\" fill-rule=\"evenodd\" fill-opacity=\"1\"/>\n",
       "<polyline clip-path=\"url(#clip232)\" style=\"stroke:#000000; stroke-linecap:butt; stroke-linejoin:round; stroke-width:4; stroke-opacity:1; fill:none\" points=\"\n",
       "  4511.31,1384.24 4511.31,1384.24 4578.33,1384.24 4511.31,1384.24 \n",
       "  \"/>\n",
       "<path clip-path=\"url(#clip232)\" d=\"\n",
       "M4578.33 1384.24 L4578.33 1384.24 L4645.35 1384.24 L4645.35 1384.24 L4578.33 1384.24 L4578.33 1384.24  Z\n",
       "  \" fill=\"#009af9\" fill-rule=\"evenodd\" fill-opacity=\"1\"/>\n",
       "<polyline clip-path=\"url(#clip232)\" style=\"stroke:#000000; stroke-linecap:butt; stroke-linejoin:round; stroke-width:4; stroke-opacity:1; fill:none\" points=\"\n",
       "  4578.33,1384.24 4578.33,1384.24 4645.35,1384.24 4578.33,1384.24 \n",
       "  \"/>\n",
       "<path clip-path=\"url(#clip232)\" d=\"\n",
       "M4645.35 1384.24 L4645.35 1384.24 L4712.38 1384.24 L4712.38 1384.24 L4645.35 1384.24 L4645.35 1384.24  Z\n",
       "  \" fill=\"#009af9\" fill-rule=\"evenodd\" fill-opacity=\"1\"/>\n",
       "<polyline clip-path=\"url(#clip232)\" style=\"stroke:#000000; stroke-linecap:butt; stroke-linejoin:round; stroke-width:4; stroke-opacity:1; fill:none\" points=\"\n",
       "  4645.35,1384.24 4645.35,1384.24 4712.38,1384.24 4645.35,1384.24 \n",
       "  \"/>\n",
       "<path clip-path=\"url(#clip232)\" d=\"\n",
       "M4712.38 1384.24 L4712.38 1384.24 L4779.4 1384.24 L4779.4 1384.24 L4712.38 1384.24 L4712.38 1384.24  Z\n",
       "  \" fill=\"#009af9\" fill-rule=\"evenodd\" fill-opacity=\"1\"/>\n",
       "<polyline clip-path=\"url(#clip232)\" style=\"stroke:#000000; stroke-linecap:butt; stroke-linejoin:round; stroke-width:4; stroke-opacity:1; fill:none\" points=\"\n",
       "  4712.38,1384.24 4712.38,1384.24 4779.4,1384.24 4712.38,1384.24 \n",
       "  \"/>\n",
       "<path clip-path=\"url(#clip232)\" d=\"\n",
       "M4779.4 1346.06 L4779.4 1384.24 L4846.43 1384.24 L4846.43 1346.06 L4779.4 1346.06 L4779.4 1346.06  Z\n",
       "  \" fill=\"#009af9\" fill-rule=\"evenodd\" fill-opacity=\"1\"/>\n",
       "<polyline clip-path=\"url(#clip232)\" style=\"stroke:#000000; stroke-linecap:butt; stroke-linejoin:round; stroke-width:4; stroke-opacity:1; fill:none\" points=\"\n",
       "  4779.4,1346.06 4779.4,1384.24 4846.43,1384.24 4846.43,1346.06 4779.4,1346.06 \n",
       "  \"/>\n",
       "<path clip-path=\"url(#clip232)\" d=\"\n",
       "M4846.43 1384.24 L4846.43 1384.24 L4913.45 1384.24 L4913.45 1384.24 L4846.43 1384.24 L4846.43 1384.24  Z\n",
       "  \" fill=\"#009af9\" fill-rule=\"evenodd\" fill-opacity=\"1\"/>\n",
       "<polyline clip-path=\"url(#clip232)\" style=\"stroke:#000000; stroke-linecap:butt; stroke-linejoin:round; stroke-width:4; stroke-opacity:1; fill:none\" points=\"\n",
       "  4846.43,1384.24 4846.43,1384.24 4913.45,1384.24 4846.43,1384.24 \n",
       "  \"/>\n",
       "<path clip-path=\"url(#clip232)\" d=\"\n",
       "M4913.45 1384.24 L4913.45 1384.24 L4980.47 1384.24 L4980.47 1384.24 L4913.45 1384.24 L4913.45 1384.24  Z\n",
       "  \" fill=\"#009af9\" fill-rule=\"evenodd\" fill-opacity=\"1\"/>\n",
       "<polyline clip-path=\"url(#clip232)\" style=\"stroke:#000000; stroke-linecap:butt; stroke-linejoin:round; stroke-width:4; stroke-opacity:1; fill:none\" points=\"\n",
       "  4913.45,1384.24 4913.45,1384.24 4980.47,1384.24 4913.45,1384.24 \n",
       "  \"/>\n",
       "<path clip-path=\"url(#clip232)\" d=\"\n",
       "M4980.47 1384.24 L4980.47 1384.24 L5047.5 1384.24 L5047.5 1384.24 L4980.47 1384.24 L4980.47 1384.24  Z\n",
       "  \" fill=\"#009af9\" fill-rule=\"evenodd\" fill-opacity=\"1\"/>\n",
       "<polyline clip-path=\"url(#clip232)\" style=\"stroke:#000000; stroke-linecap:butt; stroke-linejoin:round; stroke-width:4; stroke-opacity:1; fill:none\" points=\"\n",
       "  4980.47,1384.24 4980.47,1384.24 5047.5,1384.24 4980.47,1384.24 \n",
       "  \"/>\n",
       "<path clip-path=\"url(#clip232)\" d=\"\n",
       "M5047.5 1346.06 L5047.5 1384.24 L5114.52 1384.24 L5114.52 1346.06 L5047.5 1346.06 L5047.5 1346.06  Z\n",
       "  \" fill=\"#009af9\" fill-rule=\"evenodd\" fill-opacity=\"1\"/>\n",
       "<polyline clip-path=\"url(#clip232)\" style=\"stroke:#000000; stroke-linecap:butt; stroke-linejoin:round; stroke-width:4; stroke-opacity:1; fill:none\" points=\"\n",
       "  5047.5,1346.06 5047.5,1384.24 5114.52,1384.24 5114.52,1346.06 5047.5,1346.06 \n",
       "  \"/>\n",
       "<path clip-path=\"url(#clip232)\" d=\"\n",
       "M5114.52 1384.24 L5114.52 1384.24 L5181.54 1384.24 L5181.54 1384.24 L5114.52 1384.24 L5114.52 1384.24  Z\n",
       "  \" fill=\"#009af9\" fill-rule=\"evenodd\" fill-opacity=\"1\"/>\n",
       "<polyline clip-path=\"url(#clip232)\" style=\"stroke:#000000; stroke-linecap:butt; stroke-linejoin:round; stroke-width:4; stroke-opacity:1; fill:none\" points=\"\n",
       "  5114.52,1384.24 5114.52,1384.24 5181.54,1384.24 5114.52,1384.24 \n",
       "  \"/>\n",
       "<path clip-path=\"url(#clip232)\" d=\"\n",
       "M5181.54 1346.06 L5181.54 1384.24 L5248.57 1384.24 L5248.57 1346.06 L5181.54 1346.06 L5181.54 1346.06  Z\n",
       "  \" fill=\"#009af9\" fill-rule=\"evenodd\" fill-opacity=\"1\"/>\n",
       "<polyline clip-path=\"url(#clip232)\" style=\"stroke:#000000; stroke-linecap:butt; stroke-linejoin:round; stroke-width:4; stroke-opacity:1; fill:none\" points=\"\n",
       "  5181.54,1346.06 5181.54,1384.24 5248.57,1384.24 5248.57,1346.06 5181.54,1346.06 \n",
       "  \"/>\n",
       "<path clip-path=\"url(#clip232)\" d=\"\n",
       "M5248.57 1384.24 L5248.57 1384.24 L5315.59 1384.24 L5315.59 1384.24 L5248.57 1384.24 L5248.57 1384.24  Z\n",
       "  \" fill=\"#009af9\" fill-rule=\"evenodd\" fill-opacity=\"1\"/>\n",
       "<polyline clip-path=\"url(#clip232)\" style=\"stroke:#000000; stroke-linecap:butt; stroke-linejoin:round; stroke-width:4; stroke-opacity:1; fill:none\" points=\"\n",
       "  5248.57,1384.24 5248.57,1384.24 5315.59,1384.24 5248.57,1384.24 \n",
       "  \"/>\n",
       "<path clip-path=\"url(#clip232)\" d=\"\n",
       "M5315.59 1384.24 L5315.59 1384.24 L5382.62 1384.24 L5382.62 1384.24 L5315.59 1384.24 L5315.59 1384.24  Z\n",
       "  \" fill=\"#009af9\" fill-rule=\"evenodd\" fill-opacity=\"1\"/>\n",
       "<polyline clip-path=\"url(#clip232)\" style=\"stroke:#000000; stroke-linecap:butt; stroke-linejoin:round; stroke-width:4; stroke-opacity:1; fill:none\" points=\"\n",
       "  5315.59,1384.24 5315.59,1384.24 5382.62,1384.24 5315.59,1384.24 \n",
       "  \"/>\n",
       "<path clip-path=\"url(#clip232)\" d=\"\n",
       "M5382.62 1384.24 L5382.62 1384.24 L5449.64 1384.24 L5449.64 1384.24 L5382.62 1384.24 L5382.62 1384.24  Z\n",
       "  \" fill=\"#009af9\" fill-rule=\"evenodd\" fill-opacity=\"1\"/>\n",
       "<polyline clip-path=\"url(#clip232)\" style=\"stroke:#000000; stroke-linecap:butt; stroke-linejoin:round; stroke-width:4; stroke-opacity:1; fill:none\" points=\"\n",
       "  5382.62,1384.24 5382.62,1384.24 5449.64,1384.24 5382.62,1384.24 \n",
       "  \"/>\n",
       "<path clip-path=\"url(#clip232)\" d=\"\n",
       "M5449.64 1384.24 L5449.64 1384.24 L5516.66 1384.24 L5516.66 1384.24 L5449.64 1384.24 L5449.64 1384.24  Z\n",
       "  \" fill=\"#009af9\" fill-rule=\"evenodd\" fill-opacity=\"1\"/>\n",
       "<polyline clip-path=\"url(#clip232)\" style=\"stroke:#000000; stroke-linecap:butt; stroke-linejoin:round; stroke-width:4; stroke-opacity:1; fill:none\" points=\"\n",
       "  5449.64,1384.24 5449.64,1384.24 5516.66,1384.24 5449.64,1384.24 \n",
       "  \"/>\n",
       "<path clip-path=\"url(#clip232)\" d=\"\n",
       "M5516.66 1384.24 L5516.66 1384.24 L5583.69 1384.24 L5583.69 1384.24 L5516.66 1384.24 L5516.66 1384.24  Z\n",
       "  \" fill=\"#009af9\" fill-rule=\"evenodd\" fill-opacity=\"1\"/>\n",
       "<polyline clip-path=\"url(#clip232)\" style=\"stroke:#000000; stroke-linecap:butt; stroke-linejoin:round; stroke-width:4; stroke-opacity:1; fill:none\" points=\"\n",
       "  5516.66,1384.24 5516.66,1384.24 5583.69,1384.24 5516.66,1384.24 \n",
       "  \"/>\n",
       "<path clip-path=\"url(#clip232)\" d=\"\n",
       "M5583.69 1384.24 L5583.69 1384.24 L5650.71 1384.24 L5650.71 1384.24 L5583.69 1384.24 L5583.69 1384.24  Z\n",
       "  \" fill=\"#009af9\" fill-rule=\"evenodd\" fill-opacity=\"1\"/>\n",
       "<polyline clip-path=\"url(#clip232)\" style=\"stroke:#000000; stroke-linecap:butt; stroke-linejoin:round; stroke-width:4; stroke-opacity:1; fill:none\" points=\"\n",
       "  5583.69,1384.24 5583.69,1384.24 5650.71,1384.24 5583.69,1384.24 \n",
       "  \"/>\n",
       "<path clip-path=\"url(#clip232)\" d=\"\n",
       "M5650.71 1384.24 L5650.71 1384.24 L5717.74 1384.24 L5717.74 1384.24 L5650.71 1384.24 L5650.71 1384.24  Z\n",
       "  \" fill=\"#009af9\" fill-rule=\"evenodd\" fill-opacity=\"1\"/>\n",
       "<polyline clip-path=\"url(#clip232)\" style=\"stroke:#000000; stroke-linecap:butt; stroke-linejoin:round; stroke-width:4; stroke-opacity:1; fill:none\" points=\"\n",
       "  5650.71,1384.24 5650.71,1384.24 5717.74,1384.24 5650.71,1384.24 \n",
       "  \"/>\n",
       "<path clip-path=\"url(#clip232)\" d=\"\n",
       "M5717.74 1384.24 L5717.74 1384.24 L5784.76 1384.24 L5784.76 1384.24 L5717.74 1384.24 L5717.74 1384.24  Z\n",
       "  \" fill=\"#009af9\" fill-rule=\"evenodd\" fill-opacity=\"1\"/>\n",
       "<polyline clip-path=\"url(#clip232)\" style=\"stroke:#000000; stroke-linecap:butt; stroke-linejoin:round; stroke-width:4; stroke-opacity:1; fill:none\" points=\"\n",
       "  5717.74,1384.24 5717.74,1384.24 5784.76,1384.24 5717.74,1384.24 \n",
       "  \"/>\n",
       "<path clip-path=\"url(#clip232)\" d=\"\n",
       "M5784.76 1384.24 L5784.76 1384.24 L5851.78 1384.24 L5851.78 1384.24 L5784.76 1384.24 L5784.76 1384.24  Z\n",
       "  \" fill=\"#009af9\" fill-rule=\"evenodd\" fill-opacity=\"1\"/>\n",
       "<polyline clip-path=\"url(#clip232)\" style=\"stroke:#000000; stroke-linecap:butt; stroke-linejoin:round; stroke-width:4; stroke-opacity:1; fill:none\" points=\"\n",
       "  5784.76,1384.24 5784.76,1384.24 5851.78,1384.24 5784.76,1384.24 \n",
       "  \"/>\n",
       "<path clip-path=\"url(#clip232)\" d=\"\n",
       "M5851.78 1384.24 L5851.78 1384.24 L5918.81 1384.24 L5918.81 1384.24 L5851.78 1384.24 L5851.78 1384.24  Z\n",
       "  \" fill=\"#009af9\" fill-rule=\"evenodd\" fill-opacity=\"1\"/>\n",
       "<polyline clip-path=\"url(#clip232)\" style=\"stroke:#000000; stroke-linecap:butt; stroke-linejoin:round; stroke-width:4; stroke-opacity:1; fill:none\" points=\"\n",
       "  5851.78,1384.24 5851.78,1384.24 5918.81,1384.24 5851.78,1384.24 \n",
       "  \"/>\n",
       "<path clip-path=\"url(#clip232)\" d=\"\n",
       "M5918.81 1384.24 L5918.81 1384.24 L5985.83 1384.24 L5985.83 1384.24 L5918.81 1384.24 L5918.81 1384.24  Z\n",
       "  \" fill=\"#009af9\" fill-rule=\"evenodd\" fill-opacity=\"1\"/>\n",
       "<polyline clip-path=\"url(#clip232)\" style=\"stroke:#000000; stroke-linecap:butt; stroke-linejoin:round; stroke-width:4; stroke-opacity:1; fill:none\" points=\"\n",
       "  5918.81,1384.24 5918.81,1384.24 5985.83,1384.24 5918.81,1384.24 \n",
       "  \"/>\n",
       "<path clip-path=\"url(#clip232)\" d=\"\n",
       "M5985.83 1384.24 L5985.83 1384.24 L6052.86 1384.24 L6052.86 1384.24 L5985.83 1384.24 L5985.83 1384.24  Z\n",
       "  \" fill=\"#009af9\" fill-rule=\"evenodd\" fill-opacity=\"1\"/>\n",
       "<polyline clip-path=\"url(#clip232)\" style=\"stroke:#000000; stroke-linecap:butt; stroke-linejoin:round; stroke-width:4; stroke-opacity:1; fill:none\" points=\"\n",
       "  5985.83,1384.24 5985.83,1384.24 6052.86,1384.24 5985.83,1384.24 \n",
       "  \"/>\n",
       "<path clip-path=\"url(#clip232)\" d=\"\n",
       "M6052.86 1384.24 L6052.86 1384.24 L6119.88 1384.24 L6119.88 1384.24 L6052.86 1384.24 L6052.86 1384.24  Z\n",
       "  \" fill=\"#009af9\" fill-rule=\"evenodd\" fill-opacity=\"1\"/>\n",
       "<polyline clip-path=\"url(#clip232)\" style=\"stroke:#000000; stroke-linecap:butt; stroke-linejoin:round; stroke-width:4; stroke-opacity:1; fill:none\" points=\"\n",
       "  6052.86,1384.24 6052.86,1384.24 6119.88,1384.24 6052.86,1384.24 \n",
       "  \"/>\n",
       "<path clip-path=\"url(#clip232)\" d=\"\n",
       "M6119.88 1384.24 L6119.88 1384.24 L6186.9 1384.24 L6186.9 1384.24 L6119.88 1384.24 L6119.88 1384.24  Z\n",
       "  \" fill=\"#009af9\" fill-rule=\"evenodd\" fill-opacity=\"1\"/>\n",
       "<polyline clip-path=\"url(#clip232)\" style=\"stroke:#000000; stroke-linecap:butt; stroke-linejoin:round; stroke-width:4; stroke-opacity:1; fill:none\" points=\"\n",
       "  6119.88,1384.24 6119.88,1384.24 6186.9,1384.24 6119.88,1384.24 \n",
       "  \"/>\n",
       "<path clip-path=\"url(#clip232)\" d=\"\n",
       "M6186.9 1384.24 L6186.9 1384.24 L6253.93 1384.24 L6253.93 1384.24 L6186.9 1384.24 L6186.9 1384.24  Z\n",
       "  \" fill=\"#009af9\" fill-rule=\"evenodd\" fill-opacity=\"1\"/>\n",
       "<polyline clip-path=\"url(#clip232)\" style=\"stroke:#000000; stroke-linecap:butt; stroke-linejoin:round; stroke-width:4; stroke-opacity:1; fill:none\" points=\"\n",
       "  6186.9,1384.24 6186.9,1384.24 6253.93,1384.24 6186.9,1384.24 \n",
       "  \"/>\n",
       "<path clip-path=\"url(#clip232)\" d=\"\n",
       "M6253.93 1384.24 L6253.93 1384.24 L6320.95 1384.24 L6320.95 1384.24 L6253.93 1384.24 L6253.93 1384.24  Z\n",
       "  \" fill=\"#009af9\" fill-rule=\"evenodd\" fill-opacity=\"1\"/>\n",
       "<polyline clip-path=\"url(#clip232)\" style=\"stroke:#000000; stroke-linecap:butt; stroke-linejoin:round; stroke-width:4; stroke-opacity:1; fill:none\" points=\"\n",
       "  6253.93,1384.24 6253.93,1384.24 6320.95,1384.24 6253.93,1384.24 \n",
       "  \"/>\n",
       "<path clip-path=\"url(#clip232)\" d=\"\n",
       "M6320.95 1384.24 L6320.95 1384.24 L6387.98 1384.24 L6387.98 1384.24 L6320.95 1384.24 L6320.95 1384.24  Z\n",
       "  \" fill=\"#009af9\" fill-rule=\"evenodd\" fill-opacity=\"1\"/>\n",
       "<polyline clip-path=\"url(#clip232)\" style=\"stroke:#000000; stroke-linecap:butt; stroke-linejoin:round; stroke-width:4; stroke-opacity:1; fill:none\" points=\"\n",
       "  6320.95,1384.24 6320.95,1384.24 6387.98,1384.24 6320.95,1384.24 \n",
       "  \"/>\n",
       "<path clip-path=\"url(#clip232)\" d=\"\n",
       "M6387.98 1384.24 L6387.98 1384.24 L6455 1384.24 L6455 1384.24 L6387.98 1384.24 L6387.98 1384.24  Z\n",
       "  \" fill=\"#009af9\" fill-rule=\"evenodd\" fill-opacity=\"1\"/>\n",
       "<polyline clip-path=\"url(#clip232)\" style=\"stroke:#000000; stroke-linecap:butt; stroke-linejoin:round; stroke-width:4; stroke-opacity:1; fill:none\" points=\"\n",
       "  6387.98,1384.24 6387.98,1384.24 6455,1384.24 6387.98,1384.24 \n",
       "  \"/>\n",
       "<path clip-path=\"url(#clip232)\" d=\"\n",
       "M6455 1384.24 L6455 1384.24 L6522.02 1384.24 L6522.02 1384.24 L6455 1384.24 L6455 1384.24  Z\n",
       "  \" fill=\"#009af9\" fill-rule=\"evenodd\" fill-opacity=\"1\"/>\n",
       "<polyline clip-path=\"url(#clip232)\" style=\"stroke:#000000; stroke-linecap:butt; stroke-linejoin:round; stroke-width:4; stroke-opacity:1; fill:none\" points=\"\n",
       "  6455,1384.24 6455,1384.24 6522.02,1384.24 6455,1384.24 \n",
       "  \"/>\n",
       "<path clip-path=\"url(#clip232)\" d=\"\n",
       "M6522.02 1384.24 L6522.02 1384.24 L6589.05 1384.24 L6589.05 1384.24 L6522.02 1384.24 L6522.02 1384.24  Z\n",
       "  \" fill=\"#009af9\" fill-rule=\"evenodd\" fill-opacity=\"1\"/>\n",
       "<polyline clip-path=\"url(#clip232)\" style=\"stroke:#000000; stroke-linecap:butt; stroke-linejoin:round; stroke-width:4; stroke-opacity:1; fill:none\" points=\"\n",
       "  6522.02,1384.24 6522.02,1384.24 6589.05,1384.24 6522.02,1384.24 \n",
       "  \"/>\n",
       "<path clip-path=\"url(#clip232)\" d=\"\n",
       "M6589.05 1384.24 L6589.05 1384.24 L6656.07 1384.24 L6656.07 1384.24 L6589.05 1384.24 L6589.05 1384.24  Z\n",
       "  \" fill=\"#009af9\" fill-rule=\"evenodd\" fill-opacity=\"1\"/>\n",
       "<polyline clip-path=\"url(#clip232)\" style=\"stroke:#000000; stroke-linecap:butt; stroke-linejoin:round; stroke-width:4; stroke-opacity:1; fill:none\" points=\"\n",
       "  6589.05,1384.24 6589.05,1384.24 6656.07,1384.24 6589.05,1384.24 \n",
       "  \"/>\n",
       "<path clip-path=\"url(#clip232)\" d=\"\n",
       "M6656.07 1384.24 L6656.07 1384.24 L6723.1 1384.24 L6723.1 1384.24 L6656.07 1384.24 L6656.07 1384.24  Z\n",
       "  \" fill=\"#009af9\" fill-rule=\"evenodd\" fill-opacity=\"1\"/>\n",
       "<polyline clip-path=\"url(#clip232)\" style=\"stroke:#000000; stroke-linecap:butt; stroke-linejoin:round; stroke-width:4; stroke-opacity:1; fill:none\" points=\"\n",
       "  6656.07,1384.24 6656.07,1384.24 6723.1,1384.24 6656.07,1384.24 \n",
       "  \"/>\n",
       "<path clip-path=\"url(#clip232)\" d=\"\n",
       "M6723.1 1346.06 L6723.1 1384.24 L6790.12 1384.24 L6790.12 1346.06 L6723.1 1346.06 L6723.1 1346.06  Z\n",
       "  \" fill=\"#009af9\" fill-rule=\"evenodd\" fill-opacity=\"1\"/>\n",
       "<polyline clip-path=\"url(#clip232)\" style=\"stroke:#000000; stroke-linecap:butt; stroke-linejoin:round; stroke-width:4; stroke-opacity:1; fill:none\" points=\"\n",
       "  6723.1,1346.06 6723.1,1384.24 6790.12,1384.24 6790.12,1346.06 6723.1,1346.06 \n",
       "  \"/>\n",
       "<path clip-path=\"url(#clip232)\" d=\"\n",
       "M6790.12 1384.24 L6790.12 1384.24 L6857.14 1384.24 L6857.14 1384.24 L6790.12 1384.24 L6790.12 1384.24  Z\n",
       "  \" fill=\"#009af9\" fill-rule=\"evenodd\" fill-opacity=\"1\"/>\n",
       "<polyline clip-path=\"url(#clip232)\" style=\"stroke:#000000; stroke-linecap:butt; stroke-linejoin:round; stroke-width:4; stroke-opacity:1; fill:none\" points=\"\n",
       "  6790.12,1384.24 6790.12,1384.24 6857.14,1384.24 6790.12,1384.24 \n",
       "  \"/>\n",
       "<path clip-path=\"url(#clip232)\" d=\"\n",
       "M6857.14 1384.24 L6857.14 1384.24 L6924.17 1384.24 L6924.17 1384.24 L6857.14 1384.24 L6857.14 1384.24  Z\n",
       "  \" fill=\"#009af9\" fill-rule=\"evenodd\" fill-opacity=\"1\"/>\n",
       "<polyline clip-path=\"url(#clip232)\" style=\"stroke:#000000; stroke-linecap:butt; stroke-linejoin:round; stroke-width:4; stroke-opacity:1; fill:none\" points=\"\n",
       "  6857.14,1384.24 6857.14,1384.24 6924.17,1384.24 6857.14,1384.24 \n",
       "  \"/>\n",
       "<path clip-path=\"url(#clip232)\" d=\"\n",
       "M6924.17 1384.24 L6924.17 1384.24 L6991.19 1384.24 L6991.19 1384.24 L6924.17 1384.24 L6924.17 1384.24  Z\n",
       "  \" fill=\"#009af9\" fill-rule=\"evenodd\" fill-opacity=\"1\"/>\n",
       "<polyline clip-path=\"url(#clip232)\" style=\"stroke:#000000; stroke-linecap:butt; stroke-linejoin:round; stroke-width:4; stroke-opacity:1; fill:none\" points=\"\n",
       "  6924.17,1384.24 6924.17,1384.24 6991.19,1384.24 6924.17,1384.24 \n",
       "  \"/>\n",
       "<path clip-path=\"url(#clip232)\" d=\"\n",
       "M6991.19 1384.24 L6991.19 1384.24 L7058.22 1384.24 L7058.22 1384.24 L6991.19 1384.24 L6991.19 1384.24  Z\n",
       "  \" fill=\"#009af9\" fill-rule=\"evenodd\" fill-opacity=\"1\"/>\n",
       "<polyline clip-path=\"url(#clip232)\" style=\"stroke:#000000; stroke-linecap:butt; stroke-linejoin:round; stroke-width:4; stroke-opacity:1; fill:none\" points=\"\n",
       "  6991.19,1384.24 6991.19,1384.24 7058.22,1384.24 6991.19,1384.24 \n",
       "  \"/>\n",
       "<path clip-path=\"url(#clip232)\" d=\"\n",
       "M7058.22 1346.06 L7058.22 1384.24 L7125.24 1384.24 L7125.24 1346.06 L7058.22 1346.06 L7058.22 1346.06  Z\n",
       "  \" fill=\"#009af9\" fill-rule=\"evenodd\" fill-opacity=\"1\"/>\n",
       "<polyline clip-path=\"url(#clip232)\" style=\"stroke:#000000; stroke-linecap:butt; stroke-linejoin:round; stroke-width:4; stroke-opacity:1; fill:none\" points=\"\n",
       "  7058.22,1346.06 7058.22,1384.24 7125.24,1384.24 7125.24,1346.06 7058.22,1346.06 \n",
       "  \"/>\n",
       "<path clip-path=\"url(#clip232)\" d=\"\n",
       "M7125.24 1384.24 L7125.24 1384.24 L7192.26 1384.24 L7192.26 1384.24 L7125.24 1384.24 L7125.24 1384.24  Z\n",
       "  \" fill=\"#009af9\" fill-rule=\"evenodd\" fill-opacity=\"1\"/>\n",
       "<polyline clip-path=\"url(#clip232)\" style=\"stroke:#000000; stroke-linecap:butt; stroke-linejoin:round; stroke-width:4; stroke-opacity:1; fill:none\" points=\"\n",
       "  7125.24,1384.24 7125.24,1384.24 7192.26,1384.24 7125.24,1384.24 \n",
       "  \"/>\n",
       "<path clip-path=\"url(#clip232)\" d=\"\n",
       "M7192.26 1384.24 L7192.26 1384.24 L7259.29 1384.24 L7259.29 1384.24 L7192.26 1384.24 L7192.26 1384.24  Z\n",
       "  \" fill=\"#009af9\" fill-rule=\"evenodd\" fill-opacity=\"1\"/>\n",
       "<polyline clip-path=\"url(#clip232)\" style=\"stroke:#000000; stroke-linecap:butt; stroke-linejoin:round; stroke-width:4; stroke-opacity:1; fill:none\" points=\"\n",
       "  7192.26,1384.24 7192.26,1384.24 7259.29,1384.24 7192.26,1384.24 \n",
       "  \"/>\n",
       "<path clip-path=\"url(#clip232)\" d=\"\n",
       "M7259.29 1346.06 L7259.29 1384.24 L7326.31 1384.24 L7326.31 1346.06 L7259.29 1346.06 L7259.29 1346.06  Z\n",
       "  \" fill=\"#009af9\" fill-rule=\"evenodd\" fill-opacity=\"1\"/>\n",
       "<polyline clip-path=\"url(#clip232)\" style=\"stroke:#000000; stroke-linecap:butt; stroke-linejoin:round; stroke-width:4; stroke-opacity:1; fill:none\" points=\"\n",
       "  7259.29,1346.06 7259.29,1384.24 7326.31,1384.24 7326.31,1346.06 7259.29,1346.06 \n",
       "  \"/>\n",
       "<path clip-path=\"url(#clip232)\" d=\"\n",
       "M7326.31 1384.24 L7326.31 1384.24 L7393.34 1384.24 L7393.34 1384.24 L7326.31 1384.24 L7326.31 1384.24  Z\n",
       "  \" fill=\"#009af9\" fill-rule=\"evenodd\" fill-opacity=\"1\"/>\n",
       "<polyline clip-path=\"url(#clip232)\" style=\"stroke:#000000; stroke-linecap:butt; stroke-linejoin:round; stroke-width:4; stroke-opacity:1; fill:none\" points=\"\n",
       "  7326.31,1384.24 7326.31,1384.24 7393.34,1384.24 7326.31,1384.24 \n",
       "  \"/>\n",
       "<path clip-path=\"url(#clip232)\" d=\"\n",
       "M7393.34 1384.24 L7393.34 1384.24 L7460.36 1384.24 L7460.36 1384.24 L7393.34 1384.24 L7393.34 1384.24  Z\n",
       "  \" fill=\"#009af9\" fill-rule=\"evenodd\" fill-opacity=\"1\"/>\n",
       "<polyline clip-path=\"url(#clip232)\" style=\"stroke:#000000; stroke-linecap:butt; stroke-linejoin:round; stroke-width:4; stroke-opacity:1; fill:none\" points=\"\n",
       "  7393.34,1384.24 7393.34,1384.24 7460.36,1384.24 7393.34,1384.24 \n",
       "  \"/>\n",
       "<path clip-path=\"url(#clip232)\" d=\"\n",
       "M7460.36 1384.24 L7460.36 1384.24 L7527.38 1384.24 L7527.38 1384.24 L7460.36 1384.24 L7460.36 1384.24  Z\n",
       "  \" fill=\"#009af9\" fill-rule=\"evenodd\" fill-opacity=\"1\"/>\n",
       "<polyline clip-path=\"url(#clip232)\" style=\"stroke:#000000; stroke-linecap:butt; stroke-linejoin:round; stroke-width:4; stroke-opacity:1; fill:none\" points=\"\n",
       "  7460.36,1384.24 7460.36,1384.24 7527.38,1384.24 7460.36,1384.24 \n",
       "  \"/>\n",
       "<path clip-path=\"url(#clip232)\" d=\"\n",
       "M7527.38 1384.24 L7527.38 1384.24 L7594.41 1384.24 L7594.41 1384.24 L7527.38 1384.24 L7527.38 1384.24  Z\n",
       "  \" fill=\"#009af9\" fill-rule=\"evenodd\" fill-opacity=\"1\"/>\n",
       "<polyline clip-path=\"url(#clip232)\" style=\"stroke:#000000; stroke-linecap:butt; stroke-linejoin:round; stroke-width:4; stroke-opacity:1; fill:none\" points=\"\n",
       "  7527.38,1384.24 7527.38,1384.24 7594.41,1384.24 7527.38,1384.24 \n",
       "  \"/>\n",
       "<path clip-path=\"url(#clip232)\" d=\"\n",
       "M7594.41 1384.24 L7594.41 1384.24 L7661.43 1384.24 L7661.43 1384.24 L7594.41 1384.24 L7594.41 1384.24  Z\n",
       "  \" fill=\"#009af9\" fill-rule=\"evenodd\" fill-opacity=\"1\"/>\n",
       "<polyline clip-path=\"url(#clip232)\" style=\"stroke:#000000; stroke-linecap:butt; stroke-linejoin:round; stroke-width:4; stroke-opacity:1; fill:none\" points=\"\n",
       "  7594.41,1384.24 7594.41,1384.24 7661.43,1384.24 7594.41,1384.24 \n",
       "  \"/>\n",
       "<path clip-path=\"url(#clip232)\" d=\"\n",
       "M7661.43 1384.24 L7661.43 1384.24 L7728.46 1384.24 L7728.46 1384.24 L7661.43 1384.24 L7661.43 1384.24  Z\n",
       "  \" fill=\"#009af9\" fill-rule=\"evenodd\" fill-opacity=\"1\"/>\n",
       "<polyline clip-path=\"url(#clip232)\" style=\"stroke:#000000; stroke-linecap:butt; stroke-linejoin:round; stroke-width:4; stroke-opacity:1; fill:none\" points=\"\n",
       "  7661.43,1384.24 7661.43,1384.24 7728.46,1384.24 7661.43,1384.24 \n",
       "  \"/>\n",
       "<path clip-path=\"url(#clip232)\" d=\"\n",
       "M7728.46 1384.24 L7728.46 1384.24 L7795.48 1384.24 L7795.48 1384.24 L7728.46 1384.24 L7728.46 1384.24  Z\n",
       "  \" fill=\"#009af9\" fill-rule=\"evenodd\" fill-opacity=\"1\"/>\n",
       "<polyline clip-path=\"url(#clip232)\" style=\"stroke:#000000; stroke-linecap:butt; stroke-linejoin:round; stroke-width:4; stroke-opacity:1; fill:none\" points=\"\n",
       "  7728.46,1384.24 7728.46,1384.24 7795.48,1384.24 7728.46,1384.24 \n",
       "  \"/>\n",
       "<path clip-path=\"url(#clip232)\" d=\"\n",
       "M7795.48 1384.24 L7795.48 1384.24 L7862.5 1384.24 L7862.5 1384.24 L7795.48 1384.24 L7795.48 1384.24  Z\n",
       "  \" fill=\"#009af9\" fill-rule=\"evenodd\" fill-opacity=\"1\"/>\n",
       "<polyline clip-path=\"url(#clip232)\" style=\"stroke:#000000; stroke-linecap:butt; stroke-linejoin:round; stroke-width:4; stroke-opacity:1; fill:none\" points=\"\n",
       "  7795.48,1384.24 7795.48,1384.24 7862.5,1384.24 7795.48,1384.24 \n",
       "  \"/>\n",
       "<path clip-path=\"url(#clip232)\" d=\"\n",
       "M7862.5 1346.06 L7862.5 1384.24 L7929.53 1384.24 L7929.53 1346.06 L7862.5 1346.06 L7862.5 1346.06  Z\n",
       "  \" fill=\"#009af9\" fill-rule=\"evenodd\" fill-opacity=\"1\"/>\n",
       "<polyline clip-path=\"url(#clip232)\" style=\"stroke:#000000; stroke-linecap:butt; stroke-linejoin:round; stroke-width:4; stroke-opacity:1; fill:none\" points=\"\n",
       "  7862.5,1346.06 7862.5,1384.24 7929.53,1384.24 7929.53,1346.06 7862.5,1346.06 \n",
       "  \"/>\n",
       "<circle clip-path=\"url(#clip232)\" style=\"fill:#009af9; stroke:none; fill-opacity:0\" cx=\"925.523\" cy=\"1346.06\" r=\"2\"/>\n",
       "<circle clip-path=\"url(#clip232)\" style=\"fill:#009af9; stroke:none; fill-opacity:0\" cx=\"992.547\" cy=\"1155.17\" r=\"2\"/>\n",
       "<circle clip-path=\"url(#clip232)\" style=\"fill:#009af9; stroke:none; fill-opacity:0\" cx=\"1059.57\" cy=\"1193.35\" r=\"2\"/>\n",
       "<circle clip-path=\"url(#clip232)\" style=\"fill:#009af9; stroke:none; fill-opacity:0\" cx=\"1126.59\" cy=\"697.034\" r=\"2\"/>\n",
       "<circle clip-path=\"url(#clip232)\" style=\"fill:#009af9; stroke:none; fill-opacity:0\" cx=\"1193.62\" cy=\"620.678\" r=\"2\"/>\n",
       "<circle clip-path=\"url(#clip232)\" style=\"fill:#009af9; stroke:none; fill-opacity:0\" cx=\"1260.64\" cy=\"773.39\" r=\"2\"/>\n",
       "<circle clip-path=\"url(#clip232)\" style=\"fill:#009af9; stroke:none; fill-opacity:0\" cx=\"1327.67\" cy=\"773.39\" r=\"2\"/>\n",
       "<circle clip-path=\"url(#clip232)\" style=\"fill:#009af9; stroke:none; fill-opacity:0\" cx=\"1394.69\" cy=\"506.144\" r=\"2\"/>\n",
       "<circle clip-path=\"url(#clip232)\" style=\"fill:#009af9; stroke:none; fill-opacity:0\" cx=\"1461.71\" cy=\"620.678\" r=\"2\"/>\n",
       "<circle clip-path=\"url(#clip232)\" style=\"fill:#009af9; stroke:none; fill-opacity:0\" cx=\"1528.74\" cy=\"124.364\" r=\"2\"/>\n",
       "<circle clip-path=\"url(#clip232)\" style=\"fill:#009af9; stroke:none; fill-opacity:0\" cx=\"1595.76\" cy=\"467.966\" r=\"2\"/>\n",
       "<circle clip-path=\"url(#clip232)\" style=\"fill:#009af9; stroke:none; fill-opacity:0\" cx=\"1662.79\" cy=\"238.898\" r=\"2\"/>\n",
       "<circle clip-path=\"url(#clip232)\" style=\"fill:#009af9; stroke:none; fill-opacity:0\" cx=\"1729.81\" cy=\"162.542\" r=\"2\"/>\n",
       "<circle clip-path=\"url(#clip232)\" style=\"fill:#009af9; stroke:none; fill-opacity:0\" cx=\"1796.83\" cy=\"86.1857\" r=\"2\"/>\n",
       "<circle clip-path=\"url(#clip232)\" style=\"fill:#009af9; stroke:none; fill-opacity:0\" cx=\"1863.86\" cy=\"162.542\" r=\"2\"/>\n",
       "<circle clip-path=\"url(#clip232)\" style=\"fill:#009af9; stroke:none; fill-opacity:0\" cx=\"1930.88\" cy=\"200.72\" r=\"2\"/>\n",
       "<circle clip-path=\"url(#clip232)\" style=\"fill:#009af9; stroke:none; fill-opacity:0\" cx=\"1997.91\" cy=\"277.076\" r=\"2\"/>\n",
       "<circle clip-path=\"url(#clip232)\" style=\"fill:#009af9; stroke:none; fill-opacity:0\" cx=\"2064.93\" cy=\"658.856\" r=\"2\"/>\n",
       "<circle clip-path=\"url(#clip232)\" style=\"fill:#009af9; stroke:none; fill-opacity:0\" cx=\"2131.95\" cy=\"429.788\" r=\"2\"/>\n",
       "<circle clip-path=\"url(#clip232)\" style=\"fill:#009af9; stroke:none; fill-opacity:0\" cx=\"2198.98\" cy=\"773.39\" r=\"2\"/>\n",
       "<circle clip-path=\"url(#clip232)\" style=\"fill:#009af9; stroke:none; fill-opacity:0\" cx=\"2266\" cy=\"697.034\" r=\"2\"/>\n",
       "<circle clip-path=\"url(#clip232)\" style=\"fill:#009af9; stroke:none; fill-opacity:0\" cx=\"2333.03\" cy=\"697.034\" r=\"2\"/>\n",
       "</svg>\n"
      ]
     },
     "execution_count": 16,
     "metadata": {},
     "output_type": "execute_result"
    }
   ],
   "source": [
    "using Statistics\n",
    "t = c_bench.times / 1e6 # tempos em milisegundos\n",
    "m, σ = minimum(t), std(t)\n",
    "\n",
    "histogram(t, bins=100,\n",
    "    xlim=(m - σ, m + 2σ),\n",
    "    xlabel=\"milisegundos\", ylabel=\"Frequência\", label=\"\")"
   ]
  },
  {
   "cell_type": "markdown",
   "metadata": {},
   "source": [
    "## 2. C com -ffast-math\n",
    "\n",
    "Agora, vamos permitir que o C otimize suas operações de ponto flutuante.\n",
    "Dessa forma, ele vai vetorizar suas instruções usando [SIMD](https://en.wikipedia.org/wiki/SIMD) (single instruction, multiple data)."
   ]
  },
  {
   "cell_type": "code",
   "execution_count": 17,
   "metadata": {},
   "outputs": [
    {
     "data": {
      "text/plain": [
       "c_sum_fastmath (generic function with 1 method)"
      ]
     },
     "execution_count": 17,
     "metadata": {},
     "output_type": "execute_result"
    }
   ],
   "source": [
    "const Clib_fastmath = tempname()\n",
    "\n",
    "# Como acima mas agora com a opção -ffast-math\n",
    "open(`gcc -fPIC -O3 -msse3 -xc -shared -ffast-math -o $(Clib_fastmath * \".\" * Libdl.dlext) -`, \"w\") do f\n",
    "    print(f, C_code) \n",
    "end\n",
    "\n",
    "# Define uma função em Julia que chama a função em C\n",
    "c_sum_fastmath(X::Array{Float64}) = ccall((\"c_sum\", Clib_fastmath), Float64, (Csize_t, Ptr{Float64}), length(X), X)"
   ]
  },
  {
   "cell_type": "code",
   "execution_count": 18,
   "metadata": {},
   "outputs": [
    {
     "data": {
      "text/plain": [
       "BenchmarkTools.Trial: 986 samples with 1 evaluation.\n",
       " Range \u001b[90m(\u001b[39m\u001b[36m\u001b[1mmin\u001b[22m\u001b[39m … \u001b[35mmax\u001b[39m\u001b[90m):  \u001b[39m\u001b[36m\u001b[1m5.029 ms\u001b[22m\u001b[39m … \u001b[35m 5.762 ms\u001b[39m  \u001b[90m┊\u001b[39m GC \u001b[90m(\u001b[39mmin … max\u001b[90m): \u001b[39m0.00% … 0.00%\n",
       " Time  \u001b[90m(\u001b[39m\u001b[34m\u001b[1mmedian\u001b[22m\u001b[39m\u001b[90m):     \u001b[39m\u001b[34m\u001b[1m5.047 ms              \u001b[22m\u001b[39m\u001b[90m┊\u001b[39m GC \u001b[90m(\u001b[39mmedian\u001b[90m):    \u001b[39m0.00%\n",
       " Time  \u001b[90m(\u001b[39m\u001b[32m\u001b[1mmean\u001b[22m\u001b[39m ± \u001b[32mσ\u001b[39m\u001b[90m):   \u001b[39m\u001b[32m\u001b[1m5.055 ms\u001b[22m\u001b[39m ± \u001b[32m50.027 μs\u001b[39m  \u001b[90m┊\u001b[39m GC \u001b[90m(\u001b[39mmean ± σ\u001b[90m):  \u001b[39m0.00% ± 0.00%\n",
       "\n",
       "  \u001b[39m \u001b[39m \u001b[39m█\u001b[39m▇\u001b[34m█\u001b[39m\u001b[39m▃\u001b[32m \u001b[39m\u001b[39m \u001b[39m \u001b[39m \u001b[39m \u001b[39m \u001b[39m \u001b[39m \u001b[39m \u001b[39m \u001b[39m \u001b[39m \u001b[39m \u001b[39m \u001b[39m \u001b[39m \u001b[39m \u001b[39m \u001b[39m \u001b[39m \u001b[39m \u001b[39m \u001b[39m \u001b[39m \u001b[39m \u001b[39m \u001b[39m \u001b[39m \u001b[39m \u001b[39m \u001b[39m \u001b[39m \u001b[39m \u001b[39m \u001b[39m \u001b[39m \u001b[39m \u001b[39m \u001b[39m \u001b[39m \u001b[39m \u001b[39m \u001b[39m \u001b[39m \u001b[39m \u001b[39m \u001b[39m \u001b[39m \u001b[39m \u001b[39m \u001b[39m \u001b[39m \u001b[39m \u001b[39m \n",
       "  \u001b[39m▅\u001b[39m█\u001b[39m█\u001b[39m█\u001b[34m█\u001b[39m\u001b[39m█\u001b[32m█\u001b[39m\u001b[39m█\u001b[39m▆\u001b[39m▄\u001b[39m▄\u001b[39m▃\u001b[39m▃\u001b[39m▂\u001b[39m▂\u001b[39m▂\u001b[39m▂\u001b[39m▂\u001b[39m▂\u001b[39m▁\u001b[39m▂\u001b[39m▂\u001b[39m▂\u001b[39m▁\u001b[39m▁\u001b[39m▁\u001b[39m▂\u001b[39m▂\u001b[39m▂\u001b[39m▁\u001b[39m▂\u001b[39m▂\u001b[39m▁\u001b[39m▂\u001b[39m▂\u001b[39m▁\u001b[39m▁\u001b[39m▂\u001b[39m▁\u001b[39m▂\u001b[39m▁\u001b[39m▂\u001b[39m▁\u001b[39m▁\u001b[39m▁\u001b[39m▁\u001b[39m▁\u001b[39m▂\u001b[39m▁\u001b[39m▁\u001b[39m▁\u001b[39m▁\u001b[39m▁\u001b[39m▁\u001b[39m▁\u001b[39m▁\u001b[39m▁\u001b[39m▂\u001b[39m \u001b[39m▃\n",
       "  530 ms\u001b[90m         Histogram: frequency by time\u001b[39m        5.27 ms \u001b[0m\u001b[1m<\u001b[22m\n",
       "\n",
       " Memory estimate\u001b[90m: \u001b[39m\u001b[33m0 bytes\u001b[39m, allocs estimate\u001b[90m: \u001b[39m\u001b[33m0\u001b[39m."
      ]
     },
     "execution_count": 18,
     "metadata": {},
     "output_type": "execute_result"
    }
   ],
   "source": [
    "c_fastmath_bench = @benchmark $c_sum_fastmath($a)"
   ]
  },
  {
   "cell_type": "code",
   "execution_count": 19,
   "metadata": {},
   "outputs": [
    {
     "data": {
      "text/plain": [
       "5.029325"
      ]
     },
     "execution_count": 19,
     "metadata": {},
     "output_type": "execute_result"
    }
   ],
   "source": [
    "d[\"C com -ffast-math\"] = minimum(c_fastmath_bench.times) / 1e6  # em milisegundos"
   ]
  },
  {
   "cell_type": "markdown",
   "metadata": {},
   "source": [
    "## 3. Python\n",
    "\n",
    "O pacote `PyCall` fornece uma interface entre a Julia e o Python:"
   ]
  },
  {
   "cell_type": "code",
   "execution_count": 20,
   "metadata": {},
   "outputs": [
    {
     "name": "stderr",
     "output_type": "stream",
     "text": [
      "\u001b[32m\u001b[1m   Resolving\u001b[22m\u001b[39m package versions...\n",
      "\u001b[32m\u001b[1m  No Changes\u001b[22m\u001b[39m to `~/Sync/julia-breve-intro/Project.toml`\n",
      "\u001b[32m\u001b[1m  No Changes\u001b[22m\u001b[39m to `~/Sync/julia-breve-intro/Manifest.toml`\n"
     ]
    }
   ],
   "source": [
    "Pkg.add(\"PyCall\")"
   ]
  },
  {
   "cell_type": "code",
   "execution_count": 21,
   "metadata": {},
   "outputs": [],
   "source": [
    "using PyCall"
   ]
  },
  {
   "cell_type": "code",
   "execution_count": 22,
   "metadata": {},
   "outputs": [
    {
     "data": {
      "text/plain": [
       "PyObject <built-in function sum>"
      ]
     },
     "execution_count": 22,
     "metadata": {},
     "output_type": "execute_result"
    }
   ],
   "source": [
    "# Importa a função \"sum\" do Python\n",
    "pysum = pybuiltin(\"sum\")"
   ]
  },
  {
   "cell_type": "code",
   "execution_count": 23,
   "metadata": {},
   "outputs": [
    {
     "data": {
      "text/plain": [
       "4.999028275753145e6"
      ]
     },
     "execution_count": 23,
     "metadata": {},
     "output_type": "execute_result"
    }
   ],
   "source": [
    "pysum(a)"
   ]
  },
  {
   "cell_type": "code",
   "execution_count": 24,
   "metadata": {},
   "outputs": [
    {
     "data": {
      "text/plain": [
       "true"
      ]
     },
     "execution_count": 24,
     "metadata": {},
     "output_type": "execute_result"
    }
   ],
   "source": [
    "pysum(a) ≈ sum(a)"
   ]
  },
  {
   "cell_type": "code",
   "execution_count": 25,
   "metadata": {},
   "outputs": [
    {
     "data": {
      "text/plain": [
       "BenchmarkTools.Trial: 7 samples with 1 evaluation.\n",
       " Range \u001b[90m(\u001b[39m\u001b[36m\u001b[1mmin\u001b[22m\u001b[39m … \u001b[35mmax\u001b[39m\u001b[90m):  \u001b[39m\u001b[36m\u001b[1m778.699 ms\u001b[22m\u001b[39m … \u001b[35m790.885 ms\u001b[39m  \u001b[90m┊\u001b[39m GC \u001b[90m(\u001b[39mmin … max\u001b[90m): \u001b[39m0.00% … 0.00%\n",
       " Time  \u001b[90m(\u001b[39m\u001b[34m\u001b[1mmedian\u001b[22m\u001b[39m\u001b[90m):     \u001b[39m\u001b[34m\u001b[1m781.222 ms               \u001b[22m\u001b[39m\u001b[90m┊\u001b[39m GC \u001b[90m(\u001b[39mmedian\u001b[90m):    \u001b[39m0.00%\n",
       " Time  \u001b[90m(\u001b[39m\u001b[32m\u001b[1mmean\u001b[22m\u001b[39m ± \u001b[32mσ\u001b[39m\u001b[90m):   \u001b[39m\u001b[32m\u001b[1m782.712 ms\u001b[22m\u001b[39m ± \u001b[32m  4.201 ms\u001b[39m  \u001b[90m┊\u001b[39m GC \u001b[90m(\u001b[39mmean ± σ\u001b[90m):  \u001b[39m0.00% ± 0.00%\n",
       "\n",
       "  \u001b[39m█\u001b[39m \u001b[39m \u001b[39m \u001b[39m \u001b[39m█\u001b[34m█\u001b[39m\u001b[39m \u001b[39m \u001b[39m \u001b[39m \u001b[39m \u001b[39m█\u001b[39m \u001b[39m \u001b[39m \u001b[39m \u001b[39m \u001b[39m \u001b[39m \u001b[32m \u001b[39m\u001b[39m \u001b[39m \u001b[39m \u001b[39m█\u001b[39m \u001b[39m \u001b[39m \u001b[39m \u001b[39m \u001b[39m█\u001b[39m \u001b[39m \u001b[39m \u001b[39m \u001b[39m \u001b[39m \u001b[39m \u001b[39m \u001b[39m \u001b[39m \u001b[39m \u001b[39m \u001b[39m \u001b[39m \u001b[39m \u001b[39m \u001b[39m \u001b[39m \u001b[39m \u001b[39m \u001b[39m \u001b[39m \u001b[39m \u001b[39m \u001b[39m \u001b[39m \u001b[39m \u001b[39m \u001b[39m \u001b[39m█\u001b[39m \u001b[39m \n",
       "  \u001b[39m█\u001b[39m▁\u001b[39m▁\u001b[39m▁\u001b[39m▁\u001b[39m█\u001b[34m█\u001b[39m\u001b[39m▁\u001b[39m▁\u001b[39m▁\u001b[39m▁\u001b[39m▁\u001b[39m█\u001b[39m▁\u001b[39m▁\u001b[39m▁\u001b[39m▁\u001b[39m▁\u001b[39m▁\u001b[39m▁\u001b[32m▁\u001b[39m\u001b[39m▁\u001b[39m▁\u001b[39m▁\u001b[39m█\u001b[39m▁\u001b[39m▁\u001b[39m▁\u001b[39m▁\u001b[39m▁\u001b[39m█\u001b[39m▁\u001b[39m▁\u001b[39m▁\u001b[39m▁\u001b[39m▁\u001b[39m▁\u001b[39m▁\u001b[39m▁\u001b[39m▁\u001b[39m▁\u001b[39m▁\u001b[39m▁\u001b[39m▁\u001b[39m▁\u001b[39m▁\u001b[39m▁\u001b[39m▁\u001b[39m▁\u001b[39m▁\u001b[39m▁\u001b[39m▁\u001b[39m▁\u001b[39m▁\u001b[39m▁\u001b[39m▁\u001b[39m▁\u001b[39m▁\u001b[39m▁\u001b[39m▁\u001b[39m█\u001b[39m \u001b[39m▁\n",
       "  779 ms\u001b[90m           Histogram: frequency by time\u001b[39m          791 ms \u001b[0m\u001b[1m<\u001b[22m\n",
       "\n",
       " Memory estimate\u001b[90m: \u001b[39m\u001b[33m336 bytes\u001b[39m, allocs estimate\u001b[90m: \u001b[39m\u001b[33m6\u001b[39m."
      ]
     },
     "execution_count": 25,
     "metadata": {},
     "output_type": "execute_result"
    }
   ],
   "source": [
    "py_list_bench = @benchmark $pysum($a)"
   ]
  },
  {
   "cell_type": "code",
   "execution_count": 26,
   "metadata": {},
   "outputs": [
    {
     "data": {
      "text/plain": [
       "Dict{Any, Any} with 3 entries:\n",
       "  \"C com -ffast-math\" => 5.02933\n",
       "  \"C\"                 => 8.52142\n",
       "  \"Python\"            => 778.699"
      ]
     },
     "execution_count": 26,
     "metadata": {},
     "output_type": "execute_result"
    }
   ],
   "source": [
    "d[\"Python\"] = minimum(py_list_bench.times) / 1e6\n",
    "d"
   ]
  },
  {
   "cell_type": "markdown",
   "metadata": {},
   "source": [
    "## 4. Python `numpy`\n",
    "\n",
    "A biblioteca `numpy` do Python é escrita em C e também utiliza SIMD.\n",
    "Essa biblioteca pode ser instalada na Julia da seguinte forma:"
   ]
  },
  {
   "cell_type": "code",
   "execution_count": 27,
   "metadata": {},
   "outputs": [
    {
     "name": "stderr",
     "output_type": "stream",
     "text": [
      "\u001b[32m\u001b[1m   Resolving\u001b[22m\u001b[39m package versions...\n",
      "\u001b[32m\u001b[1m  No Changes\u001b[22m\u001b[39m to `~/Sync/julia-breve-intro/Project.toml`\n",
      "\u001b[32m\u001b[1m  No Changes\u001b[22m\u001b[39m to `~/Sync/julia-breve-intro/Manifest.toml`\n"
     ]
    }
   ],
   "source": [
    "Pkg.add(\"Conda\")"
   ]
  },
  {
   "cell_type": "code",
   "execution_count": 28,
   "metadata": {},
   "outputs": [],
   "source": [
    "using Conda"
   ]
  },
  {
   "cell_type": "code",
   "execution_count": 29,
   "metadata": {},
   "outputs": [
    {
     "data": {
      "text/plain": [
       "BenchmarkTools.Trial: 1285 samples with 1 evaluation.\n",
       " Range \u001b[90m(\u001b[39m\u001b[36m\u001b[1mmin\u001b[22m\u001b[39m … \u001b[35mmax\u001b[39m\u001b[90m):  \u001b[39m\u001b[36m\u001b[1m3.844 ms\u001b[22m\u001b[39m … \u001b[35m 4.766 ms\u001b[39m  \u001b[90m┊\u001b[39m GC \u001b[90m(\u001b[39mmin … max\u001b[90m): \u001b[39m0.00% … 0.00%\n",
       " Time  \u001b[90m(\u001b[39m\u001b[34m\u001b[1mmedian\u001b[22m\u001b[39m\u001b[90m):     \u001b[39m\u001b[34m\u001b[1m3.866 ms              \u001b[22m\u001b[39m\u001b[90m┊\u001b[39m GC \u001b[90m(\u001b[39mmedian\u001b[90m):    \u001b[39m0.00%\n",
       " Time  \u001b[90m(\u001b[39m\u001b[32m\u001b[1mmean\u001b[22m\u001b[39m ± \u001b[32mσ\u001b[39m\u001b[90m):   \u001b[39m\u001b[32m\u001b[1m3.873 ms\u001b[22m\u001b[39m ± \u001b[32m61.785 μs\u001b[39m  \u001b[90m┊\u001b[39m GC \u001b[90m(\u001b[39mmean ± σ\u001b[90m):  \u001b[39m0.00% ± 0.00%\n",
       "\n",
       "  \u001b[39m \u001b[39m \u001b[39m \u001b[39m \u001b[39m▁\u001b[39m▆\u001b[39m█\u001b[39m▆\u001b[34m▆\u001b[39m\u001b[39m▅\u001b[32m▁\u001b[39m\u001b[39m \u001b[39m \u001b[39m \u001b[39m \u001b[39m \u001b[39m \u001b[39m \u001b[39m \u001b[39m \u001b[39m \u001b[39m \u001b[39m \u001b[39m \u001b[39m \u001b[39m \u001b[39m \u001b[39m \u001b[39m \u001b[39m \u001b[39m \u001b[39m \u001b[39m \u001b[39m \u001b[39m \u001b[39m \u001b[39m \u001b[39m \u001b[39m \u001b[39m \u001b[39m \u001b[39m \u001b[39m \u001b[39m \u001b[39m \u001b[39m \u001b[39m \u001b[39m \u001b[39m \u001b[39m \u001b[39m \u001b[39m \u001b[39m \u001b[39m \u001b[39m \u001b[39m \u001b[39m \u001b[39m \u001b[39m \u001b[39m \n",
       "  \u001b[39m▃\u001b[39m▃\u001b[39m▅\u001b[39m█\u001b[39m█\u001b[39m█\u001b[39m█\u001b[39m█\u001b[34m█\u001b[39m\u001b[39m█\u001b[32m█\u001b[39m\u001b[39m▇\u001b[39m▅\u001b[39m▄\u001b[39m▃\u001b[39m▃\u001b[39m▂\u001b[39m▂\u001b[39m▂\u001b[39m▂\u001b[39m▂\u001b[39m▂\u001b[39m▂\u001b[39m▂\u001b[39m▂\u001b[39m▂\u001b[39m▁\u001b[39m▂\u001b[39m▁\u001b[39m▁\u001b[39m▁\u001b[39m▁\u001b[39m▂\u001b[39m▁\u001b[39m▁\u001b[39m▂\u001b[39m▂\u001b[39m▁\u001b[39m▂\u001b[39m▁\u001b[39m▂\u001b[39m▂\u001b[39m▁\u001b[39m▁\u001b[39m▁\u001b[39m▂\u001b[39m▁\u001b[39m▁\u001b[39m▁\u001b[39m▁\u001b[39m▁\u001b[39m▁\u001b[39m▁\u001b[39m▁\u001b[39m▂\u001b[39m▁\u001b[39m▂\u001b[39m▂\u001b[39m \u001b[39m▃\n",
       "  3.84 ms\u001b[90m        Histogram: frequency by time\u001b[39m         410 ms \u001b[0m\u001b[1m<\u001b[22m\n",
       "\n",
       " Memory estimate\u001b[90m: \u001b[39m\u001b[33m336 bytes\u001b[39m, allocs estimate\u001b[90m: \u001b[39m\u001b[33m6\u001b[39m."
      ]
     },
     "execution_count": 29,
     "metadata": {},
     "output_type": "execute_result"
    }
   ],
   "source": [
    "numpy_sum = pyimport(\"numpy\")[\"sum\"]\n",
    "\n",
    "py_numpy_bench = @benchmark $numpy_sum($a)"
   ]
  },
  {
   "cell_type": "code",
   "execution_count": 30,
   "metadata": {},
   "outputs": [
    {
     "data": {
      "text/plain": [
       "4.999028275752949e6"
      ]
     },
     "execution_count": 30,
     "metadata": {},
     "output_type": "execute_result"
    }
   ],
   "source": [
    "numpy_sum(a)"
   ]
  },
  {
   "cell_type": "code",
   "execution_count": 31,
   "metadata": {},
   "outputs": [
    {
     "data": {
      "text/plain": [
       "true"
      ]
     },
     "execution_count": 31,
     "metadata": {},
     "output_type": "execute_result"
    }
   ],
   "source": [
    "numpy_sum(a) ≈ sum(a)"
   ]
  },
  {
   "cell_type": "code",
   "execution_count": 32,
   "metadata": {},
   "outputs": [
    {
     "data": {
      "text/plain": [
       "Dict{Any, Any} with 4 entries:\n",
       "  \"C com -ffast-math\" => 5.02933\n",
       "  \"C\"                 => 8.52142\n",
       "  \"Python numpy\"      => 3.84377\n",
       "  \"Python\"            => 778.699"
      ]
     },
     "execution_count": 32,
     "metadata": {},
     "output_type": "execute_result"
    }
   ],
   "source": [
    "d[\"Python numpy\"] = minimum(py_numpy_bench.times) / 1e6\n",
    "d"
   ]
  },
  {
   "cell_type": "markdown",
   "metadata": {},
   "source": [
    "## 5. Python (escrito à mão)"
   ]
  },
  {
   "cell_type": "code",
   "execution_count": 33,
   "metadata": {},
   "outputs": [
    {
     "data": {
      "text/plain": [
       "PyObject <function py_sum at 0x7f84f45b04c0>"
      ]
     },
     "execution_count": 33,
     "metadata": {},
     "output_type": "execute_result"
    }
   ],
   "source": [
    "py\"\"\"\n",
    "def py_sum(A):\n",
    "    s = 0.0\n",
    "    for a in A:\n",
    "        s += a\n",
    "    return s\n",
    "\"\"\"\n",
    "\n",
    "sum_py = py\"py_sum\""
   ]
  },
  {
   "cell_type": "code",
   "execution_count": 34,
   "metadata": {},
   "outputs": [
    {
     "data": {
      "text/plain": [
       "BenchmarkTools.Trial: 5 samples with 1 evaluation.\n",
       " Range \u001b[90m(\u001b[39m\u001b[36m\u001b[1mmin\u001b[22m\u001b[39m … \u001b[35mmax\u001b[39m\u001b[90m):  \u001b[39m\u001b[36m\u001b[1m952.313 ms\u001b[22m\u001b[39m … \u001b[35m  1.061 s\u001b[39m  \u001b[90m┊\u001b[39m GC \u001b[90m(\u001b[39mmin … max\u001b[90m): \u001b[39m0.00% … 0.00%\n",
       " Time  \u001b[90m(\u001b[39m\u001b[34m\u001b[1mmedian\u001b[22m\u001b[39m\u001b[90m):     \u001b[39m\u001b[34m\u001b[1m   1.046 s              \u001b[22m\u001b[39m\u001b[90m┊\u001b[39m GC \u001b[90m(\u001b[39mmedian\u001b[90m):    \u001b[39m0.00%\n",
       " Time  \u001b[90m(\u001b[39m\u001b[32m\u001b[1mmean\u001b[22m\u001b[39m ± \u001b[32mσ\u001b[39m\u001b[90m):   \u001b[39m\u001b[32m\u001b[1m   1.033 s\u001b[22m\u001b[39m ± \u001b[32m45.489 ms\u001b[39m  \u001b[90m┊\u001b[39m GC \u001b[90m(\u001b[39mmean ± σ\u001b[90m):  \u001b[39m0.00% ± 0.00%\n",
       "\n",
       "  \u001b[39m█\u001b[39m \u001b[39m \u001b[39m \u001b[39m \u001b[39m \u001b[39m \u001b[39m \u001b[39m \u001b[39m \u001b[39m \u001b[39m \u001b[39m \u001b[39m \u001b[39m \u001b[39m \u001b[39m \u001b[39m \u001b[39m \u001b[39m \u001b[39m \u001b[39m \u001b[39m \u001b[39m \u001b[39m \u001b[39m \u001b[39m \u001b[39m \u001b[39m \u001b[39m \u001b[39m \u001b[39m \u001b[39m \u001b[39m \u001b[39m \u001b[39m \u001b[39m \u001b[39m \u001b[39m \u001b[39m \u001b[39m \u001b[39m \u001b[39m \u001b[39m \u001b[32m \u001b[39m\u001b[39m \u001b[39m \u001b[39m \u001b[39m \u001b[39m \u001b[39m█\u001b[34m█\u001b[39m\u001b[39m \u001b[39m \u001b[39m \u001b[39m \u001b[39m \u001b[39m \u001b[39m█\u001b[39m█\u001b[39m \u001b[39m \n",
       "  \u001b[39m█\u001b[39m▁\u001b[39m▁\u001b[39m▁\u001b[39m▁\u001b[39m▁\u001b[39m▁\u001b[39m▁\u001b[39m▁\u001b[39m▁\u001b[39m▁\u001b[39m▁\u001b[39m▁\u001b[39m▁\u001b[39m▁\u001b[39m▁\u001b[39m▁\u001b[39m▁\u001b[39m▁\u001b[39m▁\u001b[39m▁\u001b[39m▁\u001b[39m▁\u001b[39m▁\u001b[39m▁\u001b[39m▁\u001b[39m▁\u001b[39m▁\u001b[39m▁\u001b[39m▁\u001b[39m▁\u001b[39m▁\u001b[39m▁\u001b[39m▁\u001b[39m▁\u001b[39m▁\u001b[39m▁\u001b[39m▁\u001b[39m▁\u001b[39m▁\u001b[39m▁\u001b[39m▁\u001b[39m▁\u001b[39m▁\u001b[32m▁\u001b[39m\u001b[39m▁\u001b[39m▁\u001b[39m▁\u001b[39m▁\u001b[39m▁\u001b[39m█\u001b[34m█\u001b[39m\u001b[39m▁\u001b[39m▁\u001b[39m▁\u001b[39m▁\u001b[39m▁\u001b[39m▁\u001b[39m█\u001b[39m█\u001b[39m \u001b[39m▁\n",
       "  952 ms\u001b[90m          Histogram: frequency by time\u001b[39m           160 s \u001b[0m\u001b[1m<\u001b[22m\n",
       "\n",
       " Memory estimate\u001b[90m: \u001b[39m\u001b[33m336 bytes\u001b[39m, allocs estimate\u001b[90m: \u001b[39m\u001b[33m6\u001b[39m."
      ]
     },
     "execution_count": 34,
     "metadata": {},
     "output_type": "execute_result"
    }
   ],
   "source": [
    "py_hand = @benchmark $sum_py($a)"
   ]
  },
  {
   "cell_type": "code",
   "execution_count": 35,
   "metadata": {},
   "outputs": [
    {
     "data": {
      "text/plain": [
       "4.999028275753145e6"
      ]
     },
     "execution_count": 35,
     "metadata": {},
     "output_type": "execute_result"
    }
   ],
   "source": [
    "sum_py(a)"
   ]
  },
  {
   "cell_type": "code",
   "execution_count": 36,
   "metadata": {},
   "outputs": [
    {
     "data": {
      "text/plain": [
       "true"
      ]
     },
     "execution_count": 36,
     "metadata": {},
     "output_type": "execute_result"
    }
   ],
   "source": [
    "sum_py(a) ≈ sum(a)"
   ]
  },
  {
   "cell_type": "code",
   "execution_count": 37,
   "metadata": {},
   "outputs": [
    {
     "data": {
      "text/plain": [
       "Dict{Any, Any} with 5 entries:\n",
       "  \"C com -ffast-math\"    => 5.02933\n",
       "  \"Python escrito à mão\" => 952.313\n",
       "  \"C\"                    => 8.52142\n",
       "  \"Python numpy\"         => 3.84377\n",
       "  \"Python\"               => 778.699"
      ]
     },
     "execution_count": 37,
     "metadata": {},
     "output_type": "execute_result"
    }
   ],
   "source": [
    "d[\"Python escrito à mão\"] = minimum(py_hand.times) / 1e6\n",
    "d"
   ]
  },
  {
   "cell_type": "markdown",
   "metadata": {},
   "source": [
    "## 6. Julia\n",
    "\n",
    "Em Julia, a função `sum` é escrita em Julia, não em C."
   ]
  },
  {
   "cell_type": "code",
   "execution_count": 38,
   "metadata": {},
   "outputs": [
    {
     "data": {
      "text/html": [
       "sum(a::<b>AbstractArray</b>; <i>dims, kw...</i>) in Base at <a href=\"https://github.com/JuliaLang/julia/tree/1b93d53fc4bb59350ada898038ed4de2994cce33/base/reducedim.jl#L873\" target=\"_blank\">reducedim.jl:873</a>"
      ],
      "text/plain": [
       "sum(a::AbstractArray; dims, kw...) in Base at reducedim.jl:873"
      ]
     },
     "execution_count": 38,
     "metadata": {},
     "output_type": "execute_result"
    }
   ],
   "source": [
    "@which sum(a)"
   ]
  },
  {
   "cell_type": "code",
   "execution_count": 39,
   "metadata": {},
   "outputs": [
    {
     "data": {
      "text/plain": [
       "BenchmarkTools.Trial: 1312 samples with 1 evaluation.\n",
       " Range \u001b[90m(\u001b[39m\u001b[36m\u001b[1mmin\u001b[22m\u001b[39m … \u001b[35mmax\u001b[39m\u001b[90m):  \u001b[39m\u001b[36m\u001b[1m3.765 ms\u001b[22m\u001b[39m … \u001b[35m 4.537 ms\u001b[39m  \u001b[90m┊\u001b[39m GC \u001b[90m(\u001b[39mmin … max\u001b[90m): \u001b[39m0.00% … 0.00%\n",
       " Time  \u001b[90m(\u001b[39m\u001b[34m\u001b[1mmedian\u001b[22m\u001b[39m\u001b[90m):     \u001b[39m\u001b[34m\u001b[1m3.787 ms              \u001b[22m\u001b[39m\u001b[90m┊\u001b[39m GC \u001b[90m(\u001b[39mmedian\u001b[90m):    \u001b[39m0.00%\n",
       " Time  \u001b[90m(\u001b[39m\u001b[32m\u001b[1mmean\u001b[22m\u001b[39m ± \u001b[32mσ\u001b[39m\u001b[90m):   \u001b[39m\u001b[32m\u001b[1m3.793 ms\u001b[22m\u001b[39m ± \u001b[32m46.936 μs\u001b[39m  \u001b[90m┊\u001b[39m GC \u001b[90m(\u001b[39mmean ± σ\u001b[90m):  \u001b[39m0.00% ± 0.00%\n",
       "\n",
       "  \u001b[39m \u001b[39m \u001b[39m▁\u001b[39m▃\u001b[39m▅\u001b[39m▆\u001b[39m▇\u001b[34m█\u001b[39m\u001b[39m▆\u001b[32m▅\u001b[39m\u001b[39m▂\u001b[39m▁\u001b[39m \u001b[39m \u001b[39m \u001b[39m \u001b[39m \u001b[39m \u001b[39m \u001b[39m \u001b[39m \u001b[39m \u001b[39m \u001b[39m \u001b[39m \u001b[39m \u001b[39m \u001b[39m \u001b[39m \u001b[39m \u001b[39m \u001b[39m \u001b[39m \u001b[39m \u001b[39m \u001b[39m \u001b[39m \u001b[39m \u001b[39m \u001b[39m \u001b[39m \u001b[39m \u001b[39m \u001b[39m \u001b[39m \u001b[39m \u001b[39m \u001b[39m \u001b[39m \u001b[39m \u001b[39m \u001b[39m \u001b[39m \u001b[39m \u001b[39m \u001b[39m \u001b[39m \u001b[39m \u001b[39m \u001b[39m \n",
       "  \u001b[39m▄\u001b[39m▆\u001b[39m█\u001b[39m█\u001b[39m█\u001b[39m█\u001b[39m█\u001b[34m█\u001b[39m\u001b[39m█\u001b[32m█\u001b[39m\u001b[39m█\u001b[39m█\u001b[39m█\u001b[39m▇\u001b[39m▆\u001b[39m▅\u001b[39m▆\u001b[39m▄\u001b[39m▁\u001b[39m▅\u001b[39m▁\u001b[39m▄\u001b[39m▅\u001b[39m▄\u001b[39m▅\u001b[39m▄\u001b[39m▅\u001b[39m▁\u001b[39m▁\u001b[39m▅\u001b[39m▅\u001b[39m▄\u001b[39m▁\u001b[39m▅\u001b[39m▁\u001b[39m▁\u001b[39m▅\u001b[39m▁\u001b[39m▄\u001b[39m▄\u001b[39m▄\u001b[39m▁\u001b[39m▄\u001b[39m▁\u001b[39m▅\u001b[39m▅\u001b[39m▄\u001b[39m▅\u001b[39m▄\u001b[39m▄\u001b[39m▄\u001b[39m▄\u001b[39m▁\u001b[39m▁\u001b[39m▁\u001b[39m▁\u001b[39m▁\u001b[39m▄\u001b[39m \u001b[39m█\n",
       "  3.76 ms\u001b[90m      \u001b[39m\u001b[90mHistogram: \u001b[39m\u001b[90m\u001b[1mlog(\u001b[22m\u001b[39m\u001b[90mfrequency\u001b[39m\u001b[90m\u001b[1m)\u001b[22m\u001b[39m\u001b[90m by time\u001b[39m     3.94 ms \u001b[0m\u001b[1m<\u001b[22m\n",
       "\n",
       " Memory estimate\u001b[90m: \u001b[39m\u001b[33m0 bytes\u001b[39m, allocs estimate\u001b[90m: \u001b[39m\u001b[33m0\u001b[39m."
      ]
     },
     "execution_count": 39,
     "metadata": {},
     "output_type": "execute_result"
    }
   ],
   "source": [
    "j_bench = @benchmark sum($a)"
   ]
  },
  {
   "cell_type": "code",
   "execution_count": 40,
   "metadata": {},
   "outputs": [
    {
     "data": {
      "text/plain": [
       "Dict{Any, Any} with 6 entries:\n",
       "  \"C com -ffast-math\"    => 5.02933\n",
       "  \"Python escrito à mão\" => 952.313\n",
       "  \"C\"                    => 8.52142\n",
       "  \"Python numpy\"         => 3.84377\n",
       "  \"Julia\"                => 3.76454\n",
       "  \"Python\"               => 778.699"
      ]
     },
     "execution_count": 40,
     "metadata": {},
     "output_type": "execute_result"
    }
   ],
   "source": [
    "d[\"Julia\"] = minimum(j_bench.times) / 1e6\n",
    "d"
   ]
  },
  {
   "cell_type": "markdown",
   "metadata": {},
   "source": [
    "## 7. Julia (escrito à mão)"
   ]
  },
  {
   "cell_type": "code",
   "execution_count": 41,
   "metadata": {},
   "outputs": [
    {
     "data": {
      "text/plain": [
       "mysum (generic function with 1 method)"
      ]
     },
     "execution_count": 41,
     "metadata": {},
     "output_type": "execute_result"
    }
   ],
   "source": [
    "function mysum(A)   \n",
    "    s = 0.0 # s = zero(eltype(a))\n",
    "    for a in A\n",
    "        s += a\n",
    "    end\n",
    "    s\n",
    "end"
   ]
  },
  {
   "cell_type": "code",
   "execution_count": 42,
   "metadata": {},
   "outputs": [
    {
     "data": {
      "text/plain": [
       "BenchmarkTools.Trial: 580 samples with 1 evaluation.\n",
       " Range \u001b[90m(\u001b[39m\u001b[36m\u001b[1mmin\u001b[22m\u001b[39m … \u001b[35mmax\u001b[39m\u001b[90m):  \u001b[39m\u001b[36m\u001b[1m8.544 ms\u001b[22m\u001b[39m … \u001b[35m 9.277 ms\u001b[39m  \u001b[90m┊\u001b[39m GC \u001b[90m(\u001b[39mmin … max\u001b[90m): \u001b[39m0.00% … 0.00%\n",
       " Time  \u001b[90m(\u001b[39m\u001b[34m\u001b[1mmedian\u001b[22m\u001b[39m\u001b[90m):     \u001b[39m\u001b[34m\u001b[1m8.600 ms              \u001b[22m\u001b[39m\u001b[90m┊\u001b[39m GC \u001b[90m(\u001b[39mmedian\u001b[90m):    \u001b[39m0.00%\n",
       " Time  \u001b[90m(\u001b[39m\u001b[32m\u001b[1mmean\u001b[22m\u001b[39m ± \u001b[32mσ\u001b[39m\u001b[90m):   \u001b[39m\u001b[32m\u001b[1m8.604 ms\u001b[22m\u001b[39m ± \u001b[32m64.960 μs\u001b[39m  \u001b[90m┊\u001b[39m GC \u001b[90m(\u001b[39mmean ± σ\u001b[90m):  \u001b[39m0.00% ± 0.00%\n",
       "\n",
       "  \u001b[39m \u001b[39m \u001b[39m \u001b[39m \u001b[39m▂\u001b[39m \u001b[39m \u001b[39m▅\u001b[39m▂\u001b[39m▃\u001b[39m \u001b[39m \u001b[39m▃\u001b[39m \u001b[39m▂\u001b[39m▁\u001b[39m▃\u001b[39m▂\u001b[39m \u001b[39m \u001b[39m▃\u001b[39m \u001b[39m \u001b[39m▁\u001b[39m▂\u001b[34m \u001b[39m\u001b[39m▅\u001b[32m \u001b[39m\u001b[39m▂\u001b[39m▄\u001b[39m█\u001b[39m▄\u001b[39m▆\u001b[39m▃\u001b[39m \u001b[39m \u001b[39m \u001b[39m▂\u001b[39m \u001b[39m▁\u001b[39m \u001b[39m \u001b[39m \u001b[39m \u001b[39m \u001b[39m \u001b[39m \u001b[39m \u001b[39m \u001b[39m \u001b[39m \u001b[39m \u001b[39m \u001b[39m \u001b[39m \u001b[39m \u001b[39m \u001b[39m \u001b[39m \u001b[39m \n",
       "  \u001b[39m▃\u001b[39m▃\u001b[39m▄\u001b[39m█\u001b[39m█\u001b[39m▅\u001b[39m▆\u001b[39m█\u001b[39m█\u001b[39m█\u001b[39m▇\u001b[39m▇\u001b[39m█\u001b[39m█\u001b[39m█\u001b[39m█\u001b[39m█\u001b[39m█\u001b[39m█\u001b[39m█\u001b[39m█\u001b[39m█\u001b[39m█\u001b[39m█\u001b[39m█\u001b[34m█\u001b[39m\u001b[39m█\u001b[32m█\u001b[39m\u001b[39m█\u001b[39m█\u001b[39m█\u001b[39m█\u001b[39m█\u001b[39m█\u001b[39m█\u001b[39m▇\u001b[39m█\u001b[39m█\u001b[39m█\u001b[39m█\u001b[39m▅\u001b[39m▆\u001b[39m▇\u001b[39m▄\u001b[39m▄\u001b[39m▆\u001b[39m▄\u001b[39m▄\u001b[39m▃\u001b[39m▃\u001b[39m▃\u001b[39m▃\u001b[39m▃\u001b[39m▁\u001b[39m▃\u001b[39m▁\u001b[39m▁\u001b[39m▃\u001b[39m \u001b[39m▅\n",
       "  8.54 ms\u001b[90m        Histogram: frequency by time\u001b[39m        8.67 ms \u001b[0m\u001b[1m<\u001b[22m\n",
       "\n",
       " Memory estimate\u001b[90m: \u001b[39m\u001b[33m0 bytes\u001b[39m, allocs estimate\u001b[90m: \u001b[39m\u001b[33m0\u001b[39m."
      ]
     },
     "execution_count": 42,
     "metadata": {},
     "output_type": "execute_result"
    }
   ],
   "source": [
    "j_bench_hand = @benchmark mysum($a)"
   ]
  },
  {
   "cell_type": "code",
   "execution_count": 43,
   "metadata": {},
   "outputs": [
    {
     "data": {
      "text/plain": [
       "Dict{Any, Any} with 7 entries:\n",
       "  \"C com -ffast-math\"    => 5.02933\n",
       "  \"Python escrito à mão\" => 952.313\n",
       "  \"C\"                    => 8.52142\n",
       "  \"Python numpy\"         => 3.84377\n",
       "  \"Julia escrito à mão\"  => 8.54366\n",
       "  \"Julia\"                => 3.76454\n",
       "  \"Python\"               => 778.699"
      ]
     },
     "execution_count": 43,
     "metadata": {},
     "output_type": "execute_result"
    }
   ],
   "source": [
    "d[\"Julia escrito à mão\"] = minimum(j_bench_hand.times) / 1e6\n",
    "d"
   ]
  },
  {
   "cell_type": "markdown",
   "metadata": {},
   "source": [
    "## 8. Julia (escrito à mão com SIMD)"
   ]
  },
  {
   "cell_type": "code",
   "execution_count": 44,
   "metadata": {},
   "outputs": [
    {
     "data": {
      "text/plain": [
       "mysum_simd (generic function with 1 method)"
      ]
     },
     "execution_count": 44,
     "metadata": {},
     "output_type": "execute_result"
    }
   ],
   "source": [
    "function mysum_simd(A)   \n",
    "    s = 0.0 # s = zero(eltype(A))\n",
    "    @simd for a in A\n",
    "        s += a\n",
    "    end\n",
    "    s\n",
    "end"
   ]
  },
  {
   "cell_type": "code",
   "execution_count": 45,
   "metadata": {},
   "outputs": [
    {
     "data": {
      "text/plain": [
       "BenchmarkTools.Trial: 1345 samples with 1 evaluation.\n",
       " Range \u001b[90m(\u001b[39m\u001b[36m\u001b[1mmin\u001b[22m\u001b[39m … \u001b[35mmax\u001b[39m\u001b[90m):  \u001b[39m\u001b[36m\u001b[1m3.666 ms\u001b[22m\u001b[39m … \u001b[35m 5.030 ms\u001b[39m  \u001b[90m┊\u001b[39m GC \u001b[90m(\u001b[39mmin … max\u001b[90m): \u001b[39m0.00% … 0.00%\n",
       " Time  \u001b[90m(\u001b[39m\u001b[34m\u001b[1mmedian\u001b[22m\u001b[39m\u001b[90m):     \u001b[39m\u001b[34m\u001b[1m3.687 ms              \u001b[22m\u001b[39m\u001b[90m┊\u001b[39m GC \u001b[90m(\u001b[39mmedian\u001b[90m):    \u001b[39m0.00%\n",
       " Time  \u001b[90m(\u001b[39m\u001b[32m\u001b[1mmean\u001b[22m\u001b[39m ± \u001b[32mσ\u001b[39m\u001b[90m):   \u001b[39m\u001b[32m\u001b[1m3.699 ms\u001b[22m\u001b[39m ± \u001b[32m67.675 μs\u001b[39m  \u001b[90m┊\u001b[39m GC \u001b[90m(\u001b[39mmean ± σ\u001b[90m):  \u001b[39m0.00% ± 0.00%\n",
       "\n",
       "  \u001b[39m \u001b[39m▃\u001b[39m▇\u001b[39m█\u001b[34m█\u001b[39m\u001b[39m▅\u001b[32m▁\u001b[39m\u001b[39m▁\u001b[39m \u001b[39m \u001b[39m \u001b[39m \u001b[39m \u001b[39m \u001b[39m \u001b[39m \u001b[39m \u001b[39m \u001b[39m \u001b[39m \u001b[39m \u001b[39m \u001b[39m \u001b[39m \u001b[39m \u001b[39m \u001b[39m \u001b[39m \u001b[39m \u001b[39m \u001b[39m \u001b[39m \u001b[39m \u001b[39m \u001b[39m \u001b[39m \u001b[39m \u001b[39m \u001b[39m \u001b[39m \u001b[39m \u001b[39m \u001b[39m \u001b[39m \u001b[39m \u001b[39m \u001b[39m \u001b[39m \u001b[39m \u001b[39m \u001b[39m \u001b[39m \u001b[39m \u001b[39m \u001b[39m \u001b[39m \u001b[39m \u001b[39m \u001b[39m \u001b[39m \n",
       "  \u001b[39m█\u001b[39m█\u001b[39m█\u001b[39m█\u001b[34m█\u001b[39m\u001b[39m█\u001b[32m█\u001b[39m\u001b[39m█\u001b[39m█\u001b[39m▇\u001b[39m▇\u001b[39m█\u001b[39m▆\u001b[39m▅\u001b[39m▇\u001b[39m▆\u001b[39m▅\u001b[39m▅\u001b[39m▆\u001b[39m▄\u001b[39m▆\u001b[39m▄\u001b[39m▁\u001b[39m▄\u001b[39m▄\u001b[39m▅\u001b[39m▄\u001b[39m▄\u001b[39m▄\u001b[39m▁\u001b[39m▁\u001b[39m▆\u001b[39m▅\u001b[39m▅\u001b[39m▄\u001b[39m▁\u001b[39m▄\u001b[39m▁\u001b[39m▁\u001b[39m▁\u001b[39m▁\u001b[39m▁\u001b[39m▅\u001b[39m▁\u001b[39m▁\u001b[39m▁\u001b[39m▄\u001b[39m▄\u001b[39m▁\u001b[39m▁\u001b[39m▁\u001b[39m▄\u001b[39m▁\u001b[39m▅\u001b[39m▅\u001b[39m▅\u001b[39m▁\u001b[39m▄\u001b[39m \u001b[39m█\n",
       "  3.67 ms\u001b[90m      \u001b[39m\u001b[90mHistogram: \u001b[39m\u001b[90m\u001b[1mlog(\u001b[22m\u001b[39m\u001b[90mfrequency\u001b[39m\u001b[90m\u001b[1m)\u001b[22m\u001b[39m\u001b[90m by time\u001b[39m     3.98 ms \u001b[0m\u001b[1m<\u001b[22m\n",
       "\n",
       " Memory estimate\u001b[90m: \u001b[39m\u001b[33m0 bytes\u001b[39m, allocs estimate\u001b[90m: \u001b[39m\u001b[33m0\u001b[39m."
      ]
     },
     "execution_count": 45,
     "metadata": {},
     "output_type": "execute_result"
    }
   ],
   "source": [
    "j_bench_hand_simd = @benchmark mysum_simd($a)"
   ]
  },
  {
   "cell_type": "code",
   "execution_count": 46,
   "metadata": {},
   "outputs": [
    {
     "data": {
      "text/plain": [
       "4.999028275752969e6"
      ]
     },
     "execution_count": 46,
     "metadata": {},
     "output_type": "execute_result"
    }
   ],
   "source": [
    "mysum_simd(a)"
   ]
  },
  {
   "cell_type": "code",
   "execution_count": 47,
   "metadata": {},
   "outputs": [
    {
     "data": {
      "text/plain": [
       "Dict{Any, Any} with 8 entries:\n",
       "  \"Julia escrito à mão com SIMD\" => 3.66632\n",
       "  \"C com -ffast-math\"            => 5.02933\n",
       "  \"Python escrito à mão\"         => 952.313\n",
       "  \"C\"                            => 8.52142\n",
       "  \"Python numpy\"                 => 3.84377\n",
       "  \"Julia escrito à mão\"          => 8.54366\n",
       "  \"Julia\"                        => 3.76454\n",
       "  \"Python\"                       => 778.699"
      ]
     },
     "execution_count": 47,
     "metadata": {},
     "output_type": "execute_result"
    }
   ],
   "source": [
    "d[\"Julia escrito à mão com SIMD\"] = minimum(j_bench_hand_simd.times) / 1e6\n",
    "d"
   ]
  },
  {
   "cell_type": "markdown",
   "metadata": {},
   "source": [
    "## Em resumo"
   ]
  },
  {
   "cell_type": "code",
   "execution_count": 48,
   "metadata": {},
   "outputs": [
    {
     "name": "stdout",
     "output_type": "stream",
     "text": [
      "Julia escrito à mão com SIMD....3.67\n",
      "Julia...........................3.76\n",
      "Python numpy....................3.84\n",
      "C com -ffast-math...............5.03\n",
      "C...............................8.52\n",
      "Julia escrito à mão.............8.54\n",
      "Python.........................778.7\n",
      "Python escrito à mão..........952.31\n"
     ]
    }
   ],
   "source": [
    "for (key, value) in sort(collect(d), by=last)\n",
    "    println(rpad(key, 30, \".\"), lpad(round(value; digits=2), 6, \".\"))\n",
    "end"
   ]
  }
 ],
 "metadata": {
  "kernelspec": {
   "display_name": "Julia 1.6.0",
   "language": "julia",
   "name": "julia-1.6"
  },
  "language_info": {
   "file_extension": ".jl",
   "mimetype": "application/julia",
   "name": "julia",
   "version": "1.6.2"
  }
 },
 "nbformat": 4,
 "nbformat_minor": 4
}
