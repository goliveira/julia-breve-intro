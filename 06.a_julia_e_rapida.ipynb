{
 "cells": [
  {
   "cell_type": "markdown",
   "metadata": {},
   "source": [
    "# A Julia é rápida\n",
    "\n",
    "Frequentemente, programas são executados em diferentes linguagens de programação com o propósito de comparar os desempenhos das linguagens.\n",
    "Esse tipo de comparação não é simples e pode gerar discussões.\n",
    "\n",
    "Neste notebook vamos fazer uma comparação simples entre algumas linguagens de programação e deixar que você tire suas próprias conclusões."
   ]
  },
  {
   "cell_type": "markdown",
   "metadata": {},
   "source": [
    "## A função soma\n",
    "\n",
    "Consideramos a função soma, denotada por `sum`, que é definida por\n",
    "$$\n",
    "\\mathrm{sum}(a) = \\sum_{j=1}^n a_j,\n",
    "$$\n",
    "onde $a = [a_1, a_2, \\dots, a_j]$ é uma lista com $n$ elementos.\n",
    "\n",
    "Vamos criar uma lista com 10<sup>7</sup> elementos escolhidos aleatoriamente no intervalo $[0,1]$:"
   ]
  },
  {
   "cell_type": "code",
   "execution_count": 1,
   "metadata": {},
   "outputs": [
    {
     "data": {
      "text/plain": [
       "10000000-element Vector{Float64}:\n",
       " 0.7177785555505732\n",
       " 0.322981083960452\n",
       " 0.43041587390589275\n",
       " 0.1001852884864548\n",
       " 0.049862334658187346\n",
       " 0.029811635658723468\n",
       " 0.8918127386564761\n",
       " 0.7022346914186048\n",
       " 0.8811826899067671\n",
       " 0.8672647463748463\n",
       " 0.6521856122870944\n",
       " 0.2489974588239141\n",
       " 0.41037507932099604\n",
       " ⋮\n",
       " 0.009558372917969349\n",
       " 0.9371126584549707\n",
       " 0.5808092660489629\n",
       " 0.05976052533874887\n",
       " 0.23493673863716424\n",
       " 0.6901351644757314\n",
       " 0.45315604334605586\n",
       " 0.4941088717954648\n",
       " 0.9785960369578391\n",
       " 0.3333319369780732\n",
       " 0.5111896448079055\n",
       " 0.16074543624053794"
      ]
     },
     "execution_count": 1,
     "metadata": {},
     "output_type": "execute_result"
    }
   ],
   "source": [
    "a = rand(10^7)"
   ]
  },
  {
   "cell_type": "markdown",
   "metadata": {},
   "source": [
    "Calculamos a soma dos elementos de `a`:"
   ]
  },
  {
   "cell_type": "code",
   "execution_count": 2,
   "metadata": {},
   "outputs": [
    {
     "data": {
      "text/plain": [
       "5.000644366525242e6"
      ]
     },
     "execution_count": 2,
     "metadata": {},
     "output_type": "execute_result"
    }
   ],
   "source": [
    "sum(a)"
   ]
  },
  {
   "cell_type": "markdown",
   "metadata": {},
   "source": [
    "O resultado esperado é 0.5 * 10<sup>7</sup>, pois o valor médio de cada elemento da lista é igual a 0.5."
   ]
  },
  {
   "cell_type": "markdown",
   "metadata": {},
   "source": [
    "## Medindo desempenho de formas diferentes, em linguagens diferentes"
   ]
  },
  {
   "cell_type": "code",
   "execution_count": 3,
   "metadata": {},
   "outputs": [
    {
     "name": "stdout",
     "output_type": "stream",
     "text": [
      "  0.005968 seconds (1 allocation: 16 bytes)\n"
     ]
    },
    {
     "data": {
      "text/plain": [
       "5.000644366525242e6"
      ]
     },
     "execution_count": 3,
     "metadata": {},
     "output_type": "execute_result"
    }
   ],
   "source": [
    "@time sum(a)"
   ]
  },
  {
   "cell_type": "markdown",
   "metadata": {},
   "source": [
    "A macro `@time` é boa para uma estimativa grosseira, mas não é muito precisa.\n",
    "\n",
    "O pacote `BenchmarkTools.jl` fornece um método simples e preciso de fazer comparações."
   ]
  },
  {
   "cell_type": "code",
   "execution_count": 4,
   "metadata": {},
   "outputs": [
    {
     "name": "stderr",
     "output_type": "stream",
     "text": [
      "\u001b[32m\u001b[1m    Updating\u001b[22m\u001b[39m registry at `~/.julia/registries/General.toml`\n",
      "\u001b[32m\u001b[1m   Resolving\u001b[22m\u001b[39m package versions...\n",
      "\u001b[32m\u001b[1m  No Changes\u001b[22m\u001b[39m to `~/Sync/julia-breve-intro/Project.toml`\n",
      "\u001b[32m\u001b[1m  No Changes\u001b[22m\u001b[39m to `~/Sync/julia-breve-intro/Manifest.toml`\n"
     ]
    }
   ],
   "source": [
    "using Pkg\n",
    "Pkg.add(\"BenchmarkTools\")"
   ]
  },
  {
   "cell_type": "code",
   "execution_count": 5,
   "metadata": {},
   "outputs": [],
   "source": [
    "using BenchmarkTools"
   ]
  },
  {
   "cell_type": "markdown",
   "metadata": {},
   "source": [
    "## 1. C\n",
    "\n",
    "A linguagem C é considerada uma linguagem difícil para os humanos e simples para as máquinas.\n",
    "\n",
    "Em uma sessão da Julia, podemos inserir um programa em C, compilá-lo e executá-lo:"
   ]
  },
  {
   "cell_type": "code",
   "execution_count": 6,
   "metadata": {},
   "outputs": [
    {
     "data": {
      "text/plain": [
       "c_sum (generic function with 1 method)"
      ]
     },
     "execution_count": 6,
     "metadata": {},
     "output_type": "execute_result"
    }
   ],
   "source": [
    "using Libdl\n",
    "C_code = \"\"\"\n",
    "#include <stddef.h>\n",
    "double c_sum(size_t n, double *X) {\n",
    "    double s = 0.0;\n",
    "    for (size_t i = 0; i < n; ++i) {\n",
    "        s += X[i];\n",
    "    }\n",
    "    return s;\n",
    "}\n",
    "\"\"\"\n",
    "\n",
    "const Clib = tempname()  # Cria um arquivo temporário\n",
    "\n",
    "# Compila para uma biblioteca compartilhada passando\n",
    "# o código C_code para o compilador gcc (só funciona\n",
    "# se o gcc estiver instalado):\n",
    "\n",
    "open(`gcc -fPIC -O3 -msse3 -xc -shared -o $(Clib * \".\" * Libdl.dlext) -`, \"w\") do f\n",
    "    print(f, C_code) \n",
    "end\n",
    "\n",
    "# Define uma função em Julia que chama a função do C\n",
    "c_sum(X::Array{Float64}) = ccall((\"c_sum\", Clib), Float64, (Csize_t, Ptr{Float64}), length(X), X)"
   ]
  },
  {
   "cell_type": "code",
   "execution_count": 7,
   "metadata": {},
   "outputs": [
    {
     "data": {
      "text/plain": [
       "5.000644366524802e6"
      ]
     },
     "execution_count": 7,
     "metadata": {},
     "output_type": "execute_result"
    }
   ],
   "source": [
    "c_sum(a)"
   ]
  },
  {
   "cell_type": "code",
   "execution_count": 8,
   "metadata": {},
   "outputs": [
    {
     "data": {
      "text/plain": [
       "true"
      ]
     },
     "execution_count": 8,
     "metadata": {},
     "output_type": "execute_result"
    }
   ],
   "source": [
    "c_sum(a) ≈ sum(a)  # Digite \\approx e tecle <TAB> para obter o símbolo ≈"
   ]
  },
  {
   "cell_type": "code",
   "execution_count": 9,
   "metadata": {},
   "outputs": [
    {
     "data": {
      "text/plain": [
       "-4.4051557779312134e-7"
      ]
     },
     "execution_count": 9,
     "metadata": {},
     "output_type": "execute_result"
    }
   ],
   "source": [
    "c_sum(a) - sum(a)"
   ]
  },
  {
   "cell_type": "code",
   "execution_count": 10,
   "metadata": {},
   "outputs": [
    {
     "data": {
      "text/plain": [
       "isapprox (generic function with 9 methods)"
      ]
     },
     "execution_count": 10,
     "metadata": {},
     "output_type": "execute_result"
    }
   ],
   "source": [
    "≈ # é uma abreviação (alias) para a função `isapprox`"
   ]
  },
  {
   "cell_type": "code",
   "execution_count": 11,
   "metadata": {},
   "outputs": [
    {
     "name": "stdout",
     "output_type": "stream",
     "text": [
      "search: \u001b[0m\u001b[1mi\u001b[22m\u001b[0m\u001b[1ms\u001b[22m\u001b[0m\u001b[1ma\u001b[22m\u001b[0m\u001b[1mp\u001b[22m\u001b[0m\u001b[1mp\u001b[22m\u001b[0m\u001b[1mr\u001b[22m\u001b[0m\u001b[1mo\u001b[22m\u001b[0m\u001b[1mx\u001b[22m\n",
      "\n"
     ]
    },
    {
     "data": {
      "text/latex": [
       "\\begin{verbatim}\n",
       "isapprox(x, y; atol::Real=0, rtol::Real=atol>0 ? 0 : √eps, nans::Bool=false[, norm::Function])\n",
       "\\end{verbatim}\n",
       "Inexact equality comparison. Two numbers compare equal if their relative distance \\emph{or} their absolute distance is within tolerance bounds: \\texttt{isapprox} returns \\texttt{true} if \\texttt{norm(x-y) <= max(atol, rtol*max(norm(x), norm(y)))}. The default \\texttt{atol} is zero and the default \\texttt{rtol} depends on the types of \\texttt{x} and \\texttt{y}. The keyword argument \\texttt{nans} determines whether or not NaN values are considered equal (defaults to false).\n",
       "\n",
       "For real or complex floating-point values, if an \\texttt{atol > 0} is not specified, \\texttt{rtol} defaults to the square root of \\href{@ref}{\\texttt{eps}} of the type of \\texttt{x} or \\texttt{y}, whichever is bigger (least precise). This corresponds to requiring equality of about half of the significand digits. Otherwise, e.g. for integer arguments or if an \\texttt{atol > 0} is supplied, \\texttt{rtol} defaults to zero.\n",
       "\n",
       "The \\texttt{norm} keyword defaults to \\texttt{abs} for numeric \\texttt{(x,y)} and to \\texttt{LinearAlgebra.norm} for arrays (where an alternative \\texttt{norm} choice is sometimes useful). When \\texttt{x} and \\texttt{y} are arrays, if \\texttt{norm(x-y)} is not finite (i.e. \\texttt{±Inf} or \\texttt{NaN}), the comparison falls back to checking whether all elements of \\texttt{x} and \\texttt{y} are approximately equal component-wise.\n",
       "\n",
       "The binary operator \\texttt{≈} is equivalent to \\texttt{isapprox} with the default arguments, and \\texttt{x ≉ y} is equivalent to \\texttt{!isapprox(x,y)}.\n",
       "\n",
       "Note that \\texttt{x ≈ 0} (i.e., comparing to zero with the default tolerances) is equivalent to \\texttt{x == 0} since the default \\texttt{atol} is \\texttt{0}.  In such cases, you should either supply an appropriate \\texttt{atol} (or use \\texttt{norm(x) ≤ atol}) or rearrange your code (e.g. use \\texttt{x ≈ y} rather than \\texttt{x - y ≈ 0}).   It is not possible to pick a nonzero \\texttt{atol} automatically because it depends on the overall scaling (the \"units\") of your problem: for example, in \\texttt{x - y ≈ 0}, \\texttt{atol=1e-9} is an absurdly small tolerance if \\texttt{x} is the \\href{https://en.wikipedia.org/wiki/Earth_radius}{radius of the Earth} in meters, but an absurdly large tolerance if \\texttt{x} is the \\href{https://en.wikipedia.org/wiki/Bohr_radius}{radius of a Hydrogen atom} in meters.\n",
       "\n",
       "\\begin{quote}\n",
       "\\textbf{compat}\n",
       "\n",
       "Julia 1.6\n",
       "\n",
       "Passing the \\texttt{norm} keyword argument when comparing numeric (non-array) arguments requires Julia 1.6 or later.\n",
       "\n",
       "\\end{quote}\n",
       "\\section{Examples}\n",
       "\\begin{verbatim}\n",
       "julia> isapprox(0.1, 0.15; atol=0.05)\n",
       "true\n",
       "\n",
       "julia> isapprox(0.1, 0.15; rtol=0.34)\n",
       "true\n",
       "\n",
       "julia> isapprox(0.1, 0.15; rtol=0.33)\n",
       "false\n",
       "\n",
       "julia> 0.1 + 1e-10 ≈ 0.1\n",
       "true\n",
       "\n",
       "julia> 1e-10 ≈ 0\n",
       "false\n",
       "\n",
       "julia> isapprox(1e-10, 0, atol=1e-8)\n",
       "true\n",
       "\n",
       "julia> isapprox([10.0^9, 1.0], [10.0^9, 2.0]) # using `norm`\n",
       "true\n",
       "\\end{verbatim}\n",
       "\\rule{\\textwidth}{1pt}\n",
       "\\begin{verbatim}\n",
       "isapprox(x; kwargs...) / ≈(x; kwargs...)\n",
       "\\end{verbatim}\n",
       "Create a function that compares its argument to \\texttt{x} using \\texttt{≈}, i.e. a function equivalent to \\texttt{y -> y ≈ x}.\n",
       "\n",
       "The keyword arguments supported here are the same as those in the 2-argument \\texttt{isapprox}.\n",
       "\n",
       "\\begin{quote}\n",
       "\\textbf{compat}\n",
       "\n",
       "Julia 1.5\n",
       "\n",
       "This method requires Julia 1.5 or later.\n",
       "\n",
       "\\end{quote}\n"
      ],
      "text/markdown": [
       "```\n",
       "isapprox(x, y; atol::Real=0, rtol::Real=atol>0 ? 0 : √eps, nans::Bool=false[, norm::Function])\n",
       "```\n",
       "\n",
       "Inexact equality comparison. Two numbers compare equal if their relative distance *or* their absolute distance is within tolerance bounds: `isapprox` returns `true` if `norm(x-y) <= max(atol, rtol*max(norm(x), norm(y)))`. The default `atol` is zero and the default `rtol` depends on the types of `x` and `y`. The keyword argument `nans` determines whether or not NaN values are considered equal (defaults to false).\n",
       "\n",
       "For real or complex floating-point values, if an `atol > 0` is not specified, `rtol` defaults to the square root of [`eps`](@ref) of the type of `x` or `y`, whichever is bigger (least precise). This corresponds to requiring equality of about half of the significand digits. Otherwise, e.g. for integer arguments or if an `atol > 0` is supplied, `rtol` defaults to zero.\n",
       "\n",
       "The `norm` keyword defaults to `abs` for numeric `(x,y)` and to `LinearAlgebra.norm` for arrays (where an alternative `norm` choice is sometimes useful). When `x` and `y` are arrays, if `norm(x-y)` is not finite (i.e. `±Inf` or `NaN`), the comparison falls back to checking whether all elements of `x` and `y` are approximately equal component-wise.\n",
       "\n",
       "The binary operator `≈` is equivalent to `isapprox` with the default arguments, and `x ≉ y` is equivalent to `!isapprox(x,y)`.\n",
       "\n",
       "Note that `x ≈ 0` (i.e., comparing to zero with the default tolerances) is equivalent to `x == 0` since the default `atol` is `0`.  In such cases, you should either supply an appropriate `atol` (or use `norm(x) ≤ atol`) or rearrange your code (e.g. use `x ≈ y` rather than `x - y ≈ 0`).   It is not possible to pick a nonzero `atol` automatically because it depends on the overall scaling (the \"units\") of your problem: for example, in `x - y ≈ 0`, `atol=1e-9` is an absurdly small tolerance if `x` is the [radius of the Earth](https://en.wikipedia.org/wiki/Earth_radius) in meters, but an absurdly large tolerance if `x` is the [radius of a Hydrogen atom](https://en.wikipedia.org/wiki/Bohr_radius) in meters.\n",
       "\n",
       "!!! compat \"Julia 1.6\"\n",
       "    Passing the `norm` keyword argument when comparing numeric (non-array) arguments requires Julia 1.6 or later.\n",
       "\n",
       "\n",
       "# Examples\n",
       "\n",
       "```jldoctest\n",
       "julia> isapprox(0.1, 0.15; atol=0.05)\n",
       "true\n",
       "\n",
       "julia> isapprox(0.1, 0.15; rtol=0.34)\n",
       "true\n",
       "\n",
       "julia> isapprox(0.1, 0.15; rtol=0.33)\n",
       "false\n",
       "\n",
       "julia> 0.1 + 1e-10 ≈ 0.1\n",
       "true\n",
       "\n",
       "julia> 1e-10 ≈ 0\n",
       "false\n",
       "\n",
       "julia> isapprox(1e-10, 0, atol=1e-8)\n",
       "true\n",
       "\n",
       "julia> isapprox([10.0^9, 1.0], [10.0^9, 2.0]) # using `norm`\n",
       "true\n",
       "```\n",
       "\n",
       "---\n",
       "\n",
       "```\n",
       "isapprox(x; kwargs...) / ≈(x; kwargs...)\n",
       "```\n",
       "\n",
       "Create a function that compares its argument to `x` using `≈`, i.e. a function equivalent to `y -> y ≈ x`.\n",
       "\n",
       "The keyword arguments supported here are the same as those in the 2-argument `isapprox`.\n",
       "\n",
       "!!! compat \"Julia 1.5\"\n",
       "    This method requires Julia 1.5 or later.\n",
       "\n"
      ],
      "text/plain": [
       "\u001b[36m  isapprox(x, y; atol::Real=0, rtol::Real=atol>0 ? 0 : √eps, nans::Bool=false[, norm::Function])\u001b[39m\n",
       "\n",
       "  Inexact equality comparison. Two numbers compare equal if their relative\n",
       "  distance \u001b[4mor\u001b[24m their absolute distance is within tolerance bounds: \u001b[36misapprox\u001b[39m\n",
       "  returns \u001b[36mtrue\u001b[39m if \u001b[36mnorm(x-y) <= max(atol, rtol*max(norm(x), norm(y)))\u001b[39m. The\n",
       "  default \u001b[36matol\u001b[39m is zero and the default \u001b[36mrtol\u001b[39m depends on the types of \u001b[36mx\u001b[39m and \u001b[36my\u001b[39m.\n",
       "  The keyword argument \u001b[36mnans\u001b[39m determines whether or not NaN values are\n",
       "  considered equal (defaults to false).\n",
       "\n",
       "  For real or complex floating-point values, if an \u001b[36matol > 0\u001b[39m is not specified,\n",
       "  \u001b[36mrtol\u001b[39m defaults to the square root of \u001b[36meps\u001b[39m of the type of \u001b[36mx\u001b[39m or \u001b[36my\u001b[39m, whichever is\n",
       "  bigger (least precise). This corresponds to requiring equality of about half\n",
       "  of the significand digits. Otherwise, e.g. for integer arguments or if an\n",
       "  \u001b[36matol > 0\u001b[39m is supplied, \u001b[36mrtol\u001b[39m defaults to zero.\n",
       "\n",
       "  The \u001b[36mnorm\u001b[39m keyword defaults to \u001b[36mabs\u001b[39m for numeric \u001b[36m(x,y)\u001b[39m and to \u001b[36mLinearAlgebra.norm\u001b[39m\n",
       "  for arrays (where an alternative \u001b[36mnorm\u001b[39m choice is sometimes useful). When \u001b[36mx\u001b[39m\n",
       "  and \u001b[36my\u001b[39m are arrays, if \u001b[36mnorm(x-y)\u001b[39m is not finite (i.e. \u001b[36m±Inf\u001b[39m or \u001b[36mNaN\u001b[39m), the\n",
       "  comparison falls back to checking whether all elements of \u001b[36mx\u001b[39m and \u001b[36my\u001b[39m are\n",
       "  approximately equal component-wise.\n",
       "\n",
       "  The binary operator \u001b[36m≈\u001b[39m is equivalent to \u001b[36misapprox\u001b[39m with the default arguments,\n",
       "  and \u001b[36mx ≉ y\u001b[39m is equivalent to \u001b[36m!isapprox(x,y)\u001b[39m.\n",
       "\n",
       "  Note that \u001b[36mx ≈ 0\u001b[39m (i.e., comparing to zero with the default tolerances) is\n",
       "  equivalent to \u001b[36mx == 0\u001b[39m since the default \u001b[36matol\u001b[39m is \u001b[36m0\u001b[39m. In such cases, you should\n",
       "  either supply an appropriate \u001b[36matol\u001b[39m (or use \u001b[36mnorm(x) ≤ atol\u001b[39m) or rearrange your\n",
       "  code (e.g. use \u001b[36mx ≈ y\u001b[39m rather than \u001b[36mx - y ≈ 0\u001b[39m). It is not possible to pick a\n",
       "  nonzero \u001b[36matol\u001b[39m automatically because it depends on the overall scaling (the\n",
       "  \"units\") of your problem: for example, in \u001b[36mx - y ≈ 0\u001b[39m, \u001b[36matol=1e-9\u001b[39m is an\n",
       "  absurdly small tolerance if \u001b[36mx\u001b[39m is the radius of the Earth\n",
       "  (https://en.wikipedia.org/wiki/Earth_radius) in meters, but an absurdly\n",
       "  large tolerance if \u001b[36mx\u001b[39m is the radius of a Hydrogen atom\n",
       "  (https://en.wikipedia.org/wiki/Bohr_radius) in meters.\n",
       "\n",
       "\u001b[39m\u001b[1m  │ \u001b[22m\u001b[39m\u001b[1mJulia 1.6\u001b[22m\n",
       "\u001b[39m\u001b[1m  │\u001b[22m\n",
       "\u001b[39m\u001b[1m  │\u001b[22m  Passing the \u001b[36mnorm\u001b[39m keyword argument when comparing numeric\n",
       "\u001b[39m\u001b[1m  │\u001b[22m  (non-array) arguments requires Julia 1.6 or later.\n",
       "\n",
       "\u001b[1m  Examples\u001b[22m\n",
       "\u001b[1m  ≡≡≡≡≡≡≡≡≡≡\u001b[22m\n",
       "\n",
       "\u001b[36m  julia> isapprox(0.1, 0.15; atol=0.05)\u001b[39m\n",
       "\u001b[36m  true\u001b[39m\n",
       "\u001b[36m  \u001b[39m\n",
       "\u001b[36m  julia> isapprox(0.1, 0.15; rtol=0.34)\u001b[39m\n",
       "\u001b[36m  true\u001b[39m\n",
       "\u001b[36m  \u001b[39m\n",
       "\u001b[36m  julia> isapprox(0.1, 0.15; rtol=0.33)\u001b[39m\n",
       "\u001b[36m  false\u001b[39m\n",
       "\u001b[36m  \u001b[39m\n",
       "\u001b[36m  julia> 0.1 + 1e-10 ≈ 0.1\u001b[39m\n",
       "\u001b[36m  true\u001b[39m\n",
       "\u001b[36m  \u001b[39m\n",
       "\u001b[36m  julia> 1e-10 ≈ 0\u001b[39m\n",
       "\u001b[36m  false\u001b[39m\n",
       "\u001b[36m  \u001b[39m\n",
       "\u001b[36m  julia> isapprox(1e-10, 0, atol=1e-8)\u001b[39m\n",
       "\u001b[36m  true\u001b[39m\n",
       "\u001b[36m  \u001b[39m\n",
       "\u001b[36m  julia> isapprox([10.0^9, 1.0], [10.0^9, 2.0]) # using `norm`\u001b[39m\n",
       "\u001b[36m  true\u001b[39m\n",
       "\n",
       "  ────────────────────────────────────────────────────────────────────────────\n",
       "\n",
       "\u001b[36m  isapprox(x; kwargs...) / ≈(x; kwargs...)\u001b[39m\n",
       "\n",
       "  Create a function that compares its argument to \u001b[36mx\u001b[39m using \u001b[36m≈\u001b[39m, i.e. a function\n",
       "  equivalent to \u001b[36my -> y ≈ x\u001b[39m.\n",
       "\n",
       "  The keyword arguments supported here are the same as those in the 2-argument\n",
       "  \u001b[36misapprox\u001b[39m.\n",
       "\n",
       "\u001b[39m\u001b[1m  │ \u001b[22m\u001b[39m\u001b[1mJulia 1.5\u001b[22m\n",
       "\u001b[39m\u001b[1m  │\u001b[22m\n",
       "\u001b[39m\u001b[1m  │\u001b[22m  This method requires Julia 1.5 or later."
      ]
     },
     "execution_count": 11,
     "metadata": {},
     "output_type": "execute_result"
    }
   ],
   "source": [
    "?isapprox"
   ]
  },
  {
   "cell_type": "markdown",
   "metadata": {},
   "source": [
    "Agora podemos medir o desempenho do código C diretamente da sessão Julia."
   ]
  },
  {
   "cell_type": "code",
   "execution_count": 12,
   "metadata": {},
   "outputs": [
    {
     "data": {
      "text/plain": [
       "BenchmarkTools.Trial: 585 samples with 1 evaluation.\n",
       " Range \u001b[90m(\u001b[39m\u001b[36m\u001b[1mmin\u001b[22m\u001b[39m … \u001b[35mmax\u001b[39m\u001b[90m):  \u001b[39m\u001b[36m\u001b[1m8.515 ms\u001b[22m\u001b[39m … \u001b[35m8.579 ms\u001b[39m  \u001b[90m┊\u001b[39m GC \u001b[90m(\u001b[39mmin … max\u001b[90m): \u001b[39m0.00% … 0.00%\n",
       " Time  \u001b[90m(\u001b[39m\u001b[34m\u001b[1mmedian\u001b[22m\u001b[39m\u001b[90m):     \u001b[39m\u001b[34m\u001b[1m8.533 ms             \u001b[22m\u001b[39m\u001b[90m┊\u001b[39m GC \u001b[90m(\u001b[39mmedian\u001b[90m):    \u001b[39m0.00%\n",
       " Time  \u001b[90m(\u001b[39m\u001b[32m\u001b[1mmean\u001b[22m\u001b[39m ± \u001b[32mσ\u001b[39m\u001b[90m):   \u001b[39m\u001b[32m\u001b[1m8.534 ms\u001b[22m\u001b[39m ± \u001b[32m9.087 μs\u001b[39m  \u001b[90m┊\u001b[39m GC \u001b[90m(\u001b[39mmean ± σ\u001b[90m):  \u001b[39m0.00% ± 0.00%\n",
       "\n",
       "  \u001b[39m \u001b[39m \u001b[39m \u001b[39m \u001b[39m \u001b[39m \u001b[39m \u001b[39m \u001b[39m \u001b[39m \u001b[39m \u001b[39m▁\u001b[39m \u001b[39m▁\u001b[39m \u001b[39m▄\u001b[39m▁\u001b[39m▂\u001b[39m▃\u001b[39m▃\u001b[39m▇\u001b[39m▇\u001b[39m▄\u001b[39m▅\u001b[34m▄\u001b[39m\u001b[32m█\u001b[39m\u001b[39m \u001b[39m▄\u001b[39m \u001b[39m▁\u001b[39m \u001b[39m \u001b[39m \u001b[39m▂\u001b[39m \u001b[39m \u001b[39m▁\u001b[39m \u001b[39m \u001b[39m \u001b[39m \u001b[39m \u001b[39m \u001b[39m \u001b[39m \u001b[39m \u001b[39m \u001b[39m \u001b[39m \u001b[39m \u001b[39m \u001b[39m \u001b[39m \u001b[39m \u001b[39m \u001b[39m \u001b[39m \u001b[39m \u001b[39m \n",
       "  \u001b[39m▃\u001b[39m▃\u001b[39m▄\u001b[39m▂\u001b[39m▃\u001b[39m▃\u001b[39m▃\u001b[39m▆\u001b[39m▅\u001b[39m▅\u001b[39m▇\u001b[39m█\u001b[39m▇\u001b[39m█\u001b[39m█\u001b[39m█\u001b[39m█\u001b[39m█\u001b[39m█\u001b[39m█\u001b[39m█\u001b[39m█\u001b[39m█\u001b[39m█\u001b[34m█\u001b[39m\u001b[32m█\u001b[39m\u001b[39m█\u001b[39m█\u001b[39m█\u001b[39m█\u001b[39m▇\u001b[39m█\u001b[39m▇\u001b[39m█\u001b[39m█\u001b[39m█\u001b[39m█\u001b[39m▆\u001b[39m█\u001b[39m▇\u001b[39m▃\u001b[39m▆\u001b[39m▄\u001b[39m▅\u001b[39m▅\u001b[39m▅\u001b[39m▃\u001b[39m▁\u001b[39m▃\u001b[39m▄\u001b[39m▃\u001b[39m▃\u001b[39m▂\u001b[39m▁\u001b[39m▂\u001b[39m▁\u001b[39m▃\u001b[39m \u001b[39m▄\n",
       "  8.51 ms\u001b[90m        Histogram: frequency by time\u001b[39m       8.56 ms \u001b[0m\u001b[1m<\u001b[22m\n",
       "\n",
       " Memory estimate\u001b[90m: \u001b[39m\u001b[33m0 bytes\u001b[39m, allocs estimate\u001b[90m: \u001b[39m\u001b[33m0\u001b[39m."
      ]
     },
     "execution_count": 12,
     "metadata": {},
     "output_type": "execute_result"
    }
   ],
   "source": [
    "c_bench = @benchmark c_sum($a)"
   ]
  },
  {
   "cell_type": "code",
   "execution_count": 13,
   "metadata": {},
   "outputs": [
    {
     "name": "stdout",
     "output_type": "stream",
     "text": [
      "C: O tempo mais rápido foi 8.514739 msec\n"
     ]
    }
   ],
   "source": [
    "println(\"C: O tempo mais rápido foi $(minimum(c_bench.times) / 1e6) msec\")"
   ]
  },
  {
   "cell_type": "code",
   "execution_count": 14,
   "metadata": {},
   "outputs": [
    {
     "data": {
      "text/plain": [
       "Dict{Any, Any} with 1 entry:\n",
       "  \"C\" => 8.51474"
      ]
     },
     "execution_count": 14,
     "metadata": {},
     "output_type": "execute_result"
    }
   ],
   "source": [
    "d = Dict()\n",
    "d[\"C\"] = minimum(c_bench.times) / 1e6  # em milisegundos\n",
    "d"
   ]
  },
  {
   "cell_type": "code",
   "execution_count": 15,
   "metadata": {},
   "outputs": [
    {
     "data": {
      "text/plain": [
       "Plots.GRBackend()"
      ]
     },
     "execution_count": 15,
     "metadata": {},
     "output_type": "execute_result"
    }
   ],
   "source": [
    "using Plots\n",
    "gr()"
   ]
  },
  {
   "cell_type": "code",
   "execution_count": 16,
   "metadata": {},
   "outputs": [
    {
     "data": {
      "image/svg+xml": [
       "<?xml version=\"1.0\" encoding=\"utf-8\"?>\n",
       "<svg xmlns=\"http://www.w3.org/2000/svg\" xmlns:xlink=\"http://www.w3.org/1999/xlink\" width=\"600\" height=\"400\" viewBox=\"0 0 2400 1600\">\n",
       "<defs>\n",
       "  <clipPath id=\"clip060\">\n",
       "    <rect x=\"0\" y=\"0\" width=\"2400\" height=\"1600\"/>\n",
       "  </clipPath>\n",
       "</defs>\n",
       "<path clip-path=\"url(#clip060)\" d=\"\n",
       "M0 1600 L2400 1600 L2400 0 L0 0  Z\n",
       "  \" fill=\"#ffffff\" fill-rule=\"evenodd\" fill-opacity=\"1\"/>\n",
       "<defs>\n",
       "  <clipPath id=\"clip061\">\n",
       "    <rect x=\"480\" y=\"0\" width=\"1681\" height=\"1600\"/>\n",
       "  </clipPath>\n",
       "</defs>\n",
       "<path clip-path=\"url(#clip060)\" d=\"\n",
       "M205.121 1423.18 L2352.76 1423.18 L2352.76 47.2441 L205.121 47.2441  Z\n",
       "  \" fill=\"#ffffff\" fill-rule=\"evenodd\" fill-opacity=\"1\"/>\n",
       "<defs>\n",
       "  <clipPath id=\"clip062\">\n",
       "    <rect x=\"205\" y=\"47\" width=\"2149\" height=\"1377\"/>\n",
       "  </clipPath>\n",
       "</defs>\n",
       "<polyline clip-path=\"url(#clip062)\" style=\"stroke:#000000; stroke-linecap:butt; stroke-linejoin:round; stroke-width:2; stroke-opacity:0.1; fill:none\" points=\"\n",
       "  462.022,1423.18 462.022,47.2441 \n",
       "  \"/>\n",
       "<polyline clip-path=\"url(#clip062)\" style=\"stroke:#000000; stroke-linecap:butt; stroke-linejoin:round; stroke-width:2; stroke-opacity:0.1; fill:none\" points=\"\n",
       "  1052.88,1423.18 1052.88,47.2441 \n",
       "  \"/>\n",
       "<polyline clip-path=\"url(#clip062)\" style=\"stroke:#000000; stroke-linecap:butt; stroke-linejoin:round; stroke-width:2; stroke-opacity:0.1; fill:none\" points=\"\n",
       "  1643.74,1423.18 1643.74,47.2441 \n",
       "  \"/>\n",
       "<polyline clip-path=\"url(#clip062)\" style=\"stroke:#000000; stroke-linecap:butt; stroke-linejoin:round; stroke-width:2; stroke-opacity:0.1; fill:none\" points=\"\n",
       "  2234.59,1423.18 2234.59,47.2441 \n",
       "  \"/>\n",
       "<polyline clip-path=\"url(#clip060)\" style=\"stroke:#000000; stroke-linecap:butt; stroke-linejoin:round; stroke-width:4; stroke-opacity:1; fill:none\" points=\"\n",
       "  205.121,1423.18 2352.76,1423.18 \n",
       "  \"/>\n",
       "<polyline clip-path=\"url(#clip060)\" style=\"stroke:#000000; stroke-linecap:butt; stroke-linejoin:round; stroke-width:4; stroke-opacity:1; fill:none\" points=\"\n",
       "  462.022,1423.18 462.022,1404.28 \n",
       "  \"/>\n",
       "<polyline clip-path=\"url(#clip060)\" style=\"stroke:#000000; stroke-linecap:butt; stroke-linejoin:round; stroke-width:4; stroke-opacity:1; fill:none\" points=\"\n",
       "  1052.88,1423.18 1052.88,1404.28 \n",
       "  \"/>\n",
       "<polyline clip-path=\"url(#clip060)\" style=\"stroke:#000000; stroke-linecap:butt; stroke-linejoin:round; stroke-width:4; stroke-opacity:1; fill:none\" points=\"\n",
       "  1643.74,1423.18 1643.74,1404.28 \n",
       "  \"/>\n",
       "<polyline clip-path=\"url(#clip060)\" style=\"stroke:#000000; stroke-linecap:butt; stroke-linejoin:round; stroke-width:4; stroke-opacity:1; fill:none\" points=\"\n",
       "  2234.59,1423.18 2234.59,1404.28 \n",
       "  \"/>\n",
       "<path clip-path=\"url(#clip060)\" d=\"M424.893 1469.17 Q421.56 1469.17 419.638 1470.95 Q417.74 1472.73 417.74 1475.86 Q417.74 1478.98 419.638 1480.77 Q421.56 1482.55 424.893 1482.55 Q428.226 1482.55 430.148 1480.77 Q432.069 1478.96 432.069 1475.86 Q432.069 1472.73 430.148 1470.95 Q428.249 1469.17 424.893 1469.17 M420.217 1467.18 Q417.208 1466.44 415.518 1464.38 Q413.851 1462.32 413.851 1459.35 Q413.851 1455.21 416.791 1452.8 Q419.754 1450.39 424.893 1450.39 Q430.055 1450.39 432.995 1452.8 Q435.935 1455.21 435.935 1459.35 Q435.935 1462.32 434.245 1464.38 Q432.578 1466.44 429.592 1467.18 Q432.972 1467.96 434.847 1470.26 Q436.745 1472.55 436.745 1475.86 Q436.745 1480.88 433.666 1483.57 Q430.61 1486.25 424.893 1486.25 Q419.175 1486.25 416.097 1483.57 Q413.041 1480.88 413.041 1475.86 Q413.041 1472.55 414.939 1470.26 Q416.837 1467.96 420.217 1467.18 M418.504 1459.79 Q418.504 1462.48 420.171 1463.98 Q421.861 1465.49 424.893 1465.49 Q427.902 1465.49 429.592 1463.98 Q431.305 1462.48 431.305 1459.79 Q431.305 1457.11 429.592 1455.6 Q427.902 1454.1 424.893 1454.1 Q421.861 1454.1 420.171 1455.6 Q418.504 1457.11 418.504 1459.79 Z\" fill=\"#000000\" fill-rule=\"evenodd\" fill-opacity=\"1\" /><path clip-path=\"url(#clip060)\" d=\"M445.055 1479.7 L449.939 1479.7 L449.939 1485.58 L445.055 1485.58 L445.055 1479.7 Z\" fill=\"#000000\" fill-rule=\"evenodd\" fill-opacity=\"1\" /><path clip-path=\"url(#clip060)\" d=\"M460.171 1451.02 L478.527 1451.02 L478.527 1454.96 L464.453 1454.96 L464.453 1463.43 Q465.471 1463.08 466.49 1462.92 Q467.508 1462.73 468.527 1462.73 Q474.314 1462.73 477.694 1465.9 Q481.073 1469.08 481.073 1474.49 Q481.073 1480.07 477.601 1483.17 Q474.129 1486.25 467.809 1486.25 Q465.633 1486.25 463.365 1485.88 Q461.12 1485.51 458.712 1484.77 L458.712 1480.07 Q460.796 1481.2 463.018 1481.76 Q465.24 1482.32 467.717 1482.32 Q471.721 1482.32 474.059 1480.21 Q476.397 1478.1 476.397 1474.49 Q476.397 1470.88 474.059 1468.77 Q471.721 1466.67 467.717 1466.67 Q465.842 1466.67 463.967 1467.08 Q462.115 1467.5 460.171 1468.38 L460.171 1451.02 Z\" fill=\"#000000\" fill-rule=\"evenodd\" fill-opacity=\"1\" /><path clip-path=\"url(#clip060)\" d=\"M491.096 1481.64 L498.735 1481.64 L498.735 1455.28 L490.425 1456.95 L490.425 1452.69 L498.689 1451.02 L503.365 1451.02 L503.365 1481.64 L511.004 1481.64 L511.004 1485.58 L491.096 1485.58 L491.096 1481.64 Z\" fill=\"#000000\" fill-rule=\"evenodd\" fill-opacity=\"1\" /><path clip-path=\"url(#clip060)\" d=\"M1015.94 1469.17 Q1012.6 1469.17 1010.68 1470.95 Q1008.78 1472.73 1008.78 1475.86 Q1008.78 1478.98 1010.68 1480.77 Q1012.6 1482.55 1015.94 1482.55 Q1019.27 1482.55 1021.19 1480.77 Q1023.11 1478.96 1023.11 1475.86 Q1023.11 1472.73 1021.19 1470.95 Q1019.29 1469.17 1015.94 1469.17 M1011.26 1467.18 Q1008.25 1466.44 1006.56 1464.38 Q1004.89 1462.32 1004.89 1459.35 Q1004.89 1455.21 1007.83 1452.8 Q1010.8 1450.39 1015.94 1450.39 Q1021.1 1450.39 1024.04 1452.8 Q1026.98 1455.21 1026.98 1459.35 Q1026.98 1462.32 1025.29 1464.38 Q1023.62 1466.44 1020.63 1467.18 Q1024.01 1467.96 1025.89 1470.26 Q1027.79 1472.55 1027.79 1475.86 Q1027.79 1480.88 1024.71 1483.57 Q1021.65 1486.25 1015.94 1486.25 Q1010.22 1486.25 1007.14 1483.57 Q1004.08 1480.88 1004.08 1475.86 Q1004.08 1472.55 1005.98 1470.26 Q1007.88 1467.96 1011.26 1467.18 M1009.55 1459.79 Q1009.55 1462.48 1011.21 1463.98 Q1012.9 1465.49 1015.94 1465.49 Q1018.94 1465.49 1020.63 1463.98 Q1022.35 1462.48 1022.35 1459.79 Q1022.35 1457.11 1020.63 1455.6 Q1018.94 1454.1 1015.94 1454.1 Q1012.9 1454.1 1011.21 1455.6 Q1009.55 1457.11 1009.55 1459.79 Z\" fill=\"#000000\" fill-rule=\"evenodd\" fill-opacity=\"1\" /><path clip-path=\"url(#clip060)\" d=\"M1036.1 1479.7 L1040.98 1479.7 L1040.98 1485.58 L1036.1 1485.58 L1036.1 1479.7 Z\" fill=\"#000000\" fill-rule=\"evenodd\" fill-opacity=\"1\" /><path clip-path=\"url(#clip060)\" d=\"M1051.21 1451.02 L1069.57 1451.02 L1069.57 1454.96 L1055.5 1454.96 L1055.5 1463.43 Q1056.51 1463.08 1057.53 1462.92 Q1058.55 1462.73 1059.57 1462.73 Q1065.36 1462.73 1068.74 1465.9 Q1072.12 1469.08 1072.12 1474.49 Q1072.12 1480.07 1068.64 1483.17 Q1065.17 1486.25 1058.85 1486.25 Q1056.68 1486.25 1054.41 1485.88 Q1052.16 1485.51 1049.75 1484.77 L1049.75 1480.07 Q1051.84 1481.2 1054.06 1481.76 Q1056.28 1482.32 1058.76 1482.32 Q1062.76 1482.32 1065.1 1480.21 Q1067.44 1478.1 1067.44 1474.49 Q1067.44 1470.88 1065.1 1468.77 Q1062.76 1466.67 1058.76 1466.67 Q1056.88 1466.67 1055.01 1467.08 Q1053.16 1467.5 1051.21 1468.38 L1051.21 1451.02 Z\" fill=\"#000000\" fill-rule=\"evenodd\" fill-opacity=\"1\" /><path clip-path=\"url(#clip060)\" d=\"M1085.36 1481.64 L1101.68 1481.64 L1101.68 1485.58 L1079.73 1485.58 L1079.73 1481.64 Q1082.39 1478.89 1086.98 1474.26 Q1091.58 1469.61 1092.76 1468.27 Q1095.01 1465.74 1095.89 1464.01 Q1096.79 1462.25 1096.79 1460.56 Q1096.79 1457.8 1094.85 1456.07 Q1092.93 1454.33 1089.82 1454.33 Q1087.63 1454.33 1085.17 1455.09 Q1082.74 1455.86 1079.96 1457.41 L1079.96 1452.69 Q1082.79 1451.55 1085.24 1450.97 Q1087.69 1450.39 1089.73 1450.39 Q1095.1 1450.39 1098.3 1453.08 Q1101.49 1455.77 1101.49 1460.26 Q1101.49 1462.39 1100.68 1464.31 Q1099.89 1466.2 1097.79 1468.8 Q1097.21 1469.47 1094.11 1472.69 Q1091 1475.88 1085.36 1481.64 Z\" fill=\"#000000\" fill-rule=\"evenodd\" fill-opacity=\"1\" /><path clip-path=\"url(#clip060)\" d=\"M1606.32 1469.17 Q1602.99 1469.17 1601.06 1470.95 Q1599.17 1472.73 1599.17 1475.86 Q1599.17 1478.98 1601.06 1480.77 Q1602.99 1482.55 1606.32 1482.55 Q1609.65 1482.55 1611.57 1480.77 Q1613.49 1478.96 1613.49 1475.86 Q1613.49 1472.73 1611.57 1470.95 Q1609.67 1469.17 1606.32 1469.17 M1601.64 1467.18 Q1598.63 1466.44 1596.94 1464.38 Q1595.28 1462.32 1595.28 1459.35 Q1595.28 1455.21 1598.22 1452.8 Q1601.18 1450.39 1606.32 1450.39 Q1611.48 1450.39 1614.42 1452.8 Q1617.36 1455.21 1617.36 1459.35 Q1617.36 1462.32 1615.67 1464.38 Q1614 1466.44 1611.02 1467.18 Q1614.4 1467.96 1616.27 1470.26 Q1618.17 1472.55 1618.17 1475.86 Q1618.17 1480.88 1615.09 1483.57 Q1612.04 1486.25 1606.32 1486.25 Q1600.6 1486.25 1597.52 1483.57 Q1594.47 1480.88 1594.47 1475.86 Q1594.47 1472.55 1596.36 1470.26 Q1598.26 1467.96 1601.64 1467.18 M1599.93 1459.79 Q1599.93 1462.48 1601.6 1463.98 Q1603.29 1465.49 1606.32 1465.49 Q1609.33 1465.49 1611.02 1463.98 Q1612.73 1462.48 1612.73 1459.79 Q1612.73 1457.11 1611.02 1455.6 Q1609.33 1454.1 1606.32 1454.1 Q1603.29 1454.1 1601.6 1455.6 Q1599.93 1457.11 1599.93 1459.79 Z\" fill=\"#000000\" fill-rule=\"evenodd\" fill-opacity=\"1\" /><path clip-path=\"url(#clip060)\" d=\"M1626.48 1479.7 L1631.36 1479.7 L1631.36 1485.58 L1626.48 1485.58 L1626.48 1479.7 Z\" fill=\"#000000\" fill-rule=\"evenodd\" fill-opacity=\"1\" /><path clip-path=\"url(#clip060)\" d=\"M1641.6 1451.02 L1659.95 1451.02 L1659.95 1454.96 L1645.88 1454.96 L1645.88 1463.43 Q1646.9 1463.08 1647.92 1462.92 Q1648.93 1462.73 1649.95 1462.73 Q1655.74 1462.73 1659.12 1465.9 Q1662.5 1469.08 1662.5 1474.49 Q1662.5 1480.07 1659.03 1483.17 Q1655.55 1486.25 1649.23 1486.25 Q1647.06 1486.25 1644.79 1485.88 Q1642.55 1485.51 1640.14 1484.77 L1640.14 1480.07 Q1642.22 1481.2 1644.44 1481.76 Q1646.67 1482.32 1649.14 1482.32 Q1653.15 1482.32 1655.48 1480.21 Q1657.82 1478.1 1657.82 1474.49 Q1657.82 1470.88 1655.48 1468.77 Q1653.15 1466.67 1649.14 1466.67 Q1647.27 1466.67 1645.39 1467.08 Q1643.54 1467.5 1641.6 1468.38 L1641.6 1451.02 Z\" fill=\"#000000\" fill-rule=\"evenodd\" fill-opacity=\"1\" /><path clip-path=\"url(#clip060)\" d=\"M1685.88 1466.95 Q1689.23 1467.66 1691.11 1469.93 Q1693.01 1472.2 1693.01 1475.53 Q1693.01 1480.65 1689.49 1483.45 Q1685.97 1486.25 1679.49 1486.25 Q1677.31 1486.25 1675 1485.81 Q1672.71 1485.39 1670.25 1484.54 L1670.25 1480.02 Q1672.2 1481.16 1674.51 1481.74 Q1676.83 1482.32 1679.35 1482.32 Q1683.75 1482.32 1686.04 1480.58 Q1688.36 1478.84 1688.36 1475.53 Q1688.36 1472.48 1686.2 1470.77 Q1684.07 1469.03 1680.25 1469.03 L1676.23 1469.03 L1676.23 1465.19 L1680.44 1465.19 Q1683.89 1465.19 1685.72 1463.82 Q1687.54 1462.43 1687.54 1459.84 Q1687.54 1457.18 1685.65 1455.77 Q1683.77 1454.33 1680.25 1454.33 Q1678.33 1454.33 1676.13 1454.75 Q1673.93 1455.16 1671.3 1456.04 L1671.3 1451.88 Q1673.96 1451.14 1676.27 1450.77 Q1678.61 1450.39 1680.67 1450.39 Q1685.99 1450.39 1689.1 1452.83 Q1692.2 1455.23 1692.2 1459.35 Q1692.2 1462.22 1690.55 1464.21 Q1688.91 1466.18 1685.88 1466.95 Z\" fill=\"#000000\" fill-rule=\"evenodd\" fill-opacity=\"1\" /><path clip-path=\"url(#clip060)\" d=\"M2196.61 1469.17 Q2193.28 1469.17 2191.35 1470.95 Q2189.46 1472.73 2189.46 1475.86 Q2189.46 1478.98 2191.35 1480.77 Q2193.28 1482.55 2196.61 1482.55 Q2199.94 1482.55 2201.86 1480.77 Q2203.78 1478.96 2203.78 1475.86 Q2203.78 1472.73 2201.86 1470.95 Q2199.97 1469.17 2196.61 1469.17 M2191.93 1467.18 Q2188.92 1466.44 2187.23 1464.38 Q2185.57 1462.32 2185.57 1459.35 Q2185.57 1455.21 2188.51 1452.8 Q2191.47 1450.39 2196.61 1450.39 Q2201.77 1450.39 2204.71 1452.8 Q2207.65 1455.21 2207.65 1459.35 Q2207.65 1462.32 2205.96 1464.38 Q2204.29 1466.44 2201.31 1467.18 Q2204.69 1467.96 2206.56 1470.26 Q2208.46 1472.55 2208.46 1475.86 Q2208.46 1480.88 2205.38 1483.57 Q2202.33 1486.25 2196.61 1486.25 Q2190.89 1486.25 2187.81 1483.57 Q2184.76 1480.88 2184.76 1475.86 Q2184.76 1472.55 2186.66 1470.26 Q2188.55 1467.96 2191.93 1467.18 M2190.22 1459.79 Q2190.22 1462.48 2191.89 1463.98 Q2193.58 1465.49 2196.61 1465.49 Q2199.62 1465.49 2201.31 1463.98 Q2203.02 1462.48 2203.02 1459.79 Q2203.02 1457.11 2201.31 1455.6 Q2199.62 1454.1 2196.61 1454.1 Q2193.58 1454.1 2191.89 1455.6 Q2190.22 1457.11 2190.22 1459.79 Z\" fill=\"#000000\" fill-rule=\"evenodd\" fill-opacity=\"1\" /><path clip-path=\"url(#clip060)\" d=\"M2216.77 1479.7 L2221.65 1479.7 L2221.65 1485.58 L2216.77 1485.58 L2216.77 1479.7 Z\" fill=\"#000000\" fill-rule=\"evenodd\" fill-opacity=\"1\" /><path clip-path=\"url(#clip060)\" d=\"M2231.89 1451.02 L2250.24 1451.02 L2250.24 1454.96 L2236.17 1454.96 L2236.17 1463.43 Q2237.19 1463.08 2238.21 1462.92 Q2239.22 1462.73 2240.24 1462.73 Q2246.03 1462.73 2249.41 1465.9 Q2252.79 1469.08 2252.79 1474.49 Q2252.79 1480.07 2249.32 1483.17 Q2245.84 1486.25 2239.53 1486.25 Q2237.35 1486.25 2235.08 1485.88 Q2232.84 1485.51 2230.43 1484.77 L2230.43 1480.07 Q2232.51 1481.2 2234.73 1481.76 Q2236.96 1482.32 2239.43 1482.32 Q2243.44 1482.32 2245.78 1480.21 Q2248.11 1478.1 2248.11 1474.49 Q2248.11 1470.88 2245.78 1468.77 Q2243.44 1466.67 2239.43 1466.67 Q2237.56 1466.67 2235.68 1467.08 Q2233.83 1467.5 2231.89 1468.38 L2231.89 1451.02 Z\" fill=\"#000000\" fill-rule=\"evenodd\" fill-opacity=\"1\" /><path clip-path=\"url(#clip060)\" d=\"M2274.85 1455.09 L2263.04 1473.54 L2274.85 1473.54 L2274.85 1455.09 M2273.62 1451.02 L2279.5 1451.02 L2279.5 1473.54 L2284.43 1473.54 L2284.43 1477.43 L2279.5 1477.43 L2279.5 1485.58 L2274.85 1485.58 L2274.85 1477.43 L2259.25 1477.43 L2259.25 1472.92 L2273.62 1451.02 Z\" fill=\"#000000\" fill-rule=\"evenodd\" fill-opacity=\"1\" /><path clip-path=\"url(#clip060)\" d=\"M1095.91 1539.24 Q1098.1 1535.29 1101.16 1533.41 Q1104.22 1531.54 1108.35 1531.54 Q1113.92 1531.54 1116.95 1535.45 Q1119.97 1539.33 1119.97 1546.53 L1119.97 1568.04 L1114.08 1568.04 L1114.08 1546.72 Q1114.08 1541.59 1112.27 1539.11 Q1110.45 1536.63 1106.73 1536.63 Q1102.18 1536.63 1099.54 1539.65 Q1096.9 1542.68 1096.9 1547.9 L1096.9 1568.04 L1091.01 1568.04 L1091.01 1546.72 Q1091.01 1541.56 1089.19 1539.11 Q1087.38 1536.63 1083.59 1536.63 Q1079.1 1536.63 1076.46 1539.68 Q1073.82 1542.71 1073.82 1547.9 L1073.82 1568.04 L1067.93 1568.04 L1067.93 1532.4 L1073.82 1532.4 L1073.82 1537.93 Q1075.82 1534.66 1078.63 1533.1 Q1081.43 1531.54 1085.28 1531.54 Q1089.16 1531.54 1091.87 1533.51 Q1094.6 1535.48 1095.91 1539.24 Z\" fill=\"#000000\" fill-rule=\"evenodd\" fill-opacity=\"1\" /><path clip-path=\"url(#clip060)\" d=\"M1131.65 1532.4 L1137.51 1532.4 L1137.51 1568.04 L1131.65 1568.04 L1131.65 1532.4 M1131.65 1518.52 L1137.51 1518.52 L1137.51 1525.93 L1131.65 1525.93 L1131.65 1518.52 Z\" fill=\"#000000\" fill-rule=\"evenodd\" fill-opacity=\"1\" /><path clip-path=\"url(#clip060)\" d=\"M1149.76 1518.52 L1155.62 1518.52 L1155.62 1568.04 L1149.76 1568.04 L1149.76 1518.52 Z\" fill=\"#000000\" fill-rule=\"evenodd\" fill-opacity=\"1\" /><path clip-path=\"url(#clip060)\" d=\"M1167.87 1532.4 L1173.73 1532.4 L1173.73 1568.04 L1167.87 1568.04 L1167.87 1532.4 M1167.87 1518.52 L1173.73 1518.52 L1173.73 1525.93 L1167.87 1525.93 L1167.87 1518.52 Z\" fill=\"#000000\" fill-rule=\"evenodd\" fill-opacity=\"1\" /><path clip-path=\"url(#clip060)\" d=\"M1208.71 1533.45 L1208.71 1538.98 Q1206.23 1537.71 1203.55 1537.07 Q1200.88 1536.44 1198.01 1536.44 Q1193.65 1536.44 1191.46 1537.77 Q1189.29 1539.11 1189.29 1541.79 Q1189.29 1543.82 1190.85 1545 Q1192.41 1546.15 1197.12 1547.2 L1199.13 1547.64 Q1205.37 1548.98 1207.98 1551.43 Q1210.62 1553.85 1210.62 1558.21 Q1210.62 1563.17 1206.67 1566.07 Q1202.76 1568.97 1195.88 1568.97 Q1193.02 1568.97 1189.9 1568.39 Q1186.81 1567.85 1183.37 1566.74 L1183.37 1560.69 Q1186.62 1562.38 1189.77 1563.24 Q1192.92 1564.07 1196.01 1564.07 Q1200.15 1564.07 1202.37 1562.66 Q1204.6 1561.23 1204.6 1558.65 Q1204.6 1556.27 1202.98 1554.99 Q1201.39 1553.72 1195.95 1552.54 L1193.91 1552.07 Q1188.47 1550.92 1186.05 1548.56 Q1183.63 1546.18 1183.63 1542.04 Q1183.63 1537.01 1187.19 1534.27 Q1190.76 1531.54 1197.31 1531.54 Q1200.56 1531.54 1203.43 1532.01 Q1206.29 1532.49 1208.71 1533.45 Z\" fill=\"#000000\" fill-rule=\"evenodd\" fill-opacity=\"1\" /><path clip-path=\"url(#clip060)\" d=\"M1250.44 1548.76 L1250.44 1551.62 L1223.51 1551.62 Q1223.89 1557.67 1227.14 1560.85 Q1230.42 1564 1236.24 1564 Q1239.61 1564 1242.77 1563.17 Q1245.95 1562.35 1249.07 1560.69 L1249.07 1566.23 Q1245.92 1567.57 1242.61 1568.27 Q1239.3 1568.97 1235.89 1568.97 Q1227.36 1568.97 1222.36 1564 Q1217.4 1559.04 1217.4 1550.57 Q1217.4 1541.82 1222.11 1536.69 Q1226.85 1531.54 1234.87 1531.54 Q1242.07 1531.54 1246.23 1536.18 Q1250.44 1540.8 1250.44 1548.76 M1244.58 1547.04 Q1244.52 1542.23 1241.87 1539.37 Q1239.26 1536.5 1234.94 1536.5 Q1230.03 1536.5 1227.07 1539.27 Q1224.15 1542.04 1223.7 1547.07 L1244.58 1547.04 Z\" fill=\"#000000\" fill-rule=\"evenodd\" fill-opacity=\"1\" /><path clip-path=\"url(#clip060)\" d=\"M1283.51 1549.81 Q1283.51 1543.44 1280.86 1539.94 Q1278.25 1536.44 1273.51 1536.44 Q1268.8 1536.44 1266.16 1539.94 Q1263.55 1543.44 1263.55 1549.81 Q1263.55 1556.14 1266.16 1559.64 Q1268.8 1563.14 1273.51 1563.14 Q1278.25 1563.14 1280.86 1559.64 Q1283.51 1556.14 1283.51 1549.81 M1289.36 1563.62 Q1289.36 1572.72 1285.32 1577.15 Q1281.28 1581.6 1272.94 1581.6 Q1269.85 1581.6 1267.11 1581.13 Q1264.38 1580.68 1261.8 1579.72 L1261.8 1574.03 Q1264.38 1575.43 1266.89 1576.1 Q1269.41 1576.76 1272.02 1576.76 Q1277.78 1576.76 1280.64 1573.74 Q1283.51 1570.75 1283.51 1564.67 L1283.51 1561.77 Q1281.69 1564.92 1278.86 1566.48 Q1276.03 1568.04 1272.08 1568.04 Q1265.52 1568.04 1261.51 1563.05 Q1257.5 1558.05 1257.5 1549.81 Q1257.5 1541.53 1261.51 1536.53 Q1265.52 1531.54 1272.08 1531.54 Q1276.03 1531.54 1278.86 1533.1 Q1281.69 1534.66 1283.51 1537.81 L1283.51 1532.4 L1289.36 1532.4 L1289.36 1563.62 Z\" fill=\"#000000\" fill-rule=\"evenodd\" fill-opacity=\"1\" /><path clip-path=\"url(#clip060)\" d=\"M1300.82 1553.98 L1300.82 1532.4 L1306.68 1532.4 L1306.68 1553.75 Q1306.68 1558.81 1308.65 1561.36 Q1310.62 1563.87 1314.57 1563.87 Q1319.31 1563.87 1322.05 1560.85 Q1324.82 1557.83 1324.82 1552.61 L1324.82 1532.4 L1330.68 1532.4 L1330.68 1568.04 L1324.82 1568.04 L1324.82 1562.57 Q1322.69 1565.82 1319.85 1567.41 Q1317.05 1568.97 1313.33 1568.97 Q1307.19 1568.97 1304 1565.15 Q1300.82 1561.33 1300.82 1553.98 M1315.56 1531.54 L1315.56 1531.54 Z\" fill=\"#000000\" fill-rule=\"evenodd\" fill-opacity=\"1\" /><path clip-path=\"url(#clip060)\" d=\"M1372.37 1546.53 L1372.37 1568.04 L1366.51 1568.04 L1366.51 1546.72 Q1366.51 1541.66 1364.54 1539.14 Q1362.57 1536.63 1358.62 1536.63 Q1353.88 1536.63 1351.14 1539.65 Q1348.4 1542.68 1348.4 1547.9 L1348.4 1568.04 L1342.52 1568.04 L1342.52 1532.4 L1348.4 1532.4 L1348.4 1537.93 Q1350.5 1534.72 1353.34 1533.13 Q1356.2 1531.54 1359.93 1531.54 Q1366.07 1531.54 1369.22 1535.36 Q1372.37 1539.14 1372.37 1546.53 Z\" fill=\"#000000\" fill-rule=\"evenodd\" fill-opacity=\"1\" /><path clip-path=\"url(#clip060)\" d=\"M1407.51 1537.81 L1407.51 1518.52 L1413.37 1518.52 L1413.37 1568.04 L1407.51 1568.04 L1407.51 1562.7 Q1405.66 1565.88 1402.83 1567.44 Q1400.03 1568.97 1396.08 1568.97 Q1389.62 1568.97 1385.55 1563.81 Q1381.51 1558.65 1381.51 1550.25 Q1381.51 1541.85 1385.55 1536.69 Q1389.62 1531.54 1396.08 1531.54 Q1400.03 1531.54 1402.83 1533.1 Q1405.66 1534.62 1407.51 1537.81 M1387.55 1550.25 Q1387.55 1556.71 1390.2 1560.4 Q1392.87 1564.07 1397.52 1564.07 Q1402.16 1564.07 1404.84 1560.4 Q1407.51 1556.71 1407.51 1550.25 Q1407.51 1543.79 1404.84 1540.13 Q1402.16 1536.44 1397.52 1536.44 Q1392.87 1536.44 1390.2 1540.13 Q1387.55 1543.79 1387.55 1550.25 Z\" fill=\"#000000\" fill-rule=\"evenodd\" fill-opacity=\"1\" /><path clip-path=\"url(#clip060)\" d=\"M1439.24 1536.5 Q1434.53 1536.5 1431.79 1540.19 Q1429.06 1543.85 1429.06 1550.25 Q1429.06 1556.65 1431.76 1560.34 Q1434.5 1564 1439.24 1564 Q1443.92 1564 1446.66 1560.31 Q1449.4 1556.62 1449.4 1550.25 Q1449.4 1543.92 1446.66 1540.23 Q1443.92 1536.5 1439.24 1536.5 M1439.24 1531.54 Q1446.88 1531.54 1451.24 1536.5 Q1455.6 1541.47 1455.6 1550.25 Q1455.6 1559 1451.24 1564 Q1446.88 1568.97 1439.24 1568.97 Q1431.57 1568.97 1427.21 1564 Q1422.88 1559 1422.88 1550.25 Q1422.88 1541.47 1427.21 1536.5 Q1431.57 1531.54 1439.24 1531.54 Z\" fill=\"#000000\" fill-rule=\"evenodd\" fill-opacity=\"1\" /><path clip-path=\"url(#clip060)\" d=\"M1488.04 1533.45 L1488.04 1538.98 Q1485.55 1537.71 1482.88 1537.07 Q1480.21 1536.44 1477.34 1536.44 Q1472.98 1536.44 1470.78 1537.77 Q1468.62 1539.11 1468.62 1541.79 Q1468.62 1543.82 1470.18 1545 Q1471.74 1546.15 1476.45 1547.2 L1478.46 1547.64 Q1484.69 1548.98 1487.3 1551.43 Q1489.95 1553.85 1489.95 1558.21 Q1489.95 1563.17 1486 1566.07 Q1482.08 1568.97 1475.21 1568.97 Q1472.34 1568.97 1469.23 1568.39 Q1466.14 1567.85 1462.7 1566.74 L1462.7 1560.69 Q1465.95 1562.38 1469.1 1563.24 Q1472.25 1564.07 1475.34 1564.07 Q1479.47 1564.07 1481.7 1562.66 Q1483.93 1561.23 1483.93 1558.65 Q1483.93 1556.27 1482.31 1554.99 Q1480.72 1553.72 1475.27 1552.54 L1473.24 1552.07 Q1467.79 1550.92 1465.37 1548.56 Q1462.96 1546.18 1462.96 1542.04 Q1462.96 1537.01 1466.52 1534.27 Q1470.08 1531.54 1476.64 1531.54 Q1479.89 1531.54 1482.75 1532.01 Q1485.62 1532.49 1488.04 1533.45 Z\" fill=\"#000000\" fill-rule=\"evenodd\" fill-opacity=\"1\" /><polyline clip-path=\"url(#clip062)\" style=\"stroke:#000000; stroke-linecap:butt; stroke-linejoin:round; stroke-width:2; stroke-opacity:0.1; fill:none\" points=\"\n",
       "  205.121,1384.24 2352.76,1384.24 \n",
       "  \"/>\n",
       "<polyline clip-path=\"url(#clip062)\" style=\"stroke:#000000; stroke-linecap:butt; stroke-linejoin:round; stroke-width:2; stroke-opacity:0.1; fill:none\" points=\"\n",
       "  205.121,1051.4 2352.76,1051.4 \n",
       "  \"/>\n",
       "<polyline clip-path=\"url(#clip062)\" style=\"stroke:#000000; stroke-linecap:butt; stroke-linejoin:round; stroke-width:2; stroke-opacity:0.1; fill:none\" points=\"\n",
       "  205.121,718.57 2352.76,718.57 \n",
       "  \"/>\n",
       "<polyline clip-path=\"url(#clip062)\" style=\"stroke:#000000; stroke-linecap:butt; stroke-linejoin:round; stroke-width:2; stroke-opacity:0.1; fill:none\" points=\"\n",
       "  205.121,385.736 2352.76,385.736 \n",
       "  \"/>\n",
       "<polyline clip-path=\"url(#clip062)\" style=\"stroke:#000000; stroke-linecap:butt; stroke-linejoin:round; stroke-width:2; stroke-opacity:0.1; fill:none\" points=\"\n",
       "  205.121,52.9023 2352.76,52.9023 \n",
       "  \"/>\n",
       "<polyline clip-path=\"url(#clip060)\" style=\"stroke:#000000; stroke-linecap:butt; stroke-linejoin:round; stroke-width:4; stroke-opacity:1; fill:none\" points=\"\n",
       "  205.121,1423.18 205.121,47.2441 \n",
       "  \"/>\n",
       "<polyline clip-path=\"url(#clip060)\" style=\"stroke:#000000; stroke-linecap:butt; stroke-linejoin:round; stroke-width:4; stroke-opacity:1; fill:none\" points=\"\n",
       "  205.121,1384.24 224.019,1384.24 \n",
       "  \"/>\n",
       "<polyline clip-path=\"url(#clip060)\" style=\"stroke:#000000; stroke-linecap:butt; stroke-linejoin:round; stroke-width:4; stroke-opacity:1; fill:none\" points=\"\n",
       "  205.121,1051.4 224.019,1051.4 \n",
       "  \"/>\n",
       "<polyline clip-path=\"url(#clip060)\" style=\"stroke:#000000; stroke-linecap:butt; stroke-linejoin:round; stroke-width:4; stroke-opacity:1; fill:none\" points=\"\n",
       "  205.121,718.57 224.019,718.57 \n",
       "  \"/>\n",
       "<polyline clip-path=\"url(#clip060)\" style=\"stroke:#000000; stroke-linecap:butt; stroke-linejoin:round; stroke-width:4; stroke-opacity:1; fill:none\" points=\"\n",
       "  205.121,385.736 224.019,385.736 \n",
       "  \"/>\n",
       "<polyline clip-path=\"url(#clip060)\" style=\"stroke:#000000; stroke-linecap:butt; stroke-linejoin:round; stroke-width:4; stroke-opacity:1; fill:none\" points=\"\n",
       "  205.121,52.9023 224.019,52.9023 \n",
       "  \"/>\n",
       "<path clip-path=\"url(#clip060)\" d=\"M157.177 1370.04 Q153.566 1370.04 151.737 1373.6 Q149.931 1377.14 149.931 1384.27 Q149.931 1391.38 151.737 1394.94 Q153.566 1398.49 157.177 1398.49 Q160.811 1398.49 162.616 1394.94 Q164.445 1391.38 164.445 1384.27 Q164.445 1377.14 162.616 1373.6 Q160.811 1370.04 157.177 1370.04 M157.177 1366.33 Q162.987 1366.33 166.042 1370.94 Q169.121 1375.52 169.121 1384.27 Q169.121 1393 166.042 1397.61 Q162.987 1402.19 157.177 1402.19 Q151.366 1402.19 148.288 1397.61 Q145.232 1393 145.232 1384.27 Q145.232 1375.52 148.288 1370.94 Q151.366 1366.33 157.177 1366.33 Z\" fill=\"#000000\" fill-rule=\"evenodd\" fill-opacity=\"1\" /><path clip-path=\"url(#clip060)\" d=\"M117.825 1064.75 L125.464 1064.75 L125.464 1038.38 L117.154 1040.05 L117.154 1035.79 L125.418 1034.12 L130.093 1034.12 L130.093 1064.75 L137.732 1064.75 L137.732 1068.68 L117.825 1068.68 L117.825 1064.75 Z\" fill=\"#000000\" fill-rule=\"evenodd\" fill-opacity=\"1\" /><path clip-path=\"url(#clip060)\" d=\"M157.177 1037.2 Q153.566 1037.2 151.737 1040.77 Q149.931 1044.31 149.931 1051.44 Q149.931 1058.55 151.737 1062.11 Q153.566 1065.65 157.177 1065.65 Q160.811 1065.65 162.616 1062.11 Q164.445 1058.55 164.445 1051.44 Q164.445 1044.31 162.616 1040.77 Q160.811 1037.2 157.177 1037.2 M157.177 1033.5 Q162.987 1033.5 166.042 1038.11 Q169.121 1042.69 169.121 1051.44 Q169.121 1060.17 166.042 1064.77 Q162.987 1069.36 157.177 1069.36 Q151.366 1069.36 148.288 1064.77 Q145.232 1060.17 145.232 1051.44 Q145.232 1042.69 148.288 1038.11 Q151.366 1033.5 157.177 1033.5 Z\" fill=\"#000000\" fill-rule=\"evenodd\" fill-opacity=\"1\" /><path clip-path=\"url(#clip060)\" d=\"M121.043 731.915 L137.362 731.915 L137.362 735.85 L115.418 735.85 L115.418 731.915 Q118.08 729.16 122.663 724.531 Q127.269 719.878 128.45 718.536 Q130.695 716.012 131.575 714.276 Q132.478 712.517 132.478 710.827 Q132.478 708.073 130.533 706.337 Q128.612 704.6 125.51 704.6 Q123.311 704.6 120.857 705.364 Q118.427 706.128 115.649 707.679 L115.649 702.957 Q118.473 701.823 120.927 701.244 Q123.38 700.665 125.418 700.665 Q130.788 700.665 133.982 703.35 Q137.177 706.036 137.177 710.526 Q137.177 712.656 136.367 714.577 Q135.579 716.475 133.473 719.068 Q132.894 719.739 129.792 722.957 Q126.691 726.151 121.043 731.915 Z\" fill=\"#000000\" fill-rule=\"evenodd\" fill-opacity=\"1\" /><path clip-path=\"url(#clip060)\" d=\"M157.177 704.369 Q153.566 704.369 151.737 707.934 Q149.931 711.475 149.931 718.605 Q149.931 725.711 151.737 729.276 Q153.566 732.818 157.177 732.818 Q160.811 732.818 162.616 729.276 Q164.445 725.711 164.445 718.605 Q164.445 711.475 162.616 707.934 Q160.811 704.369 157.177 704.369 M157.177 700.665 Q162.987 700.665 166.042 705.272 Q169.121 709.855 169.121 718.605 Q169.121 727.332 166.042 731.938 Q162.987 736.522 157.177 736.522 Q151.366 736.522 148.288 731.938 Q145.232 727.332 145.232 718.605 Q145.232 709.855 148.288 705.272 Q151.366 700.665 157.177 700.665 Z\" fill=\"#000000\" fill-rule=\"evenodd\" fill-opacity=\"1\" /><path clip-path=\"url(#clip060)\" d=\"M131.181 384.382 Q134.538 385.1 136.413 387.368 Q138.311 389.637 138.311 392.97 Q138.311 398.086 134.792 400.887 Q131.274 403.688 124.793 403.688 Q122.617 403.688 120.302 403.248 Q118.01 402.831 115.556 401.975 L115.556 397.461 Q117.501 398.595 119.816 399.174 Q122.13 399.752 124.654 399.752 Q129.052 399.752 131.343 398.016 Q133.658 396.28 133.658 392.97 Q133.658 389.914 131.505 388.202 Q129.376 386.465 125.556 386.465 L121.529 386.465 L121.529 382.623 L125.742 382.623 Q129.191 382.623 131.019 381.257 Q132.848 379.868 132.848 377.276 Q132.848 374.614 130.95 373.202 Q129.075 371.766 125.556 371.766 Q123.635 371.766 121.436 372.183 Q119.237 372.6 116.598 373.479 L116.598 369.313 Q119.26 368.572 121.575 368.202 Q123.913 367.831 125.973 367.831 Q131.297 367.831 134.399 370.262 Q137.501 372.669 137.501 376.79 Q137.501 379.66 135.857 381.651 Q134.214 383.618 131.181 384.382 Z\" fill=\"#000000\" fill-rule=\"evenodd\" fill-opacity=\"1\" /><path clip-path=\"url(#clip060)\" d=\"M157.177 371.535 Q153.566 371.535 151.737 375.1 Q149.931 378.641 149.931 385.771 Q149.931 392.877 151.737 396.442 Q153.566 399.984 157.177 399.984 Q160.811 399.984 162.616 396.442 Q164.445 392.877 164.445 385.771 Q164.445 378.641 162.616 375.1 Q160.811 371.535 157.177 371.535 M157.177 367.831 Q162.987 367.831 166.042 372.438 Q169.121 377.021 169.121 385.771 Q169.121 394.498 166.042 399.104 Q162.987 403.688 157.177 403.688 Q151.366 403.688 148.288 399.104 Q145.232 394.498 145.232 385.771 Q145.232 377.021 148.288 372.438 Q151.366 367.831 157.177 367.831 Z\" fill=\"#000000\" fill-rule=\"evenodd\" fill-opacity=\"1\" /><path clip-path=\"url(#clip060)\" d=\"M129.862 39.6963 L118.056 58.1453 L129.862 58.1453 L129.862 39.6963 M128.635 35.6223 L134.515 35.6223 L134.515 58.1453 L139.445 58.1453 L139.445 62.0342 L134.515 62.0342 L134.515 70.1823 L129.862 70.1823 L129.862 62.0342 L114.26 62.0342 L114.26 57.5203 L128.635 35.6223 Z\" fill=\"#000000\" fill-rule=\"evenodd\" fill-opacity=\"1\" /><path clip-path=\"url(#clip060)\" d=\"M157.177 38.701 Q153.566 38.701 151.737 42.2658 Q149.931 45.8074 149.931 52.937 Q149.931 60.0434 151.737 63.6082 Q153.566 67.1499 157.177 67.1499 Q160.811 67.1499 162.616 63.6082 Q164.445 60.0434 164.445 52.937 Q164.445 45.8074 162.616 42.2658 Q160.811 38.701 157.177 38.701 M157.177 34.9973 Q162.987 34.9973 166.042 39.6037 Q169.121 44.187 169.121 52.937 Q169.121 61.6638 166.042 66.2703 Q162.987 70.8536 157.177 70.8536 Q151.366 70.8536 148.288 66.2703 Q145.232 61.6638 145.232 52.937 Q145.232 44.187 148.288 39.6037 Q151.366 34.9973 157.177 34.9973 Z\" fill=\"#000000\" fill-rule=\"evenodd\" fill-opacity=\"1\" /><path clip-path=\"url(#clip060)\" d=\"M16.4842 907.166 L16.4842 879.857 L21.895 879.857 L21.895 900.736 L35.8996 900.736 L35.8996 881.894 L41.3104 881.894 L41.3104 900.736 L64.0042 900.736 L64.0042 907.166 L16.4842 907.166 Z\" fill=\"#000000\" fill-rule=\"evenodd\" fill-opacity=\"1\" /><path clip-path=\"url(#clip060)\" d=\"M33.8307 854.012 Q33.2578 854.999 33.0032 856.176 Q32.7167 857.322 32.7167 858.723 Q32.7167 863.688 35.9632 866.361 Q39.1779 869.003 45.2253 869.003 L64.0042 869.003 L64.0042 874.891 L28.3562 874.891 L28.3562 869.003 L33.8944 869.003 Q30.6479 867.157 29.0883 864.197 Q27.4968 861.237 27.4968 857.004 Q27.4968 856.399 27.5923 855.667 Q27.656 854.935 27.8151 854.044 L33.8307 854.012 Z\" fill=\"#000000\" fill-rule=\"evenodd\" fill-opacity=\"1\" /><path clip-path=\"url(#clip060)\" d=\"M44.7161 818.81 L47.5806 818.81 L47.5806 845.737 Q53.6281 845.355 56.8109 842.108 Q59.9619 838.83 59.9619 833.005 Q59.9619 829.631 59.1344 826.48 Q58.3069 823.297 56.6518 820.178 L62.1899 820.178 Q63.5267 823.329 64.227 826.639 Q64.9272 829.95 64.9272 833.355 Q64.9272 841.885 59.9619 846.882 Q54.9967 851.848 46.5303 851.848 Q37.7774 851.848 32.6531 847.137 Q27.4968 842.395 27.4968 834.374 Q27.4968 827.181 32.1438 823.011 Q36.7589 818.81 44.7161 818.81 M42.9973 824.666 Q38.1912 824.73 35.3266 827.371 Q32.4621 829.981 32.4621 834.31 Q32.4621 839.212 35.2312 842.172 Q38.0002 845.1 43.0292 845.546 L42.9973 824.666 Z\" fill=\"#000000\" fill-rule=\"evenodd\" fill-opacity=\"1\" /><path clip-path=\"url(#clip060)\" d=\"M46.212 805.696 Q52.6732 805.696 56.3653 803.054 Q60.0256 800.381 60.0256 795.734 Q60.0256 791.087 56.3653 788.413 Q52.6732 785.74 46.212 785.74 Q39.7508 785.74 36.0905 788.413 Q32.3984 791.087 32.3984 795.734 Q32.3984 800.381 36.0905 803.054 Q39.7508 805.696 46.212 805.696 M58.657 785.74 Q61.8398 787.586 63.3994 790.419 Q64.9272 793.219 64.9272 797.166 Q64.9272 803.627 59.771 807.701 Q54.6147 811.744 46.212 811.744 Q37.8093 811.744 32.6531 807.701 Q27.4968 803.627 27.4968 797.166 Q27.4968 793.219 29.0564 790.419 Q30.5842 787.586 33.7671 785.74 L28.3562 785.74 L28.3562 779.883 L77.5631 779.883 L77.5631 785.74 L58.657 785.74 Z\" fill=\"#000000\" fill-rule=\"evenodd\" fill-opacity=\"1\" /><path clip-path=\"url(#clip060)\" d=\"M49.9359 768.425 L28.3562 768.425 L28.3562 762.569 L49.7131 762.569 Q54.7739 762.569 57.3202 760.595 Q59.8346 758.622 59.8346 754.675 Q59.8346 749.933 56.8109 747.195 Q53.7872 744.426 48.5673 744.426 L28.3562 744.426 L28.3562 738.57 L64.0042 738.57 L64.0042 744.426 L58.5296 744.426 Q61.7762 746.559 63.3676 749.392 Q64.9272 752.192 64.9272 755.916 Q64.9272 762.059 61.1078 765.242 Q57.2883 768.425 49.9359 768.425 M27.4968 753.688 L27.4968 753.688 Z\" fill=\"#000000\" fill-rule=\"evenodd\" fill-opacity=\"1\" /><path clip-path=\"url(#clip060)\" d=\"M44.7161 696.015 L47.5806 696.015 L47.5806 722.942 Q53.6281 722.56 56.8109 719.314 Q59.9619 716.035 59.9619 710.211 Q59.9619 706.837 59.1344 703.686 Q58.3069 700.503 56.6518 697.384 L62.1899 697.384 Q63.5267 700.535 64.227 703.845 Q64.9272 707.155 64.9272 710.561 Q64.9272 719.091 59.9619 724.088 Q54.9967 729.053 46.5303 729.053 Q37.7774 729.053 32.6531 724.343 Q27.4968 719.6 27.4968 711.579 Q27.4968 704.386 32.1438 700.216 Q36.7589 696.015 44.7161 696.015 M42.9973 701.872 Q38.1912 701.935 35.3266 704.577 Q32.4621 707.187 32.4621 711.516 Q32.4621 716.417 35.2312 719.377 Q38.0002 722.305 43.0292 722.751 L42.9973 701.872 M11.869 714.285 L11.869 709.574 L23.8365 701.776 L23.8365 706.2 L16.0386 711.929 L23.8365 717.659 L23.8365 722.083 L11.869 714.285 Z\" fill=\"#000000\" fill-rule=\"evenodd\" fill-opacity=\"1\" /><path clip-path=\"url(#clip060)\" d=\"M42.4881 656.771 L64.0042 656.771 L64.0042 662.627 L42.679 662.627 Q37.6183 662.627 35.1038 664.6 Q32.5894 666.574 32.5894 670.52 Q32.5894 675.263 35.6131 678 Q38.6368 680.737 43.8567 680.737 L64.0042 680.737 L64.0042 686.626 L28.3562 686.626 L28.3562 680.737 L33.8944 680.737 Q30.6797 678.637 29.0883 675.804 Q27.4968 672.939 27.4968 669.216 Q27.4968 663.073 31.3163 659.922 Q35.1038 656.771 42.4881 656.771 Z\" fill=\"#000000\" fill-rule=\"evenodd\" fill-opacity=\"1\" /><path clip-path=\"url(#clip060)\" d=\"M29.7248 619.436 L35.1993 619.436 Q33.8307 621.918 33.1623 624.433 Q32.4621 626.915 32.4621 629.462 Q32.4621 635.159 36.0905 638.31 Q39.6872 641.461 46.212 641.461 Q52.7369 641.461 56.3653 638.31 Q59.9619 635.159 59.9619 629.462 Q59.9619 626.915 59.2935 624.433 Q58.5933 621.918 57.2247 619.436 L62.6355 619.436 Q63.7814 621.886 64.3543 624.528 Q64.9272 627.138 64.9272 630.098 Q64.9272 638.151 59.8664 642.893 Q54.8057 647.636 46.212 647.636 Q37.491 647.636 32.4939 642.861 Q27.4968 638.055 27.4968 629.716 Q27.4968 627.011 28.0697 624.433 Q28.6108 621.855 29.7248 619.436 Z\" fill=\"#000000\" fill-rule=\"evenodd\" fill-opacity=\"1\" /><path clip-path=\"url(#clip060)\" d=\"M28.3562 609.251 L28.3562 603.394 L64.0042 603.394 L64.0042 609.251 L28.3562 609.251 M14.479 609.251 L14.479 603.394 L21.895 603.394 L21.895 609.251 L14.479 609.251 Z\" fill=\"#000000\" fill-rule=\"evenodd\" fill-opacity=\"1\" /><path clip-path=\"url(#clip060)\" d=\"M46.0847 574.939 Q46.0847 582.037 47.7079 584.774 Q49.3312 587.512 53.2461 587.512 Q56.3653 587.512 58.2114 585.475 Q60.0256 583.406 60.0256 579.873 Q60.0256 575.003 56.5881 572.075 Q53.1188 569.115 47.3897 569.115 L46.0847 569.115 L46.0847 574.939 M43.6657 563.258 L64.0042 563.258 L64.0042 569.115 L58.5933 569.115 Q61.8398 571.12 63.3994 574.112 Q64.9272 577.104 64.9272 581.432 Q64.9272 586.907 61.8716 590.153 Q58.7843 593.368 53.6281 593.368 Q47.6125 593.368 44.5569 589.358 Q41.5014 585.315 41.5014 577.327 L41.5014 569.115 L40.9285 569.115 Q36.8862 569.115 34.6901 571.788 Q32.4621 574.43 32.4621 579.236 Q32.4621 582.292 33.1941 585.188 Q33.9262 588.085 35.3903 590.758 L29.9795 590.758 Q28.7381 587.543 28.1334 584.52 Q27.4968 581.496 27.4968 578.631 Q27.4968 570.897 31.5072 567.078 Q35.5176 563.258 43.6657 563.258 Z\" fill=\"#000000\" fill-rule=\"evenodd\" fill-opacity=\"1\" /><path clip-path=\"url(#clip062)\" d=\"\n",
       "M698.365 1317.67 L698.365 1384.24 L757.451 1384.24 L757.451 1317.67 L698.365 1317.67 L698.365 1317.67  Z\n",
       "  \" fill=\"#009af9\" fill-rule=\"evenodd\" fill-opacity=\"1\"/>\n",
       "<polyline clip-path=\"url(#clip062)\" style=\"stroke:#000000; stroke-linecap:butt; stroke-linejoin:round; stroke-width:4; stroke-opacity:1; fill:none\" points=\"\n",
       "  698.365,1317.67 698.365,1384.24 757.451,1384.24 757.451,1317.67 698.365,1317.67 \n",
       "  \"/>\n",
       "<path clip-path=\"url(#clip062)\" d=\"\n",
       "M757.451 1350.95 L757.451 1384.24 L816.537 1384.24 L816.537 1350.95 L757.451 1350.95 L757.451 1350.95  Z\n",
       "  \" fill=\"#009af9\" fill-rule=\"evenodd\" fill-opacity=\"1\"/>\n",
       "<polyline clip-path=\"url(#clip062)\" style=\"stroke:#000000; stroke-linecap:butt; stroke-linejoin:round; stroke-width:4; stroke-opacity:1; fill:none\" points=\"\n",
       "  757.451,1350.95 757.451,1384.24 816.537,1384.24 816.537,1350.95 757.451,1350.95 \n",
       "  \"/>\n",
       "<path clip-path=\"url(#clip062)\" d=\"\n",
       "M816.537 1151.25 L816.537 1384.24 L875.623 1384.24 L875.623 1151.25 L816.537 1151.25 L816.537 1151.25  Z\n",
       "  \" fill=\"#009af9\" fill-rule=\"evenodd\" fill-opacity=\"1\"/>\n",
       "<polyline clip-path=\"url(#clip062)\" style=\"stroke:#000000; stroke-linecap:butt; stroke-linejoin:round; stroke-width:4; stroke-opacity:1; fill:none\" points=\"\n",
       "  816.537,1151.25 816.537,1384.24 875.623,1384.24 875.623,1151.25 816.537,1151.25 \n",
       "  \"/>\n",
       "<path clip-path=\"url(#clip062)\" d=\"\n",
       "M875.623 1284.39 L875.623 1384.24 L934.708 1384.24 L934.708 1284.39 L875.623 1284.39 L875.623 1284.39  Z\n",
       "  \" fill=\"#009af9\" fill-rule=\"evenodd\" fill-opacity=\"1\"/>\n",
       "<polyline clip-path=\"url(#clip062)\" style=\"stroke:#000000; stroke-linecap:butt; stroke-linejoin:round; stroke-width:4; stroke-opacity:1; fill:none\" points=\"\n",
       "  875.623,1284.39 875.623,1384.24 934.708,1384.24 934.708,1284.39 875.623,1284.39 \n",
       "  \"/>\n",
       "<path clip-path=\"url(#clip062)\" d=\"\n",
       "M934.708 1284.39 L934.708 1384.24 L993.794 1384.24 L993.794 1284.39 L934.708 1284.39 L934.708 1284.39  Z\n",
       "  \" fill=\"#009af9\" fill-rule=\"evenodd\" fill-opacity=\"1\"/>\n",
       "<polyline clip-path=\"url(#clip062)\" style=\"stroke:#000000; stroke-linecap:butt; stroke-linejoin:round; stroke-width:4; stroke-opacity:1; fill:none\" points=\"\n",
       "  934.708,1284.39 934.708,1384.24 993.794,1384.24 993.794,1284.39 934.708,1284.39 \n",
       "  \"/>\n",
       "<path clip-path=\"url(#clip062)\" d=\"\n",
       "M993.794 1284.39 L993.794 1384.24 L1052.88 1384.24 L1052.88 1284.39 L993.794 1284.39 L993.794 1284.39  Z\n",
       "  \" fill=\"#009af9\" fill-rule=\"evenodd\" fill-opacity=\"1\"/>\n",
       "<polyline clip-path=\"url(#clip062)\" style=\"stroke:#000000; stroke-linecap:butt; stroke-linejoin:round; stroke-width:4; stroke-opacity:1; fill:none\" points=\"\n",
       "  993.794,1284.39 993.794,1384.24 1052.88,1384.24 1052.88,1284.39 993.794,1284.39 \n",
       "  \"/>\n",
       "<path clip-path=\"url(#clip062)\" d=\"\n",
       "M1052.88 1084.69 L1052.88 1384.24 L1111.97 1384.24 L1111.97 1084.69 L1052.88 1084.69 L1052.88 1084.69  Z\n",
       "  \" fill=\"#009af9\" fill-rule=\"evenodd\" fill-opacity=\"1\"/>\n",
       "<polyline clip-path=\"url(#clip062)\" style=\"stroke:#000000; stroke-linecap:butt; stroke-linejoin:round; stroke-width:4; stroke-opacity:1; fill:none\" points=\"\n",
       "  1052.88,1084.69 1052.88,1384.24 1111.97,1384.24 1111.97,1084.69 1052.88,1084.69 \n",
       "  \"/>\n",
       "<path clip-path=\"url(#clip062)\" d=\"\n",
       "M1111.97 1051.4 L1111.97 1384.24 L1171.05 1384.24 L1171.05 1051.4 L1111.97 1051.4 L1111.97 1051.4  Z\n",
       "  \" fill=\"#009af9\" fill-rule=\"evenodd\" fill-opacity=\"1\"/>\n",
       "<polyline clip-path=\"url(#clip062)\" style=\"stroke:#000000; stroke-linecap:butt; stroke-linejoin:round; stroke-width:4; stroke-opacity:1; fill:none\" points=\"\n",
       "  1111.97,1051.4 1111.97,1384.24 1171.05,1384.24 1171.05,1051.4 1111.97,1051.4 \n",
       "  \"/>\n",
       "<path clip-path=\"url(#clip062)\" d=\"\n",
       "M1171.05 1084.69 L1171.05 1384.24 L1230.14 1384.24 L1230.14 1084.69 L1171.05 1084.69 L1171.05 1084.69  Z\n",
       "  \" fill=\"#009af9\" fill-rule=\"evenodd\" fill-opacity=\"1\"/>\n",
       "<polyline clip-path=\"url(#clip062)\" style=\"stroke:#000000; stroke-linecap:butt; stroke-linejoin:round; stroke-width:4; stroke-opacity:1; fill:none\" points=\"\n",
       "  1171.05,1084.69 1171.05,1384.24 1230.14,1384.24 1230.14,1084.69 1171.05,1084.69 \n",
       "  \"/>\n",
       "<path clip-path=\"url(#clip062)\" d=\"\n",
       "M1230.14 718.57 L1230.14 1384.24 L1289.22 1384.24 L1289.22 718.57 L1230.14 718.57 L1230.14 718.57  Z\n",
       "  \" fill=\"#009af9\" fill-rule=\"evenodd\" fill-opacity=\"1\"/>\n",
       "<polyline clip-path=\"url(#clip062)\" style=\"stroke:#000000; stroke-linecap:butt; stroke-linejoin:round; stroke-width:4; stroke-opacity:1; fill:none\" points=\"\n",
       "  1230.14,718.57 1230.14,1384.24 1289.22,1384.24 1289.22,718.57 1230.14,718.57 \n",
       "  \"/>\n",
       "<path clip-path=\"url(#clip062)\" d=\"\n",
       "M1289.22 851.704 L1289.22 1384.24 L1348.31 1384.24 L1348.31 851.704 L1289.22 851.704 L1289.22 851.704  Z\n",
       "  \" fill=\"#009af9\" fill-rule=\"evenodd\" fill-opacity=\"1\"/>\n",
       "<polyline clip-path=\"url(#clip062)\" style=\"stroke:#000000; stroke-linecap:butt; stroke-linejoin:round; stroke-width:4; stroke-opacity:1; fill:none\" points=\"\n",
       "  1289.22,851.704 1289.22,1384.24 1348.31,1384.24 1348.31,851.704 1289.22,851.704 \n",
       "  \"/>\n",
       "<path clip-path=\"url(#clip062)\" d=\"\n",
       "M1348.31 818.42 L1348.31 1384.24 L1407.39 1384.24 L1407.39 818.42 L1348.31 818.42 L1348.31 818.42  Z\n",
       "  \" fill=\"#009af9\" fill-rule=\"evenodd\" fill-opacity=\"1\"/>\n",
       "<polyline clip-path=\"url(#clip062)\" style=\"stroke:#000000; stroke-linecap:butt; stroke-linejoin:round; stroke-width:4; stroke-opacity:1; fill:none\" points=\"\n",
       "  1348.31,818.42 1348.31,1384.24 1407.39,1384.24 1407.39,818.42 1348.31,818.42 \n",
       "  \"/>\n",
       "<path clip-path=\"url(#clip062)\" d=\"\n",
       "M1407.39 618.72 L1407.39 1384.24 L1466.48 1384.24 L1466.48 618.72 L1407.39 618.72 L1407.39 618.72  Z\n",
       "  \" fill=\"#009af9\" fill-rule=\"evenodd\" fill-opacity=\"1\"/>\n",
       "<polyline clip-path=\"url(#clip062)\" style=\"stroke:#000000; stroke-linecap:butt; stroke-linejoin:round; stroke-width:4; stroke-opacity:1; fill:none\" points=\"\n",
       "  1407.39,618.72 1407.39,1384.24 1466.48,1384.24 1466.48,618.72 1407.39,618.72 \n",
       "  \"/>\n",
       "<path clip-path=\"url(#clip062)\" d=\"\n",
       "M1466.48 718.57 L1466.48 1384.24 L1525.57 1384.24 L1525.57 718.57 L1466.48 718.57 L1466.48 718.57  Z\n",
       "  \" fill=\"#009af9\" fill-rule=\"evenodd\" fill-opacity=\"1\"/>\n",
       "<polyline clip-path=\"url(#clip062)\" style=\"stroke:#000000; stroke-linecap:butt; stroke-linejoin:round; stroke-width:4; stroke-opacity:1; fill:none\" points=\"\n",
       "  1466.48,718.57 1466.48,1384.24 1525.57,1384.24 1525.57,718.57 1466.48,718.57 \n",
       "  \"/>\n",
       "<path clip-path=\"url(#clip062)\" d=\"\n",
       "M1525.57 585.437 L1525.57 1384.24 L1584.65 1384.24 L1584.65 585.437 L1525.57 585.437 L1525.57 585.437  Z\n",
       "  \" fill=\"#009af9\" fill-rule=\"evenodd\" fill-opacity=\"1\"/>\n",
       "<polyline clip-path=\"url(#clip062)\" style=\"stroke:#000000; stroke-linecap:butt; stroke-linejoin:round; stroke-width:4; stroke-opacity:1; fill:none\" points=\"\n",
       "  1525.57,585.437 1525.57,1384.24 1584.65,1384.24 1584.65,585.437 1525.57,585.437 \n",
       "  \"/>\n",
       "<path clip-path=\"url(#clip062)\" d=\"\n",
       "M1584.65 552.153 L1584.65 1384.24 L1643.74 1384.24 L1643.74 552.153 L1584.65 552.153 L1584.65 552.153  Z\n",
       "  \" fill=\"#009af9\" fill-rule=\"evenodd\" fill-opacity=\"1\"/>\n",
       "<polyline clip-path=\"url(#clip062)\" style=\"stroke:#000000; stroke-linecap:butt; stroke-linejoin:round; stroke-width:4; stroke-opacity:1; fill:none\" points=\"\n",
       "  1584.65,552.153 1584.65,1384.24 1643.74,1384.24 1643.74,552.153 1584.65,552.153 \n",
       "  \"/>\n",
       "<path clip-path=\"url(#clip062)\" d=\"\n",
       "M1643.74 352.453 L1643.74 1384.24 L1702.82 1384.24 L1702.82 352.453 L1643.74 352.453 L1643.74 352.453  Z\n",
       "  \" fill=\"#009af9\" fill-rule=\"evenodd\" fill-opacity=\"1\"/>\n",
       "<polyline clip-path=\"url(#clip062)\" style=\"stroke:#000000; stroke-linecap:butt; stroke-linejoin:round; stroke-width:4; stroke-opacity:1; fill:none\" points=\"\n",
       "  1643.74,352.453 1643.74,1384.24 1702.82,1384.24 1702.82,352.453 1643.74,352.453 \n",
       "  \"/>\n",
       "<path clip-path=\"url(#clip062)\" d=\"\n",
       "M1702.82 319.169 L1702.82 1384.24 L1761.91 1384.24 L1761.91 319.169 L1702.82 319.169 L1702.82 319.169  Z\n",
       "  \" fill=\"#009af9\" fill-rule=\"evenodd\" fill-opacity=\"1\"/>\n",
       "<polyline clip-path=\"url(#clip062)\" style=\"stroke:#000000; stroke-linecap:butt; stroke-linejoin:round; stroke-width:4; stroke-opacity:1; fill:none\" points=\"\n",
       "  1702.82,319.169 1702.82,1384.24 1761.91,1384.24 1761.91,319.169 1702.82,319.169 \n",
       "  \"/>\n",
       "<path clip-path=\"url(#clip062)\" d=\"\n",
       "M1761.91 452.303 L1761.91 1384.24 L1820.99 1384.24 L1820.99 452.303 L1761.91 452.303 L1761.91 452.303  Z\n",
       "  \" fill=\"#009af9\" fill-rule=\"evenodd\" fill-opacity=\"1\"/>\n",
       "<polyline clip-path=\"url(#clip062)\" style=\"stroke:#000000; stroke-linecap:butt; stroke-linejoin:round; stroke-width:4; stroke-opacity:1; fill:none\" points=\"\n",
       "  1761.91,452.303 1761.91,1384.24 1820.99,1384.24 1820.99,452.303 1761.91,452.303 \n",
       "  \"/>\n",
       "<path clip-path=\"url(#clip062)\" d=\"\n",
       "M1820.99 518.87 L1820.99 1384.24 L1880.08 1384.24 L1880.08 518.87 L1820.99 518.87 L1820.99 518.87  Z\n",
       "  \" fill=\"#009af9\" fill-rule=\"evenodd\" fill-opacity=\"1\"/>\n",
       "<polyline clip-path=\"url(#clip062)\" style=\"stroke:#000000; stroke-linecap:butt; stroke-linejoin:round; stroke-width:4; stroke-opacity:1; fill:none\" points=\"\n",
       "  1820.99,518.87 1820.99,1384.24 1880.08,1384.24 1880.08,518.87 1820.99,518.87 \n",
       "  \"/>\n",
       "<path clip-path=\"url(#clip062)\" d=\"\n",
       "M1880.08 86.1857 L1880.08 1384.24 L1939.17 1384.24 L1939.17 86.1857 L1880.08 86.1857 L1880.08 86.1857  Z\n",
       "  \" fill=\"#009af9\" fill-rule=\"evenodd\" fill-opacity=\"1\"/>\n",
       "<polyline clip-path=\"url(#clip062)\" style=\"stroke:#000000; stroke-linecap:butt; stroke-linejoin:round; stroke-width:4; stroke-opacity:1; fill:none\" points=\"\n",
       "  1880.08,86.1857 1880.08,1384.24 1939.17,1384.24 1939.17,86.1857 1880.08,86.1857 \n",
       "  \"/>\n",
       "<path clip-path=\"url(#clip062)\" d=\"\n",
       "M1939.17 685.287 L1939.17 1384.24 L1998.25 1384.24 L1998.25 685.287 L1939.17 685.287 L1939.17 685.287  Z\n",
       "  \" fill=\"#009af9\" fill-rule=\"evenodd\" fill-opacity=\"1\"/>\n",
       "<polyline clip-path=\"url(#clip062)\" style=\"stroke:#000000; stroke-linecap:butt; stroke-linejoin:round; stroke-width:4; stroke-opacity:1; fill:none\" points=\"\n",
       "  1939.17,685.287 1939.17,1384.24 1998.25,1384.24 1998.25,685.287 1939.17,685.287 \n",
       "  \"/>\n",
       "<path clip-path=\"url(#clip062)\" d=\"\n",
       "M1998.25 851.704 L1998.25 1384.24 L2057.34 1384.24 L2057.34 851.704 L1998.25 851.704 L1998.25 851.704  Z\n",
       "  \" fill=\"#009af9\" fill-rule=\"evenodd\" fill-opacity=\"1\"/>\n",
       "<polyline clip-path=\"url(#clip062)\" style=\"stroke:#000000; stroke-linecap:butt; stroke-linejoin:round; stroke-width:4; stroke-opacity:1; fill:none\" points=\"\n",
       "  1998.25,851.704 1998.25,1384.24 2057.34,1384.24 2057.34,851.704 1998.25,851.704 \n",
       "  \"/>\n",
       "<path clip-path=\"url(#clip062)\" d=\"\n",
       "M2057.34 652.003 L2057.34 1384.24 L2116.42 1384.24 L2116.42 652.003 L2057.34 652.003 L2057.34 652.003  Z\n",
       "  \" fill=\"#009af9\" fill-rule=\"evenodd\" fill-opacity=\"1\"/>\n",
       "<polyline clip-path=\"url(#clip062)\" style=\"stroke:#000000; stroke-linecap:butt; stroke-linejoin:round; stroke-width:4; stroke-opacity:1; fill:none\" points=\"\n",
       "  2057.34,652.003 2057.34,1384.24 2116.42,1384.24 2116.42,652.003 2057.34,652.003 \n",
       "  \"/>\n",
       "<path clip-path=\"url(#clip062)\" d=\"\n",
       "M2116.42 951.554 L2116.42 1384.24 L2175.51 1384.24 L2175.51 951.554 L2116.42 951.554 L2116.42 951.554  Z\n",
       "  \" fill=\"#009af9\" fill-rule=\"evenodd\" fill-opacity=\"1\"/>\n",
       "<polyline clip-path=\"url(#clip062)\" style=\"stroke:#000000; stroke-linecap:butt; stroke-linejoin:round; stroke-width:4; stroke-opacity:1; fill:none\" points=\"\n",
       "  2116.42,951.554 2116.42,1384.24 2175.51,1384.24 2175.51,951.554 2116.42,951.554 \n",
       "  \"/>\n",
       "<path clip-path=\"url(#clip062)\" d=\"\n",
       "M2175.51 951.554 L2175.51 1384.24 L2234.59 1384.24 L2234.59 951.554 L2175.51 951.554 L2175.51 951.554  Z\n",
       "  \" fill=\"#009af9\" fill-rule=\"evenodd\" fill-opacity=\"1\"/>\n",
       "<polyline clip-path=\"url(#clip062)\" style=\"stroke:#000000; stroke-linecap:butt; stroke-linejoin:round; stroke-width:4; stroke-opacity:1; fill:none\" points=\"\n",
       "  2175.51,951.554 2175.51,1384.24 2234.59,1384.24 2234.59,951.554 2175.51,951.554 \n",
       "  \"/>\n",
       "<path clip-path=\"url(#clip062)\" d=\"\n",
       "M2234.59 652.003 L2234.59 1384.24 L2293.68 1384.24 L2293.68 652.003 L2234.59 652.003 L2234.59 652.003  Z\n",
       "  \" fill=\"#009af9\" fill-rule=\"evenodd\" fill-opacity=\"1\"/>\n",
       "<polyline clip-path=\"url(#clip062)\" style=\"stroke:#000000; stroke-linecap:butt; stroke-linejoin:round; stroke-width:4; stroke-opacity:1; fill:none\" points=\"\n",
       "  2234.59,652.003 2234.59,1384.24 2293.68,1384.24 2293.68,652.003 2234.59,652.003 \n",
       "  \"/>\n",
       "<path clip-path=\"url(#clip062)\" d=\"\n",
       "M2293.68 818.42 L2293.68 1384.24 L2352.77 1384.24 L2352.77 818.42 L2293.68 818.42 L2293.68 818.42  Z\n",
       "  \" fill=\"#009af9\" fill-rule=\"evenodd\" fill-opacity=\"1\"/>\n",
       "<polyline clip-path=\"url(#clip062)\" style=\"stroke:#000000; stroke-linecap:butt; stroke-linejoin:round; stroke-width:4; stroke-opacity:1; fill:none\" points=\"\n",
       "  2293.68,818.42 2293.68,1384.24 2352.77,1384.24 2352.77,818.42 2293.68,818.42 \n",
       "  \"/>\n",
       "<path clip-path=\"url(#clip062)\" d=\"\n",
       "M2352.77 785.137 L2352.77 1384.24 L2411.85 1384.24 L2411.85 785.137 L2352.77 785.137 L2352.77 785.137  Z\n",
       "  \" fill=\"#009af9\" fill-rule=\"evenodd\" fill-opacity=\"1\"/>\n",
       "<polyline clip-path=\"url(#clip062)\" style=\"stroke:#000000; stroke-linecap:butt; stroke-linejoin:round; stroke-width:4; stroke-opacity:1; fill:none\" points=\"\n",
       "  2352.77,785.137 2352.77,1384.24 2411.85,1384.24 2411.85,785.137 2352.77,785.137 \n",
       "  \"/>\n",
       "<path clip-path=\"url(#clip062)\" d=\"\n",
       "M2411.85 884.987 L2411.85 1384.24 L2470.94 1384.24 L2470.94 884.987 L2411.85 884.987 L2411.85 884.987  Z\n",
       "  \" fill=\"#009af9\" fill-rule=\"evenodd\" fill-opacity=\"1\"/>\n",
       "<polyline clip-path=\"url(#clip062)\" style=\"stroke:#000000; stroke-linecap:butt; stroke-linejoin:round; stroke-width:4; stroke-opacity:1; fill:none\" points=\"\n",
       "  2411.85,884.987 2411.85,1384.24 2470.94,1384.24 2470.94,884.987 2411.85,884.987 \n",
       "  \"/>\n",
       "<path clip-path=\"url(#clip062)\" d=\"\n",
       "M2470.94 984.837 L2470.94 1384.24 L2530.02 1384.24 L2530.02 984.837 L2470.94 984.837 L2470.94 984.837  Z\n",
       "  \" fill=\"#009af9\" fill-rule=\"evenodd\" fill-opacity=\"1\"/>\n",
       "<polyline clip-path=\"url(#clip062)\" style=\"stroke:#000000; stroke-linecap:butt; stroke-linejoin:round; stroke-width:4; stroke-opacity:1; fill:none\" points=\"\n",
       "  2470.94,984.837 2470.94,1384.24 2530.02,1384.24 2530.02,984.837 2470.94,984.837 \n",
       "  \"/>\n",
       "<path clip-path=\"url(#clip062)\" d=\"\n",
       "M2530.02 1018.12 L2530.02 1384.24 L2589.11 1384.24 L2589.11 1018.12 L2530.02 1018.12 L2530.02 1018.12  Z\n",
       "  \" fill=\"#009af9\" fill-rule=\"evenodd\" fill-opacity=\"1\"/>\n",
       "<polyline clip-path=\"url(#clip062)\" style=\"stroke:#000000; stroke-linecap:butt; stroke-linejoin:round; stroke-width:4; stroke-opacity:1; fill:none\" points=\"\n",
       "  2530.02,1018.12 2530.02,1384.24 2589.11,1384.24 2589.11,1018.12 2530.02,1018.12 \n",
       "  \"/>\n",
       "<path clip-path=\"url(#clip062)\" d=\"\n",
       "M2589.11 1084.69 L2589.11 1384.24 L2648.19 1384.24 L2648.19 1084.69 L2589.11 1084.69 L2589.11 1084.69  Z\n",
       "  \" fill=\"#009af9\" fill-rule=\"evenodd\" fill-opacity=\"1\"/>\n",
       "<polyline clip-path=\"url(#clip062)\" style=\"stroke:#000000; stroke-linecap:butt; stroke-linejoin:round; stroke-width:4; stroke-opacity:1; fill:none\" points=\"\n",
       "  2589.11,1084.69 2589.11,1384.24 2648.19,1384.24 2648.19,1084.69 2589.11,1084.69 \n",
       "  \"/>\n",
       "<path clip-path=\"url(#clip062)\" d=\"\n",
       "M2648.19 1151.25 L2648.19 1384.24 L2707.28 1384.24 L2707.28 1151.25 L2648.19 1151.25 L2648.19 1151.25  Z\n",
       "  \" fill=\"#009af9\" fill-rule=\"evenodd\" fill-opacity=\"1\"/>\n",
       "<polyline clip-path=\"url(#clip062)\" style=\"stroke:#000000; stroke-linecap:butt; stroke-linejoin:round; stroke-width:4; stroke-opacity:1; fill:none\" points=\"\n",
       "  2648.19,1151.25 2648.19,1384.24 2707.28,1384.24 2707.28,1151.25 2648.19,1151.25 \n",
       "  \"/>\n",
       "<path clip-path=\"url(#clip062)\" d=\"\n",
       "M2707.28 1184.54 L2707.28 1384.24 L2766.37 1384.24 L2766.37 1184.54 L2707.28 1184.54 L2707.28 1184.54  Z\n",
       "  \" fill=\"#009af9\" fill-rule=\"evenodd\" fill-opacity=\"1\"/>\n",
       "<polyline clip-path=\"url(#clip062)\" style=\"stroke:#000000; stroke-linecap:butt; stroke-linejoin:round; stroke-width:4; stroke-opacity:1; fill:none\" points=\"\n",
       "  2707.28,1184.54 2707.28,1384.24 2766.37,1384.24 2766.37,1184.54 2707.28,1184.54 \n",
       "  \"/>\n",
       "<path clip-path=\"url(#clip062)\" d=\"\n",
       "M2766.37 1084.69 L2766.37 1384.24 L2825.45 1384.24 L2825.45 1084.69 L2766.37 1084.69 L2766.37 1084.69  Z\n",
       "  \" fill=\"#009af9\" fill-rule=\"evenodd\" fill-opacity=\"1\"/>\n",
       "<polyline clip-path=\"url(#clip062)\" style=\"stroke:#000000; stroke-linecap:butt; stroke-linejoin:round; stroke-width:4; stroke-opacity:1; fill:none\" points=\"\n",
       "  2766.37,1084.69 2766.37,1384.24 2825.45,1384.24 2825.45,1084.69 2766.37,1084.69 \n",
       "  \"/>\n",
       "<path clip-path=\"url(#clip062)\" d=\"\n",
       "M2825.45 1217.82 L2825.45 1384.24 L2884.54 1384.24 L2884.54 1217.82 L2825.45 1217.82 L2825.45 1217.82  Z\n",
       "  \" fill=\"#009af9\" fill-rule=\"evenodd\" fill-opacity=\"1\"/>\n",
       "<polyline clip-path=\"url(#clip062)\" style=\"stroke:#000000; stroke-linecap:butt; stroke-linejoin:round; stroke-width:4; stroke-opacity:1; fill:none\" points=\"\n",
       "  2825.45,1217.82 2825.45,1384.24 2884.54,1384.24 2884.54,1217.82 2825.45,1217.82 \n",
       "  \"/>\n",
       "<path clip-path=\"url(#clip062)\" d=\"\n",
       "M2884.54 1384.24 L2884.54 1384.24 L2943.62 1384.24 L2943.62 1384.24 L2884.54 1384.24 L2884.54 1384.24  Z\n",
       "  \" fill=\"#009af9\" fill-rule=\"evenodd\" fill-opacity=\"1\"/>\n",
       "<polyline clip-path=\"url(#clip062)\" style=\"stroke:#000000; stroke-linecap:butt; stroke-linejoin:round; stroke-width:4; stroke-opacity:1; fill:none\" points=\"\n",
       "  2884.54,1384.24 2884.54,1384.24 2943.62,1384.24 2884.54,1384.24 \n",
       "  \"/>\n",
       "<path clip-path=\"url(#clip062)\" d=\"\n",
       "M2943.62 1317.67 L2943.62 1384.24 L3002.71 1384.24 L3002.71 1317.67 L2943.62 1317.67 L2943.62 1317.67  Z\n",
       "  \" fill=\"#009af9\" fill-rule=\"evenodd\" fill-opacity=\"1\"/>\n",
       "<polyline clip-path=\"url(#clip062)\" style=\"stroke:#000000; stroke-linecap:butt; stroke-linejoin:round; stroke-width:4; stroke-opacity:1; fill:none\" points=\"\n",
       "  2943.62,1317.67 2943.62,1384.24 3002.71,1384.24 3002.71,1317.67 2943.62,1317.67 \n",
       "  \"/>\n",
       "<path clip-path=\"url(#clip062)\" d=\"\n",
       "M3002.71 1184.54 L3002.71 1384.24 L3061.8 1384.24 L3061.8 1184.54 L3002.71 1184.54 L3002.71 1184.54  Z\n",
       "  \" fill=\"#009af9\" fill-rule=\"evenodd\" fill-opacity=\"1\"/>\n",
       "<polyline clip-path=\"url(#clip062)\" style=\"stroke:#000000; stroke-linecap:butt; stroke-linejoin:round; stroke-width:4; stroke-opacity:1; fill:none\" points=\"\n",
       "  3002.71,1184.54 3002.71,1384.24 3061.8,1384.24 3061.8,1184.54 3002.71,1184.54 \n",
       "  \"/>\n",
       "<path clip-path=\"url(#clip062)\" d=\"\n",
       "M3061.8 1284.39 L3061.8 1384.24 L3120.88 1384.24 L3120.88 1284.39 L3061.8 1284.39 L3061.8 1284.39  Z\n",
       "  \" fill=\"#009af9\" fill-rule=\"evenodd\" fill-opacity=\"1\"/>\n",
       "<polyline clip-path=\"url(#clip062)\" style=\"stroke:#000000; stroke-linecap:butt; stroke-linejoin:round; stroke-width:4; stroke-opacity:1; fill:none\" points=\"\n",
       "  3061.8,1284.39 3061.8,1384.24 3120.88,1384.24 3120.88,1284.39 3061.8,1284.39 \n",
       "  \"/>\n",
       "<path clip-path=\"url(#clip062)\" d=\"\n",
       "M3120.88 1350.95 L3120.88 1384.24 L3179.97 1384.24 L3179.97 1350.95 L3120.88 1350.95 L3120.88 1350.95  Z\n",
       "  \" fill=\"#009af9\" fill-rule=\"evenodd\" fill-opacity=\"1\"/>\n",
       "<polyline clip-path=\"url(#clip062)\" style=\"stroke:#000000; stroke-linecap:butt; stroke-linejoin:round; stroke-width:4; stroke-opacity:1; fill:none\" points=\"\n",
       "  3120.88,1350.95 3120.88,1384.24 3179.97,1384.24 3179.97,1350.95 3120.88,1350.95 \n",
       "  \"/>\n",
       "<path clip-path=\"url(#clip062)\" d=\"\n",
       "M3179.97 1350.95 L3179.97 1384.24 L3239.05 1384.24 L3239.05 1350.95 L3179.97 1350.95 L3179.97 1350.95  Z\n",
       "  \" fill=\"#009af9\" fill-rule=\"evenodd\" fill-opacity=\"1\"/>\n",
       "<polyline clip-path=\"url(#clip062)\" style=\"stroke:#000000; stroke-linecap:butt; stroke-linejoin:round; stroke-width:4; stroke-opacity:1; fill:none\" points=\"\n",
       "  3179.97,1350.95 3179.97,1384.24 3239.05,1384.24 3239.05,1350.95 3179.97,1350.95 \n",
       "  \"/>\n",
       "<path clip-path=\"url(#clip062)\" d=\"\n",
       "M3239.05 1384.24 L3239.05 1384.24 L3298.14 1384.24 L3298.14 1384.24 L3239.05 1384.24 L3239.05 1384.24  Z\n",
       "  \" fill=\"#009af9\" fill-rule=\"evenodd\" fill-opacity=\"1\"/>\n",
       "<polyline clip-path=\"url(#clip062)\" style=\"stroke:#000000; stroke-linecap:butt; stroke-linejoin:round; stroke-width:4; stroke-opacity:1; fill:none\" points=\"\n",
       "  3239.05,1384.24 3239.05,1384.24 3298.14,1384.24 3239.05,1384.24 \n",
       "  \"/>\n",
       "<path clip-path=\"url(#clip062)\" d=\"\n",
       "M3298.14 1317.67 L3298.14 1384.24 L3357.22 1384.24 L3357.22 1317.67 L3298.14 1317.67 L3298.14 1317.67  Z\n",
       "  \" fill=\"#009af9\" fill-rule=\"evenodd\" fill-opacity=\"1\"/>\n",
       "<polyline clip-path=\"url(#clip062)\" style=\"stroke:#000000; stroke-linecap:butt; stroke-linejoin:round; stroke-width:4; stroke-opacity:1; fill:none\" points=\"\n",
       "  3298.14,1317.67 3298.14,1384.24 3357.22,1384.24 3357.22,1317.67 3298.14,1317.67 \n",
       "  \"/>\n",
       "<path clip-path=\"url(#clip062)\" d=\"\n",
       "M3357.22 1384.24 L3357.22 1384.24 L3416.31 1384.24 L3416.31 1384.24 L3357.22 1384.24 L3357.22 1384.24  Z\n",
       "  \" fill=\"#009af9\" fill-rule=\"evenodd\" fill-opacity=\"1\"/>\n",
       "<polyline clip-path=\"url(#clip062)\" style=\"stroke:#000000; stroke-linecap:butt; stroke-linejoin:round; stroke-width:4; stroke-opacity:1; fill:none\" points=\"\n",
       "  3357.22,1384.24 3357.22,1384.24 3416.31,1384.24 3357.22,1384.24 \n",
       "  \"/>\n",
       "<path clip-path=\"url(#clip062)\" d=\"\n",
       "M3416.31 1384.24 L3416.31 1384.24 L3475.4 1384.24 L3475.4 1384.24 L3416.31 1384.24 L3416.31 1384.24  Z\n",
       "  \" fill=\"#009af9\" fill-rule=\"evenodd\" fill-opacity=\"1\"/>\n",
       "<polyline clip-path=\"url(#clip062)\" style=\"stroke:#000000; stroke-linecap:butt; stroke-linejoin:round; stroke-width:4; stroke-opacity:1; fill:none\" points=\"\n",
       "  3416.31,1384.24 3416.31,1384.24 3475.4,1384.24 3416.31,1384.24 \n",
       "  \"/>\n",
       "<path clip-path=\"url(#clip062)\" d=\"\n",
       "M3475.4 1350.95 L3475.4 1384.24 L3534.48 1384.24 L3534.48 1350.95 L3475.4 1350.95 L3475.4 1350.95  Z\n",
       "  \" fill=\"#009af9\" fill-rule=\"evenodd\" fill-opacity=\"1\"/>\n",
       "<polyline clip-path=\"url(#clip062)\" style=\"stroke:#000000; stroke-linecap:butt; stroke-linejoin:round; stroke-width:4; stroke-opacity:1; fill:none\" points=\"\n",
       "  3475.4,1350.95 3475.4,1384.24 3534.48,1384.24 3534.48,1350.95 3475.4,1350.95 \n",
       "  \"/>\n",
       "<path clip-path=\"url(#clip062)\" d=\"\n",
       "M3534.48 1384.24 L3534.48 1384.24 L3593.57 1384.24 L3593.57 1384.24 L3534.48 1384.24 L3534.48 1384.24  Z\n",
       "  \" fill=\"#009af9\" fill-rule=\"evenodd\" fill-opacity=\"1\"/>\n",
       "<polyline clip-path=\"url(#clip062)\" style=\"stroke:#000000; stroke-linecap:butt; stroke-linejoin:round; stroke-width:4; stroke-opacity:1; fill:none\" points=\"\n",
       "  3534.48,1384.24 3534.48,1384.24 3593.57,1384.24 3534.48,1384.24 \n",
       "  \"/>\n",
       "<path clip-path=\"url(#clip062)\" d=\"\n",
       "M3593.57 1317.67 L3593.57 1384.24 L3652.65 1384.24 L3652.65 1317.67 L3593.57 1317.67 L3593.57 1317.67  Z\n",
       "  \" fill=\"#009af9\" fill-rule=\"evenodd\" fill-opacity=\"1\"/>\n",
       "<polyline clip-path=\"url(#clip062)\" style=\"stroke:#000000; stroke-linecap:butt; stroke-linejoin:round; stroke-width:4; stroke-opacity:1; fill:none\" points=\"\n",
       "  3593.57,1317.67 3593.57,1384.24 3652.65,1384.24 3652.65,1317.67 3593.57,1317.67 \n",
       "  \"/>\n",
       "<path clip-path=\"url(#clip062)\" d=\"\n",
       "M3652.65 1384.24 L3652.65 1384.24 L3711.74 1384.24 L3711.74 1384.24 L3652.65 1384.24 L3652.65 1384.24  Z\n",
       "  \" fill=\"#009af9\" fill-rule=\"evenodd\" fill-opacity=\"1\"/>\n",
       "<polyline clip-path=\"url(#clip062)\" style=\"stroke:#000000; stroke-linecap:butt; stroke-linejoin:round; stroke-width:4; stroke-opacity:1; fill:none\" points=\"\n",
       "  3652.65,1384.24 3652.65,1384.24 3711.74,1384.24 3652.65,1384.24 \n",
       "  \"/>\n",
       "<path clip-path=\"url(#clip062)\" d=\"\n",
       "M3711.74 1384.24 L3711.74 1384.24 L3770.82 1384.24 L3770.82 1384.24 L3711.74 1384.24 L3711.74 1384.24  Z\n",
       "  \" fill=\"#009af9\" fill-rule=\"evenodd\" fill-opacity=\"1\"/>\n",
       "<polyline clip-path=\"url(#clip062)\" style=\"stroke:#000000; stroke-linecap:butt; stroke-linejoin:round; stroke-width:4; stroke-opacity:1; fill:none\" points=\"\n",
       "  3711.74,1384.24 3711.74,1384.24 3770.82,1384.24 3711.74,1384.24 \n",
       "  \"/>\n",
       "<path clip-path=\"url(#clip062)\" d=\"\n",
       "M3770.82 1384.24 L3770.82 1384.24 L3829.91 1384.24 L3829.91 1384.24 L3770.82 1384.24 L3770.82 1384.24  Z\n",
       "  \" fill=\"#009af9\" fill-rule=\"evenodd\" fill-opacity=\"1\"/>\n",
       "<polyline clip-path=\"url(#clip062)\" style=\"stroke:#000000; stroke-linecap:butt; stroke-linejoin:round; stroke-width:4; stroke-opacity:1; fill:none\" points=\"\n",
       "  3770.82,1384.24 3770.82,1384.24 3829.91,1384.24 3770.82,1384.24 \n",
       "  \"/>\n",
       "<path clip-path=\"url(#clip062)\" d=\"\n",
       "M3829.91 1384.24 L3829.91 1384.24 L3889 1384.24 L3889 1384.24 L3829.91 1384.24 L3829.91 1384.24  Z\n",
       "  \" fill=\"#009af9\" fill-rule=\"evenodd\" fill-opacity=\"1\"/>\n",
       "<polyline clip-path=\"url(#clip062)\" style=\"stroke:#000000; stroke-linecap:butt; stroke-linejoin:round; stroke-width:4; stroke-opacity:1; fill:none\" points=\"\n",
       "  3829.91,1384.24 3829.91,1384.24 3889,1384.24 3829.91,1384.24 \n",
       "  \"/>\n",
       "<path clip-path=\"url(#clip062)\" d=\"\n",
       "M3889 1384.24 L3889 1384.24 L3948.08 1384.24 L3948.08 1384.24 L3889 1384.24 L3889 1384.24  Z\n",
       "  \" fill=\"#009af9\" fill-rule=\"evenodd\" fill-opacity=\"1\"/>\n",
       "<polyline clip-path=\"url(#clip062)\" style=\"stroke:#000000; stroke-linecap:butt; stroke-linejoin:round; stroke-width:4; stroke-opacity:1; fill:none\" points=\"\n",
       "  3889,1384.24 3889,1384.24 3948.08,1384.24 3889,1384.24 \n",
       "  \"/>\n",
       "<path clip-path=\"url(#clip062)\" d=\"\n",
       "M3948.08 1350.95 L3948.08 1384.24 L4007.17 1384.24 L4007.17 1350.95 L3948.08 1350.95 L3948.08 1350.95  Z\n",
       "  \" fill=\"#009af9\" fill-rule=\"evenodd\" fill-opacity=\"1\"/>\n",
       "<polyline clip-path=\"url(#clip062)\" style=\"stroke:#000000; stroke-linecap:butt; stroke-linejoin:round; stroke-width:4; stroke-opacity:1; fill:none\" points=\"\n",
       "  3948.08,1350.95 3948.08,1384.24 4007.17,1384.24 4007.17,1350.95 3948.08,1350.95 \n",
       "  \"/>\n",
       "<path clip-path=\"url(#clip062)\" d=\"\n",
       "M4007.17 1384.24 L4007.17 1384.24 L4066.25 1384.24 L4066.25 1384.24 L4007.17 1384.24 L4007.17 1384.24  Z\n",
       "  \" fill=\"#009af9\" fill-rule=\"evenodd\" fill-opacity=\"1\"/>\n",
       "<polyline clip-path=\"url(#clip062)\" style=\"stroke:#000000; stroke-linecap:butt; stroke-linejoin:round; stroke-width:4; stroke-opacity:1; fill:none\" points=\"\n",
       "  4007.17,1384.24 4007.17,1384.24 4066.25,1384.24 4007.17,1384.24 \n",
       "  \"/>\n",
       "<path clip-path=\"url(#clip062)\" d=\"\n",
       "M4066.25 1384.24 L4066.25 1384.24 L4125.34 1384.24 L4125.34 1384.24 L4066.25 1384.24 L4066.25 1384.24  Z\n",
       "  \" fill=\"#009af9\" fill-rule=\"evenodd\" fill-opacity=\"1\"/>\n",
       "<polyline clip-path=\"url(#clip062)\" style=\"stroke:#000000; stroke-linecap:butt; stroke-linejoin:round; stroke-width:4; stroke-opacity:1; fill:none\" points=\"\n",
       "  4066.25,1384.24 4066.25,1384.24 4125.34,1384.24 4066.25,1384.24 \n",
       "  \"/>\n",
       "<path clip-path=\"url(#clip062)\" d=\"\n",
       "M4125.34 1384.24 L4125.34 1384.24 L4184.42 1384.24 L4184.42 1384.24 L4125.34 1384.24 L4125.34 1384.24  Z\n",
       "  \" fill=\"#009af9\" fill-rule=\"evenodd\" fill-opacity=\"1\"/>\n",
       "<polyline clip-path=\"url(#clip062)\" style=\"stroke:#000000; stroke-linecap:butt; stroke-linejoin:round; stroke-width:4; stroke-opacity:1; fill:none\" points=\"\n",
       "  4125.34,1384.24 4125.34,1384.24 4184.42,1384.24 4125.34,1384.24 \n",
       "  \"/>\n",
       "<path clip-path=\"url(#clip062)\" d=\"\n",
       "M4184.42 1384.24 L4184.42 1384.24 L4243.51 1384.24 L4243.51 1384.24 L4184.42 1384.24 L4184.42 1384.24  Z\n",
       "  \" fill=\"#009af9\" fill-rule=\"evenodd\" fill-opacity=\"1\"/>\n",
       "<polyline clip-path=\"url(#clip062)\" style=\"stroke:#000000; stroke-linecap:butt; stroke-linejoin:round; stroke-width:4; stroke-opacity:1; fill:none\" points=\"\n",
       "  4184.42,1384.24 4184.42,1384.24 4243.51,1384.24 4184.42,1384.24 \n",
       "  \"/>\n",
       "<path clip-path=\"url(#clip062)\" d=\"\n",
       "M4243.51 1384.24 L4243.51 1384.24 L4302.6 1384.24 L4302.6 1384.24 L4243.51 1384.24 L4243.51 1384.24  Z\n",
       "  \" fill=\"#009af9\" fill-rule=\"evenodd\" fill-opacity=\"1\"/>\n",
       "<polyline clip-path=\"url(#clip062)\" style=\"stroke:#000000; stroke-linecap:butt; stroke-linejoin:round; stroke-width:4; stroke-opacity:1; fill:none\" points=\"\n",
       "  4243.51,1384.24 4243.51,1384.24 4302.6,1384.24 4243.51,1384.24 \n",
       "  \"/>\n",
       "<path clip-path=\"url(#clip062)\" d=\"\n",
       "M4302.6 1350.95 L4302.6 1384.24 L4361.68 1384.24 L4361.68 1350.95 L4302.6 1350.95 L4302.6 1350.95  Z\n",
       "  \" fill=\"#009af9\" fill-rule=\"evenodd\" fill-opacity=\"1\"/>\n",
       "<polyline clip-path=\"url(#clip062)\" style=\"stroke:#000000; stroke-linecap:butt; stroke-linejoin:round; stroke-width:4; stroke-opacity:1; fill:none\" points=\"\n",
       "  4302.6,1350.95 4302.6,1384.24 4361.68,1384.24 4361.68,1350.95 4302.6,1350.95 \n",
       "  \"/>\n",
       "<path clip-path=\"url(#clip062)\" d=\"\n",
       "M4361.68 1384.24 L4361.68 1384.24 L4420.77 1384.24 L4420.77 1384.24 L4361.68 1384.24 L4361.68 1384.24  Z\n",
       "  \" fill=\"#009af9\" fill-rule=\"evenodd\" fill-opacity=\"1\"/>\n",
       "<polyline clip-path=\"url(#clip062)\" style=\"stroke:#000000; stroke-linecap:butt; stroke-linejoin:round; stroke-width:4; stroke-opacity:1; fill:none\" points=\"\n",
       "  4361.68,1384.24 4361.68,1384.24 4420.77,1384.24 4361.68,1384.24 \n",
       "  \"/>\n",
       "<path clip-path=\"url(#clip062)\" d=\"\n",
       "M4420.77 1384.24 L4420.77 1384.24 L4479.85 1384.24 L4479.85 1384.24 L4420.77 1384.24 L4420.77 1384.24  Z\n",
       "  \" fill=\"#009af9\" fill-rule=\"evenodd\" fill-opacity=\"1\"/>\n",
       "<polyline clip-path=\"url(#clip062)\" style=\"stroke:#000000; stroke-linecap:butt; stroke-linejoin:round; stroke-width:4; stroke-opacity:1; fill:none\" points=\"\n",
       "  4420.77,1384.24 4420.77,1384.24 4479.85,1384.24 4420.77,1384.24 \n",
       "  \"/>\n",
       "<path clip-path=\"url(#clip062)\" d=\"\n",
       "M4479.85 1384.24 L4479.85 1384.24 L4538.94 1384.24 L4538.94 1384.24 L4479.85 1384.24 L4479.85 1384.24  Z\n",
       "  \" fill=\"#009af9\" fill-rule=\"evenodd\" fill-opacity=\"1\"/>\n",
       "<polyline clip-path=\"url(#clip062)\" style=\"stroke:#000000; stroke-linecap:butt; stroke-linejoin:round; stroke-width:4; stroke-opacity:1; fill:none\" points=\"\n",
       "  4479.85,1384.24 4479.85,1384.24 4538.94,1384.24 4479.85,1384.24 \n",
       "  \"/>\n",
       "<path clip-path=\"url(#clip062)\" d=\"\n",
       "M4538.94 1350.95 L4538.94 1384.24 L4598.02 1384.24 L4598.02 1350.95 L4538.94 1350.95 L4538.94 1350.95  Z\n",
       "  \" fill=\"#009af9\" fill-rule=\"evenodd\" fill-opacity=\"1\"/>\n",
       "<polyline clip-path=\"url(#clip062)\" style=\"stroke:#000000; stroke-linecap:butt; stroke-linejoin:round; stroke-width:4; stroke-opacity:1; fill:none\" points=\"\n",
       "  4538.94,1350.95 4538.94,1384.24 4598.02,1384.24 4598.02,1350.95 4538.94,1350.95 \n",
       "  \"/>\n",
       "<circle clip-path=\"url(#clip062)\" style=\"fill:#009af9; stroke:none; fill-opacity:0\" cx=\"727.908\" cy=\"1317.67\" r=\"2\"/>\n",
       "<circle clip-path=\"url(#clip062)\" style=\"fill:#009af9; stroke:none; fill-opacity:0\" cx=\"786.994\" cy=\"1350.95\" r=\"2\"/>\n",
       "<circle clip-path=\"url(#clip062)\" style=\"fill:#009af9; stroke:none; fill-opacity:0\" cx=\"846.08\" cy=\"1151.25\" r=\"2\"/>\n",
       "<circle clip-path=\"url(#clip062)\" style=\"fill:#009af9; stroke:none; fill-opacity:0\" cx=\"905.165\" cy=\"1284.39\" r=\"2\"/>\n",
       "<circle clip-path=\"url(#clip062)\" style=\"fill:#009af9; stroke:none; fill-opacity:0\" cx=\"964.251\" cy=\"1284.39\" r=\"2\"/>\n",
       "<circle clip-path=\"url(#clip062)\" style=\"fill:#009af9; stroke:none; fill-opacity:0\" cx=\"1023.34\" cy=\"1284.39\" r=\"2\"/>\n",
       "<circle clip-path=\"url(#clip062)\" style=\"fill:#009af9; stroke:none; fill-opacity:0\" cx=\"1082.42\" cy=\"1084.69\" r=\"2\"/>\n",
       "<circle clip-path=\"url(#clip062)\" style=\"fill:#009af9; stroke:none; fill-opacity:0\" cx=\"1141.51\" cy=\"1051.4\" r=\"2\"/>\n",
       "<circle clip-path=\"url(#clip062)\" style=\"fill:#009af9; stroke:none; fill-opacity:0\" cx=\"1200.59\" cy=\"1084.69\" r=\"2\"/>\n",
       "<circle clip-path=\"url(#clip062)\" style=\"fill:#009af9; stroke:none; fill-opacity:0\" cx=\"1259.68\" cy=\"718.57\" r=\"2\"/>\n",
       "<circle clip-path=\"url(#clip062)\" style=\"fill:#009af9; stroke:none; fill-opacity:0\" cx=\"1318.77\" cy=\"851.704\" r=\"2\"/>\n",
       "<circle clip-path=\"url(#clip062)\" style=\"fill:#009af9; stroke:none; fill-opacity:0\" cx=\"1377.85\" cy=\"818.42\" r=\"2\"/>\n",
       "<circle clip-path=\"url(#clip062)\" style=\"fill:#009af9; stroke:none; fill-opacity:0\" cx=\"1436.94\" cy=\"618.72\" r=\"2\"/>\n",
       "<circle clip-path=\"url(#clip062)\" style=\"fill:#009af9; stroke:none; fill-opacity:0\" cx=\"1496.02\" cy=\"718.57\" r=\"2\"/>\n",
       "<circle clip-path=\"url(#clip062)\" style=\"fill:#009af9; stroke:none; fill-opacity:0\" cx=\"1555.11\" cy=\"585.437\" r=\"2\"/>\n",
       "<circle clip-path=\"url(#clip062)\" style=\"fill:#009af9; stroke:none; fill-opacity:0\" cx=\"1614.19\" cy=\"552.153\" r=\"2\"/>\n",
       "<circle clip-path=\"url(#clip062)\" style=\"fill:#009af9; stroke:none; fill-opacity:0\" cx=\"1673.28\" cy=\"352.453\" r=\"2\"/>\n",
       "<circle clip-path=\"url(#clip062)\" style=\"fill:#009af9; stroke:none; fill-opacity:0\" cx=\"1732.37\" cy=\"319.169\" r=\"2\"/>\n",
       "<circle clip-path=\"url(#clip062)\" style=\"fill:#009af9; stroke:none; fill-opacity:0\" cx=\"1791.45\" cy=\"452.303\" r=\"2\"/>\n",
       "<circle clip-path=\"url(#clip062)\" style=\"fill:#009af9; stroke:none; fill-opacity:0\" cx=\"1850.54\" cy=\"518.87\" r=\"2\"/>\n",
       "<circle clip-path=\"url(#clip062)\" style=\"fill:#009af9; stroke:none; fill-opacity:0\" cx=\"1909.62\" cy=\"86.1857\" r=\"2\"/>\n",
       "<circle clip-path=\"url(#clip062)\" style=\"fill:#009af9; stroke:none; fill-opacity:0\" cx=\"1968.71\" cy=\"685.287\" r=\"2\"/>\n",
       "<circle clip-path=\"url(#clip062)\" style=\"fill:#009af9; stroke:none; fill-opacity:0\" cx=\"2027.79\" cy=\"851.704\" r=\"2\"/>\n",
       "<circle clip-path=\"url(#clip062)\" style=\"fill:#009af9; stroke:none; fill-opacity:0\" cx=\"2086.88\" cy=\"652.003\" r=\"2\"/>\n",
       "<circle clip-path=\"url(#clip062)\" style=\"fill:#009af9; stroke:none; fill-opacity:0\" cx=\"2145.97\" cy=\"951.554\" r=\"2\"/>\n",
       "<circle clip-path=\"url(#clip062)\" style=\"fill:#009af9; stroke:none; fill-opacity:0\" cx=\"2205.05\" cy=\"951.554\" r=\"2\"/>\n",
       "<circle clip-path=\"url(#clip062)\" style=\"fill:#009af9; stroke:none; fill-opacity:0\" cx=\"2264.14\" cy=\"652.003\" r=\"2\"/>\n",
       "<circle clip-path=\"url(#clip062)\" style=\"fill:#009af9; stroke:none; fill-opacity:0\" cx=\"2323.22\" cy=\"818.42\" r=\"2\"/>\n",
       "</svg>\n"
      ]
     },
     "execution_count": 16,
     "metadata": {},
     "output_type": "execute_result"
    }
   ],
   "source": [
    "using Statistics\n",
    "t = c_bench.times / 1e6 # tempos em milisegundos\n",
    "m, σ = minimum(t), std(t)\n",
    "\n",
    "histogram(t, bins=100,\n",
    "    xlim=(m - σ, m + 3σ),\n",
    "    xlabel=\"milisegundos\", ylabel=\"Frequência\", label=\"\")"
   ]
  },
  {
   "cell_type": "markdown",
   "metadata": {},
   "source": [
    "## 2. C com -ffast-math\n",
    "\n",
    "Agora, vamos permitir que o C otimize suas operações de ponto flutuante.\n",
    "Dessa forma, ele vai vetorizar suas instruções usando [SIMD](https://en.wikipedia.org/wiki/SIMD) (single instruction, multiple data)."
   ]
  },
  {
   "cell_type": "code",
   "execution_count": 17,
   "metadata": {},
   "outputs": [
    {
     "data": {
      "text/plain": [
       "c_sum_fastmath (generic function with 1 method)"
      ]
     },
     "execution_count": 17,
     "metadata": {},
     "output_type": "execute_result"
    }
   ],
   "source": [
    "const Clib_fastmath = tempname()\n",
    "\n",
    "# Como acima mas agora com a opção -ffast-math\n",
    "open(`gcc -fPIC -O3 -msse3 -xc -shared -ffast-math -o $(Clib_fastmath * \".\" * Libdl.dlext) -`, \"w\") do f\n",
    "    print(f, C_code) \n",
    "end\n",
    "\n",
    "# Define uma função em Julia que chama a função em C\n",
    "c_sum_fastmath(X::Array{Float64}) = ccall((\"c_sum\", Clib_fastmath), Float64, (Csize_t, Ptr{Float64}), length(X), X)"
   ]
  },
  {
   "cell_type": "code",
   "execution_count": 18,
   "metadata": {},
   "outputs": [
    {
     "data": {
      "text/plain": [
       "BenchmarkTools.Trial: 983 samples with 1 evaluation.\n",
       " Range \u001b[90m(\u001b[39m\u001b[36m\u001b[1mmin\u001b[22m\u001b[39m … \u001b[35mmax\u001b[39m\u001b[90m):  \u001b[39m\u001b[36m\u001b[1m5.054 ms\u001b[22m\u001b[39m … \u001b[35m5.129 ms\u001b[39m  \u001b[90m┊\u001b[39m GC \u001b[90m(\u001b[39mmin … max\u001b[90m): \u001b[39m0.00% … 0.00%\n",
       " Time  \u001b[90m(\u001b[39m\u001b[34m\u001b[1mmedian\u001b[22m\u001b[39m\u001b[90m):     \u001b[39m\u001b[34m\u001b[1m5.074 ms             \u001b[22m\u001b[39m\u001b[90m┊\u001b[39m GC \u001b[90m(\u001b[39mmedian\u001b[90m):    \u001b[39m0.00%\n",
       " Time  \u001b[90m(\u001b[39m\u001b[32m\u001b[1mmean\u001b[22m\u001b[39m ± \u001b[32mσ\u001b[39m\u001b[90m):   \u001b[39m\u001b[32m\u001b[1m5.074 ms\u001b[22m\u001b[39m ± \u001b[32m7.743 μs\u001b[39m  \u001b[90m┊\u001b[39m GC \u001b[90m(\u001b[39mmean ± σ\u001b[90m):  \u001b[39m0.00% ± 0.00%\n",
       "\n",
       "  \u001b[39m \u001b[39m \u001b[39m \u001b[39m \u001b[39m \u001b[39m \u001b[39m \u001b[39m \u001b[39m \u001b[39m \u001b[39m \u001b[39m \u001b[39m \u001b[39m \u001b[39m▁\u001b[39m \u001b[39m▄\u001b[39m▃\u001b[39m▁\u001b[39m▄\u001b[39m▁\u001b[39m▅\u001b[39m▄\u001b[39m▂\u001b[39m█\u001b[39m▇\u001b[39m▇\u001b[34m▆\u001b[39m\u001b[39m▇\u001b[39m▄\u001b[39m▇\u001b[39m▆\u001b[39m▇\u001b[39m▆\u001b[39m▁\u001b[39m▆\u001b[39m▂\u001b[39m \u001b[39m▁\u001b[39m \u001b[39m \u001b[39m \u001b[39m \u001b[39m \u001b[39m \u001b[39m \u001b[39m \u001b[39m \u001b[39m \u001b[39m \u001b[39m \u001b[39m \u001b[39m \u001b[39m \u001b[39m \u001b[39m \u001b[39m \u001b[39m \u001b[39m \n",
       "  \u001b[39m▂\u001b[39m▂\u001b[39m▂\u001b[39m▁\u001b[39m▂\u001b[39m▃\u001b[39m▂\u001b[39m▄\u001b[39m▄\u001b[39m▄\u001b[39m▆\u001b[39m▅\u001b[39m▆\u001b[39m▆\u001b[39m█\u001b[39m▇\u001b[39m█\u001b[39m█\u001b[39m█\u001b[39m█\u001b[39m█\u001b[39m█\u001b[39m█\u001b[39m█\u001b[39m█\u001b[39m█\u001b[39m█\u001b[34m█\u001b[39m\u001b[39m█\u001b[39m█\u001b[39m█\u001b[39m█\u001b[39m█\u001b[39m█\u001b[39m█\u001b[39m█\u001b[39m█\u001b[39m▇\u001b[39m█\u001b[39m▆\u001b[39m▆\u001b[39m▃\u001b[39m▃\u001b[39m▃\u001b[39m▂\u001b[39m▃\u001b[39m▃\u001b[39m▃\u001b[39m▃\u001b[39m▃\u001b[39m▃\u001b[39m▃\u001b[39m▃\u001b[39m▂\u001b[39m▂\u001b[39m▁\u001b[39m▃\u001b[39m \u001b[39m▅\n",
       "  5.05 ms\u001b[90m        Histogram: frequency by time\u001b[39m        5.1 ms \u001b[0m\u001b[1m<\u001b[22m\n",
       "\n",
       " Memory estimate\u001b[90m: \u001b[39m\u001b[33m0 bytes\u001b[39m, allocs estimate\u001b[90m: \u001b[39m\u001b[33m0\u001b[39m."
      ]
     },
     "execution_count": 18,
     "metadata": {},
     "output_type": "execute_result"
    }
   ],
   "source": [
    "c_fastmath_bench = @benchmark $c_sum_fastmath($a)"
   ]
  },
  {
   "cell_type": "code",
   "execution_count": 19,
   "metadata": {},
   "outputs": [
    {
     "data": {
      "text/plain": [
       "5.053559"
      ]
     },
     "execution_count": 19,
     "metadata": {},
     "output_type": "execute_result"
    }
   ],
   "source": [
    "d[\"C com -ffast-math\"] = minimum(c_fastmath_bench.times) / 1e6  # em milisegundos"
   ]
  },
  {
   "cell_type": "markdown",
   "metadata": {},
   "source": [
    "## 3. Python\n",
    "\n",
    "O pacote `PyCall` fornece uma interface entre a Julia e o Python:"
   ]
  },
  {
   "cell_type": "code",
   "execution_count": 20,
   "metadata": {},
   "outputs": [
    {
     "name": "stderr",
     "output_type": "stream",
     "text": [
      "\u001b[32m\u001b[1m   Resolving\u001b[22m\u001b[39m package versions...\n",
      "\u001b[32m\u001b[1m  No Changes\u001b[22m\u001b[39m to `~/Sync/julia-breve-intro/Project.toml`\n",
      "\u001b[32m\u001b[1m  No Changes\u001b[22m\u001b[39m to `~/Sync/julia-breve-intro/Manifest.toml`\n"
     ]
    }
   ],
   "source": [
    "Pkg.add(\"PyCall\")"
   ]
  },
  {
   "cell_type": "code",
   "execution_count": 21,
   "metadata": {},
   "outputs": [],
   "source": [
    "using PyCall"
   ]
  },
  {
   "cell_type": "code",
   "execution_count": 22,
   "metadata": {},
   "outputs": [
    {
     "data": {
      "text/plain": [
       "PyObject <built-in function sum>"
      ]
     },
     "execution_count": 22,
     "metadata": {},
     "output_type": "execute_result"
    }
   ],
   "source": [
    "# Importa a função \"sum\" do Python\n",
    "pysum = pybuiltin(\"sum\")"
   ]
  },
  {
   "cell_type": "code",
   "execution_count": 23,
   "metadata": {},
   "outputs": [
    {
     "name": "stderr",
     "output_type": "stream",
     "text": [
      "┌ Warning: `vendor()` is deprecated, use `BLAS.get_config()` and inspect the output instead\n",
      "│   caller = npyinitialize() at numpy.jl:67\n",
      "└ @ PyCall /home/goliveir/.julia/packages/PyCall/L0fLP/src/numpy.jl:67\n"
     ]
    },
    {
     "data": {
      "text/plain": [
       "5.000644366524802e6"
      ]
     },
     "execution_count": 23,
     "metadata": {},
     "output_type": "execute_result"
    }
   ],
   "source": [
    "pysum(a)"
   ]
  },
  {
   "cell_type": "code",
   "execution_count": 24,
   "metadata": {},
   "outputs": [
    {
     "data": {
      "text/plain": [
       "true"
      ]
     },
     "execution_count": 24,
     "metadata": {},
     "output_type": "execute_result"
    }
   ],
   "source": [
    "pysum(a) ≈ sum(a)"
   ]
  },
  {
   "cell_type": "code",
   "execution_count": 25,
   "metadata": {},
   "outputs": [
    {
     "data": {
      "text/plain": [
       "BenchmarkTools.Trial: 6 samples with 1 evaluation.\n",
       " Range \u001b[90m(\u001b[39m\u001b[36m\u001b[1mmin\u001b[22m\u001b[39m … \u001b[35mmax\u001b[39m\u001b[90m):  \u001b[39m\u001b[36m\u001b[1m850.681 ms\u001b[22m\u001b[39m … \u001b[35m880.006 ms\u001b[39m  \u001b[90m┊\u001b[39m GC \u001b[90m(\u001b[39mmin … max\u001b[90m): \u001b[39m0.00% … 0.00%\n",
       " Time  \u001b[90m(\u001b[39m\u001b[34m\u001b[1mmedian\u001b[22m\u001b[39m\u001b[90m):     \u001b[39m\u001b[34m\u001b[1m860.882 ms               \u001b[22m\u001b[39m\u001b[90m┊\u001b[39m GC \u001b[90m(\u001b[39mmedian\u001b[90m):    \u001b[39m0.00%\n",
       " Time  \u001b[90m(\u001b[39m\u001b[32m\u001b[1mmean\u001b[22m\u001b[39m ± \u001b[32mσ\u001b[39m\u001b[90m):   \u001b[39m\u001b[32m\u001b[1m863.359 ms\u001b[22m\u001b[39m ± \u001b[32m 13.146 ms\u001b[39m  \u001b[90m┊\u001b[39m GC \u001b[90m(\u001b[39mmean ± σ\u001b[90m):  \u001b[39m0.00% ± 0.00%\n",
       "\n",
       "  \u001b[39m█\u001b[39m \u001b[39m \u001b[39m \u001b[39m \u001b[39m \u001b[39m \u001b[39m \u001b[34m▁\u001b[39m\u001b[39m \u001b[39m \u001b[39m \u001b[39m \u001b[39m \u001b[39m \u001b[39m \u001b[39m \u001b[39m \u001b[39m \u001b[39m \u001b[39m \u001b[39m \u001b[39m \u001b[39m \u001b[39m \u001b[39m \u001b[32m \u001b[39m\u001b[39m \u001b[39m \u001b[39m \u001b[39m \u001b[39m \u001b[39m \u001b[39m \u001b[39m▁\u001b[39m \u001b[39m \u001b[39m \u001b[39m \u001b[39m \u001b[39m \u001b[39m \u001b[39m \u001b[39m \u001b[39m \u001b[39m \u001b[39m \u001b[39m \u001b[39m \u001b[39m \u001b[39m \u001b[39m \u001b[39m \u001b[39m \u001b[39m▁\u001b[39m \u001b[39m \u001b[39m \u001b[39m \u001b[39m \u001b[39m▁\u001b[39m \u001b[39m \n",
       "  \u001b[39m█\u001b[39m▁\u001b[39m▁\u001b[39m▁\u001b[39m▁\u001b[39m▁\u001b[39m▁\u001b[39m▁\u001b[34m█\u001b[39m\u001b[39m▁\u001b[39m▁\u001b[39m▁\u001b[39m▁\u001b[39m▁\u001b[39m▁\u001b[39m▁\u001b[39m▁\u001b[39m▁\u001b[39m▁\u001b[39m▁\u001b[39m▁\u001b[39m▁\u001b[39m▁\u001b[39m▁\u001b[39m▁\u001b[39m▁\u001b[32m▁\u001b[39m\u001b[39m▁\u001b[39m▁\u001b[39m▁\u001b[39m▁\u001b[39m▁\u001b[39m▁\u001b[39m▁\u001b[39m█\u001b[39m▁\u001b[39m▁\u001b[39m▁\u001b[39m▁\u001b[39m▁\u001b[39m▁\u001b[39m▁\u001b[39m▁\u001b[39m▁\u001b[39m▁\u001b[39m▁\u001b[39m▁\u001b[39m▁\u001b[39m▁\u001b[39m▁\u001b[39m▁\u001b[39m▁\u001b[39m▁\u001b[39m▁\u001b[39m█\u001b[39m▁\u001b[39m▁\u001b[39m▁\u001b[39m▁\u001b[39m▁\u001b[39m█\u001b[39m \u001b[39m▁\n",
       "  851 ms\u001b[90m           Histogram: frequency by time\u001b[39m          880 ms \u001b[0m\u001b[1m<\u001b[22m\n",
       "\n",
       " Memory estimate\u001b[90m: \u001b[39m\u001b[33m240 bytes\u001b[39m, allocs estimate\u001b[90m: \u001b[39m\u001b[33m6\u001b[39m."
      ]
     },
     "execution_count": 25,
     "metadata": {},
     "output_type": "execute_result"
    }
   ],
   "source": [
    "py_list_bench = @benchmark $pysum($a)"
   ]
  },
  {
   "cell_type": "code",
   "execution_count": 26,
   "metadata": {},
   "outputs": [
    {
     "data": {
      "text/plain": [
       "Dict{Any, Any} with 3 entries:\n",
       "  \"C com -ffast-math\" => 5.05356\n",
       "  \"C\"                 => 8.51474\n",
       "  \"Python\"            => 850.681"
      ]
     },
     "execution_count": 26,
     "metadata": {},
     "output_type": "execute_result"
    }
   ],
   "source": [
    "d[\"Python\"] = minimum(py_list_bench.times) / 1e6\n",
    "d"
   ]
  },
  {
   "cell_type": "markdown",
   "metadata": {},
   "source": [
    "## 4. Python `numpy`\n",
    "\n",
    "A biblioteca `numpy` do Python é escrita em C e também utiliza SIMD.\n",
    "Essa biblioteca pode ser instalada na Julia da seguinte forma:"
   ]
  },
  {
   "cell_type": "code",
   "execution_count": 27,
   "metadata": {},
   "outputs": [
    {
     "name": "stderr",
     "output_type": "stream",
     "text": [
      "\u001b[32m\u001b[1m   Resolving\u001b[22m\u001b[39m package versions...\n",
      "\u001b[32m\u001b[1m  No Changes\u001b[22m\u001b[39m to `~/Sync/julia-breve-intro/Project.toml`\n",
      "\u001b[32m\u001b[1m  No Changes\u001b[22m\u001b[39m to `~/Sync/julia-breve-intro/Manifest.toml`\n"
     ]
    }
   ],
   "source": [
    "Pkg.add(\"Conda\")"
   ]
  },
  {
   "cell_type": "code",
   "execution_count": 28,
   "metadata": {},
   "outputs": [],
   "source": [
    "using Conda"
   ]
  },
  {
   "cell_type": "code",
   "execution_count": 29,
   "metadata": {},
   "outputs": [
    {
     "data": {
      "text/plain": [
       "BenchmarkTools.Trial: 1313 samples with 1 evaluation.\n",
       " Range \u001b[90m(\u001b[39m\u001b[36m\u001b[1mmin\u001b[22m\u001b[39m … \u001b[35mmax\u001b[39m\u001b[90m):  \u001b[39m\u001b[36m\u001b[1m3.772 ms\u001b[22m\u001b[39m … \u001b[35m 3.923 ms\u001b[39m  \u001b[90m┊\u001b[39m GC \u001b[90m(\u001b[39mmin … max\u001b[90m): \u001b[39m0.00% … 0.00%\n",
       " Time  \u001b[90m(\u001b[39m\u001b[34m\u001b[1mmedian\u001b[22m\u001b[39m\u001b[90m):     \u001b[39m\u001b[34m\u001b[1m3.793 ms              \u001b[22m\u001b[39m\u001b[90m┊\u001b[39m GC \u001b[90m(\u001b[39mmedian\u001b[90m):    \u001b[39m0.00%\n",
       " Time  \u001b[90m(\u001b[39m\u001b[32m\u001b[1mmean\u001b[22m\u001b[39m ± \u001b[32mσ\u001b[39m\u001b[90m):   \u001b[39m\u001b[32m\u001b[1m3.794 ms\u001b[22m\u001b[39m ± \u001b[32m10.916 μs\u001b[39m  \u001b[90m┊\u001b[39m GC \u001b[90m(\u001b[39mmean ± σ\u001b[90m):  \u001b[39m0.00% ± 0.00%\n",
       "\n",
       "  \u001b[39m \u001b[39m \u001b[39m \u001b[39m \u001b[39m \u001b[39m \u001b[39m \u001b[39m \u001b[39m \u001b[39m \u001b[39m \u001b[39m \u001b[39m▁\u001b[39m▁\u001b[39m▂\u001b[39m▃\u001b[39m▅\u001b[39m█\u001b[34m▆\u001b[39m\u001b[32m▆\u001b[39m\u001b[39m▅\u001b[39m▂\u001b[39m▁\u001b[39m \u001b[39m \u001b[39m \u001b[39m \u001b[39m \u001b[39m \u001b[39m \u001b[39m \u001b[39m \u001b[39m \u001b[39m \u001b[39m \u001b[39m \u001b[39m \u001b[39m \u001b[39m \u001b[39m \u001b[39m \u001b[39m \u001b[39m \u001b[39m \u001b[39m \u001b[39m \u001b[39m \u001b[39m \u001b[39m \u001b[39m \u001b[39m \u001b[39m \u001b[39m \u001b[39m \u001b[39m \u001b[39m \u001b[39m \u001b[39m \u001b[39m \u001b[39m \n",
       "  \u001b[39m▂\u001b[39m▂\u001b[39m▂\u001b[39m▂\u001b[39m▃\u001b[39m▂\u001b[39m▃\u001b[39m▃\u001b[39m▅\u001b[39m▅\u001b[39m▆\u001b[39m▇\u001b[39m█\u001b[39m█\u001b[39m█\u001b[39m█\u001b[39m█\u001b[39m█\u001b[34m█\u001b[39m\u001b[32m█\u001b[39m\u001b[39m█\u001b[39m█\u001b[39m█\u001b[39m█\u001b[39m▇\u001b[39m▆\u001b[39m▅\u001b[39m▃\u001b[39m▃\u001b[39m▂\u001b[39m▂\u001b[39m▃\u001b[39m▂\u001b[39m▂\u001b[39m▂\u001b[39m▁\u001b[39m▁\u001b[39m▃\u001b[39m▂\u001b[39m▁\u001b[39m▂\u001b[39m▂\u001b[39m▁\u001b[39m▂\u001b[39m▁\u001b[39m▂\u001b[39m▂\u001b[39m▁\u001b[39m▁\u001b[39m▁\u001b[39m▁\u001b[39m▁\u001b[39m▁\u001b[39m▁\u001b[39m▂\u001b[39m▂\u001b[39m▁\u001b[39m▂\u001b[39m \u001b[39m▃\n",
       "  3.77 ms\u001b[90m        Histogram: frequency by time\u001b[39m        3.84 ms \u001b[0m\u001b[1m<\u001b[22m\n",
       "\n",
       " Memory estimate\u001b[90m: \u001b[39m\u001b[33m240 bytes\u001b[39m, allocs estimate\u001b[90m: \u001b[39m\u001b[33m6\u001b[39m."
      ]
     },
     "execution_count": 29,
     "metadata": {},
     "output_type": "execute_result"
    }
   ],
   "source": [
    "numpy_sum = pyimport(\"numpy\")[\"sum\"]\n",
    "\n",
    "py_numpy_bench = @benchmark $numpy_sum($a)"
   ]
  },
  {
   "cell_type": "code",
   "execution_count": 30,
   "metadata": {},
   "outputs": [
    {
     "data": {
      "text/plain": [
       "5.000644366525248e6"
      ]
     },
     "execution_count": 30,
     "metadata": {},
     "output_type": "execute_result"
    }
   ],
   "source": [
    "numpy_sum(a)"
   ]
  },
  {
   "cell_type": "code",
   "execution_count": 31,
   "metadata": {},
   "outputs": [
    {
     "data": {
      "text/plain": [
       "true"
      ]
     },
     "execution_count": 31,
     "metadata": {},
     "output_type": "execute_result"
    }
   ],
   "source": [
    "numpy_sum(a) ≈ sum(a)"
   ]
  },
  {
   "cell_type": "code",
   "execution_count": 32,
   "metadata": {},
   "outputs": [
    {
     "data": {
      "text/plain": [
       "Dict{Any, Any} with 4 entries:\n",
       "  \"C com -ffast-math\" => 5.05356\n",
       "  \"C\"                 => 8.51474\n",
       "  \"Python numpy\"      => 3.77216\n",
       "  \"Python\"            => 850.681"
      ]
     },
     "execution_count": 32,
     "metadata": {},
     "output_type": "execute_result"
    }
   ],
   "source": [
    "d[\"Python numpy\"] = minimum(py_numpy_bench.times) / 1e6\n",
    "d"
   ]
  },
  {
   "cell_type": "markdown",
   "metadata": {},
   "source": [
    "## 5. Python (escrito à mão)"
   ]
  },
  {
   "cell_type": "code",
   "execution_count": 33,
   "metadata": {},
   "outputs": [
    {
     "data": {
      "text/plain": [
       "PyObject <function py_sum at 0x7f70a1de28c0>"
      ]
     },
     "execution_count": 33,
     "metadata": {},
     "output_type": "execute_result"
    }
   ],
   "source": [
    "py\"\"\"\n",
    "def py_sum(A):\n",
    "    s = 0.0\n",
    "    for a in A:\n",
    "        s += a\n",
    "    return s\n",
    "\"\"\"\n",
    "\n",
    "sum_py = py\"py_sum\""
   ]
  },
  {
   "cell_type": "code",
   "execution_count": 34,
   "metadata": {},
   "outputs": [
    {
     "data": {
      "text/plain": [
       "BenchmarkTools.Trial: 5 samples with 1 evaluation.\n",
       " Range \u001b[90m(\u001b[39m\u001b[36m\u001b[1mmin\u001b[22m\u001b[39m … \u001b[35mmax\u001b[39m\u001b[90m):  \u001b[39m\u001b[36m\u001b[1m1.107 s\u001b[22m\u001b[39m … \u001b[35m  1.166 s\u001b[39m  \u001b[90m┊\u001b[39m GC \u001b[90m(\u001b[39mmin … max\u001b[90m): \u001b[39m0.00% … 0.00%\n",
       " Time  \u001b[90m(\u001b[39m\u001b[34m\u001b[1mmedian\u001b[22m\u001b[39m\u001b[90m):     \u001b[39m\u001b[34m\u001b[1m1.139 s              \u001b[22m\u001b[39m\u001b[90m┊\u001b[39m GC \u001b[90m(\u001b[39mmedian\u001b[90m):    \u001b[39m0.00%\n",
       " Time  \u001b[90m(\u001b[39m\u001b[32m\u001b[1mmean\u001b[22m\u001b[39m ± \u001b[32mσ\u001b[39m\u001b[90m):   \u001b[39m\u001b[32m\u001b[1m1.139 s\u001b[22m\u001b[39m ± \u001b[32m22.902 ms\u001b[39m  \u001b[90m┊\u001b[39m GC \u001b[90m(\u001b[39mmean ± σ\u001b[90m):  \u001b[39m0.00% ± 0.00%\n",
       "\n",
       "  \u001b[39m█\u001b[39m \u001b[39m \u001b[39m \u001b[39m \u001b[39m \u001b[39m \u001b[39m \u001b[39m \u001b[39m \u001b[39m \u001b[39m \u001b[39m \u001b[39m \u001b[39m \u001b[39m \u001b[39m \u001b[39m \u001b[39m \u001b[39m \u001b[39m█\u001b[34m \u001b[39m\u001b[39m \u001b[39m \u001b[39m \u001b[39m \u001b[39m \u001b[39m \u001b[39m \u001b[39m \u001b[39m█\u001b[32m \u001b[39m\u001b[39m \u001b[39m \u001b[39m \u001b[39m \u001b[39m \u001b[39m \u001b[39m \u001b[39m \u001b[39m \u001b[39m \u001b[39m \u001b[39m \u001b[39m█\u001b[39m \u001b[39m \u001b[39m \u001b[39m \u001b[39m \u001b[39m \u001b[39m \u001b[39m \u001b[39m \u001b[39m \u001b[39m \u001b[39m█\u001b[39m \u001b[39m \n",
       "  \u001b[39m█\u001b[39m▁\u001b[39m▁\u001b[39m▁\u001b[39m▁\u001b[39m▁\u001b[39m▁\u001b[39m▁\u001b[39m▁\u001b[39m▁\u001b[39m▁\u001b[39m▁\u001b[39m▁\u001b[39m▁\u001b[39m▁\u001b[39m▁\u001b[39m▁\u001b[39m▁\u001b[39m▁\u001b[39m▁\u001b[39m█\u001b[34m▁\u001b[39m\u001b[39m▁\u001b[39m▁\u001b[39m▁\u001b[39m▁\u001b[39m▁\u001b[39m▁\u001b[39m▁\u001b[39m▁\u001b[39m█\u001b[32m▁\u001b[39m\u001b[39m▁\u001b[39m▁\u001b[39m▁\u001b[39m▁\u001b[39m▁\u001b[39m▁\u001b[39m▁\u001b[39m▁\u001b[39m▁\u001b[39m▁\u001b[39m▁\u001b[39m▁\u001b[39m█\u001b[39m▁\u001b[39m▁\u001b[39m▁\u001b[39m▁\u001b[39m▁\u001b[39m▁\u001b[39m▁\u001b[39m▁\u001b[39m▁\u001b[39m▁\u001b[39m▁\u001b[39m█\u001b[39m \u001b[39m▁\n",
       "  1.11 s\u001b[90m         Histogram: frequency by time\u001b[39m        1.17 s \u001b[0m\u001b[1m<\u001b[22m\n",
       "\n",
       " Memory estimate\u001b[90m: \u001b[39m\u001b[33m240 bytes\u001b[39m, allocs estimate\u001b[90m: \u001b[39m\u001b[33m6\u001b[39m."
      ]
     },
     "execution_count": 34,
     "metadata": {},
     "output_type": "execute_result"
    }
   ],
   "source": [
    "py_hand = @benchmark $sum_py($a)"
   ]
  },
  {
   "cell_type": "code",
   "execution_count": 35,
   "metadata": {},
   "outputs": [
    {
     "data": {
      "text/plain": [
       "5.000644366524802e6"
      ]
     },
     "execution_count": 35,
     "metadata": {},
     "output_type": "execute_result"
    }
   ],
   "source": [
    "sum_py(a)"
   ]
  },
  {
   "cell_type": "code",
   "execution_count": 36,
   "metadata": {},
   "outputs": [
    {
     "data": {
      "text/plain": [
       "true"
      ]
     },
     "execution_count": 36,
     "metadata": {},
     "output_type": "execute_result"
    }
   ],
   "source": [
    "sum_py(a) ≈ sum(a)"
   ]
  },
  {
   "cell_type": "code",
   "execution_count": 37,
   "metadata": {},
   "outputs": [
    {
     "data": {
      "text/plain": [
       "Dict{Any, Any} with 5 entries:\n",
       "  \"C com -ffast-math\"    => 5.05356\n",
       "  \"Python escrito à mão\" => 1106.76\n",
       "  \"C\"                    => 8.51474\n",
       "  \"Python numpy\"         => 3.77216\n",
       "  \"Python\"               => 850.681"
      ]
     },
     "execution_count": 37,
     "metadata": {},
     "output_type": "execute_result"
    }
   ],
   "source": [
    "d[\"Python escrito à mão\"] = minimum(py_hand.times) / 1e6\n",
    "d"
   ]
  },
  {
   "cell_type": "markdown",
   "metadata": {},
   "source": [
    "## 6. Julia\n",
    "\n",
    "Em Julia, a função `sum` é escrita em Julia, não em C."
   ]
  },
  {
   "cell_type": "code",
   "execution_count": 38,
   "metadata": {},
   "outputs": [
    {
     "data": {
      "text/html": [
       "sum(a::<b>AbstractArray</b>; <i>dims, kw...</i>) in Base at <a href=\"https://github.com/JuliaLang/julia/tree/bf534986350a991e4a1b29126de0342ffd76205e/base/reducedim.jl#L889\" target=\"_blank\">reducedim.jl:889</a>"
      ],
      "text/plain": [
       "sum(a::AbstractArray; dims, kw...) in Base at reducedim.jl:889"
      ]
     },
     "execution_count": 38,
     "metadata": {},
     "output_type": "execute_result"
    }
   ],
   "source": [
    "@which sum(a)"
   ]
  },
  {
   "cell_type": "code",
   "execution_count": 39,
   "metadata": {},
   "outputs": [
    {
     "data": {
      "text/plain": [
       "BenchmarkTools.Trial: 1296 samples with 1 evaluation.\n",
       " Range \u001b[90m(\u001b[39m\u001b[36m\u001b[1mmin\u001b[22m\u001b[39m … \u001b[35mmax\u001b[39m\u001b[90m):  \u001b[39m\u001b[36m\u001b[1m3.826 ms\u001b[22m\u001b[39m … \u001b[35m3.955 ms\u001b[39m  \u001b[90m┊\u001b[39m GC \u001b[90m(\u001b[39mmin … max\u001b[90m): \u001b[39m0.00% … 0.00%\n",
       " Time  \u001b[90m(\u001b[39m\u001b[34m\u001b[1mmedian\u001b[22m\u001b[39m\u001b[90m):     \u001b[39m\u001b[34m\u001b[1m3.845 ms             \u001b[22m\u001b[39m\u001b[90m┊\u001b[39m GC \u001b[90m(\u001b[39mmedian\u001b[90m):    \u001b[39m0.00%\n",
       " Time  \u001b[90m(\u001b[39m\u001b[32m\u001b[1mmean\u001b[22m\u001b[39m ± \u001b[32mσ\u001b[39m\u001b[90m):   \u001b[39m\u001b[32m\u001b[1m3.845 ms\u001b[22m\u001b[39m ± \u001b[32m8.920 μs\u001b[39m  \u001b[90m┊\u001b[39m GC \u001b[90m(\u001b[39mmean ± σ\u001b[90m):  \u001b[39m0.00% ± 0.00%\n",
       "\n",
       "  \u001b[39m \u001b[39m \u001b[39m \u001b[39m \u001b[39m \u001b[39m \u001b[39m \u001b[39m \u001b[39m \u001b[39m \u001b[39m \u001b[39m \u001b[39m▄\u001b[39m▂\u001b[39m▄\u001b[39m▃\u001b[39m▆\u001b[39m▆\u001b[39m▅\u001b[39m▆\u001b[39m▅\u001b[34m█\u001b[39m\u001b[32m▄\u001b[39m\u001b[39m▄\u001b[39m█\u001b[39m█\u001b[39m▄\u001b[39m▁\u001b[39m▂\u001b[39m \u001b[39m \u001b[39m \u001b[39m \u001b[39m \u001b[39m \u001b[39m \u001b[39m \u001b[39m \u001b[39m \u001b[39m \u001b[39m \u001b[39m \u001b[39m \u001b[39m \u001b[39m \u001b[39m \u001b[39m \u001b[39m \u001b[39m \u001b[39m \u001b[39m \u001b[39m \u001b[39m \u001b[39m \u001b[39m \u001b[39m \u001b[39m \u001b[39m \u001b[39m \n",
       "  \u001b[39m▂\u001b[39m▂\u001b[39m▃\u001b[39m▃\u001b[39m▄\u001b[39m▃\u001b[39m▃\u001b[39m▅\u001b[39m▅\u001b[39m▆\u001b[39m▆\u001b[39m▇\u001b[39m█\u001b[39m█\u001b[39m█\u001b[39m█\u001b[39m█\u001b[39m█\u001b[39m█\u001b[39m█\u001b[39m█\u001b[34m█\u001b[39m\u001b[32m█\u001b[39m\u001b[39m█\u001b[39m█\u001b[39m█\u001b[39m█\u001b[39m█\u001b[39m█\u001b[39m▇\u001b[39m▇\u001b[39m▆\u001b[39m▆\u001b[39m▅\u001b[39m▃\u001b[39m▄\u001b[39m▃\u001b[39m▄\u001b[39m▃\u001b[39m▃\u001b[39m▁\u001b[39m▁\u001b[39m▁\u001b[39m▁\u001b[39m▃\u001b[39m▂\u001b[39m▁\u001b[39m▁\u001b[39m▁\u001b[39m▃\u001b[39m▁\u001b[39m▂\u001b[39m▂\u001b[39m▁\u001b[39m▁\u001b[39m▂\u001b[39m▂\u001b[39m \u001b[39m▄\n",
       "  3.83 ms\u001b[90m        Histogram: frequency by time\u001b[39m       3.88 ms \u001b[0m\u001b[1m<\u001b[22m\n",
       "\n",
       " Memory estimate\u001b[90m: \u001b[39m\u001b[33m0 bytes\u001b[39m, allocs estimate\u001b[90m: \u001b[39m\u001b[33m0\u001b[39m."
      ]
     },
     "execution_count": 39,
     "metadata": {},
     "output_type": "execute_result"
    }
   ],
   "source": [
    "j_bench = @benchmark sum($a)"
   ]
  },
  {
   "cell_type": "code",
   "execution_count": 40,
   "metadata": {},
   "outputs": [
    {
     "data": {
      "text/plain": [
       "Dict{Any, Any} with 6 entries:\n",
       "  \"C com -ffast-math\"    => 5.05356\n",
       "  \"Python escrito à mão\" => 1106.76\n",
       "  \"C\"                    => 8.51474\n",
       "  \"Python numpy\"         => 3.77216\n",
       "  \"Julia\"                => 3.8263\n",
       "  \"Python\"               => 850.681"
      ]
     },
     "execution_count": 40,
     "metadata": {},
     "output_type": "execute_result"
    }
   ],
   "source": [
    "d[\"Julia\"] = minimum(j_bench.times) / 1e6\n",
    "d"
   ]
  },
  {
   "cell_type": "markdown",
   "metadata": {},
   "source": [
    "## 7. Julia (escrito à mão)"
   ]
  },
  {
   "cell_type": "code",
   "execution_count": 41,
   "metadata": {},
   "outputs": [
    {
     "data": {
      "text/plain": [
       "mysum (generic function with 1 method)"
      ]
     },
     "execution_count": 41,
     "metadata": {},
     "output_type": "execute_result"
    }
   ],
   "source": [
    "function mysum(A)   \n",
    "    s = 0.0 # s = zero(eltype(a))\n",
    "    for a in A\n",
    "        s += a\n",
    "    end\n",
    "    s\n",
    "end"
   ]
  },
  {
   "cell_type": "code",
   "execution_count": 42,
   "metadata": {},
   "outputs": [
    {
     "data": {
      "text/plain": [
       "BenchmarkTools.Trial: 578 samples with 1 evaluation.\n",
       " Range \u001b[90m(\u001b[39m\u001b[36m\u001b[1mmin\u001b[22m\u001b[39m … \u001b[35mmax\u001b[39m\u001b[90m):  \u001b[39m\u001b[36m\u001b[1m8.565 ms\u001b[22m\u001b[39m … \u001b[35m 8.757 ms\u001b[39m  \u001b[90m┊\u001b[39m GC \u001b[90m(\u001b[39mmin … max\u001b[90m): \u001b[39m0.00% … 0.00%\n",
       " Time  \u001b[90m(\u001b[39m\u001b[34m\u001b[1mmedian\u001b[22m\u001b[39m\u001b[90m):     \u001b[39m\u001b[34m\u001b[1m8.645 ms              \u001b[22m\u001b[39m\u001b[90m┊\u001b[39m GC \u001b[90m(\u001b[39mmedian\u001b[90m):    \u001b[39m0.00%\n",
       " Time  \u001b[90m(\u001b[39m\u001b[32m\u001b[1mmean\u001b[22m\u001b[39m ± \u001b[32mσ\u001b[39m\u001b[90m):   \u001b[39m\u001b[32m\u001b[1m8.643 ms\u001b[22m\u001b[39m ± \u001b[32m31.479 μs\u001b[39m  \u001b[90m┊\u001b[39m GC \u001b[90m(\u001b[39mmean ± σ\u001b[90m):  \u001b[39m0.00% ± 0.00%\n",
       "\n",
       "  \u001b[39m \u001b[39m \u001b[39m \u001b[39m \u001b[39m \u001b[39m \u001b[39m \u001b[39m \u001b[39m \u001b[39m \u001b[39m \u001b[39m \u001b[39m \u001b[39m \u001b[39m \u001b[39m \u001b[39m \u001b[39m \u001b[39m▁\u001b[39m▁\u001b[39m \u001b[39m \u001b[39m▂\u001b[39m▂\u001b[39m▃\u001b[39m \u001b[39m \u001b[39m▁\u001b[39m \u001b[39m \u001b[39m \u001b[39m▅\u001b[39m▄\u001b[32m▃\u001b[39m\u001b[34m▆\u001b[39m\u001b[39m \u001b[39m▄\u001b[39m▃\u001b[39m▃\u001b[39m▄\u001b[39m█\u001b[39m▃\u001b[39m▁\u001b[39m \u001b[39m▂\u001b[39m▁\u001b[39m \u001b[39m▃\u001b[39m▁\u001b[39m▁\u001b[39m \u001b[39m \u001b[39m▂\u001b[39m \u001b[39m \u001b[39m \u001b[39m \u001b[39m \u001b[39m \u001b[39m \n",
       "  \u001b[39m▃\u001b[39m▁\u001b[39m▃\u001b[39m▁\u001b[39m▃\u001b[39m▃\u001b[39m▄\u001b[39m▅\u001b[39m▆\u001b[39m▅\u001b[39m▆\u001b[39m█\u001b[39m█\u001b[39m▆\u001b[39m▇\u001b[39m█\u001b[39m▇\u001b[39m▇\u001b[39m█\u001b[39m█\u001b[39m▆\u001b[39m█\u001b[39m█\u001b[39m█\u001b[39m█\u001b[39m▆\u001b[39m▇\u001b[39m█\u001b[39m█\u001b[39m█\u001b[39m█\u001b[39m█\u001b[39m█\u001b[32m█\u001b[39m\u001b[34m█\u001b[39m\u001b[39m█\u001b[39m█\u001b[39m█\u001b[39m█\u001b[39m█\u001b[39m█\u001b[39m█\u001b[39m█\u001b[39m█\u001b[39m█\u001b[39m█\u001b[39m▇\u001b[39m█\u001b[39m█\u001b[39m█\u001b[39m▆\u001b[39m▆\u001b[39m█\u001b[39m▄\u001b[39m▇\u001b[39m▃\u001b[39m▆\u001b[39m▆\u001b[39m \u001b[39m▅\n",
       "  8.56 ms\u001b[90m        Histogram: frequency by time\u001b[39m         8.7 ms \u001b[0m\u001b[1m<\u001b[22m\n",
       "\n",
       " Memory estimate\u001b[90m: \u001b[39m\u001b[33m0 bytes\u001b[39m, allocs estimate\u001b[90m: \u001b[39m\u001b[33m0\u001b[39m."
      ]
     },
     "execution_count": 42,
     "metadata": {},
     "output_type": "execute_result"
    }
   ],
   "source": [
    "j_bench_hand = @benchmark mysum($a)"
   ]
  },
  {
   "cell_type": "code",
   "execution_count": 43,
   "metadata": {},
   "outputs": [
    {
     "data": {
      "text/plain": [
       "Dict{Any, Any} with 7 entries:\n",
       "  \"C com -ffast-math\"    => 5.05356\n",
       "  \"Python escrito à mão\" => 1106.76\n",
       "  \"C\"                    => 8.51474\n",
       "  \"Python numpy\"         => 3.77216\n",
       "  \"Julia escrito à mão\"  => 8.56451\n",
       "  \"Julia\"                => 3.8263\n",
       "  \"Python\"               => 850.681"
      ]
     },
     "execution_count": 43,
     "metadata": {},
     "output_type": "execute_result"
    }
   ],
   "source": [
    "d[\"Julia escrito à mão\"] = minimum(j_bench_hand.times) / 1e6\n",
    "d"
   ]
  },
  {
   "cell_type": "markdown",
   "metadata": {},
   "source": [
    "## 8. Julia (escrito à mão com SIMD)"
   ]
  },
  {
   "cell_type": "code",
   "execution_count": 44,
   "metadata": {},
   "outputs": [
    {
     "data": {
      "text/plain": [
       "mysum_simd (generic function with 1 method)"
      ]
     },
     "execution_count": 44,
     "metadata": {},
     "output_type": "execute_result"
    }
   ],
   "source": [
    "function mysum_simd(A)   \n",
    "    s = 0.0 # s = zero(eltype(A))\n",
    "    @simd for a in A\n",
    "        s += a\n",
    "    end\n",
    "    s\n",
    "end"
   ]
  },
  {
   "cell_type": "code",
   "execution_count": 45,
   "metadata": {},
   "outputs": [
    {
     "data": {
      "text/plain": [
       "BenchmarkTools.Trial: 1349 samples with 1 evaluation.\n",
       " Range \u001b[90m(\u001b[39m\u001b[36m\u001b[1mmin\u001b[22m\u001b[39m … \u001b[35mmax\u001b[39m\u001b[90m):  \u001b[39m\u001b[36m\u001b[1m3.670 ms\u001b[22m\u001b[39m … \u001b[35m 5.268 ms\u001b[39m  \u001b[90m┊\u001b[39m GC \u001b[90m(\u001b[39mmin … max\u001b[90m): \u001b[39m0.00% … 0.00%\n",
       " Time  \u001b[90m(\u001b[39m\u001b[34m\u001b[1mmedian\u001b[22m\u001b[39m\u001b[90m):     \u001b[39m\u001b[34m\u001b[1m3.690 ms              \u001b[22m\u001b[39m\u001b[90m┊\u001b[39m GC \u001b[90m(\u001b[39mmedian\u001b[90m):    \u001b[39m0.00%\n",
       " Time  \u001b[90m(\u001b[39m\u001b[32m\u001b[1mmean\u001b[22m\u001b[39m ± \u001b[32mσ\u001b[39m\u001b[90m):   \u001b[39m\u001b[32m\u001b[1m3.692 ms\u001b[22m\u001b[39m ± \u001b[32m45.893 μs\u001b[39m  \u001b[90m┊\u001b[39m GC \u001b[90m(\u001b[39mmean ± σ\u001b[90m):  \u001b[39m0.00% ± 0.00%\n",
       "\n",
       "  \u001b[39m \u001b[39m \u001b[39m \u001b[39m \u001b[39m \u001b[39m \u001b[39m \u001b[39m \u001b[39m▅\u001b[39m▆\u001b[39m▆\u001b[39m▇\u001b[39m▇\u001b[39m▆\u001b[34m█\u001b[39m\u001b[32m▇\u001b[39m\u001b[39m▇\u001b[39m▅\u001b[39m▄\u001b[39m \u001b[39m \u001b[39m \u001b[39m \u001b[39m \u001b[39m \u001b[39m \u001b[39m \u001b[39m \u001b[39m \u001b[39m \u001b[39m \u001b[39m \u001b[39m \u001b[39m \u001b[39m \u001b[39m \u001b[39m \u001b[39m \u001b[39m \u001b[39m \u001b[39m \u001b[39m \u001b[39m \u001b[39m \u001b[39m \u001b[39m \u001b[39m \u001b[39m \u001b[39m \u001b[39m \u001b[39m \u001b[39m \u001b[39m \u001b[39m \u001b[39m \u001b[39m \u001b[39m \u001b[39m \u001b[39m \u001b[39m \n",
       "  \u001b[39m▃\u001b[39m▃\u001b[39m▃\u001b[39m▅\u001b[39m▅\u001b[39m▅\u001b[39m▆\u001b[39m█\u001b[39m█\u001b[39m█\u001b[39m█\u001b[39m█\u001b[39m█\u001b[39m█\u001b[34m█\u001b[39m\u001b[32m█\u001b[39m\u001b[39m█\u001b[39m█\u001b[39m█\u001b[39m█\u001b[39m▆\u001b[39m▅\u001b[39m▄\u001b[39m▃\u001b[39m▂\u001b[39m▃\u001b[39m▃\u001b[39m▃\u001b[39m▂\u001b[39m▁\u001b[39m▁\u001b[39m▁\u001b[39m▂\u001b[39m▁\u001b[39m▂\u001b[39m▁\u001b[39m▂\u001b[39m▁\u001b[39m▁\u001b[39m▂\u001b[39m▂\u001b[39m▁\u001b[39m▂\u001b[39m▁\u001b[39m▂\u001b[39m▂\u001b[39m▁\u001b[39m▂\u001b[39m▁\u001b[39m▁\u001b[39m▁\u001b[39m▁\u001b[39m▁\u001b[39m▁\u001b[39m▁\u001b[39m▁\u001b[39m▁\u001b[39m▂\u001b[39m \u001b[39m▄\n",
       "  3.67 ms\u001b[90m        Histogram: frequency by time\u001b[39m        3.75 ms \u001b[0m\u001b[1m<\u001b[22m\n",
       "\n",
       " Memory estimate\u001b[90m: \u001b[39m\u001b[33m0 bytes\u001b[39m, allocs estimate\u001b[90m: \u001b[39m\u001b[33m0\u001b[39m."
      ]
     },
     "execution_count": 45,
     "metadata": {},
     "output_type": "execute_result"
    }
   ],
   "source": [
    "j_bench_hand_simd = @benchmark mysum_simd($a)"
   ]
  },
  {
   "cell_type": "code",
   "execution_count": 46,
   "metadata": {},
   "outputs": [
    {
     "data": {
      "text/plain": [
       "5.000644366525245e6"
      ]
     },
     "execution_count": 46,
     "metadata": {},
     "output_type": "execute_result"
    }
   ],
   "source": [
    "mysum_simd(a)"
   ]
  },
  {
   "cell_type": "code",
   "execution_count": 47,
   "metadata": {},
   "outputs": [
    {
     "data": {
      "text/plain": [
       "Dict{Any, Any} with 8 entries:\n",
       "  \"Julia escrito à mão com SIMD\" => 3.67022\n",
       "  \"C com -ffast-math\"            => 5.05356\n",
       "  \"Python escrito à mão\"         => 1106.76\n",
       "  \"C\"                            => 8.51474\n",
       "  \"Python numpy\"                 => 3.77216\n",
       "  \"Julia escrito à mão\"          => 8.56451\n",
       "  \"Julia\"                        => 3.8263\n",
       "  \"Python\"                       => 850.681"
      ]
     },
     "execution_count": 47,
     "metadata": {},
     "output_type": "execute_result"
    }
   ],
   "source": [
    "d[\"Julia escrito à mão com SIMD\"] = minimum(j_bench_hand_simd.times) / 1e6\n",
    "d"
   ]
  },
  {
   "cell_type": "markdown",
   "metadata": {},
   "source": [
    "## Em resumo"
   ]
  },
  {
   "cell_type": "code",
   "execution_count": 48,
   "metadata": {},
   "outputs": [
    {
     "name": "stdout",
     "output_type": "stream",
     "text": [
      "Julia escrito à mão com SIMD....3.67\n",
      "Python numpy....................3.77\n",
      "Julia...........................3.83\n",
      "C com -ffast-math...............5.05\n",
      "C...............................8.51\n",
      "Julia escrito à mão.............8.56\n",
      "Python........................850.68\n",
      "Python escrito à mão..........1106.76\n"
     ]
    }
   ],
   "source": [
    "for (key, value) in sort(collect(d), by=last)\n",
    "    println(rpad(key, 30, \".\"), lpad(round(value; digits=2), 6, \".\"))\n",
    "end"
   ]
  }
 ],
 "metadata": {
  "kernelspec": {
   "display_name": "Julia 1.7.2",
   "language": "julia",
   "name": "julia-1.7"
  },
  "language_info": {
   "file_extension": ".jl",
   "mimetype": "application/julia",
   "name": "julia",
   "version": "1.7.2"
  }
 },
 "nbformat": 4,
 "nbformat_minor": 4
}
