{
 "cells": [
  {
   "cell_type": "markdown",
   "metadata": {},
   "source": [
    "# A Julia é rápida\n",
    "\n",
    "Frequentemente, programas são executados em diferentes linguagens de programação com o propósito de comparar os desempenhos das linguagens.\n",
    "Esse tipo de comparação não é simples e pode gerar discussões.\n",
    "\n",
    "Neste notebook vamos fazer uma comparação simples entre algumas linguagens de programação, e deixar que você tire suas próprias conclusões."
   ]
  },
  {
   "cell_type": "markdown",
   "metadata": {},
   "source": [
    "## A função soma\n",
    "\n",
    "Consideramos a função soma, denotada por `sum`, que é definida por\n",
    "$$\n",
    "\\mathrm{sum}(a) = \\sum_{j=1}^n a_j,\n",
    "$$\n",
    "onde $a = [a_1, a_2, \\dots, a_j]$ é uma lista com $n$ elementos.\n",
    "\n",
    "Vamos criar uma lista com 10<sup>7</sup> elementos escolhidos aleatoriamente no intervalo $[0,1]$:"
   ]
  },
  {
   "cell_type": "code",
   "execution_count": 1,
   "metadata": {},
   "outputs": [
    {
     "data": {
      "text/plain": [
       "10000000-element Array{Float64,1}:\n",
       " 0.22626813005780289\n",
       " 0.9519474597156583\n",
       " 0.5099472011320965\n",
       " 0.6070127289695824\n",
       " 0.10224137816358314\n",
       " 0.9958995144837508\n",
       " 0.2359392924024073\n",
       " 0.3379522683246585\n",
       " 0.4776466185864856\n",
       " 0.6818962571034639\n",
       " 0.5059846952851967\n",
       " 0.969203131217049\n",
       " 0.22409161686461498\n",
       " ⋮\n",
       " 0.7970263713103491\n",
       " 0.5270754370399708\n",
       " 0.43578465390221943\n",
       " 0.5554530310996426\n",
       " 0.8125469808669343\n",
       " 0.6059724915523856\n",
       " 0.6997242243814776\n",
       " 0.10264694815173736\n",
       " 0.3899757576566978\n",
       " 0.8315467078583347\n",
       " 0.3493759954638882\n",
       " 0.20331747107018994"
      ]
     },
     "execution_count": 1,
     "metadata": {},
     "output_type": "execute_result"
    }
   ],
   "source": [
    "a = rand(10^7)"
   ]
  },
  {
   "cell_type": "markdown",
   "metadata": {},
   "source": [
    "Calculamos a soma dos elementos de `a`:"
   ]
  },
  {
   "cell_type": "code",
   "execution_count": 2,
   "metadata": {},
   "outputs": [
    {
     "data": {
      "text/plain": [
       "4.999554937825238e6"
      ]
     },
     "execution_count": 2,
     "metadata": {},
     "output_type": "execute_result"
    }
   ],
   "source": [
    "sum(a)"
   ]
  },
  {
   "cell_type": "markdown",
   "metadata": {},
   "source": [
    "O resultado esperado é 0.5 * 10<sup>7</sup>, pois o valor médio de cada elemento da lista é igual a 0.5."
   ]
  },
  {
   "cell_type": "markdown",
   "metadata": {},
   "source": [
    "## Medindo desempenho de formas diferentes, em linguagens diferentes"
   ]
  },
  {
   "cell_type": "code",
   "execution_count": 3,
   "metadata": {},
   "outputs": [
    {
     "name": "stdout",
     "output_type": "stream",
     "text": [
      "  0.007123 seconds (1 allocation: 16 bytes)\n"
     ]
    },
    {
     "data": {
      "text/plain": [
       "4.999554937825238e6"
      ]
     },
     "execution_count": 3,
     "metadata": {},
     "output_type": "execute_result"
    }
   ],
   "source": [
    "@time sum(a)"
   ]
  },
  {
   "cell_type": "code",
   "execution_count": 4,
   "metadata": {},
   "outputs": [
    {
     "name": "stdout",
     "output_type": "stream",
     "text": [
      "  0.006957 seconds (1 allocation: 16 bytes)\n"
     ]
    },
    {
     "data": {
      "text/plain": [
       "4.999554937825238e6"
      ]
     },
     "execution_count": 4,
     "metadata": {},
     "output_type": "execute_result"
    }
   ],
   "source": [
    "@time sum(a)"
   ]
  },
  {
   "cell_type": "code",
   "execution_count": 5,
   "metadata": {},
   "outputs": [
    {
     "name": "stdout",
     "output_type": "stream",
     "text": [
      "  0.007018 seconds (1 allocation: 16 bytes)\n"
     ]
    },
    {
     "data": {
      "text/plain": [
       "4.999554937825238e6"
      ]
     },
     "execution_count": 5,
     "metadata": {},
     "output_type": "execute_result"
    }
   ],
   "source": [
    "@time sum(a)"
   ]
  },
  {
   "cell_type": "markdown",
   "metadata": {},
   "source": [
    "Como vemos, a macro `@time` pode fornecer resultados diferentes, portanto não é uma macro muito confiável para comparar desempenhos.\n",
    "\n",
    "O pacote `BenchmarkTools.jl` fornece um método simples e preciso de fazer comparações."
   ]
  },
  {
   "cell_type": "code",
   "execution_count": 6,
   "metadata": {},
   "outputs": [
    {
     "name": "stderr",
     "output_type": "stream",
     "text": [
      "\u001b[32m\u001b[1m   Updating\u001b[22m\u001b[39m registry at `~/.julia/registries/General`\n"
     ]
    },
    {
     "name": "stdout",
     "output_type": "stream",
     "text": [
      "\u001b[?25l\u001b[2K"
     ]
    },
    {
     "name": "stderr",
     "output_type": "stream",
     "text": [
      "\u001b[32m\u001b[1m   Updating\u001b[22m\u001b[39m git-repo `https://github.com/JuliaRegistries/General.git`\n"
     ]
    },
    {
     "name": "stdout",
     "output_type": "stream",
     "text": [
      "\u001b[?25h"
     ]
    },
    {
     "name": "stderr",
     "output_type": "stream",
     "text": [
      "\u001b[32m\u001b[1m  Resolving\u001b[22m\u001b[39m package versions...\n",
      "\u001b[32m\u001b[1m   Updating\u001b[22m\u001b[39m `~/.julia/environments/v1.4/Project.toml`\n",
      "\u001b[90m [no changes]\u001b[39m\n",
      "\u001b[32m\u001b[1m   Updating\u001b[22m\u001b[39m `~/.julia/environments/v1.4/Manifest.toml`\n",
      "\u001b[90m [no changes]\u001b[39m\n"
     ]
    }
   ],
   "source": [
    "using Pkg\n",
    "Pkg.add(\"BenchmarkTools\")"
   ]
  },
  {
   "cell_type": "code",
   "execution_count": 7,
   "metadata": {},
   "outputs": [
    {
     "name": "stderr",
     "output_type": "stream",
     "text": [
      "┌ Info: Precompiling BenchmarkTools [6e4b80f9-dd63-53aa-95a3-0cdb28fa8baf]\n",
      "└ @ Base loading.jl:1260\n"
     ]
    }
   ],
   "source": [
    "using BenchmarkTools"
   ]
  },
  {
   "cell_type": "markdown",
   "metadata": {},
   "source": [
    "## 1. C\n",
    "\n",
    "A linguagem C é considerada uma linguagem difícil para os humanos e simples para as máquinas.\n",
    "\n",
    "Em uma sessão da Julia, podemos inserir um programa em C, compilá-lo e executá-lo:"
   ]
  },
  {
   "cell_type": "code",
   "execution_count": 8,
   "metadata": {},
   "outputs": [
    {
     "data": {
      "text/plain": [
       "c_sum (generic function with 1 method)"
      ]
     },
     "execution_count": 8,
     "metadata": {},
     "output_type": "execute_result"
    }
   ],
   "source": [
    "using Libdl\n",
    "C_code = \"\"\"\n",
    "#include <stddef.h>\n",
    "double c_sum(size_t n, double *X) {\n",
    "    double s = 0.0;\n",
    "    for (size_t i = 0; i < n; ++i) {\n",
    "        s += X[i];\n",
    "    }\n",
    "    return s;\n",
    "}\n",
    "\"\"\"\n",
    "\n",
    "const Clib = tempname()  # Cria um arquivo temporário\n",
    "\n",
    "# Compila para uma biblioteca compartilhada passando\n",
    "# o código C_code para o compilador gcc (só funciona\n",
    "# se o gcc estiver instalado):\n",
    "\n",
    "open(`gcc -fPIC -O3 -msse3 -xc -shared -o $(Clib * \".\" * Libdl.dlext) -`, \"w\") do f\n",
    "    print(f, C_code) \n",
    "end\n",
    "\n",
    "# Define uma função em Julia que chama a função do C\n",
    "c_sum(X::Array{Float64}) = ccall((\"c_sum\", Clib), Float64, (Csize_t, Ptr{Float64}), length(X), X)"
   ]
  },
  {
   "cell_type": "code",
   "execution_count": 9,
   "metadata": {},
   "outputs": [
    {
     "data": {
      "text/plain": [
       "4.99955493782455e6"
      ]
     },
     "execution_count": 9,
     "metadata": {},
     "output_type": "execute_result"
    }
   ],
   "source": [
    "c_sum(a)"
   ]
  },
  {
   "cell_type": "code",
   "execution_count": 10,
   "metadata": {},
   "outputs": [
    {
     "data": {
      "text/plain": [
       "true"
      ]
     },
     "execution_count": 10,
     "metadata": {},
     "output_type": "execute_result"
    }
   ],
   "source": [
    "c_sum(a) ≈ sum(a)  # Digite \\approx e tecle <TAB> para obter o símbolo ≈"
   ]
  },
  {
   "cell_type": "code",
   "execution_count": 11,
   "metadata": {},
   "outputs": [
    {
     "data": {
      "text/plain": [
       "-6.882473826408386e-7"
      ]
     },
     "execution_count": 11,
     "metadata": {},
     "output_type": "execute_result"
    }
   ],
   "source": [
    "c_sum(a) - sum(a)"
   ]
  },
  {
   "cell_type": "code",
   "execution_count": 12,
   "metadata": {},
   "outputs": [
    {
     "data": {
      "text/plain": [
       "isapprox (generic function with 8 methods)"
      ]
     },
     "execution_count": 12,
     "metadata": {},
     "output_type": "execute_result"
    }
   ],
   "source": [
    "≈ # é uma abreviação (alias) para a função `isapprox`"
   ]
  },
  {
   "cell_type": "code",
   "execution_count": 13,
   "metadata": {},
   "outputs": [
    {
     "name": "stdout",
     "output_type": "stream",
     "text": [
      "search: \u001b[0m\u001b[1mi\u001b[22m\u001b[0m\u001b[1ms\u001b[22m\u001b[0m\u001b[1ma\u001b[22m\u001b[0m\u001b[1mp\u001b[22m\u001b[0m\u001b[1mp\u001b[22m\u001b[0m\u001b[1mr\u001b[22m\u001b[0m\u001b[1mo\u001b[22m\u001b[0m\u001b[1mx\u001b[22m\n",
      "\n"
     ]
    },
    {
     "data": {
      "text/latex": [
       "\\begin{verbatim}\n",
       "isapprox(x, y; rtol::Real=atol>0 ? 0 : √eps, atol::Real=0, nans::Bool=false, norm::Function)\n",
       "\\end{verbatim}\n",
       "Inexact equality comparison: \\texttt{true} if \\texttt{norm(x-y) <= max(atol, rtol*max(norm(x), norm(y)))}. The default \\texttt{atol} is zero and the default \\texttt{rtol} depends on the types of \\texttt{x} and \\texttt{y}. The keyword argument \\texttt{nans} determines whether or not NaN values are considered equal (defaults to false).\n",
       "\n",
       "For real or complex floating-point values, if an \\texttt{atol > 0} is not specified, \\texttt{rtol} defaults to the square root of \\href{@ref}{\\texttt{eps}} of the type of \\texttt{x} or \\texttt{y}, whichever is bigger (least precise). This corresponds to requiring equality of about half of the significand digits. Otherwise, e.g. for integer arguments or if an \\texttt{atol > 0} is supplied, \\texttt{rtol} defaults to zero.\n",
       "\n",
       "\\texttt{x} and \\texttt{y} may also be arrays of numbers, in which case \\texttt{norm} defaults to the usual \\texttt{norm} function in LinearAlgebra, but may be changed by passing a \\texttt{norm::Function} keyword argument. (For numbers, \\texttt{norm} is the same thing as \\texttt{abs}.) When \\texttt{x} and \\texttt{y} are arrays, if \\texttt{norm(x-y)} is not finite (i.e. \\texttt{±Inf} or \\texttt{NaN}), the comparison falls back to checking whether all elements of \\texttt{x} and \\texttt{y} are approximately equal component-wise.\n",
       "\n",
       "The binary operator \\texttt{≈} is equivalent to \\texttt{isapprox} with the default arguments, and \\texttt{x ≉ y} is equivalent to \\texttt{!isapprox(x,y)}.\n",
       "\n",
       "Note that \\texttt{x ≈ 0} (i.e., comparing to zero with the default tolerances) is equivalent to \\texttt{x == 0} since the default \\texttt{atol} is \\texttt{0}.  In such cases, you should either supply an appropriate \\texttt{atol} (or use \\texttt{norm(x) ≤ atol}) or rearrange your code (e.g. use \\texttt{x ≈ y} rather than \\texttt{x - y ≈ 0}).   It is not possible to pick a nonzero \\texttt{atol} automatically because it depends on the overall scaling (the \"units\") of your problem: for example, in \\texttt{x - y ≈ 0}, \\texttt{atol=1e-9} is an absurdly small tolerance if \\texttt{x} is the \\href{https://en.wikipedia.org/wiki/Earth_radius}{radius of the Earth} in meters, but an absurdly large tolerance if \\texttt{x} is the \\href{https://en.wikipedia.org/wiki/Bohr_radius}{radius of a Hydrogen atom} in meters.\n",
       "\n",
       "\\section{Examples}\n",
       "\\begin{verbatim}\n",
       "julia> 0.1 ≈ (0.1 - 1e-10)\n",
       "true\n",
       "\n",
       "julia> isapprox(10, 11; atol = 2)\n",
       "true\n",
       "\n",
       "julia> isapprox([10.0^9, 1.0], [10.0^9, 2.0])\n",
       "true\n",
       "\n",
       "julia> 1e-10 ≈ 0\n",
       "false\n",
       "\n",
       "julia> isapprox(1e-10, 0, atol=1e-8)\n",
       "true\n",
       "\\end{verbatim}\n"
      ],
      "text/markdown": [
       "```\n",
       "isapprox(x, y; rtol::Real=atol>0 ? 0 : √eps, atol::Real=0, nans::Bool=false, norm::Function)\n",
       "```\n",
       "\n",
       "Inexact equality comparison: `true` if `norm(x-y) <= max(atol, rtol*max(norm(x), norm(y)))`. The default `atol` is zero and the default `rtol` depends on the types of `x` and `y`. The keyword argument `nans` determines whether or not NaN values are considered equal (defaults to false).\n",
       "\n",
       "For real or complex floating-point values, if an `atol > 0` is not specified, `rtol` defaults to the square root of [`eps`](@ref) of the type of `x` or `y`, whichever is bigger (least precise). This corresponds to requiring equality of about half of the significand digits. Otherwise, e.g. for integer arguments or if an `atol > 0` is supplied, `rtol` defaults to zero.\n",
       "\n",
       "`x` and `y` may also be arrays of numbers, in which case `norm` defaults to the usual `norm` function in LinearAlgebra, but may be changed by passing a `norm::Function` keyword argument. (For numbers, `norm` is the same thing as `abs`.) When `x` and `y` are arrays, if `norm(x-y)` is not finite (i.e. `±Inf` or `NaN`), the comparison falls back to checking whether all elements of `x` and `y` are approximately equal component-wise.\n",
       "\n",
       "The binary operator `≈` is equivalent to `isapprox` with the default arguments, and `x ≉ y` is equivalent to `!isapprox(x,y)`.\n",
       "\n",
       "Note that `x ≈ 0` (i.e., comparing to zero with the default tolerances) is equivalent to `x == 0` since the default `atol` is `0`.  In such cases, you should either supply an appropriate `atol` (or use `norm(x) ≤ atol`) or rearrange your code (e.g. use `x ≈ y` rather than `x - y ≈ 0`).   It is not possible to pick a nonzero `atol` automatically because it depends on the overall scaling (the \"units\") of your problem: for example, in `x - y ≈ 0`, `atol=1e-9` is an absurdly small tolerance if `x` is the [radius of the Earth](https://en.wikipedia.org/wiki/Earth_radius) in meters, but an absurdly large tolerance if `x` is the [radius of a Hydrogen atom](https://en.wikipedia.org/wiki/Bohr_radius) in meters.\n",
       "\n",
       "# Examples\n",
       "\n",
       "```jldoctest\n",
       "julia> 0.1 ≈ (0.1 - 1e-10)\n",
       "true\n",
       "\n",
       "julia> isapprox(10, 11; atol = 2)\n",
       "true\n",
       "\n",
       "julia> isapprox([10.0^9, 1.0], [10.0^9, 2.0])\n",
       "true\n",
       "\n",
       "julia> 1e-10 ≈ 0\n",
       "false\n",
       "\n",
       "julia> isapprox(1e-10, 0, atol=1e-8)\n",
       "true\n",
       "```\n"
      ],
      "text/plain": [
       "\u001b[36m  isapprox(x, y; rtol::Real=atol>0 ? 0 : √eps, atol::Real=0, nans::Bool=false, norm::Function)\u001b[39m\n",
       "\n",
       "  Inexact equality comparison: \u001b[36mtrue\u001b[39m if \u001b[36mnorm(x-y) <= max(atol,\n",
       "  rtol*max(norm(x), norm(y)))\u001b[39m. The default \u001b[36matol\u001b[39m is zero and the default \u001b[36mrtol\u001b[39m\n",
       "  depends on the types of \u001b[36mx\u001b[39m and \u001b[36my\u001b[39m. The keyword argument \u001b[36mnans\u001b[39m determines\n",
       "  whether or not NaN values are considered equal (defaults to false).\n",
       "\n",
       "  For real or complex floating-point values, if an \u001b[36matol > 0\u001b[39m is not specified,\n",
       "  \u001b[36mrtol\u001b[39m defaults to the square root of \u001b[36meps\u001b[39m of the type of \u001b[36mx\u001b[39m or \u001b[36my\u001b[39m, whichever is\n",
       "  bigger (least precise). This corresponds to requiring equality of about half\n",
       "  of the significand digits. Otherwise, e.g. for integer arguments or if an\n",
       "  \u001b[36matol > 0\u001b[39m is supplied, \u001b[36mrtol\u001b[39m defaults to zero.\n",
       "\n",
       "  \u001b[36mx\u001b[39m and \u001b[36my\u001b[39m may also be arrays of numbers, in which case \u001b[36mnorm\u001b[39m defaults to the\n",
       "  usual \u001b[36mnorm\u001b[39m function in LinearAlgebra, but may be changed by passing a\n",
       "  \u001b[36mnorm::Function\u001b[39m keyword argument. (For numbers, \u001b[36mnorm\u001b[39m is the same thing as\n",
       "  \u001b[36mabs\u001b[39m.) When \u001b[36mx\u001b[39m and \u001b[36my\u001b[39m are arrays, if \u001b[36mnorm(x-y)\u001b[39m is not finite (i.e. \u001b[36m±Inf\u001b[39m or\n",
       "  \u001b[36mNaN\u001b[39m), the comparison falls back to checking whether all elements of \u001b[36mx\u001b[39m and \u001b[36my\u001b[39m\n",
       "  are approximately equal component-wise.\n",
       "\n",
       "  The binary operator \u001b[36m≈\u001b[39m is equivalent to \u001b[36misapprox\u001b[39m with the default arguments,\n",
       "  and \u001b[36mx ≉ y\u001b[39m is equivalent to \u001b[36m!isapprox(x,y)\u001b[39m.\n",
       "\n",
       "  Note that \u001b[36mx ≈ 0\u001b[39m (i.e., comparing to zero with the default tolerances) is\n",
       "  equivalent to \u001b[36mx == 0\u001b[39m since the default \u001b[36matol\u001b[39m is \u001b[36m0\u001b[39m. In such cases, you should\n",
       "  either supply an appropriate \u001b[36matol\u001b[39m (or use \u001b[36mnorm(x) ≤ atol\u001b[39m) or rearrange your\n",
       "  code (e.g. use \u001b[36mx ≈ y\u001b[39m rather than \u001b[36mx - y ≈ 0\u001b[39m). It is not possible to pick a\n",
       "  nonzero \u001b[36matol\u001b[39m automatically because it depends on the overall scaling (the\n",
       "  \"units\") of your problem: for example, in \u001b[36mx - y ≈ 0\u001b[39m, \u001b[36matol=1e-9\u001b[39m is an\n",
       "  absurdly small tolerance if \u001b[36mx\u001b[39m is the radius of the Earth\n",
       "  (https://en.wikipedia.org/wiki/Earth_radius) in meters, but an absurdly\n",
       "  large tolerance if \u001b[36mx\u001b[39m is the radius of a Hydrogen atom\n",
       "  (https://en.wikipedia.org/wiki/Bohr_radius) in meters.\n",
       "\n",
       "\u001b[1m  Examples\u001b[22m\n",
       "\u001b[1m  ≡≡≡≡≡≡≡≡≡≡\u001b[22m\n",
       "\n",
       "\u001b[36m  julia> 0.1 ≈ (0.1 - 1e-10)\u001b[39m\n",
       "\u001b[36m  true\u001b[39m\n",
       "\u001b[36m  \u001b[39m\n",
       "\u001b[36m  julia> isapprox(10, 11; atol = 2)\u001b[39m\n",
       "\u001b[36m  true\u001b[39m\n",
       "\u001b[36m  \u001b[39m\n",
       "\u001b[36m  julia> isapprox([10.0^9, 1.0], [10.0^9, 2.0])\u001b[39m\n",
       "\u001b[36m  true\u001b[39m\n",
       "\u001b[36m  \u001b[39m\n",
       "\u001b[36m  julia> 1e-10 ≈ 0\u001b[39m\n",
       "\u001b[36m  false\u001b[39m\n",
       "\u001b[36m  \u001b[39m\n",
       "\u001b[36m  julia> isapprox(1e-10, 0, atol=1e-8)\u001b[39m\n",
       "\u001b[36m  true\u001b[39m"
      ]
     },
     "execution_count": 13,
     "metadata": {},
     "output_type": "execute_result"
    }
   ],
   "source": [
    "?isapprox"
   ]
  },
  {
   "cell_type": "markdown",
   "metadata": {},
   "source": [
    "Agora podemos medir o desempenho do código C diretamente da sessão Julia."
   ]
  },
  {
   "cell_type": "code",
   "execution_count": 14,
   "metadata": {},
   "outputs": [
    {
     "data": {
      "text/plain": [
       "BenchmarkTools.Trial: \n",
       "  memory estimate:  0 bytes\n",
       "  allocs estimate:  0\n",
       "  --------------\n",
       "  minimum time:     12.299 ms (0.00% GC)\n",
       "  median time:      12.361 ms (0.00% GC)\n",
       "  mean time:        12.417 ms (0.00% GC)\n",
       "  maximum time:     13.477 ms (0.00% GC)\n",
       "  --------------\n",
       "  samples:          403\n",
       "  evals/sample:     1"
      ]
     },
     "execution_count": 14,
     "metadata": {},
     "output_type": "execute_result"
    }
   ],
   "source": [
    "c_bench = @benchmark c_sum($a)"
   ]
  },
  {
   "cell_type": "code",
   "execution_count": 15,
   "metadata": {},
   "outputs": [
    {
     "name": "stdout",
     "output_type": "stream",
     "text": [
      "C: O tempo mais rápido foi 12.298887 msec\n"
     ]
    }
   ],
   "source": [
    "println(\"C: O tempo mais rápido foi $(minimum(c_bench.times) / 1e6) msec\")"
   ]
  },
  {
   "cell_type": "code",
   "execution_count": 16,
   "metadata": {},
   "outputs": [
    {
     "data": {
      "text/plain": [
       "Dict{Any,Any} with 1 entry:\n",
       "  \"C\" => 12.2989"
      ]
     },
     "execution_count": 16,
     "metadata": {},
     "output_type": "execute_result"
    }
   ],
   "source": [
    "d = Dict()\n",
    "d[\"C\"] = minimum(c_bench.times) / 1e6  # em milisegundos\n",
    "d"
   ]
  },
  {
   "cell_type": "code",
   "execution_count": 17,
   "metadata": {},
   "outputs": [
    {
     "data": {
      "text/plain": [
       "Plots.GRBackend()"
      ]
     },
     "execution_count": 17,
     "metadata": {},
     "output_type": "execute_result"
    }
   ],
   "source": [
    "using Plots\n",
    "gr()"
   ]
  },
  {
   "cell_type": "code",
   "execution_count": 18,
   "metadata": {},
   "outputs": [
    {
     "data": {
      "image/svg+xml": [
       "<?xml version=\"1.0\" encoding=\"utf-8\"?>\n",
       "<svg xmlns=\"http://www.w3.org/2000/svg\" xmlns:xlink=\"http://www.w3.org/1999/xlink\" width=\"600\" height=\"400\" viewBox=\"0 0 2400 1600\">\n",
       "<defs>\n",
       "  <clipPath id=\"clip070\">\n",
       "    <rect x=\"0\" y=\"0\" width=\"2400\" height=\"1600\"/>\n",
       "  </clipPath>\n",
       "</defs>\n",
       "<path clip-path=\"url(#clip070)\" d=\"\n",
       "M0 1600 L2400 1600 L2400 0 L0 0  Z\n",
       "  \" fill=\"#ffffff\" fill-rule=\"evenodd\" fill-opacity=\"1\"/>\n",
       "<defs>\n",
       "  <clipPath id=\"clip071\">\n",
       "    <rect x=\"480\" y=\"0\" width=\"1681\" height=\"1600\"/>\n",
       "  </clipPath>\n",
       "</defs>\n",
       "<path clip-path=\"url(#clip070)\" d=\"\n",
       "M200.028 1423.18 L2352.76 1423.18 L2352.76 47.2441 L200.028 47.2441  Z\n",
       "  \" fill=\"#ffffff\" fill-rule=\"evenodd\" fill-opacity=\"1\"/>\n",
       "<defs>\n",
       "  <clipPath id=\"clip072\">\n",
       "    <rect x=\"200\" y=\"47\" width=\"2154\" height=\"1377\"/>\n",
       "  </clipPath>\n",
       "</defs>\n",
       "<polyline clip-path=\"url(#clip072)\" style=\"stroke:#000000; stroke-width:2; stroke-opacity:0.1; fill:none\" points=\"\n",
       "  282.399,1423.18 282.399,47.2441 \n",
       "  \"/>\n",
       "<polyline clip-path=\"url(#clip072)\" style=\"stroke:#000000; stroke-width:2; stroke-opacity:0.1; fill:none\" points=\"\n",
       "  653.006,1423.18 653.006,47.2441 \n",
       "  \"/>\n",
       "<polyline clip-path=\"url(#clip072)\" style=\"stroke:#000000; stroke-width:2; stroke-opacity:0.1; fill:none\" points=\"\n",
       "  1023.61,1423.18 1023.61,47.2441 \n",
       "  \"/>\n",
       "<polyline clip-path=\"url(#clip072)\" style=\"stroke:#000000; stroke-width:2; stroke-opacity:0.1; fill:none\" points=\"\n",
       "  1394.22,1423.18 1394.22,47.2441 \n",
       "  \"/>\n",
       "<polyline clip-path=\"url(#clip072)\" style=\"stroke:#000000; stroke-width:2; stroke-opacity:0.1; fill:none\" points=\"\n",
       "  1764.82,1423.18 1764.82,47.2441 \n",
       "  \"/>\n",
       "<polyline clip-path=\"url(#clip072)\" style=\"stroke:#000000; stroke-width:2; stroke-opacity:0.1; fill:none\" points=\"\n",
       "  2135.43,1423.18 2135.43,47.2441 \n",
       "  \"/>\n",
       "<polyline clip-path=\"url(#clip072)\" style=\"stroke:#000000; stroke-width:2; stroke-opacity:0.1; fill:none\" points=\"\n",
       "  200.028,1384.24 2352.76,1384.24 \n",
       "  \"/>\n",
       "<polyline clip-path=\"url(#clip072)\" style=\"stroke:#000000; stroke-width:2; stroke-opacity:0.1; fill:none\" points=\"\n",
       "  200.028,990.889 2352.76,990.889 \n",
       "  \"/>\n",
       "<polyline clip-path=\"url(#clip072)\" style=\"stroke:#000000; stroke-width:2; stroke-opacity:0.1; fill:none\" points=\"\n",
       "  200.028,597.54 2352.76,597.54 \n",
       "  \"/>\n",
       "<polyline clip-path=\"url(#clip072)\" style=\"stroke:#000000; stroke-width:2; stroke-opacity:0.1; fill:none\" points=\"\n",
       "  200.028,204.19 2352.76,204.19 \n",
       "  \"/>\n",
       "<polyline clip-path=\"url(#clip070)\" style=\"stroke:#000000; stroke-width:4; stroke-opacity:1; fill:none\" points=\"\n",
       "  200.028,1423.18 2352.76,1423.18 \n",
       "  \"/>\n",
       "<polyline clip-path=\"url(#clip070)\" style=\"stroke:#000000; stroke-width:4; stroke-opacity:1; fill:none\" points=\"\n",
       "  200.028,1423.18 200.028,47.2441 \n",
       "  \"/>\n",
       "<polyline clip-path=\"url(#clip070)\" style=\"stroke:#000000; stroke-width:4; stroke-opacity:1; fill:none\" points=\"\n",
       "  282.399,1423.18 282.399,1406.67 \n",
       "  \"/>\n",
       "<polyline clip-path=\"url(#clip070)\" style=\"stroke:#000000; stroke-width:4; stroke-opacity:1; fill:none\" points=\"\n",
       "  653.006,1423.18 653.006,1406.67 \n",
       "  \"/>\n",
       "<polyline clip-path=\"url(#clip070)\" style=\"stroke:#000000; stroke-width:4; stroke-opacity:1; fill:none\" points=\"\n",
       "  1023.61,1423.18 1023.61,1406.67 \n",
       "  \"/>\n",
       "<polyline clip-path=\"url(#clip070)\" style=\"stroke:#000000; stroke-width:4; stroke-opacity:1; fill:none\" points=\"\n",
       "  1394.22,1423.18 1394.22,1406.67 \n",
       "  \"/>\n",
       "<polyline clip-path=\"url(#clip070)\" style=\"stroke:#000000; stroke-width:4; stroke-opacity:1; fill:none\" points=\"\n",
       "  1764.82,1423.18 1764.82,1406.67 \n",
       "  \"/>\n",
       "<polyline clip-path=\"url(#clip070)\" style=\"stroke:#000000; stroke-width:4; stroke-opacity:1; fill:none\" points=\"\n",
       "  2135.43,1423.18 2135.43,1406.67 \n",
       "  \"/>\n",
       "<polyline clip-path=\"url(#clip070)\" style=\"stroke:#000000; stroke-width:4; stroke-opacity:1; fill:none\" points=\"\n",
       "  200.028,1384.24 225.861,1384.24 \n",
       "  \"/>\n",
       "<polyline clip-path=\"url(#clip070)\" style=\"stroke:#000000; stroke-width:4; stroke-opacity:1; fill:none\" points=\"\n",
       "  200.028,990.889 225.861,990.889 \n",
       "  \"/>\n",
       "<polyline clip-path=\"url(#clip070)\" style=\"stroke:#000000; stroke-width:4; stroke-opacity:1; fill:none\" points=\"\n",
       "  200.028,597.54 225.861,597.54 \n",
       "  \"/>\n",
       "<polyline clip-path=\"url(#clip070)\" style=\"stroke:#000000; stroke-width:4; stroke-opacity:1; fill:none\" points=\"\n",
       "  200.028,204.19 225.861,204.19 \n",
       "  \"/>\n",
       "<path clip-path=\"url(#clip070)\" d=\"M 0 0 M228.407 1472.72 L236.045 1472.72 L236.045 1446.35 L227.735 1448.02 L227.735 1443.76 L235.999 1442.09 L240.675 1442.09 L240.675 1472.72 L248.314 1472.72 L248.314 1476.65 L228.407 1476.65 L228.407 1472.72 Z\" fill=\"#000000\" fill-rule=\"evenodd\" fill-opacity=\"1\" /><path clip-path=\"url(#clip070)\" d=\"M 0 0 M257.411 1472.72 L273.73 1472.72 L273.73 1476.65 L251.786 1476.65 L251.786 1472.72 Q254.448 1469.96 259.031 1465.33 Q263.638 1460.68 264.818 1459.34 Q267.064 1456.81 267.943 1455.08 Q268.846 1453.32 268.846 1451.63 Q268.846 1448.87 266.902 1447.14 Q264.98 1445.4 261.879 1445.4 Q259.68 1445.4 257.226 1446.17 Q254.795 1446.93 252.018 1448.48 L252.018 1443.76 Q254.842 1442.62 257.295 1442.05 Q259.749 1441.47 261.786 1441.47 Q267.156 1441.47 270.351 1444.15 Q273.545 1446.84 273.545 1451.33 Q273.545 1453.46 272.735 1455.38 Q271.948 1457.28 269.842 1459.87 Q269.263 1460.54 266.161 1463.76 Q263.059 1466.95 257.411 1472.72 Z\" fill=\"#000000\" fill-rule=\"evenodd\" fill-opacity=\"1\" /><path clip-path=\"url(#clip070)\" d=\"M 0 0 M278.8 1470.77 L283.684 1470.77 L283.684 1476.65 L278.8 1476.65 L278.8 1470.77 Z\" fill=\"#000000\" fill-rule=\"evenodd\" fill-opacity=\"1\" /><path clip-path=\"url(#clip070)\" d=\"M 0 0 M302.92 1458.02 Q306.277 1458.74 308.152 1461 Q310.05 1463.27 310.05 1466.61 Q310.05 1471.72 306.531 1474.52 Q303.013 1477.32 296.531 1477.32 Q294.355 1477.32 292.041 1476.88 Q289.749 1476.47 287.295 1475.61 L287.295 1471.1 Q289.24 1472.23 291.554 1472.81 Q293.869 1473.39 296.392 1473.39 Q300.79 1473.39 303.082 1471.65 Q305.397 1469.92 305.397 1466.61 Q305.397 1463.55 303.244 1461.84 Q301.115 1460.1 297.295 1460.1 L293.267 1460.1 L293.267 1456.26 L297.48 1456.26 Q300.929 1456.26 302.758 1454.89 Q304.587 1453.5 304.587 1450.91 Q304.587 1448.25 302.689 1446.84 Q300.814 1445.4 297.295 1445.4 Q295.374 1445.4 293.175 1445.82 Q290.976 1446.24 288.337 1447.11 L288.337 1442.95 Q290.999 1442.21 293.314 1441.84 Q295.652 1441.47 297.712 1441.47 Q303.036 1441.47 306.138 1443.9 Q309.24 1446.3 309.24 1450.43 Q309.24 1453.3 307.596 1455.29 Q305.952 1457.25 302.92 1458.02 Z\" fill=\"#000000\" fill-rule=\"evenodd\" fill-opacity=\"1\" /><path clip-path=\"url(#clip070)\" d=\"M 0 0 M325.119 1445.17 Q321.508 1445.17 319.679 1448.74 Q317.874 1452.28 317.874 1459.41 Q317.874 1466.51 319.679 1470.08 Q321.508 1473.62 325.119 1473.62 Q328.753 1473.62 330.559 1470.08 Q332.388 1466.51 332.388 1459.41 Q332.388 1452.28 330.559 1448.74 Q328.753 1445.17 325.119 1445.17 M325.119 1441.47 Q330.929 1441.47 333.985 1446.07 Q337.063 1450.66 337.063 1459.41 Q337.063 1468.13 333.985 1472.74 Q330.929 1477.32 325.119 1477.32 Q319.309 1477.32 316.23 1472.74 Q313.175 1468.13 313.175 1459.41 Q313.175 1450.66 316.23 1446.07 Q319.309 1441.47 325.119 1441.47 Z\" fill=\"#000000\" fill-rule=\"evenodd\" fill-opacity=\"1\" /><path clip-path=\"url(#clip070)\" d=\"M 0 0 M599.511 1472.72 L607.149 1472.72 L607.149 1446.35 L598.839 1448.02 L598.839 1443.76 L607.103 1442.09 L611.779 1442.09 L611.779 1472.72 L619.418 1472.72 L619.418 1476.65 L599.511 1476.65 L599.511 1472.72 Z\" fill=\"#000000\" fill-rule=\"evenodd\" fill-opacity=\"1\" /><path clip-path=\"url(#clip070)\" d=\"M 0 0 M628.515 1472.72 L644.834 1472.72 L644.834 1476.65 L622.89 1476.65 L622.89 1472.72 Q625.552 1469.96 630.135 1465.33 Q634.742 1460.68 635.922 1459.34 Q638.168 1456.81 639.047 1455.08 Q639.95 1453.32 639.95 1451.63 Q639.95 1448.87 638.006 1447.14 Q636.085 1445.4 632.983 1445.4 Q630.784 1445.4 628.33 1446.17 Q625.899 1446.93 623.122 1448.48 L623.122 1443.76 Q625.946 1442.62 628.399 1442.05 Q630.853 1441.47 632.89 1441.47 Q638.26 1441.47 641.455 1444.15 Q644.649 1446.84 644.649 1451.33 Q644.649 1453.46 643.839 1455.38 Q643.052 1457.28 640.946 1459.87 Q640.367 1460.54 637.265 1463.76 Q634.163 1466.95 628.515 1472.72 Z\" fill=\"#000000\" fill-rule=\"evenodd\" fill-opacity=\"1\" /><path clip-path=\"url(#clip070)\" d=\"M 0 0 M649.904 1470.77 L654.788 1470.77 L654.788 1476.65 L649.904 1476.65 L649.904 1470.77 Z\" fill=\"#000000\" fill-rule=\"evenodd\" fill-opacity=\"1\" /><path clip-path=\"url(#clip070)\" d=\"M 0 0 M674.024 1458.02 Q677.381 1458.74 679.256 1461 Q681.154 1463.27 681.154 1466.61 Q681.154 1471.72 677.635 1474.52 Q674.117 1477.32 667.635 1477.32 Q665.459 1477.32 663.145 1476.88 Q660.853 1476.47 658.399 1475.61 L658.399 1471.1 Q660.344 1472.23 662.658 1472.81 Q664.973 1473.39 667.496 1473.39 Q671.895 1473.39 674.186 1471.65 Q676.501 1469.92 676.501 1466.61 Q676.501 1463.55 674.348 1461.84 Q672.219 1460.1 668.399 1460.1 L664.371 1460.1 L664.371 1456.26 L668.584 1456.26 Q672.033 1456.26 673.862 1454.89 Q675.691 1453.5 675.691 1450.91 Q675.691 1448.25 673.793 1446.84 Q671.918 1445.4 668.399 1445.4 Q666.478 1445.4 664.279 1445.82 Q662.08 1446.24 659.441 1447.11 L659.441 1442.95 Q662.103 1442.21 664.418 1441.84 Q666.756 1441.47 668.816 1441.47 Q674.14 1441.47 677.242 1443.9 Q680.344 1446.3 680.344 1450.43 Q680.344 1453.3 678.7 1455.29 Q677.057 1457.25 674.024 1458.02 Z\" fill=\"#000000\" fill-rule=\"evenodd\" fill-opacity=\"1\" /><path clip-path=\"url(#clip070)\" d=\"M 0 0 M686.269 1442.09 L704.626 1442.09 L704.626 1446.03 L690.552 1446.03 L690.552 1454.5 Q691.57 1454.15 692.589 1453.99 Q693.607 1453.8 694.626 1453.8 Q700.413 1453.8 703.792 1456.98 Q707.172 1460.15 707.172 1465.56 Q707.172 1471.14 703.7 1474.24 Q700.228 1477.32 693.908 1477.32 Q691.732 1477.32 689.464 1476.95 Q687.219 1476.58 684.811 1475.84 L684.811 1471.14 Q686.894 1472.28 689.117 1472.83 Q691.339 1473.39 693.816 1473.39 Q697.82 1473.39 700.158 1471.28 Q702.496 1469.18 702.496 1465.56 Q702.496 1461.95 700.158 1459.85 Q697.82 1457.74 693.816 1457.74 Q691.941 1457.74 690.066 1458.16 Q688.214 1458.57 686.269 1459.45 L686.269 1442.09 Z\" fill=\"#000000\" fill-rule=\"evenodd\" fill-opacity=\"1\" /><path clip-path=\"url(#clip070)\" d=\"M 0 0 M969.052 1472.72 L976.691 1472.72 L976.691 1446.35 L968.381 1448.02 L968.381 1443.76 L976.645 1442.09 L981.321 1442.09 L981.321 1472.72 L988.959 1472.72 L988.959 1476.65 L969.052 1476.65 L969.052 1472.72 Z\" fill=\"#000000\" fill-rule=\"evenodd\" fill-opacity=\"1\" /><path clip-path=\"url(#clip070)\" d=\"M 0 0 M998.057 1472.72 L1014.38 1472.72 L1014.38 1476.65 L992.432 1476.65 L992.432 1472.72 Q995.094 1469.96 999.677 1465.33 Q1004.28 1460.68 1005.46 1459.34 Q1007.71 1456.81 1008.59 1455.08 Q1009.49 1453.32 1009.49 1451.63 Q1009.49 1448.87 1007.55 1447.14 Q1005.63 1445.4 1002.52 1445.4 Q1000.33 1445.4 997.871 1446.17 Q995.441 1446.93 992.663 1448.48 L992.663 1443.76 Q995.487 1442.62 997.941 1442.05 Q1000.39 1441.47 1002.43 1441.47 Q1007.8 1441.47 1011 1444.15 Q1014.19 1446.84 1014.19 1451.33 Q1014.19 1453.46 1013.38 1455.38 Q1012.59 1457.28 1010.49 1459.87 Q1009.91 1460.54 1006.81 1463.76 Q1003.7 1466.95 998.057 1472.72 Z\" fill=\"#000000\" fill-rule=\"evenodd\" fill-opacity=\"1\" /><path clip-path=\"url(#clip070)\" d=\"M 0 0 M1019.45 1470.77 L1024.33 1470.77 L1024.33 1476.65 L1019.45 1476.65 L1019.45 1470.77 Z\" fill=\"#000000\" fill-rule=\"evenodd\" fill-opacity=\"1\" /><path clip-path=\"url(#clip070)\" d=\"M 0 0 M1042.25 1446.17 L1030.44 1464.61 L1042.25 1464.61 L1042.25 1446.17 M1041.02 1442.09 L1046.9 1442.09 L1046.9 1464.61 L1051.83 1464.61 L1051.83 1468.5 L1046.9 1468.5 L1046.9 1476.65 L1042.25 1476.65 L1042.25 1468.5 L1026.64 1468.5 L1026.64 1463.99 L1041.02 1442.09 Z\" fill=\"#000000\" fill-rule=\"evenodd\" fill-opacity=\"1\" /><path clip-path=\"url(#clip070)\" d=\"M 0 0 M1066.9 1445.17 Q1063.29 1445.17 1061.46 1448.74 Q1059.65 1452.28 1059.65 1459.41 Q1059.65 1466.51 1061.46 1470.08 Q1063.29 1473.62 1066.9 1473.62 Q1070.53 1473.62 1072.34 1470.08 Q1074.17 1466.51 1074.17 1459.41 Q1074.17 1452.28 1072.34 1448.74 Q1070.53 1445.17 1066.9 1445.17 M1066.9 1441.47 Q1072.71 1441.47 1075.76 1446.07 Q1078.84 1450.66 1078.84 1459.41 Q1078.84 1468.13 1075.76 1472.74 Q1072.71 1477.32 1066.9 1477.32 Q1061.09 1477.32 1058.01 1472.74 Q1054.95 1468.13 1054.95 1459.41 Q1054.95 1450.66 1058.01 1446.07 Q1061.09 1441.47 1066.9 1441.47 Z\" fill=\"#000000\" fill-rule=\"evenodd\" fill-opacity=\"1\" /><path clip-path=\"url(#clip070)\" d=\"M 0 0 M1340.16 1472.72 L1347.8 1472.72 L1347.8 1446.35 L1339.48 1448.02 L1339.48 1443.76 L1347.75 1442.09 L1352.42 1442.09 L1352.42 1472.72 L1360.06 1472.72 L1360.06 1476.65 L1340.16 1476.65 L1340.16 1472.72 Z\" fill=\"#000000\" fill-rule=\"evenodd\" fill-opacity=\"1\" /><path clip-path=\"url(#clip070)\" d=\"M 0 0 M1369.16 1472.72 L1385.48 1472.72 L1385.48 1476.65 L1363.54 1476.65 L1363.54 1472.72 Q1366.2 1469.96 1370.78 1465.33 Q1375.39 1460.68 1376.57 1459.34 Q1378.81 1456.81 1379.69 1455.08 Q1380.6 1453.32 1380.6 1451.63 Q1380.6 1448.87 1378.65 1447.14 Q1376.73 1445.4 1373.63 1445.4 Q1371.43 1445.4 1368.98 1446.17 Q1366.54 1446.93 1363.77 1448.48 L1363.77 1443.76 Q1366.59 1442.62 1369.04 1442.05 Q1371.5 1441.47 1373.54 1441.47 Q1378.91 1441.47 1382.1 1444.15 Q1385.29 1446.84 1385.29 1451.33 Q1385.29 1453.46 1384.48 1455.38 Q1383.7 1457.28 1381.59 1459.87 Q1381.01 1460.54 1377.91 1463.76 Q1374.81 1466.95 1369.16 1472.72 Z\" fill=\"#000000\" fill-rule=\"evenodd\" fill-opacity=\"1\" /><path clip-path=\"url(#clip070)\" d=\"M 0 0 M1390.55 1470.77 L1395.43 1470.77 L1395.43 1476.65 L1390.55 1476.65 L1390.55 1470.77 Z\" fill=\"#000000\" fill-rule=\"evenodd\" fill-opacity=\"1\" /><path clip-path=\"url(#clip070)\" d=\"M 0 0 M1413.35 1446.17 L1401.54 1464.61 L1413.35 1464.61 L1413.35 1446.17 M1412.12 1442.09 L1418 1442.09 L1418 1464.61 L1422.93 1464.61 L1422.93 1468.5 L1418 1468.5 L1418 1476.65 L1413.35 1476.65 L1413.35 1468.5 L1397.75 1468.5 L1397.75 1463.99 L1412.12 1442.09 Z\" fill=\"#000000\" fill-rule=\"evenodd\" fill-opacity=\"1\" /><path clip-path=\"url(#clip070)\" d=\"M 0 0 M1428.05 1442.09 L1446.41 1442.09 L1446.41 1446.03 L1432.33 1446.03 L1432.33 1454.5 Q1433.35 1454.15 1434.37 1453.99 Q1435.39 1453.8 1436.41 1453.8 Q1442.19 1453.8 1445.57 1456.98 Q1448.95 1460.15 1448.95 1465.56 Q1448.95 1471.14 1445.48 1474.24 Q1442.01 1477.32 1435.69 1477.32 Q1433.51 1477.32 1431.24 1476.95 Q1429 1476.58 1426.59 1475.84 L1426.59 1471.14 Q1428.67 1472.28 1430.9 1472.83 Q1433.12 1473.39 1435.6 1473.39 Q1439.6 1473.39 1441.94 1471.28 Q1444.28 1469.18 1444.28 1465.56 Q1444.28 1461.95 1441.94 1459.85 Q1439.6 1457.74 1435.6 1457.74 Q1433.72 1457.74 1431.85 1458.16 Q1429.99 1458.57 1428.05 1459.45 L1428.05 1442.09 Z\" fill=\"#000000\" fill-rule=\"evenodd\" fill-opacity=\"1\" /><path clip-path=\"url(#clip070)\" d=\"M 0 0 M1711.01 1472.72 L1718.64 1472.72 L1718.64 1446.35 L1710.33 1448.02 L1710.33 1443.76 L1718.6 1442.09 L1723.27 1442.09 L1723.27 1472.72 L1730.91 1472.72 L1730.91 1476.65 L1711.01 1476.65 L1711.01 1472.72 Z\" fill=\"#000000\" fill-rule=\"evenodd\" fill-opacity=\"1\" /><path clip-path=\"url(#clip070)\" d=\"M 0 0 M1740.01 1472.72 L1756.33 1472.72 L1756.33 1476.65 L1734.39 1476.65 L1734.39 1472.72 Q1737.05 1469.96 1741.63 1465.33 Q1746.24 1460.68 1747.42 1459.34 Q1749.66 1456.81 1750.54 1455.08 Q1751.45 1453.32 1751.45 1451.63 Q1751.45 1448.87 1749.5 1447.14 Q1747.58 1445.4 1744.48 1445.4 Q1742.28 1445.4 1739.82 1446.17 Q1737.39 1446.93 1734.62 1448.48 L1734.62 1443.76 Q1737.44 1442.62 1739.89 1442.05 Q1742.35 1441.47 1744.39 1441.47 Q1749.76 1441.47 1752.95 1444.15 Q1756.14 1446.84 1756.14 1451.33 Q1756.14 1453.46 1755.33 1455.38 Q1754.55 1457.28 1752.44 1459.87 Q1751.86 1460.54 1748.76 1463.76 Q1745.66 1466.95 1740.01 1472.72 Z\" fill=\"#000000\" fill-rule=\"evenodd\" fill-opacity=\"1\" /><path clip-path=\"url(#clip070)\" d=\"M 0 0 M1761.4 1470.77 L1766.28 1470.77 L1766.28 1476.65 L1761.4 1476.65 L1761.4 1470.77 Z\" fill=\"#000000\" fill-rule=\"evenodd\" fill-opacity=\"1\" /><path clip-path=\"url(#clip070)\" d=\"M 0 0 M1771.4 1442.09 L1789.76 1442.09 L1789.76 1446.03 L1775.68 1446.03 L1775.68 1454.5 Q1776.7 1454.15 1777.72 1453.99 Q1778.74 1453.8 1779.76 1453.8 Q1785.54 1453.8 1788.92 1456.98 Q1792.3 1460.15 1792.3 1465.56 Q1792.3 1471.14 1788.83 1474.24 Q1785.36 1477.32 1779.04 1477.32 Q1776.86 1477.32 1774.59 1476.95 Q1772.35 1476.58 1769.94 1475.84 L1769.94 1471.14 Q1772.02 1472.28 1774.25 1472.83 Q1776.47 1473.39 1778.95 1473.39 Q1782.95 1473.39 1785.29 1471.28 Q1787.63 1469.18 1787.63 1465.56 Q1787.63 1461.95 1785.29 1459.85 Q1782.95 1457.74 1778.95 1457.74 Q1777.07 1457.74 1775.2 1458.16 Q1773.34 1458.57 1771.4 1459.45 L1771.4 1442.09 Z\" fill=\"#000000\" fill-rule=\"evenodd\" fill-opacity=\"1\" /><path clip-path=\"url(#clip070)\" d=\"M 0 0 M1807.37 1445.17 Q1803.76 1445.17 1801.93 1448.74 Q1800.13 1452.28 1800.13 1459.41 Q1800.13 1466.51 1801.93 1470.08 Q1803.76 1473.62 1807.37 1473.62 Q1811.01 1473.62 1812.81 1470.08 Q1814.64 1466.51 1814.64 1459.41 Q1814.64 1452.28 1812.81 1448.74 Q1811.01 1445.17 1807.37 1445.17 M1807.37 1441.47 Q1813.18 1441.47 1816.24 1446.07 Q1819.32 1450.66 1819.32 1459.41 Q1819.32 1468.13 1816.24 1472.74 Q1813.18 1477.32 1807.37 1477.32 Q1801.56 1477.32 1798.48 1472.74 Q1795.43 1468.13 1795.43 1459.41 Q1795.43 1450.66 1798.48 1446.07 Q1801.56 1441.47 1807.37 1441.47 Z\" fill=\"#000000\" fill-rule=\"evenodd\" fill-opacity=\"1\" /><path clip-path=\"url(#clip070)\" d=\"M 0 0 M2082.11 1472.72 L2089.75 1472.72 L2089.75 1446.35 L2081.44 1448.02 L2081.44 1443.76 L2089.7 1442.09 L2094.38 1442.09 L2094.38 1472.72 L2102.02 1472.72 L2102.02 1476.65 L2082.11 1476.65 L2082.11 1472.72 Z\" fill=\"#000000\" fill-rule=\"evenodd\" fill-opacity=\"1\" /><path clip-path=\"url(#clip070)\" d=\"M 0 0 M2111.11 1472.72 L2127.43 1472.72 L2127.43 1476.65 L2105.49 1476.65 L2105.49 1472.72 Q2108.15 1469.96 2112.73 1465.33 Q2117.34 1460.68 2118.52 1459.34 Q2120.77 1456.81 2121.65 1455.08 Q2122.55 1453.32 2122.55 1451.63 Q2122.55 1448.87 2120.6 1447.14 Q2118.68 1445.4 2115.58 1445.4 Q2113.38 1445.4 2110.93 1446.17 Q2108.5 1446.93 2105.72 1448.48 L2105.72 1443.76 Q2108.54 1442.62 2111 1442.05 Q2113.45 1441.47 2115.49 1441.47 Q2120.86 1441.47 2124.05 1444.15 Q2127.25 1446.84 2127.25 1451.33 Q2127.25 1453.46 2126.44 1455.38 Q2125.65 1457.28 2123.54 1459.87 Q2122.97 1460.54 2119.86 1463.76 Q2116.76 1466.95 2111.11 1472.72 Z\" fill=\"#000000\" fill-rule=\"evenodd\" fill-opacity=\"1\" /><path clip-path=\"url(#clip070)\" d=\"M 0 0 M2132.5 1470.77 L2137.39 1470.77 L2137.39 1476.65 L2132.5 1476.65 L2132.5 1470.77 Z\" fill=\"#000000\" fill-rule=\"evenodd\" fill-opacity=\"1\" /><path clip-path=\"url(#clip070)\" d=\"M 0 0 M2142.5 1442.09 L2160.86 1442.09 L2160.86 1446.03 L2146.79 1446.03 L2146.79 1454.5 Q2147.8 1454.15 2148.82 1453.99 Q2149.84 1453.8 2150.86 1453.8 Q2156.65 1453.8 2160.03 1456.98 Q2163.41 1460.15 2163.41 1465.56 Q2163.41 1471.14 2159.93 1474.24 Q2156.46 1477.32 2150.14 1477.32 Q2147.97 1477.32 2145.7 1476.95 Q2143.45 1476.58 2141.04 1475.84 L2141.04 1471.14 Q2143.13 1472.28 2145.35 1472.83 Q2147.57 1473.39 2150.05 1473.39 Q2154.05 1473.39 2156.39 1471.28 Q2158.73 1469.18 2158.73 1465.56 Q2158.73 1461.95 2156.39 1459.85 Q2154.05 1457.74 2150.05 1457.74 Q2148.17 1457.74 2146.3 1458.16 Q2144.45 1458.57 2142.5 1459.45 L2142.5 1442.09 Z\" fill=\"#000000\" fill-rule=\"evenodd\" fill-opacity=\"1\" /><path clip-path=\"url(#clip070)\" d=\"M 0 0 M2168.52 1442.09 L2186.88 1442.09 L2186.88 1446.03 L2172.8 1446.03 L2172.8 1454.5 Q2173.82 1454.15 2174.84 1453.99 Q2175.86 1453.8 2176.88 1453.8 Q2182.66 1453.8 2186.04 1456.98 Q2189.42 1460.15 2189.42 1465.56 Q2189.42 1471.14 2185.95 1474.24 Q2182.48 1477.32 2176.16 1477.32 Q2173.98 1477.32 2171.72 1476.95 Q2169.47 1476.58 2167.06 1475.84 L2167.06 1471.14 Q2169.15 1472.28 2171.37 1472.83 Q2173.59 1473.39 2176.07 1473.39 Q2180.07 1473.39 2182.41 1471.28 Q2184.75 1469.18 2184.75 1465.56 Q2184.75 1461.95 2182.41 1459.85 Q2180.07 1457.74 2176.07 1457.74 Q2174.19 1457.74 2172.32 1458.16 Q2170.47 1458.57 2168.52 1459.45 L2168.52 1442.09 Z\" fill=\"#000000\" fill-rule=\"evenodd\" fill-opacity=\"1\" /><path clip-path=\"url(#clip070)\" d=\"M 0 0 M164.084 1370.04 Q160.473 1370.04 158.644 1373.6 Q156.839 1377.14 156.839 1384.27 Q156.839 1391.38 158.644 1394.94 Q160.473 1398.49 164.084 1398.49 Q167.718 1398.49 169.524 1394.94 Q171.353 1391.38 171.353 1384.27 Q171.353 1377.14 169.524 1373.6 Q167.718 1370.04 164.084 1370.04 M164.084 1366.33 Q169.894 1366.33 172.95 1370.94 Q176.028 1375.52 176.028 1384.27 Q176.028 1393 172.95 1397.61 Q169.894 1402.19 164.084 1402.19 Q158.274 1402.19 155.195 1397.61 Q152.14 1393 152.14 1384.27 Q152.14 1375.52 155.195 1370.94 Q158.274 1366.33 164.084 1366.33 Z\" fill=\"#000000\" fill-rule=\"evenodd\" fill-opacity=\"1\" /><path clip-path=\"url(#clip070)\" d=\"M 0 0 M129.107 1004.23 L136.746 1004.23 L136.746 977.868 L128.436 979.535 L128.436 975.276 L136.7 973.609 L141.376 973.609 L141.376 1004.23 L149.015 1004.23 L149.015 1008.17 L129.107 1008.17 L129.107 1004.23 Z\" fill=\"#000000\" fill-rule=\"evenodd\" fill-opacity=\"1\" /><path clip-path=\"url(#clip070)\" d=\"M 0 0 M164.084 976.688 Q160.473 976.688 158.644 980.252 Q156.839 983.794 156.839 990.924 Q156.839 998.03 158.644 1001.59 Q160.473 1005.14 164.084 1005.14 Q167.718 1005.14 169.524 1001.59 Q171.353 998.03 171.353 990.924 Q171.353 983.794 169.524 980.252 Q167.718 976.688 164.084 976.688 M164.084 972.984 Q169.894 972.984 172.95 977.59 Q176.028 982.174 176.028 990.924 Q176.028 999.651 172.95 1004.26 Q169.894 1008.84 164.084 1008.84 Q158.274 1008.84 155.195 1004.26 Q152.14 999.651 152.14 990.924 Q152.14 982.174 155.195 977.59 Q158.274 972.984 164.084 972.984 Z\" fill=\"#000000\" fill-rule=\"evenodd\" fill-opacity=\"1\" /><path clip-path=\"url(#clip070)\" d=\"M 0 0 M132.695 610.885 L149.015 610.885 L149.015 614.82 L127.07 614.82 L127.07 610.885 Q129.732 608.13 134.316 603.5 Q138.922 598.848 140.103 597.505 Q142.348 594.982 143.228 593.246 Q144.13 591.487 144.13 589.797 Q144.13 587.042 142.186 585.306 Q140.265 583.57 137.163 583.57 Q134.964 583.57 132.51 584.334 Q130.08 585.098 127.302 586.649 L127.302 581.926 Q130.126 580.792 132.58 580.213 Q135.033 579.635 137.07 579.635 Q142.441 579.635 145.635 582.32 Q148.829 585.005 148.829 589.496 Q148.829 591.625 148.019 593.547 Q147.232 595.445 145.126 598.037 Q144.547 598.709 141.445 601.926 Q138.343 605.121 132.695 610.885 Z\" fill=\"#000000\" fill-rule=\"evenodd\" fill-opacity=\"1\" /><path clip-path=\"url(#clip070)\" d=\"M 0 0 M164.084 583.338 Q160.473 583.338 158.644 586.903 Q156.839 590.445 156.839 597.574 Q156.839 604.681 158.644 608.246 Q160.473 611.787 164.084 611.787 Q167.718 611.787 169.524 608.246 Q171.353 604.681 171.353 597.574 Q171.353 590.445 169.524 586.903 Q167.718 583.338 164.084 583.338 M164.084 579.635 Q169.894 579.635 172.95 584.241 Q176.028 588.824 176.028 597.574 Q176.028 606.301 172.95 610.908 Q169.894 615.491 164.084 615.491 Q158.274 615.491 155.195 610.908 Q152.14 606.301 152.14 597.574 Q152.14 588.824 155.195 584.241 Q158.274 579.635 164.084 579.635 Z\" fill=\"#000000\" fill-rule=\"evenodd\" fill-opacity=\"1\" /><path clip-path=\"url(#clip070)\" d=\"M 0 0 M141.885 202.836 Q145.242 203.554 147.117 205.822 Q149.015 208.091 149.015 211.424 Q149.015 216.54 145.496 219.341 Q141.978 222.142 135.496 222.142 Q133.32 222.142 131.006 221.702 Q128.714 221.285 126.26 220.429 L126.26 215.915 Q128.205 217.049 130.519 217.628 Q132.834 218.207 135.357 218.207 Q139.755 218.207 142.047 216.47 Q144.362 214.734 144.362 211.424 Q144.362 208.369 142.209 206.656 Q140.08 204.92 136.26 204.92 L132.232 204.92 L132.232 201.077 L136.445 201.077 Q139.894 201.077 141.723 199.711 Q143.552 198.322 143.552 195.73 Q143.552 193.068 141.654 191.656 Q139.779 190.221 136.26 190.221 Q134.339 190.221 132.14 190.637 Q129.941 191.054 127.302 191.934 L127.302 187.767 Q129.964 187.026 132.279 186.656 Q134.617 186.285 136.677 186.285 Q142.001 186.285 145.103 188.716 Q148.204 191.123 148.204 195.244 Q148.204 198.114 146.561 200.105 Q144.917 202.072 141.885 202.836 Z\" fill=\"#000000\" fill-rule=\"evenodd\" fill-opacity=\"1\" /><path clip-path=\"url(#clip070)\" d=\"M 0 0 M164.084 189.989 Q160.473 189.989 158.644 193.554 Q156.839 197.096 156.839 204.225 Q156.839 211.332 158.644 214.896 Q160.473 218.438 164.084 218.438 Q167.718 218.438 169.524 214.896 Q171.353 211.332 171.353 204.225 Q171.353 197.096 169.524 193.554 Q167.718 189.989 164.084 189.989 M164.084 186.285 Q169.894 186.285 172.95 190.892 Q176.028 195.475 176.028 204.225 Q176.028 212.952 172.95 217.558 Q169.894 222.142 164.084 222.142 Q158.274 222.142 155.195 217.558 Q152.14 212.952 152.14 204.225 Q152.14 195.475 155.195 190.892 Q158.274 186.285 164.084 186.285 Z\" fill=\"#000000\" fill-rule=\"evenodd\" fill-opacity=\"1\" /><path clip-path=\"url(#clip070)\" d=\"M 0 0 M1122.06 1527.24 Q1124.25 1523.29 1127.31 1521.41 Q1130.36 1519.54 1134.5 1519.54 Q1140.07 1519.54 1143.09 1523.45 Q1146.12 1527.33 1146.12 1534.53 L1146.12 1556.04 L1140.23 1556.04 L1140.23 1534.72 Q1140.23 1529.59 1138.42 1527.11 Q1136.6 1524.63 1132.88 1524.63 Q1128.33 1524.63 1125.68 1527.65 Q1123.04 1530.68 1123.04 1535.9 L1123.04 1556.04 L1117.15 1556.04 L1117.15 1534.72 Q1117.15 1529.56 1115.34 1527.11 Q1113.53 1524.63 1109.74 1524.63 Q1105.25 1524.63 1102.61 1527.68 Q1099.97 1530.71 1099.97 1535.9 L1099.97 1556.04 L1094.08 1556.04 L1094.08 1520.4 L1099.97 1520.4 L1099.97 1525.93 Q1101.97 1522.66 1104.77 1521.1 Q1107.57 1519.54 1111.42 1519.54 Q1115.31 1519.54 1118.01 1521.51 Q1120.75 1523.48 1122.06 1527.24 Z\" fill=\"#000000\" fill-rule=\"evenodd\" fill-opacity=\"1\" /><path clip-path=\"url(#clip070)\" d=\"M 0 0 M1152.26 1520.4 L1158.12 1520.4 L1158.12 1556.04 L1152.26 1556.04 L1152.26 1520.4 M1152.26 1506.52 L1158.12 1506.52 L1158.12 1513.93 L1152.26 1513.93 L1152.26 1506.52 Z\" fill=\"#000000\" fill-rule=\"evenodd\" fill-opacity=\"1\" /><path clip-path=\"url(#clip070)\" d=\"M 0 0 M1164.26 1506.52 L1170.12 1506.52 L1170.12 1556.04 L1164.26 1556.04 L1164.26 1506.52 Z\" fill=\"#000000\" fill-rule=\"evenodd\" fill-opacity=\"1\" /><path clip-path=\"url(#clip070)\" d=\"M 0 0 M1176.26 1520.4 L1182.12 1520.4 L1182.12 1556.04 L1176.26 1556.04 L1176.26 1520.4 M1176.26 1506.52 L1182.12 1506.52 L1182.12 1513.93 L1176.26 1513.93 L1176.26 1506.52 Z\" fill=\"#000000\" fill-rule=\"evenodd\" fill-opacity=\"1\" /><path clip-path=\"url(#clip070)\" d=\"M 0 0 M1210.98 1521.45 L1210.98 1526.98 Q1208.5 1525.71 1205.83 1525.07 Q1203.15 1524.44 1200.29 1524.44 Q1195.93 1524.44 1193.73 1525.77 Q1191.57 1527.11 1191.57 1529.79 Q1191.57 1531.82 1193.13 1533 Q1194.69 1534.15 1199.4 1535.2 L1201.4 1535.64 Q1207.64 1536.98 1210.25 1539.43 Q1212.89 1541.85 1212.89 1546.21 Q1212.89 1551.17 1208.95 1554.07 Q1205.03 1556.97 1198.16 1556.97 Q1195.29 1556.97 1192.17 1556.39 Q1189.09 1555.85 1185.65 1554.74 L1185.65 1548.69 Q1188.9 1550.38 1192.05 1551.24 Q1195.2 1552.07 1198.28 1552.07 Q1202.42 1552.07 1204.65 1550.66 Q1206.88 1549.23 1206.88 1546.65 Q1206.88 1544.27 1205.26 1542.99 Q1203.66 1541.72 1198.22 1540.54 L1196.18 1540.07 Q1190.74 1538.92 1188.32 1536.56 Q1185.9 1534.18 1185.9 1530.04 Q1185.9 1525.01 1189.47 1522.27 Q1193.03 1519.54 1199.59 1519.54 Q1202.84 1519.54 1205.7 1520.01 Q1208.57 1520.49 1210.98 1521.45 Z\" fill=\"#000000\" fill-rule=\"evenodd\" fill-opacity=\"1\" /><path clip-path=\"url(#clip070)\" d=\"M 0 0 M1249.53 1536.76 L1249.53 1539.62 L1222.6 1539.62 Q1222.98 1545.67 1226.23 1548.85 Q1229.51 1552 1235.33 1552 Q1238.71 1552 1241.86 1551.17 Q1245.04 1550.35 1248.16 1548.69 L1248.16 1554.23 Q1245.01 1555.57 1241.7 1556.27 Q1238.39 1556.97 1234.98 1556.97 Q1226.45 1556.97 1221.46 1552 Q1216.49 1547.04 1216.49 1538.57 Q1216.49 1529.82 1221.2 1524.69 Q1225.94 1519.54 1233.96 1519.54 Q1241.16 1519.54 1245.33 1524.18 Q1249.53 1528.8 1249.53 1536.76 M1243.67 1535.04 Q1243.61 1530.23 1240.97 1527.37 Q1238.36 1524.5 1234.03 1524.5 Q1229.13 1524.5 1226.17 1527.27 Q1223.24 1530.04 1222.79 1535.07 L1243.67 1535.04 Z\" fill=\"#000000\" fill-rule=\"evenodd\" fill-opacity=\"1\" /><path clip-path=\"url(#clip070)\" d=\"M 0 0 M1279.13 1537.81 Q1279.13 1531.44 1276.49 1527.94 Q1273.88 1524.44 1269.14 1524.44 Q1264.42 1524.44 1261.78 1527.94 Q1259.17 1531.44 1259.17 1537.81 Q1259.17 1544.14 1261.78 1547.64 Q1264.42 1551.14 1269.14 1551.14 Q1273.88 1551.14 1276.49 1547.64 Q1279.13 1544.14 1279.13 1537.81 M1284.99 1551.62 Q1284.99 1560.72 1280.94 1565.15 Q1276.9 1569.6 1268.56 1569.6 Q1265.47 1569.6 1262.74 1569.13 Q1260 1568.68 1257.42 1567.72 L1257.42 1562.03 Q1260 1563.43 1262.51 1564.1 Q1265.03 1564.76 1267.64 1564.76 Q1273.4 1564.76 1276.26 1561.74 Q1279.13 1558.75 1279.13 1552.67 L1279.13 1549.77 Q1277.32 1552.92 1274.48 1554.48 Q1271.65 1556.04 1267.7 1556.04 Q1261.15 1556.04 1257.14 1551.05 Q1253.13 1546.05 1253.13 1537.81 Q1253.13 1529.53 1257.14 1524.53 Q1261.15 1519.54 1267.7 1519.54 Q1271.65 1519.54 1274.48 1521.1 Q1277.32 1522.66 1279.13 1525.81 L1279.13 1520.4 L1284.99 1520.4 L1284.99 1551.62 Z\" fill=\"#000000\" fill-rule=\"evenodd\" fill-opacity=\"1\" /><path clip-path=\"url(#clip070)\" d=\"M 0 0 M1290.52 1541.98 L1290.52 1520.4 L1296.38 1520.4 L1296.38 1541.75 Q1296.38 1546.81 1298.35 1549.36 Q1300.33 1551.87 1304.27 1551.87 Q1309.02 1551.87 1311.75 1548.85 Q1314.52 1545.83 1314.52 1540.61 L1314.52 1520.4 L1320.38 1520.4 L1320.38 1556.04 L1314.52 1556.04 L1314.52 1550.57 Q1312.39 1553.82 1309.56 1555.41 Q1306.76 1556.97 1303.03 1556.97 Q1296.89 1556.97 1293.71 1553.15 Q1290.52 1549.33 1290.52 1541.98 M1305.26 1519.54 L1305.26 1519.54 Z\" fill=\"#000000\" fill-rule=\"evenodd\" fill-opacity=\"1\" /><path clip-path=\"url(#clip070)\" d=\"M 0 0 M1356.15 1534.53 L1356.15 1556.04 L1350.3 1556.04 L1350.3 1534.72 Q1350.3 1529.66 1348.32 1527.14 Q1346.35 1524.63 1342.4 1524.63 Q1337.66 1524.63 1334.92 1527.65 Q1332.19 1530.68 1332.19 1535.9 L1332.19 1556.04 L1326.3 1556.04 L1326.3 1520.4 L1332.19 1520.4 L1332.19 1525.93 Q1334.29 1522.72 1337.12 1521.13 Q1339.99 1519.54 1343.71 1519.54 Q1349.85 1519.54 1353 1523.36 Q1356.15 1527.14 1356.15 1534.53 Z\" fill=\"#000000\" fill-rule=\"evenodd\" fill-opacity=\"1\" /><path clip-path=\"url(#clip070)\" d=\"M 0 0 M1385.75 1525.81 L1385.75 1506.52 L1391.61 1506.52 L1391.61 1556.04 L1385.75 1556.04 L1385.75 1550.7 Q1383.91 1553.88 1381.08 1555.44 Q1378.28 1556.97 1374.33 1556.97 Q1367.87 1556.97 1363.79 1551.81 Q1359.75 1546.65 1359.75 1538.25 Q1359.75 1529.85 1363.79 1524.69 Q1367.87 1519.54 1374.33 1519.54 Q1378.28 1519.54 1381.08 1521.1 Q1383.91 1522.62 1385.75 1525.81 M1365.8 1538.25 Q1365.8 1544.71 1368.44 1548.4 Q1371.11 1552.07 1375.76 1552.07 Q1380.41 1552.07 1383.08 1548.4 Q1385.75 1544.71 1385.75 1538.25 Q1385.75 1531.79 1383.08 1528.13 Q1380.41 1524.44 1375.76 1524.44 Q1371.11 1524.44 1368.44 1528.13 Q1365.8 1531.79 1365.8 1538.25 Z\" fill=\"#000000\" fill-rule=\"evenodd\" fill-opacity=\"1\" /><path clip-path=\"url(#clip070)\" d=\"M 0 0 M1411.57 1524.5 Q1406.86 1524.5 1404.12 1528.19 Q1401.38 1531.85 1401.38 1538.25 Q1401.38 1544.65 1404.09 1548.34 Q1406.83 1552 1411.57 1552 Q1416.25 1552 1418.98 1548.31 Q1421.72 1544.62 1421.72 1538.25 Q1421.72 1531.92 1418.98 1528.23 Q1416.25 1524.5 1411.57 1524.5 M1411.57 1519.54 Q1419.21 1519.54 1423.57 1524.5 Q1427.93 1529.47 1427.93 1538.25 Q1427.93 1547 1423.57 1552 Q1419.21 1556.97 1411.57 1556.97 Q1403.9 1556.97 1399.54 1552 Q1395.21 1547 1395.21 1538.25 Q1395.21 1529.47 1399.54 1524.5 Q1403.9 1519.54 1411.57 1519.54 Z\" fill=\"#000000\" fill-rule=\"evenodd\" fill-opacity=\"1\" /><path clip-path=\"url(#clip070)\" d=\"M 0 0 M1456.8 1521.45 L1456.8 1526.98 Q1454.31 1525.71 1451.64 1525.07 Q1448.97 1524.44 1446.1 1524.44 Q1441.74 1524.44 1439.55 1525.77 Q1437.38 1527.11 1437.38 1529.79 Q1437.38 1531.82 1438.94 1533 Q1440.5 1534.15 1445.21 1535.2 L1447.22 1535.64 Q1453.45 1536.98 1456.06 1539.43 Q1458.71 1541.85 1458.71 1546.21 Q1458.71 1551.17 1454.76 1554.07 Q1450.84 1556.97 1443.97 1556.97 Q1441.1 1556.97 1437.99 1556.39 Q1434.9 1555.85 1431.46 1554.74 L1431.46 1548.69 Q1434.71 1550.38 1437.86 1551.24 Q1441.01 1552.07 1444.1 1552.07 Q1448.23 1552.07 1450.46 1550.66 Q1452.69 1549.23 1452.69 1546.65 Q1452.69 1544.27 1451.07 1542.99 Q1449.48 1541.72 1444.03 1540.54 L1442 1540.07 Q1436.55 1538.92 1434.13 1536.56 Q1431.72 1534.18 1431.72 1530.04 Q1431.72 1525.01 1435.28 1522.27 Q1438.84 1519.54 1445.4 1519.54 Q1448.65 1519.54 1451.51 1520.01 Q1454.38 1520.49 1456.8 1521.45 Z\" fill=\"#000000\" fill-rule=\"evenodd\" fill-opacity=\"1\" /><path clip-path=\"url(#clip070)\" d=\"M 0 0 M40.4842 888.037 L40.4842 860.728 L45.895 860.728 L45.895 881.607 L59.8996 881.607 L59.8996 862.765 L65.3104 862.765 L65.3104 881.607 L88.0042 881.607 L88.0042 888.037 L40.4842 888.037 Z\" fill=\"#000000\" fill-rule=\"evenodd\" fill-opacity=\"1\" /><path clip-path=\"url(#clip070)\" d=\"M 0 0 M57.8307 838.671 Q57.2578 839.657 57.0032 840.835 Q56.7167 841.981 56.7167 843.381 Q56.7167 848.346 59.9632 851.02 Q63.1779 853.662 69.2253 853.662 L88.0042 853.662 L88.0042 859.55 L52.3562 859.55 L52.3562 853.662 L57.8944 853.662 Q54.6479 851.816 53.0883 848.856 Q51.4968 845.896 51.4968 841.662 Q51.4968 841.058 51.5923 840.326 Q51.656 839.594 51.8151 838.702 L57.8307 838.671 Z\" fill=\"#000000\" fill-rule=\"evenodd\" fill-opacity=\"1\" /><path clip-path=\"url(#clip070)\" d=\"M 0 0 M68.7161 803.468 L71.5806 803.468 L71.5806 830.395 Q77.6281 830.013 80.8109 826.767 Q83.9619 823.488 83.9619 817.664 Q83.9619 814.29 83.1344 811.139 Q82.3069 807.956 80.6518 804.837 L86.1899 804.837 Q87.5267 807.988 88.227 811.298 Q88.9272 814.608 88.9272 818.014 Q88.9272 826.544 83.9619 831.541 Q78.9967 836.506 70.5303 836.506 Q61.7774 836.506 56.6531 831.796 Q51.4968 827.053 51.4968 819.032 Q51.4968 811.839 56.1438 807.67 Q60.7589 803.468 68.7161 803.468 M66.9973 809.325 Q62.1912 809.388 59.3266 812.03 Q56.4621 814.64 56.4621 818.969 Q56.4621 823.87 59.2312 826.83 Q62.0002 829.759 67.0292 830.204 L66.9973 809.325 Z\" fill=\"#000000\" fill-rule=\"evenodd\" fill-opacity=\"1\" /><path clip-path=\"url(#clip070)\" d=\"M 0 0 M70.212 793.824 Q76.6732 793.824 80.3653 791.182 Q84.0256 788.509 84.0256 783.862 Q84.0256 779.215 80.3653 776.541 Q76.6732 773.868 70.212 773.868 Q63.7508 773.868 60.0905 776.541 Q56.3984 779.215 56.3984 783.862 Q56.3984 788.509 60.0905 791.182 Q63.7508 793.824 70.212 793.824 M82.657 773.868 Q85.8398 775.714 87.3994 778.547 Q88.9272 781.347 88.9272 785.294 Q88.9272 791.755 83.771 795.829 Q78.6147 799.872 70.212 799.872 Q61.8093 799.872 56.6531 795.829 Q51.4968 791.755 51.4968 785.294 Q51.4968 781.347 53.0564 778.547 Q54.5842 775.714 57.7671 773.868 L52.3562 773.868 L52.3562 768.011 L101.563 768.011 L101.563 773.868 L82.657 773.868 Z\" fill=\"#000000\" fill-rule=\"evenodd\" fill-opacity=\"1\" /><path clip-path=\"url(#clip070)\" d=\"M 0 0 M73.9359 762.473 L52.3562 762.473 L52.3562 756.617 L73.7131 756.617 Q78.7739 756.617 81.3202 754.643 Q83.8346 752.67 83.8346 748.723 Q83.8346 743.981 80.8109 741.243 Q77.7872 738.474 72.5673 738.474 L52.3562 738.474 L52.3562 732.618 L88.0042 732.618 L88.0042 738.474 L82.5296 738.474 Q85.7762 740.607 87.3676 743.44 Q88.9272 746.241 88.9272 749.964 Q88.9272 756.107 85.1078 759.29 Q81.2883 762.473 73.9359 762.473 M51.4968 747.736 L51.4968 747.736 Z\" fill=\"#000000\" fill-rule=\"evenodd\" fill-opacity=\"1\" /><path clip-path=\"url(#clip070)\" d=\"M 0 0 M68.7161 695.983 L71.5806 695.983 L71.5806 722.91 Q77.6281 722.528 80.8109 719.282 Q83.9619 716.003 83.9619 710.179 Q83.9619 706.805 83.1344 703.654 Q82.3069 700.471 80.6518 697.352 L86.1899 697.352 Q87.5267 700.503 88.227 703.813 Q88.9272 707.123 88.9272 710.529 Q88.9272 719.059 83.9619 724.056 Q78.9967 729.021 70.5303 729.021 Q61.7774 729.021 56.6531 724.311 Q51.4968 719.568 51.4968 711.547 Q51.4968 704.354 56.1438 700.185 Q60.7589 695.983 68.7161 695.983 M66.9973 701.84 Q62.1912 701.903 59.3266 704.545 Q56.4621 707.155 56.4621 711.484 Q56.4621 716.385 59.2312 719.345 Q62.0002 722.274 67.0292 722.719 L66.9973 701.84 M35.869 714.253 L35.869 709.542 L47.8365 701.744 L47.8365 706.168 L40.0386 711.898 L47.8365 717.627 L47.8365 722.051 L35.869 714.253 Z\" fill=\"#000000\" fill-rule=\"evenodd\" fill-opacity=\"1\" /><path clip-path=\"url(#clip070)\" d=\"M 0 0 M66.4881 660.208 L88.0042 660.208 L88.0042 666.064 L66.679 666.064 Q61.6183 666.064 59.1038 668.038 Q56.5894 670.011 56.5894 673.958 Q56.5894 678.7 59.6131 681.438 Q62.6368 684.175 67.8567 684.175 L88.0042 684.175 L88.0042 690.063 L52.3562 690.063 L52.3562 684.175 L57.8944 684.175 Q54.6797 682.074 53.0883 679.241 Q51.4968 676.377 51.4968 672.653 Q51.4968 666.51 55.3163 663.359 Q59.1038 660.208 66.4881 660.208 Z\" fill=\"#000000\" fill-rule=\"evenodd\" fill-opacity=\"1\" /><path clip-path=\"url(#clip070)\" d=\"M 0 0 M53.7248 628.411 L59.1993 628.411 Q57.8307 630.894 57.1623 633.408 Q56.4621 635.891 56.4621 638.437 Q56.4621 644.135 60.0905 647.286 Q63.6872 650.437 70.212 650.437 Q76.7369 650.437 80.3653 647.286 Q83.9619 644.135 83.9619 638.437 Q83.9619 635.891 83.2935 633.408 Q82.5933 630.894 81.2247 628.411 L86.6355 628.411 Q87.7814 630.862 88.3543 633.504 Q88.9272 636.114 88.9272 639.074 Q88.9272 647.127 83.8664 651.869 Q78.8057 656.611 70.212 656.611 Q61.491 656.611 56.4939 651.837 Q51.4968 647.031 51.4968 638.692 Q51.4968 635.987 52.0697 633.408 Q52.6108 630.83 53.7248 628.411 Z\" fill=\"#000000\" fill-rule=\"evenodd\" fill-opacity=\"1\" /><path clip-path=\"url(#clip070)\" d=\"M 0 0 M52.3562 622.268 L52.3562 616.412 L88.0042 616.412 L88.0042 622.268 L52.3562 622.268 M38.479 622.268 L38.479 616.412 L45.895 616.412 L45.895 622.268 L38.479 622.268 Z\" fill=\"#000000\" fill-rule=\"evenodd\" fill-opacity=\"1\" /><path clip-path=\"url(#clip070)\" d=\"M 0 0 M70.0847 594.068 Q70.0847 601.166 71.7079 603.903 Q73.3312 606.641 77.2461 606.641 Q80.3653 606.641 82.2114 604.604 Q84.0256 602.535 84.0256 599.002 Q84.0256 594.132 80.5881 591.204 Q77.1188 588.244 71.3897 588.244 L70.0847 588.244 L70.0847 594.068 M67.6657 582.387 L88.0042 582.387 L88.0042 588.244 L82.5933 588.244 Q85.8398 590.249 87.3994 593.241 Q88.9272 596.233 88.9272 600.561 Q88.9272 606.036 85.8716 609.282 Q82.7843 612.497 77.6281 612.497 Q71.6125 612.497 68.5569 608.487 Q65.5014 604.444 65.5014 596.455 L65.5014 588.244 L64.9285 588.244 Q60.8862 588.244 58.6901 590.917 Q56.4621 593.559 56.4621 598.365 Q56.4621 601.421 57.1941 604.317 Q57.9262 607.214 59.3903 609.887 L53.9795 609.887 Q52.7381 606.672 52.1334 603.649 Q51.4968 600.625 51.4968 597.76 Q51.4968 590.026 55.5072 586.207 Q59.5176 582.387 67.6657 582.387 Z\" fill=\"#000000\" fill-rule=\"evenodd\" fill-opacity=\"1\" /><path clip-path=\"url(#clip072)\" d=\"\n",
       "M245.339 1344.9 L245.339 1384.24 L282.399 1384.24 L282.399 1344.9 L245.339 1344.9 L245.339 1344.9  Z\n",
       "  \" fill=\"#009af9\" fill-rule=\"evenodd\" fill-opacity=\"1\"/>\n",
       "<polyline clip-path=\"url(#clip072)\" style=\"stroke:#000000; stroke-width:4; stroke-opacity:1; fill:none\" points=\"\n",
       "  245.339,1344.9 245.339,1384.24 282.399,1384.24 282.399,1344.9 245.339,1344.9 \n",
       "  \"/>\n",
       "<path clip-path=\"url(#clip072)\" d=\"\n",
       "M282.399 1344.9 L282.399 1384.24 L319.46 1384.24 L319.46 1344.9 L282.399 1344.9 L282.399 1344.9  Z\n",
       "  \" fill=\"#009af9\" fill-rule=\"evenodd\" fill-opacity=\"1\"/>\n",
       "<polyline clip-path=\"url(#clip072)\" style=\"stroke:#000000; stroke-width:4; stroke-opacity:1; fill:none\" points=\"\n",
       "  282.399,1344.9 282.399,1384.24 319.46,1384.24 319.46,1344.9 282.399,1344.9 \n",
       "  \"/>\n",
       "<path clip-path=\"url(#clip072)\" d=\"\n",
       "M319.46 1384.24 L319.46 1384.24 L356.521 1384.24 L356.521 1384.24 L319.46 1384.24 L319.46 1384.24  Z\n",
       "  \" fill=\"#009af9\" fill-rule=\"evenodd\" fill-opacity=\"1\"/>\n",
       "<polyline clip-path=\"url(#clip072)\" style=\"stroke:#000000; stroke-width:4; stroke-opacity:1; fill:none\" points=\"\n",
       "  319.46,1384.24 319.46,1384.24 356.521,1384.24 319.46,1384.24 \n",
       "  \"/>\n",
       "<path clip-path=\"url(#clip072)\" d=\"\n",
       "M356.521 1305.57 L356.521 1384.24 L393.581 1384.24 L393.581 1305.57 L356.521 1305.57 L356.521 1305.57  Z\n",
       "  \" fill=\"#009af9\" fill-rule=\"evenodd\" fill-opacity=\"1\"/>\n",
       "<polyline clip-path=\"url(#clip072)\" style=\"stroke:#000000; stroke-width:4; stroke-opacity:1; fill:none\" points=\"\n",
       "  356.521,1305.57 356.521,1384.24 393.581,1384.24 393.581,1305.57 356.521,1305.57 \n",
       "  \"/>\n",
       "<path clip-path=\"url(#clip072)\" d=\"\n",
       "M393.581 1226.9 L393.581 1384.24 L430.642 1384.24 L430.642 1226.9 L393.581 1226.9 L393.581 1226.9  Z\n",
       "  \" fill=\"#009af9\" fill-rule=\"evenodd\" fill-opacity=\"1\"/>\n",
       "<polyline clip-path=\"url(#clip072)\" style=\"stroke:#000000; stroke-width:4; stroke-opacity:1; fill:none\" points=\"\n",
       "  393.581,1226.9 393.581,1384.24 430.642,1384.24 430.642,1226.9 393.581,1226.9 \n",
       "  \"/>\n",
       "<path clip-path=\"url(#clip072)\" d=\"\n",
       "M430.642 1305.57 L430.642 1384.24 L467.703 1384.24 L467.703 1305.57 L430.642 1305.57 L430.642 1305.57  Z\n",
       "  \" fill=\"#009af9\" fill-rule=\"evenodd\" fill-opacity=\"1\"/>\n",
       "<polyline clip-path=\"url(#clip072)\" style=\"stroke:#000000; stroke-width:4; stroke-opacity:1; fill:none\" points=\"\n",
       "  430.642,1305.57 430.642,1384.24 467.703,1384.24 467.703,1305.57 430.642,1305.57 \n",
       "  \"/>\n",
       "<path clip-path=\"url(#clip072)\" d=\"\n",
       "M467.703 1030.22 L467.703 1384.24 L504.763 1384.24 L504.763 1030.22 L467.703 1030.22 L467.703 1030.22  Z\n",
       "  \" fill=\"#009af9\" fill-rule=\"evenodd\" fill-opacity=\"1\"/>\n",
       "<polyline clip-path=\"url(#clip072)\" style=\"stroke:#000000; stroke-width:4; stroke-opacity:1; fill:none\" points=\"\n",
       "  467.703,1030.22 467.703,1384.24 504.763,1384.24 504.763,1030.22 467.703,1030.22 \n",
       "  \"/>\n",
       "<path clip-path=\"url(#clip072)\" d=\"\n",
       "M504.763 400.865 L504.763 1384.24 L541.824 1384.24 L541.824 400.865 L504.763 400.865 L504.763 400.865  Z\n",
       "  \" fill=\"#009af9\" fill-rule=\"evenodd\" fill-opacity=\"1\"/>\n",
       "<polyline clip-path=\"url(#clip072)\" style=\"stroke:#000000; stroke-width:4; stroke-opacity:1; fill:none\" points=\"\n",
       "  504.763,400.865 504.763,1384.24 541.824,1384.24 541.824,400.865 504.763,400.865 \n",
       "  \"/>\n",
       "<path clip-path=\"url(#clip072)\" d=\"\n",
       "M541.824 322.195 L541.824 1384.24 L578.884 1384.24 L578.884 322.195 L541.824 322.195 L541.824 322.195  Z\n",
       "  \" fill=\"#009af9\" fill-rule=\"evenodd\" fill-opacity=\"1\"/>\n",
       "<polyline clip-path=\"url(#clip072)\" style=\"stroke:#000000; stroke-width:4; stroke-opacity:1; fill:none\" points=\"\n",
       "  541.824,322.195 541.824,1384.24 578.884,1384.24 578.884,322.195 541.824,322.195 \n",
       "  \"/>\n",
       "<path clip-path=\"url(#clip072)\" d=\"\n",
       "M578.884 86.1857 L578.884 1384.24 L615.945 1384.24 L615.945 86.1857 L578.884 86.1857 L578.884 86.1857  Z\n",
       "  \" fill=\"#009af9\" fill-rule=\"evenodd\" fill-opacity=\"1\"/>\n",
       "<polyline clip-path=\"url(#clip072)\" style=\"stroke:#000000; stroke-width:4; stroke-opacity:1; fill:none\" points=\"\n",
       "  578.884,86.1857 578.884,1384.24 615.945,1384.24 615.945,86.1857 578.884,86.1857 \n",
       "  \"/>\n",
       "<path clip-path=\"url(#clip072)\" d=\"\n",
       "M615.945 204.19 L615.945 1384.24 L653.006 1384.24 L653.006 204.19 L615.945 204.19 L615.945 204.19  Z\n",
       "  \" fill=\"#009af9\" fill-rule=\"evenodd\" fill-opacity=\"1\"/>\n",
       "<polyline clip-path=\"url(#clip072)\" style=\"stroke:#000000; stroke-width:4; stroke-opacity:1; fill:none\" points=\"\n",
       "  615.945,204.19 615.945,1384.24 653.006,1384.24 653.006,204.19 615.945,204.19 \n",
       "  \"/>\n",
       "<path clip-path=\"url(#clip072)\" d=\"\n",
       "M653.006 204.19 L653.006 1384.24 L690.066 1384.24 L690.066 204.19 L653.006 204.19 L653.006 204.19  Z\n",
       "  \" fill=\"#009af9\" fill-rule=\"evenodd\" fill-opacity=\"1\"/>\n",
       "<polyline clip-path=\"url(#clip072)\" style=\"stroke:#000000; stroke-width:4; stroke-opacity:1; fill:none\" points=\"\n",
       "  653.006,204.19 653.006,1384.24 690.066,1384.24 690.066,204.19 653.006,204.19 \n",
       "  \"/>\n",
       "<path clip-path=\"url(#clip072)\" d=\"\n",
       "M690.066 282.86 L690.066 1384.24 L727.127 1384.24 L727.127 282.86 L690.066 282.86 L690.066 282.86  Z\n",
       "  \" fill=\"#009af9\" fill-rule=\"evenodd\" fill-opacity=\"1\"/>\n",
       "<polyline clip-path=\"url(#clip072)\" style=\"stroke:#000000; stroke-width:4; stroke-opacity:1; fill:none\" points=\"\n",
       "  690.066,282.86 690.066,1384.24 727.127,1384.24 727.127,282.86 690.066,282.86 \n",
       "  \"/>\n",
       "<path clip-path=\"url(#clip072)\" d=\"\n",
       "M727.127 125.521 L727.127 1384.24 L764.188 1384.24 L764.188 125.521 L727.127 125.521 L727.127 125.521  Z\n",
       "  \" fill=\"#009af9\" fill-rule=\"evenodd\" fill-opacity=\"1\"/>\n",
       "<polyline clip-path=\"url(#clip072)\" style=\"stroke:#000000; stroke-width:4; stroke-opacity:1; fill:none\" points=\"\n",
       "  727.127,125.521 727.127,1384.24 764.188,1384.24 764.188,125.521 727.127,125.521 \n",
       "  \"/>\n",
       "<path clip-path=\"url(#clip072)\" d=\"\n",
       "M764.188 558.205 L764.188 1384.24 L801.248 1384.24 L801.248 558.205 L764.188 558.205 L764.188 558.205  Z\n",
       "  \" fill=\"#009af9\" fill-rule=\"evenodd\" fill-opacity=\"1\"/>\n",
       "<polyline clip-path=\"url(#clip072)\" style=\"stroke:#000000; stroke-width:4; stroke-opacity:1; fill:none\" points=\"\n",
       "  764.188,558.205 764.188,1384.24 801.248,1384.24 801.248,558.205 764.188,558.205 \n",
       "  \"/>\n",
       "<path clip-path=\"url(#clip072)\" d=\"\n",
       "M801.248 833.549 L801.248 1384.24 L838.309 1384.24 L838.309 833.549 L801.248 833.549 L801.248 833.549  Z\n",
       "  \" fill=\"#009af9\" fill-rule=\"evenodd\" fill-opacity=\"1\"/>\n",
       "<polyline clip-path=\"url(#clip072)\" style=\"stroke:#000000; stroke-width:4; stroke-opacity:1; fill:none\" points=\"\n",
       "  801.248,833.549 801.248,1384.24 838.309,1384.24 838.309,833.549 801.248,833.549 \n",
       "  \"/>\n",
       "<path clip-path=\"url(#clip072)\" d=\"\n",
       "M838.309 912.219 L838.309 1384.24 L875.37 1384.24 L875.37 912.219 L838.309 912.219 L838.309 912.219  Z\n",
       "  \" fill=\"#009af9\" fill-rule=\"evenodd\" fill-opacity=\"1\"/>\n",
       "<polyline clip-path=\"url(#clip072)\" style=\"stroke:#000000; stroke-width:4; stroke-opacity:1; fill:none\" points=\"\n",
       "  838.309,912.219 838.309,1384.24 875.37,1384.24 875.37,912.219 838.309,912.219 \n",
       "  \"/>\n",
       "<path clip-path=\"url(#clip072)\" d=\"\n",
       "M875.37 912.219 L875.37 1384.24 L912.43 1384.24 L912.43 912.219 L875.37 912.219 L875.37 912.219  Z\n",
       "  \" fill=\"#009af9\" fill-rule=\"evenodd\" fill-opacity=\"1\"/>\n",
       "<polyline clip-path=\"url(#clip072)\" style=\"stroke:#000000; stroke-width:4; stroke-opacity:1; fill:none\" points=\"\n",
       "  875.37,912.219 875.37,1384.24 912.43,1384.24 912.43,912.219 875.37,912.219 \n",
       "  \"/>\n",
       "<path clip-path=\"url(#clip072)\" d=\"\n",
       "M912.43 1187.56 L912.43 1384.24 L949.491 1384.24 L949.491 1187.56 L912.43 1187.56 L912.43 1187.56  Z\n",
       "  \" fill=\"#009af9\" fill-rule=\"evenodd\" fill-opacity=\"1\"/>\n",
       "<polyline clip-path=\"url(#clip072)\" style=\"stroke:#000000; stroke-width:4; stroke-opacity:1; fill:none\" points=\"\n",
       "  912.43,1187.56 912.43,1384.24 949.491,1384.24 949.491,1187.56 912.43,1187.56 \n",
       "  \"/>\n",
       "<path clip-path=\"url(#clip072)\" d=\"\n",
       "M949.491 1148.23 L949.491 1384.24 L986.551 1384.24 L986.551 1148.23 L949.491 1148.23 L949.491 1148.23  Z\n",
       "  \" fill=\"#009af9\" fill-rule=\"evenodd\" fill-opacity=\"1\"/>\n",
       "<polyline clip-path=\"url(#clip072)\" style=\"stroke:#000000; stroke-width:4; stroke-opacity:1; fill:none\" points=\"\n",
       "  949.491,1148.23 949.491,1384.24 986.551,1384.24 986.551,1148.23 949.491,1148.23 \n",
       "  \"/>\n",
       "<path clip-path=\"url(#clip072)\" d=\"\n",
       "M986.551 1305.57 L986.551 1384.24 L1023.61 1384.24 L1023.61 1305.57 L986.551 1305.57 L986.551 1305.57  Z\n",
       "  \" fill=\"#009af9\" fill-rule=\"evenodd\" fill-opacity=\"1\"/>\n",
       "<polyline clip-path=\"url(#clip072)\" style=\"stroke:#000000; stroke-width:4; stroke-opacity:1; fill:none\" points=\"\n",
       "  986.551,1305.57 986.551,1384.24 1023.61,1384.24 1023.61,1305.57 986.551,1305.57 \n",
       "  \"/>\n",
       "<path clip-path=\"url(#clip072)\" d=\"\n",
       "M1023.61 1344.9 L1023.61 1384.24 L1060.67 1384.24 L1060.67 1344.9 L1023.61 1344.9 L1023.61 1344.9  Z\n",
       "  \" fill=\"#009af9\" fill-rule=\"evenodd\" fill-opacity=\"1\"/>\n",
       "<polyline clip-path=\"url(#clip072)\" style=\"stroke:#000000; stroke-width:4; stroke-opacity:1; fill:none\" points=\"\n",
       "  1023.61,1344.9 1023.61,1384.24 1060.67,1384.24 1060.67,1344.9 1023.61,1344.9 \n",
       "  \"/>\n",
       "<path clip-path=\"url(#clip072)\" d=\"\n",
       "M1060.67 1384.24 L1060.67 1384.24 L1097.73 1384.24 L1097.73 1384.24 L1060.67 1384.24 L1060.67 1384.24  Z\n",
       "  \" fill=\"#009af9\" fill-rule=\"evenodd\" fill-opacity=\"1\"/>\n",
       "<polyline clip-path=\"url(#clip072)\" style=\"stroke:#000000; stroke-width:4; stroke-opacity:1; fill:none\" points=\"\n",
       "  1060.67,1384.24 1060.67,1384.24 1097.73,1384.24 1060.67,1384.24 \n",
       "  \"/>\n",
       "<path clip-path=\"url(#clip072)\" d=\"\n",
       "M1097.73 1226.9 L1097.73 1384.24 L1134.79 1384.24 L1134.79 1226.9 L1097.73 1226.9 L1097.73 1226.9  Z\n",
       "  \" fill=\"#009af9\" fill-rule=\"evenodd\" fill-opacity=\"1\"/>\n",
       "<polyline clip-path=\"url(#clip072)\" style=\"stroke:#000000; stroke-width:4; stroke-opacity:1; fill:none\" points=\"\n",
       "  1097.73,1226.9 1097.73,1384.24 1134.79,1384.24 1134.79,1226.9 1097.73,1226.9 \n",
       "  \"/>\n",
       "<path clip-path=\"url(#clip072)\" d=\"\n",
       "M1134.79 1344.9 L1134.79 1384.24 L1171.85 1384.24 L1171.85 1344.9 L1134.79 1344.9 L1134.79 1344.9  Z\n",
       "  \" fill=\"#009af9\" fill-rule=\"evenodd\" fill-opacity=\"1\"/>\n",
       "<polyline clip-path=\"url(#clip072)\" style=\"stroke:#000000; stroke-width:4; stroke-opacity:1; fill:none\" points=\"\n",
       "  1134.79,1344.9 1134.79,1384.24 1171.85,1384.24 1171.85,1344.9 1134.79,1344.9 \n",
       "  \"/>\n",
       "<path clip-path=\"url(#clip072)\" d=\"\n",
       "M1171.85 1344.9 L1171.85 1384.24 L1208.92 1384.24 L1208.92 1344.9 L1171.85 1344.9 L1171.85 1344.9  Z\n",
       "  \" fill=\"#009af9\" fill-rule=\"evenodd\" fill-opacity=\"1\"/>\n",
       "<polyline clip-path=\"url(#clip072)\" style=\"stroke:#000000; stroke-width:4; stroke-opacity:1; fill:none\" points=\"\n",
       "  1171.85,1344.9 1171.85,1384.24 1208.92,1384.24 1208.92,1344.9 1171.85,1344.9 \n",
       "  \"/>\n",
       "<path clip-path=\"url(#clip072)\" d=\"\n",
       "M1208.92 1344.9 L1208.92 1384.24 L1245.98 1384.24 L1245.98 1344.9 L1208.92 1344.9 L1208.92 1344.9  Z\n",
       "  \" fill=\"#009af9\" fill-rule=\"evenodd\" fill-opacity=\"1\"/>\n",
       "<polyline clip-path=\"url(#clip072)\" style=\"stroke:#000000; stroke-width:4; stroke-opacity:1; fill:none\" points=\"\n",
       "  1208.92,1344.9 1208.92,1384.24 1245.98,1384.24 1245.98,1344.9 1208.92,1344.9 \n",
       "  \"/>\n",
       "<path clip-path=\"url(#clip072)\" d=\"\n",
       "M1245.98 1187.56 L1245.98 1384.24 L1283.04 1384.24 L1283.04 1187.56 L1245.98 1187.56 L1245.98 1187.56  Z\n",
       "  \" fill=\"#009af9\" fill-rule=\"evenodd\" fill-opacity=\"1\"/>\n",
       "<polyline clip-path=\"url(#clip072)\" style=\"stroke:#000000; stroke-width:4; stroke-opacity:1; fill:none\" points=\"\n",
       "  1245.98,1187.56 1245.98,1384.24 1283.04,1384.24 1283.04,1187.56 1245.98,1187.56 \n",
       "  \"/>\n",
       "<path clip-path=\"url(#clip072)\" d=\"\n",
       "M1283.04 1384.24 L1283.04 1384.24 L1320.1 1384.24 L1320.1 1384.24 L1283.04 1384.24 L1283.04 1384.24  Z\n",
       "  \" fill=\"#009af9\" fill-rule=\"evenodd\" fill-opacity=\"1\"/>\n",
       "<polyline clip-path=\"url(#clip072)\" style=\"stroke:#000000; stroke-width:4; stroke-opacity:1; fill:none\" points=\"\n",
       "  1283.04,1384.24 1283.04,1384.24 1320.1,1384.24 1283.04,1384.24 \n",
       "  \"/>\n",
       "<path clip-path=\"url(#clip072)\" d=\"\n",
       "M1320.1 1305.57 L1320.1 1384.24 L1357.16 1384.24 L1357.16 1305.57 L1320.1 1305.57 L1320.1 1305.57  Z\n",
       "  \" fill=\"#009af9\" fill-rule=\"evenodd\" fill-opacity=\"1\"/>\n",
       "<polyline clip-path=\"url(#clip072)\" style=\"stroke:#000000; stroke-width:4; stroke-opacity:1; fill:none\" points=\"\n",
       "  1320.1,1305.57 1320.1,1384.24 1357.16,1384.24 1357.16,1305.57 1320.1,1305.57 \n",
       "  \"/>\n",
       "<path clip-path=\"url(#clip072)\" d=\"\n",
       "M1357.16 1305.57 L1357.16 1384.24 L1394.22 1384.24 L1394.22 1305.57 L1357.16 1305.57 L1357.16 1305.57  Z\n",
       "  \" fill=\"#009af9\" fill-rule=\"evenodd\" fill-opacity=\"1\"/>\n",
       "<polyline clip-path=\"url(#clip072)\" style=\"stroke:#000000; stroke-width:4; stroke-opacity:1; fill:none\" points=\"\n",
       "  1357.16,1305.57 1357.16,1384.24 1394.22,1384.24 1394.22,1305.57 1357.16,1305.57 \n",
       "  \"/>\n",
       "<path clip-path=\"url(#clip072)\" d=\"\n",
       "M1394.22 1344.9 L1394.22 1384.24 L1431.28 1384.24 L1431.28 1344.9 L1394.22 1344.9 L1394.22 1344.9  Z\n",
       "  \" fill=\"#009af9\" fill-rule=\"evenodd\" fill-opacity=\"1\"/>\n",
       "<polyline clip-path=\"url(#clip072)\" style=\"stroke:#000000; stroke-width:4; stroke-opacity:1; fill:none\" points=\"\n",
       "  1394.22,1344.9 1394.22,1384.24 1431.28,1384.24 1431.28,1344.9 1394.22,1344.9 \n",
       "  \"/>\n",
       "<path clip-path=\"url(#clip072)\" d=\"\n",
       "M1431.28 1384.24 L1431.28 1384.24 L1468.34 1384.24 L1468.34 1384.24 L1431.28 1384.24 L1431.28 1384.24  Z\n",
       "  \" fill=\"#009af9\" fill-rule=\"evenodd\" fill-opacity=\"1\"/>\n",
       "<polyline clip-path=\"url(#clip072)\" style=\"stroke:#000000; stroke-width:4; stroke-opacity:1; fill:none\" points=\"\n",
       "  1431.28,1384.24 1431.28,1384.24 1468.34,1384.24 1431.28,1384.24 \n",
       "  \"/>\n",
       "<path clip-path=\"url(#clip072)\" d=\"\n",
       "M1468.34 1384.24 L1468.34 1384.24 L1505.4 1384.24 L1505.4 1384.24 L1468.34 1384.24 L1468.34 1384.24  Z\n",
       "  \" fill=\"#009af9\" fill-rule=\"evenodd\" fill-opacity=\"1\"/>\n",
       "<polyline clip-path=\"url(#clip072)\" style=\"stroke:#000000; stroke-width:4; stroke-opacity:1; fill:none\" points=\"\n",
       "  1468.34,1384.24 1468.34,1384.24 1505.4,1384.24 1468.34,1384.24 \n",
       "  \"/>\n",
       "<path clip-path=\"url(#clip072)\" d=\"\n",
       "M1505.4 1305.57 L1505.4 1384.24 L1542.46 1384.24 L1542.46 1305.57 L1505.4 1305.57 L1505.4 1305.57  Z\n",
       "  \" fill=\"#009af9\" fill-rule=\"evenodd\" fill-opacity=\"1\"/>\n",
       "<polyline clip-path=\"url(#clip072)\" style=\"stroke:#000000; stroke-width:4; stroke-opacity:1; fill:none\" points=\"\n",
       "  1505.4,1305.57 1505.4,1384.24 1542.46,1384.24 1542.46,1305.57 1505.4,1305.57 \n",
       "  \"/>\n",
       "<path clip-path=\"url(#clip072)\" d=\"\n",
       "M1542.46 1384.24 L1542.46 1384.24 L1579.52 1384.24 L1579.52 1384.24 L1542.46 1384.24 L1542.46 1384.24  Z\n",
       "  \" fill=\"#009af9\" fill-rule=\"evenodd\" fill-opacity=\"1\"/>\n",
       "<polyline clip-path=\"url(#clip072)\" style=\"stroke:#000000; stroke-width:4; stroke-opacity:1; fill:none\" points=\"\n",
       "  1542.46,1384.24 1542.46,1384.24 1579.52,1384.24 1542.46,1384.24 \n",
       "  \"/>\n",
       "<path clip-path=\"url(#clip072)\" d=\"\n",
       "M1579.52 1344.9 L1579.52 1384.24 L1616.58 1384.24 L1616.58 1344.9 L1579.52 1344.9 L1579.52 1344.9  Z\n",
       "  \" fill=\"#009af9\" fill-rule=\"evenodd\" fill-opacity=\"1\"/>\n",
       "<polyline clip-path=\"url(#clip072)\" style=\"stroke:#000000; stroke-width:4; stroke-opacity:1; fill:none\" points=\"\n",
       "  1579.52,1344.9 1579.52,1384.24 1616.58,1384.24 1616.58,1344.9 1579.52,1344.9 \n",
       "  \"/>\n",
       "<path clip-path=\"url(#clip072)\" d=\"\n",
       "M1616.58 1384.24 L1616.58 1384.24 L1653.64 1384.24 L1653.64 1384.24 L1616.58 1384.24 L1616.58 1384.24  Z\n",
       "  \" fill=\"#009af9\" fill-rule=\"evenodd\" fill-opacity=\"1\"/>\n",
       "<polyline clip-path=\"url(#clip072)\" style=\"stroke:#000000; stroke-width:4; stroke-opacity:1; fill:none\" points=\"\n",
       "  1616.58,1384.24 1616.58,1384.24 1653.64,1384.24 1616.58,1384.24 \n",
       "  \"/>\n",
       "<path clip-path=\"url(#clip072)\" d=\"\n",
       "M1653.64 1384.24 L1653.64 1384.24 L1690.7 1384.24 L1690.7 1384.24 L1653.64 1384.24 L1653.64 1384.24  Z\n",
       "  \" fill=\"#009af9\" fill-rule=\"evenodd\" fill-opacity=\"1\"/>\n",
       "<polyline clip-path=\"url(#clip072)\" style=\"stroke:#000000; stroke-width:4; stroke-opacity:1; fill:none\" points=\"\n",
       "  1653.64,1384.24 1653.64,1384.24 1690.7,1384.24 1653.64,1384.24 \n",
       "  \"/>\n",
       "<path clip-path=\"url(#clip072)\" d=\"\n",
       "M1690.7 1384.24 L1690.7 1384.24 L1727.76 1384.24 L1727.76 1384.24 L1690.7 1384.24 L1690.7 1384.24  Z\n",
       "  \" fill=\"#009af9\" fill-rule=\"evenodd\" fill-opacity=\"1\"/>\n",
       "<polyline clip-path=\"url(#clip072)\" style=\"stroke:#000000; stroke-width:4; stroke-opacity:1; fill:none\" points=\"\n",
       "  1690.7,1384.24 1690.7,1384.24 1727.76,1384.24 1690.7,1384.24 \n",
       "  \"/>\n",
       "<path clip-path=\"url(#clip072)\" d=\"\n",
       "M1727.76 1384.24 L1727.76 1384.24 L1764.82 1384.24 L1764.82 1384.24 L1727.76 1384.24 L1727.76 1384.24  Z\n",
       "  \" fill=\"#009af9\" fill-rule=\"evenodd\" fill-opacity=\"1\"/>\n",
       "<polyline clip-path=\"url(#clip072)\" style=\"stroke:#000000; stroke-width:4; stroke-opacity:1; fill:none\" points=\"\n",
       "  1727.76,1384.24 1727.76,1384.24 1764.82,1384.24 1727.76,1384.24 \n",
       "  \"/>\n",
       "<path clip-path=\"url(#clip072)\" d=\"\n",
       "M1764.82 1344.9 L1764.82 1384.24 L1801.89 1384.24 L1801.89 1344.9 L1764.82 1344.9 L1764.82 1344.9  Z\n",
       "  \" fill=\"#009af9\" fill-rule=\"evenodd\" fill-opacity=\"1\"/>\n",
       "<polyline clip-path=\"url(#clip072)\" style=\"stroke:#000000; stroke-width:4; stroke-opacity:1; fill:none\" points=\"\n",
       "  1764.82,1344.9 1764.82,1384.24 1801.89,1384.24 1801.89,1344.9 1764.82,1344.9 \n",
       "  \"/>\n",
       "<path clip-path=\"url(#clip072)\" d=\"\n",
       "M1801.89 1384.24 L1801.89 1384.24 L1838.95 1384.24 L1838.95 1384.24 L1801.89 1384.24 L1801.89 1384.24  Z\n",
       "  \" fill=\"#009af9\" fill-rule=\"evenodd\" fill-opacity=\"1\"/>\n",
       "<polyline clip-path=\"url(#clip072)\" style=\"stroke:#000000; stroke-width:4; stroke-opacity:1; fill:none\" points=\"\n",
       "  1801.89,1384.24 1801.89,1384.24 1838.95,1384.24 1801.89,1384.24 \n",
       "  \"/>\n",
       "<path clip-path=\"url(#clip072)\" d=\"\n",
       "M1838.95 1384.24 L1838.95 1384.24 L1876.01 1384.24 L1876.01 1384.24 L1838.95 1384.24 L1838.95 1384.24  Z\n",
       "  \" fill=\"#009af9\" fill-rule=\"evenodd\" fill-opacity=\"1\"/>\n",
       "<polyline clip-path=\"url(#clip072)\" style=\"stroke:#000000; stroke-width:4; stroke-opacity:1; fill:none\" points=\"\n",
       "  1838.95,1384.24 1838.95,1384.24 1876.01,1384.24 1838.95,1384.24 \n",
       "  \"/>\n",
       "<path clip-path=\"url(#clip072)\" d=\"\n",
       "M1876.01 1384.24 L1876.01 1384.24 L1913.07 1384.24 L1913.07 1384.24 L1876.01 1384.24 L1876.01 1384.24  Z\n",
       "  \" fill=\"#009af9\" fill-rule=\"evenodd\" fill-opacity=\"1\"/>\n",
       "<polyline clip-path=\"url(#clip072)\" style=\"stroke:#000000; stroke-width:4; stroke-opacity:1; fill:none\" points=\"\n",
       "  1876.01,1384.24 1876.01,1384.24 1913.07,1384.24 1876.01,1384.24 \n",
       "  \"/>\n",
       "<path clip-path=\"url(#clip072)\" d=\"\n",
       "M1913.07 1384.24 L1913.07 1384.24 L1950.13 1384.24 L1950.13 1384.24 L1913.07 1384.24 L1913.07 1384.24  Z\n",
       "  \" fill=\"#009af9\" fill-rule=\"evenodd\" fill-opacity=\"1\"/>\n",
       "<polyline clip-path=\"url(#clip072)\" style=\"stroke:#000000; stroke-width:4; stroke-opacity:1; fill:none\" points=\"\n",
       "  1913.07,1384.24 1913.07,1384.24 1950.13,1384.24 1913.07,1384.24 \n",
       "  \"/>\n",
       "<path clip-path=\"url(#clip072)\" d=\"\n",
       "M1950.13 1305.57 L1950.13 1384.24 L1987.19 1384.24 L1987.19 1305.57 L1950.13 1305.57 L1950.13 1305.57  Z\n",
       "  \" fill=\"#009af9\" fill-rule=\"evenodd\" fill-opacity=\"1\"/>\n",
       "<polyline clip-path=\"url(#clip072)\" style=\"stroke:#000000; stroke-width:4; stroke-opacity:1; fill:none\" points=\"\n",
       "  1950.13,1305.57 1950.13,1384.24 1987.19,1384.24 1987.19,1305.57 1950.13,1305.57 \n",
       "  \"/>\n",
       "<path clip-path=\"url(#clip072)\" d=\"\n",
       "M1987.19 1384.24 L1987.19 1384.24 L2024.25 1384.24 L2024.25 1384.24 L1987.19 1384.24 L1987.19 1384.24  Z\n",
       "  \" fill=\"#009af9\" fill-rule=\"evenodd\" fill-opacity=\"1\"/>\n",
       "<polyline clip-path=\"url(#clip072)\" style=\"stroke:#000000; stroke-width:4; stroke-opacity:1; fill:none\" points=\"\n",
       "  1987.19,1384.24 1987.19,1384.24 2024.25,1384.24 1987.19,1384.24 \n",
       "  \"/>\n",
       "<path clip-path=\"url(#clip072)\" d=\"\n",
       "M2024.25 1344.9 L2024.25 1384.24 L2061.31 1384.24 L2061.31 1344.9 L2024.25 1344.9 L2024.25 1344.9  Z\n",
       "  \" fill=\"#009af9\" fill-rule=\"evenodd\" fill-opacity=\"1\"/>\n",
       "<polyline clip-path=\"url(#clip072)\" style=\"stroke:#000000; stroke-width:4; stroke-opacity:1; fill:none\" points=\"\n",
       "  2024.25,1344.9 2024.25,1384.24 2061.31,1384.24 2061.31,1344.9 2024.25,1344.9 \n",
       "  \"/>\n",
       "<path clip-path=\"url(#clip072)\" d=\"\n",
       "M2061.31 1384.24 L2061.31 1384.24 L2098.37 1384.24 L2098.37 1384.24 L2061.31 1384.24 L2061.31 1384.24  Z\n",
       "  \" fill=\"#009af9\" fill-rule=\"evenodd\" fill-opacity=\"1\"/>\n",
       "<polyline clip-path=\"url(#clip072)\" style=\"stroke:#000000; stroke-width:4; stroke-opacity:1; fill:none\" points=\"\n",
       "  2061.31,1384.24 2061.31,1384.24 2098.37,1384.24 2061.31,1384.24 \n",
       "  \"/>\n",
       "<path clip-path=\"url(#clip072)\" d=\"\n",
       "M2098.37 1226.9 L2098.37 1384.24 L2135.43 1384.24 L2135.43 1226.9 L2098.37 1226.9 L2098.37 1226.9  Z\n",
       "  \" fill=\"#009af9\" fill-rule=\"evenodd\" fill-opacity=\"1\"/>\n",
       "<polyline clip-path=\"url(#clip072)\" style=\"stroke:#000000; stroke-width:4; stroke-opacity:1; fill:none\" points=\"\n",
       "  2098.37,1226.9 2098.37,1384.24 2135.43,1384.24 2135.43,1226.9 2098.37,1226.9 \n",
       "  \"/>\n",
       "<path clip-path=\"url(#clip072)\" d=\"\n",
       "M2135.43 1187.56 L2135.43 1384.24 L2172.49 1384.24 L2172.49 1187.56 L2135.43 1187.56 L2135.43 1187.56  Z\n",
       "  \" fill=\"#009af9\" fill-rule=\"evenodd\" fill-opacity=\"1\"/>\n",
       "<polyline clip-path=\"url(#clip072)\" style=\"stroke:#000000; stroke-width:4; stroke-opacity:1; fill:none\" points=\"\n",
       "  2135.43,1187.56 2135.43,1384.24 2172.49,1384.24 2172.49,1187.56 2135.43,1187.56 \n",
       "  \"/>\n",
       "<path clip-path=\"url(#clip072)\" d=\"\n",
       "M2172.49 1266.23 L2172.49 1384.24 L2209.55 1384.24 L2209.55 1266.23 L2172.49 1266.23 L2172.49 1266.23  Z\n",
       "  \" fill=\"#009af9\" fill-rule=\"evenodd\" fill-opacity=\"1\"/>\n",
       "<polyline clip-path=\"url(#clip072)\" style=\"stroke:#000000; stroke-width:4; stroke-opacity:1; fill:none\" points=\"\n",
       "  2172.49,1266.23 2172.49,1384.24 2209.55,1384.24 2209.55,1266.23 2172.49,1266.23 \n",
       "  \"/>\n",
       "<path clip-path=\"url(#clip072)\" d=\"\n",
       "M2209.55 1187.56 L2209.55 1384.24 L2246.61 1384.24 L2246.61 1187.56 L2209.55 1187.56 L2209.55 1187.56  Z\n",
       "  \" fill=\"#009af9\" fill-rule=\"evenodd\" fill-opacity=\"1\"/>\n",
       "<polyline clip-path=\"url(#clip072)\" style=\"stroke:#000000; stroke-width:4; stroke-opacity:1; fill:none\" points=\"\n",
       "  2209.55,1187.56 2209.55,1384.24 2246.61,1384.24 2246.61,1187.56 2209.55,1187.56 \n",
       "  \"/>\n",
       "<path clip-path=\"url(#clip072)\" d=\"\n",
       "M2246.61 1187.56 L2246.61 1384.24 L2283.67 1384.24 L2283.67 1187.56 L2246.61 1187.56 L2246.61 1187.56  Z\n",
       "  \" fill=\"#009af9\" fill-rule=\"evenodd\" fill-opacity=\"1\"/>\n",
       "<polyline clip-path=\"url(#clip072)\" style=\"stroke:#000000; stroke-width:4; stroke-opacity:1; fill:none\" points=\"\n",
       "  2246.61,1187.56 2246.61,1384.24 2283.67,1384.24 2283.67,1187.56 2246.61,1187.56 \n",
       "  \"/>\n",
       "<path clip-path=\"url(#clip072)\" d=\"\n",
       "M2283.67 1344.9 L2283.67 1384.24 L2320.73 1384.24 L2320.73 1344.9 L2283.67 1344.9 L2283.67 1344.9  Z\n",
       "  \" fill=\"#009af9\" fill-rule=\"evenodd\" fill-opacity=\"1\"/>\n",
       "<polyline clip-path=\"url(#clip072)\" style=\"stroke:#000000; stroke-width:4; stroke-opacity:1; fill:none\" points=\"\n",
       "  2283.67,1344.9 2283.67,1384.24 2320.73,1384.24 2320.73,1344.9 2283.67,1344.9 \n",
       "  \"/>\n",
       "<path clip-path=\"url(#clip072)\" d=\"\n",
       "M2320.73 1030.22 L2320.73 1384.24 L2357.79 1384.24 L2357.79 1030.22 L2320.73 1030.22 L2320.73 1030.22  Z\n",
       "  \" fill=\"#009af9\" fill-rule=\"evenodd\" fill-opacity=\"1\"/>\n",
       "<polyline clip-path=\"url(#clip072)\" style=\"stroke:#000000; stroke-width:4; stroke-opacity:1; fill:none\" points=\"\n",
       "  2320.73,1030.22 2320.73,1384.24 2357.79,1384.24 2357.79,1030.22 2320.73,1030.22 \n",
       "  \"/>\n",
       "<path clip-path=\"url(#clip072)\" d=\"\n",
       "M2357.79 1266.23 L2357.79 1384.24 L2394.86 1384.24 L2394.86 1266.23 L2357.79 1266.23 L2357.79 1266.23  Z\n",
       "  \" fill=\"#009af9\" fill-rule=\"evenodd\" fill-opacity=\"1\"/>\n",
       "<polyline clip-path=\"url(#clip072)\" style=\"stroke:#000000; stroke-width:4; stroke-opacity:1; fill:none\" points=\"\n",
       "  2357.79,1266.23 2357.79,1384.24 2394.86,1384.24 2394.86,1266.23 2357.79,1266.23 \n",
       "  \"/>\n",
       "<path clip-path=\"url(#clip072)\" d=\"\n",
       "M2394.86 1148.23 L2394.86 1384.24 L2431.92 1384.24 L2431.92 1148.23 L2394.86 1148.23 L2394.86 1148.23  Z\n",
       "  \" fill=\"#009af9\" fill-rule=\"evenodd\" fill-opacity=\"1\"/>\n",
       "<polyline clip-path=\"url(#clip072)\" style=\"stroke:#000000; stroke-width:4; stroke-opacity:1; fill:none\" points=\"\n",
       "  2394.86,1148.23 2394.86,1384.24 2431.92,1384.24 2431.92,1148.23 2394.86,1148.23 \n",
       "  \"/>\n",
       "<path clip-path=\"url(#clip072)\" d=\"\n",
       "M2431.92 1226.9 L2431.92 1384.24 L2468.98 1384.24 L2468.98 1226.9 L2431.92 1226.9 L2431.92 1226.9  Z\n",
       "  \" fill=\"#009af9\" fill-rule=\"evenodd\" fill-opacity=\"1\"/>\n",
       "<polyline clip-path=\"url(#clip072)\" style=\"stroke:#000000; stroke-width:4; stroke-opacity:1; fill:none\" points=\"\n",
       "  2431.92,1226.9 2431.92,1384.24 2468.98,1384.24 2468.98,1226.9 2431.92,1226.9 \n",
       "  \"/>\n",
       "<path clip-path=\"url(#clip072)\" d=\"\n",
       "M2468.98 1266.23 L2468.98 1384.24 L2506.04 1384.24 L2506.04 1266.23 L2468.98 1266.23 L2468.98 1266.23  Z\n",
       "  \" fill=\"#009af9\" fill-rule=\"evenodd\" fill-opacity=\"1\"/>\n",
       "<polyline clip-path=\"url(#clip072)\" style=\"stroke:#000000; stroke-width:4; stroke-opacity:1; fill:none\" points=\"\n",
       "  2468.98,1266.23 2468.98,1384.24 2506.04,1384.24 2506.04,1266.23 2468.98,1266.23 \n",
       "  \"/>\n",
       "<path clip-path=\"url(#clip072)\" d=\"\n",
       "M2506.04 1226.9 L2506.04 1384.24 L2543.1 1384.24 L2543.1 1226.9 L2506.04 1226.9 L2506.04 1226.9  Z\n",
       "  \" fill=\"#009af9\" fill-rule=\"evenodd\" fill-opacity=\"1\"/>\n",
       "<polyline clip-path=\"url(#clip072)\" style=\"stroke:#000000; stroke-width:4; stroke-opacity:1; fill:none\" points=\"\n",
       "  2506.04,1226.9 2506.04,1384.24 2543.1,1384.24 2543.1,1226.9 2506.04,1226.9 \n",
       "  \"/>\n",
       "<path clip-path=\"url(#clip072)\" d=\"\n",
       "M2543.1 1226.9 L2543.1 1384.24 L2580.16 1384.24 L2580.16 1226.9 L2543.1 1226.9 L2543.1 1226.9  Z\n",
       "  \" fill=\"#009af9\" fill-rule=\"evenodd\" fill-opacity=\"1\"/>\n",
       "<polyline clip-path=\"url(#clip072)\" style=\"stroke:#000000; stroke-width:4; stroke-opacity:1; fill:none\" points=\"\n",
       "  2543.1,1226.9 2543.1,1384.24 2580.16,1384.24 2580.16,1226.9 2543.1,1226.9 \n",
       "  \"/>\n",
       "<path clip-path=\"url(#clip072)\" d=\"\n",
       "M2580.16 1226.9 L2580.16 1384.24 L2617.22 1384.24 L2617.22 1226.9 L2580.16 1226.9 L2580.16 1226.9  Z\n",
       "  \" fill=\"#009af9\" fill-rule=\"evenodd\" fill-opacity=\"1\"/>\n",
       "<polyline clip-path=\"url(#clip072)\" style=\"stroke:#000000; stroke-width:4; stroke-opacity:1; fill:none\" points=\"\n",
       "  2580.16,1226.9 2580.16,1384.24 2617.22,1384.24 2617.22,1226.9 2580.16,1226.9 \n",
       "  \"/>\n",
       "<path clip-path=\"url(#clip072)\" d=\"\n",
       "M2617.22 1187.56 L2617.22 1384.24 L2654.28 1384.24 L2654.28 1187.56 L2617.22 1187.56 L2617.22 1187.56  Z\n",
       "  \" fill=\"#009af9\" fill-rule=\"evenodd\" fill-opacity=\"1\"/>\n",
       "<polyline clip-path=\"url(#clip072)\" style=\"stroke:#000000; stroke-width:4; stroke-opacity:1; fill:none\" points=\"\n",
       "  2617.22,1187.56 2617.22,1384.24 2654.28,1384.24 2654.28,1187.56 2617.22,1187.56 \n",
       "  \"/>\n",
       "<path clip-path=\"url(#clip072)\" d=\"\n",
       "M2654.28 1266.23 L2654.28 1384.24 L2691.34 1384.24 L2691.34 1266.23 L2654.28 1266.23 L2654.28 1266.23  Z\n",
       "  \" fill=\"#009af9\" fill-rule=\"evenodd\" fill-opacity=\"1\"/>\n",
       "<polyline clip-path=\"url(#clip072)\" style=\"stroke:#000000; stroke-width:4; stroke-opacity:1; fill:none\" points=\"\n",
       "  2654.28,1266.23 2654.28,1384.24 2691.34,1384.24 2691.34,1266.23 2654.28,1266.23 \n",
       "  \"/>\n",
       "<path clip-path=\"url(#clip072)\" d=\"\n",
       "M2691.34 1384.24 L2691.34 1384.24 L2728.4 1384.24 L2728.4 1384.24 L2691.34 1384.24 L2691.34 1384.24  Z\n",
       "  \" fill=\"#009af9\" fill-rule=\"evenodd\" fill-opacity=\"1\"/>\n",
       "<polyline clip-path=\"url(#clip072)\" style=\"stroke:#000000; stroke-width:4; stroke-opacity:1; fill:none\" points=\"\n",
       "  2691.34,1384.24 2691.34,1384.24 2728.4,1384.24 2691.34,1384.24 \n",
       "  \"/>\n",
       "<path clip-path=\"url(#clip072)\" d=\"\n",
       "M2728.4 1305.57 L2728.4 1384.24 L2765.46 1384.24 L2765.46 1305.57 L2728.4 1305.57 L2728.4 1305.57  Z\n",
       "  \" fill=\"#009af9\" fill-rule=\"evenodd\" fill-opacity=\"1\"/>\n",
       "<polyline clip-path=\"url(#clip072)\" style=\"stroke:#000000; stroke-width:4; stroke-opacity:1; fill:none\" points=\"\n",
       "  2728.4,1305.57 2728.4,1384.24 2765.46,1384.24 2765.46,1305.57 2728.4,1305.57 \n",
       "  \"/>\n",
       "<path clip-path=\"url(#clip072)\" d=\"\n",
       "M2765.46 1344.9 L2765.46 1384.24 L2802.52 1384.24 L2802.52 1344.9 L2765.46 1344.9 L2765.46 1344.9  Z\n",
       "  \" fill=\"#009af9\" fill-rule=\"evenodd\" fill-opacity=\"1\"/>\n",
       "<polyline clip-path=\"url(#clip072)\" style=\"stroke:#000000; stroke-width:4; stroke-opacity:1; fill:none\" points=\"\n",
       "  2765.46,1344.9 2765.46,1384.24 2802.52,1384.24 2802.52,1344.9 2765.46,1344.9 \n",
       "  \"/>\n",
       "<path clip-path=\"url(#clip072)\" d=\"\n",
       "M2802.52 1344.9 L2802.52 1384.24 L2839.58 1384.24 L2839.58 1344.9 L2802.52 1344.9 L2802.52 1344.9  Z\n",
       "  \" fill=\"#009af9\" fill-rule=\"evenodd\" fill-opacity=\"1\"/>\n",
       "<polyline clip-path=\"url(#clip072)\" style=\"stroke:#000000; stroke-width:4; stroke-opacity:1; fill:none\" points=\"\n",
       "  2802.52,1344.9 2802.52,1384.24 2839.58,1384.24 2839.58,1344.9 2802.52,1344.9 \n",
       "  \"/>\n",
       "<path clip-path=\"url(#clip072)\" d=\"\n",
       "M2839.58 1344.9 L2839.58 1384.24 L2876.64 1384.24 L2876.64 1344.9 L2839.58 1344.9 L2839.58 1344.9  Z\n",
       "  \" fill=\"#009af9\" fill-rule=\"evenodd\" fill-opacity=\"1\"/>\n",
       "<polyline clip-path=\"url(#clip072)\" style=\"stroke:#000000; stroke-width:4; stroke-opacity:1; fill:none\" points=\"\n",
       "  2839.58,1344.9 2839.58,1384.24 2876.64,1384.24 2876.64,1344.9 2839.58,1344.9 \n",
       "  \"/>\n",
       "<path clip-path=\"url(#clip072)\" d=\"\n",
       "M2876.64 1344.9 L2876.64 1384.24 L2913.7 1384.24 L2913.7 1344.9 L2876.64 1344.9 L2876.64 1344.9  Z\n",
       "  \" fill=\"#009af9\" fill-rule=\"evenodd\" fill-opacity=\"1\"/>\n",
       "<polyline clip-path=\"url(#clip072)\" style=\"stroke:#000000; stroke-width:4; stroke-opacity:1; fill:none\" points=\"\n",
       "  2876.64,1344.9 2876.64,1384.24 2913.7,1384.24 2913.7,1344.9 2876.64,1344.9 \n",
       "  \"/>\n",
       "<path clip-path=\"url(#clip072)\" d=\"\n",
       "M2913.7 1384.24 L2913.7 1384.24 L2950.77 1384.24 L2950.77 1384.24 L2913.7 1384.24 L2913.7 1384.24  Z\n",
       "  \" fill=\"#009af9\" fill-rule=\"evenodd\" fill-opacity=\"1\"/>\n",
       "<polyline clip-path=\"url(#clip072)\" style=\"stroke:#000000; stroke-width:4; stroke-opacity:1; fill:none\" points=\"\n",
       "  2913.7,1384.24 2913.7,1384.24 2950.77,1384.24 2913.7,1384.24 \n",
       "  \"/>\n",
       "<path clip-path=\"url(#clip072)\" d=\"\n",
       "M2950.77 1384.24 L2950.77 1384.24 L2987.83 1384.24 L2987.83 1384.24 L2950.77 1384.24 L2950.77 1384.24  Z\n",
       "  \" fill=\"#009af9\" fill-rule=\"evenodd\" fill-opacity=\"1\"/>\n",
       "<polyline clip-path=\"url(#clip072)\" style=\"stroke:#000000; stroke-width:4; stroke-opacity:1; fill:none\" points=\"\n",
       "  2950.77,1384.24 2950.77,1384.24 2987.83,1384.24 2950.77,1384.24 \n",
       "  \"/>\n",
       "<path clip-path=\"url(#clip072)\" d=\"\n",
       "M2987.83 1384.24 L2987.83 1384.24 L3024.89 1384.24 L3024.89 1384.24 L2987.83 1384.24 L2987.83 1384.24  Z\n",
       "  \" fill=\"#009af9\" fill-rule=\"evenodd\" fill-opacity=\"1\"/>\n",
       "<polyline clip-path=\"url(#clip072)\" style=\"stroke:#000000; stroke-width:4; stroke-opacity:1; fill:none\" points=\"\n",
       "  2987.83,1384.24 2987.83,1384.24 3024.89,1384.24 2987.83,1384.24 \n",
       "  \"/>\n",
       "<path clip-path=\"url(#clip072)\" d=\"\n",
       "M3024.89 1384.24 L3024.89 1384.24 L3061.95 1384.24 L3061.95 1384.24 L3024.89 1384.24 L3024.89 1384.24  Z\n",
       "  \" fill=\"#009af9\" fill-rule=\"evenodd\" fill-opacity=\"1\"/>\n",
       "<polyline clip-path=\"url(#clip072)\" style=\"stroke:#000000; stroke-width:4; stroke-opacity:1; fill:none\" points=\"\n",
       "  3024.89,1384.24 3024.89,1384.24 3061.95,1384.24 3024.89,1384.24 \n",
       "  \"/>\n",
       "<path clip-path=\"url(#clip072)\" d=\"\n",
       "M3061.95 1384.24 L3061.95 1384.24 L3099.01 1384.24 L3099.01 1384.24 L3061.95 1384.24 L3061.95 1384.24  Z\n",
       "  \" fill=\"#009af9\" fill-rule=\"evenodd\" fill-opacity=\"1\"/>\n",
       "<polyline clip-path=\"url(#clip072)\" style=\"stroke:#000000; stroke-width:4; stroke-opacity:1; fill:none\" points=\"\n",
       "  3061.95,1384.24 3061.95,1384.24 3099.01,1384.24 3061.95,1384.24 \n",
       "  \"/>\n",
       "<path clip-path=\"url(#clip072)\" d=\"\n",
       "M3099.01 1384.24 L3099.01 1384.24 L3136.07 1384.24 L3136.07 1384.24 L3099.01 1384.24 L3099.01 1384.24  Z\n",
       "  \" fill=\"#009af9\" fill-rule=\"evenodd\" fill-opacity=\"1\"/>\n",
       "<polyline clip-path=\"url(#clip072)\" style=\"stroke:#000000; stroke-width:4; stroke-opacity:1; fill:none\" points=\"\n",
       "  3099.01,1384.24 3099.01,1384.24 3136.07,1384.24 3099.01,1384.24 \n",
       "  \"/>\n",
       "<path clip-path=\"url(#clip072)\" d=\"\n",
       "M3136.07 1384.24 L3136.07 1384.24 L3173.13 1384.24 L3173.13 1384.24 L3136.07 1384.24 L3136.07 1384.24  Z\n",
       "  \" fill=\"#009af9\" fill-rule=\"evenodd\" fill-opacity=\"1\"/>\n",
       "<polyline clip-path=\"url(#clip072)\" style=\"stroke:#000000; stroke-width:4; stroke-opacity:1; fill:none\" points=\"\n",
       "  3136.07,1384.24 3136.07,1384.24 3173.13,1384.24 3136.07,1384.24 \n",
       "  \"/>\n",
       "<path clip-path=\"url(#clip072)\" d=\"\n",
       "M3173.13 1384.24 L3173.13 1384.24 L3210.19 1384.24 L3210.19 1384.24 L3173.13 1384.24 L3173.13 1384.24  Z\n",
       "  \" fill=\"#009af9\" fill-rule=\"evenodd\" fill-opacity=\"1\"/>\n",
       "<polyline clip-path=\"url(#clip072)\" style=\"stroke:#000000; stroke-width:4; stroke-opacity:1; fill:none\" points=\"\n",
       "  3173.13,1384.24 3173.13,1384.24 3210.19,1384.24 3173.13,1384.24 \n",
       "  \"/>\n",
       "<path clip-path=\"url(#clip072)\" d=\"\n",
       "M3210.19 1384.24 L3210.19 1384.24 L3247.25 1384.24 L3247.25 1384.24 L3210.19 1384.24 L3210.19 1384.24  Z\n",
       "  \" fill=\"#009af9\" fill-rule=\"evenodd\" fill-opacity=\"1\"/>\n",
       "<polyline clip-path=\"url(#clip072)\" style=\"stroke:#000000; stroke-width:4; stroke-opacity:1; fill:none\" points=\"\n",
       "  3210.19,1384.24 3210.19,1384.24 3247.25,1384.24 3210.19,1384.24 \n",
       "  \"/>\n",
       "<path clip-path=\"url(#clip072)\" d=\"\n",
       "M3247.25 1384.24 L3247.25 1384.24 L3284.31 1384.24 L3284.31 1384.24 L3247.25 1384.24 L3247.25 1384.24  Z\n",
       "  \" fill=\"#009af9\" fill-rule=\"evenodd\" fill-opacity=\"1\"/>\n",
       "<polyline clip-path=\"url(#clip072)\" style=\"stroke:#000000; stroke-width:4; stroke-opacity:1; fill:none\" points=\"\n",
       "  3247.25,1384.24 3247.25,1384.24 3284.31,1384.24 3247.25,1384.24 \n",
       "  \"/>\n",
       "<path clip-path=\"url(#clip072)\" d=\"\n",
       "M3284.31 1384.24 L3284.31 1384.24 L3321.37 1384.24 L3321.37 1384.24 L3284.31 1384.24 L3284.31 1384.24  Z\n",
       "  \" fill=\"#009af9\" fill-rule=\"evenodd\" fill-opacity=\"1\"/>\n",
       "<polyline clip-path=\"url(#clip072)\" style=\"stroke:#000000; stroke-width:4; stroke-opacity:1; fill:none\" points=\"\n",
       "  3284.31,1384.24 3284.31,1384.24 3321.37,1384.24 3284.31,1384.24 \n",
       "  \"/>\n",
       "<path clip-path=\"url(#clip072)\" d=\"\n",
       "M3321.37 1384.24 L3321.37 1384.24 L3358.43 1384.24 L3358.43 1384.24 L3321.37 1384.24 L3321.37 1384.24  Z\n",
       "  \" fill=\"#009af9\" fill-rule=\"evenodd\" fill-opacity=\"1\"/>\n",
       "<polyline clip-path=\"url(#clip072)\" style=\"stroke:#000000; stroke-width:4; stroke-opacity:1; fill:none\" points=\"\n",
       "  3321.37,1384.24 3321.37,1384.24 3358.43,1384.24 3321.37,1384.24 \n",
       "  \"/>\n",
       "<path clip-path=\"url(#clip072)\" d=\"\n",
       "M3358.43 1384.24 L3358.43 1384.24 L3395.49 1384.24 L3395.49 1384.24 L3358.43 1384.24 L3358.43 1384.24  Z\n",
       "  \" fill=\"#009af9\" fill-rule=\"evenodd\" fill-opacity=\"1\"/>\n",
       "<polyline clip-path=\"url(#clip072)\" style=\"stroke:#000000; stroke-width:4; stroke-opacity:1; fill:none\" points=\"\n",
       "  3358.43,1384.24 3358.43,1384.24 3395.49,1384.24 3358.43,1384.24 \n",
       "  \"/>\n",
       "<path clip-path=\"url(#clip072)\" d=\"\n",
       "M3395.49 1384.24 L3395.49 1384.24 L3432.55 1384.24 L3432.55 1384.24 L3395.49 1384.24 L3395.49 1384.24  Z\n",
       "  \" fill=\"#009af9\" fill-rule=\"evenodd\" fill-opacity=\"1\"/>\n",
       "<polyline clip-path=\"url(#clip072)\" style=\"stroke:#000000; stroke-width:4; stroke-opacity:1; fill:none\" points=\"\n",
       "  3395.49,1384.24 3395.49,1384.24 3432.55,1384.24 3395.49,1384.24 \n",
       "  \"/>\n",
       "<path clip-path=\"url(#clip072)\" d=\"\n",
       "M3432.55 1384.24 L3432.55 1384.24 L3469.61 1384.24 L3469.61 1384.24 L3432.55 1384.24 L3432.55 1384.24  Z\n",
       "  \" fill=\"#009af9\" fill-rule=\"evenodd\" fill-opacity=\"1\"/>\n",
       "<polyline clip-path=\"url(#clip072)\" style=\"stroke:#000000; stroke-width:4; stroke-opacity:1; fill:none\" points=\"\n",
       "  3432.55,1384.24 3432.55,1384.24 3469.61,1384.24 3432.55,1384.24 \n",
       "  \"/>\n",
       "<path clip-path=\"url(#clip072)\" d=\"\n",
       "M3469.61 1384.24 L3469.61 1384.24 L3506.67 1384.24 L3506.67 1384.24 L3469.61 1384.24 L3469.61 1384.24  Z\n",
       "  \" fill=\"#009af9\" fill-rule=\"evenodd\" fill-opacity=\"1\"/>\n",
       "<polyline clip-path=\"url(#clip072)\" style=\"stroke:#000000; stroke-width:4; stroke-opacity:1; fill:none\" points=\"\n",
       "  3469.61,1384.24 3469.61,1384.24 3506.67,1384.24 3469.61,1384.24 \n",
       "  \"/>\n",
       "<path clip-path=\"url(#clip072)\" d=\"\n",
       "M3506.67 1384.24 L3506.67 1384.24 L3543.74 1384.24 L3543.74 1384.24 L3506.67 1384.24 L3506.67 1384.24  Z\n",
       "  \" fill=\"#009af9\" fill-rule=\"evenodd\" fill-opacity=\"1\"/>\n",
       "<polyline clip-path=\"url(#clip072)\" style=\"stroke:#000000; stroke-width:4; stroke-opacity:1; fill:none\" points=\"\n",
       "  3506.67,1384.24 3506.67,1384.24 3543.74,1384.24 3506.67,1384.24 \n",
       "  \"/>\n",
       "<path clip-path=\"url(#clip072)\" d=\"\n",
       "M3543.74 1344.9 L3543.74 1384.24 L3580.8 1384.24 L3580.8 1344.9 L3543.74 1344.9 L3543.74 1344.9  Z\n",
       "  \" fill=\"#009af9\" fill-rule=\"evenodd\" fill-opacity=\"1\"/>\n",
       "<polyline clip-path=\"url(#clip072)\" style=\"stroke:#000000; stroke-width:4; stroke-opacity:1; fill:none\" points=\"\n",
       "  3543.74,1344.9 3543.74,1384.24 3580.8,1384.24 3580.8,1344.9 3543.74,1344.9 \n",
       "  \"/>\n",
       "<path clip-path=\"url(#clip072)\" d=\"\n",
       "M3580.8 1344.9 L3580.8 1384.24 L3617.86 1384.24 L3617.86 1344.9 L3580.8 1344.9 L3580.8 1344.9  Z\n",
       "  \" fill=\"#009af9\" fill-rule=\"evenodd\" fill-opacity=\"1\"/>\n",
       "<polyline clip-path=\"url(#clip072)\" style=\"stroke:#000000; stroke-width:4; stroke-opacity:1; fill:none\" points=\"\n",
       "  3580.8,1344.9 3580.8,1384.24 3617.86,1384.24 3617.86,1344.9 3580.8,1344.9 \n",
       "  \"/>\n",
       "<path clip-path=\"url(#clip072)\" d=\"\n",
       "M3617.86 1344.9 L3617.86 1384.24 L3654.92 1384.24 L3654.92 1344.9 L3617.86 1344.9 L3617.86 1344.9  Z\n",
       "  \" fill=\"#009af9\" fill-rule=\"evenodd\" fill-opacity=\"1\"/>\n",
       "<polyline clip-path=\"url(#clip072)\" style=\"stroke:#000000; stroke-width:4; stroke-opacity:1; fill:none\" points=\"\n",
       "  3617.86,1344.9 3617.86,1384.24 3654.92,1384.24 3654.92,1344.9 3617.86,1344.9 \n",
       "  \"/>\n",
       "<path clip-path=\"url(#clip072)\" d=\"\n",
       "M3654.92 1384.24 L3654.92 1384.24 L3691.98 1384.24 L3691.98 1384.24 L3654.92 1384.24 L3654.92 1384.24  Z\n",
       "  \" fill=\"#009af9\" fill-rule=\"evenodd\" fill-opacity=\"1\"/>\n",
       "<polyline clip-path=\"url(#clip072)\" style=\"stroke:#000000; stroke-width:4; stroke-opacity:1; fill:none\" points=\"\n",
       "  3654.92,1384.24 3654.92,1384.24 3691.98,1384.24 3654.92,1384.24 \n",
       "  \"/>\n",
       "<path clip-path=\"url(#clip072)\" d=\"\n",
       "M3691.98 1384.24 L3691.98 1384.24 L3729.04 1384.24 L3729.04 1384.24 L3691.98 1384.24 L3691.98 1384.24  Z\n",
       "  \" fill=\"#009af9\" fill-rule=\"evenodd\" fill-opacity=\"1\"/>\n",
       "<polyline clip-path=\"url(#clip072)\" style=\"stroke:#000000; stroke-width:4; stroke-opacity:1; fill:none\" points=\"\n",
       "  3691.98,1384.24 3691.98,1384.24 3729.04,1384.24 3691.98,1384.24 \n",
       "  \"/>\n",
       "<path clip-path=\"url(#clip072)\" d=\"\n",
       "M3729.04 1384.24 L3729.04 1384.24 L3766.1 1384.24 L3766.1 1384.24 L3729.04 1384.24 L3729.04 1384.24  Z\n",
       "  \" fill=\"#009af9\" fill-rule=\"evenodd\" fill-opacity=\"1\"/>\n",
       "<polyline clip-path=\"url(#clip072)\" style=\"stroke:#000000; stroke-width:4; stroke-opacity:1; fill:none\" points=\"\n",
       "  3729.04,1384.24 3729.04,1384.24 3766.1,1384.24 3729.04,1384.24 \n",
       "  \"/>\n",
       "<path clip-path=\"url(#clip072)\" d=\"\n",
       "M3766.1 1384.24 L3766.1 1384.24 L3803.16 1384.24 L3803.16 1384.24 L3766.1 1384.24 L3766.1 1384.24  Z\n",
       "  \" fill=\"#009af9\" fill-rule=\"evenodd\" fill-opacity=\"1\"/>\n",
       "<polyline clip-path=\"url(#clip072)\" style=\"stroke:#000000; stroke-width:4; stroke-opacity:1; fill:none\" points=\"\n",
       "  3766.1,1384.24 3766.1,1384.24 3803.16,1384.24 3766.1,1384.24 \n",
       "  \"/>\n",
       "<path clip-path=\"url(#clip072)\" d=\"\n",
       "M3803.16 1384.24 L3803.16 1384.24 L3840.22 1384.24 L3840.22 1384.24 L3803.16 1384.24 L3803.16 1384.24  Z\n",
       "  \" fill=\"#009af9\" fill-rule=\"evenodd\" fill-opacity=\"1\"/>\n",
       "<polyline clip-path=\"url(#clip072)\" style=\"stroke:#000000; stroke-width:4; stroke-opacity:1; fill:none\" points=\"\n",
       "  3803.16,1384.24 3803.16,1384.24 3840.22,1384.24 3803.16,1384.24 \n",
       "  \"/>\n",
       "<path clip-path=\"url(#clip072)\" d=\"\n",
       "M3840.22 1384.24 L3840.22 1384.24 L3877.28 1384.24 L3877.28 1384.24 L3840.22 1384.24 L3840.22 1384.24  Z\n",
       "  \" fill=\"#009af9\" fill-rule=\"evenodd\" fill-opacity=\"1\"/>\n",
       "<polyline clip-path=\"url(#clip072)\" style=\"stroke:#000000; stroke-width:4; stroke-opacity:1; fill:none\" points=\"\n",
       "  3840.22,1384.24 3840.22,1384.24 3877.28,1384.24 3840.22,1384.24 \n",
       "  \"/>\n",
       "<path clip-path=\"url(#clip072)\" d=\"\n",
       "M3877.28 1384.24 L3877.28 1384.24 L3914.34 1384.24 L3914.34 1384.24 L3877.28 1384.24 L3877.28 1384.24  Z\n",
       "  \" fill=\"#009af9\" fill-rule=\"evenodd\" fill-opacity=\"1\"/>\n",
       "<polyline clip-path=\"url(#clip072)\" style=\"stroke:#000000; stroke-width:4; stroke-opacity:1; fill:none\" points=\"\n",
       "  3877.28,1384.24 3877.28,1384.24 3914.34,1384.24 3877.28,1384.24 \n",
       "  \"/>\n",
       "<path clip-path=\"url(#clip072)\" d=\"\n",
       "M3914.34 1384.24 L3914.34 1384.24 L3951.4 1384.24 L3951.4 1384.24 L3914.34 1384.24 L3914.34 1384.24  Z\n",
       "  \" fill=\"#009af9\" fill-rule=\"evenodd\" fill-opacity=\"1\"/>\n",
       "<polyline clip-path=\"url(#clip072)\" style=\"stroke:#000000; stroke-width:4; stroke-opacity:1; fill:none\" points=\"\n",
       "  3914.34,1384.24 3914.34,1384.24 3951.4,1384.24 3914.34,1384.24 \n",
       "  \"/>\n",
       "<path clip-path=\"url(#clip072)\" d=\"\n",
       "M3951.4 1384.24 L3951.4 1384.24 L3988.46 1384.24 L3988.46 1384.24 L3951.4 1384.24 L3951.4 1384.24  Z\n",
       "  \" fill=\"#009af9\" fill-rule=\"evenodd\" fill-opacity=\"1\"/>\n",
       "<polyline clip-path=\"url(#clip072)\" style=\"stroke:#000000; stroke-width:4; stroke-opacity:1; fill:none\" points=\"\n",
       "  3951.4,1384.24 3951.4,1384.24 3988.46,1384.24 3951.4,1384.24 \n",
       "  \"/>\n",
       "<path clip-path=\"url(#clip072)\" d=\"\n",
       "M3988.46 1384.24 L3988.46 1384.24 L4025.52 1384.24 L4025.52 1384.24 L3988.46 1384.24 L3988.46 1384.24  Z\n",
       "  \" fill=\"#009af9\" fill-rule=\"evenodd\" fill-opacity=\"1\"/>\n",
       "<polyline clip-path=\"url(#clip072)\" style=\"stroke:#000000; stroke-width:4; stroke-opacity:1; fill:none\" points=\"\n",
       "  3988.46,1384.24 3988.46,1384.24 4025.52,1384.24 3988.46,1384.24 \n",
       "  \"/>\n",
       "<path clip-path=\"url(#clip072)\" d=\"\n",
       "M4025.52 1384.24 L4025.52 1384.24 L4062.58 1384.24 L4062.58 1384.24 L4025.52 1384.24 L4025.52 1384.24  Z\n",
       "  \" fill=\"#009af9\" fill-rule=\"evenodd\" fill-opacity=\"1\"/>\n",
       "<polyline clip-path=\"url(#clip072)\" style=\"stroke:#000000; stroke-width:4; stroke-opacity:1; fill:none\" points=\"\n",
       "  4025.52,1384.24 4025.52,1384.24 4062.58,1384.24 4025.52,1384.24 \n",
       "  \"/>\n",
       "<path clip-path=\"url(#clip072)\" d=\"\n",
       "M4062.58 1384.24 L4062.58 1384.24 L4099.64 1384.24 L4099.64 1384.24 L4062.58 1384.24 L4062.58 1384.24  Z\n",
       "  \" fill=\"#009af9\" fill-rule=\"evenodd\" fill-opacity=\"1\"/>\n",
       "<polyline clip-path=\"url(#clip072)\" style=\"stroke:#000000; stroke-width:4; stroke-opacity:1; fill:none\" points=\"\n",
       "  4062.58,1384.24 4062.58,1384.24 4099.64,1384.24 4062.58,1384.24 \n",
       "  \"/>\n",
       "<path clip-path=\"url(#clip072)\" d=\"\n",
       "M4099.64 1384.24 L4099.64 1384.24 L4136.71 1384.24 L4136.71 1384.24 L4099.64 1384.24 L4099.64 1384.24  Z\n",
       "  \" fill=\"#009af9\" fill-rule=\"evenodd\" fill-opacity=\"1\"/>\n",
       "<polyline clip-path=\"url(#clip072)\" style=\"stroke:#000000; stroke-width:4; stroke-opacity:1; fill:none\" points=\"\n",
       "  4099.64,1384.24 4099.64,1384.24 4136.71,1384.24 4099.64,1384.24 \n",
       "  \"/>\n",
       "<path clip-path=\"url(#clip072)\" d=\"\n",
       "M4136.71 1384.24 L4136.71 1384.24 L4173.77 1384.24 L4173.77 1384.24 L4136.71 1384.24 L4136.71 1384.24  Z\n",
       "  \" fill=\"#009af9\" fill-rule=\"evenodd\" fill-opacity=\"1\"/>\n",
       "<polyline clip-path=\"url(#clip072)\" style=\"stroke:#000000; stroke-width:4; stroke-opacity:1; fill:none\" points=\"\n",
       "  4136.71,1384.24 4136.71,1384.24 4173.77,1384.24 4136.71,1384.24 \n",
       "  \"/>\n",
       "<path clip-path=\"url(#clip072)\" d=\"\n",
       "M4173.77 1384.24 L4173.77 1384.24 L4210.83 1384.24 L4210.83 1384.24 L4173.77 1384.24 L4173.77 1384.24  Z\n",
       "  \" fill=\"#009af9\" fill-rule=\"evenodd\" fill-opacity=\"1\"/>\n",
       "<polyline clip-path=\"url(#clip072)\" style=\"stroke:#000000; stroke-width:4; stroke-opacity:1; fill:none\" points=\"\n",
       "  4173.77,1384.24 4173.77,1384.24 4210.83,1384.24 4173.77,1384.24 \n",
       "  \"/>\n",
       "<path clip-path=\"url(#clip072)\" d=\"\n",
       "M4210.83 1384.24 L4210.83 1384.24 L4247.89 1384.24 L4247.89 1384.24 L4210.83 1384.24 L4210.83 1384.24  Z\n",
       "  \" fill=\"#009af9\" fill-rule=\"evenodd\" fill-opacity=\"1\"/>\n",
       "<polyline clip-path=\"url(#clip072)\" style=\"stroke:#000000; stroke-width:4; stroke-opacity:1; fill:none\" points=\"\n",
       "  4210.83,1384.24 4210.83,1384.24 4247.89,1384.24 4210.83,1384.24 \n",
       "  \"/>\n",
       "<path clip-path=\"url(#clip072)\" d=\"\n",
       "M4247.89 1384.24 L4247.89 1384.24 L4284.95 1384.24 L4284.95 1384.24 L4247.89 1384.24 L4247.89 1384.24  Z\n",
       "  \" fill=\"#009af9\" fill-rule=\"evenodd\" fill-opacity=\"1\"/>\n",
       "<polyline clip-path=\"url(#clip072)\" style=\"stroke:#000000; stroke-width:4; stroke-opacity:1; fill:none\" points=\"\n",
       "  4247.89,1384.24 4247.89,1384.24 4284.95,1384.24 4247.89,1384.24 \n",
       "  \"/>\n",
       "<path clip-path=\"url(#clip072)\" d=\"\n",
       "M4284.95 1384.24 L4284.95 1384.24 L4322.01 1384.24 L4322.01 1384.24 L4284.95 1384.24 L4284.95 1384.24  Z\n",
       "  \" fill=\"#009af9\" fill-rule=\"evenodd\" fill-opacity=\"1\"/>\n",
       "<polyline clip-path=\"url(#clip072)\" style=\"stroke:#000000; stroke-width:4; stroke-opacity:1; fill:none\" points=\"\n",
       "  4284.95,1384.24 4284.95,1384.24 4322.01,1384.24 4284.95,1384.24 \n",
       "  \"/>\n",
       "<path clip-path=\"url(#clip072)\" d=\"\n",
       "M4322.01 1384.24 L4322.01 1384.24 L4359.07 1384.24 L4359.07 1384.24 L4322.01 1384.24 L4322.01 1384.24  Z\n",
       "  \" fill=\"#009af9\" fill-rule=\"evenodd\" fill-opacity=\"1\"/>\n",
       "<polyline clip-path=\"url(#clip072)\" style=\"stroke:#000000; stroke-width:4; stroke-opacity:1; fill:none\" points=\"\n",
       "  4322.01,1384.24 4322.01,1384.24 4359.07,1384.24 4322.01,1384.24 \n",
       "  \"/>\n",
       "<path clip-path=\"url(#clip072)\" d=\"\n",
       "M4359.07 1384.24 L4359.07 1384.24 L4396.13 1384.24 L4396.13 1384.24 L4359.07 1384.24 L4359.07 1384.24  Z\n",
       "  \" fill=\"#009af9\" fill-rule=\"evenodd\" fill-opacity=\"1\"/>\n",
       "<polyline clip-path=\"url(#clip072)\" style=\"stroke:#000000; stroke-width:4; stroke-opacity:1; fill:none\" points=\"\n",
       "  4359.07,1384.24 4359.07,1384.24 4396.13,1384.24 4359.07,1384.24 \n",
       "  \"/>\n",
       "<path clip-path=\"url(#clip072)\" d=\"\n",
       "M4396.13 1384.24 L4396.13 1384.24 L4433.19 1384.24 L4433.19 1384.24 L4396.13 1384.24 L4396.13 1384.24  Z\n",
       "  \" fill=\"#009af9\" fill-rule=\"evenodd\" fill-opacity=\"1\"/>\n",
       "<polyline clip-path=\"url(#clip072)\" style=\"stroke:#000000; stroke-width:4; stroke-opacity:1; fill:none\" points=\"\n",
       "  4396.13,1384.24 4396.13,1384.24 4433.19,1384.24 4396.13,1384.24 \n",
       "  \"/>\n",
       "<path clip-path=\"url(#clip072)\" d=\"\n",
       "M4433.19 1384.24 L4433.19 1384.24 L4470.25 1384.24 L4470.25 1384.24 L4433.19 1384.24 L4433.19 1384.24  Z\n",
       "  \" fill=\"#009af9\" fill-rule=\"evenodd\" fill-opacity=\"1\"/>\n",
       "<polyline clip-path=\"url(#clip072)\" style=\"stroke:#000000; stroke-width:4; stroke-opacity:1; fill:none\" points=\"\n",
       "  4433.19,1384.24 4433.19,1384.24 4470.25,1384.24 4433.19,1384.24 \n",
       "  \"/>\n",
       "<path clip-path=\"url(#clip072)\" d=\"\n",
       "M4470.25 1384.24 L4470.25 1384.24 L4507.31 1384.24 L4507.31 1384.24 L4470.25 1384.24 L4470.25 1384.24  Z\n",
       "  \" fill=\"#009af9\" fill-rule=\"evenodd\" fill-opacity=\"1\"/>\n",
       "<polyline clip-path=\"url(#clip072)\" style=\"stroke:#000000; stroke-width:4; stroke-opacity:1; fill:none\" points=\"\n",
       "  4470.25,1384.24 4470.25,1384.24 4507.31,1384.24 4470.25,1384.24 \n",
       "  \"/>\n",
       "<path clip-path=\"url(#clip072)\" d=\"\n",
       "M4507.31 1384.24 L4507.31 1384.24 L4544.37 1384.24 L4544.37 1384.24 L4507.31 1384.24 L4507.31 1384.24  Z\n",
       "  \" fill=\"#009af9\" fill-rule=\"evenodd\" fill-opacity=\"1\"/>\n",
       "<polyline clip-path=\"url(#clip072)\" style=\"stroke:#000000; stroke-width:4; stroke-opacity:1; fill:none\" points=\"\n",
       "  4507.31,1384.24 4507.31,1384.24 4544.37,1384.24 4507.31,1384.24 \n",
       "  \"/>\n",
       "<path clip-path=\"url(#clip072)\" d=\"\n",
       "M4544.37 1384.24 L4544.37 1384.24 L4581.43 1384.24 L4581.43 1384.24 L4544.37 1384.24 L4544.37 1384.24  Z\n",
       "  \" fill=\"#009af9\" fill-rule=\"evenodd\" fill-opacity=\"1\"/>\n",
       "<polyline clip-path=\"url(#clip072)\" style=\"stroke:#000000; stroke-width:4; stroke-opacity:1; fill:none\" points=\"\n",
       "  4544.37,1384.24 4544.37,1384.24 4581.43,1384.24 4544.37,1384.24 \n",
       "  \"/>\n",
       "<path clip-path=\"url(#clip072)\" d=\"\n",
       "M4581.43 1384.24 L4581.43 1384.24 L4618.49 1384.24 L4618.49 1384.24 L4581.43 1384.24 L4581.43 1384.24  Z\n",
       "  \" fill=\"#009af9\" fill-rule=\"evenodd\" fill-opacity=\"1\"/>\n",
       "<polyline clip-path=\"url(#clip072)\" style=\"stroke:#000000; stroke-width:4; stroke-opacity:1; fill:none\" points=\"\n",
       "  4581.43,1384.24 4581.43,1384.24 4618.49,1384.24 4581.43,1384.24 \n",
       "  \"/>\n",
       "<path clip-path=\"url(#clip072)\" d=\"\n",
       "M4618.49 1384.24 L4618.49 1384.24 L4655.55 1384.24 L4655.55 1384.24 L4618.49 1384.24 L4618.49 1384.24  Z\n",
       "  \" fill=\"#009af9\" fill-rule=\"evenodd\" fill-opacity=\"1\"/>\n",
       "<polyline clip-path=\"url(#clip072)\" style=\"stroke:#000000; stroke-width:4; stroke-opacity:1; fill:none\" points=\"\n",
       "  4618.49,1384.24 4618.49,1384.24 4655.55,1384.24 4618.49,1384.24 \n",
       "  \"/>\n",
       "<path clip-path=\"url(#clip072)\" d=\"\n",
       "M4655.55 1384.24 L4655.55 1384.24 L4692.61 1384.24 L4692.61 1384.24 L4655.55 1384.24 L4655.55 1384.24  Z\n",
       "  \" fill=\"#009af9\" fill-rule=\"evenodd\" fill-opacity=\"1\"/>\n",
       "<polyline clip-path=\"url(#clip072)\" style=\"stroke:#000000; stroke-width:4; stroke-opacity:1; fill:none\" points=\"\n",
       "  4655.55,1384.24 4655.55,1384.24 4692.61,1384.24 4655.55,1384.24 \n",
       "  \"/>\n",
       "<path clip-path=\"url(#clip072)\" d=\"\n",
       "M4692.61 1384.24 L4692.61 1384.24 L4729.68 1384.24 L4729.68 1384.24 L4692.61 1384.24 L4692.61 1384.24  Z\n",
       "  \" fill=\"#009af9\" fill-rule=\"evenodd\" fill-opacity=\"1\"/>\n",
       "<polyline clip-path=\"url(#clip072)\" style=\"stroke:#000000; stroke-width:4; stroke-opacity:1; fill:none\" points=\"\n",
       "  4692.61,1384.24 4692.61,1384.24 4729.68,1384.24 4692.61,1384.24 \n",
       "  \"/>\n",
       "<path clip-path=\"url(#clip072)\" d=\"\n",
       "M4729.68 1384.24 L4729.68 1384.24 L4766.74 1384.24 L4766.74 1384.24 L4729.68 1384.24 L4729.68 1384.24  Z\n",
       "  \" fill=\"#009af9\" fill-rule=\"evenodd\" fill-opacity=\"1\"/>\n",
       "<polyline clip-path=\"url(#clip072)\" style=\"stroke:#000000; stroke-width:4; stroke-opacity:1; fill:none\" points=\"\n",
       "  4729.68,1384.24 4729.68,1384.24 4766.74,1384.24 4729.68,1384.24 \n",
       "  \"/>\n",
       "<path clip-path=\"url(#clip072)\" d=\"\n",
       "M4766.74 1384.24 L4766.74 1384.24 L4803.8 1384.24 L4803.8 1384.24 L4766.74 1384.24 L4766.74 1384.24  Z\n",
       "  \" fill=\"#009af9\" fill-rule=\"evenodd\" fill-opacity=\"1\"/>\n",
       "<polyline clip-path=\"url(#clip072)\" style=\"stroke:#000000; stroke-width:4; stroke-opacity:1; fill:none\" points=\"\n",
       "  4766.74,1384.24 4766.74,1384.24 4803.8,1384.24 4766.74,1384.24 \n",
       "  \"/>\n",
       "<path clip-path=\"url(#clip072)\" d=\"\n",
       "M4803.8 1384.24 L4803.8 1384.24 L4840.86 1384.24 L4840.86 1384.24 L4803.8 1384.24 L4803.8 1384.24  Z\n",
       "  \" fill=\"#009af9\" fill-rule=\"evenodd\" fill-opacity=\"1\"/>\n",
       "<polyline clip-path=\"url(#clip072)\" style=\"stroke:#000000; stroke-width:4; stroke-opacity:1; fill:none\" points=\"\n",
       "  4803.8,1384.24 4803.8,1384.24 4840.86,1384.24 4803.8,1384.24 \n",
       "  \"/>\n",
       "<path clip-path=\"url(#clip072)\" d=\"\n",
       "M4840.86 1384.24 L4840.86 1384.24 L4877.92 1384.24 L4877.92 1384.24 L4840.86 1384.24 L4840.86 1384.24  Z\n",
       "  \" fill=\"#009af9\" fill-rule=\"evenodd\" fill-opacity=\"1\"/>\n",
       "<polyline clip-path=\"url(#clip072)\" style=\"stroke:#000000; stroke-width:4; stroke-opacity:1; fill:none\" points=\"\n",
       "  4840.86,1384.24 4840.86,1384.24 4877.92,1384.24 4840.86,1384.24 \n",
       "  \"/>\n",
       "<path clip-path=\"url(#clip072)\" d=\"\n",
       "M4877.92 1384.24 L4877.92 1384.24 L4914.98 1384.24 L4914.98 1384.24 L4877.92 1384.24 L4877.92 1384.24  Z\n",
       "  \" fill=\"#009af9\" fill-rule=\"evenodd\" fill-opacity=\"1\"/>\n",
       "<polyline clip-path=\"url(#clip072)\" style=\"stroke:#000000; stroke-width:4; stroke-opacity:1; fill:none\" points=\"\n",
       "  4877.92,1384.24 4877.92,1384.24 4914.98,1384.24 4877.92,1384.24 \n",
       "  \"/>\n",
       "<path clip-path=\"url(#clip072)\" d=\"\n",
       "M4914.98 1384.24 L4914.98 1384.24 L4952.04 1384.24 L4952.04 1384.24 L4914.98 1384.24 L4914.98 1384.24  Z\n",
       "  \" fill=\"#009af9\" fill-rule=\"evenodd\" fill-opacity=\"1\"/>\n",
       "<polyline clip-path=\"url(#clip072)\" style=\"stroke:#000000; stroke-width:4; stroke-opacity:1; fill:none\" points=\"\n",
       "  4914.98,1384.24 4914.98,1384.24 4952.04,1384.24 4914.98,1384.24 \n",
       "  \"/>\n",
       "<path clip-path=\"url(#clip072)\" d=\"\n",
       "M4952.04 1384.24 L4952.04 1384.24 L4989.1 1384.24 L4989.1 1384.24 L4952.04 1384.24 L4952.04 1384.24  Z\n",
       "  \" fill=\"#009af9\" fill-rule=\"evenodd\" fill-opacity=\"1\"/>\n",
       "<polyline clip-path=\"url(#clip072)\" style=\"stroke:#000000; stroke-width:4; stroke-opacity:1; fill:none\" points=\"\n",
       "  4952.04,1384.24 4952.04,1384.24 4989.1,1384.24 4952.04,1384.24 \n",
       "  \"/>\n",
       "<path clip-path=\"url(#clip072)\" d=\"\n",
       "M4989.1 1384.24 L4989.1 1384.24 L5026.16 1384.24 L5026.16 1384.24 L4989.1 1384.24 L4989.1 1384.24  Z\n",
       "  \" fill=\"#009af9\" fill-rule=\"evenodd\" fill-opacity=\"1\"/>\n",
       "<polyline clip-path=\"url(#clip072)\" style=\"stroke:#000000; stroke-width:4; stroke-opacity:1; fill:none\" points=\"\n",
       "  4989.1,1384.24 4989.1,1384.24 5026.16,1384.24 4989.1,1384.24 \n",
       "  \"/>\n",
       "<path clip-path=\"url(#clip072)\" d=\"\n",
       "M5026.16 1384.24 L5026.16 1384.24 L5063.22 1384.24 L5063.22 1384.24 L5026.16 1384.24 L5026.16 1384.24  Z\n",
       "  \" fill=\"#009af9\" fill-rule=\"evenodd\" fill-opacity=\"1\"/>\n",
       "<polyline clip-path=\"url(#clip072)\" style=\"stroke:#000000; stroke-width:4; stroke-opacity:1; fill:none\" points=\"\n",
       "  5026.16,1384.24 5026.16,1384.24 5063.22,1384.24 5026.16,1384.24 \n",
       "  \"/>\n",
       "<path clip-path=\"url(#clip072)\" d=\"\n",
       "M5063.22 1384.24 L5063.22 1384.24 L5100.28 1384.24 L5100.28 1384.24 L5063.22 1384.24 L5063.22 1384.24  Z\n",
       "  \" fill=\"#009af9\" fill-rule=\"evenodd\" fill-opacity=\"1\"/>\n",
       "<polyline clip-path=\"url(#clip072)\" style=\"stroke:#000000; stroke-width:4; stroke-opacity:1; fill:none\" points=\"\n",
       "  5063.22,1384.24 5063.22,1384.24 5100.28,1384.24 5063.22,1384.24 \n",
       "  \"/>\n",
       "<path clip-path=\"url(#clip072)\" d=\"\n",
       "M5100.28 1384.24 L5100.28 1384.24 L5137.34 1384.24 L5137.34 1384.24 L5100.28 1384.24 L5100.28 1384.24  Z\n",
       "  \" fill=\"#009af9\" fill-rule=\"evenodd\" fill-opacity=\"1\"/>\n",
       "<polyline clip-path=\"url(#clip072)\" style=\"stroke:#000000; stroke-width:4; stroke-opacity:1; fill:none\" points=\"\n",
       "  5100.28,1384.24 5100.28,1384.24 5137.34,1384.24 5100.28,1384.24 \n",
       "  \"/>\n",
       "<path clip-path=\"url(#clip072)\" d=\"\n",
       "M5137.34 1384.24 L5137.34 1384.24 L5174.4 1384.24 L5174.4 1384.24 L5137.34 1384.24 L5137.34 1384.24  Z\n",
       "  \" fill=\"#009af9\" fill-rule=\"evenodd\" fill-opacity=\"1\"/>\n",
       "<polyline clip-path=\"url(#clip072)\" style=\"stroke:#000000; stroke-width:4; stroke-opacity:1; fill:none\" points=\"\n",
       "  5137.34,1384.24 5137.34,1384.24 5174.4,1384.24 5137.34,1384.24 \n",
       "  \"/>\n",
       "<path clip-path=\"url(#clip072)\" d=\"\n",
       "M5174.4 1384.24 L5174.4 1384.24 L5211.46 1384.24 L5211.46 1384.24 L5174.4 1384.24 L5174.4 1384.24  Z\n",
       "  \" fill=\"#009af9\" fill-rule=\"evenodd\" fill-opacity=\"1\"/>\n",
       "<polyline clip-path=\"url(#clip072)\" style=\"stroke:#000000; stroke-width:4; stroke-opacity:1; fill:none\" points=\"\n",
       "  5174.4,1384.24 5174.4,1384.24 5211.46,1384.24 5174.4,1384.24 \n",
       "  \"/>\n",
       "<path clip-path=\"url(#clip072)\" d=\"\n",
       "M5211.46 1384.24 L5211.46 1384.24 L5248.52 1384.24 L5248.52 1384.24 L5211.46 1384.24 L5211.46 1384.24  Z\n",
       "  \" fill=\"#009af9\" fill-rule=\"evenodd\" fill-opacity=\"1\"/>\n",
       "<polyline clip-path=\"url(#clip072)\" style=\"stroke:#000000; stroke-width:4; stroke-opacity:1; fill:none\" points=\"\n",
       "  5211.46,1384.24 5211.46,1384.24 5248.52,1384.24 5211.46,1384.24 \n",
       "  \"/>\n",
       "<path clip-path=\"url(#clip072)\" d=\"\n",
       "M5248.52 1384.24 L5248.52 1384.24 L5285.59 1384.24 L5285.59 1384.24 L5248.52 1384.24 L5248.52 1384.24  Z\n",
       "  \" fill=\"#009af9\" fill-rule=\"evenodd\" fill-opacity=\"1\"/>\n",
       "<polyline clip-path=\"url(#clip072)\" style=\"stroke:#000000; stroke-width:4; stroke-opacity:1; fill:none\" points=\"\n",
       "  5248.52,1384.24 5248.52,1384.24 5285.59,1384.24 5248.52,1384.24 \n",
       "  \"/>\n",
       "<path clip-path=\"url(#clip072)\" d=\"\n",
       "M5285.59 1384.24 L5285.59 1384.24 L5322.65 1384.24 L5322.65 1384.24 L5285.59 1384.24 L5285.59 1384.24  Z\n",
       "  \" fill=\"#009af9\" fill-rule=\"evenodd\" fill-opacity=\"1\"/>\n",
       "<polyline clip-path=\"url(#clip072)\" style=\"stroke:#000000; stroke-width:4; stroke-opacity:1; fill:none\" points=\"\n",
       "  5285.59,1384.24 5285.59,1384.24 5322.65,1384.24 5285.59,1384.24 \n",
       "  \"/>\n",
       "<path clip-path=\"url(#clip072)\" d=\"\n",
       "M5322.65 1384.24 L5322.65 1384.24 L5359.71 1384.24 L5359.71 1384.24 L5322.65 1384.24 L5322.65 1384.24  Z\n",
       "  \" fill=\"#009af9\" fill-rule=\"evenodd\" fill-opacity=\"1\"/>\n",
       "<polyline clip-path=\"url(#clip072)\" style=\"stroke:#000000; stroke-width:4; stroke-opacity:1; fill:none\" points=\"\n",
       "  5322.65,1384.24 5322.65,1384.24 5359.71,1384.24 5322.65,1384.24 \n",
       "  \"/>\n",
       "<path clip-path=\"url(#clip072)\" d=\"\n",
       "M5359.71 1384.24 L5359.71 1384.24 L5396.77 1384.24 L5396.77 1384.24 L5359.71 1384.24 L5359.71 1384.24  Z\n",
       "  \" fill=\"#009af9\" fill-rule=\"evenodd\" fill-opacity=\"1\"/>\n",
       "<polyline clip-path=\"url(#clip072)\" style=\"stroke:#000000; stroke-width:4; stroke-opacity:1; fill:none\" points=\"\n",
       "  5359.71,1384.24 5359.71,1384.24 5396.77,1384.24 5359.71,1384.24 \n",
       "  \"/>\n",
       "<path clip-path=\"url(#clip072)\" d=\"\n",
       "M5396.77 1384.24 L5396.77 1384.24 L5433.83 1384.24 L5433.83 1384.24 L5396.77 1384.24 L5396.77 1384.24  Z\n",
       "  \" fill=\"#009af9\" fill-rule=\"evenodd\" fill-opacity=\"1\"/>\n",
       "<polyline clip-path=\"url(#clip072)\" style=\"stroke:#000000; stroke-width:4; stroke-opacity:1; fill:none\" points=\"\n",
       "  5396.77,1384.24 5396.77,1384.24 5433.83,1384.24 5396.77,1384.24 \n",
       "  \"/>\n",
       "<path clip-path=\"url(#clip072)\" d=\"\n",
       "M5433.83 1384.24 L5433.83 1384.24 L5470.89 1384.24 L5470.89 1384.24 L5433.83 1384.24 L5433.83 1384.24  Z\n",
       "  \" fill=\"#009af9\" fill-rule=\"evenodd\" fill-opacity=\"1\"/>\n",
       "<polyline clip-path=\"url(#clip072)\" style=\"stroke:#000000; stroke-width:4; stroke-opacity:1; fill:none\" points=\"\n",
       "  5433.83,1384.24 5433.83,1384.24 5470.89,1384.24 5433.83,1384.24 \n",
       "  \"/>\n",
       "<path clip-path=\"url(#clip072)\" d=\"\n",
       "M5470.89 1384.24 L5470.89 1384.24 L5507.95 1384.24 L5507.95 1384.24 L5470.89 1384.24 L5470.89 1384.24  Z\n",
       "  \" fill=\"#009af9\" fill-rule=\"evenodd\" fill-opacity=\"1\"/>\n",
       "<polyline clip-path=\"url(#clip072)\" style=\"stroke:#000000; stroke-width:4; stroke-opacity:1; fill:none\" points=\"\n",
       "  5470.89,1384.24 5470.89,1384.24 5507.95,1384.24 5470.89,1384.24 \n",
       "  \"/>\n",
       "<path clip-path=\"url(#clip072)\" d=\"\n",
       "M5507.95 1384.24 L5507.95 1384.24 L5545.01 1384.24 L5545.01 1384.24 L5507.95 1384.24 L5507.95 1384.24  Z\n",
       "  \" fill=\"#009af9\" fill-rule=\"evenodd\" fill-opacity=\"1\"/>\n",
       "<polyline clip-path=\"url(#clip072)\" style=\"stroke:#000000; stroke-width:4; stroke-opacity:1; fill:none\" points=\"\n",
       "  5507.95,1384.24 5507.95,1384.24 5545.01,1384.24 5507.95,1384.24 \n",
       "  \"/>\n",
       "<path clip-path=\"url(#clip072)\" d=\"\n",
       "M5545.01 1384.24 L5545.01 1384.24 L5582.07 1384.24 L5582.07 1384.24 L5545.01 1384.24 L5545.01 1384.24  Z\n",
       "  \" fill=\"#009af9\" fill-rule=\"evenodd\" fill-opacity=\"1\"/>\n",
       "<polyline clip-path=\"url(#clip072)\" style=\"stroke:#000000; stroke-width:4; stroke-opacity:1; fill:none\" points=\"\n",
       "  5545.01,1384.24 5545.01,1384.24 5582.07,1384.24 5545.01,1384.24 \n",
       "  \"/>\n",
       "<path clip-path=\"url(#clip072)\" d=\"\n",
       "M5582.07 1344.9 L5582.07 1384.24 L5619.13 1384.24 L5619.13 1344.9 L5582.07 1344.9 L5582.07 1344.9  Z\n",
       "  \" fill=\"#009af9\" fill-rule=\"evenodd\" fill-opacity=\"1\"/>\n",
       "<polyline clip-path=\"url(#clip072)\" style=\"stroke:#000000; stroke-width:4; stroke-opacity:1; fill:none\" points=\"\n",
       "  5582.07,1344.9 5582.07,1384.24 5619.13,1384.24 5619.13,1344.9 5582.07,1344.9 \n",
       "  \"/>\n",
       "<path clip-path=\"url(#clip072)\" d=\"\n",
       "M5619.13 1384.24 L5619.13 1384.24 L5656.19 1384.24 L5656.19 1384.24 L5619.13 1384.24 L5619.13 1384.24  Z\n",
       "  \" fill=\"#009af9\" fill-rule=\"evenodd\" fill-opacity=\"1\"/>\n",
       "<polyline clip-path=\"url(#clip072)\" style=\"stroke:#000000; stroke-width:4; stroke-opacity:1; fill:none\" points=\"\n",
       "  5619.13,1384.24 5619.13,1384.24 5656.19,1384.24 5619.13,1384.24 \n",
       "  \"/>\n",
       "<path clip-path=\"url(#clip072)\" d=\"\n",
       "M5656.19 1384.24 L5656.19 1384.24 L5693.25 1384.24 L5693.25 1384.24 L5656.19 1384.24 L5656.19 1384.24  Z\n",
       "  \" fill=\"#009af9\" fill-rule=\"evenodd\" fill-opacity=\"1\"/>\n",
       "<polyline clip-path=\"url(#clip072)\" style=\"stroke:#000000; stroke-width:4; stroke-opacity:1; fill:none\" points=\"\n",
       "  5656.19,1384.24 5656.19,1384.24 5693.25,1384.24 5656.19,1384.24 \n",
       "  \"/>\n",
       "<path clip-path=\"url(#clip072)\" d=\"\n",
       "M5693.25 1384.24 L5693.25 1384.24 L5730.31 1384.24 L5730.31 1384.24 L5693.25 1384.24 L5693.25 1384.24  Z\n",
       "  \" fill=\"#009af9\" fill-rule=\"evenodd\" fill-opacity=\"1\"/>\n",
       "<polyline clip-path=\"url(#clip072)\" style=\"stroke:#000000; stroke-width:4; stroke-opacity:1; fill:none\" points=\"\n",
       "  5693.25,1384.24 5693.25,1384.24 5730.31,1384.24 5693.25,1384.24 \n",
       "  \"/>\n",
       "<path clip-path=\"url(#clip072)\" d=\"\n",
       "M5730.31 1384.24 L5730.31 1384.24 L5767.37 1384.24 L5767.37 1384.24 L5730.31 1384.24 L5730.31 1384.24  Z\n",
       "  \" fill=\"#009af9\" fill-rule=\"evenodd\" fill-opacity=\"1\"/>\n",
       "<polyline clip-path=\"url(#clip072)\" style=\"stroke:#000000; stroke-width:4; stroke-opacity:1; fill:none\" points=\"\n",
       "  5730.31,1384.24 5730.31,1384.24 5767.37,1384.24 5730.31,1384.24 \n",
       "  \"/>\n",
       "<path clip-path=\"url(#clip072)\" d=\"\n",
       "M5767.37 1344.9 L5767.37 1384.24 L5804.43 1384.24 L5804.43 1344.9 L5767.37 1344.9 L5767.37 1344.9  Z\n",
       "  \" fill=\"#009af9\" fill-rule=\"evenodd\" fill-opacity=\"1\"/>\n",
       "<polyline clip-path=\"url(#clip072)\" style=\"stroke:#000000; stroke-width:4; stroke-opacity:1; fill:none\" points=\"\n",
       "  5767.37,1344.9 5767.37,1384.24 5804.43,1384.24 5804.43,1344.9 5767.37,1344.9 \n",
       "  \"/>\n",
       "<path clip-path=\"url(#clip072)\" d=\"\n",
       "M5804.43 1384.24 L5804.43 1384.24 L5841.49 1384.24 L5841.49 1384.24 L5804.43 1384.24 L5804.43 1384.24  Z\n",
       "  \" fill=\"#009af9\" fill-rule=\"evenodd\" fill-opacity=\"1\"/>\n",
       "<polyline clip-path=\"url(#clip072)\" style=\"stroke:#000000; stroke-width:4; stroke-opacity:1; fill:none\" points=\"\n",
       "  5804.43,1384.24 5804.43,1384.24 5841.49,1384.24 5804.43,1384.24 \n",
       "  \"/>\n",
       "<path clip-path=\"url(#clip072)\" d=\"\n",
       "M5841.49 1384.24 L5841.49 1384.24 L5878.56 1384.24 L5878.56 1384.24 L5841.49 1384.24 L5841.49 1384.24  Z\n",
       "  \" fill=\"#009af9\" fill-rule=\"evenodd\" fill-opacity=\"1\"/>\n",
       "<polyline clip-path=\"url(#clip072)\" style=\"stroke:#000000; stroke-width:4; stroke-opacity:1; fill:none\" points=\"\n",
       "  5841.49,1384.24 5841.49,1384.24 5878.56,1384.24 5841.49,1384.24 \n",
       "  \"/>\n",
       "<path clip-path=\"url(#clip072)\" d=\"\n",
       "M5878.56 1384.24 L5878.56 1384.24 L5915.62 1384.24 L5915.62 1384.24 L5878.56 1384.24 L5878.56 1384.24  Z\n",
       "  \" fill=\"#009af9\" fill-rule=\"evenodd\" fill-opacity=\"1\"/>\n",
       "<polyline clip-path=\"url(#clip072)\" style=\"stroke:#000000; stroke-width:4; stroke-opacity:1; fill:none\" points=\"\n",
       "  5878.56,1384.24 5878.56,1384.24 5915.62,1384.24 5878.56,1384.24 \n",
       "  \"/>\n",
       "<path clip-path=\"url(#clip072)\" d=\"\n",
       "M5915.62 1384.24 L5915.62 1384.24 L5952.68 1384.24 L5952.68 1384.24 L5915.62 1384.24 L5915.62 1384.24  Z\n",
       "  \" fill=\"#009af9\" fill-rule=\"evenodd\" fill-opacity=\"1\"/>\n",
       "<polyline clip-path=\"url(#clip072)\" style=\"stroke:#000000; stroke-width:4; stroke-opacity:1; fill:none\" points=\"\n",
       "  5915.62,1384.24 5915.62,1384.24 5952.68,1384.24 5915.62,1384.24 \n",
       "  \"/>\n",
       "<path clip-path=\"url(#clip072)\" d=\"\n",
       "M5952.68 1384.24 L5952.68 1384.24 L5989.74 1384.24 L5989.74 1384.24 L5952.68 1384.24 L5952.68 1384.24  Z\n",
       "  \" fill=\"#009af9\" fill-rule=\"evenodd\" fill-opacity=\"1\"/>\n",
       "<polyline clip-path=\"url(#clip072)\" style=\"stroke:#000000; stroke-width:4; stroke-opacity:1; fill:none\" points=\"\n",
       "  5952.68,1384.24 5952.68,1384.24 5989.74,1384.24 5952.68,1384.24 \n",
       "  \"/>\n",
       "<path clip-path=\"url(#clip072)\" d=\"\n",
       "M5989.74 1384.24 L5989.74 1384.24 L6026.8 1384.24 L6026.8 1384.24 L5989.74 1384.24 L5989.74 1384.24  Z\n",
       "  \" fill=\"#009af9\" fill-rule=\"evenodd\" fill-opacity=\"1\"/>\n",
       "<polyline clip-path=\"url(#clip072)\" style=\"stroke:#000000; stroke-width:4; stroke-opacity:1; fill:none\" points=\"\n",
       "  5989.74,1384.24 5989.74,1384.24 6026.8,1384.24 5989.74,1384.24 \n",
       "  \"/>\n",
       "<path clip-path=\"url(#clip072)\" d=\"\n",
       "M6026.8 1384.24 L6026.8 1384.24 L6063.86 1384.24 L6063.86 1384.24 L6026.8 1384.24 L6026.8 1384.24  Z\n",
       "  \" fill=\"#009af9\" fill-rule=\"evenodd\" fill-opacity=\"1\"/>\n",
       "<polyline clip-path=\"url(#clip072)\" style=\"stroke:#000000; stroke-width:4; stroke-opacity:1; fill:none\" points=\"\n",
       "  6026.8,1384.24 6026.8,1384.24 6063.86,1384.24 6026.8,1384.24 \n",
       "  \"/>\n",
       "<path clip-path=\"url(#clip072)\" d=\"\n",
       "M6063.86 1384.24 L6063.86 1384.24 L6100.92 1384.24 L6100.92 1384.24 L6063.86 1384.24 L6063.86 1384.24  Z\n",
       "  \" fill=\"#009af9\" fill-rule=\"evenodd\" fill-opacity=\"1\"/>\n",
       "<polyline clip-path=\"url(#clip072)\" style=\"stroke:#000000; stroke-width:4; stroke-opacity:1; fill:none\" points=\"\n",
       "  6063.86,1384.24 6063.86,1384.24 6100.92,1384.24 6063.86,1384.24 \n",
       "  \"/>\n",
       "<path clip-path=\"url(#clip072)\" d=\"\n",
       "M6100.92 1384.24 L6100.92 1384.24 L6137.98 1384.24 L6137.98 1384.24 L6100.92 1384.24 L6100.92 1384.24  Z\n",
       "  \" fill=\"#009af9\" fill-rule=\"evenodd\" fill-opacity=\"1\"/>\n",
       "<polyline clip-path=\"url(#clip072)\" style=\"stroke:#000000; stroke-width:4; stroke-opacity:1; fill:none\" points=\"\n",
       "  6100.92,1384.24 6100.92,1384.24 6137.98,1384.24 6100.92,1384.24 \n",
       "  \"/>\n",
       "<path clip-path=\"url(#clip072)\" d=\"\n",
       "M6137.98 1384.24 L6137.98 1384.24 L6175.04 1384.24 L6175.04 1384.24 L6137.98 1384.24 L6137.98 1384.24  Z\n",
       "  \" fill=\"#009af9\" fill-rule=\"evenodd\" fill-opacity=\"1\"/>\n",
       "<polyline clip-path=\"url(#clip072)\" style=\"stroke:#000000; stroke-width:4; stroke-opacity:1; fill:none\" points=\"\n",
       "  6137.98,1384.24 6137.98,1384.24 6175.04,1384.24 6137.98,1384.24 \n",
       "  \"/>\n",
       "<path clip-path=\"url(#clip072)\" d=\"\n",
       "M6175.04 1384.24 L6175.04 1384.24 L6212.1 1384.24 L6212.1 1384.24 L6175.04 1384.24 L6175.04 1384.24  Z\n",
       "  \" fill=\"#009af9\" fill-rule=\"evenodd\" fill-opacity=\"1\"/>\n",
       "<polyline clip-path=\"url(#clip072)\" style=\"stroke:#000000; stroke-width:4; stroke-opacity:1; fill:none\" points=\"\n",
       "  6175.04,1384.24 6175.04,1384.24 6212.1,1384.24 6175.04,1384.24 \n",
       "  \"/>\n",
       "<path clip-path=\"url(#clip072)\" d=\"\n",
       "M6212.1 1384.24 L6212.1 1384.24 L6249.16 1384.24 L6249.16 1384.24 L6212.1 1384.24 L6212.1 1384.24  Z\n",
       "  \" fill=\"#009af9\" fill-rule=\"evenodd\" fill-opacity=\"1\"/>\n",
       "<polyline clip-path=\"url(#clip072)\" style=\"stroke:#000000; stroke-width:4; stroke-opacity:1; fill:none\" points=\"\n",
       "  6212.1,1384.24 6212.1,1384.24 6249.16,1384.24 6212.1,1384.24 \n",
       "  \"/>\n",
       "<path clip-path=\"url(#clip072)\" d=\"\n",
       "M6249.16 1384.24 L6249.16 1384.24 L6286.22 1384.24 L6286.22 1384.24 L6249.16 1384.24 L6249.16 1384.24  Z\n",
       "  \" fill=\"#009af9\" fill-rule=\"evenodd\" fill-opacity=\"1\"/>\n",
       "<polyline clip-path=\"url(#clip072)\" style=\"stroke:#000000; stroke-width:4; stroke-opacity:1; fill:none\" points=\"\n",
       "  6249.16,1384.24 6249.16,1384.24 6286.22,1384.24 6249.16,1384.24 \n",
       "  \"/>\n",
       "<path clip-path=\"url(#clip072)\" d=\"\n",
       "M6286.22 1384.24 L6286.22 1384.24 L6323.28 1384.24 L6323.28 1384.24 L6286.22 1384.24 L6286.22 1384.24  Z\n",
       "  \" fill=\"#009af9\" fill-rule=\"evenodd\" fill-opacity=\"1\"/>\n",
       "<polyline clip-path=\"url(#clip072)\" style=\"stroke:#000000; stroke-width:4; stroke-opacity:1; fill:none\" points=\"\n",
       "  6286.22,1384.24 6286.22,1384.24 6323.28,1384.24 6286.22,1384.24 \n",
       "  \"/>\n",
       "<path clip-path=\"url(#clip072)\" d=\"\n",
       "M6323.28 1384.24 L6323.28 1384.24 L6360.34 1384.24 L6360.34 1384.24 L6323.28 1384.24 L6323.28 1384.24  Z\n",
       "  \" fill=\"#009af9\" fill-rule=\"evenodd\" fill-opacity=\"1\"/>\n",
       "<polyline clip-path=\"url(#clip072)\" style=\"stroke:#000000; stroke-width:4; stroke-opacity:1; fill:none\" points=\"\n",
       "  6323.28,1384.24 6323.28,1384.24 6360.34,1384.24 6323.28,1384.24 \n",
       "  \"/>\n",
       "<path clip-path=\"url(#clip072)\" d=\"\n",
       "M6360.34 1384.24 L6360.34 1384.24 L6397.4 1384.24 L6397.4 1384.24 L6360.34 1384.24 L6360.34 1384.24  Z\n",
       "  \" fill=\"#009af9\" fill-rule=\"evenodd\" fill-opacity=\"1\"/>\n",
       "<polyline clip-path=\"url(#clip072)\" style=\"stroke:#000000; stroke-width:4; stroke-opacity:1; fill:none\" points=\"\n",
       "  6360.34,1384.24 6360.34,1384.24 6397.4,1384.24 6360.34,1384.24 \n",
       "  \"/>\n",
       "<path clip-path=\"url(#clip072)\" d=\"\n",
       "M6397.4 1384.24 L6397.4 1384.24 L6434.46 1384.24 L6434.46 1384.24 L6397.4 1384.24 L6397.4 1384.24  Z\n",
       "  \" fill=\"#009af9\" fill-rule=\"evenodd\" fill-opacity=\"1\"/>\n",
       "<polyline clip-path=\"url(#clip072)\" style=\"stroke:#000000; stroke-width:4; stroke-opacity:1; fill:none\" points=\"\n",
       "  6397.4,1384.24 6397.4,1384.24 6434.46,1384.24 6397.4,1384.24 \n",
       "  \"/>\n",
       "<path clip-path=\"url(#clip072)\" d=\"\n",
       "M6434.46 1384.24 L6434.46 1384.24 L6471.53 1384.24 L6471.53 1384.24 L6434.46 1384.24 L6434.46 1384.24  Z\n",
       "  \" fill=\"#009af9\" fill-rule=\"evenodd\" fill-opacity=\"1\"/>\n",
       "<polyline clip-path=\"url(#clip072)\" style=\"stroke:#000000; stroke-width:4; stroke-opacity:1; fill:none\" points=\"\n",
       "  6434.46,1384.24 6434.46,1384.24 6471.53,1384.24 6434.46,1384.24 \n",
       "  \"/>\n",
       "<path clip-path=\"url(#clip072)\" d=\"\n",
       "M6471.53 1384.24 L6471.53 1384.24 L6508.59 1384.24 L6508.59 1384.24 L6471.53 1384.24 L6471.53 1384.24  Z\n",
       "  \" fill=\"#009af9\" fill-rule=\"evenodd\" fill-opacity=\"1\"/>\n",
       "<polyline clip-path=\"url(#clip072)\" style=\"stroke:#000000; stroke-width:4; stroke-opacity:1; fill:none\" points=\"\n",
       "  6471.53,1384.24 6471.53,1384.24 6508.59,1384.24 6471.53,1384.24 \n",
       "  \"/>\n",
       "<path clip-path=\"url(#clip072)\" d=\"\n",
       "M6508.59 1384.24 L6508.59 1384.24 L6545.65 1384.24 L6545.65 1384.24 L6508.59 1384.24 L6508.59 1384.24  Z\n",
       "  \" fill=\"#009af9\" fill-rule=\"evenodd\" fill-opacity=\"1\"/>\n",
       "<polyline clip-path=\"url(#clip072)\" style=\"stroke:#000000; stroke-width:4; stroke-opacity:1; fill:none\" points=\"\n",
       "  6508.59,1384.24 6508.59,1384.24 6545.65,1384.24 6508.59,1384.24 \n",
       "  \"/>\n",
       "<path clip-path=\"url(#clip072)\" d=\"\n",
       "M6545.65 1384.24 L6545.65 1384.24 L6582.71 1384.24 L6582.71 1384.24 L6545.65 1384.24 L6545.65 1384.24  Z\n",
       "  \" fill=\"#009af9\" fill-rule=\"evenodd\" fill-opacity=\"1\"/>\n",
       "<polyline clip-path=\"url(#clip072)\" style=\"stroke:#000000; stroke-width:4; stroke-opacity:1; fill:none\" points=\"\n",
       "  6545.65,1384.24 6545.65,1384.24 6582.71,1384.24 6545.65,1384.24 \n",
       "  \"/>\n",
       "<path clip-path=\"url(#clip072)\" d=\"\n",
       "M6582.71 1384.24 L6582.71 1384.24 L6619.77 1384.24 L6619.77 1384.24 L6582.71 1384.24 L6582.71 1384.24  Z\n",
       "  \" fill=\"#009af9\" fill-rule=\"evenodd\" fill-opacity=\"1\"/>\n",
       "<polyline clip-path=\"url(#clip072)\" style=\"stroke:#000000; stroke-width:4; stroke-opacity:1; fill:none\" points=\"\n",
       "  6582.71,1384.24 6582.71,1384.24 6619.77,1384.24 6582.71,1384.24 \n",
       "  \"/>\n",
       "<path clip-path=\"url(#clip072)\" d=\"\n",
       "M6619.77 1384.24 L6619.77 1384.24 L6656.83 1384.24 L6656.83 1384.24 L6619.77 1384.24 L6619.77 1384.24  Z\n",
       "  \" fill=\"#009af9\" fill-rule=\"evenodd\" fill-opacity=\"1\"/>\n",
       "<polyline clip-path=\"url(#clip072)\" style=\"stroke:#000000; stroke-width:4; stroke-opacity:1; fill:none\" points=\"\n",
       "  6619.77,1384.24 6619.77,1384.24 6656.83,1384.24 6619.77,1384.24 \n",
       "  \"/>\n",
       "<path clip-path=\"url(#clip072)\" d=\"\n",
       "M6656.83 1384.24 L6656.83 1384.24 L6693.89 1384.24 L6693.89 1384.24 L6656.83 1384.24 L6656.83 1384.24  Z\n",
       "  \" fill=\"#009af9\" fill-rule=\"evenodd\" fill-opacity=\"1\"/>\n",
       "<polyline clip-path=\"url(#clip072)\" style=\"stroke:#000000; stroke-width:4; stroke-opacity:1; fill:none\" points=\"\n",
       "  6656.83,1384.24 6656.83,1384.24 6693.89,1384.24 6656.83,1384.24 \n",
       "  \"/>\n",
       "<path clip-path=\"url(#clip072)\" d=\"\n",
       "M6693.89 1384.24 L6693.89 1384.24 L6730.95 1384.24 L6730.95 1384.24 L6693.89 1384.24 L6693.89 1384.24  Z\n",
       "  \" fill=\"#009af9\" fill-rule=\"evenodd\" fill-opacity=\"1\"/>\n",
       "<polyline clip-path=\"url(#clip072)\" style=\"stroke:#000000; stroke-width:4; stroke-opacity:1; fill:none\" points=\"\n",
       "  6693.89,1384.24 6693.89,1384.24 6730.95,1384.24 6693.89,1384.24 \n",
       "  \"/>\n",
       "<path clip-path=\"url(#clip072)\" d=\"\n",
       "M6730.95 1384.24 L6730.95 1384.24 L6768.01 1384.24 L6768.01 1384.24 L6730.95 1384.24 L6730.95 1384.24  Z\n",
       "  \" fill=\"#009af9\" fill-rule=\"evenodd\" fill-opacity=\"1\"/>\n",
       "<polyline clip-path=\"url(#clip072)\" style=\"stroke:#000000; stroke-width:4; stroke-opacity:1; fill:none\" points=\"\n",
       "  6730.95,1384.24 6730.95,1384.24 6768.01,1384.24 6730.95,1384.24 \n",
       "  \"/>\n",
       "<path clip-path=\"url(#clip072)\" d=\"\n",
       "M6768.01 1384.24 L6768.01 1384.24 L6805.07 1384.24 L6805.07 1384.24 L6768.01 1384.24 L6768.01 1384.24  Z\n",
       "  \" fill=\"#009af9\" fill-rule=\"evenodd\" fill-opacity=\"1\"/>\n",
       "<polyline clip-path=\"url(#clip072)\" style=\"stroke:#000000; stroke-width:4; stroke-opacity:1; fill:none\" points=\"\n",
       "  6768.01,1384.24 6768.01,1384.24 6805.07,1384.24 6768.01,1384.24 \n",
       "  \"/>\n",
       "<path clip-path=\"url(#clip072)\" d=\"\n",
       "M6805.07 1384.24 L6805.07 1384.24 L6842.13 1384.24 L6842.13 1384.24 L6805.07 1384.24 L6805.07 1384.24  Z\n",
       "  \" fill=\"#009af9\" fill-rule=\"evenodd\" fill-opacity=\"1\"/>\n",
       "<polyline clip-path=\"url(#clip072)\" style=\"stroke:#000000; stroke-width:4; stroke-opacity:1; fill:none\" points=\"\n",
       "  6805.07,1384.24 6805.07,1384.24 6842.13,1384.24 6805.07,1384.24 \n",
       "  \"/>\n",
       "<path clip-path=\"url(#clip072)\" d=\"\n",
       "M6842.13 1384.24 L6842.13 1384.24 L6879.19 1384.24 L6879.19 1384.24 L6842.13 1384.24 L6842.13 1384.24  Z\n",
       "  \" fill=\"#009af9\" fill-rule=\"evenodd\" fill-opacity=\"1\"/>\n",
       "<polyline clip-path=\"url(#clip072)\" style=\"stroke:#000000; stroke-width:4; stroke-opacity:1; fill:none\" points=\"\n",
       "  6842.13,1384.24 6842.13,1384.24 6879.19,1384.24 6842.13,1384.24 \n",
       "  \"/>\n",
       "<path clip-path=\"url(#clip072)\" d=\"\n",
       "M6879.19 1384.24 L6879.19 1384.24 L6916.25 1384.24 L6916.25 1384.24 L6879.19 1384.24 L6879.19 1384.24  Z\n",
       "  \" fill=\"#009af9\" fill-rule=\"evenodd\" fill-opacity=\"1\"/>\n",
       "<polyline clip-path=\"url(#clip072)\" style=\"stroke:#000000; stroke-width:4; stroke-opacity:1; fill:none\" points=\"\n",
       "  6879.19,1384.24 6879.19,1384.24 6916.25,1384.24 6879.19,1384.24 \n",
       "  \"/>\n",
       "<path clip-path=\"url(#clip072)\" d=\"\n",
       "M6916.25 1384.24 L6916.25 1384.24 L6953.31 1384.24 L6953.31 1384.24 L6916.25 1384.24 L6916.25 1384.24  Z\n",
       "  \" fill=\"#009af9\" fill-rule=\"evenodd\" fill-opacity=\"1\"/>\n",
       "<polyline clip-path=\"url(#clip072)\" style=\"stroke:#000000; stroke-width:4; stroke-opacity:1; fill:none\" points=\"\n",
       "  6916.25,1384.24 6916.25,1384.24 6953.31,1384.24 6916.25,1384.24 \n",
       "  \"/>\n",
       "<path clip-path=\"url(#clip072)\" d=\"\n",
       "M6953.31 1384.24 L6953.31 1384.24 L6990.37 1384.24 L6990.37 1384.24 L6953.31 1384.24 L6953.31 1384.24  Z\n",
       "  \" fill=\"#009af9\" fill-rule=\"evenodd\" fill-opacity=\"1\"/>\n",
       "<polyline clip-path=\"url(#clip072)\" style=\"stroke:#000000; stroke-width:4; stroke-opacity:1; fill:none\" points=\"\n",
       "  6953.31,1384.24 6953.31,1384.24 6990.37,1384.24 6953.31,1384.24 \n",
       "  \"/>\n",
       "<path clip-path=\"url(#clip072)\" d=\"\n",
       "M6990.37 1384.24 L6990.37 1384.24 L7027.43 1384.24 L7027.43 1384.24 L6990.37 1384.24 L6990.37 1384.24  Z\n",
       "  \" fill=\"#009af9\" fill-rule=\"evenodd\" fill-opacity=\"1\"/>\n",
       "<polyline clip-path=\"url(#clip072)\" style=\"stroke:#000000; stroke-width:4; stroke-opacity:1; fill:none\" points=\"\n",
       "  6990.37,1384.24 6990.37,1384.24 7027.43,1384.24 6990.37,1384.24 \n",
       "  \"/>\n",
       "<path clip-path=\"url(#clip072)\" d=\"\n",
       "M7027.43 1384.24 L7027.43 1384.24 L7064.5 1384.24 L7064.5 1384.24 L7027.43 1384.24 L7027.43 1384.24  Z\n",
       "  \" fill=\"#009af9\" fill-rule=\"evenodd\" fill-opacity=\"1\"/>\n",
       "<polyline clip-path=\"url(#clip072)\" style=\"stroke:#000000; stroke-width:4; stroke-opacity:1; fill:none\" points=\"\n",
       "  7027.43,1384.24 7027.43,1384.24 7064.5,1384.24 7027.43,1384.24 \n",
       "  \"/>\n",
       "<path clip-path=\"url(#clip072)\" d=\"\n",
       "M7064.5 1384.24 L7064.5 1384.24 L7101.56 1384.24 L7101.56 1384.24 L7064.5 1384.24 L7064.5 1384.24  Z\n",
       "  \" fill=\"#009af9\" fill-rule=\"evenodd\" fill-opacity=\"1\"/>\n",
       "<polyline clip-path=\"url(#clip072)\" style=\"stroke:#000000; stroke-width:4; stroke-opacity:1; fill:none\" points=\"\n",
       "  7064.5,1384.24 7064.5,1384.24 7101.56,1384.24 7064.5,1384.24 \n",
       "  \"/>\n",
       "<path clip-path=\"url(#clip072)\" d=\"\n",
       "M7101.56 1384.24 L7101.56 1384.24 L7138.62 1384.24 L7138.62 1384.24 L7101.56 1384.24 L7101.56 1384.24  Z\n",
       "  \" fill=\"#009af9\" fill-rule=\"evenodd\" fill-opacity=\"1\"/>\n",
       "<polyline clip-path=\"url(#clip072)\" style=\"stroke:#000000; stroke-width:4; stroke-opacity:1; fill:none\" points=\"\n",
       "  7101.56,1384.24 7101.56,1384.24 7138.62,1384.24 7101.56,1384.24 \n",
       "  \"/>\n",
       "<path clip-path=\"url(#clip072)\" d=\"\n",
       "M7138.62 1384.24 L7138.62 1384.24 L7175.68 1384.24 L7175.68 1384.24 L7138.62 1384.24 L7138.62 1384.24  Z\n",
       "  \" fill=\"#009af9\" fill-rule=\"evenodd\" fill-opacity=\"1\"/>\n",
       "<polyline clip-path=\"url(#clip072)\" style=\"stroke:#000000; stroke-width:4; stroke-opacity:1; fill:none\" points=\"\n",
       "  7138.62,1384.24 7138.62,1384.24 7175.68,1384.24 7138.62,1384.24 \n",
       "  \"/>\n",
       "<path clip-path=\"url(#clip072)\" d=\"\n",
       "M7175.68 1384.24 L7175.68 1384.24 L7212.74 1384.24 L7212.74 1384.24 L7175.68 1384.24 L7175.68 1384.24  Z\n",
       "  \" fill=\"#009af9\" fill-rule=\"evenodd\" fill-opacity=\"1\"/>\n",
       "<polyline clip-path=\"url(#clip072)\" style=\"stroke:#000000; stroke-width:4; stroke-opacity:1; fill:none\" points=\"\n",
       "  7175.68,1384.24 7175.68,1384.24 7212.74,1384.24 7175.68,1384.24 \n",
       "  \"/>\n",
       "<path clip-path=\"url(#clip072)\" d=\"\n",
       "M7212.74 1384.24 L7212.74 1384.24 L7249.8 1384.24 L7249.8 1384.24 L7212.74 1384.24 L7212.74 1384.24  Z\n",
       "  \" fill=\"#009af9\" fill-rule=\"evenodd\" fill-opacity=\"1\"/>\n",
       "<polyline clip-path=\"url(#clip072)\" style=\"stroke:#000000; stroke-width:4; stroke-opacity:1; fill:none\" points=\"\n",
       "  7212.74,1384.24 7212.74,1384.24 7249.8,1384.24 7212.74,1384.24 \n",
       "  \"/>\n",
       "<path clip-path=\"url(#clip072)\" d=\"\n",
       "M7249.8 1384.24 L7249.8 1384.24 L7286.86 1384.24 L7286.86 1384.24 L7249.8 1384.24 L7249.8 1384.24  Z\n",
       "  \" fill=\"#009af9\" fill-rule=\"evenodd\" fill-opacity=\"1\"/>\n",
       "<polyline clip-path=\"url(#clip072)\" style=\"stroke:#000000; stroke-width:4; stroke-opacity:1; fill:none\" points=\"\n",
       "  7249.8,1384.24 7249.8,1384.24 7286.86,1384.24 7249.8,1384.24 \n",
       "  \"/>\n",
       "<path clip-path=\"url(#clip072)\" d=\"\n",
       "M7286.86 1384.24 L7286.86 1384.24 L7323.92 1384.24 L7323.92 1384.24 L7286.86 1384.24 L7286.86 1384.24  Z\n",
       "  \" fill=\"#009af9\" fill-rule=\"evenodd\" fill-opacity=\"1\"/>\n",
       "<polyline clip-path=\"url(#clip072)\" style=\"stroke:#000000; stroke-width:4; stroke-opacity:1; fill:none\" points=\"\n",
       "  7286.86,1384.24 7286.86,1384.24 7323.92,1384.24 7286.86,1384.24 \n",
       "  \"/>\n",
       "<path clip-path=\"url(#clip072)\" d=\"\n",
       "M7323.92 1384.24 L7323.92 1384.24 L7360.98 1384.24 L7360.98 1384.24 L7323.92 1384.24 L7323.92 1384.24  Z\n",
       "  \" fill=\"#009af9\" fill-rule=\"evenodd\" fill-opacity=\"1\"/>\n",
       "<polyline clip-path=\"url(#clip072)\" style=\"stroke:#000000; stroke-width:4; stroke-opacity:1; fill:none\" points=\"\n",
       "  7323.92,1384.24 7323.92,1384.24 7360.98,1384.24 7323.92,1384.24 \n",
       "  \"/>\n",
       "<path clip-path=\"url(#clip072)\" d=\"\n",
       "M7360.98 1384.24 L7360.98 1384.24 L7398.04 1384.24 L7398.04 1384.24 L7360.98 1384.24 L7360.98 1384.24  Z\n",
       "  \" fill=\"#009af9\" fill-rule=\"evenodd\" fill-opacity=\"1\"/>\n",
       "<polyline clip-path=\"url(#clip072)\" style=\"stroke:#000000; stroke-width:4; stroke-opacity:1; fill:none\" points=\"\n",
       "  7360.98,1384.24 7360.98,1384.24 7398.04,1384.24 7360.98,1384.24 \n",
       "  \"/>\n",
       "<path clip-path=\"url(#clip072)\" d=\"\n",
       "M7398.04 1384.24 L7398.04 1384.24 L7435.1 1384.24 L7435.1 1384.24 L7398.04 1384.24 L7398.04 1384.24  Z\n",
       "  \" fill=\"#009af9\" fill-rule=\"evenodd\" fill-opacity=\"1\"/>\n",
       "<polyline clip-path=\"url(#clip072)\" style=\"stroke:#000000; stroke-width:4; stroke-opacity:1; fill:none\" points=\"\n",
       "  7398.04,1384.24 7398.04,1384.24 7435.1,1384.24 7398.04,1384.24 \n",
       "  \"/>\n",
       "<path clip-path=\"url(#clip072)\" d=\"\n",
       "M7435.1 1384.24 L7435.1 1384.24 L7472.16 1384.24 L7472.16 1384.24 L7435.1 1384.24 L7435.1 1384.24  Z\n",
       "  \" fill=\"#009af9\" fill-rule=\"evenodd\" fill-opacity=\"1\"/>\n",
       "<polyline clip-path=\"url(#clip072)\" style=\"stroke:#000000; stroke-width:4; stroke-opacity:1; fill:none\" points=\"\n",
       "  7435.1,1384.24 7435.1,1384.24 7472.16,1384.24 7435.1,1384.24 \n",
       "  \"/>\n",
       "<path clip-path=\"url(#clip072)\" d=\"\n",
       "M7472.16 1384.24 L7472.16 1384.24 L7509.22 1384.24 L7509.22 1384.24 L7472.16 1384.24 L7472.16 1384.24  Z\n",
       "  \" fill=\"#009af9\" fill-rule=\"evenodd\" fill-opacity=\"1\"/>\n",
       "<polyline clip-path=\"url(#clip072)\" style=\"stroke:#000000; stroke-width:4; stroke-opacity:1; fill:none\" points=\"\n",
       "  7472.16,1384.24 7472.16,1384.24 7509.22,1384.24 7472.16,1384.24 \n",
       "  \"/>\n",
       "<path clip-path=\"url(#clip072)\" d=\"\n",
       "M7509.22 1384.24 L7509.22 1384.24 L7546.28 1384.24 L7546.28 1384.24 L7509.22 1384.24 L7509.22 1384.24  Z\n",
       "  \" fill=\"#009af9\" fill-rule=\"evenodd\" fill-opacity=\"1\"/>\n",
       "<polyline clip-path=\"url(#clip072)\" style=\"stroke:#000000; stroke-width:4; stroke-opacity:1; fill:none\" points=\"\n",
       "  7509.22,1384.24 7509.22,1384.24 7546.28,1384.24 7509.22,1384.24 \n",
       "  \"/>\n",
       "<path clip-path=\"url(#clip072)\" d=\"\n",
       "M7546.28 1384.24 L7546.28 1384.24 L7583.34 1384.24 L7583.34 1384.24 L7546.28 1384.24 L7546.28 1384.24  Z\n",
       "  \" fill=\"#009af9\" fill-rule=\"evenodd\" fill-opacity=\"1\"/>\n",
       "<polyline clip-path=\"url(#clip072)\" style=\"stroke:#000000; stroke-width:4; stroke-opacity:1; fill:none\" points=\"\n",
       "  7546.28,1384.24 7546.28,1384.24 7583.34,1384.24 7546.28,1384.24 \n",
       "  \"/>\n",
       "<path clip-path=\"url(#clip072)\" d=\"\n",
       "M7583.34 1384.24 L7583.34 1384.24 L7620.41 1384.24 L7620.41 1384.24 L7583.34 1384.24 L7583.34 1384.24  Z\n",
       "  \" fill=\"#009af9\" fill-rule=\"evenodd\" fill-opacity=\"1\"/>\n",
       "<polyline clip-path=\"url(#clip072)\" style=\"stroke:#000000; stroke-width:4; stroke-opacity:1; fill:none\" points=\"\n",
       "  7583.34,1384.24 7583.34,1384.24 7620.41,1384.24 7583.34,1384.24 \n",
       "  \"/>\n",
       "<path clip-path=\"url(#clip072)\" d=\"\n",
       "M7620.41 1384.24 L7620.41 1384.24 L7657.47 1384.24 L7657.47 1384.24 L7620.41 1384.24 L7620.41 1384.24  Z\n",
       "  \" fill=\"#009af9\" fill-rule=\"evenodd\" fill-opacity=\"1\"/>\n",
       "<polyline clip-path=\"url(#clip072)\" style=\"stroke:#000000; stroke-width:4; stroke-opacity:1; fill:none\" points=\"\n",
       "  7620.41,1384.24 7620.41,1384.24 7657.47,1384.24 7620.41,1384.24 \n",
       "  \"/>\n",
       "<path clip-path=\"url(#clip072)\" d=\"\n",
       "M7657.47 1384.24 L7657.47 1384.24 L7694.53 1384.24 L7694.53 1384.24 L7657.47 1384.24 L7657.47 1384.24  Z\n",
       "  \" fill=\"#009af9\" fill-rule=\"evenodd\" fill-opacity=\"1\"/>\n",
       "<polyline clip-path=\"url(#clip072)\" style=\"stroke:#000000; stroke-width:4; stroke-opacity:1; fill:none\" points=\"\n",
       "  7657.47,1384.24 7657.47,1384.24 7694.53,1384.24 7657.47,1384.24 \n",
       "  \"/>\n",
       "<path clip-path=\"url(#clip072)\" d=\"\n",
       "M7694.53 1384.24 L7694.53 1384.24 L7731.59 1384.24 L7731.59 1384.24 L7694.53 1384.24 L7694.53 1384.24  Z\n",
       "  \" fill=\"#009af9\" fill-rule=\"evenodd\" fill-opacity=\"1\"/>\n",
       "<polyline clip-path=\"url(#clip072)\" style=\"stroke:#000000; stroke-width:4; stroke-opacity:1; fill:none\" points=\"\n",
       "  7694.53,1384.24 7694.53,1384.24 7731.59,1384.24 7694.53,1384.24 \n",
       "  \"/>\n",
       "<path clip-path=\"url(#clip072)\" d=\"\n",
       "M7731.59 1384.24 L7731.59 1384.24 L7768.65 1384.24 L7768.65 1384.24 L7731.59 1384.24 L7731.59 1384.24  Z\n",
       "  \" fill=\"#009af9\" fill-rule=\"evenodd\" fill-opacity=\"1\"/>\n",
       "<polyline clip-path=\"url(#clip072)\" style=\"stroke:#000000; stroke-width:4; stroke-opacity:1; fill:none\" points=\"\n",
       "  7731.59,1384.24 7731.59,1384.24 7768.65,1384.24 7731.59,1384.24 \n",
       "  \"/>\n",
       "<path clip-path=\"url(#clip072)\" d=\"\n",
       "M7768.65 1384.24 L7768.65 1384.24 L7805.71 1384.24 L7805.71 1384.24 L7768.65 1384.24 L7768.65 1384.24  Z\n",
       "  \" fill=\"#009af9\" fill-rule=\"evenodd\" fill-opacity=\"1\"/>\n",
       "<polyline clip-path=\"url(#clip072)\" style=\"stroke:#000000; stroke-width:4; stroke-opacity:1; fill:none\" points=\"\n",
       "  7768.65,1384.24 7768.65,1384.24 7805.71,1384.24 7768.65,1384.24 \n",
       "  \"/>\n",
       "<path clip-path=\"url(#clip072)\" d=\"\n",
       "M7805.71 1384.24 L7805.71 1384.24 L7842.77 1384.24 L7842.77 1384.24 L7805.71 1384.24 L7805.71 1384.24  Z\n",
       "  \" fill=\"#009af9\" fill-rule=\"evenodd\" fill-opacity=\"1\"/>\n",
       "<polyline clip-path=\"url(#clip072)\" style=\"stroke:#000000; stroke-width:4; stroke-opacity:1; fill:none\" points=\"\n",
       "  7805.71,1384.24 7805.71,1384.24 7842.77,1384.24 7805.71,1384.24 \n",
       "  \"/>\n",
       "<path clip-path=\"url(#clip072)\" d=\"\n",
       "M7842.77 1384.24 L7842.77 1384.24 L7879.83 1384.24 L7879.83 1384.24 L7842.77 1384.24 L7842.77 1384.24  Z\n",
       "  \" fill=\"#009af9\" fill-rule=\"evenodd\" fill-opacity=\"1\"/>\n",
       "<polyline clip-path=\"url(#clip072)\" style=\"stroke:#000000; stroke-width:4; stroke-opacity:1; fill:none\" points=\"\n",
       "  7842.77,1384.24 7842.77,1384.24 7879.83,1384.24 7842.77,1384.24 \n",
       "  \"/>\n",
       "<path clip-path=\"url(#clip072)\" d=\"\n",
       "M7879.83 1384.24 L7879.83 1384.24 L7916.89 1384.24 L7916.89 1384.24 L7879.83 1384.24 L7879.83 1384.24  Z\n",
       "  \" fill=\"#009af9\" fill-rule=\"evenodd\" fill-opacity=\"1\"/>\n",
       "<polyline clip-path=\"url(#clip072)\" style=\"stroke:#000000; stroke-width:4; stroke-opacity:1; fill:none\" points=\"\n",
       "  7879.83,1384.24 7879.83,1384.24 7916.89,1384.24 7879.83,1384.24 \n",
       "  \"/>\n",
       "<path clip-path=\"url(#clip072)\" d=\"\n",
       "M7916.89 1384.24 L7916.89 1384.24 L7953.95 1384.24 L7953.95 1384.24 L7916.89 1384.24 L7916.89 1384.24  Z\n",
       "  \" fill=\"#009af9\" fill-rule=\"evenodd\" fill-opacity=\"1\"/>\n",
       "<polyline clip-path=\"url(#clip072)\" style=\"stroke:#000000; stroke-width:4; stroke-opacity:1; fill:none\" points=\"\n",
       "  7916.89,1384.24 7916.89,1384.24 7953.95,1384.24 7916.89,1384.24 \n",
       "  \"/>\n",
       "<path clip-path=\"url(#clip072)\" d=\"\n",
       "M7953.95 1384.24 L7953.95 1384.24 L7991.01 1384.24 L7991.01 1384.24 L7953.95 1384.24 L7953.95 1384.24  Z\n",
       "  \" fill=\"#009af9\" fill-rule=\"evenodd\" fill-opacity=\"1\"/>\n",
       "<polyline clip-path=\"url(#clip072)\" style=\"stroke:#000000; stroke-width:4; stroke-opacity:1; fill:none\" points=\"\n",
       "  7953.95,1384.24 7953.95,1384.24 7991.01,1384.24 7953.95,1384.24 \n",
       "  \"/>\n",
       "<path clip-path=\"url(#clip072)\" d=\"\n",
       "M7991.01 1384.24 L7991.01 1384.24 L8028.07 1384.24 L8028.07 1384.24 L7991.01 1384.24 L7991.01 1384.24  Z\n",
       "  \" fill=\"#009af9\" fill-rule=\"evenodd\" fill-opacity=\"1\"/>\n",
       "<polyline clip-path=\"url(#clip072)\" style=\"stroke:#000000; stroke-width:4; stroke-opacity:1; fill:none\" points=\"\n",
       "  7991.01,1384.24 7991.01,1384.24 8028.07,1384.24 7991.01,1384.24 \n",
       "  \"/>\n",
       "<path clip-path=\"url(#clip072)\" d=\"\n",
       "M8028.07 1384.24 L8028.07 1384.24 L8065.13 1384.24 L8065.13 1384.24 L8028.07 1384.24 L8028.07 1384.24  Z\n",
       "  \" fill=\"#009af9\" fill-rule=\"evenodd\" fill-opacity=\"1\"/>\n",
       "<polyline clip-path=\"url(#clip072)\" style=\"stroke:#000000; stroke-width:4; stroke-opacity:1; fill:none\" points=\"\n",
       "  8028.07,1384.24 8028.07,1384.24 8065.13,1384.24 8028.07,1384.24 \n",
       "  \"/>\n",
       "<path clip-path=\"url(#clip072)\" d=\"\n",
       "M8065.13 1384.24 L8065.13 1384.24 L8102.19 1384.24 L8102.19 1384.24 L8065.13 1384.24 L8065.13 1384.24  Z\n",
       "  \" fill=\"#009af9\" fill-rule=\"evenodd\" fill-opacity=\"1\"/>\n",
       "<polyline clip-path=\"url(#clip072)\" style=\"stroke:#000000; stroke-width:4; stroke-opacity:1; fill:none\" points=\"\n",
       "  8065.13,1384.24 8065.13,1384.24 8102.19,1384.24 8065.13,1384.24 \n",
       "  \"/>\n",
       "<path clip-path=\"url(#clip072)\" d=\"\n",
       "M8102.19 1384.24 L8102.19 1384.24 L8139.25 1384.24 L8139.25 1384.24 L8102.19 1384.24 L8102.19 1384.24  Z\n",
       "  \" fill=\"#009af9\" fill-rule=\"evenodd\" fill-opacity=\"1\"/>\n",
       "<polyline clip-path=\"url(#clip072)\" style=\"stroke:#000000; stroke-width:4; stroke-opacity:1; fill:none\" points=\"\n",
       "  8102.19,1384.24 8102.19,1384.24 8139.25,1384.24 8102.19,1384.24 \n",
       "  \"/>\n",
       "<path clip-path=\"url(#clip072)\" d=\"\n",
       "M8139.25 1384.24 L8139.25 1384.24 L8176.31 1384.24 L8176.31 1384.24 L8139.25 1384.24 L8139.25 1384.24  Z\n",
       "  \" fill=\"#009af9\" fill-rule=\"evenodd\" fill-opacity=\"1\"/>\n",
       "<polyline clip-path=\"url(#clip072)\" style=\"stroke:#000000; stroke-width:4; stroke-opacity:1; fill:none\" points=\"\n",
       "  8139.25,1384.24 8139.25,1384.24 8176.31,1384.24 8139.25,1384.24 \n",
       "  \"/>\n",
       "<path clip-path=\"url(#clip072)\" d=\"\n",
       "M8176.31 1384.24 L8176.31 1384.24 L8213.38 1384.24 L8213.38 1384.24 L8176.31 1384.24 L8176.31 1384.24  Z\n",
       "  \" fill=\"#009af9\" fill-rule=\"evenodd\" fill-opacity=\"1\"/>\n",
       "<polyline clip-path=\"url(#clip072)\" style=\"stroke:#000000; stroke-width:4; stroke-opacity:1; fill:none\" points=\"\n",
       "  8176.31,1384.24 8176.31,1384.24 8213.38,1384.24 8176.31,1384.24 \n",
       "  \"/>\n",
       "<path clip-path=\"url(#clip072)\" d=\"\n",
       "M8213.38 1384.24 L8213.38 1384.24 L8250.44 1384.24 L8250.44 1384.24 L8213.38 1384.24 L8213.38 1384.24  Z\n",
       "  \" fill=\"#009af9\" fill-rule=\"evenodd\" fill-opacity=\"1\"/>\n",
       "<polyline clip-path=\"url(#clip072)\" style=\"stroke:#000000; stroke-width:4; stroke-opacity:1; fill:none\" points=\"\n",
       "  8213.38,1384.24 8213.38,1384.24 8250.44,1384.24 8213.38,1384.24 \n",
       "  \"/>\n",
       "<path clip-path=\"url(#clip072)\" d=\"\n",
       "M8250.44 1384.24 L8250.44 1384.24 L8287.5 1384.24 L8287.5 1384.24 L8250.44 1384.24 L8250.44 1384.24  Z\n",
       "  \" fill=\"#009af9\" fill-rule=\"evenodd\" fill-opacity=\"1\"/>\n",
       "<polyline clip-path=\"url(#clip072)\" style=\"stroke:#000000; stroke-width:4; stroke-opacity:1; fill:none\" points=\"\n",
       "  8250.44,1384.24 8250.44,1384.24 8287.5,1384.24 8250.44,1384.24 \n",
       "  \"/>\n",
       "<path clip-path=\"url(#clip072)\" d=\"\n",
       "M8287.5 1384.24 L8287.5 1384.24 L8324.56 1384.24 L8324.56 1384.24 L8287.5 1384.24 L8287.5 1384.24  Z\n",
       "  \" fill=\"#009af9\" fill-rule=\"evenodd\" fill-opacity=\"1\"/>\n",
       "<polyline clip-path=\"url(#clip072)\" style=\"stroke:#000000; stroke-width:4; stroke-opacity:1; fill:none\" points=\"\n",
       "  8287.5,1384.24 8287.5,1384.24 8324.56,1384.24 8287.5,1384.24 \n",
       "  \"/>\n",
       "<path clip-path=\"url(#clip072)\" d=\"\n",
       "M8324.56 1384.24 L8324.56 1384.24 L8361.62 1384.24 L8361.62 1384.24 L8324.56 1384.24 L8324.56 1384.24  Z\n",
       "  \" fill=\"#009af9\" fill-rule=\"evenodd\" fill-opacity=\"1\"/>\n",
       "<polyline clip-path=\"url(#clip072)\" style=\"stroke:#000000; stroke-width:4; stroke-opacity:1; fill:none\" points=\"\n",
       "  8324.56,1384.24 8324.56,1384.24 8361.62,1384.24 8324.56,1384.24 \n",
       "  \"/>\n",
       "<path clip-path=\"url(#clip072)\" d=\"\n",
       "M8361.62 1384.24 L8361.62 1384.24 L8398.68 1384.24 L8398.68 1384.24 L8361.62 1384.24 L8361.62 1384.24  Z\n",
       "  \" fill=\"#009af9\" fill-rule=\"evenodd\" fill-opacity=\"1\"/>\n",
       "<polyline clip-path=\"url(#clip072)\" style=\"stroke:#000000; stroke-width:4; stroke-opacity:1; fill:none\" points=\"\n",
       "  8361.62,1384.24 8361.62,1384.24 8398.68,1384.24 8361.62,1384.24 \n",
       "  \"/>\n",
       "<path clip-path=\"url(#clip072)\" d=\"\n",
       "M8398.68 1384.24 L8398.68 1384.24 L8435.74 1384.24 L8435.74 1384.24 L8398.68 1384.24 L8398.68 1384.24  Z\n",
       "  \" fill=\"#009af9\" fill-rule=\"evenodd\" fill-opacity=\"1\"/>\n",
       "<polyline clip-path=\"url(#clip072)\" style=\"stroke:#000000; stroke-width:4; stroke-opacity:1; fill:none\" points=\"\n",
       "  8398.68,1384.24 8398.68,1384.24 8435.74,1384.24 8398.68,1384.24 \n",
       "  \"/>\n",
       "<path clip-path=\"url(#clip072)\" d=\"\n",
       "M8435.74 1384.24 L8435.74 1384.24 L8472.8 1384.24 L8472.8 1384.24 L8435.74 1384.24 L8435.74 1384.24  Z\n",
       "  \" fill=\"#009af9\" fill-rule=\"evenodd\" fill-opacity=\"1\"/>\n",
       "<polyline clip-path=\"url(#clip072)\" style=\"stroke:#000000; stroke-width:4; stroke-opacity:1; fill:none\" points=\"\n",
       "  8435.74,1384.24 8435.74,1384.24 8472.8,1384.24 8435.74,1384.24 \n",
       "  \"/>\n",
       "<path clip-path=\"url(#clip072)\" d=\"\n",
       "M8472.8 1384.24 L8472.8 1384.24 L8509.86 1384.24 L8509.86 1384.24 L8472.8 1384.24 L8472.8 1384.24  Z\n",
       "  \" fill=\"#009af9\" fill-rule=\"evenodd\" fill-opacity=\"1\"/>\n",
       "<polyline clip-path=\"url(#clip072)\" style=\"stroke:#000000; stroke-width:4; stroke-opacity:1; fill:none\" points=\"\n",
       "  8472.8,1384.24 8472.8,1384.24 8509.86,1384.24 8472.8,1384.24 \n",
       "  \"/>\n",
       "<path clip-path=\"url(#clip072)\" d=\"\n",
       "M8509.86 1384.24 L8509.86 1384.24 L8546.92 1384.24 L8546.92 1384.24 L8509.86 1384.24 L8509.86 1384.24  Z\n",
       "  \" fill=\"#009af9\" fill-rule=\"evenodd\" fill-opacity=\"1\"/>\n",
       "<polyline clip-path=\"url(#clip072)\" style=\"stroke:#000000; stroke-width:4; stroke-opacity:1; fill:none\" points=\"\n",
       "  8509.86,1384.24 8509.86,1384.24 8546.92,1384.24 8509.86,1384.24 \n",
       "  \"/>\n",
       "<path clip-path=\"url(#clip072)\" d=\"\n",
       "M8546.92 1384.24 L8546.92 1384.24 L8583.98 1384.24 L8583.98 1384.24 L8546.92 1384.24 L8546.92 1384.24  Z\n",
       "  \" fill=\"#009af9\" fill-rule=\"evenodd\" fill-opacity=\"1\"/>\n",
       "<polyline clip-path=\"url(#clip072)\" style=\"stroke:#000000; stroke-width:4; stroke-opacity:1; fill:none\" points=\"\n",
       "  8546.92,1384.24 8546.92,1384.24 8583.98,1384.24 8546.92,1384.24 \n",
       "  \"/>\n",
       "<path clip-path=\"url(#clip072)\" d=\"\n",
       "M8583.98 1384.24 L8583.98 1384.24 L8621.04 1384.24 L8621.04 1384.24 L8583.98 1384.24 L8583.98 1384.24  Z\n",
       "  \" fill=\"#009af9\" fill-rule=\"evenodd\" fill-opacity=\"1\"/>\n",
       "<polyline clip-path=\"url(#clip072)\" style=\"stroke:#000000; stroke-width:4; stroke-opacity:1; fill:none\" points=\"\n",
       "  8583.98,1384.24 8583.98,1384.24 8621.04,1384.24 8583.98,1384.24 \n",
       "  \"/>\n",
       "<path clip-path=\"url(#clip072)\" d=\"\n",
       "M8621.04 1384.24 L8621.04 1384.24 L8658.1 1384.24 L8658.1 1384.24 L8621.04 1384.24 L8621.04 1384.24  Z\n",
       "  \" fill=\"#009af9\" fill-rule=\"evenodd\" fill-opacity=\"1\"/>\n",
       "<polyline clip-path=\"url(#clip072)\" style=\"stroke:#000000; stroke-width:4; stroke-opacity:1; fill:none\" points=\"\n",
       "  8621.04,1384.24 8621.04,1384.24 8658.1,1384.24 8621.04,1384.24 \n",
       "  \"/>\n",
       "<path clip-path=\"url(#clip072)\" d=\"\n",
       "M8658.1 1344.9 L8658.1 1384.24 L8695.16 1384.24 L8695.16 1344.9 L8658.1 1344.9 L8658.1 1344.9  Z\n",
       "  \" fill=\"#009af9\" fill-rule=\"evenodd\" fill-opacity=\"1\"/>\n",
       "<polyline clip-path=\"url(#clip072)\" style=\"stroke:#000000; stroke-width:4; stroke-opacity:1; fill:none\" points=\"\n",
       "  8658.1,1344.9 8658.1,1384.24 8695.16,1384.24 8695.16,1344.9 8658.1,1344.9 \n",
       "  \"/>\n",
       "<path clip-path=\"url(#clip072)\" d=\"\n",
       "M8695.16 1384.24 L8695.16 1384.24 L8732.22 1384.24 L8732.22 1384.24 L8695.16 1384.24 L8695.16 1384.24  Z\n",
       "  \" fill=\"#009af9\" fill-rule=\"evenodd\" fill-opacity=\"1\"/>\n",
       "<polyline clip-path=\"url(#clip072)\" style=\"stroke:#000000; stroke-width:4; stroke-opacity:1; fill:none\" points=\"\n",
       "  8695.16,1384.24 8695.16,1384.24 8732.22,1384.24 8695.16,1384.24 \n",
       "  \"/>\n",
       "<path clip-path=\"url(#clip072)\" d=\"\n",
       "M8732.22 1384.24 L8732.22 1384.24 L8769.28 1384.24 L8769.28 1384.24 L8732.22 1384.24 L8732.22 1384.24  Z\n",
       "  \" fill=\"#009af9\" fill-rule=\"evenodd\" fill-opacity=\"1\"/>\n",
       "<polyline clip-path=\"url(#clip072)\" style=\"stroke:#000000; stroke-width:4; stroke-opacity:1; fill:none\" points=\"\n",
       "  8732.22,1384.24 8732.22,1384.24 8769.28,1384.24 8732.22,1384.24 \n",
       "  \"/>\n",
       "<path clip-path=\"url(#clip072)\" d=\"\n",
       "M8769.28 1384.24 L8769.28 1384.24 L8806.35 1384.24 L8806.35 1384.24 L8769.28 1384.24 L8769.28 1384.24  Z\n",
       "  \" fill=\"#009af9\" fill-rule=\"evenodd\" fill-opacity=\"1\"/>\n",
       "<polyline clip-path=\"url(#clip072)\" style=\"stroke:#000000; stroke-width:4; stroke-opacity:1; fill:none\" points=\"\n",
       "  8769.28,1384.24 8769.28,1384.24 8806.35,1384.24 8769.28,1384.24 \n",
       "  \"/>\n",
       "<path clip-path=\"url(#clip072)\" d=\"\n",
       "M8806.35 1344.9 L8806.35 1384.24 L8843.41 1384.24 L8843.41 1344.9 L8806.35 1344.9 L8806.35 1344.9  Z\n",
       "  \" fill=\"#009af9\" fill-rule=\"evenodd\" fill-opacity=\"1\"/>\n",
       "<polyline clip-path=\"url(#clip072)\" style=\"stroke:#000000; stroke-width:4; stroke-opacity:1; fill:none\" points=\"\n",
       "  8806.35,1344.9 8806.35,1384.24 8843.41,1384.24 8843.41,1344.9 8806.35,1344.9 \n",
       "  \"/>\n",
       "<path clip-path=\"url(#clip072)\" d=\"\n",
       "M8843.41 1384.24 L8843.41 1384.24 L8880.47 1384.24 L8880.47 1384.24 L8843.41 1384.24 L8843.41 1384.24  Z\n",
       "  \" fill=\"#009af9\" fill-rule=\"evenodd\" fill-opacity=\"1\"/>\n",
       "<polyline clip-path=\"url(#clip072)\" style=\"stroke:#000000; stroke-width:4; stroke-opacity:1; fill:none\" points=\"\n",
       "  8843.41,1384.24 8843.41,1384.24 8880.47,1384.24 8843.41,1384.24 \n",
       "  \"/>\n",
       "<path clip-path=\"url(#clip072)\" d=\"\n",
       "M8880.47 1384.24 L8880.47 1384.24 L8917.53 1384.24 L8917.53 1384.24 L8880.47 1384.24 L8880.47 1384.24  Z\n",
       "  \" fill=\"#009af9\" fill-rule=\"evenodd\" fill-opacity=\"1\"/>\n",
       "<polyline clip-path=\"url(#clip072)\" style=\"stroke:#000000; stroke-width:4; stroke-opacity:1; fill:none\" points=\"\n",
       "  8880.47,1384.24 8880.47,1384.24 8917.53,1384.24 8880.47,1384.24 \n",
       "  \"/>\n",
       "<path clip-path=\"url(#clip072)\" d=\"\n",
       "M8917.53 1384.24 L8917.53 1384.24 L8954.59 1384.24 L8954.59 1384.24 L8917.53 1384.24 L8917.53 1384.24  Z\n",
       "  \" fill=\"#009af9\" fill-rule=\"evenodd\" fill-opacity=\"1\"/>\n",
       "<polyline clip-path=\"url(#clip072)\" style=\"stroke:#000000; stroke-width:4; stroke-opacity:1; fill:none\" points=\"\n",
       "  8917.53,1384.24 8917.53,1384.24 8954.59,1384.24 8917.53,1384.24 \n",
       "  \"/>\n",
       "<path clip-path=\"url(#clip072)\" d=\"\n",
       "M8954.59 1384.24 L8954.59 1384.24 L8991.65 1384.24 L8991.65 1384.24 L8954.59 1384.24 L8954.59 1384.24  Z\n",
       "  \" fill=\"#009af9\" fill-rule=\"evenodd\" fill-opacity=\"1\"/>\n",
       "<polyline clip-path=\"url(#clip072)\" style=\"stroke:#000000; stroke-width:4; stroke-opacity:1; fill:none\" points=\"\n",
       "  8954.59,1384.24 8954.59,1384.24 8991.65,1384.24 8954.59,1384.24 \n",
       "  \"/>\n",
       "<path clip-path=\"url(#clip072)\" d=\"\n",
       "M8991.65 1344.9 L8991.65 1384.24 L9028.71 1384.24 L9028.71 1344.9 L8991.65 1344.9 L8991.65 1344.9  Z\n",
       "  \" fill=\"#009af9\" fill-rule=\"evenodd\" fill-opacity=\"1\"/>\n",
       "<polyline clip-path=\"url(#clip072)\" style=\"stroke:#000000; stroke-width:4; stroke-opacity:1; fill:none\" points=\"\n",
       "  8991.65,1344.9 8991.65,1384.24 9028.71,1384.24 9028.71,1344.9 8991.65,1344.9 \n",
       "  \"/>\n",
       "</svg>\n"
      ]
     },
     "execution_count": 18,
     "metadata": {},
     "output_type": "execute_result"
    }
   ],
   "source": [
    "using Statistics\n",
    "t = c_bench.times / 1e6 # tempos em milisegundos\n",
    "m, σ = minimum(t), std(t)\n",
    "\n",
    "histogram(t, bins=500,\n",
    "    xlim=(m - 0.01, m + 2*σ),\n",
    "    xlabel=\"milisegundos\", ylabel=\"Frequência\", label=\"\")"
   ]
  },
  {
   "cell_type": "markdown",
   "metadata": {},
   "source": [
    "## 2. C com -ffast-math\n",
    "\n",
    "Agora, vamos permitir que o C otimize suas operações de ponto flutuante.\n",
    "Dessa forma, ele vai vetorizar suas instruções usando [SIMD](https://en.wikipedia.org/wiki/SIMD) (single instruction, multiple data)."
   ]
  },
  {
   "cell_type": "code",
   "execution_count": 19,
   "metadata": {},
   "outputs": [
    {
     "data": {
      "text/plain": [
       "c_sum_fastmath (generic function with 1 method)"
      ]
     },
     "execution_count": 19,
     "metadata": {},
     "output_type": "execute_result"
    }
   ],
   "source": [
    "const Clib_fastmath = tempname()\n",
    "\n",
    "# Como acima mas agora com a opção -ffast-math\n",
    "open(`gcc -fPIC -O3 -msse3 -xc -shared -ffast-math -o $(Clib_fastmath * \".\" * Libdl.dlext) -`, \"w\") do f\n",
    "    print(f, C_code) \n",
    "end\n",
    "\n",
    "# Define uma função em Julia que chama a função em C\n",
    "c_sum_fastmath(X::Array{Float64}) = ccall((\"c_sum\", Clib_fastmath), Float64, (Csize_t, Ptr{Float64}), length(X), X)"
   ]
  },
  {
   "cell_type": "code",
   "execution_count": 20,
   "metadata": {},
   "outputs": [
    {
     "data": {
      "text/plain": [
       "BenchmarkTools.Trial: \n",
       "  memory estimate:  0 bytes\n",
       "  allocs estimate:  0\n",
       "  --------------\n",
       "  minimum time:     6.661 ms (0.00% GC)\n",
       "  median time:      6.710 ms (0.00% GC)\n",
       "  mean time:        6.763 ms (0.00% GC)\n",
       "  maximum time:     8.489 ms (0.00% GC)\n",
       "  --------------\n",
       "  samples:          739\n",
       "  evals/sample:     1"
      ]
     },
     "execution_count": 20,
     "metadata": {},
     "output_type": "execute_result"
    }
   ],
   "source": [
    "c_fastmath_bench = @benchmark $c_sum_fastmath($a)"
   ]
  },
  {
   "cell_type": "code",
   "execution_count": 21,
   "metadata": {},
   "outputs": [
    {
     "data": {
      "text/plain": [
       "6.660504"
      ]
     },
     "execution_count": 21,
     "metadata": {},
     "output_type": "execute_result"
    }
   ],
   "source": [
    "d[\"C com -ffast-math\"] = minimum(c_fastmath_bench.times) / 1e6  # em milisegundos"
   ]
  },
  {
   "cell_type": "markdown",
   "metadata": {},
   "source": [
    "## 3. Python\n",
    "\n",
    "O pacote `PyCall` fornece uma interface entre a Julia e o Python:"
   ]
  },
  {
   "cell_type": "code",
   "execution_count": 22,
   "metadata": {},
   "outputs": [
    {
     "name": "stderr",
     "output_type": "stream",
     "text": [
      "\u001b[32m\u001b[1m  Resolving\u001b[22m\u001b[39m package versions...\n",
      "\u001b[32m\u001b[1m   Updating\u001b[22m\u001b[39m `~/.julia/environments/v1.4/Project.toml`\n",
      "\u001b[90m [no changes]\u001b[39m\n",
      "\u001b[32m\u001b[1m   Updating\u001b[22m\u001b[39m `~/.julia/environments/v1.4/Manifest.toml`\n",
      "\u001b[90m [no changes]\u001b[39m\n"
     ]
    }
   ],
   "source": [
    "Pkg.add(\"PyCall\")"
   ]
  },
  {
   "cell_type": "code",
   "execution_count": 23,
   "metadata": {},
   "outputs": [
    {
     "name": "stderr",
     "output_type": "stream",
     "text": [
      "┌ Info: Precompiling PyCall [438e738f-606a-5dbb-bf0a-cddfbfd45ab0]\n",
      "└ @ Base loading.jl:1260\n"
     ]
    }
   ],
   "source": [
    "using PyCall"
   ]
  },
  {
   "cell_type": "code",
   "execution_count": 24,
   "metadata": {},
   "outputs": [
    {
     "data": {
      "text/plain": [
       "PyObject <built-in function sum>"
      ]
     },
     "execution_count": 24,
     "metadata": {},
     "output_type": "execute_result"
    }
   ],
   "source": [
    "# Importa a função \"sum\" do Python\n",
    "pysum = pybuiltin(\"sum\")"
   ]
  },
  {
   "cell_type": "code",
   "execution_count": 25,
   "metadata": {},
   "outputs": [
    {
     "data": {
      "text/plain": [
       "4.99955493782455e6"
      ]
     },
     "execution_count": 25,
     "metadata": {},
     "output_type": "execute_result"
    }
   ],
   "source": [
    "pysum(a)"
   ]
  },
  {
   "cell_type": "code",
   "execution_count": 26,
   "metadata": {},
   "outputs": [
    {
     "data": {
      "text/plain": [
       "true"
      ]
     },
     "execution_count": 26,
     "metadata": {},
     "output_type": "execute_result"
    }
   ],
   "source": [
    "pysum(a) ≈ sum(a)"
   ]
  },
  {
   "cell_type": "code",
   "execution_count": 27,
   "metadata": {},
   "outputs": [
    {
     "data": {
      "text/plain": [
       "BenchmarkTools.Trial: \n",
       "  memory estimate:  352 bytes\n",
       "  allocs estimate:  7\n",
       "  --------------\n",
       "  minimum time:     1.529 s (0.00% GC)\n",
       "  median time:      1.546 s (0.00% GC)\n",
       "  mean time:        1.557 s (0.00% GC)\n",
       "  maximum time:     1.607 s (0.00% GC)\n",
       "  --------------\n",
       "  samples:          4\n",
       "  evals/sample:     1"
      ]
     },
     "execution_count": 27,
     "metadata": {},
     "output_type": "execute_result"
    }
   ],
   "source": [
    "py_list_bench = @benchmark $pysum($a)"
   ]
  },
  {
   "cell_type": "code",
   "execution_count": 28,
   "metadata": {},
   "outputs": [
    {
     "data": {
      "text/plain": [
       "Dict{Any,Any} with 3 entries:\n",
       "  \"C com -ffast-math\" => 6.6605\n",
       "  \"C\"                 => 12.2989\n",
       "  \"Python\"            => 1529.33"
      ]
     },
     "execution_count": 28,
     "metadata": {},
     "output_type": "execute_result"
    }
   ],
   "source": [
    "d[\"Python\"] = minimum(py_list_bench.times) / 1e6\n",
    "d"
   ]
  },
  {
   "cell_type": "markdown",
   "metadata": {},
   "source": [
    "## 4. Python `numpy`\n",
    "\n",
    "A biblioteca `numpy` do Python é escrita em C e também utiliza SIMD.\n",
    "Essa biblioteca pode ser instalada na Julia da seguinte forma:"
   ]
  },
  {
   "cell_type": "code",
   "execution_count": 29,
   "metadata": {},
   "outputs": [
    {
     "name": "stderr",
     "output_type": "stream",
     "text": [
      "\u001b[32m\u001b[1m  Resolving\u001b[22m\u001b[39m package versions...\n",
      "\u001b[32m\u001b[1m   Updating\u001b[22m\u001b[39m `~/.julia/environments/v1.4/Project.toml`\n",
      "\u001b[90m [no changes]\u001b[39m\n",
      "\u001b[32m\u001b[1m   Updating\u001b[22m\u001b[39m `~/.julia/environments/v1.4/Manifest.toml`\n",
      "\u001b[90m [no changes]\u001b[39m\n"
     ]
    }
   ],
   "source": [
    "Pkg.add(\"Conda\")"
   ]
  },
  {
   "cell_type": "code",
   "execution_count": 30,
   "metadata": {},
   "outputs": [],
   "source": [
    "using Conda"
   ]
  },
  {
   "cell_type": "code",
   "execution_count": 31,
   "metadata": {},
   "outputs": [
    {
     "name": "stderr",
     "output_type": "stream",
     "text": [
      "┌ Warning: `getindex(o::PyObject, s::AbstractString)` is deprecated in favor of dot overloading (`getproperty`) so elements should now be accessed as e.g. `o.\"s\"` instead of `o[\"s\"]`.\n",
      "│   caller = top-level scope at In[31]:1\n",
      "└ @ Core In[31]:1\n"
     ]
    },
    {
     "data": {
      "text/plain": [
       "BenchmarkTools.Trial: \n",
       "  memory estimate:  352 bytes\n",
       "  allocs estimate:  7\n",
       "  --------------\n",
       "  minimum time:     5.728 ms (0.00% GC)\n",
       "  median time:      5.832 ms (0.00% GC)\n",
       "  mean time:        5.870 ms (0.00% GC)\n",
       "  maximum time:     6.456 ms (0.00% GC)\n",
       "  --------------\n",
       "  samples:          851\n",
       "  evals/sample:     1"
      ]
     },
     "execution_count": 31,
     "metadata": {},
     "output_type": "execute_result"
    }
   ],
   "source": [
    "numpy_sum = pyimport(\"numpy\")[\"sum\"]\n",
    "\n",
    "py_numpy_bench = @benchmark $numpy_sum($a)"
   ]
  },
  {
   "cell_type": "code",
   "execution_count": 32,
   "metadata": {},
   "outputs": [
    {
     "data": {
      "text/plain": [
       "4.999554937825229e6"
      ]
     },
     "execution_count": 32,
     "metadata": {},
     "output_type": "execute_result"
    }
   ],
   "source": [
    "numpy_sum(a)"
   ]
  },
  {
   "cell_type": "code",
   "execution_count": 33,
   "metadata": {},
   "outputs": [
    {
     "data": {
      "text/plain": [
       "true"
      ]
     },
     "execution_count": 33,
     "metadata": {},
     "output_type": "execute_result"
    }
   ],
   "source": [
    "numpy_sum(a) ≈ sum(a)"
   ]
  },
  {
   "cell_type": "code",
   "execution_count": 34,
   "metadata": {},
   "outputs": [
    {
     "data": {
      "text/plain": [
       "Dict{Any,Any} with 4 entries:\n",
       "  \"C com -ffast-math\" => 6.6605\n",
       "  \"C\"                 => 12.2989\n",
       "  \"Python numpy\"      => 5.72787\n",
       "  \"Python\"            => 1529.33"
      ]
     },
     "execution_count": 34,
     "metadata": {},
     "output_type": "execute_result"
    }
   ],
   "source": [
    "d[\"Python numpy\"] = minimum(py_numpy_bench.times) / 1e6\n",
    "d"
   ]
  },
  {
   "cell_type": "markdown",
   "metadata": {},
   "source": [
    "## 5. Python (escrito à mão)"
   ]
  },
  {
   "cell_type": "code",
   "execution_count": 35,
   "metadata": {},
   "outputs": [
    {
     "data": {
      "text/plain": [
       "PyObject <function py_sum at 0x7f158bf40310>"
      ]
     },
     "execution_count": 35,
     "metadata": {},
     "output_type": "execute_result"
    }
   ],
   "source": [
    "py\"\"\"\n",
    "def py_sum(A):\n",
    "    s = 0.0\n",
    "    for a in A:\n",
    "        s += a\n",
    "    return s\n",
    "\"\"\"\n",
    "\n",
    "sum_py = py\"py_sum\""
   ]
  },
  {
   "cell_type": "code",
   "execution_count": 36,
   "metadata": {},
   "outputs": [
    {
     "data": {
      "text/plain": [
       "BenchmarkTools.Trial: \n",
       "  memory estimate:  352 bytes\n",
       "  allocs estimate:  7\n",
       "  --------------\n",
       "  minimum time:     1.857 s (0.00% GC)\n",
       "  median time:      1.871 s (0.00% GC)\n",
       "  mean time:        1.878 s (0.00% GC)\n",
       "  maximum time:     1.907 s (0.00% GC)\n",
       "  --------------\n",
       "  samples:          3\n",
       "  evals/sample:     1"
      ]
     },
     "execution_count": 36,
     "metadata": {},
     "output_type": "execute_result"
    }
   ],
   "source": [
    "py_hand = @benchmark $sum_py($a)"
   ]
  },
  {
   "cell_type": "code",
   "execution_count": 37,
   "metadata": {},
   "outputs": [
    {
     "data": {
      "text/plain": [
       "4.99955493782455e6"
      ]
     },
     "execution_count": 37,
     "metadata": {},
     "output_type": "execute_result"
    }
   ],
   "source": [
    "sum_py(a)"
   ]
  },
  {
   "cell_type": "code",
   "execution_count": 38,
   "metadata": {},
   "outputs": [
    {
     "data": {
      "text/plain": [
       "true"
      ]
     },
     "execution_count": 38,
     "metadata": {},
     "output_type": "execute_result"
    }
   ],
   "source": [
    "sum_py(a) ≈ sum(a)"
   ]
  },
  {
   "cell_type": "code",
   "execution_count": 39,
   "metadata": {},
   "outputs": [
    {
     "data": {
      "text/plain": [
       "Dict{Any,Any} with 5 entries:\n",
       "  \"C com -ffast-math\"    => 6.6605\n",
       "  \"Python escrito à mão\" => 1856.8\n",
       "  \"C\"                    => 12.2989\n",
       "  \"Python numpy\"         => 5.72787\n",
       "  \"Python\"               => 1529.33"
      ]
     },
     "execution_count": 39,
     "metadata": {},
     "output_type": "execute_result"
    }
   ],
   "source": [
    "d[\"Python escrito à mão\"] = minimum(py_hand.times) / 1e6\n",
    "d"
   ]
  },
  {
   "cell_type": "markdown",
   "metadata": {},
   "source": [
    "## 6. Julia\n",
    "\n",
    "Em Julia, a função `sum` é escrita em Julia, não em C."
   ]
  },
  {
   "cell_type": "code",
   "execution_count": 40,
   "metadata": {},
   "outputs": [
    {
     "data": {
      "text/html": [
       "sum(a::<b>AbstractArray</b>; <i>dims</i>) in Base at <a href=\"https://github.com/JuliaLang/julia/tree/44fa15b1502a45eac76c9017af94332d4557b251/base/reducedim.jl#L652\" target=\"_blank\">reducedim.jl:652</a>"
      ],
      "text/plain": [
       "sum(a::AbstractArray; dims) in Base at reducedim.jl:652"
      ]
     },
     "execution_count": 40,
     "metadata": {},
     "output_type": "execute_result"
    }
   ],
   "source": [
    "@which sum(a)"
   ]
  },
  {
   "cell_type": "code",
   "execution_count": 41,
   "metadata": {},
   "outputs": [
    {
     "data": {
      "text/plain": [
       "BenchmarkTools.Trial: \n",
       "  memory estimate:  0 bytes\n",
       "  allocs estimate:  0\n",
       "  --------------\n",
       "  minimum time:     5.753 ms (0.00% GC)\n",
       "  median time:      5.850 ms (0.00% GC)\n",
       "  mean time:        5.888 ms (0.00% GC)\n",
       "  maximum time:     6.301 ms (0.00% GC)\n",
       "  --------------\n",
       "  samples:          848\n",
       "  evals/sample:     1"
      ]
     },
     "execution_count": 41,
     "metadata": {},
     "output_type": "execute_result"
    }
   ],
   "source": [
    "j_bench = @benchmark sum($a)"
   ]
  },
  {
   "cell_type": "code",
   "execution_count": 42,
   "metadata": {},
   "outputs": [
    {
     "data": {
      "text/plain": [
       "Dict{Any,Any} with 6 entries:\n",
       "  \"C com -ffast-math\"    => 6.6605\n",
       "  \"Python escrito à mão\" => 1856.8\n",
       "  \"C\"                    => 12.2989\n",
       "  \"Python numpy\"         => 5.72787\n",
       "  \"Julia\"                => 5.75309\n",
       "  \"Python\"               => 1529.33"
      ]
     },
     "execution_count": 42,
     "metadata": {},
     "output_type": "execute_result"
    }
   ],
   "source": [
    "d[\"Julia\"] = minimum(j_bench.times) / 1e6\n",
    "d"
   ]
  },
  {
   "cell_type": "markdown",
   "metadata": {},
   "source": [
    "## 7. Julia (escrito à mão)"
   ]
  },
  {
   "cell_type": "code",
   "execution_count": 43,
   "metadata": {},
   "outputs": [
    {
     "data": {
      "text/plain": [
       "mysum (generic function with 1 method)"
      ]
     },
     "execution_count": 43,
     "metadata": {},
     "output_type": "execute_result"
    }
   ],
   "source": [
    "function mysum(A)   \n",
    "    s = 0.0 # s = zero(eltype(a))\n",
    "    for a in A\n",
    "        s += a\n",
    "    end\n",
    "    s\n",
    "end"
   ]
  },
  {
   "cell_type": "code",
   "execution_count": 44,
   "metadata": {},
   "outputs": [
    {
     "data": {
      "text/plain": [
       "BenchmarkTools.Trial: \n",
       "  memory estimate:  0 bytes\n",
       "  allocs estimate:  0\n",
       "  --------------\n",
       "  minimum time:     12.703 ms (0.00% GC)\n",
       "  median time:      12.746 ms (0.00% GC)\n",
       "  mean time:        12.765 ms (0.00% GC)\n",
       "  maximum time:     13.933 ms (0.00% GC)\n",
       "  --------------\n",
       "  samples:          392\n",
       "  evals/sample:     1"
      ]
     },
     "execution_count": 44,
     "metadata": {},
     "output_type": "execute_result"
    }
   ],
   "source": [
    "j_bench_hand = @benchmark mysum($a)"
   ]
  },
  {
   "cell_type": "code",
   "execution_count": 45,
   "metadata": {},
   "outputs": [
    {
     "data": {
      "text/plain": [
       "Dict{Any,Any} with 7 entries:\n",
       "  \"C com -ffast-math\"    => 6.6605\n",
       "  \"Python escrito à mão\" => 1856.8\n",
       "  \"C\"                    => 12.2989\n",
       "  \"Python numpy\"         => 5.72787\n",
       "  \"Julia escrito à mão\"  => 12.7032\n",
       "  \"Julia\"                => 5.75309\n",
       "  \"Python\"               => 1529.33"
      ]
     },
     "execution_count": 45,
     "metadata": {},
     "output_type": "execute_result"
    }
   ],
   "source": [
    "d[\"Julia escrito à mão\"] = minimum(j_bench_hand.times) / 1e6\n",
    "d"
   ]
  },
  {
   "cell_type": "markdown",
   "metadata": {},
   "source": [
    "## 8. Julia (escrito à mão com SIMD)"
   ]
  },
  {
   "cell_type": "code",
   "execution_count": 46,
   "metadata": {},
   "outputs": [
    {
     "data": {
      "text/plain": [
       "mysum_simd (generic function with 1 method)"
      ]
     },
     "execution_count": 46,
     "metadata": {},
     "output_type": "execute_result"
    }
   ],
   "source": [
    "function mysum_simd(A)   \n",
    "    s = 0.0 # s = zero(eltype(A))\n",
    "    @simd for a in A\n",
    "        s += a\n",
    "    end\n",
    "    s\n",
    "end"
   ]
  },
  {
   "cell_type": "code",
   "execution_count": 47,
   "metadata": {},
   "outputs": [
    {
     "data": {
      "text/plain": [
       "BenchmarkTools.Trial: \n",
       "  memory estimate:  0 bytes\n",
       "  allocs estimate:  0\n",
       "  --------------\n",
       "  minimum time:     5.750 ms (0.00% GC)\n",
       "  median time:      5.856 ms (0.00% GC)\n",
       "  mean time:        5.895 ms (0.00% GC)\n",
       "  maximum time:     6.446 ms (0.00% GC)\n",
       "  --------------\n",
       "  samples:          847\n",
       "  evals/sample:     1"
      ]
     },
     "execution_count": 47,
     "metadata": {},
     "output_type": "execute_result"
    }
   ],
   "source": [
    "j_bench_hand_simd = @benchmark mysum_simd($a)"
   ]
  },
  {
   "cell_type": "code",
   "execution_count": 48,
   "metadata": {},
   "outputs": [
    {
     "data": {
      "text/plain": [
       "4.9995549378252765e6"
      ]
     },
     "execution_count": 48,
     "metadata": {},
     "output_type": "execute_result"
    }
   ],
   "source": [
    "mysum_simd(a)"
   ]
  },
  {
   "cell_type": "code",
   "execution_count": 49,
   "metadata": {},
   "outputs": [
    {
     "data": {
      "text/plain": [
       "Dict{Any,Any} with 8 entries:\n",
       "  \"Julia escrito à mão com SIMD\" => 5.7496\n",
       "  \"C com -ffast-math\"            => 6.6605\n",
       "  \"Python escrito à mão\"         => 1856.8\n",
       "  \"C\"                            => 12.2989\n",
       "  \"Python numpy\"                 => 5.72787\n",
       "  \"Julia escrito à mão\"          => 12.7032\n",
       "  \"Julia\"                        => 5.75309\n",
       "  \"Python\"                       => 1529.33"
      ]
     },
     "execution_count": 49,
     "metadata": {},
     "output_type": "execute_result"
    }
   ],
   "source": [
    "d[\"Julia escrito à mão com SIMD\"] = minimum(j_bench_hand_simd.times) / 1e6\n",
    "d"
   ]
  },
  {
   "cell_type": "markdown",
   "metadata": {},
   "source": [
    "## Em resumo"
   ]
  },
  {
   "cell_type": "code",
   "execution_count": 50,
   "metadata": {},
   "outputs": [
    {
     "name": "stdout",
     "output_type": "stream",
     "text": [
      "Python numpy.....................5.7\n",
      "Julia escrito à mão com SIMD.....5.7\n",
      "Julia............................5.8\n",
      "C com -ffast-math................6.7\n",
      "C...............................12.3\n",
      "Julia escrito à mão.............12.7\n",
      "Python........................1529.3\n",
      "Python escrito à mão..........1856.8\n"
     ]
    }
   ],
   "source": [
    "for (key, value) in sort(collect(d), by=last)\n",
    "    println(rpad(key, 30, \".\"), lpad(round(value; digits=1), 6, \".\"))\n",
    "end"
   ]
  }
 ],
 "metadata": {
  "kernelspec": {
   "display_name": "Julia 1.4.2",
   "language": "julia",
   "name": "julia-1.4"
  },
  "language_info": {
   "file_extension": ".jl",
   "mimetype": "application/julia",
   "name": "julia",
   "version": "1.4.2"
  }
 },
 "nbformat": 4,
 "nbformat_minor": 2
}
