{
 "cells": [
  {
   "cell_type": "markdown",
   "metadata": {},
   "source": [
    "# A Julia é rápida\n",
    "\n",
    "Frequentemente, programas são executados em diferentes linguagens de programação com o propósito de comparar os desempenhos das linguagens.\n",
    "Esse tipo de comparação não é simples e pode gerar discussões.\n",
    "\n",
    "Neste notebook vamos fazer uma comparação simples entre algumas linguagens de programação e deixar que você tire suas próprias conclusões."
   ]
  },
  {
   "cell_type": "markdown",
   "metadata": {},
   "source": [
    "## A função soma\n",
    "\n",
    "Consideramos a função soma, denotada por `sum`, que é definida por\n",
    "$$\n",
    "\\mathrm{sum}(a) = \\sum_{j=1}^n a_j,\n",
    "$$\n",
    "onde $a = [a_1, a_2, \\dots, a_j]$ é uma lista com $n$ elementos.\n",
    "\n",
    "Vamos criar uma lista com 10<sup>7</sup> elementos escolhidos aleatoriamente no intervalo $[0,1]$:"
   ]
  },
  {
   "cell_type": "code",
   "execution_count": 1,
   "metadata": {},
   "outputs": [
    {
     "data": {
      "text/plain": [
       "10000000-element Vector{Float64}:\n",
       " 0.5299975211076093\n",
       " 0.7625377622012381\n",
       " 0.7704270607367267\n",
       " 0.42511941543369236\n",
       " 0.46681905382781386\n",
       " 0.93532872770659\n",
       " 0.7613686350817828\n",
       " 0.12797117754852105\n",
       " 0.4879171978112178\n",
       " 0.18058465205049523\n",
       " 0.14691561571044787\n",
       " 0.024595831469867102\n",
       " 0.14791167702764163\n",
       " ⋮\n",
       " 0.39021094199689\n",
       " 0.24665910176904848\n",
       " 0.0075942384106308936\n",
       " 0.3367382777489123\n",
       " 0.65667636733552\n",
       " 0.8231262464711173\n",
       " 0.8483460816095763\n",
       " 0.3447000289066844\n",
       " 0.5997668381781018\n",
       " 0.7979068860393965\n",
       " 0.14877740673747697\n",
       " 0.09018118048747081"
      ]
     },
     "execution_count": 1,
     "metadata": {},
     "output_type": "execute_result"
    }
   ],
   "source": [
    "a = rand(10^7)"
   ]
  },
  {
   "cell_type": "markdown",
   "metadata": {},
   "source": [
    "Calculamos a soma dos elementos de `a`:"
   ]
  },
  {
   "cell_type": "code",
   "execution_count": 2,
   "metadata": {},
   "outputs": [
    {
     "data": {
      "text/plain": [
       "4.9995590596976075e6"
      ]
     },
     "execution_count": 2,
     "metadata": {},
     "output_type": "execute_result"
    }
   ],
   "source": [
    "sum(a)"
   ]
  },
  {
   "cell_type": "markdown",
   "metadata": {},
   "source": [
    "O resultado esperado é 0.5 * 10<sup>7</sup>, pois o valor médio de cada elemento da lista é igual a 0.5."
   ]
  },
  {
   "cell_type": "markdown",
   "metadata": {},
   "source": [
    "## Medindo desempenho de formas diferentes, em linguagens diferentes"
   ]
  },
  {
   "cell_type": "code",
   "execution_count": 3,
   "metadata": {},
   "outputs": [
    {
     "name": "stdout",
     "output_type": "stream",
     "text": [
      "  0.004752 seconds (1 allocation: 16 bytes)\n"
     ]
    },
    {
     "data": {
      "text/plain": [
       "4.9995590596976075e6"
      ]
     },
     "execution_count": 3,
     "metadata": {},
     "output_type": "execute_result"
    }
   ],
   "source": [
    "@time sum(a)"
   ]
  },
  {
   "cell_type": "markdown",
   "metadata": {},
   "source": [
    "A macro `@time` é boa para uma estimativa grosseira, mas não é muito precisa.\n",
    "\n",
    "O pacote `BenchmarkTools.jl` fornece um método simples e preciso de fazer comparações."
   ]
  },
  {
   "cell_type": "code",
   "execution_count": 4,
   "metadata": {},
   "outputs": [
    {
     "name": "stderr",
     "output_type": "stream",
     "text": [
      "\u001b[32m\u001b[1m    Updating\u001b[22m\u001b[39m registry at `~/.julia/registries/General`\n",
      "\u001b[32m\u001b[1m   Resolving\u001b[22m\u001b[39m package versions...\n",
      "\u001b[32m\u001b[1m  No Changes\u001b[22m\u001b[39m to `~/projects/julia-breve-intro/Project.toml`\n",
      "\u001b[32m\u001b[1m  No Changes\u001b[22m\u001b[39m to `~/projects/julia-breve-intro/Manifest.toml`\n"
     ]
    }
   ],
   "source": [
    "using Pkg\n",
    "Pkg.add(\"BenchmarkTools\")"
   ]
  },
  {
   "cell_type": "code",
   "execution_count": 5,
   "metadata": {},
   "outputs": [],
   "source": [
    "using BenchmarkTools"
   ]
  },
  {
   "cell_type": "markdown",
   "metadata": {},
   "source": [
    "## 1. C\n",
    "\n",
    "A linguagem C é considerada uma linguagem difícil para os humanos e simples para as máquinas.\n",
    "\n",
    "Em uma sessão da Julia, podemos inserir um programa em C, compilá-lo e executá-lo:"
   ]
  },
  {
   "cell_type": "code",
   "execution_count": 6,
   "metadata": {},
   "outputs": [
    {
     "data": {
      "text/plain": [
       "c_sum (generic function with 1 method)"
      ]
     },
     "execution_count": 6,
     "metadata": {},
     "output_type": "execute_result"
    }
   ],
   "source": [
    "using Libdl\n",
    "C_code = \"\"\"\n",
    "#include <stddef.h>\n",
    "double c_sum(size_t n, double *X) {\n",
    "    double s = 0.0;\n",
    "    for (size_t i = 0; i < n; ++i) {\n",
    "        s += X[i];\n",
    "    }\n",
    "    return s;\n",
    "}\n",
    "\"\"\"\n",
    "\n",
    "const Clib = tempname()  # Cria um arquivo temporário\n",
    "\n",
    "# Compila para uma biblioteca compartilhada passando\n",
    "# o código C_code para o compilador gcc (só funciona\n",
    "# se o gcc estiver instalado):\n",
    "\n",
    "open(`gcc -fPIC -O3 -msse3 -xc -shared -o $(Clib * \".\" * Libdl.dlext) -`, \"w\") do f\n",
    "    print(f, C_code) \n",
    "end\n",
    "\n",
    "# Define uma função em Julia que chama a função do C\n",
    "c_sum(X::Array{Float64}) = ccall((\"c_sum\", Clib), Float64, (Csize_t, Ptr{Float64}), length(X), X)"
   ]
  },
  {
   "cell_type": "code",
   "execution_count": 7,
   "metadata": {},
   "outputs": [
    {
     "data": {
      "text/plain": [
       "4.99955905969744e6"
      ]
     },
     "execution_count": 7,
     "metadata": {},
     "output_type": "execute_result"
    }
   ],
   "source": [
    "c_sum(a)"
   ]
  },
  {
   "cell_type": "code",
   "execution_count": 8,
   "metadata": {},
   "outputs": [
    {
     "data": {
      "text/plain": [
       "true"
      ]
     },
     "execution_count": 8,
     "metadata": {},
     "output_type": "execute_result"
    }
   ],
   "source": [
    "c_sum(a) ≈ sum(a)  # Digite \\approx e tecle <TAB> para obter o símbolo ≈"
   ]
  },
  {
   "cell_type": "code",
   "execution_count": 9,
   "metadata": {},
   "outputs": [
    {
     "data": {
      "text/plain": [
       "-1.6763806343078613e-7"
      ]
     },
     "execution_count": 9,
     "metadata": {},
     "output_type": "execute_result"
    }
   ],
   "source": [
    "c_sum(a) - sum(a)"
   ]
  },
  {
   "cell_type": "code",
   "execution_count": 10,
   "metadata": {},
   "outputs": [
    {
     "data": {
      "text/plain": [
       "isapprox (generic function with 9 methods)"
      ]
     },
     "execution_count": 10,
     "metadata": {},
     "output_type": "execute_result"
    }
   ],
   "source": [
    "≈ # é uma abreviação (alias) para a função `isapprox`"
   ]
  },
  {
   "cell_type": "code",
   "execution_count": 11,
   "metadata": {},
   "outputs": [
    {
     "name": "stdout",
     "output_type": "stream",
     "text": [
      "search: \u001b[0m\u001b[1mi\u001b[22m\u001b[0m\u001b[1ms\u001b[22m\u001b[0m\u001b[1ma\u001b[22m\u001b[0m\u001b[1mp\u001b[22m\u001b[0m\u001b[1mp\u001b[22m\u001b[0m\u001b[1mr\u001b[22m\u001b[0m\u001b[1mo\u001b[22m\u001b[0m\u001b[1mx\u001b[22m\n",
      "\n"
     ]
    },
    {
     "data": {
      "text/latex": [
       "\\begin{verbatim}\n",
       "isapprox(x, y; atol::Real=0, rtol::Real=atol>0 ? 0 : √eps, nans::Bool=false[, norm::Function])\n",
       "\\end{verbatim}\n",
       "Inexact equality comparison: \\texttt{true} if \\texttt{norm(x-y) <= max(atol, rtol*max(norm(x), norm(y)))}. The default \\texttt{atol} is zero and the default \\texttt{rtol} depends on the types of \\texttt{x} and \\texttt{y}. The keyword argument \\texttt{nans} determines whether or not NaN values are considered equal (defaults to false).\n",
       "\n",
       "For real or complex floating-point values, if an \\texttt{atol > 0} is not specified, \\texttt{rtol} defaults to the square root of \\href{@ref}{\\texttt{eps}} of the type of \\texttt{x} or \\texttt{y}, whichever is bigger (least precise). This corresponds to requiring equality of about half of the significand digits. Otherwise, e.g. for integer arguments or if an \\texttt{atol > 0} is supplied, \\texttt{rtol} defaults to zero.\n",
       "\n",
       "The \\texttt{norm} keyword defaults to \\texttt{abs} for numeric \\texttt{(x,y)} and to \\texttt{LinearAlgebra.norm} for arrays (where an alternative \\texttt{norm} choice is sometimes useful). When \\texttt{x} and \\texttt{y} are arrays, if \\texttt{norm(x-y)} is not finite (i.e. \\texttt{±Inf} or \\texttt{NaN}), the comparison falls back to checking whether all elements of \\texttt{x} and \\texttt{y} are approximately equal component-wise.\n",
       "\n",
       "The binary operator \\texttt{≈} is equivalent to \\texttt{isapprox} with the default arguments, and \\texttt{x ≉ y} is equivalent to \\texttt{!isapprox(x,y)}.\n",
       "\n",
       "Note that \\texttt{x ≈ 0} (i.e., comparing to zero with the default tolerances) is equivalent to \\texttt{x == 0} since the default \\texttt{atol} is \\texttt{0}.  In such cases, you should either supply an appropriate \\texttt{atol} (or use \\texttt{norm(x) ≤ atol}) or rearrange your code (e.g. use \\texttt{x ≈ y} rather than \\texttt{x - y ≈ 0}).   It is not possible to pick a nonzero \\texttt{atol} automatically because it depends on the overall scaling (the \"units\") of your problem: for example, in \\texttt{x - y ≈ 0}, \\texttt{atol=1e-9} is an absurdly small tolerance if \\texttt{x} is the \\href{https://en.wikipedia.org/wiki/Earth_radius}{radius of the Earth} in meters, but an absurdly large tolerance if \\texttt{x} is the \\href{https://en.wikipedia.org/wiki/Bohr_radius}{radius of a Hydrogen atom} in meters.\n",
       "\n",
       "\\begin{quote}\n",
       "\\textbf{compat}\n",
       "\n",
       "Julia 1.6\n",
       "\n",
       "Passing the \\texttt{norm} keyword argument when comparing numeric (non-array) arguments requires Julia 1.6 or later.\n",
       "\n",
       "\\end{quote}\n",
       "\\section{Examples}\n",
       "\\begin{verbatim}\n",
       "julia> 0.1 ≈ (0.1 - 1e-10)\n",
       "true\n",
       "\n",
       "julia> isapprox(10, 11; atol = 2)\n",
       "true\n",
       "\n",
       "julia> isapprox([10.0^9, 1.0], [10.0^9, 2.0])\n",
       "true\n",
       "\n",
       "julia> 1e-10 ≈ 0\n",
       "false\n",
       "\n",
       "julia> isapprox(1e-10, 0, atol=1e-8)\n",
       "true\n",
       "\\end{verbatim}\n",
       "\\rule{\\textwidth}{1pt}\n",
       "\\begin{verbatim}\n",
       "isapprox(x; kwargs...) / ≈(x; kwargs...)\n",
       "\\end{verbatim}\n",
       "Create a function that compares its argument to \\texttt{x} using \\texttt{≈}, i.e. a function equivalent to \\texttt{y -> y ≈ x}.\n",
       "\n",
       "The keyword arguments supported here are the same as those in the 2-argument \\texttt{isapprox}.\n",
       "\n"
      ],
      "text/markdown": [
       "```\n",
       "isapprox(x, y; atol::Real=0, rtol::Real=atol>0 ? 0 : √eps, nans::Bool=false[, norm::Function])\n",
       "```\n",
       "\n",
       "Inexact equality comparison: `true` if `norm(x-y) <= max(atol, rtol*max(norm(x), norm(y)))`. The default `atol` is zero and the default `rtol` depends on the types of `x` and `y`. The keyword argument `nans` determines whether or not NaN values are considered equal (defaults to false).\n",
       "\n",
       "For real or complex floating-point values, if an `atol > 0` is not specified, `rtol` defaults to the square root of [`eps`](@ref) of the type of `x` or `y`, whichever is bigger (least precise). This corresponds to requiring equality of about half of the significand digits. Otherwise, e.g. for integer arguments or if an `atol > 0` is supplied, `rtol` defaults to zero.\n",
       "\n",
       "The `norm` keyword defaults to `abs` for numeric `(x,y)` and to `LinearAlgebra.norm` for arrays (where an alternative `norm` choice is sometimes useful). When `x` and `y` are arrays, if `norm(x-y)` is not finite (i.e. `±Inf` or `NaN`), the comparison falls back to checking whether all elements of `x` and `y` are approximately equal component-wise.\n",
       "\n",
       "The binary operator `≈` is equivalent to `isapprox` with the default arguments, and `x ≉ y` is equivalent to `!isapprox(x,y)`.\n",
       "\n",
       "Note that `x ≈ 0` (i.e., comparing to zero with the default tolerances) is equivalent to `x == 0` since the default `atol` is `0`.  In such cases, you should either supply an appropriate `atol` (or use `norm(x) ≤ atol`) or rearrange your code (e.g. use `x ≈ y` rather than `x - y ≈ 0`).   It is not possible to pick a nonzero `atol` automatically because it depends on the overall scaling (the \"units\") of your problem: for example, in `x - y ≈ 0`, `atol=1e-9` is an absurdly small tolerance if `x` is the [radius of the Earth](https://en.wikipedia.org/wiki/Earth_radius) in meters, but an absurdly large tolerance if `x` is the [radius of a Hydrogen atom](https://en.wikipedia.org/wiki/Bohr_radius) in meters.\n",
       "\n",
       "!!! compat \"Julia 1.6\"\n",
       "    Passing the `norm` keyword argument when comparing numeric (non-array) arguments requires Julia 1.6 or later.\n",
       "\n",
       "\n",
       "# Examples\n",
       "\n",
       "```jldoctest\n",
       "julia> 0.1 ≈ (0.1 - 1e-10)\n",
       "true\n",
       "\n",
       "julia> isapprox(10, 11; atol = 2)\n",
       "true\n",
       "\n",
       "julia> isapprox([10.0^9, 1.0], [10.0^9, 2.0])\n",
       "true\n",
       "\n",
       "julia> 1e-10 ≈ 0\n",
       "false\n",
       "\n",
       "julia> isapprox(1e-10, 0, atol=1e-8)\n",
       "true\n",
       "```\n",
       "\n",
       "---\n",
       "\n",
       "```\n",
       "isapprox(x; kwargs...) / ≈(x; kwargs...)\n",
       "```\n",
       "\n",
       "Create a function that compares its argument to `x` using `≈`, i.e. a function equivalent to `y -> y ≈ x`.\n",
       "\n",
       "The keyword arguments supported here are the same as those in the 2-argument `isapprox`.\n"
      ],
      "text/plain": [
       "\u001b[36m  isapprox(x, y; atol::Real=0, rtol::Real=atol>0 ? 0 : √eps, nans::Bool=false[, norm::Function])\u001b[39m\n",
       "\n",
       "  Inexact equality comparison: \u001b[36mtrue\u001b[39m if \u001b[36mnorm(x-y) <= max(atol,\n",
       "  rtol*max(norm(x), norm(y)))\u001b[39m. The default \u001b[36matol\u001b[39m is zero and the default \u001b[36mrtol\u001b[39m\n",
       "  depends on the types of \u001b[36mx\u001b[39m and \u001b[36my\u001b[39m. The keyword argument \u001b[36mnans\u001b[39m determines\n",
       "  whether or not NaN values are considered equal (defaults to false).\n",
       "\n",
       "  For real or complex floating-point values, if an \u001b[36matol > 0\u001b[39m is not specified,\n",
       "  \u001b[36mrtol\u001b[39m defaults to the square root of \u001b[36meps\u001b[39m of the type of \u001b[36mx\u001b[39m or \u001b[36my\u001b[39m, whichever is\n",
       "  bigger (least precise). This corresponds to requiring equality of about half\n",
       "  of the significand digits. Otherwise, e.g. for integer arguments or if an\n",
       "  \u001b[36matol > 0\u001b[39m is supplied, \u001b[36mrtol\u001b[39m defaults to zero.\n",
       "\n",
       "  The \u001b[36mnorm\u001b[39m keyword defaults to \u001b[36mabs\u001b[39m for numeric \u001b[36m(x,y)\u001b[39m and to \u001b[36mLinearAlgebra.norm\u001b[39m\n",
       "  for arrays (where an alternative \u001b[36mnorm\u001b[39m choice is sometimes useful). When \u001b[36mx\u001b[39m\n",
       "  and \u001b[36my\u001b[39m are arrays, if \u001b[36mnorm(x-y)\u001b[39m is not finite (i.e. \u001b[36m±Inf\u001b[39m or \u001b[36mNaN\u001b[39m), the\n",
       "  comparison falls back to checking whether all elements of \u001b[36mx\u001b[39m and \u001b[36my\u001b[39m are\n",
       "  approximately equal component-wise.\n",
       "\n",
       "  The binary operator \u001b[36m≈\u001b[39m is equivalent to \u001b[36misapprox\u001b[39m with the default arguments,\n",
       "  and \u001b[36mx ≉ y\u001b[39m is equivalent to \u001b[36m!isapprox(x,y)\u001b[39m.\n",
       "\n",
       "  Note that \u001b[36mx ≈ 0\u001b[39m (i.e., comparing to zero with the default tolerances) is\n",
       "  equivalent to \u001b[36mx == 0\u001b[39m since the default \u001b[36matol\u001b[39m is \u001b[36m0\u001b[39m. In such cases, you should\n",
       "  either supply an appropriate \u001b[36matol\u001b[39m (or use \u001b[36mnorm(x) ≤ atol\u001b[39m) or rearrange your\n",
       "  code (e.g. use \u001b[36mx ≈ y\u001b[39m rather than \u001b[36mx - y ≈ 0\u001b[39m). It is not possible to pick a\n",
       "  nonzero \u001b[36matol\u001b[39m automatically because it depends on the overall scaling (the\n",
       "  \"units\") of your problem: for example, in \u001b[36mx - y ≈ 0\u001b[39m, \u001b[36matol=1e-9\u001b[39m is an\n",
       "  absurdly small tolerance if \u001b[36mx\u001b[39m is the radius of the Earth\n",
       "  (https://en.wikipedia.org/wiki/Earth_radius) in meters, but an absurdly\n",
       "  large tolerance if \u001b[36mx\u001b[39m is the radius of a Hydrogen atom\n",
       "  (https://en.wikipedia.org/wiki/Bohr_radius) in meters.\n",
       "\n",
       "\u001b[39m\u001b[1m  │ \u001b[22m\u001b[39m\u001b[1mJulia 1.6\u001b[22m\n",
       "\u001b[39m\u001b[1m  │\u001b[22m\n",
       "\u001b[39m\u001b[1m  │\u001b[22m  Passing the \u001b[36mnorm\u001b[39m keyword argument when comparing numeric\n",
       "\u001b[39m\u001b[1m  │\u001b[22m  (non-array) arguments requires Julia 1.6 or later.\n",
       "\n",
       "\u001b[1m  Examples\u001b[22m\n",
       "\u001b[1m  ≡≡≡≡≡≡≡≡≡≡\u001b[22m\n",
       "\n",
       "\u001b[36m  julia> 0.1 ≈ (0.1 - 1e-10)\u001b[39m\n",
       "\u001b[36m  true\u001b[39m\n",
       "\u001b[36m  \u001b[39m\n",
       "\u001b[36m  julia> isapprox(10, 11; atol = 2)\u001b[39m\n",
       "\u001b[36m  true\u001b[39m\n",
       "\u001b[36m  \u001b[39m\n",
       "\u001b[36m  julia> isapprox([10.0^9, 1.0], [10.0^9, 2.0])\u001b[39m\n",
       "\u001b[36m  true\u001b[39m\n",
       "\u001b[36m  \u001b[39m\n",
       "\u001b[36m  julia> 1e-10 ≈ 0\u001b[39m\n",
       "\u001b[36m  false\u001b[39m\n",
       "\u001b[36m  \u001b[39m\n",
       "\u001b[36m  julia> isapprox(1e-10, 0, atol=1e-8)\u001b[39m\n",
       "\u001b[36m  true\u001b[39m\n",
       "\n",
       "  ────────────────────────────────────────────────────────────────────────────\n",
       "\n",
       "\u001b[36m  isapprox(x; kwargs...) / ≈(x; kwargs...)\u001b[39m\n",
       "\n",
       "  Create a function that compares its argument to \u001b[36mx\u001b[39m using \u001b[36m≈\u001b[39m, i.e. a function\n",
       "  equivalent to \u001b[36my -> y ≈ x\u001b[39m.\n",
       "\n",
       "  The keyword arguments supported here are the same as those in the 2-argument\n",
       "  \u001b[36misapprox\u001b[39m."
      ]
     },
     "execution_count": 11,
     "metadata": {},
     "output_type": "execute_result"
    }
   ],
   "source": [
    "?isapprox"
   ]
  },
  {
   "cell_type": "markdown",
   "metadata": {},
   "source": [
    "Agora podemos medir o desempenho do código C diretamente da sessão Julia."
   ]
  },
  {
   "cell_type": "code",
   "execution_count": 12,
   "metadata": {},
   "outputs": [
    {
     "data": {
      "text/plain": [
       "BenchmarkTools.Trial: \n",
       "  memory estimate:  0 bytes\n",
       "  allocs estimate:  0\n",
       "  --------------\n",
       "  minimum time:     8.568 ms (0.00% GC)\n",
       "  median time:      8.587 ms (0.00% GC)\n",
       "  mean time:        8.587 ms (0.00% GC)\n",
       "  maximum time:     8.620 ms (0.00% GC)\n",
       "  --------------\n",
       "  samples:          583\n",
       "  evals/sample:     1"
      ]
     },
     "execution_count": 12,
     "metadata": {},
     "output_type": "execute_result"
    }
   ],
   "source": [
    "c_bench = @benchmark c_sum($a)"
   ]
  },
  {
   "cell_type": "code",
   "execution_count": 13,
   "metadata": {},
   "outputs": [
    {
     "name": "stdout",
     "output_type": "stream",
     "text": [
      "C: O tempo mais rápido foi 8.567903 msec\n"
     ]
    }
   ],
   "source": [
    "println(\"C: O tempo mais rápido foi $(minimum(c_bench.times) / 1e6) msec\")"
   ]
  },
  {
   "cell_type": "code",
   "execution_count": 14,
   "metadata": {},
   "outputs": [
    {
     "data": {
      "text/plain": [
       "Dict{Any, Any} with 1 entry:\n",
       "  \"C\" => 8.5679"
      ]
     },
     "execution_count": 14,
     "metadata": {},
     "output_type": "execute_result"
    }
   ],
   "source": [
    "d = Dict()\n",
    "d[\"C\"] = minimum(c_bench.times) / 1e6  # em milisegundos\n",
    "d"
   ]
  },
  {
   "cell_type": "code",
   "execution_count": 15,
   "metadata": {},
   "outputs": [
    {
     "data": {
      "text/plain": [
       "Plots.GRBackend()"
      ]
     },
     "execution_count": 15,
     "metadata": {},
     "output_type": "execute_result"
    }
   ],
   "source": [
    "using Plots\n",
    "gr()"
   ]
  },
  {
   "cell_type": "code",
   "execution_count": 16,
   "metadata": {},
   "outputs": [
    {
     "data": {
      "image/svg+xml": [
       "<?xml version=\"1.0\" encoding=\"utf-8\"?>\n",
       "<svg xmlns=\"http://www.w3.org/2000/svg\" xmlns:xlink=\"http://www.w3.org/1999/xlink\" width=\"600\" height=\"400\" viewBox=\"0 0 2400 1600\">\n",
       "<defs>\n",
       "  <clipPath id=\"clip000\">\n",
       "    <rect x=\"0\" y=\"0\" width=\"2400\" height=\"1600\"/>\n",
       "  </clipPath>\n",
       "</defs>\n",
       "<path clip-path=\"url(#clip000)\" d=\"\n",
       "M0 1600 L2400 1600 L2400 0 L0 0  Z\n",
       "  \" fill=\"#ffffff\" fill-rule=\"evenodd\" fill-opacity=\"1\"/>\n",
       "<defs>\n",
       "  <clipPath id=\"clip001\">\n",
       "    <rect x=\"480\" y=\"0\" width=\"1681\" height=\"1600\"/>\n",
       "  </clipPath>\n",
       "</defs>\n",
       "<path clip-path=\"url(#clip000)\" d=\"\n",
       "M199.218 1423.18 L2352.76 1423.18 L2352.76 47.2441 L199.218 47.2441  Z\n",
       "  \" fill=\"#ffffff\" fill-rule=\"evenodd\" fill-opacity=\"1\"/>\n",
       "<defs>\n",
       "  <clipPath id=\"clip002\">\n",
       "    <rect x=\"199\" y=\"47\" width=\"2155\" height=\"1377\"/>\n",
       "  </clipPath>\n",
       "</defs>\n",
       "<polyline clip-path=\"url(#clip002)\" style=\"stroke:#000000; stroke-width:2; stroke-opacity:0.1; fill:none\" points=\"\n",
       "  506.348,1423.18 506.348,47.2441 \n",
       "  \"/>\n",
       "<polyline clip-path=\"url(#clip002)\" style=\"stroke:#000000; stroke-width:2; stroke-opacity:0.1; fill:none\" points=\"\n",
       "  829.897,1423.18 829.897,47.2441 \n",
       "  \"/>\n",
       "<polyline clip-path=\"url(#clip002)\" style=\"stroke:#000000; stroke-width:2; stroke-opacity:0.1; fill:none\" points=\"\n",
       "  1153.45,1423.18 1153.45,47.2441 \n",
       "  \"/>\n",
       "<polyline clip-path=\"url(#clip002)\" style=\"stroke:#000000; stroke-width:2; stroke-opacity:0.1; fill:none\" points=\"\n",
       "  1477,1423.18 1477,47.2441 \n",
       "  \"/>\n",
       "<polyline clip-path=\"url(#clip002)\" style=\"stroke:#000000; stroke-width:2; stroke-opacity:0.1; fill:none\" points=\"\n",
       "  1800.54,1423.18 1800.54,47.2441 \n",
       "  \"/>\n",
       "<polyline clip-path=\"url(#clip002)\" style=\"stroke:#000000; stroke-width:2; stroke-opacity:0.1; fill:none\" points=\"\n",
       "  2124.09,1423.18 2124.09,47.2441 \n",
       "  \"/>\n",
       "<polyline clip-path=\"url(#clip000)\" style=\"stroke:#000000; stroke-width:4; stroke-opacity:1; fill:none\" points=\"\n",
       "  199.218,1423.18 2352.76,1423.18 \n",
       "  \"/>\n",
       "<polyline clip-path=\"url(#clip000)\" style=\"stroke:#000000; stroke-width:4; stroke-opacity:1; fill:none\" points=\"\n",
       "  506.348,1423.18 506.348,1406.67 \n",
       "  \"/>\n",
       "<polyline clip-path=\"url(#clip000)\" style=\"stroke:#000000; stroke-width:4; stroke-opacity:1; fill:none\" points=\"\n",
       "  829.897,1423.18 829.897,1406.67 \n",
       "  \"/>\n",
       "<polyline clip-path=\"url(#clip000)\" style=\"stroke:#000000; stroke-width:4; stroke-opacity:1; fill:none\" points=\"\n",
       "  1153.45,1423.18 1153.45,1406.67 \n",
       "  \"/>\n",
       "<polyline clip-path=\"url(#clip000)\" style=\"stroke:#000000; stroke-width:4; stroke-opacity:1; fill:none\" points=\"\n",
       "  1477,1423.18 1477,1406.67 \n",
       "  \"/>\n",
       "<polyline clip-path=\"url(#clip000)\" style=\"stroke:#000000; stroke-width:4; stroke-opacity:1; fill:none\" points=\"\n",
       "  1800.54,1423.18 1800.54,1406.67 \n",
       "  \"/>\n",
       "<polyline clip-path=\"url(#clip000)\" style=\"stroke:#000000; stroke-width:4; stroke-opacity:1; fill:none\" points=\"\n",
       "  2124.09,1423.18 2124.09,1406.67 \n",
       "  \"/>\n",
       "<path clip-path=\"url(#clip000)\" d=\"M 0 0 M475.307 1467.44 Q471.974 1467.44 470.052 1469.22 Q468.154 1471 468.154 1474.13 Q468.154 1477.25 470.052 1479.04 Q471.974 1480.82 475.307 1480.82 Q478.64 1480.82 480.562 1479.04 Q482.483 1477.23 482.483 1474.13 Q482.483 1471 480.562 1469.22 Q478.663 1467.44 475.307 1467.44 M470.631 1465.45 Q467.622 1464.71 465.932 1462.65 Q464.265 1460.59 464.265 1457.63 Q464.265 1453.48 467.205 1451.07 Q470.168 1448.67 475.307 1448.67 Q480.469 1448.67 483.409 1451.07 Q486.349 1453.48 486.349 1457.63 Q486.349 1460.59 484.659 1462.65 Q482.992 1464.71 480.006 1465.45 Q483.386 1466.24 485.261 1468.53 Q487.159 1470.82 487.159 1474.13 Q487.159 1479.15 484.08 1481.84 Q481.024 1484.52 475.307 1484.52 Q469.589 1484.52 466.511 1481.84 Q463.455 1479.15 463.455 1474.13 Q463.455 1470.82 465.353 1468.53 Q467.251 1466.24 470.631 1465.45 M468.918 1458.06 Q468.918 1460.75 470.585 1462.25 Q472.275 1463.76 475.307 1463.76 Q478.316 1463.76 480.006 1462.25 Q481.719 1460.75 481.719 1458.06 Q481.719 1455.38 480.006 1453.88 Q478.316 1452.37 475.307 1452.37 Q472.275 1452.37 470.585 1453.88 Q468.918 1455.38 468.918 1458.06 Z\" fill=\"#000000\" fill-rule=\"evenodd\" fill-opacity=\"1\" /><path clip-path=\"url(#clip000)\" d=\"M 0 0 M492.228 1477.97 L497.112 1477.97 L497.112 1483.85 L492.228 1483.85 L492.228 1477.97 Z\" fill=\"#000000\" fill-rule=\"evenodd\" fill-opacity=\"1\" /><path clip-path=\"url(#clip000)\" d=\"M 0 0 M502.228 1449.29 L520.584 1449.29 L520.584 1453.23 L506.51 1453.23 L506.51 1461.7 Q507.529 1461.35 508.547 1461.19 Q509.566 1461 510.585 1461 Q516.372 1461 519.751 1464.18 Q523.131 1467.35 523.131 1472.76 Q523.131 1478.34 519.659 1481.44 Q516.186 1484.52 509.867 1484.52 Q507.691 1484.52 505.423 1484.15 Q503.177 1483.78 500.77 1483.04 L500.77 1478.34 Q502.853 1479.48 505.075 1480.03 Q507.297 1480.59 509.774 1480.59 Q513.779 1480.59 516.117 1478.48 Q518.455 1476.38 518.455 1472.76 Q518.455 1469.15 516.117 1467.05 Q513.779 1464.94 509.774 1464.94 Q507.899 1464.94 506.024 1465.36 Q504.173 1465.77 502.228 1466.65 L502.228 1449.29 Z\" fill=\"#000000\" fill-rule=\"evenodd\" fill-opacity=\"1\" /><path clip-path=\"url(#clip000)\" d=\"M 0 0 M527.02 1449.29 L549.242 1449.29 L549.242 1451.28 L536.695 1483.85 L531.811 1483.85 L543.617 1453.23 L527.02 1453.23 L527.02 1449.29 Z\" fill=\"#000000\" fill-rule=\"evenodd\" fill-opacity=\"1\" /><path clip-path=\"url(#clip000)\" d=\"M 0 0 M798.451 1467.44 Q795.118 1467.44 793.196 1469.22 Q791.298 1471 791.298 1474.13 Q791.298 1477.25 793.196 1479.04 Q795.118 1480.82 798.451 1480.82 Q801.784 1480.82 803.705 1479.04 Q805.627 1477.23 805.627 1474.13 Q805.627 1471 803.705 1469.22 Q801.807 1467.44 798.451 1467.44 M793.775 1465.45 Q790.766 1464.71 789.076 1462.65 Q787.409 1460.59 787.409 1457.63 Q787.409 1453.48 790.349 1451.07 Q793.312 1448.67 798.451 1448.67 Q803.613 1448.67 806.553 1451.07 Q809.492 1453.48 809.492 1457.63 Q809.492 1460.59 807.803 1462.65 Q806.136 1464.71 803.15 1465.45 Q806.53 1466.24 808.405 1468.53 Q810.303 1470.82 810.303 1474.13 Q810.303 1479.15 807.224 1481.84 Q804.168 1484.52 798.451 1484.52 Q792.733 1484.52 789.655 1481.84 Q786.599 1479.15 786.599 1474.13 Q786.599 1470.82 788.497 1468.53 Q790.395 1466.24 793.775 1465.45 M792.062 1458.06 Q792.062 1460.75 793.729 1462.25 Q795.418 1463.76 798.451 1463.76 Q801.46 1463.76 803.15 1462.25 Q804.863 1460.75 804.863 1458.06 Q804.863 1455.38 803.15 1453.88 Q801.46 1452.37 798.451 1452.37 Q795.418 1452.37 793.729 1453.88 Q792.062 1455.38 792.062 1458.06 Z\" fill=\"#000000\" fill-rule=\"evenodd\" fill-opacity=\"1\" /><path clip-path=\"url(#clip000)\" d=\"M 0 0 M815.372 1477.97 L820.256 1477.97 L820.256 1483.85 L815.372 1483.85 L815.372 1477.97 Z\" fill=\"#000000\" fill-rule=\"evenodd\" fill-opacity=\"1\" /><path clip-path=\"url(#clip000)\" d=\"M 0 0 M825.372 1449.29 L843.728 1449.29 L843.728 1453.23 L829.654 1453.23 L829.654 1461.7 Q830.673 1461.35 831.691 1461.19 Q832.71 1461 833.728 1461 Q839.515 1461 842.895 1464.18 Q846.275 1467.35 846.275 1472.76 Q846.275 1478.34 842.802 1481.44 Q839.33 1484.52 833.011 1484.52 Q830.835 1484.52 828.566 1484.15 Q826.321 1483.78 823.914 1483.04 L823.914 1478.34 Q825.997 1479.48 828.219 1480.03 Q830.441 1480.59 832.918 1480.59 Q836.923 1480.59 839.261 1478.48 Q841.599 1476.38 841.599 1472.76 Q841.599 1469.15 839.261 1467.05 Q836.923 1464.94 832.918 1464.94 Q831.043 1464.94 829.168 1465.36 Q827.316 1465.77 825.372 1466.65 L825.372 1449.29 Z\" fill=\"#000000\" fill-rule=\"evenodd\" fill-opacity=\"1\" /><path clip-path=\"url(#clip000)\" d=\"M 0 0 M861.344 1467.44 Q858.011 1467.44 856.089 1469.22 Q854.191 1471 854.191 1474.13 Q854.191 1477.25 856.089 1479.04 Q858.011 1480.82 861.344 1480.82 Q864.677 1480.82 866.599 1479.04 Q868.52 1477.23 868.52 1474.13 Q868.52 1471 866.599 1469.22 Q864.701 1467.44 861.344 1467.44 M856.668 1465.45 Q853.659 1464.71 851.969 1462.65 Q850.302 1460.59 850.302 1457.63 Q850.302 1453.48 853.242 1451.07 Q856.205 1448.67 861.344 1448.67 Q866.506 1448.67 869.446 1451.07 Q872.386 1453.48 872.386 1457.63 Q872.386 1460.59 870.696 1462.65 Q869.029 1464.71 866.043 1465.45 Q869.423 1466.24 871.298 1468.53 Q873.196 1470.82 873.196 1474.13 Q873.196 1479.15 870.117 1481.84 Q867.062 1484.52 861.344 1484.52 Q855.626 1484.52 852.548 1481.84 Q849.492 1479.15 849.492 1474.13 Q849.492 1470.82 851.39 1468.53 Q853.289 1466.24 856.668 1465.45 M854.955 1458.06 Q854.955 1460.75 856.622 1462.25 Q858.312 1463.76 861.344 1463.76 Q864.353 1463.76 866.043 1462.25 Q867.756 1460.75 867.756 1458.06 Q867.756 1455.38 866.043 1453.88 Q864.353 1452.37 861.344 1452.37 Q858.312 1452.37 856.622 1453.88 Q854.955 1455.38 854.955 1458.06 Z\" fill=\"#000000\" fill-rule=\"evenodd\" fill-opacity=\"1\" /><path clip-path=\"url(#clip000)\" d=\"M 0 0 M1122.05 1467.44 Q1118.71 1467.44 1116.79 1469.22 Q1114.89 1471 1114.89 1474.13 Q1114.89 1477.25 1116.79 1479.04 Q1118.71 1480.82 1122.05 1480.82 Q1125.38 1480.82 1127.3 1479.04 Q1129.22 1477.23 1129.22 1474.13 Q1129.22 1471 1127.3 1469.22 Q1125.4 1467.44 1122.05 1467.44 M1117.37 1465.45 Q1114.36 1464.71 1112.67 1462.65 Q1111 1460.59 1111 1457.63 Q1111 1453.48 1113.94 1451.07 Q1116.91 1448.67 1122.05 1448.67 Q1127.21 1448.67 1130.15 1451.07 Q1133.09 1453.48 1133.09 1457.63 Q1133.09 1460.59 1131.4 1462.65 Q1129.73 1464.71 1126.75 1465.45 Q1130.12 1466.24 1132 1468.53 Q1133.9 1470.82 1133.9 1474.13 Q1133.9 1479.15 1130.82 1481.84 Q1127.76 1484.52 1122.05 1484.52 Q1116.33 1484.52 1113.25 1481.84 Q1110.19 1479.15 1110.19 1474.13 Q1110.19 1470.82 1112.09 1468.53 Q1113.99 1466.24 1117.37 1465.45 M1115.66 1458.06 Q1115.66 1460.75 1117.32 1462.25 Q1119.01 1463.76 1122.05 1463.76 Q1125.06 1463.76 1126.75 1462.25 Q1128.46 1460.75 1128.46 1458.06 Q1128.46 1455.38 1126.75 1453.88 Q1125.06 1452.37 1122.05 1452.37 Q1119.01 1452.37 1117.32 1453.88 Q1115.66 1455.38 1115.66 1458.06 Z\" fill=\"#000000\" fill-rule=\"evenodd\" fill-opacity=\"1\" /><path clip-path=\"url(#clip000)\" d=\"M 0 0 M1138.97 1477.97 L1143.85 1477.97 L1143.85 1483.85 L1138.97 1483.85 L1138.97 1477.97 Z\" fill=\"#000000\" fill-rule=\"evenodd\" fill-opacity=\"1\" /><path clip-path=\"url(#clip000)\" d=\"M 0 0 M1148.97 1449.29 L1167.32 1449.29 L1167.32 1453.23 L1153.25 1453.23 L1153.25 1461.7 Q1154.27 1461.35 1155.29 1461.19 Q1156.31 1461 1157.32 1461 Q1163.11 1461 1166.49 1464.18 Q1169.87 1467.35 1169.87 1472.76 Q1169.87 1478.34 1166.4 1481.44 Q1162.93 1484.52 1156.61 1484.52 Q1154.43 1484.52 1152.16 1484.15 Q1149.92 1483.78 1147.51 1483.04 L1147.51 1478.34 Q1149.59 1479.48 1151.81 1480.03 Q1154.04 1480.59 1156.51 1480.59 Q1160.52 1480.59 1162.86 1478.48 Q1165.19 1476.38 1165.19 1472.76 Q1165.19 1469.15 1162.86 1467.05 Q1160.52 1464.94 1156.51 1464.94 Q1154.64 1464.94 1152.76 1465.36 Q1150.91 1465.77 1148.97 1466.65 L1148.97 1449.29 Z\" fill=\"#000000\" fill-rule=\"evenodd\" fill-opacity=\"1\" /><path clip-path=\"url(#clip000)\" d=\"M 0 0 M1175.08 1483.13 L1175.08 1478.88 Q1176.84 1479.71 1178.64 1480.15 Q1180.45 1480.59 1182.18 1480.59 Q1186.81 1480.59 1189.24 1477.49 Q1191.7 1474.36 1192.05 1468.02 Q1190.7 1470.01 1188.64 1471.07 Q1186.58 1472.14 1184.08 1472.14 Q1178.9 1472.14 1175.87 1469.01 Q1172.86 1465.87 1172.86 1460.43 Q1172.86 1455.1 1176 1451.88 Q1179.15 1448.67 1184.38 1448.67 Q1190.38 1448.67 1193.53 1453.27 Q1196.7 1457.86 1196.7 1466.61 Q1196.7 1474.78 1192.81 1479.66 Q1188.94 1484.52 1182.39 1484.52 Q1180.63 1484.52 1178.83 1484.18 Q1177.02 1483.83 1175.08 1483.13 M1184.38 1468.48 Q1187.53 1468.48 1189.36 1466.33 Q1191.21 1464.18 1191.21 1460.43 Q1191.21 1456.7 1189.36 1454.55 Q1187.53 1452.37 1184.38 1452.37 Q1181.24 1452.37 1179.38 1454.55 Q1177.56 1456.7 1177.56 1460.43 Q1177.56 1464.18 1179.38 1466.33 Q1181.24 1468.48 1184.38 1468.48 Z\" fill=\"#000000\" fill-rule=\"evenodd\" fill-opacity=\"1\" /><path clip-path=\"url(#clip000)\" d=\"M 0 0 M1444.92 1467.44 Q1441.59 1467.44 1439.67 1469.22 Q1437.77 1471 1437.77 1474.13 Q1437.77 1477.25 1439.67 1479.04 Q1441.59 1480.82 1444.92 1480.82 Q1448.26 1480.82 1450.18 1479.04 Q1452.1 1477.23 1452.1 1474.13 Q1452.1 1471 1450.18 1469.22 Q1448.28 1467.44 1444.92 1467.44 M1440.25 1465.45 Q1437.24 1464.71 1435.55 1462.65 Q1433.88 1460.59 1433.88 1457.63 Q1433.88 1453.48 1436.82 1451.07 Q1439.79 1448.67 1444.92 1448.67 Q1450.09 1448.67 1453.03 1451.07 Q1455.97 1453.48 1455.97 1457.63 Q1455.97 1460.59 1454.28 1462.65 Q1452.61 1464.71 1449.62 1465.45 Q1453 1466.24 1454.88 1468.53 Q1456.78 1470.82 1456.78 1474.13 Q1456.78 1479.15 1453.7 1481.84 Q1450.64 1484.52 1444.92 1484.52 Q1439.21 1484.52 1436.13 1481.84 Q1433.07 1479.15 1433.07 1474.13 Q1433.07 1470.82 1434.97 1468.53 Q1436.87 1466.24 1440.25 1465.45 M1438.54 1458.06 Q1438.54 1460.75 1440.2 1462.25 Q1441.89 1463.76 1444.92 1463.76 Q1447.93 1463.76 1449.62 1462.25 Q1451.34 1460.75 1451.34 1458.06 Q1451.34 1455.38 1449.62 1453.88 Q1447.93 1452.37 1444.92 1452.37 Q1441.89 1452.37 1440.2 1453.88 Q1438.54 1455.38 1438.54 1458.06 Z\" fill=\"#000000\" fill-rule=\"evenodd\" fill-opacity=\"1\" /><path clip-path=\"url(#clip000)\" d=\"M 0 0 M1461.85 1477.97 L1466.73 1477.97 L1466.73 1483.85 L1461.85 1483.85 L1461.85 1477.97 Z\" fill=\"#000000\" fill-rule=\"evenodd\" fill-opacity=\"1\" /><path clip-path=\"url(#clip000)\" d=\"M 0 0 M1482.38 1464.71 Q1479.23 1464.71 1477.38 1466.86 Q1475.55 1469.01 1475.55 1472.76 Q1475.55 1476.49 1477.38 1478.67 Q1479.23 1480.82 1482.38 1480.82 Q1485.53 1480.82 1487.35 1478.67 Q1489.21 1476.49 1489.21 1472.76 Q1489.21 1469.01 1487.35 1466.86 Q1485.53 1464.71 1482.38 1464.71 M1491.66 1450.06 L1491.66 1454.31 Q1489.9 1453.48 1488.1 1453.04 Q1486.31 1452.6 1484.55 1452.6 Q1479.92 1452.6 1477.47 1455.73 Q1475.04 1458.85 1474.69 1465.17 Q1476.06 1463.16 1478.12 1462.09 Q1480.18 1461 1482.66 1461 Q1487.86 1461 1490.87 1464.18 Q1493.91 1467.32 1493.91 1472.76 Q1493.91 1478.09 1490.76 1481.31 Q1487.61 1484.52 1482.38 1484.52 Q1476.38 1484.52 1473.21 1479.94 Q1470.04 1475.33 1470.04 1466.61 Q1470.04 1458.41 1473.93 1453.55 Q1477.82 1448.67 1484.37 1448.67 Q1486.13 1448.67 1487.91 1449.01 Q1489.72 1449.36 1491.66 1450.06 Z\" fill=\"#000000\" fill-rule=\"evenodd\" fill-opacity=\"1\" /><path clip-path=\"url(#clip000)\" d=\"M 0 0 M1508.97 1452.37 Q1505.36 1452.37 1503.53 1455.94 Q1501.73 1459.48 1501.73 1466.61 Q1501.73 1473.71 1503.53 1477.28 Q1505.36 1480.82 1508.97 1480.82 Q1512.61 1480.82 1514.41 1477.28 Q1516.24 1473.71 1516.24 1466.61 Q1516.24 1459.48 1514.41 1455.94 Q1512.61 1452.37 1508.97 1452.37 M1508.97 1448.67 Q1514.78 1448.67 1517.84 1453.27 Q1520.92 1457.86 1520.92 1466.61 Q1520.92 1475.33 1517.84 1479.94 Q1514.78 1484.52 1508.97 1484.52 Q1503.16 1484.52 1500.09 1479.94 Q1497.03 1475.33 1497.03 1466.61 Q1497.03 1457.86 1500.09 1453.27 Q1503.16 1448.67 1508.97 1448.67 Z\" fill=\"#000000\" fill-rule=\"evenodd\" fill-opacity=\"1\" /><path clip-path=\"url(#clip000)\" d=\"M 0 0 M1769.09 1467.44 Q1765.75 1467.44 1763.83 1469.22 Q1761.93 1471 1761.93 1474.13 Q1761.93 1477.25 1763.83 1479.04 Q1765.75 1480.82 1769.09 1480.82 Q1772.42 1480.82 1774.34 1479.04 Q1776.26 1477.23 1776.26 1474.13 Q1776.26 1471 1774.34 1469.22 Q1772.44 1467.44 1769.09 1467.44 M1764.41 1465.45 Q1761.4 1464.71 1759.71 1462.65 Q1758.04 1460.59 1758.04 1457.63 Q1758.04 1453.48 1760.98 1451.07 Q1763.95 1448.67 1769.09 1448.67 Q1774.25 1448.67 1777.19 1451.07 Q1780.13 1453.48 1780.13 1457.63 Q1780.13 1460.59 1778.44 1462.65 Q1776.77 1464.71 1773.79 1465.45 Q1777.17 1466.24 1779.04 1468.53 Q1780.94 1470.82 1780.94 1474.13 Q1780.94 1479.15 1777.86 1481.84 Q1774.8 1484.52 1769.09 1484.52 Q1763.37 1484.52 1760.29 1481.84 Q1757.23 1479.15 1757.23 1474.13 Q1757.23 1470.82 1759.13 1468.53 Q1761.03 1466.24 1764.41 1465.45 M1762.7 1458.06 Q1762.7 1460.75 1764.36 1462.25 Q1766.05 1463.76 1769.09 1463.76 Q1772.1 1463.76 1773.79 1462.25 Q1775.5 1460.75 1775.5 1458.06 Q1775.5 1455.38 1773.79 1453.88 Q1772.1 1452.37 1769.09 1452.37 Q1766.05 1452.37 1764.36 1453.88 Q1762.7 1455.38 1762.7 1458.06 Z\" fill=\"#000000\" fill-rule=\"evenodd\" fill-opacity=\"1\" /><path clip-path=\"url(#clip000)\" d=\"M 0 0 M1786.01 1477.97 L1790.89 1477.97 L1790.89 1483.85 L1786.01 1483.85 L1786.01 1477.97 Z\" fill=\"#000000\" fill-rule=\"evenodd\" fill-opacity=\"1\" /><path clip-path=\"url(#clip000)\" d=\"M 0 0 M1806.54 1464.71 Q1803.39 1464.71 1801.54 1466.86 Q1799.71 1469.01 1799.71 1472.76 Q1799.71 1476.49 1801.54 1478.67 Q1803.39 1480.82 1806.54 1480.82 Q1809.69 1480.82 1811.52 1478.67 Q1813.37 1476.49 1813.37 1472.76 Q1813.37 1469.01 1811.52 1466.86 Q1809.69 1464.71 1806.54 1464.71 M1815.82 1450.06 L1815.82 1454.31 Q1814.06 1453.48 1812.26 1453.04 Q1810.48 1452.6 1808.72 1452.6 Q1804.09 1452.6 1801.63 1455.73 Q1799.2 1458.85 1798.85 1465.17 Q1800.22 1463.16 1802.28 1462.09 Q1804.34 1461 1806.82 1461 Q1812.03 1461 1815.04 1464.18 Q1818.07 1467.32 1818.07 1472.76 Q1818.07 1478.09 1814.92 1481.31 Q1811.77 1484.52 1806.54 1484.52 Q1800.54 1484.52 1797.37 1479.94 Q1794.2 1475.33 1794.2 1466.61 Q1794.2 1458.41 1798.09 1453.55 Q1801.98 1448.67 1808.53 1448.67 Q1810.29 1448.67 1812.07 1449.01 Q1813.88 1449.36 1815.82 1450.06 Z\" fill=\"#000000\" fill-rule=\"evenodd\" fill-opacity=\"1\" /><path clip-path=\"url(#clip000)\" d=\"M 0 0 M1823.95 1479.92 L1831.59 1479.92 L1831.59 1453.55 L1823.28 1455.22 L1823.28 1450.96 L1831.54 1449.29 L1836.22 1449.29 L1836.22 1479.92 L1843.85 1479.92 L1843.85 1483.85 L1823.95 1483.85 L1823.95 1479.92 Z\" fill=\"#000000\" fill-rule=\"evenodd\" fill-opacity=\"1\" /><path clip-path=\"url(#clip000)\" d=\"M 0 0 M2092.82 1467.44 Q2089.49 1467.44 2087.57 1469.22 Q2085.67 1471 2085.67 1474.13 Q2085.67 1477.25 2087.57 1479.04 Q2089.49 1480.82 2092.82 1480.82 Q2096.15 1480.82 2098.08 1479.04 Q2100 1477.23 2100 1474.13 Q2100 1471 2098.08 1469.22 Q2096.18 1467.44 2092.82 1467.44 M2088.14 1465.45 Q2085.14 1464.71 2083.45 1462.65 Q2081.78 1460.59 2081.78 1457.63 Q2081.78 1453.48 2084.72 1451.07 Q2087.68 1448.67 2092.82 1448.67 Q2097.98 1448.67 2100.92 1451.07 Q2103.86 1453.48 2103.86 1457.63 Q2103.86 1460.59 2102.17 1462.65 Q2100.51 1464.71 2097.52 1465.45 Q2100.9 1466.24 2102.77 1468.53 Q2104.67 1470.82 2104.67 1474.13 Q2104.67 1479.15 2101.59 1481.84 Q2098.54 1484.52 2092.82 1484.52 Q2087.1 1484.52 2084.02 1481.84 Q2080.97 1479.15 2080.97 1474.13 Q2080.97 1470.82 2082.87 1468.53 Q2084.77 1466.24 2088.14 1465.45 M2086.43 1458.06 Q2086.43 1460.75 2088.1 1462.25 Q2089.79 1463.76 2092.82 1463.76 Q2095.83 1463.76 2097.52 1462.25 Q2099.23 1460.75 2099.23 1458.06 Q2099.23 1455.38 2097.52 1453.88 Q2095.83 1452.37 2092.82 1452.37 Q2089.79 1452.37 2088.1 1453.88 Q2086.43 1455.38 2086.43 1458.06 Z\" fill=\"#000000\" fill-rule=\"evenodd\" fill-opacity=\"1\" /><path clip-path=\"url(#clip000)\" d=\"M 0 0 M2109.74 1477.97 L2114.63 1477.97 L2114.63 1483.85 L2109.74 1483.85 L2109.74 1477.97 Z\" fill=\"#000000\" fill-rule=\"evenodd\" fill-opacity=\"1\" /><path clip-path=\"url(#clip000)\" d=\"M 0 0 M2130.27 1464.71 Q2127.13 1464.71 2125.27 1466.86 Q2123.45 1469.01 2123.45 1472.76 Q2123.45 1476.49 2125.27 1478.67 Q2127.13 1480.82 2130.27 1480.82 Q2133.42 1480.82 2135.25 1478.67 Q2137.1 1476.49 2137.1 1472.76 Q2137.1 1469.01 2135.25 1466.86 Q2133.42 1464.71 2130.27 1464.71 M2139.56 1450.06 L2139.56 1454.31 Q2137.8 1453.48 2135.99 1453.04 Q2134.21 1452.6 2132.45 1452.6 Q2127.82 1452.6 2125.37 1455.73 Q2122.94 1458.85 2122.59 1465.17 Q2123.95 1463.16 2126.01 1462.09 Q2128.08 1461 2130.55 1461 Q2135.76 1461 2138.77 1464.18 Q2141.8 1467.32 2141.8 1472.76 Q2141.8 1478.09 2138.65 1481.31 Q2135.51 1484.52 2130.27 1484.52 Q2124.28 1484.52 2121.11 1479.94 Q2117.94 1475.33 2117.94 1466.61 Q2117.94 1458.41 2121.83 1453.55 Q2125.71 1448.67 2132.26 1448.67 Q2134.02 1448.67 2135.81 1449.01 Q2137.61 1449.36 2139.56 1450.06 Z\" fill=\"#000000\" fill-rule=\"evenodd\" fill-opacity=\"1\" /><path clip-path=\"url(#clip000)\" d=\"M 0 0 M2150.9 1479.92 L2167.22 1479.92 L2167.22 1483.85 L2145.27 1483.85 L2145.27 1479.92 Q2147.94 1477.16 2152.52 1472.53 Q2157.13 1467.88 2158.31 1466.54 Q2160.55 1464.01 2161.43 1462.28 Q2162.33 1460.52 2162.33 1458.83 Q2162.33 1456.07 2160.39 1454.34 Q2158.47 1452.6 2155.37 1452.6 Q2153.17 1452.6 2150.71 1453.37 Q2148.28 1454.13 2145.51 1455.68 L2145.51 1450.96 Q2148.33 1449.82 2150.78 1449.25 Q2153.24 1448.67 2155.27 1448.67 Q2160.64 1448.67 2163.84 1451.35 Q2167.03 1454.04 2167.03 1458.53 Q2167.03 1460.66 2166.22 1462.58 Q2165.44 1464.48 2163.33 1467.07 Q2162.75 1467.74 2159.65 1470.96 Q2156.55 1474.15 2150.9 1479.92 Z\" fill=\"#000000\" fill-rule=\"evenodd\" fill-opacity=\"1\" /><path clip-path=\"url(#clip000)\" d=\"M 0 0 M1121.65 1539.24 Q1123.85 1535.29 1126.9 1533.41 Q1129.96 1531.54 1134.1 1531.54 Q1139.67 1531.54 1142.69 1535.45 Q1145.71 1539.33 1145.71 1546.53 L1145.71 1568.04 L1139.82 1568.04 L1139.82 1546.72 Q1139.82 1541.59 1138.01 1539.11 Q1136.2 1536.63 1132.47 1536.63 Q1127.92 1536.63 1125.28 1539.65 Q1122.64 1542.68 1122.64 1547.9 L1122.64 1568.04 L1116.75 1568.04 L1116.75 1546.72 Q1116.75 1541.56 1114.93 1539.11 Q1113.12 1536.63 1109.33 1536.63 Q1104.85 1536.63 1102.2 1539.68 Q1099.56 1542.71 1099.56 1547.9 L1099.56 1568.04 L1093.67 1568.04 L1093.67 1532.4 L1099.56 1532.4 L1099.56 1537.93 Q1101.57 1534.66 1104.37 1533.1 Q1107.17 1531.54 1111.02 1531.54 Q1114.9 1531.54 1117.61 1533.51 Q1120.35 1535.48 1121.65 1539.24 Z\" fill=\"#000000\" fill-rule=\"evenodd\" fill-opacity=\"1\" /><path clip-path=\"url(#clip000)\" d=\"M 0 0 M1151.86 1532.4 L1157.71 1532.4 L1157.71 1568.04 L1151.86 1568.04 L1151.86 1532.4 M1151.86 1518.52 L1157.71 1518.52 L1157.71 1525.93 L1151.86 1525.93 L1151.86 1518.52 Z\" fill=\"#000000\" fill-rule=\"evenodd\" fill-opacity=\"1\" /><path clip-path=\"url(#clip000)\" d=\"M 0 0 M1163.86 1518.52 L1169.71 1518.52 L1169.71 1568.04 L1163.86 1568.04 L1163.86 1518.52 Z\" fill=\"#000000\" fill-rule=\"evenodd\" fill-opacity=\"1\" /><path clip-path=\"url(#clip000)\" d=\"M 0 0 M1175.85 1532.4 L1181.71 1532.4 L1181.71 1568.04 L1175.85 1568.04 L1175.85 1532.4 M1175.85 1518.52 L1181.71 1518.52 L1181.71 1525.93 L1175.85 1525.93 L1175.85 1518.52 Z\" fill=\"#000000\" fill-rule=\"evenodd\" fill-opacity=\"1\" /><path clip-path=\"url(#clip000)\" d=\"M 0 0 M1210.58 1533.45 L1210.58 1538.98 Q1208.1 1537.71 1205.42 1537.07 Q1202.75 1536.44 1199.89 1536.44 Q1195.52 1536.44 1193.33 1537.77 Q1191.16 1539.11 1191.16 1541.79 Q1191.16 1543.82 1192.72 1545 Q1194.28 1546.15 1198.99 1547.2 L1201 1547.64 Q1207.24 1548.98 1209.85 1551.43 Q1212.49 1553.85 1212.49 1558.21 Q1212.49 1563.17 1208.54 1566.07 Q1204.63 1568.97 1197.75 1568.97 Q1194.89 1568.97 1191.77 1568.39 Q1188.68 1567.85 1185.24 1566.74 L1185.24 1560.69 Q1188.49 1562.38 1191.64 1563.24 Q1194.79 1564.07 1197.88 1564.07 Q1202.02 1564.07 1204.25 1562.66 Q1206.47 1561.23 1206.47 1558.65 Q1206.47 1556.27 1204.85 1554.99 Q1203.26 1553.72 1197.82 1552.54 L1195.78 1552.07 Q1190.34 1550.92 1187.92 1548.56 Q1185.5 1546.18 1185.5 1542.04 Q1185.5 1537.01 1189.06 1534.27 Q1192.63 1531.54 1199.18 1531.54 Q1202.43 1531.54 1205.3 1532.01 Q1208.16 1532.49 1210.58 1533.45 Z\" fill=\"#000000\" fill-rule=\"evenodd\" fill-opacity=\"1\" /><path clip-path=\"url(#clip000)\" d=\"M 0 0 M1249.12 1548.76 L1249.12 1551.62 L1222.2 1551.62 Q1222.58 1557.67 1225.83 1560.85 Q1229.1 1564 1234.93 1564 Q1238.3 1564 1241.45 1563.17 Q1244.64 1562.35 1247.76 1560.69 L1247.76 1566.23 Q1244.6 1567.57 1241.29 1568.27 Q1237.98 1568.97 1234.58 1568.97 Q1226.05 1568.97 1221.05 1564 Q1216.09 1559.04 1216.09 1550.57 Q1216.09 1541.82 1220.8 1536.69 Q1225.54 1531.54 1233.56 1531.54 Q1240.75 1531.54 1244.92 1536.18 Q1249.12 1540.8 1249.12 1548.76 M1243.27 1547.04 Q1243.2 1542.23 1240.56 1539.37 Q1237.95 1536.5 1233.62 1536.5 Q1228.72 1536.5 1225.76 1539.27 Q1222.83 1542.04 1222.39 1547.07 L1243.27 1547.04 Z\" fill=\"#000000\" fill-rule=\"evenodd\" fill-opacity=\"1\" /><path clip-path=\"url(#clip000)\" d=\"M 0 0 M1278.72 1549.81 Q1278.72 1543.44 1276.08 1539.94 Q1273.47 1536.44 1268.73 1536.44 Q1264.02 1536.44 1261.38 1539.94 Q1258.77 1543.44 1258.77 1549.81 Q1258.77 1556.14 1261.38 1559.64 Q1264.02 1563.14 1268.73 1563.14 Q1273.47 1563.14 1276.08 1559.64 Q1278.72 1556.14 1278.72 1549.81 M1284.58 1563.62 Q1284.58 1572.72 1280.54 1577.15 Q1276.5 1581.6 1268.16 1581.6 Q1265.07 1581.6 1262.33 1581.13 Q1259.6 1580.68 1257.02 1579.72 L1257.02 1574.03 Q1259.6 1575.43 1262.11 1576.1 Q1264.62 1576.76 1267.23 1576.76 Q1273 1576.76 1275.86 1573.74 Q1278.72 1570.75 1278.72 1564.67 L1278.72 1561.77 Q1276.91 1564.92 1274.08 1566.48 Q1271.24 1568.04 1267.3 1568.04 Q1260.74 1568.04 1256.73 1563.05 Q1252.72 1558.05 1252.72 1549.81 Q1252.72 1541.53 1256.73 1536.53 Q1260.74 1531.54 1267.3 1531.54 Q1271.24 1531.54 1274.08 1533.1 Q1276.91 1534.66 1278.72 1537.81 L1278.72 1532.4 L1284.58 1532.4 L1284.58 1563.62 Z\" fill=\"#000000\" fill-rule=\"evenodd\" fill-opacity=\"1\" /><path clip-path=\"url(#clip000)\" d=\"M 0 0 M1290.12 1553.98 L1290.12 1532.4 L1295.98 1532.4 L1295.98 1553.75 Q1295.98 1558.81 1297.95 1561.36 Q1299.92 1563.87 1303.87 1563.87 Q1308.61 1563.87 1311.35 1560.85 Q1314.12 1557.83 1314.12 1552.61 L1314.12 1532.4 L1319.97 1532.4 L1319.97 1568.04 L1314.12 1568.04 L1314.12 1562.57 Q1311.99 1565.82 1309.15 1567.41 Q1306.35 1568.97 1302.63 1568.97 Q1296.48 1568.97 1293.3 1565.15 Q1290.12 1561.33 1290.12 1553.98 M1304.86 1531.54 L1304.86 1531.54 Z\" fill=\"#000000\" fill-rule=\"evenodd\" fill-opacity=\"1\" /><path clip-path=\"url(#clip000)\" d=\"M 0 0 M1355.75 1546.53 L1355.75 1568.04 L1349.89 1568.04 L1349.89 1546.72 Q1349.89 1541.66 1347.92 1539.14 Q1345.95 1536.63 1342 1536.63 Q1337.26 1536.63 1334.52 1539.65 Q1331.78 1542.68 1331.78 1547.9 L1331.78 1568.04 L1325.89 1568.04 L1325.89 1532.4 L1331.78 1532.4 L1331.78 1537.93 Q1333.88 1534.72 1336.72 1533.13 Q1339.58 1531.54 1343.3 1531.54 Q1349.45 1531.54 1352.6 1535.36 Q1355.75 1539.14 1355.75 1546.53 Z\" fill=\"#000000\" fill-rule=\"evenodd\" fill-opacity=\"1\" /><path clip-path=\"url(#clip000)\" d=\"M 0 0 M1385.35 1537.81 L1385.35 1518.52 L1391.21 1518.52 L1391.21 1568.04 L1385.35 1568.04 L1385.35 1562.7 Q1383.5 1565.88 1380.67 1567.44 Q1377.87 1568.97 1373.92 1568.97 Q1367.46 1568.97 1363.39 1563.81 Q1359.35 1558.65 1359.35 1550.25 Q1359.35 1541.85 1363.39 1536.69 Q1367.46 1531.54 1373.92 1531.54 Q1377.87 1531.54 1380.67 1533.1 Q1383.5 1534.62 1385.35 1537.81 M1365.39 1550.25 Q1365.39 1556.71 1368.04 1560.4 Q1370.71 1564.07 1375.36 1564.07 Q1380 1564.07 1382.68 1560.4 Q1385.35 1556.71 1385.35 1550.25 Q1385.35 1543.79 1382.68 1540.13 Q1380 1536.44 1375.36 1536.44 Q1370.71 1536.44 1368.04 1540.13 Q1365.39 1543.79 1365.39 1550.25 Z\" fill=\"#000000\" fill-rule=\"evenodd\" fill-opacity=\"1\" /><path clip-path=\"url(#clip000)\" d=\"M 0 0 M1411.16 1536.5 Q1406.45 1536.5 1403.71 1540.19 Q1400.98 1543.85 1400.98 1550.25 Q1400.98 1556.65 1403.68 1560.34 Q1406.42 1564 1411.16 1564 Q1415.84 1564 1418.58 1560.31 Q1421.32 1556.62 1421.32 1550.25 Q1421.32 1543.92 1418.58 1540.23 Q1415.84 1536.5 1411.16 1536.5 M1411.16 1531.54 Q1418.8 1531.54 1423.16 1536.5 Q1427.52 1541.47 1427.52 1550.25 Q1427.52 1559 1423.16 1564 Q1418.8 1568.97 1411.16 1568.97 Q1403.49 1568.97 1399.13 1564 Q1394.8 1559 1394.8 1550.25 Q1394.8 1541.47 1399.13 1536.5 Q1403.49 1531.54 1411.16 1531.54 Z\" fill=\"#000000\" fill-rule=\"evenodd\" fill-opacity=\"1\" /><path clip-path=\"url(#clip000)\" d=\"M 0 0 M1456.39 1533.45 L1456.39 1538.98 Q1453.91 1537.71 1451.23 1537.07 Q1448.56 1536.44 1445.7 1536.44 Q1441.34 1536.44 1439.14 1537.77 Q1436.98 1539.11 1436.98 1541.79 Q1436.98 1543.82 1438.54 1545 Q1440.09 1546.15 1444.81 1547.2 L1446.81 1547.64 Q1453.05 1548.98 1455.66 1551.43 Q1458.3 1553.85 1458.3 1558.21 Q1458.3 1563.17 1454.35 1566.07 Q1450.44 1568.97 1443.56 1568.97 Q1440.7 1568.97 1437.58 1568.39 Q1434.49 1567.85 1431.06 1566.74 L1431.06 1560.69 Q1434.3 1562.38 1437.45 1563.24 Q1440.6 1564.07 1443.69 1564.07 Q1447.83 1564.07 1450.06 1562.66 Q1452.29 1561.23 1452.29 1558.65 Q1452.29 1556.27 1450.66 1554.99 Q1449.07 1553.72 1443.63 1552.54 L1441.59 1552.07 Q1436.15 1550.92 1433.73 1548.56 Q1431.31 1546.18 1431.31 1542.04 Q1431.31 1537.01 1434.88 1534.27 Q1438.44 1531.54 1445 1531.54 Q1448.24 1531.54 1451.11 1532.01 Q1453.97 1532.49 1456.39 1533.45 Z\" fill=\"#000000\" fill-rule=\"evenodd\" fill-opacity=\"1\" /><polyline clip-path=\"url(#clip002)\" style=\"stroke:#000000; stroke-width:2; stroke-opacity:0.1; fill:none\" points=\"\n",
       "  199.218,1384.24 2352.76,1384.24 \n",
       "  \"/>\n",
       "<polyline clip-path=\"url(#clip002)\" style=\"stroke:#000000; stroke-width:2; stroke-opacity:0.1; fill:none\" points=\"\n",
       "  199.218,1089.23 2352.76,1089.23 \n",
       "  \"/>\n",
       "<polyline clip-path=\"url(#clip002)\" style=\"stroke:#000000; stroke-width:2; stroke-opacity:0.1; fill:none\" points=\"\n",
       "  199.218,794.214 2352.76,794.214 \n",
       "  \"/>\n",
       "<polyline clip-path=\"url(#clip002)\" style=\"stroke:#000000; stroke-width:2; stroke-opacity:0.1; fill:none\" points=\"\n",
       "  199.218,499.202 2352.76,499.202 \n",
       "  \"/>\n",
       "<polyline clip-path=\"url(#clip002)\" style=\"stroke:#000000; stroke-width:2; stroke-opacity:0.1; fill:none\" points=\"\n",
       "  199.218,204.19 2352.76,204.19 \n",
       "  \"/>\n",
       "<polyline clip-path=\"url(#clip000)\" style=\"stroke:#000000; stroke-width:4; stroke-opacity:1; fill:none\" points=\"\n",
       "  199.218,1423.18 199.218,47.2441 \n",
       "  \"/>\n",
       "<polyline clip-path=\"url(#clip000)\" style=\"stroke:#000000; stroke-width:4; stroke-opacity:1; fill:none\" points=\"\n",
       "  199.218,1384.24 225.061,1384.24 \n",
       "  \"/>\n",
       "<polyline clip-path=\"url(#clip000)\" style=\"stroke:#000000; stroke-width:4; stroke-opacity:1; fill:none\" points=\"\n",
       "  199.218,1089.23 225.061,1089.23 \n",
       "  \"/>\n",
       "<polyline clip-path=\"url(#clip000)\" style=\"stroke:#000000; stroke-width:4; stroke-opacity:1; fill:none\" points=\"\n",
       "  199.218,794.214 225.061,794.214 \n",
       "  \"/>\n",
       "<polyline clip-path=\"url(#clip000)\" style=\"stroke:#000000; stroke-width:4; stroke-opacity:1; fill:none\" points=\"\n",
       "  199.218,499.202 225.061,499.202 \n",
       "  \"/>\n",
       "<polyline clip-path=\"url(#clip000)\" style=\"stroke:#000000; stroke-width:4; stroke-opacity:1; fill:none\" points=\"\n",
       "  199.218,204.19 225.061,204.19 \n",
       "  \"/>\n",
       "<path clip-path=\"url(#clip000)\" d=\"M 0 0 M151.274 1370.04 Q147.663 1370.04 145.834 1373.6 Q144.029 1377.14 144.029 1384.27 Q144.029 1391.38 145.834 1394.94 Q147.663 1398.49 151.274 1398.49 Q154.908 1398.49 156.714 1394.94 Q158.542 1391.38 158.542 1384.27 Q158.542 1377.14 156.714 1373.6 Q154.908 1370.04 151.274 1370.04 M151.274 1366.33 Q157.084 1366.33 160.14 1370.94 Q163.218 1375.52 163.218 1384.27 Q163.218 1393 160.14 1397.61 Q157.084 1402.19 151.274 1402.19 Q145.464 1402.19 142.385 1397.61 Q139.329 1393 139.329 1384.27 Q139.329 1375.52 142.385 1370.94 Q145.464 1366.33 151.274 1366.33 Z\" fill=\"#000000\" fill-rule=\"evenodd\" fill-opacity=\"1\" /><path clip-path=\"url(#clip000)\" d=\"M 0 0 M142.316 1071.95 L160.672 1071.95 L160.672 1075.88 L146.598 1075.88 L146.598 1084.35 Q147.616 1084.01 148.635 1083.84 Q149.653 1083.66 150.672 1083.66 Q156.459 1083.66 159.839 1086.83 Q163.218 1090 163.218 1095.42 Q163.218 1101 159.746 1104.1 Q156.274 1107.18 149.954 1107.18 Q147.778 1107.18 145.51 1106.81 Q143.265 1106.44 140.857 1105.7 L140.857 1101 Q142.941 1102.13 145.163 1102.69 Q147.385 1103.24 149.862 1103.24 Q153.866 1103.24 156.204 1101.14 Q158.542 1099.03 158.542 1095.42 Q158.542 1091.81 156.204 1089.7 Q153.866 1087.59 149.862 1087.59 Q147.987 1087.59 146.112 1088.01 Q144.26 1088.43 142.316 1089.31 L142.316 1071.95 Z\" fill=\"#000000\" fill-rule=\"evenodd\" fill-opacity=\"1\" /><path clip-path=\"url(#clip000)\" d=\"M 0 0 M116.297 807.559 L123.936 807.559 L123.936 781.194 L115.626 782.86 L115.626 778.601 L123.89 776.934 L128.566 776.934 L128.566 807.559 L136.204 807.559 L136.204 811.494 L116.297 811.494 L116.297 807.559 Z\" fill=\"#000000\" fill-rule=\"evenodd\" fill-opacity=\"1\" /><path clip-path=\"url(#clip000)\" d=\"M 0 0 M151.274 780.013 Q147.663 780.013 145.834 783.578 Q144.029 787.119 144.029 794.249 Q144.029 801.356 145.834 804.92 Q147.663 808.462 151.274 808.462 Q154.908 808.462 156.714 804.92 Q158.542 801.356 158.542 794.249 Q158.542 787.119 156.714 783.578 Q154.908 780.013 151.274 780.013 M151.274 776.309 Q157.084 776.309 160.14 780.916 Q163.218 785.499 163.218 794.249 Q163.218 802.976 160.14 807.582 Q157.084 812.166 151.274 812.166 Q145.464 812.166 142.385 807.582 Q139.329 802.976 139.329 794.249 Q139.329 785.499 142.385 780.916 Q145.464 776.309 151.274 776.309 Z\" fill=\"#000000\" fill-rule=\"evenodd\" fill-opacity=\"1\" /><path clip-path=\"url(#clip000)\" d=\"M 0 0 M117.293 512.547 L124.931 512.547 L124.931 486.182 L116.621 487.848 L116.621 483.589 L124.885 481.922 L129.561 481.922 L129.561 512.547 L137.2 512.547 L137.2 516.482 L117.293 516.482 L117.293 512.547 Z\" fill=\"#000000\" fill-rule=\"evenodd\" fill-opacity=\"1\" /><path clip-path=\"url(#clip000)\" d=\"M 0 0 M142.316 481.922 L160.672 481.922 L160.672 485.858 L146.598 485.858 L146.598 494.33 Q147.616 493.983 148.635 493.82 Q149.653 493.635 150.672 493.635 Q156.459 493.635 159.839 496.807 Q163.218 499.978 163.218 505.395 Q163.218 510.973 159.746 514.075 Q156.274 517.154 149.954 517.154 Q147.778 517.154 145.51 516.783 Q143.265 516.413 140.857 515.672 L140.857 510.973 Q142.941 512.107 145.163 512.663 Q147.385 513.219 149.862 513.219 Q153.866 513.219 156.204 511.112 Q158.542 509.006 158.542 505.395 Q158.542 501.783 156.204 499.677 Q153.866 497.57 149.862 497.57 Q147.987 497.57 146.112 497.987 Q144.26 498.404 142.316 499.283 L142.316 481.922 Z\" fill=\"#000000\" fill-rule=\"evenodd\" fill-opacity=\"1\" /><path clip-path=\"url(#clip000)\" d=\"M 0 0 M119.885 217.535 L136.204 217.535 L136.204 221.47 L114.26 221.47 L114.26 217.535 Q116.922 214.781 121.505 210.151 Q126.112 205.498 127.292 204.156 Q129.538 201.633 130.417 199.896 Q131.32 198.137 131.32 196.447 Q131.32 193.693 129.376 191.957 Q127.455 190.221 124.353 190.221 Q122.154 190.221 119.7 190.985 Q117.269 191.748 114.492 193.299 L114.492 188.577 Q117.316 187.443 119.769 186.864 Q122.223 186.285 124.26 186.285 Q129.63 186.285 132.825 188.971 Q136.019 191.656 136.019 196.147 Q136.019 198.276 135.209 200.197 Q134.422 202.096 132.316 204.688 Q131.737 205.359 128.635 208.577 Q125.533 211.771 119.885 217.535 Z\" fill=\"#000000\" fill-rule=\"evenodd\" fill-opacity=\"1\" /><path clip-path=\"url(#clip000)\" d=\"M 0 0 M151.274 189.989 Q147.663 189.989 145.834 193.554 Q144.029 197.096 144.029 204.225 Q144.029 211.332 145.834 214.896 Q147.663 218.438 151.274 218.438 Q154.908 218.438 156.714 214.896 Q158.542 211.332 158.542 204.225 Q158.542 197.096 156.714 193.554 Q154.908 189.989 151.274 189.989 M151.274 186.285 Q157.084 186.285 160.14 190.892 Q163.218 195.475 163.218 204.225 Q163.218 212.952 160.14 217.558 Q157.084 222.142 151.274 222.142 Q145.464 222.142 142.385 217.558 Q139.329 212.952 139.329 204.225 Q139.329 195.475 142.385 190.892 Q145.464 186.285 151.274 186.285 Z\" fill=\"#000000\" fill-rule=\"evenodd\" fill-opacity=\"1\" /><path clip-path=\"url(#clip000)\" d=\"M 0 0 M16.4842 888.037 L16.4842 860.728 L21.895 860.728 L21.895 881.607 L35.8996 881.607 L35.8996 862.765 L41.3104 862.765 L41.3104 881.607 L64.0042 881.607 L64.0042 888.037 L16.4842 888.037 Z\" fill=\"#000000\" fill-rule=\"evenodd\" fill-opacity=\"1\" /><path clip-path=\"url(#clip000)\" d=\"M 0 0 M33.8307 838.671 Q33.2578 839.657 33.0032 840.835 Q32.7167 841.981 32.7167 843.381 Q32.7167 848.346 35.9632 851.02 Q39.1779 853.662 45.2253 853.662 L64.0042 853.662 L64.0042 859.55 L28.3562 859.55 L28.3562 853.662 L33.8944 853.662 Q30.6479 851.816 29.0883 848.856 Q27.4968 845.896 27.4968 841.662 Q27.4968 841.058 27.5923 840.326 Q27.656 839.594 27.8151 838.702 L33.8307 838.671 Z\" fill=\"#000000\" fill-rule=\"evenodd\" fill-opacity=\"1\" /><path clip-path=\"url(#clip000)\" d=\"M 0 0 M44.7161 803.468 L47.5806 803.468 L47.5806 830.395 Q53.6281 830.013 56.8109 826.767 Q59.9619 823.488 59.9619 817.664 Q59.9619 814.29 59.1344 811.139 Q58.3069 807.956 56.6518 804.837 L62.1899 804.837 Q63.5267 807.988 64.227 811.298 Q64.9272 814.608 64.9272 818.014 Q64.9272 826.544 59.9619 831.541 Q54.9967 836.506 46.5303 836.506 Q37.7774 836.506 32.6531 831.796 Q27.4968 827.053 27.4968 819.032 Q27.4968 811.839 32.1438 807.67 Q36.7589 803.468 44.7161 803.468 M42.9973 809.325 Q38.1912 809.388 35.3266 812.03 Q32.4621 814.64 32.4621 818.969 Q32.4621 823.87 35.2312 826.83 Q38.0002 829.759 43.0292 830.204 L42.9973 809.325 Z\" fill=\"#000000\" fill-rule=\"evenodd\" fill-opacity=\"1\" /><path clip-path=\"url(#clip000)\" d=\"M 0 0 M46.212 793.824 Q52.6732 793.824 56.3653 791.182 Q60.0256 788.509 60.0256 783.862 Q60.0256 779.215 56.3653 776.541 Q52.6732 773.868 46.212 773.868 Q39.7508 773.868 36.0905 776.541 Q32.3984 779.215 32.3984 783.862 Q32.3984 788.509 36.0905 791.182 Q39.7508 793.824 46.212 793.824 M58.657 773.868 Q61.8398 775.714 63.3994 778.547 Q64.9272 781.347 64.9272 785.294 Q64.9272 791.755 59.771 795.829 Q54.6147 799.872 46.212 799.872 Q37.8093 799.872 32.6531 795.829 Q27.4968 791.755 27.4968 785.294 Q27.4968 781.347 29.0564 778.547 Q30.5842 775.714 33.7671 773.868 L28.3562 773.868 L28.3562 768.011 L77.5631 768.011 L77.5631 773.868 L58.657 773.868 Z\" fill=\"#000000\" fill-rule=\"evenodd\" fill-opacity=\"1\" /><path clip-path=\"url(#clip000)\" d=\"M 0 0 M49.9359 762.473 L28.3562 762.473 L28.3562 756.617 L49.7131 756.617 Q54.7739 756.617 57.3202 754.643 Q59.8346 752.67 59.8346 748.723 Q59.8346 743.981 56.8109 741.243 Q53.7872 738.474 48.5673 738.474 L28.3562 738.474 L28.3562 732.618 L64.0042 732.618 L64.0042 738.474 L58.5296 738.474 Q61.7762 740.607 63.3676 743.44 Q64.9272 746.241 64.9272 749.964 Q64.9272 756.107 61.1078 759.29 Q57.2883 762.473 49.9359 762.473 M27.4968 747.736 L27.4968 747.736 Z\" fill=\"#000000\" fill-rule=\"evenodd\" fill-opacity=\"1\" /><path clip-path=\"url(#clip000)\" d=\"M 0 0 M44.7161 695.983 L47.5806 695.983 L47.5806 722.91 Q53.6281 722.528 56.8109 719.282 Q59.9619 716.003 59.9619 710.179 Q59.9619 706.805 59.1344 703.654 Q58.3069 700.471 56.6518 697.352 L62.1899 697.352 Q63.5267 700.503 64.227 703.813 Q64.9272 707.123 64.9272 710.529 Q64.9272 719.059 59.9619 724.056 Q54.9967 729.021 46.5303 729.021 Q37.7774 729.021 32.6531 724.311 Q27.4968 719.568 27.4968 711.547 Q27.4968 704.354 32.1438 700.185 Q36.7589 695.983 44.7161 695.983 M42.9973 701.84 Q38.1912 701.903 35.3266 704.545 Q32.4621 707.155 32.4621 711.484 Q32.4621 716.385 35.2312 719.345 Q38.0002 722.274 43.0292 722.719 L42.9973 701.84 M11.869 714.253 L11.869 709.542 L23.8365 701.744 L23.8365 706.168 L16.0386 711.898 L23.8365 717.627 L23.8365 722.051 L11.869 714.253 Z\" fill=\"#000000\" fill-rule=\"evenodd\" fill-opacity=\"1\" /><path clip-path=\"url(#clip000)\" d=\"M 0 0 M42.4881 660.208 L64.0042 660.208 L64.0042 666.064 L42.679 666.064 Q37.6183 666.064 35.1038 668.038 Q32.5894 670.011 32.5894 673.958 Q32.5894 678.7 35.6131 681.438 Q38.6368 684.175 43.8567 684.175 L64.0042 684.175 L64.0042 690.063 L28.3562 690.063 L28.3562 684.175 L33.8944 684.175 Q30.6797 682.074 29.0883 679.241 Q27.4968 676.377 27.4968 672.653 Q27.4968 666.51 31.3163 663.359 Q35.1038 660.208 42.4881 660.208 Z\" fill=\"#000000\" fill-rule=\"evenodd\" fill-opacity=\"1\" /><path clip-path=\"url(#clip000)\" d=\"M 0 0 M29.7248 628.411 L35.1993 628.411 Q33.8307 630.894 33.1623 633.408 Q32.4621 635.891 32.4621 638.437 Q32.4621 644.135 36.0905 647.286 Q39.6872 650.437 46.212 650.437 Q52.7369 650.437 56.3653 647.286 Q59.9619 644.135 59.9619 638.437 Q59.9619 635.891 59.2935 633.408 Q58.5933 630.894 57.2247 628.411 L62.6355 628.411 Q63.7814 630.862 64.3543 633.504 Q64.9272 636.114 64.9272 639.074 Q64.9272 647.127 59.8664 651.869 Q54.8057 656.611 46.212 656.611 Q37.491 656.611 32.4939 651.837 Q27.4968 647.031 27.4968 638.692 Q27.4968 635.987 28.0697 633.408 Q28.6108 630.83 29.7248 628.411 Z\" fill=\"#000000\" fill-rule=\"evenodd\" fill-opacity=\"1\" /><path clip-path=\"url(#clip000)\" d=\"M 0 0 M28.3562 622.268 L28.3562 616.412 L64.0042 616.412 L64.0042 622.268 L28.3562 622.268 M14.479 622.268 L14.479 616.412 L21.895 616.412 L21.895 622.268 L14.479 622.268 Z\" fill=\"#000000\" fill-rule=\"evenodd\" fill-opacity=\"1\" /><path clip-path=\"url(#clip000)\" d=\"M 0 0 M46.0847 594.068 Q46.0847 601.166 47.7079 603.903 Q49.3312 606.641 53.2461 606.641 Q56.3653 606.641 58.2114 604.604 Q60.0256 602.535 60.0256 599.002 Q60.0256 594.132 56.5881 591.204 Q53.1188 588.244 47.3897 588.244 L46.0847 588.244 L46.0847 594.068 M43.6657 582.387 L64.0042 582.387 L64.0042 588.244 L58.5933 588.244 Q61.8398 590.249 63.3994 593.241 Q64.9272 596.233 64.9272 600.561 Q64.9272 606.036 61.8716 609.282 Q58.7843 612.497 53.6281 612.497 Q47.6125 612.497 44.5569 608.487 Q41.5014 604.444 41.5014 596.455 L41.5014 588.244 L40.9285 588.244 Q36.8862 588.244 34.6901 590.917 Q32.4621 593.559 32.4621 598.365 Q32.4621 601.421 33.1941 604.317 Q33.9262 607.214 35.3903 609.887 L29.9795 609.887 Q28.7381 606.672 28.1334 603.649 Q27.4968 600.625 27.4968 597.76 Q27.4968 590.026 31.5072 586.207 Q35.5176 582.387 43.6657 582.387 Z\" fill=\"#000000\" fill-rule=\"evenodd\" fill-opacity=\"1\" /><path clip-path=\"url(#clip002)\" d=\"\n",
       "M425.461 1325.24 L425.461 1384.24 L441.639 1384.24 L441.639 1325.24 L425.461 1325.24 L425.461 1325.24  Z\n",
       "  \" fill=\"#009af9\" fill-rule=\"evenodd\" fill-opacity=\"1\"/>\n",
       "<polyline clip-path=\"url(#clip002)\" style=\"stroke:#000000; stroke-width:4; stroke-opacity:1; fill:none\" points=\"\n",
       "  425.461,1325.24 425.461,1384.24 441.639,1384.24 441.639,1325.24 425.461,1325.24 \n",
       "  \"/>\n",
       "<path clip-path=\"url(#clip002)\" d=\"\n",
       "M441.639 1384.24 L441.639 1384.24 L457.816 1384.24 L457.816 1384.24 L441.639 1384.24 L441.639 1384.24  Z\n",
       "  \" fill=\"#009af9\" fill-rule=\"evenodd\" fill-opacity=\"1\"/>\n",
       "<polyline clip-path=\"url(#clip002)\" style=\"stroke:#000000; stroke-width:4; stroke-opacity:1; fill:none\" points=\"\n",
       "  441.639,1384.24 441.639,1384.24 457.816,1384.24 441.639,1384.24 \n",
       "  \"/>\n",
       "<path clip-path=\"url(#clip002)\" d=\"\n",
       "M457.816 1384.24 L457.816 1384.24 L473.994 1384.24 L473.994 1384.24 L457.816 1384.24 L457.816 1384.24  Z\n",
       "  \" fill=\"#009af9\" fill-rule=\"evenodd\" fill-opacity=\"1\"/>\n",
       "<polyline clip-path=\"url(#clip002)\" style=\"stroke:#000000; stroke-width:4; stroke-opacity:1; fill:none\" points=\"\n",
       "  457.816,1384.24 457.816,1384.24 473.994,1384.24 457.816,1384.24 \n",
       "  \"/>\n",
       "<path clip-path=\"url(#clip002)\" d=\"\n",
       "M473.994 1266.23 L473.994 1384.24 L490.171 1384.24 L490.171 1266.23 L473.994 1266.23 L473.994 1266.23  Z\n",
       "  \" fill=\"#009af9\" fill-rule=\"evenodd\" fill-opacity=\"1\"/>\n",
       "<polyline clip-path=\"url(#clip002)\" style=\"stroke:#000000; stroke-width:4; stroke-opacity:1; fill:none\" points=\"\n",
       "  473.994,1266.23 473.994,1384.24 490.171,1384.24 490.171,1266.23 473.994,1266.23 \n",
       "  \"/>\n",
       "<path clip-path=\"url(#clip002)\" d=\"\n",
       "M490.171 1384.24 L490.171 1384.24 L506.348 1384.24 L506.348 1384.24 L490.171 1384.24 L490.171 1384.24  Z\n",
       "  \" fill=\"#009af9\" fill-rule=\"evenodd\" fill-opacity=\"1\"/>\n",
       "<polyline clip-path=\"url(#clip002)\" style=\"stroke:#000000; stroke-width:4; stroke-opacity:1; fill:none\" points=\"\n",
       "  490.171,1384.24 490.171,1384.24 506.348,1384.24 490.171,1384.24 \n",
       "  \"/>\n",
       "<path clip-path=\"url(#clip002)\" d=\"\n",
       "M506.348 1384.24 L506.348 1384.24 L522.526 1384.24 L522.526 1384.24 L506.348 1384.24 L506.348 1384.24  Z\n",
       "  \" fill=\"#009af9\" fill-rule=\"evenodd\" fill-opacity=\"1\"/>\n",
       "<polyline clip-path=\"url(#clip002)\" style=\"stroke:#000000; stroke-width:4; stroke-opacity:1; fill:none\" points=\"\n",
       "  506.348,1384.24 506.348,1384.24 522.526,1384.24 506.348,1384.24 \n",
       "  \"/>\n",
       "<path clip-path=\"url(#clip002)\" d=\"\n",
       "M522.526 1325.24 L522.526 1384.24 L538.703 1384.24 L538.703 1325.24 L522.526 1325.24 L522.526 1325.24  Z\n",
       "  \" fill=\"#009af9\" fill-rule=\"evenodd\" fill-opacity=\"1\"/>\n",
       "<polyline clip-path=\"url(#clip002)\" style=\"stroke:#000000; stroke-width:4; stroke-opacity:1; fill:none\" points=\"\n",
       "  522.526,1325.24 522.526,1384.24 538.703,1384.24 538.703,1325.24 522.526,1325.24 \n",
       "  \"/>\n",
       "<path clip-path=\"url(#clip002)\" d=\"\n",
       "M538.703 1384.24 L538.703 1384.24 L554.881 1384.24 L554.881 1384.24 L538.703 1384.24 L538.703 1384.24  Z\n",
       "  \" fill=\"#009af9\" fill-rule=\"evenodd\" fill-opacity=\"1\"/>\n",
       "<polyline clip-path=\"url(#clip002)\" style=\"stroke:#000000; stroke-width:4; stroke-opacity:1; fill:none\" points=\"\n",
       "  538.703,1384.24 538.703,1384.24 554.881,1384.24 538.703,1384.24 \n",
       "  \"/>\n",
       "<path clip-path=\"url(#clip002)\" d=\"\n",
       "M554.881 1266.23 L554.881 1384.24 L571.058 1384.24 L571.058 1266.23 L554.881 1266.23 L554.881 1266.23  Z\n",
       "  \" fill=\"#009af9\" fill-rule=\"evenodd\" fill-opacity=\"1\"/>\n",
       "<polyline clip-path=\"url(#clip002)\" style=\"stroke:#000000; stroke-width:4; stroke-opacity:1; fill:none\" points=\"\n",
       "  554.881,1266.23 554.881,1384.24 571.058,1384.24 571.058,1266.23 554.881,1266.23 \n",
       "  \"/>\n",
       "<path clip-path=\"url(#clip002)\" d=\"\n",
       "M571.058 1148.23 L571.058 1384.24 L587.236 1384.24 L587.236 1148.23 L571.058 1148.23 L571.058 1148.23  Z\n",
       "  \" fill=\"#009af9\" fill-rule=\"evenodd\" fill-opacity=\"1\"/>\n",
       "<polyline clip-path=\"url(#clip002)\" style=\"stroke:#000000; stroke-width:4; stroke-opacity:1; fill:none\" points=\"\n",
       "  571.058,1148.23 571.058,1384.24 587.236,1384.24 587.236,1148.23 571.058,1148.23 \n",
       "  \"/>\n",
       "<path clip-path=\"url(#clip002)\" d=\"\n",
       "M587.236 1325.24 L587.236 1384.24 L603.413 1384.24 L603.413 1325.24 L587.236 1325.24 L587.236 1325.24  Z\n",
       "  \" fill=\"#009af9\" fill-rule=\"evenodd\" fill-opacity=\"1\"/>\n",
       "<polyline clip-path=\"url(#clip002)\" style=\"stroke:#000000; stroke-width:4; stroke-opacity:1; fill:none\" points=\"\n",
       "  587.236,1325.24 587.236,1384.24 603.413,1384.24 603.413,1325.24 587.236,1325.24 \n",
       "  \"/>\n",
       "<path clip-path=\"url(#clip002)\" d=\"\n",
       "M603.413 1266.23 L603.413 1384.24 L619.591 1384.24 L619.591 1266.23 L603.413 1266.23 L603.413 1266.23  Z\n",
       "  \" fill=\"#009af9\" fill-rule=\"evenodd\" fill-opacity=\"1\"/>\n",
       "<polyline clip-path=\"url(#clip002)\" style=\"stroke:#000000; stroke-width:4; stroke-opacity:1; fill:none\" points=\"\n",
       "  603.413,1266.23 603.413,1384.24 619.591,1384.24 619.591,1266.23 603.413,1266.23 \n",
       "  \"/>\n",
       "<path clip-path=\"url(#clip002)\" d=\"\n",
       "M619.591 1325.24 L619.591 1384.24 L635.768 1384.24 L635.768 1325.24 L619.591 1325.24 L619.591 1325.24  Z\n",
       "  \" fill=\"#009af9\" fill-rule=\"evenodd\" fill-opacity=\"1\"/>\n",
       "<polyline clip-path=\"url(#clip002)\" style=\"stroke:#000000; stroke-width:4; stroke-opacity:1; fill:none\" points=\"\n",
       "  619.591,1325.24 619.591,1384.24 635.768,1384.24 635.768,1325.24 619.591,1325.24 \n",
       "  \"/>\n",
       "<path clip-path=\"url(#clip002)\" d=\"\n",
       "M635.768 1148.23 L635.768 1384.24 L651.945 1384.24 L651.945 1148.23 L635.768 1148.23 L635.768 1148.23  Z\n",
       "  \" fill=\"#009af9\" fill-rule=\"evenodd\" fill-opacity=\"1\"/>\n",
       "<polyline clip-path=\"url(#clip002)\" style=\"stroke:#000000; stroke-width:4; stroke-opacity:1; fill:none\" points=\"\n",
       "  635.768,1148.23 635.768,1384.24 651.945,1384.24 651.945,1148.23 635.768,1148.23 \n",
       "  \"/>\n",
       "<path clip-path=\"url(#clip002)\" d=\"\n",
       "M651.945 1325.24 L651.945 1384.24 L668.123 1384.24 L668.123 1325.24 L651.945 1325.24 L651.945 1325.24  Z\n",
       "  \" fill=\"#009af9\" fill-rule=\"evenodd\" fill-opacity=\"1\"/>\n",
       "<polyline clip-path=\"url(#clip002)\" style=\"stroke:#000000; stroke-width:4; stroke-opacity:1; fill:none\" points=\"\n",
       "  651.945,1325.24 651.945,1384.24 668.123,1384.24 668.123,1325.24 651.945,1325.24 \n",
       "  \"/>\n",
       "<path clip-path=\"url(#clip002)\" d=\"\n",
       "M668.123 1089.23 L668.123 1384.24 L684.3 1384.24 L684.3 1089.23 L668.123 1089.23 L668.123 1089.23  Z\n",
       "  \" fill=\"#009af9\" fill-rule=\"evenodd\" fill-opacity=\"1\"/>\n",
       "<polyline clip-path=\"url(#clip002)\" style=\"stroke:#000000; stroke-width:4; stroke-opacity:1; fill:none\" points=\"\n",
       "  668.123,1089.23 668.123,1384.24 684.3,1384.24 684.3,1089.23 668.123,1089.23 \n",
       "  \"/>\n",
       "<path clip-path=\"url(#clip002)\" d=\"\n",
       "M684.3 1148.23 L684.3 1384.24 L700.478 1384.24 L700.478 1148.23 L684.3 1148.23 L684.3 1148.23  Z\n",
       "  \" fill=\"#009af9\" fill-rule=\"evenodd\" fill-opacity=\"1\"/>\n",
       "<polyline clip-path=\"url(#clip002)\" style=\"stroke:#000000; stroke-width:4; stroke-opacity:1; fill:none\" points=\"\n",
       "  684.3,1148.23 684.3,1384.24 700.478,1384.24 700.478,1148.23 684.3,1148.23 \n",
       "  \"/>\n",
       "<path clip-path=\"url(#clip002)\" d=\"\n",
       "M700.478 912.219 L700.478 1384.24 L716.655 1384.24 L716.655 912.219 L700.478 912.219 L700.478 912.219  Z\n",
       "  \" fill=\"#009af9\" fill-rule=\"evenodd\" fill-opacity=\"1\"/>\n",
       "<polyline clip-path=\"url(#clip002)\" style=\"stroke:#000000; stroke-width:4; stroke-opacity:1; fill:none\" points=\"\n",
       "  700.478,912.219 700.478,1384.24 716.655,1384.24 716.655,912.219 700.478,912.219 \n",
       "  \"/>\n",
       "<path clip-path=\"url(#clip002)\" d=\"\n",
       "M716.655 1089.23 L716.655 1384.24 L732.833 1384.24 L732.833 1089.23 L716.655 1089.23 L716.655 1089.23  Z\n",
       "  \" fill=\"#009af9\" fill-rule=\"evenodd\" fill-opacity=\"1\"/>\n",
       "<polyline clip-path=\"url(#clip002)\" style=\"stroke:#000000; stroke-width:4; stroke-opacity:1; fill:none\" points=\"\n",
       "  716.655,1089.23 716.655,1384.24 732.833,1384.24 732.833,1089.23 716.655,1089.23 \n",
       "  \"/>\n",
       "<path clip-path=\"url(#clip002)\" d=\"\n",
       "M732.833 971.222 L732.833 1384.24 L749.01 1384.24 L749.01 971.222 L732.833 971.222 L732.833 971.222  Z\n",
       "  \" fill=\"#009af9\" fill-rule=\"evenodd\" fill-opacity=\"1\"/>\n",
       "<polyline clip-path=\"url(#clip002)\" style=\"stroke:#000000; stroke-width:4; stroke-opacity:1; fill:none\" points=\"\n",
       "  732.833,971.222 732.833,1384.24 749.01,1384.24 749.01,971.222 732.833,971.222 \n",
       "  \"/>\n",
       "<path clip-path=\"url(#clip002)\" d=\"\n",
       "M749.01 794.214 L749.01 1384.24 L765.188 1384.24 L765.188 794.214 L749.01 794.214 L749.01 794.214  Z\n",
       "  \" fill=\"#009af9\" fill-rule=\"evenodd\" fill-opacity=\"1\"/>\n",
       "<polyline clip-path=\"url(#clip002)\" style=\"stroke:#000000; stroke-width:4; stroke-opacity:1; fill:none\" points=\"\n",
       "  749.01,794.214 749.01,1384.24 765.188,1384.24 765.188,794.214 749.01,794.214 \n",
       "  \"/>\n",
       "<path clip-path=\"url(#clip002)\" d=\"\n",
       "M765.188 971.222 L765.188 1384.24 L781.365 1384.24 L781.365 971.222 L765.188 971.222 L765.188 971.222  Z\n",
       "  \" fill=\"#009af9\" fill-rule=\"evenodd\" fill-opacity=\"1\"/>\n",
       "<polyline clip-path=\"url(#clip002)\" style=\"stroke:#000000; stroke-width:4; stroke-opacity:1; fill:none\" points=\"\n",
       "  765.188,971.222 765.188,1384.24 781.365,1384.24 781.365,971.222 765.188,971.222 \n",
       "  \"/>\n",
       "<path clip-path=\"url(#clip002)\" d=\"\n",
       "M781.365 853.217 L781.365 1384.24 L797.543 1384.24 L797.543 853.217 L781.365 853.217 L781.365 853.217  Z\n",
       "  \" fill=\"#009af9\" fill-rule=\"evenodd\" fill-opacity=\"1\"/>\n",
       "<polyline clip-path=\"url(#clip002)\" style=\"stroke:#000000; stroke-width:4; stroke-opacity:1; fill:none\" points=\"\n",
       "  781.365,853.217 781.365,1384.24 797.543,1384.24 797.543,853.217 781.365,853.217 \n",
       "  \"/>\n",
       "<path clip-path=\"url(#clip002)\" d=\"\n",
       "M797.543 1030.22 L797.543 1384.24 L813.72 1384.24 L813.72 1030.22 L797.543 1030.22 L797.543 1030.22  Z\n",
       "  \" fill=\"#009af9\" fill-rule=\"evenodd\" fill-opacity=\"1\"/>\n",
       "<polyline clip-path=\"url(#clip002)\" style=\"stroke:#000000; stroke-width:4; stroke-opacity:1; fill:none\" points=\"\n",
       "  797.543,1030.22 797.543,1384.24 813.72,1384.24 813.72,1030.22 797.543,1030.22 \n",
       "  \"/>\n",
       "<path clip-path=\"url(#clip002)\" d=\"\n",
       "M813.72 853.217 L813.72 1384.24 L829.897 1384.24 L829.897 853.217 L813.72 853.217 L813.72 853.217  Z\n",
       "  \" fill=\"#009af9\" fill-rule=\"evenodd\" fill-opacity=\"1\"/>\n",
       "<polyline clip-path=\"url(#clip002)\" style=\"stroke:#000000; stroke-width:4; stroke-opacity:1; fill:none\" points=\"\n",
       "  813.72,853.217 813.72,1384.24 829.897,1384.24 829.897,853.217 813.72,853.217 \n",
       "  \"/>\n",
       "<path clip-path=\"url(#clip002)\" d=\"\n",
       "M829.897 499.202 L829.897 1384.24 L846.075 1384.24 L846.075 499.202 L829.897 499.202 L829.897 499.202  Z\n",
       "  \" fill=\"#009af9\" fill-rule=\"evenodd\" fill-opacity=\"1\"/>\n",
       "<polyline clip-path=\"url(#clip002)\" style=\"stroke:#000000; stroke-width:4; stroke-opacity:1; fill:none\" points=\"\n",
       "  829.897,499.202 829.897,1384.24 846.075,1384.24 846.075,499.202 829.897,499.202 \n",
       "  \"/>\n",
       "<path clip-path=\"url(#clip002)\" d=\"\n",
       "M846.075 735.212 L846.075 1384.24 L862.252 1384.24 L862.252 735.212 L846.075 735.212 L846.075 735.212  Z\n",
       "  \" fill=\"#009af9\" fill-rule=\"evenodd\" fill-opacity=\"1\"/>\n",
       "<polyline clip-path=\"url(#clip002)\" style=\"stroke:#000000; stroke-width:4; stroke-opacity:1; fill:none\" points=\"\n",
       "  846.075,735.212 846.075,1384.24 862.252,1384.24 862.252,735.212 846.075,735.212 \n",
       "  \"/>\n",
       "<path clip-path=\"url(#clip002)\" d=\"\n",
       "M862.252 86.1857 L862.252 1384.24 L878.43 1384.24 L878.43 86.1857 L862.252 86.1857 L862.252 86.1857  Z\n",
       "  \" fill=\"#009af9\" fill-rule=\"evenodd\" fill-opacity=\"1\"/>\n",
       "<polyline clip-path=\"url(#clip002)\" style=\"stroke:#000000; stroke-width:4; stroke-opacity:1; fill:none\" points=\"\n",
       "  862.252,86.1857 862.252,1384.24 878.43,1384.24 878.43,86.1857 862.252,86.1857 \n",
       "  \"/>\n",
       "<path clip-path=\"url(#clip002)\" d=\"\n",
       "M878.43 499.202 L878.43 1384.24 L894.607 1384.24 L894.607 499.202 L878.43 499.202 L878.43 499.202  Z\n",
       "  \" fill=\"#009af9\" fill-rule=\"evenodd\" fill-opacity=\"1\"/>\n",
       "<polyline clip-path=\"url(#clip002)\" style=\"stroke:#000000; stroke-width:4; stroke-opacity:1; fill:none\" points=\"\n",
       "  878.43,499.202 878.43,1384.24 894.607,1384.24 894.607,499.202 878.43,499.202 \n",
       "  \"/>\n",
       "<path clip-path=\"url(#clip002)\" d=\"\n",
       "M894.607 499.202 L894.607 1384.24 L910.785 1384.24 L910.785 499.202 L894.607 499.202 L894.607 499.202  Z\n",
       "  \" fill=\"#009af9\" fill-rule=\"evenodd\" fill-opacity=\"1\"/>\n",
       "<polyline clip-path=\"url(#clip002)\" style=\"stroke:#000000; stroke-width:4; stroke-opacity:1; fill:none\" points=\"\n",
       "  894.607,499.202 894.607,1384.24 910.785,1384.24 910.785,499.202 894.607,499.202 \n",
       "  \"/>\n",
       "<path clip-path=\"url(#clip002)\" d=\"\n",
       "M910.785 617.207 L910.785 1384.24 L926.962 1384.24 L926.962 617.207 L910.785 617.207 L910.785 617.207  Z\n",
       "  \" fill=\"#009af9\" fill-rule=\"evenodd\" fill-opacity=\"1\"/>\n",
       "<polyline clip-path=\"url(#clip002)\" style=\"stroke:#000000; stroke-width:4; stroke-opacity:1; fill:none\" points=\"\n",
       "  910.785,617.207 910.785,1384.24 926.962,1384.24 926.962,617.207 910.785,617.207 \n",
       "  \"/>\n",
       "<path clip-path=\"url(#clip002)\" d=\"\n",
       "M926.962 558.205 L926.962 1384.24 L943.14 1384.24 L943.14 558.205 L926.962 558.205 L926.962 558.205  Z\n",
       "  \" fill=\"#009af9\" fill-rule=\"evenodd\" fill-opacity=\"1\"/>\n",
       "<polyline clip-path=\"url(#clip002)\" style=\"stroke:#000000; stroke-width:4; stroke-opacity:1; fill:none\" points=\"\n",
       "  926.962,558.205 926.962,1384.24 943.14,1384.24 943.14,558.205 926.962,558.205 \n",
       "  \"/>\n",
       "<path clip-path=\"url(#clip002)\" d=\"\n",
       "M943.14 440.2 L943.14 1384.24 L959.317 1384.24 L959.317 440.2 L943.14 440.2 L943.14 440.2  Z\n",
       "  \" fill=\"#009af9\" fill-rule=\"evenodd\" fill-opacity=\"1\"/>\n",
       "<polyline clip-path=\"url(#clip002)\" style=\"stroke:#000000; stroke-width:4; stroke-opacity:1; fill:none\" points=\"\n",
       "  943.14,440.2 943.14,1384.24 959.317,1384.24 959.317,440.2 943.14,440.2 \n",
       "  \"/>\n",
       "<path clip-path=\"url(#clip002)\" d=\"\n",
       "M959.317 322.195 L959.317 1384.24 L975.495 1384.24 L975.495 322.195 L959.317 322.195 L959.317 322.195  Z\n",
       "  \" fill=\"#009af9\" fill-rule=\"evenodd\" fill-opacity=\"1\"/>\n",
       "<polyline clip-path=\"url(#clip002)\" style=\"stroke:#000000; stroke-width:4; stroke-opacity:1; fill:none\" points=\"\n",
       "  959.317,322.195 959.317,1384.24 975.495,1384.24 975.495,322.195 959.317,322.195 \n",
       "  \"/>\n",
       "<path clip-path=\"url(#clip002)\" d=\"\n",
       "M975.495 794.214 L975.495 1384.24 L991.672 1384.24 L991.672 794.214 L975.495 794.214 L975.495 794.214  Z\n",
       "  \" fill=\"#009af9\" fill-rule=\"evenodd\" fill-opacity=\"1\"/>\n",
       "<polyline clip-path=\"url(#clip002)\" style=\"stroke:#000000; stroke-width:4; stroke-opacity:1; fill:none\" points=\"\n",
       "  975.495,794.214 975.495,1384.24 991.672,1384.24 991.672,794.214 975.495,794.214 \n",
       "  \"/>\n",
       "<path clip-path=\"url(#clip002)\" d=\"\n",
       "M991.672 499.202 L991.672 1384.24 L1007.85 1384.24 L1007.85 499.202 L991.672 499.202 L991.672 499.202  Z\n",
       "  \" fill=\"#009af9\" fill-rule=\"evenodd\" fill-opacity=\"1\"/>\n",
       "<polyline clip-path=\"url(#clip002)\" style=\"stroke:#000000; stroke-width:4; stroke-opacity:1; fill:none\" points=\"\n",
       "  991.672,499.202 991.672,1384.24 1007.85,1384.24 1007.85,499.202 991.672,499.202 \n",
       "  \"/>\n",
       "<path clip-path=\"url(#clip002)\" d=\"\n",
       "M1007.85 440.2 L1007.85 1384.24 L1024.03 1384.24 L1024.03 440.2 L1007.85 440.2 L1007.85 440.2  Z\n",
       "  \" fill=\"#009af9\" fill-rule=\"evenodd\" fill-opacity=\"1\"/>\n",
       "<polyline clip-path=\"url(#clip002)\" style=\"stroke:#000000; stroke-width:4; stroke-opacity:1; fill:none\" points=\"\n",
       "  1007.85,440.2 1007.85,1384.24 1024.03,1384.24 1024.03,440.2 1007.85,440.2 \n",
       "  \"/>\n",
       "<path clip-path=\"url(#clip002)\" d=\"\n",
       "M1024.03 499.202 L1024.03 1384.24 L1040.2 1384.24 L1040.2 499.202 L1024.03 499.202 L1024.03 499.202  Z\n",
       "  \" fill=\"#009af9\" fill-rule=\"evenodd\" fill-opacity=\"1\"/>\n",
       "<polyline clip-path=\"url(#clip002)\" style=\"stroke:#000000; stroke-width:4; stroke-opacity:1; fill:none\" points=\"\n",
       "  1024.03,499.202 1024.03,1384.24 1040.2,1384.24 1040.2,499.202 1024.03,499.202 \n",
       "  \"/>\n",
       "<path clip-path=\"url(#clip002)\" d=\"\n",
       "M1040.2 735.212 L1040.2 1384.24 L1056.38 1384.24 L1056.38 735.212 L1040.2 735.212 L1040.2 735.212  Z\n",
       "  \" fill=\"#009af9\" fill-rule=\"evenodd\" fill-opacity=\"1\"/>\n",
       "<polyline clip-path=\"url(#clip002)\" style=\"stroke:#000000; stroke-width:4; stroke-opacity:1; fill:none\" points=\"\n",
       "  1040.2,735.212 1040.2,1384.24 1056.38,1384.24 1056.38,735.212 1040.2,735.212 \n",
       "  \"/>\n",
       "<path clip-path=\"url(#clip002)\" d=\"\n",
       "M1056.38 440.2 L1056.38 1384.24 L1072.56 1384.24 L1072.56 440.2 L1056.38 440.2 L1056.38 440.2  Z\n",
       "  \" fill=\"#009af9\" fill-rule=\"evenodd\" fill-opacity=\"1\"/>\n",
       "<polyline clip-path=\"url(#clip002)\" style=\"stroke:#000000; stroke-width:4; stroke-opacity:1; fill:none\" points=\"\n",
       "  1056.38,440.2 1056.38,1384.24 1072.56,1384.24 1072.56,440.2 1056.38,440.2 \n",
       "  \"/>\n",
       "<path clip-path=\"url(#clip002)\" d=\"\n",
       "M1072.56 558.205 L1072.56 1384.24 L1088.74 1384.24 L1088.74 558.205 L1072.56 558.205 L1072.56 558.205  Z\n",
       "  \" fill=\"#009af9\" fill-rule=\"evenodd\" fill-opacity=\"1\"/>\n",
       "<polyline clip-path=\"url(#clip002)\" style=\"stroke:#000000; stroke-width:4; stroke-opacity:1; fill:none\" points=\"\n",
       "  1072.56,558.205 1072.56,1384.24 1088.74,1384.24 1088.74,558.205 1072.56,558.205 \n",
       "  \"/>\n",
       "<path clip-path=\"url(#clip002)\" d=\"\n",
       "M1088.74 676.21 L1088.74 1384.24 L1104.91 1384.24 L1104.91 676.21 L1088.74 676.21 L1088.74 676.21  Z\n",
       "  \" fill=\"#009af9\" fill-rule=\"evenodd\" fill-opacity=\"1\"/>\n",
       "<polyline clip-path=\"url(#clip002)\" style=\"stroke:#000000; stroke-width:4; stroke-opacity:1; fill:none\" points=\"\n",
       "  1088.74,676.21 1088.74,1384.24 1104.91,1384.24 1104.91,676.21 1088.74,676.21 \n",
       "  \"/>\n",
       "<path clip-path=\"url(#clip002)\" d=\"\n",
       "M1104.91 971.222 L1104.91 1384.24 L1121.09 1384.24 L1121.09 971.222 L1104.91 971.222 L1104.91 971.222  Z\n",
       "  \" fill=\"#009af9\" fill-rule=\"evenodd\" fill-opacity=\"1\"/>\n",
       "<polyline clip-path=\"url(#clip002)\" style=\"stroke:#000000; stroke-width:4; stroke-opacity:1; fill:none\" points=\"\n",
       "  1104.91,971.222 1104.91,1384.24 1121.09,1384.24 1121.09,971.222 1104.91,971.222 \n",
       "  \"/>\n",
       "<path clip-path=\"url(#clip002)\" d=\"\n",
       "M1121.09 499.202 L1121.09 1384.24 L1137.27 1384.24 L1137.27 499.202 L1121.09 499.202 L1121.09 499.202  Z\n",
       "  \" fill=\"#009af9\" fill-rule=\"evenodd\" fill-opacity=\"1\"/>\n",
       "<polyline clip-path=\"url(#clip002)\" style=\"stroke:#000000; stroke-width:4; stroke-opacity:1; fill:none\" points=\"\n",
       "  1121.09,499.202 1121.09,1384.24 1137.27,1384.24 1137.27,499.202 1121.09,499.202 \n",
       "  \"/>\n",
       "<path clip-path=\"url(#clip002)\" d=\"\n",
       "M1137.27 204.19 L1137.27 1384.24 L1153.45 1384.24 L1153.45 204.19 L1137.27 204.19 L1137.27 204.19  Z\n",
       "  \" fill=\"#009af9\" fill-rule=\"evenodd\" fill-opacity=\"1\"/>\n",
       "<polyline clip-path=\"url(#clip002)\" style=\"stroke:#000000; stroke-width:4; stroke-opacity:1; fill:none\" points=\"\n",
       "  1137.27,204.19 1137.27,1384.24 1153.45,1384.24 1153.45,204.19 1137.27,204.19 \n",
       "  \"/>\n",
       "<path clip-path=\"url(#clip002)\" d=\"\n",
       "M1153.45 558.205 L1153.45 1384.24 L1169.62 1384.24 L1169.62 558.205 L1153.45 558.205 L1153.45 558.205  Z\n",
       "  \" fill=\"#009af9\" fill-rule=\"evenodd\" fill-opacity=\"1\"/>\n",
       "<polyline clip-path=\"url(#clip002)\" style=\"stroke:#000000; stroke-width:4; stroke-opacity:1; fill:none\" points=\"\n",
       "  1153.45,558.205 1153.45,1384.24 1169.62,1384.24 1169.62,558.205 1153.45,558.205 \n",
       "  \"/>\n",
       "<path clip-path=\"url(#clip002)\" d=\"\n",
       "M1169.62 499.202 L1169.62 1384.24 L1185.8 1384.24 L1185.8 499.202 L1169.62 499.202 L1169.62 499.202  Z\n",
       "  \" fill=\"#009af9\" fill-rule=\"evenodd\" fill-opacity=\"1\"/>\n",
       "<polyline clip-path=\"url(#clip002)\" style=\"stroke:#000000; stroke-width:4; stroke-opacity:1; fill:none\" points=\"\n",
       "  1169.62,499.202 1169.62,1384.24 1185.8,1384.24 1185.8,499.202 1169.62,499.202 \n",
       "  \"/>\n",
       "<path clip-path=\"url(#clip002)\" d=\"\n",
       "M1185.8 617.207 L1185.8 1384.24 L1201.98 1384.24 L1201.98 617.207 L1185.8 617.207 L1185.8 617.207  Z\n",
       "  \" fill=\"#009af9\" fill-rule=\"evenodd\" fill-opacity=\"1\"/>\n",
       "<polyline clip-path=\"url(#clip002)\" style=\"stroke:#000000; stroke-width:4; stroke-opacity:1; fill:none\" points=\"\n",
       "  1185.8,617.207 1185.8,1384.24 1201.98,1384.24 1201.98,617.207 1185.8,617.207 \n",
       "  \"/>\n",
       "<path clip-path=\"url(#clip002)\" d=\"\n",
       "M1201.98 499.202 L1201.98 1384.24 L1218.16 1384.24 L1218.16 499.202 L1201.98 499.202 L1201.98 499.202  Z\n",
       "  \" fill=\"#009af9\" fill-rule=\"evenodd\" fill-opacity=\"1\"/>\n",
       "<polyline clip-path=\"url(#clip002)\" style=\"stroke:#000000; stroke-width:4; stroke-opacity:1; fill:none\" points=\"\n",
       "  1201.98,499.202 1201.98,1384.24 1218.16,1384.24 1218.16,499.202 1201.98,499.202 \n",
       "  \"/>\n",
       "<path clip-path=\"url(#clip002)\" d=\"\n",
       "M1218.16 617.207 L1218.16 1384.24 L1234.33 1384.24 L1234.33 617.207 L1218.16 617.207 L1218.16 617.207  Z\n",
       "  \" fill=\"#009af9\" fill-rule=\"evenodd\" fill-opacity=\"1\"/>\n",
       "<polyline clip-path=\"url(#clip002)\" style=\"stroke:#000000; stroke-width:4; stroke-opacity:1; fill:none\" points=\"\n",
       "  1218.16,617.207 1218.16,1384.24 1234.33,1384.24 1234.33,617.207 1218.16,617.207 \n",
       "  \"/>\n",
       "<path clip-path=\"url(#clip002)\" d=\"\n",
       "M1234.33 676.21 L1234.33 1384.24 L1250.51 1384.24 L1250.51 676.21 L1234.33 676.21 L1234.33 676.21  Z\n",
       "  \" fill=\"#009af9\" fill-rule=\"evenodd\" fill-opacity=\"1\"/>\n",
       "<polyline clip-path=\"url(#clip002)\" style=\"stroke:#000000; stroke-width:4; stroke-opacity:1; fill:none\" points=\"\n",
       "  1234.33,676.21 1234.33,1384.24 1250.51,1384.24 1250.51,676.21 1234.33,676.21 \n",
       "  \"/>\n",
       "<path clip-path=\"url(#clip002)\" d=\"\n",
       "M1250.51 617.207 L1250.51 1384.24 L1266.69 1384.24 L1266.69 617.207 L1250.51 617.207 L1250.51 617.207  Z\n",
       "  \" fill=\"#009af9\" fill-rule=\"evenodd\" fill-opacity=\"1\"/>\n",
       "<polyline clip-path=\"url(#clip002)\" style=\"stroke:#000000; stroke-width:4; stroke-opacity:1; fill:none\" points=\"\n",
       "  1250.51,617.207 1250.51,1384.24 1266.69,1384.24 1266.69,617.207 1250.51,617.207 \n",
       "  \"/>\n",
       "<path clip-path=\"url(#clip002)\" d=\"\n",
       "M1266.69 912.219 L1266.69 1384.24 L1282.87 1384.24 L1282.87 912.219 L1266.69 912.219 L1266.69 912.219  Z\n",
       "  \" fill=\"#009af9\" fill-rule=\"evenodd\" fill-opacity=\"1\"/>\n",
       "<polyline clip-path=\"url(#clip002)\" style=\"stroke:#000000; stroke-width:4; stroke-opacity:1; fill:none\" points=\"\n",
       "  1266.69,912.219 1266.69,1384.24 1282.87,1384.24 1282.87,912.219 1266.69,912.219 \n",
       "  \"/>\n",
       "<path clip-path=\"url(#clip002)\" d=\"\n",
       "M1282.87 1030.22 L1282.87 1384.24 L1299.04 1384.24 L1299.04 1030.22 L1282.87 1030.22 L1282.87 1030.22  Z\n",
       "  \" fill=\"#009af9\" fill-rule=\"evenodd\" fill-opacity=\"1\"/>\n",
       "<polyline clip-path=\"url(#clip002)\" style=\"stroke:#000000; stroke-width:4; stroke-opacity:1; fill:none\" points=\"\n",
       "  1282.87,1030.22 1282.87,1384.24 1299.04,1384.24 1299.04,1030.22 1282.87,1030.22 \n",
       "  \"/>\n",
       "<path clip-path=\"url(#clip002)\" d=\"\n",
       "M1299.04 676.21 L1299.04 1384.24 L1315.22 1384.24 L1315.22 676.21 L1299.04 676.21 L1299.04 676.21  Z\n",
       "  \" fill=\"#009af9\" fill-rule=\"evenodd\" fill-opacity=\"1\"/>\n",
       "<polyline clip-path=\"url(#clip002)\" style=\"stroke:#000000; stroke-width:4; stroke-opacity:1; fill:none\" points=\"\n",
       "  1299.04,676.21 1299.04,1384.24 1315.22,1384.24 1315.22,676.21 1299.04,676.21 \n",
       "  \"/>\n",
       "<path clip-path=\"url(#clip002)\" d=\"\n",
       "M1315.22 912.219 L1315.22 1384.24 L1331.4 1384.24 L1331.4 912.219 L1315.22 912.219 L1315.22 912.219  Z\n",
       "  \" fill=\"#009af9\" fill-rule=\"evenodd\" fill-opacity=\"1\"/>\n",
       "<polyline clip-path=\"url(#clip002)\" style=\"stroke:#000000; stroke-width:4; stroke-opacity:1; fill:none\" points=\"\n",
       "  1315.22,912.219 1315.22,1384.24 1331.4,1384.24 1331.4,912.219 1315.22,912.219 \n",
       "  \"/>\n",
       "<path clip-path=\"url(#clip002)\" d=\"\n",
       "M1331.4 912.219 L1331.4 1384.24 L1347.58 1384.24 L1347.58 912.219 L1331.4 912.219 L1331.4 912.219  Z\n",
       "  \" fill=\"#009af9\" fill-rule=\"evenodd\" fill-opacity=\"1\"/>\n",
       "<polyline clip-path=\"url(#clip002)\" style=\"stroke:#000000; stroke-width:4; stroke-opacity:1; fill:none\" points=\"\n",
       "  1331.4,912.219 1331.4,1384.24 1347.58,1384.24 1347.58,912.219 1331.4,912.219 \n",
       "  \"/>\n",
       "<path clip-path=\"url(#clip002)\" d=\"\n",
       "M1347.58 1030.22 L1347.58 1384.24 L1363.75 1384.24 L1363.75 1030.22 L1347.58 1030.22 L1347.58 1030.22  Z\n",
       "  \" fill=\"#009af9\" fill-rule=\"evenodd\" fill-opacity=\"1\"/>\n",
       "<polyline clip-path=\"url(#clip002)\" style=\"stroke:#000000; stroke-width:4; stroke-opacity:1; fill:none\" points=\"\n",
       "  1347.58,1030.22 1347.58,1384.24 1363.75,1384.24 1363.75,1030.22 1347.58,1030.22 \n",
       "  \"/>\n",
       "<path clip-path=\"url(#clip002)\" d=\"\n",
       "M1363.75 912.219 L1363.75 1384.24 L1379.93 1384.24 L1379.93 912.219 L1363.75 912.219 L1363.75 912.219  Z\n",
       "  \" fill=\"#009af9\" fill-rule=\"evenodd\" fill-opacity=\"1\"/>\n",
       "<polyline clip-path=\"url(#clip002)\" style=\"stroke:#000000; stroke-width:4; stroke-opacity:1; fill:none\" points=\"\n",
       "  1363.75,912.219 1363.75,1384.24 1379.93,1384.24 1379.93,912.219 1363.75,912.219 \n",
       "  \"/>\n",
       "<path clip-path=\"url(#clip002)\" d=\"\n",
       "M1379.93 794.214 L1379.93 1384.24 L1396.11 1384.24 L1396.11 794.214 L1379.93 794.214 L1379.93 794.214  Z\n",
       "  \" fill=\"#009af9\" fill-rule=\"evenodd\" fill-opacity=\"1\"/>\n",
       "<polyline clip-path=\"url(#clip002)\" style=\"stroke:#000000; stroke-width:4; stroke-opacity:1; fill:none\" points=\"\n",
       "  1379.93,794.214 1379.93,1384.24 1396.11,1384.24 1396.11,794.214 1379.93,794.214 \n",
       "  \"/>\n",
       "<path clip-path=\"url(#clip002)\" d=\"\n",
       "M1396.11 1325.24 L1396.11 1384.24 L1412.29 1384.24 L1412.29 1325.24 L1396.11 1325.24 L1396.11 1325.24  Z\n",
       "  \" fill=\"#009af9\" fill-rule=\"evenodd\" fill-opacity=\"1\"/>\n",
       "<polyline clip-path=\"url(#clip002)\" style=\"stroke:#000000; stroke-width:4; stroke-opacity:1; fill:none\" points=\"\n",
       "  1396.11,1325.24 1396.11,1384.24 1412.29,1384.24 1412.29,1325.24 1396.11,1325.24 \n",
       "  \"/>\n",
       "<path clip-path=\"url(#clip002)\" d=\"\n",
       "M1412.29 1089.23 L1412.29 1384.24 L1428.46 1384.24 L1428.46 1089.23 L1412.29 1089.23 L1412.29 1089.23  Z\n",
       "  \" fill=\"#009af9\" fill-rule=\"evenodd\" fill-opacity=\"1\"/>\n",
       "<polyline clip-path=\"url(#clip002)\" style=\"stroke:#000000; stroke-width:4; stroke-opacity:1; fill:none\" points=\"\n",
       "  1412.29,1089.23 1412.29,1384.24 1428.46,1384.24 1428.46,1089.23 1412.29,1089.23 \n",
       "  \"/>\n",
       "<path clip-path=\"url(#clip002)\" d=\"\n",
       "M1428.46 1207.23 L1428.46 1384.24 L1444.64 1384.24 L1444.64 1207.23 L1428.46 1207.23 L1428.46 1207.23  Z\n",
       "  \" fill=\"#009af9\" fill-rule=\"evenodd\" fill-opacity=\"1\"/>\n",
       "<polyline clip-path=\"url(#clip002)\" style=\"stroke:#000000; stroke-width:4; stroke-opacity:1; fill:none\" points=\"\n",
       "  1428.46,1207.23 1428.46,1384.24 1444.64,1384.24 1444.64,1207.23 1428.46,1207.23 \n",
       "  \"/>\n",
       "<path clip-path=\"url(#clip002)\" d=\"\n",
       "M1444.64 1148.23 L1444.64 1384.24 L1460.82 1384.24 L1460.82 1148.23 L1444.64 1148.23 L1444.64 1148.23  Z\n",
       "  \" fill=\"#009af9\" fill-rule=\"evenodd\" fill-opacity=\"1\"/>\n",
       "<polyline clip-path=\"url(#clip002)\" style=\"stroke:#000000; stroke-width:4; stroke-opacity:1; fill:none\" points=\"\n",
       "  1444.64,1148.23 1444.64,1384.24 1460.82,1384.24 1460.82,1148.23 1444.64,1148.23 \n",
       "  \"/>\n",
       "<path clip-path=\"url(#clip002)\" d=\"\n",
       "M1460.82 1148.23 L1460.82 1384.24 L1477 1384.24 L1477 1148.23 L1460.82 1148.23 L1460.82 1148.23  Z\n",
       "  \" fill=\"#009af9\" fill-rule=\"evenodd\" fill-opacity=\"1\"/>\n",
       "<polyline clip-path=\"url(#clip002)\" style=\"stroke:#000000; stroke-width:4; stroke-opacity:1; fill:none\" points=\"\n",
       "  1460.82,1148.23 1460.82,1384.24 1477,1384.24 1477,1148.23 1460.82,1148.23 \n",
       "  \"/>\n",
       "<path clip-path=\"url(#clip002)\" d=\"\n",
       "M1477 1207.23 L1477 1384.24 L1493.17 1384.24 L1493.17 1207.23 L1477 1207.23 L1477 1207.23  Z\n",
       "  \" fill=\"#009af9\" fill-rule=\"evenodd\" fill-opacity=\"1\"/>\n",
       "<polyline clip-path=\"url(#clip002)\" style=\"stroke:#000000; stroke-width:4; stroke-opacity:1; fill:none\" points=\"\n",
       "  1477,1207.23 1477,1384.24 1493.17,1384.24 1493.17,1207.23 1477,1207.23 \n",
       "  \"/>\n",
       "<path clip-path=\"url(#clip002)\" d=\"\n",
       "M1493.17 1266.23 L1493.17 1384.24 L1509.35 1384.24 L1509.35 1266.23 L1493.17 1266.23 L1493.17 1266.23  Z\n",
       "  \" fill=\"#009af9\" fill-rule=\"evenodd\" fill-opacity=\"1\"/>\n",
       "<polyline clip-path=\"url(#clip002)\" style=\"stroke:#000000; stroke-width:4; stroke-opacity:1; fill:none\" points=\"\n",
       "  1493.17,1266.23 1493.17,1384.24 1509.35,1384.24 1509.35,1266.23 1493.17,1266.23 \n",
       "  \"/>\n",
       "<path clip-path=\"url(#clip002)\" d=\"\n",
       "M1509.35 1207.23 L1509.35 1384.24 L1525.53 1384.24 L1525.53 1207.23 L1509.35 1207.23 L1509.35 1207.23  Z\n",
       "  \" fill=\"#009af9\" fill-rule=\"evenodd\" fill-opacity=\"1\"/>\n",
       "<polyline clip-path=\"url(#clip002)\" style=\"stroke:#000000; stroke-width:4; stroke-opacity:1; fill:none\" points=\"\n",
       "  1509.35,1207.23 1509.35,1384.24 1525.53,1384.24 1525.53,1207.23 1509.35,1207.23 \n",
       "  \"/>\n",
       "<path clip-path=\"url(#clip002)\" d=\"\n",
       "M1525.53 1207.23 L1525.53 1384.24 L1541.71 1384.24 L1541.71 1207.23 L1525.53 1207.23 L1525.53 1207.23  Z\n",
       "  \" fill=\"#009af9\" fill-rule=\"evenodd\" fill-opacity=\"1\"/>\n",
       "<polyline clip-path=\"url(#clip002)\" style=\"stroke:#000000; stroke-width:4; stroke-opacity:1; fill:none\" points=\"\n",
       "  1525.53,1207.23 1525.53,1384.24 1541.71,1384.24 1541.71,1207.23 1525.53,1207.23 \n",
       "  \"/>\n",
       "<path clip-path=\"url(#clip002)\" d=\"\n",
       "M1541.71 1325.24 L1541.71 1384.24 L1557.88 1384.24 L1557.88 1325.24 L1541.71 1325.24 L1541.71 1325.24  Z\n",
       "  \" fill=\"#009af9\" fill-rule=\"evenodd\" fill-opacity=\"1\"/>\n",
       "<polyline clip-path=\"url(#clip002)\" style=\"stroke:#000000; stroke-width:4; stroke-opacity:1; fill:none\" points=\"\n",
       "  1541.71,1325.24 1541.71,1384.24 1557.88,1384.24 1557.88,1325.24 1541.71,1325.24 \n",
       "  \"/>\n",
       "<path clip-path=\"url(#clip002)\" d=\"\n",
       "M1557.88 1325.24 L1557.88 1384.24 L1574.06 1384.24 L1574.06 1325.24 L1557.88 1325.24 L1557.88 1325.24  Z\n",
       "  \" fill=\"#009af9\" fill-rule=\"evenodd\" fill-opacity=\"1\"/>\n",
       "<polyline clip-path=\"url(#clip002)\" style=\"stroke:#000000; stroke-width:4; stroke-opacity:1; fill:none\" points=\"\n",
       "  1557.88,1325.24 1557.88,1384.24 1574.06,1384.24 1574.06,1325.24 1557.88,1325.24 \n",
       "  \"/>\n",
       "<path clip-path=\"url(#clip002)\" d=\"\n",
       "M1574.06 1266.23 L1574.06 1384.24 L1590.24 1384.24 L1590.24 1266.23 L1574.06 1266.23 L1574.06 1266.23  Z\n",
       "  \" fill=\"#009af9\" fill-rule=\"evenodd\" fill-opacity=\"1\"/>\n",
       "<polyline clip-path=\"url(#clip002)\" style=\"stroke:#000000; stroke-width:4; stroke-opacity:1; fill:none\" points=\"\n",
       "  1574.06,1266.23 1574.06,1384.24 1590.24,1384.24 1590.24,1266.23 1574.06,1266.23 \n",
       "  \"/>\n",
       "<path clip-path=\"url(#clip002)\" d=\"\n",
       "M1590.24 1266.23 L1590.24 1384.24 L1606.42 1384.24 L1606.42 1266.23 L1590.24 1266.23 L1590.24 1266.23  Z\n",
       "  \" fill=\"#009af9\" fill-rule=\"evenodd\" fill-opacity=\"1\"/>\n",
       "<polyline clip-path=\"url(#clip002)\" style=\"stroke:#000000; stroke-width:4; stroke-opacity:1; fill:none\" points=\"\n",
       "  1590.24,1266.23 1590.24,1384.24 1606.42,1384.24 1606.42,1266.23 1590.24,1266.23 \n",
       "  \"/>\n",
       "<path clip-path=\"url(#clip002)\" d=\"\n",
       "M1606.42 1325.24 L1606.42 1384.24 L1622.59 1384.24 L1622.59 1325.24 L1606.42 1325.24 L1606.42 1325.24  Z\n",
       "  \" fill=\"#009af9\" fill-rule=\"evenodd\" fill-opacity=\"1\"/>\n",
       "<polyline clip-path=\"url(#clip002)\" style=\"stroke:#000000; stroke-width:4; stroke-opacity:1; fill:none\" points=\"\n",
       "  1606.42,1325.24 1606.42,1384.24 1622.59,1384.24 1622.59,1325.24 1606.42,1325.24 \n",
       "  \"/>\n",
       "<path clip-path=\"url(#clip002)\" d=\"\n",
       "M1622.59 1384.24 L1622.59 1384.24 L1638.77 1384.24 L1638.77 1384.24 L1622.59 1384.24 L1622.59 1384.24  Z\n",
       "  \" fill=\"#009af9\" fill-rule=\"evenodd\" fill-opacity=\"1\"/>\n",
       "<polyline clip-path=\"url(#clip002)\" style=\"stroke:#000000; stroke-width:4; stroke-opacity:1; fill:none\" points=\"\n",
       "  1622.59,1384.24 1622.59,1384.24 1638.77,1384.24 1622.59,1384.24 \n",
       "  \"/>\n",
       "<path clip-path=\"url(#clip002)\" d=\"\n",
       "M1638.77 1384.24 L1638.77 1384.24 L1654.95 1384.24 L1654.95 1384.24 L1638.77 1384.24 L1638.77 1384.24  Z\n",
       "  \" fill=\"#009af9\" fill-rule=\"evenodd\" fill-opacity=\"1\"/>\n",
       "<polyline clip-path=\"url(#clip002)\" style=\"stroke:#000000; stroke-width:4; stroke-opacity:1; fill:none\" points=\"\n",
       "  1638.77,1384.24 1638.77,1384.24 1654.95,1384.24 1638.77,1384.24 \n",
       "  \"/>\n",
       "<path clip-path=\"url(#clip002)\" d=\"\n",
       "M1654.95 1325.24 L1654.95 1384.24 L1671.12 1384.24 L1671.12 1325.24 L1654.95 1325.24 L1654.95 1325.24  Z\n",
       "  \" fill=\"#009af9\" fill-rule=\"evenodd\" fill-opacity=\"1\"/>\n",
       "<polyline clip-path=\"url(#clip002)\" style=\"stroke:#000000; stroke-width:4; stroke-opacity:1; fill:none\" points=\"\n",
       "  1654.95,1325.24 1654.95,1384.24 1671.12,1384.24 1671.12,1325.24 1654.95,1325.24 \n",
       "  \"/>\n",
       "<path clip-path=\"url(#clip002)\" d=\"\n",
       "M1671.12 1325.24 L1671.12 1384.24 L1687.3 1384.24 L1687.3 1325.24 L1671.12 1325.24 L1671.12 1325.24  Z\n",
       "  \" fill=\"#009af9\" fill-rule=\"evenodd\" fill-opacity=\"1\"/>\n",
       "<polyline clip-path=\"url(#clip002)\" style=\"stroke:#000000; stroke-width:4; stroke-opacity:1; fill:none\" points=\"\n",
       "  1671.12,1325.24 1671.12,1384.24 1687.3,1384.24 1687.3,1325.24 1671.12,1325.24 \n",
       "  \"/>\n",
       "<path clip-path=\"url(#clip002)\" d=\"\n",
       "M1687.3 1325.24 L1687.3 1384.24 L1703.48 1384.24 L1703.48 1325.24 L1687.3 1325.24 L1687.3 1325.24  Z\n",
       "  \" fill=\"#009af9\" fill-rule=\"evenodd\" fill-opacity=\"1\"/>\n",
       "<polyline clip-path=\"url(#clip002)\" style=\"stroke:#000000; stroke-width:4; stroke-opacity:1; fill:none\" points=\"\n",
       "  1687.3,1325.24 1687.3,1384.24 1703.48,1384.24 1703.48,1325.24 1687.3,1325.24 \n",
       "  \"/>\n",
       "<path clip-path=\"url(#clip002)\" d=\"\n",
       "M1703.48 1384.24 L1703.48 1384.24 L1719.66 1384.24 L1719.66 1384.24 L1703.48 1384.24 L1703.48 1384.24  Z\n",
       "  \" fill=\"#009af9\" fill-rule=\"evenodd\" fill-opacity=\"1\"/>\n",
       "<polyline clip-path=\"url(#clip002)\" style=\"stroke:#000000; stroke-width:4; stroke-opacity:1; fill:none\" points=\"\n",
       "  1703.48,1384.24 1703.48,1384.24 1719.66,1384.24 1703.48,1384.24 \n",
       "  \"/>\n",
       "<path clip-path=\"url(#clip002)\" d=\"\n",
       "M1719.66 1384.24 L1719.66 1384.24 L1735.83 1384.24 L1735.83 1384.24 L1719.66 1384.24 L1719.66 1384.24  Z\n",
       "  \" fill=\"#009af9\" fill-rule=\"evenodd\" fill-opacity=\"1\"/>\n",
       "<polyline clip-path=\"url(#clip002)\" style=\"stroke:#000000; stroke-width:4; stroke-opacity:1; fill:none\" points=\"\n",
       "  1719.66,1384.24 1719.66,1384.24 1735.83,1384.24 1719.66,1384.24 \n",
       "  \"/>\n",
       "<path clip-path=\"url(#clip002)\" d=\"\n",
       "M1735.83 1325.24 L1735.83 1384.24 L1752.01 1384.24 L1752.01 1325.24 L1735.83 1325.24 L1735.83 1325.24  Z\n",
       "  \" fill=\"#009af9\" fill-rule=\"evenodd\" fill-opacity=\"1\"/>\n",
       "<polyline clip-path=\"url(#clip002)\" style=\"stroke:#000000; stroke-width:4; stroke-opacity:1; fill:none\" points=\"\n",
       "  1735.83,1325.24 1735.83,1384.24 1752.01,1384.24 1752.01,1325.24 1735.83,1325.24 \n",
       "  \"/>\n",
       "<path clip-path=\"url(#clip002)\" d=\"\n",
       "M1752.01 1384.24 L1752.01 1384.24 L1768.19 1384.24 L1768.19 1384.24 L1752.01 1384.24 L1752.01 1384.24  Z\n",
       "  \" fill=\"#009af9\" fill-rule=\"evenodd\" fill-opacity=\"1\"/>\n",
       "<polyline clip-path=\"url(#clip002)\" style=\"stroke:#000000; stroke-width:4; stroke-opacity:1; fill:none\" points=\"\n",
       "  1752.01,1384.24 1752.01,1384.24 1768.19,1384.24 1752.01,1384.24 \n",
       "  \"/>\n",
       "<path clip-path=\"url(#clip002)\" d=\"\n",
       "M1768.19 1325.24 L1768.19 1384.24 L1784.37 1384.24 L1784.37 1325.24 L1768.19 1325.24 L1768.19 1325.24  Z\n",
       "  \" fill=\"#009af9\" fill-rule=\"evenodd\" fill-opacity=\"1\"/>\n",
       "<polyline clip-path=\"url(#clip002)\" style=\"stroke:#000000; stroke-width:4; stroke-opacity:1; fill:none\" points=\"\n",
       "  1768.19,1325.24 1768.19,1384.24 1784.37,1384.24 1784.37,1325.24 1768.19,1325.24 \n",
       "  \"/>\n",
       "<path clip-path=\"url(#clip002)\" d=\"\n",
       "M1784.37 1384.24 L1784.37 1384.24 L1800.54 1384.24 L1800.54 1384.24 L1784.37 1384.24 L1784.37 1384.24  Z\n",
       "  \" fill=\"#009af9\" fill-rule=\"evenodd\" fill-opacity=\"1\"/>\n",
       "<polyline clip-path=\"url(#clip002)\" style=\"stroke:#000000; stroke-width:4; stroke-opacity:1; fill:none\" points=\"\n",
       "  1784.37,1384.24 1784.37,1384.24 1800.54,1384.24 1784.37,1384.24 \n",
       "  \"/>\n",
       "<path clip-path=\"url(#clip002)\" d=\"\n",
       "M1800.54 1384.24 L1800.54 1384.24 L1816.72 1384.24 L1816.72 1384.24 L1800.54 1384.24 L1800.54 1384.24  Z\n",
       "  \" fill=\"#009af9\" fill-rule=\"evenodd\" fill-opacity=\"1\"/>\n",
       "<polyline clip-path=\"url(#clip002)\" style=\"stroke:#000000; stroke-width:4; stroke-opacity:1; fill:none\" points=\"\n",
       "  1800.54,1384.24 1800.54,1384.24 1816.72,1384.24 1800.54,1384.24 \n",
       "  \"/>\n",
       "<path clip-path=\"url(#clip002)\" d=\"\n",
       "M1816.72 1384.24 L1816.72 1384.24 L1832.9 1384.24 L1832.9 1384.24 L1816.72 1384.24 L1816.72 1384.24  Z\n",
       "  \" fill=\"#009af9\" fill-rule=\"evenodd\" fill-opacity=\"1\"/>\n",
       "<polyline clip-path=\"url(#clip002)\" style=\"stroke:#000000; stroke-width:4; stroke-opacity:1; fill:none\" points=\"\n",
       "  1816.72,1384.24 1816.72,1384.24 1832.9,1384.24 1816.72,1384.24 \n",
       "  \"/>\n",
       "<path clip-path=\"url(#clip002)\" d=\"\n",
       "M1832.9 1325.24 L1832.9 1384.24 L1849.08 1384.24 L1849.08 1325.24 L1832.9 1325.24 L1832.9 1325.24  Z\n",
       "  \" fill=\"#009af9\" fill-rule=\"evenodd\" fill-opacity=\"1\"/>\n",
       "<polyline clip-path=\"url(#clip002)\" style=\"stroke:#000000; stroke-width:4; stroke-opacity:1; fill:none\" points=\"\n",
       "  1832.9,1325.24 1832.9,1384.24 1849.08,1384.24 1849.08,1325.24 1832.9,1325.24 \n",
       "  \"/>\n",
       "<path clip-path=\"url(#clip002)\" d=\"\n",
       "M1849.08 1325.24 L1849.08 1384.24 L1865.25 1384.24 L1865.25 1325.24 L1849.08 1325.24 L1849.08 1325.24  Z\n",
       "  \" fill=\"#009af9\" fill-rule=\"evenodd\" fill-opacity=\"1\"/>\n",
       "<polyline clip-path=\"url(#clip002)\" style=\"stroke:#000000; stroke-width:4; stroke-opacity:1; fill:none\" points=\"\n",
       "  1849.08,1325.24 1849.08,1384.24 1865.25,1384.24 1865.25,1325.24 1849.08,1325.24 \n",
       "  \"/>\n",
       "<path clip-path=\"url(#clip002)\" d=\"\n",
       "M1865.25 1384.24 L1865.25 1384.24 L1881.43 1384.24 L1881.43 1384.24 L1865.25 1384.24 L1865.25 1384.24  Z\n",
       "  \" fill=\"#009af9\" fill-rule=\"evenodd\" fill-opacity=\"1\"/>\n",
       "<polyline clip-path=\"url(#clip002)\" style=\"stroke:#000000; stroke-width:4; stroke-opacity:1; fill:none\" points=\"\n",
       "  1865.25,1384.24 1865.25,1384.24 1881.43,1384.24 1865.25,1384.24 \n",
       "  \"/>\n",
       "<path clip-path=\"url(#clip002)\" d=\"\n",
       "M1881.43 1384.24 L1881.43 1384.24 L1897.61 1384.24 L1897.61 1384.24 L1881.43 1384.24 L1881.43 1384.24  Z\n",
       "  \" fill=\"#009af9\" fill-rule=\"evenodd\" fill-opacity=\"1\"/>\n",
       "<polyline clip-path=\"url(#clip002)\" style=\"stroke:#000000; stroke-width:4; stroke-opacity:1; fill:none\" points=\"\n",
       "  1881.43,1384.24 1881.43,1384.24 1897.61,1384.24 1881.43,1384.24 \n",
       "  \"/>\n",
       "<path clip-path=\"url(#clip002)\" d=\"\n",
       "M1897.61 1384.24 L1897.61 1384.24 L1913.79 1384.24 L1913.79 1384.24 L1897.61 1384.24 L1897.61 1384.24  Z\n",
       "  \" fill=\"#009af9\" fill-rule=\"evenodd\" fill-opacity=\"1\"/>\n",
       "<polyline clip-path=\"url(#clip002)\" style=\"stroke:#000000; stroke-width:4; stroke-opacity:1; fill:none\" points=\"\n",
       "  1897.61,1384.24 1897.61,1384.24 1913.79,1384.24 1897.61,1384.24 \n",
       "  \"/>\n",
       "<path clip-path=\"url(#clip002)\" d=\"\n",
       "M1913.79 1384.24 L1913.79 1384.24 L1929.96 1384.24 L1929.96 1384.24 L1913.79 1384.24 L1913.79 1384.24  Z\n",
       "  \" fill=\"#009af9\" fill-rule=\"evenodd\" fill-opacity=\"1\"/>\n",
       "<polyline clip-path=\"url(#clip002)\" style=\"stroke:#000000; stroke-width:4; stroke-opacity:1; fill:none\" points=\"\n",
       "  1913.79,1384.24 1913.79,1384.24 1929.96,1384.24 1913.79,1384.24 \n",
       "  \"/>\n",
       "<path clip-path=\"url(#clip002)\" d=\"\n",
       "M1929.96 1384.24 L1929.96 1384.24 L1946.14 1384.24 L1946.14 1384.24 L1929.96 1384.24 L1929.96 1384.24  Z\n",
       "  \" fill=\"#009af9\" fill-rule=\"evenodd\" fill-opacity=\"1\"/>\n",
       "<polyline clip-path=\"url(#clip002)\" style=\"stroke:#000000; stroke-width:4; stroke-opacity:1; fill:none\" points=\"\n",
       "  1929.96,1384.24 1929.96,1384.24 1946.14,1384.24 1929.96,1384.24 \n",
       "  \"/>\n",
       "<path clip-path=\"url(#clip002)\" d=\"\n",
       "M1946.14 1384.24 L1946.14 1384.24 L1962.32 1384.24 L1962.32 1384.24 L1946.14 1384.24 L1946.14 1384.24  Z\n",
       "  \" fill=\"#009af9\" fill-rule=\"evenodd\" fill-opacity=\"1\"/>\n",
       "<polyline clip-path=\"url(#clip002)\" style=\"stroke:#000000; stroke-width:4; stroke-opacity:1; fill:none\" points=\"\n",
       "  1946.14,1384.24 1946.14,1384.24 1962.32,1384.24 1946.14,1384.24 \n",
       "  \"/>\n",
       "<path clip-path=\"url(#clip002)\" d=\"\n",
       "M1962.32 1384.24 L1962.32 1384.24 L1978.5 1384.24 L1978.5 1384.24 L1962.32 1384.24 L1962.32 1384.24  Z\n",
       "  \" fill=\"#009af9\" fill-rule=\"evenodd\" fill-opacity=\"1\"/>\n",
       "<polyline clip-path=\"url(#clip002)\" style=\"stroke:#000000; stroke-width:4; stroke-opacity:1; fill:none\" points=\"\n",
       "  1962.32,1384.24 1962.32,1384.24 1978.5,1384.24 1962.32,1384.24 \n",
       "  \"/>\n",
       "<path clip-path=\"url(#clip002)\" d=\"\n",
       "M1978.5 1384.24 L1978.5 1384.24 L1994.67 1384.24 L1994.67 1384.24 L1978.5 1384.24 L1978.5 1384.24  Z\n",
       "  \" fill=\"#009af9\" fill-rule=\"evenodd\" fill-opacity=\"1\"/>\n",
       "<polyline clip-path=\"url(#clip002)\" style=\"stroke:#000000; stroke-width:4; stroke-opacity:1; fill:none\" points=\"\n",
       "  1978.5,1384.24 1978.5,1384.24 1994.67,1384.24 1978.5,1384.24 \n",
       "  \"/>\n",
       "<path clip-path=\"url(#clip002)\" d=\"\n",
       "M1994.67 1384.24 L1994.67 1384.24 L2010.85 1384.24 L2010.85 1384.24 L1994.67 1384.24 L1994.67 1384.24  Z\n",
       "  \" fill=\"#009af9\" fill-rule=\"evenodd\" fill-opacity=\"1\"/>\n",
       "<polyline clip-path=\"url(#clip002)\" style=\"stroke:#000000; stroke-width:4; stroke-opacity:1; fill:none\" points=\"\n",
       "  1994.67,1384.24 1994.67,1384.24 2010.85,1384.24 1994.67,1384.24 \n",
       "  \"/>\n",
       "<path clip-path=\"url(#clip002)\" d=\"\n",
       "M2010.85 1384.24 L2010.85 1384.24 L2027.03 1384.24 L2027.03 1384.24 L2010.85 1384.24 L2010.85 1384.24  Z\n",
       "  \" fill=\"#009af9\" fill-rule=\"evenodd\" fill-opacity=\"1\"/>\n",
       "<polyline clip-path=\"url(#clip002)\" style=\"stroke:#000000; stroke-width:4; stroke-opacity:1; fill:none\" points=\"\n",
       "  2010.85,1384.24 2010.85,1384.24 2027.03,1384.24 2010.85,1384.24 \n",
       "  \"/>\n",
       "<path clip-path=\"url(#clip002)\" d=\"\n",
       "M2027.03 1384.24 L2027.03 1384.24 L2043.21 1384.24 L2043.21 1384.24 L2027.03 1384.24 L2027.03 1384.24  Z\n",
       "  \" fill=\"#009af9\" fill-rule=\"evenodd\" fill-opacity=\"1\"/>\n",
       "<polyline clip-path=\"url(#clip002)\" style=\"stroke:#000000; stroke-width:4; stroke-opacity:1; fill:none\" points=\"\n",
       "  2027.03,1384.24 2027.03,1384.24 2043.21,1384.24 2027.03,1384.24 \n",
       "  \"/>\n",
       "<path clip-path=\"url(#clip002)\" d=\"\n",
       "M2043.21 1384.24 L2043.21 1384.24 L2059.38 1384.24 L2059.38 1384.24 L2043.21 1384.24 L2043.21 1384.24  Z\n",
       "  \" fill=\"#009af9\" fill-rule=\"evenodd\" fill-opacity=\"1\"/>\n",
       "<polyline clip-path=\"url(#clip002)\" style=\"stroke:#000000; stroke-width:4; stroke-opacity:1; fill:none\" points=\"\n",
       "  2043.21,1384.24 2043.21,1384.24 2059.38,1384.24 2043.21,1384.24 \n",
       "  \"/>\n",
       "<path clip-path=\"url(#clip002)\" d=\"\n",
       "M2059.38 1384.24 L2059.38 1384.24 L2075.56 1384.24 L2075.56 1384.24 L2059.38 1384.24 L2059.38 1384.24  Z\n",
       "  \" fill=\"#009af9\" fill-rule=\"evenodd\" fill-opacity=\"1\"/>\n",
       "<polyline clip-path=\"url(#clip002)\" style=\"stroke:#000000; stroke-width:4; stroke-opacity:1; fill:none\" points=\"\n",
       "  2059.38,1384.24 2059.38,1384.24 2075.56,1384.24 2059.38,1384.24 \n",
       "  \"/>\n",
       "<path clip-path=\"url(#clip002)\" d=\"\n",
       "M2075.56 1384.24 L2075.56 1384.24 L2091.74 1384.24 L2091.74 1384.24 L2075.56 1384.24 L2075.56 1384.24  Z\n",
       "  \" fill=\"#009af9\" fill-rule=\"evenodd\" fill-opacity=\"1\"/>\n",
       "<polyline clip-path=\"url(#clip002)\" style=\"stroke:#000000; stroke-width:4; stroke-opacity:1; fill:none\" points=\"\n",
       "  2075.56,1384.24 2075.56,1384.24 2091.74,1384.24 2075.56,1384.24 \n",
       "  \"/>\n",
       "<path clip-path=\"url(#clip002)\" d=\"\n",
       "M2091.74 1384.24 L2091.74 1384.24 L2107.92 1384.24 L2107.92 1384.24 L2091.74 1384.24 L2091.74 1384.24  Z\n",
       "  \" fill=\"#009af9\" fill-rule=\"evenodd\" fill-opacity=\"1\"/>\n",
       "<polyline clip-path=\"url(#clip002)\" style=\"stroke:#000000; stroke-width:4; stroke-opacity:1; fill:none\" points=\"\n",
       "  2091.74,1384.24 2091.74,1384.24 2107.92,1384.24 2091.74,1384.24 \n",
       "  \"/>\n",
       "<path clip-path=\"url(#clip002)\" d=\"\n",
       "M2107.92 1325.24 L2107.92 1384.24 L2124.09 1384.24 L2124.09 1325.24 L2107.92 1325.24 L2107.92 1325.24  Z\n",
       "  \" fill=\"#009af9\" fill-rule=\"evenodd\" fill-opacity=\"1\"/>\n",
       "<polyline clip-path=\"url(#clip002)\" style=\"stroke:#000000; stroke-width:4; stroke-opacity:1; fill:none\" points=\"\n",
       "  2107.92,1325.24 2107.92,1384.24 2124.09,1384.24 2124.09,1325.24 2107.92,1325.24 \n",
       "  \"/>\n",
       "</svg>\n"
      ]
     },
     "execution_count": 16,
     "metadata": {},
     "output_type": "execute_result"
    }
   ],
   "source": [
    "using Statistics\n",
    "t = c_bench.times / 1e6 # tempos em milisegundos\n",
    "m, σ = minimum(t), std(t)\n",
    "\n",
    "histogram(t, bins=100,\n",
    "    xlim=(m - σ, m + 8σ),\n",
    "    xlabel=\"milisegundos\", ylabel=\"Frequência\", label=\"\")"
   ]
  },
  {
   "cell_type": "markdown",
   "metadata": {},
   "source": [
    "## 2. C com -ffast-math\n",
    "\n",
    "Agora, vamos permitir que o C otimize suas operações de ponto flutuante.\n",
    "Dessa forma, ele vai vetorizar suas instruções usando [SIMD](https://en.wikipedia.org/wiki/SIMD) (single instruction, multiple data)."
   ]
  },
  {
   "cell_type": "code",
   "execution_count": 17,
   "metadata": {},
   "outputs": [
    {
     "data": {
      "text/plain": [
       "c_sum_fastmath (generic function with 1 method)"
      ]
     },
     "execution_count": 17,
     "metadata": {},
     "output_type": "execute_result"
    }
   ],
   "source": [
    "const Clib_fastmath = tempname()\n",
    "\n",
    "# Como acima mas agora com a opção -ffast-math\n",
    "open(`gcc -fPIC -O3 -msse3 -xc -shared -ffast-math -o $(Clib_fastmath * \".\" * Libdl.dlext) -`, \"w\") do f\n",
    "    print(f, C_code) \n",
    "end\n",
    "\n",
    "# Define uma função em Julia que chama a função em C\n",
    "c_sum_fastmath(X::Array{Float64}) = ccall((\"c_sum\", Clib_fastmath), Float64, (Csize_t, Ptr{Float64}), length(X), X)"
   ]
  },
  {
   "cell_type": "code",
   "execution_count": 18,
   "metadata": {},
   "outputs": [
    {
     "data": {
      "text/plain": [
       "BenchmarkTools.Trial: \n",
       "  memory estimate:  0 bytes\n",
       "  allocs estimate:  0\n",
       "  --------------\n",
       "  minimum time:     4.980 ms (0.00% GC)\n",
       "  median time:      5.027 ms (0.00% GC)\n",
       "  mean time:        5.027 ms (0.00% GC)\n",
       "  maximum time:     5.276 ms (0.00% GC)\n",
       "  --------------\n",
       "  samples:          995\n",
       "  evals/sample:     1"
      ]
     },
     "execution_count": 18,
     "metadata": {},
     "output_type": "execute_result"
    }
   ],
   "source": [
    "c_fastmath_bench = @benchmark $c_sum_fastmath($a)"
   ]
  },
  {
   "cell_type": "code",
   "execution_count": 19,
   "metadata": {},
   "outputs": [
    {
     "data": {
      "text/plain": [
       "4.97973"
      ]
     },
     "execution_count": 19,
     "metadata": {},
     "output_type": "execute_result"
    }
   ],
   "source": [
    "d[\"C com -ffast-math\"] = minimum(c_fastmath_bench.times) / 1e6  # em milisegundos"
   ]
  },
  {
   "cell_type": "markdown",
   "metadata": {},
   "source": [
    "## 3. Python\n",
    "\n",
    "O pacote `PyCall` fornece uma interface entre a Julia e o Python:"
   ]
  },
  {
   "cell_type": "code",
   "execution_count": 20,
   "metadata": {},
   "outputs": [
    {
     "name": "stderr",
     "output_type": "stream",
     "text": [
      "\u001b[32m\u001b[1m   Resolving\u001b[22m\u001b[39m package versions...\n",
      "\u001b[32m\u001b[1m  No Changes\u001b[22m\u001b[39m to `~/projects/julia-breve-intro/Project.toml`\n",
      "\u001b[32m\u001b[1m  No Changes\u001b[22m\u001b[39m to `~/projects/julia-breve-intro/Manifest.toml`\n"
     ]
    }
   ],
   "source": [
    "Pkg.add(\"PyCall\")"
   ]
  },
  {
   "cell_type": "code",
   "execution_count": 21,
   "metadata": {},
   "outputs": [],
   "source": [
    "using PyCall"
   ]
  },
  {
   "cell_type": "code",
   "execution_count": 22,
   "metadata": {},
   "outputs": [
    {
     "data": {
      "text/plain": [
       "PyObject <built-in function sum>"
      ]
     },
     "execution_count": 22,
     "metadata": {},
     "output_type": "execute_result"
    }
   ],
   "source": [
    "# Importa a função \"sum\" do Python\n",
    "pysum = pybuiltin(\"sum\")"
   ]
  },
  {
   "cell_type": "code",
   "execution_count": 23,
   "metadata": {},
   "outputs": [
    {
     "data": {
      "text/plain": [
       "4.99955905969744e6"
      ]
     },
     "execution_count": 23,
     "metadata": {},
     "output_type": "execute_result"
    }
   ],
   "source": [
    "pysum(a)"
   ]
  },
  {
   "cell_type": "code",
   "execution_count": 24,
   "metadata": {},
   "outputs": [
    {
     "data": {
      "text/plain": [
       "true"
      ]
     },
     "execution_count": 24,
     "metadata": {},
     "output_type": "execute_result"
    }
   ],
   "source": [
    "pysum(a) ≈ sum(a)"
   ]
  },
  {
   "cell_type": "code",
   "execution_count": 25,
   "metadata": {},
   "outputs": [
    {
     "data": {
      "text/plain": [
       "BenchmarkTools.Trial: \n",
       "  memory estimate:  336 bytes\n",
       "  allocs estimate:  6\n",
       "  --------------\n",
       "  minimum time:     818.794 ms (0.00% GC)\n",
       "  median time:      839.872 ms (0.00% GC)\n",
       "  mean time:        834.918 ms (0.00% GC)\n",
       "  maximum time:     841.349 ms (0.00% GC)\n",
       "  --------------\n",
       "  samples:          6\n",
       "  evals/sample:     1"
      ]
     },
     "execution_count": 25,
     "metadata": {},
     "output_type": "execute_result"
    }
   ],
   "source": [
    "py_list_bench = @benchmark $pysum($a)"
   ]
  },
  {
   "cell_type": "code",
   "execution_count": 26,
   "metadata": {},
   "outputs": [
    {
     "data": {
      "text/plain": [
       "Dict{Any, Any} with 3 entries:\n",
       "  \"C com -ffast-math\" => 4.97973\n",
       "  \"C\"                 => 8.5679\n",
       "  \"Python\"            => 818.794"
      ]
     },
     "execution_count": 26,
     "metadata": {},
     "output_type": "execute_result"
    }
   ],
   "source": [
    "d[\"Python\"] = minimum(py_list_bench.times) / 1e6\n",
    "d"
   ]
  },
  {
   "cell_type": "markdown",
   "metadata": {},
   "source": [
    "## 4. Python `numpy`\n",
    "\n",
    "A biblioteca `numpy` do Python é escrita em C e também utiliza SIMD.\n",
    "Essa biblioteca pode ser instalada na Julia da seguinte forma:"
   ]
  },
  {
   "cell_type": "code",
   "execution_count": 27,
   "metadata": {},
   "outputs": [
    {
     "name": "stderr",
     "output_type": "stream",
     "text": [
      "\u001b[32m\u001b[1m   Resolving\u001b[22m\u001b[39m package versions...\n",
      "\u001b[32m\u001b[1m  No Changes\u001b[22m\u001b[39m to `~/projects/julia-breve-intro/Project.toml`\n",
      "\u001b[32m\u001b[1m  No Changes\u001b[22m\u001b[39m to `~/projects/julia-breve-intro/Manifest.toml`\n"
     ]
    }
   ],
   "source": [
    "Pkg.add(\"Conda\")"
   ]
  },
  {
   "cell_type": "code",
   "execution_count": 28,
   "metadata": {},
   "outputs": [],
   "source": [
    "using Conda"
   ]
  },
  {
   "cell_type": "code",
   "execution_count": 29,
   "metadata": {},
   "outputs": [
    {
     "data": {
      "text/plain": [
       "BenchmarkTools.Trial: \n",
       "  memory estimate:  336 bytes\n",
       "  allocs estimate:  6\n",
       "  --------------\n",
       "  minimum time:     3.830 ms (0.00% GC)\n",
       "  median time:      3.855 ms (0.00% GC)\n",
       "  mean time:        3.857 ms (0.00% GC)\n",
       "  maximum time:     4.300 ms (0.00% GC)\n",
       "  --------------\n",
       "  samples:          1295\n",
       "  evals/sample:     1"
      ]
     },
     "execution_count": 29,
     "metadata": {},
     "output_type": "execute_result"
    }
   ],
   "source": [
    "numpy_sum = pyimport(\"numpy\")[\"sum\"]\n",
    "\n",
    "py_numpy_bench = @benchmark $numpy_sum($a)"
   ]
  },
  {
   "cell_type": "code",
   "execution_count": 30,
   "metadata": {},
   "outputs": [
    {
     "data": {
      "text/plain": [
       "4.999559059697596e6"
      ]
     },
     "execution_count": 30,
     "metadata": {},
     "output_type": "execute_result"
    }
   ],
   "source": [
    "numpy_sum(a)"
   ]
  },
  {
   "cell_type": "code",
   "execution_count": 31,
   "metadata": {},
   "outputs": [
    {
     "data": {
      "text/plain": [
       "true"
      ]
     },
     "execution_count": 31,
     "metadata": {},
     "output_type": "execute_result"
    }
   ],
   "source": [
    "numpy_sum(a) ≈ sum(a)"
   ]
  },
  {
   "cell_type": "code",
   "execution_count": 32,
   "metadata": {},
   "outputs": [
    {
     "data": {
      "text/plain": [
       "Dict{Any, Any} with 4 entries:\n",
       "  \"C com -ffast-math\" => 4.97973\n",
       "  \"C\"                 => 8.5679\n",
       "  \"Python numpy\"      => 3.82996\n",
       "  \"Python\"            => 818.794"
      ]
     },
     "execution_count": 32,
     "metadata": {},
     "output_type": "execute_result"
    }
   ],
   "source": [
    "d[\"Python numpy\"] = minimum(py_numpy_bench.times) / 1e6\n",
    "d"
   ]
  },
  {
   "cell_type": "markdown",
   "metadata": {},
   "source": [
    "## 5. Python (escrito à mão)"
   ]
  },
  {
   "cell_type": "code",
   "execution_count": 33,
   "metadata": {},
   "outputs": [
    {
     "data": {
      "text/plain": [
       "PyObject <function py_sum at 0x7f18584ca4c0>"
      ]
     },
     "execution_count": 33,
     "metadata": {},
     "output_type": "execute_result"
    }
   ],
   "source": [
    "py\"\"\"\n",
    "def py_sum(A):\n",
    "    s = 0.0\n",
    "    for a in A:\n",
    "        s += a\n",
    "    return s\n",
    "\"\"\"\n",
    "\n",
    "sum_py = py\"py_sum\""
   ]
  },
  {
   "cell_type": "code",
   "execution_count": 34,
   "metadata": {},
   "outputs": [
    {
     "data": {
      "text/plain": [
       "BenchmarkTools.Trial: \n",
       "  memory estimate:  336 bytes\n",
       "  allocs estimate:  6\n",
       "  --------------\n",
       "  minimum time:     943.844 ms (0.00% GC)\n",
       "  median time:      952.477 ms (0.00% GC)\n",
       "  mean time:        956.468 ms (0.00% GC)\n",
       "  maximum time:     988.484 ms (0.00% GC)\n",
       "  --------------\n",
       "  samples:          6\n",
       "  evals/sample:     1"
      ]
     },
     "execution_count": 34,
     "metadata": {},
     "output_type": "execute_result"
    }
   ],
   "source": [
    "py_hand = @benchmark $sum_py($a)"
   ]
  },
  {
   "cell_type": "code",
   "execution_count": 35,
   "metadata": {},
   "outputs": [
    {
     "data": {
      "text/plain": [
       "4.99955905969744e6"
      ]
     },
     "execution_count": 35,
     "metadata": {},
     "output_type": "execute_result"
    }
   ],
   "source": [
    "sum_py(a)"
   ]
  },
  {
   "cell_type": "code",
   "execution_count": 36,
   "metadata": {},
   "outputs": [
    {
     "data": {
      "text/plain": [
       "true"
      ]
     },
     "execution_count": 36,
     "metadata": {},
     "output_type": "execute_result"
    }
   ],
   "source": [
    "sum_py(a) ≈ sum(a)"
   ]
  },
  {
   "cell_type": "code",
   "execution_count": 37,
   "metadata": {},
   "outputs": [
    {
     "data": {
      "text/plain": [
       "Dict{Any, Any} with 5 entries:\n",
       "  \"C com -ffast-math\"    => 4.97973\n",
       "  \"Python escrito à mão\" => 943.844\n",
       "  \"C\"                    => 8.5679\n",
       "  \"Python numpy\"         => 3.82996\n",
       "  \"Python\"               => 818.794"
      ]
     },
     "execution_count": 37,
     "metadata": {},
     "output_type": "execute_result"
    }
   ],
   "source": [
    "d[\"Python escrito à mão\"] = minimum(py_hand.times) / 1e6\n",
    "d"
   ]
  },
  {
   "cell_type": "markdown",
   "metadata": {},
   "source": [
    "## 6. Julia\n",
    "\n",
    "Em Julia, a função `sum` é escrita em Julia, não em C."
   ]
  },
  {
   "cell_type": "code",
   "execution_count": 38,
   "metadata": {},
   "outputs": [
    {
     "data": {
      "text/html": [
       "sum(a::<b>AbstractArray</b>; <i>dims, kw...</i>) in Base at <a href=\"https://github.com/JuliaLang/julia/tree/f9720dc2ebd6cd9e3086365f281e62506444ef37/base/reducedim.jl#L873\" target=\"_blank\">reducedim.jl:873</a>"
      ],
      "text/plain": [
       "sum(a::AbstractArray; dims, kw...) in Base at reducedim.jl:873"
      ]
     },
     "execution_count": 38,
     "metadata": {},
     "output_type": "execute_result"
    }
   ],
   "source": [
    "@which sum(a)"
   ]
  },
  {
   "cell_type": "code",
   "execution_count": 39,
   "metadata": {},
   "outputs": [
    {
     "data": {
      "text/plain": [
       "BenchmarkTools.Trial: \n",
       "  memory estimate:  0 bytes\n",
       "  allocs estimate:  0\n",
       "  --------------\n",
       "  minimum time:     3.743 ms (0.00% GC)\n",
       "  median time:      3.759 ms (0.00% GC)\n",
       "  mean time:        3.766 ms (0.00% GC)\n",
       "  maximum time:     4.315 ms (0.00% GC)\n",
       "  --------------\n",
       "  samples:          1327\n",
       "  evals/sample:     1"
      ]
     },
     "execution_count": 39,
     "metadata": {},
     "output_type": "execute_result"
    }
   ],
   "source": [
    "j_bench = @benchmark sum($a)"
   ]
  },
  {
   "cell_type": "code",
   "execution_count": 40,
   "metadata": {},
   "outputs": [
    {
     "data": {
      "text/plain": [
       "Dict{Any, Any} with 6 entries:\n",
       "  \"C com -ffast-math\"    => 4.97973\n",
       "  \"Python escrito à mão\" => 943.844\n",
       "  \"C\"                    => 8.5679\n",
       "  \"Python numpy\"         => 3.82996\n",
       "  \"Julia\"                => 3.7429\n",
       "  \"Python\"               => 818.794"
      ]
     },
     "execution_count": 40,
     "metadata": {},
     "output_type": "execute_result"
    }
   ],
   "source": [
    "d[\"Julia\"] = minimum(j_bench.times) / 1e6\n",
    "d"
   ]
  },
  {
   "cell_type": "markdown",
   "metadata": {},
   "source": [
    "## 7. Julia (escrito à mão)"
   ]
  },
  {
   "cell_type": "code",
   "execution_count": 41,
   "metadata": {},
   "outputs": [
    {
     "data": {
      "text/plain": [
       "mysum (generic function with 1 method)"
      ]
     },
     "execution_count": 41,
     "metadata": {},
     "output_type": "execute_result"
    }
   ],
   "source": [
    "function mysum(A)   \n",
    "    s = 0.0 # s = zero(eltype(a))\n",
    "    for a in A\n",
    "        s += a\n",
    "    end\n",
    "    s\n",
    "end"
   ]
  },
  {
   "cell_type": "code",
   "execution_count": 42,
   "metadata": {},
   "outputs": [
    {
     "data": {
      "text/plain": [
       "BenchmarkTools.Trial: \n",
       "  memory estimate:  0 bytes\n",
       "  allocs estimate:  0\n",
       "  --------------\n",
       "  minimum time:     8.655 ms (0.00% GC)\n",
       "  median time:      8.737 ms (0.00% GC)\n",
       "  mean time:        8.738 ms (0.00% GC)\n",
       "  maximum time:     8.789 ms (0.00% GC)\n",
       "  --------------\n",
       "  samples:          573\n",
       "  evals/sample:     1"
      ]
     },
     "execution_count": 42,
     "metadata": {},
     "output_type": "execute_result"
    }
   ],
   "source": [
    "j_bench_hand = @benchmark mysum($a)"
   ]
  },
  {
   "cell_type": "code",
   "execution_count": 43,
   "metadata": {},
   "outputs": [
    {
     "data": {
      "text/plain": [
       "Dict{Any, Any} with 7 entries:\n",
       "  \"C com -ffast-math\"    => 4.97973\n",
       "  \"Python escrito à mão\" => 943.844\n",
       "  \"C\"                    => 8.5679\n",
       "  \"Python numpy\"         => 3.82996\n",
       "  \"Julia escrito à mão\"  => 8.6548\n",
       "  \"Julia\"                => 3.7429\n",
       "  \"Python\"               => 818.794"
      ]
     },
     "execution_count": 43,
     "metadata": {},
     "output_type": "execute_result"
    }
   ],
   "source": [
    "d[\"Julia escrito à mão\"] = minimum(j_bench_hand.times) / 1e6\n",
    "d"
   ]
  },
  {
   "cell_type": "markdown",
   "metadata": {},
   "source": [
    "## 8. Julia (escrito à mão com SIMD)"
   ]
  },
  {
   "cell_type": "code",
   "execution_count": 44,
   "metadata": {},
   "outputs": [
    {
     "data": {
      "text/plain": [
       "mysum_simd (generic function with 1 method)"
      ]
     },
     "execution_count": 44,
     "metadata": {},
     "output_type": "execute_result"
    }
   ],
   "source": [
    "function mysum_simd(A)   \n",
    "    s = 0.0 # s = zero(eltype(A))\n",
    "    @simd for a in A\n",
    "        s += a\n",
    "    end\n",
    "    s\n",
    "end"
   ]
  },
  {
   "cell_type": "code",
   "execution_count": 45,
   "metadata": {},
   "outputs": [
    {
     "data": {
      "text/plain": [
       "BenchmarkTools.Trial: \n",
       "  memory estimate:  0 bytes\n",
       "  allocs estimate:  0\n",
       "  --------------\n",
       "  minimum time:     3.643 ms (0.00% GC)\n",
       "  median time:      3.658 ms (0.00% GC)\n",
       "  mean time:        3.659 ms (0.00% GC)\n",
       "  maximum time:     3.793 ms (0.00% GC)\n",
       "  --------------\n",
       "  samples:          1366\n",
       "  evals/sample:     1"
      ]
     },
     "execution_count": 45,
     "metadata": {},
     "output_type": "execute_result"
    }
   ],
   "source": [
    "j_bench_hand_simd = @benchmark mysum_simd($a)"
   ]
  },
  {
   "cell_type": "code",
   "execution_count": 46,
   "metadata": {},
   "outputs": [
    {
     "data": {
      "text/plain": [
       "4.99955905969753e6"
      ]
     },
     "execution_count": 46,
     "metadata": {},
     "output_type": "execute_result"
    }
   ],
   "source": [
    "mysum_simd(a)"
   ]
  },
  {
   "cell_type": "code",
   "execution_count": 47,
   "metadata": {},
   "outputs": [
    {
     "data": {
      "text/plain": [
       "Dict{Any, Any} with 8 entries:\n",
       "  \"Julia escrito à mão com SIMD\" => 3.6428\n",
       "  \"C com -ffast-math\"            => 4.97973\n",
       "  \"Python escrito à mão\"         => 943.844\n",
       "  \"C\"                            => 8.5679\n",
       "  \"Python numpy\"                 => 3.82996\n",
       "  \"Julia escrito à mão\"          => 8.6548\n",
       "  \"Julia\"                        => 3.7429\n",
       "  \"Python\"                       => 818.794"
      ]
     },
     "execution_count": 47,
     "metadata": {},
     "output_type": "execute_result"
    }
   ],
   "source": [
    "d[\"Julia escrito à mão com SIMD\"] = minimum(j_bench_hand_simd.times) / 1e6\n",
    "d"
   ]
  },
  {
   "cell_type": "markdown",
   "metadata": {},
   "source": [
    "## Em resumo"
   ]
  },
  {
   "cell_type": "code",
   "execution_count": 48,
   "metadata": {},
   "outputs": [
    {
     "name": "stdout",
     "output_type": "stream",
     "text": [
      "Julia escrito à mão com SIMD....3.64\n",
      "Julia...........................3.74\n",
      "Python numpy....................3.83\n",
      "C com -ffast-math...............4.98\n",
      "C...............................8.57\n",
      "Julia escrito à mão.............8.65\n",
      "Python........................818.79\n",
      "Python escrito à mão..........943.84\n"
     ]
    }
   ],
   "source": [
    "for (key, value) in sort(collect(d), by=last)\n",
    "    println(rpad(key, 30, \".\"), lpad(round(value; digits=2), 6, \".\"))\n",
    "end"
   ]
  }
 ],
 "metadata": {
  "kernelspec": {
   "display_name": "Julia 1.6.0",
   "language": "julia",
   "name": "julia-1.6"
  },
  "language_info": {
   "file_extension": ".jl",
   "mimetype": "application/julia",
   "name": "julia",
   "version": "1.6.0"
  }
 },
 "nbformat": 4,
 "nbformat_minor": 4
}
