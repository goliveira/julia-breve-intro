{
 "cells": [
  {
   "cell_type": "markdown",
   "metadata": {},
   "source": [
    "# A Julia é rápida\n",
    "\n",
    "Frequentemente, programas são executados em diferentes linguagens de programação com o propósito de comparar os desempenhos das linguagens.\n",
    "Esse tipo de comparação não é simples e pode gerar discussões.\n",
    "\n",
    "Neste notebook vamos fazer uma comparação simples entre algumas linguagens de programação e deixar que você tire suas próprias conclusões."
   ]
  },
  {
   "cell_type": "markdown",
   "metadata": {},
   "source": [
    "## A função soma\n",
    "\n",
    "Consideramos a função soma, denotada por `sum`, que é definida por\n",
    "$$\n",
    "\\mathrm{sum}(a) = \\sum_{j=1}^n a_j,\n",
    "$$\n",
    "onde $a = [a_1, a_2, \\dots, a_j]$ é uma lista com $n$ elementos.\n",
    "\n",
    "Vamos criar uma lista com 10<sup>7</sup> elementos escolhidos aleatoriamente no intervalo $[0,1]$:"
   ]
  },
  {
   "cell_type": "code",
   "execution_count": 1,
   "metadata": {},
   "outputs": [
    {
     "data": {
      "text/plain": [
       "10000000-element Vector{Float64}:\n",
       " 0.5590258901088959\n",
       " 0.8800592438492887\n",
       " 0.7919338624993186\n",
       " 0.43737350979183165\n",
       " 0.8898289729471339\n",
       " 0.8002311115898857\n",
       " 0.06715145378701315\n",
       " 0.7440773499748988\n",
       " 0.8088702167608018\n",
       " 0.7599262576730607\n",
       " 0.6972758534003886\n",
       " 0.7566507151867606\n",
       " 0.47540413010747906\n",
       " ⋮\n",
       " 0.9602776818317982\n",
       " 0.18663321927655463\n",
       " 0.429451985754591\n",
       " 0.5358322873816899\n",
       " 0.8511944063705188\n",
       " 0.9080307922780101\n",
       " 0.1385764046477026\n",
       " 0.618307657512172\n",
       " 0.4441165421290244\n",
       " 0.33377200333413837\n",
       " 0.9268496187776066\n",
       " 0.12368826465439753"
      ]
     },
     "execution_count": 1,
     "metadata": {},
     "output_type": "execute_result"
    }
   ],
   "source": [
    "a = rand(10^7)"
   ]
  },
  {
   "cell_type": "markdown",
   "metadata": {},
   "source": [
    "Calculamos a soma dos elementos de `a`:"
   ]
  },
  {
   "cell_type": "code",
   "execution_count": 2,
   "metadata": {},
   "outputs": [
    {
     "data": {
      "text/plain": [
       "5.001380361681766e6"
      ]
     },
     "execution_count": 2,
     "metadata": {},
     "output_type": "execute_result"
    }
   ],
   "source": [
    "sum(a)"
   ]
  },
  {
   "cell_type": "markdown",
   "metadata": {},
   "source": [
    "O resultado esperado é 0.5 * 10<sup>7</sup>, pois o valor médio de cada elemento da lista é igual a 0.5."
   ]
  },
  {
   "cell_type": "markdown",
   "metadata": {},
   "source": [
    "## Medindo desempenho de formas diferentes, em linguagens diferentes"
   ]
  },
  {
   "cell_type": "code",
   "execution_count": 3,
   "metadata": {},
   "outputs": [
    {
     "name": "stdout",
     "output_type": "stream",
     "text": [
      "  0.003887 seconds (1 allocation: 16 bytes)\n"
     ]
    },
    {
     "data": {
      "text/plain": [
       "5.001380361681766e6"
      ]
     },
     "execution_count": 3,
     "metadata": {},
     "output_type": "execute_result"
    }
   ],
   "source": [
    "@time sum(a)"
   ]
  },
  {
   "cell_type": "markdown",
   "metadata": {},
   "source": [
    "A macro `@time` é boa para uma estimativa grosseira, mas não é muito precisa.\n",
    "\n",
    "O pacote `BenchmarkTools.jl` fornece um método simples e preciso de fazer comparações."
   ]
  },
  {
   "cell_type": "code",
   "execution_count": 4,
   "metadata": {},
   "outputs": [
    {
     "name": "stderr",
     "output_type": "stream",
     "text": [
      "\u001b[32m\u001b[1m    Updating\u001b[22m\u001b[39m registry at `~/.julia/registries/General.toml`\n",
      "\u001b[32m\u001b[1m   Resolving\u001b[22m\u001b[39m package versions...\n",
      "\u001b[32m\u001b[1m  No Changes\u001b[22m\u001b[39m to `~/Sync/julia-breve-intro/Project.toml`\n",
      "\u001b[32m\u001b[1m  No Changes\u001b[22m\u001b[39m to `~/Sync/julia-breve-intro/Manifest.toml`\n"
     ]
    }
   ],
   "source": [
    "using Pkg\n",
    "Pkg.add(\"BenchmarkTools\")"
   ]
  },
  {
   "cell_type": "code",
   "execution_count": 5,
   "metadata": {},
   "outputs": [],
   "source": [
    "using BenchmarkTools"
   ]
  },
  {
   "cell_type": "markdown",
   "metadata": {},
   "source": [
    "## 1. C\n",
    "\n",
    "A linguagem C é considerada uma linguagem difícil para os humanos e simples para as máquinas.\n",
    "\n",
    "Em uma sessão da Julia, podemos inserir um programa em C, compilá-lo e executá-lo:"
   ]
  },
  {
   "cell_type": "code",
   "execution_count": 6,
   "metadata": {},
   "outputs": [
    {
     "data": {
      "text/plain": [
       "c_sum (generic function with 1 method)"
      ]
     },
     "execution_count": 6,
     "metadata": {},
     "output_type": "execute_result"
    }
   ],
   "source": [
    "using Libdl\n",
    "C_code = \"\"\"\n",
    "#include <stddef.h>\n",
    "double c_sum(size_t n, double *X) {\n",
    "    double s = 0.0;\n",
    "    for (size_t i = 0; i < n; ++i) {\n",
    "        s += X[i];\n",
    "    }\n",
    "    return s;\n",
    "}\n",
    "\"\"\"\n",
    "\n",
    "const Clib = tempname()  # Cria um arquivo temporário\n",
    "\n",
    "# Compila para uma biblioteca compartilhada passando\n",
    "# o código C_code para o compilador gcc (só funciona\n",
    "# se o gcc estiver instalado):\n",
    "\n",
    "open(`gcc -fPIC -O3 -msse3 -xc -shared -o $(Clib * \".\" * Libdl.dlext) -`, \"w\") do f\n",
    "    print(f, C_code) \n",
    "end\n",
    "\n",
    "# Define uma função em Julia que chama a função do C\n",
    "c_sum(X::Array{Float64}) = ccall((\"c_sum\", Clib), Float64, (Csize_t, Ptr{Float64}), length(X), X)"
   ]
  },
  {
   "cell_type": "code",
   "execution_count": 7,
   "metadata": {},
   "outputs": [
    {
     "data": {
      "text/plain": [
       "5.001380361682002e6"
      ]
     },
     "execution_count": 7,
     "metadata": {},
     "output_type": "execute_result"
    }
   ],
   "source": [
    "c_sum(a)"
   ]
  },
  {
   "cell_type": "code",
   "execution_count": 8,
   "metadata": {},
   "outputs": [
    {
     "data": {
      "text/plain": [
       "true"
      ]
     },
     "execution_count": 8,
     "metadata": {},
     "output_type": "execute_result"
    }
   ],
   "source": [
    "c_sum(a) ≈ sum(a)  # Digite \\approx e tecle <TAB> para obter o símbolo ≈"
   ]
  },
  {
   "cell_type": "code",
   "execution_count": 9,
   "metadata": {},
   "outputs": [
    {
     "data": {
      "text/plain": [
       "2.3655593395233154e-7"
      ]
     },
     "execution_count": 9,
     "metadata": {},
     "output_type": "execute_result"
    }
   ],
   "source": [
    "c_sum(a) - sum(a)"
   ]
  },
  {
   "cell_type": "code",
   "execution_count": 10,
   "metadata": {},
   "outputs": [
    {
     "data": {
      "text/plain": [
       "isapprox (generic function with 9 methods)"
      ]
     },
     "execution_count": 10,
     "metadata": {},
     "output_type": "execute_result"
    }
   ],
   "source": [
    "≈ # é uma abreviação (alias) para a função `isapprox`"
   ]
  },
  {
   "cell_type": "code",
   "execution_count": 11,
   "metadata": {},
   "outputs": [
    {
     "name": "stdout",
     "output_type": "stream",
     "text": [
      "search: \u001b[0m\u001b[1mi\u001b[22m\u001b[0m\u001b[1ms\u001b[22m\u001b[0m\u001b[1ma\u001b[22m\u001b[0m\u001b[1mp\u001b[22m\u001b[0m\u001b[1mp\u001b[22m\u001b[0m\u001b[1mr\u001b[22m\u001b[0m\u001b[1mo\u001b[22m\u001b[0m\u001b[1mx\u001b[22m\n",
      "\n"
     ]
    },
    {
     "data": {
      "text/latex": [
       "\\begin{verbatim}\n",
       "isapprox(x, y; atol::Real=0, rtol::Real=atol>0 ? 0 : √eps, nans::Bool=false[, norm::Function])\n",
       "\\end{verbatim}\n",
       "Inexact equality comparison. Two numbers compare equal if their relative distance \\emph{or} their absolute distance is within tolerance bounds: \\texttt{isapprox} returns \\texttt{true} if \\texttt{norm(x-y) <= max(atol, rtol*max(norm(x), norm(y)))}. The default \\texttt{atol} is zero and the default \\texttt{rtol} depends on the types of \\texttt{x} and \\texttt{y}. The keyword argument \\texttt{nans} determines whether or not NaN values are considered equal (defaults to false).\n",
       "\n",
       "For real or complex floating-point values, if an \\texttt{atol > 0} is not specified, \\texttt{rtol} defaults to the square root of \\href{@ref}{\\texttt{eps}} of the type of \\texttt{x} or \\texttt{y}, whichever is bigger (least precise). This corresponds to requiring equality of about half of the significand digits. Otherwise, e.g. for integer arguments or if an \\texttt{atol > 0} is supplied, \\texttt{rtol} defaults to zero.\n",
       "\n",
       "The \\texttt{norm} keyword defaults to \\texttt{abs} for numeric \\texttt{(x,y)} and to \\texttt{LinearAlgebra.norm} for arrays (where an alternative \\texttt{norm} choice is sometimes useful). When \\texttt{x} and \\texttt{y} are arrays, if \\texttt{norm(x-y)} is not finite (i.e. \\texttt{±Inf} or \\texttt{NaN}), the comparison falls back to checking whether all elements of \\texttt{x} and \\texttt{y} are approximately equal component-wise.\n",
       "\n",
       "The binary operator \\texttt{≈} is equivalent to \\texttt{isapprox} with the default arguments, and \\texttt{x ≉ y} is equivalent to \\texttt{!isapprox(x,y)}.\n",
       "\n",
       "Note that \\texttt{x ≈ 0} (i.e., comparing to zero with the default tolerances) is equivalent to \\texttt{x == 0} since the default \\texttt{atol} is \\texttt{0}.  In such cases, you should either supply an appropriate \\texttt{atol} (or use \\texttt{norm(x) ≤ atol}) or rearrange your code (e.g. use \\texttt{x ≈ y} rather than \\texttt{x - y ≈ 0}).   It is not possible to pick a nonzero \\texttt{atol} automatically because it depends on the overall scaling (the \"units\") of your problem: for example, in \\texttt{x - y ≈ 0}, \\texttt{atol=1e-9} is an absurdly small tolerance if \\texttt{x} is the \\href{https://en.wikipedia.org/wiki/Earth_radius}{radius of the Earth} in meters, but an absurdly large tolerance if \\texttt{x} is the \\href{https://en.wikipedia.org/wiki/Bohr_radius}{radius of a Hydrogen atom} in meters.\n",
       "\n",
       "\\begin{quote}\n",
       "\\textbf{compat}\n",
       "\n",
       "Julia 1.6\n",
       "\n",
       "Passing the \\texttt{norm} keyword argument when comparing numeric (non-array) arguments requires Julia 1.6 or later.\n",
       "\n",
       "\\end{quote}\n",
       "\\section{Examples}\n",
       "\\begin{verbatim}\n",
       "julia> isapprox(0.1, 0.15; atol=0.05)\n",
       "true\n",
       "\n",
       "julia> isapprox(0.1, 0.15; rtol=0.34)\n",
       "true\n",
       "\n",
       "julia> isapprox(0.1, 0.15; rtol=0.33)\n",
       "false\n",
       "\n",
       "julia> 0.1 + 1e-10 ≈ 0.1\n",
       "true\n",
       "\n",
       "julia> 1e-10 ≈ 0\n",
       "false\n",
       "\n",
       "julia> isapprox(1e-10, 0, atol=1e-8)\n",
       "true\n",
       "\n",
       "julia> isapprox([10.0^9, 1.0], [10.0^9, 2.0]) # using `norm`\n",
       "true\n",
       "\\end{verbatim}\n",
       "\\rule{\\textwidth}{1pt}\n",
       "\\begin{verbatim}\n",
       "isapprox(x; kwargs...) / ≈(x; kwargs...)\n",
       "\\end{verbatim}\n",
       "Create a function that compares its argument to \\texttt{x} using \\texttt{≈}, i.e. a function equivalent to \\texttt{y -> y ≈ x}.\n",
       "\n",
       "The keyword arguments supported here are the same as those in the 2-argument \\texttt{isapprox}.\n",
       "\n",
       "\\begin{quote}\n",
       "\\textbf{compat}\n",
       "\n",
       "Julia 1.5\n",
       "\n",
       "This method requires Julia 1.5 or later.\n",
       "\n",
       "\\end{quote}\n"
      ],
      "text/markdown": [
       "```\n",
       "isapprox(x, y; atol::Real=0, rtol::Real=atol>0 ? 0 : √eps, nans::Bool=false[, norm::Function])\n",
       "```\n",
       "\n",
       "Inexact equality comparison. Two numbers compare equal if their relative distance *or* their absolute distance is within tolerance bounds: `isapprox` returns `true` if `norm(x-y) <= max(atol, rtol*max(norm(x), norm(y)))`. The default `atol` is zero and the default `rtol` depends on the types of `x` and `y`. The keyword argument `nans` determines whether or not NaN values are considered equal (defaults to false).\n",
       "\n",
       "For real or complex floating-point values, if an `atol > 0` is not specified, `rtol` defaults to the square root of [`eps`](@ref) of the type of `x` or `y`, whichever is bigger (least precise). This corresponds to requiring equality of about half of the significand digits. Otherwise, e.g. for integer arguments or if an `atol > 0` is supplied, `rtol` defaults to zero.\n",
       "\n",
       "The `norm` keyword defaults to `abs` for numeric `(x,y)` and to `LinearAlgebra.norm` for arrays (where an alternative `norm` choice is sometimes useful). When `x` and `y` are arrays, if `norm(x-y)` is not finite (i.e. `±Inf` or `NaN`), the comparison falls back to checking whether all elements of `x` and `y` are approximately equal component-wise.\n",
       "\n",
       "The binary operator `≈` is equivalent to `isapprox` with the default arguments, and `x ≉ y` is equivalent to `!isapprox(x,y)`.\n",
       "\n",
       "Note that `x ≈ 0` (i.e., comparing to zero with the default tolerances) is equivalent to `x == 0` since the default `atol` is `0`.  In such cases, you should either supply an appropriate `atol` (or use `norm(x) ≤ atol`) or rearrange your code (e.g. use `x ≈ y` rather than `x - y ≈ 0`).   It is not possible to pick a nonzero `atol` automatically because it depends on the overall scaling (the \"units\") of your problem: for example, in `x - y ≈ 0`, `atol=1e-9` is an absurdly small tolerance if `x` is the [radius of the Earth](https://en.wikipedia.org/wiki/Earth_radius) in meters, but an absurdly large tolerance if `x` is the [radius of a Hydrogen atom](https://en.wikipedia.org/wiki/Bohr_radius) in meters.\n",
       "\n",
       "!!! compat \"Julia 1.6\"\n",
       "    Passing the `norm` keyword argument when comparing numeric (non-array) arguments requires Julia 1.6 or later.\n",
       "\n",
       "\n",
       "# Examples\n",
       "\n",
       "```jldoctest\n",
       "julia> isapprox(0.1, 0.15; atol=0.05)\n",
       "true\n",
       "\n",
       "julia> isapprox(0.1, 0.15; rtol=0.34)\n",
       "true\n",
       "\n",
       "julia> isapprox(0.1, 0.15; rtol=0.33)\n",
       "false\n",
       "\n",
       "julia> 0.1 + 1e-10 ≈ 0.1\n",
       "true\n",
       "\n",
       "julia> 1e-10 ≈ 0\n",
       "false\n",
       "\n",
       "julia> isapprox(1e-10, 0, atol=1e-8)\n",
       "true\n",
       "\n",
       "julia> isapprox([10.0^9, 1.0], [10.0^9, 2.0]) # using `norm`\n",
       "true\n",
       "```\n",
       "\n",
       "---\n",
       "\n",
       "```\n",
       "isapprox(x; kwargs...) / ≈(x; kwargs...)\n",
       "```\n",
       "\n",
       "Create a function that compares its argument to `x` using `≈`, i.e. a function equivalent to `y -> y ≈ x`.\n",
       "\n",
       "The keyword arguments supported here are the same as those in the 2-argument `isapprox`.\n",
       "\n",
       "!!! compat \"Julia 1.5\"\n",
       "    This method requires Julia 1.5 or later.\n",
       "\n"
      ],
      "text/plain": [
       "\u001b[36m  isapprox(x, y; atol::Real=0, rtol::Real=atol>0 ? 0 : √eps, nans::Bool=false[, norm::Function])\u001b[39m\n",
       "\n",
       "  Inexact equality comparison. Two numbers compare equal if their relative\n",
       "  distance \u001b[4mor\u001b[24m their absolute distance is within tolerance bounds: \u001b[36misapprox\u001b[39m\n",
       "  returns \u001b[36mtrue\u001b[39m if \u001b[36mnorm(x-y) <= max(atol, rtol*max(norm(x), norm(y)))\u001b[39m. The\n",
       "  default \u001b[36matol\u001b[39m is zero and the default \u001b[36mrtol\u001b[39m depends on the types of \u001b[36mx\u001b[39m and \u001b[36my\u001b[39m.\n",
       "  The keyword argument \u001b[36mnans\u001b[39m determines whether or not NaN values are\n",
       "  considered equal (defaults to false).\n",
       "\n",
       "  For real or complex floating-point values, if an \u001b[36matol > 0\u001b[39m is not specified,\n",
       "  \u001b[36mrtol\u001b[39m defaults to the square root of \u001b[36meps\u001b[39m of the type of \u001b[36mx\u001b[39m or \u001b[36my\u001b[39m, whichever is\n",
       "  bigger (least precise). This corresponds to requiring equality of about half\n",
       "  of the significand digits. Otherwise, e.g. for integer arguments or if an\n",
       "  \u001b[36matol > 0\u001b[39m is supplied, \u001b[36mrtol\u001b[39m defaults to zero.\n",
       "\n",
       "  The \u001b[36mnorm\u001b[39m keyword defaults to \u001b[36mabs\u001b[39m for numeric \u001b[36m(x,y)\u001b[39m and to \u001b[36mLinearAlgebra.norm\u001b[39m\n",
       "  for arrays (where an alternative \u001b[36mnorm\u001b[39m choice is sometimes useful). When \u001b[36mx\u001b[39m\n",
       "  and \u001b[36my\u001b[39m are arrays, if \u001b[36mnorm(x-y)\u001b[39m is not finite (i.e. \u001b[36m±Inf\u001b[39m or \u001b[36mNaN\u001b[39m), the\n",
       "  comparison falls back to checking whether all elements of \u001b[36mx\u001b[39m and \u001b[36my\u001b[39m are\n",
       "  approximately equal component-wise.\n",
       "\n",
       "  The binary operator \u001b[36m≈\u001b[39m is equivalent to \u001b[36misapprox\u001b[39m with the default arguments,\n",
       "  and \u001b[36mx ≉ y\u001b[39m is equivalent to \u001b[36m!isapprox(x,y)\u001b[39m.\n",
       "\n",
       "  Note that \u001b[36mx ≈ 0\u001b[39m (i.e., comparing to zero with the default tolerances) is\n",
       "  equivalent to \u001b[36mx == 0\u001b[39m since the default \u001b[36matol\u001b[39m is \u001b[36m0\u001b[39m. In such cases, you should\n",
       "  either supply an appropriate \u001b[36matol\u001b[39m (or use \u001b[36mnorm(x) ≤ atol\u001b[39m) or rearrange your\n",
       "  code (e.g. use \u001b[36mx ≈ y\u001b[39m rather than \u001b[36mx - y ≈ 0\u001b[39m). It is not possible to pick a\n",
       "  nonzero \u001b[36matol\u001b[39m automatically because it depends on the overall scaling (the\n",
       "  \"units\") of your problem: for example, in \u001b[36mx - y ≈ 0\u001b[39m, \u001b[36matol=1e-9\u001b[39m is an\n",
       "  absurdly small tolerance if \u001b[36mx\u001b[39m is the radius of the Earth\n",
       "  (https://en.wikipedia.org/wiki/Earth_radius) in meters, but an absurdly\n",
       "  large tolerance if \u001b[36mx\u001b[39m is the radius of a Hydrogen atom\n",
       "  (https://en.wikipedia.org/wiki/Bohr_radius) in meters.\n",
       "\n",
       "\u001b[39m\u001b[1m  │ \u001b[22m\u001b[39m\u001b[1mJulia 1.6\u001b[22m\n",
       "\u001b[39m\u001b[1m  │\u001b[22m\n",
       "\u001b[39m\u001b[1m  │\u001b[22m  Passing the \u001b[36mnorm\u001b[39m keyword argument when comparing numeric\n",
       "\u001b[39m\u001b[1m  │\u001b[22m  (non-array) arguments requires Julia 1.6 or later.\n",
       "\n",
       "\u001b[1m  Examples\u001b[22m\n",
       "\u001b[1m  ≡≡≡≡≡≡≡≡≡≡\u001b[22m\n",
       "\n",
       "\u001b[36m  julia> isapprox(0.1, 0.15; atol=0.05)\u001b[39m\n",
       "\u001b[36m  true\u001b[39m\n",
       "\u001b[36m  \u001b[39m\n",
       "\u001b[36m  julia> isapprox(0.1, 0.15; rtol=0.34)\u001b[39m\n",
       "\u001b[36m  true\u001b[39m\n",
       "\u001b[36m  \u001b[39m\n",
       "\u001b[36m  julia> isapprox(0.1, 0.15; rtol=0.33)\u001b[39m\n",
       "\u001b[36m  false\u001b[39m\n",
       "\u001b[36m  \u001b[39m\n",
       "\u001b[36m  julia> 0.1 + 1e-10 ≈ 0.1\u001b[39m\n",
       "\u001b[36m  true\u001b[39m\n",
       "\u001b[36m  \u001b[39m\n",
       "\u001b[36m  julia> 1e-10 ≈ 0\u001b[39m\n",
       "\u001b[36m  false\u001b[39m\n",
       "\u001b[36m  \u001b[39m\n",
       "\u001b[36m  julia> isapprox(1e-10, 0, atol=1e-8)\u001b[39m\n",
       "\u001b[36m  true\u001b[39m\n",
       "\u001b[36m  \u001b[39m\n",
       "\u001b[36m  julia> isapprox([10.0^9, 1.0], [10.0^9, 2.0]) # using `norm`\u001b[39m\n",
       "\u001b[36m  true\u001b[39m\n",
       "\n",
       "  ────────────────────────────────────────────────────────────────────────────\n",
       "\n",
       "\u001b[36m  isapprox(x; kwargs...) / ≈(x; kwargs...)\u001b[39m\n",
       "\n",
       "  Create a function that compares its argument to \u001b[36mx\u001b[39m using \u001b[36m≈\u001b[39m, i.e. a function\n",
       "  equivalent to \u001b[36my -> y ≈ x\u001b[39m.\n",
       "\n",
       "  The keyword arguments supported here are the same as those in the 2-argument\n",
       "  \u001b[36misapprox\u001b[39m.\n",
       "\n",
       "\u001b[39m\u001b[1m  │ \u001b[22m\u001b[39m\u001b[1mJulia 1.5\u001b[22m\n",
       "\u001b[39m\u001b[1m  │\u001b[22m\n",
       "\u001b[39m\u001b[1m  │\u001b[22m  This method requires Julia 1.5 or later."
      ]
     },
     "execution_count": 11,
     "metadata": {},
     "output_type": "execute_result"
    }
   ],
   "source": [
    "?isapprox"
   ]
  },
  {
   "cell_type": "markdown",
   "metadata": {},
   "source": [
    "Agora podemos medir o desempenho do código C diretamente da sessão Julia."
   ]
  },
  {
   "cell_type": "code",
   "execution_count": 12,
   "metadata": {},
   "outputs": [
    {
     "data": {
      "text/plain": [
       "BenchmarkTools.Trial: 585 samples with 1 evaluation.\n",
       " Range \u001b[90m(\u001b[39m\u001b[36m\u001b[1mmin\u001b[22m\u001b[39m … \u001b[35mmax\u001b[39m\u001b[90m):  \u001b[39m\u001b[36m\u001b[1m8.523 ms\u001b[22m\u001b[39m … \u001b[35m 9.026 ms\u001b[39m  \u001b[90m┊\u001b[39m GC \u001b[90m(\u001b[39mmin … max\u001b[90m): \u001b[39m0.00% … 0.00%\n",
       " Time  \u001b[90m(\u001b[39m\u001b[34m\u001b[1mmedian\u001b[22m\u001b[39m\u001b[90m):     \u001b[39m\u001b[34m\u001b[1m8.541 ms              \u001b[22m\u001b[39m\u001b[90m┊\u001b[39m GC \u001b[90m(\u001b[39mmedian\u001b[90m):    \u001b[39m0.00%\n",
       " Time  \u001b[90m(\u001b[39m\u001b[32m\u001b[1mmean\u001b[22m\u001b[39m ± \u001b[32mσ\u001b[39m\u001b[90m):   \u001b[39m\u001b[32m\u001b[1m8.546 ms\u001b[22m\u001b[39m ± \u001b[32m33.096 μs\u001b[39m  \u001b[90m┊\u001b[39m GC \u001b[90m(\u001b[39mmean ± σ\u001b[90m):  \u001b[39m0.00% ± 0.00%\n",
       "\n",
       "  \u001b[39m \u001b[39m \u001b[39m \u001b[39m \u001b[39m \u001b[39m▂\u001b[39m▁\u001b[39m▁\u001b[39m▄\u001b[39m█\u001b[39m▄\u001b[39m▅\u001b[39m▇\u001b[34m█\u001b[39m\u001b[39m▅\u001b[39m▃\u001b[32m▂\u001b[39m\u001b[39m \u001b[39m \u001b[39m \u001b[39m \u001b[39m \u001b[39m \u001b[39m \u001b[39m \u001b[39m \u001b[39m \u001b[39m \u001b[39m \u001b[39m \u001b[39m \u001b[39m \u001b[39m \u001b[39m \u001b[39m \u001b[39m \u001b[39m \u001b[39m \u001b[39m \u001b[39m \u001b[39m \u001b[39m \u001b[39m \u001b[39m \u001b[39m \u001b[39m \u001b[39m \u001b[39m \u001b[39m \u001b[39m \u001b[39m \u001b[39m \u001b[39m \u001b[39m \u001b[39m \u001b[39m \u001b[39m \u001b[39m \u001b[39m \u001b[39m \n",
       "  \u001b[39m▃\u001b[39m▂\u001b[39m▃\u001b[39m▅\u001b[39m█\u001b[39m█\u001b[39m█\u001b[39m█\u001b[39m█\u001b[39m█\u001b[39m█\u001b[39m█\u001b[39m█\u001b[34m█\u001b[39m\u001b[39m█\u001b[39m█\u001b[32m█\u001b[39m\u001b[39m█\u001b[39m▆\u001b[39m█\u001b[39m▇\u001b[39m▇\u001b[39m▆\u001b[39m▆\u001b[39m▅\u001b[39m▄\u001b[39m▂\u001b[39m▄\u001b[39m▃\u001b[39m▄\u001b[39m▄\u001b[39m▂\u001b[39m▂\u001b[39m▃\u001b[39m▃\u001b[39m▂\u001b[39m▁\u001b[39m▂\u001b[39m▁\u001b[39m▃\u001b[39m▁\u001b[39m▁\u001b[39m▂\u001b[39m▁\u001b[39m▁\u001b[39m▁\u001b[39m▁\u001b[39m▁\u001b[39m▁\u001b[39m▂\u001b[39m▁\u001b[39m▁\u001b[39m▁\u001b[39m▁\u001b[39m▁\u001b[39m▁\u001b[39m▁\u001b[39m▂\u001b[39m \u001b[39m▄\n",
       "  8.52 ms\u001b[90m        Histogram: frequency by time\u001b[39m         8.6 ms \u001b[0m\u001b[1m<\u001b[22m\n",
       "\n",
       " Memory estimate\u001b[90m: \u001b[39m\u001b[33m0 bytes\u001b[39m, allocs estimate\u001b[90m: \u001b[39m\u001b[33m0\u001b[39m."
      ]
     },
     "execution_count": 12,
     "metadata": {},
     "output_type": "execute_result"
    }
   ],
   "source": [
    "c_bench = @benchmark c_sum($a)"
   ]
  },
  {
   "cell_type": "code",
   "execution_count": 13,
   "metadata": {},
   "outputs": [
    {
     "name": "stdout",
     "output_type": "stream",
     "text": [
      "C: O tempo mais rápido foi 8.522921 msec\n"
     ]
    }
   ],
   "source": [
    "println(\"C: O tempo mais rápido foi $(minimum(c_bench.times) / 1e6) msec\")"
   ]
  },
  {
   "cell_type": "code",
   "execution_count": 14,
   "metadata": {},
   "outputs": [
    {
     "data": {
      "text/plain": [
       "Dict{Any, Any} with 1 entry:\n",
       "  \"C\" => 8.52292"
      ]
     },
     "execution_count": 14,
     "metadata": {},
     "output_type": "execute_result"
    }
   ],
   "source": [
    "d = Dict()\n",
    "d[\"C\"] = minimum(c_bench.times) / 1e6  # em milisegundos\n",
    "d"
   ]
  },
  {
   "cell_type": "code",
   "execution_count": 15,
   "metadata": {},
   "outputs": [
    {
     "data": {
      "text/plain": [
       "Plots.GRBackend()"
      ]
     },
     "execution_count": 15,
     "metadata": {},
     "output_type": "execute_result"
    }
   ],
   "source": [
    "using Plots\n",
    "gr()"
   ]
  },
  {
   "cell_type": "code",
   "execution_count": 16,
   "metadata": {},
   "outputs": [
    {
     "data": {
      "image/svg+xml": [
       "<?xml version=\"1.0\" encoding=\"utf-8\"?>\n",
       "<svg xmlns=\"http://www.w3.org/2000/svg\" xmlns:xlink=\"http://www.w3.org/1999/xlink\" width=\"600\" height=\"400\" viewBox=\"0 0 2400 1600\">\n",
       "<defs>\n",
       "  <clipPath id=\"clip290\">\n",
       "    <rect x=\"0\" y=\"0\" width=\"2400\" height=\"1600\"/>\n",
       "  </clipPath>\n",
       "</defs>\n",
       "<path clip-path=\"url(#clip290)\" d=\"\n",
       "M0 1600 L2400 1600 L2400 0 L0 0  Z\n",
       "  \" fill=\"#ffffff\" fill-rule=\"evenodd\" fill-opacity=\"1\"/>\n",
       "<defs>\n",
       "  <clipPath id=\"clip291\">\n",
       "    <rect x=\"480\" y=\"0\" width=\"1681\" height=\"1600\"/>\n",
       "  </clipPath>\n",
       "</defs>\n",
       "<path clip-path=\"url(#clip290)\" d=\"\n",
       "M232.389 1423.18 L2352.76 1423.18 L2352.76 47.2441 L232.389 47.2441  Z\n",
       "  \" fill=\"#ffffff\" fill-rule=\"evenodd\" fill-opacity=\"1\"/>\n",
       "<defs>\n",
       "  <clipPath id=\"clip292\">\n",
       "    <rect x=\"232\" y=\"47\" width=\"2121\" height=\"1377\"/>\n",
       "  </clipPath>\n",
       "</defs>\n",
       "<polyline clip-path=\"url(#clip292)\" style=\"stroke:#000000; stroke-linecap:butt; stroke-linejoin:round; stroke-width:2; stroke-opacity:0.1; fill:none\" points=\"\n",
       "  395.357,1423.18 395.357,47.2441 \n",
       "  \"/>\n",
       "<polyline clip-path=\"url(#clip292)\" style=\"stroke:#000000; stroke-linecap:butt; stroke-linejoin:round; stroke-width:2; stroke-opacity:0.1; fill:none\" points=\"\n",
       "  795.78,1423.18 795.78,47.2441 \n",
       "  \"/>\n",
       "<polyline clip-path=\"url(#clip292)\" style=\"stroke:#000000; stroke-linecap:butt; stroke-linejoin:round; stroke-width:2; stroke-opacity:0.1; fill:none\" points=\"\n",
       "  1196.2,1423.18 1196.2,47.2441 \n",
       "  \"/>\n",
       "<polyline clip-path=\"url(#clip292)\" style=\"stroke:#000000; stroke-linecap:butt; stroke-linejoin:round; stroke-width:2; stroke-opacity:0.1; fill:none\" points=\"\n",
       "  1596.63,1423.18 1596.63,47.2441 \n",
       "  \"/>\n",
       "<polyline clip-path=\"url(#clip292)\" style=\"stroke:#000000; stroke-linecap:butt; stroke-linejoin:round; stroke-width:2; stroke-opacity:0.1; fill:none\" points=\"\n",
       "  1997.05,1423.18 1997.05,47.2441 \n",
       "  \"/>\n",
       "<polyline clip-path=\"url(#clip290)\" style=\"stroke:#000000; stroke-linecap:butt; stroke-linejoin:round; stroke-width:4; stroke-opacity:1; fill:none\" points=\"\n",
       "  232.389,1423.18 2352.76,1423.18 \n",
       "  \"/>\n",
       "<polyline clip-path=\"url(#clip290)\" style=\"stroke:#000000; stroke-linecap:butt; stroke-linejoin:round; stroke-width:4; stroke-opacity:1; fill:none\" points=\"\n",
       "  395.357,1423.18 395.357,1404.28 \n",
       "  \"/>\n",
       "<polyline clip-path=\"url(#clip290)\" style=\"stroke:#000000; stroke-linecap:butt; stroke-linejoin:round; stroke-width:4; stroke-opacity:1; fill:none\" points=\"\n",
       "  795.78,1423.18 795.78,1404.28 \n",
       "  \"/>\n",
       "<polyline clip-path=\"url(#clip290)\" style=\"stroke:#000000; stroke-linecap:butt; stroke-linejoin:round; stroke-width:4; stroke-opacity:1; fill:none\" points=\"\n",
       "  1196.2,1423.18 1196.2,1404.28 \n",
       "  \"/>\n",
       "<polyline clip-path=\"url(#clip290)\" style=\"stroke:#000000; stroke-linecap:butt; stroke-linejoin:round; stroke-width:4; stroke-opacity:1; fill:none\" points=\"\n",
       "  1596.63,1423.18 1596.63,1404.28 \n",
       "  \"/>\n",
       "<polyline clip-path=\"url(#clip290)\" style=\"stroke:#000000; stroke-linecap:butt; stroke-linejoin:round; stroke-width:4; stroke-opacity:1; fill:none\" points=\"\n",
       "  1997.05,1423.18 1997.05,1404.28 \n",
       "  \"/>\n",
       "<path clip-path=\"url(#clip290)\" d=\"M342.533 1469.17 Q339.2 1469.17 337.278 1470.95 Q335.38 1472.73 335.38 1475.86 Q335.38 1478.98 337.278 1480.77 Q339.2 1482.55 342.533 1482.55 Q345.866 1482.55 347.788 1480.77 Q349.709 1478.96 349.709 1475.86 Q349.709 1472.73 347.788 1470.95 Q345.889 1469.17 342.533 1469.17 M337.857 1467.18 Q334.848 1466.44 333.158 1464.38 Q331.491 1462.32 331.491 1459.35 Q331.491 1455.21 334.431 1452.8 Q337.394 1450.39 342.533 1450.39 Q347.695 1450.39 350.635 1452.8 Q353.575 1455.21 353.575 1459.35 Q353.575 1462.32 351.885 1464.38 Q350.218 1466.44 347.232 1467.18 Q350.612 1467.96 352.487 1470.26 Q354.385 1472.55 354.385 1475.86 Q354.385 1480.88 351.306 1483.57 Q348.25 1486.25 342.533 1486.25 Q336.815 1486.25 333.737 1483.57 Q330.681 1480.88 330.681 1475.86 Q330.681 1472.55 332.579 1470.26 Q334.477 1467.96 337.857 1467.18 M336.144 1459.79 Q336.144 1462.48 337.811 1463.98 Q339.501 1465.49 342.533 1465.49 Q345.542 1465.49 347.232 1463.98 Q348.945 1462.48 348.945 1459.79 Q348.945 1457.11 347.232 1455.6 Q345.542 1454.1 342.533 1454.1 Q339.501 1454.1 337.811 1455.6 Q336.144 1457.11 336.144 1459.79 Z\" fill=\"#000000\" fill-rule=\"evenodd\" fill-opacity=\"1\" /><path clip-path=\"url(#clip290)\" d=\"M362.695 1479.7 L367.579 1479.7 L367.579 1485.58 L362.695 1485.58 L362.695 1479.7 Z\" fill=\"#000000\" fill-rule=\"evenodd\" fill-opacity=\"1\" /><path clip-path=\"url(#clip290)\" d=\"M377.81 1451.02 L396.167 1451.02 L396.167 1454.96 L382.093 1454.96 L382.093 1463.43 Q383.111 1463.08 384.13 1462.92 Q385.148 1462.73 386.167 1462.73 Q391.954 1462.73 395.334 1465.9 Q398.713 1469.08 398.713 1474.49 Q398.713 1480.07 395.241 1483.17 Q391.769 1486.25 385.449 1486.25 Q383.273 1486.25 381.005 1485.88 Q378.76 1485.51 376.352 1484.77 L376.352 1480.07 Q378.435 1481.2 380.658 1481.76 Q382.88 1482.32 385.357 1482.32 Q389.361 1482.32 391.699 1480.21 Q394.037 1478.1 394.037 1474.49 Q394.037 1470.88 391.699 1468.77 Q389.361 1466.67 385.357 1466.67 Q383.482 1466.67 381.607 1467.08 Q379.755 1467.5 377.81 1468.38 L377.81 1451.02 Z\" fill=\"#000000\" fill-rule=\"evenodd\" fill-opacity=\"1\" /><path clip-path=\"url(#clip290)\" d=\"M417.926 1454.1 Q414.315 1454.1 412.486 1457.66 Q410.681 1461.2 410.681 1468.33 Q410.681 1475.44 412.486 1479.01 Q414.315 1482.55 417.926 1482.55 Q421.56 1482.55 423.366 1479.01 Q425.194 1475.44 425.194 1468.33 Q425.194 1461.2 423.366 1457.66 Q421.56 1454.1 417.926 1454.1 M417.926 1450.39 Q423.736 1450.39 426.792 1455 Q429.87 1459.58 429.87 1468.33 Q429.87 1477.06 426.792 1481.67 Q423.736 1486.25 417.926 1486.25 Q412.116 1486.25 409.037 1481.67 Q405.982 1477.06 405.982 1468.33 Q405.982 1459.58 409.037 1455 Q412.116 1450.39 417.926 1450.39 Z\" fill=\"#000000\" fill-rule=\"evenodd\" fill-opacity=\"1\" /><path clip-path=\"url(#clip290)\" d=\"M448.088 1454.1 Q444.477 1454.1 442.648 1457.66 Q440.843 1461.2 440.843 1468.33 Q440.843 1475.44 442.648 1479.01 Q444.477 1482.55 448.088 1482.55 Q451.722 1482.55 453.528 1479.01 Q455.356 1475.44 455.356 1468.33 Q455.356 1461.2 453.528 1457.66 Q451.722 1454.1 448.088 1454.1 M448.088 1450.39 Q453.898 1450.39 456.954 1455 Q460.032 1459.58 460.032 1468.33 Q460.032 1477.06 456.954 1481.67 Q453.898 1486.25 448.088 1486.25 Q442.278 1486.25 439.199 1481.67 Q436.144 1477.06 436.144 1468.33 Q436.144 1459.58 439.199 1455 Q442.278 1450.39 448.088 1450.39 Z\" fill=\"#000000\" fill-rule=\"evenodd\" fill-opacity=\"1\" /><path clip-path=\"url(#clip290)\" d=\"M743.454 1469.17 Q740.121 1469.17 738.199 1470.95 Q736.301 1472.73 736.301 1475.86 Q736.301 1478.98 738.199 1480.77 Q740.121 1482.55 743.454 1482.55 Q746.787 1482.55 748.709 1480.77 Q750.63 1478.96 750.63 1475.86 Q750.63 1472.73 748.709 1470.95 Q746.811 1469.17 743.454 1469.17 M738.778 1467.18 Q735.769 1466.44 734.079 1464.38 Q732.412 1462.32 732.412 1459.35 Q732.412 1455.21 735.352 1452.8 Q738.315 1450.39 743.454 1450.39 Q748.616 1450.39 751.556 1452.8 Q754.496 1455.21 754.496 1459.35 Q754.496 1462.32 752.806 1464.38 Q751.139 1466.44 748.153 1467.18 Q751.533 1467.96 753.408 1470.26 Q755.306 1472.55 755.306 1475.86 Q755.306 1480.88 752.227 1483.57 Q749.172 1486.25 743.454 1486.25 Q737.737 1486.25 734.658 1483.57 Q731.602 1480.88 731.602 1475.86 Q731.602 1472.55 733.5 1470.26 Q735.399 1467.96 738.778 1467.18 M737.065 1459.79 Q737.065 1462.48 738.732 1463.98 Q740.422 1465.49 743.454 1465.49 Q746.463 1465.49 748.153 1463.98 Q749.866 1462.48 749.866 1459.79 Q749.866 1457.11 748.153 1455.6 Q746.463 1454.1 743.454 1454.1 Q740.422 1454.1 738.732 1455.6 Q737.065 1457.11 737.065 1459.79 Z\" fill=\"#000000\" fill-rule=\"evenodd\" fill-opacity=\"1\" /><path clip-path=\"url(#clip290)\" d=\"M763.616 1479.7 L768.5 1479.7 L768.5 1485.58 L763.616 1485.58 L763.616 1479.7 Z\" fill=\"#000000\" fill-rule=\"evenodd\" fill-opacity=\"1\" /><path clip-path=\"url(#clip290)\" d=\"M778.732 1451.02 L797.088 1451.02 L797.088 1454.96 L783.014 1454.96 L783.014 1463.43 Q784.033 1463.08 785.051 1462.92 Q786.07 1462.73 787.088 1462.73 Q792.875 1462.73 796.255 1465.9 Q799.634 1469.08 799.634 1474.49 Q799.634 1480.07 796.162 1483.17 Q792.69 1486.25 786.371 1486.25 Q784.195 1486.25 781.926 1485.88 Q779.681 1485.51 777.273 1484.77 L777.273 1480.07 Q779.357 1481.2 781.579 1481.76 Q783.801 1482.32 786.278 1482.32 Q790.283 1482.32 792.621 1480.21 Q794.958 1478.1 794.958 1474.49 Q794.958 1470.88 792.621 1468.77 Q790.283 1466.67 786.278 1466.67 Q784.403 1466.67 782.528 1467.08 Q780.676 1467.5 778.732 1468.38 L778.732 1451.02 Z\" fill=\"#000000\" fill-rule=\"evenodd\" fill-opacity=\"1\" /><path clip-path=\"url(#clip290)\" d=\"M812.875 1481.64 L829.194 1481.64 L829.194 1485.58 L807.25 1485.58 L807.25 1481.64 Q809.912 1478.89 814.495 1474.26 Q819.102 1469.61 820.282 1468.27 Q822.528 1465.74 823.407 1464.01 Q824.31 1462.25 824.31 1460.56 Q824.31 1457.8 822.366 1456.07 Q820.444 1454.33 817.343 1454.33 Q815.144 1454.33 812.69 1455.09 Q810.259 1455.86 807.482 1457.41 L807.482 1452.69 Q810.306 1451.55 812.759 1450.97 Q815.213 1450.39 817.25 1450.39 Q822.62 1450.39 825.815 1453.08 Q829.009 1455.77 829.009 1460.26 Q829.009 1462.39 828.199 1464.31 Q827.412 1466.2 825.306 1468.8 Q824.727 1469.47 821.625 1472.69 Q818.523 1475.88 812.875 1481.64 Z\" fill=\"#000000\" fill-rule=\"evenodd\" fill-opacity=\"1\" /><path clip-path=\"url(#clip290)\" d=\"M839.055 1451.02 L857.412 1451.02 L857.412 1454.96 L843.338 1454.96 L843.338 1463.43 Q844.356 1463.08 845.375 1462.92 Q846.393 1462.73 847.412 1462.73 Q853.199 1462.73 856.578 1465.9 Q859.958 1469.08 859.958 1474.49 Q859.958 1480.07 856.486 1483.17 Q853.014 1486.25 846.694 1486.25 Q844.518 1486.25 842.25 1485.88 Q840.005 1485.51 837.597 1484.77 L837.597 1480.07 Q839.68 1481.2 841.903 1481.76 Q844.125 1482.32 846.602 1482.32 Q850.606 1482.32 852.944 1480.21 Q855.282 1478.1 855.282 1474.49 Q855.282 1470.88 852.944 1468.77 Q850.606 1466.67 846.602 1466.67 Q844.727 1466.67 842.852 1467.08 Q841 1467.5 839.055 1468.38 L839.055 1451.02 Z\" fill=\"#000000\" fill-rule=\"evenodd\" fill-opacity=\"1\" /><path clip-path=\"url(#clip290)\" d=\"M1143.38 1469.17 Q1140.05 1469.17 1138.13 1470.95 Q1136.23 1472.73 1136.23 1475.86 Q1136.23 1478.98 1138.13 1480.77 Q1140.05 1482.55 1143.38 1482.55 Q1146.71 1482.55 1148.63 1480.77 Q1150.56 1478.96 1150.56 1475.86 Q1150.56 1472.73 1148.63 1470.95 Q1146.74 1469.17 1143.38 1469.17 M1138.7 1467.18 Q1135.69 1466.44 1134 1464.38 Q1132.34 1462.32 1132.34 1459.35 Q1132.34 1455.21 1135.28 1452.8 Q1138.24 1450.39 1143.38 1450.39 Q1148.54 1450.39 1151.48 1452.8 Q1154.42 1455.21 1154.42 1459.35 Q1154.42 1462.32 1152.73 1464.38 Q1151.07 1466.44 1148.08 1467.18 Q1151.46 1467.96 1153.33 1470.26 Q1155.23 1472.55 1155.23 1475.86 Q1155.23 1480.88 1152.15 1483.57 Q1149.1 1486.25 1143.38 1486.25 Q1137.66 1486.25 1134.58 1483.57 Q1131.53 1480.88 1131.53 1475.86 Q1131.53 1472.55 1133.43 1470.26 Q1135.32 1467.96 1138.7 1467.18 M1136.99 1459.79 Q1136.99 1462.48 1138.66 1463.98 Q1140.35 1465.49 1143.38 1465.49 Q1146.39 1465.49 1148.08 1463.98 Q1149.79 1462.48 1149.79 1459.79 Q1149.79 1457.11 1148.08 1455.6 Q1146.39 1454.1 1143.38 1454.1 Q1140.35 1454.1 1138.66 1455.6 Q1136.99 1457.11 1136.99 1459.79 Z\" fill=\"#000000\" fill-rule=\"evenodd\" fill-opacity=\"1\" /><path clip-path=\"url(#clip290)\" d=\"M1163.54 1479.7 L1168.43 1479.7 L1168.43 1485.58 L1163.54 1485.58 L1163.54 1479.7 Z\" fill=\"#000000\" fill-rule=\"evenodd\" fill-opacity=\"1\" /><path clip-path=\"url(#clip290)\" d=\"M1178.66 1451.02 L1197.01 1451.02 L1197.01 1454.96 L1182.94 1454.96 L1182.94 1463.43 Q1183.96 1463.08 1184.98 1462.92 Q1186 1462.73 1187.01 1462.73 Q1192.8 1462.73 1196.18 1465.9 Q1199.56 1469.08 1199.56 1474.49 Q1199.56 1480.07 1196.09 1483.17 Q1192.62 1486.25 1186.3 1486.25 Q1184.12 1486.25 1181.85 1485.88 Q1179.61 1485.51 1177.2 1484.77 L1177.2 1480.07 Q1179.28 1481.2 1181.5 1481.76 Q1183.73 1482.32 1186.2 1482.32 Q1190.21 1482.32 1192.55 1480.21 Q1194.88 1478.1 1194.88 1474.49 Q1194.88 1470.88 1192.55 1468.77 Q1190.21 1466.67 1186.2 1466.67 Q1184.33 1466.67 1182.45 1467.08 Q1180.6 1467.5 1178.66 1468.38 L1178.66 1451.02 Z\" fill=\"#000000\" fill-rule=\"evenodd\" fill-opacity=\"1\" /><path clip-path=\"url(#clip290)\" d=\"M1208.82 1451.02 L1227.18 1451.02 L1227.18 1454.96 L1213.1 1454.96 L1213.1 1463.43 Q1214.12 1463.08 1215.14 1462.92 Q1216.16 1462.73 1217.18 1462.73 Q1222.96 1462.73 1226.34 1465.9 Q1229.72 1469.08 1229.72 1474.49 Q1229.72 1480.07 1226.25 1483.17 Q1222.78 1486.25 1216.46 1486.25 Q1214.28 1486.25 1212.01 1485.88 Q1209.77 1485.51 1207.36 1484.77 L1207.36 1480.07 Q1209.44 1481.2 1211.67 1481.76 Q1213.89 1482.32 1216.37 1482.32 Q1220.37 1482.32 1222.71 1480.21 Q1225.05 1478.1 1225.05 1474.49 Q1225.05 1470.88 1222.71 1468.77 Q1220.37 1466.67 1216.37 1466.67 Q1214.49 1466.67 1212.62 1467.08 Q1210.76 1467.5 1208.82 1468.38 L1208.82 1451.02 Z\" fill=\"#000000\" fill-rule=\"evenodd\" fill-opacity=\"1\" /><path clip-path=\"url(#clip290)\" d=\"M1248.93 1454.1 Q1245.32 1454.1 1243.5 1457.66 Q1241.69 1461.2 1241.69 1468.33 Q1241.69 1475.44 1243.5 1479.01 Q1245.32 1482.55 1248.93 1482.55 Q1252.57 1482.55 1254.37 1479.01 Q1256.2 1475.44 1256.2 1468.33 Q1256.2 1461.2 1254.37 1457.66 Q1252.57 1454.1 1248.93 1454.1 M1248.93 1450.39 Q1254.75 1450.39 1257.8 1455 Q1260.88 1459.58 1260.88 1468.33 Q1260.88 1477.06 1257.8 1481.67 Q1254.75 1486.25 1248.93 1486.25 Q1243.12 1486.25 1240.05 1481.67 Q1236.99 1477.06 1236.99 1468.33 Q1236.99 1459.58 1240.05 1455 Q1243.12 1450.39 1248.93 1450.39 Z\" fill=\"#000000\" fill-rule=\"evenodd\" fill-opacity=\"1\" /><path clip-path=\"url(#clip290)\" d=\"M1544.3 1469.17 Q1540.97 1469.17 1539.05 1470.95 Q1537.15 1472.73 1537.15 1475.86 Q1537.15 1478.98 1539.05 1480.77 Q1540.97 1482.55 1544.3 1482.55 Q1547.63 1482.55 1549.56 1480.77 Q1551.48 1478.96 1551.48 1475.86 Q1551.48 1472.73 1549.56 1470.95 Q1547.66 1469.17 1544.3 1469.17 M1539.63 1467.18 Q1536.62 1466.44 1534.93 1464.38 Q1533.26 1462.32 1533.26 1459.35 Q1533.26 1455.21 1536.2 1452.8 Q1539.16 1450.39 1544.3 1450.39 Q1549.46 1450.39 1552.4 1452.8 Q1555.34 1455.21 1555.34 1459.35 Q1555.34 1462.32 1553.65 1464.38 Q1551.99 1466.44 1549 1467.18 Q1552.38 1467.96 1554.25 1470.26 Q1556.15 1472.55 1556.15 1475.86 Q1556.15 1480.88 1553.07 1483.57 Q1550.02 1486.25 1544.3 1486.25 Q1538.58 1486.25 1535.5 1483.57 Q1532.45 1480.88 1532.45 1475.86 Q1532.45 1472.55 1534.35 1470.26 Q1536.25 1467.96 1539.63 1467.18 M1537.91 1459.79 Q1537.91 1462.48 1539.58 1463.98 Q1541.27 1465.49 1544.3 1465.49 Q1547.31 1465.49 1549 1463.98 Q1550.71 1462.48 1550.71 1459.79 Q1550.71 1457.11 1549 1455.6 Q1547.31 1454.1 1544.3 1454.1 Q1541.27 1454.1 1539.58 1455.6 Q1537.91 1457.11 1537.91 1459.79 Z\" fill=\"#000000\" fill-rule=\"evenodd\" fill-opacity=\"1\" /><path clip-path=\"url(#clip290)\" d=\"M1564.46 1479.7 L1569.35 1479.7 L1569.35 1485.58 L1564.46 1485.58 L1564.46 1479.7 Z\" fill=\"#000000\" fill-rule=\"evenodd\" fill-opacity=\"1\" /><path clip-path=\"url(#clip290)\" d=\"M1579.58 1451.02 L1597.94 1451.02 L1597.94 1454.96 L1583.86 1454.96 L1583.86 1463.43 Q1584.88 1463.08 1585.9 1462.92 Q1586.92 1462.73 1587.94 1462.73 Q1593.72 1462.73 1597.1 1465.9 Q1600.48 1469.08 1600.48 1474.49 Q1600.48 1480.07 1597.01 1483.17 Q1593.54 1486.25 1587.22 1486.25 Q1585.04 1486.25 1582.77 1485.88 Q1580.53 1485.51 1578.12 1484.77 L1578.12 1480.07 Q1580.2 1481.2 1582.43 1481.76 Q1584.65 1482.32 1587.12 1482.32 Q1591.13 1482.32 1593.47 1480.21 Q1595.81 1478.1 1595.81 1474.49 Q1595.81 1470.88 1593.47 1468.77 Q1591.13 1466.67 1587.12 1466.67 Q1585.25 1466.67 1583.37 1467.08 Q1581.52 1467.5 1579.58 1468.38 L1579.58 1451.02 Z\" fill=\"#000000\" fill-rule=\"evenodd\" fill-opacity=\"1\" /><path clip-path=\"url(#clip290)\" d=\"M1608.51 1451.02 L1630.74 1451.02 L1630.74 1453.01 L1618.19 1485.58 L1613.31 1485.58 L1625.11 1454.96 L1608.51 1454.96 L1608.51 1451.02 Z\" fill=\"#000000\" fill-rule=\"evenodd\" fill-opacity=\"1\" /><path clip-path=\"url(#clip290)\" d=\"M1639.9 1451.02 L1658.26 1451.02 L1658.26 1454.96 L1644.18 1454.96 L1644.18 1463.43 Q1645.2 1463.08 1646.22 1462.92 Q1647.24 1462.73 1648.26 1462.73 Q1654.05 1462.73 1657.43 1465.9 Q1660.81 1469.08 1660.81 1474.49 Q1660.81 1480.07 1657.33 1483.17 Q1653.86 1486.25 1647.54 1486.25 Q1645.37 1486.25 1643.1 1485.88 Q1640.85 1485.51 1638.44 1484.77 L1638.44 1480.07 Q1640.53 1481.2 1642.75 1481.76 Q1644.97 1482.32 1647.45 1482.32 Q1651.45 1482.32 1653.79 1480.21 Q1656.13 1478.1 1656.13 1474.49 Q1656.13 1470.88 1653.79 1468.77 Q1651.45 1466.67 1647.45 1466.67 Q1645.57 1466.67 1643.7 1467.08 Q1641.85 1467.5 1639.9 1468.38 L1639.9 1451.02 Z\" fill=\"#000000\" fill-rule=\"evenodd\" fill-opacity=\"1\" /><path clip-path=\"url(#clip290)\" d=\"M1944.23 1469.17 Q1940.89 1469.17 1938.97 1470.95 Q1937.07 1472.73 1937.07 1475.86 Q1937.07 1478.98 1938.97 1480.77 Q1940.89 1482.55 1944.23 1482.55 Q1947.56 1482.55 1949.48 1480.77 Q1951.4 1478.96 1951.4 1475.86 Q1951.4 1472.73 1949.48 1470.95 Q1947.58 1469.17 1944.23 1469.17 M1939.55 1467.18 Q1936.54 1466.44 1934.85 1464.38 Q1933.19 1462.32 1933.19 1459.35 Q1933.19 1455.21 1936.13 1452.8 Q1939.09 1450.39 1944.23 1450.39 Q1949.39 1450.39 1952.33 1452.8 Q1955.27 1455.21 1955.27 1459.35 Q1955.27 1462.32 1953.58 1464.38 Q1951.91 1466.44 1948.93 1467.18 Q1952.31 1467.96 1954.18 1470.26 Q1956.08 1472.55 1956.08 1475.86 Q1956.08 1480.88 1953 1483.57 Q1949.94 1486.25 1944.23 1486.25 Q1938.51 1486.25 1935.43 1483.57 Q1932.38 1480.88 1932.38 1475.86 Q1932.38 1472.55 1934.27 1470.26 Q1936.17 1467.96 1939.55 1467.18 M1937.84 1459.79 Q1937.84 1462.48 1939.5 1463.98 Q1941.19 1465.49 1944.23 1465.49 Q1947.24 1465.49 1948.93 1463.98 Q1950.64 1462.48 1950.64 1459.79 Q1950.64 1457.11 1948.93 1455.6 Q1947.24 1454.1 1944.23 1454.1 Q1941.19 1454.1 1939.5 1455.6 Q1937.84 1457.11 1937.84 1459.79 Z\" fill=\"#000000\" fill-rule=\"evenodd\" fill-opacity=\"1\" /><path clip-path=\"url(#clip290)\" d=\"M1964.39 1479.7 L1969.27 1479.7 L1969.27 1485.58 L1964.39 1485.58 L1964.39 1479.7 Z\" fill=\"#000000\" fill-rule=\"evenodd\" fill-opacity=\"1\" /><path clip-path=\"url(#clip290)\" d=\"M1990.04 1466.44 Q1986.89 1466.44 1985.04 1468.59 Q1983.21 1470.74 1983.21 1474.49 Q1983.21 1478.22 1985.04 1480.39 Q1986.89 1482.55 1990.04 1482.55 Q1993.19 1482.55 1995.01 1480.39 Q1996.87 1478.22 1996.87 1474.49 Q1996.87 1470.74 1995.01 1468.59 Q1993.19 1466.44 1990.04 1466.44 M1999.32 1451.78 L1999.32 1456.04 Q1997.56 1455.21 1995.75 1454.77 Q1993.97 1454.33 1992.21 1454.33 Q1987.58 1454.33 1985.13 1457.45 Q1982.7 1460.58 1982.35 1466.9 Q1983.72 1464.89 1985.78 1463.82 Q1987.84 1462.73 1990.31 1462.73 Q1995.52 1462.73 1998.53 1465.9 Q2001.56 1469.05 2001.56 1474.49 Q2001.56 1479.82 1998.42 1483.03 Q1995.27 1486.25 1990.04 1486.25 Q1984.04 1486.25 1980.87 1481.67 Q1977.7 1477.06 1977.7 1468.33 Q1977.7 1460.14 1981.59 1455.28 Q1985.48 1450.39 1992.03 1450.39 Q1993.79 1450.39 1995.57 1450.74 Q1997.37 1451.09 1999.32 1451.78 Z\" fill=\"#000000\" fill-rule=\"evenodd\" fill-opacity=\"1\" /><path clip-path=\"url(#clip290)\" d=\"M2019.62 1454.1 Q2016.01 1454.1 2014.18 1457.66 Q2012.37 1461.2 2012.37 1468.33 Q2012.37 1475.44 2014.18 1479.01 Q2016.01 1482.55 2019.62 1482.55 Q2023.25 1482.55 2025.06 1479.01 Q2026.89 1475.44 2026.89 1468.33 Q2026.89 1461.2 2025.06 1457.66 Q2023.25 1454.1 2019.62 1454.1 M2019.62 1450.39 Q2025.43 1450.39 2028.49 1455 Q2031.56 1459.58 2031.56 1468.33 Q2031.56 1477.06 2028.49 1481.67 Q2025.43 1486.25 2019.62 1486.25 Q2013.81 1486.25 2010.73 1481.67 Q2007.68 1477.06 2007.68 1468.33 Q2007.68 1459.58 2010.73 1455 Q2013.81 1450.39 2019.62 1450.39 Z\" fill=\"#000000\" fill-rule=\"evenodd\" fill-opacity=\"1\" /><path clip-path=\"url(#clip290)\" d=\"M2049.78 1454.1 Q2046.17 1454.1 2044.34 1457.66 Q2042.54 1461.2 2042.54 1468.33 Q2042.54 1475.44 2044.34 1479.01 Q2046.17 1482.55 2049.78 1482.55 Q2053.42 1482.55 2055.22 1479.01 Q2057.05 1475.44 2057.05 1468.33 Q2057.05 1461.2 2055.22 1457.66 Q2053.42 1454.1 2049.78 1454.1 M2049.78 1450.39 Q2055.59 1450.39 2058.65 1455 Q2061.73 1459.58 2061.73 1468.33 Q2061.73 1477.06 2058.65 1481.67 Q2055.59 1486.25 2049.78 1486.25 Q2043.97 1486.25 2040.89 1481.67 Q2037.84 1477.06 2037.84 1468.33 Q2037.84 1459.58 2040.89 1455 Q2043.97 1450.39 2049.78 1450.39 Z\" fill=\"#000000\" fill-rule=\"evenodd\" fill-opacity=\"1\" /><path clip-path=\"url(#clip290)\" d=\"M1109.54 1539.24 Q1111.74 1535.29 1114.79 1533.41 Q1117.85 1531.54 1121.99 1531.54 Q1127.56 1531.54 1130.58 1535.45 Q1133.61 1539.33 1133.61 1546.53 L1133.61 1568.04 L1127.72 1568.04 L1127.72 1546.72 Q1127.72 1541.59 1125.9 1539.11 Q1124.09 1536.63 1120.36 1536.63 Q1115.81 1536.63 1113.17 1539.65 Q1110.53 1542.68 1110.53 1547.9 L1110.53 1568.04 L1104.64 1568.04 L1104.64 1546.72 Q1104.64 1541.56 1102.83 1539.11 Q1101.01 1536.63 1097.23 1536.63 Q1092.74 1536.63 1090.1 1539.68 Q1087.45 1542.71 1087.45 1547.9 L1087.45 1568.04 L1081.57 1568.04 L1081.57 1532.4 L1087.45 1532.4 L1087.45 1537.93 Q1089.46 1534.66 1092.26 1533.1 Q1095.06 1531.54 1098.91 1531.54 Q1102.79 1531.54 1105.5 1533.51 Q1108.24 1535.48 1109.54 1539.24 Z\" fill=\"#000000\" fill-rule=\"evenodd\" fill-opacity=\"1\" /><path clip-path=\"url(#clip290)\" d=\"M1145.29 1532.4 L1151.14 1532.4 L1151.14 1568.04 L1145.29 1568.04 L1145.29 1532.4 M1145.29 1518.52 L1151.14 1518.52 L1151.14 1525.93 L1145.29 1525.93 L1145.29 1518.52 Z\" fill=\"#000000\" fill-rule=\"evenodd\" fill-opacity=\"1\" /><path clip-path=\"url(#clip290)\" d=\"M1163.4 1518.52 L1169.25 1518.52 L1169.25 1568.04 L1163.4 1568.04 L1163.4 1518.52 Z\" fill=\"#000000\" fill-rule=\"evenodd\" fill-opacity=\"1\" /><path clip-path=\"url(#clip290)\" d=\"M1181.51 1532.4 L1187.36 1532.4 L1187.36 1568.04 L1181.51 1568.04 L1181.51 1532.4 M1181.51 1518.52 L1187.36 1518.52 L1187.36 1525.93 L1181.51 1525.93 L1181.51 1518.52 Z\" fill=\"#000000\" fill-rule=\"evenodd\" fill-opacity=\"1\" /><path clip-path=\"url(#clip290)\" d=\"M1222.34 1533.45 L1222.34 1538.98 Q1219.86 1537.71 1217.19 1537.07 Q1214.51 1536.44 1211.65 1536.44 Q1207.29 1536.44 1205.09 1537.77 Q1202.93 1539.11 1202.93 1541.79 Q1202.93 1543.82 1204.49 1545 Q1206.05 1546.15 1210.76 1547.2 L1212.76 1547.64 Q1219 1548.98 1221.61 1551.43 Q1224.25 1553.85 1224.25 1558.21 Q1224.25 1563.17 1220.31 1566.07 Q1216.39 1568.97 1209.52 1568.97 Q1206.65 1568.97 1203.53 1568.39 Q1200.44 1567.85 1197.01 1566.74 L1197.01 1560.69 Q1200.25 1562.38 1203.4 1563.24 Q1206.56 1564.07 1209.64 1564.07 Q1213.78 1564.07 1216.01 1562.66 Q1218.24 1561.23 1218.24 1558.65 Q1218.24 1556.27 1216.61 1554.99 Q1215.02 1553.72 1209.58 1552.54 L1207.54 1552.07 Q1202.1 1550.92 1199.68 1548.56 Q1197.26 1546.18 1197.26 1542.04 Q1197.26 1537.01 1200.83 1534.27 Q1204.39 1531.54 1210.95 1531.54 Q1214.19 1531.54 1217.06 1532.01 Q1219.92 1532.49 1222.34 1533.45 Z\" fill=\"#000000\" fill-rule=\"evenodd\" fill-opacity=\"1\" /><path clip-path=\"url(#clip290)\" d=\"M1264.07 1548.76 L1264.07 1551.62 L1237.14 1551.62 Q1237.53 1557.67 1240.77 1560.85 Q1244.05 1564 1249.87 1564 Q1253.25 1564 1256.4 1563.17 Q1259.58 1562.35 1262.7 1560.69 L1262.7 1566.23 Q1259.55 1567.57 1256.24 1568.27 Q1252.93 1568.97 1249.52 1568.97 Q1240.99 1568.97 1236 1564 Q1231.03 1559.04 1231.03 1550.57 Q1231.03 1541.82 1235.74 1536.69 Q1240.49 1531.54 1248.51 1531.54 Q1255.7 1531.54 1259.87 1536.18 Q1264.07 1540.8 1264.07 1548.76 M1258.21 1547.04 Q1258.15 1542.23 1255.51 1539.37 Q1252.9 1536.5 1248.57 1536.5 Q1243.67 1536.5 1240.71 1539.27 Q1237.78 1542.04 1237.33 1547.07 L1258.21 1547.04 Z\" fill=\"#000000\" fill-rule=\"evenodd\" fill-opacity=\"1\" /><path clip-path=\"url(#clip290)\" d=\"M1297.14 1549.81 Q1297.14 1543.44 1294.5 1539.94 Q1291.89 1536.44 1287.15 1536.44 Q1282.44 1536.44 1279.79 1539.94 Q1277.18 1543.44 1277.18 1549.81 Q1277.18 1556.14 1279.79 1559.64 Q1282.44 1563.14 1287.15 1563.14 Q1291.89 1563.14 1294.5 1559.64 Q1297.14 1556.14 1297.14 1549.81 M1303 1563.62 Q1303 1572.72 1298.95 1577.15 Q1294.91 1581.6 1286.57 1581.6 Q1283.49 1581.6 1280.75 1581.13 Q1278.01 1580.68 1275.43 1579.72 L1275.43 1574.03 Q1278.01 1575.43 1280.53 1576.1 Q1283.04 1576.76 1285.65 1576.76 Q1291.41 1576.76 1294.28 1573.74 Q1297.14 1570.75 1297.14 1564.67 L1297.14 1561.77 Q1295.33 1564.92 1292.49 1566.48 Q1289.66 1568.04 1285.71 1568.04 Q1279.16 1568.04 1275.15 1563.05 Q1271.14 1558.05 1271.14 1549.81 Q1271.14 1541.53 1275.15 1536.53 Q1279.16 1531.54 1285.71 1531.54 Q1289.66 1531.54 1292.49 1533.1 Q1295.33 1534.66 1297.14 1537.81 L1297.14 1532.4 L1303 1532.4 L1303 1563.62 Z\" fill=\"#000000\" fill-rule=\"evenodd\" fill-opacity=\"1\" /><path clip-path=\"url(#clip290)\" d=\"M1314.45 1553.98 L1314.45 1532.4 L1320.31 1532.4 L1320.31 1553.75 Q1320.31 1558.81 1322.28 1561.36 Q1324.26 1563.87 1328.2 1563.87 Q1332.95 1563.87 1335.68 1560.85 Q1338.45 1557.83 1338.45 1552.61 L1338.45 1532.4 L1344.31 1532.4 L1344.31 1568.04 L1338.45 1568.04 L1338.45 1562.57 Q1336.32 1565.82 1333.49 1567.41 Q1330.69 1568.97 1326.96 1568.97 Q1320.82 1568.97 1317.64 1565.15 Q1314.45 1561.33 1314.45 1553.98 M1329.19 1531.54 L1329.19 1531.54 Z\" fill=\"#000000\" fill-rule=\"evenodd\" fill-opacity=\"1\" /><path clip-path=\"url(#clip290)\" d=\"M1386.01 1546.53 L1386.01 1568.04 L1380.15 1568.04 L1380.15 1546.72 Q1380.15 1541.66 1378.18 1539.14 Q1376.2 1536.63 1372.26 1536.63 Q1367.51 1536.63 1364.78 1539.65 Q1362.04 1542.68 1362.04 1547.9 L1362.04 1568.04 L1356.15 1568.04 L1356.15 1532.4 L1362.04 1532.4 L1362.04 1537.93 Q1364.14 1534.72 1366.97 1533.13 Q1369.84 1531.54 1373.56 1531.54 Q1379.7 1531.54 1382.85 1535.36 Q1386.01 1539.14 1386.01 1546.53 Z\" fill=\"#000000\" fill-rule=\"evenodd\" fill-opacity=\"1\" /><path clip-path=\"url(#clip290)\" d=\"M1421.14 1537.81 L1421.14 1518.52 L1427 1518.52 L1427 1568.04 L1421.14 1568.04 L1421.14 1562.7 Q1419.3 1565.88 1416.47 1567.44 Q1413.66 1568.97 1409.72 1568.97 Q1403.26 1568.97 1399.18 1563.81 Q1395.14 1558.65 1395.14 1550.25 Q1395.14 1541.85 1399.18 1536.69 Q1403.26 1531.54 1409.72 1531.54 Q1413.66 1531.54 1416.47 1533.1 Q1419.3 1534.62 1421.14 1537.81 M1401.19 1550.25 Q1401.19 1556.71 1403.83 1560.4 Q1406.5 1564.07 1411.15 1564.07 Q1415.8 1564.07 1418.47 1560.4 Q1421.14 1556.71 1421.14 1550.25 Q1421.14 1543.79 1418.47 1540.13 Q1415.8 1536.44 1411.15 1536.44 Q1406.5 1536.44 1403.83 1540.13 Q1401.19 1543.79 1401.19 1550.25 Z\" fill=\"#000000\" fill-rule=\"evenodd\" fill-opacity=\"1\" /><path clip-path=\"url(#clip290)\" d=\"M1452.88 1536.5 Q1448.17 1536.5 1445.43 1540.19 Q1442.69 1543.85 1442.69 1550.25 Q1442.69 1556.65 1445.4 1560.34 Q1448.13 1564 1452.88 1564 Q1457.56 1564 1460.29 1560.31 Q1463.03 1556.62 1463.03 1550.25 Q1463.03 1543.92 1460.29 1540.23 Q1457.56 1536.5 1452.88 1536.5 M1452.88 1531.54 Q1460.52 1531.54 1464.88 1536.5 Q1469.24 1541.47 1469.24 1550.25 Q1469.24 1559 1464.88 1564 Q1460.52 1568.97 1452.88 1568.97 Q1445.21 1568.97 1440.85 1564 Q1436.52 1559 1436.52 1550.25 Q1436.52 1541.47 1440.85 1536.5 Q1445.21 1531.54 1452.88 1531.54 Z\" fill=\"#000000\" fill-rule=\"evenodd\" fill-opacity=\"1\" /><path clip-path=\"url(#clip290)\" d=\"M1501.67 1533.45 L1501.67 1538.98 Q1499.19 1537.71 1496.51 1537.07 Q1493.84 1536.44 1490.98 1536.44 Q1486.62 1536.44 1484.42 1537.77 Q1482.25 1539.11 1482.25 1541.79 Q1482.25 1543.82 1483.81 1545 Q1485.37 1546.15 1490.08 1547.2 L1492.09 1547.64 Q1498.33 1548.98 1500.94 1551.43 Q1503.58 1553.85 1503.58 1558.21 Q1503.58 1563.17 1499.63 1566.07 Q1495.72 1568.97 1488.84 1568.97 Q1485.98 1568.97 1482.86 1568.39 Q1479.77 1567.85 1476.33 1566.74 L1476.33 1560.69 Q1479.58 1562.38 1482.73 1563.24 Q1485.88 1564.07 1488.97 1564.07 Q1493.11 1564.07 1495.34 1562.66 Q1497.56 1561.23 1497.56 1558.65 Q1497.56 1556.27 1495.94 1554.99 Q1494.35 1553.72 1488.91 1552.54 L1486.87 1552.07 Q1481.43 1550.92 1479.01 1548.56 Q1476.59 1546.18 1476.59 1542.04 Q1476.59 1537.01 1480.15 1534.27 Q1483.72 1531.54 1490.28 1531.54 Q1493.52 1531.54 1496.39 1532.01 Q1499.25 1532.49 1501.67 1533.45 Z\" fill=\"#000000\" fill-rule=\"evenodd\" fill-opacity=\"1\" /><polyline clip-path=\"url(#clip292)\" style=\"stroke:#000000; stroke-linecap:butt; stroke-linejoin:round; stroke-width:2; stroke-opacity:0.1; fill:none\" points=\"\n",
       "  232.389,1384.24 2352.76,1384.24 \n",
       "  \"/>\n",
       "<polyline clip-path=\"url(#clip292)\" style=\"stroke:#000000; stroke-linecap:butt; stroke-linejoin:round; stroke-width:2; stroke-opacity:0.1; fill:none\" points=\"\n",
       "  232.389,1187.56 2352.76,1187.56 \n",
       "  \"/>\n",
       "<polyline clip-path=\"url(#clip292)\" style=\"stroke:#000000; stroke-linecap:butt; stroke-linejoin:round; stroke-width:2; stroke-opacity:0.1; fill:none\" points=\"\n",
       "  232.389,990.889 2352.76,990.889 \n",
       "  \"/>\n",
       "<polyline clip-path=\"url(#clip292)\" style=\"stroke:#000000; stroke-linecap:butt; stroke-linejoin:round; stroke-width:2; stroke-opacity:0.1; fill:none\" points=\"\n",
       "  232.389,794.214 2352.76,794.214 \n",
       "  \"/>\n",
       "<polyline clip-path=\"url(#clip292)\" style=\"stroke:#000000; stroke-linecap:butt; stroke-linejoin:round; stroke-width:2; stroke-opacity:0.1; fill:none\" points=\"\n",
       "  232.389,597.54 2352.76,597.54 \n",
       "  \"/>\n",
       "<polyline clip-path=\"url(#clip292)\" style=\"stroke:#000000; stroke-linecap:butt; stroke-linejoin:round; stroke-width:2; stroke-opacity:0.1; fill:none\" points=\"\n",
       "  232.389,400.865 2352.76,400.865 \n",
       "  \"/>\n",
       "<polyline clip-path=\"url(#clip292)\" style=\"stroke:#000000; stroke-linecap:butt; stroke-linejoin:round; stroke-width:2; stroke-opacity:0.1; fill:none\" points=\"\n",
       "  232.389,204.19 2352.76,204.19 \n",
       "  \"/>\n",
       "<polyline clip-path=\"url(#clip290)\" style=\"stroke:#000000; stroke-linecap:butt; stroke-linejoin:round; stroke-width:4; stroke-opacity:1; fill:none\" points=\"\n",
       "  232.389,1423.18 232.389,47.2441 \n",
       "  \"/>\n",
       "<polyline clip-path=\"url(#clip290)\" style=\"stroke:#000000; stroke-linecap:butt; stroke-linejoin:round; stroke-width:4; stroke-opacity:1; fill:none\" points=\"\n",
       "  232.389,1384.24 251.287,1384.24 \n",
       "  \"/>\n",
       "<polyline clip-path=\"url(#clip290)\" style=\"stroke:#000000; stroke-linecap:butt; stroke-linejoin:round; stroke-width:4; stroke-opacity:1; fill:none\" points=\"\n",
       "  232.389,1187.56 251.287,1187.56 \n",
       "  \"/>\n",
       "<polyline clip-path=\"url(#clip290)\" style=\"stroke:#000000; stroke-linecap:butt; stroke-linejoin:round; stroke-width:4; stroke-opacity:1; fill:none\" points=\"\n",
       "  232.389,990.889 251.287,990.889 \n",
       "  \"/>\n",
       "<polyline clip-path=\"url(#clip290)\" style=\"stroke:#000000; stroke-linecap:butt; stroke-linejoin:round; stroke-width:4; stroke-opacity:1; fill:none\" points=\"\n",
       "  232.389,794.214 251.287,794.214 \n",
       "  \"/>\n",
       "<polyline clip-path=\"url(#clip290)\" style=\"stroke:#000000; stroke-linecap:butt; stroke-linejoin:round; stroke-width:4; stroke-opacity:1; fill:none\" points=\"\n",
       "  232.389,597.54 251.287,597.54 \n",
       "  \"/>\n",
       "<polyline clip-path=\"url(#clip290)\" style=\"stroke:#000000; stroke-linecap:butt; stroke-linejoin:round; stroke-width:4; stroke-opacity:1; fill:none\" points=\"\n",
       "  232.389,400.865 251.287,400.865 \n",
       "  \"/>\n",
       "<polyline clip-path=\"url(#clip290)\" style=\"stroke:#000000; stroke-linecap:butt; stroke-linejoin:round; stroke-width:4; stroke-opacity:1; fill:none\" points=\"\n",
       "  232.389,204.19 251.287,204.19 \n",
       "  \"/>\n",
       "<path clip-path=\"url(#clip290)\" d=\"M184.445 1370.04 Q180.834 1370.04 179.005 1373.6 Q177.2 1377.14 177.2 1384.27 Q177.2 1391.38 179.005 1394.94 Q180.834 1398.49 184.445 1398.49 Q188.079 1398.49 189.885 1394.94 Q191.713 1391.38 191.713 1384.27 Q191.713 1377.14 189.885 1373.6 Q188.079 1370.04 184.445 1370.04 M184.445 1366.33 Q190.255 1366.33 193.311 1370.94 Q196.389 1375.52 196.389 1384.27 Q196.389 1393 193.311 1397.61 Q190.255 1402.19 184.445 1402.19 Q178.635 1402.19 175.556 1397.61 Q172.501 1393 172.501 1384.27 Q172.501 1375.52 175.556 1370.94 Q178.635 1366.33 184.445 1366.33 Z\" fill=\"#000000\" fill-rule=\"evenodd\" fill-opacity=\"1\" /><path clip-path=\"url(#clip290)\" d=\"M148.311 1200.91 L164.63 1200.91 L164.63 1204.84 L142.686 1204.84 L142.686 1200.91 Q145.348 1198.15 149.931 1193.52 Q154.538 1188.87 155.718 1187.53 Q157.964 1185.01 158.843 1183.27 Q159.746 1181.51 159.746 1179.82 Q159.746 1177.07 157.802 1175.33 Q155.88 1173.59 152.778 1173.59 Q150.579 1173.59 148.126 1174.36 Q145.695 1175.12 142.917 1176.67 L142.917 1171.95 Q145.741 1170.82 148.195 1170.24 Q150.649 1169.66 152.686 1169.66 Q158.056 1169.66 161.251 1172.34 Q164.445 1175.03 164.445 1179.52 Q164.445 1181.65 163.635 1183.57 Q162.848 1185.47 160.741 1188.06 Q160.163 1188.73 157.061 1191.95 Q153.959 1195.14 148.311 1200.91 Z\" fill=\"#000000\" fill-rule=\"evenodd\" fill-opacity=\"1\" /><path clip-path=\"url(#clip290)\" d=\"M184.445 1173.36 Q180.834 1173.36 179.005 1176.93 Q177.2 1180.47 177.2 1187.6 Q177.2 1194.7 179.005 1198.27 Q180.834 1201.81 184.445 1201.81 Q188.079 1201.81 189.885 1198.27 Q191.713 1194.7 191.713 1187.6 Q191.713 1180.47 189.885 1176.93 Q188.079 1173.36 184.445 1173.36 M184.445 1169.66 Q190.255 1169.66 193.311 1174.27 Q196.389 1178.85 196.389 1187.6 Q196.389 1196.33 193.311 1200.93 Q190.255 1205.51 184.445 1205.51 Q178.635 1205.51 175.556 1200.93 Q172.501 1196.33 172.501 1187.6 Q172.501 1178.85 175.556 1174.27 Q178.635 1169.66 184.445 1169.66 Z\" fill=\"#000000\" fill-rule=\"evenodd\" fill-opacity=\"1\" /><path clip-path=\"url(#clip290)\" d=\"M157.13 977.683 L145.325 996.132 L157.13 996.132 L157.13 977.683 M155.903 973.609 L161.783 973.609 L161.783 996.132 L166.714 996.132 L166.714 1000.02 L161.783 1000.02 L161.783 1008.17 L157.13 1008.17 L157.13 1000.02 L141.529 1000.02 L141.529 995.507 L155.903 973.609 Z\" fill=\"#000000\" fill-rule=\"evenodd\" fill-opacity=\"1\" /><path clip-path=\"url(#clip290)\" d=\"M184.445 976.688 Q180.834 976.688 179.005 980.252 Q177.2 983.794 177.2 990.924 Q177.2 998.03 179.005 1001.59 Q180.834 1005.14 184.445 1005.14 Q188.079 1005.14 189.885 1001.59 Q191.713 998.03 191.713 990.924 Q191.713 983.794 189.885 980.252 Q188.079 976.688 184.445 976.688 M184.445 972.984 Q190.255 972.984 193.311 977.59 Q196.389 982.174 196.389 990.924 Q196.389 999.651 193.311 1004.26 Q190.255 1008.84 184.445 1008.84 Q178.635 1008.84 175.556 1004.26 Q172.501 999.651 172.501 990.924 Q172.501 982.174 175.556 977.59 Q178.635 972.984 184.445 972.984 Z\" fill=\"#000000\" fill-rule=\"evenodd\" fill-opacity=\"1\" /><path clip-path=\"url(#clip290)\" d=\"M154.862 792.351 Q151.714 792.351 149.862 794.504 Q148.033 796.656 148.033 800.406 Q148.033 804.133 149.862 806.309 Q151.714 808.462 154.862 808.462 Q158.01 808.462 159.839 806.309 Q161.69 804.133 161.69 800.406 Q161.69 796.656 159.839 794.504 Q158.01 792.351 154.862 792.351 M164.144 777.698 L164.144 781.957 Q162.385 781.124 160.579 780.684 Q158.797 780.245 157.038 780.245 Q152.408 780.245 149.954 783.37 Q147.524 786.494 147.177 792.814 Q148.542 790.8 150.603 789.735 Q152.663 788.647 155.14 788.647 Q160.348 788.647 163.357 791.819 Q166.39 794.967 166.39 800.406 Q166.39 805.731 163.241 808.948 Q160.093 812.166 154.862 812.166 Q148.866 812.166 145.695 807.582 Q142.524 802.976 142.524 794.249 Q142.524 786.055 146.413 781.194 Q150.302 776.309 156.853 776.309 Q158.612 776.309 160.394 776.657 Q162.2 777.004 164.144 777.698 Z\" fill=\"#000000\" fill-rule=\"evenodd\" fill-opacity=\"1\" /><path clip-path=\"url(#clip290)\" d=\"M184.445 780.013 Q180.834 780.013 179.005 783.578 Q177.2 787.119 177.2 794.249 Q177.2 801.356 179.005 804.92 Q180.834 808.462 184.445 808.462 Q188.079 808.462 189.885 804.92 Q191.713 801.356 191.713 794.249 Q191.713 787.119 189.885 783.578 Q188.079 780.013 184.445 780.013 M184.445 776.309 Q190.255 776.309 193.311 780.916 Q196.389 785.499 196.389 794.249 Q196.389 802.976 193.311 807.582 Q190.255 812.166 184.445 812.166 Q178.635 812.166 175.556 807.582 Q172.501 802.976 172.501 794.249 Q172.501 785.499 175.556 780.916 Q178.635 776.309 184.445 776.309 Z\" fill=\"#000000\" fill-rule=\"evenodd\" fill-opacity=\"1\" /><path clip-path=\"url(#clip290)\" d=\"M154.283 598.408 Q150.95 598.408 149.028 600.19 Q147.13 601.973 147.13 605.098 Q147.13 608.223 149.028 610.005 Q150.95 611.787 154.283 611.787 Q157.616 611.787 159.538 610.005 Q161.459 608.199 161.459 605.098 Q161.459 601.973 159.538 600.19 Q157.64 598.408 154.283 598.408 M149.607 596.417 Q146.598 595.676 144.908 593.616 Q143.241 591.556 143.241 588.593 Q143.241 584.45 146.181 582.042 Q149.144 579.635 154.283 579.635 Q159.445 579.635 162.385 582.042 Q165.325 584.45 165.325 588.593 Q165.325 591.556 163.635 593.616 Q161.968 595.676 158.982 596.417 Q162.362 597.204 164.237 599.496 Q166.135 601.787 166.135 605.098 Q166.135 610.121 163.056 612.806 Q160.001 615.491 154.283 615.491 Q148.566 615.491 145.487 612.806 Q142.431 610.121 142.431 605.098 Q142.431 601.787 144.329 599.496 Q146.228 597.204 149.607 596.417 M147.894 589.033 Q147.894 591.718 149.561 593.223 Q151.251 594.727 154.283 594.727 Q157.292 594.727 158.982 593.223 Q160.695 591.718 160.695 589.033 Q160.695 586.348 158.982 584.843 Q157.292 583.338 154.283 583.338 Q151.251 583.338 149.561 584.843 Q147.894 586.348 147.894 589.033 Z\" fill=\"#000000\" fill-rule=\"evenodd\" fill-opacity=\"1\" /><path clip-path=\"url(#clip290)\" d=\"M184.445 583.338 Q180.834 583.338 179.005 586.903 Q177.2 590.445 177.2 597.574 Q177.2 604.681 179.005 608.246 Q180.834 611.787 184.445 611.787 Q188.079 611.787 189.885 608.246 Q191.713 604.681 191.713 597.574 Q191.713 590.445 189.885 586.903 Q188.079 583.338 184.445 583.338 M184.445 579.635 Q190.255 579.635 193.311 584.241 Q196.389 588.824 196.389 597.574 Q196.389 606.301 193.311 610.908 Q190.255 615.491 184.445 615.491 Q178.635 615.491 175.556 610.908 Q172.501 606.301 172.501 597.574 Q172.501 588.824 175.556 584.241 Q178.635 579.635 184.445 579.635 Z\" fill=\"#000000\" fill-rule=\"evenodd\" fill-opacity=\"1\" /><path clip-path=\"url(#clip290)\" d=\"M114.931 414.21 L122.57 414.21 L122.57 387.844 L114.26 389.511 L114.26 385.252 L122.524 383.585 L127.2 383.585 L127.2 414.21 L134.839 414.21 L134.839 418.145 L114.931 418.145 L114.931 414.21 Z\" fill=\"#000000\" fill-rule=\"evenodd\" fill-opacity=\"1\" /><path clip-path=\"url(#clip290)\" d=\"M154.283 386.664 Q150.672 386.664 148.843 390.229 Q147.038 393.77 147.038 400.9 Q147.038 408.006 148.843 411.571 Q150.672 415.113 154.283 415.113 Q157.917 415.113 159.723 411.571 Q161.552 408.006 161.552 400.9 Q161.552 393.77 159.723 390.229 Q157.917 386.664 154.283 386.664 M154.283 382.96 Q160.093 382.96 163.149 387.567 Q166.227 392.15 166.227 400.9 Q166.227 409.627 163.149 414.233 Q160.093 418.816 154.283 418.816 Q148.473 418.816 145.394 414.233 Q142.339 409.627 142.339 400.9 Q142.339 392.15 145.394 387.567 Q148.473 382.96 154.283 382.96 Z\" fill=\"#000000\" fill-rule=\"evenodd\" fill-opacity=\"1\" /><path clip-path=\"url(#clip290)\" d=\"M184.445 386.664 Q180.834 386.664 179.005 390.229 Q177.2 393.77 177.2 400.9 Q177.2 408.006 179.005 411.571 Q180.834 415.113 184.445 415.113 Q188.079 415.113 189.885 411.571 Q191.713 408.006 191.713 400.9 Q191.713 393.77 189.885 390.229 Q188.079 386.664 184.445 386.664 M184.445 382.96 Q190.255 382.96 193.311 387.567 Q196.389 392.15 196.389 400.9 Q196.389 409.627 193.311 414.233 Q190.255 418.816 184.445 418.816 Q178.635 418.816 175.556 414.233 Q172.501 409.627 172.501 400.9 Q172.501 392.15 175.556 387.567 Q178.635 382.96 184.445 382.96 Z\" fill=\"#000000\" fill-rule=\"evenodd\" fill-opacity=\"1\" /><path clip-path=\"url(#clip290)\" d=\"M114.931 217.535 L122.57 217.535 L122.57 191.17 L114.26 192.836 L114.26 188.577 L122.524 186.91 L127.2 186.91 L127.2 217.535 L134.839 217.535 L134.839 221.47 L114.931 221.47 L114.931 217.535 Z\" fill=\"#000000\" fill-rule=\"evenodd\" fill-opacity=\"1\" /><path clip-path=\"url(#clip290)\" d=\"M148.311 217.535 L164.63 217.535 L164.63 221.47 L142.686 221.47 L142.686 217.535 Q145.348 214.781 149.931 210.151 Q154.538 205.498 155.718 204.156 Q157.964 201.633 158.843 199.896 Q159.746 198.137 159.746 196.447 Q159.746 193.693 157.802 191.957 Q155.88 190.221 152.778 190.221 Q150.579 190.221 148.126 190.985 Q145.695 191.748 142.917 193.299 L142.917 188.577 Q145.741 187.443 148.195 186.864 Q150.649 186.285 152.686 186.285 Q158.056 186.285 161.251 188.971 Q164.445 191.656 164.445 196.147 Q164.445 198.276 163.635 200.197 Q162.848 202.096 160.741 204.688 Q160.163 205.359 157.061 208.577 Q153.959 211.771 148.311 217.535 Z\" fill=\"#000000\" fill-rule=\"evenodd\" fill-opacity=\"1\" /><path clip-path=\"url(#clip290)\" d=\"M184.445 189.989 Q180.834 189.989 179.005 193.554 Q177.2 197.096 177.2 204.225 Q177.2 211.332 179.005 214.896 Q180.834 218.438 184.445 218.438 Q188.079 218.438 189.885 214.896 Q191.713 211.332 191.713 204.225 Q191.713 197.096 189.885 193.554 Q188.079 189.989 184.445 189.989 M184.445 186.285 Q190.255 186.285 193.311 190.892 Q196.389 195.475 196.389 204.225 Q196.389 212.952 193.311 217.558 Q190.255 222.142 184.445 222.142 Q178.635 222.142 175.556 217.558 Q172.501 212.952 172.501 204.225 Q172.501 195.475 175.556 190.892 Q178.635 186.285 184.445 186.285 Z\" fill=\"#000000\" fill-rule=\"evenodd\" fill-opacity=\"1\" /><path clip-path=\"url(#clip290)\" d=\"M16.4842 907.166 L16.4842 879.857 L21.895 879.857 L21.895 900.736 L35.8996 900.736 L35.8996 881.894 L41.3104 881.894 L41.3104 900.736 L64.0042 900.736 L64.0042 907.166 L16.4842 907.166 Z\" fill=\"#000000\" fill-rule=\"evenodd\" fill-opacity=\"1\" /><path clip-path=\"url(#clip290)\" d=\"M33.8307 854.012 Q33.2578 854.999 33.0032 856.176 Q32.7167 857.322 32.7167 858.723 Q32.7167 863.688 35.9632 866.361 Q39.1779 869.003 45.2253 869.003 L64.0042 869.003 L64.0042 874.891 L28.3562 874.891 L28.3562 869.003 L33.8944 869.003 Q30.6479 867.157 29.0883 864.197 Q27.4968 861.237 27.4968 857.004 Q27.4968 856.399 27.5923 855.667 Q27.656 854.935 27.8151 854.044 L33.8307 854.012 Z\" fill=\"#000000\" fill-rule=\"evenodd\" fill-opacity=\"1\" /><path clip-path=\"url(#clip290)\" d=\"M44.7161 818.81 L47.5806 818.81 L47.5806 845.737 Q53.6281 845.355 56.8109 842.108 Q59.9619 838.83 59.9619 833.005 Q59.9619 829.631 59.1344 826.48 Q58.3069 823.297 56.6518 820.178 L62.1899 820.178 Q63.5267 823.329 64.227 826.639 Q64.9272 829.95 64.9272 833.355 Q64.9272 841.885 59.9619 846.882 Q54.9967 851.848 46.5303 851.848 Q37.7774 851.848 32.6531 847.137 Q27.4968 842.395 27.4968 834.374 Q27.4968 827.181 32.1438 823.011 Q36.7589 818.81 44.7161 818.81 M42.9973 824.666 Q38.1912 824.73 35.3266 827.371 Q32.4621 829.981 32.4621 834.31 Q32.4621 839.212 35.2312 842.172 Q38.0002 845.1 43.0292 845.546 L42.9973 824.666 Z\" fill=\"#000000\" fill-rule=\"evenodd\" fill-opacity=\"1\" /><path clip-path=\"url(#clip290)\" d=\"M46.212 805.696 Q52.6732 805.696 56.3653 803.054 Q60.0256 800.381 60.0256 795.734 Q60.0256 791.087 56.3653 788.413 Q52.6732 785.74 46.212 785.74 Q39.7508 785.74 36.0905 788.413 Q32.3984 791.087 32.3984 795.734 Q32.3984 800.381 36.0905 803.054 Q39.7508 805.696 46.212 805.696 M58.657 785.74 Q61.8398 787.586 63.3994 790.419 Q64.9272 793.219 64.9272 797.166 Q64.9272 803.627 59.771 807.701 Q54.6147 811.744 46.212 811.744 Q37.8093 811.744 32.6531 807.701 Q27.4968 803.627 27.4968 797.166 Q27.4968 793.219 29.0564 790.419 Q30.5842 787.586 33.7671 785.74 L28.3562 785.74 L28.3562 779.883 L77.5631 779.883 L77.5631 785.74 L58.657 785.74 Z\" fill=\"#000000\" fill-rule=\"evenodd\" fill-opacity=\"1\" /><path clip-path=\"url(#clip290)\" d=\"M49.9359 768.425 L28.3562 768.425 L28.3562 762.569 L49.7131 762.569 Q54.7739 762.569 57.3202 760.595 Q59.8346 758.622 59.8346 754.675 Q59.8346 749.933 56.8109 747.195 Q53.7872 744.426 48.5673 744.426 L28.3562 744.426 L28.3562 738.57 L64.0042 738.57 L64.0042 744.426 L58.5296 744.426 Q61.7762 746.559 63.3676 749.392 Q64.9272 752.192 64.9272 755.916 Q64.9272 762.059 61.1078 765.242 Q57.2883 768.425 49.9359 768.425 M27.4968 753.688 L27.4968 753.688 Z\" fill=\"#000000\" fill-rule=\"evenodd\" fill-opacity=\"1\" /><path clip-path=\"url(#clip290)\" d=\"M44.7161 696.015 L47.5806 696.015 L47.5806 722.942 Q53.6281 722.56 56.8109 719.314 Q59.9619 716.035 59.9619 710.211 Q59.9619 706.837 59.1344 703.686 Q58.3069 700.503 56.6518 697.384 L62.1899 697.384 Q63.5267 700.535 64.227 703.845 Q64.9272 707.155 64.9272 710.561 Q64.9272 719.091 59.9619 724.088 Q54.9967 729.053 46.5303 729.053 Q37.7774 729.053 32.6531 724.343 Q27.4968 719.6 27.4968 711.579 Q27.4968 704.386 32.1438 700.216 Q36.7589 696.015 44.7161 696.015 M42.9973 701.872 Q38.1912 701.935 35.3266 704.577 Q32.4621 707.187 32.4621 711.516 Q32.4621 716.417 35.2312 719.377 Q38.0002 722.305 43.0292 722.751 L42.9973 701.872 M11.869 714.285 L11.869 709.574 L23.8365 701.776 L23.8365 706.2 L16.0386 711.929 L23.8365 717.659 L23.8365 722.083 L11.869 714.285 Z\" fill=\"#000000\" fill-rule=\"evenodd\" fill-opacity=\"1\" /><path clip-path=\"url(#clip290)\" d=\"M42.4881 656.771 L64.0042 656.771 L64.0042 662.627 L42.679 662.627 Q37.6183 662.627 35.1038 664.6 Q32.5894 666.574 32.5894 670.52 Q32.5894 675.263 35.6131 678 Q38.6368 680.737 43.8567 680.737 L64.0042 680.737 L64.0042 686.626 L28.3562 686.626 L28.3562 680.737 L33.8944 680.737 Q30.6797 678.637 29.0883 675.804 Q27.4968 672.939 27.4968 669.216 Q27.4968 663.073 31.3163 659.922 Q35.1038 656.771 42.4881 656.771 Z\" fill=\"#000000\" fill-rule=\"evenodd\" fill-opacity=\"1\" /><path clip-path=\"url(#clip290)\" d=\"M29.7248 619.436 L35.1993 619.436 Q33.8307 621.918 33.1623 624.433 Q32.4621 626.915 32.4621 629.462 Q32.4621 635.159 36.0905 638.31 Q39.6872 641.461 46.212 641.461 Q52.7369 641.461 56.3653 638.31 Q59.9619 635.159 59.9619 629.462 Q59.9619 626.915 59.2935 624.433 Q58.5933 621.918 57.2247 619.436 L62.6355 619.436 Q63.7814 621.886 64.3543 624.528 Q64.9272 627.138 64.9272 630.098 Q64.9272 638.151 59.8664 642.893 Q54.8057 647.636 46.212 647.636 Q37.491 647.636 32.4939 642.861 Q27.4968 638.055 27.4968 629.716 Q27.4968 627.011 28.0697 624.433 Q28.6108 621.855 29.7248 619.436 Z\" fill=\"#000000\" fill-rule=\"evenodd\" fill-opacity=\"1\" /><path clip-path=\"url(#clip290)\" d=\"M28.3562 609.251 L28.3562 603.394 L64.0042 603.394 L64.0042 609.251 L28.3562 609.251 M14.479 609.251 L14.479 603.394 L21.895 603.394 L21.895 609.251 L14.479 609.251 Z\" fill=\"#000000\" fill-rule=\"evenodd\" fill-opacity=\"1\" /><path clip-path=\"url(#clip290)\" d=\"M46.0847 574.939 Q46.0847 582.037 47.7079 584.774 Q49.3312 587.512 53.2461 587.512 Q56.3653 587.512 58.2114 585.475 Q60.0256 583.406 60.0256 579.873 Q60.0256 575.003 56.5881 572.075 Q53.1188 569.115 47.3897 569.115 L46.0847 569.115 L46.0847 574.939 M43.6657 563.258 L64.0042 563.258 L64.0042 569.115 L58.5933 569.115 Q61.8398 571.12 63.3994 574.112 Q64.9272 577.104 64.9272 581.432 Q64.9272 586.907 61.8716 590.153 Q58.7843 593.368 53.6281 593.368 Q47.6125 593.368 44.5569 589.358 Q41.5014 585.315 41.5014 577.327 L41.5014 569.115 L40.9285 569.115 Q36.8862 569.115 34.6901 571.788 Q32.4621 574.43 32.4621 579.236 Q32.4621 582.292 33.1941 585.188 Q33.9262 588.085 35.3903 590.758 L29.9795 590.758 Q28.7381 587.543 28.1334 584.52 Q27.4968 581.496 27.4968 578.631 Q27.4968 570.897 31.5072 567.078 Q35.5176 563.258 43.6657 563.258 Z\" fill=\"#000000\" fill-rule=\"evenodd\" fill-opacity=\"1\" /><path clip-path=\"url(#clip292)\" d=\"\n",
       "M715.696 1354.74 L715.696 1384.24 L795.78 1384.24 L795.78 1354.74 L715.696 1354.74 L715.696 1354.74  Z\n",
       "  \" fill=\"#009af9\" fill-rule=\"evenodd\" fill-opacity=\"1\"/>\n",
       "<polyline clip-path=\"url(#clip292)\" style=\"stroke:#000000; stroke-linecap:butt; stroke-linejoin:round; stroke-width:4; stroke-opacity:1; fill:none\" points=\"\n",
       "  715.696,1354.74 715.696,1384.24 795.78,1384.24 795.78,1354.74 715.696,1354.74 \n",
       "  \"/>\n",
       "<path clip-path=\"url(#clip292)\" d=\"\n",
       "M795.78 1059.73 L795.78 1384.24 L875.865 1384.24 L875.865 1059.73 L795.78 1059.73 L795.78 1059.73  Z\n",
       "  \" fill=\"#009af9\" fill-rule=\"evenodd\" fill-opacity=\"1\"/>\n",
       "<polyline clip-path=\"url(#clip292)\" style=\"stroke:#000000; stroke-linecap:butt; stroke-linejoin:round; stroke-width:4; stroke-opacity:1; fill:none\" points=\"\n",
       "  795.78,1059.73 795.78,1384.24 875.865,1384.24 875.865,1059.73 795.78,1059.73 \n",
       "  \"/>\n",
       "<path clip-path=\"url(#clip292)\" d=\"\n",
       "M875.865 450.034 L875.865 1384.24 L955.95 1384.24 L955.95 450.034 L875.865 450.034 L875.865 450.034  Z\n",
       "  \" fill=\"#009af9\" fill-rule=\"evenodd\" fill-opacity=\"1\"/>\n",
       "<polyline clip-path=\"url(#clip292)\" style=\"stroke:#000000; stroke-linecap:butt; stroke-linejoin:round; stroke-width:4; stroke-opacity:1; fill:none\" points=\"\n",
       "  875.865,450.034 875.865,1384.24 955.95,1384.24 955.95,450.034 875.865,450.034 \n",
       "  \"/>\n",
       "<path clip-path=\"url(#clip292)\" d=\"\n",
       "M955.95 174.689 L955.95 1384.24 L1036.03 1384.24 L1036.03 174.689 L955.95 174.689 L955.95 174.689  Z\n",
       "  \" fill=\"#009af9\" fill-rule=\"evenodd\" fill-opacity=\"1\"/>\n",
       "<polyline clip-path=\"url(#clip292)\" style=\"stroke:#000000; stroke-linecap:butt; stroke-linejoin:round; stroke-width:4; stroke-opacity:1; fill:none\" points=\"\n",
       "  955.95,174.689 955.95,1384.24 1036.03,1384.24 1036.03,174.689 955.95,174.689 \n",
       "  \"/>\n",
       "<path clip-path=\"url(#clip292)\" d=\"\n",
       "M1036.03 86.1857 L1036.03 1384.24 L1116.12 1384.24 L1116.12 86.1857 L1036.03 86.1857 L1036.03 86.1857  Z\n",
       "  \" fill=\"#009af9\" fill-rule=\"evenodd\" fill-opacity=\"1\"/>\n",
       "<polyline clip-path=\"url(#clip292)\" style=\"stroke:#000000; stroke-linecap:butt; stroke-linejoin:round; stroke-width:4; stroke-opacity:1; fill:none\" points=\"\n",
       "  1036.03,86.1857 1036.03,1384.24 1116.12,1384.24 1116.12,86.1857 1036.03,86.1857 \n",
       "  \"/>\n",
       "<path clip-path=\"url(#clip292)\" d=\"\n",
       "M1116.12 686.043 L1116.12 1384.24 L1196.2 1384.24 L1196.2 686.043 L1116.12 686.043 L1116.12 686.043  Z\n",
       "  \" fill=\"#009af9\" fill-rule=\"evenodd\" fill-opacity=\"1\"/>\n",
       "<polyline clip-path=\"url(#clip292)\" style=\"stroke:#000000; stroke-linecap:butt; stroke-linejoin:round; stroke-width:4; stroke-opacity:1; fill:none\" points=\"\n",
       "  1116.12,686.043 1116.12,1384.24 1196.2,1384.24 1196.2,686.043 1116.12,686.043 \n",
       "  \"/>\n",
       "<path clip-path=\"url(#clip292)\" d=\"\n",
       "M1196.2 784.381 L1196.2 1384.24 L1276.29 1384.24 L1276.29 784.381 L1196.2 784.381 L1196.2 784.381  Z\n",
       "  \" fill=\"#009af9\" fill-rule=\"evenodd\" fill-opacity=\"1\"/>\n",
       "<polyline clip-path=\"url(#clip292)\" style=\"stroke:#000000; stroke-linecap:butt; stroke-linejoin:round; stroke-width:4; stroke-opacity:1; fill:none\" points=\"\n",
       "  1196.2,784.381 1196.2,1384.24 1276.29,1384.24 1276.29,784.381 1196.2,784.381 \n",
       "  \"/>\n",
       "<path clip-path=\"url(#clip292)\" d=\"\n",
       "M1276.29 1138.39 L1276.29 1384.24 L1356.37 1384.24 L1356.37 1138.39 L1276.29 1138.39 L1276.29 1138.39  Z\n",
       "  \" fill=\"#009af9\" fill-rule=\"evenodd\" fill-opacity=\"1\"/>\n",
       "<polyline clip-path=\"url(#clip292)\" style=\"stroke:#000000; stroke-linecap:butt; stroke-linejoin:round; stroke-width:4; stroke-opacity:1; fill:none\" points=\"\n",
       "  1276.29,1138.39 1276.29,1384.24 1356.37,1384.24 1356.37,1138.39 1276.29,1138.39 \n",
       "  \"/>\n",
       "<path clip-path=\"url(#clip292)\" d=\"\n",
       "M1356.37 1217.06 L1356.37 1384.24 L1436.46 1384.24 L1436.46 1217.06 L1356.37 1217.06 L1356.37 1217.06  Z\n",
       "  \" fill=\"#009af9\" fill-rule=\"evenodd\" fill-opacity=\"1\"/>\n",
       "<polyline clip-path=\"url(#clip292)\" style=\"stroke:#000000; stroke-linecap:butt; stroke-linejoin:round; stroke-width:4; stroke-opacity:1; fill:none\" points=\"\n",
       "  1356.37,1217.06 1356.37,1384.24 1436.46,1384.24 1436.46,1217.06 1356.37,1217.06 \n",
       "  \"/>\n",
       "<path clip-path=\"url(#clip292)\" d=\"\n",
       "M1436.46 1295.73 L1436.46 1384.24 L1516.54 1384.24 L1516.54 1295.73 L1436.46 1295.73 L1436.46 1295.73  Z\n",
       "  \" fill=\"#009af9\" fill-rule=\"evenodd\" fill-opacity=\"1\"/>\n",
       "<polyline clip-path=\"url(#clip292)\" style=\"stroke:#000000; stroke-linecap:butt; stroke-linejoin:round; stroke-width:4; stroke-opacity:1; fill:none\" points=\"\n",
       "  1436.46,1295.73 1436.46,1384.24 1516.54,1384.24 1516.54,1295.73 1436.46,1295.73 \n",
       "  \"/>\n",
       "<path clip-path=\"url(#clip292)\" d=\"\n",
       "M1516.54 1344.9 L1516.54 1384.24 L1596.63 1384.24 L1596.63 1344.9 L1516.54 1344.9 L1516.54 1344.9  Z\n",
       "  \" fill=\"#009af9\" fill-rule=\"evenodd\" fill-opacity=\"1\"/>\n",
       "<polyline clip-path=\"url(#clip292)\" style=\"stroke:#000000; stroke-linecap:butt; stroke-linejoin:round; stroke-width:4; stroke-opacity:1; fill:none\" points=\"\n",
       "  1516.54,1344.9 1516.54,1384.24 1596.63,1384.24 1596.63,1344.9 1516.54,1344.9 \n",
       "  \"/>\n",
       "<path clip-path=\"url(#clip292)\" d=\"\n",
       "M1596.63 1354.74 L1596.63 1384.24 L1676.71 1384.24 L1676.71 1354.74 L1596.63 1354.74 L1596.63 1354.74  Z\n",
       "  \" fill=\"#009af9\" fill-rule=\"evenodd\" fill-opacity=\"1\"/>\n",
       "<polyline clip-path=\"url(#clip292)\" style=\"stroke:#000000; stroke-linecap:butt; stroke-linejoin:round; stroke-width:4; stroke-opacity:1; fill:none\" points=\"\n",
       "  1596.63,1354.74 1596.63,1384.24 1676.71,1384.24 1676.71,1354.74 1596.63,1354.74 \n",
       "  \"/>\n",
       "<path clip-path=\"url(#clip292)\" d=\"\n",
       "M1676.71 1374.4 L1676.71 1384.24 L1756.8 1384.24 L1756.8 1374.4 L1676.71 1374.4 L1676.71 1374.4  Z\n",
       "  \" fill=\"#009af9\" fill-rule=\"evenodd\" fill-opacity=\"1\"/>\n",
       "<polyline clip-path=\"url(#clip292)\" style=\"stroke:#000000; stroke-linecap:butt; stroke-linejoin:round; stroke-width:4; stroke-opacity:1; fill:none\" points=\"\n",
       "  1676.71,1374.4 1676.71,1384.24 1756.8,1384.24 1756.8,1374.4 1676.71,1374.4 \n",
       "  \"/>\n",
       "<path clip-path=\"url(#clip292)\" d=\"\n",
       "M1756.8 1384.24 L1756.8 1384.24 L1836.88 1384.24 L1836.88 1384.24 L1756.8 1384.24 L1756.8 1384.24  Z\n",
       "  \" fill=\"#009af9\" fill-rule=\"evenodd\" fill-opacity=\"1\"/>\n",
       "<polyline clip-path=\"url(#clip292)\" style=\"stroke:#000000; stroke-linecap:butt; stroke-linejoin:round; stroke-width:4; stroke-opacity:1; fill:none\" points=\"\n",
       "  1756.8,1384.24 1756.8,1384.24 1836.88,1384.24 1756.8,1384.24 \n",
       "  \"/>\n",
       "<path clip-path=\"url(#clip292)\" d=\"\n",
       "M1836.88 1374.4 L1836.88 1384.24 L1916.97 1384.24 L1916.97 1374.4 L1836.88 1374.4 L1836.88 1374.4  Z\n",
       "  \" fill=\"#009af9\" fill-rule=\"evenodd\" fill-opacity=\"1\"/>\n",
       "<polyline clip-path=\"url(#clip292)\" style=\"stroke:#000000; stroke-linecap:butt; stroke-linejoin:round; stroke-width:4; stroke-opacity:1; fill:none\" points=\"\n",
       "  1836.88,1374.4 1836.88,1384.24 1916.97,1384.24 1916.97,1374.4 1836.88,1374.4 \n",
       "  \"/>\n",
       "<path clip-path=\"url(#clip292)\" d=\"\n",
       "M1916.97 1384.24 L1916.97 1384.24 L1997.05 1384.24 L1997.05 1384.24 L1916.97 1384.24 L1916.97 1384.24  Z\n",
       "  \" fill=\"#009af9\" fill-rule=\"evenodd\" fill-opacity=\"1\"/>\n",
       "<polyline clip-path=\"url(#clip292)\" style=\"stroke:#000000; stroke-linecap:butt; stroke-linejoin:round; stroke-width:4; stroke-opacity:1; fill:none\" points=\"\n",
       "  1916.97,1384.24 1916.97,1384.24 1997.05,1384.24 1916.97,1384.24 \n",
       "  \"/>\n",
       "<path clip-path=\"url(#clip292)\" d=\"\n",
       "M1997.05 1374.4 L1997.05 1384.24 L2077.14 1384.24 L2077.14 1374.4 L1997.05 1374.4 L1997.05 1374.4  Z\n",
       "  \" fill=\"#009af9\" fill-rule=\"evenodd\" fill-opacity=\"1\"/>\n",
       "<polyline clip-path=\"url(#clip292)\" style=\"stroke:#000000; stroke-linecap:butt; stroke-linejoin:round; stroke-width:4; stroke-opacity:1; fill:none\" points=\"\n",
       "  1997.05,1374.4 1997.05,1384.24 2077.14,1384.24 2077.14,1374.4 1997.05,1374.4 \n",
       "  \"/>\n",
       "<path clip-path=\"url(#clip292)\" d=\"\n",
       "M2077.14 1384.24 L2077.14 1384.24 L2157.22 1384.24 L2157.22 1384.24 L2077.14 1384.24 L2077.14 1384.24  Z\n",
       "  \" fill=\"#009af9\" fill-rule=\"evenodd\" fill-opacity=\"1\"/>\n",
       "<polyline clip-path=\"url(#clip292)\" style=\"stroke:#000000; stroke-linecap:butt; stroke-linejoin:round; stroke-width:4; stroke-opacity:1; fill:none\" points=\"\n",
       "  2077.14,1384.24 2077.14,1384.24 2157.22,1384.24 2077.14,1384.24 \n",
       "  \"/>\n",
       "<path clip-path=\"url(#clip292)\" d=\"\n",
       "M2157.22 1384.24 L2157.22 1384.24 L2237.3 1384.24 L2237.3 1384.24 L2157.22 1384.24 L2157.22 1384.24  Z\n",
       "  \" fill=\"#009af9\" fill-rule=\"evenodd\" fill-opacity=\"1\"/>\n",
       "<polyline clip-path=\"url(#clip292)\" style=\"stroke:#000000; stroke-linecap:butt; stroke-linejoin:round; stroke-width:4; stroke-opacity:1; fill:none\" points=\"\n",
       "  2157.22,1384.24 2157.22,1384.24 2237.3,1384.24 2157.22,1384.24 \n",
       "  \"/>\n",
       "<path clip-path=\"url(#clip292)\" d=\"\n",
       "M2237.3 1384.24 L2237.3 1384.24 L2317.39 1384.24 L2317.39 1384.24 L2237.3 1384.24 L2237.3 1384.24  Z\n",
       "  \" fill=\"#009af9\" fill-rule=\"evenodd\" fill-opacity=\"1\"/>\n",
       "<polyline clip-path=\"url(#clip292)\" style=\"stroke:#000000; stroke-linecap:butt; stroke-linejoin:round; stroke-width:4; stroke-opacity:1; fill:none\" points=\"\n",
       "  2237.3,1384.24 2237.3,1384.24 2317.39,1384.24 2237.3,1384.24 \n",
       "  \"/>\n",
       "<path clip-path=\"url(#clip292)\" d=\"\n",
       "M2317.39 1384.24 L2317.39 1384.24 L2397.47 1384.24 L2397.47 1384.24 L2317.39 1384.24 L2317.39 1384.24  Z\n",
       "  \" fill=\"#009af9\" fill-rule=\"evenodd\" fill-opacity=\"1\"/>\n",
       "<polyline clip-path=\"url(#clip292)\" style=\"stroke:#000000; stroke-linecap:butt; stroke-linejoin:round; stroke-width:4; stroke-opacity:1; fill:none\" points=\"\n",
       "  2317.39,1384.24 2317.39,1384.24 2397.47,1384.24 2317.39,1384.24 \n",
       "  \"/>\n",
       "<path clip-path=\"url(#clip292)\" d=\"\n",
       "M2397.47 1384.24 L2397.47 1384.24 L2477.56 1384.24 L2477.56 1384.24 L2397.47 1384.24 L2397.47 1384.24  Z\n",
       "  \" fill=\"#009af9\" fill-rule=\"evenodd\" fill-opacity=\"1\"/>\n",
       "<polyline clip-path=\"url(#clip292)\" style=\"stroke:#000000; stroke-linecap:butt; stroke-linejoin:round; stroke-width:4; stroke-opacity:1; fill:none\" points=\"\n",
       "  2397.47,1384.24 2397.47,1384.24 2477.56,1384.24 2397.47,1384.24 \n",
       "  \"/>\n",
       "<path clip-path=\"url(#clip292)\" d=\"\n",
       "M2477.56 1384.24 L2477.56 1384.24 L2557.64 1384.24 L2557.64 1384.24 L2477.56 1384.24 L2477.56 1384.24  Z\n",
       "  \" fill=\"#009af9\" fill-rule=\"evenodd\" fill-opacity=\"1\"/>\n",
       "<polyline clip-path=\"url(#clip292)\" style=\"stroke:#000000; stroke-linecap:butt; stroke-linejoin:round; stroke-width:4; stroke-opacity:1; fill:none\" points=\"\n",
       "  2477.56,1384.24 2477.56,1384.24 2557.64,1384.24 2477.56,1384.24 \n",
       "  \"/>\n",
       "<path clip-path=\"url(#clip292)\" d=\"\n",
       "M2557.64 1374.4 L2557.64 1384.24 L2637.73 1384.24 L2637.73 1374.4 L2557.64 1374.4 L2557.64 1374.4  Z\n",
       "  \" fill=\"#009af9\" fill-rule=\"evenodd\" fill-opacity=\"1\"/>\n",
       "<polyline clip-path=\"url(#clip292)\" style=\"stroke:#000000; stroke-linecap:butt; stroke-linejoin:round; stroke-width:4; stroke-opacity:1; fill:none\" points=\"\n",
       "  2557.64,1374.4 2557.64,1384.24 2637.73,1384.24 2637.73,1374.4 2557.64,1374.4 \n",
       "  \"/>\n",
       "<path clip-path=\"url(#clip292)\" d=\"\n",
       "M2637.73 1384.24 L2637.73 1384.24 L2717.81 1384.24 L2717.81 1384.24 L2637.73 1384.24 L2637.73 1384.24  Z\n",
       "  \" fill=\"#009af9\" fill-rule=\"evenodd\" fill-opacity=\"1\"/>\n",
       "<polyline clip-path=\"url(#clip292)\" style=\"stroke:#000000; stroke-linecap:butt; stroke-linejoin:round; stroke-width:4; stroke-opacity:1; fill:none\" points=\"\n",
       "  2637.73,1384.24 2637.73,1384.24 2717.81,1384.24 2637.73,1384.24 \n",
       "  \"/>\n",
       "<path clip-path=\"url(#clip292)\" d=\"\n",
       "M2717.81 1384.24 L2717.81 1384.24 L2797.9 1384.24 L2797.9 1384.24 L2717.81 1384.24 L2717.81 1384.24  Z\n",
       "  \" fill=\"#009af9\" fill-rule=\"evenodd\" fill-opacity=\"1\"/>\n",
       "<polyline clip-path=\"url(#clip292)\" style=\"stroke:#000000; stroke-linecap:butt; stroke-linejoin:round; stroke-width:4; stroke-opacity:1; fill:none\" points=\"\n",
       "  2717.81,1384.24 2717.81,1384.24 2797.9,1384.24 2717.81,1384.24 \n",
       "  \"/>\n",
       "<path clip-path=\"url(#clip292)\" d=\"\n",
       "M2797.9 1384.24 L2797.9 1384.24 L2877.98 1384.24 L2877.98 1384.24 L2797.9 1384.24 L2797.9 1384.24  Z\n",
       "  \" fill=\"#009af9\" fill-rule=\"evenodd\" fill-opacity=\"1\"/>\n",
       "<polyline clip-path=\"url(#clip292)\" style=\"stroke:#000000; stroke-linecap:butt; stroke-linejoin:round; stroke-width:4; stroke-opacity:1; fill:none\" points=\"\n",
       "  2797.9,1384.24 2797.9,1384.24 2877.98,1384.24 2797.9,1384.24 \n",
       "  \"/>\n",
       "<path clip-path=\"url(#clip292)\" d=\"\n",
       "M2877.98 1384.24 L2877.98 1384.24 L2958.07 1384.24 L2958.07 1384.24 L2877.98 1384.24 L2877.98 1384.24  Z\n",
       "  \" fill=\"#009af9\" fill-rule=\"evenodd\" fill-opacity=\"1\"/>\n",
       "<polyline clip-path=\"url(#clip292)\" style=\"stroke:#000000; stroke-linecap:butt; stroke-linejoin:round; stroke-width:4; stroke-opacity:1; fill:none\" points=\"\n",
       "  2877.98,1384.24 2877.98,1384.24 2958.07,1384.24 2877.98,1384.24 \n",
       "  \"/>\n",
       "<path clip-path=\"url(#clip292)\" d=\"\n",
       "M2958.07 1384.24 L2958.07 1384.24 L3038.15 1384.24 L3038.15 1384.24 L2958.07 1384.24 L2958.07 1384.24  Z\n",
       "  \" fill=\"#009af9\" fill-rule=\"evenodd\" fill-opacity=\"1\"/>\n",
       "<polyline clip-path=\"url(#clip292)\" style=\"stroke:#000000; stroke-linecap:butt; stroke-linejoin:round; stroke-width:4; stroke-opacity:1; fill:none\" points=\"\n",
       "  2958.07,1384.24 2958.07,1384.24 3038.15,1384.24 2958.07,1384.24 \n",
       "  \"/>\n",
       "<path clip-path=\"url(#clip292)\" d=\"\n",
       "M3038.15 1384.24 L3038.15 1384.24 L3118.24 1384.24 L3118.24 1384.24 L3038.15 1384.24 L3038.15 1384.24  Z\n",
       "  \" fill=\"#009af9\" fill-rule=\"evenodd\" fill-opacity=\"1\"/>\n",
       "<polyline clip-path=\"url(#clip292)\" style=\"stroke:#000000; stroke-linecap:butt; stroke-linejoin:round; stroke-width:4; stroke-opacity:1; fill:none\" points=\"\n",
       "  3038.15,1384.24 3038.15,1384.24 3118.24,1384.24 3038.15,1384.24 \n",
       "  \"/>\n",
       "<path clip-path=\"url(#clip292)\" d=\"\n",
       "M3118.24 1374.4 L3118.24 1384.24 L3198.32 1384.24 L3198.32 1374.4 L3118.24 1374.4 L3118.24 1374.4  Z\n",
       "  \" fill=\"#009af9\" fill-rule=\"evenodd\" fill-opacity=\"1\"/>\n",
       "<polyline clip-path=\"url(#clip292)\" style=\"stroke:#000000; stroke-linecap:butt; stroke-linejoin:round; stroke-width:4; stroke-opacity:1; fill:none\" points=\"\n",
       "  3118.24,1374.4 3118.24,1384.24 3198.32,1384.24 3198.32,1374.4 3118.24,1374.4 \n",
       "  \"/>\n",
       "<path clip-path=\"url(#clip292)\" d=\"\n",
       "M3198.32 1384.24 L3198.32 1384.24 L3278.41 1384.24 L3278.41 1384.24 L3198.32 1384.24 L3198.32 1384.24  Z\n",
       "  \" fill=\"#009af9\" fill-rule=\"evenodd\" fill-opacity=\"1\"/>\n",
       "<polyline clip-path=\"url(#clip292)\" style=\"stroke:#000000; stroke-linecap:butt; stroke-linejoin:round; stroke-width:4; stroke-opacity:1; fill:none\" points=\"\n",
       "  3198.32,1384.24 3198.32,1384.24 3278.41,1384.24 3198.32,1384.24 \n",
       "  \"/>\n",
       "<path clip-path=\"url(#clip292)\" d=\"\n",
       "M3278.41 1384.24 L3278.41 1384.24 L3358.49 1384.24 L3358.49 1384.24 L3278.41 1384.24 L3278.41 1384.24  Z\n",
       "  \" fill=\"#009af9\" fill-rule=\"evenodd\" fill-opacity=\"1\"/>\n",
       "<polyline clip-path=\"url(#clip292)\" style=\"stroke:#000000; stroke-linecap:butt; stroke-linejoin:round; stroke-width:4; stroke-opacity:1; fill:none\" points=\"\n",
       "  3278.41,1384.24 3278.41,1384.24 3358.49,1384.24 3278.41,1384.24 \n",
       "  \"/>\n",
       "<path clip-path=\"url(#clip292)\" d=\"\n",
       "M3358.49 1384.24 L3358.49 1384.24 L3438.58 1384.24 L3438.58 1384.24 L3358.49 1384.24 L3358.49 1384.24  Z\n",
       "  \" fill=\"#009af9\" fill-rule=\"evenodd\" fill-opacity=\"1\"/>\n",
       "<polyline clip-path=\"url(#clip292)\" style=\"stroke:#000000; stroke-linecap:butt; stroke-linejoin:round; stroke-width:4; stroke-opacity:1; fill:none\" points=\"\n",
       "  3358.49,1384.24 3358.49,1384.24 3438.58,1384.24 3358.49,1384.24 \n",
       "  \"/>\n",
       "<path clip-path=\"url(#clip292)\" d=\"\n",
       "M3438.58 1384.24 L3438.58 1384.24 L3518.66 1384.24 L3518.66 1384.24 L3438.58 1384.24 L3438.58 1384.24  Z\n",
       "  \" fill=\"#009af9\" fill-rule=\"evenodd\" fill-opacity=\"1\"/>\n",
       "<polyline clip-path=\"url(#clip292)\" style=\"stroke:#000000; stroke-linecap:butt; stroke-linejoin:round; stroke-width:4; stroke-opacity:1; fill:none\" points=\"\n",
       "  3438.58,1384.24 3438.58,1384.24 3518.66,1384.24 3438.58,1384.24 \n",
       "  \"/>\n",
       "<path clip-path=\"url(#clip292)\" d=\"\n",
       "M3518.66 1384.24 L3518.66 1384.24 L3598.74 1384.24 L3598.74 1384.24 L3518.66 1384.24 L3518.66 1384.24  Z\n",
       "  \" fill=\"#009af9\" fill-rule=\"evenodd\" fill-opacity=\"1\"/>\n",
       "<polyline clip-path=\"url(#clip292)\" style=\"stroke:#000000; stroke-linecap:butt; stroke-linejoin:round; stroke-width:4; stroke-opacity:1; fill:none\" points=\"\n",
       "  3518.66,1384.24 3518.66,1384.24 3598.74,1384.24 3518.66,1384.24 \n",
       "  \"/>\n",
       "<path clip-path=\"url(#clip292)\" d=\"\n",
       "M3598.74 1384.24 L3598.74 1384.24 L3678.83 1384.24 L3678.83 1384.24 L3598.74 1384.24 L3598.74 1384.24  Z\n",
       "  \" fill=\"#009af9\" fill-rule=\"evenodd\" fill-opacity=\"1\"/>\n",
       "<polyline clip-path=\"url(#clip292)\" style=\"stroke:#000000; stroke-linecap:butt; stroke-linejoin:round; stroke-width:4; stroke-opacity:1; fill:none\" points=\"\n",
       "  3598.74,1384.24 3598.74,1384.24 3678.83,1384.24 3598.74,1384.24 \n",
       "  \"/>\n",
       "<path clip-path=\"url(#clip292)\" d=\"\n",
       "M3678.83 1384.24 L3678.83 1384.24 L3758.91 1384.24 L3758.91 1384.24 L3678.83 1384.24 L3678.83 1384.24  Z\n",
       "  \" fill=\"#009af9\" fill-rule=\"evenodd\" fill-opacity=\"1\"/>\n",
       "<polyline clip-path=\"url(#clip292)\" style=\"stroke:#000000; stroke-linecap:butt; stroke-linejoin:round; stroke-width:4; stroke-opacity:1; fill:none\" points=\"\n",
       "  3678.83,1384.24 3678.83,1384.24 3758.91,1384.24 3678.83,1384.24 \n",
       "  \"/>\n",
       "<path clip-path=\"url(#clip292)\" d=\"\n",
       "M3758.91 1384.24 L3758.91 1384.24 L3839 1384.24 L3839 1384.24 L3758.91 1384.24 L3758.91 1384.24  Z\n",
       "  \" fill=\"#009af9\" fill-rule=\"evenodd\" fill-opacity=\"1\"/>\n",
       "<polyline clip-path=\"url(#clip292)\" style=\"stroke:#000000; stroke-linecap:butt; stroke-linejoin:round; stroke-width:4; stroke-opacity:1; fill:none\" points=\"\n",
       "  3758.91,1384.24 3758.91,1384.24 3839,1384.24 3758.91,1384.24 \n",
       "  \"/>\n",
       "<path clip-path=\"url(#clip292)\" d=\"\n",
       "M3839 1384.24 L3839 1384.24 L3919.08 1384.24 L3919.08 1384.24 L3839 1384.24 L3839 1384.24  Z\n",
       "  \" fill=\"#009af9\" fill-rule=\"evenodd\" fill-opacity=\"1\"/>\n",
       "<polyline clip-path=\"url(#clip292)\" style=\"stroke:#000000; stroke-linecap:butt; stroke-linejoin:round; stroke-width:4; stroke-opacity:1; fill:none\" points=\"\n",
       "  3839,1384.24 3839,1384.24 3919.08,1384.24 3839,1384.24 \n",
       "  \"/>\n",
       "<path clip-path=\"url(#clip292)\" d=\"\n",
       "M3919.08 1384.24 L3919.08 1384.24 L3999.17 1384.24 L3999.17 1384.24 L3919.08 1384.24 L3919.08 1384.24  Z\n",
       "  \" fill=\"#009af9\" fill-rule=\"evenodd\" fill-opacity=\"1\"/>\n",
       "<polyline clip-path=\"url(#clip292)\" style=\"stroke:#000000; stroke-linecap:butt; stroke-linejoin:round; stroke-width:4; stroke-opacity:1; fill:none\" points=\"\n",
       "  3919.08,1384.24 3919.08,1384.24 3999.17,1384.24 3919.08,1384.24 \n",
       "  \"/>\n",
       "<path clip-path=\"url(#clip292)\" d=\"\n",
       "M3999.17 1384.24 L3999.17 1384.24 L4079.25 1384.24 L4079.25 1384.24 L3999.17 1384.24 L3999.17 1384.24  Z\n",
       "  \" fill=\"#009af9\" fill-rule=\"evenodd\" fill-opacity=\"1\"/>\n",
       "<polyline clip-path=\"url(#clip292)\" style=\"stroke:#000000; stroke-linecap:butt; stroke-linejoin:round; stroke-width:4; stroke-opacity:1; fill:none\" points=\"\n",
       "  3999.17,1384.24 3999.17,1384.24 4079.25,1384.24 3999.17,1384.24 \n",
       "  \"/>\n",
       "<path clip-path=\"url(#clip292)\" d=\"\n",
       "M4079.25 1384.24 L4079.25 1384.24 L4159.34 1384.24 L4159.34 1384.24 L4079.25 1384.24 L4079.25 1384.24  Z\n",
       "  \" fill=\"#009af9\" fill-rule=\"evenodd\" fill-opacity=\"1\"/>\n",
       "<polyline clip-path=\"url(#clip292)\" style=\"stroke:#000000; stroke-linecap:butt; stroke-linejoin:round; stroke-width:4; stroke-opacity:1; fill:none\" points=\"\n",
       "  4079.25,1384.24 4079.25,1384.24 4159.34,1384.24 4079.25,1384.24 \n",
       "  \"/>\n",
       "<path clip-path=\"url(#clip292)\" d=\"\n",
       "M4159.34 1384.24 L4159.34 1384.24 L4239.42 1384.24 L4239.42 1384.24 L4159.34 1384.24 L4159.34 1384.24  Z\n",
       "  \" fill=\"#009af9\" fill-rule=\"evenodd\" fill-opacity=\"1\"/>\n",
       "<polyline clip-path=\"url(#clip292)\" style=\"stroke:#000000; stroke-linecap:butt; stroke-linejoin:round; stroke-width:4; stroke-opacity:1; fill:none\" points=\"\n",
       "  4159.34,1384.24 4159.34,1384.24 4239.42,1384.24 4159.34,1384.24 \n",
       "  \"/>\n",
       "<path clip-path=\"url(#clip292)\" d=\"\n",
       "M4239.42 1384.24 L4239.42 1384.24 L4319.51 1384.24 L4319.51 1384.24 L4239.42 1384.24 L4239.42 1384.24  Z\n",
       "  \" fill=\"#009af9\" fill-rule=\"evenodd\" fill-opacity=\"1\"/>\n",
       "<polyline clip-path=\"url(#clip292)\" style=\"stroke:#000000; stroke-linecap:butt; stroke-linejoin:round; stroke-width:4; stroke-opacity:1; fill:none\" points=\"\n",
       "  4239.42,1384.24 4239.42,1384.24 4319.51,1384.24 4239.42,1384.24 \n",
       "  \"/>\n",
       "<path clip-path=\"url(#clip292)\" d=\"\n",
       "M4319.51 1384.24 L4319.51 1384.24 L4399.59 1384.24 L4399.59 1384.24 L4319.51 1384.24 L4319.51 1384.24  Z\n",
       "  \" fill=\"#009af9\" fill-rule=\"evenodd\" fill-opacity=\"1\"/>\n",
       "<polyline clip-path=\"url(#clip292)\" style=\"stroke:#000000; stroke-linecap:butt; stroke-linejoin:round; stroke-width:4; stroke-opacity:1; fill:none\" points=\"\n",
       "  4319.51,1384.24 4319.51,1384.24 4399.59,1384.24 4319.51,1384.24 \n",
       "  \"/>\n",
       "<path clip-path=\"url(#clip292)\" d=\"\n",
       "M4399.59 1384.24 L4399.59 1384.24 L4479.68 1384.24 L4479.68 1384.24 L4399.59 1384.24 L4399.59 1384.24  Z\n",
       "  \" fill=\"#009af9\" fill-rule=\"evenodd\" fill-opacity=\"1\"/>\n",
       "<polyline clip-path=\"url(#clip292)\" style=\"stroke:#000000; stroke-linecap:butt; stroke-linejoin:round; stroke-width:4; stroke-opacity:1; fill:none\" points=\"\n",
       "  4399.59,1384.24 4399.59,1384.24 4479.68,1384.24 4399.59,1384.24 \n",
       "  \"/>\n",
       "<path clip-path=\"url(#clip292)\" d=\"\n",
       "M4479.68 1384.24 L4479.68 1384.24 L4559.76 1384.24 L4559.76 1384.24 L4479.68 1384.24 L4479.68 1384.24  Z\n",
       "  \" fill=\"#009af9\" fill-rule=\"evenodd\" fill-opacity=\"1\"/>\n",
       "<polyline clip-path=\"url(#clip292)\" style=\"stroke:#000000; stroke-linecap:butt; stroke-linejoin:round; stroke-width:4; stroke-opacity:1; fill:none\" points=\"\n",
       "  4479.68,1384.24 4479.68,1384.24 4559.76,1384.24 4479.68,1384.24 \n",
       "  \"/>\n",
       "<path clip-path=\"url(#clip292)\" d=\"\n",
       "M4559.76 1384.24 L4559.76 1384.24 L4639.85 1384.24 L4639.85 1384.24 L4559.76 1384.24 L4559.76 1384.24  Z\n",
       "  \" fill=\"#009af9\" fill-rule=\"evenodd\" fill-opacity=\"1\"/>\n",
       "<polyline clip-path=\"url(#clip292)\" style=\"stroke:#000000; stroke-linecap:butt; stroke-linejoin:round; stroke-width:4; stroke-opacity:1; fill:none\" points=\"\n",
       "  4559.76,1384.24 4559.76,1384.24 4639.85,1384.24 4559.76,1384.24 \n",
       "  \"/>\n",
       "<path clip-path=\"url(#clip292)\" d=\"\n",
       "M4639.85 1384.24 L4639.85 1384.24 L4719.93 1384.24 L4719.93 1384.24 L4639.85 1384.24 L4639.85 1384.24  Z\n",
       "  \" fill=\"#009af9\" fill-rule=\"evenodd\" fill-opacity=\"1\"/>\n",
       "<polyline clip-path=\"url(#clip292)\" style=\"stroke:#000000; stroke-linecap:butt; stroke-linejoin:round; stroke-width:4; stroke-opacity:1; fill:none\" points=\"\n",
       "  4639.85,1384.24 4639.85,1384.24 4719.93,1384.24 4639.85,1384.24 \n",
       "  \"/>\n",
       "<path clip-path=\"url(#clip292)\" d=\"\n",
       "M4719.93 1384.24 L4719.93 1384.24 L4800.02 1384.24 L4800.02 1384.24 L4719.93 1384.24 L4719.93 1384.24  Z\n",
       "  \" fill=\"#009af9\" fill-rule=\"evenodd\" fill-opacity=\"1\"/>\n",
       "<polyline clip-path=\"url(#clip292)\" style=\"stroke:#000000; stroke-linecap:butt; stroke-linejoin:round; stroke-width:4; stroke-opacity:1; fill:none\" points=\"\n",
       "  4719.93,1384.24 4719.93,1384.24 4800.02,1384.24 4719.93,1384.24 \n",
       "  \"/>\n",
       "<path clip-path=\"url(#clip292)\" d=\"\n",
       "M4800.02 1384.24 L4800.02 1384.24 L4880.1 1384.24 L4880.1 1384.24 L4800.02 1384.24 L4800.02 1384.24  Z\n",
       "  \" fill=\"#009af9\" fill-rule=\"evenodd\" fill-opacity=\"1\"/>\n",
       "<polyline clip-path=\"url(#clip292)\" style=\"stroke:#000000; stroke-linecap:butt; stroke-linejoin:round; stroke-width:4; stroke-opacity:1; fill:none\" points=\"\n",
       "  4800.02,1384.24 4800.02,1384.24 4880.1,1384.24 4800.02,1384.24 \n",
       "  \"/>\n",
       "<path clip-path=\"url(#clip292)\" d=\"\n",
       "M4880.1 1374.4 L4880.1 1384.24 L4960.18 1384.24 L4960.18 1374.4 L4880.1 1374.4 L4880.1 1374.4  Z\n",
       "  \" fill=\"#009af9\" fill-rule=\"evenodd\" fill-opacity=\"1\"/>\n",
       "<polyline clip-path=\"url(#clip292)\" style=\"stroke:#000000; stroke-linecap:butt; stroke-linejoin:round; stroke-width:4; stroke-opacity:1; fill:none\" points=\"\n",
       "  4880.1,1374.4 4880.1,1384.24 4960.18,1384.24 4960.18,1374.4 4880.1,1374.4 \n",
       "  \"/>\n",
       "<path clip-path=\"url(#clip292)\" d=\"\n",
       "M4960.18 1384.24 L4960.18 1384.24 L5040.27 1384.24 L5040.27 1384.24 L4960.18 1384.24 L4960.18 1384.24  Z\n",
       "  \" fill=\"#009af9\" fill-rule=\"evenodd\" fill-opacity=\"1\"/>\n",
       "<polyline clip-path=\"url(#clip292)\" style=\"stroke:#000000; stroke-linecap:butt; stroke-linejoin:round; stroke-width:4; stroke-opacity:1; fill:none\" points=\"\n",
       "  4960.18,1384.24 4960.18,1384.24 5040.27,1384.24 4960.18,1384.24 \n",
       "  \"/>\n",
       "<path clip-path=\"url(#clip292)\" d=\"\n",
       "M5040.27 1384.24 L5040.27 1384.24 L5120.35 1384.24 L5120.35 1384.24 L5040.27 1384.24 L5040.27 1384.24  Z\n",
       "  \" fill=\"#009af9\" fill-rule=\"evenodd\" fill-opacity=\"1\"/>\n",
       "<polyline clip-path=\"url(#clip292)\" style=\"stroke:#000000; stroke-linecap:butt; stroke-linejoin:round; stroke-width:4; stroke-opacity:1; fill:none\" points=\"\n",
       "  5040.27,1384.24 5040.27,1384.24 5120.35,1384.24 5040.27,1384.24 \n",
       "  \"/>\n",
       "<path clip-path=\"url(#clip292)\" d=\"\n",
       "M5120.35 1384.24 L5120.35 1384.24 L5200.44 1384.24 L5200.44 1384.24 L5120.35 1384.24 L5120.35 1384.24  Z\n",
       "  \" fill=\"#009af9\" fill-rule=\"evenodd\" fill-opacity=\"1\"/>\n",
       "<polyline clip-path=\"url(#clip292)\" style=\"stroke:#000000; stroke-linecap:butt; stroke-linejoin:round; stroke-width:4; stroke-opacity:1; fill:none\" points=\"\n",
       "  5120.35,1384.24 5120.35,1384.24 5200.44,1384.24 5120.35,1384.24 \n",
       "  \"/>\n",
       "<path clip-path=\"url(#clip292)\" d=\"\n",
       "M5200.44 1374.4 L5200.44 1384.24 L5280.52 1384.24 L5280.52 1374.4 L5200.44 1374.4 L5200.44 1374.4  Z\n",
       "  \" fill=\"#009af9\" fill-rule=\"evenodd\" fill-opacity=\"1\"/>\n",
       "<polyline clip-path=\"url(#clip292)\" style=\"stroke:#000000; stroke-linecap:butt; stroke-linejoin:round; stroke-width:4; stroke-opacity:1; fill:none\" points=\"\n",
       "  5200.44,1374.4 5200.44,1384.24 5280.52,1384.24 5280.52,1374.4 5200.44,1374.4 \n",
       "  \"/>\n",
       "<path clip-path=\"url(#clip292)\" d=\"\n",
       "M5280.52 1384.24 L5280.52 1384.24 L5360.61 1384.24 L5360.61 1384.24 L5280.52 1384.24 L5280.52 1384.24  Z\n",
       "  \" fill=\"#009af9\" fill-rule=\"evenodd\" fill-opacity=\"1\"/>\n",
       "<polyline clip-path=\"url(#clip292)\" style=\"stroke:#000000; stroke-linecap:butt; stroke-linejoin:round; stroke-width:4; stroke-opacity:1; fill:none\" points=\"\n",
       "  5280.52,1384.24 5280.52,1384.24 5360.61,1384.24 5280.52,1384.24 \n",
       "  \"/>\n",
       "<path clip-path=\"url(#clip292)\" d=\"\n",
       "M5360.61 1384.24 L5360.61 1384.24 L5440.69 1384.24 L5440.69 1384.24 L5360.61 1384.24 L5360.61 1384.24  Z\n",
       "  \" fill=\"#009af9\" fill-rule=\"evenodd\" fill-opacity=\"1\"/>\n",
       "<polyline clip-path=\"url(#clip292)\" style=\"stroke:#000000; stroke-linecap:butt; stroke-linejoin:round; stroke-width:4; stroke-opacity:1; fill:none\" points=\"\n",
       "  5360.61,1384.24 5360.61,1384.24 5440.69,1384.24 5360.61,1384.24 \n",
       "  \"/>\n",
       "<path clip-path=\"url(#clip292)\" d=\"\n",
       "M5440.69 1384.24 L5440.69 1384.24 L5520.78 1384.24 L5520.78 1384.24 L5440.69 1384.24 L5440.69 1384.24  Z\n",
       "  \" fill=\"#009af9\" fill-rule=\"evenodd\" fill-opacity=\"1\"/>\n",
       "<polyline clip-path=\"url(#clip292)\" style=\"stroke:#000000; stroke-linecap:butt; stroke-linejoin:round; stroke-width:4; stroke-opacity:1; fill:none\" points=\"\n",
       "  5440.69,1384.24 5440.69,1384.24 5520.78,1384.24 5440.69,1384.24 \n",
       "  \"/>\n",
       "<path clip-path=\"url(#clip292)\" d=\"\n",
       "M5520.78 1384.24 L5520.78 1384.24 L5600.86 1384.24 L5600.86 1384.24 L5520.78 1384.24 L5520.78 1384.24  Z\n",
       "  \" fill=\"#009af9\" fill-rule=\"evenodd\" fill-opacity=\"1\"/>\n",
       "<polyline clip-path=\"url(#clip292)\" style=\"stroke:#000000; stroke-linecap:butt; stroke-linejoin:round; stroke-width:4; stroke-opacity:1; fill:none\" points=\"\n",
       "  5520.78,1384.24 5520.78,1384.24 5600.86,1384.24 5520.78,1384.24 \n",
       "  \"/>\n",
       "<path clip-path=\"url(#clip292)\" d=\"\n",
       "M5600.86 1384.24 L5600.86 1384.24 L5680.95 1384.24 L5680.95 1384.24 L5600.86 1384.24 L5600.86 1384.24  Z\n",
       "  \" fill=\"#009af9\" fill-rule=\"evenodd\" fill-opacity=\"1\"/>\n",
       "<polyline clip-path=\"url(#clip292)\" style=\"stroke:#000000; stroke-linecap:butt; stroke-linejoin:round; stroke-width:4; stroke-opacity:1; fill:none\" points=\"\n",
       "  5600.86,1384.24 5600.86,1384.24 5680.95,1384.24 5600.86,1384.24 \n",
       "  \"/>\n",
       "<path clip-path=\"url(#clip292)\" d=\"\n",
       "M5680.95 1384.24 L5680.95 1384.24 L5761.03 1384.24 L5761.03 1384.24 L5680.95 1384.24 L5680.95 1384.24  Z\n",
       "  \" fill=\"#009af9\" fill-rule=\"evenodd\" fill-opacity=\"1\"/>\n",
       "<polyline clip-path=\"url(#clip292)\" style=\"stroke:#000000; stroke-linecap:butt; stroke-linejoin:round; stroke-width:4; stroke-opacity:1; fill:none\" points=\"\n",
       "  5680.95,1384.24 5680.95,1384.24 5761.03,1384.24 5680.95,1384.24 \n",
       "  \"/>\n",
       "<path clip-path=\"url(#clip292)\" d=\"\n",
       "M5761.03 1384.24 L5761.03 1384.24 L5841.12 1384.24 L5841.12 1384.24 L5761.03 1384.24 L5761.03 1384.24  Z\n",
       "  \" fill=\"#009af9\" fill-rule=\"evenodd\" fill-opacity=\"1\"/>\n",
       "<polyline clip-path=\"url(#clip292)\" style=\"stroke:#000000; stroke-linecap:butt; stroke-linejoin:round; stroke-width:4; stroke-opacity:1; fill:none\" points=\"\n",
       "  5761.03,1384.24 5761.03,1384.24 5841.12,1384.24 5761.03,1384.24 \n",
       "  \"/>\n",
       "<path clip-path=\"url(#clip292)\" d=\"\n",
       "M5841.12 1384.24 L5841.12 1384.24 L5921.2 1384.24 L5921.2 1384.24 L5841.12 1384.24 L5841.12 1384.24  Z\n",
       "  \" fill=\"#009af9\" fill-rule=\"evenodd\" fill-opacity=\"1\"/>\n",
       "<polyline clip-path=\"url(#clip292)\" style=\"stroke:#000000; stroke-linecap:butt; stroke-linejoin:round; stroke-width:4; stroke-opacity:1; fill:none\" points=\"\n",
       "  5841.12,1384.24 5841.12,1384.24 5921.2,1384.24 5841.12,1384.24 \n",
       "  \"/>\n",
       "<path clip-path=\"url(#clip292)\" d=\"\n",
       "M5921.2 1384.24 L5921.2 1384.24 L6001.29 1384.24 L6001.29 1384.24 L5921.2 1384.24 L5921.2 1384.24  Z\n",
       "  \" fill=\"#009af9\" fill-rule=\"evenodd\" fill-opacity=\"1\"/>\n",
       "<polyline clip-path=\"url(#clip292)\" style=\"stroke:#000000; stroke-linecap:butt; stroke-linejoin:round; stroke-width:4; stroke-opacity:1; fill:none\" points=\"\n",
       "  5921.2,1384.24 5921.2,1384.24 6001.29,1384.24 5921.2,1384.24 \n",
       "  \"/>\n",
       "<path clip-path=\"url(#clip292)\" d=\"\n",
       "M6001.29 1384.24 L6001.29 1384.24 L6081.37 1384.24 L6081.37 1384.24 L6001.29 1384.24 L6001.29 1384.24  Z\n",
       "  \" fill=\"#009af9\" fill-rule=\"evenodd\" fill-opacity=\"1\"/>\n",
       "<polyline clip-path=\"url(#clip292)\" style=\"stroke:#000000; stroke-linecap:butt; stroke-linejoin:round; stroke-width:4; stroke-opacity:1; fill:none\" points=\"\n",
       "  6001.29,1384.24 6001.29,1384.24 6081.37,1384.24 6001.29,1384.24 \n",
       "  \"/>\n",
       "<path clip-path=\"url(#clip292)\" d=\"\n",
       "M6081.37 1384.24 L6081.37 1384.24 L6161.46 1384.24 L6161.46 1384.24 L6081.37 1384.24 L6081.37 1384.24  Z\n",
       "  \" fill=\"#009af9\" fill-rule=\"evenodd\" fill-opacity=\"1\"/>\n",
       "<polyline clip-path=\"url(#clip292)\" style=\"stroke:#000000; stroke-linecap:butt; stroke-linejoin:round; stroke-width:4; stroke-opacity:1; fill:none\" points=\"\n",
       "  6081.37,1384.24 6081.37,1384.24 6161.46,1384.24 6081.37,1384.24 \n",
       "  \"/>\n",
       "<path clip-path=\"url(#clip292)\" d=\"\n",
       "M6161.46 1384.24 L6161.46 1384.24 L6241.54 1384.24 L6241.54 1384.24 L6161.46 1384.24 L6161.46 1384.24  Z\n",
       "  \" fill=\"#009af9\" fill-rule=\"evenodd\" fill-opacity=\"1\"/>\n",
       "<polyline clip-path=\"url(#clip292)\" style=\"stroke:#000000; stroke-linecap:butt; stroke-linejoin:round; stroke-width:4; stroke-opacity:1; fill:none\" points=\"\n",
       "  6161.46,1384.24 6161.46,1384.24 6241.54,1384.24 6161.46,1384.24 \n",
       "  \"/>\n",
       "<path clip-path=\"url(#clip292)\" d=\"\n",
       "M6241.54 1384.24 L6241.54 1384.24 L6321.62 1384.24 L6321.62 1384.24 L6241.54 1384.24 L6241.54 1384.24  Z\n",
       "  \" fill=\"#009af9\" fill-rule=\"evenodd\" fill-opacity=\"1\"/>\n",
       "<polyline clip-path=\"url(#clip292)\" style=\"stroke:#000000; stroke-linecap:butt; stroke-linejoin:round; stroke-width:4; stroke-opacity:1; fill:none\" points=\"\n",
       "  6241.54,1384.24 6241.54,1384.24 6321.62,1384.24 6241.54,1384.24 \n",
       "  \"/>\n",
       "<path clip-path=\"url(#clip292)\" d=\"\n",
       "M6321.62 1384.24 L6321.62 1384.24 L6401.71 1384.24 L6401.71 1384.24 L6321.62 1384.24 L6321.62 1384.24  Z\n",
       "  \" fill=\"#009af9\" fill-rule=\"evenodd\" fill-opacity=\"1\"/>\n",
       "<polyline clip-path=\"url(#clip292)\" style=\"stroke:#000000; stroke-linecap:butt; stroke-linejoin:round; stroke-width:4; stroke-opacity:1; fill:none\" points=\"\n",
       "  6321.62,1384.24 6321.62,1384.24 6401.71,1384.24 6321.62,1384.24 \n",
       "  \"/>\n",
       "<path clip-path=\"url(#clip292)\" d=\"\n",
       "M6401.71 1384.24 L6401.71 1384.24 L6481.79 1384.24 L6481.79 1384.24 L6401.71 1384.24 L6401.71 1384.24  Z\n",
       "  \" fill=\"#009af9\" fill-rule=\"evenodd\" fill-opacity=\"1\"/>\n",
       "<polyline clip-path=\"url(#clip292)\" style=\"stroke:#000000; stroke-linecap:butt; stroke-linejoin:round; stroke-width:4; stroke-opacity:1; fill:none\" points=\"\n",
       "  6401.71,1384.24 6401.71,1384.24 6481.79,1384.24 6401.71,1384.24 \n",
       "  \"/>\n",
       "<path clip-path=\"url(#clip292)\" d=\"\n",
       "M6481.79 1384.24 L6481.79 1384.24 L6561.88 1384.24 L6561.88 1384.24 L6481.79 1384.24 L6481.79 1384.24  Z\n",
       "  \" fill=\"#009af9\" fill-rule=\"evenodd\" fill-opacity=\"1\"/>\n",
       "<polyline clip-path=\"url(#clip292)\" style=\"stroke:#000000; stroke-linecap:butt; stroke-linejoin:round; stroke-width:4; stroke-opacity:1; fill:none\" points=\"\n",
       "  6481.79,1384.24 6481.79,1384.24 6561.88,1384.24 6481.79,1384.24 \n",
       "  \"/>\n",
       "<path clip-path=\"url(#clip292)\" d=\"\n",
       "M6561.88 1384.24 L6561.88 1384.24 L6641.96 1384.24 L6641.96 1384.24 L6561.88 1384.24 L6561.88 1384.24  Z\n",
       "  \" fill=\"#009af9\" fill-rule=\"evenodd\" fill-opacity=\"1\"/>\n",
       "<polyline clip-path=\"url(#clip292)\" style=\"stroke:#000000; stroke-linecap:butt; stroke-linejoin:round; stroke-width:4; stroke-opacity:1; fill:none\" points=\"\n",
       "  6561.88,1384.24 6561.88,1384.24 6641.96,1384.24 6561.88,1384.24 \n",
       "  \"/>\n",
       "<path clip-path=\"url(#clip292)\" d=\"\n",
       "M6641.96 1384.24 L6641.96 1384.24 L6722.05 1384.24 L6722.05 1384.24 L6641.96 1384.24 L6641.96 1384.24  Z\n",
       "  \" fill=\"#009af9\" fill-rule=\"evenodd\" fill-opacity=\"1\"/>\n",
       "<polyline clip-path=\"url(#clip292)\" style=\"stroke:#000000; stroke-linecap:butt; stroke-linejoin:round; stroke-width:4; stroke-opacity:1; fill:none\" points=\"\n",
       "  6641.96,1384.24 6641.96,1384.24 6722.05,1384.24 6641.96,1384.24 \n",
       "  \"/>\n",
       "<path clip-path=\"url(#clip292)\" d=\"\n",
       "M6722.05 1384.24 L6722.05 1384.24 L6802.13 1384.24 L6802.13 1384.24 L6722.05 1384.24 L6722.05 1384.24  Z\n",
       "  \" fill=\"#009af9\" fill-rule=\"evenodd\" fill-opacity=\"1\"/>\n",
       "<polyline clip-path=\"url(#clip292)\" style=\"stroke:#000000; stroke-linecap:butt; stroke-linejoin:round; stroke-width:4; stroke-opacity:1; fill:none\" points=\"\n",
       "  6722.05,1384.24 6722.05,1384.24 6802.13,1384.24 6722.05,1384.24 \n",
       "  \"/>\n",
       "<path clip-path=\"url(#clip292)\" d=\"\n",
       "M6802.13 1384.24 L6802.13 1384.24 L6882.22 1384.24 L6882.22 1384.24 L6802.13 1384.24 L6802.13 1384.24  Z\n",
       "  \" fill=\"#009af9\" fill-rule=\"evenodd\" fill-opacity=\"1\"/>\n",
       "<polyline clip-path=\"url(#clip292)\" style=\"stroke:#000000; stroke-linecap:butt; stroke-linejoin:round; stroke-width:4; stroke-opacity:1; fill:none\" points=\"\n",
       "  6802.13,1384.24 6802.13,1384.24 6882.22,1384.24 6802.13,1384.24 \n",
       "  \"/>\n",
       "<path clip-path=\"url(#clip292)\" d=\"\n",
       "M6882.22 1384.24 L6882.22 1384.24 L6962.3 1384.24 L6962.3 1384.24 L6882.22 1384.24 L6882.22 1384.24  Z\n",
       "  \" fill=\"#009af9\" fill-rule=\"evenodd\" fill-opacity=\"1\"/>\n",
       "<polyline clip-path=\"url(#clip292)\" style=\"stroke:#000000; stroke-linecap:butt; stroke-linejoin:round; stroke-width:4; stroke-opacity:1; fill:none\" points=\"\n",
       "  6882.22,1384.24 6882.22,1384.24 6962.3,1384.24 6882.22,1384.24 \n",
       "  \"/>\n",
       "<path clip-path=\"url(#clip292)\" d=\"\n",
       "M6962.3 1384.24 L6962.3 1384.24 L7042.39 1384.24 L7042.39 1384.24 L6962.3 1384.24 L6962.3 1384.24  Z\n",
       "  \" fill=\"#009af9\" fill-rule=\"evenodd\" fill-opacity=\"1\"/>\n",
       "<polyline clip-path=\"url(#clip292)\" style=\"stroke:#000000; stroke-linecap:butt; stroke-linejoin:round; stroke-width:4; stroke-opacity:1; fill:none\" points=\"\n",
       "  6962.3,1384.24 6962.3,1384.24 7042.39,1384.24 6962.3,1384.24 \n",
       "  \"/>\n",
       "<path clip-path=\"url(#clip292)\" d=\"\n",
       "M7042.39 1384.24 L7042.39 1384.24 L7122.47 1384.24 L7122.47 1384.24 L7042.39 1384.24 L7042.39 1384.24  Z\n",
       "  \" fill=\"#009af9\" fill-rule=\"evenodd\" fill-opacity=\"1\"/>\n",
       "<polyline clip-path=\"url(#clip292)\" style=\"stroke:#000000; stroke-linecap:butt; stroke-linejoin:round; stroke-width:4; stroke-opacity:1; fill:none\" points=\"\n",
       "  7042.39,1384.24 7042.39,1384.24 7122.47,1384.24 7042.39,1384.24 \n",
       "  \"/>\n",
       "<path clip-path=\"url(#clip292)\" d=\"\n",
       "M7122.47 1384.24 L7122.47 1384.24 L7202.56 1384.24 L7202.56 1384.24 L7122.47 1384.24 L7122.47 1384.24  Z\n",
       "  \" fill=\"#009af9\" fill-rule=\"evenodd\" fill-opacity=\"1\"/>\n",
       "<polyline clip-path=\"url(#clip292)\" style=\"stroke:#000000; stroke-linecap:butt; stroke-linejoin:round; stroke-width:4; stroke-opacity:1; fill:none\" points=\"\n",
       "  7122.47,1384.24 7122.47,1384.24 7202.56,1384.24 7122.47,1384.24 \n",
       "  \"/>\n",
       "<path clip-path=\"url(#clip292)\" d=\"\n",
       "M7202.56 1384.24 L7202.56 1384.24 L7282.64 1384.24 L7282.64 1384.24 L7202.56 1384.24 L7202.56 1384.24  Z\n",
       "  \" fill=\"#009af9\" fill-rule=\"evenodd\" fill-opacity=\"1\"/>\n",
       "<polyline clip-path=\"url(#clip292)\" style=\"stroke:#000000; stroke-linecap:butt; stroke-linejoin:round; stroke-width:4; stroke-opacity:1; fill:none\" points=\"\n",
       "  7202.56,1384.24 7202.56,1384.24 7282.64,1384.24 7202.56,1384.24 \n",
       "  \"/>\n",
       "<path clip-path=\"url(#clip292)\" d=\"\n",
       "M7282.64 1384.24 L7282.64 1384.24 L7362.73 1384.24 L7362.73 1384.24 L7282.64 1384.24 L7282.64 1384.24  Z\n",
       "  \" fill=\"#009af9\" fill-rule=\"evenodd\" fill-opacity=\"1\"/>\n",
       "<polyline clip-path=\"url(#clip292)\" style=\"stroke:#000000; stroke-linecap:butt; stroke-linejoin:round; stroke-width:4; stroke-opacity:1; fill:none\" points=\"\n",
       "  7282.64,1384.24 7282.64,1384.24 7362.73,1384.24 7282.64,1384.24 \n",
       "  \"/>\n",
       "<path clip-path=\"url(#clip292)\" d=\"\n",
       "M7362.73 1384.24 L7362.73 1384.24 L7442.81 1384.24 L7442.81 1384.24 L7362.73 1384.24 L7362.73 1384.24  Z\n",
       "  \" fill=\"#009af9\" fill-rule=\"evenodd\" fill-opacity=\"1\"/>\n",
       "<polyline clip-path=\"url(#clip292)\" style=\"stroke:#000000; stroke-linecap:butt; stroke-linejoin:round; stroke-width:4; stroke-opacity:1; fill:none\" points=\"\n",
       "  7362.73,1384.24 7362.73,1384.24 7442.81,1384.24 7362.73,1384.24 \n",
       "  \"/>\n",
       "<path clip-path=\"url(#clip292)\" d=\"\n",
       "M7442.81 1384.24 L7442.81 1384.24 L7522.9 1384.24 L7522.9 1384.24 L7442.81 1384.24 L7442.81 1384.24  Z\n",
       "  \" fill=\"#009af9\" fill-rule=\"evenodd\" fill-opacity=\"1\"/>\n",
       "<polyline clip-path=\"url(#clip292)\" style=\"stroke:#000000; stroke-linecap:butt; stroke-linejoin:round; stroke-width:4; stroke-opacity:1; fill:none\" points=\"\n",
       "  7442.81,1384.24 7442.81,1384.24 7522.9,1384.24 7442.81,1384.24 \n",
       "  \"/>\n",
       "<path clip-path=\"url(#clip292)\" d=\"\n",
       "M7522.9 1384.24 L7522.9 1384.24 L7602.98 1384.24 L7602.98 1384.24 L7522.9 1384.24 L7522.9 1384.24  Z\n",
       "  \" fill=\"#009af9\" fill-rule=\"evenodd\" fill-opacity=\"1\"/>\n",
       "<polyline clip-path=\"url(#clip292)\" style=\"stroke:#000000; stroke-linecap:butt; stroke-linejoin:round; stroke-width:4; stroke-opacity:1; fill:none\" points=\"\n",
       "  7522.9,1384.24 7522.9,1384.24 7602.98,1384.24 7522.9,1384.24 \n",
       "  \"/>\n",
       "<path clip-path=\"url(#clip292)\" d=\"\n",
       "M7602.98 1384.24 L7602.98 1384.24 L7683.06 1384.24 L7683.06 1384.24 L7602.98 1384.24 L7602.98 1384.24  Z\n",
       "  \" fill=\"#009af9\" fill-rule=\"evenodd\" fill-opacity=\"1\"/>\n",
       "<polyline clip-path=\"url(#clip292)\" style=\"stroke:#000000; stroke-linecap:butt; stroke-linejoin:round; stroke-width:4; stroke-opacity:1; fill:none\" points=\"\n",
       "  7602.98,1384.24 7602.98,1384.24 7683.06,1384.24 7602.98,1384.24 \n",
       "  \"/>\n",
       "<path clip-path=\"url(#clip292)\" d=\"\n",
       "M7683.06 1384.24 L7683.06 1384.24 L7763.15 1384.24 L7763.15 1384.24 L7683.06 1384.24 L7683.06 1384.24  Z\n",
       "  \" fill=\"#009af9\" fill-rule=\"evenodd\" fill-opacity=\"1\"/>\n",
       "<polyline clip-path=\"url(#clip292)\" style=\"stroke:#000000; stroke-linecap:butt; stroke-linejoin:round; stroke-width:4; stroke-opacity:1; fill:none\" points=\"\n",
       "  7683.06,1384.24 7683.06,1384.24 7763.15,1384.24 7683.06,1384.24 \n",
       "  \"/>\n",
       "<path clip-path=\"url(#clip292)\" d=\"\n",
       "M7763.15 1384.24 L7763.15 1384.24 L7843.23 1384.24 L7843.23 1384.24 L7763.15 1384.24 L7763.15 1384.24  Z\n",
       "  \" fill=\"#009af9\" fill-rule=\"evenodd\" fill-opacity=\"1\"/>\n",
       "<polyline clip-path=\"url(#clip292)\" style=\"stroke:#000000; stroke-linecap:butt; stroke-linejoin:round; stroke-width:4; stroke-opacity:1; fill:none\" points=\"\n",
       "  7763.15,1384.24 7763.15,1384.24 7843.23,1384.24 7763.15,1384.24 \n",
       "  \"/>\n",
       "<path clip-path=\"url(#clip292)\" d=\"\n",
       "M7843.23 1384.24 L7843.23 1384.24 L7923.32 1384.24 L7923.32 1384.24 L7843.23 1384.24 L7843.23 1384.24  Z\n",
       "  \" fill=\"#009af9\" fill-rule=\"evenodd\" fill-opacity=\"1\"/>\n",
       "<polyline clip-path=\"url(#clip292)\" style=\"stroke:#000000; stroke-linecap:butt; stroke-linejoin:round; stroke-width:4; stroke-opacity:1; fill:none\" points=\"\n",
       "  7843.23,1384.24 7843.23,1384.24 7923.32,1384.24 7843.23,1384.24 \n",
       "  \"/>\n",
       "<path clip-path=\"url(#clip292)\" d=\"\n",
       "M7923.32 1384.24 L7923.32 1384.24 L8003.4 1384.24 L8003.4 1384.24 L7923.32 1384.24 L7923.32 1384.24  Z\n",
       "  \" fill=\"#009af9\" fill-rule=\"evenodd\" fill-opacity=\"1\"/>\n",
       "<polyline clip-path=\"url(#clip292)\" style=\"stroke:#000000; stroke-linecap:butt; stroke-linejoin:round; stroke-width:4; stroke-opacity:1; fill:none\" points=\"\n",
       "  7923.32,1384.24 7923.32,1384.24 8003.4,1384.24 7923.32,1384.24 \n",
       "  \"/>\n",
       "<path clip-path=\"url(#clip292)\" d=\"\n",
       "M8003.4 1384.24 L8003.4 1384.24 L8083.49 1384.24 L8083.49 1384.24 L8003.4 1384.24 L8003.4 1384.24  Z\n",
       "  \" fill=\"#009af9\" fill-rule=\"evenodd\" fill-opacity=\"1\"/>\n",
       "<polyline clip-path=\"url(#clip292)\" style=\"stroke:#000000; stroke-linecap:butt; stroke-linejoin:round; stroke-width:4; stroke-opacity:1; fill:none\" points=\"\n",
       "  8003.4,1384.24 8003.4,1384.24 8083.49,1384.24 8003.4,1384.24 \n",
       "  \"/>\n",
       "<path clip-path=\"url(#clip292)\" d=\"\n",
       "M8083.49 1384.24 L8083.49 1384.24 L8163.57 1384.24 L8163.57 1384.24 L8083.49 1384.24 L8083.49 1384.24  Z\n",
       "  \" fill=\"#009af9\" fill-rule=\"evenodd\" fill-opacity=\"1\"/>\n",
       "<polyline clip-path=\"url(#clip292)\" style=\"stroke:#000000; stroke-linecap:butt; stroke-linejoin:round; stroke-width:4; stroke-opacity:1; fill:none\" points=\"\n",
       "  8083.49,1384.24 8083.49,1384.24 8163.57,1384.24 8083.49,1384.24 \n",
       "  \"/>\n",
       "<path clip-path=\"url(#clip292)\" d=\"\n",
       "M8163.57 1384.24 L8163.57 1384.24 L8243.66 1384.24 L8243.66 1384.24 L8163.57 1384.24 L8163.57 1384.24  Z\n",
       "  \" fill=\"#009af9\" fill-rule=\"evenodd\" fill-opacity=\"1\"/>\n",
       "<polyline clip-path=\"url(#clip292)\" style=\"stroke:#000000; stroke-linecap:butt; stroke-linejoin:round; stroke-width:4; stroke-opacity:1; fill:none\" points=\"\n",
       "  8163.57,1384.24 8163.57,1384.24 8243.66,1384.24 8163.57,1384.24 \n",
       "  \"/>\n",
       "<path clip-path=\"url(#clip292)\" d=\"\n",
       "M8243.66 1374.4 L8243.66 1384.24 L8323.74 1384.24 L8323.74 1374.4 L8243.66 1374.4 L8243.66 1374.4  Z\n",
       "  \" fill=\"#009af9\" fill-rule=\"evenodd\" fill-opacity=\"1\"/>\n",
       "<polyline clip-path=\"url(#clip292)\" style=\"stroke:#000000; stroke-linecap:butt; stroke-linejoin:round; stroke-width:4; stroke-opacity:1; fill:none\" points=\"\n",
       "  8243.66,1374.4 8243.66,1384.24 8323.74,1384.24 8323.74,1374.4 8243.66,1374.4 \n",
       "  \"/>\n",
       "<path clip-path=\"url(#clip292)\" d=\"\n",
       "M8323.74 1384.24 L8323.74 1384.24 L8403.83 1384.24 L8403.83 1384.24 L8323.74 1384.24 L8323.74 1384.24  Z\n",
       "  \" fill=\"#009af9\" fill-rule=\"evenodd\" fill-opacity=\"1\"/>\n",
       "<polyline clip-path=\"url(#clip292)\" style=\"stroke:#000000; stroke-linecap:butt; stroke-linejoin:round; stroke-width:4; stroke-opacity:1; fill:none\" points=\"\n",
       "  8323.74,1384.24 8323.74,1384.24 8403.83,1384.24 8323.74,1384.24 \n",
       "  \"/>\n",
       "<path clip-path=\"url(#clip292)\" d=\"\n",
       "M8403.83 1384.24 L8403.83 1384.24 L8483.91 1384.24 L8483.91 1384.24 L8403.83 1384.24 L8403.83 1384.24  Z\n",
       "  \" fill=\"#009af9\" fill-rule=\"evenodd\" fill-opacity=\"1\"/>\n",
       "<polyline clip-path=\"url(#clip292)\" style=\"stroke:#000000; stroke-linecap:butt; stroke-linejoin:round; stroke-width:4; stroke-opacity:1; fill:none\" points=\"\n",
       "  8403.83,1384.24 8403.83,1384.24 8483.91,1384.24 8403.83,1384.24 \n",
       "  \"/>\n",
       "<path clip-path=\"url(#clip292)\" d=\"\n",
       "M8483.91 1384.24 L8483.91 1384.24 L8564 1384.24 L8564 1384.24 L8483.91 1384.24 L8483.91 1384.24  Z\n",
       "  \" fill=\"#009af9\" fill-rule=\"evenodd\" fill-opacity=\"1\"/>\n",
       "<polyline clip-path=\"url(#clip292)\" style=\"stroke:#000000; stroke-linecap:butt; stroke-linejoin:round; stroke-width:4; stroke-opacity:1; fill:none\" points=\"\n",
       "  8483.91,1384.24 8483.91,1384.24 8564,1384.24 8483.91,1384.24 \n",
       "  \"/>\n",
       "<path clip-path=\"url(#clip292)\" d=\"\n",
       "M8564 1384.24 L8564 1384.24 L8644.08 1384.24 L8644.08 1384.24 L8564 1384.24 L8564 1384.24  Z\n",
       "  \" fill=\"#009af9\" fill-rule=\"evenodd\" fill-opacity=\"1\"/>\n",
       "<polyline clip-path=\"url(#clip292)\" style=\"stroke:#000000; stroke-linecap:butt; stroke-linejoin:round; stroke-width:4; stroke-opacity:1; fill:none\" points=\"\n",
       "  8564,1384.24 8564,1384.24 8644.08,1384.24 8564,1384.24 \n",
       "  \"/>\n",
       "<path clip-path=\"url(#clip292)\" d=\"\n",
       "M8644.08 1384.24 L8644.08 1384.24 L8724.17 1384.24 L8724.17 1384.24 L8644.08 1384.24 L8644.08 1384.24  Z\n",
       "  \" fill=\"#009af9\" fill-rule=\"evenodd\" fill-opacity=\"1\"/>\n",
       "<polyline clip-path=\"url(#clip292)\" style=\"stroke:#000000; stroke-linecap:butt; stroke-linejoin:round; stroke-width:4; stroke-opacity:1; fill:none\" points=\"\n",
       "  8644.08,1384.24 8644.08,1384.24 8724.17,1384.24 8644.08,1384.24 \n",
       "  \"/>\n",
       "<path clip-path=\"url(#clip292)\" d=\"\n",
       "M8724.17 1384.24 L8724.17 1384.24 L8804.25 1384.24 L8804.25 1384.24 L8724.17 1384.24 L8724.17 1384.24  Z\n",
       "  \" fill=\"#009af9\" fill-rule=\"evenodd\" fill-opacity=\"1\"/>\n",
       "<polyline clip-path=\"url(#clip292)\" style=\"stroke:#000000; stroke-linecap:butt; stroke-linejoin:round; stroke-width:4; stroke-opacity:1; fill:none\" points=\"\n",
       "  8724.17,1384.24 8724.17,1384.24 8804.25,1384.24 8724.17,1384.24 \n",
       "  \"/>\n",
       "<path clip-path=\"url(#clip292)\" d=\"\n",
       "M8804.25 1374.4 L8804.25 1384.24 L8884.34 1384.24 L8884.34 1374.4 L8804.25 1374.4 L8804.25 1374.4  Z\n",
       "  \" fill=\"#009af9\" fill-rule=\"evenodd\" fill-opacity=\"1\"/>\n",
       "<polyline clip-path=\"url(#clip292)\" style=\"stroke:#000000; stroke-linecap:butt; stroke-linejoin:round; stroke-width:4; stroke-opacity:1; fill:none\" points=\"\n",
       "  8804.25,1374.4 8804.25,1384.24 8884.34,1384.24 8884.34,1374.4 8804.25,1374.4 \n",
       "  \"/>\n",
       "<circle clip-path=\"url(#clip292)\" style=\"fill:#009af9; stroke:none; fill-opacity:0\" cx=\"755.738\" cy=\"1354.74\" r=\"2\"/>\n",
       "<circle clip-path=\"url(#clip292)\" style=\"fill:#009af9; stroke:none; fill-opacity:0\" cx=\"835.823\" cy=\"1059.73\" r=\"2\"/>\n",
       "<circle clip-path=\"url(#clip292)\" style=\"fill:#009af9; stroke:none; fill-opacity:0\" cx=\"915.907\" cy=\"450.034\" r=\"2\"/>\n",
       "<circle clip-path=\"url(#clip292)\" style=\"fill:#009af9; stroke:none; fill-opacity:0\" cx=\"995.992\" cy=\"174.689\" r=\"2\"/>\n",
       "<circle clip-path=\"url(#clip292)\" style=\"fill:#009af9; stroke:none; fill-opacity:0\" cx=\"1076.08\" cy=\"86.1857\" r=\"2\"/>\n",
       "<circle clip-path=\"url(#clip292)\" style=\"fill:#009af9; stroke:none; fill-opacity:0\" cx=\"1156.16\" cy=\"686.043\" r=\"2\"/>\n",
       "<circle clip-path=\"url(#clip292)\" style=\"fill:#009af9; stroke:none; fill-opacity:0\" cx=\"1236.25\" cy=\"784.381\" r=\"2\"/>\n",
       "<circle clip-path=\"url(#clip292)\" style=\"fill:#009af9; stroke:none; fill-opacity:0\" cx=\"1316.33\" cy=\"1138.39\" r=\"2\"/>\n",
       "<circle clip-path=\"url(#clip292)\" style=\"fill:#009af9; stroke:none; fill-opacity:0\" cx=\"1396.42\" cy=\"1217.06\" r=\"2\"/>\n",
       "<circle clip-path=\"url(#clip292)\" style=\"fill:#009af9; stroke:none; fill-opacity:0\" cx=\"1476.5\" cy=\"1295.73\" r=\"2\"/>\n",
       "<circle clip-path=\"url(#clip292)\" style=\"fill:#009af9; stroke:none; fill-opacity:0\" cx=\"1556.58\" cy=\"1344.9\" r=\"2\"/>\n",
       "<circle clip-path=\"url(#clip292)\" style=\"fill:#009af9; stroke:none; fill-opacity:0\" cx=\"1636.67\" cy=\"1354.74\" r=\"2\"/>\n",
       "<circle clip-path=\"url(#clip292)\" style=\"fill:#009af9; stroke:none; fill-opacity:0\" cx=\"1716.75\" cy=\"1374.4\" r=\"2\"/>\n",
       "<circle clip-path=\"url(#clip292)\" style=\"fill:#009af9; stroke:none; fill-opacity:0\" cx=\"1796.84\" cy=\"1384.24\" r=\"2\"/>\n",
       "<circle clip-path=\"url(#clip292)\" style=\"fill:#009af9; stroke:none; fill-opacity:0\" cx=\"1876.92\" cy=\"1374.4\" r=\"2\"/>\n",
       "<circle clip-path=\"url(#clip292)\" style=\"fill:#009af9; stroke:none; fill-opacity:0\" cx=\"1957.01\" cy=\"1384.24\" r=\"2\"/>\n",
       "<circle clip-path=\"url(#clip292)\" style=\"fill:#009af9; stroke:none; fill-opacity:0\" cx=\"2037.09\" cy=\"1374.4\" r=\"2\"/>\n",
       "<circle clip-path=\"url(#clip292)\" style=\"fill:#009af9; stroke:none; fill-opacity:0\" cx=\"2117.18\" cy=\"1384.24\" r=\"2\"/>\n",
       "<circle clip-path=\"url(#clip292)\" style=\"fill:#009af9; stroke:none; fill-opacity:0\" cx=\"2197.26\" cy=\"1384.24\" r=\"2\"/>\n",
       "<circle clip-path=\"url(#clip292)\" style=\"fill:#009af9; stroke:none; fill-opacity:0\" cx=\"2277.35\" cy=\"1384.24\" r=\"2\"/>\n",
       "</svg>\n"
      ]
     },
     "execution_count": 16,
     "metadata": {},
     "output_type": "execute_result"
    }
   ],
   "source": [
    "using Statistics\n",
    "t = c_bench.times / 1e6 # tempos em milisegundos\n",
    "m, σ = minimum(t), std(t)\n",
    "\n",
    "histogram(t, bins=100,\n",
    "    xlim=(m - σ, m + 3σ),\n",
    "    xlabel=\"milisegundos\", ylabel=\"Frequência\", label=\"\")"
   ]
  },
  {
   "cell_type": "markdown",
   "metadata": {},
   "source": [
    "## 2. C com -ffast-math\n",
    "\n",
    "Agora, vamos permitir que o C otimize suas operações de ponto flutuante.\n",
    "Dessa forma, ele vai vetorizar suas instruções usando [SIMD](https://en.wikipedia.org/wiki/SIMD) (single instruction, multiple data)."
   ]
  },
  {
   "cell_type": "code",
   "execution_count": 17,
   "metadata": {},
   "outputs": [
    {
     "data": {
      "text/plain": [
       "c_sum_fastmath (generic function with 1 method)"
      ]
     },
     "execution_count": 17,
     "metadata": {},
     "output_type": "execute_result"
    }
   ],
   "source": [
    "const Clib_fastmath = tempname()\n",
    "\n",
    "# Como acima mas agora com a opção -ffast-math\n",
    "open(`gcc -fPIC -O3 -msse3 -xc -shared -ffast-math -o $(Clib_fastmath * \".\" * Libdl.dlext) -`, \"w\") do f\n",
    "    print(f, C_code) \n",
    "end\n",
    "\n",
    "# Define uma função em Julia que chama a função em C\n",
    "c_sum_fastmath(X::Array{Float64}) = ccall((\"c_sum\", Clib_fastmath), Float64, (Csize_t, Ptr{Float64}), length(X), X)"
   ]
  },
  {
   "cell_type": "code",
   "execution_count": 18,
   "metadata": {},
   "outputs": [
    {
     "data": {
      "text/plain": [
       "BenchmarkTools.Trial: 965 samples with 1 evaluation.\n",
       " Range \u001b[90m(\u001b[39m\u001b[36m\u001b[1mmin\u001b[22m\u001b[39m … \u001b[35mmax\u001b[39m\u001b[90m):  \u001b[39m\u001b[36m\u001b[1m5.109 ms\u001b[22m\u001b[39m … \u001b[35m  6.695 ms\u001b[39m  \u001b[90m┊\u001b[39m GC \u001b[90m(\u001b[39mmin … max\u001b[90m): \u001b[39m0.00% … 0.00%\n",
       " Time  \u001b[90m(\u001b[39m\u001b[34m\u001b[1mmedian\u001b[22m\u001b[39m\u001b[90m):     \u001b[39m\u001b[34m\u001b[1m5.142 ms               \u001b[22m\u001b[39m\u001b[90m┊\u001b[39m GC \u001b[90m(\u001b[39mmedian\u001b[90m):    \u001b[39m0.00%\n",
       " Time  \u001b[90m(\u001b[39m\u001b[32m\u001b[1mmean\u001b[22m\u001b[39m ± \u001b[32mσ\u001b[39m\u001b[90m):   \u001b[39m\u001b[32m\u001b[1m5.171 ms\u001b[22m\u001b[39m ± \u001b[32m173.996 μs\u001b[39m  \u001b[90m┊\u001b[39m GC \u001b[90m(\u001b[39mmean ± σ\u001b[90m):  \u001b[39m0.00% ± 0.00%\n",
       "\n",
       "  \u001b[39m▃\u001b[34m█\u001b[39m\u001b[39m▃\u001b[32m \u001b[39m\u001b[39m \u001b[39m \u001b[39m \u001b[39m \u001b[39m \u001b[39m \u001b[39m \u001b[39m \u001b[39m \u001b[39m \u001b[39m \u001b[39m \u001b[39m \u001b[39m \u001b[39m \u001b[39m \u001b[39m \u001b[39m \u001b[39m \u001b[39m \u001b[39m \u001b[39m \u001b[39m \u001b[39m \u001b[39m \u001b[39m \u001b[39m \u001b[39m \u001b[39m \u001b[39m \u001b[39m \u001b[39m \u001b[39m \u001b[39m \u001b[39m \u001b[39m \u001b[39m \u001b[39m \u001b[39m \u001b[39m \u001b[39m \u001b[39m \u001b[39m \u001b[39m \u001b[39m \u001b[39m \u001b[39m \u001b[39m \u001b[39m \u001b[39m \u001b[39m \u001b[39m \u001b[39m \u001b[39m \u001b[39m \u001b[39m \u001b[39m \n",
       "  \u001b[39m█\u001b[34m█\u001b[39m\u001b[39m█\u001b[32m▇\u001b[39m\u001b[39m▅\u001b[39m▄\u001b[39m▁\u001b[39m▅\u001b[39m▁\u001b[39m▆\u001b[39m▅\u001b[39m▆\u001b[39m▅\u001b[39m▅\u001b[39m▁\u001b[39m▄\u001b[39m▁\u001b[39m▁\u001b[39m▁\u001b[39m▁\u001b[39m▄\u001b[39m▁\u001b[39m▃\u001b[39m▁\u001b[39m▁\u001b[39m▁\u001b[39m▁\u001b[39m▁\u001b[39m▁\u001b[39m▁\u001b[39m▁\u001b[39m▁\u001b[39m▁\u001b[39m▁\u001b[39m▁\u001b[39m▁\u001b[39m▃\u001b[39m▁\u001b[39m▁\u001b[39m▁\u001b[39m▁\u001b[39m▁\u001b[39m▁\u001b[39m▁\u001b[39m▁\u001b[39m▁\u001b[39m▁\u001b[39m▁\u001b[39m▁\u001b[39m▃\u001b[39m▃\u001b[39m▁\u001b[39m▁\u001b[39m▁\u001b[39m▁\u001b[39m▁\u001b[39m▁\u001b[39m▃\u001b[39m▃\u001b[39m \u001b[39m▇\n",
       "  5.11 ms\u001b[90m      \u001b[39m\u001b[90mHistogram: \u001b[39m\u001b[90m\u001b[1mlog(\u001b[22m\u001b[39m\u001b[90mfrequency\u001b[39m\u001b[90m\u001b[1m)\u001b[22m\u001b[39m\u001b[90m by time\u001b[39m      6.43 ms \u001b[0m\u001b[1m<\u001b[22m\n",
       "\n",
       " Memory estimate\u001b[90m: \u001b[39m\u001b[33m0 bytes\u001b[39m, allocs estimate\u001b[90m: \u001b[39m\u001b[33m0\u001b[39m."
      ]
     },
     "execution_count": 18,
     "metadata": {},
     "output_type": "execute_result"
    }
   ],
   "source": [
    "c_fastmath_bench = @benchmark $c_sum_fastmath($a)"
   ]
  },
  {
   "cell_type": "code",
   "execution_count": 19,
   "metadata": {},
   "outputs": [
    {
     "data": {
      "text/plain": [
       "5.109058"
      ]
     },
     "execution_count": 19,
     "metadata": {},
     "output_type": "execute_result"
    }
   ],
   "source": [
    "d[\"C com -ffast-math\"] = minimum(c_fastmath_bench.times) / 1e6  # em milisegundos"
   ]
  },
  {
   "cell_type": "markdown",
   "metadata": {},
   "source": [
    "## 3. Python\n",
    "\n",
    "O pacote `PyCall` fornece uma interface entre a Julia e o Python:"
   ]
  },
  {
   "cell_type": "code",
   "execution_count": 20,
   "metadata": {},
   "outputs": [
    {
     "name": "stderr",
     "output_type": "stream",
     "text": [
      "\u001b[32m\u001b[1m   Resolving\u001b[22m\u001b[39m package versions...\n",
      "\u001b[32m\u001b[1m  No Changes\u001b[22m\u001b[39m to `~/Sync/julia-breve-intro/Project.toml`\n",
      "\u001b[32m\u001b[1m  No Changes\u001b[22m\u001b[39m to `~/Sync/julia-breve-intro/Manifest.toml`\n"
     ]
    }
   ],
   "source": [
    "Pkg.add(\"PyCall\")"
   ]
  },
  {
   "cell_type": "code",
   "execution_count": 21,
   "metadata": {},
   "outputs": [],
   "source": [
    "using PyCall"
   ]
  },
  {
   "cell_type": "code",
   "execution_count": 22,
   "metadata": {},
   "outputs": [
    {
     "data": {
      "text/plain": [
       "PyObject <built-in function sum>"
      ]
     },
     "execution_count": 22,
     "metadata": {},
     "output_type": "execute_result"
    }
   ],
   "source": [
    "# Importa a função \"sum\" do Python\n",
    "pysum = pybuiltin(\"sum\")"
   ]
  },
  {
   "cell_type": "code",
   "execution_count": 23,
   "metadata": {},
   "outputs": [
    {
     "name": "stderr",
     "output_type": "stream",
     "text": [
      "┌ Warning: `vendor()` is deprecated, use `BLAS.get_config()` and inspect the output instead\n",
      "│   caller = npyinitialize() at numpy.jl:67\n",
      "└ @ PyCall /home/goliveir/.julia/packages/PyCall/L0fLP/src/numpy.jl:67\n"
     ]
    },
    {
     "data": {
      "text/plain": [
       "5.001380361682002e6"
      ]
     },
     "execution_count": 23,
     "metadata": {},
     "output_type": "execute_result"
    }
   ],
   "source": [
    "pysum(a)"
   ]
  },
  {
   "cell_type": "code",
   "execution_count": 24,
   "metadata": {},
   "outputs": [
    {
     "data": {
      "text/plain": [
       "true"
      ]
     },
     "execution_count": 24,
     "metadata": {},
     "output_type": "execute_result"
    }
   ],
   "source": [
    "pysum(a) ≈ sum(a)"
   ]
  },
  {
   "cell_type": "code",
   "execution_count": 25,
   "metadata": {},
   "outputs": [
    {
     "data": {
      "text/plain": [
       "BenchmarkTools.Trial: 6 samples with 1 evaluation.\n",
       " Range \u001b[90m(\u001b[39m\u001b[36m\u001b[1mmin\u001b[22m\u001b[39m … \u001b[35mmax\u001b[39m\u001b[90m):  \u001b[39m\u001b[36m\u001b[1m858.731 ms\u001b[22m\u001b[39m … \u001b[35m869.687 ms\u001b[39m  \u001b[90m┊\u001b[39m GC \u001b[90m(\u001b[39mmin … max\u001b[90m): \u001b[39m0.00% … 0.00%\n",
       " Time  \u001b[90m(\u001b[39m\u001b[34m\u001b[1mmedian\u001b[22m\u001b[39m\u001b[90m):     \u001b[39m\u001b[34m\u001b[1m865.584 ms               \u001b[22m\u001b[39m\u001b[90m┊\u001b[39m GC \u001b[90m(\u001b[39mmedian\u001b[90m):    \u001b[39m0.00%\n",
       " Time  \u001b[90m(\u001b[39m\u001b[32m\u001b[1mmean\u001b[22m\u001b[39m ± \u001b[32mσ\u001b[39m\u001b[90m):   \u001b[39m\u001b[32m\u001b[1m865.269 ms\u001b[22m\u001b[39m ± \u001b[32m  3.651 ms\u001b[39m  \u001b[90m┊\u001b[39m GC \u001b[90m(\u001b[39mmean ± σ\u001b[90m):  \u001b[39m0.00% ± 0.00%\n",
       "\n",
       "  \u001b[39m▁\u001b[39m \u001b[39m \u001b[39m \u001b[39m \u001b[39m \u001b[39m \u001b[39m \u001b[39m \u001b[39m \u001b[39m \u001b[39m \u001b[39m \u001b[39m \u001b[39m \u001b[39m \u001b[39m \u001b[39m \u001b[39m \u001b[39m \u001b[39m \u001b[39m \u001b[39m \u001b[39m \u001b[39m \u001b[39m \u001b[39m \u001b[39m \u001b[39m \u001b[39m \u001b[39m \u001b[39m \u001b[39m \u001b[39m \u001b[39m█\u001b[34m \u001b[39m\u001b[32m \u001b[39m\u001b[39m \u001b[39m \u001b[39m \u001b[39m \u001b[39m▁\u001b[39m \u001b[39m \u001b[39m \u001b[39m \u001b[39m▁\u001b[39m \u001b[39m \u001b[39m \u001b[39m \u001b[39m \u001b[39m \u001b[39m \u001b[39m \u001b[39m \u001b[39m \u001b[39m \u001b[39m \u001b[39m \u001b[39m▁\u001b[39m \u001b[39m \n",
       "  \u001b[39m█\u001b[39m▁\u001b[39m▁\u001b[39m▁\u001b[39m▁\u001b[39m▁\u001b[39m▁\u001b[39m▁\u001b[39m▁\u001b[39m▁\u001b[39m▁\u001b[39m▁\u001b[39m▁\u001b[39m▁\u001b[39m▁\u001b[39m▁\u001b[39m▁\u001b[39m▁\u001b[39m▁\u001b[39m▁\u001b[39m▁\u001b[39m▁\u001b[39m▁\u001b[39m▁\u001b[39m▁\u001b[39m▁\u001b[39m▁\u001b[39m▁\u001b[39m▁\u001b[39m▁\u001b[39m▁\u001b[39m▁\u001b[39m▁\u001b[39m▁\u001b[39m█\u001b[34m▁\u001b[39m\u001b[32m▁\u001b[39m\u001b[39m▁\u001b[39m▁\u001b[39m▁\u001b[39m▁\u001b[39m█\u001b[39m▁\u001b[39m▁\u001b[39m▁\u001b[39m▁\u001b[39m█\u001b[39m▁\u001b[39m▁\u001b[39m▁\u001b[39m▁\u001b[39m▁\u001b[39m▁\u001b[39m▁\u001b[39m▁\u001b[39m▁\u001b[39m▁\u001b[39m▁\u001b[39m▁\u001b[39m▁\u001b[39m█\u001b[39m \u001b[39m▁\n",
       "  859 ms\u001b[90m           Histogram: frequency by time\u001b[39m          870 ms \u001b[0m\u001b[1m<\u001b[22m\n",
       "\n",
       " Memory estimate\u001b[90m: \u001b[39m\u001b[33m240 bytes\u001b[39m, allocs estimate\u001b[90m: \u001b[39m\u001b[33m6\u001b[39m."
      ]
     },
     "execution_count": 25,
     "metadata": {},
     "output_type": "execute_result"
    }
   ],
   "source": [
    "py_list_bench = @benchmark $pysum($a)"
   ]
  },
  {
   "cell_type": "code",
   "execution_count": 26,
   "metadata": {},
   "outputs": [
    {
     "data": {
      "text/plain": [
       "Dict{Any, Any} with 3 entries:\n",
       "  \"C com -ffast-math\" => 5.10906\n",
       "  \"C\"                 => 8.52292\n",
       "  \"Python\"            => 858.731"
      ]
     },
     "execution_count": 26,
     "metadata": {},
     "output_type": "execute_result"
    }
   ],
   "source": [
    "d[\"Python\"] = minimum(py_list_bench.times) / 1e6\n",
    "d"
   ]
  },
  {
   "cell_type": "markdown",
   "metadata": {},
   "source": [
    "## 4. Python `numpy`\n",
    "\n",
    "A biblioteca `numpy` do Python é escrita em C e também utiliza SIMD.\n",
    "Essa biblioteca pode ser instalada na Julia da seguinte forma:"
   ]
  },
  {
   "cell_type": "code",
   "execution_count": 27,
   "metadata": {},
   "outputs": [
    {
     "name": "stderr",
     "output_type": "stream",
     "text": [
      "\u001b[32m\u001b[1m   Resolving\u001b[22m\u001b[39m package versions...\n",
      "\u001b[32m\u001b[1m  No Changes\u001b[22m\u001b[39m to `~/Sync/julia-breve-intro/Project.toml`\n",
      "\u001b[32m\u001b[1m  No Changes\u001b[22m\u001b[39m to `~/Sync/julia-breve-intro/Manifest.toml`\n"
     ]
    }
   ],
   "source": [
    "Pkg.add(\"Conda\")"
   ]
  },
  {
   "cell_type": "code",
   "execution_count": 28,
   "metadata": {},
   "outputs": [],
   "source": [
    "using Conda"
   ]
  },
  {
   "cell_type": "code",
   "execution_count": 29,
   "metadata": {},
   "outputs": [
    {
     "data": {
      "text/plain": [
       "BenchmarkTools.Trial: 1308 samples with 1 evaluation.\n",
       " Range \u001b[90m(\u001b[39m\u001b[36m\u001b[1mmin\u001b[22m\u001b[39m … \u001b[35mmax\u001b[39m\u001b[90m):  \u001b[39m\u001b[36m\u001b[1m3.783 ms\u001b[22m\u001b[39m … \u001b[35m 4.372 ms\u001b[39m  \u001b[90m┊\u001b[39m GC \u001b[90m(\u001b[39mmin … max\u001b[90m): \u001b[39m0.00% … 0.00%\n",
       " Time  \u001b[90m(\u001b[39m\u001b[34m\u001b[1mmedian\u001b[22m\u001b[39m\u001b[90m):     \u001b[39m\u001b[34m\u001b[1m3.801 ms              \u001b[22m\u001b[39m\u001b[90m┊\u001b[39m GC \u001b[90m(\u001b[39mmedian\u001b[90m):    \u001b[39m0.00%\n",
       " Time  \u001b[90m(\u001b[39m\u001b[32m\u001b[1mmean\u001b[22m\u001b[39m ± \u001b[32mσ\u001b[39m\u001b[90m):   \u001b[39m\u001b[32m\u001b[1m3.810 ms\u001b[22m\u001b[39m ± \u001b[32m36.307 μs\u001b[39m  \u001b[90m┊\u001b[39m GC \u001b[90m(\u001b[39mmean ± σ\u001b[90m):  \u001b[39m0.00% ± 0.00%\n",
       "\n",
       "  \u001b[39m▂\u001b[39m▄\u001b[39m▅\u001b[39m▇\u001b[39m█\u001b[34m█\u001b[39m\u001b[39m▇\u001b[39m▅\u001b[32m▅\u001b[39m\u001b[39m▄\u001b[39m▁\u001b[39m▂\u001b[39m \u001b[39m \u001b[39m \u001b[39m \u001b[39m \u001b[39m \u001b[39m \u001b[39m \u001b[39m \u001b[39m \u001b[39m \u001b[39m \u001b[39m \u001b[39m \u001b[39m \u001b[39m \u001b[39m \u001b[39m \u001b[39m \u001b[39m \u001b[39m \u001b[39m \u001b[39m \u001b[39m \u001b[39m \u001b[39m \u001b[39m \u001b[39m \u001b[39m \u001b[39m \u001b[39m \u001b[39m \u001b[39m \u001b[39m \u001b[39m \u001b[39m \u001b[39m \u001b[39m \u001b[39m \u001b[39m \u001b[39m \u001b[39m \u001b[39m \u001b[39m \u001b[39m \u001b[39m \u001b[39m \u001b[39m▁\n",
       "  \u001b[39m█\u001b[39m█\u001b[39m█\u001b[39m█\u001b[39m█\u001b[34m█\u001b[39m\u001b[39m█\u001b[39m█\u001b[32m█\u001b[39m\u001b[39m█\u001b[39m█\u001b[39m█\u001b[39m▇\u001b[39m▇\u001b[39m█\u001b[39m▇\u001b[39m▇\u001b[39m▆\u001b[39m▆\u001b[39m▇\u001b[39m▆\u001b[39m▆\u001b[39m▄\u001b[39m▅\u001b[39m█\u001b[39m▇\u001b[39m▆\u001b[39m▇\u001b[39m▆\u001b[39m▆\u001b[39m▇\u001b[39m▆\u001b[39m▄\u001b[39m▄\u001b[39m▅\u001b[39m▄\u001b[39m▄\u001b[39m▆\u001b[39m▁\u001b[39m▄\u001b[39m▅\u001b[39m▁\u001b[39m▆\u001b[39m▁\u001b[39m▄\u001b[39m▁\u001b[39m▁\u001b[39m▁\u001b[39m▁\u001b[39m▅\u001b[39m▄\u001b[39m▄\u001b[39m▁\u001b[39m▄\u001b[39m▄\u001b[39m▄\u001b[39m▁\u001b[39m▅\u001b[39m \u001b[39m█\n",
       "  3.78 ms\u001b[90m      \u001b[39m\u001b[90mHistogram: \u001b[39m\u001b[90m\u001b[1mlog(\u001b[22m\u001b[39m\u001b[90mfrequency\u001b[39m\u001b[90m\u001b[1m)\u001b[22m\u001b[39m\u001b[90m by time\u001b[39m     3.98 ms \u001b[0m\u001b[1m<\u001b[22m\n",
       "\n",
       " Memory estimate\u001b[90m: \u001b[39m\u001b[33m240 bytes\u001b[39m, allocs estimate\u001b[90m: \u001b[39m\u001b[33m6\u001b[39m."
      ]
     },
     "execution_count": 29,
     "metadata": {},
     "output_type": "execute_result"
    }
   ],
   "source": [
    "numpy_sum = pyimport(\"numpy\")[\"sum\"]\n",
    "\n",
    "py_numpy_bench = @benchmark $numpy_sum($a)"
   ]
  },
  {
   "cell_type": "code",
   "execution_count": 30,
   "metadata": {},
   "outputs": [
    {
     "data": {
      "text/plain": [
       "5.001380361681759e6"
      ]
     },
     "execution_count": 30,
     "metadata": {},
     "output_type": "execute_result"
    }
   ],
   "source": [
    "numpy_sum(a)"
   ]
  },
  {
   "cell_type": "code",
   "execution_count": 31,
   "metadata": {},
   "outputs": [
    {
     "data": {
      "text/plain": [
       "true"
      ]
     },
     "execution_count": 31,
     "metadata": {},
     "output_type": "execute_result"
    }
   ],
   "source": [
    "numpy_sum(a) ≈ sum(a)"
   ]
  },
  {
   "cell_type": "code",
   "execution_count": 32,
   "metadata": {},
   "outputs": [
    {
     "data": {
      "text/plain": [
       "Dict{Any, Any} with 4 entries:\n",
       "  \"C com -ffast-math\" => 5.10906\n",
       "  \"C\"                 => 8.52292\n",
       "  \"Python numpy\"      => 3.78258\n",
       "  \"Python\"            => 858.731"
      ]
     },
     "execution_count": 32,
     "metadata": {},
     "output_type": "execute_result"
    }
   ],
   "source": [
    "d[\"Python numpy\"] = minimum(py_numpy_bench.times) / 1e6\n",
    "d"
   ]
  },
  {
   "cell_type": "markdown",
   "metadata": {},
   "source": [
    "## 5. Python (escrito à mão)"
   ]
  },
  {
   "cell_type": "code",
   "execution_count": 33,
   "metadata": {},
   "outputs": [
    {
     "data": {
      "text/plain": [
       "PyObject <function py_sum at 0x7fb3e19f68c0>"
      ]
     },
     "execution_count": 33,
     "metadata": {},
     "output_type": "execute_result"
    }
   ],
   "source": [
    "py\"\"\"\n",
    "def py_sum(A):\n",
    "    s = 0.0\n",
    "    for a in A:\n",
    "        s += a\n",
    "    return s\n",
    "\"\"\"\n",
    "\n",
    "sum_py = py\"py_sum\""
   ]
  },
  {
   "cell_type": "code",
   "execution_count": 34,
   "metadata": {},
   "outputs": [
    {
     "data": {
      "text/plain": [
       "BenchmarkTools.Trial: 5 samples with 1 evaluation.\n",
       " Range \u001b[90m(\u001b[39m\u001b[36m\u001b[1mmin\u001b[22m\u001b[39m … \u001b[35mmax\u001b[39m\u001b[90m):  \u001b[39m\u001b[36m\u001b[1m1.136 s\u001b[22m\u001b[39m … \u001b[35m  1.184 s\u001b[39m  \u001b[90m┊\u001b[39m GC \u001b[90m(\u001b[39mmin … max\u001b[90m): \u001b[39m0.00% … 0.00%\n",
       " Time  \u001b[90m(\u001b[39m\u001b[34m\u001b[1mmedian\u001b[22m\u001b[39m\u001b[90m):     \u001b[39m\u001b[34m\u001b[1m1.139 s              \u001b[22m\u001b[39m\u001b[90m┊\u001b[39m GC \u001b[90m(\u001b[39mmedian\u001b[90m):    \u001b[39m0.00%\n",
       " Time  \u001b[90m(\u001b[39m\u001b[32m\u001b[1mmean\u001b[22m\u001b[39m ± \u001b[32mσ\u001b[39m\u001b[90m):   \u001b[39m\u001b[32m\u001b[1m1.147 s\u001b[22m\u001b[39m ± \u001b[32m20.232 ms\u001b[39m  \u001b[90m┊\u001b[39m GC \u001b[90m(\u001b[39mmean ± σ\u001b[90m):  \u001b[39m0.00% ± 0.00%\n",
       "\n",
       "  \u001b[39m█\u001b[39m \u001b[39m█\u001b[34m█\u001b[39m\u001b[39m█\u001b[39m \u001b[39m \u001b[39m \u001b[39m \u001b[39m \u001b[39m \u001b[39m \u001b[39m \u001b[39m \u001b[32m \u001b[39m\u001b[39m \u001b[39m \u001b[39m \u001b[39m \u001b[39m \u001b[39m \u001b[39m \u001b[39m \u001b[39m \u001b[39m \u001b[39m \u001b[39m \u001b[39m \u001b[39m \u001b[39m \u001b[39m \u001b[39m \u001b[39m \u001b[39m \u001b[39m \u001b[39m \u001b[39m \u001b[39m \u001b[39m \u001b[39m \u001b[39m \u001b[39m \u001b[39m \u001b[39m \u001b[39m \u001b[39m \u001b[39m \u001b[39m \u001b[39m \u001b[39m \u001b[39m \u001b[39m \u001b[39m \u001b[39m \u001b[39m \u001b[39m \u001b[39m█\u001b[39m \u001b[39m \n",
       "  \u001b[39m█\u001b[39m▁\u001b[39m█\u001b[34m█\u001b[39m\u001b[39m█\u001b[39m▁\u001b[39m▁\u001b[39m▁\u001b[39m▁\u001b[39m▁\u001b[39m▁\u001b[39m▁\u001b[39m▁\u001b[39m▁\u001b[32m▁\u001b[39m\u001b[39m▁\u001b[39m▁\u001b[39m▁\u001b[39m▁\u001b[39m▁\u001b[39m▁\u001b[39m▁\u001b[39m▁\u001b[39m▁\u001b[39m▁\u001b[39m▁\u001b[39m▁\u001b[39m▁\u001b[39m▁\u001b[39m▁\u001b[39m▁\u001b[39m▁\u001b[39m▁\u001b[39m▁\u001b[39m▁\u001b[39m▁\u001b[39m▁\u001b[39m▁\u001b[39m▁\u001b[39m▁\u001b[39m▁\u001b[39m▁\u001b[39m▁\u001b[39m▁\u001b[39m▁\u001b[39m▁\u001b[39m▁\u001b[39m▁\u001b[39m▁\u001b[39m▁\u001b[39m▁\u001b[39m▁\u001b[39m▁\u001b[39m▁\u001b[39m▁\u001b[39m▁\u001b[39m█\u001b[39m \u001b[39m▁\n",
       "  1.14 s\u001b[90m         Histogram: frequency by time\u001b[39m        1.18 s \u001b[0m\u001b[1m<\u001b[22m\n",
       "\n",
       " Memory estimate\u001b[90m: \u001b[39m\u001b[33m240 bytes\u001b[39m, allocs estimate\u001b[90m: \u001b[39m\u001b[33m6\u001b[39m."
      ]
     },
     "execution_count": 34,
     "metadata": {},
     "output_type": "execute_result"
    }
   ],
   "source": [
    "py_hand = @benchmark $sum_py($a)"
   ]
  },
  {
   "cell_type": "code",
   "execution_count": 35,
   "metadata": {},
   "outputs": [
    {
     "data": {
      "text/plain": [
       "5.001380361682002e6"
      ]
     },
     "execution_count": 35,
     "metadata": {},
     "output_type": "execute_result"
    }
   ],
   "source": [
    "sum_py(a)"
   ]
  },
  {
   "cell_type": "code",
   "execution_count": 36,
   "metadata": {},
   "outputs": [
    {
     "data": {
      "text/plain": [
       "true"
      ]
     },
     "execution_count": 36,
     "metadata": {},
     "output_type": "execute_result"
    }
   ],
   "source": [
    "sum_py(a) ≈ sum(a)"
   ]
  },
  {
   "cell_type": "code",
   "execution_count": 37,
   "metadata": {},
   "outputs": [
    {
     "data": {
      "text/plain": [
       "Dict{Any, Any} with 5 entries:\n",
       "  \"C com -ffast-math\"    => 5.10906\n",
       "  \"Python escrito à mão\" => 1136.02\n",
       "  \"C\"                    => 8.52292\n",
       "  \"Python numpy\"         => 3.78258\n",
       "  \"Python\"               => 858.731"
      ]
     },
     "execution_count": 37,
     "metadata": {},
     "output_type": "execute_result"
    }
   ],
   "source": [
    "d[\"Python escrito à mão\"] = minimum(py_hand.times) / 1e6\n",
    "d"
   ]
  },
  {
   "cell_type": "markdown",
   "metadata": {},
   "source": [
    "## 6. Julia\n",
    "\n",
    "Em Julia, a função `sum` é escrita em Julia, não em C."
   ]
  },
  {
   "cell_type": "code",
   "execution_count": 38,
   "metadata": {},
   "outputs": [
    {
     "data": {
      "text/html": [
       "sum(a::<b>AbstractArray</b>; <i>dims, kw...</i>) in Base at <a href=\"https://github.com/JuliaLang/julia/tree/bf534986350a991e4a1b29126de0342ffd76205e/base/reducedim.jl#L889\" target=\"_blank\">reducedim.jl:889</a>"
      ],
      "text/plain": [
       "sum(a::AbstractArray; dims, kw...) in Base at reducedim.jl:889"
      ]
     },
     "execution_count": 38,
     "metadata": {},
     "output_type": "execute_result"
    }
   ],
   "source": [
    "@which sum(a)"
   ]
  },
  {
   "cell_type": "code",
   "execution_count": 39,
   "metadata": {},
   "outputs": [
    {
     "data": {
      "text/plain": [
       "BenchmarkTools.Trial: 1263 samples with 1 evaluation.\n",
       " Range \u001b[90m(\u001b[39m\u001b[36m\u001b[1mmin\u001b[22m\u001b[39m … \u001b[35mmax\u001b[39m\u001b[90m):  \u001b[39m\u001b[36m\u001b[1m3.842 ms\u001b[22m\u001b[39m … \u001b[35m  5.857 ms\u001b[39m  \u001b[90m┊\u001b[39m GC \u001b[90m(\u001b[39mmin … max\u001b[90m): \u001b[39m0.00% … 0.00%\n",
       " Time  \u001b[90m(\u001b[39m\u001b[34m\u001b[1mmedian\u001b[22m\u001b[39m\u001b[90m):     \u001b[39m\u001b[34m\u001b[1m3.860 ms               \u001b[22m\u001b[39m\u001b[90m┊\u001b[39m GC \u001b[90m(\u001b[39mmedian\u001b[90m):    \u001b[39m0.00%\n",
       " Time  \u001b[90m(\u001b[39m\u001b[32m\u001b[1mmean\u001b[22m\u001b[39m ± \u001b[32mσ\u001b[39m\u001b[90m):   \u001b[39m\u001b[32m\u001b[1m3.946 ms\u001b[22m\u001b[39m ± \u001b[32m320.854 μs\u001b[39m  \u001b[90m┊\u001b[39m GC \u001b[90m(\u001b[39mmean ± σ\u001b[90m):  \u001b[39m0.00% ± 0.00%\n",
       "\n",
       "  \u001b[39m█\u001b[34m▃\u001b[39m\u001b[39m▃\u001b[32m▁\u001b[39m\u001b[39m \u001b[39m \u001b[39m \u001b[39m \u001b[39m \u001b[39m \u001b[39m \u001b[39m \u001b[39m \u001b[39m \u001b[39m \u001b[39m \u001b[39m \u001b[39m \u001b[39m \u001b[39m \u001b[39m \u001b[39m \u001b[39m \u001b[39m \u001b[39m \u001b[39m \u001b[39m \u001b[39m \u001b[39m \u001b[39m \u001b[39m \u001b[39m \u001b[39m \u001b[39m \u001b[39m \u001b[39m \u001b[39m \u001b[39m \u001b[39m \u001b[39m \u001b[39m \u001b[39m \u001b[39m \u001b[39m \u001b[39m \u001b[39m \u001b[39m \u001b[39m \u001b[39m \u001b[39m \u001b[39m \u001b[39m \u001b[39m \u001b[39m \u001b[39m \u001b[39m \u001b[39m \u001b[39m \u001b[39m \u001b[39m \u001b[39m \n",
       "  \u001b[39m█\u001b[34m█\u001b[39m\u001b[39m█\u001b[32m█\u001b[39m\u001b[39m█\u001b[39m▇\u001b[39m▅\u001b[39m▇\u001b[39m▆\u001b[39m▆\u001b[39m▃\u001b[39m▆\u001b[39m▃\u001b[39m▄\u001b[39m▅\u001b[39m▅\u001b[39m▃\u001b[39m▃\u001b[39m▅\u001b[39m▁\u001b[39m▁\u001b[39m▁\u001b[39m▃\u001b[39m▃\u001b[39m▁\u001b[39m▁\u001b[39m▁\u001b[39m▁\u001b[39m▃\u001b[39m▁\u001b[39m▃\u001b[39m▄\u001b[39m▃\u001b[39m▁\u001b[39m▁\u001b[39m▁\u001b[39m▁\u001b[39m▃\u001b[39m▃\u001b[39m▁\u001b[39m▁\u001b[39m▃\u001b[39m▃\u001b[39m▁\u001b[39m▃\u001b[39m▃\u001b[39m▁\u001b[39m▄\u001b[39m▁\u001b[39m▃\u001b[39m▃\u001b[39m▄\u001b[39m▆\u001b[39m▅\u001b[39m▃\u001b[39m▅\u001b[39m▄\u001b[39m▃\u001b[39m▆\u001b[39m \u001b[39m▇\n",
       "  3.84 ms\u001b[90m      \u001b[39m\u001b[90mHistogram: \u001b[39m\u001b[90m\u001b[1mlog(\u001b[22m\u001b[39m\u001b[90mfrequency\u001b[39m\u001b[90m\u001b[1m)\u001b[22m\u001b[39m\u001b[90m by time\u001b[39m      5.64 ms \u001b[0m\u001b[1m<\u001b[22m\n",
       "\n",
       " Memory estimate\u001b[90m: \u001b[39m\u001b[33m0 bytes\u001b[39m, allocs estimate\u001b[90m: \u001b[39m\u001b[33m0\u001b[39m."
      ]
     },
     "execution_count": 39,
     "metadata": {},
     "output_type": "execute_result"
    }
   ],
   "source": [
    "j_bench = @benchmark sum($a)"
   ]
  },
  {
   "cell_type": "code",
   "execution_count": 40,
   "metadata": {},
   "outputs": [
    {
     "data": {
      "text/plain": [
       "Dict{Any, Any} with 6 entries:\n",
       "  \"C com -ffast-math\"    => 5.10906\n",
       "  \"Python escrito à mão\" => 1136.02\n",
       "  \"C\"                    => 8.52292\n",
       "  \"Python numpy\"         => 3.78258\n",
       "  \"Julia\"                => 3.84199\n",
       "  \"Python\"               => 858.731"
      ]
     },
     "execution_count": 40,
     "metadata": {},
     "output_type": "execute_result"
    }
   ],
   "source": [
    "d[\"Julia\"] = minimum(j_bench.times) / 1e6\n",
    "d"
   ]
  },
  {
   "cell_type": "markdown",
   "metadata": {},
   "source": [
    "## 7. Julia (escrito à mão)"
   ]
  },
  {
   "cell_type": "code",
   "execution_count": 41,
   "metadata": {},
   "outputs": [
    {
     "data": {
      "text/plain": [
       "mysum (generic function with 1 method)"
      ]
     },
     "execution_count": 41,
     "metadata": {},
     "output_type": "execute_result"
    }
   ],
   "source": [
    "function mysum(A)   \n",
    "    s = 0.0 # s = zero(eltype(a))\n",
    "    for a in A\n",
    "        s += a\n",
    "    end\n",
    "    s\n",
    "end"
   ]
  },
  {
   "cell_type": "code",
   "execution_count": 42,
   "metadata": {},
   "outputs": [
    {
     "data": {
      "text/plain": [
       "BenchmarkTools.Trial: 575 samples with 1 evaluation.\n",
       " Range \u001b[90m(\u001b[39m\u001b[36m\u001b[1mmin\u001b[22m\u001b[39m … \u001b[35mmax\u001b[39m\u001b[90m):  \u001b[39m\u001b[36m\u001b[1m8.586 ms\u001b[22m\u001b[39m … \u001b[35m 8.762 ms\u001b[39m  \u001b[90m┊\u001b[39m GC \u001b[90m(\u001b[39mmin … max\u001b[90m): \u001b[39m0.00% … 0.00%\n",
       " Time  \u001b[90m(\u001b[39m\u001b[34m\u001b[1mmedian\u001b[22m\u001b[39m\u001b[90m):     \u001b[39m\u001b[34m\u001b[1m8.693 ms              \u001b[22m\u001b[39m\u001b[90m┊\u001b[39m GC \u001b[90m(\u001b[39mmedian\u001b[90m):    \u001b[39m0.00%\n",
       " Time  \u001b[90m(\u001b[39m\u001b[32m\u001b[1mmean\u001b[22m\u001b[39m ± \u001b[32mσ\u001b[39m\u001b[90m):   \u001b[39m\u001b[32m\u001b[1m8.691 ms\u001b[22m\u001b[39m ± \u001b[32m20.370 μs\u001b[39m  \u001b[90m┊\u001b[39m GC \u001b[90m(\u001b[39mmean ± σ\u001b[90m):  \u001b[39m0.00% ± 0.00%\n",
       "\n",
       "  \u001b[39m \u001b[39m \u001b[39m \u001b[39m \u001b[39m \u001b[39m \u001b[39m \u001b[39m \u001b[39m \u001b[39m \u001b[39m \u001b[39m \u001b[39m \u001b[39m \u001b[39m \u001b[39m \u001b[39m \u001b[39m \u001b[39m \u001b[39m \u001b[39m \u001b[39m \u001b[39m \u001b[39m \u001b[39m \u001b[39m \u001b[39m \u001b[39m \u001b[39m \u001b[39m \u001b[39m \u001b[39m \u001b[39m \u001b[39m \u001b[39m \u001b[39m▁\u001b[39m▂\u001b[39m▅\u001b[39m▁\u001b[39m▃\u001b[39m▁\u001b[32m▆\u001b[39m\u001b[34m▆\u001b[39m\u001b[39m▃\u001b[39m█\u001b[39m▂\u001b[39m \u001b[39m \u001b[39m \u001b[39m \u001b[39m \u001b[39m \u001b[39m \u001b[39m \u001b[39m \u001b[39m \u001b[39m \u001b[39m \u001b[39m \u001b[39m \n",
       "  \u001b[39m▂\u001b[39m▁\u001b[39m▁\u001b[39m▁\u001b[39m▁\u001b[39m▁\u001b[39m▁\u001b[39m▁\u001b[39m▁\u001b[39m▁\u001b[39m▁\u001b[39m▂\u001b[39m▂\u001b[39m▁\u001b[39m▂\u001b[39m▁\u001b[39m▃\u001b[39m▃\u001b[39m▃\u001b[39m▃\u001b[39m▁\u001b[39m▂\u001b[39m▃\u001b[39m▃\u001b[39m▂\u001b[39m▃\u001b[39m▃\u001b[39m▃\u001b[39m▃\u001b[39m▃\u001b[39m▄\u001b[39m▄\u001b[39m▅\u001b[39m█\u001b[39m█\u001b[39m█\u001b[39m█\u001b[39m█\u001b[39m█\u001b[39m█\u001b[39m█\u001b[32m█\u001b[39m\u001b[34m█\u001b[39m\u001b[39m█\u001b[39m█\u001b[39m█\u001b[39m▇\u001b[39m█\u001b[39m▇\u001b[39m█\u001b[39m▅\u001b[39m▆\u001b[39m▅\u001b[39m▄\u001b[39m▃\u001b[39m▃\u001b[39m▃\u001b[39m▃\u001b[39m \u001b[39m▄\n",
       "  8.59 ms\u001b[90m        Histogram: frequency by time\u001b[39m        8.73 ms \u001b[0m\u001b[1m<\u001b[22m\n",
       "\n",
       " Memory estimate\u001b[90m: \u001b[39m\u001b[33m0 bytes\u001b[39m, allocs estimate\u001b[90m: \u001b[39m\u001b[33m0\u001b[39m."
      ]
     },
     "execution_count": 42,
     "metadata": {},
     "output_type": "execute_result"
    }
   ],
   "source": [
    "j_bench_hand = @benchmark mysum($a)"
   ]
  },
  {
   "cell_type": "code",
   "execution_count": 43,
   "metadata": {},
   "outputs": [
    {
     "data": {
      "text/plain": [
       "Dict{Any, Any} with 7 entries:\n",
       "  \"C com -ffast-math\"    => 5.10906\n",
       "  \"Python escrito à mão\" => 1136.02\n",
       "  \"C\"                    => 8.52292\n",
       "  \"Python numpy\"         => 3.78258\n",
       "  \"Julia escrito à mão\"  => 8.58634\n",
       "  \"Julia\"                => 3.84199\n",
       "  \"Python\"               => 858.731"
      ]
     },
     "execution_count": 43,
     "metadata": {},
     "output_type": "execute_result"
    }
   ],
   "source": [
    "d[\"Julia escrito à mão\"] = minimum(j_bench_hand.times) / 1e6\n",
    "d"
   ]
  },
  {
   "cell_type": "markdown",
   "metadata": {},
   "source": [
    "## 8. Julia (escrito à mão com SIMD)"
   ]
  },
  {
   "cell_type": "code",
   "execution_count": 44,
   "metadata": {},
   "outputs": [
    {
     "data": {
      "text/plain": [
       "mysum_simd (generic function with 1 method)"
      ]
     },
     "execution_count": 44,
     "metadata": {},
     "output_type": "execute_result"
    }
   ],
   "source": [
    "function mysum_simd(A)   \n",
    "    s = 0.0 # s = zero(eltype(A))\n",
    "    @simd for a in A\n",
    "        s += a\n",
    "    end\n",
    "    s\n",
    "end"
   ]
  },
  {
   "cell_type": "code",
   "execution_count": 45,
   "metadata": {},
   "outputs": [
    {
     "data": {
      "text/plain": [
       "BenchmarkTools.Trial: 1327 samples with 1 evaluation.\n",
       " Range \u001b[90m(\u001b[39m\u001b[36m\u001b[1mmin\u001b[22m\u001b[39m … \u001b[35mmax\u001b[39m\u001b[90m):  \u001b[39m\u001b[36m\u001b[1m3.681 ms\u001b[22m\u001b[39m … \u001b[35m  5.749 ms\u001b[39m  \u001b[90m┊\u001b[39m GC \u001b[90m(\u001b[39mmin … max\u001b[90m): \u001b[39m0.00% … 0.00%\n",
       " Time  \u001b[90m(\u001b[39m\u001b[34m\u001b[1mmedian\u001b[22m\u001b[39m\u001b[90m):     \u001b[39m\u001b[34m\u001b[1m3.701 ms               \u001b[22m\u001b[39m\u001b[90m┊\u001b[39m GC \u001b[90m(\u001b[39mmedian\u001b[90m):    \u001b[39m0.00%\n",
       " Time  \u001b[90m(\u001b[39m\u001b[32m\u001b[1mmean\u001b[22m\u001b[39m ± \u001b[32mσ\u001b[39m\u001b[90m):   \u001b[39m\u001b[32m\u001b[1m3.756 ms\u001b[22m\u001b[39m ± \u001b[32m263.247 μs\u001b[39m  \u001b[90m┊\u001b[39m GC \u001b[90m(\u001b[39mmean ± σ\u001b[90m):  \u001b[39m0.00% ± 0.00%\n",
       "\n",
       "  \u001b[39m█\u001b[34m▄\u001b[39m\u001b[39m▂\u001b[32m▁\u001b[39m\u001b[39m \u001b[39m \u001b[39m \u001b[39m \u001b[39m \u001b[39m \u001b[39m \u001b[39m \u001b[39m \u001b[39m \u001b[39m \u001b[39m \u001b[39m \u001b[39m \u001b[39m \u001b[39m \u001b[39m \u001b[39m \u001b[39m \u001b[39m \u001b[39m \u001b[39m \u001b[39m \u001b[39m \u001b[39m \u001b[39m \u001b[39m \u001b[39m \u001b[39m \u001b[39m \u001b[39m \u001b[39m \u001b[39m \u001b[39m \u001b[39m \u001b[39m \u001b[39m \u001b[39m \u001b[39m \u001b[39m \u001b[39m \u001b[39m \u001b[39m \u001b[39m \u001b[39m \u001b[39m \u001b[39m \u001b[39m \u001b[39m \u001b[39m \u001b[39m \u001b[39m \u001b[39m \u001b[39m \u001b[39m \u001b[39m \u001b[39m \n",
       "  \u001b[39m█\u001b[34m█\u001b[39m\u001b[39m█\u001b[32m█\u001b[39m\u001b[39m▇\u001b[39m▆\u001b[39m▆\u001b[39m▅\u001b[39m▁\u001b[39m▃\u001b[39m▄\u001b[39m▅\u001b[39m▁\u001b[39m▃\u001b[39m▃\u001b[39m▃\u001b[39m▁\u001b[39m▁\u001b[39m▃\u001b[39m▄\u001b[39m▃\u001b[39m▄\u001b[39m▁\u001b[39m▃\u001b[39m▁\u001b[39m▃\u001b[39m▁\u001b[39m▁\u001b[39m▁\u001b[39m▁\u001b[39m▁\u001b[39m▁\u001b[39m▁\u001b[39m▁\u001b[39m▁\u001b[39m▁\u001b[39m▁\u001b[39m▁\u001b[39m▁\u001b[39m▃\u001b[39m▁\u001b[39m▁\u001b[39m▄\u001b[39m▁\u001b[39m▃\u001b[39m▄\u001b[39m▄\u001b[39m▁\u001b[39m▃\u001b[39m▁\u001b[39m▃\u001b[39m▄\u001b[39m▁\u001b[39m▁\u001b[39m▅\u001b[39m▃\u001b[39m▃\u001b[39m▃\u001b[39m▅\u001b[39m \u001b[39m▇\n",
       "  3.68 ms\u001b[90m      \u001b[39m\u001b[90mHistogram: \u001b[39m\u001b[90m\u001b[1mlog(\u001b[22m\u001b[39m\u001b[90mfrequency\u001b[39m\u001b[90m\u001b[1m)\u001b[22m\u001b[39m\u001b[90m by time\u001b[39m      5.41 ms \u001b[0m\u001b[1m<\u001b[22m\n",
       "\n",
       " Memory estimate\u001b[90m: \u001b[39m\u001b[33m0 bytes\u001b[39m, allocs estimate\u001b[90m: \u001b[39m\u001b[33m0\u001b[39m."
      ]
     },
     "execution_count": 45,
     "metadata": {},
     "output_type": "execute_result"
    }
   ],
   "source": [
    "j_bench_hand_simd = @benchmark mysum_simd($a)"
   ]
  },
  {
   "cell_type": "code",
   "execution_count": 46,
   "metadata": {},
   "outputs": [
    {
     "data": {
      "text/plain": [
       "5.001380361681771e6"
      ]
     },
     "execution_count": 46,
     "metadata": {},
     "output_type": "execute_result"
    }
   ],
   "source": [
    "mysum_simd(a)"
   ]
  },
  {
   "cell_type": "code",
   "execution_count": 47,
   "metadata": {},
   "outputs": [
    {
     "data": {
      "text/plain": [
       "Dict{Any, Any} with 8 entries:\n",
       "  \"Julia escrito à mão com SIMD\" => 3.68086\n",
       "  \"C com -ffast-math\"            => 5.10906\n",
       "  \"Python escrito à mão\"         => 1136.02\n",
       "  \"C\"                            => 8.52292\n",
       "  \"Python numpy\"                 => 3.78258\n",
       "  \"Julia escrito à mão\"          => 8.58634\n",
       "  \"Julia\"                        => 3.84199\n",
       "  \"Python\"                       => 858.731"
      ]
     },
     "execution_count": 47,
     "metadata": {},
     "output_type": "execute_result"
    }
   ],
   "source": [
    "d[\"Julia escrito à mão com SIMD\"] = minimum(j_bench_hand_simd.times) / 1e6\n",
    "d"
   ]
  },
  {
   "cell_type": "markdown",
   "metadata": {},
   "source": [
    "## Em resumo"
   ]
  },
  {
   "cell_type": "code",
   "execution_count": 48,
   "metadata": {},
   "outputs": [
    {
     "name": "stdout",
     "output_type": "stream",
     "text": [
      "Julia escrito à mão com SIMD....3.68\n",
      "Python numpy....................3.78\n",
      "Julia...........................3.84\n",
      "C com -ffast-math...............5.11\n",
      "C...............................8.52\n",
      "Julia escrito à mão.............8.59\n",
      "Python........................858.73\n",
      "Python escrito à mão..........1136.02\n"
     ]
    }
   ],
   "source": [
    "for (key, value) in sort(collect(d), by=last)\n",
    "    println(rpad(key, 30, \".\"), lpad(round(value; digits=2), 6, \".\"))\n",
    "end"
   ]
  }
 ],
 "metadata": {
  "kernelspec": {
   "display_name": "Julia 1.6.4",
   "language": "julia",
   "name": "julia-1.6"
  },
  "language_info": {
   "file_extension": ".jl",
   "mimetype": "application/julia",
   "name": "julia",
   "version": "1.7.2"
  }
 },
 "nbformat": 4,
 "nbformat_minor": 4
}
