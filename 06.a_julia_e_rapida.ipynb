{
 "cells": [
  {
   "cell_type": "markdown",
   "metadata": {
    "collapsed": false
   },
   "source": [
    "# A Julia é rápida\n",
    "\n",
    "Frequentemente, programas são executados em diferentes linguagens de programação com o propósito de comparar os desempenhos das linguagens.\n",
    "Esse tipo de comparação não é simples e pode gerar discussões.\n",
    "\n",
    "Neste notebook vamos fazer uma comparação simples entre algumas linguagens de programação, e deixar que você tire suas próprias conclusões."
   ]
  },
  {
   "cell_type": "markdown",
   "metadata": {
    "collapsed": false
   },
   "source": [
    "## A função soma\n",
    "\n",
    "Consideramos a função soma, denotada por `sum`, que é definida por\n",
    "$$\n",
    "\\mathrm{sum}(a) = \\sum_{j=1}^n a_j,\n",
    "$$\n",
    "onde $a = [a_1, a_2, \\dots, a_j]$ é uma lista com $n$ elementos.\n",
    "\n",
    "Vamos criar uma lista com 10<sup>7</sup> elementos escolhidos aleatoriamente no intervalo $[0,1]$:"
   ]
  },
  {
   "cell_type": "code",
   "execution_count": 1,
   "metadata": {
    "collapsed": false
   },
   "outputs": [
    {
     "data": {
      "text/plain": [
       "10000000-element Array{Float64,1}:\n",
       " 0.4028988186802127\n",
       " 0.25224077131053235\n",
       " 0.43057772773960545\n",
       " 0.27349636789878806\n",
       " 0.5170072890075406\n",
       " 0.48109313909756235\n",
       " 0.1665150609215451\n",
       " 0.5462964535642385\n",
       " 0.11893712954013957\n",
       " 0.7497614954224412\n",
       " 0.8331297186154123\n",
       " 0.6028791124788417\n",
       " 0.7825645466333648\n",
       " ⋮\n",
       " 0.19306653959561482\n",
       " 0.0917268614381197\n",
       " 0.35914489885661816\n",
       " 0.5501125771119177\n",
       " 0.9411573023525897\n",
       " 0.2447699219590962\n",
       " 0.7130988211183569\n",
       " 0.5891090952615297\n",
       " 0.8917582232075592\n",
       " 0.9020410970973296\n",
       " 0.1347976031576501\n",
       " 0.43764236294987735"
      ]
     },
     "execution_count": 1,
     "metadata": {
     },
     "output_type": "execute_result"
    }
   ],
   "source": [
    "a = rand(10^7)"
   ]
  },
  {
   "cell_type": "markdown",
   "metadata": {
    "collapsed": false
   },
   "source": [
    "Calculamos a soma dos elementos de `a`:"
   ]
  },
  {
   "cell_type": "code",
   "execution_count": 2,
   "metadata": {
    "collapsed": false
   },
   "outputs": [
    {
     "data": {
      "text/plain": [
       "5.000615962271808e6"
      ]
     },
     "execution_count": 2,
     "metadata": {
     },
     "output_type": "execute_result"
    }
   ],
   "source": [
    "sum(a)"
   ]
  },
  {
   "cell_type": "markdown",
   "metadata": {
    "collapsed": false
   },
   "source": [
    "O resultado esperado é 0.5 * 10<sup>7</sup>, pois o valor médio de cada elemento da lista é igual a 0.5."
   ]
  },
  {
   "cell_type": "markdown",
   "metadata": {
    "collapsed": false
   },
   "source": [
    "## Medindo desempenho de formas diferentes, em linguagens diferentes"
   ]
  },
  {
   "cell_type": "code",
   "execution_count": 3,
   "metadata": {
    "collapsed": false
   },
   "outputs": [
    {
     "name": "stdout",
     "output_type": "stream",
     "text": [
      "  0.010507 seconds ("
     ]
    },
    {
     "name": "stdout",
     "output_type": "stream",
     "text": [
      "1 allocation: 16 bytes)\n"
     ]
    },
    {
     "data": {
      "text/plain": [
       "5.000615962271808e6"
      ]
     },
     "execution_count": 3,
     "metadata": {
     },
     "output_type": "execute_result"
    }
   ],
   "source": [
    "@time sum(a)"
   ]
  },
  {
   "cell_type": "code",
   "execution_count": 4,
   "metadata": {
    "collapsed": false
   },
   "outputs": [
    {
     "name": "stdout",
     "output_type": "stream",
     "text": [
      "  0.008766 seconds (1 allocation: 16 bytes)\n"
     ]
    },
    {
     "data": {
      "text/plain": [
       "5.000615962271808e6"
      ]
     },
     "execution_count": 4,
     "metadata": {
     },
     "output_type": "execute_result"
    }
   ],
   "source": [
    "@time sum(a)"
   ]
  },
  {
   "cell_type": "code",
   "execution_count": 5,
   "metadata": {
    "collapsed": false
   },
   "outputs": [
    {
     "name": "stdout",
     "output_type": "stream",
     "text": [
      "  0.010204 seconds (1 allocation: 16 bytes)\n"
     ]
    },
    {
     "data": {
      "text/plain": [
       "5.000615962271808e6"
      ]
     },
     "execution_count": 5,
     "metadata": {
     },
     "output_type": "execute_result"
    }
   ],
   "source": [
    "@time sum(a)"
   ]
  },
  {
   "cell_type": "markdown",
   "metadata": {
    "collapsed": false
   },
   "source": [
    "Como vemos, a macro `@time` pode fornecer resultados diferentes, portanto não é uma macro muito confiável para comparar desempenhos.\n",
    "\n",
    "O pacote `BenchmarkTools.jl` fornece um método simples e preciso de fazer comparações."
   ]
  },
  {
   "cell_type": "code",
   "execution_count": 6,
   "metadata": {
    "collapsed": false
   },
   "outputs": [
    {
     "name": "stderr",
     "output_type": "stream",
     "text": [
      "\u001b[32m\u001b[1m  Resolving\u001b[22m\u001b[39m package versions...\n"
     ]
    },
    {
     "name": "stderr",
     "output_type": "stream",
     "text": [
      "\u001b[32m\u001b[1mNo Changes\u001b[22m\u001b[39m to `~/.julia/environment/v1.5/Project.toml`\n",
      "\u001b[32m\u001b[1mNo Changes\u001b[22m\u001b[39m to `~/.julia/environment/v1.5/Manifest.toml`\n"
     ]
    }
   ],
   "source": [
    "using Pkg\n",
    "Pkg.add(\"BenchmarkTools\")"
   ]
  },
  {
   "cell_type": "code",
   "execution_count": 7,
   "metadata": {
    "collapsed": false
   },
   "outputs": [
   ],
   "source": [
    "using BenchmarkTools"
   ]
  },
  {
   "cell_type": "markdown",
   "metadata": {
    "collapsed": false
   },
   "source": [
    "## 1. C\n",
    "\n",
    "A linguagem C é considerada uma linguagem difícil para os humanos e simples para as máquinas.\n",
    "\n",
    "Em uma sessão da Julia, podemos inserir um programa em C, compilá-lo e executá-lo:"
   ]
  },
  {
   "cell_type": "code",
   "execution_count": 8,
   "metadata": {
    "collapsed": false
   },
   "outputs": [
    {
     "data": {
      "text/plain": [
       "c_sum (generic function with 1 method)"
      ]
     },
     "execution_count": 8,
     "metadata": {
     },
     "output_type": "execute_result"
    }
   ],
   "source": [
    "using Libdl\n",
    "C_code = \"\"\"\n",
    "#include <stddef.h>\n",
    "double c_sum(size_t n, double *X) {\n",
    "    double s = 0.0;\n",
    "    for (size_t i = 0; i < n; ++i) {\n",
    "        s += X[i];\n",
    "    }\n",
    "    return s;\n",
    "}\n",
    "\"\"\"\n",
    "\n",
    "const Clib = tempname()  # Cria um arquivo temporário\n",
    "\n",
    "# Compila para uma biblioteca compartilhada passando\n",
    "# o código C_code para o compilador gcc (só funciona\n",
    "# se o gcc estiver instalado):\n",
    "\n",
    "open(`gcc -fPIC -O3 -msse3 -xc -shared -o $(Clib * \".\" * Libdl.dlext) -`, \"w\") do f\n",
    "    print(f, C_code) \n",
    "end\n",
    "\n",
    "# Define uma função em Julia que chama a função do C\n",
    "c_sum(X::Array{Float64}) = ccall((\"c_sum\", Clib), Float64, (Csize_t, Ptr{Float64}), length(X), X)"
   ]
  },
  {
   "cell_type": "code",
   "execution_count": 9,
   "metadata": {
    "collapsed": false
   },
   "outputs": [
    {
     "data": {
      "text/plain": [
       "5.000615962272078e6"
      ]
     },
     "execution_count": 9,
     "metadata": {
     },
     "output_type": "execute_result"
    }
   ],
   "source": [
    "c_sum(a)"
   ]
  },
  {
   "cell_type": "code",
   "execution_count": 10,
   "metadata": {
    "collapsed": false
   },
   "outputs": [
    {
     "data": {
      "text/plain": [
       "true"
      ]
     },
     "execution_count": 10,
     "metadata": {
     },
     "output_type": "execute_result"
    }
   ],
   "source": [
    "c_sum(a) ≈ sum(a)  # Digite \\approx e tecle <TAB> para obter o símbolo ≈"
   ]
  },
  {
   "cell_type": "code",
   "execution_count": 11,
   "metadata": {
    "collapsed": false
   },
   "outputs": [
    {
     "data": {
      "text/plain": [
       "2.7008354663848877e-7"
      ]
     },
     "execution_count": 11,
     "metadata": {
     },
     "output_type": "execute_result"
    }
   ],
   "source": [
    "c_sum(a) - sum(a)"
   ]
  },
  {
   "cell_type": "code",
   "execution_count": 12,
   "metadata": {
    "collapsed": false
   },
   "outputs": [
    {
     "data": {
      "text/plain": [
       "isapprox (generic function with 9 methods)"
      ]
     },
     "execution_count": 12,
     "metadata": {
     },
     "output_type": "execute_result"
    }
   ],
   "source": [
    "≈ # é uma abreviação (alias) para a função `isapprox`"
   ]
  },
  {
   "cell_type": "code",
   "execution_count": 13,
   "metadata": {
    "collapsed": false
   },
   "outputs": [
    {
     "name": "stdout",
     "output_type": "stream",
     "text": [
      "search: "
     ]
    },
    {
     "name": "stdout",
     "output_type": "stream",
     "text": [
      "\u001b[0m\u001b[1mi\u001b[22m\u001b[0m\u001b[1ms\u001b[22m\u001b[0m\u001b[1ma\u001b[22m\u001b[0m\u001b[1mp\u001b[22m\u001b[0m\u001b[1mp\u001b[22m\u001b[0m\u001b[1mr\u001b[22m\u001b[0m\u001b[1mo\u001b[22m\u001b[0m\u001b[1mx\u001b[22m\n",
      "\n"
     ]
    },
    {
     "data": {
      "text/latex": [
       "\\begin{verbatim}\n",
       "isapprox(x, y; rtol::Real=atol>0 ? 0 : √eps, atol::Real=0, nans::Bool=false, norm::Function)\n",
       "\\end{verbatim}\n",
       "Inexact equality comparison: \\texttt{true} if \\texttt{norm(x-y) <= max(atol, rtol*max(norm(x), norm(y)))}. The default \\texttt{atol} is zero and the default \\texttt{rtol} depends on the types of \\texttt{x} and \\texttt{y}. The keyword argument \\texttt{nans} determines whether or not NaN values are considered equal (defaults to false).\n",
       "\n",
       "For real or complex floating-point values, if an \\texttt{atol > 0} is not specified, \\texttt{rtol} defaults to the square root of \\href{@ref}{\\texttt{eps}} of the type of \\texttt{x} or \\texttt{y}, whichever is bigger (least precise). This corresponds to requiring equality of about half of the significand digits. Otherwise, e.g. for integer arguments or if an \\texttt{atol > 0} is supplied, \\texttt{rtol} defaults to zero.\n",
       "\n",
       "\\texttt{x} and \\texttt{y} may also be arrays of numbers, in which case \\texttt{norm} defaults to the usual \\texttt{norm} function in LinearAlgebra, but may be changed by passing a \\texttt{norm::Function} keyword argument. (For numbers, \\texttt{norm} is the same thing as \\texttt{abs}.) When \\texttt{x} and \\texttt{y} are arrays, if \\texttt{norm(x-y)} is not finite (i.e. \\texttt{±Inf} or \\texttt{NaN}), the comparison falls back to checking whether all elements of \\texttt{x} and \\texttt{y} are approximately equal component-wise.\n",
       "\n",
       "The binary operator \\texttt{≈} is equivalent to \\texttt{isapprox} with the default arguments, and \\texttt{x ≉ y} is equivalent to \\texttt{!isapprox(x,y)}.\n",
       "\n",
       "Note that \\texttt{x ≈ 0} (i.e., comparing to zero with the default tolerances) is equivalent to \\texttt{x == 0} since the default \\texttt{atol} is \\texttt{0}.  In such cases, you should either supply an appropriate \\texttt{atol} (or use \\texttt{norm(x) ≤ atol}) or rearrange your code (e.g. use \\texttt{x ≈ y} rather than \\texttt{x - y ≈ 0}).   It is not possible to pick a nonzero \\texttt{atol} automatically because it depends on the overall scaling (the \"units\") of your problem: for example, in \\texttt{x - y ≈ 0}, \\texttt{atol=1e-9} is an absurdly small tolerance if \\texttt{x} is the \\href{https://en.wikipedia.org/wiki/Earth_radius}{radius of the Earth} in meters, but an absurdly large tolerance if \\texttt{x} is the \\href{https://en.wikipedia.org/wiki/Bohr_radius}{radius of a Hydrogen atom} in meters.\n",
       "\n",
       "\\section{Examples}\n",
       "\\begin{verbatim}\n",
       "julia> 0.1 ≈ (0.1 - 1e-10)\n",
       "true\n",
       "\n",
       "julia> isapprox(10, 11; atol = 2)\n",
       "true\n",
       "\n",
       "julia> isapprox([10.0^9, 1.0], [10.0^9, 2.0])\n",
       "true\n",
       "\n",
       "julia> 1e-10 ≈ 0\n",
       "false\n",
       "\n",
       "julia> isapprox(1e-10, 0, atol=1e-8)\n",
       "true\n",
       "\\end{verbatim}\n",
       "\\rule{\\textwidth}{1pt}\n",
       "\\begin{verbatim}\n",
       "isapprox(x; kwargs...) / ≈(x; kwargs...)\n",
       "\\end{verbatim}\n",
       "Create a function that compares its argument to \\texttt{x} using \\texttt{≈}, i.e. a function equivalent to \\texttt{y -> y ≈ x}.\n",
       "\n",
       "The keyword arguments supported here are the same as those in the 2-argument \\texttt{isapprox}.\n",
       "\n"
      ],
      "text/markdown": [
       "```\n",
       "isapprox(x, y; rtol::Real=atol>0 ? 0 : √eps, atol::Real=0, nans::Bool=false, norm::Function)\n",
       "```\n",
       "\n",
       "Inexact equality comparison: `true` if `norm(x-y) <= max(atol, rtol*max(norm(x), norm(y)))`. The default `atol` is zero and the default `rtol` depends on the types of `x` and `y`. The keyword argument `nans` determines whether or not NaN values are considered equal (defaults to false).\n",
       "\n",
       "For real or complex floating-point values, if an `atol > 0` is not specified, `rtol` defaults to the square root of [`eps`](@ref) of the type of `x` or `y`, whichever is bigger (least precise). This corresponds to requiring equality of about half of the significand digits. Otherwise, e.g. for integer arguments or if an `atol > 0` is supplied, `rtol` defaults to zero.\n",
       "\n",
       "`x` and `y` may also be arrays of numbers, in which case `norm` defaults to the usual `norm` function in LinearAlgebra, but may be changed by passing a `norm::Function` keyword argument. (For numbers, `norm` is the same thing as `abs`.) When `x` and `y` are arrays, if `norm(x-y)` is not finite (i.e. `±Inf` or `NaN`), the comparison falls back to checking whether all elements of `x` and `y` are approximately equal component-wise.\n",
       "\n",
       "The binary operator `≈` is equivalent to `isapprox` with the default arguments, and `x ≉ y` is equivalent to `!isapprox(x,y)`.\n",
       "\n",
       "Note that `x ≈ 0` (i.e., comparing to zero with the default tolerances) is equivalent to `x == 0` since the default `atol` is `0`.  In such cases, you should either supply an appropriate `atol` (or use `norm(x) ≤ atol`) or rearrange your code (e.g. use `x ≈ y` rather than `x - y ≈ 0`).   It is not possible to pick a nonzero `atol` automatically because it depends on the overall scaling (the \"units\") of your problem: for example, in `x - y ≈ 0`, `atol=1e-9` is an absurdly small tolerance if `x` is the [radius of the Earth](https://en.wikipedia.org/wiki/Earth_radius) in meters, but an absurdly large tolerance if `x` is the [radius of a Hydrogen atom](https://en.wikipedia.org/wiki/Bohr_radius) in meters.\n",
       "\n",
       "# Examples\n",
       "\n",
       "```jldoctest\n",
       "julia> 0.1 ≈ (0.1 - 1e-10)\n",
       "true\n",
       "\n",
       "julia> isapprox(10, 11; atol = 2)\n",
       "true\n",
       "\n",
       "julia> isapprox([10.0^9, 1.0], [10.0^9, 2.0])\n",
       "true\n",
       "\n",
       "julia> 1e-10 ≈ 0\n",
       "false\n",
       "\n",
       "julia> isapprox(1e-10, 0, atol=1e-8)\n",
       "true\n",
       "```\n",
       "\n",
       "---\n",
       "\n",
       "```\n",
       "isapprox(x; kwargs...) / ≈(x; kwargs...)\n",
       "```\n",
       "\n",
       "Create a function that compares its argument to `x` using `≈`, i.e. a function equivalent to `y -> y ≈ x`.\n",
       "\n",
       "The keyword arguments supported here are the same as those in the 2-argument `isapprox`.\n"
      ],
      "text/plain": [
       "\u001b[36m  isapprox(x, y; rtol::Real=atol>0 ? 0 : √eps, atol::Real=0, nans::Bool=false, norm::Function)\u001b[39m\n",
       "\n",
       "  Inexact equality comparison: \u001b[36mtrue\u001b[39m if \u001b[36mnorm(x-y) <= max(atol,\n",
       "  rtol*max(norm(x), norm(y)))\u001b[39m. The default \u001b[36matol\u001b[39m is zero and the default \u001b[36mrtol\u001b[39m\n",
       "  depends on the types of \u001b[36mx\u001b[39m and \u001b[36my\u001b[39m. The keyword argument \u001b[36mnans\u001b[39m determines\n",
       "  whether or not NaN values are considered equal (defaults to false).\n",
       "\n",
       "  For real or complex floating-point values, if an \u001b[36matol > 0\u001b[39m is not specified,\n",
       "  \u001b[36mrtol\u001b[39m defaults to the square root of \u001b[36meps\u001b[39m of the type of \u001b[36mx\u001b[39m or \u001b[36my\u001b[39m, whichever is\n",
       "  bigger (least precise). This corresponds to requiring equality of about half\n",
       "  of the significand digits. Otherwise, e.g. for integer arguments or if an\n",
       "  \u001b[36matol > 0\u001b[39m is supplied, \u001b[36mrtol\u001b[39m defaults to zero.\n",
       "\n",
       "  \u001b[36mx\u001b[39m and \u001b[36my\u001b[39m may also be arrays of numbers, in which case \u001b[36mnorm\u001b[39m defaults to the\n",
       "  usual \u001b[36mnorm\u001b[39m function in LinearAlgebra, but may be changed by passing a\n",
       "  \u001b[36mnorm::Function\u001b[39m keyword argument. (For numbers, \u001b[36mnorm\u001b[39m is the same thing as\n",
       "  \u001b[36mabs\u001b[39m.) When \u001b[36mx\u001b[39m and \u001b[36my\u001b[39m are arrays, if \u001b[36mnorm(x-y)\u001b[39m is not finite (i.e. \u001b[36m±Inf\u001b[39m or\n",
       "  \u001b[36mNaN\u001b[39m), the comparison falls back to checking whether all elements of \u001b[36mx\u001b[39m and \u001b[36my\u001b[39m\n",
       "  are approximately equal component-wise.\n",
       "\n",
       "  The binary operator \u001b[36m≈\u001b[39m is equivalent to \u001b[36misapprox\u001b[39m with the default arguments,\n",
       "  and \u001b[36mx ≉ y\u001b[39m is equivalent to \u001b[36m!isapprox(x,y)\u001b[39m.\n",
       "\n",
       "  Note that \u001b[36mx ≈ 0\u001b[39m (i.e., comparing to zero with the default tolerances) is\n",
       "  equivalent to \u001b[36mx == 0\u001b[39m since the default \u001b[36matol\u001b[39m is \u001b[36m0\u001b[39m. In such cases, you should\n",
       "  either supply an appropriate \u001b[36matol\u001b[39m (or use \u001b[36mnorm(x) ≤ atol\u001b[39m) or rearrange your\n",
       "  code (e.g. use \u001b[36mx ≈ y\u001b[39m rather than \u001b[36mx - y ≈ 0\u001b[39m). It is not possible to pick a\n",
       "  nonzero \u001b[36matol\u001b[39m automatically because it depends on the overall scaling (the\n",
       "  \"units\") of your problem: for example, in \u001b[36mx - y ≈ 0\u001b[39m, \u001b[36matol=1e-9\u001b[39m is an\n",
       "  absurdly small tolerance if \u001b[36mx\u001b[39m is the radius of the Earth\n",
       "  (https://en.wikipedia.org/wiki/Earth_radius) in meters, but an absurdly\n",
       "  large tolerance if \u001b[36mx\u001b[39m is the radius of a Hydrogen atom\n",
       "  (https://en.wikipedia.org/wiki/Bohr_radius) in meters.\n",
       "\n",
       "\u001b[1m  Examples\u001b[22m\n",
       "\u001b[1m  ≡≡≡≡≡≡≡≡≡≡\u001b[22m\n",
       "\n",
       "\u001b[36m  julia> 0.1 ≈ (0.1 - 1e-10)\u001b[39m\n",
       "\u001b[36m  true\u001b[39m\n",
       "\u001b[36m  \u001b[39m\n",
       "\u001b[36m  julia> isapprox(10, 11; atol = 2)\u001b[39m\n",
       "\u001b[36m  true\u001b[39m\n",
       "\u001b[36m  \u001b[39m\n",
       "\u001b[36m  julia> isapprox([10.0^9, 1.0], [10.0^9, 2.0])\u001b[39m\n",
       "\u001b[36m  true\u001b[39m\n",
       "\u001b[36m  \u001b[39m\n",
       "\u001b[36m  julia> 1e-10 ≈ 0\u001b[39m\n",
       "\u001b[36m  false\u001b[39m\n",
       "\u001b[36m  \u001b[39m\n",
       "\u001b[36m  julia> isapprox(1e-10, 0, atol=1e-8)\u001b[39m\n",
       "\u001b[36m  true\u001b[39m\n",
       "\n",
       "  ────────────────────────────────────────────────────────────────────────────\n",
       "\n",
       "\u001b[36m  isapprox(x; kwargs...) / ≈(x; kwargs...)\u001b[39m\n",
       "\n",
       "  Create a function that compares its argument to \u001b[36mx\u001b[39m using \u001b[36m≈\u001b[39m, i.e. a function\n",
       "  equivalent to \u001b[36my -> y ≈ x\u001b[39m.\n",
       "\n",
       "  The keyword arguments supported here are the same as those in the 2-argument\n",
       "  \u001b[36misapprox\u001b[39m."
      ]
     },
     "execution_count": 13,
     "metadata": {
     },
     "output_type": "execute_result"
    }
   ],
   "source": [
    "?isapprox"
   ]
  },
  {
   "cell_type": "markdown",
   "metadata": {
    "collapsed": false
   },
   "source": [
    "Agora podemos medir o desempenho do código C diretamente da sessão Julia."
   ]
  },
  {
   "cell_type": "code",
   "execution_count": 14,
   "metadata": {
    "collapsed": false
   },
   "outputs": [
    {
     "data": {
      "text/plain": [
       "BenchmarkTools.Trial: \n",
       "  memory estimate:  0 bytes\n",
       "  allocs estimate:  0\n",
       "  --------------\n",
       "  minimum time:     13.692 ms (0.00% GC)\n",
       "  median time:      14.125 ms (0.00% GC)\n",
       "  mean time:        14.606 ms (0.00% GC)\n",
       "  maximum time:     28.629 ms (0.00% GC)\n",
       "  --------------\n",
       "  samples:          343\n",
       "  evals/sample:     1"
      ]
     },
     "execution_count": 14,
     "metadata": {
     },
     "output_type": "execute_result"
    }
   ],
   "source": [
    "c_bench = @benchmark c_sum($a)"
   ]
  },
  {
   "cell_type": "code",
   "execution_count": 15,
   "metadata": {
    "collapsed": false
   },
   "outputs": [
    {
     "name": "stdout",
     "output_type": "stream",
     "text": [
      "C: O tempo mais rápido foi 13.69182 msec\n"
     ]
    }
   ],
   "source": [
    "println(\"C: O tempo mais rápido foi $(minimum(c_bench.times) / 1e6) msec\")"
   ]
  },
  {
   "cell_type": "code",
   "execution_count": 16,
   "metadata": {
    "collapsed": false
   },
   "outputs": [
    {
     "data": {
      "text/plain": [
       "Dict{Any,Any} with 1 entry:\n",
       "  \"C\" => 13.6918"
      ]
     },
     "execution_count": 16,
     "metadata": {
     },
     "output_type": "execute_result"
    }
   ],
   "source": [
    "d = Dict()\n",
    "d[\"C\"] = minimum(c_bench.times) / 1e6  # em milisegundos\n",
    "d"
   ]
  },
  {
   "cell_type": "code",
   "execution_count": 17,
   "metadata": {
    "collapsed": false
   },
   "outputs": [
    {
     "data": {
      "text/plain": [
       "Plots.GRBackend()"
      ]
     },
     "execution_count": 17,
     "metadata": {
     },
     "output_type": "execute_result"
    }
   ],
   "source": [
    "using Plots\n",
    "gr()"
   ]
  },
  {
   "cell_type": "code",
   "execution_count": 18,
   "metadata": {
    "collapsed": false
   },
   "outputs": [
    {
     "data": {
      "image/svg+xml": "<?xml version=\"1.0\" encoding=\"utf-8\"?>\n<svg xmlns=\"http://www.w3.org/2000/svg\" xmlns:xlink=\"http://www.w3.org/1999/xlink\" width=\"600\" height=\"400\" viewBox=\"0 0 2400 1600\">\n<defs>\n  <clipPath id=\"clip790\">\n    <rect x=\"0\" y=\"0\" width=\"2400\" height=\"1600\"/>\n  </clipPath>\n</defs>\n<path clip-path=\"url(#clip790)\" d=\"\nM0 1600 L2400 1600 L2400 0 L0 0  Z\n  \" fill=\"#ffffff\" fill-rule=\"evenodd\" fill-opacity=\"1\"/>\n<defs>\n  <clipPath id=\"clip791\">\n    <rect x=\"480\" y=\"0\" width=\"1681\" height=\"1600\"/>\n  </clipPath>\n</defs>\n<path clip-path=\"url(#clip790)\" d=\"\nM199.218 1423.18 L2352.76 1423.18 L2352.76 47.2441 L199.218 47.2441  Z\n  \" fill=\"#ffffff\" fill-rule=\"evenodd\" fill-opacity=\"1\"/>\n<defs>\n  <clipPath id=\"clip792\">\n    <rect x=\"199\" y=\"47\" width=\"2155\" height=\"1377\"/>\n  </clipPath>\n</defs>\n<polyline clip-path=\"url(#clip792)\" style=\"stroke:#000000; stroke-width:2; stroke-opacity:0.1; fill:none\" points=\"\n  442.501,1423.18 442.501,47.2441 \n  \"/>\n<polyline clip-path=\"url(#clip792)\" style=\"stroke:#000000; stroke-width:2; stroke-opacity:0.1; fill:none\" points=\"\n  743.93,1423.18 743.93,47.2441 \n  \"/>\n<polyline clip-path=\"url(#clip792)\" style=\"stroke:#000000; stroke-width:2; stroke-opacity:0.1; fill:none\" points=\"\n  1045.36,1423.18 1045.36,47.2441 \n  \"/>\n<polyline clip-path=\"url(#clip792)\" style=\"stroke:#000000; stroke-width:2; stroke-opacity:0.1; fill:none\" points=\"\n  1346.79,1423.18 1346.79,47.2441 \n  \"/>\n<polyline clip-path=\"url(#clip792)\" style=\"stroke:#000000; stroke-width:2; stroke-opacity:0.1; fill:none\" points=\"\n  1648.22,1423.18 1648.22,47.2441 \n  \"/>\n<polyline clip-path=\"url(#clip792)\" style=\"stroke:#000000; stroke-width:2; stroke-opacity:0.1; fill:none\" points=\"\n  1949.65,1423.18 1949.65,47.2441 \n  \"/>\n<polyline clip-path=\"url(#clip792)\" style=\"stroke:#000000; stroke-width:2; stroke-opacity:0.1; fill:none\" points=\"\n  2251.07,1423.18 2251.07,47.2441 \n  \"/>\n<polyline clip-path=\"url(#clip790)\" style=\"stroke:#000000; stroke-width:4; stroke-opacity:1; fill:none\" points=\"\n  199.218,1423.18 2352.76,1423.18 \n  \"/>\n<polyline clip-path=\"url(#clip790)\" style=\"stroke:#000000; stroke-width:4; stroke-opacity:1; fill:none\" points=\"\n  442.501,1423.18 442.501,1406.67 \n  \"/>\n<polyline clip-path=\"url(#clip790)\" style=\"stroke:#000000; stroke-width:4; stroke-opacity:1; fill:none\" points=\"\n  743.93,1423.18 743.93,1406.67 \n  \"/>\n<polyline clip-path=\"url(#clip790)\" style=\"stroke:#000000; stroke-width:4; stroke-opacity:1; fill:none\" points=\"\n  1045.36,1423.18 1045.36,1406.67 \n  \"/>\n<polyline clip-path=\"url(#clip790)\" style=\"stroke:#000000; stroke-width:4; stroke-opacity:1; fill:none\" points=\"\n  1346.79,1423.18 1346.79,1406.67 \n  \"/>\n<polyline clip-path=\"url(#clip790)\" style=\"stroke:#000000; stroke-width:4; stroke-opacity:1; fill:none\" points=\"\n  1648.22,1423.18 1648.22,1406.67 \n  \"/>\n<polyline clip-path=\"url(#clip790)\" style=\"stroke:#000000; stroke-width:4; stroke-opacity:1; fill:none\" points=\"\n  1949.65,1423.18 1949.65,1406.67 \n  \"/>\n<polyline clip-path=\"url(#clip790)\" style=\"stroke:#000000; stroke-width:4; stroke-opacity:1; fill:none\" points=\"\n  2251.07,1423.18 2251.07,1406.67 \n  \"/>\n<path clip-path=\"url(#clip790)\" d=\"M 0 0 M401.714 1479.92 L409.353 1479.92 L409.353 1453.55 L401.043 1455.22 L401.043 1450.96 L409.307 1449.29 L413.983 1449.29 L413.983 1479.92 L421.621 1479.92 L421.621 1483.85 L401.714 1483.85 L401.714 1479.92 Z\" fill=\"#000000\" fill-rule=\"evenodd\" fill-opacity=\"1\" /><path clip-path=\"url(#clip790)\" d=\"M 0 0 M440.857 1465.22 Q444.214 1465.94 446.089 1468.2 Q447.987 1470.47 447.987 1473.81 Q447.987 1478.92 444.469 1481.72 Q440.95 1484.52 434.469 1484.52 Q432.293 1484.52 429.978 1484.08 Q427.686 1483.67 425.233 1482.81 L425.233 1478.3 Q427.177 1479.43 429.492 1480.01 Q431.807 1480.59 434.33 1480.59 Q438.728 1480.59 441.019 1478.85 Q443.334 1477.12 443.334 1473.81 Q443.334 1470.75 441.182 1469.04 Q439.052 1467.3 435.232 1467.3 L431.205 1467.3 L431.205 1463.46 L435.418 1463.46 Q438.867 1463.46 440.695 1462.09 Q442.524 1460.7 442.524 1458.11 Q442.524 1455.45 440.626 1454.04 Q438.751 1452.6 435.232 1452.6 Q433.311 1452.6 431.112 1453.02 Q428.913 1453.44 426.274 1454.31 L426.274 1450.15 Q428.936 1449.41 431.251 1449.04 Q433.589 1448.67 435.649 1448.67 Q440.973 1448.67 444.075 1451.1 Q447.177 1453.5 447.177 1457.63 Q447.177 1460.5 445.533 1462.49 Q443.89 1464.45 440.857 1465.22 Z\" fill=\"#000000\" fill-rule=\"evenodd\" fill-opacity=\"1\" /><path clip-path=\"url(#clip790)\" d=\"M 0 0 M453.056 1477.97 L457.941 1477.97 L457.941 1483.85 L453.056 1483.85 L453.056 1477.97 Z\" fill=\"#000000\" fill-rule=\"evenodd\" fill-opacity=\"1\" /><path clip-path=\"url(#clip790)\" d=\"M 0 0 M463.056 1449.29 L481.413 1449.29 L481.413 1453.23 L467.339 1453.23 L467.339 1461.7 Q468.357 1461.35 469.376 1461.19 Q470.394 1461 471.413 1461 Q477.2 1461 480.579 1464.18 Q483.959 1467.35 483.959 1472.76 Q483.959 1478.34 480.487 1481.44 Q477.015 1484.52 470.695 1484.52 Q468.519 1484.52 466.251 1484.15 Q464.005 1483.78 461.598 1483.04 L461.598 1478.34 Q463.681 1479.48 465.904 1480.03 Q468.126 1480.59 470.603 1480.59 Q474.607 1480.59 476.945 1478.48 Q479.283 1476.38 479.283 1472.76 Q479.283 1469.15 476.945 1467.05 Q474.607 1464.94 470.603 1464.94 Q468.728 1464.94 466.853 1465.36 Q465.001 1465.77 463.056 1466.65 L463.056 1449.29 Z\" fill=\"#000000\" fill-rule=\"evenodd\" fill-opacity=\"1\" /><path clip-path=\"url(#clip790)\" d=\"M 0 0 M702.078 1479.92 L709.717 1479.92 L709.717 1453.55 L701.407 1455.22 L701.407 1450.96 L709.671 1449.29 L714.347 1449.29 L714.347 1479.92 L721.986 1479.92 L721.986 1483.85 L702.078 1483.85 L702.078 1479.92 Z\" fill=\"#000000\" fill-rule=\"evenodd\" fill-opacity=\"1\" /><path clip-path=\"url(#clip790)\" d=\"M 0 0 M739.902 1453.37 L728.097 1471.81 L739.902 1471.81 L739.902 1453.37 M738.675 1449.29 L744.555 1449.29 L744.555 1471.81 L749.485 1471.81 L749.485 1475.7 L744.555 1475.7 L744.555 1483.85 L739.902 1483.85 L739.902 1475.7 L724.3 1475.7 L724.3 1471.19 L738.675 1449.29 Z\" fill=\"#000000\" fill-rule=\"evenodd\" fill-opacity=\"1\" /><path clip-path=\"url(#clip790)\" d=\"M 0 0 M754.555 1477.97 L759.439 1477.97 L759.439 1483.85 L754.555 1483.85 L754.555 1477.97 Z\" fill=\"#000000\" fill-rule=\"evenodd\" fill-opacity=\"1\" /><path clip-path=\"url(#clip790)\" d=\"M 0 0 M774.508 1452.37 Q770.897 1452.37 769.069 1455.94 Q767.263 1459.48 767.263 1466.61 Q767.263 1473.71 769.069 1477.28 Q770.897 1480.82 774.508 1480.82 Q778.143 1480.82 779.948 1477.28 Q781.777 1473.71 781.777 1466.61 Q781.777 1459.48 779.948 1455.94 Q778.143 1452.37 774.508 1452.37 M774.508 1448.67 Q780.319 1448.67 783.374 1453.27 Q786.453 1457.86 786.453 1466.61 Q786.453 1475.33 783.374 1479.94 Q780.319 1484.52 774.508 1484.52 Q768.698 1484.52 765.62 1479.94 Q762.564 1475.33 762.564 1466.61 Q762.564 1457.86 765.62 1453.27 Q768.698 1448.67 774.508 1448.67 Z\" fill=\"#000000\" fill-rule=\"evenodd\" fill-opacity=\"1\" /><path clip-path=\"url(#clip790)\" d=\"M 0 0 M1004 1479.92 L1011.64 1479.92 L1011.64 1453.55 L1003.33 1455.22 L1003.33 1450.96 L1011.6 1449.29 L1016.27 1449.29 L1016.27 1479.92 L1023.91 1479.92 L1023.91 1483.85 L1004 1483.85 L1004 1479.92 Z\" fill=\"#000000\" fill-rule=\"evenodd\" fill-opacity=\"1\" /><path clip-path=\"url(#clip790)\" d=\"M 0 0 M1041.83 1453.37 L1030.02 1471.81 L1041.83 1471.81 L1041.83 1453.37 M1040.6 1449.29 L1046.48 1449.29 L1046.48 1471.81 L1051.41 1471.81 L1051.41 1475.7 L1046.48 1475.7 L1046.48 1483.85 L1041.83 1483.85 L1041.83 1475.7 L1026.23 1475.7 L1026.23 1471.19 L1040.6 1449.29 Z\" fill=\"#000000\" fill-rule=\"evenodd\" fill-opacity=\"1\" /><path clip-path=\"url(#clip790)\" d=\"M 0 0 M1056.48 1477.97 L1061.37 1477.97 L1061.37 1483.85 L1056.48 1483.85 L1056.48 1477.97 Z\" fill=\"#000000\" fill-rule=\"evenodd\" fill-opacity=\"1\" /><path clip-path=\"url(#clip790)\" d=\"M 0 0 M1066.48 1449.29 L1084.84 1449.29 L1084.84 1453.23 L1070.76 1453.23 L1070.76 1461.7 Q1071.78 1461.35 1072.8 1461.19 Q1073.82 1461 1074.84 1461 Q1080.62 1461 1084 1464.18 Q1087.38 1467.35 1087.38 1472.76 Q1087.38 1478.34 1083.91 1481.44 Q1080.44 1484.52 1074.12 1484.52 Q1071.94 1484.52 1069.68 1484.15 Q1067.43 1483.78 1065.02 1483.04 L1065.02 1478.34 Q1067.11 1479.48 1069.33 1480.03 Q1071.55 1480.59 1074.03 1480.59 Q1078.03 1480.59 1080.37 1478.48 Q1082.71 1476.38 1082.71 1472.76 Q1082.71 1469.15 1080.37 1467.05 Q1078.03 1464.94 1074.03 1464.94 Q1072.15 1464.94 1070.28 1465.36 Q1068.43 1465.77 1066.48 1466.65 L1066.48 1449.29 Z\" fill=\"#000000\" fill-rule=\"evenodd\" fill-opacity=\"1\" /><path clip-path=\"url(#clip790)\" d=\"M 0 0 M1305.68 1479.92 L1313.32 1479.92 L1313.32 1453.55 L1305.01 1455.22 L1305.01 1450.96 L1313.27 1449.29 L1317.95 1449.29 L1317.95 1479.92 L1325.58 1479.92 L1325.58 1483.85 L1305.68 1483.85 L1305.68 1479.92 Z\" fill=\"#000000\" fill-rule=\"evenodd\" fill-opacity=\"1\" /><path clip-path=\"url(#clip790)\" d=\"M 0 0 M1330.7 1449.29 L1349.06 1449.29 L1349.06 1453.23 L1334.98 1453.23 L1334.98 1461.7 Q1336 1461.35 1337.02 1461.19 Q1338.04 1461 1339.06 1461 Q1344.84 1461 1348.22 1464.18 Q1351.6 1467.35 1351.6 1472.76 Q1351.6 1478.34 1348.13 1481.44 Q1344.66 1484.52 1338.34 1484.52 Q1336.16 1484.52 1333.89 1484.15 Q1331.65 1483.78 1329.24 1483.04 L1329.24 1478.34 Q1331.33 1479.48 1333.55 1480.03 Q1335.77 1480.59 1338.25 1480.59 Q1342.25 1480.59 1344.59 1478.48 Q1346.93 1476.38 1346.93 1472.76 Q1346.93 1469.15 1344.59 1467.05 Q1342.25 1464.94 1338.25 1464.94 Q1336.37 1464.94 1334.5 1465.36 Q1332.64 1465.77 1330.7 1466.65 L1330.7 1449.29 Z\" fill=\"#000000\" fill-rule=\"evenodd\" fill-opacity=\"1\" /><path clip-path=\"url(#clip790)\" d=\"M 0 0 M1356.67 1477.97 L1361.56 1477.97 L1361.56 1483.85 L1356.67 1483.85 L1356.67 1477.97 Z\" fill=\"#000000\" fill-rule=\"evenodd\" fill-opacity=\"1\" /><path clip-path=\"url(#clip790)\" d=\"M 0 0 M1376.63 1452.37 Q1373.01 1452.37 1371.19 1455.94 Q1369.38 1459.48 1369.38 1466.61 Q1369.38 1473.71 1371.19 1477.28 Q1373.01 1480.82 1376.63 1480.82 Q1380.26 1480.82 1382.07 1477.28 Q1383.89 1473.71 1383.89 1466.61 Q1383.89 1459.48 1382.07 1455.94 Q1380.26 1452.37 1376.63 1452.37 M1376.63 1448.67 Q1382.44 1448.67 1385.49 1453.27 Q1388.57 1457.86 1388.57 1466.61 Q1388.57 1475.33 1385.49 1479.94 Q1382.44 1484.52 1376.63 1484.52 Q1370.82 1484.52 1367.74 1479.94 Q1364.68 1475.33 1364.68 1466.61 Q1364.68 1457.86 1367.74 1453.27 Q1370.82 1448.67 1376.63 1448.67 Z\" fill=\"#000000\" fill-rule=\"evenodd\" fill-opacity=\"1\" /><path clip-path=\"url(#clip790)\" d=\"M 0 0 M1607.6 1479.92 L1615.24 1479.92 L1615.24 1453.55 L1606.93 1455.22 L1606.93 1450.96 L1615.2 1449.29 L1619.87 1449.29 L1619.87 1479.92 L1627.51 1479.92 L1627.51 1483.85 L1607.6 1483.85 L1607.6 1479.92 Z\" fill=\"#000000\" fill-rule=\"evenodd\" fill-opacity=\"1\" /><path clip-path=\"url(#clip790)\" d=\"M 0 0 M1632.63 1449.29 L1650.98 1449.29 L1650.98 1453.23 L1636.91 1453.23 L1636.91 1461.7 Q1637.93 1461.35 1638.95 1461.19 Q1639.96 1461 1640.98 1461 Q1646.77 1461 1650.15 1464.18 Q1653.53 1467.35 1653.53 1472.76 Q1653.53 1478.34 1650.06 1481.44 Q1646.58 1484.52 1640.27 1484.52 Q1638.09 1484.52 1635.82 1484.15 Q1633.58 1483.78 1631.17 1483.04 L1631.17 1478.34 Q1633.25 1479.48 1635.47 1480.03 Q1637.7 1480.59 1640.17 1480.59 Q1644.18 1480.59 1646.52 1478.48 Q1648.85 1476.38 1648.85 1472.76 Q1648.85 1469.15 1646.52 1467.05 Q1644.18 1464.94 1640.17 1464.94 Q1638.3 1464.94 1636.42 1465.36 Q1634.57 1465.77 1632.63 1466.65 L1632.63 1449.29 Z\" fill=\"#000000\" fill-rule=\"evenodd\" fill-opacity=\"1\" /><path clip-path=\"url(#clip790)\" d=\"M 0 0 M1658.6 1477.97 L1663.48 1477.97 L1663.48 1483.85 L1658.6 1483.85 L1658.6 1477.97 Z\" fill=\"#000000\" fill-rule=\"evenodd\" fill-opacity=\"1\" /><path clip-path=\"url(#clip790)\" d=\"M 0 0 M1668.6 1449.29 L1686.96 1449.29 L1686.96 1453.23 L1672.88 1453.23 L1672.88 1461.7 Q1673.9 1461.35 1674.92 1461.19 Q1675.94 1461 1676.96 1461 Q1682.74 1461 1686.12 1464.18 Q1689.5 1467.35 1689.5 1472.76 Q1689.5 1478.34 1686.03 1481.44 Q1682.56 1484.52 1676.24 1484.52 Q1674.06 1484.52 1671.79 1484.15 Q1669.55 1483.78 1667.14 1483.04 L1667.14 1478.34 Q1669.22 1479.48 1671.45 1480.03 Q1673.67 1480.59 1676.14 1480.59 Q1680.15 1480.59 1682.49 1478.48 Q1684.83 1476.38 1684.83 1472.76 Q1684.83 1469.15 1682.49 1467.05 Q1680.15 1464.94 1676.14 1464.94 Q1674.27 1464.94 1672.4 1465.36 Q1670.54 1465.77 1668.6 1466.65 L1668.6 1449.29 Z\" fill=\"#000000\" fill-rule=\"evenodd\" fill-opacity=\"1\" /><path clip-path=\"url(#clip790)\" d=\"M 0 0 M1907.96 1479.92 L1915.6 1479.92 L1915.6 1453.55 L1907.29 1455.22 L1907.29 1450.96 L1915.55 1449.29 L1920.22 1449.29 L1920.22 1479.92 L1927.86 1479.92 L1927.86 1483.85 L1907.96 1483.85 L1907.96 1479.92 Z\" fill=\"#000000\" fill-rule=\"evenodd\" fill-opacity=\"1\" /><path clip-path=\"url(#clip790)\" d=\"M 0 0 M1943.51 1464.71 Q1940.36 1464.71 1938.51 1466.86 Q1936.68 1469.01 1936.68 1472.76 Q1936.68 1476.49 1938.51 1478.67 Q1940.36 1480.82 1943.51 1480.82 Q1946.66 1480.82 1948.49 1478.67 Q1950.34 1476.49 1950.34 1472.76 Q1950.34 1469.01 1948.49 1466.86 Q1946.66 1464.71 1943.51 1464.71 M1952.79 1450.06 L1952.79 1454.31 Q1951.03 1453.48 1949.23 1453.04 Q1947.45 1452.6 1945.69 1452.6 Q1941.06 1452.6 1938.6 1455.73 Q1936.17 1458.85 1935.83 1465.17 Q1937.19 1463.16 1939.25 1462.09 Q1941.31 1461 1943.79 1461 Q1949 1461 1952.01 1464.18 Q1955.04 1467.32 1955.04 1472.76 Q1955.04 1478.09 1951.89 1481.31 Q1948.74 1484.52 1943.51 1484.52 Q1937.52 1484.52 1934.35 1479.94 Q1931.17 1475.33 1931.17 1466.61 Q1931.17 1458.41 1935.06 1453.55 Q1938.95 1448.67 1945.5 1448.67 Q1947.26 1448.67 1949.04 1449.01 Q1950.85 1449.36 1952.79 1450.06 Z\" fill=\"#000000\" fill-rule=\"evenodd\" fill-opacity=\"1\" /><path clip-path=\"url(#clip790)\" d=\"M 0 0 M1960.11 1477.97 L1964.99 1477.97 L1964.99 1483.85 L1960.11 1483.85 L1960.11 1477.97 Z\" fill=\"#000000\" fill-rule=\"evenodd\" fill-opacity=\"1\" /><path clip-path=\"url(#clip790)\" d=\"M 0 0 M1980.06 1452.37 Q1976.45 1452.37 1974.62 1455.94 Q1972.82 1459.48 1972.82 1466.61 Q1972.82 1473.71 1974.62 1477.28 Q1976.45 1480.82 1980.06 1480.82 Q1983.7 1480.82 1985.5 1477.28 Q1987.33 1473.71 1987.33 1466.61 Q1987.33 1459.48 1985.5 1455.94 Q1983.7 1452.37 1980.06 1452.37 M1980.06 1448.67 Q1985.87 1448.67 1988.93 1453.27 Q1992.01 1457.86 1992.01 1466.61 Q1992.01 1475.33 1988.93 1479.94 Q1985.87 1484.52 1980.06 1484.52 Q1974.25 1484.52 1971.17 1479.94 Q1968.12 1475.33 1968.12 1466.61 Q1968.12 1457.86 1971.17 1453.27 Q1974.25 1448.67 1980.06 1448.67 Z\" fill=\"#000000\" fill-rule=\"evenodd\" fill-opacity=\"1\" /><path clip-path=\"url(#clip790)\" d=\"M 0 0 M2209.88 1479.92 L2217.52 1479.92 L2217.52 1453.55 L2209.21 1455.22 L2209.21 1450.96 L2217.48 1449.29 L2222.15 1449.29 L2222.15 1479.92 L2229.79 1479.92 L2229.79 1483.85 L2209.88 1483.85 L2209.88 1479.92 Z\" fill=\"#000000\" fill-rule=\"evenodd\" fill-opacity=\"1\" /><path clip-path=\"url(#clip790)\" d=\"M 0 0 M2245.44 1464.71 Q2242.29 1464.71 2240.44 1466.86 Q2238.61 1469.01 2238.61 1472.76 Q2238.61 1476.49 2240.44 1478.67 Q2242.29 1480.82 2245.44 1480.82 Q2248.59 1480.82 2250.42 1478.67 Q2252.27 1476.49 2252.27 1472.76 Q2252.27 1469.01 2250.42 1466.86 Q2248.59 1464.71 2245.44 1464.71 M2254.72 1450.06 L2254.72 1454.31 Q2252.96 1453.48 2251.16 1453.04 Q2249.37 1452.6 2247.61 1452.6 Q2242.98 1452.6 2240.53 1455.73 Q2238.1 1458.85 2237.75 1465.17 Q2239.12 1463.16 2241.18 1462.09 Q2243.24 1461 2245.72 1461 Q2250.92 1461 2253.93 1464.18 Q2256.97 1467.32 2256.97 1472.76 Q2256.97 1478.09 2253.82 1481.31 Q2250.67 1484.52 2245.44 1484.52 Q2239.44 1484.52 2236.27 1479.94 Q2233.1 1475.33 2233.1 1466.61 Q2233.1 1458.41 2236.99 1453.55 Q2240.88 1448.67 2247.43 1448.67 Q2249.19 1448.67 2250.97 1449.01 Q2252.78 1449.36 2254.72 1450.06 Z\" fill=\"#000000\" fill-rule=\"evenodd\" fill-opacity=\"1\" /><path clip-path=\"url(#clip790)\" d=\"M 0 0 M2262.04 1477.97 L2266.92 1477.97 L2266.92 1483.85 L2262.04 1483.85 L2262.04 1477.97 Z\" fill=\"#000000\" fill-rule=\"evenodd\" fill-opacity=\"1\" /><path clip-path=\"url(#clip790)\" d=\"M 0 0 M2272.04 1449.29 L2290.39 1449.29 L2290.39 1453.23 L2276.32 1453.23 L2276.32 1461.7 Q2277.34 1461.35 2278.35 1461.19 Q2279.37 1461 2280.39 1461 Q2286.18 1461 2289.56 1464.18 Q2292.94 1467.35 2292.94 1472.76 Q2292.94 1478.34 2289.47 1481.44 Q2285.99 1484.52 2279.67 1484.52 Q2277.5 1484.52 2275.23 1484.15 Q2272.98 1483.78 2270.58 1483.04 L2270.58 1478.34 Q2272.66 1479.48 2274.88 1480.03 Q2277.1 1480.59 2279.58 1480.59 Q2283.59 1480.59 2285.92 1478.48 Q2288.26 1476.38 2288.26 1472.76 Q2288.26 1469.15 2285.92 1467.05 Q2283.59 1464.94 2279.58 1464.94 Q2277.71 1464.94 2275.83 1465.36 Q2273.98 1465.77 2272.04 1466.65 L2272.04 1449.29 Z\" fill=\"#000000\" fill-rule=\"evenodd\" fill-opacity=\"1\" /><path clip-path=\"url(#clip790)\" d=\"M 0 0 M1121.65 1539.24 Q1123.85 1535.29 1126.9 1533.41 Q1129.96 1531.54 1134.1 1531.54 Q1139.67 1531.54 1142.69 1535.45 Q1145.71 1539.33 1145.71 1546.53 L1145.71 1568.04 L1139.82 1568.04 L1139.82 1546.72 Q1139.82 1541.59 1138.01 1539.11 Q1136.2 1536.63 1132.47 1536.63 Q1127.92 1536.63 1125.28 1539.65 Q1122.64 1542.68 1122.64 1547.9 L1122.64 1568.04 L1116.75 1568.04 L1116.75 1546.72 Q1116.75 1541.56 1114.93 1539.11 Q1113.12 1536.63 1109.33 1536.63 Q1104.85 1536.63 1102.2 1539.68 Q1099.56 1542.71 1099.56 1547.9 L1099.56 1568.04 L1093.67 1568.04 L1093.67 1532.4 L1099.56 1532.4 L1099.56 1537.93 Q1101.57 1534.66 1104.37 1533.1 Q1107.17 1531.54 1111.02 1531.54 Q1114.9 1531.54 1117.61 1533.51 Q1120.35 1535.48 1121.65 1539.24 Z\" fill=\"#000000\" fill-rule=\"evenodd\" fill-opacity=\"1\" /><path clip-path=\"url(#clip790)\" d=\"M 0 0 M1151.86 1532.4 L1157.71 1532.4 L1157.71 1568.04 L1151.86 1568.04 L1151.86 1532.4 M1151.86 1518.52 L1157.71 1518.52 L1157.71 1525.93 L1151.86 1525.93 L1151.86 1518.52 Z\" fill=\"#000000\" fill-rule=\"evenodd\" fill-opacity=\"1\" /><path clip-path=\"url(#clip790)\" d=\"M 0 0 M1163.86 1518.52 L1169.71 1518.52 L1169.71 1568.04 L1163.86 1568.04 L1163.86 1518.52 Z\" fill=\"#000000\" fill-rule=\"evenodd\" fill-opacity=\"1\" /><path clip-path=\"url(#clip790)\" d=\"M 0 0 M1175.85 1532.4 L1181.71 1532.4 L1181.71 1568.04 L1175.85 1568.04 L1175.85 1532.4 M1175.85 1518.52 L1181.71 1518.52 L1181.71 1525.93 L1175.85 1525.93 L1175.85 1518.52 Z\" fill=\"#000000\" fill-rule=\"evenodd\" fill-opacity=\"1\" /><path clip-path=\"url(#clip790)\" d=\"M 0 0 M1210.58 1533.45 L1210.58 1538.98 Q1208.1 1537.71 1205.42 1537.07 Q1202.75 1536.44 1199.89 1536.44 Q1195.52 1536.44 1193.33 1537.77 Q1191.16 1539.11 1191.16 1541.79 Q1191.16 1543.82 1192.72 1545 Q1194.28 1546.15 1198.99 1547.2 L1201 1547.64 Q1207.24 1548.98 1209.85 1551.43 Q1212.49 1553.85 1212.49 1558.21 Q1212.49 1563.17 1208.54 1566.07 Q1204.63 1568.97 1197.75 1568.97 Q1194.89 1568.97 1191.77 1568.39 Q1188.68 1567.85 1185.24 1566.74 L1185.24 1560.69 Q1188.49 1562.38 1191.64 1563.24 Q1194.79 1564.07 1197.88 1564.07 Q1202.02 1564.07 1204.25 1562.66 Q1206.47 1561.23 1206.47 1558.65 Q1206.47 1556.27 1204.85 1554.99 Q1203.26 1553.72 1197.82 1552.54 L1195.78 1552.07 Q1190.34 1550.92 1187.92 1548.56 Q1185.5 1546.18 1185.5 1542.04 Q1185.5 1537.01 1189.06 1534.27 Q1192.63 1531.54 1199.18 1531.54 Q1202.43 1531.54 1205.3 1532.01 Q1208.16 1532.49 1210.58 1533.45 Z\" fill=\"#000000\" fill-rule=\"evenodd\" fill-opacity=\"1\" /><path clip-path=\"url(#clip790)\" d=\"M 0 0 M1249.12 1548.76 L1249.12 1551.62 L1222.2 1551.62 Q1222.58 1557.67 1225.83 1560.85 Q1229.1 1564 1234.93 1564 Q1238.3 1564 1241.45 1563.17 Q1244.64 1562.35 1247.76 1560.69 L1247.76 1566.23 Q1244.6 1567.57 1241.29 1568.27 Q1237.98 1568.97 1234.58 1568.97 Q1226.05 1568.97 1221.05 1564 Q1216.09 1559.04 1216.09 1550.57 Q1216.09 1541.82 1220.8 1536.69 Q1225.54 1531.54 1233.56 1531.54 Q1240.75 1531.54 1244.92 1536.18 Q1249.12 1540.8 1249.12 1548.76 M1243.27 1547.04 Q1243.2 1542.23 1240.56 1539.37 Q1237.95 1536.5 1233.62 1536.5 Q1228.72 1536.5 1225.76 1539.27 Q1222.83 1542.04 1222.39 1547.07 L1243.27 1547.04 Z\" fill=\"#000000\" fill-rule=\"evenodd\" fill-opacity=\"1\" /><path clip-path=\"url(#clip790)\" d=\"M 0 0 M1278.72 1549.81 Q1278.72 1543.44 1276.08 1539.94 Q1273.47 1536.44 1268.73 1536.44 Q1264.02 1536.44 1261.38 1539.94 Q1258.77 1543.44 1258.77 1549.81 Q1258.77 1556.14 1261.38 1559.64 Q1264.02 1563.14 1268.73 1563.14 Q1273.47 1563.14 1276.08 1559.64 Q1278.72 1556.14 1278.72 1549.81 M1284.58 1563.62 Q1284.58 1572.72 1280.54 1577.15 Q1276.5 1581.6 1268.16 1581.6 Q1265.07 1581.6 1262.33 1581.13 Q1259.6 1580.68 1257.02 1579.72 L1257.02 1574.03 Q1259.6 1575.43 1262.11 1576.1 Q1264.62 1576.76 1267.23 1576.76 Q1273 1576.76 1275.86 1573.74 Q1278.72 1570.75 1278.72 1564.67 L1278.72 1561.77 Q1276.91 1564.92 1274.08 1566.48 Q1271.24 1568.04 1267.3 1568.04 Q1260.74 1568.04 1256.73 1563.05 Q1252.72 1558.05 1252.72 1549.81 Q1252.72 1541.53 1256.73 1536.53 Q1260.74 1531.54 1267.3 1531.54 Q1271.24 1531.54 1274.08 1533.1 Q1276.91 1534.66 1278.72 1537.81 L1278.72 1532.4 L1284.58 1532.4 L1284.58 1563.62 Z\" fill=\"#000000\" fill-rule=\"evenodd\" fill-opacity=\"1\" /><path clip-path=\"url(#clip790)\" d=\"M 0 0 M1290.12 1553.98 L1290.12 1532.4 L1295.98 1532.4 L1295.98 1553.75 Q1295.98 1558.81 1297.95 1561.36 Q1299.92 1563.87 1303.87 1563.87 Q1308.61 1563.87 1311.35 1560.85 Q1314.12 1557.83 1314.12 1552.61 L1314.12 1532.4 L1319.97 1532.4 L1319.97 1568.04 L1314.12 1568.04 L1314.12 1562.57 Q1311.99 1565.82 1309.15 1567.41 Q1306.35 1568.97 1302.63 1568.97 Q1296.48 1568.97 1293.3 1565.15 Q1290.12 1561.33 1290.12 1553.98 M1304.86 1531.54 L1304.86 1531.54 Z\" fill=\"#000000\" fill-rule=\"evenodd\" fill-opacity=\"1\" /><path clip-path=\"url(#clip790)\" d=\"M 0 0 M1355.75 1546.53 L1355.75 1568.04 L1349.89 1568.04 L1349.89 1546.72 Q1349.89 1541.66 1347.92 1539.14 Q1345.95 1536.63 1342 1536.63 Q1337.26 1536.63 1334.52 1539.65 Q1331.78 1542.68 1331.78 1547.9 L1331.78 1568.04 L1325.89 1568.04 L1325.89 1532.4 L1331.78 1532.4 L1331.78 1537.93 Q1333.88 1534.72 1336.72 1533.13 Q1339.58 1531.54 1343.3 1531.54 Q1349.45 1531.54 1352.6 1535.36 Q1355.75 1539.14 1355.75 1546.53 Z\" fill=\"#000000\" fill-rule=\"evenodd\" fill-opacity=\"1\" /><path clip-path=\"url(#clip790)\" d=\"M 0 0 M1385.35 1537.81 L1385.35 1518.52 L1391.21 1518.52 L1391.21 1568.04 L1385.35 1568.04 L1385.35 1562.7 Q1383.5 1565.88 1380.67 1567.44 Q1377.87 1568.97 1373.92 1568.97 Q1367.46 1568.97 1363.39 1563.81 Q1359.35 1558.65 1359.35 1550.25 Q1359.35 1541.85 1363.39 1536.69 Q1367.46 1531.54 1373.92 1531.54 Q1377.87 1531.54 1380.67 1533.1 Q1383.5 1534.62 1385.35 1537.81 M1365.39 1550.25 Q1365.39 1556.71 1368.04 1560.4 Q1370.71 1564.07 1375.36 1564.07 Q1380 1564.07 1382.68 1560.4 Q1385.35 1556.71 1385.35 1550.25 Q1385.35 1543.79 1382.68 1540.13 Q1380 1536.44 1375.36 1536.44 Q1370.71 1536.44 1368.04 1540.13 Q1365.39 1543.79 1365.39 1550.25 Z\" fill=\"#000000\" fill-rule=\"evenodd\" fill-opacity=\"1\" /><path clip-path=\"url(#clip790)\" d=\"M 0 0 M1411.16 1536.5 Q1406.45 1536.5 1403.71 1540.19 Q1400.98 1543.85 1400.98 1550.25 Q1400.98 1556.65 1403.68 1560.34 Q1406.42 1564 1411.16 1564 Q1415.84 1564 1418.58 1560.31 Q1421.32 1556.62 1421.32 1550.25 Q1421.32 1543.92 1418.58 1540.23 Q1415.84 1536.5 1411.16 1536.5 M1411.16 1531.54 Q1418.8 1531.54 1423.16 1536.5 Q1427.52 1541.47 1427.52 1550.25 Q1427.52 1559 1423.16 1564 Q1418.8 1568.97 1411.16 1568.97 Q1403.49 1568.97 1399.13 1564 Q1394.8 1559 1394.8 1550.25 Q1394.8 1541.47 1399.13 1536.5 Q1403.49 1531.54 1411.16 1531.54 Z\" fill=\"#000000\" fill-rule=\"evenodd\" fill-opacity=\"1\" /><path clip-path=\"url(#clip790)\" d=\"M 0 0 M1456.39 1533.45 L1456.39 1538.98 Q1453.91 1537.71 1451.23 1537.07 Q1448.56 1536.44 1445.7 1536.44 Q1441.34 1536.44 1439.14 1537.77 Q1436.98 1539.11 1436.98 1541.79 Q1436.98 1543.82 1438.54 1545 Q1440.09 1546.15 1444.81 1547.2 L1446.81 1547.64 Q1453.05 1548.98 1455.66 1551.43 Q1458.3 1553.85 1458.3 1558.21 Q1458.3 1563.17 1454.35 1566.07 Q1450.44 1568.97 1443.56 1568.97 Q1440.7 1568.97 1437.58 1568.39 Q1434.49 1567.85 1431.06 1566.74 L1431.06 1560.69 Q1434.3 1562.38 1437.45 1563.24 Q1440.6 1564.07 1443.69 1564.07 Q1447.83 1564.07 1450.06 1562.66 Q1452.29 1561.23 1452.29 1558.65 Q1452.29 1556.27 1450.66 1554.99 Q1449.07 1553.72 1443.63 1552.54 L1441.59 1552.07 Q1436.15 1550.92 1433.73 1548.56 Q1431.31 1546.18 1431.31 1542.04 Q1431.31 1537.01 1434.88 1534.27 Q1438.44 1531.54 1445 1531.54 Q1448.24 1531.54 1451.11 1532.01 Q1453.97 1532.49 1456.39 1533.45 Z\" fill=\"#000000\" fill-rule=\"evenodd\" fill-opacity=\"1\" /><polyline clip-path=\"url(#clip792)\" style=\"stroke:#000000; stroke-width:2; stroke-opacity:0.1; fill:none\" points=\"\n  199.218,1384.24 2352.76,1384.24 \n  \"/>\n<polyline clip-path=\"url(#clip792)\" style=\"stroke:#000000; stroke-width:2; stroke-opacity:0.1; fill:none\" points=\"\n  199.218,1160.44 2352.76,1160.44 \n  \"/>\n<polyline clip-path=\"url(#clip792)\" style=\"stroke:#000000; stroke-width:2; stroke-opacity:0.1; fill:none\" points=\"\n  199.218,936.634 2352.76,936.634 \n  \"/>\n<polyline clip-path=\"url(#clip792)\" style=\"stroke:#000000; stroke-width:2; stroke-opacity:0.1; fill:none\" points=\"\n  199.218,712.832 2352.76,712.832 \n  \"/>\n<polyline clip-path=\"url(#clip792)\" style=\"stroke:#000000; stroke-width:2; stroke-opacity:0.1; fill:none\" points=\"\n  199.218,489.03 2352.76,489.03 \n  \"/>\n<polyline clip-path=\"url(#clip792)\" style=\"stroke:#000000; stroke-width:2; stroke-opacity:0.1; fill:none\" points=\"\n  199.218,265.227 2352.76,265.227 \n  \"/>\n<polyline clip-path=\"url(#clip790)\" style=\"stroke:#000000; stroke-width:4; stroke-opacity:1; fill:none\" points=\"\n  199.218,1423.18 199.218,47.2441 \n  \"/>\n<polyline clip-path=\"url(#clip790)\" style=\"stroke:#000000; stroke-width:4; stroke-opacity:1; fill:none\" points=\"\n  199.218,1384.24 225.061,1384.24 \n  \"/>\n<polyline clip-path=\"url(#clip790)\" style=\"stroke:#000000; stroke-width:4; stroke-opacity:1; fill:none\" points=\"\n  199.218,1160.44 225.061,1160.44 \n  \"/>\n<polyline clip-path=\"url(#clip790)\" style=\"stroke:#000000; stroke-width:4; stroke-opacity:1; fill:none\" points=\"\n  199.218,936.634 225.061,936.634 \n  \"/>\n<polyline clip-path=\"url(#clip790)\" style=\"stroke:#000000; stroke-width:4; stroke-opacity:1; fill:none\" points=\"\n  199.218,712.832 225.061,712.832 \n  \"/>\n<polyline clip-path=\"url(#clip790)\" style=\"stroke:#000000; stroke-width:4; stroke-opacity:1; fill:none\" points=\"\n  199.218,489.03 225.061,489.03 \n  \"/>\n<polyline clip-path=\"url(#clip790)\" style=\"stroke:#000000; stroke-width:4; stroke-opacity:1; fill:none\" points=\"\n  199.218,265.227 225.061,265.227 \n  \"/>\n<path clip-path=\"url(#clip790)\" d=\"M 0 0 M151.274 1370.04 Q147.663 1370.04 145.834 1373.6 Q144.029 1377.14 144.029 1384.27 Q144.029 1391.38 145.834 1394.94 Q147.663 1398.49 151.274 1398.49 Q154.908 1398.49 156.714 1394.94 Q158.542 1391.38 158.542 1384.27 Q158.542 1377.14 156.714 1373.6 Q154.908 1370.04 151.274 1370.04 M151.274 1366.33 Q157.084 1366.33 160.14 1370.94 Q163.218 1375.52 163.218 1384.27 Q163.218 1393 160.14 1397.61 Q157.084 1402.19 151.274 1402.19 Q145.464 1402.19 142.385 1397.61 Q139.329 1393 139.329 1384.27 Q139.329 1375.52 142.385 1370.94 Q145.464 1366.33 151.274 1366.33 Z\" fill=\"#000000\" fill-rule=\"evenodd\" fill-opacity=\"1\" /><path clip-path=\"url(#clip790)\" d=\"M 0 0 M142.316 1143.16 L160.672 1143.16 L160.672 1147.09 L146.598 1147.09 L146.598 1155.56 Q147.616 1155.22 148.635 1155.05 Q149.653 1154.87 150.672 1154.87 Q156.459 1154.87 159.839 1158.04 Q163.218 1161.21 163.218 1166.63 Q163.218 1172.21 159.746 1175.31 Q156.274 1178.39 149.954 1178.39 Q147.778 1178.39 145.51 1178.02 Q143.265 1177.65 140.857 1176.91 L140.857 1172.21 Q142.941 1173.34 145.163 1173.9 Q147.385 1174.45 149.862 1174.45 Q153.866 1174.45 156.204 1172.35 Q158.542 1170.24 158.542 1166.63 Q158.542 1163.02 156.204 1160.91 Q153.866 1158.8 149.862 1158.8 Q147.987 1158.8 146.112 1159.22 Q144.26 1159.64 142.316 1160.52 L142.316 1143.16 Z\" fill=\"#000000\" fill-rule=\"evenodd\" fill-opacity=\"1\" /><path clip-path=\"url(#clip790)\" d=\"M 0 0 M116.297 949.979 L123.936 949.979 L123.936 923.613 L115.626 925.28 L115.626 921.021 L123.89 919.354 L128.566 919.354 L128.566 949.979 L136.204 949.979 L136.204 953.914 L116.297 953.914 L116.297 949.979 Z\" fill=\"#000000\" fill-rule=\"evenodd\" fill-opacity=\"1\" /><path clip-path=\"url(#clip790)\" d=\"M 0 0 M151.274 922.433 Q147.663 922.433 145.834 925.997 Q144.029 929.539 144.029 936.669 Q144.029 943.775 145.834 947.34 Q147.663 950.882 151.274 950.882 Q154.908 950.882 156.714 947.34 Q158.542 943.775 158.542 936.669 Q158.542 929.539 156.714 925.997 Q154.908 922.433 151.274 922.433 M151.274 918.729 Q157.084 918.729 160.14 923.335 Q163.218 927.919 163.218 936.669 Q163.218 945.395 160.14 950.002 Q157.084 954.585 151.274 954.585 Q145.464 954.585 142.385 950.002 Q139.329 945.395 139.329 936.669 Q139.329 927.919 142.385 923.335 Q145.464 918.729 151.274 918.729 Z\" fill=\"#000000\" fill-rule=\"evenodd\" fill-opacity=\"1\" /><path clip-path=\"url(#clip790)\" d=\"M 0 0 M117.293 726.177 L124.931 726.177 L124.931 699.811 L116.621 701.478 L116.621 697.218 L124.885 695.552 L129.561 695.552 L129.561 726.177 L137.2 726.177 L137.2 730.112 L117.293 730.112 L117.293 726.177 Z\" fill=\"#000000\" fill-rule=\"evenodd\" fill-opacity=\"1\" /><path clip-path=\"url(#clip790)\" d=\"M 0 0 M142.316 695.552 L160.672 695.552 L160.672 699.487 L146.598 699.487 L146.598 707.959 Q147.616 707.612 148.635 707.45 Q149.653 707.265 150.672 707.265 Q156.459 707.265 159.839 710.436 Q163.218 713.607 163.218 719.024 Q163.218 724.603 159.746 727.704 Q156.274 730.783 149.954 730.783 Q147.778 730.783 145.51 730.413 Q143.265 730.042 140.857 729.302 L140.857 724.603 Q142.941 725.737 145.163 726.292 Q147.385 726.848 149.862 726.848 Q153.866 726.848 156.204 724.741 Q158.542 722.635 158.542 719.024 Q158.542 715.413 156.204 713.306 Q153.866 711.2 149.862 711.2 Q147.987 711.2 146.112 711.616 Q144.26 712.033 142.316 712.913 L142.316 695.552 Z\" fill=\"#000000\" fill-rule=\"evenodd\" fill-opacity=\"1\" /><path clip-path=\"url(#clip790)\" d=\"M 0 0 M119.885 502.374 L136.204 502.374 L136.204 506.31 L114.26 506.31 L114.26 502.374 Q116.922 499.62 121.505 494.99 Q126.112 490.337 127.292 488.995 Q129.538 486.472 130.417 484.736 Q131.32 482.976 131.32 481.287 Q131.32 478.532 129.376 476.796 Q127.455 475.06 124.353 475.06 Q122.154 475.06 119.7 475.824 Q117.269 476.588 114.492 478.138 L114.492 473.416 Q117.316 472.282 119.769 471.703 Q122.223 471.125 124.26 471.125 Q129.63 471.125 132.825 473.81 Q136.019 476.495 136.019 480.986 Q136.019 483.115 135.209 485.037 Q134.422 486.935 132.316 489.527 Q131.737 490.199 128.635 493.416 Q125.533 496.611 119.885 502.374 Z\" fill=\"#000000\" fill-rule=\"evenodd\" fill-opacity=\"1\" /><path clip-path=\"url(#clip790)\" d=\"M 0 0 M151.274 474.828 Q147.663 474.828 145.834 478.393 Q144.029 481.935 144.029 489.064 Q144.029 496.171 145.834 499.736 Q147.663 503.277 151.274 503.277 Q154.908 503.277 156.714 499.736 Q158.542 496.171 158.542 489.064 Q158.542 481.935 156.714 478.393 Q154.908 474.828 151.274 474.828 M151.274 471.125 Q157.084 471.125 160.14 475.731 Q163.218 480.314 163.218 489.064 Q163.218 497.791 160.14 502.398 Q157.084 506.981 151.274 506.981 Q145.464 506.981 142.385 502.398 Q139.329 497.791 139.329 489.064 Q139.329 480.314 142.385 475.731 Q145.464 471.125 151.274 471.125 Z\" fill=\"#000000\" fill-rule=\"evenodd\" fill-opacity=\"1\" /><path clip-path=\"url(#clip790)\" d=\"M 0 0 M120.88 278.572 L137.2 278.572 L137.2 282.507 L115.256 282.507 L115.256 278.572 Q117.918 275.818 122.501 271.188 Q127.107 266.535 128.288 265.193 Q130.533 262.67 131.413 260.933 Q132.316 259.174 132.316 257.484 Q132.316 254.73 130.371 252.994 Q128.45 251.258 125.348 251.258 Q123.149 251.258 120.695 252.021 Q118.265 252.785 115.487 254.336 L115.487 249.614 Q118.311 248.48 120.765 247.901 Q123.218 247.322 125.255 247.322 Q130.626 247.322 133.82 250.008 Q137.015 252.693 137.015 257.183 Q137.015 259.313 136.204 261.234 Q135.417 263.133 133.311 265.725 Q132.732 266.396 129.63 269.614 Q126.529 272.808 120.88 278.572 Z\" fill=\"#000000\" fill-rule=\"evenodd\" fill-opacity=\"1\" /><path clip-path=\"url(#clip790)\" d=\"M 0 0 M142.316 247.947 L160.672 247.947 L160.672 251.883 L146.598 251.883 L146.598 260.355 Q147.616 260.008 148.635 259.845 Q149.653 259.66 150.672 259.66 Q156.459 259.66 159.839 262.832 Q163.218 266.003 163.218 271.42 Q163.218 276.998 159.746 280.1 Q156.274 283.179 149.954 283.179 Q147.778 283.179 145.51 282.808 Q143.265 282.438 140.857 281.697 L140.857 276.998 Q142.941 278.132 145.163 278.688 Q147.385 279.244 149.862 279.244 Q153.866 279.244 156.204 277.137 Q158.542 275.031 158.542 271.42 Q158.542 267.808 156.204 265.702 Q153.866 263.595 149.862 263.595 Q147.987 263.595 146.112 264.012 Q144.26 264.429 142.316 265.308 L142.316 247.947 Z\" fill=\"#000000\" fill-rule=\"evenodd\" fill-opacity=\"1\" /><path clip-path=\"url(#clip790)\" d=\"M 0 0 M16.4842 888.037 L16.4842 860.728 L21.895 860.728 L21.895 881.607 L35.8996 881.607 L35.8996 862.765 L41.3104 862.765 L41.3104 881.607 L64.0042 881.607 L64.0042 888.037 L16.4842 888.037 Z\" fill=\"#000000\" fill-rule=\"evenodd\" fill-opacity=\"1\" /><path clip-path=\"url(#clip790)\" d=\"M 0 0 M33.8307 838.671 Q33.2578 839.657 33.0032 840.835 Q32.7167 841.981 32.7167 843.381 Q32.7167 848.346 35.9632 851.02 Q39.1779 853.662 45.2253 853.662 L64.0042 853.662 L64.0042 859.55 L28.3562 859.55 L28.3562 853.662 L33.8944 853.662 Q30.6479 851.816 29.0883 848.856 Q27.4968 845.896 27.4968 841.662 Q27.4968 841.058 27.5923 840.326 Q27.656 839.594 27.8151 838.702 L33.8307 838.671 Z\" fill=\"#000000\" fill-rule=\"evenodd\" fill-opacity=\"1\" /><path clip-path=\"url(#clip790)\" d=\"M 0 0 M44.7161 803.468 L47.5806 803.468 L47.5806 830.395 Q53.6281 830.013 56.8109 826.767 Q59.9619 823.488 59.9619 817.664 Q59.9619 814.29 59.1344 811.139 Q58.3069 807.956 56.6518 804.837 L62.1899 804.837 Q63.5267 807.988 64.227 811.298 Q64.9272 814.608 64.9272 818.014 Q64.9272 826.544 59.9619 831.541 Q54.9967 836.506 46.5303 836.506 Q37.7774 836.506 32.6531 831.796 Q27.4968 827.053 27.4968 819.032 Q27.4968 811.839 32.1438 807.67 Q36.7589 803.468 44.7161 803.468 M42.9973 809.325 Q38.1912 809.388 35.3266 812.03 Q32.4621 814.64 32.4621 818.969 Q32.4621 823.87 35.2312 826.83 Q38.0002 829.759 43.0292 830.204 L42.9973 809.325 Z\" fill=\"#000000\" fill-rule=\"evenodd\" fill-opacity=\"1\" /><path clip-path=\"url(#clip790)\" d=\"M 0 0 M46.212 793.824 Q52.6732 793.824 56.3653 791.182 Q60.0256 788.509 60.0256 783.862 Q60.0256 779.215 56.3653 776.541 Q52.6732 773.868 46.212 773.868 Q39.7508 773.868 36.0905 776.541 Q32.3984 779.215 32.3984 783.862 Q32.3984 788.509 36.0905 791.182 Q39.7508 793.824 46.212 793.824 M58.657 773.868 Q61.8398 775.714 63.3994 778.547 Q64.9272 781.347 64.9272 785.294 Q64.9272 791.755 59.771 795.829 Q54.6147 799.872 46.212 799.872 Q37.8093 799.872 32.6531 795.829 Q27.4968 791.755 27.4968 785.294 Q27.4968 781.347 29.0564 778.547 Q30.5842 775.714 33.7671 773.868 L28.3562 773.868 L28.3562 768.011 L77.5631 768.011 L77.5631 773.868 L58.657 773.868 Z\" fill=\"#000000\" fill-rule=\"evenodd\" fill-opacity=\"1\" /><path clip-path=\"url(#clip790)\" d=\"M 0 0 M49.9359 762.473 L28.3562 762.473 L28.3562 756.617 L49.7131 756.617 Q54.7739 756.617 57.3202 754.643 Q59.8346 752.67 59.8346 748.723 Q59.8346 743.981 56.8109 741.243 Q53.7872 738.474 48.5673 738.474 L28.3562 738.474 L28.3562 732.618 L64.0042 732.618 L64.0042 738.474 L58.5296 738.474 Q61.7762 740.607 63.3676 743.44 Q64.9272 746.241 64.9272 749.964 Q64.9272 756.107 61.1078 759.29 Q57.2883 762.473 49.9359 762.473 M27.4968 747.736 L27.4968 747.736 Z\" fill=\"#000000\" fill-rule=\"evenodd\" fill-opacity=\"1\" /><path clip-path=\"url(#clip790)\" d=\"M 0 0 M44.7161 695.983 L47.5806 695.983 L47.5806 722.91 Q53.6281 722.528 56.8109 719.282 Q59.9619 716.003 59.9619 710.179 Q59.9619 706.805 59.1344 703.654 Q58.3069 700.471 56.6518 697.352 L62.1899 697.352 Q63.5267 700.503 64.227 703.813 Q64.9272 707.123 64.9272 710.529 Q64.9272 719.059 59.9619 724.056 Q54.9967 729.021 46.5303 729.021 Q37.7774 729.021 32.6531 724.311 Q27.4968 719.568 27.4968 711.547 Q27.4968 704.354 32.1438 700.185 Q36.7589 695.983 44.7161 695.983 M42.9973 701.84 Q38.1912 701.903 35.3266 704.545 Q32.4621 707.155 32.4621 711.484 Q32.4621 716.385 35.2312 719.345 Q38.0002 722.274 43.0292 722.719 L42.9973 701.84 M11.869 714.253 L11.869 709.542 L23.8365 701.744 L23.8365 706.168 L16.0386 711.898 L23.8365 717.627 L23.8365 722.051 L11.869 714.253 Z\" fill=\"#000000\" fill-rule=\"evenodd\" fill-opacity=\"1\" /><path clip-path=\"url(#clip790)\" d=\"M 0 0 M42.4881 660.208 L64.0042 660.208 L64.0042 666.064 L42.679 666.064 Q37.6183 666.064 35.1038 668.038 Q32.5894 670.011 32.5894 673.958 Q32.5894 678.7 35.6131 681.438 Q38.6368 684.175 43.8567 684.175 L64.0042 684.175 L64.0042 690.063 L28.3562 690.063 L28.3562 684.175 L33.8944 684.175 Q30.6797 682.074 29.0883 679.241 Q27.4968 676.377 27.4968 672.653 Q27.4968 666.51 31.3163 663.359 Q35.1038 660.208 42.4881 660.208 Z\" fill=\"#000000\" fill-rule=\"evenodd\" fill-opacity=\"1\" /><path clip-path=\"url(#clip790)\" d=\"M 0 0 M29.7248 628.411 L35.1993 628.411 Q33.8307 630.894 33.1623 633.408 Q32.4621 635.891 32.4621 638.437 Q32.4621 644.135 36.0905 647.286 Q39.6872 650.437 46.212 650.437 Q52.7369 650.437 56.3653 647.286 Q59.9619 644.135 59.9619 638.437 Q59.9619 635.891 59.2935 633.408 Q58.5933 630.894 57.2247 628.411 L62.6355 628.411 Q63.7814 630.862 64.3543 633.504 Q64.9272 636.114 64.9272 639.074 Q64.9272 647.127 59.8664 651.869 Q54.8057 656.611 46.212 656.611 Q37.491 656.611 32.4939 651.837 Q27.4968 647.031 27.4968 638.692 Q27.4968 635.987 28.0697 633.408 Q28.6108 630.83 29.7248 628.411 Z\" fill=\"#000000\" fill-rule=\"evenodd\" fill-opacity=\"1\" /><path clip-path=\"url(#clip790)\" d=\"M 0 0 M28.3562 622.268 L28.3562 616.412 L64.0042 616.412 L64.0042 622.268 L28.3562 622.268 M14.479 622.268 L14.479 616.412 L21.895 616.412 L21.895 622.268 L14.479 622.268 Z\" fill=\"#000000\" fill-rule=\"evenodd\" fill-opacity=\"1\" /><path clip-path=\"url(#clip790)\" d=\"M 0 0 M46.0847 594.068 Q46.0847 601.166 47.7079 603.903 Q49.3312 606.641 53.2461 606.641 Q56.3653 606.641 58.2114 604.604 Q60.0256 602.535 60.0256 599.002 Q60.0256 594.132 56.5881 591.204 Q53.1188 588.244 47.3897 588.244 L46.0847 588.244 L46.0847 594.068 M43.6657 582.387 L64.0042 582.387 L64.0042 588.244 L58.5933 588.244 Q61.8398 590.249 63.3994 593.241 Q64.9272 596.233 64.9272 600.561 Q64.9272 606.036 61.8716 609.282 Q58.7843 612.497 53.6281 612.497 Q47.6125 612.497 44.5569 608.487 Q41.5014 604.444 41.5014 596.455 L41.5014 588.244 L40.9285 588.244 Q36.8862 588.244 34.6901 590.917 Q32.4621 593.559 32.4621 598.365 Q32.4621 601.421 33.1941 604.317 Q33.9262 607.214 35.3903 609.887 L29.9795 609.887 Q28.7381 606.672 28.1334 603.649 Q27.4968 600.625 27.4968 597.76 Q27.4968 590.026 31.5072 586.207 Q35.5176 582.387 43.6657 582.387 Z\" fill=\"#000000\" fill-rule=\"evenodd\" fill-opacity=\"1\" /><path clip-path=\"url(#clip792)\" d=\"\nM532.93 1339.48 L532.93 1384.24 L563.073 1384.24 L563.073 1339.48 L532.93 1339.48 L532.93 1339.48  Z\n  \" fill=\"#009af9\" fill-rule=\"evenodd\" fill-opacity=\"1\"/>\n<polyline clip-path=\"url(#clip792)\" style=\"stroke:#000000; stroke-width:4; stroke-opacity:1; fill:none\" points=\"\n  532.93,1339.48 532.93,1384.24 563.073,1384.24 563.073,1339.48 532.93,1339.48 \n  \"/>\n<path clip-path=\"url(#clip792)\" d=\"\nM563.073 1160.44 L563.073 1384.24 L593.215 1384.24 L593.215 1160.44 L563.073 1160.44 L563.073 1160.44  Z\n  \" fill=\"#009af9\" fill-rule=\"evenodd\" fill-opacity=\"1\"/>\n<polyline clip-path=\"url(#clip792)\" style=\"stroke:#000000; stroke-width:4; stroke-opacity:1; fill:none\" points=\"\n  563.073,1160.44 563.073,1384.24 593.215,1384.24 593.215,1160.44 563.073,1160.44 \n  \"/>\n<path clip-path=\"url(#clip792)\" d=\"\nM593.215 847.113 L593.215 1384.24 L623.358 1384.24 L623.358 847.113 L593.215 847.113 L593.215 847.113  Z\n  \" fill=\"#009af9\" fill-rule=\"evenodd\" fill-opacity=\"1\"/>\n<polyline clip-path=\"url(#clip792)\" style=\"stroke:#000000; stroke-width:4; stroke-opacity:1; fill:none\" points=\"\n  593.215,847.113 593.215,1384.24 623.358,1384.24 623.358,847.113 593.215,847.113 \n  \"/>\n<path clip-path=\"url(#clip792)\" d=\"\nM623.358 847.113 L623.358 1384.24 L653.501 1384.24 L653.501 847.113 L623.358 847.113 L623.358 847.113  Z\n  \" fill=\"#009af9\" fill-rule=\"evenodd\" fill-opacity=\"1\"/>\n<polyline clip-path=\"url(#clip792)\" style=\"stroke:#000000; stroke-width:4; stroke-opacity:1; fill:none\" points=\"\n  623.358,847.113 623.358,1384.24 653.501,1384.24 653.501,847.113 623.358,847.113 \n  \"/>\n<path clip-path=\"url(#clip792)\" d=\"\nM653.501 399.509 L653.501 1384.24 L683.644 1384.24 L683.644 399.509 L653.501 399.509 L653.501 399.509  Z\n  \" fill=\"#009af9\" fill-rule=\"evenodd\" fill-opacity=\"1\"/>\n<polyline clip-path=\"url(#clip792)\" style=\"stroke:#000000; stroke-width:4; stroke-opacity:1; fill:none\" points=\"\n  653.501,399.509 653.501,1384.24 683.644,1384.24 683.644,399.509 653.501,399.509 \n  \"/>\n<path clip-path=\"url(#clip792)\" d=\"\nM683.644 354.748 L683.644 1384.24 L713.787 1384.24 L713.787 354.748 L683.644 354.748 L683.644 354.748  Z\n  \" fill=\"#009af9\" fill-rule=\"evenodd\" fill-opacity=\"1\"/>\n<polyline clip-path=\"url(#clip792)\" style=\"stroke:#000000; stroke-width:4; stroke-opacity:1; fill:none\" points=\"\n  683.644,354.748 683.644,1384.24 713.787,1384.24 713.787,354.748 683.644,354.748 \n  \"/>\n<path clip-path=\"url(#clip792)\" d=\"\nM713.787 220.467 L713.787 1384.24 L743.93 1384.24 L743.93 220.467 L713.787 220.467 L713.787 220.467  Z\n  \" fill=\"#009af9\" fill-rule=\"evenodd\" fill-opacity=\"1\"/>\n<polyline clip-path=\"url(#clip792)\" style=\"stroke:#000000; stroke-width:4; stroke-opacity:1; fill:none\" points=\"\n  713.787,220.467 713.787,1384.24 743.93,1384.24 743.93,220.467 713.787,220.467 \n  \"/>\n<path clip-path=\"url(#clip792)\" d=\"\nM743.93 130.946 L743.93 1384.24 L774.073 1384.24 L774.073 130.946 L743.93 130.946 L743.93 130.946  Z\n  \" fill=\"#009af9\" fill-rule=\"evenodd\" fill-opacity=\"1\"/>\n<polyline clip-path=\"url(#clip792)\" style=\"stroke:#000000; stroke-width:4; stroke-opacity:1; fill:none\" points=\"\n  743.93,130.946 743.93,1384.24 774.073,1384.24 774.073,130.946 743.93,130.946 \n  \"/>\n<path clip-path=\"url(#clip792)\" d=\"\nM774.073 86.1857 L774.073 1384.24 L804.216 1384.24 L804.216 86.1857 L774.073 86.1857 L774.073 86.1857  Z\n  \" fill=\"#009af9\" fill-rule=\"evenodd\" fill-opacity=\"1\"/>\n<polyline clip-path=\"url(#clip792)\" style=\"stroke:#000000; stroke-width:4; stroke-opacity:1; fill:none\" points=\"\n  774.073,86.1857 774.073,1384.24 804.216,1384.24 804.216,86.1857 774.073,86.1857 \n  \"/>\n<path clip-path=\"url(#clip792)\" d=\"\nM804.216 354.748 L804.216 1384.24 L834.359 1384.24 L834.359 354.748 L804.216 354.748 L804.216 354.748  Z\n  \" fill=\"#009af9\" fill-rule=\"evenodd\" fill-opacity=\"1\"/>\n<polyline clip-path=\"url(#clip792)\" style=\"stroke:#000000; stroke-width:4; stroke-opacity:1; fill:none\" points=\"\n  804.216,354.748 804.216,1384.24 834.359,1384.24 834.359,354.748 804.216,354.748 \n  \"/>\n<path clip-path=\"url(#clip792)\" d=\"\nM834.359 489.03 L834.359 1384.24 L864.502 1384.24 L864.502 489.03 L834.359 489.03 L834.359 489.03  Z\n  \" fill=\"#009af9\" fill-rule=\"evenodd\" fill-opacity=\"1\"/>\n<polyline clip-path=\"url(#clip792)\" style=\"stroke:#000000; stroke-width:4; stroke-opacity:1; fill:none\" points=\"\n  834.359,489.03 834.359,1384.24 864.502,1384.24 864.502,489.03 834.359,489.03 \n  \"/>\n<path clip-path=\"url(#clip792)\" d=\"\nM864.502 847.113 L864.502 1384.24 L894.644 1384.24 L894.644 847.113 L864.502 847.113 L864.502 847.113  Z\n  \" fill=\"#009af9\" fill-rule=\"evenodd\" fill-opacity=\"1\"/>\n<polyline clip-path=\"url(#clip792)\" style=\"stroke:#000000; stroke-width:4; stroke-opacity:1; fill:none\" points=\"\n  864.502,847.113 864.502,1384.24 894.644,1384.24 894.644,847.113 864.502,847.113 \n  \"/>\n<path clip-path=\"url(#clip792)\" d=\"\nM894.644 981.394 L894.644 1384.24 L924.787 1384.24 L924.787 981.394 L894.644 981.394 L894.644 981.394  Z\n  \" fill=\"#009af9\" fill-rule=\"evenodd\" fill-opacity=\"1\"/>\n<polyline clip-path=\"url(#clip792)\" style=\"stroke:#000000; stroke-width:4; stroke-opacity:1; fill:none\" points=\"\n  894.644,981.394 894.644,1384.24 924.787,1384.24 924.787,981.394 894.644,981.394 \n  \"/>\n<path clip-path=\"url(#clip792)\" d=\"\nM924.787 936.634 L924.787 1384.24 L954.93 1384.24 L954.93 936.634 L924.787 936.634 L924.787 936.634  Z\n  \" fill=\"#009af9\" fill-rule=\"evenodd\" fill-opacity=\"1\"/>\n<polyline clip-path=\"url(#clip792)\" style=\"stroke:#000000; stroke-width:4; stroke-opacity:1; fill:none\" points=\"\n  924.787,936.634 924.787,1384.24 954.93,1384.24 954.93,936.634 924.787,936.634 \n  \"/>\n<path clip-path=\"url(#clip792)\" d=\"\nM954.93 1115.68 L954.93 1384.24 L985.073 1384.24 L985.073 1115.68 L954.93 1115.68 L954.93 1115.68  Z\n  \" fill=\"#009af9\" fill-rule=\"evenodd\" fill-opacity=\"1\"/>\n<polyline clip-path=\"url(#clip792)\" style=\"stroke:#000000; stroke-width:4; stroke-opacity:1; fill:none\" points=\"\n  954.93,1115.68 954.93,1384.24 985.073,1384.24 985.073,1115.68 954.93,1115.68 \n  \"/>\n<path clip-path=\"url(#clip792)\" d=\"\nM985.073 1070.92 L985.073 1384.24 L1015.22 1384.24 L1015.22 1070.92 L985.073 1070.92 L985.073 1070.92  Z\n  \" fill=\"#009af9\" fill-rule=\"evenodd\" fill-opacity=\"1\"/>\n<polyline clip-path=\"url(#clip792)\" style=\"stroke:#000000; stroke-width:4; stroke-opacity:1; fill:none\" points=\"\n  985.073,1070.92 985.073,1384.24 1015.22,1384.24 1015.22,1070.92 985.073,1070.92 \n  \"/>\n<path clip-path=\"url(#clip792)\" d=\"\nM1015.22 1294.72 L1015.22 1384.24 L1045.36 1384.24 L1045.36 1294.72 L1015.22 1294.72 L1015.22 1294.72  Z\n  \" fill=\"#009af9\" fill-rule=\"evenodd\" fill-opacity=\"1\"/>\n<polyline clip-path=\"url(#clip792)\" style=\"stroke:#000000; stroke-width:4; stroke-opacity:1; fill:none\" points=\"\n  1015.22,1294.72 1015.22,1384.24 1045.36,1384.24 1045.36,1294.72 1015.22,1294.72 \n  \"/>\n<path clip-path=\"url(#clip792)\" d=\"\nM1045.36 1249.96 L1045.36 1384.24 L1075.5 1384.24 L1075.5 1249.96 L1045.36 1249.96 L1045.36 1249.96  Z\n  \" fill=\"#009af9\" fill-rule=\"evenodd\" fill-opacity=\"1\"/>\n<polyline clip-path=\"url(#clip792)\" style=\"stroke:#000000; stroke-width:4; stroke-opacity:1; fill:none\" points=\"\n  1045.36,1249.96 1045.36,1384.24 1075.5,1384.24 1075.5,1249.96 1045.36,1249.96 \n  \"/>\n<path clip-path=\"url(#clip792)\" d=\"\nM1075.5 1339.48 L1075.5 1384.24 L1105.64 1384.24 L1105.64 1339.48 L1075.5 1339.48 L1075.5 1339.48  Z\n  \" fill=\"#009af9\" fill-rule=\"evenodd\" fill-opacity=\"1\"/>\n<polyline clip-path=\"url(#clip792)\" style=\"stroke:#000000; stroke-width:4; stroke-opacity:1; fill:none\" points=\"\n  1075.5,1339.48 1075.5,1384.24 1105.64,1384.24 1105.64,1339.48 1075.5,1339.48 \n  \"/>\n<path clip-path=\"url(#clip792)\" d=\"\nM1105.64 1205.2 L1105.64 1384.24 L1135.79 1384.24 L1135.79 1205.2 L1105.64 1205.2 L1105.64 1205.2  Z\n  \" fill=\"#009af9\" fill-rule=\"evenodd\" fill-opacity=\"1\"/>\n<polyline clip-path=\"url(#clip792)\" style=\"stroke:#000000; stroke-width:4; stroke-opacity:1; fill:none\" points=\"\n  1105.64,1205.2 1105.64,1384.24 1135.79,1384.24 1135.79,1205.2 1105.64,1205.2 \n  \"/>\n<path clip-path=\"url(#clip792)\" d=\"\nM1135.79 1205.2 L1135.79 1384.24 L1165.93 1384.24 L1165.93 1205.2 L1135.79 1205.2 L1135.79 1205.2  Z\n  \" fill=\"#009af9\" fill-rule=\"evenodd\" fill-opacity=\"1\"/>\n<polyline clip-path=\"url(#clip792)\" style=\"stroke:#000000; stroke-width:4; stroke-opacity:1; fill:none\" points=\"\n  1135.79,1205.2 1135.79,1384.24 1165.93,1384.24 1165.93,1205.2 1135.79,1205.2 \n  \"/>\n<path clip-path=\"url(#clip792)\" d=\"\nM1165.93 1205.2 L1165.93 1384.24 L1196.07 1384.24 L1196.07 1205.2 L1165.93 1205.2 L1165.93 1205.2  Z\n  \" fill=\"#009af9\" fill-rule=\"evenodd\" fill-opacity=\"1\"/>\n<polyline clip-path=\"url(#clip792)\" style=\"stroke:#000000; stroke-width:4; stroke-opacity:1; fill:none\" points=\"\n  1165.93,1205.2 1165.93,1384.24 1196.07,1384.24 1196.07,1205.2 1165.93,1205.2 \n  \"/>\n<path clip-path=\"url(#clip792)\" d=\"\nM1196.07 1160.44 L1196.07 1384.24 L1226.22 1384.24 L1226.22 1160.44 L1196.07 1160.44 L1196.07 1160.44  Z\n  \" fill=\"#009af9\" fill-rule=\"evenodd\" fill-opacity=\"1\"/>\n<polyline clip-path=\"url(#clip792)\" style=\"stroke:#000000; stroke-width:4; stroke-opacity:1; fill:none\" points=\"\n  1196.07,1160.44 1196.07,1384.24 1226.22,1384.24 1226.22,1160.44 1196.07,1160.44 \n  \"/>\n<path clip-path=\"url(#clip792)\" d=\"\nM1226.22 1205.2 L1226.22 1384.24 L1256.36 1384.24 L1256.36 1205.2 L1226.22 1205.2 L1226.22 1205.2  Z\n  \" fill=\"#009af9\" fill-rule=\"evenodd\" fill-opacity=\"1\"/>\n<polyline clip-path=\"url(#clip792)\" style=\"stroke:#000000; stroke-width:4; stroke-opacity:1; fill:none\" points=\"\n  1226.22,1205.2 1226.22,1384.24 1256.36,1384.24 1256.36,1205.2 1226.22,1205.2 \n  \"/>\n<path clip-path=\"url(#clip792)\" d=\"\nM1256.36 1294.72 L1256.36 1384.24 L1286.5 1384.24 L1286.5 1294.72 L1256.36 1294.72 L1256.36 1294.72  Z\n  \" fill=\"#009af9\" fill-rule=\"evenodd\" fill-opacity=\"1\"/>\n<polyline clip-path=\"url(#clip792)\" style=\"stroke:#000000; stroke-width:4; stroke-opacity:1; fill:none\" points=\"\n  1256.36,1294.72 1256.36,1384.24 1286.5,1384.24 1286.5,1294.72 1256.36,1294.72 \n  \"/>\n<path clip-path=\"url(#clip792)\" d=\"\nM1286.5 1294.72 L1286.5 1384.24 L1316.65 1384.24 L1316.65 1294.72 L1286.5 1294.72 L1286.5 1294.72  Z\n  \" fill=\"#009af9\" fill-rule=\"evenodd\" fill-opacity=\"1\"/>\n<polyline clip-path=\"url(#clip792)\" style=\"stroke:#000000; stroke-width:4; stroke-opacity:1; fill:none\" points=\"\n  1286.5,1294.72 1286.5,1384.24 1316.65,1384.24 1316.65,1294.72 1286.5,1294.72 \n  \"/>\n<path clip-path=\"url(#clip792)\" d=\"\nM1316.65 1249.96 L1316.65 1384.24 L1346.79 1384.24 L1346.79 1249.96 L1316.65 1249.96 L1316.65 1249.96  Z\n  \" fill=\"#009af9\" fill-rule=\"evenodd\" fill-opacity=\"1\"/>\n<polyline clip-path=\"url(#clip792)\" style=\"stroke:#000000; stroke-width:4; stroke-opacity:1; fill:none\" points=\"\n  1316.65,1249.96 1316.65,1384.24 1346.79,1384.24 1346.79,1249.96 1316.65,1249.96 \n  \"/>\n<path clip-path=\"url(#clip792)\" d=\"\nM1346.79 1205.2 L1346.79 1384.24 L1376.93 1384.24 L1376.93 1205.2 L1346.79 1205.2 L1346.79 1205.2  Z\n  \" fill=\"#009af9\" fill-rule=\"evenodd\" fill-opacity=\"1\"/>\n<polyline clip-path=\"url(#clip792)\" style=\"stroke:#000000; stroke-width:4; stroke-opacity:1; fill:none\" points=\"\n  1346.79,1205.2 1346.79,1384.24 1376.93,1384.24 1376.93,1205.2 1346.79,1205.2 \n  \"/>\n<path clip-path=\"url(#clip792)\" d=\"\nM1376.93 1249.96 L1376.93 1384.24 L1407.07 1384.24 L1407.07 1249.96 L1376.93 1249.96 L1376.93 1249.96  Z\n  \" fill=\"#009af9\" fill-rule=\"evenodd\" fill-opacity=\"1\"/>\n<polyline clip-path=\"url(#clip792)\" style=\"stroke:#000000; stroke-width:4; stroke-opacity:1; fill:none\" points=\"\n  1376.93,1249.96 1376.93,1384.24 1407.07,1384.24 1407.07,1249.96 1376.93,1249.96 \n  \"/>\n<path clip-path=\"url(#clip792)\" d=\"\nM1407.07 1339.48 L1407.07 1384.24 L1437.22 1384.24 L1437.22 1339.48 L1407.07 1339.48 L1407.07 1339.48  Z\n  \" fill=\"#009af9\" fill-rule=\"evenodd\" fill-opacity=\"1\"/>\n<polyline clip-path=\"url(#clip792)\" style=\"stroke:#000000; stroke-width:4; stroke-opacity:1; fill:none\" points=\"\n  1407.07,1339.48 1407.07,1384.24 1437.22,1384.24 1437.22,1339.48 1407.07,1339.48 \n  \"/>\n<path clip-path=\"url(#clip792)\" d=\"\nM1437.22 1249.96 L1437.22 1384.24 L1467.36 1384.24 L1467.36 1249.96 L1437.22 1249.96 L1437.22 1249.96  Z\n  \" fill=\"#009af9\" fill-rule=\"evenodd\" fill-opacity=\"1\"/>\n<polyline clip-path=\"url(#clip792)\" style=\"stroke:#000000; stroke-width:4; stroke-opacity:1; fill:none\" points=\"\n  1437.22,1249.96 1437.22,1384.24 1467.36,1384.24 1467.36,1249.96 1437.22,1249.96 \n  \"/>\n<path clip-path=\"url(#clip792)\" d=\"\nM1467.36 1384.24 L1467.36 1384.24 L1497.5 1384.24 L1497.5 1384.24 L1467.36 1384.24 L1467.36 1384.24  Z\n  \" fill=\"#009af9\" fill-rule=\"evenodd\" fill-opacity=\"1\"/>\n<polyline clip-path=\"url(#clip792)\" style=\"stroke:#000000; stroke-width:4; stroke-opacity:1; fill:none\" points=\"\n  1467.36,1384.24 1467.36,1384.24 1497.5,1384.24 1467.36,1384.24 \n  \"/>\n<path clip-path=\"url(#clip792)\" d=\"\nM1497.5 1339.48 L1497.5 1384.24 L1527.65 1384.24 L1527.65 1339.48 L1497.5 1339.48 L1497.5 1339.48  Z\n  \" fill=\"#009af9\" fill-rule=\"evenodd\" fill-opacity=\"1\"/>\n<polyline clip-path=\"url(#clip792)\" style=\"stroke:#000000; stroke-width:4; stroke-opacity:1; fill:none\" points=\"\n  1497.5,1339.48 1497.5,1384.24 1527.65,1384.24 1527.65,1339.48 1497.5,1339.48 \n  \"/>\n<path clip-path=\"url(#clip792)\" d=\"\nM1527.65 1384.24 L1527.65 1384.24 L1557.79 1384.24 L1557.79 1384.24 L1527.65 1384.24 L1527.65 1384.24  Z\n  \" fill=\"#009af9\" fill-rule=\"evenodd\" fill-opacity=\"1\"/>\n<polyline clip-path=\"url(#clip792)\" style=\"stroke:#000000; stroke-width:4; stroke-opacity:1; fill:none\" points=\"\n  1527.65,1384.24 1527.65,1384.24 1557.79,1384.24 1527.65,1384.24 \n  \"/>\n<path clip-path=\"url(#clip792)\" d=\"\nM1557.79 1339.48 L1557.79 1384.24 L1587.93 1384.24 L1587.93 1339.48 L1557.79 1339.48 L1557.79 1339.48  Z\n  \" fill=\"#009af9\" fill-rule=\"evenodd\" fill-opacity=\"1\"/>\n<polyline clip-path=\"url(#clip792)\" style=\"stroke:#000000; stroke-width:4; stroke-opacity:1; fill:none\" points=\"\n  1557.79,1339.48 1557.79,1384.24 1587.93,1384.24 1587.93,1339.48 1557.79,1339.48 \n  \"/>\n<path clip-path=\"url(#clip792)\" d=\"\nM1587.93 1339.48 L1587.93 1384.24 L1618.07 1384.24 L1618.07 1339.48 L1587.93 1339.48 L1587.93 1339.48  Z\n  \" fill=\"#009af9\" fill-rule=\"evenodd\" fill-opacity=\"1\"/>\n<polyline clip-path=\"url(#clip792)\" style=\"stroke:#000000; stroke-width:4; stroke-opacity:1; fill:none\" points=\"\n  1587.93,1339.48 1587.93,1384.24 1618.07,1384.24 1618.07,1339.48 1587.93,1339.48 \n  \"/>\n<path clip-path=\"url(#clip792)\" d=\"\nM1618.07 1339.48 L1618.07 1384.24 L1648.22 1384.24 L1648.22 1339.48 L1618.07 1339.48 L1618.07 1339.48  Z\n  \" fill=\"#009af9\" fill-rule=\"evenodd\" fill-opacity=\"1\"/>\n<polyline clip-path=\"url(#clip792)\" style=\"stroke:#000000; stroke-width:4; stroke-opacity:1; fill:none\" points=\"\n  1618.07,1339.48 1618.07,1384.24 1648.22,1384.24 1648.22,1339.48 1618.07,1339.48 \n  \"/>\n<path clip-path=\"url(#clip792)\" d=\"\nM1648.22 1249.96 L1648.22 1384.24 L1678.36 1384.24 L1678.36 1249.96 L1648.22 1249.96 L1648.22 1249.96  Z\n  \" fill=\"#009af9\" fill-rule=\"evenodd\" fill-opacity=\"1\"/>\n<polyline clip-path=\"url(#clip792)\" style=\"stroke:#000000; stroke-width:4; stroke-opacity:1; fill:none\" points=\"\n  1648.22,1249.96 1648.22,1384.24 1678.36,1384.24 1678.36,1249.96 1648.22,1249.96 \n  \"/>\n<path clip-path=\"url(#clip792)\" d=\"\nM1678.36 1294.72 L1678.36 1384.24 L1708.5 1384.24 L1708.5 1294.72 L1678.36 1294.72 L1678.36 1294.72  Z\n  \" fill=\"#009af9\" fill-rule=\"evenodd\" fill-opacity=\"1\"/>\n<polyline clip-path=\"url(#clip792)\" style=\"stroke:#000000; stroke-width:4; stroke-opacity:1; fill:none\" points=\"\n  1678.36,1294.72 1678.36,1384.24 1708.5,1384.24 1708.5,1294.72 1678.36,1294.72 \n  \"/>\n<path clip-path=\"url(#clip792)\" d=\"\nM1708.5 1384.24 L1708.5 1384.24 L1738.65 1384.24 L1738.65 1384.24 L1708.5 1384.24 L1708.5 1384.24  Z\n  \" fill=\"#009af9\" fill-rule=\"evenodd\" fill-opacity=\"1\"/>\n<polyline clip-path=\"url(#clip792)\" style=\"stroke:#000000; stroke-width:4; stroke-opacity:1; fill:none\" points=\"\n  1708.5,1384.24 1708.5,1384.24 1738.65,1384.24 1708.5,1384.24 \n  \"/>\n<path clip-path=\"url(#clip792)\" d=\"\nM1738.65 1294.72 L1738.65 1384.24 L1768.79 1384.24 L1768.79 1294.72 L1738.65 1294.72 L1738.65 1294.72  Z\n  \" fill=\"#009af9\" fill-rule=\"evenodd\" fill-opacity=\"1\"/>\n<polyline clip-path=\"url(#clip792)\" style=\"stroke:#000000; stroke-width:4; stroke-opacity:1; fill:none\" points=\"\n  1738.65,1294.72 1738.65,1384.24 1768.79,1384.24 1768.79,1294.72 1738.65,1294.72 \n  \"/>\n<path clip-path=\"url(#clip792)\" d=\"\nM1768.79 1384.24 L1768.79 1384.24 L1798.93 1384.24 L1798.93 1384.24 L1768.79 1384.24 L1768.79 1384.24  Z\n  \" fill=\"#009af9\" fill-rule=\"evenodd\" fill-opacity=\"1\"/>\n<polyline clip-path=\"url(#clip792)\" style=\"stroke:#000000; stroke-width:4; stroke-opacity:1; fill:none\" points=\"\n  1768.79,1384.24 1768.79,1384.24 1798.93,1384.24 1768.79,1384.24 \n  \"/>\n<path clip-path=\"url(#clip792)\" d=\"\nM1798.93 1384.24 L1798.93 1384.24 L1829.07 1384.24 L1829.07 1384.24 L1798.93 1384.24 L1798.93 1384.24  Z\n  \" fill=\"#009af9\" fill-rule=\"evenodd\" fill-opacity=\"1\"/>\n<polyline clip-path=\"url(#clip792)\" style=\"stroke:#000000; stroke-width:4; stroke-opacity:1; fill:none\" points=\"\n  1798.93,1384.24 1798.93,1384.24 1829.07,1384.24 1798.93,1384.24 \n  \"/>\n<path clip-path=\"url(#clip792)\" d=\"\nM1829.07 1339.48 L1829.07 1384.24 L1859.22 1384.24 L1859.22 1339.48 L1829.07 1339.48 L1829.07 1339.48  Z\n  \" fill=\"#009af9\" fill-rule=\"evenodd\" fill-opacity=\"1\"/>\n<polyline clip-path=\"url(#clip792)\" style=\"stroke:#000000; stroke-width:4; stroke-opacity:1; fill:none\" points=\"\n  1829.07,1339.48 1829.07,1384.24 1859.22,1384.24 1859.22,1339.48 1829.07,1339.48 \n  \"/>\n<path clip-path=\"url(#clip792)\" d=\"\nM1859.22 1294.72 L1859.22 1384.24 L1889.36 1384.24 L1889.36 1294.72 L1859.22 1294.72 L1859.22 1294.72  Z\n  \" fill=\"#009af9\" fill-rule=\"evenodd\" fill-opacity=\"1\"/>\n<polyline clip-path=\"url(#clip792)\" style=\"stroke:#000000; stroke-width:4; stroke-opacity:1; fill:none\" points=\"\n  1859.22,1294.72 1859.22,1384.24 1889.36,1384.24 1889.36,1294.72 1859.22,1294.72 \n  \"/>\n<path clip-path=\"url(#clip792)\" d=\"\nM1889.36 1294.72 L1889.36 1384.24 L1919.5 1384.24 L1919.5 1294.72 L1889.36 1294.72 L1889.36 1294.72  Z\n  \" fill=\"#009af9\" fill-rule=\"evenodd\" fill-opacity=\"1\"/>\n<polyline clip-path=\"url(#clip792)\" style=\"stroke:#000000; stroke-width:4; stroke-opacity:1; fill:none\" points=\"\n  1889.36,1294.72 1889.36,1384.24 1919.5,1384.24 1919.5,1294.72 1889.36,1294.72 \n  \"/>\n<path clip-path=\"url(#clip792)\" d=\"\nM1919.5 1294.72 L1919.5 1384.24 L1949.65 1384.24 L1949.65 1294.72 L1919.5 1294.72 L1919.5 1294.72  Z\n  \" fill=\"#009af9\" fill-rule=\"evenodd\" fill-opacity=\"1\"/>\n<polyline clip-path=\"url(#clip792)\" style=\"stroke:#000000; stroke-width:4; stroke-opacity:1; fill:none\" points=\"\n  1919.5,1294.72 1919.5,1384.24 1949.65,1384.24 1949.65,1294.72 1919.5,1294.72 \n  \"/>\n<path clip-path=\"url(#clip792)\" d=\"\nM1949.65 1339.48 L1949.65 1384.24 L1979.79 1384.24 L1979.79 1339.48 L1949.65 1339.48 L1949.65 1339.48  Z\n  \" fill=\"#009af9\" fill-rule=\"evenodd\" fill-opacity=\"1\"/>\n<polyline clip-path=\"url(#clip792)\" style=\"stroke:#000000; stroke-width:4; stroke-opacity:1; fill:none\" points=\"\n  1949.65,1339.48 1949.65,1384.24 1979.79,1384.24 1979.79,1339.48 1949.65,1339.48 \n  \"/>\n<path clip-path=\"url(#clip792)\" d=\"\nM1979.79 1384.24 L1979.79 1384.24 L2009.93 1384.24 L2009.93 1384.24 L1979.79 1384.24 L1979.79 1384.24  Z\n  \" fill=\"#009af9\" fill-rule=\"evenodd\" fill-opacity=\"1\"/>\n<polyline clip-path=\"url(#clip792)\" style=\"stroke:#000000; stroke-width:4; stroke-opacity:1; fill:none\" points=\"\n  1979.79,1384.24 1979.79,1384.24 2009.93,1384.24 1979.79,1384.24 \n  \"/>\n<path clip-path=\"url(#clip792)\" d=\"\nM2009.93 1384.24 L2009.93 1384.24 L2040.07 1384.24 L2040.07 1384.24 L2009.93 1384.24 L2009.93 1384.24  Z\n  \" fill=\"#009af9\" fill-rule=\"evenodd\" fill-opacity=\"1\"/>\n<polyline clip-path=\"url(#clip792)\" style=\"stroke:#000000; stroke-width:4; stroke-opacity:1; fill:none\" points=\"\n  2009.93,1384.24 2009.93,1384.24 2040.07,1384.24 2009.93,1384.24 \n  \"/>\n<path clip-path=\"url(#clip792)\" d=\"\nM2040.07 1294.72 L2040.07 1384.24 L2070.22 1384.24 L2070.22 1294.72 L2040.07 1294.72 L2040.07 1294.72  Z\n  \" fill=\"#009af9\" fill-rule=\"evenodd\" fill-opacity=\"1\"/>\n<polyline clip-path=\"url(#clip792)\" style=\"stroke:#000000; stroke-width:4; stroke-opacity:1; fill:none\" points=\"\n  2040.07,1294.72 2040.07,1384.24 2070.22,1384.24 2070.22,1294.72 2040.07,1294.72 \n  \"/>\n<path clip-path=\"url(#clip792)\" d=\"\nM2070.22 1384.24 L2070.22 1384.24 L2100.36 1384.24 L2100.36 1384.24 L2070.22 1384.24 L2070.22 1384.24  Z\n  \" fill=\"#009af9\" fill-rule=\"evenodd\" fill-opacity=\"1\"/>\n<polyline clip-path=\"url(#clip792)\" style=\"stroke:#000000; stroke-width:4; stroke-opacity:1; fill:none\" points=\"\n  2070.22,1384.24 2070.22,1384.24 2100.36,1384.24 2070.22,1384.24 \n  \"/>\n<path clip-path=\"url(#clip792)\" d=\"\nM2100.36 1339.48 L2100.36 1384.24 L2130.5 1384.24 L2130.5 1339.48 L2100.36 1339.48 L2100.36 1339.48  Z\n  \" fill=\"#009af9\" fill-rule=\"evenodd\" fill-opacity=\"1\"/>\n<polyline clip-path=\"url(#clip792)\" style=\"stroke:#000000; stroke-width:4; stroke-opacity:1; fill:none\" points=\"\n  2100.36,1339.48 2100.36,1384.24 2130.5,1384.24 2130.5,1339.48 2100.36,1339.48 \n  \"/>\n<path clip-path=\"url(#clip792)\" d=\"\nM2130.5 1339.48 L2130.5 1384.24 L2160.65 1384.24 L2160.65 1339.48 L2130.5 1339.48 L2130.5 1339.48  Z\n  \" fill=\"#009af9\" fill-rule=\"evenodd\" fill-opacity=\"1\"/>\n<polyline clip-path=\"url(#clip792)\" style=\"stroke:#000000; stroke-width:4; stroke-opacity:1; fill:none\" points=\"\n  2130.5,1339.48 2130.5,1384.24 2160.65,1384.24 2160.65,1339.48 2130.5,1339.48 \n  \"/>\n<path clip-path=\"url(#clip792)\" d=\"\nM2160.65 1339.48 L2160.65 1384.24 L2190.79 1384.24 L2190.79 1339.48 L2160.65 1339.48 L2160.65 1339.48  Z\n  \" fill=\"#009af9\" fill-rule=\"evenodd\" fill-opacity=\"1\"/>\n<polyline clip-path=\"url(#clip792)\" style=\"stroke:#000000; stroke-width:4; stroke-opacity:1; fill:none\" points=\"\n  2160.65,1339.48 2160.65,1384.24 2190.79,1384.24 2190.79,1339.48 2160.65,1339.48 \n  \"/>\n<path clip-path=\"url(#clip792)\" d=\"\nM2190.79 1249.96 L2190.79 1384.24 L2220.93 1384.24 L2220.93 1249.96 L2190.79 1249.96 L2190.79 1249.96  Z\n  \" fill=\"#009af9\" fill-rule=\"evenodd\" fill-opacity=\"1\"/>\n<polyline clip-path=\"url(#clip792)\" style=\"stroke:#000000; stroke-width:4; stroke-opacity:1; fill:none\" points=\"\n  2190.79,1249.96 2190.79,1384.24 2220.93,1384.24 2220.93,1249.96 2190.79,1249.96 \n  \"/>\n<path clip-path=\"url(#clip792)\" d=\"\nM2220.93 1294.72 L2220.93 1384.24 L2251.07 1384.24 L2251.07 1294.72 L2220.93 1294.72 L2220.93 1294.72  Z\n  \" fill=\"#009af9\" fill-rule=\"evenodd\" fill-opacity=\"1\"/>\n<polyline clip-path=\"url(#clip792)\" style=\"stroke:#000000; stroke-width:4; stroke-opacity:1; fill:none\" points=\"\n  2220.93,1294.72 2220.93,1384.24 2251.07,1384.24 2251.07,1294.72 2220.93,1294.72 \n  \"/>\n<path clip-path=\"url(#clip792)\" d=\"\nM2251.07 1339.48 L2251.07 1384.24 L2281.22 1384.24 L2281.22 1339.48 L2251.07 1339.48 L2251.07 1339.48  Z\n  \" fill=\"#009af9\" fill-rule=\"evenodd\" fill-opacity=\"1\"/>\n<polyline clip-path=\"url(#clip792)\" style=\"stroke:#000000; stroke-width:4; stroke-opacity:1; fill:none\" points=\"\n  2251.07,1339.48 2251.07,1384.24 2281.22,1384.24 2281.22,1339.48 2251.07,1339.48 \n  \"/>\n<path clip-path=\"url(#clip792)\" d=\"\nM2281.22 1249.96 L2281.22 1384.24 L2311.36 1384.24 L2311.36 1249.96 L2281.22 1249.96 L2281.22 1249.96  Z\n  \" fill=\"#009af9\" fill-rule=\"evenodd\" fill-opacity=\"1\"/>\n<polyline clip-path=\"url(#clip792)\" style=\"stroke:#000000; stroke-width:4; stroke-opacity:1; fill:none\" points=\"\n  2281.22,1249.96 2281.22,1384.24 2311.36,1384.24 2311.36,1249.96 2281.22,1249.96 \n  \"/>\n<path clip-path=\"url(#clip792)\" d=\"\nM2311.36 1294.72 L2311.36 1384.24 L2341.5 1384.24 L2341.5 1294.72 L2311.36 1294.72 L2311.36 1294.72  Z\n  \" fill=\"#009af9\" fill-rule=\"evenodd\" fill-opacity=\"1\"/>\n<polyline clip-path=\"url(#clip792)\" style=\"stroke:#000000; stroke-width:4; stroke-opacity:1; fill:none\" points=\"\n  2311.36,1294.72 2311.36,1384.24 2341.5,1384.24 2341.5,1294.72 2311.36,1294.72 \n  \"/>\n<path clip-path=\"url(#clip792)\" d=\"\nM2341.5 1339.48 L2341.5 1384.24 L2371.65 1384.24 L2371.65 1339.48 L2341.5 1339.48 L2341.5 1339.48  Z\n  \" fill=\"#009af9\" fill-rule=\"evenodd\" fill-opacity=\"1\"/>\n<polyline clip-path=\"url(#clip792)\" style=\"stroke:#000000; stroke-width:4; stroke-opacity:1; fill:none\" points=\"\n  2341.5,1339.48 2341.5,1384.24 2371.65,1384.24 2371.65,1339.48 2341.5,1339.48 \n  \"/>\n<path clip-path=\"url(#clip792)\" d=\"\nM2371.65 1339.48 L2371.65 1384.24 L2401.79 1384.24 L2401.79 1339.48 L2371.65 1339.48 L2371.65 1339.48  Z\n  \" fill=\"#009af9\" fill-rule=\"evenodd\" fill-opacity=\"1\"/>\n<polyline clip-path=\"url(#clip792)\" style=\"stroke:#000000; stroke-width:4; stroke-opacity:1; fill:none\" points=\"\n  2371.65,1339.48 2371.65,1384.24 2401.79,1384.24 2401.79,1339.48 2371.65,1339.48 \n  \"/>\n<path clip-path=\"url(#clip792)\" d=\"\nM2401.79 1339.48 L2401.79 1384.24 L2431.93 1384.24 L2431.93 1339.48 L2401.79 1339.48 L2401.79 1339.48  Z\n  \" fill=\"#009af9\" fill-rule=\"evenodd\" fill-opacity=\"1\"/>\n<polyline clip-path=\"url(#clip792)\" style=\"stroke:#000000; stroke-width:4; stroke-opacity:1; fill:none\" points=\"\n  2401.79,1339.48 2401.79,1384.24 2431.93,1384.24 2431.93,1339.48 2401.79,1339.48 \n  \"/>\n<path clip-path=\"url(#clip792)\" d=\"\nM2431.93 1205.2 L2431.93 1384.24 L2462.08 1384.24 L2462.08 1205.2 L2431.93 1205.2 L2431.93 1205.2  Z\n  \" fill=\"#009af9\" fill-rule=\"evenodd\" fill-opacity=\"1\"/>\n<polyline clip-path=\"url(#clip792)\" style=\"stroke:#000000; stroke-width:4; stroke-opacity:1; fill:none\" points=\"\n  2431.93,1205.2 2431.93,1384.24 2462.08,1384.24 2462.08,1205.2 2431.93,1205.2 \n  \"/>\n<path clip-path=\"url(#clip792)\" d=\"\nM2462.08 1339.48 L2462.08 1384.24 L2492.22 1384.24 L2492.22 1339.48 L2462.08 1339.48 L2462.08 1339.48  Z\n  \" fill=\"#009af9\" fill-rule=\"evenodd\" fill-opacity=\"1\"/>\n<polyline clip-path=\"url(#clip792)\" style=\"stroke:#000000; stroke-width:4; stroke-opacity:1; fill:none\" points=\"\n  2462.08,1339.48 2462.08,1384.24 2492.22,1384.24 2492.22,1339.48 2462.08,1339.48 \n  \"/>\n<path clip-path=\"url(#clip792)\" d=\"\nM2492.22 1294.72 L2492.22 1384.24 L2522.36 1384.24 L2522.36 1294.72 L2492.22 1294.72 L2492.22 1294.72  Z\n  \" fill=\"#009af9\" fill-rule=\"evenodd\" fill-opacity=\"1\"/>\n<polyline clip-path=\"url(#clip792)\" style=\"stroke:#000000; stroke-width:4; stroke-opacity:1; fill:none\" points=\"\n  2492.22,1294.72 2492.22,1384.24 2522.36,1384.24 2522.36,1294.72 2492.22,1294.72 \n  \"/>\n<path clip-path=\"url(#clip792)\" d=\"\nM2522.36 1384.24 L2522.36 1384.24 L2552.5 1384.24 L2552.5 1384.24 L2522.36 1384.24 L2522.36 1384.24  Z\n  \" fill=\"#009af9\" fill-rule=\"evenodd\" fill-opacity=\"1\"/>\n<polyline clip-path=\"url(#clip792)\" style=\"stroke:#000000; stroke-width:4; stroke-opacity:1; fill:none\" points=\"\n  2522.36,1384.24 2522.36,1384.24 2552.5,1384.24 2522.36,1384.24 \n  \"/>\n<path clip-path=\"url(#clip792)\" d=\"\nM2552.5 1339.48 L2552.5 1384.24 L2582.65 1384.24 L2582.65 1339.48 L2552.5 1339.48 L2552.5 1339.48  Z\n  \" fill=\"#009af9\" fill-rule=\"evenodd\" fill-opacity=\"1\"/>\n<polyline clip-path=\"url(#clip792)\" style=\"stroke:#000000; stroke-width:4; stroke-opacity:1; fill:none\" points=\"\n  2552.5,1339.48 2552.5,1384.24 2582.65,1384.24 2582.65,1339.48 2552.5,1339.48 \n  \"/>\n<path clip-path=\"url(#clip792)\" d=\"\nM2582.65 1384.24 L2582.65 1384.24 L2612.79 1384.24 L2612.79 1384.24 L2582.65 1384.24 L2582.65 1384.24  Z\n  \" fill=\"#009af9\" fill-rule=\"evenodd\" fill-opacity=\"1\"/>\n<polyline clip-path=\"url(#clip792)\" style=\"stroke:#000000; stroke-width:4; stroke-opacity:1; fill:none\" points=\"\n  2582.65,1384.24 2582.65,1384.24 2612.79,1384.24 2582.65,1384.24 \n  \"/>\n<path clip-path=\"url(#clip792)\" d=\"\nM2612.79 1384.24 L2612.79 1384.24 L2642.93 1384.24 L2642.93 1384.24 L2612.79 1384.24 L2612.79 1384.24  Z\n  \" fill=\"#009af9\" fill-rule=\"evenodd\" fill-opacity=\"1\"/>\n<polyline clip-path=\"url(#clip792)\" style=\"stroke:#000000; stroke-width:4; stroke-opacity:1; fill:none\" points=\"\n  2612.79,1384.24 2612.79,1384.24 2642.93,1384.24 2612.79,1384.24 \n  \"/>\n<path clip-path=\"url(#clip792)\" d=\"\nM2642.93 1384.24 L2642.93 1384.24 L2673.08 1384.24 L2673.08 1384.24 L2642.93 1384.24 L2642.93 1384.24  Z\n  \" fill=\"#009af9\" fill-rule=\"evenodd\" fill-opacity=\"1\"/>\n<polyline clip-path=\"url(#clip792)\" style=\"stroke:#000000; stroke-width:4; stroke-opacity:1; fill:none\" points=\"\n  2642.93,1384.24 2642.93,1384.24 2673.08,1384.24 2642.93,1384.24 \n  \"/>\n<path clip-path=\"url(#clip792)\" d=\"\nM2673.08 1384.24 L2673.08 1384.24 L2703.22 1384.24 L2703.22 1384.24 L2673.08 1384.24 L2673.08 1384.24  Z\n  \" fill=\"#009af9\" fill-rule=\"evenodd\" fill-opacity=\"1\"/>\n<polyline clip-path=\"url(#clip792)\" style=\"stroke:#000000; stroke-width:4; stroke-opacity:1; fill:none\" points=\"\n  2673.08,1384.24 2673.08,1384.24 2703.22,1384.24 2673.08,1384.24 \n  \"/>\n<path clip-path=\"url(#clip792)\" d=\"\nM2703.22 1384.24 L2703.22 1384.24 L2733.36 1384.24 L2733.36 1384.24 L2703.22 1384.24 L2703.22 1384.24  Z\n  \" fill=\"#009af9\" fill-rule=\"evenodd\" fill-opacity=\"1\"/>\n<polyline clip-path=\"url(#clip792)\" style=\"stroke:#000000; stroke-width:4; stroke-opacity:1; fill:none\" points=\"\n  2703.22,1384.24 2703.22,1384.24 2733.36,1384.24 2703.22,1384.24 \n  \"/>\n<path clip-path=\"url(#clip792)\" d=\"\nM2733.36 1384.24 L2733.36 1384.24 L2763.5 1384.24 L2763.5 1384.24 L2733.36 1384.24 L2733.36 1384.24  Z\n  \" fill=\"#009af9\" fill-rule=\"evenodd\" fill-opacity=\"1\"/>\n<polyline clip-path=\"url(#clip792)\" style=\"stroke:#000000; stroke-width:4; stroke-opacity:1; fill:none\" points=\"\n  2733.36,1384.24 2733.36,1384.24 2763.5,1384.24 2733.36,1384.24 \n  \"/>\n<path clip-path=\"url(#clip792)\" d=\"\nM2763.5 1339.48 L2763.5 1384.24 L2793.65 1384.24 L2793.65 1339.48 L2763.5 1339.48 L2763.5 1339.48  Z\n  \" fill=\"#009af9\" fill-rule=\"evenodd\" fill-opacity=\"1\"/>\n<polyline clip-path=\"url(#clip792)\" style=\"stroke:#000000; stroke-width:4; stroke-opacity:1; fill:none\" points=\"\n  2763.5,1339.48 2763.5,1384.24 2793.65,1384.24 2793.65,1339.48 2763.5,1339.48 \n  \"/>\n<path clip-path=\"url(#clip792)\" d=\"\nM2793.65 1384.24 L2793.65 1384.24 L2823.79 1384.24 L2823.79 1384.24 L2793.65 1384.24 L2793.65 1384.24  Z\n  \" fill=\"#009af9\" fill-rule=\"evenodd\" fill-opacity=\"1\"/>\n<polyline clip-path=\"url(#clip792)\" style=\"stroke:#000000; stroke-width:4; stroke-opacity:1; fill:none\" points=\"\n  2793.65,1384.24 2793.65,1384.24 2823.79,1384.24 2793.65,1384.24 \n  \"/>\n<path clip-path=\"url(#clip792)\" d=\"\nM2823.79 1384.24 L2823.79 1384.24 L2853.93 1384.24 L2853.93 1384.24 L2823.79 1384.24 L2823.79 1384.24  Z\n  \" fill=\"#009af9\" fill-rule=\"evenodd\" fill-opacity=\"1\"/>\n<polyline clip-path=\"url(#clip792)\" style=\"stroke:#000000; stroke-width:4; stroke-opacity:1; fill:none\" points=\"\n  2823.79,1384.24 2823.79,1384.24 2853.93,1384.24 2823.79,1384.24 \n  \"/>\n<path clip-path=\"url(#clip792)\" d=\"\nM2853.93 1384.24 L2853.93 1384.24 L2884.08 1384.24 L2884.08 1384.24 L2853.93 1384.24 L2853.93 1384.24  Z\n  \" fill=\"#009af9\" fill-rule=\"evenodd\" fill-opacity=\"1\"/>\n<polyline clip-path=\"url(#clip792)\" style=\"stroke:#000000; stroke-width:4; stroke-opacity:1; fill:none\" points=\"\n  2853.93,1384.24 2853.93,1384.24 2884.08,1384.24 2853.93,1384.24 \n  \"/>\n<path clip-path=\"url(#clip792)\" d=\"\nM2884.08 1384.24 L2884.08 1384.24 L2914.22 1384.24 L2914.22 1384.24 L2884.08 1384.24 L2884.08 1384.24  Z\n  \" fill=\"#009af9\" fill-rule=\"evenodd\" fill-opacity=\"1\"/>\n<polyline clip-path=\"url(#clip792)\" style=\"stroke:#000000; stroke-width:4; stroke-opacity:1; fill:none\" points=\"\n  2884.08,1384.24 2884.08,1384.24 2914.22,1384.24 2884.08,1384.24 \n  \"/>\n<path clip-path=\"url(#clip792)\" d=\"\nM2914.22 1384.24 L2914.22 1384.24 L2944.36 1384.24 L2944.36 1384.24 L2914.22 1384.24 L2914.22 1384.24  Z\n  \" fill=\"#009af9\" fill-rule=\"evenodd\" fill-opacity=\"1\"/>\n<polyline clip-path=\"url(#clip792)\" style=\"stroke:#000000; stroke-width:4; stroke-opacity:1; fill:none\" points=\"\n  2914.22,1384.24 2914.22,1384.24 2944.36,1384.24 2914.22,1384.24 \n  \"/>\n<path clip-path=\"url(#clip792)\" d=\"\nM2944.36 1384.24 L2944.36 1384.24 L2974.5 1384.24 L2974.5 1384.24 L2944.36 1384.24 L2944.36 1384.24  Z\n  \" fill=\"#009af9\" fill-rule=\"evenodd\" fill-opacity=\"1\"/>\n<polyline clip-path=\"url(#clip792)\" style=\"stroke:#000000; stroke-width:4; stroke-opacity:1; fill:none\" points=\"\n  2944.36,1384.24 2944.36,1384.24 2974.5,1384.24 2944.36,1384.24 \n  \"/>\n<path clip-path=\"url(#clip792)\" d=\"\nM2974.5 1384.24 L2974.5 1384.24 L3004.65 1384.24 L3004.65 1384.24 L2974.5 1384.24 L2974.5 1384.24  Z\n  \" fill=\"#009af9\" fill-rule=\"evenodd\" fill-opacity=\"1\"/>\n<polyline clip-path=\"url(#clip792)\" style=\"stroke:#000000; stroke-width:4; stroke-opacity:1; fill:none\" points=\"\n  2974.5,1384.24 2974.5,1384.24 3004.65,1384.24 2974.5,1384.24 \n  \"/>\n<path clip-path=\"url(#clip792)\" d=\"\nM3004.65 1384.24 L3004.65 1384.24 L3034.79 1384.24 L3034.79 1384.24 L3004.65 1384.24 L3004.65 1384.24  Z\n  \" fill=\"#009af9\" fill-rule=\"evenodd\" fill-opacity=\"1\"/>\n<polyline clip-path=\"url(#clip792)\" style=\"stroke:#000000; stroke-width:4; stroke-opacity:1; fill:none\" points=\"\n  3004.65,1384.24 3004.65,1384.24 3034.79,1384.24 3004.65,1384.24 \n  \"/>\n<path clip-path=\"url(#clip792)\" d=\"\nM3034.79 1384.24 L3034.79 1384.24 L3064.93 1384.24 L3064.93 1384.24 L3034.79 1384.24 L3034.79 1384.24  Z\n  \" fill=\"#009af9\" fill-rule=\"evenodd\" fill-opacity=\"1\"/>\n<polyline clip-path=\"url(#clip792)\" style=\"stroke:#000000; stroke-width:4; stroke-opacity:1; fill:none\" points=\"\n  3034.79,1384.24 3034.79,1384.24 3064.93,1384.24 3034.79,1384.24 \n  \"/>\n<path clip-path=\"url(#clip792)\" d=\"\nM3064.93 1384.24 L3064.93 1384.24 L3095.08 1384.24 L3095.08 1384.24 L3064.93 1384.24 L3064.93 1384.24  Z\n  \" fill=\"#009af9\" fill-rule=\"evenodd\" fill-opacity=\"1\"/>\n<polyline clip-path=\"url(#clip792)\" style=\"stroke:#000000; stroke-width:4; stroke-opacity:1; fill:none\" points=\"\n  3064.93,1384.24 3064.93,1384.24 3095.08,1384.24 3064.93,1384.24 \n  \"/>\n<path clip-path=\"url(#clip792)\" d=\"\nM3095.08 1384.24 L3095.08 1384.24 L3125.22 1384.24 L3125.22 1384.24 L3095.08 1384.24 L3095.08 1384.24  Z\n  \" fill=\"#009af9\" fill-rule=\"evenodd\" fill-opacity=\"1\"/>\n<polyline clip-path=\"url(#clip792)\" style=\"stroke:#000000; stroke-width:4; stroke-opacity:1; fill:none\" points=\"\n  3095.08,1384.24 3095.08,1384.24 3125.22,1384.24 3095.08,1384.24 \n  \"/>\n<path clip-path=\"url(#clip792)\" d=\"\nM3125.22 1384.24 L3125.22 1384.24 L3155.36 1384.24 L3155.36 1384.24 L3125.22 1384.24 L3125.22 1384.24  Z\n  \" fill=\"#009af9\" fill-rule=\"evenodd\" fill-opacity=\"1\"/>\n<polyline clip-path=\"url(#clip792)\" style=\"stroke:#000000; stroke-width:4; stroke-opacity:1; fill:none\" points=\"\n  3125.22,1384.24 3125.22,1384.24 3155.36,1384.24 3125.22,1384.24 \n  \"/>\n<path clip-path=\"url(#clip792)\" d=\"\nM3155.36 1384.24 L3155.36 1384.24 L3185.5 1384.24 L3185.5 1384.24 L3155.36 1384.24 L3155.36 1384.24  Z\n  \" fill=\"#009af9\" fill-rule=\"evenodd\" fill-opacity=\"1\"/>\n<polyline clip-path=\"url(#clip792)\" style=\"stroke:#000000; stroke-width:4; stroke-opacity:1; fill:none\" points=\"\n  3155.36,1384.24 3155.36,1384.24 3185.5,1384.24 3155.36,1384.24 \n  \"/>\n<path clip-path=\"url(#clip792)\" d=\"\nM3185.5 1294.72 L3185.5 1384.24 L3215.65 1384.24 L3215.65 1294.72 L3185.5 1294.72 L3185.5 1294.72  Z\n  \" fill=\"#009af9\" fill-rule=\"evenodd\" fill-opacity=\"1\"/>\n<polyline clip-path=\"url(#clip792)\" style=\"stroke:#000000; stroke-width:4; stroke-opacity:1; fill:none\" points=\"\n  3185.5,1294.72 3185.5,1384.24 3215.65,1384.24 3215.65,1294.72 3185.5,1294.72 \n  \"/>\n<path clip-path=\"url(#clip792)\" d=\"\nM3215.65 1384.24 L3215.65 1384.24 L3245.79 1384.24 L3245.79 1384.24 L3215.65 1384.24 L3215.65 1384.24  Z\n  \" fill=\"#009af9\" fill-rule=\"evenodd\" fill-opacity=\"1\"/>\n<polyline clip-path=\"url(#clip792)\" style=\"stroke:#000000; stroke-width:4; stroke-opacity:1; fill:none\" points=\"\n  3215.65,1384.24 3215.65,1384.24 3245.79,1384.24 3215.65,1384.24 \n  \"/>\n<path clip-path=\"url(#clip792)\" d=\"\nM3245.79 1384.24 L3245.79 1384.24 L3275.93 1384.24 L3275.93 1384.24 L3245.79 1384.24 L3245.79 1384.24  Z\n  \" fill=\"#009af9\" fill-rule=\"evenodd\" fill-opacity=\"1\"/>\n<polyline clip-path=\"url(#clip792)\" style=\"stroke:#000000; stroke-width:4; stroke-opacity:1; fill:none\" points=\"\n  3245.79,1384.24 3245.79,1384.24 3275.93,1384.24 3245.79,1384.24 \n  \"/>\n<path clip-path=\"url(#clip792)\" d=\"\nM3275.93 1384.24 L3275.93 1384.24 L3306.08 1384.24 L3306.08 1384.24 L3275.93 1384.24 L3275.93 1384.24  Z\n  \" fill=\"#009af9\" fill-rule=\"evenodd\" fill-opacity=\"1\"/>\n<polyline clip-path=\"url(#clip792)\" style=\"stroke:#000000; stroke-width:4; stroke-opacity:1; fill:none\" points=\"\n  3275.93,1384.24 3275.93,1384.24 3306.08,1384.24 3275.93,1384.24 \n  \"/>\n<path clip-path=\"url(#clip792)\" d=\"\nM3306.08 1384.24 L3306.08 1384.24 L3336.22 1384.24 L3336.22 1384.24 L3306.08 1384.24 L3306.08 1384.24  Z\n  \" fill=\"#009af9\" fill-rule=\"evenodd\" fill-opacity=\"1\"/>\n<polyline clip-path=\"url(#clip792)\" style=\"stroke:#000000; stroke-width:4; stroke-opacity:1; fill:none\" points=\"\n  3306.08,1384.24 3306.08,1384.24 3336.22,1384.24 3306.08,1384.24 \n  \"/>\n<path clip-path=\"url(#clip792)\" d=\"\nM3336.22 1384.24 L3336.22 1384.24 L3366.36 1384.24 L3366.36 1384.24 L3336.22 1384.24 L3336.22 1384.24  Z\n  \" fill=\"#009af9\" fill-rule=\"evenodd\" fill-opacity=\"1\"/>\n<polyline clip-path=\"url(#clip792)\" style=\"stroke:#000000; stroke-width:4; stroke-opacity:1; fill:none\" points=\"\n  3336.22,1384.24 3336.22,1384.24 3366.36,1384.24 3336.22,1384.24 \n  \"/>\n<path clip-path=\"url(#clip792)\" d=\"\nM3366.36 1384.24 L3366.36 1384.24 L3396.51 1384.24 L3396.51 1384.24 L3366.36 1384.24 L3366.36 1384.24  Z\n  \" fill=\"#009af9\" fill-rule=\"evenodd\" fill-opacity=\"1\"/>\n<polyline clip-path=\"url(#clip792)\" style=\"stroke:#000000; stroke-width:4; stroke-opacity:1; fill:none\" points=\"\n  3366.36,1384.24 3366.36,1384.24 3396.51,1384.24 3366.36,1384.24 \n  \"/>\n<path clip-path=\"url(#clip792)\" d=\"\nM3396.51 1384.24 L3396.51 1384.24 L3426.65 1384.24 L3426.65 1384.24 L3396.51 1384.24 L3396.51 1384.24  Z\n  \" fill=\"#009af9\" fill-rule=\"evenodd\" fill-opacity=\"1\"/>\n<polyline clip-path=\"url(#clip792)\" style=\"stroke:#000000; stroke-width:4; stroke-opacity:1; fill:none\" points=\"\n  3396.51,1384.24 3396.51,1384.24 3426.65,1384.24 3396.51,1384.24 \n  \"/>\n<path clip-path=\"url(#clip792)\" d=\"\nM3426.65 1384.24 L3426.65 1384.24 L3456.79 1384.24 L3456.79 1384.24 L3426.65 1384.24 L3426.65 1384.24  Z\n  \" fill=\"#009af9\" fill-rule=\"evenodd\" fill-opacity=\"1\"/>\n<polyline clip-path=\"url(#clip792)\" style=\"stroke:#000000; stroke-width:4; stroke-opacity:1; fill:none\" points=\"\n  3426.65,1384.24 3426.65,1384.24 3456.79,1384.24 3426.65,1384.24 \n  \"/>\n<path clip-path=\"url(#clip792)\" d=\"\nM3456.79 1384.24 L3456.79 1384.24 L3486.93 1384.24 L3486.93 1384.24 L3456.79 1384.24 L3456.79 1384.24  Z\n  \" fill=\"#009af9\" fill-rule=\"evenodd\" fill-opacity=\"1\"/>\n<polyline clip-path=\"url(#clip792)\" style=\"stroke:#000000; stroke-width:4; stroke-opacity:1; fill:none\" points=\"\n  3456.79,1384.24 3456.79,1384.24 3486.93,1384.24 3456.79,1384.24 \n  \"/>\n<path clip-path=\"url(#clip792)\" d=\"\nM3486.93 1384.24 L3486.93 1384.24 L3517.08 1384.24 L3517.08 1384.24 L3486.93 1384.24 L3486.93 1384.24  Z\n  \" fill=\"#009af9\" fill-rule=\"evenodd\" fill-opacity=\"1\"/>\n<polyline clip-path=\"url(#clip792)\" style=\"stroke:#000000; stroke-width:4; stroke-opacity:1; fill:none\" points=\"\n  3486.93,1384.24 3486.93,1384.24 3517.08,1384.24 3486.93,1384.24 \n  \"/>\n<path clip-path=\"url(#clip792)\" d=\"\nM3517.08 1384.24 L3517.08 1384.24 L3547.22 1384.24 L3547.22 1384.24 L3517.08 1384.24 L3517.08 1384.24  Z\n  \" fill=\"#009af9\" fill-rule=\"evenodd\" fill-opacity=\"1\"/>\n<polyline clip-path=\"url(#clip792)\" style=\"stroke:#000000; stroke-width:4; stroke-opacity:1; fill:none\" points=\"\n  3517.08,1384.24 3517.08,1384.24 3547.22,1384.24 3517.08,1384.24 \n  \"/>\n<path clip-path=\"url(#clip792)\" d=\"\nM3547.22 1384.24 L3547.22 1384.24 L3577.36 1384.24 L3577.36 1384.24 L3547.22 1384.24 L3547.22 1384.24  Z\n  \" fill=\"#009af9\" fill-rule=\"evenodd\" fill-opacity=\"1\"/>\n<polyline clip-path=\"url(#clip792)\" style=\"stroke:#000000; stroke-width:4; stroke-opacity:1; fill:none\" points=\"\n  3547.22,1384.24 3547.22,1384.24 3577.36,1384.24 3547.22,1384.24 \n  \"/>\n<path clip-path=\"url(#clip792)\" d=\"\nM3577.36 1384.24 L3577.36 1384.24 L3607.51 1384.24 L3607.51 1384.24 L3577.36 1384.24 L3577.36 1384.24  Z\n  \" fill=\"#009af9\" fill-rule=\"evenodd\" fill-opacity=\"1\"/>\n<polyline clip-path=\"url(#clip792)\" style=\"stroke:#000000; stroke-width:4; stroke-opacity:1; fill:none\" points=\"\n  3577.36,1384.24 3577.36,1384.24 3607.51,1384.24 3577.36,1384.24 \n  \"/>\n<path clip-path=\"url(#clip792)\" d=\"\nM3607.51 1384.24 L3607.51 1384.24 L3637.65 1384.24 L3637.65 1384.24 L3607.51 1384.24 L3607.51 1384.24  Z\n  \" fill=\"#009af9\" fill-rule=\"evenodd\" fill-opacity=\"1\"/>\n<polyline clip-path=\"url(#clip792)\" style=\"stroke:#000000; stroke-width:4; stroke-opacity:1; fill:none\" points=\"\n  3607.51,1384.24 3607.51,1384.24 3637.65,1384.24 3607.51,1384.24 \n  \"/>\n<path clip-path=\"url(#clip792)\" d=\"\nM3637.65 1384.24 L3637.65 1384.24 L3667.79 1384.24 L3667.79 1384.24 L3637.65 1384.24 L3637.65 1384.24  Z\n  \" fill=\"#009af9\" fill-rule=\"evenodd\" fill-opacity=\"1\"/>\n<polyline clip-path=\"url(#clip792)\" style=\"stroke:#000000; stroke-width:4; stroke-opacity:1; fill:none\" points=\"\n  3637.65,1384.24 3637.65,1384.24 3667.79,1384.24 3637.65,1384.24 \n  \"/>\n<path clip-path=\"url(#clip792)\" d=\"\nM3667.79 1384.24 L3667.79 1384.24 L3697.93 1384.24 L3697.93 1384.24 L3667.79 1384.24 L3667.79 1384.24  Z\n  \" fill=\"#009af9\" fill-rule=\"evenodd\" fill-opacity=\"1\"/>\n<polyline clip-path=\"url(#clip792)\" style=\"stroke:#000000; stroke-width:4; stroke-opacity:1; fill:none\" points=\"\n  3667.79,1384.24 3667.79,1384.24 3697.93,1384.24 3667.79,1384.24 \n  \"/>\n<path clip-path=\"url(#clip792)\" d=\"\nM3697.93 1384.24 L3697.93 1384.24 L3728.08 1384.24 L3728.08 1384.24 L3697.93 1384.24 L3697.93 1384.24  Z\n  \" fill=\"#009af9\" fill-rule=\"evenodd\" fill-opacity=\"1\"/>\n<polyline clip-path=\"url(#clip792)\" style=\"stroke:#000000; stroke-width:4; stroke-opacity:1; fill:none\" points=\"\n  3697.93,1384.24 3697.93,1384.24 3728.08,1384.24 3697.93,1384.24 \n  \"/>\n<path clip-path=\"url(#clip792)\" d=\"\nM3728.08 1384.24 L3728.08 1384.24 L3758.22 1384.24 L3758.22 1384.24 L3728.08 1384.24 L3728.08 1384.24  Z\n  \" fill=\"#009af9\" fill-rule=\"evenodd\" fill-opacity=\"1\"/>\n<polyline clip-path=\"url(#clip792)\" style=\"stroke:#000000; stroke-width:4; stroke-opacity:1; fill:none\" points=\"\n  3728.08,1384.24 3728.08,1384.24 3758.22,1384.24 3728.08,1384.24 \n  \"/>\n<path clip-path=\"url(#clip792)\" d=\"\nM3758.22 1384.24 L3758.22 1384.24 L3788.36 1384.24 L3788.36 1384.24 L3758.22 1384.24 L3758.22 1384.24  Z\n  \" fill=\"#009af9\" fill-rule=\"evenodd\" fill-opacity=\"1\"/>\n<polyline clip-path=\"url(#clip792)\" style=\"stroke:#000000; stroke-width:4; stroke-opacity:1; fill:none\" points=\"\n  3758.22,1384.24 3758.22,1384.24 3788.36,1384.24 3758.22,1384.24 \n  \"/>\n<path clip-path=\"url(#clip792)\" d=\"\nM3788.36 1384.24 L3788.36 1384.24 L3818.51 1384.24 L3818.51 1384.24 L3788.36 1384.24 L3788.36 1384.24  Z\n  \" fill=\"#009af9\" fill-rule=\"evenodd\" fill-opacity=\"1\"/>\n<polyline clip-path=\"url(#clip792)\" style=\"stroke:#000000; stroke-width:4; stroke-opacity:1; fill:none\" points=\"\n  3788.36,1384.24 3788.36,1384.24 3818.51,1384.24 3788.36,1384.24 \n  \"/>\n<path clip-path=\"url(#clip792)\" d=\"\nM3818.51 1384.24 L3818.51 1384.24 L3848.65 1384.24 L3848.65 1384.24 L3818.51 1384.24 L3818.51 1384.24  Z\n  \" fill=\"#009af9\" fill-rule=\"evenodd\" fill-opacity=\"1\"/>\n<polyline clip-path=\"url(#clip792)\" style=\"stroke:#000000; stroke-width:4; stroke-opacity:1; fill:none\" points=\"\n  3818.51,1384.24 3818.51,1384.24 3848.65,1384.24 3818.51,1384.24 \n  \"/>\n<path clip-path=\"url(#clip792)\" d=\"\nM3848.65 1384.24 L3848.65 1384.24 L3878.79 1384.24 L3878.79 1384.24 L3848.65 1384.24 L3848.65 1384.24  Z\n  \" fill=\"#009af9\" fill-rule=\"evenodd\" fill-opacity=\"1\"/>\n<polyline clip-path=\"url(#clip792)\" style=\"stroke:#000000; stroke-width:4; stroke-opacity:1; fill:none\" points=\"\n  3848.65,1384.24 3848.65,1384.24 3878.79,1384.24 3848.65,1384.24 \n  \"/>\n<path clip-path=\"url(#clip792)\" d=\"\nM3878.79 1384.24 L3878.79 1384.24 L3908.93 1384.24 L3908.93 1384.24 L3878.79 1384.24 L3878.79 1384.24  Z\n  \" fill=\"#009af9\" fill-rule=\"evenodd\" fill-opacity=\"1\"/>\n<polyline clip-path=\"url(#clip792)\" style=\"stroke:#000000; stroke-width:4; stroke-opacity:1; fill:none\" points=\"\n  3878.79,1384.24 3878.79,1384.24 3908.93,1384.24 3878.79,1384.24 \n  \"/>\n<path clip-path=\"url(#clip792)\" d=\"\nM3908.93 1384.24 L3908.93 1384.24 L3939.08 1384.24 L3939.08 1384.24 L3908.93 1384.24 L3908.93 1384.24  Z\n  \" fill=\"#009af9\" fill-rule=\"evenodd\" fill-opacity=\"1\"/>\n<polyline clip-path=\"url(#clip792)\" style=\"stroke:#000000; stroke-width:4; stroke-opacity:1; fill:none\" points=\"\n  3908.93,1384.24 3908.93,1384.24 3939.08,1384.24 3908.93,1384.24 \n  \"/>\n<path clip-path=\"url(#clip792)\" d=\"\nM3939.08 1384.24 L3939.08 1384.24 L3969.22 1384.24 L3969.22 1384.24 L3939.08 1384.24 L3939.08 1384.24  Z\n  \" fill=\"#009af9\" fill-rule=\"evenodd\" fill-opacity=\"1\"/>\n<polyline clip-path=\"url(#clip792)\" style=\"stroke:#000000; stroke-width:4; stroke-opacity:1; fill:none\" points=\"\n  3939.08,1384.24 3939.08,1384.24 3969.22,1384.24 3939.08,1384.24 \n  \"/>\n<path clip-path=\"url(#clip792)\" d=\"\nM3969.22 1384.24 L3969.22 1384.24 L3999.36 1384.24 L3999.36 1384.24 L3969.22 1384.24 L3969.22 1384.24  Z\n  \" fill=\"#009af9\" fill-rule=\"evenodd\" fill-opacity=\"1\"/>\n<polyline clip-path=\"url(#clip792)\" style=\"stroke:#000000; stroke-width:4; stroke-opacity:1; fill:none\" points=\"\n  3969.22,1384.24 3969.22,1384.24 3999.36,1384.24 3969.22,1384.24 \n  \"/>\n<path clip-path=\"url(#clip792)\" d=\"\nM3999.36 1384.24 L3999.36 1384.24 L4029.51 1384.24 L4029.51 1384.24 L3999.36 1384.24 L3999.36 1384.24  Z\n  \" fill=\"#009af9\" fill-rule=\"evenodd\" fill-opacity=\"1\"/>\n<polyline clip-path=\"url(#clip792)\" style=\"stroke:#000000; stroke-width:4; stroke-opacity:1; fill:none\" points=\"\n  3999.36,1384.24 3999.36,1384.24 4029.51,1384.24 3999.36,1384.24 \n  \"/>\n<path clip-path=\"url(#clip792)\" d=\"\nM4029.51 1384.24 L4029.51 1384.24 L4059.65 1384.24 L4059.65 1384.24 L4029.51 1384.24 L4029.51 1384.24  Z\n  \" fill=\"#009af9\" fill-rule=\"evenodd\" fill-opacity=\"1\"/>\n<polyline clip-path=\"url(#clip792)\" style=\"stroke:#000000; stroke-width:4; stroke-opacity:1; fill:none\" points=\"\n  4029.51,1384.24 4029.51,1384.24 4059.65,1384.24 4029.51,1384.24 \n  \"/>\n<path clip-path=\"url(#clip792)\" d=\"\nM4059.65 1384.24 L4059.65 1384.24 L4089.79 1384.24 L4089.79 1384.24 L4059.65 1384.24 L4059.65 1384.24  Z\n  \" fill=\"#009af9\" fill-rule=\"evenodd\" fill-opacity=\"1\"/>\n<polyline clip-path=\"url(#clip792)\" style=\"stroke:#000000; stroke-width:4; stroke-opacity:1; fill:none\" points=\"\n  4059.65,1384.24 4059.65,1384.24 4089.79,1384.24 4059.65,1384.24 \n  \"/>\n<path clip-path=\"url(#clip792)\" d=\"\nM4089.79 1384.24 L4089.79 1384.24 L4119.93 1384.24 L4119.93 1384.24 L4089.79 1384.24 L4089.79 1384.24  Z\n  \" fill=\"#009af9\" fill-rule=\"evenodd\" fill-opacity=\"1\"/>\n<polyline clip-path=\"url(#clip792)\" style=\"stroke:#000000; stroke-width:4; stroke-opacity:1; fill:none\" points=\"\n  4089.79,1384.24 4089.79,1384.24 4119.93,1384.24 4089.79,1384.24 \n  \"/>\n<path clip-path=\"url(#clip792)\" d=\"\nM4119.93 1384.24 L4119.93 1384.24 L4150.08 1384.24 L4150.08 1384.24 L4119.93 1384.24 L4119.93 1384.24  Z\n  \" fill=\"#009af9\" fill-rule=\"evenodd\" fill-opacity=\"1\"/>\n<polyline clip-path=\"url(#clip792)\" style=\"stroke:#000000; stroke-width:4; stroke-opacity:1; fill:none\" points=\"\n  4119.93,1384.24 4119.93,1384.24 4150.08,1384.24 4119.93,1384.24 \n  \"/>\n<path clip-path=\"url(#clip792)\" d=\"\nM4150.08 1384.24 L4150.08 1384.24 L4180.22 1384.24 L4180.22 1384.24 L4150.08 1384.24 L4150.08 1384.24  Z\n  \" fill=\"#009af9\" fill-rule=\"evenodd\" fill-opacity=\"1\"/>\n<polyline clip-path=\"url(#clip792)\" style=\"stroke:#000000; stroke-width:4; stroke-opacity:1; fill:none\" points=\"\n  4150.08,1384.24 4150.08,1384.24 4180.22,1384.24 4150.08,1384.24 \n  \"/>\n<path clip-path=\"url(#clip792)\" d=\"\nM4180.22 1384.24 L4180.22 1384.24 L4210.36 1384.24 L4210.36 1384.24 L4180.22 1384.24 L4180.22 1384.24  Z\n  \" fill=\"#009af9\" fill-rule=\"evenodd\" fill-opacity=\"1\"/>\n<polyline clip-path=\"url(#clip792)\" style=\"stroke:#000000; stroke-width:4; stroke-opacity:1; fill:none\" points=\"\n  4180.22,1384.24 4180.22,1384.24 4210.36,1384.24 4180.22,1384.24 \n  \"/>\n<path clip-path=\"url(#clip792)\" d=\"\nM4210.36 1384.24 L4210.36 1384.24 L4240.51 1384.24 L4240.51 1384.24 L4210.36 1384.24 L4210.36 1384.24  Z\n  \" fill=\"#009af9\" fill-rule=\"evenodd\" fill-opacity=\"1\"/>\n<polyline clip-path=\"url(#clip792)\" style=\"stroke:#000000; stroke-width:4; stroke-opacity:1; fill:none\" points=\"\n  4210.36,1384.24 4210.36,1384.24 4240.51,1384.24 4210.36,1384.24 \n  \"/>\n<path clip-path=\"url(#clip792)\" d=\"\nM4240.51 1384.24 L4240.51 1384.24 L4270.65 1384.24 L4270.65 1384.24 L4240.51 1384.24 L4240.51 1384.24  Z\n  \" fill=\"#009af9\" fill-rule=\"evenodd\" fill-opacity=\"1\"/>\n<polyline clip-path=\"url(#clip792)\" style=\"stroke:#000000; stroke-width:4; stroke-opacity:1; fill:none\" points=\"\n  4240.51,1384.24 4240.51,1384.24 4270.65,1384.24 4240.51,1384.24 \n  \"/>\n<path clip-path=\"url(#clip792)\" d=\"\nM4270.65 1384.24 L4270.65 1384.24 L4300.79 1384.24 L4300.79 1384.24 L4270.65 1384.24 L4270.65 1384.24  Z\n  \" fill=\"#009af9\" fill-rule=\"evenodd\" fill-opacity=\"1\"/>\n<polyline clip-path=\"url(#clip792)\" style=\"stroke:#000000; stroke-width:4; stroke-opacity:1; fill:none\" points=\"\n  4270.65,1384.24 4270.65,1384.24 4300.79,1384.24 4270.65,1384.24 \n  \"/>\n<path clip-path=\"url(#clip792)\" d=\"\nM4300.79 1384.24 L4300.79 1384.24 L4330.93 1384.24 L4330.93 1384.24 L4300.79 1384.24 L4300.79 1384.24  Z\n  \" fill=\"#009af9\" fill-rule=\"evenodd\" fill-opacity=\"1\"/>\n<polyline clip-path=\"url(#clip792)\" style=\"stroke:#000000; stroke-width:4; stroke-opacity:1; fill:none\" points=\"\n  4300.79,1384.24 4300.79,1384.24 4330.93,1384.24 4300.79,1384.24 \n  \"/>\n<path clip-path=\"url(#clip792)\" d=\"\nM4330.93 1384.24 L4330.93 1384.24 L4361.08 1384.24 L4361.08 1384.24 L4330.93 1384.24 L4330.93 1384.24  Z\n  \" fill=\"#009af9\" fill-rule=\"evenodd\" fill-opacity=\"1\"/>\n<polyline clip-path=\"url(#clip792)\" style=\"stroke:#000000; stroke-width:4; stroke-opacity:1; fill:none\" points=\"\n  4330.93,1384.24 4330.93,1384.24 4361.08,1384.24 4330.93,1384.24 \n  \"/>\n<path clip-path=\"url(#clip792)\" d=\"\nM4361.08 1384.24 L4361.08 1384.24 L4391.22 1384.24 L4391.22 1384.24 L4361.08 1384.24 L4361.08 1384.24  Z\n  \" fill=\"#009af9\" fill-rule=\"evenodd\" fill-opacity=\"1\"/>\n<polyline clip-path=\"url(#clip792)\" style=\"stroke:#000000; stroke-width:4; stroke-opacity:1; fill:none\" points=\"\n  4361.08,1384.24 4361.08,1384.24 4391.22,1384.24 4361.08,1384.24 \n  \"/>\n<path clip-path=\"url(#clip792)\" d=\"\nM4391.22 1384.24 L4391.22 1384.24 L4421.36 1384.24 L4421.36 1384.24 L4391.22 1384.24 L4391.22 1384.24  Z\n  \" fill=\"#009af9\" fill-rule=\"evenodd\" fill-opacity=\"1\"/>\n<polyline clip-path=\"url(#clip792)\" style=\"stroke:#000000; stroke-width:4; stroke-opacity:1; fill:none\" points=\"\n  4391.22,1384.24 4391.22,1384.24 4421.36,1384.24 4391.22,1384.24 \n  \"/>\n<path clip-path=\"url(#clip792)\" d=\"\nM4421.36 1384.24 L4421.36 1384.24 L4451.51 1384.24 L4451.51 1384.24 L4421.36 1384.24 L4421.36 1384.24  Z\n  \" fill=\"#009af9\" fill-rule=\"evenodd\" fill-opacity=\"1\"/>\n<polyline clip-path=\"url(#clip792)\" style=\"stroke:#000000; stroke-width:4; stroke-opacity:1; fill:none\" points=\"\n  4421.36,1384.24 4421.36,1384.24 4451.51,1384.24 4421.36,1384.24 \n  \"/>\n<path clip-path=\"url(#clip792)\" d=\"\nM4451.51 1384.24 L4451.51 1384.24 L4481.65 1384.24 L4481.65 1384.24 L4451.51 1384.24 L4451.51 1384.24  Z\n  \" fill=\"#009af9\" fill-rule=\"evenodd\" fill-opacity=\"1\"/>\n<polyline clip-path=\"url(#clip792)\" style=\"stroke:#000000; stroke-width:4; stroke-opacity:1; fill:none\" points=\"\n  4451.51,1384.24 4451.51,1384.24 4481.65,1384.24 4451.51,1384.24 \n  \"/>\n<path clip-path=\"url(#clip792)\" d=\"\nM4481.65 1384.24 L4481.65 1384.24 L4511.79 1384.24 L4511.79 1384.24 L4481.65 1384.24 L4481.65 1384.24  Z\n  \" fill=\"#009af9\" fill-rule=\"evenodd\" fill-opacity=\"1\"/>\n<polyline clip-path=\"url(#clip792)\" style=\"stroke:#000000; stroke-width:4; stroke-opacity:1; fill:none\" points=\"\n  4481.65,1384.24 4481.65,1384.24 4511.79,1384.24 4481.65,1384.24 \n  \"/>\n<path clip-path=\"url(#clip792)\" d=\"\nM4511.79 1384.24 L4511.79 1384.24 L4541.94 1384.24 L4541.94 1384.24 L4511.79 1384.24 L4511.79 1384.24  Z\n  \" fill=\"#009af9\" fill-rule=\"evenodd\" fill-opacity=\"1\"/>\n<polyline clip-path=\"url(#clip792)\" style=\"stroke:#000000; stroke-width:4; stroke-opacity:1; fill:none\" points=\"\n  4511.79,1384.24 4511.79,1384.24 4541.94,1384.24 4511.79,1384.24 \n  \"/>\n<path clip-path=\"url(#clip792)\" d=\"\nM4541.94 1384.24 L4541.94 1384.24 L4572.08 1384.24 L4572.08 1384.24 L4541.94 1384.24 L4541.94 1384.24  Z\n  \" fill=\"#009af9\" fill-rule=\"evenodd\" fill-opacity=\"1\"/>\n<polyline clip-path=\"url(#clip792)\" style=\"stroke:#000000; stroke-width:4; stroke-opacity:1; fill:none\" points=\"\n  4541.94,1384.24 4541.94,1384.24 4572.08,1384.24 4541.94,1384.24 \n  \"/>\n<path clip-path=\"url(#clip792)\" d=\"\nM4572.08 1384.24 L4572.08 1384.24 L4602.22 1384.24 L4602.22 1384.24 L4572.08 1384.24 L4572.08 1384.24  Z\n  \" fill=\"#009af9\" fill-rule=\"evenodd\" fill-opacity=\"1\"/>\n<polyline clip-path=\"url(#clip792)\" style=\"stroke:#000000; stroke-width:4; stroke-opacity:1; fill:none\" points=\"\n  4572.08,1384.24 4572.08,1384.24 4602.22,1384.24 4572.08,1384.24 \n  \"/>\n<path clip-path=\"url(#clip792)\" d=\"\nM4602.22 1384.24 L4602.22 1384.24 L4632.36 1384.24 L4632.36 1384.24 L4602.22 1384.24 L4602.22 1384.24  Z\n  \" fill=\"#009af9\" fill-rule=\"evenodd\" fill-opacity=\"1\"/>\n<polyline clip-path=\"url(#clip792)\" style=\"stroke:#000000; stroke-width:4; stroke-opacity:1; fill:none\" points=\"\n  4602.22,1384.24 4602.22,1384.24 4632.36,1384.24 4602.22,1384.24 \n  \"/>\n<path clip-path=\"url(#clip792)\" d=\"\nM4632.36 1384.24 L4632.36 1384.24 L4662.51 1384.24 L4662.51 1384.24 L4632.36 1384.24 L4632.36 1384.24  Z\n  \" fill=\"#009af9\" fill-rule=\"evenodd\" fill-opacity=\"1\"/>\n<polyline clip-path=\"url(#clip792)\" style=\"stroke:#000000; stroke-width:4; stroke-opacity:1; fill:none\" points=\"\n  4632.36,1384.24 4632.36,1384.24 4662.51,1384.24 4632.36,1384.24 \n  \"/>\n<path clip-path=\"url(#clip792)\" d=\"\nM4662.51 1384.24 L4662.51 1384.24 L4692.65 1384.24 L4692.65 1384.24 L4662.51 1384.24 L4662.51 1384.24  Z\n  \" fill=\"#009af9\" fill-rule=\"evenodd\" fill-opacity=\"1\"/>\n<polyline clip-path=\"url(#clip792)\" style=\"stroke:#000000; stroke-width:4; stroke-opacity:1; fill:none\" points=\"\n  4662.51,1384.24 4662.51,1384.24 4692.65,1384.24 4662.51,1384.24 \n  \"/>\n<path clip-path=\"url(#clip792)\" d=\"\nM4692.65 1384.24 L4692.65 1384.24 L4722.79 1384.24 L4722.79 1384.24 L4692.65 1384.24 L4692.65 1384.24  Z\n  \" fill=\"#009af9\" fill-rule=\"evenodd\" fill-opacity=\"1\"/>\n<polyline clip-path=\"url(#clip792)\" style=\"stroke:#000000; stroke-width:4; stroke-opacity:1; fill:none\" points=\"\n  4692.65,1384.24 4692.65,1384.24 4722.79,1384.24 4692.65,1384.24 \n  \"/>\n<path clip-path=\"url(#clip792)\" d=\"\nM4722.79 1384.24 L4722.79 1384.24 L4752.94 1384.24 L4752.94 1384.24 L4722.79 1384.24 L4722.79 1384.24  Z\n  \" fill=\"#009af9\" fill-rule=\"evenodd\" fill-opacity=\"1\"/>\n<polyline clip-path=\"url(#clip792)\" style=\"stroke:#000000; stroke-width:4; stroke-opacity:1; fill:none\" points=\"\n  4722.79,1384.24 4722.79,1384.24 4752.94,1384.24 4722.79,1384.24 \n  \"/>\n<path clip-path=\"url(#clip792)\" d=\"\nM4752.94 1384.24 L4752.94 1384.24 L4783.08 1384.24 L4783.08 1384.24 L4752.94 1384.24 L4752.94 1384.24  Z\n  \" fill=\"#009af9\" fill-rule=\"evenodd\" fill-opacity=\"1\"/>\n<polyline clip-path=\"url(#clip792)\" style=\"stroke:#000000; stroke-width:4; stroke-opacity:1; fill:none\" points=\"\n  4752.94,1384.24 4752.94,1384.24 4783.08,1384.24 4752.94,1384.24 \n  \"/>\n<path clip-path=\"url(#clip792)\" d=\"\nM4783.08 1384.24 L4783.08 1384.24 L4813.22 1384.24 L4813.22 1384.24 L4783.08 1384.24 L4783.08 1384.24  Z\n  \" fill=\"#009af9\" fill-rule=\"evenodd\" fill-opacity=\"1\"/>\n<polyline clip-path=\"url(#clip792)\" style=\"stroke:#000000; stroke-width:4; stroke-opacity:1; fill:none\" points=\"\n  4783.08,1384.24 4783.08,1384.24 4813.22,1384.24 4783.08,1384.24 \n  \"/>\n<path clip-path=\"url(#clip792)\" d=\"\nM4813.22 1384.24 L4813.22 1384.24 L4843.36 1384.24 L4843.36 1384.24 L4813.22 1384.24 L4813.22 1384.24  Z\n  \" fill=\"#009af9\" fill-rule=\"evenodd\" fill-opacity=\"1\"/>\n<polyline clip-path=\"url(#clip792)\" style=\"stroke:#000000; stroke-width:4; stroke-opacity:1; fill:none\" points=\"\n  4813.22,1384.24 4813.22,1384.24 4843.36,1384.24 4813.22,1384.24 \n  \"/>\n<path clip-path=\"url(#clip792)\" d=\"\nM4843.36 1384.24 L4843.36 1384.24 L4873.51 1384.24 L4873.51 1384.24 L4843.36 1384.24 L4843.36 1384.24  Z\n  \" fill=\"#009af9\" fill-rule=\"evenodd\" fill-opacity=\"1\"/>\n<polyline clip-path=\"url(#clip792)\" style=\"stroke:#000000; stroke-width:4; stroke-opacity:1; fill:none\" points=\"\n  4843.36,1384.24 4843.36,1384.24 4873.51,1384.24 4843.36,1384.24 \n  \"/>\n<path clip-path=\"url(#clip792)\" d=\"\nM4873.51 1384.24 L4873.51 1384.24 L4903.65 1384.24 L4903.65 1384.24 L4873.51 1384.24 L4873.51 1384.24  Z\n  \" fill=\"#009af9\" fill-rule=\"evenodd\" fill-opacity=\"1\"/>\n<polyline clip-path=\"url(#clip792)\" style=\"stroke:#000000; stroke-width:4; stroke-opacity:1; fill:none\" points=\"\n  4873.51,1384.24 4873.51,1384.24 4903.65,1384.24 4873.51,1384.24 \n  \"/>\n<path clip-path=\"url(#clip792)\" d=\"\nM4903.65 1384.24 L4903.65 1384.24 L4933.79 1384.24 L4933.79 1384.24 L4903.65 1384.24 L4903.65 1384.24  Z\n  \" fill=\"#009af9\" fill-rule=\"evenodd\" fill-opacity=\"1\"/>\n<polyline clip-path=\"url(#clip792)\" style=\"stroke:#000000; stroke-width:4; stroke-opacity:1; fill:none\" points=\"\n  4903.65,1384.24 4903.65,1384.24 4933.79,1384.24 4903.65,1384.24 \n  \"/>\n<path clip-path=\"url(#clip792)\" d=\"\nM4933.79 1384.24 L4933.79 1384.24 L4963.94 1384.24 L4963.94 1384.24 L4933.79 1384.24 L4933.79 1384.24  Z\n  \" fill=\"#009af9\" fill-rule=\"evenodd\" fill-opacity=\"1\"/>\n<polyline clip-path=\"url(#clip792)\" style=\"stroke:#000000; stroke-width:4; stroke-opacity:1; fill:none\" points=\"\n  4933.79,1384.24 4933.79,1384.24 4963.94,1384.24 4933.79,1384.24 \n  \"/>\n<path clip-path=\"url(#clip792)\" d=\"\nM4963.94 1384.24 L4963.94 1384.24 L4994.08 1384.24 L4994.08 1384.24 L4963.94 1384.24 L4963.94 1384.24  Z\n  \" fill=\"#009af9\" fill-rule=\"evenodd\" fill-opacity=\"1\"/>\n<polyline clip-path=\"url(#clip792)\" style=\"stroke:#000000; stroke-width:4; stroke-opacity:1; fill:none\" points=\"\n  4963.94,1384.24 4963.94,1384.24 4994.08,1384.24 4963.94,1384.24 \n  \"/>\n<path clip-path=\"url(#clip792)\" d=\"\nM4994.08 1384.24 L4994.08 1384.24 L5024.22 1384.24 L5024.22 1384.24 L4994.08 1384.24 L4994.08 1384.24  Z\n  \" fill=\"#009af9\" fill-rule=\"evenodd\" fill-opacity=\"1\"/>\n<polyline clip-path=\"url(#clip792)\" style=\"stroke:#000000; stroke-width:4; stroke-opacity:1; fill:none\" points=\"\n  4994.08,1384.24 4994.08,1384.24 5024.22,1384.24 4994.08,1384.24 \n  \"/>\n<path clip-path=\"url(#clip792)\" d=\"\nM5024.22 1384.24 L5024.22 1384.24 L5054.36 1384.24 L5054.36 1384.24 L5024.22 1384.24 L5024.22 1384.24  Z\n  \" fill=\"#009af9\" fill-rule=\"evenodd\" fill-opacity=\"1\"/>\n<polyline clip-path=\"url(#clip792)\" style=\"stroke:#000000; stroke-width:4; stroke-opacity:1; fill:none\" points=\"\n  5024.22,1384.24 5024.22,1384.24 5054.36,1384.24 5024.22,1384.24 \n  \"/>\n<path clip-path=\"url(#clip792)\" d=\"\nM5054.36 1384.24 L5054.36 1384.24 L5084.51 1384.24 L5084.51 1384.24 L5054.36 1384.24 L5054.36 1384.24  Z\n  \" fill=\"#009af9\" fill-rule=\"evenodd\" fill-opacity=\"1\"/>\n<polyline clip-path=\"url(#clip792)\" style=\"stroke:#000000; stroke-width:4; stroke-opacity:1; fill:none\" points=\"\n  5054.36,1384.24 5054.36,1384.24 5084.51,1384.24 5054.36,1384.24 \n  \"/>\n<path clip-path=\"url(#clip792)\" d=\"\nM5084.51 1384.24 L5084.51 1384.24 L5114.65 1384.24 L5114.65 1384.24 L5084.51 1384.24 L5084.51 1384.24  Z\n  \" fill=\"#009af9\" fill-rule=\"evenodd\" fill-opacity=\"1\"/>\n<polyline clip-path=\"url(#clip792)\" style=\"stroke:#000000; stroke-width:4; stroke-opacity:1; fill:none\" points=\"\n  5084.51,1384.24 5084.51,1384.24 5114.65,1384.24 5084.51,1384.24 \n  \"/>\n<path clip-path=\"url(#clip792)\" d=\"\nM5114.65 1384.24 L5114.65 1384.24 L5144.79 1384.24 L5144.79 1384.24 L5114.65 1384.24 L5114.65 1384.24  Z\n  \" fill=\"#009af9\" fill-rule=\"evenodd\" fill-opacity=\"1\"/>\n<polyline clip-path=\"url(#clip792)\" style=\"stroke:#000000; stroke-width:4; stroke-opacity:1; fill:none\" points=\"\n  5114.65,1384.24 5114.65,1384.24 5144.79,1384.24 5114.65,1384.24 \n  \"/>\n<path clip-path=\"url(#clip792)\" d=\"\nM5144.79 1384.24 L5144.79 1384.24 L5174.94 1384.24 L5174.94 1384.24 L5144.79 1384.24 L5144.79 1384.24  Z\n  \" fill=\"#009af9\" fill-rule=\"evenodd\" fill-opacity=\"1\"/>\n<polyline clip-path=\"url(#clip792)\" style=\"stroke:#000000; stroke-width:4; stroke-opacity:1; fill:none\" points=\"\n  5144.79,1384.24 5144.79,1384.24 5174.94,1384.24 5144.79,1384.24 \n  \"/>\n<path clip-path=\"url(#clip792)\" d=\"\nM5174.94 1384.24 L5174.94 1384.24 L5205.08 1384.24 L5205.08 1384.24 L5174.94 1384.24 L5174.94 1384.24  Z\n  \" fill=\"#009af9\" fill-rule=\"evenodd\" fill-opacity=\"1\"/>\n<polyline clip-path=\"url(#clip792)\" style=\"stroke:#000000; stroke-width:4; stroke-opacity:1; fill:none\" points=\"\n  5174.94,1384.24 5174.94,1384.24 5205.08,1384.24 5174.94,1384.24 \n  \"/>\n<path clip-path=\"url(#clip792)\" d=\"\nM5205.08 1384.24 L5205.08 1384.24 L5235.22 1384.24 L5235.22 1384.24 L5205.08 1384.24 L5205.08 1384.24  Z\n  \" fill=\"#009af9\" fill-rule=\"evenodd\" fill-opacity=\"1\"/>\n<polyline clip-path=\"url(#clip792)\" style=\"stroke:#000000; stroke-width:4; stroke-opacity:1; fill:none\" points=\"\n  5205.08,1384.24 5205.08,1384.24 5235.22,1384.24 5205.08,1384.24 \n  \"/>\n<path clip-path=\"url(#clip792)\" d=\"\nM5235.22 1384.24 L5235.22 1384.24 L5265.36 1384.24 L5265.36 1384.24 L5235.22 1384.24 L5235.22 1384.24  Z\n  \" fill=\"#009af9\" fill-rule=\"evenodd\" fill-opacity=\"1\"/>\n<polyline clip-path=\"url(#clip792)\" style=\"stroke:#000000; stroke-width:4; stroke-opacity:1; fill:none\" points=\"\n  5235.22,1384.24 5235.22,1384.24 5265.36,1384.24 5235.22,1384.24 \n  \"/>\n<path clip-path=\"url(#clip792)\" d=\"\nM5265.36 1384.24 L5265.36 1384.24 L5295.51 1384.24 L5295.51 1384.24 L5265.36 1384.24 L5265.36 1384.24  Z\n  \" fill=\"#009af9\" fill-rule=\"evenodd\" fill-opacity=\"1\"/>\n<polyline clip-path=\"url(#clip792)\" style=\"stroke:#000000; stroke-width:4; stroke-opacity:1; fill:none\" points=\"\n  5265.36,1384.24 5265.36,1384.24 5295.51,1384.24 5265.36,1384.24 \n  \"/>\n<path clip-path=\"url(#clip792)\" d=\"\nM5295.51 1384.24 L5295.51 1384.24 L5325.65 1384.24 L5325.65 1384.24 L5295.51 1384.24 L5295.51 1384.24  Z\n  \" fill=\"#009af9\" fill-rule=\"evenodd\" fill-opacity=\"1\"/>\n<polyline clip-path=\"url(#clip792)\" style=\"stroke:#000000; stroke-width:4; stroke-opacity:1; fill:none\" points=\"\n  5295.51,1384.24 5295.51,1384.24 5325.65,1384.24 5295.51,1384.24 \n  \"/>\n<path clip-path=\"url(#clip792)\" d=\"\nM5325.65 1339.48 L5325.65 1384.24 L5355.79 1384.24 L5355.79 1339.48 L5325.65 1339.48 L5325.65 1339.48  Z\n  \" fill=\"#009af9\" fill-rule=\"evenodd\" fill-opacity=\"1\"/>\n<polyline clip-path=\"url(#clip792)\" style=\"stroke:#000000; stroke-width:4; stroke-opacity:1; fill:none\" points=\"\n  5325.65,1339.48 5325.65,1384.24 5355.79,1384.24 5355.79,1339.48 5325.65,1339.48 \n  \"/>\n<path clip-path=\"url(#clip792)\" d=\"\nM5355.79 1384.24 L5355.79 1384.24 L5385.94 1384.24 L5385.94 1384.24 L5355.79 1384.24 L5355.79 1384.24  Z\n  \" fill=\"#009af9\" fill-rule=\"evenodd\" fill-opacity=\"1\"/>\n<polyline clip-path=\"url(#clip792)\" style=\"stroke:#000000; stroke-width:4; stroke-opacity:1; fill:none\" points=\"\n  5355.79,1384.24 5355.79,1384.24 5385.94,1384.24 5355.79,1384.24 \n  \"/>\n<path clip-path=\"url(#clip792)\" d=\"\nM5385.94 1384.24 L5385.94 1384.24 L5416.08 1384.24 L5416.08 1384.24 L5385.94 1384.24 L5385.94 1384.24  Z\n  \" fill=\"#009af9\" fill-rule=\"evenodd\" fill-opacity=\"1\"/>\n<polyline clip-path=\"url(#clip792)\" style=\"stroke:#000000; stroke-width:4; stroke-opacity:1; fill:none\" points=\"\n  5385.94,1384.24 5385.94,1384.24 5416.08,1384.24 5385.94,1384.24 \n  \"/>\n<path clip-path=\"url(#clip792)\" d=\"\nM5416.08 1384.24 L5416.08 1384.24 L5446.22 1384.24 L5446.22 1384.24 L5416.08 1384.24 L5416.08 1384.24  Z\n  \" fill=\"#009af9\" fill-rule=\"evenodd\" fill-opacity=\"1\"/>\n<polyline clip-path=\"url(#clip792)\" style=\"stroke:#000000; stroke-width:4; stroke-opacity:1; fill:none\" points=\"\n  5416.08,1384.24 5416.08,1384.24 5446.22,1384.24 5416.08,1384.24 \n  \"/>\n<path clip-path=\"url(#clip792)\" d=\"\nM5446.22 1384.24 L5446.22 1384.24 L5476.37 1384.24 L5476.37 1384.24 L5446.22 1384.24 L5446.22 1384.24  Z\n  \" fill=\"#009af9\" fill-rule=\"evenodd\" fill-opacity=\"1\"/>\n<polyline clip-path=\"url(#clip792)\" style=\"stroke:#000000; stroke-width:4; stroke-opacity:1; fill:none\" points=\"\n  5446.22,1384.24 5446.22,1384.24 5476.37,1384.24 5446.22,1384.24 \n  \"/>\n<path clip-path=\"url(#clip792)\" d=\"\nM5476.37 1384.24 L5476.37 1384.24 L5506.51 1384.24 L5506.51 1384.24 L5476.37 1384.24 L5476.37 1384.24  Z\n  \" fill=\"#009af9\" fill-rule=\"evenodd\" fill-opacity=\"1\"/>\n<polyline clip-path=\"url(#clip792)\" style=\"stroke:#000000; stroke-width:4; stroke-opacity:1; fill:none\" points=\"\n  5476.37,1384.24 5476.37,1384.24 5506.51,1384.24 5476.37,1384.24 \n  \"/>\n<path clip-path=\"url(#clip792)\" d=\"\nM5506.51 1384.24 L5506.51 1384.24 L5536.65 1384.24 L5536.65 1384.24 L5506.51 1384.24 L5506.51 1384.24  Z\n  \" fill=\"#009af9\" fill-rule=\"evenodd\" fill-opacity=\"1\"/>\n<polyline clip-path=\"url(#clip792)\" style=\"stroke:#000000; stroke-width:4; stroke-opacity:1; fill:none\" points=\"\n  5506.51,1384.24 5506.51,1384.24 5536.65,1384.24 5506.51,1384.24 \n  \"/>\n<path clip-path=\"url(#clip792)\" d=\"\nM5536.65 1384.24 L5536.65 1384.24 L5566.79 1384.24 L5566.79 1384.24 L5536.65 1384.24 L5536.65 1384.24  Z\n  \" fill=\"#009af9\" fill-rule=\"evenodd\" fill-opacity=\"1\"/>\n<polyline clip-path=\"url(#clip792)\" style=\"stroke:#000000; stroke-width:4; stroke-opacity:1; fill:none\" points=\"\n  5536.65,1384.24 5536.65,1384.24 5566.79,1384.24 5536.65,1384.24 \n  \"/>\n<path clip-path=\"url(#clip792)\" d=\"\nM5566.79 1384.24 L5566.79 1384.24 L5596.94 1384.24 L5596.94 1384.24 L5566.79 1384.24 L5566.79 1384.24  Z\n  \" fill=\"#009af9\" fill-rule=\"evenodd\" fill-opacity=\"1\"/>\n<polyline clip-path=\"url(#clip792)\" style=\"stroke:#000000; stroke-width:4; stroke-opacity:1; fill:none\" points=\"\n  5566.79,1384.24 5566.79,1384.24 5596.94,1384.24 5566.79,1384.24 \n  \"/>\n<path clip-path=\"url(#clip792)\" d=\"\nM5596.94 1384.24 L5596.94 1384.24 L5627.08 1384.24 L5627.08 1384.24 L5596.94 1384.24 L5596.94 1384.24  Z\n  \" fill=\"#009af9\" fill-rule=\"evenodd\" fill-opacity=\"1\"/>\n<polyline clip-path=\"url(#clip792)\" style=\"stroke:#000000; stroke-width:4; stroke-opacity:1; fill:none\" points=\"\n  5596.94,1384.24 5596.94,1384.24 5627.08,1384.24 5596.94,1384.24 \n  \"/>\n<path clip-path=\"url(#clip792)\" d=\"\nM5627.08 1384.24 L5627.08 1384.24 L5657.22 1384.24 L5657.22 1384.24 L5627.08 1384.24 L5627.08 1384.24  Z\n  \" fill=\"#009af9\" fill-rule=\"evenodd\" fill-opacity=\"1\"/>\n<polyline clip-path=\"url(#clip792)\" style=\"stroke:#000000; stroke-width:4; stroke-opacity:1; fill:none\" points=\"\n  5627.08,1384.24 5627.08,1384.24 5657.22,1384.24 5627.08,1384.24 \n  \"/>\n<path clip-path=\"url(#clip792)\" d=\"\nM5657.22 1384.24 L5657.22 1384.24 L5687.37 1384.24 L5687.37 1384.24 L5657.22 1384.24 L5657.22 1384.24  Z\n  \" fill=\"#009af9\" fill-rule=\"evenodd\" fill-opacity=\"1\"/>\n<polyline clip-path=\"url(#clip792)\" style=\"stroke:#000000; stroke-width:4; stroke-opacity:1; fill:none\" points=\"\n  5657.22,1384.24 5657.22,1384.24 5687.37,1384.24 5657.22,1384.24 \n  \"/>\n<path clip-path=\"url(#clip792)\" d=\"\nM5687.37 1384.24 L5687.37 1384.24 L5717.51 1384.24 L5717.51 1384.24 L5687.37 1384.24 L5687.37 1384.24  Z\n  \" fill=\"#009af9\" fill-rule=\"evenodd\" fill-opacity=\"1\"/>\n<polyline clip-path=\"url(#clip792)\" style=\"stroke:#000000; stroke-width:4; stroke-opacity:1; fill:none\" points=\"\n  5687.37,1384.24 5687.37,1384.24 5717.51,1384.24 5687.37,1384.24 \n  \"/>\n<path clip-path=\"url(#clip792)\" d=\"\nM5717.51 1384.24 L5717.51 1384.24 L5747.65 1384.24 L5747.65 1384.24 L5717.51 1384.24 L5717.51 1384.24  Z\n  \" fill=\"#009af9\" fill-rule=\"evenodd\" fill-opacity=\"1\"/>\n<polyline clip-path=\"url(#clip792)\" style=\"stroke:#000000; stroke-width:4; stroke-opacity:1; fill:none\" points=\"\n  5717.51,1384.24 5717.51,1384.24 5747.65,1384.24 5717.51,1384.24 \n  \"/>\n<path clip-path=\"url(#clip792)\" d=\"\nM5747.65 1384.24 L5747.65 1384.24 L5777.79 1384.24 L5777.79 1384.24 L5747.65 1384.24 L5747.65 1384.24  Z\n  \" fill=\"#009af9\" fill-rule=\"evenodd\" fill-opacity=\"1\"/>\n<polyline clip-path=\"url(#clip792)\" style=\"stroke:#000000; stroke-width:4; stroke-opacity:1; fill:none\" points=\"\n  5747.65,1384.24 5747.65,1384.24 5777.79,1384.24 5747.65,1384.24 \n  \"/>\n<path clip-path=\"url(#clip792)\" d=\"\nM5777.79 1384.24 L5777.79 1384.24 L5807.94 1384.24 L5807.94 1384.24 L5777.79 1384.24 L5777.79 1384.24  Z\n  \" fill=\"#009af9\" fill-rule=\"evenodd\" fill-opacity=\"1\"/>\n<polyline clip-path=\"url(#clip792)\" style=\"stroke:#000000; stroke-width:4; stroke-opacity:1; fill:none\" points=\"\n  5777.79,1384.24 5777.79,1384.24 5807.94,1384.24 5777.79,1384.24 \n  \"/>\n<path clip-path=\"url(#clip792)\" d=\"\nM5807.94 1384.24 L5807.94 1384.24 L5838.08 1384.24 L5838.08 1384.24 L5807.94 1384.24 L5807.94 1384.24  Z\n  \" fill=\"#009af9\" fill-rule=\"evenodd\" fill-opacity=\"1\"/>\n<polyline clip-path=\"url(#clip792)\" style=\"stroke:#000000; stroke-width:4; stroke-opacity:1; fill:none\" points=\"\n  5807.94,1384.24 5807.94,1384.24 5838.08,1384.24 5807.94,1384.24 \n  \"/>\n<path clip-path=\"url(#clip792)\" d=\"\nM5838.08 1384.24 L5838.08 1384.24 L5868.22 1384.24 L5868.22 1384.24 L5838.08 1384.24 L5838.08 1384.24  Z\n  \" fill=\"#009af9\" fill-rule=\"evenodd\" fill-opacity=\"1\"/>\n<polyline clip-path=\"url(#clip792)\" style=\"stroke:#000000; stroke-width:4; stroke-opacity:1; fill:none\" points=\"\n  5838.08,1384.24 5838.08,1384.24 5868.22,1384.24 5838.08,1384.24 \n  \"/>\n<path clip-path=\"url(#clip792)\" d=\"\nM5868.22 1384.24 L5868.22 1384.24 L5898.37 1384.24 L5898.37 1384.24 L5868.22 1384.24 L5868.22 1384.24  Z\n  \" fill=\"#009af9\" fill-rule=\"evenodd\" fill-opacity=\"1\"/>\n<polyline clip-path=\"url(#clip792)\" style=\"stroke:#000000; stroke-width:4; stroke-opacity:1; fill:none\" points=\"\n  5868.22,1384.24 5868.22,1384.24 5898.37,1384.24 5868.22,1384.24 \n  \"/>\n<path clip-path=\"url(#clip792)\" d=\"\nM5898.37 1384.24 L5898.37 1384.24 L5928.51 1384.24 L5928.51 1384.24 L5898.37 1384.24 L5898.37 1384.24  Z\n  \" fill=\"#009af9\" fill-rule=\"evenodd\" fill-opacity=\"1\"/>\n<polyline clip-path=\"url(#clip792)\" style=\"stroke:#000000; stroke-width:4; stroke-opacity:1; fill:none\" points=\"\n  5898.37,1384.24 5898.37,1384.24 5928.51,1384.24 5898.37,1384.24 \n  \"/>\n<path clip-path=\"url(#clip792)\" d=\"\nM5928.51 1384.24 L5928.51 1384.24 L5958.65 1384.24 L5958.65 1384.24 L5928.51 1384.24 L5928.51 1384.24  Z\n  \" fill=\"#009af9\" fill-rule=\"evenodd\" fill-opacity=\"1\"/>\n<polyline clip-path=\"url(#clip792)\" style=\"stroke:#000000; stroke-width:4; stroke-opacity:1; fill:none\" points=\"\n  5928.51,1384.24 5928.51,1384.24 5958.65,1384.24 5928.51,1384.24 \n  \"/>\n<path clip-path=\"url(#clip792)\" d=\"\nM5958.65 1384.24 L5958.65 1384.24 L5988.79 1384.24 L5988.79 1384.24 L5958.65 1384.24 L5958.65 1384.24  Z\n  \" fill=\"#009af9\" fill-rule=\"evenodd\" fill-opacity=\"1\"/>\n<polyline clip-path=\"url(#clip792)\" style=\"stroke:#000000; stroke-width:4; stroke-opacity:1; fill:none\" points=\"\n  5958.65,1384.24 5958.65,1384.24 5988.79,1384.24 5958.65,1384.24 \n  \"/>\n<path clip-path=\"url(#clip792)\" d=\"\nM5988.79 1384.24 L5988.79 1384.24 L6018.94 1384.24 L6018.94 1384.24 L5988.79 1384.24 L5988.79 1384.24  Z\n  \" fill=\"#009af9\" fill-rule=\"evenodd\" fill-opacity=\"1\"/>\n<polyline clip-path=\"url(#clip792)\" style=\"stroke:#000000; stroke-width:4; stroke-opacity:1; fill:none\" points=\"\n  5988.79,1384.24 5988.79,1384.24 6018.94,1384.24 5988.79,1384.24 \n  \"/>\n<path clip-path=\"url(#clip792)\" d=\"\nM6018.94 1384.24 L6018.94 1384.24 L6049.08 1384.24 L6049.08 1384.24 L6018.94 1384.24 L6018.94 1384.24  Z\n  \" fill=\"#009af9\" fill-rule=\"evenodd\" fill-opacity=\"1\"/>\n<polyline clip-path=\"url(#clip792)\" style=\"stroke:#000000; stroke-width:4; stroke-opacity:1; fill:none\" points=\"\n  6018.94,1384.24 6018.94,1384.24 6049.08,1384.24 6018.94,1384.24 \n  \"/>\n<path clip-path=\"url(#clip792)\" d=\"\nM6049.08 1384.24 L6049.08 1384.24 L6079.22 1384.24 L6079.22 1384.24 L6049.08 1384.24 L6049.08 1384.24  Z\n  \" fill=\"#009af9\" fill-rule=\"evenodd\" fill-opacity=\"1\"/>\n<polyline clip-path=\"url(#clip792)\" style=\"stroke:#000000; stroke-width:4; stroke-opacity:1; fill:none\" points=\"\n  6049.08,1384.24 6049.08,1384.24 6079.22,1384.24 6049.08,1384.24 \n  \"/>\n<path clip-path=\"url(#clip792)\" d=\"\nM6079.22 1384.24 L6079.22 1384.24 L6109.37 1384.24 L6109.37 1384.24 L6079.22 1384.24 L6079.22 1384.24  Z\n  \" fill=\"#009af9\" fill-rule=\"evenodd\" fill-opacity=\"1\"/>\n<polyline clip-path=\"url(#clip792)\" style=\"stroke:#000000; stroke-width:4; stroke-opacity:1; fill:none\" points=\"\n  6079.22,1384.24 6079.22,1384.24 6109.37,1384.24 6079.22,1384.24 \n  \"/>\n<path clip-path=\"url(#clip792)\" d=\"\nM6109.37 1384.24 L6109.37 1384.24 L6139.51 1384.24 L6139.51 1384.24 L6109.37 1384.24 L6109.37 1384.24  Z\n  \" fill=\"#009af9\" fill-rule=\"evenodd\" fill-opacity=\"1\"/>\n<polyline clip-path=\"url(#clip792)\" style=\"stroke:#000000; stroke-width:4; stroke-opacity:1; fill:none\" points=\"\n  6109.37,1384.24 6109.37,1384.24 6139.51,1384.24 6109.37,1384.24 \n  \"/>\n<path clip-path=\"url(#clip792)\" d=\"\nM6139.51 1384.24 L6139.51 1384.24 L6169.65 1384.24 L6169.65 1384.24 L6139.51 1384.24 L6139.51 1384.24  Z\n  \" fill=\"#009af9\" fill-rule=\"evenodd\" fill-opacity=\"1\"/>\n<polyline clip-path=\"url(#clip792)\" style=\"stroke:#000000; stroke-width:4; stroke-opacity:1; fill:none\" points=\"\n  6139.51,1384.24 6139.51,1384.24 6169.65,1384.24 6139.51,1384.24 \n  \"/>\n<path clip-path=\"url(#clip792)\" d=\"\nM6169.65 1384.24 L6169.65 1384.24 L6199.79 1384.24 L6199.79 1384.24 L6169.65 1384.24 L6169.65 1384.24  Z\n  \" fill=\"#009af9\" fill-rule=\"evenodd\" fill-opacity=\"1\"/>\n<polyline clip-path=\"url(#clip792)\" style=\"stroke:#000000; stroke-width:4; stroke-opacity:1; fill:none\" points=\"\n  6169.65,1384.24 6169.65,1384.24 6199.79,1384.24 6169.65,1384.24 \n  \"/>\n<path clip-path=\"url(#clip792)\" d=\"\nM6199.79 1384.24 L6199.79 1384.24 L6229.94 1384.24 L6229.94 1384.24 L6199.79 1384.24 L6199.79 1384.24  Z\n  \" fill=\"#009af9\" fill-rule=\"evenodd\" fill-opacity=\"1\"/>\n<polyline clip-path=\"url(#clip792)\" style=\"stroke:#000000; stroke-width:4; stroke-opacity:1; fill:none\" points=\"\n  6199.79,1384.24 6199.79,1384.24 6229.94,1384.24 6199.79,1384.24 \n  \"/>\n<path clip-path=\"url(#clip792)\" d=\"\nM6229.94 1384.24 L6229.94 1384.24 L6260.08 1384.24 L6260.08 1384.24 L6229.94 1384.24 L6229.94 1384.24  Z\n  \" fill=\"#009af9\" fill-rule=\"evenodd\" fill-opacity=\"1\"/>\n<polyline clip-path=\"url(#clip792)\" style=\"stroke:#000000; stroke-width:4; stroke-opacity:1; fill:none\" points=\"\n  6229.94,1384.24 6229.94,1384.24 6260.08,1384.24 6229.94,1384.24 \n  \"/>\n<path clip-path=\"url(#clip792)\" d=\"\nM6260.08 1384.24 L6260.08 1384.24 L6290.22 1384.24 L6290.22 1384.24 L6260.08 1384.24 L6260.08 1384.24  Z\n  \" fill=\"#009af9\" fill-rule=\"evenodd\" fill-opacity=\"1\"/>\n<polyline clip-path=\"url(#clip792)\" style=\"stroke:#000000; stroke-width:4; stroke-opacity:1; fill:none\" points=\"\n  6260.08,1384.24 6260.08,1384.24 6290.22,1384.24 6260.08,1384.24 \n  \"/>\n<path clip-path=\"url(#clip792)\" d=\"\nM6290.22 1384.24 L6290.22 1384.24 L6320.37 1384.24 L6320.37 1384.24 L6290.22 1384.24 L6290.22 1384.24  Z\n  \" fill=\"#009af9\" fill-rule=\"evenodd\" fill-opacity=\"1\"/>\n<polyline clip-path=\"url(#clip792)\" style=\"stroke:#000000; stroke-width:4; stroke-opacity:1; fill:none\" points=\"\n  6290.22,1384.24 6290.22,1384.24 6320.37,1384.24 6290.22,1384.24 \n  \"/>\n<path clip-path=\"url(#clip792)\" d=\"\nM6320.37 1384.24 L6320.37 1384.24 L6350.51 1384.24 L6350.51 1384.24 L6320.37 1384.24 L6320.37 1384.24  Z\n  \" fill=\"#009af9\" fill-rule=\"evenodd\" fill-opacity=\"1\"/>\n<polyline clip-path=\"url(#clip792)\" style=\"stroke:#000000; stroke-width:4; stroke-opacity:1; fill:none\" points=\"\n  6320.37,1384.24 6320.37,1384.24 6350.51,1384.24 6320.37,1384.24 \n  \"/>\n<path clip-path=\"url(#clip792)\" d=\"\nM6350.51 1384.24 L6350.51 1384.24 L6380.65 1384.24 L6380.65 1384.24 L6350.51 1384.24 L6350.51 1384.24  Z\n  \" fill=\"#009af9\" fill-rule=\"evenodd\" fill-opacity=\"1\"/>\n<polyline clip-path=\"url(#clip792)\" style=\"stroke:#000000; stroke-width:4; stroke-opacity:1; fill:none\" points=\"\n  6350.51,1384.24 6350.51,1384.24 6380.65,1384.24 6350.51,1384.24 \n  \"/>\n<path clip-path=\"url(#clip792)\" d=\"\nM6380.65 1384.24 L6380.65 1384.24 L6410.79 1384.24 L6410.79 1384.24 L6380.65 1384.24 L6380.65 1384.24  Z\n  \" fill=\"#009af9\" fill-rule=\"evenodd\" fill-opacity=\"1\"/>\n<polyline clip-path=\"url(#clip792)\" style=\"stroke:#000000; stroke-width:4; stroke-opacity:1; fill:none\" points=\"\n  6380.65,1384.24 6380.65,1384.24 6410.79,1384.24 6380.65,1384.24 \n  \"/>\n<path clip-path=\"url(#clip792)\" d=\"\nM6410.79 1384.24 L6410.79 1384.24 L6440.94 1384.24 L6440.94 1384.24 L6410.79 1384.24 L6410.79 1384.24  Z\n  \" fill=\"#009af9\" fill-rule=\"evenodd\" fill-opacity=\"1\"/>\n<polyline clip-path=\"url(#clip792)\" style=\"stroke:#000000; stroke-width:4; stroke-opacity:1; fill:none\" points=\"\n  6410.79,1384.24 6410.79,1384.24 6440.94,1384.24 6410.79,1384.24 \n  \"/>\n<path clip-path=\"url(#clip792)\" d=\"\nM6440.94 1384.24 L6440.94 1384.24 L6471.08 1384.24 L6471.08 1384.24 L6440.94 1384.24 L6440.94 1384.24  Z\n  \" fill=\"#009af9\" fill-rule=\"evenodd\" fill-opacity=\"1\"/>\n<polyline clip-path=\"url(#clip792)\" style=\"stroke:#000000; stroke-width:4; stroke-opacity:1; fill:none\" points=\"\n  6440.94,1384.24 6440.94,1384.24 6471.08,1384.24 6440.94,1384.24 \n  \"/>\n<path clip-path=\"url(#clip792)\" d=\"\nM6471.08 1384.24 L6471.08 1384.24 L6501.22 1384.24 L6501.22 1384.24 L6471.08 1384.24 L6471.08 1384.24  Z\n  \" fill=\"#009af9\" fill-rule=\"evenodd\" fill-opacity=\"1\"/>\n<polyline clip-path=\"url(#clip792)\" style=\"stroke:#000000; stroke-width:4; stroke-opacity:1; fill:none\" points=\"\n  6471.08,1384.24 6471.08,1384.24 6501.22,1384.24 6471.08,1384.24 \n  \"/>\n<path clip-path=\"url(#clip792)\" d=\"\nM6501.22 1384.24 L6501.22 1384.24 L6531.37 1384.24 L6531.37 1384.24 L6501.22 1384.24 L6501.22 1384.24  Z\n  \" fill=\"#009af9\" fill-rule=\"evenodd\" fill-opacity=\"1\"/>\n<polyline clip-path=\"url(#clip792)\" style=\"stroke:#000000; stroke-width:4; stroke-opacity:1; fill:none\" points=\"\n  6501.22,1384.24 6501.22,1384.24 6531.37,1384.24 6501.22,1384.24 \n  \"/>\n<path clip-path=\"url(#clip792)\" d=\"\nM6531.37 1384.24 L6531.37 1384.24 L6561.51 1384.24 L6561.51 1384.24 L6531.37 1384.24 L6531.37 1384.24  Z\n  \" fill=\"#009af9\" fill-rule=\"evenodd\" fill-opacity=\"1\"/>\n<polyline clip-path=\"url(#clip792)\" style=\"stroke:#000000; stroke-width:4; stroke-opacity:1; fill:none\" points=\"\n  6531.37,1384.24 6531.37,1384.24 6561.51,1384.24 6531.37,1384.24 \n  \"/>\n<path clip-path=\"url(#clip792)\" d=\"\nM6561.51 1384.24 L6561.51 1384.24 L6591.65 1384.24 L6591.65 1384.24 L6561.51 1384.24 L6561.51 1384.24  Z\n  \" fill=\"#009af9\" fill-rule=\"evenodd\" fill-opacity=\"1\"/>\n<polyline clip-path=\"url(#clip792)\" style=\"stroke:#000000; stroke-width:4; stroke-opacity:1; fill:none\" points=\"\n  6561.51,1384.24 6561.51,1384.24 6591.65,1384.24 6561.51,1384.24 \n  \"/>\n<path clip-path=\"url(#clip792)\" d=\"\nM6591.65 1384.24 L6591.65 1384.24 L6621.8 1384.24 L6621.8 1384.24 L6591.65 1384.24 L6591.65 1384.24  Z\n  \" fill=\"#009af9\" fill-rule=\"evenodd\" fill-opacity=\"1\"/>\n<polyline clip-path=\"url(#clip792)\" style=\"stroke:#000000; stroke-width:4; stroke-opacity:1; fill:none\" points=\"\n  6591.65,1384.24 6591.65,1384.24 6621.8,1384.24 6591.65,1384.24 \n  \"/>\n<path clip-path=\"url(#clip792)\" d=\"\nM6621.8 1384.24 L6621.8 1384.24 L6651.94 1384.24 L6651.94 1384.24 L6621.8 1384.24 L6621.8 1384.24  Z\n  \" fill=\"#009af9\" fill-rule=\"evenodd\" fill-opacity=\"1\"/>\n<polyline clip-path=\"url(#clip792)\" style=\"stroke:#000000; stroke-width:4; stroke-opacity:1; fill:none\" points=\"\n  6621.8,1384.24 6621.8,1384.24 6651.94,1384.24 6621.8,1384.24 \n  \"/>\n<path clip-path=\"url(#clip792)\" d=\"\nM6651.94 1384.24 L6651.94 1384.24 L6682.08 1384.24 L6682.08 1384.24 L6651.94 1384.24 L6651.94 1384.24  Z\n  \" fill=\"#009af9\" fill-rule=\"evenodd\" fill-opacity=\"1\"/>\n<polyline clip-path=\"url(#clip792)\" style=\"stroke:#000000; stroke-width:4; stroke-opacity:1; fill:none\" points=\"\n  6651.94,1384.24 6651.94,1384.24 6682.08,1384.24 6651.94,1384.24 \n  \"/>\n<path clip-path=\"url(#clip792)\" d=\"\nM6682.08 1384.24 L6682.08 1384.24 L6712.22 1384.24 L6712.22 1384.24 L6682.08 1384.24 L6682.08 1384.24  Z\n  \" fill=\"#009af9\" fill-rule=\"evenodd\" fill-opacity=\"1\"/>\n<polyline clip-path=\"url(#clip792)\" style=\"stroke:#000000; stroke-width:4; stroke-opacity:1; fill:none\" points=\"\n  6682.08,1384.24 6682.08,1384.24 6712.22,1384.24 6682.08,1384.24 \n  \"/>\n<path clip-path=\"url(#clip792)\" d=\"\nM6712.22 1384.24 L6712.22 1384.24 L6742.37 1384.24 L6742.37 1384.24 L6712.22 1384.24 L6712.22 1384.24  Z\n  \" fill=\"#009af9\" fill-rule=\"evenodd\" fill-opacity=\"1\"/>\n<polyline clip-path=\"url(#clip792)\" style=\"stroke:#000000; stroke-width:4; stroke-opacity:1; fill:none\" points=\"\n  6712.22,1384.24 6712.22,1384.24 6742.37,1384.24 6712.22,1384.24 \n  \"/>\n<path clip-path=\"url(#clip792)\" d=\"\nM6742.37 1384.24 L6742.37 1384.24 L6772.51 1384.24 L6772.51 1384.24 L6742.37 1384.24 L6742.37 1384.24  Z\n  \" fill=\"#009af9\" fill-rule=\"evenodd\" fill-opacity=\"1\"/>\n<polyline clip-path=\"url(#clip792)\" style=\"stroke:#000000; stroke-width:4; stroke-opacity:1; fill:none\" points=\"\n  6742.37,1384.24 6742.37,1384.24 6772.51,1384.24 6742.37,1384.24 \n  \"/>\n<path clip-path=\"url(#clip792)\" d=\"\nM6772.51 1384.24 L6772.51 1384.24 L6802.65 1384.24 L6802.65 1384.24 L6772.51 1384.24 L6772.51 1384.24  Z\n  \" fill=\"#009af9\" fill-rule=\"evenodd\" fill-opacity=\"1\"/>\n<polyline clip-path=\"url(#clip792)\" style=\"stroke:#000000; stroke-width:4; stroke-opacity:1; fill:none\" points=\"\n  6772.51,1384.24 6772.51,1384.24 6802.65,1384.24 6772.51,1384.24 \n  \"/>\n<path clip-path=\"url(#clip792)\" d=\"\nM6802.65 1384.24 L6802.65 1384.24 L6832.8 1384.24 L6832.8 1384.24 L6802.65 1384.24 L6802.65 1384.24  Z\n  \" fill=\"#009af9\" fill-rule=\"evenodd\" fill-opacity=\"1\"/>\n<polyline clip-path=\"url(#clip792)\" style=\"stroke:#000000; stroke-width:4; stroke-opacity:1; fill:none\" points=\"\n  6802.65,1384.24 6802.65,1384.24 6832.8,1384.24 6802.65,1384.24 \n  \"/>\n<path clip-path=\"url(#clip792)\" d=\"\nM6832.8 1384.24 L6832.8 1384.24 L6862.94 1384.24 L6862.94 1384.24 L6832.8 1384.24 L6832.8 1384.24  Z\n  \" fill=\"#009af9\" fill-rule=\"evenodd\" fill-opacity=\"1\"/>\n<polyline clip-path=\"url(#clip792)\" style=\"stroke:#000000; stroke-width:4; stroke-opacity:1; fill:none\" points=\"\n  6832.8,1384.24 6832.8,1384.24 6862.94,1384.24 6832.8,1384.24 \n  \"/>\n<path clip-path=\"url(#clip792)\" d=\"\nM6862.94 1384.24 L6862.94 1384.24 L6893.08 1384.24 L6893.08 1384.24 L6862.94 1384.24 L6862.94 1384.24  Z\n  \" fill=\"#009af9\" fill-rule=\"evenodd\" fill-opacity=\"1\"/>\n<polyline clip-path=\"url(#clip792)\" style=\"stroke:#000000; stroke-width:4; stroke-opacity:1; fill:none\" points=\"\n  6862.94,1384.24 6862.94,1384.24 6893.08,1384.24 6862.94,1384.24 \n  \"/>\n<path clip-path=\"url(#clip792)\" d=\"\nM6893.08 1384.24 L6893.08 1384.24 L6923.22 1384.24 L6923.22 1384.24 L6893.08 1384.24 L6893.08 1384.24  Z\n  \" fill=\"#009af9\" fill-rule=\"evenodd\" fill-opacity=\"1\"/>\n<polyline clip-path=\"url(#clip792)\" style=\"stroke:#000000; stroke-width:4; stroke-opacity:1; fill:none\" points=\"\n  6893.08,1384.24 6893.08,1384.24 6923.22,1384.24 6893.08,1384.24 \n  \"/>\n<path clip-path=\"url(#clip792)\" d=\"\nM6923.22 1384.24 L6923.22 1384.24 L6953.37 1384.24 L6953.37 1384.24 L6923.22 1384.24 L6923.22 1384.24  Z\n  \" fill=\"#009af9\" fill-rule=\"evenodd\" fill-opacity=\"1\"/>\n<polyline clip-path=\"url(#clip792)\" style=\"stroke:#000000; stroke-width:4; stroke-opacity:1; fill:none\" points=\"\n  6923.22,1384.24 6923.22,1384.24 6953.37,1384.24 6923.22,1384.24 \n  \"/>\n<path clip-path=\"url(#clip792)\" d=\"\nM6953.37 1384.24 L6953.37 1384.24 L6983.51 1384.24 L6983.51 1384.24 L6953.37 1384.24 L6953.37 1384.24  Z\n  \" fill=\"#009af9\" fill-rule=\"evenodd\" fill-opacity=\"1\"/>\n<polyline clip-path=\"url(#clip792)\" style=\"stroke:#000000; stroke-width:4; stroke-opacity:1; fill:none\" points=\"\n  6953.37,1384.24 6953.37,1384.24 6983.51,1384.24 6953.37,1384.24 \n  \"/>\n<path clip-path=\"url(#clip792)\" d=\"\nM6983.51 1384.24 L6983.51 1384.24 L7013.65 1384.24 L7013.65 1384.24 L6983.51 1384.24 L6983.51 1384.24  Z\n  \" fill=\"#009af9\" fill-rule=\"evenodd\" fill-opacity=\"1\"/>\n<polyline clip-path=\"url(#clip792)\" style=\"stroke:#000000; stroke-width:4; stroke-opacity:1; fill:none\" points=\"\n  6983.51,1384.24 6983.51,1384.24 7013.65,1384.24 6983.51,1384.24 \n  \"/>\n<path clip-path=\"url(#clip792)\" d=\"\nM7013.65 1384.24 L7013.65 1384.24 L7043.8 1384.24 L7043.8 1384.24 L7013.65 1384.24 L7013.65 1384.24  Z\n  \" fill=\"#009af9\" fill-rule=\"evenodd\" fill-opacity=\"1\"/>\n<polyline clip-path=\"url(#clip792)\" style=\"stroke:#000000; stroke-width:4; stroke-opacity:1; fill:none\" points=\"\n  7013.65,1384.24 7013.65,1384.24 7043.8,1384.24 7013.65,1384.24 \n  \"/>\n<path clip-path=\"url(#clip792)\" d=\"\nM7043.8 1384.24 L7043.8 1384.24 L7073.94 1384.24 L7073.94 1384.24 L7043.8 1384.24 L7043.8 1384.24  Z\n  \" fill=\"#009af9\" fill-rule=\"evenodd\" fill-opacity=\"1\"/>\n<polyline clip-path=\"url(#clip792)\" style=\"stroke:#000000; stroke-width:4; stroke-opacity:1; fill:none\" points=\"\n  7043.8,1384.24 7043.8,1384.24 7073.94,1384.24 7043.8,1384.24 \n  \"/>\n<path clip-path=\"url(#clip792)\" d=\"\nM7073.94 1384.24 L7073.94 1384.24 L7104.08 1384.24 L7104.08 1384.24 L7073.94 1384.24 L7073.94 1384.24  Z\n  \" fill=\"#009af9\" fill-rule=\"evenodd\" fill-opacity=\"1\"/>\n<polyline clip-path=\"url(#clip792)\" style=\"stroke:#000000; stroke-width:4; stroke-opacity:1; fill:none\" points=\"\n  7073.94,1384.24 7073.94,1384.24 7104.08,1384.24 7073.94,1384.24 \n  \"/>\n<path clip-path=\"url(#clip792)\" d=\"\nM7104.08 1339.48 L7104.08 1384.24 L7134.22 1384.24 L7134.22 1339.48 L7104.08 1339.48 L7104.08 1339.48  Z\n  \" fill=\"#009af9\" fill-rule=\"evenodd\" fill-opacity=\"1\"/>\n<polyline clip-path=\"url(#clip792)\" style=\"stroke:#000000; stroke-width:4; stroke-opacity:1; fill:none\" points=\"\n  7104.08,1339.48 7104.08,1384.24 7134.22,1384.24 7134.22,1339.48 7104.08,1339.48 \n  \"/>\n<path clip-path=\"url(#clip792)\" d=\"\nM7134.22 1384.24 L7134.22 1384.24 L7164.37 1384.24 L7164.37 1384.24 L7134.22 1384.24 L7134.22 1384.24  Z\n  \" fill=\"#009af9\" fill-rule=\"evenodd\" fill-opacity=\"1\"/>\n<polyline clip-path=\"url(#clip792)\" style=\"stroke:#000000; stroke-width:4; stroke-opacity:1; fill:none\" points=\"\n  7134.22,1384.24 7134.22,1384.24 7164.37,1384.24 7134.22,1384.24 \n  \"/>\n<path clip-path=\"url(#clip792)\" d=\"\nM7164.37 1384.24 L7164.37 1384.24 L7194.51 1384.24 L7194.51 1384.24 L7164.37 1384.24 L7164.37 1384.24  Z\n  \" fill=\"#009af9\" fill-rule=\"evenodd\" fill-opacity=\"1\"/>\n<polyline clip-path=\"url(#clip792)\" style=\"stroke:#000000; stroke-width:4; stroke-opacity:1; fill:none\" points=\"\n  7164.37,1384.24 7164.37,1384.24 7194.51,1384.24 7164.37,1384.24 \n  \"/>\n<path clip-path=\"url(#clip792)\" d=\"\nM7194.51 1384.24 L7194.51 1384.24 L7224.65 1384.24 L7224.65 1384.24 L7194.51 1384.24 L7194.51 1384.24  Z\n  \" fill=\"#009af9\" fill-rule=\"evenodd\" fill-opacity=\"1\"/>\n<polyline clip-path=\"url(#clip792)\" style=\"stroke:#000000; stroke-width:4; stroke-opacity:1; fill:none\" points=\"\n  7194.51,1384.24 7194.51,1384.24 7224.65,1384.24 7194.51,1384.24 \n  \"/>\n<path clip-path=\"url(#clip792)\" d=\"\nM7224.65 1384.24 L7224.65 1384.24 L7254.8 1384.24 L7254.8 1384.24 L7224.65 1384.24 L7224.65 1384.24  Z\n  \" fill=\"#009af9\" fill-rule=\"evenodd\" fill-opacity=\"1\"/>\n<polyline clip-path=\"url(#clip792)\" style=\"stroke:#000000; stroke-width:4; stroke-opacity:1; fill:none\" points=\"\n  7224.65,1384.24 7224.65,1384.24 7254.8,1384.24 7224.65,1384.24 \n  \"/>\n<path clip-path=\"url(#clip792)\" d=\"\nM7254.8 1384.24 L7254.8 1384.24 L7284.94 1384.24 L7284.94 1384.24 L7254.8 1384.24 L7254.8 1384.24  Z\n  \" fill=\"#009af9\" fill-rule=\"evenodd\" fill-opacity=\"1\"/>\n<polyline clip-path=\"url(#clip792)\" style=\"stroke:#000000; stroke-width:4; stroke-opacity:1; fill:none\" points=\"\n  7254.8,1384.24 7254.8,1384.24 7284.94,1384.24 7254.8,1384.24 \n  \"/>\n<path clip-path=\"url(#clip792)\" d=\"\nM7284.94 1384.24 L7284.94 1384.24 L7315.08 1384.24 L7315.08 1384.24 L7284.94 1384.24 L7284.94 1384.24  Z\n  \" fill=\"#009af9\" fill-rule=\"evenodd\" fill-opacity=\"1\"/>\n<polyline clip-path=\"url(#clip792)\" style=\"stroke:#000000; stroke-width:4; stroke-opacity:1; fill:none\" points=\"\n  7284.94,1384.24 7284.94,1384.24 7315.08,1384.24 7284.94,1384.24 \n  \"/>\n<path clip-path=\"url(#clip792)\" d=\"\nM7315.08 1384.24 L7315.08 1384.24 L7345.22 1384.24 L7345.22 1384.24 L7315.08 1384.24 L7315.08 1384.24  Z\n  \" fill=\"#009af9\" fill-rule=\"evenodd\" fill-opacity=\"1\"/>\n<polyline clip-path=\"url(#clip792)\" style=\"stroke:#000000; stroke-width:4; stroke-opacity:1; fill:none\" points=\"\n  7315.08,1384.24 7315.08,1384.24 7345.22,1384.24 7315.08,1384.24 \n  \"/>\n<path clip-path=\"url(#clip792)\" d=\"\nM7345.22 1384.24 L7345.22 1384.24 L7375.37 1384.24 L7375.37 1384.24 L7345.22 1384.24 L7345.22 1384.24  Z\n  \" fill=\"#009af9\" fill-rule=\"evenodd\" fill-opacity=\"1\"/>\n<polyline clip-path=\"url(#clip792)\" style=\"stroke:#000000; stroke-width:4; stroke-opacity:1; fill:none\" points=\"\n  7345.22,1384.24 7345.22,1384.24 7375.37,1384.24 7345.22,1384.24 \n  \"/>\n<path clip-path=\"url(#clip792)\" d=\"\nM7375.37 1384.24 L7375.37 1384.24 L7405.51 1384.24 L7405.51 1384.24 L7375.37 1384.24 L7375.37 1384.24  Z\n  \" fill=\"#009af9\" fill-rule=\"evenodd\" fill-opacity=\"1\"/>\n<polyline clip-path=\"url(#clip792)\" style=\"stroke:#000000; stroke-width:4; stroke-opacity:1; fill:none\" points=\"\n  7375.37,1384.24 7375.37,1384.24 7405.51,1384.24 7375.37,1384.24 \n  \"/>\n<path clip-path=\"url(#clip792)\" d=\"\nM7405.51 1384.24 L7405.51 1384.24 L7435.65 1384.24 L7435.65 1384.24 L7405.51 1384.24 L7405.51 1384.24  Z\n  \" fill=\"#009af9\" fill-rule=\"evenodd\" fill-opacity=\"1\"/>\n<polyline clip-path=\"url(#clip792)\" style=\"stroke:#000000; stroke-width:4; stroke-opacity:1; fill:none\" points=\"\n  7405.51,1384.24 7405.51,1384.24 7435.65,1384.24 7405.51,1384.24 \n  \"/>\n<path clip-path=\"url(#clip792)\" d=\"\nM7435.65 1384.24 L7435.65 1384.24 L7465.8 1384.24 L7465.8 1384.24 L7435.65 1384.24 L7435.65 1384.24  Z\n  \" fill=\"#009af9\" fill-rule=\"evenodd\" fill-opacity=\"1\"/>\n<polyline clip-path=\"url(#clip792)\" style=\"stroke:#000000; stroke-width:4; stroke-opacity:1; fill:none\" points=\"\n  7435.65,1384.24 7435.65,1384.24 7465.8,1384.24 7435.65,1384.24 \n  \"/>\n<path clip-path=\"url(#clip792)\" d=\"\nM7465.8 1384.24 L7465.8 1384.24 L7495.94 1384.24 L7495.94 1384.24 L7465.8 1384.24 L7465.8 1384.24  Z\n  \" fill=\"#009af9\" fill-rule=\"evenodd\" fill-opacity=\"1\"/>\n<polyline clip-path=\"url(#clip792)\" style=\"stroke:#000000; stroke-width:4; stroke-opacity:1; fill:none\" points=\"\n  7465.8,1384.24 7465.8,1384.24 7495.94,1384.24 7465.8,1384.24 \n  \"/>\n<path clip-path=\"url(#clip792)\" d=\"\nM7495.94 1384.24 L7495.94 1384.24 L7526.08 1384.24 L7526.08 1384.24 L7495.94 1384.24 L7495.94 1384.24  Z\n  \" fill=\"#009af9\" fill-rule=\"evenodd\" fill-opacity=\"1\"/>\n<polyline clip-path=\"url(#clip792)\" style=\"stroke:#000000; stroke-width:4; stroke-opacity:1; fill:none\" points=\"\n  7495.94,1384.24 7495.94,1384.24 7526.08,1384.24 7495.94,1384.24 \n  \"/>\n<path clip-path=\"url(#clip792)\" d=\"\nM7526.08 1384.24 L7526.08 1384.24 L7556.23 1384.24 L7556.23 1384.24 L7526.08 1384.24 L7526.08 1384.24  Z\n  \" fill=\"#009af9\" fill-rule=\"evenodd\" fill-opacity=\"1\"/>\n<polyline clip-path=\"url(#clip792)\" style=\"stroke:#000000; stroke-width:4; stroke-opacity:1; fill:none\" points=\"\n  7526.08,1384.24 7526.08,1384.24 7556.23,1384.24 7526.08,1384.24 \n  \"/>\n<path clip-path=\"url(#clip792)\" d=\"\nM7556.23 1384.24 L7556.23 1384.24 L7586.37 1384.24 L7586.37 1384.24 L7556.23 1384.24 L7556.23 1384.24  Z\n  \" fill=\"#009af9\" fill-rule=\"evenodd\" fill-opacity=\"1\"/>\n<polyline clip-path=\"url(#clip792)\" style=\"stroke:#000000; stroke-width:4; stroke-opacity:1; fill:none\" points=\"\n  7556.23,1384.24 7556.23,1384.24 7586.37,1384.24 7556.23,1384.24 \n  \"/>\n<path clip-path=\"url(#clip792)\" d=\"\nM7586.37 1384.24 L7586.37 1384.24 L7616.51 1384.24 L7616.51 1384.24 L7586.37 1384.24 L7586.37 1384.24  Z\n  \" fill=\"#009af9\" fill-rule=\"evenodd\" fill-opacity=\"1\"/>\n<polyline clip-path=\"url(#clip792)\" style=\"stroke:#000000; stroke-width:4; stroke-opacity:1; fill:none\" points=\"\n  7586.37,1384.24 7586.37,1384.24 7616.51,1384.24 7586.37,1384.24 \n  \"/>\n<path clip-path=\"url(#clip792)\" d=\"\nM7616.51 1384.24 L7616.51 1384.24 L7646.65 1384.24 L7646.65 1384.24 L7616.51 1384.24 L7616.51 1384.24  Z\n  \" fill=\"#009af9\" fill-rule=\"evenodd\" fill-opacity=\"1\"/>\n<polyline clip-path=\"url(#clip792)\" style=\"stroke:#000000; stroke-width:4; stroke-opacity:1; fill:none\" points=\"\n  7616.51,1384.24 7616.51,1384.24 7646.65,1384.24 7616.51,1384.24 \n  \"/>\n<path clip-path=\"url(#clip792)\" d=\"\nM7646.65 1384.24 L7646.65 1384.24 L7676.8 1384.24 L7676.8 1384.24 L7646.65 1384.24 L7646.65 1384.24  Z\n  \" fill=\"#009af9\" fill-rule=\"evenodd\" fill-opacity=\"1\"/>\n<polyline clip-path=\"url(#clip792)\" style=\"stroke:#000000; stroke-width:4; stroke-opacity:1; fill:none\" points=\"\n  7646.65,1384.24 7646.65,1384.24 7676.8,1384.24 7646.65,1384.24 \n  \"/>\n<path clip-path=\"url(#clip792)\" d=\"\nM7676.8 1384.24 L7676.8 1384.24 L7706.94 1384.24 L7706.94 1384.24 L7676.8 1384.24 L7676.8 1384.24  Z\n  \" fill=\"#009af9\" fill-rule=\"evenodd\" fill-opacity=\"1\"/>\n<polyline clip-path=\"url(#clip792)\" style=\"stroke:#000000; stroke-width:4; stroke-opacity:1; fill:none\" points=\"\n  7676.8,1384.24 7676.8,1384.24 7706.94,1384.24 7676.8,1384.24 \n  \"/>\n<path clip-path=\"url(#clip792)\" d=\"\nM7706.94 1384.24 L7706.94 1384.24 L7737.08 1384.24 L7737.08 1384.24 L7706.94 1384.24 L7706.94 1384.24  Z\n  \" fill=\"#009af9\" fill-rule=\"evenodd\" fill-opacity=\"1\"/>\n<polyline clip-path=\"url(#clip792)\" style=\"stroke:#000000; stroke-width:4; stroke-opacity:1; fill:none\" points=\"\n  7706.94,1384.24 7706.94,1384.24 7737.08,1384.24 7706.94,1384.24 \n  \"/>\n<path clip-path=\"url(#clip792)\" d=\"\nM7737.08 1384.24 L7737.08 1384.24 L7767.23 1384.24 L7767.23 1384.24 L7737.08 1384.24 L7737.08 1384.24  Z\n  \" fill=\"#009af9\" fill-rule=\"evenodd\" fill-opacity=\"1\"/>\n<polyline clip-path=\"url(#clip792)\" style=\"stroke:#000000; stroke-width:4; stroke-opacity:1; fill:none\" points=\"\n  7737.08,1384.24 7737.08,1384.24 7767.23,1384.24 7737.08,1384.24 \n  \"/>\n<path clip-path=\"url(#clip792)\" d=\"\nM7767.23 1384.24 L7767.23 1384.24 L7797.37 1384.24 L7797.37 1384.24 L7767.23 1384.24 L7767.23 1384.24  Z\n  \" fill=\"#009af9\" fill-rule=\"evenodd\" fill-opacity=\"1\"/>\n<polyline clip-path=\"url(#clip792)\" style=\"stroke:#000000; stroke-width:4; stroke-opacity:1; fill:none\" points=\"\n  7767.23,1384.24 7767.23,1384.24 7797.37,1384.24 7767.23,1384.24 \n  \"/>\n<path clip-path=\"url(#clip792)\" d=\"\nM7797.37 1384.24 L7797.37 1384.24 L7827.51 1384.24 L7827.51 1384.24 L7797.37 1384.24 L7797.37 1384.24  Z\n  \" fill=\"#009af9\" fill-rule=\"evenodd\" fill-opacity=\"1\"/>\n<polyline clip-path=\"url(#clip792)\" style=\"stroke:#000000; stroke-width:4; stroke-opacity:1; fill:none\" points=\"\n  7797.37,1384.24 7797.37,1384.24 7827.51,1384.24 7797.37,1384.24 \n  \"/>\n<path clip-path=\"url(#clip792)\" d=\"\nM7827.51 1384.24 L7827.51 1384.24 L7857.65 1384.24 L7857.65 1384.24 L7827.51 1384.24 L7827.51 1384.24  Z\n  \" fill=\"#009af9\" fill-rule=\"evenodd\" fill-opacity=\"1\"/>\n<polyline clip-path=\"url(#clip792)\" style=\"stroke:#000000; stroke-width:4; stroke-opacity:1; fill:none\" points=\"\n  7827.51,1384.24 7827.51,1384.24 7857.65,1384.24 7827.51,1384.24 \n  \"/>\n<path clip-path=\"url(#clip792)\" d=\"\nM7857.65 1384.24 L7857.65 1384.24 L7887.8 1384.24 L7887.8 1384.24 L7857.65 1384.24 L7857.65 1384.24  Z\n  \" fill=\"#009af9\" fill-rule=\"evenodd\" fill-opacity=\"1\"/>\n<polyline clip-path=\"url(#clip792)\" style=\"stroke:#000000; stroke-width:4; stroke-opacity:1; fill:none\" points=\"\n  7857.65,1384.24 7857.65,1384.24 7887.8,1384.24 7857.65,1384.24 \n  \"/>\n<path clip-path=\"url(#clip792)\" d=\"\nM7887.8 1384.24 L7887.8 1384.24 L7917.94 1384.24 L7917.94 1384.24 L7887.8 1384.24 L7887.8 1384.24  Z\n  \" fill=\"#009af9\" fill-rule=\"evenodd\" fill-opacity=\"1\"/>\n<polyline clip-path=\"url(#clip792)\" style=\"stroke:#000000; stroke-width:4; stroke-opacity:1; fill:none\" points=\"\n  7887.8,1384.24 7887.8,1384.24 7917.94,1384.24 7887.8,1384.24 \n  \"/>\n<path clip-path=\"url(#clip792)\" d=\"\nM7917.94 1384.24 L7917.94 1384.24 L7948.08 1384.24 L7948.08 1384.24 L7917.94 1384.24 L7917.94 1384.24  Z\n  \" fill=\"#009af9\" fill-rule=\"evenodd\" fill-opacity=\"1\"/>\n<polyline clip-path=\"url(#clip792)\" style=\"stroke:#000000; stroke-width:4; stroke-opacity:1; fill:none\" points=\"\n  7917.94,1384.24 7917.94,1384.24 7948.08,1384.24 7917.94,1384.24 \n  \"/>\n<path clip-path=\"url(#clip792)\" d=\"\nM7948.08 1384.24 L7948.08 1384.24 L7978.23 1384.24 L7978.23 1384.24 L7948.08 1384.24 L7948.08 1384.24  Z\n  \" fill=\"#009af9\" fill-rule=\"evenodd\" fill-opacity=\"1\"/>\n<polyline clip-path=\"url(#clip792)\" style=\"stroke:#000000; stroke-width:4; stroke-opacity:1; fill:none\" points=\"\n  7948.08,1384.24 7948.08,1384.24 7978.23,1384.24 7948.08,1384.24 \n  \"/>\n<path clip-path=\"url(#clip792)\" d=\"\nM7978.23 1384.24 L7978.23 1384.24 L8008.37 1384.24 L8008.37 1384.24 L7978.23 1384.24 L7978.23 1384.24  Z\n  \" fill=\"#009af9\" fill-rule=\"evenodd\" fill-opacity=\"1\"/>\n<polyline clip-path=\"url(#clip792)\" style=\"stroke:#000000; stroke-width:4; stroke-opacity:1; fill:none\" points=\"\n  7978.23,1384.24 7978.23,1384.24 8008.37,1384.24 7978.23,1384.24 \n  \"/>\n<path clip-path=\"url(#clip792)\" d=\"\nM8008.37 1384.24 L8008.37 1384.24 L8038.51 1384.24 L8038.51 1384.24 L8008.37 1384.24 L8008.37 1384.24  Z\n  \" fill=\"#009af9\" fill-rule=\"evenodd\" fill-opacity=\"1\"/>\n<polyline clip-path=\"url(#clip792)\" style=\"stroke:#000000; stroke-width:4; stroke-opacity:1; fill:none\" points=\"\n  8008.37,1384.24 8008.37,1384.24 8038.51,1384.24 8008.37,1384.24 \n  \"/>\n<path clip-path=\"url(#clip792)\" d=\"\nM8038.51 1384.24 L8038.51 1384.24 L8068.65 1384.24 L8068.65 1384.24 L8038.51 1384.24 L8038.51 1384.24  Z\n  \" fill=\"#009af9\" fill-rule=\"evenodd\" fill-opacity=\"1\"/>\n<polyline clip-path=\"url(#clip792)\" style=\"stroke:#000000; stroke-width:4; stroke-opacity:1; fill:none\" points=\"\n  8038.51,1384.24 8038.51,1384.24 8068.65,1384.24 8038.51,1384.24 \n  \"/>\n<path clip-path=\"url(#clip792)\" d=\"\nM8068.65 1384.24 L8068.65 1384.24 L8098.8 1384.24 L8098.8 1384.24 L8068.65 1384.24 L8068.65 1384.24  Z\n  \" fill=\"#009af9\" fill-rule=\"evenodd\" fill-opacity=\"1\"/>\n<polyline clip-path=\"url(#clip792)\" style=\"stroke:#000000; stroke-width:4; stroke-opacity:1; fill:none\" points=\"\n  8068.65,1384.24 8068.65,1384.24 8098.8,1384.24 8068.65,1384.24 \n  \"/>\n<path clip-path=\"url(#clip792)\" d=\"\nM8098.8 1384.24 L8098.8 1384.24 L8128.94 1384.24 L8128.94 1384.24 L8098.8 1384.24 L8098.8 1384.24  Z\n  \" fill=\"#009af9\" fill-rule=\"evenodd\" fill-opacity=\"1\"/>\n<polyline clip-path=\"url(#clip792)\" style=\"stroke:#000000; stroke-width:4; stroke-opacity:1; fill:none\" points=\"\n  8098.8,1384.24 8098.8,1384.24 8128.94,1384.24 8098.8,1384.24 \n  \"/>\n<path clip-path=\"url(#clip792)\" d=\"\nM8128.94 1384.24 L8128.94 1384.24 L8159.08 1384.24 L8159.08 1384.24 L8128.94 1384.24 L8128.94 1384.24  Z\n  \" fill=\"#009af9\" fill-rule=\"evenodd\" fill-opacity=\"1\"/>\n<polyline clip-path=\"url(#clip792)\" style=\"stroke:#000000; stroke-width:4; stroke-opacity:1; fill:none\" points=\"\n  8128.94,1384.24 8128.94,1384.24 8159.08,1384.24 8128.94,1384.24 \n  \"/>\n<path clip-path=\"url(#clip792)\" d=\"\nM8159.08 1384.24 L8159.08 1384.24 L8189.23 1384.24 L8189.23 1384.24 L8159.08 1384.24 L8159.08 1384.24  Z\n  \" fill=\"#009af9\" fill-rule=\"evenodd\" fill-opacity=\"1\"/>\n<polyline clip-path=\"url(#clip792)\" style=\"stroke:#000000; stroke-width:4; stroke-opacity:1; fill:none\" points=\"\n  8159.08,1384.24 8159.08,1384.24 8189.23,1384.24 8159.08,1384.24 \n  \"/>\n<path clip-path=\"url(#clip792)\" d=\"\nM8189.23 1384.24 L8189.23 1384.24 L8219.37 1384.24 L8219.37 1384.24 L8189.23 1384.24 L8189.23 1384.24  Z\n  \" fill=\"#009af9\" fill-rule=\"evenodd\" fill-opacity=\"1\"/>\n<polyline clip-path=\"url(#clip792)\" style=\"stroke:#000000; stroke-width:4; stroke-opacity:1; fill:none\" points=\"\n  8189.23,1384.24 8189.23,1384.24 8219.37,1384.24 8189.23,1384.24 \n  \"/>\n<path clip-path=\"url(#clip792)\" d=\"\nM8219.37 1384.24 L8219.37 1384.24 L8249.51 1384.24 L8249.51 1384.24 L8219.37 1384.24 L8219.37 1384.24  Z\n  \" fill=\"#009af9\" fill-rule=\"evenodd\" fill-opacity=\"1\"/>\n<polyline clip-path=\"url(#clip792)\" style=\"stroke:#000000; stroke-width:4; stroke-opacity:1; fill:none\" points=\"\n  8219.37,1384.24 8219.37,1384.24 8249.51,1384.24 8219.37,1384.24 \n  \"/>\n<path clip-path=\"url(#clip792)\" d=\"\nM8249.51 1384.24 L8249.51 1384.24 L8279.65 1384.24 L8279.65 1384.24 L8249.51 1384.24 L8249.51 1384.24  Z\n  \" fill=\"#009af9\" fill-rule=\"evenodd\" fill-opacity=\"1\"/>\n<polyline clip-path=\"url(#clip792)\" style=\"stroke:#000000; stroke-width:4; stroke-opacity:1; fill:none\" points=\"\n  8249.51,1384.24 8249.51,1384.24 8279.65,1384.24 8249.51,1384.24 \n  \"/>\n<path clip-path=\"url(#clip792)\" d=\"\nM8279.65 1384.24 L8279.65 1384.24 L8309.8 1384.24 L8309.8 1384.24 L8279.65 1384.24 L8279.65 1384.24  Z\n  \" fill=\"#009af9\" fill-rule=\"evenodd\" fill-opacity=\"1\"/>\n<polyline clip-path=\"url(#clip792)\" style=\"stroke:#000000; stroke-width:4; stroke-opacity:1; fill:none\" points=\"\n  8279.65,1384.24 8279.65,1384.24 8309.8,1384.24 8279.65,1384.24 \n  \"/>\n<path clip-path=\"url(#clip792)\" d=\"\nM8309.8 1384.24 L8309.8 1384.24 L8339.94 1384.24 L8339.94 1384.24 L8309.8 1384.24 L8309.8 1384.24  Z\n  \" fill=\"#009af9\" fill-rule=\"evenodd\" fill-opacity=\"1\"/>\n<polyline clip-path=\"url(#clip792)\" style=\"stroke:#000000; stroke-width:4; stroke-opacity:1; fill:none\" points=\"\n  8309.8,1384.24 8309.8,1384.24 8339.94,1384.24 8309.8,1384.24 \n  \"/>\n<path clip-path=\"url(#clip792)\" d=\"\nM8339.94 1384.24 L8339.94 1384.24 L8370.08 1384.24 L8370.08 1384.24 L8339.94 1384.24 L8339.94 1384.24  Z\n  \" fill=\"#009af9\" fill-rule=\"evenodd\" fill-opacity=\"1\"/>\n<polyline clip-path=\"url(#clip792)\" style=\"stroke:#000000; stroke-width:4; stroke-opacity:1; fill:none\" points=\"\n  8339.94,1384.24 8339.94,1384.24 8370.08,1384.24 8339.94,1384.24 \n  \"/>\n<path clip-path=\"url(#clip792)\" d=\"\nM8370.08 1384.24 L8370.08 1384.24 L8400.23 1384.24 L8400.23 1384.24 L8370.08 1384.24 L8370.08 1384.24  Z\n  \" fill=\"#009af9\" fill-rule=\"evenodd\" fill-opacity=\"1\"/>\n<polyline clip-path=\"url(#clip792)\" style=\"stroke:#000000; stroke-width:4; stroke-opacity:1; fill:none\" points=\"\n  8370.08,1384.24 8370.08,1384.24 8400.23,1384.24 8370.08,1384.24 \n  \"/>\n<path clip-path=\"url(#clip792)\" d=\"\nM8400.23 1384.24 L8400.23 1384.24 L8430.37 1384.24 L8430.37 1384.24 L8400.23 1384.24 L8400.23 1384.24  Z\n  \" fill=\"#009af9\" fill-rule=\"evenodd\" fill-opacity=\"1\"/>\n<polyline clip-path=\"url(#clip792)\" style=\"stroke:#000000; stroke-width:4; stroke-opacity:1; fill:none\" points=\"\n  8400.23,1384.24 8400.23,1384.24 8430.37,1384.24 8400.23,1384.24 \n  \"/>\n<path clip-path=\"url(#clip792)\" d=\"\nM8430.37 1384.24 L8430.37 1384.24 L8460.51 1384.24 L8460.51 1384.24 L8430.37 1384.24 L8430.37 1384.24  Z\n  \" fill=\"#009af9\" fill-rule=\"evenodd\" fill-opacity=\"1\"/>\n<polyline clip-path=\"url(#clip792)\" style=\"stroke:#000000; stroke-width:4; stroke-opacity:1; fill:none\" points=\"\n  8430.37,1384.24 8430.37,1384.24 8460.51,1384.24 8430.37,1384.24 \n  \"/>\n<path clip-path=\"url(#clip792)\" d=\"\nM8460.51 1384.24 L8460.51 1384.24 L8490.65 1384.24 L8490.65 1384.24 L8460.51 1384.24 L8460.51 1384.24  Z\n  \" fill=\"#009af9\" fill-rule=\"evenodd\" fill-opacity=\"1\"/>\n<polyline clip-path=\"url(#clip792)\" style=\"stroke:#000000; stroke-width:4; stroke-opacity:1; fill:none\" points=\"\n  8460.51,1384.24 8460.51,1384.24 8490.65,1384.24 8460.51,1384.24 \n  \"/>\n<path clip-path=\"url(#clip792)\" d=\"\nM8490.65 1384.24 L8490.65 1384.24 L8520.8 1384.24 L8520.8 1384.24 L8490.65 1384.24 L8490.65 1384.24  Z\n  \" fill=\"#009af9\" fill-rule=\"evenodd\" fill-opacity=\"1\"/>\n<polyline clip-path=\"url(#clip792)\" style=\"stroke:#000000; stroke-width:4; stroke-opacity:1; fill:none\" points=\"\n  8490.65,1384.24 8490.65,1384.24 8520.8,1384.24 8490.65,1384.24 \n  \"/>\n<path clip-path=\"url(#clip792)\" d=\"\nM8520.8 1384.24 L8520.8 1384.24 L8550.94 1384.24 L8550.94 1384.24 L8520.8 1384.24 L8520.8 1384.24  Z\n  \" fill=\"#009af9\" fill-rule=\"evenodd\" fill-opacity=\"1\"/>\n<polyline clip-path=\"url(#clip792)\" style=\"stroke:#000000; stroke-width:4; stroke-opacity:1; fill:none\" points=\"\n  8520.8,1384.24 8520.8,1384.24 8550.94,1384.24 8520.8,1384.24 \n  \"/>\n<path clip-path=\"url(#clip792)\" d=\"\nM8550.94 1384.24 L8550.94 1384.24 L8581.08 1384.24 L8581.08 1384.24 L8550.94 1384.24 L8550.94 1384.24  Z\n  \" fill=\"#009af9\" fill-rule=\"evenodd\" fill-opacity=\"1\"/>\n<polyline clip-path=\"url(#clip792)\" style=\"stroke:#000000; stroke-width:4; stroke-opacity:1; fill:none\" points=\"\n  8550.94,1384.24 8550.94,1384.24 8581.08,1384.24 8550.94,1384.24 \n  \"/>\n<path clip-path=\"url(#clip792)\" d=\"\nM8581.08 1384.24 L8581.08 1384.24 L8611.23 1384.24 L8611.23 1384.24 L8581.08 1384.24 L8581.08 1384.24  Z\n  \" fill=\"#009af9\" fill-rule=\"evenodd\" fill-opacity=\"1\"/>\n<polyline clip-path=\"url(#clip792)\" style=\"stroke:#000000; stroke-width:4; stroke-opacity:1; fill:none\" points=\"\n  8581.08,1384.24 8581.08,1384.24 8611.23,1384.24 8581.08,1384.24 \n  \"/>\n<path clip-path=\"url(#clip792)\" d=\"\nM8611.23 1384.24 L8611.23 1384.24 L8641.37 1384.24 L8641.37 1384.24 L8611.23 1384.24 L8611.23 1384.24  Z\n  \" fill=\"#009af9\" fill-rule=\"evenodd\" fill-opacity=\"1\"/>\n<polyline clip-path=\"url(#clip792)\" style=\"stroke:#000000; stroke-width:4; stroke-opacity:1; fill:none\" points=\"\n  8611.23,1384.24 8611.23,1384.24 8641.37,1384.24 8611.23,1384.24 \n  \"/>\n<path clip-path=\"url(#clip792)\" d=\"\nM8641.37 1384.24 L8641.37 1384.24 L8671.51 1384.24 L8671.51 1384.24 L8641.37 1384.24 L8641.37 1384.24  Z\n  \" fill=\"#009af9\" fill-rule=\"evenodd\" fill-opacity=\"1\"/>\n<polyline clip-path=\"url(#clip792)\" style=\"stroke:#000000; stroke-width:4; stroke-opacity:1; fill:none\" points=\"\n  8641.37,1384.24 8641.37,1384.24 8671.51,1384.24 8641.37,1384.24 \n  \"/>\n<path clip-path=\"url(#clip792)\" d=\"\nM8671.51 1384.24 L8671.51 1384.24 L8701.66 1384.24 L8701.66 1384.24 L8671.51 1384.24 L8671.51 1384.24  Z\n  \" fill=\"#009af9\" fill-rule=\"evenodd\" fill-opacity=\"1\"/>\n<polyline clip-path=\"url(#clip792)\" style=\"stroke:#000000; stroke-width:4; stroke-opacity:1; fill:none\" points=\"\n  8671.51,1384.24 8671.51,1384.24 8701.66,1384.24 8671.51,1384.24 \n  \"/>\n<path clip-path=\"url(#clip792)\" d=\"\nM8701.66 1384.24 L8701.66 1384.24 L8731.8 1384.24 L8731.8 1384.24 L8701.66 1384.24 L8701.66 1384.24  Z\n  \" fill=\"#009af9\" fill-rule=\"evenodd\" fill-opacity=\"1\"/>\n<polyline clip-path=\"url(#clip792)\" style=\"stroke:#000000; stroke-width:4; stroke-opacity:1; fill:none\" points=\"\n  8701.66,1384.24 8701.66,1384.24 8731.8,1384.24 8701.66,1384.24 \n  \"/>\n<path clip-path=\"url(#clip792)\" d=\"\nM8731.8 1384.24 L8731.8 1384.24 L8761.94 1384.24 L8761.94 1384.24 L8731.8 1384.24 L8731.8 1384.24  Z\n  \" fill=\"#009af9\" fill-rule=\"evenodd\" fill-opacity=\"1\"/>\n<polyline clip-path=\"url(#clip792)\" style=\"stroke:#000000; stroke-width:4; stroke-opacity:1; fill:none\" points=\"\n  8731.8,1384.24 8731.8,1384.24 8761.94,1384.24 8731.8,1384.24 \n  \"/>\n<path clip-path=\"url(#clip792)\" d=\"\nM8761.94 1339.48 L8761.94 1384.24 L8792.08 1384.24 L8792.08 1339.48 L8761.94 1339.48 L8761.94 1339.48  Z\n  \" fill=\"#009af9\" fill-rule=\"evenodd\" fill-opacity=\"1\"/>\n<polyline clip-path=\"url(#clip792)\" style=\"stroke:#000000; stroke-width:4; stroke-opacity:1; fill:none\" points=\"\n  8761.94,1339.48 8761.94,1384.24 8792.08,1384.24 8792.08,1339.48 8761.94,1339.48 \n  \"/>\n<path clip-path=\"url(#clip792)\" d=\"\nM8792.08 1384.24 L8792.08 1384.24 L8822.23 1384.24 L8822.23 1384.24 L8792.08 1384.24 L8792.08 1384.24  Z\n  \" fill=\"#009af9\" fill-rule=\"evenodd\" fill-opacity=\"1\"/>\n<polyline clip-path=\"url(#clip792)\" style=\"stroke:#000000; stroke-width:4; stroke-opacity:1; fill:none\" points=\"\n  8792.08,1384.24 8792.08,1384.24 8822.23,1384.24 8792.08,1384.24 \n  \"/>\n<path clip-path=\"url(#clip792)\" d=\"\nM8822.23 1384.24 L8822.23 1384.24 L8852.37 1384.24 L8852.37 1384.24 L8822.23 1384.24 L8822.23 1384.24  Z\n  \" fill=\"#009af9\" fill-rule=\"evenodd\" fill-opacity=\"1\"/>\n<polyline clip-path=\"url(#clip792)\" style=\"stroke:#000000; stroke-width:4; stroke-opacity:1; fill:none\" points=\"\n  8822.23,1384.24 8822.23,1384.24 8852.37,1384.24 8822.23,1384.24 \n  \"/>\n<path clip-path=\"url(#clip792)\" d=\"\nM8852.37 1384.24 L8852.37 1384.24 L8882.51 1384.24 L8882.51 1384.24 L8852.37 1384.24 L8852.37 1384.24  Z\n  \" fill=\"#009af9\" fill-rule=\"evenodd\" fill-opacity=\"1\"/>\n<polyline clip-path=\"url(#clip792)\" style=\"stroke:#000000; stroke-width:4; stroke-opacity:1; fill:none\" points=\"\n  8852.37,1384.24 8852.37,1384.24 8882.51,1384.24 8852.37,1384.24 \n  \"/>\n<path clip-path=\"url(#clip792)\" d=\"\nM8882.51 1384.24 L8882.51 1384.24 L8912.66 1384.24 L8912.66 1384.24 L8882.51 1384.24 L8882.51 1384.24  Z\n  \" fill=\"#009af9\" fill-rule=\"evenodd\" fill-opacity=\"1\"/>\n<polyline clip-path=\"url(#clip792)\" style=\"stroke:#000000; stroke-width:4; stroke-opacity:1; fill:none\" points=\"\n  8882.51,1384.24 8882.51,1384.24 8912.66,1384.24 8882.51,1384.24 \n  \"/>\n<path clip-path=\"url(#clip792)\" d=\"\nM8912.66 1384.24 L8912.66 1384.24 L8942.8 1384.24 L8942.8 1384.24 L8912.66 1384.24 L8912.66 1384.24  Z\n  \" fill=\"#009af9\" fill-rule=\"evenodd\" fill-opacity=\"1\"/>\n<polyline clip-path=\"url(#clip792)\" style=\"stroke:#000000; stroke-width:4; stroke-opacity:1; fill:none\" points=\"\n  8912.66,1384.24 8912.66,1384.24 8942.8,1384.24 8912.66,1384.24 \n  \"/>\n<path clip-path=\"url(#clip792)\" d=\"\nM8942.8 1384.24 L8942.8 1384.24 L8972.94 1384.24 L8972.94 1384.24 L8942.8 1384.24 L8942.8 1384.24  Z\n  \" fill=\"#009af9\" fill-rule=\"evenodd\" fill-opacity=\"1\"/>\n<polyline clip-path=\"url(#clip792)\" style=\"stroke:#000000; stroke-width:4; stroke-opacity:1; fill:none\" points=\"\n  8942.8,1384.24 8942.8,1384.24 8972.94,1384.24 8942.8,1384.24 \n  \"/>\n<path clip-path=\"url(#clip792)\" d=\"\nM8972.94 1384.24 L8972.94 1384.24 L9003.08 1384.24 L9003.08 1384.24 L8972.94 1384.24 L8972.94 1384.24  Z\n  \" fill=\"#009af9\" fill-rule=\"evenodd\" fill-opacity=\"1\"/>\n<polyline clip-path=\"url(#clip792)\" style=\"stroke:#000000; stroke-width:4; stroke-opacity:1; fill:none\" points=\"\n  8972.94,1384.24 8972.94,1384.24 9003.08,1384.24 8972.94,1384.24 \n  \"/>\n<path clip-path=\"url(#clip792)\" d=\"\nM9003.08 1384.24 L9003.08 1384.24 L9033.23 1384.24 L9033.23 1384.24 L9003.08 1384.24 L9003.08 1384.24  Z\n  \" fill=\"#009af9\" fill-rule=\"evenodd\" fill-opacity=\"1\"/>\n<polyline clip-path=\"url(#clip792)\" style=\"stroke:#000000; stroke-width:4; stroke-opacity:1; fill:none\" points=\"\n  9003.08,1384.24 9003.08,1384.24 9033.23,1384.24 9003.08,1384.24 \n  \"/>\n<path clip-path=\"url(#clip792)\" d=\"\nM9033.23 1384.24 L9033.23 1384.24 L9063.37 1384.24 L9063.37 1384.24 L9033.23 1384.24 L9033.23 1384.24  Z\n  \" fill=\"#009af9\" fill-rule=\"evenodd\" fill-opacity=\"1\"/>\n<polyline clip-path=\"url(#clip792)\" style=\"stroke:#000000; stroke-width:4; stroke-opacity:1; fill:none\" points=\"\n  9033.23,1384.24 9033.23,1384.24 9063.37,1384.24 9033.23,1384.24 \n  \"/>\n<path clip-path=\"url(#clip792)\" d=\"\nM9063.37 1384.24 L9063.37 1384.24 L9093.51 1384.24 L9093.51 1384.24 L9063.37 1384.24 L9063.37 1384.24  Z\n  \" fill=\"#009af9\" fill-rule=\"evenodd\" fill-opacity=\"1\"/>\n<polyline clip-path=\"url(#clip792)\" style=\"stroke:#000000; stroke-width:4; stroke-opacity:1; fill:none\" points=\"\n  9063.37,1384.24 9063.37,1384.24 9093.51,1384.24 9063.37,1384.24 \n  \"/>\n<path clip-path=\"url(#clip792)\" d=\"\nM9093.51 1384.24 L9093.51 1384.24 L9123.66 1384.24 L9123.66 1384.24 L9093.51 1384.24 L9093.51 1384.24  Z\n  \" fill=\"#009af9\" fill-rule=\"evenodd\" fill-opacity=\"1\"/>\n<polyline clip-path=\"url(#clip792)\" style=\"stroke:#000000; stroke-width:4; stroke-opacity:1; fill:none\" points=\"\n  9093.51,1384.24 9093.51,1384.24 9123.66,1384.24 9093.51,1384.24 \n  \"/>\n<path clip-path=\"url(#clip792)\" d=\"\nM9123.66 1384.24 L9123.66 1384.24 L9153.8 1384.24 L9153.8 1384.24 L9123.66 1384.24 L9123.66 1384.24  Z\n  \" fill=\"#009af9\" fill-rule=\"evenodd\" fill-opacity=\"1\"/>\n<polyline clip-path=\"url(#clip792)\" style=\"stroke:#000000; stroke-width:4; stroke-opacity:1; fill:none\" points=\"\n  9123.66,1384.24 9123.66,1384.24 9153.8,1384.24 9123.66,1384.24 \n  \"/>\n<path clip-path=\"url(#clip792)\" d=\"\nM9153.8 1384.24 L9153.8 1384.24 L9183.94 1384.24 L9183.94 1384.24 L9153.8 1384.24 L9153.8 1384.24  Z\n  \" fill=\"#009af9\" fill-rule=\"evenodd\" fill-opacity=\"1\"/>\n<polyline clip-path=\"url(#clip792)\" style=\"stroke:#000000; stroke-width:4; stroke-opacity:1; fill:none\" points=\"\n  9153.8,1384.24 9153.8,1384.24 9183.94,1384.24 9153.8,1384.24 \n  \"/>\n<path clip-path=\"url(#clip792)\" d=\"\nM9183.94 1384.24 L9183.94 1384.24 L9214.08 1384.24 L9214.08 1384.24 L9183.94 1384.24 L9183.94 1384.24  Z\n  \" fill=\"#009af9\" fill-rule=\"evenodd\" fill-opacity=\"1\"/>\n<polyline clip-path=\"url(#clip792)\" style=\"stroke:#000000; stroke-width:4; stroke-opacity:1; fill:none\" points=\"\n  9183.94,1384.24 9183.94,1384.24 9214.08,1384.24 9183.94,1384.24 \n  \"/>\n<path clip-path=\"url(#clip792)\" d=\"\nM9214.08 1384.24 L9214.08 1384.24 L9244.23 1384.24 L9244.23 1384.24 L9214.08 1384.24 L9214.08 1384.24  Z\n  \" fill=\"#009af9\" fill-rule=\"evenodd\" fill-opacity=\"1\"/>\n<polyline clip-path=\"url(#clip792)\" style=\"stroke:#000000; stroke-width:4; stroke-opacity:1; fill:none\" points=\"\n  9214.08,1384.24 9214.08,1384.24 9244.23,1384.24 9214.08,1384.24 \n  \"/>\n<path clip-path=\"url(#clip792)\" d=\"\nM9244.23 1384.24 L9244.23 1384.24 L9274.37 1384.24 L9274.37 1384.24 L9244.23 1384.24 L9244.23 1384.24  Z\n  \" fill=\"#009af9\" fill-rule=\"evenodd\" fill-opacity=\"1\"/>\n<polyline clip-path=\"url(#clip792)\" style=\"stroke:#000000; stroke-width:4; stroke-opacity:1; fill:none\" points=\"\n  9244.23,1384.24 9244.23,1384.24 9274.37,1384.24 9244.23,1384.24 \n  \"/>\n<path clip-path=\"url(#clip792)\" d=\"\nM9274.37 1384.24 L9274.37 1384.24 L9304.51 1384.24 L9304.51 1384.24 L9274.37 1384.24 L9274.37 1384.24  Z\n  \" fill=\"#009af9\" fill-rule=\"evenodd\" fill-opacity=\"1\"/>\n<polyline clip-path=\"url(#clip792)\" style=\"stroke:#000000; stroke-width:4; stroke-opacity:1; fill:none\" points=\"\n  9274.37,1384.24 9274.37,1384.24 9304.51,1384.24 9274.37,1384.24 \n  \"/>\n<path clip-path=\"url(#clip792)\" d=\"\nM9304.51 1384.24 L9304.51 1384.24 L9334.66 1384.24 L9334.66 1384.24 L9304.51 1384.24 L9304.51 1384.24  Z\n  \" fill=\"#009af9\" fill-rule=\"evenodd\" fill-opacity=\"1\"/>\n<polyline clip-path=\"url(#clip792)\" style=\"stroke:#000000; stroke-width:4; stroke-opacity:1; fill:none\" points=\"\n  9304.51,1384.24 9304.51,1384.24 9334.66,1384.24 9304.51,1384.24 \n  \"/>\n<path clip-path=\"url(#clip792)\" d=\"\nM9334.66 1384.24 L9334.66 1384.24 L9364.8 1384.24 L9364.8 1384.24 L9334.66 1384.24 L9334.66 1384.24  Z\n  \" fill=\"#009af9\" fill-rule=\"evenodd\" fill-opacity=\"1\"/>\n<polyline clip-path=\"url(#clip792)\" style=\"stroke:#000000; stroke-width:4; stroke-opacity:1; fill:none\" points=\"\n  9334.66,1384.24 9334.66,1384.24 9364.8,1384.24 9334.66,1384.24 \n  \"/>\n<path clip-path=\"url(#clip792)\" d=\"\nM9364.8 1384.24 L9364.8 1384.24 L9394.94 1384.24 L9394.94 1384.24 L9364.8 1384.24 L9364.8 1384.24  Z\n  \" fill=\"#009af9\" fill-rule=\"evenodd\" fill-opacity=\"1\"/>\n<polyline clip-path=\"url(#clip792)\" style=\"stroke:#000000; stroke-width:4; stroke-opacity:1; fill:none\" points=\"\n  9364.8,1384.24 9364.8,1384.24 9394.94,1384.24 9364.8,1384.24 \n  \"/>\n<path clip-path=\"url(#clip792)\" d=\"\nM9394.94 1384.24 L9394.94 1384.24 L9425.08 1384.24 L9425.08 1384.24 L9394.94 1384.24 L9394.94 1384.24  Z\n  \" fill=\"#009af9\" fill-rule=\"evenodd\" fill-opacity=\"1\"/>\n<polyline clip-path=\"url(#clip792)\" style=\"stroke:#000000; stroke-width:4; stroke-opacity:1; fill:none\" points=\"\n  9394.94,1384.24 9394.94,1384.24 9425.08,1384.24 9394.94,1384.24 \n  \"/>\n<path clip-path=\"url(#clip792)\" d=\"\nM9425.08 1384.24 L9425.08 1384.24 L9455.23 1384.24 L9455.23 1384.24 L9425.08 1384.24 L9425.08 1384.24  Z\n  \" fill=\"#009af9\" fill-rule=\"evenodd\" fill-opacity=\"1\"/>\n<polyline clip-path=\"url(#clip792)\" style=\"stroke:#000000; stroke-width:4; stroke-opacity:1; fill:none\" points=\"\n  9425.08,1384.24 9425.08,1384.24 9455.23,1384.24 9425.08,1384.24 \n  \"/>\n<path clip-path=\"url(#clip792)\" d=\"\nM9455.23 1384.24 L9455.23 1384.24 L9485.37 1384.24 L9485.37 1384.24 L9455.23 1384.24 L9455.23 1384.24  Z\n  \" fill=\"#009af9\" fill-rule=\"evenodd\" fill-opacity=\"1\"/>\n<polyline clip-path=\"url(#clip792)\" style=\"stroke:#000000; stroke-width:4; stroke-opacity:1; fill:none\" points=\"\n  9455.23,1384.24 9455.23,1384.24 9485.37,1384.24 9455.23,1384.24 \n  \"/>\n<path clip-path=\"url(#clip792)\" d=\"\nM9485.37 1384.24 L9485.37 1384.24 L9515.51 1384.24 L9515.51 1384.24 L9485.37 1384.24 L9485.37 1384.24  Z\n  \" fill=\"#009af9\" fill-rule=\"evenodd\" fill-opacity=\"1\"/>\n<polyline clip-path=\"url(#clip792)\" style=\"stroke:#000000; stroke-width:4; stroke-opacity:1; fill:none\" points=\"\n  9485.37,1384.24 9485.37,1384.24 9515.51,1384.24 9485.37,1384.24 \n  \"/>\n<path clip-path=\"url(#clip792)\" d=\"\nM9515.51 1384.24 L9515.51 1384.24 L9545.66 1384.24 L9545.66 1384.24 L9515.51 1384.24 L9515.51 1384.24  Z\n  \" fill=\"#009af9\" fill-rule=\"evenodd\" fill-opacity=\"1\"/>\n<polyline clip-path=\"url(#clip792)\" style=\"stroke:#000000; stroke-width:4; stroke-opacity:1; fill:none\" points=\"\n  9515.51,1384.24 9515.51,1384.24 9545.66,1384.24 9515.51,1384.24 \n  \"/>\n<path clip-path=\"url(#clip792)\" d=\"\nM9545.66 1339.48 L9545.66 1384.24 L9575.8 1384.24 L9575.8 1339.48 L9545.66 1339.48 L9545.66 1339.48  Z\n  \" fill=\"#009af9\" fill-rule=\"evenodd\" fill-opacity=\"1\"/>\n<polyline clip-path=\"url(#clip792)\" style=\"stroke:#000000; stroke-width:4; stroke-opacity:1; fill:none\" points=\"\n  9545.66,1339.48 9545.66,1384.24 9575.8,1384.24 9575.8,1339.48 9545.66,1339.48 \n  \"/>\n</svg>\n"
     },
     "execution_count": 18,
     "metadata": {
     },
     "output_type": "execute_result"
    }
   ],
   "source": [
    "using Statistics\n",
    "t = c_bench.times / 1e6 # tempos em milisegundos\n",
    "m, σ = minimum(t), std(t)\n",
    "\n",
    "histogram(t, bins=500,\n",
    "    xlim=(m - 0.4σ, m + 2*σ),\n",
    "    xlabel=\"milisegundos\", ylabel=\"Frequência\", label=\"\")"
   ]
  },
  {
   "cell_type": "markdown",
   "metadata": {
    "collapsed": false
   },
   "source": [
    "## 2. C com -ffast-math\n",
    "\n",
    "Agora, vamos permitir que o C otimize suas operações de ponto flutuante.\n",
    "Dessa forma, ele vai vetorizar suas instruções usando [SIMD](https://en.wikipedia.org/wiki/SIMD) (single instruction, multiple data)."
   ]
  },
  {
   "cell_type": "code",
   "execution_count": 19,
   "metadata": {
    "collapsed": false
   },
   "outputs": [
    {
     "data": {
      "text/plain": [
       "c_sum_fastmath (generic function with 1 method)"
      ]
     },
     "execution_count": 19,
     "metadata": {
     },
     "output_type": "execute_result"
    }
   ],
   "source": [
    "const Clib_fastmath = tempname()\n",
    "\n",
    "# Como acima mas agora com a opção -ffast-math\n",
    "open(`gcc -fPIC -O3 -msse3 -xc -shared -ffast-math -o $(Clib_fastmath * \".\" * Libdl.dlext) -`, \"w\") do f\n",
    "    print(f, C_code) \n",
    "end\n",
    "\n",
    "# Define uma função em Julia que chama a função em C\n",
    "c_sum_fastmath(X::Array{Float64}) = ccall((\"c_sum\", Clib_fastmath), Float64, (Csize_t, Ptr{Float64}), length(X), X)"
   ]
  },
  {
   "cell_type": "code",
   "execution_count": 20,
   "metadata": {
    "collapsed": false
   },
   "outputs": [
    {
     "data": {
      "text/plain": [
       "BenchmarkTools.Trial: \n",
       "  memory estimate:  0 bytes\n",
       "  allocs estimate:  0\n",
       "  --------------\n",
       "  minimum time:     9.734 ms (0.00% GC)\n",
       "  median time:      10.110 ms (0.00% GC)\n",
       "  mean time:        10.543 ms (0.00% GC)\n",
       "  maximum time:     29.212 ms (0.00% GC)\n",
       "  --------------\n",
       "  samples:          475\n",
       "  evals/sample:     1"
      ]
     },
     "execution_count": 20,
     "metadata": {
     },
     "output_type": "execute_result"
    }
   ],
   "source": [
    "c_fastmath_bench = @benchmark $c_sum_fastmath($a)"
   ]
  },
  {
   "cell_type": "code",
   "execution_count": 21,
   "metadata": {
    "collapsed": false
   },
   "outputs": [
    {
     "data": {
      "text/plain": [
       "9.733837"
      ]
     },
     "execution_count": 21,
     "metadata": {
     },
     "output_type": "execute_result"
    }
   ],
   "source": [
    "d[\"C com -ffast-math\"] = minimum(c_fastmath_bench.times) / 1e6  # em milisegundos"
   ]
  },
  {
   "cell_type": "markdown",
   "metadata": {
    "collapsed": false
   },
   "source": [
    "## 3. Python\n",
    "\n",
    "O pacote `PyCall` fornece uma interface entre a Julia e o Python:"
   ]
  },
  {
   "cell_type": "code",
   "execution_count": 22,
   "metadata": {
    "collapsed": false
   },
   "outputs": [
    {
     "name": "stderr",
     "output_type": "stream",
     "text": [
      "\u001b[32m\u001b[1m  Resolving\u001b[22m\u001b[39m package versions...\n"
     ]
    },
    {
     "name": "stderr",
     "output_type": "stream",
     "text": [
      "\u001b[32m\u001b[1mNo Changes\u001b[22m\u001b[39m to `~/.julia/environment/v1.5/Project.toml`\n",
      "\u001b[32m\u001b[1mNo Changes\u001b[22m\u001b[39m to `~/.julia/environment/v1.5/Manifest.toml`\n"
     ]
    }
   ],
   "source": [
    "Pkg.add(\"PyCall\")"
   ]
  },
  {
   "cell_type": "code",
   "execution_count": 23,
   "metadata": {
    "collapsed": false
   },
   "outputs": [
   ],
   "source": [
    "using PyCall"
   ]
  },
  {
   "cell_type": "code",
   "execution_count": 24,
   "metadata": {
    "collapsed": false
   },
   "outputs": [
    {
     "data": {
      "text/plain": [
       "PyObject <built-in function sum>"
      ]
     },
     "execution_count": 24,
     "metadata": {
     },
     "output_type": "execute_result"
    }
   ],
   "source": [
    "# Importa a função \"sum\" do Python\n",
    "pysum = pybuiltin(\"sum\")"
   ]
  },
  {
   "cell_type": "code",
   "execution_count": 25,
   "metadata": {
    "collapsed": false
   },
   "outputs": [
    {
     "data": {
      "text/plain": [
       "5.000615962272078e6"
      ]
     },
     "execution_count": 25,
     "metadata": {
     },
     "output_type": "execute_result"
    }
   ],
   "source": [
    "pysum(a)"
   ]
  },
  {
   "cell_type": "code",
   "execution_count": 26,
   "metadata": {
    "collapsed": false
   },
   "outputs": [
    {
     "data": {
      "text/plain": [
       "true"
      ]
     },
     "execution_count": 26,
     "metadata": {
     },
     "output_type": "execute_result"
    }
   ],
   "source": [
    "pysum(a) ≈ sum(a)"
   ]
  },
  {
   "cell_type": "code",
   "execution_count": 27,
   "metadata": {
    "collapsed": false
   },
   "outputs": [
    {
     "data": {
      "text/plain": [
       "BenchmarkTools.Trial: \n",
       "  memory estimate:  336 bytes\n",
       "  allocs estimate:  6\n",
       "  --------------\n",
       "  minimum time:     1.695 s (0.00% GC)\n",
       "  median time:      1.793 s (0.00% GC)\n",
       "  mean time:        1.762 s (0.00% GC)\n",
       "  maximum time:     1.798 s (0.00% GC)\n",
       "  --------------\n",
       "  samples:          3\n",
       "  evals/sample:     1"
      ]
     },
     "execution_count": 27,
     "metadata": {
     },
     "output_type": "execute_result"
    }
   ],
   "source": [
    "py_list_bench = @benchmark $pysum($a)"
   ]
  },
  {
   "cell_type": "code",
   "execution_count": 28,
   "metadata": {
    "collapsed": false
   },
   "outputs": [
    {
     "data": {
      "text/plain": [
       "Dict{Any,Any} with 3 entries:\n",
       "  \"C com -ffast-math\" => 9.73384\n",
       "  \"C\"                 => 13.6918\n",
       "  \"Python\"            => 1694.82"
      ]
     },
     "execution_count": 28,
     "metadata": {
     },
     "output_type": "execute_result"
    }
   ],
   "source": [
    "d[\"Python\"] = minimum(py_list_bench.times) / 1e6\n",
    "d"
   ]
  },
  {
   "cell_type": "markdown",
   "metadata": {
    "collapsed": false
   },
   "source": [
    "## 4. Python `numpy`\n",
    "\n",
    "A biblioteca `numpy` do Python é escrita em C e também utiliza SIMD.\n",
    "Essa biblioteca pode ser instalada na Julia da seguinte forma:"
   ]
  },
  {
   "cell_type": "code",
   "execution_count": 29,
   "metadata": {
    "collapsed": false
   },
   "outputs": [
    {
     "name": "stderr",
     "output_type": "stream",
     "text": [
      "\u001b[32m\u001b[1m  Resolving\u001b[22m\u001b[39m package versions...\n"
     ]
    },
    {
     "name": "stderr",
     "output_type": "stream",
     "text": [
      "\u001b[32m\u001b[1mNo Changes\u001b[22m\u001b[39m to `~/.julia/environment/v1.5/Project.toml`\n",
      "\u001b[32m\u001b[1mNo Changes\u001b[22m\u001b[39m to `~/.julia/environment/v1.5/Manifest.toml`\n"
     ]
    }
   ],
   "source": [
    "Pkg.add(\"Conda\")"
   ]
  },
  {
   "cell_type": "code",
   "execution_count": 30,
   "metadata": {
    "collapsed": false
   },
   "outputs": [
   ],
   "source": [
    "using Conda"
   ]
  },
  {
   "cell_type": "code",
   "execution_count": 31,
   "metadata": {
    "collapsed": false
   },
   "outputs": [
    {
     "data": {
      "text/plain": [
       "BenchmarkTools.Trial: \n",
       "  memory estimate:  336 bytes\n",
       "  allocs estimate:  6\n",
       "  --------------\n",
       "  minimum time:     8.945 ms (0.00% GC)\n",
       "  median time:      9.343 ms (0.00% GC)\n",
       "  mean time:        9.667 ms (0.00% GC)\n",
       "  maximum time:     27.627 ms (0.00% GC)\n",
       "  --------------\n",
       "  samples:          517\n",
       "  evals/sample:     1"
      ]
     },
     "execution_count": 31,
     "metadata": {
     },
     "output_type": "execute_result"
    }
   ],
   "source": [
    "numpy_sum = pyimport(\"numpy\")[\"sum\"]\n",
    "\n",
    "py_numpy_bench = @benchmark $numpy_sum($a)"
   ]
  },
  {
   "cell_type": "code",
   "execution_count": 32,
   "metadata": {
    "collapsed": false
   },
   "outputs": [
    {
     "data": {
      "text/plain": [
       "5.000615962271809e6"
      ]
     },
     "execution_count": 32,
     "metadata": {
     },
     "output_type": "execute_result"
    }
   ],
   "source": [
    "numpy_sum(a)"
   ]
  },
  {
   "cell_type": "code",
   "execution_count": 33,
   "metadata": {
    "collapsed": false
   },
   "outputs": [
    {
     "data": {
      "text/plain": [
       "true"
      ]
     },
     "execution_count": 33,
     "metadata": {
     },
     "output_type": "execute_result"
    }
   ],
   "source": [
    "numpy_sum(a) ≈ sum(a)"
   ]
  },
  {
   "cell_type": "code",
   "execution_count": 34,
   "metadata": {
    "collapsed": false
   },
   "outputs": [
    {
     "data": {
      "text/plain": [
       "Dict{Any,Any} with 4 entries:\n",
       "  \"C com -ffast-math\" => 9.73384\n",
       "  \"C\"                 => 13.6918\n",
       "  \"Python numpy\"      => 8.94494\n",
       "  \"Python\"            => 1694.82"
      ]
     },
     "execution_count": 34,
     "metadata": {
     },
     "output_type": "execute_result"
    }
   ],
   "source": [
    "d[\"Python numpy\"] = minimum(py_numpy_bench.times) / 1e6\n",
    "d"
   ]
  },
  {
   "cell_type": "markdown",
   "metadata": {
    "collapsed": false
   },
   "source": [
    "## 5. Python (escrito à mão)"
   ]
  },
  {
   "cell_type": "code",
   "execution_count": 35,
   "metadata": {
    "collapsed": false
   },
   "outputs": [
    {
     "data": {
      "text/plain": [
       "PyObject <function py_sum at 0x7f88b05aa5e0>"
      ]
     },
     "execution_count": 35,
     "metadata": {
     },
     "output_type": "execute_result"
    }
   ],
   "source": [
    "py\"\"\"\n",
    "def py_sum(A):\n",
    "    s = 0.0\n",
    "    for a in A:\n",
    "        s += a\n",
    "    return s\n",
    "\"\"\"\n",
    "\n",
    "sum_py = py\"py_sum\""
   ]
  },
  {
   "cell_type": "code",
   "execution_count": 36,
   "metadata": {
    "collapsed": false
   },
   "outputs": [
    {
     "data": {
      "text/plain": [
       "BenchmarkTools.Trial: \n",
       "  memory estimate:  336 bytes\n",
       "  allocs estimate:  6\n",
       "  --------------\n",
       "  minimum time:     2.182 s (0.00% GC)\n",
       "  median time:      2.189 s (0.00% GC)\n",
       "  mean time:        2.202 s (0.00% GC)\n",
       "  maximum time:     2.234 s (0.00% GC)\n",
       "  --------------\n",
       "  samples:          3\n",
       "  evals/sample:     1"
      ]
     },
     "execution_count": 36,
     "metadata": {
     },
     "output_type": "execute_result"
    }
   ],
   "source": [
    "py_hand = @benchmark $sum_py($a)"
   ]
  },
  {
   "cell_type": "code",
   "execution_count": 37,
   "metadata": {
    "collapsed": false
   },
   "outputs": [
    {
     "data": {
      "text/plain": [
       "5.000615962272078e6"
      ]
     },
     "execution_count": 37,
     "metadata": {
     },
     "output_type": "execute_result"
    }
   ],
   "source": [
    "sum_py(a)"
   ]
  },
  {
   "cell_type": "code",
   "execution_count": 38,
   "metadata": {
    "collapsed": false
   },
   "outputs": [
    {
     "data": {
      "text/plain": [
       "true"
      ]
     },
     "execution_count": 38,
     "metadata": {
     },
     "output_type": "execute_result"
    }
   ],
   "source": [
    "sum_py(a) ≈ sum(a)"
   ]
  },
  {
   "cell_type": "code",
   "execution_count": 39,
   "metadata": {
    "collapsed": false
   },
   "outputs": [
    {
     "data": {
      "text/plain": [
       "Dict{Any,Any} with 5 entries:\n",
       "  \"C com -ffast-math\"    => 9.73384\n",
       "  \"Python escrito à mão\" => 2182.18\n",
       "  \"C\"                    => 13.6918\n",
       "  \"Python numpy\"         => 8.94494\n",
       "  \"Python\"               => 1694.82"
      ]
     },
     "execution_count": 39,
     "metadata": {
     },
     "output_type": "execute_result"
    }
   ],
   "source": [
    "d[\"Python escrito à mão\"] = minimum(py_hand.times) / 1e6\n",
    "d"
   ]
  },
  {
   "cell_type": "markdown",
   "metadata": {
    "collapsed": false
   },
   "source": [
    "## 6. Julia\n",
    "\n",
    "Em Julia, a função `sum` é escrita em Julia, não em C."
   ]
  },
  {
   "cell_type": "code",
   "execution_count": 40,
   "metadata": {
    "collapsed": false
   },
   "outputs": [
    {
     "data": {
      "text/html": [
       "sum(a::<b>AbstractArray</b>; <i>dims</i>) in Base at <a href=\"https://github.com/JuliaLang/julia/tree/788b2c77c10c2160f4794a4d4b6b81a95a90940c/base/reducedim.jl#L722\" target=\"_blank\">reducedim.jl:722</a>"
      ],
      "text/plain": [
       "sum(a::AbstractArray; dims) in Base at reducedim.jl:722"
      ]
     },
     "execution_count": 40,
     "metadata": {
     },
     "output_type": "execute_result"
    }
   ],
   "source": [
    "@which sum(a)"
   ]
  },
  {
   "cell_type": "code",
   "execution_count": 41,
   "metadata": {
    "collapsed": false
   },
   "outputs": [
    {
     "data": {
      "text/plain": [
       "BenchmarkTools.Trial: \n",
       "  memory estimate:  0 bytes\n",
       "  allocs estimate:  0\n",
       "  --------------\n",
       "  minimum time:     8.067 ms (0.00% GC)\n",
       "  median time:      8.608 ms (0.00% GC)\n",
       "  mean time:        9.150 ms (0.00% GC)\n",
       "  maximum time:     42.896 ms (0.00% GC)\n",
       "  --------------\n",
       "  samples:          547\n",
       "  evals/sample:     1"
      ]
     },
     "execution_count": 41,
     "metadata": {
     },
     "output_type": "execute_result"
    }
   ],
   "source": [
    "j_bench = @benchmark sum($a)"
   ]
  },
  {
   "cell_type": "code",
   "execution_count": 42,
   "metadata": {
    "collapsed": false
   },
   "outputs": [
    {
     "data": {
      "text/plain": [
       "Dict{Any,Any} with 6 entries:\n",
       "  \"C com -ffast-math\"    => 9.73384\n",
       "  \"Python escrito à mão\" => 2182.18\n",
       "  \"C\"                    => 13.6918\n",
       "  \"Python numpy\"         => 8.94494\n",
       "  \"Julia\"                => 8.06736\n",
       "  \"Python\"               => 1694.82"
      ]
     },
     "execution_count": 42,
     "metadata": {
     },
     "output_type": "execute_result"
    }
   ],
   "source": [
    "d[\"Julia\"] = minimum(j_bench.times) / 1e6\n",
    "d"
   ]
  },
  {
   "cell_type": "markdown",
   "metadata": {
    "collapsed": false
   },
   "source": [
    "## 7. Julia (escrito à mão)"
   ]
  },
  {
   "cell_type": "code",
   "execution_count": 43,
   "metadata": {
    "collapsed": false
   },
   "outputs": [
    {
     "data": {
      "text/plain": [
       "mysum (generic function with 1 method)"
      ]
     },
     "execution_count": 43,
     "metadata": {
     },
     "output_type": "execute_result"
    }
   ],
   "source": [
    "function mysum(A)   \n",
    "    s = 0.0 # s = zero(eltype(a))\n",
    "    for a in A\n",
    "        s += a\n",
    "    end\n",
    "    s\n",
    "end"
   ]
  },
  {
   "cell_type": "code",
   "execution_count": 44,
   "metadata": {
    "collapsed": false
   },
   "outputs": [
    {
     "data": {
      "text/plain": [
       "BenchmarkTools.Trial: \n",
       "  memory estimate:  0 bytes\n",
       "  allocs estimate:  0\n",
       "  --------------\n",
       "  minimum time:     13.919 ms (0.00% GC)\n",
       "  median time:      14.291 ms (0.00% GC)\n",
       "  mean time:        14.690 ms (0.00% GC)\n",
       "  maximum time:     28.840 ms (0.00% GC)\n",
       "  --------------\n",
       "  samples:          341\n",
       "  evals/sample:     1"
      ]
     },
     "execution_count": 44,
     "metadata": {
     },
     "output_type": "execute_result"
    }
   ],
   "source": [
    "j_bench_hand = @benchmark mysum($a)"
   ]
  },
  {
   "cell_type": "code",
   "execution_count": 45,
   "metadata": {
    "collapsed": false
   },
   "outputs": [
    {
     "data": {
      "text/plain": [
       "Dict{Any,Any} with 7 entries:\n",
       "  \"C com -ffast-math\"    => 9.73384\n",
       "  \"Python escrito à mão\" => 2182.18\n",
       "  \"C\"                    => 13.6918\n",
       "  \"Python numpy\"         => 8.94494\n",
       "  \"Julia escrito à mão\"  => 13.9188\n",
       "  \"Julia\"                => 8.06736\n",
       "  \"Python\"               => 1694.82"
      ]
     },
     "execution_count": 45,
     "metadata": {
     },
     "output_type": "execute_result"
    }
   ],
   "source": [
    "d[\"Julia escrito à mão\"] = minimum(j_bench_hand.times) / 1e6\n",
    "d"
   ]
  },
  {
   "cell_type": "markdown",
   "metadata": {
    "collapsed": false
   },
   "source": [
    "## 8. Julia (escrito à mão com SIMD)"
   ]
  },
  {
   "cell_type": "code",
   "execution_count": 46,
   "metadata": {
    "collapsed": false
   },
   "outputs": [
    {
     "data": {
      "text/plain": [
       "mysum_simd (generic function with 1 method)"
      ]
     },
     "execution_count": 46,
     "metadata": {
     },
     "output_type": "execute_result"
    }
   ],
   "source": [
    "function mysum_simd(A)   \n",
    "    s = 0.0 # s = zero(eltype(A))\n",
    "    @simd for a in A\n",
    "        s += a\n",
    "    end\n",
    "    s\n",
    "end"
   ]
  },
  {
   "cell_type": "code",
   "execution_count": 47,
   "metadata": {
    "collapsed": false
   },
   "outputs": [
    {
     "data": {
      "text/plain": [
       "BenchmarkTools.Trial: \n",
       "  memory estimate:  0 bytes\n",
       "  allocs estimate:  0\n",
       "  --------------\n",
       "  minimum time:     7.037 ms (0.00% GC)\n",
       "  median time:      7.497 ms (0.00% GC)\n",
       "  mean time:        8.038 ms (0.00% GC)\n",
       "  maximum time:     60.208 ms (0.00% GC)\n",
       "  --------------\n",
       "  samples:          622\n",
       "  evals/sample:     1"
      ]
     },
     "execution_count": 47,
     "metadata": {
     },
     "output_type": "execute_result"
    }
   ],
   "source": [
    "j_bench_hand_simd = @benchmark mysum_simd($a)"
   ]
  },
  {
   "cell_type": "code",
   "execution_count": 0,
   "metadata": {
    "collapsed": false
   },
   "outputs": [
   ],
   "source": [
    "mysum_simd(a)"
   ]
  },
  {
   "cell_type": "code",
   "execution_count": 0,
   "metadata": {
    "collapsed": false
   },
   "outputs": [
   ],
   "source": [
    "d[\"Julia escrito à mão com SIMD\"] = minimum(j_bench_hand_simd.times) / 1e6\n",
    "d"
   ]
  },
  {
   "cell_type": "markdown",
   "metadata": {
    "collapsed": false
   },
   "source": [
    "## Em resumo"
   ]
  },
  {
   "cell_type": "code",
   "execution_count": 0,
   "metadata": {
    "collapsed": false
   },
   "outputs": [
   ],
   "source": [
    "for (key, value) in sort(collect(d), by=last)\n",
    "    println(rpad(key, 30, \".\"), lpad(round(value; digits=2), 6, \".\"))\n",
    "end"
   ]
  }
 ],
 "metadata": {
  "kernelspec": {
   "display_name": "Julia 1.5",
   "env": {
    "JULIA_DEPOT_PATH": "/home/user/.julia/:/ext/julia/depot/",
    "JULIA_PROJECT": "/home/user/.julia/environment/v1.5"
   },
   "language": "julia",
   "metadata": {
    "cocalc": {
     "description": "The Julia Programming Language",
     "priority": 10,
     "url": "https://julialang.org/"
    }
   },
   "name": "julia-1.5",
   "resource_dir": "/ext/jupyter/kernels/julia-1.5"
  },
  "language_info": {
   "file_extension": ".jl",
   "mimetype": "application/julia",
   "name": "julia",
   "version": "1.5.3"
  }
 },
 "nbformat": 4,
 "nbformat_minor": 4
}