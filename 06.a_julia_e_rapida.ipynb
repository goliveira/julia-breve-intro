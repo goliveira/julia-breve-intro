{
 "cells": [
  {
   "cell_type": "markdown",
   "metadata": {
    "collapsed": false
   },
   "source": [
    "# A Julia é rápida\n",
    "\n",
    "Frequentemente, programas são executados em diferentes linguagens de programação com o propósito de comparar os desempenhos das linguagens.\n",
    "Esse tipo de comparação não é simples e pode gerar discussões.\n",
    "\n",
    "Neste notebook vamos fazer uma comparação simples entre algumas linguagens de programação, e deixar que você tire suas próprias conclusões."
   ]
  },
  {
   "cell_type": "markdown",
   "metadata": {
    "collapsed": false
   },
   "source": [
    "## A função soma\n",
    "\n",
    "Consideramos a função soma, denotada por `sum`, que é definida por\n",
    "$$\n",
    "\\mathrm{sum}(a) = \\sum_{j=1}^n a_j,\n",
    "$$\n",
    "onde $a = [a_1, a_2, \\dots, a_j]$ é uma lista com $n$ elementos.\n",
    "\n",
    "Vamos criar uma lista com 10<sup>7</sup> elementos escolhidos aleatoriamente no intervalo $[0,1]$:"
   ]
  },
  {
   "cell_type": "code",
   "execution_count": 1,
   "metadata": {
    "collapsed": false
   },
   "outputs": [
    {
     "data": {
      "text/plain": [
       "10000000-element Array{Float64,1}:\n",
       " 0.004958075755630009\n",
       " 0.7373789982947856\n",
       " 0.9532430095465603\n",
       " 0.031608012739347435\n",
       " 0.010772363534659934\n",
       " 0.9887509133043852\n",
       " 0.09777548622250398\n",
       " 0.11997335344252091\n",
       " 0.9985492806344918\n",
       " 0.8539459363488375\n",
       " 0.5624328006949861\n",
       " 0.18176034030679467\n",
       " 0.5817993086836453\n",
       " ⋮\n",
       " 0.26313395043842647\n",
       " 0.41125864049650307\n",
       " 0.8422342350886041\n",
       " 0.6841713514152512\n",
       " 0.5428606503234346\n",
       " 0.3792579295645051\n",
       " 0.7589725364359936\n",
       " 0.6824407450559944\n",
       " 0.7735146097406256\n",
       " 0.6416990753231044\n",
       " 0.44983738923707306\n",
       " 0.5218046292760414"
      ]
     },
     "execution_count": 1,
     "metadata": {
     },
     "output_type": "execute_result"
    }
   ],
   "source": [
    "a = rand(10^7)"
   ]
  },
  {
   "cell_type": "markdown",
   "metadata": {
    "collapsed": false
   },
   "source": [
    "Calculamos a soma dos elementos de `a`:"
   ]
  },
  {
   "cell_type": "code",
   "execution_count": 2,
   "metadata": {
    "collapsed": false
   },
   "outputs": [
    {
     "data": {
      "text/plain": [
       "4.9997426585580185e6"
      ]
     },
     "execution_count": 2,
     "metadata": {
     },
     "output_type": "execute_result"
    }
   ],
   "source": [
    "sum(a)"
   ]
  },
  {
   "cell_type": "markdown",
   "metadata": {
    "collapsed": false
   },
   "source": [
    "O resultado esperado é 0.5 * 10<sup>7</sup>, pois o valor médio de cada elemento da lista é igual a 0.5."
   ]
  },
  {
   "cell_type": "markdown",
   "metadata": {
    "collapsed": false
   },
   "source": [
    "## Medindo desempenho de formas diferentes, em linguagens diferentes"
   ]
  },
  {
   "cell_type": "code",
   "execution_count": 3,
   "metadata": {
    "collapsed": false
   },
   "outputs": [
    {
     "name": "stdout",
     "output_type": "stream",
     "text": [
      "  0.008657 seconds ("
     ]
    },
    {
     "name": "stdout",
     "output_type": "stream",
     "text": [
      "1 allocation: 16 bytes)\n"
     ]
    },
    {
     "data": {
      "text/plain": [
       "4.9997426585580185e6"
      ]
     },
     "execution_count": 3,
     "metadata": {
     },
     "output_type": "execute_result"
    }
   ],
   "source": [
    "@time sum(a)"
   ]
  },
  {
   "cell_type": "code",
   "execution_count": 4,
   "metadata": {
    "collapsed": false
   },
   "outputs": [
    {
     "name": "stdout",
     "output_type": "stream",
     "text": [
      "  0.008606 seconds (1 allocation: 16 bytes)\n"
     ]
    },
    {
     "data": {
      "text/plain": [
       "4.9997426585580185e6"
      ]
     },
     "execution_count": 4,
     "metadata": {
     },
     "output_type": "execute_result"
    }
   ],
   "source": [
    "@time sum(a)"
   ]
  },
  {
   "cell_type": "code",
   "execution_count": 5,
   "metadata": {
    "collapsed": false
   },
   "outputs": [
    {
     "name": "stdout",
     "output_type": "stream",
     "text": [
      "  0.039800 seconds (1 allocation: 16 bytes)\n"
     ]
    },
    {
     "data": {
      "text/plain": [
       "4.9997426585580185e6"
      ]
     },
     "execution_count": 5,
     "metadata": {
     },
     "output_type": "execute_result"
    }
   ],
   "source": [
    "@time sum(a)"
   ]
  },
  {
   "cell_type": "markdown",
   "metadata": {
    "collapsed": false
   },
   "source": [
    "Como vemos, a macro `@time` pode fornecer resultados diferentes, portanto não é uma macro muito confiável para comparar desempenhos.\n",
    "\n",
    "O pacote `BenchmarkTools.jl` fornece um método simples e preciso de fazer comparações."
   ]
  },
  {
   "cell_type": "code",
   "execution_count": 6,
   "metadata": {
    "collapsed": false
   },
   "outputs": [
    {
     "name": "stderr",
     "output_type": "stream",
     "text": [
      "\u001b[32m\u001b[1m  Resolving\u001b[22m\u001b[39m package versions...\n"
     ]
    },
    {
     "name": "stderr",
     "output_type": "stream",
     "text": [
      "\u001b[32m\u001b[1mNo Changes\u001b[22m\u001b[39m to `~/.julia/environment/v1.5/Project.toml`\n",
      "\u001b[32m\u001b[1mNo Changes\u001b[22m\u001b[39m to `~/.julia/environment/v1.5/Manifest.toml`\n"
     ]
    }
   ],
   "source": [
    "using Pkg\n",
    "Pkg.add(\"BenchmarkTools\")"
   ]
  },
  {
   "cell_type": "code",
   "execution_count": 7,
   "metadata": {
    "collapsed": false
   },
   "outputs": [
   ],
   "source": [
    "using BenchmarkTools"
   ]
  },
  {
   "cell_type": "markdown",
   "metadata": {
    "collapsed": false
   },
   "source": [
    "## 1. C\n",
    "\n",
    "A linguagem C é considerada uma linguagem difícil para os humanos e simples para as máquinas.\n",
    "\n",
    "Em uma sessão da Julia, podemos inserir um programa em C, compilá-lo e executá-lo:"
   ]
  },
  {
   "cell_type": "code",
   "execution_count": 8,
   "metadata": {
    "collapsed": false
   },
   "outputs": [
    {
     "data": {
      "text/plain": [
       "c_sum (generic function with 1 method)"
      ]
     },
     "execution_count": 8,
     "metadata": {
     },
     "output_type": "execute_result"
    }
   ],
   "source": [
    "using Libdl\n",
    "C_code = \"\"\"\n",
    "#include <stddef.h>\n",
    "double c_sum(size_t n, double *X) {\n",
    "    double s = 0.0;\n",
    "    for (size_t i = 0; i < n; ++i) {\n",
    "        s += X[i];\n",
    "    }\n",
    "    return s;\n",
    "}\n",
    "\"\"\"\n",
    "\n",
    "const Clib = tempname()  # Cria um arquivo temporário\n",
    "\n",
    "# Compila para uma biblioteca compartilhada passando\n",
    "# o código C_code para o compilador gcc (só funciona\n",
    "# se o gcc estiver instalado):\n",
    "\n",
    "open(`gcc -fPIC -O3 -msse3 -xc -shared -o $(Clib * \".\" * Libdl.dlext) -`, \"w\") do f\n",
    "    print(f, C_code) \n",
    "end\n",
    "\n",
    "# Define uma função em Julia que chama a função do C\n",
    "c_sum(X::Array{Float64}) = ccall((\"c_sum\", Clib), Float64, (Csize_t, Ptr{Float64}), length(X), X)"
   ]
  },
  {
   "cell_type": "code",
   "execution_count": 9,
   "metadata": {
    "collapsed": false
   },
   "outputs": [
    {
     "data": {
      "text/plain": [
       "4.999742658558146e6"
      ]
     },
     "execution_count": 9,
     "metadata": {
     },
     "output_type": "execute_result"
    }
   ],
   "source": [
    "c_sum(a)"
   ]
  },
  {
   "cell_type": "code",
   "execution_count": 10,
   "metadata": {
    "collapsed": false
   },
   "outputs": [
    {
     "data": {
      "text/plain": [
       "true"
      ]
     },
     "execution_count": 10,
     "metadata": {
     },
     "output_type": "execute_result"
    }
   ],
   "source": [
    "c_sum(a) ≈ sum(a)  # Digite \\approx e tecle <TAB> para obter o símbolo ≈"
   ]
  },
  {
   "cell_type": "code",
   "execution_count": 11,
   "metadata": {
    "collapsed": false
   },
   "outputs": [
    {
     "data": {
      "text/plain": [
       "1.2759119272232056e-7"
      ]
     },
     "execution_count": 11,
     "metadata": {
     },
     "output_type": "execute_result"
    }
   ],
   "source": [
    "c_sum(a) - sum(a)"
   ]
  },
  {
   "cell_type": "code",
   "execution_count": 12,
   "metadata": {
    "collapsed": false
   },
   "outputs": [
    {
     "data": {
      "text/plain": [
       "isapprox (generic function with 9 methods)"
      ]
     },
     "execution_count": 12,
     "metadata": {
     },
     "output_type": "execute_result"
    }
   ],
   "source": [
    "≈ # é uma abreviação (alias) para a função `isapprox`"
   ]
  },
  {
   "cell_type": "code",
   "execution_count": 13,
   "metadata": {
    "collapsed": false
   },
   "outputs": [
    {
     "name": "stdout",
     "output_type": "stream",
     "text": [
      "search: "
     ]
    },
    {
     "name": "stdout",
     "output_type": "stream",
     "text": [
      "\u001b[0m\u001b[1mi\u001b[22m\u001b[0m\u001b[1ms\u001b[22m\u001b[0m\u001b[1ma\u001b[22m\u001b[0m\u001b[1mp\u001b[22m\u001b[0m\u001b[1mp\u001b[22m\u001b[0m\u001b[1mr\u001b[22m\u001b[0m\u001b[1mo\u001b[22m\u001b[0m\u001b[1mx\u001b[22m\n",
      "\n"
     ]
    },
    {
     "data": {
      "text/latex": [
       "\\begin{verbatim}\n",
       "isapprox(x, y; rtol::Real=atol>0 ? 0 : √eps, atol::Real=0, nans::Bool=false, norm::Function)\n",
       "\\end{verbatim}\n",
       "Inexact equality comparison: \\texttt{true} if \\texttt{norm(x-y) <= max(atol, rtol*max(norm(x), norm(y)))}. The default \\texttt{atol} is zero and the default \\texttt{rtol} depends on the types of \\texttt{x} and \\texttt{y}. The keyword argument \\texttt{nans} determines whether or not NaN values are considered equal (defaults to false).\n",
       "\n",
       "For real or complex floating-point values, if an \\texttt{atol > 0} is not specified, \\texttt{rtol} defaults to the square root of \\href{@ref}{\\texttt{eps}} of the type of \\texttt{x} or \\texttt{y}, whichever is bigger (least precise). This corresponds to requiring equality of about half of the significand digits. Otherwise, e.g. for integer arguments or if an \\texttt{atol > 0} is supplied, \\texttt{rtol} defaults to zero.\n",
       "\n",
       "\\texttt{x} and \\texttt{y} may also be arrays of numbers, in which case \\texttt{norm} defaults to the usual \\texttt{norm} function in LinearAlgebra, but may be changed by passing a \\texttt{norm::Function} keyword argument. (For numbers, \\texttt{norm} is the same thing as \\texttt{abs}.) When \\texttt{x} and \\texttt{y} are arrays, if \\texttt{norm(x-y)} is not finite (i.e. \\texttt{±Inf} or \\texttt{NaN}), the comparison falls back to checking whether all elements of \\texttt{x} and \\texttt{y} are approximately equal component-wise.\n",
       "\n",
       "The binary operator \\texttt{≈} is equivalent to \\texttt{isapprox} with the default arguments, and \\texttt{x ≉ y} is equivalent to \\texttt{!isapprox(x,y)}.\n",
       "\n",
       "Note that \\texttt{x ≈ 0} (i.e., comparing to zero with the default tolerances) is equivalent to \\texttt{x == 0} since the default \\texttt{atol} is \\texttt{0}.  In such cases, you should either supply an appropriate \\texttt{atol} (or use \\texttt{norm(x) ≤ atol}) or rearrange your code (e.g. use \\texttt{x ≈ y} rather than \\texttt{x - y ≈ 0}).   It is not possible to pick a nonzero \\texttt{atol} automatically because it depends on the overall scaling (the \"units\") of your problem: for example, in \\texttt{x - y ≈ 0}, \\texttt{atol=1e-9} is an absurdly small tolerance if \\texttt{x} is the \\href{https://en.wikipedia.org/wiki/Earth_radius}{radius of the Earth} in meters, but an absurdly large tolerance if \\texttt{x} is the \\href{https://en.wikipedia.org/wiki/Bohr_radius}{radius of a Hydrogen atom} in meters.\n",
       "\n",
       "\\section{Examples}\n",
       "\\begin{verbatim}\n",
       "julia> 0.1 ≈ (0.1 - 1e-10)\n",
       "true\n",
       "\n",
       "julia> isapprox(10, 11; atol = 2)\n",
       "true\n",
       "\n",
       "julia> isapprox([10.0^9, 1.0], [10.0^9, 2.0])\n",
       "true\n",
       "\n",
       "julia> 1e-10 ≈ 0\n",
       "false\n",
       "\n",
       "julia> isapprox(1e-10, 0, atol=1e-8)\n",
       "true\n",
       "\\end{verbatim}\n",
       "\\rule{\\textwidth}{1pt}\n",
       "\\begin{verbatim}\n",
       "isapprox(x; kwargs...) / ≈(x; kwargs...)\n",
       "\\end{verbatim}\n",
       "Create a function that compares its argument to \\texttt{x} using \\texttt{≈}, i.e. a function equivalent to \\texttt{y -> y ≈ x}.\n",
       "\n",
       "The keyword arguments supported here are the same as those in the 2-argument \\texttt{isapprox}.\n",
       "\n"
      ],
      "text/markdown": [
       "```\n",
       "isapprox(x, y; rtol::Real=atol>0 ? 0 : √eps, atol::Real=0, nans::Bool=false, norm::Function)\n",
       "```\n",
       "\n",
       "Inexact equality comparison: `true` if `norm(x-y) <= max(atol, rtol*max(norm(x), norm(y)))`. The default `atol` is zero and the default `rtol` depends on the types of `x` and `y`. The keyword argument `nans` determines whether or not NaN values are considered equal (defaults to false).\n",
       "\n",
       "For real or complex floating-point values, if an `atol > 0` is not specified, `rtol` defaults to the square root of [`eps`](@ref) of the type of `x` or `y`, whichever is bigger (least precise). This corresponds to requiring equality of about half of the significand digits. Otherwise, e.g. for integer arguments or if an `atol > 0` is supplied, `rtol` defaults to zero.\n",
       "\n",
       "`x` and `y` may also be arrays of numbers, in which case `norm` defaults to the usual `norm` function in LinearAlgebra, but may be changed by passing a `norm::Function` keyword argument. (For numbers, `norm` is the same thing as `abs`.) When `x` and `y` are arrays, if `norm(x-y)` is not finite (i.e. `±Inf` or `NaN`), the comparison falls back to checking whether all elements of `x` and `y` are approximately equal component-wise.\n",
       "\n",
       "The binary operator `≈` is equivalent to `isapprox` with the default arguments, and `x ≉ y` is equivalent to `!isapprox(x,y)`.\n",
       "\n",
       "Note that `x ≈ 0` (i.e., comparing to zero with the default tolerances) is equivalent to `x == 0` since the default `atol` is `0`.  In such cases, you should either supply an appropriate `atol` (or use `norm(x) ≤ atol`) or rearrange your code (e.g. use `x ≈ y` rather than `x - y ≈ 0`).   It is not possible to pick a nonzero `atol` automatically because it depends on the overall scaling (the \"units\") of your problem: for example, in `x - y ≈ 0`, `atol=1e-9` is an absurdly small tolerance if `x` is the [radius of the Earth](https://en.wikipedia.org/wiki/Earth_radius) in meters, but an absurdly large tolerance if `x` is the [radius of a Hydrogen atom](https://en.wikipedia.org/wiki/Bohr_radius) in meters.\n",
       "\n",
       "# Examples\n",
       "\n",
       "```jldoctest\n",
       "julia> 0.1 ≈ (0.1 - 1e-10)\n",
       "true\n",
       "\n",
       "julia> isapprox(10, 11; atol = 2)\n",
       "true\n",
       "\n",
       "julia> isapprox([10.0^9, 1.0], [10.0^9, 2.0])\n",
       "true\n",
       "\n",
       "julia> 1e-10 ≈ 0\n",
       "false\n",
       "\n",
       "julia> isapprox(1e-10, 0, atol=1e-8)\n",
       "true\n",
       "```\n",
       "\n",
       "---\n",
       "\n",
       "```\n",
       "isapprox(x; kwargs...) / ≈(x; kwargs...)\n",
       "```\n",
       "\n",
       "Create a function that compares its argument to `x` using `≈`, i.e. a function equivalent to `y -> y ≈ x`.\n",
       "\n",
       "The keyword arguments supported here are the same as those in the 2-argument `isapprox`.\n"
      ],
      "text/plain": [
       "\u001b[36m  isapprox(x, y; rtol::Real=atol>0 ? 0 : √eps, atol::Real=0, nans::Bool=false, norm::Function)\u001b[39m\n",
       "\n",
       "  Inexact equality comparison: \u001b[36mtrue\u001b[39m if \u001b[36mnorm(x-y) <= max(atol,\n",
       "  rtol*max(norm(x), norm(y)))\u001b[39m. The default \u001b[36matol\u001b[39m is zero and the default \u001b[36mrtol\u001b[39m\n",
       "  depends on the types of \u001b[36mx\u001b[39m and \u001b[36my\u001b[39m. The keyword argument \u001b[36mnans\u001b[39m determines\n",
       "  whether or not NaN values are considered equal (defaults to false).\n",
       "\n",
       "  For real or complex floating-point values, if an \u001b[36matol > 0\u001b[39m is not specified,\n",
       "  \u001b[36mrtol\u001b[39m defaults to the square root of \u001b[36meps\u001b[39m of the type of \u001b[36mx\u001b[39m or \u001b[36my\u001b[39m, whichever is\n",
       "  bigger (least precise). This corresponds to requiring equality of about half\n",
       "  of the significand digits. Otherwise, e.g. for integer arguments or if an\n",
       "  \u001b[36matol > 0\u001b[39m is supplied, \u001b[36mrtol\u001b[39m defaults to zero.\n",
       "\n",
       "  \u001b[36mx\u001b[39m and \u001b[36my\u001b[39m may also be arrays of numbers, in which case \u001b[36mnorm\u001b[39m defaults to the\n",
       "  usual \u001b[36mnorm\u001b[39m function in LinearAlgebra, but may be changed by passing a\n",
       "  \u001b[36mnorm::Function\u001b[39m keyword argument. (For numbers, \u001b[36mnorm\u001b[39m is the same thing as\n",
       "  \u001b[36mabs\u001b[39m.) When \u001b[36mx\u001b[39m and \u001b[36my\u001b[39m are arrays, if \u001b[36mnorm(x-y)\u001b[39m is not finite (i.e. \u001b[36m±Inf\u001b[39m or\n",
       "  \u001b[36mNaN\u001b[39m), the comparison falls back to checking whether all elements of \u001b[36mx\u001b[39m and \u001b[36my\u001b[39m\n",
       "  are approximately equal component-wise.\n",
       "\n",
       "  The binary operator \u001b[36m≈\u001b[39m is equivalent to \u001b[36misapprox\u001b[39m with the default arguments,\n",
       "  and \u001b[36mx ≉ y\u001b[39m is equivalent to \u001b[36m!isapprox(x,y)\u001b[39m.\n",
       "\n",
       "  Note that \u001b[36mx ≈ 0\u001b[39m (i.e., comparing to zero with the default tolerances) is\n",
       "  equivalent to \u001b[36mx == 0\u001b[39m since the default \u001b[36matol\u001b[39m is \u001b[36m0\u001b[39m. In such cases, you should\n",
       "  either supply an appropriate \u001b[36matol\u001b[39m (or use \u001b[36mnorm(x) ≤ atol\u001b[39m) or rearrange your\n",
       "  code (e.g. use \u001b[36mx ≈ y\u001b[39m rather than \u001b[36mx - y ≈ 0\u001b[39m). It is not possible to pick a\n",
       "  nonzero \u001b[36matol\u001b[39m automatically because it depends on the overall scaling (the\n",
       "  \"units\") of your problem: for example, in \u001b[36mx - y ≈ 0\u001b[39m, \u001b[36matol=1e-9\u001b[39m is an\n",
       "  absurdly small tolerance if \u001b[36mx\u001b[39m is the radius of the Earth\n",
       "  (https://en.wikipedia.org/wiki/Earth_radius) in meters, but an absurdly\n",
       "  large tolerance if \u001b[36mx\u001b[39m is the radius of a Hydrogen atom\n",
       "  (https://en.wikipedia.org/wiki/Bohr_radius) in meters.\n",
       "\n",
       "\u001b[1m  Examples\u001b[22m\n",
       "\u001b[1m  ≡≡≡≡≡≡≡≡≡≡\u001b[22m\n",
       "\n",
       "\u001b[36m  julia> 0.1 ≈ (0.1 - 1e-10)\u001b[39m\n",
       "\u001b[36m  true\u001b[39m\n",
       "\u001b[36m  \u001b[39m\n",
       "\u001b[36m  julia> isapprox(10, 11; atol = 2)\u001b[39m\n",
       "\u001b[36m  true\u001b[39m\n",
       "\u001b[36m  \u001b[39m\n",
       "\u001b[36m  julia> isapprox([10.0^9, 1.0], [10.0^9, 2.0])\u001b[39m\n",
       "\u001b[36m  true\u001b[39m\n",
       "\u001b[36m  \u001b[39m\n",
       "\u001b[36m  julia> 1e-10 ≈ 0\u001b[39m\n",
       "\u001b[36m  false\u001b[39m\n",
       "\u001b[36m  \u001b[39m\n",
       "\u001b[36m  julia> isapprox(1e-10, 0, atol=1e-8)\u001b[39m\n",
       "\u001b[36m  true\u001b[39m\n",
       "\n",
       "  ────────────────────────────────────────────────────────────────────────────\n",
       "\n",
       "\u001b[36m  isapprox(x; kwargs...) / ≈(x; kwargs...)\u001b[39m\n",
       "\n",
       "  Create a function that compares its argument to \u001b[36mx\u001b[39m using \u001b[36m≈\u001b[39m, i.e. a function\n",
       "  equivalent to \u001b[36my -> y ≈ x\u001b[39m.\n",
       "\n",
       "  The keyword arguments supported here are the same as those in the 2-argument\n",
       "  \u001b[36misapprox\u001b[39m."
      ]
     },
     "execution_count": 13,
     "metadata": {
     },
     "output_type": "execute_result"
    }
   ],
   "source": [
    "?isapprox"
   ]
  },
  {
   "cell_type": "markdown",
   "metadata": {
    "collapsed": false
   },
   "source": [
    "Agora podemos medir o desempenho do código C diretamente da sessão Julia."
   ]
  },
  {
   "cell_type": "code",
   "execution_count": 14,
   "metadata": {
    "collapsed": false
   },
   "outputs": [
    {
     "data": {
      "text/plain": [
       "BenchmarkTools.Trial: \n",
       "  memory estimate:  0 bytes\n",
       "  allocs estimate:  0\n",
       "  --------------\n",
       "  minimum time:     13.911 ms (0.00% GC)\n",
       "  median time:      14.317 ms (0.00% GC)\n",
       "  mean time:        14.993 ms (0.00% GC)\n",
       "  maximum time:     60.613 ms (0.00% GC)\n",
       "  --------------\n",
       "  samples:          334\n",
       "  evals/sample:     1"
      ]
     },
     "execution_count": 14,
     "metadata": {
     },
     "output_type": "execute_result"
    }
   ],
   "source": [
    "c_bench = @benchmark c_sum($a)"
   ]
  },
  {
   "cell_type": "code",
   "execution_count": 15,
   "metadata": {
    "collapsed": false
   },
   "outputs": [
    {
     "name": "stdout",
     "output_type": "stream",
     "text": [
      "C: O tempo mais rápido foi 13.910588 msec\n"
     ]
    }
   ],
   "source": [
    "println(\"C: O tempo mais rápido foi $(minimum(c_bench.times) / 1e6) msec\")"
   ]
  },
  {
   "cell_type": "code",
   "execution_count": 16,
   "metadata": {
    "collapsed": false
   },
   "outputs": [
    {
     "data": {
      "text/plain": [
       "Dict{Any,Any} with 1 entry:\n",
       "  \"C\" => 13.9106"
      ]
     },
     "execution_count": 16,
     "metadata": {
     },
     "output_type": "execute_result"
    }
   ],
   "source": [
    "d = Dict()\n",
    "d[\"C\"] = minimum(c_bench.times) / 1e6  # em milisegundos\n",
    "d"
   ]
  },
  {
   "cell_type": "code",
   "execution_count": 17,
   "metadata": {
    "collapsed": false
   },
   "outputs": [
    {
     "data": {
      "text/plain": [
       "Plots.GRBackend()"
      ]
     },
     "execution_count": 17,
     "metadata": {
     },
     "output_type": "execute_result"
    }
   ],
   "source": [
    "using Plots\n",
    "gr()"
   ]
  },
  {
   "cell_type": "code",
   "execution_count": 18,
   "metadata": {
    "collapsed": false
   },
   "outputs": [
    {
     "data": {
      "image/svg+xml": "<?xml version=\"1.0\" encoding=\"utf-8\"?>\n<svg xmlns=\"http://www.w3.org/2000/svg\" xmlns:xlink=\"http://www.w3.org/1999/xlink\" width=\"600\" height=\"400\" viewBox=\"0 0 2400 1600\">\n<defs>\n  <clipPath id=\"clip060\">\n    <rect x=\"0\" y=\"0\" width=\"2400\" height=\"1600\"/>\n  </clipPath>\n</defs>\n<path clip-path=\"url(#clip060)\" d=\"\nM0 1600 L2400 1600 L2400 0 L0 0  Z\n  \" fill=\"#ffffff\" fill-rule=\"evenodd\" fill-opacity=\"1\"/>\n<defs>\n  <clipPath id=\"clip061\">\n    <rect x=\"480\" y=\"0\" width=\"1681\" height=\"1600\"/>\n  </clipPath>\n</defs>\n<path clip-path=\"url(#clip060)\" d=\"\nM202.459 1423.18 L2352.76 1423.18 L2352.76 47.2441 L202.459 47.2441  Z\n  \" fill=\"#ffffff\" fill-rule=\"evenodd\" fill-opacity=\"1\"/>\n<defs>\n  <clipPath id=\"clip062\">\n    <rect x=\"202\" y=\"47\" width=\"2151\" height=\"1377\"/>\n  </clipPath>\n</defs>\n<polyline clip-path=\"url(#clip062)\" style=\"stroke:#000000; stroke-width:2; stroke-opacity:0.1; fill:none\" points=\"\n  585.633,1423.18 585.633,47.2441 \n  \"/>\n<polyline clip-path=\"url(#clip062)\" style=\"stroke:#000000; stroke-width:2; stroke-opacity:0.1; fill:none\" points=\"\n  1140.18,1423.18 1140.18,47.2441 \n  \"/>\n<polyline clip-path=\"url(#clip062)\" style=\"stroke:#000000; stroke-width:2; stroke-opacity:0.1; fill:none\" points=\"\n  1694.73,1423.18 1694.73,47.2441 \n  \"/>\n<polyline clip-path=\"url(#clip062)\" style=\"stroke:#000000; stroke-width:2; stroke-opacity:0.1; fill:none\" points=\"\n  2249.28,1423.18 2249.28,47.2441 \n  \"/>\n<polyline clip-path=\"url(#clip060)\" style=\"stroke:#000000; stroke-width:4; stroke-opacity:1; fill:none\" points=\"\n  202.459,1423.18 2352.76,1423.18 \n  \"/>\n<polyline clip-path=\"url(#clip060)\" style=\"stroke:#000000; stroke-width:4; stroke-opacity:1; fill:none\" points=\"\n  585.633,1423.18 585.633,1406.67 \n  \"/>\n<polyline clip-path=\"url(#clip060)\" style=\"stroke:#000000; stroke-width:4; stroke-opacity:1; fill:none\" points=\"\n  1140.18,1423.18 1140.18,1406.67 \n  \"/>\n<polyline clip-path=\"url(#clip060)\" style=\"stroke:#000000; stroke-width:4; stroke-opacity:1; fill:none\" points=\"\n  1694.73,1423.18 1694.73,1406.67 \n  \"/>\n<polyline clip-path=\"url(#clip060)\" style=\"stroke:#000000; stroke-width:4; stroke-opacity:1; fill:none\" points=\"\n  2249.28,1423.18 2249.28,1406.67 \n  \"/>\n<path clip-path=\"url(#clip060)\" d=\"M 0 0 M562.265 1479.92 L569.904 1479.92 L569.904 1453.55 L561.594 1455.22 L561.594 1450.96 L569.858 1449.29 L574.534 1449.29 L574.534 1479.92 L582.173 1479.92 L582.173 1483.85 L562.265 1483.85 L562.265 1479.92 Z\" fill=\"#000000\" fill-rule=\"evenodd\" fill-opacity=\"1\" /><path clip-path=\"url(#clip060)\" d=\"M 0 0 M600.089 1453.37 L588.284 1471.81 L600.089 1471.81 L600.089 1453.37 M598.862 1449.29 L604.742 1449.29 L604.742 1471.81 L609.673 1471.81 L609.673 1475.7 L604.742 1475.7 L604.742 1483.85 L600.089 1483.85 L600.089 1475.7 L584.488 1475.7 L584.488 1471.19 L598.862 1449.29 Z\" fill=\"#000000\" fill-rule=\"evenodd\" fill-opacity=\"1\" /><path clip-path=\"url(#clip060)\" d=\"M 0 0 M1116.98 1479.92 L1124.61 1479.92 L1124.61 1453.55 L1116.3 1455.22 L1116.3 1450.96 L1124.57 1449.29 L1129.24 1449.29 L1129.24 1479.92 L1136.88 1479.92 L1136.88 1483.85 L1116.98 1483.85 L1116.98 1479.92 Z\" fill=\"#000000\" fill-rule=\"evenodd\" fill-opacity=\"1\" /><path clip-path=\"url(#clip060)\" d=\"M 0 0 M1152.53 1464.71 Q1149.38 1464.71 1147.53 1466.86 Q1145.7 1469.01 1145.7 1472.76 Q1145.7 1476.49 1147.53 1478.67 Q1149.38 1480.82 1152.53 1480.82 Q1155.68 1480.82 1157.51 1478.67 Q1159.36 1476.49 1159.36 1472.76 Q1159.36 1469.01 1157.51 1466.86 Q1155.68 1464.71 1152.53 1464.71 M1161.81 1450.06 L1161.81 1454.31 Q1160.05 1453.48 1158.25 1453.04 Q1156.47 1452.6 1154.71 1452.6 Q1150.08 1452.6 1147.62 1455.73 Q1145.19 1458.85 1144.85 1465.17 Q1146.21 1463.16 1148.27 1462.09 Q1150.33 1461 1152.81 1461 Q1158.02 1461 1161.03 1464.18 Q1164.06 1467.32 1164.06 1472.76 Q1164.06 1478.09 1160.91 1481.31 Q1157.76 1484.52 1152.53 1484.52 Q1146.54 1484.52 1143.36 1479.94 Q1140.19 1475.33 1140.19 1466.61 Q1140.19 1458.41 1144.08 1453.55 Q1147.97 1448.67 1154.52 1448.67 Q1156.28 1448.67 1158.06 1449.01 Q1159.87 1449.36 1161.81 1450.06 Z\" fill=\"#000000\" fill-rule=\"evenodd\" fill-opacity=\"1\" /><path clip-path=\"url(#clip060)\" d=\"M 0 0 M1671.65 1479.92 L1679.29 1479.92 L1679.29 1453.55 L1670.98 1455.22 L1670.98 1450.96 L1679.24 1449.29 L1683.92 1449.29 L1683.92 1479.92 L1691.56 1479.92 L1691.56 1483.85 L1671.65 1483.85 L1671.65 1479.92 Z\" fill=\"#000000\" fill-rule=\"evenodd\" fill-opacity=\"1\" /><path clip-path=\"url(#clip060)\" d=\"M 0 0 M1706.63 1467.44 Q1703.29 1467.44 1701.37 1469.22 Q1699.47 1471 1699.47 1474.13 Q1699.47 1477.25 1701.37 1479.04 Q1703.29 1480.82 1706.63 1480.82 Q1709.96 1480.82 1711.88 1479.04 Q1713.8 1477.23 1713.8 1474.13 Q1713.8 1471 1711.88 1469.22 Q1709.98 1467.44 1706.63 1467.44 M1701.95 1465.45 Q1698.94 1464.71 1697.25 1462.65 Q1695.59 1460.59 1695.59 1457.63 Q1695.59 1453.48 1698.53 1451.07 Q1701.49 1448.67 1706.63 1448.67 Q1711.79 1448.67 1714.73 1451.07 Q1717.67 1453.48 1717.67 1457.63 Q1717.67 1460.59 1715.98 1462.65 Q1714.31 1464.71 1711.33 1465.45 Q1714.71 1466.24 1716.58 1468.53 Q1718.48 1470.82 1718.48 1474.13 Q1718.48 1479.15 1715.4 1481.84 Q1712.34 1484.52 1706.63 1484.52 Q1700.91 1484.52 1697.83 1481.84 Q1694.78 1479.15 1694.78 1474.13 Q1694.78 1470.82 1696.67 1468.53 Q1698.57 1466.24 1701.95 1465.45 M1700.24 1458.06 Q1700.24 1460.75 1701.9 1462.25 Q1703.59 1463.76 1706.63 1463.76 Q1709.64 1463.76 1711.33 1462.25 Q1713.04 1460.75 1713.04 1458.06 Q1713.04 1455.38 1711.33 1453.88 Q1709.64 1452.37 1706.63 1452.37 Q1703.59 1452.37 1701.9 1453.88 Q1700.24 1455.38 1700.24 1458.06 Z\" fill=\"#000000\" fill-rule=\"evenodd\" fill-opacity=\"1\" /><path clip-path=\"url(#clip060)\" d=\"M 0 0 M2230.42 1479.92 L2246.74 1479.92 L2246.74 1483.85 L2224.8 1483.85 L2224.8 1479.92 Q2227.46 1477.16 2232.04 1472.53 Q2236.65 1467.88 2237.83 1466.54 Q2240.08 1464.01 2240.95 1462.28 Q2241.86 1460.52 2241.86 1458.83 Q2241.86 1456.07 2239.91 1454.34 Q2237.99 1452.6 2234.89 1452.6 Q2232.69 1452.6 2230.24 1453.37 Q2227.81 1454.13 2225.03 1455.68 L2225.03 1450.96 Q2227.85 1449.82 2230.31 1449.25 Q2232.76 1448.67 2234.8 1448.67 Q2240.17 1448.67 2243.36 1451.35 Q2246.56 1454.04 2246.56 1458.53 Q2246.56 1460.66 2245.75 1462.58 Q2244.96 1464.48 2242.85 1467.07 Q2242.27 1467.74 2239.17 1470.96 Q2236.07 1474.15 2230.42 1479.92 Z\" fill=\"#000000\" fill-rule=\"evenodd\" fill-opacity=\"1\" /><path clip-path=\"url(#clip060)\" d=\"M 0 0 M2261.81 1452.37 Q2258.2 1452.37 2256.37 1455.94 Q2254.57 1459.48 2254.57 1466.61 Q2254.57 1473.71 2256.37 1477.28 Q2258.2 1480.82 2261.81 1480.82 Q2265.45 1480.82 2267.25 1477.28 Q2269.08 1473.71 2269.08 1466.61 Q2269.08 1459.48 2267.25 1455.94 Q2265.45 1452.37 2261.81 1452.37 M2261.81 1448.67 Q2267.62 1448.67 2270.68 1453.27 Q2273.76 1457.86 2273.76 1466.61 Q2273.76 1475.33 2270.68 1479.94 Q2267.62 1484.52 2261.81 1484.52 Q2256 1484.52 2252.92 1479.94 Q2249.87 1475.33 2249.87 1466.61 Q2249.87 1457.86 2252.92 1453.27 Q2256 1448.67 2261.81 1448.67 Z\" fill=\"#000000\" fill-rule=\"evenodd\" fill-opacity=\"1\" /><path clip-path=\"url(#clip060)\" d=\"M 0 0 M1123.27 1539.24 Q1125.47 1535.29 1128.52 1533.41 Q1131.58 1531.54 1135.72 1531.54 Q1141.29 1531.54 1144.31 1535.45 Q1147.33 1539.33 1147.33 1546.53 L1147.33 1568.04 L1141.44 1568.04 L1141.44 1546.72 Q1141.44 1541.59 1139.63 1539.11 Q1137.82 1536.63 1134.09 1536.63 Q1129.54 1536.63 1126.9 1539.65 Q1124.26 1542.68 1124.26 1547.9 L1124.26 1568.04 L1118.37 1568.04 L1118.37 1546.72 Q1118.37 1541.56 1116.56 1539.11 Q1114.74 1536.63 1110.95 1536.63 Q1106.47 1536.63 1103.82 1539.68 Q1101.18 1542.71 1101.18 1547.9 L1101.18 1568.04 L1095.29 1568.04 L1095.29 1532.4 L1101.18 1532.4 L1101.18 1537.93 Q1103.19 1534.66 1105.99 1533.1 Q1108.79 1531.54 1112.64 1531.54 Q1116.52 1531.54 1119.23 1533.51 Q1121.97 1535.48 1123.27 1539.24 Z\" fill=\"#000000\" fill-rule=\"evenodd\" fill-opacity=\"1\" /><path clip-path=\"url(#clip060)\" d=\"M 0 0 M1153.48 1532.4 L1159.33 1532.4 L1159.33 1568.04 L1153.48 1568.04 L1153.48 1532.4 M1153.48 1518.52 L1159.33 1518.52 L1159.33 1525.93 L1153.48 1525.93 L1153.48 1518.52 Z\" fill=\"#000000\" fill-rule=\"evenodd\" fill-opacity=\"1\" /><path clip-path=\"url(#clip060)\" d=\"M 0 0 M1165.48 1518.52 L1171.33 1518.52 L1171.33 1568.04 L1165.48 1568.04 L1165.48 1518.52 Z\" fill=\"#000000\" fill-rule=\"evenodd\" fill-opacity=\"1\" /><path clip-path=\"url(#clip060)\" d=\"M 0 0 M1177.47 1532.4 L1183.33 1532.4 L1183.33 1568.04 L1177.47 1568.04 L1177.47 1532.4 M1177.47 1518.52 L1183.33 1518.52 L1183.33 1525.93 L1177.47 1525.93 L1177.47 1518.52 Z\" fill=\"#000000\" fill-rule=\"evenodd\" fill-opacity=\"1\" /><path clip-path=\"url(#clip060)\" d=\"M 0 0 M1212.2 1533.45 L1212.2 1538.98 Q1209.72 1537.71 1207.04 1537.07 Q1204.37 1536.44 1201.51 1536.44 Q1197.14 1536.44 1194.95 1537.77 Q1192.78 1539.11 1192.78 1541.79 Q1192.78 1543.82 1194.34 1545 Q1195.9 1546.15 1200.61 1547.2 L1202.62 1547.64 Q1208.86 1548.98 1211.47 1551.43 Q1214.11 1553.85 1214.11 1558.21 Q1214.11 1563.17 1210.16 1566.07 Q1206.25 1568.97 1199.37 1568.97 Q1196.51 1568.97 1193.39 1568.39 Q1190.3 1567.85 1186.86 1566.74 L1186.86 1560.69 Q1190.11 1562.38 1193.26 1563.24 Q1196.41 1564.07 1199.5 1564.07 Q1203.64 1564.07 1205.87 1562.66 Q1208.09 1561.23 1208.09 1558.65 Q1208.09 1556.27 1206.47 1554.99 Q1204.88 1553.72 1199.44 1552.54 L1197.4 1552.07 Q1191.96 1550.92 1189.54 1548.56 Q1187.12 1546.18 1187.12 1542.04 Q1187.12 1537.01 1190.68 1534.27 Q1194.25 1531.54 1200.81 1531.54 Q1204.05 1531.54 1206.92 1532.01 Q1209.78 1532.49 1212.2 1533.45 Z\" fill=\"#000000\" fill-rule=\"evenodd\" fill-opacity=\"1\" /><path clip-path=\"url(#clip060)\" d=\"M 0 0 M1250.74 1548.76 L1250.74 1551.62 L1223.82 1551.62 Q1224.2 1557.67 1227.45 1560.85 Q1230.72 1564 1236.55 1564 Q1239.92 1564 1243.07 1563.17 Q1246.26 1562.35 1249.38 1560.69 L1249.38 1566.23 Q1246.22 1567.57 1242.91 1568.27 Q1239.6 1568.97 1236.2 1568.97 Q1227.67 1568.97 1222.67 1564 Q1217.71 1559.04 1217.71 1550.57 Q1217.71 1541.82 1222.42 1536.69 Q1227.16 1531.54 1235.18 1531.54 Q1242.37 1531.54 1246.54 1536.18 Q1250.74 1540.8 1250.74 1548.76 M1244.89 1547.04 Q1244.82 1542.23 1242.18 1539.37 Q1239.57 1536.5 1235.24 1536.5 Q1230.34 1536.5 1227.38 1539.27 Q1224.45 1542.04 1224.01 1547.07 L1244.89 1547.04 Z\" fill=\"#000000\" fill-rule=\"evenodd\" fill-opacity=\"1\" /><path clip-path=\"url(#clip060)\" d=\"M 0 0 M1280.34 1549.81 Q1280.34 1543.44 1277.7 1539.94 Q1275.09 1536.44 1270.35 1536.44 Q1265.64 1536.44 1263 1539.94 Q1260.39 1543.44 1260.39 1549.81 Q1260.39 1556.14 1263 1559.64 Q1265.64 1563.14 1270.35 1563.14 Q1275.09 1563.14 1277.7 1559.64 Q1280.34 1556.14 1280.34 1549.81 M1286.2 1563.62 Q1286.2 1572.72 1282.16 1577.15 Q1278.12 1581.6 1269.78 1581.6 Q1266.69 1581.6 1263.95 1581.13 Q1261.22 1580.68 1258.64 1579.72 L1258.64 1574.03 Q1261.22 1575.43 1263.73 1576.1 Q1266.24 1576.76 1268.85 1576.76 Q1274.62 1576.76 1277.48 1573.74 Q1280.34 1570.75 1280.34 1564.67 L1280.34 1561.77 Q1278.53 1564.92 1275.7 1566.48 Q1272.86 1568.04 1268.92 1568.04 Q1262.36 1568.04 1258.35 1563.05 Q1254.34 1558.05 1254.34 1549.81 Q1254.34 1541.53 1258.35 1536.53 Q1262.36 1531.54 1268.92 1531.54 Q1272.86 1531.54 1275.7 1533.1 Q1278.53 1534.66 1280.34 1537.81 L1280.34 1532.4 L1286.2 1532.4 L1286.2 1563.62 Z\" fill=\"#000000\" fill-rule=\"evenodd\" fill-opacity=\"1\" /><path clip-path=\"url(#clip060)\" d=\"M 0 0 M1291.74 1553.98 L1291.74 1532.4 L1297.6 1532.4 L1297.6 1553.75 Q1297.6 1558.81 1299.57 1561.36 Q1301.54 1563.87 1305.49 1563.87 Q1310.23 1563.87 1312.97 1560.85 Q1315.74 1557.83 1315.74 1552.61 L1315.74 1532.4 L1321.59 1532.4 L1321.59 1568.04 L1315.74 1568.04 L1315.74 1562.57 Q1313.61 1565.82 1310.77 1567.41 Q1307.97 1568.97 1304.25 1568.97 Q1298.11 1568.97 1294.92 1565.15 Q1291.74 1561.33 1291.74 1553.98 M1306.48 1531.54 L1306.48 1531.54 Z\" fill=\"#000000\" fill-rule=\"evenodd\" fill-opacity=\"1\" /><path clip-path=\"url(#clip060)\" d=\"M 0 0 M1357.37 1546.53 L1357.37 1568.04 L1351.51 1568.04 L1351.51 1546.72 Q1351.51 1541.66 1349.54 1539.14 Q1347.57 1536.63 1343.62 1536.63 Q1338.88 1536.63 1336.14 1539.65 Q1333.4 1542.68 1333.4 1547.9 L1333.4 1568.04 L1327.51 1568.04 L1327.51 1532.4 L1333.4 1532.4 L1333.4 1537.93 Q1335.5 1534.72 1338.34 1533.13 Q1341.2 1531.54 1344.92 1531.54 Q1351.07 1531.54 1354.22 1535.36 Q1357.37 1539.14 1357.37 1546.53 Z\" fill=\"#000000\" fill-rule=\"evenodd\" fill-opacity=\"1\" /><path clip-path=\"url(#clip060)\" d=\"M 0 0 M1386.97 1537.81 L1386.97 1518.52 L1392.83 1518.52 L1392.83 1568.04 L1386.97 1568.04 L1386.97 1562.7 Q1385.12 1565.88 1382.29 1567.44 Q1379.49 1568.97 1375.54 1568.97 Q1369.08 1568.97 1365.01 1563.81 Q1360.97 1558.65 1360.97 1550.25 Q1360.97 1541.85 1365.01 1536.69 Q1369.08 1531.54 1375.54 1531.54 Q1379.49 1531.54 1382.29 1533.1 Q1385.12 1534.62 1386.97 1537.81 M1367.01 1550.25 Q1367.01 1556.71 1369.66 1560.4 Q1372.33 1564.07 1376.98 1564.07 Q1381.62 1564.07 1384.3 1560.4 Q1386.97 1556.71 1386.97 1550.25 Q1386.97 1543.79 1384.3 1540.13 Q1381.62 1536.44 1376.98 1536.44 Q1372.33 1536.44 1369.66 1540.13 Q1367.01 1543.79 1367.01 1550.25 Z\" fill=\"#000000\" fill-rule=\"evenodd\" fill-opacity=\"1\" /><path clip-path=\"url(#clip060)\" d=\"M 0 0 M1412.78 1536.5 Q1408.07 1536.5 1405.34 1540.19 Q1402.6 1543.85 1402.6 1550.25 Q1402.6 1556.65 1405.3 1560.34 Q1408.04 1564 1412.78 1564 Q1417.46 1564 1420.2 1560.31 Q1422.94 1556.62 1422.94 1550.25 Q1422.94 1543.92 1420.2 1540.23 Q1417.46 1536.5 1412.78 1536.5 M1412.78 1531.54 Q1420.42 1531.54 1424.78 1536.5 Q1429.14 1541.47 1429.14 1550.25 Q1429.14 1559 1424.78 1564 Q1420.42 1568.97 1412.78 1568.97 Q1405.11 1568.97 1400.75 1564 Q1396.42 1559 1396.42 1550.25 Q1396.42 1541.47 1400.75 1536.5 Q1405.11 1531.54 1412.78 1531.54 Z\" fill=\"#000000\" fill-rule=\"evenodd\" fill-opacity=\"1\" /><path clip-path=\"url(#clip060)\" d=\"M 0 0 M1458.01 1533.45 L1458.01 1538.98 Q1455.53 1537.71 1452.86 1537.07 Q1450.18 1536.44 1447.32 1536.44 Q1442.96 1536.44 1440.76 1537.77 Q1438.6 1539.11 1438.6 1541.79 Q1438.6 1543.82 1440.16 1545 Q1441.72 1546.15 1446.43 1547.2 L1448.43 1547.64 Q1454.67 1548.98 1457.28 1551.43 Q1459.92 1553.85 1459.92 1558.21 Q1459.92 1563.17 1455.97 1566.07 Q1452.06 1568.97 1445.18 1568.97 Q1442.32 1568.97 1439.2 1568.39 Q1436.11 1567.85 1432.68 1566.74 L1432.68 1560.69 Q1435.92 1562.38 1439.07 1563.24 Q1442.22 1564.07 1445.31 1564.07 Q1449.45 1564.07 1451.68 1562.66 Q1453.91 1561.23 1453.91 1558.65 Q1453.91 1556.27 1452.28 1554.99 Q1450.69 1553.72 1445.25 1552.54 L1443.21 1552.07 Q1437.77 1550.92 1435.35 1548.56 Q1432.93 1546.18 1432.93 1542.04 Q1432.93 1537.01 1436.5 1534.27 Q1440.06 1531.54 1446.62 1531.54 Q1449.86 1531.54 1452.73 1532.01 Q1455.59 1532.49 1458.01 1533.45 Z\" fill=\"#000000\" fill-rule=\"evenodd\" fill-opacity=\"1\" /><polyline clip-path=\"url(#clip062)\" style=\"stroke:#000000; stroke-width:2; stroke-opacity:0.1; fill:none\" points=\"\n  202.459,1384.24 2352.76,1384.24 \n  \"/>\n<polyline clip-path=\"url(#clip062)\" style=\"stroke:#000000; stroke-width:2; stroke-opacity:0.1; fill:none\" points=\"\n  202.459,1184.54 2352.76,1184.54 \n  \"/>\n<polyline clip-path=\"url(#clip062)\" style=\"stroke:#000000; stroke-width:2; stroke-opacity:0.1; fill:none\" points=\"\n  202.459,984.837 2352.76,984.837 \n  \"/>\n<polyline clip-path=\"url(#clip062)\" style=\"stroke:#000000; stroke-width:2; stroke-opacity:0.1; fill:none\" points=\"\n  202.459,785.137 2352.76,785.137 \n  \"/>\n<polyline clip-path=\"url(#clip062)\" style=\"stroke:#000000; stroke-width:2; stroke-opacity:0.1; fill:none\" points=\"\n  202.459,585.437 2352.76,585.437 \n  \"/>\n<polyline clip-path=\"url(#clip062)\" style=\"stroke:#000000; stroke-width:2; stroke-opacity:0.1; fill:none\" points=\"\n  202.459,385.736 2352.76,385.736 \n  \"/>\n<polyline clip-path=\"url(#clip062)\" style=\"stroke:#000000; stroke-width:2; stroke-opacity:0.1; fill:none\" points=\"\n  202.459,186.036 2352.76,186.036 \n  \"/>\n<polyline clip-path=\"url(#clip060)\" style=\"stroke:#000000; stroke-width:4; stroke-opacity:1; fill:none\" points=\"\n  202.459,1423.18 202.459,47.2441 \n  \"/>\n<polyline clip-path=\"url(#clip060)\" style=\"stroke:#000000; stroke-width:4; stroke-opacity:1; fill:none\" points=\"\n  202.459,1384.24 228.263,1384.24 \n  \"/>\n<polyline clip-path=\"url(#clip060)\" style=\"stroke:#000000; stroke-width:4; stroke-opacity:1; fill:none\" points=\"\n  202.459,1184.54 228.263,1184.54 \n  \"/>\n<polyline clip-path=\"url(#clip060)\" style=\"stroke:#000000; stroke-width:4; stroke-opacity:1; fill:none\" points=\"\n  202.459,984.837 228.263,984.837 \n  \"/>\n<polyline clip-path=\"url(#clip060)\" style=\"stroke:#000000; stroke-width:4; stroke-opacity:1; fill:none\" points=\"\n  202.459,785.137 228.263,785.137 \n  \"/>\n<polyline clip-path=\"url(#clip060)\" style=\"stroke:#000000; stroke-width:4; stroke-opacity:1; fill:none\" points=\"\n  202.459,585.437 228.263,585.437 \n  \"/>\n<polyline clip-path=\"url(#clip060)\" style=\"stroke:#000000; stroke-width:4; stroke-opacity:1; fill:none\" points=\"\n  202.459,385.736 228.263,385.736 \n  \"/>\n<polyline clip-path=\"url(#clip060)\" style=\"stroke:#000000; stroke-width:4; stroke-opacity:1; fill:none\" points=\"\n  202.459,186.036 228.263,186.036 \n  \"/>\n<path clip-path=\"url(#clip060)\" d=\"M 0 0 M154.515 1370.04 Q150.903 1370.04 149.075 1373.6 Q147.269 1377.14 147.269 1384.27 Q147.269 1391.38 149.075 1394.94 Q150.903 1398.49 154.515 1398.49 Q158.149 1398.49 159.954 1394.94 Q161.783 1391.38 161.783 1384.27 Q161.783 1377.14 159.954 1373.6 Q158.149 1370.04 154.515 1370.04 M154.515 1366.33 Q160.325 1366.33 163.38 1370.94 Q166.459 1375.52 166.459 1384.27 Q166.459 1393 163.38 1397.61 Q160.325 1402.19 154.515 1402.19 Q148.704 1402.19 145.626 1397.61 Q142.57 1393 142.57 1384.27 Q142.57 1375.52 145.626 1370.94 Q148.704 1366.33 154.515 1366.33 Z\" fill=\"#000000\" fill-rule=\"evenodd\" fill-opacity=\"1\" /><path clip-path=\"url(#clip060)\" d=\"M 0 0 M119.538 1197.88 L127.177 1197.88 L127.177 1171.52 L118.867 1173.18 L118.867 1168.92 L127.13 1167.26 L131.806 1167.26 L131.806 1197.88 L139.445 1197.88 L139.445 1201.82 L119.538 1201.82 L119.538 1197.88 Z\" fill=\"#000000\" fill-rule=\"evenodd\" fill-opacity=\"1\" /><path clip-path=\"url(#clip060)\" d=\"M 0 0 M154.515 1170.34 Q150.903 1170.34 149.075 1173.9 Q147.269 1177.44 147.269 1184.57 Q147.269 1191.68 149.075 1195.24 Q150.903 1198.79 154.515 1198.79 Q158.149 1198.79 159.954 1195.24 Q161.783 1191.68 161.783 1184.57 Q161.783 1177.44 159.954 1173.9 Q158.149 1170.34 154.515 1170.34 M154.515 1166.63 Q160.325 1166.63 163.38 1171.24 Q166.459 1175.82 166.459 1184.57 Q166.459 1193.3 163.38 1197.91 Q160.325 1202.49 154.515 1202.49 Q148.704 1202.49 145.626 1197.91 Q142.57 1193.3 142.57 1184.57 Q142.57 1175.82 145.626 1171.24 Q148.704 1166.63 154.515 1166.63 Z\" fill=\"#000000\" fill-rule=\"evenodd\" fill-opacity=\"1\" /><path clip-path=\"url(#clip060)\" d=\"M 0 0 M123.126 998.182 L139.445 998.182 L139.445 1002.12 L117.501 1002.12 L117.501 998.182 Q120.163 995.428 124.746 990.798 Q129.353 986.145 130.533 984.803 Q132.779 982.28 133.658 980.544 Q134.561 978.784 134.561 977.094 Q134.561 974.34 132.617 972.604 Q130.695 970.868 127.593 970.868 Q125.394 970.868 122.941 971.632 Q120.51 972.395 117.732 973.946 L117.732 969.224 Q120.556 968.09 123.01 967.511 Q125.464 966.932 127.501 966.932 Q132.871 966.932 136.066 969.618 Q139.26 972.303 139.26 976.794 Q139.26 978.923 138.45 980.844 Q137.663 982.743 135.556 985.335 Q134.978 986.006 131.876 989.224 Q128.774 992.418 123.126 998.182 Z\" fill=\"#000000\" fill-rule=\"evenodd\" fill-opacity=\"1\" /><path clip-path=\"url(#clip060)\" d=\"M 0 0 M154.515 970.636 Q150.903 970.636 149.075 974.201 Q147.269 977.743 147.269 984.872 Q147.269 991.979 149.075 995.543 Q150.903 999.085 154.515 999.085 Q158.149 999.085 159.954 995.543 Q161.783 991.979 161.783 984.872 Q161.783 977.743 159.954 974.201 Q158.149 970.636 154.515 970.636 M154.515 966.932 Q160.325 966.932 163.38 971.539 Q166.459 976.122 166.459 984.872 Q166.459 993.599 163.38 998.205 Q160.325 1002.79 154.515 1002.79 Q148.704 1002.79 145.626 998.205 Q142.57 993.599 142.57 984.872 Q142.57 976.122 145.626 971.539 Q148.704 966.932 154.515 966.932 Z\" fill=\"#000000\" fill-rule=\"evenodd\" fill-opacity=\"1\" /><path clip-path=\"url(#clip060)\" d=\"M 0 0 M132.316 783.783 Q135.672 784.5 137.547 786.769 Q139.445 789.038 139.445 792.371 Q139.445 797.487 135.927 800.287 Q132.408 803.088 125.927 803.088 Q123.751 803.088 121.436 802.649 Q119.144 802.232 116.691 801.375 L116.691 796.862 Q118.635 797.996 120.95 798.574 Q123.265 799.153 125.788 799.153 Q130.186 799.153 132.478 797.417 Q134.792 795.681 134.792 792.371 Q134.792 789.315 132.64 787.602 Q130.51 785.866 126.691 785.866 L122.663 785.866 L122.663 782.024 L126.876 782.024 Q130.325 782.024 132.154 780.658 Q133.982 779.269 133.982 776.676 Q133.982 774.014 132.084 772.602 Q130.209 771.167 126.691 771.167 Q124.769 771.167 122.57 771.584 Q120.371 772.001 117.732 772.88 L117.732 768.714 Q120.394 767.973 122.709 767.602 Q125.047 767.232 127.107 767.232 Q132.431 767.232 135.533 769.663 Q138.635 772.07 138.635 776.19 Q138.635 779.061 136.992 781.051 Q135.348 783.019 132.316 783.783 Z\" fill=\"#000000\" fill-rule=\"evenodd\" fill-opacity=\"1\" /><path clip-path=\"url(#clip060)\" d=\"M 0 0 M154.515 770.936 Q150.903 770.936 149.075 774.501 Q147.269 778.042 147.269 785.172 Q147.269 792.278 149.075 795.843 Q150.903 799.385 154.515 799.385 Q158.149 799.385 159.954 795.843 Q161.783 792.278 161.783 785.172 Q161.783 778.042 159.954 774.501 Q158.149 770.936 154.515 770.936 M154.515 767.232 Q160.325 767.232 163.38 771.839 Q166.459 776.422 166.459 785.172 Q166.459 793.899 163.38 798.505 Q160.325 803.088 154.515 803.088 Q148.704 803.088 145.626 798.505 Q142.57 793.899 142.57 785.172 Q142.57 776.422 145.626 771.839 Q148.704 767.232 154.515 767.232 Z\" fill=\"#000000\" fill-rule=\"evenodd\" fill-opacity=\"1\" /><path clip-path=\"url(#clip060)\" d=\"M 0 0 M129.862 572.231 L118.056 590.68 L129.862 590.68 L129.862 572.231 M128.635 568.157 L134.515 568.157 L134.515 590.68 L139.445 590.68 L139.445 594.569 L134.515 594.569 L134.515 602.717 L129.862 602.717 L129.862 594.569 L114.26 594.569 L114.26 590.055 L128.635 568.157 Z\" fill=\"#000000\" fill-rule=\"evenodd\" fill-opacity=\"1\" /><path clip-path=\"url(#clip060)\" d=\"M 0 0 M154.515 571.235 Q150.903 571.235 149.075 574.8 Q147.269 578.342 147.269 585.471 Q147.269 592.578 149.075 596.143 Q150.903 599.684 154.515 599.684 Q158.149 599.684 159.954 596.143 Q161.783 592.578 161.783 585.471 Q161.783 578.342 159.954 574.8 Q158.149 571.235 154.515 571.235 M154.515 567.532 Q160.325 567.532 163.38 572.138 Q166.459 576.721 166.459 585.471 Q166.459 594.198 163.38 598.805 Q160.325 603.388 154.515 603.388 Q148.704 603.388 145.626 598.805 Q142.57 594.198 142.57 585.471 Q142.57 576.721 145.626 572.138 Q148.704 567.532 154.515 567.532 Z\" fill=\"#000000\" fill-rule=\"evenodd\" fill-opacity=\"1\" /><path clip-path=\"url(#clip060)\" d=\"M 0 0 M118.543 368.456 L136.899 368.456 L136.899 372.391 L122.825 372.391 L122.825 380.864 Q123.843 380.516 124.862 380.354 Q125.88 380.169 126.899 380.169 Q132.686 380.169 136.066 383.34 Q139.445 386.512 139.445 391.928 Q139.445 397.507 135.973 400.609 Q132.501 403.688 126.181 403.688 Q124.005 403.688 121.737 403.317 Q119.492 402.947 117.084 402.206 L117.084 397.507 Q119.168 398.641 121.39 399.197 Q123.612 399.752 126.089 399.752 Q130.093 399.752 132.431 397.646 Q134.769 395.539 134.769 391.928 Q134.769 388.317 132.431 386.211 Q130.093 384.104 126.089 384.104 Q124.214 384.104 122.339 384.521 Q120.487 384.938 118.543 385.817 L118.543 368.456 Z\" fill=\"#000000\" fill-rule=\"evenodd\" fill-opacity=\"1\" /><path clip-path=\"url(#clip060)\" d=\"M 0 0 M154.515 371.535 Q150.903 371.535 149.075 375.1 Q147.269 378.641 147.269 385.771 Q147.269 392.877 149.075 396.442 Q150.903 399.984 154.515 399.984 Q158.149 399.984 159.954 396.442 Q161.783 392.877 161.783 385.771 Q161.783 378.641 159.954 375.1 Q158.149 371.535 154.515 371.535 M154.515 367.831 Q160.325 367.831 163.38 372.438 Q166.459 377.021 166.459 385.771 Q166.459 394.498 163.38 399.104 Q160.325 403.688 154.515 403.688 Q148.704 403.688 145.626 399.104 Q142.57 394.498 142.57 385.771 Q142.57 377.021 145.626 372.438 Q148.704 367.831 154.515 367.831 Z\" fill=\"#000000\" fill-rule=\"evenodd\" fill-opacity=\"1\" /><path clip-path=\"url(#clip060)\" d=\"M 0 0 M127.917 184.172 Q124.769 184.172 122.918 186.325 Q121.089 188.478 121.089 192.228 Q121.089 195.955 122.918 198.131 Q124.769 200.283 127.917 200.283 Q131.066 200.283 132.894 198.131 Q134.746 195.955 134.746 192.228 Q134.746 188.478 132.894 186.325 Q131.066 184.172 127.917 184.172 M137.2 169.52 L137.2 173.779 Q135.441 172.946 133.635 172.506 Q131.853 172.066 130.093 172.066 Q125.464 172.066 123.01 175.191 Q120.58 178.316 120.232 184.635 Q121.598 182.622 123.658 181.557 Q125.718 180.469 128.195 180.469 Q133.404 180.469 136.413 183.64 Q139.445 186.788 139.445 192.228 Q139.445 197.552 136.297 200.77 Q133.149 203.987 127.917 203.987 Q121.922 203.987 118.751 199.404 Q115.58 194.797 115.58 186.071 Q115.58 177.876 119.468 173.015 Q123.357 168.131 129.908 168.131 Q131.667 168.131 133.45 168.478 Q135.255 168.825 137.2 169.52 Z\" fill=\"#000000\" fill-rule=\"evenodd\" fill-opacity=\"1\" /><path clip-path=\"url(#clip060)\" d=\"M 0 0 M154.515 171.835 Q150.903 171.835 149.075 175.399 Q147.269 178.941 147.269 186.071 Q147.269 193.177 149.075 196.742 Q150.903 200.283 154.515 200.283 Q158.149 200.283 159.954 196.742 Q161.783 193.177 161.783 186.071 Q161.783 178.941 159.954 175.399 Q158.149 171.835 154.515 171.835 M154.515 168.131 Q160.325 168.131 163.38 172.737 Q166.459 177.321 166.459 186.071 Q166.459 194.797 163.38 199.404 Q160.325 203.987 154.515 203.987 Q148.704 203.987 145.626 199.404 Q142.57 194.797 142.57 186.071 Q142.57 177.321 145.626 172.737 Q148.704 168.131 154.515 168.131 Z\" fill=\"#000000\" fill-rule=\"evenodd\" fill-opacity=\"1\" /><path clip-path=\"url(#clip060)\" d=\"M 0 0 M16.4842 888.037 L16.4842 860.728 L21.895 860.728 L21.895 881.607 L35.8996 881.607 L35.8996 862.765 L41.3104 862.765 L41.3104 881.607 L64.0042 881.607 L64.0042 888.037 L16.4842 888.037 Z\" fill=\"#000000\" fill-rule=\"evenodd\" fill-opacity=\"1\" /><path clip-path=\"url(#clip060)\" d=\"M 0 0 M33.8307 838.671 Q33.2578 839.657 33.0032 840.835 Q32.7167 841.981 32.7167 843.381 Q32.7167 848.346 35.9632 851.02 Q39.1779 853.662 45.2253 853.662 L64.0042 853.662 L64.0042 859.55 L28.3562 859.55 L28.3562 853.662 L33.8944 853.662 Q30.6479 851.816 29.0883 848.856 Q27.4968 845.896 27.4968 841.662 Q27.4968 841.058 27.5923 840.326 Q27.656 839.594 27.8151 838.702 L33.8307 838.671 Z\" fill=\"#000000\" fill-rule=\"evenodd\" fill-opacity=\"1\" /><path clip-path=\"url(#clip060)\" d=\"M 0 0 M44.7161 803.468 L47.5806 803.468 L47.5806 830.395 Q53.6281 830.013 56.8109 826.767 Q59.9619 823.488 59.9619 817.664 Q59.9619 814.29 59.1344 811.139 Q58.3069 807.956 56.6518 804.837 L62.1899 804.837 Q63.5267 807.988 64.227 811.298 Q64.9272 814.608 64.9272 818.014 Q64.9272 826.544 59.9619 831.541 Q54.9967 836.506 46.5303 836.506 Q37.7774 836.506 32.6531 831.796 Q27.4968 827.053 27.4968 819.032 Q27.4968 811.839 32.1438 807.67 Q36.7589 803.468 44.7161 803.468 M42.9973 809.325 Q38.1912 809.388 35.3266 812.03 Q32.4621 814.64 32.4621 818.969 Q32.4621 823.87 35.2312 826.83 Q38.0002 829.759 43.0292 830.204 L42.9973 809.325 Z\" fill=\"#000000\" fill-rule=\"evenodd\" fill-opacity=\"1\" /><path clip-path=\"url(#clip060)\" d=\"M 0 0 M46.212 793.824 Q52.6732 793.824 56.3653 791.182 Q60.0256 788.509 60.0256 783.862 Q60.0256 779.215 56.3653 776.541 Q52.6732 773.868 46.212 773.868 Q39.7508 773.868 36.0905 776.541 Q32.3984 779.215 32.3984 783.862 Q32.3984 788.509 36.0905 791.182 Q39.7508 793.824 46.212 793.824 M58.657 773.868 Q61.8398 775.714 63.3994 778.547 Q64.9272 781.347 64.9272 785.294 Q64.9272 791.755 59.771 795.829 Q54.6147 799.872 46.212 799.872 Q37.8093 799.872 32.6531 795.829 Q27.4968 791.755 27.4968 785.294 Q27.4968 781.347 29.0564 778.547 Q30.5842 775.714 33.7671 773.868 L28.3562 773.868 L28.3562 768.011 L77.5631 768.011 L77.5631 773.868 L58.657 773.868 Z\" fill=\"#000000\" fill-rule=\"evenodd\" fill-opacity=\"1\" /><path clip-path=\"url(#clip060)\" d=\"M 0 0 M49.9359 762.473 L28.3562 762.473 L28.3562 756.617 L49.7131 756.617 Q54.7739 756.617 57.3202 754.643 Q59.8346 752.67 59.8346 748.723 Q59.8346 743.981 56.8109 741.243 Q53.7872 738.474 48.5673 738.474 L28.3562 738.474 L28.3562 732.618 L64.0042 732.618 L64.0042 738.474 L58.5296 738.474 Q61.7762 740.607 63.3676 743.44 Q64.9272 746.241 64.9272 749.964 Q64.9272 756.107 61.1078 759.29 Q57.2883 762.473 49.9359 762.473 M27.4968 747.736 L27.4968 747.736 Z\" fill=\"#000000\" fill-rule=\"evenodd\" fill-opacity=\"1\" /><path clip-path=\"url(#clip060)\" d=\"M 0 0 M44.7161 695.983 L47.5806 695.983 L47.5806 722.91 Q53.6281 722.528 56.8109 719.282 Q59.9619 716.003 59.9619 710.179 Q59.9619 706.805 59.1344 703.654 Q58.3069 700.471 56.6518 697.352 L62.1899 697.352 Q63.5267 700.503 64.227 703.813 Q64.9272 707.123 64.9272 710.529 Q64.9272 719.059 59.9619 724.056 Q54.9967 729.021 46.5303 729.021 Q37.7774 729.021 32.6531 724.311 Q27.4968 719.568 27.4968 711.547 Q27.4968 704.354 32.1438 700.185 Q36.7589 695.983 44.7161 695.983 M42.9973 701.84 Q38.1912 701.903 35.3266 704.545 Q32.4621 707.155 32.4621 711.484 Q32.4621 716.385 35.2312 719.345 Q38.0002 722.274 43.0292 722.719 L42.9973 701.84 M11.869 714.253 L11.869 709.542 L23.8365 701.744 L23.8365 706.168 L16.0386 711.898 L23.8365 717.627 L23.8365 722.051 L11.869 714.253 Z\" fill=\"#000000\" fill-rule=\"evenodd\" fill-opacity=\"1\" /><path clip-path=\"url(#clip060)\" d=\"M 0 0 M42.4881 660.208 L64.0042 660.208 L64.0042 666.064 L42.679 666.064 Q37.6183 666.064 35.1038 668.038 Q32.5894 670.011 32.5894 673.958 Q32.5894 678.7 35.6131 681.438 Q38.6368 684.175 43.8567 684.175 L64.0042 684.175 L64.0042 690.063 L28.3562 690.063 L28.3562 684.175 L33.8944 684.175 Q30.6797 682.074 29.0883 679.241 Q27.4968 676.377 27.4968 672.653 Q27.4968 666.51 31.3163 663.359 Q35.1038 660.208 42.4881 660.208 Z\" fill=\"#000000\" fill-rule=\"evenodd\" fill-opacity=\"1\" /><path clip-path=\"url(#clip060)\" d=\"M 0 0 M29.7248 628.411 L35.1993 628.411 Q33.8307 630.894 33.1623 633.408 Q32.4621 635.891 32.4621 638.437 Q32.4621 644.135 36.0905 647.286 Q39.6872 650.437 46.212 650.437 Q52.7369 650.437 56.3653 647.286 Q59.9619 644.135 59.9619 638.437 Q59.9619 635.891 59.2935 633.408 Q58.5933 630.894 57.2247 628.411 L62.6355 628.411 Q63.7814 630.862 64.3543 633.504 Q64.9272 636.114 64.9272 639.074 Q64.9272 647.127 59.8664 651.869 Q54.8057 656.611 46.212 656.611 Q37.491 656.611 32.4939 651.837 Q27.4968 647.031 27.4968 638.692 Q27.4968 635.987 28.0697 633.408 Q28.6108 630.83 29.7248 628.411 Z\" fill=\"#000000\" fill-rule=\"evenodd\" fill-opacity=\"1\" /><path clip-path=\"url(#clip060)\" d=\"M 0 0 M28.3562 622.268 L28.3562 616.412 L64.0042 616.412 L64.0042 622.268 L28.3562 622.268 M14.479 622.268 L14.479 616.412 L21.895 616.412 L21.895 622.268 L14.479 622.268 Z\" fill=\"#000000\" fill-rule=\"evenodd\" fill-opacity=\"1\" /><path clip-path=\"url(#clip060)\" d=\"M 0 0 M46.0847 594.068 Q46.0847 601.166 47.7079 603.903 Q49.3312 606.641 53.2461 606.641 Q56.3653 606.641 58.2114 604.604 Q60.0256 602.535 60.0256 599.002 Q60.0256 594.132 56.5881 591.204 Q53.1188 588.244 47.3897 588.244 L46.0847 588.244 L46.0847 594.068 M43.6657 582.387 L64.0042 582.387 L64.0042 588.244 L58.5933 588.244 Q61.8398 590.249 63.3994 593.241 Q64.9272 596.233 64.9272 600.561 Q64.9272 606.036 61.8716 609.282 Q58.7843 612.497 53.6281 612.497 Q47.6125 612.497 44.5569 608.487 Q41.5014 604.444 41.5014 596.455 L41.5014 588.244 L40.9285 588.244 Q36.8862 588.244 34.6901 590.917 Q32.4621 593.559 32.4621 598.365 Q32.4621 601.421 33.1941 604.317 Q33.9262 607.214 35.3903 609.887 L29.9795 609.887 Q28.7381 606.672 28.1334 603.649 Q27.4968 600.625 27.4968 597.76 Q27.4968 590.026 31.5072 586.207 Q35.5176 582.387 43.6657 582.387 Z\" fill=\"#000000\" fill-rule=\"evenodd\" fill-opacity=\"1\" /><path clip-path=\"url(#clip062)\" d=\"\nM557.906 1184.54 L557.906 1384.24 L585.633 1384.24 L585.633 1184.54 L557.906 1184.54 L557.906 1184.54  Z\n  \" fill=\"#009af9\" fill-rule=\"evenodd\" fill-opacity=\"1\"/>\n<polyline clip-path=\"url(#clip062)\" style=\"stroke:#000000; stroke-width:4; stroke-opacity:1; fill:none\" points=\"\n  557.906,1184.54 557.906,1384.24 585.633,1384.24 585.633,1184.54 557.906,1184.54 \n  \"/>\n<path clip-path=\"url(#clip062)\" d=\"\nM585.633 665.317 L585.633 1384.24 L613.361 1384.24 L613.361 665.317 L585.633 665.317 L585.633 665.317  Z\n  \" fill=\"#009af9\" fill-rule=\"evenodd\" fill-opacity=\"1\"/>\n<polyline clip-path=\"url(#clip062)\" style=\"stroke:#000000; stroke-width:4; stroke-opacity:1; fill:none\" points=\"\n  585.633,665.317 585.633,1384.24 613.361,1384.24 613.361,665.317 585.633,665.317 \n  \"/>\n<path clip-path=\"url(#clip062)\" d=\"\nM613.361 545.497 L613.361 1384.24 L641.088 1384.24 L641.088 545.497 L613.361 545.497 L613.361 545.497  Z\n  \" fill=\"#009af9\" fill-rule=\"evenodd\" fill-opacity=\"1\"/>\n<polyline clip-path=\"url(#clip062)\" style=\"stroke:#000000; stroke-width:4; stroke-opacity:1; fill:none\" points=\"\n  613.361,545.497 613.361,1384.24 641.088,1384.24 641.088,545.497 613.361,545.497 \n  \"/>\n<path clip-path=\"url(#clip062)\" d=\"\nM641.088 86.1857 L641.088 1384.24 L668.816 1384.24 L668.816 86.1857 L641.088 86.1857 L641.088 86.1857  Z\n  \" fill=\"#009af9\" fill-rule=\"evenodd\" fill-opacity=\"1\"/>\n<polyline clip-path=\"url(#clip062)\" style=\"stroke:#000000; stroke-width:4; stroke-opacity:1; fill:none\" points=\"\n  641.088,86.1857 641.088,1384.24 668.816,1384.24 668.816,86.1857 641.088,86.1857 \n  \"/>\n<path clip-path=\"url(#clip062)\" d=\"\nM668.816 385.736 L668.816 1384.24 L696.543 1384.24 L696.543 385.736 L668.816 385.736 L668.816 385.736  Z\n  \" fill=\"#009af9\" fill-rule=\"evenodd\" fill-opacity=\"1\"/>\n<polyline clip-path=\"url(#clip062)\" style=\"stroke:#000000; stroke-width:4; stroke-opacity:1; fill:none\" points=\"\n  668.816,385.736 668.816,1384.24 696.543,1384.24 696.543,385.736 668.816,385.736 \n  \"/>\n<path clip-path=\"url(#clip062)\" d=\"\nM696.543 865.017 L696.543 1384.24 L724.27 1384.24 L724.27 865.017 L696.543 865.017 L696.543 865.017  Z\n  \" fill=\"#009af9\" fill-rule=\"evenodd\" fill-opacity=\"1\"/>\n<polyline clip-path=\"url(#clip062)\" style=\"stroke:#000000; stroke-width:4; stroke-opacity:1; fill:none\" points=\"\n  696.543,865.017 696.543,1384.24 724.27,1384.24 724.27,865.017 696.543,865.017 \n  \"/>\n<path clip-path=\"url(#clip062)\" d=\"\nM724.27 1244.45 L724.27 1384.24 L751.998 1384.24 L751.998 1244.45 L724.27 1244.45 L724.27 1244.45  Z\n  \" fill=\"#009af9\" fill-rule=\"evenodd\" fill-opacity=\"1\"/>\n<polyline clip-path=\"url(#clip062)\" style=\"stroke:#000000; stroke-width:4; stroke-opacity:1; fill:none\" points=\"\n  724.27,1244.45 724.27,1384.24 751.998,1384.24 751.998,1244.45 724.27,1244.45 \n  \"/>\n<path clip-path=\"url(#clip062)\" d=\"\nM751.998 1204.51 L751.998 1384.24 L779.725 1384.24 L779.725 1204.51 L751.998 1204.51 L751.998 1204.51  Z\n  \" fill=\"#009af9\" fill-rule=\"evenodd\" fill-opacity=\"1\"/>\n<polyline clip-path=\"url(#clip062)\" style=\"stroke:#000000; stroke-width:4; stroke-opacity:1; fill:none\" points=\"\n  751.998,1204.51 751.998,1384.24 779.725,1384.24 779.725,1204.51 751.998,1204.51 \n  \"/>\n<path clip-path=\"url(#clip062)\" d=\"\nM779.725 1264.42 L779.725 1384.24 L807.452 1384.24 L807.452 1264.42 L779.725 1264.42 L779.725 1264.42  Z\n  \" fill=\"#009af9\" fill-rule=\"evenodd\" fill-opacity=\"1\"/>\n<polyline clip-path=\"url(#clip062)\" style=\"stroke:#000000; stroke-width:4; stroke-opacity:1; fill:none\" points=\"\n  779.725,1264.42 779.725,1384.24 807.452,1384.24 807.452,1264.42 779.725,1264.42 \n  \"/>\n<path clip-path=\"url(#clip062)\" d=\"\nM807.452 1224.48 L807.452 1384.24 L835.18 1384.24 L835.18 1224.48 L807.452 1224.48 L807.452 1224.48  Z\n  \" fill=\"#009af9\" fill-rule=\"evenodd\" fill-opacity=\"1\"/>\n<polyline clip-path=\"url(#clip062)\" style=\"stroke:#000000; stroke-width:4; stroke-opacity:1; fill:none\" points=\"\n  807.452,1224.48 807.452,1384.24 835.18,1384.24 835.18,1224.48 807.452,1224.48 \n  \"/>\n<path clip-path=\"url(#clip062)\" d=\"\nM835.18 1264.42 L835.18 1384.24 L862.907 1384.24 L862.907 1264.42 L835.18 1264.42 L835.18 1264.42  Z\n  \" fill=\"#009af9\" fill-rule=\"evenodd\" fill-opacity=\"1\"/>\n<polyline clip-path=\"url(#clip062)\" style=\"stroke:#000000; stroke-width:4; stroke-opacity:1; fill:none\" points=\"\n  835.18,1264.42 835.18,1384.24 862.907,1384.24 862.907,1264.42 835.18,1264.42 \n  \"/>\n<path clip-path=\"url(#clip062)\" d=\"\nM862.907 1264.42 L862.907 1384.24 L890.635 1384.24 L890.635 1264.42 L862.907 1264.42 L862.907 1264.42  Z\n  \" fill=\"#009af9\" fill-rule=\"evenodd\" fill-opacity=\"1\"/>\n<polyline clip-path=\"url(#clip062)\" style=\"stroke:#000000; stroke-width:4; stroke-opacity:1; fill:none\" points=\"\n  862.907,1264.42 862.907,1384.24 890.635,1384.24 890.635,1264.42 862.907,1264.42 \n  \"/>\n<path clip-path=\"url(#clip062)\" d=\"\nM890.635 1284.39 L890.635 1384.24 L918.362 1384.24 L918.362 1284.39 L890.635 1284.39 L890.635 1284.39  Z\n  \" fill=\"#009af9\" fill-rule=\"evenodd\" fill-opacity=\"1\"/>\n<polyline clip-path=\"url(#clip062)\" style=\"stroke:#000000; stroke-width:4; stroke-opacity:1; fill:none\" points=\"\n  890.635,1284.39 890.635,1384.24 918.362,1384.24 918.362,1284.39 890.635,1284.39 \n  \"/>\n<path clip-path=\"url(#clip062)\" d=\"\nM918.362 1304.36 L918.362 1384.24 L946.089 1384.24 L946.089 1304.36 L918.362 1304.36 L918.362 1304.36  Z\n  \" fill=\"#009af9\" fill-rule=\"evenodd\" fill-opacity=\"1\"/>\n<polyline clip-path=\"url(#clip062)\" style=\"stroke:#000000; stroke-width:4; stroke-opacity:1; fill:none\" points=\"\n  918.362,1304.36 918.362,1384.24 946.089,1384.24 946.089,1304.36 918.362,1304.36 \n  \"/>\n<path clip-path=\"url(#clip062)\" d=\"\nM946.089 1264.42 L946.089 1384.24 L973.817 1384.24 L973.817 1264.42 L946.089 1264.42 L946.089 1264.42  Z\n  \" fill=\"#009af9\" fill-rule=\"evenodd\" fill-opacity=\"1\"/>\n<polyline clip-path=\"url(#clip062)\" style=\"stroke:#000000; stroke-width:4; stroke-opacity:1; fill:none\" points=\"\n  946.089,1264.42 946.089,1384.24 973.817,1384.24 973.817,1264.42 946.089,1264.42 \n  \"/>\n<path clip-path=\"url(#clip062)\" d=\"\nM973.817 1344.3 L973.817 1384.24 L1001.54 1384.24 L1001.54 1344.3 L973.817 1344.3 L973.817 1344.3  Z\n  \" fill=\"#009af9\" fill-rule=\"evenodd\" fill-opacity=\"1\"/>\n<polyline clip-path=\"url(#clip062)\" style=\"stroke:#000000; stroke-width:4; stroke-opacity:1; fill:none\" points=\"\n  973.817,1344.3 973.817,1384.24 1001.54,1384.24 1001.54,1344.3 973.817,1344.3 \n  \"/>\n<path clip-path=\"url(#clip062)\" d=\"\nM1001.54 1324.33 L1001.54 1384.24 L1029.27 1384.24 L1029.27 1324.33 L1001.54 1324.33 L1001.54 1324.33  Z\n  \" fill=\"#009af9\" fill-rule=\"evenodd\" fill-opacity=\"1\"/>\n<polyline clip-path=\"url(#clip062)\" style=\"stroke:#000000; stroke-width:4; stroke-opacity:1; fill:none\" points=\"\n  1001.54,1324.33 1001.54,1384.24 1029.27,1384.24 1029.27,1324.33 1001.54,1324.33 \n  \"/>\n<path clip-path=\"url(#clip062)\" d=\"\nM1029.27 1364.27 L1029.27 1384.24 L1057 1384.24 L1057 1364.27 L1029.27 1364.27 L1029.27 1364.27  Z\n  \" fill=\"#009af9\" fill-rule=\"evenodd\" fill-opacity=\"1\"/>\n<polyline clip-path=\"url(#clip062)\" style=\"stroke:#000000; stroke-width:4; stroke-opacity:1; fill:none\" points=\"\n  1029.27,1364.27 1029.27,1384.24 1057,1384.24 1057,1364.27 1029.27,1364.27 \n  \"/>\n<path clip-path=\"url(#clip062)\" d=\"\nM1057 1244.45 L1057 1384.24 L1084.73 1384.24 L1084.73 1244.45 L1057 1244.45 L1057 1244.45  Z\n  \" fill=\"#009af9\" fill-rule=\"evenodd\" fill-opacity=\"1\"/>\n<polyline clip-path=\"url(#clip062)\" style=\"stroke:#000000; stroke-width:4; stroke-opacity:1; fill:none\" points=\"\n  1057,1244.45 1057,1384.24 1084.73,1384.24 1084.73,1244.45 1057,1244.45 \n  \"/>\n<path clip-path=\"url(#clip062)\" d=\"\nM1084.73 1364.27 L1084.73 1384.24 L1112.45 1384.24 L1112.45 1364.27 L1084.73 1364.27 L1084.73 1364.27  Z\n  \" fill=\"#009af9\" fill-rule=\"evenodd\" fill-opacity=\"1\"/>\n<polyline clip-path=\"url(#clip062)\" style=\"stroke:#000000; stroke-width:4; stroke-opacity:1; fill:none\" points=\"\n  1084.73,1364.27 1084.73,1384.24 1112.45,1384.24 1112.45,1364.27 1084.73,1364.27 \n  \"/>\n<path clip-path=\"url(#clip062)\" d=\"\nM1112.45 1364.27 L1112.45 1384.24 L1140.18 1384.24 L1140.18 1364.27 L1112.45 1364.27 L1112.45 1364.27  Z\n  \" fill=\"#009af9\" fill-rule=\"evenodd\" fill-opacity=\"1\"/>\n<polyline clip-path=\"url(#clip062)\" style=\"stroke:#000000; stroke-width:4; stroke-opacity:1; fill:none\" points=\"\n  1112.45,1364.27 1112.45,1384.24 1140.18,1384.24 1140.18,1364.27 1112.45,1364.27 \n  \"/>\n<path clip-path=\"url(#clip062)\" d=\"\nM1140.18 1344.3 L1140.18 1384.24 L1167.91 1384.24 L1167.91 1344.3 L1140.18 1344.3 L1140.18 1344.3  Z\n  \" fill=\"#009af9\" fill-rule=\"evenodd\" fill-opacity=\"1\"/>\n<polyline clip-path=\"url(#clip062)\" style=\"stroke:#000000; stroke-width:4; stroke-opacity:1; fill:none\" points=\"\n  1140.18,1344.3 1140.18,1384.24 1167.91,1384.24 1167.91,1344.3 1140.18,1344.3 \n  \"/>\n<path clip-path=\"url(#clip062)\" d=\"\nM1167.91 1384.24 L1167.91 1384.24 L1195.64 1384.24 L1195.64 1384.24 L1167.91 1384.24 L1167.91 1384.24  Z\n  \" fill=\"#009af9\" fill-rule=\"evenodd\" fill-opacity=\"1\"/>\n<polyline clip-path=\"url(#clip062)\" style=\"stroke:#000000; stroke-width:4; stroke-opacity:1; fill:none\" points=\"\n  1167.91,1384.24 1167.91,1384.24 1195.64,1384.24 1167.91,1384.24 \n  \"/>\n<path clip-path=\"url(#clip062)\" d=\"\nM1195.64 1344.3 L1195.64 1384.24 L1223.36 1384.24 L1223.36 1344.3 L1195.64 1344.3 L1195.64 1344.3  Z\n  \" fill=\"#009af9\" fill-rule=\"evenodd\" fill-opacity=\"1\"/>\n<polyline clip-path=\"url(#clip062)\" style=\"stroke:#000000; stroke-width:4; stroke-opacity:1; fill:none\" points=\"\n  1195.64,1344.3 1195.64,1384.24 1223.36,1384.24 1223.36,1344.3 1195.64,1344.3 \n  \"/>\n<path clip-path=\"url(#clip062)\" d=\"\nM1223.36 1364.27 L1223.36 1384.24 L1251.09 1384.24 L1251.09 1364.27 L1223.36 1364.27 L1223.36 1364.27  Z\n  \" fill=\"#009af9\" fill-rule=\"evenodd\" fill-opacity=\"1\"/>\n<polyline clip-path=\"url(#clip062)\" style=\"stroke:#000000; stroke-width:4; stroke-opacity:1; fill:none\" points=\"\n  1223.36,1364.27 1223.36,1384.24 1251.09,1384.24 1251.09,1364.27 1223.36,1364.27 \n  \"/>\n<path clip-path=\"url(#clip062)\" d=\"\nM1251.09 1344.3 L1251.09 1384.24 L1278.82 1384.24 L1278.82 1344.3 L1251.09 1344.3 L1251.09 1344.3  Z\n  \" fill=\"#009af9\" fill-rule=\"evenodd\" fill-opacity=\"1\"/>\n<polyline clip-path=\"url(#clip062)\" style=\"stroke:#000000; stroke-width:4; stroke-opacity:1; fill:none\" points=\"\n  1251.09,1344.3 1251.09,1384.24 1278.82,1384.24 1278.82,1344.3 1251.09,1344.3 \n  \"/>\n<path clip-path=\"url(#clip062)\" d=\"\nM1278.82 1284.39 L1278.82 1384.24 L1306.55 1384.24 L1306.55 1284.39 L1278.82 1284.39 L1278.82 1284.39  Z\n  \" fill=\"#009af9\" fill-rule=\"evenodd\" fill-opacity=\"1\"/>\n<polyline clip-path=\"url(#clip062)\" style=\"stroke:#000000; stroke-width:4; stroke-opacity:1; fill:none\" points=\"\n  1278.82,1284.39 1278.82,1384.24 1306.55,1384.24 1306.55,1284.39 1278.82,1284.39 \n  \"/>\n<path clip-path=\"url(#clip062)\" d=\"\nM1306.55 1304.36 L1306.55 1384.24 L1334.27 1384.24 L1334.27 1304.36 L1306.55 1304.36 L1306.55 1304.36  Z\n  \" fill=\"#009af9\" fill-rule=\"evenodd\" fill-opacity=\"1\"/>\n<polyline clip-path=\"url(#clip062)\" style=\"stroke:#000000; stroke-width:4; stroke-opacity:1; fill:none\" points=\"\n  1306.55,1304.36 1306.55,1384.24 1334.27,1384.24 1334.27,1304.36 1306.55,1304.36 \n  \"/>\n<path clip-path=\"url(#clip062)\" d=\"\nM1334.27 1344.3 L1334.27 1384.24 L1362 1384.24 L1362 1344.3 L1334.27 1344.3 L1334.27 1344.3  Z\n  \" fill=\"#009af9\" fill-rule=\"evenodd\" fill-opacity=\"1\"/>\n<polyline clip-path=\"url(#clip062)\" style=\"stroke:#000000; stroke-width:4; stroke-opacity:1; fill:none\" points=\"\n  1334.27,1344.3 1334.27,1384.24 1362,1384.24 1362,1344.3 1334.27,1344.3 \n  \"/>\n<path clip-path=\"url(#clip062)\" d=\"\nM1362 1344.3 L1362 1384.24 L1389.73 1384.24 L1389.73 1344.3 L1362 1344.3 L1362 1344.3  Z\n  \" fill=\"#009af9\" fill-rule=\"evenodd\" fill-opacity=\"1\"/>\n<polyline clip-path=\"url(#clip062)\" style=\"stroke:#000000; stroke-width:4; stroke-opacity:1; fill:none\" points=\"\n  1362,1344.3 1362,1384.24 1389.73,1384.24 1389.73,1344.3 1362,1344.3 \n  \"/>\n<path clip-path=\"url(#clip062)\" d=\"\nM1389.73 1384.24 L1389.73 1384.24 L1417.45 1384.24 L1417.45 1384.24 L1389.73 1384.24 L1389.73 1384.24  Z\n  \" fill=\"#009af9\" fill-rule=\"evenodd\" fill-opacity=\"1\"/>\n<polyline clip-path=\"url(#clip062)\" style=\"stroke:#000000; stroke-width:4; stroke-opacity:1; fill:none\" points=\"\n  1389.73,1384.24 1389.73,1384.24 1417.45,1384.24 1389.73,1384.24 \n  \"/>\n<path clip-path=\"url(#clip062)\" d=\"\nM1417.45 1364.27 L1417.45 1384.24 L1445.18 1384.24 L1445.18 1364.27 L1417.45 1364.27 L1417.45 1364.27  Z\n  \" fill=\"#009af9\" fill-rule=\"evenodd\" fill-opacity=\"1\"/>\n<polyline clip-path=\"url(#clip062)\" style=\"stroke:#000000; stroke-width:4; stroke-opacity:1; fill:none\" points=\"\n  1417.45,1364.27 1417.45,1384.24 1445.18,1384.24 1445.18,1364.27 1417.45,1364.27 \n  \"/>\n<path clip-path=\"url(#clip062)\" d=\"\nM1445.18 1384.24 L1445.18 1384.24 L1472.91 1384.24 L1472.91 1384.24 L1445.18 1384.24 L1445.18 1384.24  Z\n  \" fill=\"#009af9\" fill-rule=\"evenodd\" fill-opacity=\"1\"/>\n<polyline clip-path=\"url(#clip062)\" style=\"stroke:#000000; stroke-width:4; stroke-opacity:1; fill:none\" points=\"\n  1445.18,1384.24 1445.18,1384.24 1472.91,1384.24 1445.18,1384.24 \n  \"/>\n<path clip-path=\"url(#clip062)\" d=\"\nM1472.91 1384.24 L1472.91 1384.24 L1500.64 1384.24 L1500.64 1384.24 L1472.91 1384.24 L1472.91 1384.24  Z\n  \" fill=\"#009af9\" fill-rule=\"evenodd\" fill-opacity=\"1\"/>\n<polyline clip-path=\"url(#clip062)\" style=\"stroke:#000000; stroke-width:4; stroke-opacity:1; fill:none\" points=\"\n  1472.91,1384.24 1472.91,1384.24 1500.64,1384.24 1472.91,1384.24 \n  \"/>\n<path clip-path=\"url(#clip062)\" d=\"\nM1500.64 1384.24 L1500.64 1384.24 L1528.36 1384.24 L1528.36 1384.24 L1500.64 1384.24 L1500.64 1384.24  Z\n  \" fill=\"#009af9\" fill-rule=\"evenodd\" fill-opacity=\"1\"/>\n<polyline clip-path=\"url(#clip062)\" style=\"stroke:#000000; stroke-width:4; stroke-opacity:1; fill:none\" points=\"\n  1500.64,1384.24 1500.64,1384.24 1528.36,1384.24 1500.64,1384.24 \n  \"/>\n<path clip-path=\"url(#clip062)\" d=\"\nM1528.36 1364.27 L1528.36 1384.24 L1556.09 1384.24 L1556.09 1364.27 L1528.36 1364.27 L1528.36 1364.27  Z\n  \" fill=\"#009af9\" fill-rule=\"evenodd\" fill-opacity=\"1\"/>\n<polyline clip-path=\"url(#clip062)\" style=\"stroke:#000000; stroke-width:4; stroke-opacity:1; fill:none\" points=\"\n  1528.36,1364.27 1528.36,1384.24 1556.09,1384.24 1556.09,1364.27 1528.36,1364.27 \n  \"/>\n<path clip-path=\"url(#clip062)\" d=\"\nM1556.09 1384.24 L1556.09 1384.24 L1583.82 1384.24 L1583.82 1384.24 L1556.09 1384.24 L1556.09 1384.24  Z\n  \" fill=\"#009af9\" fill-rule=\"evenodd\" fill-opacity=\"1\"/>\n<polyline clip-path=\"url(#clip062)\" style=\"stroke:#000000; stroke-width:4; stroke-opacity:1; fill:none\" points=\"\n  1556.09,1384.24 1556.09,1384.24 1583.82,1384.24 1556.09,1384.24 \n  \"/>\n<path clip-path=\"url(#clip062)\" d=\"\nM1583.82 1384.24 L1583.82 1384.24 L1611.55 1384.24 L1611.55 1384.24 L1583.82 1384.24 L1583.82 1384.24  Z\n  \" fill=\"#009af9\" fill-rule=\"evenodd\" fill-opacity=\"1\"/>\n<polyline clip-path=\"url(#clip062)\" style=\"stroke:#000000; stroke-width:4; stroke-opacity:1; fill:none\" points=\"\n  1583.82,1384.24 1583.82,1384.24 1611.55,1384.24 1583.82,1384.24 \n  \"/>\n<path clip-path=\"url(#clip062)\" d=\"\nM1611.55 1364.27 L1611.55 1384.24 L1639.27 1384.24 L1639.27 1364.27 L1611.55 1364.27 L1611.55 1364.27  Z\n  \" fill=\"#009af9\" fill-rule=\"evenodd\" fill-opacity=\"1\"/>\n<polyline clip-path=\"url(#clip062)\" style=\"stroke:#000000; stroke-width:4; stroke-opacity:1; fill:none\" points=\"\n  1611.55,1364.27 1611.55,1384.24 1639.27,1384.24 1639.27,1364.27 1611.55,1364.27 \n  \"/>\n<path clip-path=\"url(#clip062)\" d=\"\nM1639.27 1364.27 L1639.27 1384.24 L1667 1384.24 L1667 1364.27 L1639.27 1364.27 L1639.27 1364.27  Z\n  \" fill=\"#009af9\" fill-rule=\"evenodd\" fill-opacity=\"1\"/>\n<polyline clip-path=\"url(#clip062)\" style=\"stroke:#000000; stroke-width:4; stroke-opacity:1; fill:none\" points=\"\n  1639.27,1364.27 1639.27,1384.24 1667,1384.24 1667,1364.27 1639.27,1364.27 \n  \"/>\n<path clip-path=\"url(#clip062)\" d=\"\nM1667 1384.24 L1667 1384.24 L1694.73 1384.24 L1694.73 1384.24 L1667 1384.24 L1667 1384.24  Z\n  \" fill=\"#009af9\" fill-rule=\"evenodd\" fill-opacity=\"1\"/>\n<polyline clip-path=\"url(#clip062)\" style=\"stroke:#000000; stroke-width:4; stroke-opacity:1; fill:none\" points=\"\n  1667,1384.24 1667,1384.24 1694.73,1384.24 1667,1384.24 \n  \"/>\n<path clip-path=\"url(#clip062)\" d=\"\nM1694.73 1384.24 L1694.73 1384.24 L1722.46 1384.24 L1722.46 1384.24 L1694.73 1384.24 L1694.73 1384.24  Z\n  \" fill=\"#009af9\" fill-rule=\"evenodd\" fill-opacity=\"1\"/>\n<polyline clip-path=\"url(#clip062)\" style=\"stroke:#000000; stroke-width:4; stroke-opacity:1; fill:none\" points=\"\n  1694.73,1384.24 1694.73,1384.24 1722.46,1384.24 1694.73,1384.24 \n  \"/>\n<path clip-path=\"url(#clip062)\" d=\"\nM1722.46 1364.27 L1722.46 1384.24 L1750.18 1384.24 L1750.18 1364.27 L1722.46 1364.27 L1722.46 1364.27  Z\n  \" fill=\"#009af9\" fill-rule=\"evenodd\" fill-opacity=\"1\"/>\n<polyline clip-path=\"url(#clip062)\" style=\"stroke:#000000; stroke-width:4; stroke-opacity:1; fill:none\" points=\"\n  1722.46,1364.27 1722.46,1384.24 1750.18,1384.24 1750.18,1364.27 1722.46,1364.27 \n  \"/>\n<path clip-path=\"url(#clip062)\" d=\"\nM1750.18 1364.27 L1750.18 1384.24 L1777.91 1384.24 L1777.91 1364.27 L1750.18 1364.27 L1750.18 1364.27  Z\n  \" fill=\"#009af9\" fill-rule=\"evenodd\" fill-opacity=\"1\"/>\n<polyline clip-path=\"url(#clip062)\" style=\"stroke:#000000; stroke-width:4; stroke-opacity:1; fill:none\" points=\"\n  1750.18,1364.27 1750.18,1384.24 1777.91,1384.24 1777.91,1364.27 1750.18,1364.27 \n  \"/>\n<path clip-path=\"url(#clip062)\" d=\"\nM1777.91 1384.24 L1777.91 1384.24 L1805.64 1384.24 L1805.64 1384.24 L1777.91 1384.24 L1777.91 1384.24  Z\n  \" fill=\"#009af9\" fill-rule=\"evenodd\" fill-opacity=\"1\"/>\n<polyline clip-path=\"url(#clip062)\" style=\"stroke:#000000; stroke-width:4; stroke-opacity:1; fill:none\" points=\"\n  1777.91,1384.24 1777.91,1384.24 1805.64,1384.24 1777.91,1384.24 \n  \"/>\n<path clip-path=\"url(#clip062)\" d=\"\nM1805.64 1384.24 L1805.64 1384.24 L1833.37 1384.24 L1833.37 1384.24 L1805.64 1384.24 L1805.64 1384.24  Z\n  \" fill=\"#009af9\" fill-rule=\"evenodd\" fill-opacity=\"1\"/>\n<polyline clip-path=\"url(#clip062)\" style=\"stroke:#000000; stroke-width:4; stroke-opacity:1; fill:none\" points=\"\n  1805.64,1384.24 1805.64,1384.24 1833.37,1384.24 1805.64,1384.24 \n  \"/>\n<path clip-path=\"url(#clip062)\" d=\"\nM1833.37 1384.24 L1833.37 1384.24 L1861.09 1384.24 L1861.09 1384.24 L1833.37 1384.24 L1833.37 1384.24  Z\n  \" fill=\"#009af9\" fill-rule=\"evenodd\" fill-opacity=\"1\"/>\n<polyline clip-path=\"url(#clip062)\" style=\"stroke:#000000; stroke-width:4; stroke-opacity:1; fill:none\" points=\"\n  1833.37,1384.24 1833.37,1384.24 1861.09,1384.24 1833.37,1384.24 \n  \"/>\n<path clip-path=\"url(#clip062)\" d=\"\nM1861.09 1384.24 L1861.09 1384.24 L1888.82 1384.24 L1888.82 1384.24 L1861.09 1384.24 L1861.09 1384.24  Z\n  \" fill=\"#009af9\" fill-rule=\"evenodd\" fill-opacity=\"1\"/>\n<polyline clip-path=\"url(#clip062)\" style=\"stroke:#000000; stroke-width:4; stroke-opacity:1; fill:none\" points=\"\n  1861.09,1384.24 1861.09,1384.24 1888.82,1384.24 1861.09,1384.24 \n  \"/>\n<path clip-path=\"url(#clip062)\" d=\"\nM1888.82 1384.24 L1888.82 1384.24 L1916.55 1384.24 L1916.55 1384.24 L1888.82 1384.24 L1888.82 1384.24  Z\n  \" fill=\"#009af9\" fill-rule=\"evenodd\" fill-opacity=\"1\"/>\n<polyline clip-path=\"url(#clip062)\" style=\"stroke:#000000; stroke-width:4; stroke-opacity:1; fill:none\" points=\"\n  1888.82,1384.24 1888.82,1384.24 1916.55,1384.24 1888.82,1384.24 \n  \"/>\n<path clip-path=\"url(#clip062)\" d=\"\nM1916.55 1384.24 L1916.55 1384.24 L1944.28 1384.24 L1944.28 1384.24 L1916.55 1384.24 L1916.55 1384.24  Z\n  \" fill=\"#009af9\" fill-rule=\"evenodd\" fill-opacity=\"1\"/>\n<polyline clip-path=\"url(#clip062)\" style=\"stroke:#000000; stroke-width:4; stroke-opacity:1; fill:none\" points=\"\n  1916.55,1384.24 1916.55,1384.24 1944.28,1384.24 1916.55,1384.24 \n  \"/>\n<path clip-path=\"url(#clip062)\" d=\"\nM1944.28 1384.24 L1944.28 1384.24 L1972 1384.24 L1972 1384.24 L1944.28 1384.24 L1944.28 1384.24  Z\n  \" fill=\"#009af9\" fill-rule=\"evenodd\" fill-opacity=\"1\"/>\n<polyline clip-path=\"url(#clip062)\" style=\"stroke:#000000; stroke-width:4; stroke-opacity:1; fill:none\" points=\"\n  1944.28,1384.24 1944.28,1384.24 1972,1384.24 1944.28,1384.24 \n  \"/>\n<path clip-path=\"url(#clip062)\" d=\"\nM1972 1384.24 L1972 1384.24 L1999.73 1384.24 L1999.73 1384.24 L1972 1384.24 L1972 1384.24  Z\n  \" fill=\"#009af9\" fill-rule=\"evenodd\" fill-opacity=\"1\"/>\n<polyline clip-path=\"url(#clip062)\" style=\"stroke:#000000; stroke-width:4; stroke-opacity:1; fill:none\" points=\"\n  1972,1384.24 1972,1384.24 1999.73,1384.24 1972,1384.24 \n  \"/>\n<path clip-path=\"url(#clip062)\" d=\"\nM1999.73 1384.24 L1999.73 1384.24 L2027.46 1384.24 L2027.46 1384.24 L1999.73 1384.24 L1999.73 1384.24  Z\n  \" fill=\"#009af9\" fill-rule=\"evenodd\" fill-opacity=\"1\"/>\n<polyline clip-path=\"url(#clip062)\" style=\"stroke:#000000; stroke-width:4; stroke-opacity:1; fill:none\" points=\"\n  1999.73,1384.24 1999.73,1384.24 2027.46,1384.24 1999.73,1384.24 \n  \"/>\n<path clip-path=\"url(#clip062)\" d=\"\nM2027.46 1384.24 L2027.46 1384.24 L2055.18 1384.24 L2055.18 1384.24 L2027.46 1384.24 L2027.46 1384.24  Z\n  \" fill=\"#009af9\" fill-rule=\"evenodd\" fill-opacity=\"1\"/>\n<polyline clip-path=\"url(#clip062)\" style=\"stroke:#000000; stroke-width:4; stroke-opacity:1; fill:none\" points=\"\n  2027.46,1384.24 2027.46,1384.24 2055.18,1384.24 2027.46,1384.24 \n  \"/>\n<path clip-path=\"url(#clip062)\" d=\"\nM2055.18 1384.24 L2055.18 1384.24 L2082.91 1384.24 L2082.91 1384.24 L2055.18 1384.24 L2055.18 1384.24  Z\n  \" fill=\"#009af9\" fill-rule=\"evenodd\" fill-opacity=\"1\"/>\n<polyline clip-path=\"url(#clip062)\" style=\"stroke:#000000; stroke-width:4; stroke-opacity:1; fill:none\" points=\"\n  2055.18,1384.24 2055.18,1384.24 2082.91,1384.24 2055.18,1384.24 \n  \"/>\n<path clip-path=\"url(#clip062)\" d=\"\nM2082.91 1384.24 L2082.91 1384.24 L2110.64 1384.24 L2110.64 1384.24 L2082.91 1384.24 L2082.91 1384.24  Z\n  \" fill=\"#009af9\" fill-rule=\"evenodd\" fill-opacity=\"1\"/>\n<polyline clip-path=\"url(#clip062)\" style=\"stroke:#000000; stroke-width:4; stroke-opacity:1; fill:none\" points=\"\n  2082.91,1384.24 2082.91,1384.24 2110.64,1384.24 2082.91,1384.24 \n  \"/>\n<path clip-path=\"url(#clip062)\" d=\"\nM2110.64 1384.24 L2110.64 1384.24 L2138.37 1384.24 L2138.37 1384.24 L2110.64 1384.24 L2110.64 1384.24  Z\n  \" fill=\"#009af9\" fill-rule=\"evenodd\" fill-opacity=\"1\"/>\n<polyline clip-path=\"url(#clip062)\" style=\"stroke:#000000; stroke-width:4; stroke-opacity:1; fill:none\" points=\"\n  2110.64,1384.24 2110.64,1384.24 2138.37,1384.24 2110.64,1384.24 \n  \"/>\n<path clip-path=\"url(#clip062)\" d=\"\nM2138.37 1384.24 L2138.37 1384.24 L2166.09 1384.24 L2166.09 1384.24 L2138.37 1384.24 L2138.37 1384.24  Z\n  \" fill=\"#009af9\" fill-rule=\"evenodd\" fill-opacity=\"1\"/>\n<polyline clip-path=\"url(#clip062)\" style=\"stroke:#000000; stroke-width:4; stroke-opacity:1; fill:none\" points=\"\n  2138.37,1384.24 2138.37,1384.24 2166.09,1384.24 2138.37,1384.24 \n  \"/>\n<path clip-path=\"url(#clip062)\" d=\"\nM2166.09 1384.24 L2166.09 1384.24 L2193.82 1384.24 L2193.82 1384.24 L2166.09 1384.24 L2166.09 1384.24  Z\n  \" fill=\"#009af9\" fill-rule=\"evenodd\" fill-opacity=\"1\"/>\n<polyline clip-path=\"url(#clip062)\" style=\"stroke:#000000; stroke-width:4; stroke-opacity:1; fill:none\" points=\"\n  2166.09,1384.24 2166.09,1384.24 2193.82,1384.24 2166.09,1384.24 \n  \"/>\n<path clip-path=\"url(#clip062)\" d=\"\nM2193.82 1384.24 L2193.82 1384.24 L2221.55 1384.24 L2221.55 1384.24 L2193.82 1384.24 L2193.82 1384.24  Z\n  \" fill=\"#009af9\" fill-rule=\"evenodd\" fill-opacity=\"1\"/>\n<polyline clip-path=\"url(#clip062)\" style=\"stroke:#000000; stroke-width:4; stroke-opacity:1; fill:none\" points=\"\n  2193.82,1384.24 2193.82,1384.24 2221.55,1384.24 2193.82,1384.24 \n  \"/>\n<path clip-path=\"url(#clip062)\" d=\"\nM2221.55 1384.24 L2221.55 1384.24 L2249.28 1384.24 L2249.28 1384.24 L2221.55 1384.24 L2221.55 1384.24  Z\n  \" fill=\"#009af9\" fill-rule=\"evenodd\" fill-opacity=\"1\"/>\n<polyline clip-path=\"url(#clip062)\" style=\"stroke:#000000; stroke-width:4; stroke-opacity:1; fill:none\" points=\"\n  2221.55,1384.24 2221.55,1384.24 2249.28,1384.24 2221.55,1384.24 \n  \"/>\n<path clip-path=\"url(#clip062)\" d=\"\nM2249.28 1384.24 L2249.28 1384.24 L2277 1384.24 L2277 1384.24 L2249.28 1384.24 L2249.28 1384.24  Z\n  \" fill=\"#009af9\" fill-rule=\"evenodd\" fill-opacity=\"1\"/>\n<polyline clip-path=\"url(#clip062)\" style=\"stroke:#000000; stroke-width:4; stroke-opacity:1; fill:none\" points=\"\n  2249.28,1384.24 2249.28,1384.24 2277,1384.24 2249.28,1384.24 \n  \"/>\n<path clip-path=\"url(#clip062)\" d=\"\nM2277 1384.24 L2277 1384.24 L2304.73 1384.24 L2304.73 1384.24 L2277 1384.24 L2277 1384.24  Z\n  \" fill=\"#009af9\" fill-rule=\"evenodd\" fill-opacity=\"1\"/>\n<polyline clip-path=\"url(#clip062)\" style=\"stroke:#000000; stroke-width:4; stroke-opacity:1; fill:none\" points=\"\n  2277,1384.24 2277,1384.24 2304.73,1384.24 2277,1384.24 \n  \"/>\n<path clip-path=\"url(#clip062)\" d=\"\nM2304.73 1384.24 L2304.73 1384.24 L2332.46 1384.24 L2332.46 1384.24 L2304.73 1384.24 L2304.73 1384.24  Z\n  \" fill=\"#009af9\" fill-rule=\"evenodd\" fill-opacity=\"1\"/>\n<polyline clip-path=\"url(#clip062)\" style=\"stroke:#000000; stroke-width:4; stroke-opacity:1; fill:none\" points=\"\n  2304.73,1384.24 2304.73,1384.24 2332.46,1384.24 2304.73,1384.24 \n  \"/>\n<path clip-path=\"url(#clip062)\" d=\"\nM2332.46 1384.24 L2332.46 1384.24 L2360.19 1384.24 L2360.19 1384.24 L2332.46 1384.24 L2332.46 1384.24  Z\n  \" fill=\"#009af9\" fill-rule=\"evenodd\" fill-opacity=\"1\"/>\n<polyline clip-path=\"url(#clip062)\" style=\"stroke:#000000; stroke-width:4; stroke-opacity:1; fill:none\" points=\"\n  2332.46,1384.24 2332.46,1384.24 2360.19,1384.24 2332.46,1384.24 \n  \"/>\n<path clip-path=\"url(#clip062)\" d=\"\nM2360.19 1384.24 L2360.19 1384.24 L2387.91 1384.24 L2387.91 1384.24 L2360.19 1384.24 L2360.19 1384.24  Z\n  \" fill=\"#009af9\" fill-rule=\"evenodd\" fill-opacity=\"1\"/>\n<polyline clip-path=\"url(#clip062)\" style=\"stroke:#000000; stroke-width:4; stroke-opacity:1; fill:none\" points=\"\n  2360.19,1384.24 2360.19,1384.24 2387.91,1384.24 2360.19,1384.24 \n  \"/>\n<path clip-path=\"url(#clip062)\" d=\"\nM2387.91 1384.24 L2387.91 1384.24 L2415.64 1384.24 L2415.64 1384.24 L2387.91 1384.24 L2387.91 1384.24  Z\n  \" fill=\"#009af9\" fill-rule=\"evenodd\" fill-opacity=\"1\"/>\n<polyline clip-path=\"url(#clip062)\" style=\"stroke:#000000; stroke-width:4; stroke-opacity:1; fill:none\" points=\"\n  2387.91,1384.24 2387.91,1384.24 2415.64,1384.24 2387.91,1384.24 \n  \"/>\n<path clip-path=\"url(#clip062)\" d=\"\nM2415.64 1384.24 L2415.64 1384.24 L2443.37 1384.24 L2443.37 1384.24 L2415.64 1384.24 L2415.64 1384.24  Z\n  \" fill=\"#009af9\" fill-rule=\"evenodd\" fill-opacity=\"1\"/>\n<polyline clip-path=\"url(#clip062)\" style=\"stroke:#000000; stroke-width:4; stroke-opacity:1; fill:none\" points=\"\n  2415.64,1384.24 2415.64,1384.24 2443.37,1384.24 2415.64,1384.24 \n  \"/>\n<path clip-path=\"url(#clip062)\" d=\"\nM2443.37 1364.27 L2443.37 1384.24 L2471.1 1384.24 L2471.1 1364.27 L2443.37 1364.27 L2443.37 1364.27  Z\n  \" fill=\"#009af9\" fill-rule=\"evenodd\" fill-opacity=\"1\"/>\n<polyline clip-path=\"url(#clip062)\" style=\"stroke:#000000; stroke-width:4; stroke-opacity:1; fill:none\" points=\"\n  2443.37,1364.27 2443.37,1384.24 2471.1,1384.24 2471.1,1364.27 2443.37,1364.27 \n  \"/>\n<path clip-path=\"url(#clip062)\" d=\"\nM2471.1 1364.27 L2471.1 1384.24 L2498.82 1384.24 L2498.82 1364.27 L2471.1 1364.27 L2471.1 1364.27  Z\n  \" fill=\"#009af9\" fill-rule=\"evenodd\" fill-opacity=\"1\"/>\n<polyline clip-path=\"url(#clip062)\" style=\"stroke:#000000; stroke-width:4; stroke-opacity:1; fill:none\" points=\"\n  2471.1,1364.27 2471.1,1384.24 2498.82,1384.24 2498.82,1364.27 2471.1,1364.27 \n  \"/>\n<path clip-path=\"url(#clip062)\" d=\"\nM2498.82 1384.24 L2498.82 1384.24 L2526.55 1384.24 L2526.55 1384.24 L2498.82 1384.24 L2498.82 1384.24  Z\n  \" fill=\"#009af9\" fill-rule=\"evenodd\" fill-opacity=\"1\"/>\n<polyline clip-path=\"url(#clip062)\" style=\"stroke:#000000; stroke-width:4; stroke-opacity:1; fill:none\" points=\"\n  2498.82,1384.24 2498.82,1384.24 2526.55,1384.24 2498.82,1384.24 \n  \"/>\n<path clip-path=\"url(#clip062)\" d=\"\nM2526.55 1384.24 L2526.55 1384.24 L2554.28 1384.24 L2554.28 1384.24 L2526.55 1384.24 L2526.55 1384.24  Z\n  \" fill=\"#009af9\" fill-rule=\"evenodd\" fill-opacity=\"1\"/>\n<polyline clip-path=\"url(#clip062)\" style=\"stroke:#000000; stroke-width:4; stroke-opacity:1; fill:none\" points=\"\n  2526.55,1384.24 2526.55,1384.24 2554.28,1384.24 2526.55,1384.24 \n  \"/>\n<path clip-path=\"url(#clip062)\" d=\"\nM2554.28 1384.24 L2554.28 1384.24 L2582.01 1384.24 L2582.01 1384.24 L2554.28 1384.24 L2554.28 1384.24  Z\n  \" fill=\"#009af9\" fill-rule=\"evenodd\" fill-opacity=\"1\"/>\n<polyline clip-path=\"url(#clip062)\" style=\"stroke:#000000; stroke-width:4; stroke-opacity:1; fill:none\" points=\"\n  2554.28,1384.24 2554.28,1384.24 2582.01,1384.24 2554.28,1384.24 \n  \"/>\n<path clip-path=\"url(#clip062)\" d=\"\nM2582.01 1384.24 L2582.01 1384.24 L2609.73 1384.24 L2609.73 1384.24 L2582.01 1384.24 L2582.01 1384.24  Z\n  \" fill=\"#009af9\" fill-rule=\"evenodd\" fill-opacity=\"1\"/>\n<polyline clip-path=\"url(#clip062)\" style=\"stroke:#000000; stroke-width:4; stroke-opacity:1; fill:none\" points=\"\n  2582.01,1384.24 2582.01,1384.24 2609.73,1384.24 2582.01,1384.24 \n  \"/>\n<path clip-path=\"url(#clip062)\" d=\"\nM2609.73 1384.24 L2609.73 1384.24 L2637.46 1384.24 L2637.46 1384.24 L2609.73 1384.24 L2609.73 1384.24  Z\n  \" fill=\"#009af9\" fill-rule=\"evenodd\" fill-opacity=\"1\"/>\n<polyline clip-path=\"url(#clip062)\" style=\"stroke:#000000; stroke-width:4; stroke-opacity:1; fill:none\" points=\"\n  2609.73,1384.24 2609.73,1384.24 2637.46,1384.24 2609.73,1384.24 \n  \"/>\n<path clip-path=\"url(#clip062)\" d=\"\nM2637.46 1384.24 L2637.46 1384.24 L2665.19 1384.24 L2665.19 1384.24 L2637.46 1384.24 L2637.46 1384.24  Z\n  \" fill=\"#009af9\" fill-rule=\"evenodd\" fill-opacity=\"1\"/>\n<polyline clip-path=\"url(#clip062)\" style=\"stroke:#000000; stroke-width:4; stroke-opacity:1; fill:none\" points=\"\n  2637.46,1384.24 2637.46,1384.24 2665.19,1384.24 2637.46,1384.24 \n  \"/>\n<path clip-path=\"url(#clip062)\" d=\"\nM2665.19 1384.24 L2665.19 1384.24 L2692.91 1384.24 L2692.91 1384.24 L2665.19 1384.24 L2665.19 1384.24  Z\n  \" fill=\"#009af9\" fill-rule=\"evenodd\" fill-opacity=\"1\"/>\n<polyline clip-path=\"url(#clip062)\" style=\"stroke:#000000; stroke-width:4; stroke-opacity:1; fill:none\" points=\"\n  2665.19,1384.24 2665.19,1384.24 2692.91,1384.24 2665.19,1384.24 \n  \"/>\n<path clip-path=\"url(#clip062)\" d=\"\nM2692.91 1384.24 L2692.91 1384.24 L2720.64 1384.24 L2720.64 1384.24 L2692.91 1384.24 L2692.91 1384.24  Z\n  \" fill=\"#009af9\" fill-rule=\"evenodd\" fill-opacity=\"1\"/>\n<polyline clip-path=\"url(#clip062)\" style=\"stroke:#000000; stroke-width:4; stroke-opacity:1; fill:none\" points=\"\n  2692.91,1384.24 2692.91,1384.24 2720.64,1384.24 2692.91,1384.24 \n  \"/>\n<path clip-path=\"url(#clip062)\" d=\"\nM2720.64 1384.24 L2720.64 1384.24 L2748.37 1384.24 L2748.37 1384.24 L2720.64 1384.24 L2720.64 1384.24  Z\n  \" fill=\"#009af9\" fill-rule=\"evenodd\" fill-opacity=\"1\"/>\n<polyline clip-path=\"url(#clip062)\" style=\"stroke:#000000; stroke-width:4; stroke-opacity:1; fill:none\" points=\"\n  2720.64,1384.24 2720.64,1384.24 2748.37,1384.24 2720.64,1384.24 \n  \"/>\n<path clip-path=\"url(#clip062)\" d=\"\nM2748.37 1384.24 L2748.37 1384.24 L2776.1 1384.24 L2776.1 1384.24 L2748.37 1384.24 L2748.37 1384.24  Z\n  \" fill=\"#009af9\" fill-rule=\"evenodd\" fill-opacity=\"1\"/>\n<polyline clip-path=\"url(#clip062)\" style=\"stroke:#000000; stroke-width:4; stroke-opacity:1; fill:none\" points=\"\n  2748.37,1384.24 2748.37,1384.24 2776.1,1384.24 2748.37,1384.24 \n  \"/>\n<path clip-path=\"url(#clip062)\" d=\"\nM2776.1 1384.24 L2776.1 1384.24 L2803.82 1384.24 L2803.82 1384.24 L2776.1 1384.24 L2776.1 1384.24  Z\n  \" fill=\"#009af9\" fill-rule=\"evenodd\" fill-opacity=\"1\"/>\n<polyline clip-path=\"url(#clip062)\" style=\"stroke:#000000; stroke-width:4; stroke-opacity:1; fill:none\" points=\"\n  2776.1,1384.24 2776.1,1384.24 2803.82,1384.24 2776.1,1384.24 \n  \"/>\n<path clip-path=\"url(#clip062)\" d=\"\nM2803.82 1384.24 L2803.82 1384.24 L2831.55 1384.24 L2831.55 1384.24 L2803.82 1384.24 L2803.82 1384.24  Z\n  \" fill=\"#009af9\" fill-rule=\"evenodd\" fill-opacity=\"1\"/>\n<polyline clip-path=\"url(#clip062)\" style=\"stroke:#000000; stroke-width:4; stroke-opacity:1; fill:none\" points=\"\n  2803.82,1384.24 2803.82,1384.24 2831.55,1384.24 2803.82,1384.24 \n  \"/>\n<path clip-path=\"url(#clip062)\" d=\"\nM2831.55 1384.24 L2831.55 1384.24 L2859.28 1384.24 L2859.28 1384.24 L2831.55 1384.24 L2831.55 1384.24  Z\n  \" fill=\"#009af9\" fill-rule=\"evenodd\" fill-opacity=\"1\"/>\n<polyline clip-path=\"url(#clip062)\" style=\"stroke:#000000; stroke-width:4; stroke-opacity:1; fill:none\" points=\"\n  2831.55,1384.24 2831.55,1384.24 2859.28,1384.24 2831.55,1384.24 \n  \"/>\n<path clip-path=\"url(#clip062)\" d=\"\nM2859.28 1384.24 L2859.28 1384.24 L2887.01 1384.24 L2887.01 1384.24 L2859.28 1384.24 L2859.28 1384.24  Z\n  \" fill=\"#009af9\" fill-rule=\"evenodd\" fill-opacity=\"1\"/>\n<polyline clip-path=\"url(#clip062)\" style=\"stroke:#000000; stroke-width:4; stroke-opacity:1; fill:none\" points=\"\n  2859.28,1384.24 2859.28,1384.24 2887.01,1384.24 2859.28,1384.24 \n  \"/>\n<path clip-path=\"url(#clip062)\" d=\"\nM2887.01 1384.24 L2887.01 1384.24 L2914.73 1384.24 L2914.73 1384.24 L2887.01 1384.24 L2887.01 1384.24  Z\n  \" fill=\"#009af9\" fill-rule=\"evenodd\" fill-opacity=\"1\"/>\n<polyline clip-path=\"url(#clip062)\" style=\"stroke:#000000; stroke-width:4; stroke-opacity:1; fill:none\" points=\"\n  2887.01,1384.24 2887.01,1384.24 2914.73,1384.24 2887.01,1384.24 \n  \"/>\n<path clip-path=\"url(#clip062)\" d=\"\nM2914.73 1384.24 L2914.73 1384.24 L2942.46 1384.24 L2942.46 1384.24 L2914.73 1384.24 L2914.73 1384.24  Z\n  \" fill=\"#009af9\" fill-rule=\"evenodd\" fill-opacity=\"1\"/>\n<polyline clip-path=\"url(#clip062)\" style=\"stroke:#000000; stroke-width:4; stroke-opacity:1; fill:none\" points=\"\n  2914.73,1384.24 2914.73,1384.24 2942.46,1384.24 2914.73,1384.24 \n  \"/>\n<path clip-path=\"url(#clip062)\" d=\"\nM2942.46 1384.24 L2942.46 1384.24 L2970.19 1384.24 L2970.19 1384.24 L2942.46 1384.24 L2942.46 1384.24  Z\n  \" fill=\"#009af9\" fill-rule=\"evenodd\" fill-opacity=\"1\"/>\n<polyline clip-path=\"url(#clip062)\" style=\"stroke:#000000; stroke-width:4; stroke-opacity:1; fill:none\" points=\"\n  2942.46,1384.24 2942.46,1384.24 2970.19,1384.24 2942.46,1384.24 \n  \"/>\n<path clip-path=\"url(#clip062)\" d=\"\nM2970.19 1384.24 L2970.19 1384.24 L2997.92 1384.24 L2997.92 1384.24 L2970.19 1384.24 L2970.19 1384.24  Z\n  \" fill=\"#009af9\" fill-rule=\"evenodd\" fill-opacity=\"1\"/>\n<polyline clip-path=\"url(#clip062)\" style=\"stroke:#000000; stroke-width:4; stroke-opacity:1; fill:none\" points=\"\n  2970.19,1384.24 2970.19,1384.24 2997.92,1384.24 2970.19,1384.24 \n  \"/>\n<path clip-path=\"url(#clip062)\" d=\"\nM2997.92 1384.24 L2997.92 1384.24 L3025.64 1384.24 L3025.64 1384.24 L2997.92 1384.24 L2997.92 1384.24  Z\n  \" fill=\"#009af9\" fill-rule=\"evenodd\" fill-opacity=\"1\"/>\n<polyline clip-path=\"url(#clip062)\" style=\"stroke:#000000; stroke-width:4; stroke-opacity:1; fill:none\" points=\"\n  2997.92,1384.24 2997.92,1384.24 3025.64,1384.24 2997.92,1384.24 \n  \"/>\n<path clip-path=\"url(#clip062)\" d=\"\nM3025.64 1384.24 L3025.64 1384.24 L3053.37 1384.24 L3053.37 1384.24 L3025.64 1384.24 L3025.64 1384.24  Z\n  \" fill=\"#009af9\" fill-rule=\"evenodd\" fill-opacity=\"1\"/>\n<polyline clip-path=\"url(#clip062)\" style=\"stroke:#000000; stroke-width:4; stroke-opacity:1; fill:none\" points=\"\n  3025.64,1384.24 3025.64,1384.24 3053.37,1384.24 3025.64,1384.24 \n  \"/>\n<path clip-path=\"url(#clip062)\" d=\"\nM3053.37 1384.24 L3053.37 1384.24 L3081.1 1384.24 L3081.1 1384.24 L3053.37 1384.24 L3053.37 1384.24  Z\n  \" fill=\"#009af9\" fill-rule=\"evenodd\" fill-opacity=\"1\"/>\n<polyline clip-path=\"url(#clip062)\" style=\"stroke:#000000; stroke-width:4; stroke-opacity:1; fill:none\" points=\"\n  3053.37,1384.24 3053.37,1384.24 3081.1,1384.24 3053.37,1384.24 \n  \"/>\n<path clip-path=\"url(#clip062)\" d=\"\nM3081.1 1384.24 L3081.1 1384.24 L3108.83 1384.24 L3108.83 1384.24 L3081.1 1384.24 L3081.1 1384.24  Z\n  \" fill=\"#009af9\" fill-rule=\"evenodd\" fill-opacity=\"1\"/>\n<polyline clip-path=\"url(#clip062)\" style=\"stroke:#000000; stroke-width:4; stroke-opacity:1; fill:none\" points=\"\n  3081.1,1384.24 3081.1,1384.24 3108.83,1384.24 3081.1,1384.24 \n  \"/>\n<path clip-path=\"url(#clip062)\" d=\"\nM3108.83 1384.24 L3108.83 1384.24 L3136.55 1384.24 L3136.55 1384.24 L3108.83 1384.24 L3108.83 1384.24  Z\n  \" fill=\"#009af9\" fill-rule=\"evenodd\" fill-opacity=\"1\"/>\n<polyline clip-path=\"url(#clip062)\" style=\"stroke:#000000; stroke-width:4; stroke-opacity:1; fill:none\" points=\"\n  3108.83,1384.24 3108.83,1384.24 3136.55,1384.24 3108.83,1384.24 \n  \"/>\n<path clip-path=\"url(#clip062)\" d=\"\nM3136.55 1384.24 L3136.55 1384.24 L3164.28 1384.24 L3164.28 1384.24 L3136.55 1384.24 L3136.55 1384.24  Z\n  \" fill=\"#009af9\" fill-rule=\"evenodd\" fill-opacity=\"1\"/>\n<polyline clip-path=\"url(#clip062)\" style=\"stroke:#000000; stroke-width:4; stroke-opacity:1; fill:none\" points=\"\n  3136.55,1384.24 3136.55,1384.24 3164.28,1384.24 3136.55,1384.24 \n  \"/>\n<path clip-path=\"url(#clip062)\" d=\"\nM3164.28 1384.24 L3164.28 1384.24 L3192.01 1384.24 L3192.01 1384.24 L3164.28 1384.24 L3164.28 1384.24  Z\n  \" fill=\"#009af9\" fill-rule=\"evenodd\" fill-opacity=\"1\"/>\n<polyline clip-path=\"url(#clip062)\" style=\"stroke:#000000; stroke-width:4; stroke-opacity:1; fill:none\" points=\"\n  3164.28,1384.24 3164.28,1384.24 3192.01,1384.24 3164.28,1384.24 \n  \"/>\n<path clip-path=\"url(#clip062)\" d=\"\nM3192.01 1384.24 L3192.01 1384.24 L3219.73 1384.24 L3219.73 1384.24 L3192.01 1384.24 L3192.01 1384.24  Z\n  \" fill=\"#009af9\" fill-rule=\"evenodd\" fill-opacity=\"1\"/>\n<polyline clip-path=\"url(#clip062)\" style=\"stroke:#000000; stroke-width:4; stroke-opacity:1; fill:none\" points=\"\n  3192.01,1384.24 3192.01,1384.24 3219.73,1384.24 3192.01,1384.24 \n  \"/>\n<path clip-path=\"url(#clip062)\" d=\"\nM3219.73 1384.24 L3219.73 1384.24 L3247.46 1384.24 L3247.46 1384.24 L3219.73 1384.24 L3219.73 1384.24  Z\n  \" fill=\"#009af9\" fill-rule=\"evenodd\" fill-opacity=\"1\"/>\n<polyline clip-path=\"url(#clip062)\" style=\"stroke:#000000; stroke-width:4; stroke-opacity:1; fill:none\" points=\"\n  3219.73,1384.24 3219.73,1384.24 3247.46,1384.24 3219.73,1384.24 \n  \"/>\n<path clip-path=\"url(#clip062)\" d=\"\nM3247.46 1384.24 L3247.46 1384.24 L3275.19 1384.24 L3275.19 1384.24 L3247.46 1384.24 L3247.46 1384.24  Z\n  \" fill=\"#009af9\" fill-rule=\"evenodd\" fill-opacity=\"1\"/>\n<polyline clip-path=\"url(#clip062)\" style=\"stroke:#000000; stroke-width:4; stroke-opacity:1; fill:none\" points=\"\n  3247.46,1384.24 3247.46,1384.24 3275.19,1384.24 3247.46,1384.24 \n  \"/>\n<path clip-path=\"url(#clip062)\" d=\"\nM3275.19 1384.24 L3275.19 1384.24 L3302.92 1384.24 L3302.92 1384.24 L3275.19 1384.24 L3275.19 1384.24  Z\n  \" fill=\"#009af9\" fill-rule=\"evenodd\" fill-opacity=\"1\"/>\n<polyline clip-path=\"url(#clip062)\" style=\"stroke:#000000; stroke-width:4; stroke-opacity:1; fill:none\" points=\"\n  3275.19,1384.24 3275.19,1384.24 3302.92,1384.24 3275.19,1384.24 \n  \"/>\n<path clip-path=\"url(#clip062)\" d=\"\nM3302.92 1384.24 L3302.92 1384.24 L3330.64 1384.24 L3330.64 1384.24 L3302.92 1384.24 L3302.92 1384.24  Z\n  \" fill=\"#009af9\" fill-rule=\"evenodd\" fill-opacity=\"1\"/>\n<polyline clip-path=\"url(#clip062)\" style=\"stroke:#000000; stroke-width:4; stroke-opacity:1; fill:none\" points=\"\n  3302.92,1384.24 3302.92,1384.24 3330.64,1384.24 3302.92,1384.24 \n  \"/>\n<path clip-path=\"url(#clip062)\" d=\"\nM3330.64 1384.24 L3330.64 1384.24 L3358.37 1384.24 L3358.37 1384.24 L3330.64 1384.24 L3330.64 1384.24  Z\n  \" fill=\"#009af9\" fill-rule=\"evenodd\" fill-opacity=\"1\"/>\n<polyline clip-path=\"url(#clip062)\" style=\"stroke:#000000; stroke-width:4; stroke-opacity:1; fill:none\" points=\"\n  3330.64,1384.24 3330.64,1384.24 3358.37,1384.24 3330.64,1384.24 \n  \"/>\n<path clip-path=\"url(#clip062)\" d=\"\nM3358.37 1384.24 L3358.37 1384.24 L3386.1 1384.24 L3386.1 1384.24 L3358.37 1384.24 L3358.37 1384.24  Z\n  \" fill=\"#009af9\" fill-rule=\"evenodd\" fill-opacity=\"1\"/>\n<polyline clip-path=\"url(#clip062)\" style=\"stroke:#000000; stroke-width:4; stroke-opacity:1; fill:none\" points=\"\n  3358.37,1384.24 3358.37,1384.24 3386.1,1384.24 3358.37,1384.24 \n  \"/>\n<path clip-path=\"url(#clip062)\" d=\"\nM3386.1 1384.24 L3386.1 1384.24 L3413.83 1384.24 L3413.83 1384.24 L3386.1 1384.24 L3386.1 1384.24  Z\n  \" fill=\"#009af9\" fill-rule=\"evenodd\" fill-opacity=\"1\"/>\n<polyline clip-path=\"url(#clip062)\" style=\"stroke:#000000; stroke-width:4; stroke-opacity:1; fill:none\" points=\"\n  3386.1,1384.24 3386.1,1384.24 3413.83,1384.24 3386.1,1384.24 \n  \"/>\n<path clip-path=\"url(#clip062)\" d=\"\nM3413.83 1384.24 L3413.83 1384.24 L3441.55 1384.24 L3441.55 1384.24 L3413.83 1384.24 L3413.83 1384.24  Z\n  \" fill=\"#009af9\" fill-rule=\"evenodd\" fill-opacity=\"1\"/>\n<polyline clip-path=\"url(#clip062)\" style=\"stroke:#000000; stroke-width:4; stroke-opacity:1; fill:none\" points=\"\n  3413.83,1384.24 3413.83,1384.24 3441.55,1384.24 3413.83,1384.24 \n  \"/>\n<path clip-path=\"url(#clip062)\" d=\"\nM3441.55 1384.24 L3441.55 1384.24 L3469.28 1384.24 L3469.28 1384.24 L3441.55 1384.24 L3441.55 1384.24  Z\n  \" fill=\"#009af9\" fill-rule=\"evenodd\" fill-opacity=\"1\"/>\n<polyline clip-path=\"url(#clip062)\" style=\"stroke:#000000; stroke-width:4; stroke-opacity:1; fill:none\" points=\"\n  3441.55,1384.24 3441.55,1384.24 3469.28,1384.24 3441.55,1384.24 \n  \"/>\n<path clip-path=\"url(#clip062)\" d=\"\nM3469.28 1384.24 L3469.28 1384.24 L3497.01 1384.24 L3497.01 1384.24 L3469.28 1384.24 L3469.28 1384.24  Z\n  \" fill=\"#009af9\" fill-rule=\"evenodd\" fill-opacity=\"1\"/>\n<polyline clip-path=\"url(#clip062)\" style=\"stroke:#000000; stroke-width:4; stroke-opacity:1; fill:none\" points=\"\n  3469.28,1384.24 3469.28,1384.24 3497.01,1384.24 3469.28,1384.24 \n  \"/>\n<path clip-path=\"url(#clip062)\" d=\"\nM3497.01 1384.24 L3497.01 1384.24 L3524.74 1384.24 L3524.74 1384.24 L3497.01 1384.24 L3497.01 1384.24  Z\n  \" fill=\"#009af9\" fill-rule=\"evenodd\" fill-opacity=\"1\"/>\n<polyline clip-path=\"url(#clip062)\" style=\"stroke:#000000; stroke-width:4; stroke-opacity:1; fill:none\" points=\"\n  3497.01,1384.24 3497.01,1384.24 3524.74,1384.24 3497.01,1384.24 \n  \"/>\n<path clip-path=\"url(#clip062)\" d=\"\nM3524.74 1384.24 L3524.74 1384.24 L3552.46 1384.24 L3552.46 1384.24 L3524.74 1384.24 L3524.74 1384.24  Z\n  \" fill=\"#009af9\" fill-rule=\"evenodd\" fill-opacity=\"1\"/>\n<polyline clip-path=\"url(#clip062)\" style=\"stroke:#000000; stroke-width:4; stroke-opacity:1; fill:none\" points=\"\n  3524.74,1384.24 3524.74,1384.24 3552.46,1384.24 3524.74,1384.24 \n  \"/>\n<path clip-path=\"url(#clip062)\" d=\"\nM3552.46 1384.24 L3552.46 1384.24 L3580.19 1384.24 L3580.19 1384.24 L3552.46 1384.24 L3552.46 1384.24  Z\n  \" fill=\"#009af9\" fill-rule=\"evenodd\" fill-opacity=\"1\"/>\n<polyline clip-path=\"url(#clip062)\" style=\"stroke:#000000; stroke-width:4; stroke-opacity:1; fill:none\" points=\"\n  3552.46,1384.24 3552.46,1384.24 3580.19,1384.24 3552.46,1384.24 \n  \"/>\n<path clip-path=\"url(#clip062)\" d=\"\nM3580.19 1384.24 L3580.19 1384.24 L3607.92 1384.24 L3607.92 1384.24 L3580.19 1384.24 L3580.19 1384.24  Z\n  \" fill=\"#009af9\" fill-rule=\"evenodd\" fill-opacity=\"1\"/>\n<polyline clip-path=\"url(#clip062)\" style=\"stroke:#000000; stroke-width:4; stroke-opacity:1; fill:none\" points=\"\n  3580.19,1384.24 3580.19,1384.24 3607.92,1384.24 3580.19,1384.24 \n  \"/>\n<path clip-path=\"url(#clip062)\" d=\"\nM3607.92 1384.24 L3607.92 1384.24 L3635.65 1384.24 L3635.65 1384.24 L3607.92 1384.24 L3607.92 1384.24  Z\n  \" fill=\"#009af9\" fill-rule=\"evenodd\" fill-opacity=\"1\"/>\n<polyline clip-path=\"url(#clip062)\" style=\"stroke:#000000; stroke-width:4; stroke-opacity:1; fill:none\" points=\"\n  3607.92,1384.24 3607.92,1384.24 3635.65,1384.24 3607.92,1384.24 \n  \"/>\n<path clip-path=\"url(#clip062)\" d=\"\nM3635.65 1384.24 L3635.65 1384.24 L3663.37 1384.24 L3663.37 1384.24 L3635.65 1384.24 L3635.65 1384.24  Z\n  \" fill=\"#009af9\" fill-rule=\"evenodd\" fill-opacity=\"1\"/>\n<polyline clip-path=\"url(#clip062)\" style=\"stroke:#000000; stroke-width:4; stroke-opacity:1; fill:none\" points=\"\n  3635.65,1384.24 3635.65,1384.24 3663.37,1384.24 3635.65,1384.24 \n  \"/>\n<path clip-path=\"url(#clip062)\" d=\"\nM3663.37 1384.24 L3663.37 1384.24 L3691.1 1384.24 L3691.1 1384.24 L3663.37 1384.24 L3663.37 1384.24  Z\n  \" fill=\"#009af9\" fill-rule=\"evenodd\" fill-opacity=\"1\"/>\n<polyline clip-path=\"url(#clip062)\" style=\"stroke:#000000; stroke-width:4; stroke-opacity:1; fill:none\" points=\"\n  3663.37,1384.24 3663.37,1384.24 3691.1,1384.24 3663.37,1384.24 \n  \"/>\n<path clip-path=\"url(#clip062)\" d=\"\nM3691.1 1384.24 L3691.1 1384.24 L3718.83 1384.24 L3718.83 1384.24 L3691.1 1384.24 L3691.1 1384.24  Z\n  \" fill=\"#009af9\" fill-rule=\"evenodd\" fill-opacity=\"1\"/>\n<polyline clip-path=\"url(#clip062)\" style=\"stroke:#000000; stroke-width:4; stroke-opacity:1; fill:none\" points=\"\n  3691.1,1384.24 3691.1,1384.24 3718.83,1384.24 3691.1,1384.24 \n  \"/>\n<path clip-path=\"url(#clip062)\" d=\"\nM3718.83 1384.24 L3718.83 1384.24 L3746.56 1384.24 L3746.56 1384.24 L3718.83 1384.24 L3718.83 1384.24  Z\n  \" fill=\"#009af9\" fill-rule=\"evenodd\" fill-opacity=\"1\"/>\n<polyline clip-path=\"url(#clip062)\" style=\"stroke:#000000; stroke-width:4; stroke-opacity:1; fill:none\" points=\"\n  3718.83,1384.24 3718.83,1384.24 3746.56,1384.24 3718.83,1384.24 \n  \"/>\n<path clip-path=\"url(#clip062)\" d=\"\nM3746.56 1384.24 L3746.56 1384.24 L3774.28 1384.24 L3774.28 1384.24 L3746.56 1384.24 L3746.56 1384.24  Z\n  \" fill=\"#009af9\" fill-rule=\"evenodd\" fill-opacity=\"1\"/>\n<polyline clip-path=\"url(#clip062)\" style=\"stroke:#000000; stroke-width:4; stroke-opacity:1; fill:none\" points=\"\n  3746.56,1384.24 3746.56,1384.24 3774.28,1384.24 3746.56,1384.24 \n  \"/>\n<path clip-path=\"url(#clip062)\" d=\"\nM3774.28 1384.24 L3774.28 1384.24 L3802.01 1384.24 L3802.01 1384.24 L3774.28 1384.24 L3774.28 1384.24  Z\n  \" fill=\"#009af9\" fill-rule=\"evenodd\" fill-opacity=\"1\"/>\n<polyline clip-path=\"url(#clip062)\" style=\"stroke:#000000; stroke-width:4; stroke-opacity:1; fill:none\" points=\"\n  3774.28,1384.24 3774.28,1384.24 3802.01,1384.24 3774.28,1384.24 \n  \"/>\n<path clip-path=\"url(#clip062)\" d=\"\nM3802.01 1384.24 L3802.01 1384.24 L3829.74 1384.24 L3829.74 1384.24 L3802.01 1384.24 L3802.01 1384.24  Z\n  \" fill=\"#009af9\" fill-rule=\"evenodd\" fill-opacity=\"1\"/>\n<polyline clip-path=\"url(#clip062)\" style=\"stroke:#000000; stroke-width:4; stroke-opacity:1; fill:none\" points=\"\n  3802.01,1384.24 3802.01,1384.24 3829.74,1384.24 3802.01,1384.24 \n  \"/>\n<path clip-path=\"url(#clip062)\" d=\"\nM3829.74 1384.24 L3829.74 1384.24 L3857.46 1384.24 L3857.46 1384.24 L3829.74 1384.24 L3829.74 1384.24  Z\n  \" fill=\"#009af9\" fill-rule=\"evenodd\" fill-opacity=\"1\"/>\n<polyline clip-path=\"url(#clip062)\" style=\"stroke:#000000; stroke-width:4; stroke-opacity:1; fill:none\" points=\"\n  3829.74,1384.24 3829.74,1384.24 3857.46,1384.24 3829.74,1384.24 \n  \"/>\n<path clip-path=\"url(#clip062)\" d=\"\nM3857.46 1384.24 L3857.46 1384.24 L3885.19 1384.24 L3885.19 1384.24 L3857.46 1384.24 L3857.46 1384.24  Z\n  \" fill=\"#009af9\" fill-rule=\"evenodd\" fill-opacity=\"1\"/>\n<polyline clip-path=\"url(#clip062)\" style=\"stroke:#000000; stroke-width:4; stroke-opacity:1; fill:none\" points=\"\n  3857.46,1384.24 3857.46,1384.24 3885.19,1384.24 3857.46,1384.24 \n  \"/>\n<path clip-path=\"url(#clip062)\" d=\"\nM3885.19 1384.24 L3885.19 1384.24 L3912.92 1384.24 L3912.92 1384.24 L3885.19 1384.24 L3885.19 1384.24  Z\n  \" fill=\"#009af9\" fill-rule=\"evenodd\" fill-opacity=\"1\"/>\n<polyline clip-path=\"url(#clip062)\" style=\"stroke:#000000; stroke-width:4; stroke-opacity:1; fill:none\" points=\"\n  3885.19,1384.24 3885.19,1384.24 3912.92,1384.24 3885.19,1384.24 \n  \"/>\n<path clip-path=\"url(#clip062)\" d=\"\nM3912.92 1364.27 L3912.92 1384.24 L3940.65 1384.24 L3940.65 1364.27 L3912.92 1364.27 L3912.92 1364.27  Z\n  \" fill=\"#009af9\" fill-rule=\"evenodd\" fill-opacity=\"1\"/>\n<polyline clip-path=\"url(#clip062)\" style=\"stroke:#000000; stroke-width:4; stroke-opacity:1; fill:none\" points=\"\n  3912.92,1364.27 3912.92,1384.24 3940.65,1384.24 3940.65,1364.27 3912.92,1364.27 \n  \"/>\n<path clip-path=\"url(#clip062)\" d=\"\nM3940.65 1384.24 L3940.65 1384.24 L3968.37 1384.24 L3968.37 1384.24 L3940.65 1384.24 L3940.65 1384.24  Z\n  \" fill=\"#009af9\" fill-rule=\"evenodd\" fill-opacity=\"1\"/>\n<polyline clip-path=\"url(#clip062)\" style=\"stroke:#000000; stroke-width:4; stroke-opacity:1; fill:none\" points=\"\n  3940.65,1384.24 3940.65,1384.24 3968.37,1384.24 3940.65,1384.24 \n  \"/>\n<path clip-path=\"url(#clip062)\" d=\"\nM3968.37 1384.24 L3968.37 1384.24 L3996.1 1384.24 L3996.1 1384.24 L3968.37 1384.24 L3968.37 1384.24  Z\n  \" fill=\"#009af9\" fill-rule=\"evenodd\" fill-opacity=\"1\"/>\n<polyline clip-path=\"url(#clip062)\" style=\"stroke:#000000; stroke-width:4; stroke-opacity:1; fill:none\" points=\"\n  3968.37,1384.24 3968.37,1384.24 3996.1,1384.24 3968.37,1384.24 \n  \"/>\n<path clip-path=\"url(#clip062)\" d=\"\nM3996.1 1384.24 L3996.1 1384.24 L4023.83 1384.24 L4023.83 1384.24 L3996.1 1384.24 L3996.1 1384.24  Z\n  \" fill=\"#009af9\" fill-rule=\"evenodd\" fill-opacity=\"1\"/>\n<polyline clip-path=\"url(#clip062)\" style=\"stroke:#000000; stroke-width:4; stroke-opacity:1; fill:none\" points=\"\n  3996.1,1384.24 3996.1,1384.24 4023.83,1384.24 3996.1,1384.24 \n  \"/>\n<path clip-path=\"url(#clip062)\" d=\"\nM4023.83 1384.24 L4023.83 1384.24 L4051.56 1384.24 L4051.56 1384.24 L4023.83 1384.24 L4023.83 1384.24  Z\n  \" fill=\"#009af9\" fill-rule=\"evenodd\" fill-opacity=\"1\"/>\n<polyline clip-path=\"url(#clip062)\" style=\"stroke:#000000; stroke-width:4; stroke-opacity:1; fill:none\" points=\"\n  4023.83,1384.24 4023.83,1384.24 4051.56,1384.24 4023.83,1384.24 \n  \"/>\n<path clip-path=\"url(#clip062)\" d=\"\nM4051.56 1384.24 L4051.56 1384.24 L4079.28 1384.24 L4079.28 1384.24 L4051.56 1384.24 L4051.56 1384.24  Z\n  \" fill=\"#009af9\" fill-rule=\"evenodd\" fill-opacity=\"1\"/>\n<polyline clip-path=\"url(#clip062)\" style=\"stroke:#000000; stroke-width:4; stroke-opacity:1; fill:none\" points=\"\n  4051.56,1384.24 4051.56,1384.24 4079.28,1384.24 4051.56,1384.24 \n  \"/>\n<path clip-path=\"url(#clip062)\" d=\"\nM4079.28 1384.24 L4079.28 1384.24 L4107.01 1384.24 L4107.01 1384.24 L4079.28 1384.24 L4079.28 1384.24  Z\n  \" fill=\"#009af9\" fill-rule=\"evenodd\" fill-opacity=\"1\"/>\n<polyline clip-path=\"url(#clip062)\" style=\"stroke:#000000; stroke-width:4; stroke-opacity:1; fill:none\" points=\"\n  4079.28,1384.24 4079.28,1384.24 4107.01,1384.24 4079.28,1384.24 \n  \"/>\n<path clip-path=\"url(#clip062)\" d=\"\nM4107.01 1384.24 L4107.01 1384.24 L4134.74 1384.24 L4134.74 1384.24 L4107.01 1384.24 L4107.01 1384.24  Z\n  \" fill=\"#009af9\" fill-rule=\"evenodd\" fill-opacity=\"1\"/>\n<polyline clip-path=\"url(#clip062)\" style=\"stroke:#000000; stroke-width:4; stroke-opacity:1; fill:none\" points=\"\n  4107.01,1384.24 4107.01,1384.24 4134.74,1384.24 4107.01,1384.24 \n  \"/>\n<path clip-path=\"url(#clip062)\" d=\"\nM4134.74 1384.24 L4134.74 1384.24 L4162.47 1384.24 L4162.47 1384.24 L4134.74 1384.24 L4134.74 1384.24  Z\n  \" fill=\"#009af9\" fill-rule=\"evenodd\" fill-opacity=\"1\"/>\n<polyline clip-path=\"url(#clip062)\" style=\"stroke:#000000; stroke-width:4; stroke-opacity:1; fill:none\" points=\"\n  4134.74,1384.24 4134.74,1384.24 4162.47,1384.24 4134.74,1384.24 \n  \"/>\n<path clip-path=\"url(#clip062)\" d=\"\nM4162.47 1384.24 L4162.47 1384.24 L4190.19 1384.24 L4190.19 1384.24 L4162.47 1384.24 L4162.47 1384.24  Z\n  \" fill=\"#009af9\" fill-rule=\"evenodd\" fill-opacity=\"1\"/>\n<polyline clip-path=\"url(#clip062)\" style=\"stroke:#000000; stroke-width:4; stroke-opacity:1; fill:none\" points=\"\n  4162.47,1384.24 4162.47,1384.24 4190.19,1384.24 4162.47,1384.24 \n  \"/>\n<path clip-path=\"url(#clip062)\" d=\"\nM4190.19 1384.24 L4190.19 1384.24 L4217.92 1384.24 L4217.92 1384.24 L4190.19 1384.24 L4190.19 1384.24  Z\n  \" fill=\"#009af9\" fill-rule=\"evenodd\" fill-opacity=\"1\"/>\n<polyline clip-path=\"url(#clip062)\" style=\"stroke:#000000; stroke-width:4; stroke-opacity:1; fill:none\" points=\"\n  4190.19,1384.24 4190.19,1384.24 4217.92,1384.24 4190.19,1384.24 \n  \"/>\n<path clip-path=\"url(#clip062)\" d=\"\nM4217.92 1384.24 L4217.92 1384.24 L4245.65 1384.24 L4245.65 1384.24 L4217.92 1384.24 L4217.92 1384.24  Z\n  \" fill=\"#009af9\" fill-rule=\"evenodd\" fill-opacity=\"1\"/>\n<polyline clip-path=\"url(#clip062)\" style=\"stroke:#000000; stroke-width:4; stroke-opacity:1; fill:none\" points=\"\n  4217.92,1384.24 4217.92,1384.24 4245.65,1384.24 4217.92,1384.24 \n  \"/>\n<path clip-path=\"url(#clip062)\" d=\"\nM4245.65 1384.24 L4245.65 1384.24 L4273.38 1384.24 L4273.38 1384.24 L4245.65 1384.24 L4245.65 1384.24  Z\n  \" fill=\"#009af9\" fill-rule=\"evenodd\" fill-opacity=\"1\"/>\n<polyline clip-path=\"url(#clip062)\" style=\"stroke:#000000; stroke-width:4; stroke-opacity:1; fill:none\" points=\"\n  4245.65,1384.24 4245.65,1384.24 4273.38,1384.24 4245.65,1384.24 \n  \"/>\n<path clip-path=\"url(#clip062)\" d=\"\nM4273.38 1384.24 L4273.38 1384.24 L4301.1 1384.24 L4301.1 1384.24 L4273.38 1384.24 L4273.38 1384.24  Z\n  \" fill=\"#009af9\" fill-rule=\"evenodd\" fill-opacity=\"1\"/>\n<polyline clip-path=\"url(#clip062)\" style=\"stroke:#000000; stroke-width:4; stroke-opacity:1; fill:none\" points=\"\n  4273.38,1384.24 4273.38,1384.24 4301.1,1384.24 4273.38,1384.24 \n  \"/>\n<path clip-path=\"url(#clip062)\" d=\"\nM4301.1 1384.24 L4301.1 1384.24 L4328.83 1384.24 L4328.83 1384.24 L4301.1 1384.24 L4301.1 1384.24  Z\n  \" fill=\"#009af9\" fill-rule=\"evenodd\" fill-opacity=\"1\"/>\n<polyline clip-path=\"url(#clip062)\" style=\"stroke:#000000; stroke-width:4; stroke-opacity:1; fill:none\" points=\"\n  4301.1,1384.24 4301.1,1384.24 4328.83,1384.24 4301.1,1384.24 \n  \"/>\n<path clip-path=\"url(#clip062)\" d=\"\nM4328.83 1384.24 L4328.83 1384.24 L4356.56 1384.24 L4356.56 1384.24 L4328.83 1384.24 L4328.83 1384.24  Z\n  \" fill=\"#009af9\" fill-rule=\"evenodd\" fill-opacity=\"1\"/>\n<polyline clip-path=\"url(#clip062)\" style=\"stroke:#000000; stroke-width:4; stroke-opacity:1; fill:none\" points=\"\n  4328.83,1384.24 4328.83,1384.24 4356.56,1384.24 4328.83,1384.24 \n  \"/>\n<path clip-path=\"url(#clip062)\" d=\"\nM4356.56 1384.24 L4356.56 1384.24 L4384.28 1384.24 L4384.28 1384.24 L4356.56 1384.24 L4356.56 1384.24  Z\n  \" fill=\"#009af9\" fill-rule=\"evenodd\" fill-opacity=\"1\"/>\n<polyline clip-path=\"url(#clip062)\" style=\"stroke:#000000; stroke-width:4; stroke-opacity:1; fill:none\" points=\"\n  4356.56,1384.24 4356.56,1384.24 4384.28,1384.24 4356.56,1384.24 \n  \"/>\n<path clip-path=\"url(#clip062)\" d=\"\nM4384.28 1384.24 L4384.28 1384.24 L4412.01 1384.24 L4412.01 1384.24 L4384.28 1384.24 L4384.28 1384.24  Z\n  \" fill=\"#009af9\" fill-rule=\"evenodd\" fill-opacity=\"1\"/>\n<polyline clip-path=\"url(#clip062)\" style=\"stroke:#000000; stroke-width:4; stroke-opacity:1; fill:none\" points=\"\n  4384.28,1384.24 4384.28,1384.24 4412.01,1384.24 4384.28,1384.24 \n  \"/>\n<path clip-path=\"url(#clip062)\" d=\"\nM4412.01 1384.24 L4412.01 1384.24 L4439.74 1384.24 L4439.74 1384.24 L4412.01 1384.24 L4412.01 1384.24  Z\n  \" fill=\"#009af9\" fill-rule=\"evenodd\" fill-opacity=\"1\"/>\n<polyline clip-path=\"url(#clip062)\" style=\"stroke:#000000; stroke-width:4; stroke-opacity:1; fill:none\" points=\"\n  4412.01,1384.24 4412.01,1384.24 4439.74,1384.24 4412.01,1384.24 \n  \"/>\n<path clip-path=\"url(#clip062)\" d=\"\nM4439.74 1384.24 L4439.74 1384.24 L4467.47 1384.24 L4467.47 1384.24 L4439.74 1384.24 L4439.74 1384.24  Z\n  \" fill=\"#009af9\" fill-rule=\"evenodd\" fill-opacity=\"1\"/>\n<polyline clip-path=\"url(#clip062)\" style=\"stroke:#000000; stroke-width:4; stroke-opacity:1; fill:none\" points=\"\n  4439.74,1384.24 4439.74,1384.24 4467.47,1384.24 4439.74,1384.24 \n  \"/>\n<path clip-path=\"url(#clip062)\" d=\"\nM4467.47 1384.24 L4467.47 1384.24 L4495.19 1384.24 L4495.19 1384.24 L4467.47 1384.24 L4467.47 1384.24  Z\n  \" fill=\"#009af9\" fill-rule=\"evenodd\" fill-opacity=\"1\"/>\n<polyline clip-path=\"url(#clip062)\" style=\"stroke:#000000; stroke-width:4; stroke-opacity:1; fill:none\" points=\"\n  4467.47,1384.24 4467.47,1384.24 4495.19,1384.24 4467.47,1384.24 \n  \"/>\n<path clip-path=\"url(#clip062)\" d=\"\nM4495.19 1384.24 L4495.19 1384.24 L4522.92 1384.24 L4522.92 1384.24 L4495.19 1384.24 L4495.19 1384.24  Z\n  \" fill=\"#009af9\" fill-rule=\"evenodd\" fill-opacity=\"1\"/>\n<polyline clip-path=\"url(#clip062)\" style=\"stroke:#000000; stroke-width:4; stroke-opacity:1; fill:none\" points=\"\n  4495.19,1384.24 4495.19,1384.24 4522.92,1384.24 4495.19,1384.24 \n  \"/>\n<path clip-path=\"url(#clip062)\" d=\"\nM4522.92 1384.24 L4522.92 1384.24 L4550.65 1384.24 L4550.65 1384.24 L4522.92 1384.24 L4522.92 1384.24  Z\n  \" fill=\"#009af9\" fill-rule=\"evenodd\" fill-opacity=\"1\"/>\n<polyline clip-path=\"url(#clip062)\" style=\"stroke:#000000; stroke-width:4; stroke-opacity:1; fill:none\" points=\"\n  4522.92,1384.24 4522.92,1384.24 4550.65,1384.24 4522.92,1384.24 \n  \"/>\n<path clip-path=\"url(#clip062)\" d=\"\nM4550.65 1384.24 L4550.65 1384.24 L4578.38 1384.24 L4578.38 1384.24 L4550.65 1384.24 L4550.65 1384.24  Z\n  \" fill=\"#009af9\" fill-rule=\"evenodd\" fill-opacity=\"1\"/>\n<polyline clip-path=\"url(#clip062)\" style=\"stroke:#000000; stroke-width:4; stroke-opacity:1; fill:none\" points=\"\n  4550.65,1384.24 4550.65,1384.24 4578.38,1384.24 4550.65,1384.24 \n  \"/>\n<path clip-path=\"url(#clip062)\" d=\"\nM4578.38 1384.24 L4578.38 1384.24 L4606.1 1384.24 L4606.1 1384.24 L4578.38 1384.24 L4578.38 1384.24  Z\n  \" fill=\"#009af9\" fill-rule=\"evenodd\" fill-opacity=\"1\"/>\n<polyline clip-path=\"url(#clip062)\" style=\"stroke:#000000; stroke-width:4; stroke-opacity:1; fill:none\" points=\"\n  4578.38,1384.24 4578.38,1384.24 4606.1,1384.24 4578.38,1384.24 \n  \"/>\n<path clip-path=\"url(#clip062)\" d=\"\nM4606.1 1384.24 L4606.1 1384.24 L4633.83 1384.24 L4633.83 1384.24 L4606.1 1384.24 L4606.1 1384.24  Z\n  \" fill=\"#009af9\" fill-rule=\"evenodd\" fill-opacity=\"1\"/>\n<polyline clip-path=\"url(#clip062)\" style=\"stroke:#000000; stroke-width:4; stroke-opacity:1; fill:none\" points=\"\n  4606.1,1384.24 4606.1,1384.24 4633.83,1384.24 4606.1,1384.24 \n  \"/>\n<path clip-path=\"url(#clip062)\" d=\"\nM4633.83 1384.24 L4633.83 1384.24 L4661.56 1384.24 L4661.56 1384.24 L4633.83 1384.24 L4633.83 1384.24  Z\n  \" fill=\"#009af9\" fill-rule=\"evenodd\" fill-opacity=\"1\"/>\n<polyline clip-path=\"url(#clip062)\" style=\"stroke:#000000; stroke-width:4; stroke-opacity:1; fill:none\" points=\"\n  4633.83,1384.24 4633.83,1384.24 4661.56,1384.24 4633.83,1384.24 \n  \"/>\n<path clip-path=\"url(#clip062)\" d=\"\nM4661.56 1384.24 L4661.56 1384.24 L4689.29 1384.24 L4689.29 1384.24 L4661.56 1384.24 L4661.56 1384.24  Z\n  \" fill=\"#009af9\" fill-rule=\"evenodd\" fill-opacity=\"1\"/>\n<polyline clip-path=\"url(#clip062)\" style=\"stroke:#000000; stroke-width:4; stroke-opacity:1; fill:none\" points=\"\n  4661.56,1384.24 4661.56,1384.24 4689.29,1384.24 4661.56,1384.24 \n  \"/>\n<path clip-path=\"url(#clip062)\" d=\"\nM4689.29 1364.27 L4689.29 1384.24 L4717.01 1384.24 L4717.01 1364.27 L4689.29 1364.27 L4689.29 1364.27  Z\n  \" fill=\"#009af9\" fill-rule=\"evenodd\" fill-opacity=\"1\"/>\n<polyline clip-path=\"url(#clip062)\" style=\"stroke:#000000; stroke-width:4; stroke-opacity:1; fill:none\" points=\"\n  4689.29,1364.27 4689.29,1384.24 4717.01,1384.24 4717.01,1364.27 4689.29,1364.27 \n  \"/>\n<path clip-path=\"url(#clip062)\" d=\"\nM4717.01 1384.24 L4717.01 1384.24 L4744.74 1384.24 L4744.74 1384.24 L4717.01 1384.24 L4717.01 1384.24  Z\n  \" fill=\"#009af9\" fill-rule=\"evenodd\" fill-opacity=\"1\"/>\n<polyline clip-path=\"url(#clip062)\" style=\"stroke:#000000; stroke-width:4; stroke-opacity:1; fill:none\" points=\"\n  4717.01,1384.24 4717.01,1384.24 4744.74,1384.24 4717.01,1384.24 \n  \"/>\n<path clip-path=\"url(#clip062)\" d=\"\nM4744.74 1384.24 L4744.74 1384.24 L4772.47 1384.24 L4772.47 1384.24 L4744.74 1384.24 L4744.74 1384.24  Z\n  \" fill=\"#009af9\" fill-rule=\"evenodd\" fill-opacity=\"1\"/>\n<polyline clip-path=\"url(#clip062)\" style=\"stroke:#000000; stroke-width:4; stroke-opacity:1; fill:none\" points=\"\n  4744.74,1384.24 4744.74,1384.24 4772.47,1384.24 4744.74,1384.24 \n  \"/>\n<path clip-path=\"url(#clip062)\" d=\"\nM4772.47 1384.24 L4772.47 1384.24 L4800.2 1384.24 L4800.2 1384.24 L4772.47 1384.24 L4772.47 1384.24  Z\n  \" fill=\"#009af9\" fill-rule=\"evenodd\" fill-opacity=\"1\"/>\n<polyline clip-path=\"url(#clip062)\" style=\"stroke:#000000; stroke-width:4; stroke-opacity:1; fill:none\" points=\"\n  4772.47,1384.24 4772.47,1384.24 4800.2,1384.24 4772.47,1384.24 \n  \"/>\n<path clip-path=\"url(#clip062)\" d=\"\nM4800.2 1384.24 L4800.2 1384.24 L4827.92 1384.24 L4827.92 1384.24 L4800.2 1384.24 L4800.2 1384.24  Z\n  \" fill=\"#009af9\" fill-rule=\"evenodd\" fill-opacity=\"1\"/>\n<polyline clip-path=\"url(#clip062)\" style=\"stroke:#000000; stroke-width:4; stroke-opacity:1; fill:none\" points=\"\n  4800.2,1384.24 4800.2,1384.24 4827.92,1384.24 4800.2,1384.24 \n  \"/>\n<path clip-path=\"url(#clip062)\" d=\"\nM4827.92 1384.24 L4827.92 1384.24 L4855.65 1384.24 L4855.65 1384.24 L4827.92 1384.24 L4827.92 1384.24  Z\n  \" fill=\"#009af9\" fill-rule=\"evenodd\" fill-opacity=\"1\"/>\n<polyline clip-path=\"url(#clip062)\" style=\"stroke:#000000; stroke-width:4; stroke-opacity:1; fill:none\" points=\"\n  4827.92,1384.24 4827.92,1384.24 4855.65,1384.24 4827.92,1384.24 \n  \"/>\n<path clip-path=\"url(#clip062)\" d=\"\nM4855.65 1384.24 L4855.65 1384.24 L4883.38 1384.24 L4883.38 1384.24 L4855.65 1384.24 L4855.65 1384.24  Z\n  \" fill=\"#009af9\" fill-rule=\"evenodd\" fill-opacity=\"1\"/>\n<polyline clip-path=\"url(#clip062)\" style=\"stroke:#000000; stroke-width:4; stroke-opacity:1; fill:none\" points=\"\n  4855.65,1384.24 4855.65,1384.24 4883.38,1384.24 4855.65,1384.24 \n  \"/>\n<path clip-path=\"url(#clip062)\" d=\"\nM4883.38 1384.24 L4883.38 1384.24 L4911.11 1384.24 L4911.11 1384.24 L4883.38 1384.24 L4883.38 1384.24  Z\n  \" fill=\"#009af9\" fill-rule=\"evenodd\" fill-opacity=\"1\"/>\n<polyline clip-path=\"url(#clip062)\" style=\"stroke:#000000; stroke-width:4; stroke-opacity:1; fill:none\" points=\"\n  4883.38,1384.24 4883.38,1384.24 4911.11,1384.24 4883.38,1384.24 \n  \"/>\n<path clip-path=\"url(#clip062)\" d=\"\nM4911.11 1384.24 L4911.11 1384.24 L4938.83 1384.24 L4938.83 1384.24 L4911.11 1384.24 L4911.11 1384.24  Z\n  \" fill=\"#009af9\" fill-rule=\"evenodd\" fill-opacity=\"1\"/>\n<polyline clip-path=\"url(#clip062)\" style=\"stroke:#000000; stroke-width:4; stroke-opacity:1; fill:none\" points=\"\n  4911.11,1384.24 4911.11,1384.24 4938.83,1384.24 4911.11,1384.24 \n  \"/>\n<path clip-path=\"url(#clip062)\" d=\"\nM4938.83 1384.24 L4938.83 1384.24 L4966.56 1384.24 L4966.56 1384.24 L4938.83 1384.24 L4938.83 1384.24  Z\n  \" fill=\"#009af9\" fill-rule=\"evenodd\" fill-opacity=\"1\"/>\n<polyline clip-path=\"url(#clip062)\" style=\"stroke:#000000; stroke-width:4; stroke-opacity:1; fill:none\" points=\"\n  4938.83,1384.24 4938.83,1384.24 4966.56,1384.24 4938.83,1384.24 \n  \"/>\n<path clip-path=\"url(#clip062)\" d=\"\nM4966.56 1384.24 L4966.56 1384.24 L4994.29 1384.24 L4994.29 1384.24 L4966.56 1384.24 L4966.56 1384.24  Z\n  \" fill=\"#009af9\" fill-rule=\"evenodd\" fill-opacity=\"1\"/>\n<polyline clip-path=\"url(#clip062)\" style=\"stroke:#000000; stroke-width:4; stroke-opacity:1; fill:none\" points=\"\n  4966.56,1384.24 4966.56,1384.24 4994.29,1384.24 4966.56,1384.24 \n  \"/>\n<path clip-path=\"url(#clip062)\" d=\"\nM4994.29 1384.24 L4994.29 1384.24 L5022.01 1384.24 L5022.01 1384.24 L4994.29 1384.24 L4994.29 1384.24  Z\n  \" fill=\"#009af9\" fill-rule=\"evenodd\" fill-opacity=\"1\"/>\n<polyline clip-path=\"url(#clip062)\" style=\"stroke:#000000; stroke-width:4; stroke-opacity:1; fill:none\" points=\"\n  4994.29,1384.24 4994.29,1384.24 5022.01,1384.24 4994.29,1384.24 \n  \"/>\n<path clip-path=\"url(#clip062)\" d=\"\nM5022.01 1384.24 L5022.01 1384.24 L5049.74 1384.24 L5049.74 1384.24 L5022.01 1384.24 L5022.01 1384.24  Z\n  \" fill=\"#009af9\" fill-rule=\"evenodd\" fill-opacity=\"1\"/>\n<polyline clip-path=\"url(#clip062)\" style=\"stroke:#000000; stroke-width:4; stroke-opacity:1; fill:none\" points=\"\n  5022.01,1384.24 5022.01,1384.24 5049.74,1384.24 5022.01,1384.24 \n  \"/>\n<path clip-path=\"url(#clip062)\" d=\"\nM5049.74 1384.24 L5049.74 1384.24 L5077.47 1384.24 L5077.47 1384.24 L5049.74 1384.24 L5049.74 1384.24  Z\n  \" fill=\"#009af9\" fill-rule=\"evenodd\" fill-opacity=\"1\"/>\n<polyline clip-path=\"url(#clip062)\" style=\"stroke:#000000; stroke-width:4; stroke-opacity:1; fill:none\" points=\"\n  5049.74,1384.24 5049.74,1384.24 5077.47,1384.24 5049.74,1384.24 \n  \"/>\n<path clip-path=\"url(#clip062)\" d=\"\nM5077.47 1384.24 L5077.47 1384.24 L5105.2 1384.24 L5105.2 1384.24 L5077.47 1384.24 L5077.47 1384.24  Z\n  \" fill=\"#009af9\" fill-rule=\"evenodd\" fill-opacity=\"1\"/>\n<polyline clip-path=\"url(#clip062)\" style=\"stroke:#000000; stroke-width:4; stroke-opacity:1; fill:none\" points=\"\n  5077.47,1384.24 5077.47,1384.24 5105.2,1384.24 5077.47,1384.24 \n  \"/>\n<path clip-path=\"url(#clip062)\" d=\"\nM5105.2 1384.24 L5105.2 1384.24 L5132.92 1384.24 L5132.92 1384.24 L5105.2 1384.24 L5105.2 1384.24  Z\n  \" fill=\"#009af9\" fill-rule=\"evenodd\" fill-opacity=\"1\"/>\n<polyline clip-path=\"url(#clip062)\" style=\"stroke:#000000; stroke-width:4; stroke-opacity:1; fill:none\" points=\"\n  5105.2,1384.24 5105.2,1384.24 5132.92,1384.24 5105.2,1384.24 \n  \"/>\n<path clip-path=\"url(#clip062)\" d=\"\nM5132.92 1384.24 L5132.92 1384.24 L5160.65 1384.24 L5160.65 1384.24 L5132.92 1384.24 L5132.92 1384.24  Z\n  \" fill=\"#009af9\" fill-rule=\"evenodd\" fill-opacity=\"1\"/>\n<polyline clip-path=\"url(#clip062)\" style=\"stroke:#000000; stroke-width:4; stroke-opacity:1; fill:none\" points=\"\n  5132.92,1384.24 5132.92,1384.24 5160.65,1384.24 5132.92,1384.24 \n  \"/>\n<path clip-path=\"url(#clip062)\" d=\"\nM5160.65 1384.24 L5160.65 1384.24 L5188.38 1384.24 L5188.38 1384.24 L5160.65 1384.24 L5160.65 1384.24  Z\n  \" fill=\"#009af9\" fill-rule=\"evenodd\" fill-opacity=\"1\"/>\n<polyline clip-path=\"url(#clip062)\" style=\"stroke:#000000; stroke-width:4; stroke-opacity:1; fill:none\" points=\"\n  5160.65,1384.24 5160.65,1384.24 5188.38,1384.24 5160.65,1384.24 \n  \"/>\n<path clip-path=\"url(#clip062)\" d=\"\nM5188.38 1384.24 L5188.38 1384.24 L5216.11 1384.24 L5216.11 1384.24 L5188.38 1384.24 L5188.38 1384.24  Z\n  \" fill=\"#009af9\" fill-rule=\"evenodd\" fill-opacity=\"1\"/>\n<polyline clip-path=\"url(#clip062)\" style=\"stroke:#000000; stroke-width:4; stroke-opacity:1; fill:none\" points=\"\n  5188.38,1384.24 5188.38,1384.24 5216.11,1384.24 5188.38,1384.24 \n  \"/>\n<path clip-path=\"url(#clip062)\" d=\"\nM5216.11 1384.24 L5216.11 1384.24 L5243.83 1384.24 L5243.83 1384.24 L5216.11 1384.24 L5216.11 1384.24  Z\n  \" fill=\"#009af9\" fill-rule=\"evenodd\" fill-opacity=\"1\"/>\n<polyline clip-path=\"url(#clip062)\" style=\"stroke:#000000; stroke-width:4; stroke-opacity:1; fill:none\" points=\"\n  5216.11,1384.24 5216.11,1384.24 5243.83,1384.24 5216.11,1384.24 \n  \"/>\n<path clip-path=\"url(#clip062)\" d=\"\nM5243.83 1384.24 L5243.83 1384.24 L5271.56 1384.24 L5271.56 1384.24 L5243.83 1384.24 L5243.83 1384.24  Z\n  \" fill=\"#009af9\" fill-rule=\"evenodd\" fill-opacity=\"1\"/>\n<polyline clip-path=\"url(#clip062)\" style=\"stroke:#000000; stroke-width:4; stroke-opacity:1; fill:none\" points=\"\n  5243.83,1384.24 5243.83,1384.24 5271.56,1384.24 5243.83,1384.24 \n  \"/>\n<path clip-path=\"url(#clip062)\" d=\"\nM5271.56 1384.24 L5271.56 1384.24 L5299.29 1384.24 L5299.29 1384.24 L5271.56 1384.24 L5271.56 1384.24  Z\n  \" fill=\"#009af9\" fill-rule=\"evenodd\" fill-opacity=\"1\"/>\n<polyline clip-path=\"url(#clip062)\" style=\"stroke:#000000; stroke-width:4; stroke-opacity:1; fill:none\" points=\"\n  5271.56,1384.24 5271.56,1384.24 5299.29,1384.24 5271.56,1384.24 \n  \"/>\n<path clip-path=\"url(#clip062)\" d=\"\nM5299.29 1384.24 L5299.29 1384.24 L5327.02 1384.24 L5327.02 1384.24 L5299.29 1384.24 L5299.29 1384.24  Z\n  \" fill=\"#009af9\" fill-rule=\"evenodd\" fill-opacity=\"1\"/>\n<polyline clip-path=\"url(#clip062)\" style=\"stroke:#000000; stroke-width:4; stroke-opacity:1; fill:none\" points=\"\n  5299.29,1384.24 5299.29,1384.24 5327.02,1384.24 5299.29,1384.24 \n  \"/>\n<path clip-path=\"url(#clip062)\" d=\"\nM5327.02 1384.24 L5327.02 1384.24 L5354.74 1384.24 L5354.74 1384.24 L5327.02 1384.24 L5327.02 1384.24  Z\n  \" fill=\"#009af9\" fill-rule=\"evenodd\" fill-opacity=\"1\"/>\n<polyline clip-path=\"url(#clip062)\" style=\"stroke:#000000; stroke-width:4; stroke-opacity:1; fill:none\" points=\"\n  5327.02,1384.24 5327.02,1384.24 5354.74,1384.24 5327.02,1384.24 \n  \"/>\n<path clip-path=\"url(#clip062)\" d=\"\nM5354.74 1384.24 L5354.74 1384.24 L5382.47 1384.24 L5382.47 1384.24 L5354.74 1384.24 L5354.74 1384.24  Z\n  \" fill=\"#009af9\" fill-rule=\"evenodd\" fill-opacity=\"1\"/>\n<polyline clip-path=\"url(#clip062)\" style=\"stroke:#000000; stroke-width:4; stroke-opacity:1; fill:none\" points=\"\n  5354.74,1384.24 5354.74,1384.24 5382.47,1384.24 5354.74,1384.24 \n  \"/>\n<path clip-path=\"url(#clip062)\" d=\"\nM5382.47 1384.24 L5382.47 1384.24 L5410.2 1384.24 L5410.2 1384.24 L5382.47 1384.24 L5382.47 1384.24  Z\n  \" fill=\"#009af9\" fill-rule=\"evenodd\" fill-opacity=\"1\"/>\n<polyline clip-path=\"url(#clip062)\" style=\"stroke:#000000; stroke-width:4; stroke-opacity:1; fill:none\" points=\"\n  5382.47,1384.24 5382.47,1384.24 5410.2,1384.24 5382.47,1384.24 \n  \"/>\n<path clip-path=\"url(#clip062)\" d=\"\nM5410.2 1384.24 L5410.2 1384.24 L5437.93 1384.24 L5437.93 1384.24 L5410.2 1384.24 L5410.2 1384.24  Z\n  \" fill=\"#009af9\" fill-rule=\"evenodd\" fill-opacity=\"1\"/>\n<polyline clip-path=\"url(#clip062)\" style=\"stroke:#000000; stroke-width:4; stroke-opacity:1; fill:none\" points=\"\n  5410.2,1384.24 5410.2,1384.24 5437.93,1384.24 5410.2,1384.24 \n  \"/>\n<path clip-path=\"url(#clip062)\" d=\"\nM5437.93 1384.24 L5437.93 1384.24 L5465.65 1384.24 L5465.65 1384.24 L5437.93 1384.24 L5437.93 1384.24  Z\n  \" fill=\"#009af9\" fill-rule=\"evenodd\" fill-opacity=\"1\"/>\n<polyline clip-path=\"url(#clip062)\" style=\"stroke:#000000; stroke-width:4; stroke-opacity:1; fill:none\" points=\"\n  5437.93,1384.24 5437.93,1384.24 5465.65,1384.24 5437.93,1384.24 \n  \"/>\n<path clip-path=\"url(#clip062)\" d=\"\nM5465.65 1384.24 L5465.65 1384.24 L5493.38 1384.24 L5493.38 1384.24 L5465.65 1384.24 L5465.65 1384.24  Z\n  \" fill=\"#009af9\" fill-rule=\"evenodd\" fill-opacity=\"1\"/>\n<polyline clip-path=\"url(#clip062)\" style=\"stroke:#000000; stroke-width:4; stroke-opacity:1; fill:none\" points=\"\n  5465.65,1384.24 5465.65,1384.24 5493.38,1384.24 5465.65,1384.24 \n  \"/>\n<path clip-path=\"url(#clip062)\" d=\"\nM5493.38 1384.24 L5493.38 1384.24 L5521.11 1384.24 L5521.11 1384.24 L5493.38 1384.24 L5493.38 1384.24  Z\n  \" fill=\"#009af9\" fill-rule=\"evenodd\" fill-opacity=\"1\"/>\n<polyline clip-path=\"url(#clip062)\" style=\"stroke:#000000; stroke-width:4; stroke-opacity:1; fill:none\" points=\"\n  5493.38,1384.24 5493.38,1384.24 5521.11,1384.24 5493.38,1384.24 \n  \"/>\n<path clip-path=\"url(#clip062)\" d=\"\nM5521.11 1384.24 L5521.11 1384.24 L5548.84 1384.24 L5548.84 1384.24 L5521.11 1384.24 L5521.11 1384.24  Z\n  \" fill=\"#009af9\" fill-rule=\"evenodd\" fill-opacity=\"1\"/>\n<polyline clip-path=\"url(#clip062)\" style=\"stroke:#000000; stroke-width:4; stroke-opacity:1; fill:none\" points=\"\n  5521.11,1384.24 5521.11,1384.24 5548.84,1384.24 5521.11,1384.24 \n  \"/>\n<path clip-path=\"url(#clip062)\" d=\"\nM5548.84 1384.24 L5548.84 1384.24 L5576.56 1384.24 L5576.56 1384.24 L5548.84 1384.24 L5548.84 1384.24  Z\n  \" fill=\"#009af9\" fill-rule=\"evenodd\" fill-opacity=\"1\"/>\n<polyline clip-path=\"url(#clip062)\" style=\"stroke:#000000; stroke-width:4; stroke-opacity:1; fill:none\" points=\"\n  5548.84,1384.24 5548.84,1384.24 5576.56,1384.24 5548.84,1384.24 \n  \"/>\n<path clip-path=\"url(#clip062)\" d=\"\nM5576.56 1384.24 L5576.56 1384.24 L5604.29 1384.24 L5604.29 1384.24 L5576.56 1384.24 L5576.56 1384.24  Z\n  \" fill=\"#009af9\" fill-rule=\"evenodd\" fill-opacity=\"1\"/>\n<polyline clip-path=\"url(#clip062)\" style=\"stroke:#000000; stroke-width:4; stroke-opacity:1; fill:none\" points=\"\n  5576.56,1384.24 5576.56,1384.24 5604.29,1384.24 5576.56,1384.24 \n  \"/>\n<path clip-path=\"url(#clip062)\" d=\"\nM5604.29 1384.24 L5604.29 1384.24 L5632.02 1384.24 L5632.02 1384.24 L5604.29 1384.24 L5604.29 1384.24  Z\n  \" fill=\"#009af9\" fill-rule=\"evenodd\" fill-opacity=\"1\"/>\n<polyline clip-path=\"url(#clip062)\" style=\"stroke:#000000; stroke-width:4; stroke-opacity:1; fill:none\" points=\"\n  5604.29,1384.24 5604.29,1384.24 5632.02,1384.24 5604.29,1384.24 \n  \"/>\n<path clip-path=\"url(#clip062)\" d=\"\nM5632.02 1384.24 L5632.02 1384.24 L5659.74 1384.24 L5659.74 1384.24 L5632.02 1384.24 L5632.02 1384.24  Z\n  \" fill=\"#009af9\" fill-rule=\"evenodd\" fill-opacity=\"1\"/>\n<polyline clip-path=\"url(#clip062)\" style=\"stroke:#000000; stroke-width:4; stroke-opacity:1; fill:none\" points=\"\n  5632.02,1384.24 5632.02,1384.24 5659.74,1384.24 5632.02,1384.24 \n  \"/>\n<path clip-path=\"url(#clip062)\" d=\"\nM5659.74 1384.24 L5659.74 1384.24 L5687.47 1384.24 L5687.47 1384.24 L5659.74 1384.24 L5659.74 1384.24  Z\n  \" fill=\"#009af9\" fill-rule=\"evenodd\" fill-opacity=\"1\"/>\n<polyline clip-path=\"url(#clip062)\" style=\"stroke:#000000; stroke-width:4; stroke-opacity:1; fill:none\" points=\"\n  5659.74,1384.24 5659.74,1384.24 5687.47,1384.24 5659.74,1384.24 \n  \"/>\n<path clip-path=\"url(#clip062)\" d=\"\nM5687.47 1384.24 L5687.47 1384.24 L5715.2 1384.24 L5715.2 1384.24 L5687.47 1384.24 L5687.47 1384.24  Z\n  \" fill=\"#009af9\" fill-rule=\"evenodd\" fill-opacity=\"1\"/>\n<polyline clip-path=\"url(#clip062)\" style=\"stroke:#000000; stroke-width:4; stroke-opacity:1; fill:none\" points=\"\n  5687.47,1384.24 5687.47,1384.24 5715.2,1384.24 5687.47,1384.24 \n  \"/>\n<path clip-path=\"url(#clip062)\" d=\"\nM5715.2 1384.24 L5715.2 1384.24 L5742.93 1384.24 L5742.93 1384.24 L5715.2 1384.24 L5715.2 1384.24  Z\n  \" fill=\"#009af9\" fill-rule=\"evenodd\" fill-opacity=\"1\"/>\n<polyline clip-path=\"url(#clip062)\" style=\"stroke:#000000; stroke-width:4; stroke-opacity:1; fill:none\" points=\"\n  5715.2,1384.24 5715.2,1384.24 5742.93,1384.24 5715.2,1384.24 \n  \"/>\n<path clip-path=\"url(#clip062)\" d=\"\nM5742.93 1384.24 L5742.93 1384.24 L5770.65 1384.24 L5770.65 1384.24 L5742.93 1384.24 L5742.93 1384.24  Z\n  \" fill=\"#009af9\" fill-rule=\"evenodd\" fill-opacity=\"1\"/>\n<polyline clip-path=\"url(#clip062)\" style=\"stroke:#000000; stroke-width:4; stroke-opacity:1; fill:none\" points=\"\n  5742.93,1384.24 5742.93,1384.24 5770.65,1384.24 5742.93,1384.24 \n  \"/>\n<path clip-path=\"url(#clip062)\" d=\"\nM5770.65 1384.24 L5770.65 1384.24 L5798.38 1384.24 L5798.38 1384.24 L5770.65 1384.24 L5770.65 1384.24  Z\n  \" fill=\"#009af9\" fill-rule=\"evenodd\" fill-opacity=\"1\"/>\n<polyline clip-path=\"url(#clip062)\" style=\"stroke:#000000; stroke-width:4; stroke-opacity:1; fill:none\" points=\"\n  5770.65,1384.24 5770.65,1384.24 5798.38,1384.24 5770.65,1384.24 \n  \"/>\n<path clip-path=\"url(#clip062)\" d=\"\nM5798.38 1384.24 L5798.38 1384.24 L5826.11 1384.24 L5826.11 1384.24 L5798.38 1384.24 L5798.38 1384.24  Z\n  \" fill=\"#009af9\" fill-rule=\"evenodd\" fill-opacity=\"1\"/>\n<polyline clip-path=\"url(#clip062)\" style=\"stroke:#000000; stroke-width:4; stroke-opacity:1; fill:none\" points=\"\n  5798.38,1384.24 5798.38,1384.24 5826.11,1384.24 5798.38,1384.24 \n  \"/>\n<path clip-path=\"url(#clip062)\" d=\"\nM5826.11 1384.24 L5826.11 1384.24 L5853.84 1384.24 L5853.84 1384.24 L5826.11 1384.24 L5826.11 1384.24  Z\n  \" fill=\"#009af9\" fill-rule=\"evenodd\" fill-opacity=\"1\"/>\n<polyline clip-path=\"url(#clip062)\" style=\"stroke:#000000; stroke-width:4; stroke-opacity:1; fill:none\" points=\"\n  5826.11,1384.24 5826.11,1384.24 5853.84,1384.24 5826.11,1384.24 \n  \"/>\n<path clip-path=\"url(#clip062)\" d=\"\nM5853.84 1384.24 L5853.84 1384.24 L5881.56 1384.24 L5881.56 1384.24 L5853.84 1384.24 L5853.84 1384.24  Z\n  \" fill=\"#009af9\" fill-rule=\"evenodd\" fill-opacity=\"1\"/>\n<polyline clip-path=\"url(#clip062)\" style=\"stroke:#000000; stroke-width:4; stroke-opacity:1; fill:none\" points=\"\n  5853.84,1384.24 5853.84,1384.24 5881.56,1384.24 5853.84,1384.24 \n  \"/>\n<path clip-path=\"url(#clip062)\" d=\"\nM5881.56 1384.24 L5881.56 1384.24 L5909.29 1384.24 L5909.29 1384.24 L5881.56 1384.24 L5881.56 1384.24  Z\n  \" fill=\"#009af9\" fill-rule=\"evenodd\" fill-opacity=\"1\"/>\n<polyline clip-path=\"url(#clip062)\" style=\"stroke:#000000; stroke-width:4; stroke-opacity:1; fill:none\" points=\"\n  5881.56,1384.24 5881.56,1384.24 5909.29,1384.24 5881.56,1384.24 \n  \"/>\n<path clip-path=\"url(#clip062)\" d=\"\nM5909.29 1384.24 L5909.29 1384.24 L5937.02 1384.24 L5937.02 1384.24 L5909.29 1384.24 L5909.29 1384.24  Z\n  \" fill=\"#009af9\" fill-rule=\"evenodd\" fill-opacity=\"1\"/>\n<polyline clip-path=\"url(#clip062)\" style=\"stroke:#000000; stroke-width:4; stroke-opacity:1; fill:none\" points=\"\n  5909.29,1384.24 5909.29,1384.24 5937.02,1384.24 5909.29,1384.24 \n  \"/>\n<path clip-path=\"url(#clip062)\" d=\"\nM5937.02 1384.24 L5937.02 1384.24 L5964.75 1384.24 L5964.75 1384.24 L5937.02 1384.24 L5937.02 1384.24  Z\n  \" fill=\"#009af9\" fill-rule=\"evenodd\" fill-opacity=\"1\"/>\n<polyline clip-path=\"url(#clip062)\" style=\"stroke:#000000; stroke-width:4; stroke-opacity:1; fill:none\" points=\"\n  5937.02,1384.24 5937.02,1384.24 5964.75,1384.24 5937.02,1384.24 \n  \"/>\n<path clip-path=\"url(#clip062)\" d=\"\nM5964.75 1384.24 L5964.75 1384.24 L5992.47 1384.24 L5992.47 1384.24 L5964.75 1384.24 L5964.75 1384.24  Z\n  \" fill=\"#009af9\" fill-rule=\"evenodd\" fill-opacity=\"1\"/>\n<polyline clip-path=\"url(#clip062)\" style=\"stroke:#000000; stroke-width:4; stroke-opacity:1; fill:none\" points=\"\n  5964.75,1384.24 5964.75,1384.24 5992.47,1384.24 5964.75,1384.24 \n  \"/>\n<path clip-path=\"url(#clip062)\" d=\"\nM5992.47 1384.24 L5992.47 1384.24 L6020.2 1384.24 L6020.2 1384.24 L5992.47 1384.24 L5992.47 1384.24  Z\n  \" fill=\"#009af9\" fill-rule=\"evenodd\" fill-opacity=\"1\"/>\n<polyline clip-path=\"url(#clip062)\" style=\"stroke:#000000; stroke-width:4; stroke-opacity:1; fill:none\" points=\"\n  5992.47,1384.24 5992.47,1384.24 6020.2,1384.24 5992.47,1384.24 \n  \"/>\n<path clip-path=\"url(#clip062)\" d=\"\nM6020.2 1384.24 L6020.2 1384.24 L6047.93 1384.24 L6047.93 1384.24 L6020.2 1384.24 L6020.2 1384.24  Z\n  \" fill=\"#009af9\" fill-rule=\"evenodd\" fill-opacity=\"1\"/>\n<polyline clip-path=\"url(#clip062)\" style=\"stroke:#000000; stroke-width:4; stroke-opacity:1; fill:none\" points=\"\n  6020.2,1384.24 6020.2,1384.24 6047.93,1384.24 6020.2,1384.24 \n  \"/>\n<path clip-path=\"url(#clip062)\" d=\"\nM6047.93 1384.24 L6047.93 1384.24 L6075.66 1384.24 L6075.66 1384.24 L6047.93 1384.24 L6047.93 1384.24  Z\n  \" fill=\"#009af9\" fill-rule=\"evenodd\" fill-opacity=\"1\"/>\n<polyline clip-path=\"url(#clip062)\" style=\"stroke:#000000; stroke-width:4; stroke-opacity:1; fill:none\" points=\"\n  6047.93,1384.24 6047.93,1384.24 6075.66,1384.24 6047.93,1384.24 \n  \"/>\n<path clip-path=\"url(#clip062)\" d=\"\nM6075.66 1384.24 L6075.66 1384.24 L6103.38 1384.24 L6103.38 1384.24 L6075.66 1384.24 L6075.66 1384.24  Z\n  \" fill=\"#009af9\" fill-rule=\"evenodd\" fill-opacity=\"1\"/>\n<polyline clip-path=\"url(#clip062)\" style=\"stroke:#000000; stroke-width:4; stroke-opacity:1; fill:none\" points=\"\n  6075.66,1384.24 6075.66,1384.24 6103.38,1384.24 6075.66,1384.24 \n  \"/>\n<path clip-path=\"url(#clip062)\" d=\"\nM6103.38 1384.24 L6103.38 1384.24 L6131.11 1384.24 L6131.11 1384.24 L6103.38 1384.24 L6103.38 1384.24  Z\n  \" fill=\"#009af9\" fill-rule=\"evenodd\" fill-opacity=\"1\"/>\n<polyline clip-path=\"url(#clip062)\" style=\"stroke:#000000; stroke-width:4; stroke-opacity:1; fill:none\" points=\"\n  6103.38,1384.24 6103.38,1384.24 6131.11,1384.24 6103.38,1384.24 \n  \"/>\n<path clip-path=\"url(#clip062)\" d=\"\nM6131.11 1384.24 L6131.11 1384.24 L6158.84 1384.24 L6158.84 1384.24 L6131.11 1384.24 L6131.11 1384.24  Z\n  \" fill=\"#009af9\" fill-rule=\"evenodd\" fill-opacity=\"1\"/>\n<polyline clip-path=\"url(#clip062)\" style=\"stroke:#000000; stroke-width:4; stroke-opacity:1; fill:none\" points=\"\n  6131.11,1384.24 6131.11,1384.24 6158.84,1384.24 6131.11,1384.24 \n  \"/>\n<path clip-path=\"url(#clip062)\" d=\"\nM6158.84 1384.24 L6158.84 1384.24 L6186.56 1384.24 L6186.56 1384.24 L6158.84 1384.24 L6158.84 1384.24  Z\n  \" fill=\"#009af9\" fill-rule=\"evenodd\" fill-opacity=\"1\"/>\n<polyline clip-path=\"url(#clip062)\" style=\"stroke:#000000; stroke-width:4; stroke-opacity:1; fill:none\" points=\"\n  6158.84,1384.24 6158.84,1384.24 6186.56,1384.24 6158.84,1384.24 \n  \"/>\n<path clip-path=\"url(#clip062)\" d=\"\nM6186.56 1384.24 L6186.56 1384.24 L6214.29 1384.24 L6214.29 1384.24 L6186.56 1384.24 L6186.56 1384.24  Z\n  \" fill=\"#009af9\" fill-rule=\"evenodd\" fill-opacity=\"1\"/>\n<polyline clip-path=\"url(#clip062)\" style=\"stroke:#000000; stroke-width:4; stroke-opacity:1; fill:none\" points=\"\n  6186.56,1384.24 6186.56,1384.24 6214.29,1384.24 6186.56,1384.24 \n  \"/>\n<path clip-path=\"url(#clip062)\" d=\"\nM6214.29 1384.24 L6214.29 1384.24 L6242.02 1384.24 L6242.02 1384.24 L6214.29 1384.24 L6214.29 1384.24  Z\n  \" fill=\"#009af9\" fill-rule=\"evenodd\" fill-opacity=\"1\"/>\n<polyline clip-path=\"url(#clip062)\" style=\"stroke:#000000; stroke-width:4; stroke-opacity:1; fill:none\" points=\"\n  6214.29,1384.24 6214.29,1384.24 6242.02,1384.24 6214.29,1384.24 \n  \"/>\n<path clip-path=\"url(#clip062)\" d=\"\nM6242.02 1384.24 L6242.02 1384.24 L6269.75 1384.24 L6269.75 1384.24 L6242.02 1384.24 L6242.02 1384.24  Z\n  \" fill=\"#009af9\" fill-rule=\"evenodd\" fill-opacity=\"1\"/>\n<polyline clip-path=\"url(#clip062)\" style=\"stroke:#000000; stroke-width:4; stroke-opacity:1; fill:none\" points=\"\n  6242.02,1384.24 6242.02,1384.24 6269.75,1384.24 6242.02,1384.24 \n  \"/>\n<path clip-path=\"url(#clip062)\" d=\"\nM6269.75 1384.24 L6269.75 1384.24 L6297.47 1384.24 L6297.47 1384.24 L6269.75 1384.24 L6269.75 1384.24  Z\n  \" fill=\"#009af9\" fill-rule=\"evenodd\" fill-opacity=\"1\"/>\n<polyline clip-path=\"url(#clip062)\" style=\"stroke:#000000; stroke-width:4; stroke-opacity:1; fill:none\" points=\"\n  6269.75,1384.24 6269.75,1384.24 6297.47,1384.24 6269.75,1384.24 \n  \"/>\n<path clip-path=\"url(#clip062)\" d=\"\nM6297.47 1344.3 L6297.47 1384.24 L6325.2 1384.24 L6325.2 1344.3 L6297.47 1344.3 L6297.47 1344.3  Z\n  \" fill=\"#009af9\" fill-rule=\"evenodd\" fill-opacity=\"1\"/>\n<polyline clip-path=\"url(#clip062)\" style=\"stroke:#000000; stroke-width:4; stroke-opacity:1; fill:none\" points=\"\n  6297.47,1344.3 6297.47,1384.24 6325.2,1384.24 6325.2,1344.3 6297.47,1344.3 \n  \"/>\n<path clip-path=\"url(#clip062)\" d=\"\nM6325.2 1384.24 L6325.2 1384.24 L6352.93 1384.24 L6352.93 1384.24 L6325.2 1384.24 L6325.2 1384.24  Z\n  \" fill=\"#009af9\" fill-rule=\"evenodd\" fill-opacity=\"1\"/>\n<polyline clip-path=\"url(#clip062)\" style=\"stroke:#000000; stroke-width:4; stroke-opacity:1; fill:none\" points=\"\n  6325.2,1384.24 6325.2,1384.24 6352.93,1384.24 6325.2,1384.24 \n  \"/>\n<path clip-path=\"url(#clip062)\" d=\"\nM6352.93 1384.24 L6352.93 1384.24 L6380.66 1384.24 L6380.66 1384.24 L6352.93 1384.24 L6352.93 1384.24  Z\n  \" fill=\"#009af9\" fill-rule=\"evenodd\" fill-opacity=\"1\"/>\n<polyline clip-path=\"url(#clip062)\" style=\"stroke:#000000; stroke-width:4; stroke-opacity:1; fill:none\" points=\"\n  6352.93,1384.24 6352.93,1384.24 6380.66,1384.24 6352.93,1384.24 \n  \"/>\n<path clip-path=\"url(#clip062)\" d=\"\nM6380.66 1384.24 L6380.66 1384.24 L6408.38 1384.24 L6408.38 1384.24 L6380.66 1384.24 L6380.66 1384.24  Z\n  \" fill=\"#009af9\" fill-rule=\"evenodd\" fill-opacity=\"1\"/>\n<polyline clip-path=\"url(#clip062)\" style=\"stroke:#000000; stroke-width:4; stroke-opacity:1; fill:none\" points=\"\n  6380.66,1384.24 6380.66,1384.24 6408.38,1384.24 6380.66,1384.24 \n  \"/>\n<path clip-path=\"url(#clip062)\" d=\"\nM6408.38 1384.24 L6408.38 1384.24 L6436.11 1384.24 L6436.11 1384.24 L6408.38 1384.24 L6408.38 1384.24  Z\n  \" fill=\"#009af9\" fill-rule=\"evenodd\" fill-opacity=\"1\"/>\n<polyline clip-path=\"url(#clip062)\" style=\"stroke:#000000; stroke-width:4; stroke-opacity:1; fill:none\" points=\"\n  6408.38,1384.24 6408.38,1384.24 6436.11,1384.24 6408.38,1384.24 \n  \"/>\n<path clip-path=\"url(#clip062)\" d=\"\nM6436.11 1384.24 L6436.11 1384.24 L6463.84 1384.24 L6463.84 1384.24 L6436.11 1384.24 L6436.11 1384.24  Z\n  \" fill=\"#009af9\" fill-rule=\"evenodd\" fill-opacity=\"1\"/>\n<polyline clip-path=\"url(#clip062)\" style=\"stroke:#000000; stroke-width:4; stroke-opacity:1; fill:none\" points=\"\n  6436.11,1384.24 6436.11,1384.24 6463.84,1384.24 6436.11,1384.24 \n  \"/>\n<path clip-path=\"url(#clip062)\" d=\"\nM6463.84 1384.24 L6463.84 1384.24 L6491.57 1384.24 L6491.57 1384.24 L6463.84 1384.24 L6463.84 1384.24  Z\n  \" fill=\"#009af9\" fill-rule=\"evenodd\" fill-opacity=\"1\"/>\n<polyline clip-path=\"url(#clip062)\" style=\"stroke:#000000; stroke-width:4; stroke-opacity:1; fill:none\" points=\"\n  6463.84,1384.24 6463.84,1384.24 6491.57,1384.24 6463.84,1384.24 \n  \"/>\n<path clip-path=\"url(#clip062)\" d=\"\nM6491.57 1384.24 L6491.57 1384.24 L6519.29 1384.24 L6519.29 1384.24 L6491.57 1384.24 L6491.57 1384.24  Z\n  \" fill=\"#009af9\" fill-rule=\"evenodd\" fill-opacity=\"1\"/>\n<polyline clip-path=\"url(#clip062)\" style=\"stroke:#000000; stroke-width:4; stroke-opacity:1; fill:none\" points=\"\n  6491.57,1384.24 6491.57,1384.24 6519.29,1384.24 6491.57,1384.24 \n  \"/>\n<path clip-path=\"url(#clip062)\" d=\"\nM6519.29 1384.24 L6519.29 1384.24 L6547.02 1384.24 L6547.02 1384.24 L6519.29 1384.24 L6519.29 1384.24  Z\n  \" fill=\"#009af9\" fill-rule=\"evenodd\" fill-opacity=\"1\"/>\n<polyline clip-path=\"url(#clip062)\" style=\"stroke:#000000; stroke-width:4; stroke-opacity:1; fill:none\" points=\"\n  6519.29,1384.24 6519.29,1384.24 6547.02,1384.24 6519.29,1384.24 \n  \"/>\n<path clip-path=\"url(#clip062)\" d=\"\nM6547.02 1384.24 L6547.02 1384.24 L6574.75 1384.24 L6574.75 1384.24 L6547.02 1384.24 L6547.02 1384.24  Z\n  \" fill=\"#009af9\" fill-rule=\"evenodd\" fill-opacity=\"1\"/>\n<polyline clip-path=\"url(#clip062)\" style=\"stroke:#000000; stroke-width:4; stroke-opacity:1; fill:none\" points=\"\n  6547.02,1384.24 6547.02,1384.24 6574.75,1384.24 6547.02,1384.24 \n  \"/>\n<path clip-path=\"url(#clip062)\" d=\"\nM6574.75 1384.24 L6574.75 1384.24 L6602.48 1384.24 L6602.48 1384.24 L6574.75 1384.24 L6574.75 1384.24  Z\n  \" fill=\"#009af9\" fill-rule=\"evenodd\" fill-opacity=\"1\"/>\n<polyline clip-path=\"url(#clip062)\" style=\"stroke:#000000; stroke-width:4; stroke-opacity:1; fill:none\" points=\"\n  6574.75,1384.24 6574.75,1384.24 6602.48,1384.24 6574.75,1384.24 \n  \"/>\n<path clip-path=\"url(#clip062)\" d=\"\nM6602.48 1384.24 L6602.48 1384.24 L6630.2 1384.24 L6630.2 1384.24 L6602.48 1384.24 L6602.48 1384.24  Z\n  \" fill=\"#009af9\" fill-rule=\"evenodd\" fill-opacity=\"1\"/>\n<polyline clip-path=\"url(#clip062)\" style=\"stroke:#000000; stroke-width:4; stroke-opacity:1; fill:none\" points=\"\n  6602.48,1384.24 6602.48,1384.24 6630.2,1384.24 6602.48,1384.24 \n  \"/>\n<path clip-path=\"url(#clip062)\" d=\"\nM6630.2 1384.24 L6630.2 1384.24 L6657.93 1384.24 L6657.93 1384.24 L6630.2 1384.24 L6630.2 1384.24  Z\n  \" fill=\"#009af9\" fill-rule=\"evenodd\" fill-opacity=\"1\"/>\n<polyline clip-path=\"url(#clip062)\" style=\"stroke:#000000; stroke-width:4; stroke-opacity:1; fill:none\" points=\"\n  6630.2,1384.24 6630.2,1384.24 6657.93,1384.24 6630.2,1384.24 \n  \"/>\n<path clip-path=\"url(#clip062)\" d=\"\nM6657.93 1384.24 L6657.93 1384.24 L6685.66 1384.24 L6685.66 1384.24 L6657.93 1384.24 L6657.93 1384.24  Z\n  \" fill=\"#009af9\" fill-rule=\"evenodd\" fill-opacity=\"1\"/>\n<polyline clip-path=\"url(#clip062)\" style=\"stroke:#000000; stroke-width:4; stroke-opacity:1; fill:none\" points=\"\n  6657.93,1384.24 6657.93,1384.24 6685.66,1384.24 6657.93,1384.24 \n  \"/>\n<path clip-path=\"url(#clip062)\" d=\"\nM6685.66 1384.24 L6685.66 1384.24 L6713.39 1384.24 L6713.39 1384.24 L6685.66 1384.24 L6685.66 1384.24  Z\n  \" fill=\"#009af9\" fill-rule=\"evenodd\" fill-opacity=\"1\"/>\n<polyline clip-path=\"url(#clip062)\" style=\"stroke:#000000; stroke-width:4; stroke-opacity:1; fill:none\" points=\"\n  6685.66,1384.24 6685.66,1384.24 6713.39,1384.24 6685.66,1384.24 \n  \"/>\n<path clip-path=\"url(#clip062)\" d=\"\nM6713.39 1384.24 L6713.39 1384.24 L6741.11 1384.24 L6741.11 1384.24 L6713.39 1384.24 L6713.39 1384.24  Z\n  \" fill=\"#009af9\" fill-rule=\"evenodd\" fill-opacity=\"1\"/>\n<polyline clip-path=\"url(#clip062)\" style=\"stroke:#000000; stroke-width:4; stroke-opacity:1; fill:none\" points=\"\n  6713.39,1384.24 6713.39,1384.24 6741.11,1384.24 6713.39,1384.24 \n  \"/>\n<path clip-path=\"url(#clip062)\" d=\"\nM6741.11 1384.24 L6741.11 1384.24 L6768.84 1384.24 L6768.84 1384.24 L6741.11 1384.24 L6741.11 1384.24  Z\n  \" fill=\"#009af9\" fill-rule=\"evenodd\" fill-opacity=\"1\"/>\n<polyline clip-path=\"url(#clip062)\" style=\"stroke:#000000; stroke-width:4; stroke-opacity:1; fill:none\" points=\"\n  6741.11,1384.24 6741.11,1384.24 6768.84,1384.24 6741.11,1384.24 \n  \"/>\n<path clip-path=\"url(#clip062)\" d=\"\nM6768.84 1384.24 L6768.84 1384.24 L6796.57 1384.24 L6796.57 1384.24 L6768.84 1384.24 L6768.84 1384.24  Z\n  \" fill=\"#009af9\" fill-rule=\"evenodd\" fill-opacity=\"1\"/>\n<polyline clip-path=\"url(#clip062)\" style=\"stroke:#000000; stroke-width:4; stroke-opacity:1; fill:none\" points=\"\n  6768.84,1384.24 6768.84,1384.24 6796.57,1384.24 6768.84,1384.24 \n  \"/>\n<path clip-path=\"url(#clip062)\" d=\"\nM6796.57 1384.24 L6796.57 1384.24 L6824.29 1384.24 L6824.29 1384.24 L6796.57 1384.24 L6796.57 1384.24  Z\n  \" fill=\"#009af9\" fill-rule=\"evenodd\" fill-opacity=\"1\"/>\n<polyline clip-path=\"url(#clip062)\" style=\"stroke:#000000; stroke-width:4; stroke-opacity:1; fill:none\" points=\"\n  6796.57,1384.24 6796.57,1384.24 6824.29,1384.24 6796.57,1384.24 \n  \"/>\n<path clip-path=\"url(#clip062)\" d=\"\nM6824.29 1384.24 L6824.29 1384.24 L6852.02 1384.24 L6852.02 1384.24 L6824.29 1384.24 L6824.29 1384.24  Z\n  \" fill=\"#009af9\" fill-rule=\"evenodd\" fill-opacity=\"1\"/>\n<polyline clip-path=\"url(#clip062)\" style=\"stroke:#000000; stroke-width:4; stroke-opacity:1; fill:none\" points=\"\n  6824.29,1384.24 6824.29,1384.24 6852.02,1384.24 6824.29,1384.24 \n  \"/>\n<path clip-path=\"url(#clip062)\" d=\"\nM6852.02 1384.24 L6852.02 1384.24 L6879.75 1384.24 L6879.75 1384.24 L6852.02 1384.24 L6852.02 1384.24  Z\n  \" fill=\"#009af9\" fill-rule=\"evenodd\" fill-opacity=\"1\"/>\n<polyline clip-path=\"url(#clip062)\" style=\"stroke:#000000; stroke-width:4; stroke-opacity:1; fill:none\" points=\"\n  6852.02,1384.24 6852.02,1384.24 6879.75,1384.24 6852.02,1384.24 \n  \"/>\n<path clip-path=\"url(#clip062)\" d=\"\nM6879.75 1384.24 L6879.75 1384.24 L6907.48 1384.24 L6907.48 1384.24 L6879.75 1384.24 L6879.75 1384.24  Z\n  \" fill=\"#009af9\" fill-rule=\"evenodd\" fill-opacity=\"1\"/>\n<polyline clip-path=\"url(#clip062)\" style=\"stroke:#000000; stroke-width:4; stroke-opacity:1; fill:none\" points=\"\n  6879.75,1384.24 6879.75,1384.24 6907.48,1384.24 6879.75,1384.24 \n  \"/>\n<path clip-path=\"url(#clip062)\" d=\"\nM6907.48 1384.24 L6907.48 1384.24 L6935.2 1384.24 L6935.2 1384.24 L6907.48 1384.24 L6907.48 1384.24  Z\n  \" fill=\"#009af9\" fill-rule=\"evenodd\" fill-opacity=\"1\"/>\n<polyline clip-path=\"url(#clip062)\" style=\"stroke:#000000; stroke-width:4; stroke-opacity:1; fill:none\" points=\"\n  6907.48,1384.24 6907.48,1384.24 6935.2,1384.24 6907.48,1384.24 \n  \"/>\n<path clip-path=\"url(#clip062)\" d=\"\nM6935.2 1384.24 L6935.2 1384.24 L6962.93 1384.24 L6962.93 1384.24 L6935.2 1384.24 L6935.2 1384.24  Z\n  \" fill=\"#009af9\" fill-rule=\"evenodd\" fill-opacity=\"1\"/>\n<polyline clip-path=\"url(#clip062)\" style=\"stroke:#000000; stroke-width:4; stroke-opacity:1; fill:none\" points=\"\n  6935.2,1384.24 6935.2,1384.24 6962.93,1384.24 6935.2,1384.24 \n  \"/>\n<path clip-path=\"url(#clip062)\" d=\"\nM6962.93 1384.24 L6962.93 1384.24 L6990.66 1384.24 L6990.66 1384.24 L6962.93 1384.24 L6962.93 1384.24  Z\n  \" fill=\"#009af9\" fill-rule=\"evenodd\" fill-opacity=\"1\"/>\n<polyline clip-path=\"url(#clip062)\" style=\"stroke:#000000; stroke-width:4; stroke-opacity:1; fill:none\" points=\"\n  6962.93,1384.24 6962.93,1384.24 6990.66,1384.24 6962.93,1384.24 \n  \"/>\n<path clip-path=\"url(#clip062)\" d=\"\nM6990.66 1384.24 L6990.66 1384.24 L7018.39 1384.24 L7018.39 1384.24 L6990.66 1384.24 L6990.66 1384.24  Z\n  \" fill=\"#009af9\" fill-rule=\"evenodd\" fill-opacity=\"1\"/>\n<polyline clip-path=\"url(#clip062)\" style=\"stroke:#000000; stroke-width:4; stroke-opacity:1; fill:none\" points=\"\n  6990.66,1384.24 6990.66,1384.24 7018.39,1384.24 6990.66,1384.24 \n  \"/>\n<path clip-path=\"url(#clip062)\" d=\"\nM7018.39 1384.24 L7018.39 1384.24 L7046.11 1384.24 L7046.11 1384.24 L7018.39 1384.24 L7018.39 1384.24  Z\n  \" fill=\"#009af9\" fill-rule=\"evenodd\" fill-opacity=\"1\"/>\n<polyline clip-path=\"url(#clip062)\" style=\"stroke:#000000; stroke-width:4; stroke-opacity:1; fill:none\" points=\"\n  7018.39,1384.24 7018.39,1384.24 7046.11,1384.24 7018.39,1384.24 \n  \"/>\n<path clip-path=\"url(#clip062)\" d=\"\nM7046.11 1384.24 L7046.11 1384.24 L7073.84 1384.24 L7073.84 1384.24 L7046.11 1384.24 L7046.11 1384.24  Z\n  \" fill=\"#009af9\" fill-rule=\"evenodd\" fill-opacity=\"1\"/>\n<polyline clip-path=\"url(#clip062)\" style=\"stroke:#000000; stroke-width:4; stroke-opacity:1; fill:none\" points=\"\n  7046.11,1384.24 7046.11,1384.24 7073.84,1384.24 7046.11,1384.24 \n  \"/>\n<path clip-path=\"url(#clip062)\" d=\"\nM7073.84 1384.24 L7073.84 1384.24 L7101.57 1384.24 L7101.57 1384.24 L7073.84 1384.24 L7073.84 1384.24  Z\n  \" fill=\"#009af9\" fill-rule=\"evenodd\" fill-opacity=\"1\"/>\n<polyline clip-path=\"url(#clip062)\" style=\"stroke:#000000; stroke-width:4; stroke-opacity:1; fill:none\" points=\"\n  7073.84,1384.24 7073.84,1384.24 7101.57,1384.24 7073.84,1384.24 \n  \"/>\n<path clip-path=\"url(#clip062)\" d=\"\nM7101.57 1384.24 L7101.57 1384.24 L7129.3 1384.24 L7129.3 1384.24 L7101.57 1384.24 L7101.57 1384.24  Z\n  \" fill=\"#009af9\" fill-rule=\"evenodd\" fill-opacity=\"1\"/>\n<polyline clip-path=\"url(#clip062)\" style=\"stroke:#000000; stroke-width:4; stroke-opacity:1; fill:none\" points=\"\n  7101.57,1384.24 7101.57,1384.24 7129.3,1384.24 7101.57,1384.24 \n  \"/>\n<path clip-path=\"url(#clip062)\" d=\"\nM7129.3 1384.24 L7129.3 1384.24 L7157.02 1384.24 L7157.02 1384.24 L7129.3 1384.24 L7129.3 1384.24  Z\n  \" fill=\"#009af9\" fill-rule=\"evenodd\" fill-opacity=\"1\"/>\n<polyline clip-path=\"url(#clip062)\" style=\"stroke:#000000; stroke-width:4; stroke-opacity:1; fill:none\" points=\"\n  7129.3,1384.24 7129.3,1384.24 7157.02,1384.24 7129.3,1384.24 \n  \"/>\n<path clip-path=\"url(#clip062)\" d=\"\nM7157.02 1384.24 L7157.02 1384.24 L7184.75 1384.24 L7184.75 1384.24 L7157.02 1384.24 L7157.02 1384.24  Z\n  \" fill=\"#009af9\" fill-rule=\"evenodd\" fill-opacity=\"1\"/>\n<polyline clip-path=\"url(#clip062)\" style=\"stroke:#000000; stroke-width:4; stroke-opacity:1; fill:none\" points=\"\n  7157.02,1384.24 7157.02,1384.24 7184.75,1384.24 7157.02,1384.24 \n  \"/>\n<path clip-path=\"url(#clip062)\" d=\"\nM7184.75 1384.24 L7184.75 1384.24 L7212.48 1384.24 L7212.48 1384.24 L7184.75 1384.24 L7184.75 1384.24  Z\n  \" fill=\"#009af9\" fill-rule=\"evenodd\" fill-opacity=\"1\"/>\n<polyline clip-path=\"url(#clip062)\" style=\"stroke:#000000; stroke-width:4; stroke-opacity:1; fill:none\" points=\"\n  7184.75,1384.24 7184.75,1384.24 7212.48,1384.24 7184.75,1384.24 \n  \"/>\n<path clip-path=\"url(#clip062)\" d=\"\nM7212.48 1384.24 L7212.48 1384.24 L7240.21 1384.24 L7240.21 1384.24 L7212.48 1384.24 L7212.48 1384.24  Z\n  \" fill=\"#009af9\" fill-rule=\"evenodd\" fill-opacity=\"1\"/>\n<polyline clip-path=\"url(#clip062)\" style=\"stroke:#000000; stroke-width:4; stroke-opacity:1; fill:none\" points=\"\n  7212.48,1384.24 7212.48,1384.24 7240.21,1384.24 7212.48,1384.24 \n  \"/>\n<path clip-path=\"url(#clip062)\" d=\"\nM7240.21 1384.24 L7240.21 1384.24 L7267.93 1384.24 L7267.93 1384.24 L7240.21 1384.24 L7240.21 1384.24  Z\n  \" fill=\"#009af9\" fill-rule=\"evenodd\" fill-opacity=\"1\"/>\n<polyline clip-path=\"url(#clip062)\" style=\"stroke:#000000; stroke-width:4; stroke-opacity:1; fill:none\" points=\"\n  7240.21,1384.24 7240.21,1384.24 7267.93,1384.24 7240.21,1384.24 \n  \"/>\n<path clip-path=\"url(#clip062)\" d=\"\nM7267.93 1384.24 L7267.93 1384.24 L7295.66 1384.24 L7295.66 1384.24 L7267.93 1384.24 L7267.93 1384.24  Z\n  \" fill=\"#009af9\" fill-rule=\"evenodd\" fill-opacity=\"1\"/>\n<polyline clip-path=\"url(#clip062)\" style=\"stroke:#000000; stroke-width:4; stroke-opacity:1; fill:none\" points=\"\n  7267.93,1384.24 7267.93,1384.24 7295.66,1384.24 7267.93,1384.24 \n  \"/>\n<path clip-path=\"url(#clip062)\" d=\"\nM7295.66 1384.24 L7295.66 1384.24 L7323.39 1384.24 L7323.39 1384.24 L7295.66 1384.24 L7295.66 1384.24  Z\n  \" fill=\"#009af9\" fill-rule=\"evenodd\" fill-opacity=\"1\"/>\n<polyline clip-path=\"url(#clip062)\" style=\"stroke:#000000; stroke-width:4; stroke-opacity:1; fill:none\" points=\"\n  7295.66,1384.24 7295.66,1384.24 7323.39,1384.24 7295.66,1384.24 \n  \"/>\n<path clip-path=\"url(#clip062)\" d=\"\nM7323.39 1384.24 L7323.39 1384.24 L7351.12 1384.24 L7351.12 1384.24 L7323.39 1384.24 L7323.39 1384.24  Z\n  \" fill=\"#009af9\" fill-rule=\"evenodd\" fill-opacity=\"1\"/>\n<polyline clip-path=\"url(#clip062)\" style=\"stroke:#000000; stroke-width:4; stroke-opacity:1; fill:none\" points=\"\n  7323.39,1384.24 7323.39,1384.24 7351.12,1384.24 7323.39,1384.24 \n  \"/>\n<path clip-path=\"url(#clip062)\" d=\"\nM7351.12 1384.24 L7351.12 1384.24 L7378.84 1384.24 L7378.84 1384.24 L7351.12 1384.24 L7351.12 1384.24  Z\n  \" fill=\"#009af9\" fill-rule=\"evenodd\" fill-opacity=\"1\"/>\n<polyline clip-path=\"url(#clip062)\" style=\"stroke:#000000; stroke-width:4; stroke-opacity:1; fill:none\" points=\"\n  7351.12,1384.24 7351.12,1384.24 7378.84,1384.24 7351.12,1384.24 \n  \"/>\n<path clip-path=\"url(#clip062)\" d=\"\nM7378.84 1384.24 L7378.84 1384.24 L7406.57 1384.24 L7406.57 1384.24 L7378.84 1384.24 L7378.84 1384.24  Z\n  \" fill=\"#009af9\" fill-rule=\"evenodd\" fill-opacity=\"1\"/>\n<polyline clip-path=\"url(#clip062)\" style=\"stroke:#000000; stroke-width:4; stroke-opacity:1; fill:none\" points=\"\n  7378.84,1384.24 7378.84,1384.24 7406.57,1384.24 7378.84,1384.24 \n  \"/>\n<path clip-path=\"url(#clip062)\" d=\"\nM7406.57 1384.24 L7406.57 1384.24 L7434.3 1384.24 L7434.3 1384.24 L7406.57 1384.24 L7406.57 1384.24  Z\n  \" fill=\"#009af9\" fill-rule=\"evenodd\" fill-opacity=\"1\"/>\n<polyline clip-path=\"url(#clip062)\" style=\"stroke:#000000; stroke-width:4; stroke-opacity:1; fill:none\" points=\"\n  7406.57,1384.24 7406.57,1384.24 7434.3,1384.24 7406.57,1384.24 \n  \"/>\n<path clip-path=\"url(#clip062)\" d=\"\nM7434.3 1384.24 L7434.3 1384.24 L7462.02 1384.24 L7462.02 1384.24 L7434.3 1384.24 L7434.3 1384.24  Z\n  \" fill=\"#009af9\" fill-rule=\"evenodd\" fill-opacity=\"1\"/>\n<polyline clip-path=\"url(#clip062)\" style=\"stroke:#000000; stroke-width:4; stroke-opacity:1; fill:none\" points=\"\n  7434.3,1384.24 7434.3,1384.24 7462.02,1384.24 7434.3,1384.24 \n  \"/>\n<path clip-path=\"url(#clip062)\" d=\"\nM7462.02 1384.24 L7462.02 1384.24 L7489.75 1384.24 L7489.75 1384.24 L7462.02 1384.24 L7462.02 1384.24  Z\n  \" fill=\"#009af9\" fill-rule=\"evenodd\" fill-opacity=\"1\"/>\n<polyline clip-path=\"url(#clip062)\" style=\"stroke:#000000; stroke-width:4; stroke-opacity:1; fill:none\" points=\"\n  7462.02,1384.24 7462.02,1384.24 7489.75,1384.24 7462.02,1384.24 \n  \"/>\n<path clip-path=\"url(#clip062)\" d=\"\nM7489.75 1384.24 L7489.75 1384.24 L7517.48 1384.24 L7517.48 1384.24 L7489.75 1384.24 L7489.75 1384.24  Z\n  \" fill=\"#009af9\" fill-rule=\"evenodd\" fill-opacity=\"1\"/>\n<polyline clip-path=\"url(#clip062)\" style=\"stroke:#000000; stroke-width:4; stroke-opacity:1; fill:none\" points=\"\n  7489.75,1384.24 7489.75,1384.24 7517.48,1384.24 7489.75,1384.24 \n  \"/>\n<path clip-path=\"url(#clip062)\" d=\"\nM7517.48 1384.24 L7517.48 1384.24 L7545.21 1384.24 L7545.21 1384.24 L7517.48 1384.24 L7517.48 1384.24  Z\n  \" fill=\"#009af9\" fill-rule=\"evenodd\" fill-opacity=\"1\"/>\n<polyline clip-path=\"url(#clip062)\" style=\"stroke:#000000; stroke-width:4; stroke-opacity:1; fill:none\" points=\"\n  7517.48,1384.24 7517.48,1384.24 7545.21,1384.24 7517.48,1384.24 \n  \"/>\n<path clip-path=\"url(#clip062)\" d=\"\nM7545.21 1384.24 L7545.21 1384.24 L7572.93 1384.24 L7572.93 1384.24 L7545.21 1384.24 L7545.21 1384.24  Z\n  \" fill=\"#009af9\" fill-rule=\"evenodd\" fill-opacity=\"1\"/>\n<polyline clip-path=\"url(#clip062)\" style=\"stroke:#000000; stroke-width:4; stroke-opacity:1; fill:none\" points=\"\n  7545.21,1384.24 7545.21,1384.24 7572.93,1384.24 7545.21,1384.24 \n  \"/>\n<path clip-path=\"url(#clip062)\" d=\"\nM7572.93 1384.24 L7572.93 1384.24 L7600.66 1384.24 L7600.66 1384.24 L7572.93 1384.24 L7572.93 1384.24  Z\n  \" fill=\"#009af9\" fill-rule=\"evenodd\" fill-opacity=\"1\"/>\n<polyline clip-path=\"url(#clip062)\" style=\"stroke:#000000; stroke-width:4; stroke-opacity:1; fill:none\" points=\"\n  7572.93,1384.24 7572.93,1384.24 7600.66,1384.24 7572.93,1384.24 \n  \"/>\n<path clip-path=\"url(#clip062)\" d=\"\nM7600.66 1384.24 L7600.66 1384.24 L7628.39 1384.24 L7628.39 1384.24 L7600.66 1384.24 L7600.66 1384.24  Z\n  \" fill=\"#009af9\" fill-rule=\"evenodd\" fill-opacity=\"1\"/>\n<polyline clip-path=\"url(#clip062)\" style=\"stroke:#000000; stroke-width:4; stroke-opacity:1; fill:none\" points=\"\n  7600.66,1384.24 7600.66,1384.24 7628.39,1384.24 7600.66,1384.24 \n  \"/>\n<path clip-path=\"url(#clip062)\" d=\"\nM7628.39 1384.24 L7628.39 1384.24 L7656.12 1384.24 L7656.12 1384.24 L7628.39 1384.24 L7628.39 1384.24  Z\n  \" fill=\"#009af9\" fill-rule=\"evenodd\" fill-opacity=\"1\"/>\n<polyline clip-path=\"url(#clip062)\" style=\"stroke:#000000; stroke-width:4; stroke-opacity:1; fill:none\" points=\"\n  7628.39,1384.24 7628.39,1384.24 7656.12,1384.24 7628.39,1384.24 \n  \"/>\n<path clip-path=\"url(#clip062)\" d=\"\nM7656.12 1384.24 L7656.12 1384.24 L7683.84 1384.24 L7683.84 1384.24 L7656.12 1384.24 L7656.12 1384.24  Z\n  \" fill=\"#009af9\" fill-rule=\"evenodd\" fill-opacity=\"1\"/>\n<polyline clip-path=\"url(#clip062)\" style=\"stroke:#000000; stroke-width:4; stroke-opacity:1; fill:none\" points=\"\n  7656.12,1384.24 7656.12,1384.24 7683.84,1384.24 7656.12,1384.24 \n  \"/>\n<path clip-path=\"url(#clip062)\" d=\"\nM7683.84 1384.24 L7683.84 1384.24 L7711.57 1384.24 L7711.57 1384.24 L7683.84 1384.24 L7683.84 1384.24  Z\n  \" fill=\"#009af9\" fill-rule=\"evenodd\" fill-opacity=\"1\"/>\n<polyline clip-path=\"url(#clip062)\" style=\"stroke:#000000; stroke-width:4; stroke-opacity:1; fill:none\" points=\"\n  7683.84,1384.24 7683.84,1384.24 7711.57,1384.24 7683.84,1384.24 \n  \"/>\n<path clip-path=\"url(#clip062)\" d=\"\nM7711.57 1384.24 L7711.57 1384.24 L7739.3 1384.24 L7739.3 1384.24 L7711.57 1384.24 L7711.57 1384.24  Z\n  \" fill=\"#009af9\" fill-rule=\"evenodd\" fill-opacity=\"1\"/>\n<polyline clip-path=\"url(#clip062)\" style=\"stroke:#000000; stroke-width:4; stroke-opacity:1; fill:none\" points=\"\n  7711.57,1384.24 7711.57,1384.24 7739.3,1384.24 7711.57,1384.24 \n  \"/>\n<path clip-path=\"url(#clip062)\" d=\"\nM7739.3 1384.24 L7739.3 1384.24 L7767.03 1384.24 L7767.03 1384.24 L7739.3 1384.24 L7739.3 1384.24  Z\n  \" fill=\"#009af9\" fill-rule=\"evenodd\" fill-opacity=\"1\"/>\n<polyline clip-path=\"url(#clip062)\" style=\"stroke:#000000; stroke-width:4; stroke-opacity:1; fill:none\" points=\"\n  7739.3,1384.24 7739.3,1384.24 7767.03,1384.24 7739.3,1384.24 \n  \"/>\n<path clip-path=\"url(#clip062)\" d=\"\nM7767.03 1384.24 L7767.03 1384.24 L7794.75 1384.24 L7794.75 1384.24 L7767.03 1384.24 L7767.03 1384.24  Z\n  \" fill=\"#009af9\" fill-rule=\"evenodd\" fill-opacity=\"1\"/>\n<polyline clip-path=\"url(#clip062)\" style=\"stroke:#000000; stroke-width:4; stroke-opacity:1; fill:none\" points=\"\n  7767.03,1384.24 7767.03,1384.24 7794.75,1384.24 7767.03,1384.24 \n  \"/>\n<path clip-path=\"url(#clip062)\" d=\"\nM7794.75 1384.24 L7794.75 1384.24 L7822.48 1384.24 L7822.48 1384.24 L7794.75 1384.24 L7794.75 1384.24  Z\n  \" fill=\"#009af9\" fill-rule=\"evenodd\" fill-opacity=\"1\"/>\n<polyline clip-path=\"url(#clip062)\" style=\"stroke:#000000; stroke-width:4; stroke-opacity:1; fill:none\" points=\"\n  7794.75,1384.24 7794.75,1384.24 7822.48,1384.24 7794.75,1384.24 \n  \"/>\n<path clip-path=\"url(#clip062)\" d=\"\nM7822.48 1384.24 L7822.48 1384.24 L7850.21 1384.24 L7850.21 1384.24 L7822.48 1384.24 L7822.48 1384.24  Z\n  \" fill=\"#009af9\" fill-rule=\"evenodd\" fill-opacity=\"1\"/>\n<polyline clip-path=\"url(#clip062)\" style=\"stroke:#000000; stroke-width:4; stroke-opacity:1; fill:none\" points=\"\n  7822.48,1384.24 7822.48,1384.24 7850.21,1384.24 7822.48,1384.24 \n  \"/>\n<path clip-path=\"url(#clip062)\" d=\"\nM7850.21 1384.24 L7850.21 1384.24 L7877.94 1384.24 L7877.94 1384.24 L7850.21 1384.24 L7850.21 1384.24  Z\n  \" fill=\"#009af9\" fill-rule=\"evenodd\" fill-opacity=\"1\"/>\n<polyline clip-path=\"url(#clip062)\" style=\"stroke:#000000; stroke-width:4; stroke-opacity:1; fill:none\" points=\"\n  7850.21,1384.24 7850.21,1384.24 7877.94,1384.24 7850.21,1384.24 \n  \"/>\n<path clip-path=\"url(#clip062)\" d=\"\nM7877.94 1384.24 L7877.94 1384.24 L7905.66 1384.24 L7905.66 1384.24 L7877.94 1384.24 L7877.94 1384.24  Z\n  \" fill=\"#009af9\" fill-rule=\"evenodd\" fill-opacity=\"1\"/>\n<polyline clip-path=\"url(#clip062)\" style=\"stroke:#000000; stroke-width:4; stroke-opacity:1; fill:none\" points=\"\n  7877.94,1384.24 7877.94,1384.24 7905.66,1384.24 7877.94,1384.24 \n  \"/>\n<path clip-path=\"url(#clip062)\" d=\"\nM7905.66 1384.24 L7905.66 1384.24 L7933.39 1384.24 L7933.39 1384.24 L7905.66 1384.24 L7905.66 1384.24  Z\n  \" fill=\"#009af9\" fill-rule=\"evenodd\" fill-opacity=\"1\"/>\n<polyline clip-path=\"url(#clip062)\" style=\"stroke:#000000; stroke-width:4; stroke-opacity:1; fill:none\" points=\"\n  7905.66,1384.24 7905.66,1384.24 7933.39,1384.24 7905.66,1384.24 \n  \"/>\n<path clip-path=\"url(#clip062)\" d=\"\nM7933.39 1384.24 L7933.39 1384.24 L7961.12 1384.24 L7961.12 1384.24 L7933.39 1384.24 L7933.39 1384.24  Z\n  \" fill=\"#009af9\" fill-rule=\"evenodd\" fill-opacity=\"1\"/>\n<polyline clip-path=\"url(#clip062)\" style=\"stroke:#000000; stroke-width:4; stroke-opacity:1; fill:none\" points=\"\n  7933.39,1384.24 7933.39,1384.24 7961.12,1384.24 7933.39,1384.24 \n  \"/>\n<path clip-path=\"url(#clip062)\" d=\"\nM7961.12 1384.24 L7961.12 1384.24 L7988.84 1384.24 L7988.84 1384.24 L7961.12 1384.24 L7961.12 1384.24  Z\n  \" fill=\"#009af9\" fill-rule=\"evenodd\" fill-opacity=\"1\"/>\n<polyline clip-path=\"url(#clip062)\" style=\"stroke:#000000; stroke-width:4; stroke-opacity:1; fill:none\" points=\"\n  7961.12,1384.24 7961.12,1384.24 7988.84,1384.24 7961.12,1384.24 \n  \"/>\n<path clip-path=\"url(#clip062)\" d=\"\nM7988.84 1384.24 L7988.84 1384.24 L8016.57 1384.24 L8016.57 1384.24 L7988.84 1384.24 L7988.84 1384.24  Z\n  \" fill=\"#009af9\" fill-rule=\"evenodd\" fill-opacity=\"1\"/>\n<polyline clip-path=\"url(#clip062)\" style=\"stroke:#000000; stroke-width:4; stroke-opacity:1; fill:none\" points=\"\n  7988.84,1384.24 7988.84,1384.24 8016.57,1384.24 7988.84,1384.24 \n  \"/>\n<path clip-path=\"url(#clip062)\" d=\"\nM8016.57 1384.24 L8016.57 1384.24 L8044.3 1384.24 L8044.3 1384.24 L8016.57 1384.24 L8016.57 1384.24  Z\n  \" fill=\"#009af9\" fill-rule=\"evenodd\" fill-opacity=\"1\"/>\n<polyline clip-path=\"url(#clip062)\" style=\"stroke:#000000; stroke-width:4; stroke-opacity:1; fill:none\" points=\"\n  8016.57,1384.24 8016.57,1384.24 8044.3,1384.24 8016.57,1384.24 \n  \"/>\n<path clip-path=\"url(#clip062)\" d=\"\nM8044.3 1384.24 L8044.3 1384.24 L8072.03 1384.24 L8072.03 1384.24 L8044.3 1384.24 L8044.3 1384.24  Z\n  \" fill=\"#009af9\" fill-rule=\"evenodd\" fill-opacity=\"1\"/>\n<polyline clip-path=\"url(#clip062)\" style=\"stroke:#000000; stroke-width:4; stroke-opacity:1; fill:none\" points=\"\n  8044.3,1384.24 8044.3,1384.24 8072.03,1384.24 8044.3,1384.24 \n  \"/>\n<path clip-path=\"url(#clip062)\" d=\"\nM8072.03 1384.24 L8072.03 1384.24 L8099.75 1384.24 L8099.75 1384.24 L8072.03 1384.24 L8072.03 1384.24  Z\n  \" fill=\"#009af9\" fill-rule=\"evenodd\" fill-opacity=\"1\"/>\n<polyline clip-path=\"url(#clip062)\" style=\"stroke:#000000; stroke-width:4; stroke-opacity:1; fill:none\" points=\"\n  8072.03,1384.24 8072.03,1384.24 8099.75,1384.24 8072.03,1384.24 \n  \"/>\n<path clip-path=\"url(#clip062)\" d=\"\nM8099.75 1384.24 L8099.75 1384.24 L8127.48 1384.24 L8127.48 1384.24 L8099.75 1384.24 L8099.75 1384.24  Z\n  \" fill=\"#009af9\" fill-rule=\"evenodd\" fill-opacity=\"1\"/>\n<polyline clip-path=\"url(#clip062)\" style=\"stroke:#000000; stroke-width:4; stroke-opacity:1; fill:none\" points=\"\n  8099.75,1384.24 8099.75,1384.24 8127.48,1384.24 8099.75,1384.24 \n  \"/>\n<path clip-path=\"url(#clip062)\" d=\"\nM8127.48 1384.24 L8127.48 1384.24 L8155.21 1384.24 L8155.21 1384.24 L8127.48 1384.24 L8127.48 1384.24  Z\n  \" fill=\"#009af9\" fill-rule=\"evenodd\" fill-opacity=\"1\"/>\n<polyline clip-path=\"url(#clip062)\" style=\"stroke:#000000; stroke-width:4; stroke-opacity:1; fill:none\" points=\"\n  8127.48,1384.24 8127.48,1384.24 8155.21,1384.24 8127.48,1384.24 \n  \"/>\n<path clip-path=\"url(#clip062)\" d=\"\nM8155.21 1384.24 L8155.21 1384.24 L8182.94 1384.24 L8182.94 1384.24 L8155.21 1384.24 L8155.21 1384.24  Z\n  \" fill=\"#009af9\" fill-rule=\"evenodd\" fill-opacity=\"1\"/>\n<polyline clip-path=\"url(#clip062)\" style=\"stroke:#000000; stroke-width:4; stroke-opacity:1; fill:none\" points=\"\n  8155.21,1384.24 8155.21,1384.24 8182.94,1384.24 8155.21,1384.24 \n  \"/>\n<path clip-path=\"url(#clip062)\" d=\"\nM8182.94 1384.24 L8182.94 1384.24 L8210.66 1384.24 L8210.66 1384.24 L8182.94 1384.24 L8182.94 1384.24  Z\n  \" fill=\"#009af9\" fill-rule=\"evenodd\" fill-opacity=\"1\"/>\n<polyline clip-path=\"url(#clip062)\" style=\"stroke:#000000; stroke-width:4; stroke-opacity:1; fill:none\" points=\"\n  8182.94,1384.24 8182.94,1384.24 8210.66,1384.24 8182.94,1384.24 \n  \"/>\n<path clip-path=\"url(#clip062)\" d=\"\nM8210.66 1384.24 L8210.66 1384.24 L8238.39 1384.24 L8238.39 1384.24 L8210.66 1384.24 L8210.66 1384.24  Z\n  \" fill=\"#009af9\" fill-rule=\"evenodd\" fill-opacity=\"1\"/>\n<polyline clip-path=\"url(#clip062)\" style=\"stroke:#000000; stroke-width:4; stroke-opacity:1; fill:none\" points=\"\n  8210.66,1384.24 8210.66,1384.24 8238.39,1384.24 8210.66,1384.24 \n  \"/>\n<path clip-path=\"url(#clip062)\" d=\"\nM8238.39 1384.24 L8238.39 1384.24 L8266.12 1384.24 L8266.12 1384.24 L8238.39 1384.24 L8238.39 1384.24  Z\n  \" fill=\"#009af9\" fill-rule=\"evenodd\" fill-opacity=\"1\"/>\n<polyline clip-path=\"url(#clip062)\" style=\"stroke:#000000; stroke-width:4; stroke-opacity:1; fill:none\" points=\"\n  8238.39,1384.24 8238.39,1384.24 8266.12,1384.24 8238.39,1384.24 \n  \"/>\n<path clip-path=\"url(#clip062)\" d=\"\nM8266.12 1384.24 L8266.12 1384.24 L8293.85 1384.24 L8293.85 1384.24 L8266.12 1384.24 L8266.12 1384.24  Z\n  \" fill=\"#009af9\" fill-rule=\"evenodd\" fill-opacity=\"1\"/>\n<polyline clip-path=\"url(#clip062)\" style=\"stroke:#000000; stroke-width:4; stroke-opacity:1; fill:none\" points=\"\n  8266.12,1384.24 8266.12,1384.24 8293.85,1384.24 8266.12,1384.24 \n  \"/>\n<path clip-path=\"url(#clip062)\" d=\"\nM8293.85 1384.24 L8293.85 1384.24 L8321.57 1384.24 L8321.57 1384.24 L8293.85 1384.24 L8293.85 1384.24  Z\n  \" fill=\"#009af9\" fill-rule=\"evenodd\" fill-opacity=\"1\"/>\n<polyline clip-path=\"url(#clip062)\" style=\"stroke:#000000; stroke-width:4; stroke-opacity:1; fill:none\" points=\"\n  8293.85,1384.24 8293.85,1384.24 8321.57,1384.24 8293.85,1384.24 \n  \"/>\n<path clip-path=\"url(#clip062)\" d=\"\nM8321.57 1384.24 L8321.57 1384.24 L8349.3 1384.24 L8349.3 1384.24 L8321.57 1384.24 L8321.57 1384.24  Z\n  \" fill=\"#009af9\" fill-rule=\"evenodd\" fill-opacity=\"1\"/>\n<polyline clip-path=\"url(#clip062)\" style=\"stroke:#000000; stroke-width:4; stroke-opacity:1; fill:none\" points=\"\n  8321.57,1384.24 8321.57,1384.24 8349.3,1384.24 8321.57,1384.24 \n  \"/>\n<path clip-path=\"url(#clip062)\" d=\"\nM8349.3 1384.24 L8349.3 1384.24 L8377.03 1384.24 L8377.03 1384.24 L8349.3 1384.24 L8349.3 1384.24  Z\n  \" fill=\"#009af9\" fill-rule=\"evenodd\" fill-opacity=\"1\"/>\n<polyline clip-path=\"url(#clip062)\" style=\"stroke:#000000; stroke-width:4; stroke-opacity:1; fill:none\" points=\"\n  8349.3,1384.24 8349.3,1384.24 8377.03,1384.24 8349.3,1384.24 \n  \"/>\n<path clip-path=\"url(#clip062)\" d=\"\nM8377.03 1384.24 L8377.03 1384.24 L8404.76 1384.24 L8404.76 1384.24 L8377.03 1384.24 L8377.03 1384.24  Z\n  \" fill=\"#009af9\" fill-rule=\"evenodd\" fill-opacity=\"1\"/>\n<polyline clip-path=\"url(#clip062)\" style=\"stroke:#000000; stroke-width:4; stroke-opacity:1; fill:none\" points=\"\n  8377.03,1384.24 8377.03,1384.24 8404.76,1384.24 8377.03,1384.24 \n  \"/>\n<path clip-path=\"url(#clip062)\" d=\"\nM8404.76 1384.24 L8404.76 1384.24 L8432.48 1384.24 L8432.48 1384.24 L8404.76 1384.24 L8404.76 1384.24  Z\n  \" fill=\"#009af9\" fill-rule=\"evenodd\" fill-opacity=\"1\"/>\n<polyline clip-path=\"url(#clip062)\" style=\"stroke:#000000; stroke-width:4; stroke-opacity:1; fill:none\" points=\"\n  8404.76,1384.24 8404.76,1384.24 8432.48,1384.24 8404.76,1384.24 \n  \"/>\n<path clip-path=\"url(#clip062)\" d=\"\nM8432.48 1384.24 L8432.48 1384.24 L8460.21 1384.24 L8460.21 1384.24 L8432.48 1384.24 L8432.48 1384.24  Z\n  \" fill=\"#009af9\" fill-rule=\"evenodd\" fill-opacity=\"1\"/>\n<polyline clip-path=\"url(#clip062)\" style=\"stroke:#000000; stroke-width:4; stroke-opacity:1; fill:none\" points=\"\n  8432.48,1384.24 8432.48,1384.24 8460.21,1384.24 8432.48,1384.24 \n  \"/>\n<path clip-path=\"url(#clip062)\" d=\"\nM8460.21 1384.24 L8460.21 1384.24 L8487.94 1384.24 L8487.94 1384.24 L8460.21 1384.24 L8460.21 1384.24  Z\n  \" fill=\"#009af9\" fill-rule=\"evenodd\" fill-opacity=\"1\"/>\n<polyline clip-path=\"url(#clip062)\" style=\"stroke:#000000; stroke-width:4; stroke-opacity:1; fill:none\" points=\"\n  8460.21,1384.24 8460.21,1384.24 8487.94,1384.24 8460.21,1384.24 \n  \"/>\n<path clip-path=\"url(#clip062)\" d=\"\nM8487.94 1384.24 L8487.94 1384.24 L8515.67 1384.24 L8515.67 1384.24 L8487.94 1384.24 L8487.94 1384.24  Z\n  \" fill=\"#009af9\" fill-rule=\"evenodd\" fill-opacity=\"1\"/>\n<polyline clip-path=\"url(#clip062)\" style=\"stroke:#000000; stroke-width:4; stroke-opacity:1; fill:none\" points=\"\n  8487.94,1384.24 8487.94,1384.24 8515.67,1384.24 8487.94,1384.24 \n  \"/>\n<path clip-path=\"url(#clip062)\" d=\"\nM8515.67 1384.24 L8515.67 1384.24 L8543.39 1384.24 L8543.39 1384.24 L8515.67 1384.24 L8515.67 1384.24  Z\n  \" fill=\"#009af9\" fill-rule=\"evenodd\" fill-opacity=\"1\"/>\n<polyline clip-path=\"url(#clip062)\" style=\"stroke:#000000; stroke-width:4; stroke-opacity:1; fill:none\" points=\"\n  8515.67,1384.24 8515.67,1384.24 8543.39,1384.24 8515.67,1384.24 \n  \"/>\n<path clip-path=\"url(#clip062)\" d=\"\nM8543.39 1384.24 L8543.39 1384.24 L8571.12 1384.24 L8571.12 1384.24 L8543.39 1384.24 L8543.39 1384.24  Z\n  \" fill=\"#009af9\" fill-rule=\"evenodd\" fill-opacity=\"1\"/>\n<polyline clip-path=\"url(#clip062)\" style=\"stroke:#000000; stroke-width:4; stroke-opacity:1; fill:none\" points=\"\n  8543.39,1384.24 8543.39,1384.24 8571.12,1384.24 8543.39,1384.24 \n  \"/>\n<path clip-path=\"url(#clip062)\" d=\"\nM8571.12 1384.24 L8571.12 1384.24 L8598.85 1384.24 L8598.85 1384.24 L8571.12 1384.24 L8571.12 1384.24  Z\n  \" fill=\"#009af9\" fill-rule=\"evenodd\" fill-opacity=\"1\"/>\n<polyline clip-path=\"url(#clip062)\" style=\"stroke:#000000; stroke-width:4; stroke-opacity:1; fill:none\" points=\"\n  8571.12,1384.24 8571.12,1384.24 8598.85,1384.24 8571.12,1384.24 \n  \"/>\n<path clip-path=\"url(#clip062)\" d=\"\nM8598.85 1384.24 L8598.85 1384.24 L8626.57 1384.24 L8626.57 1384.24 L8598.85 1384.24 L8598.85 1384.24  Z\n  \" fill=\"#009af9\" fill-rule=\"evenodd\" fill-opacity=\"1\"/>\n<polyline clip-path=\"url(#clip062)\" style=\"stroke:#000000; stroke-width:4; stroke-opacity:1; fill:none\" points=\"\n  8598.85,1384.24 8598.85,1384.24 8626.57,1384.24 8598.85,1384.24 \n  \"/>\n<path clip-path=\"url(#clip062)\" d=\"\nM8626.57 1384.24 L8626.57 1384.24 L8654.3 1384.24 L8654.3 1384.24 L8626.57 1384.24 L8626.57 1384.24  Z\n  \" fill=\"#009af9\" fill-rule=\"evenodd\" fill-opacity=\"1\"/>\n<polyline clip-path=\"url(#clip062)\" style=\"stroke:#000000; stroke-width:4; stroke-opacity:1; fill:none\" points=\"\n  8626.57,1384.24 8626.57,1384.24 8654.3,1384.24 8626.57,1384.24 \n  \"/>\n<path clip-path=\"url(#clip062)\" d=\"\nM8654.3 1384.24 L8654.3 1384.24 L8682.03 1384.24 L8682.03 1384.24 L8654.3 1384.24 L8654.3 1384.24  Z\n  \" fill=\"#009af9\" fill-rule=\"evenodd\" fill-opacity=\"1\"/>\n<polyline clip-path=\"url(#clip062)\" style=\"stroke:#000000; stroke-width:4; stroke-opacity:1; fill:none\" points=\"\n  8654.3,1384.24 8654.3,1384.24 8682.03,1384.24 8654.3,1384.24 \n  \"/>\n<path clip-path=\"url(#clip062)\" d=\"\nM8682.03 1384.24 L8682.03 1384.24 L8709.76 1384.24 L8709.76 1384.24 L8682.03 1384.24 L8682.03 1384.24  Z\n  \" fill=\"#009af9\" fill-rule=\"evenodd\" fill-opacity=\"1\"/>\n<polyline clip-path=\"url(#clip062)\" style=\"stroke:#000000; stroke-width:4; stroke-opacity:1; fill:none\" points=\"\n  8682.03,1384.24 8682.03,1384.24 8709.76,1384.24 8682.03,1384.24 \n  \"/>\n<path clip-path=\"url(#clip062)\" d=\"\nM8709.76 1384.24 L8709.76 1384.24 L8737.48 1384.24 L8737.48 1384.24 L8709.76 1384.24 L8709.76 1384.24  Z\n  \" fill=\"#009af9\" fill-rule=\"evenodd\" fill-opacity=\"1\"/>\n<polyline clip-path=\"url(#clip062)\" style=\"stroke:#000000; stroke-width:4; stroke-opacity:1; fill:none\" points=\"\n  8709.76,1384.24 8709.76,1384.24 8737.48,1384.24 8709.76,1384.24 \n  \"/>\n<path clip-path=\"url(#clip062)\" d=\"\nM8737.48 1384.24 L8737.48 1384.24 L8765.21 1384.24 L8765.21 1384.24 L8737.48 1384.24 L8737.48 1384.24  Z\n  \" fill=\"#009af9\" fill-rule=\"evenodd\" fill-opacity=\"1\"/>\n<polyline clip-path=\"url(#clip062)\" style=\"stroke:#000000; stroke-width:4; stroke-opacity:1; fill:none\" points=\"\n  8737.48,1384.24 8737.48,1384.24 8765.21,1384.24 8737.48,1384.24 \n  \"/>\n<path clip-path=\"url(#clip062)\" d=\"\nM8765.21 1384.24 L8765.21 1384.24 L8792.94 1384.24 L8792.94 1384.24 L8765.21 1384.24 L8765.21 1384.24  Z\n  \" fill=\"#009af9\" fill-rule=\"evenodd\" fill-opacity=\"1\"/>\n<polyline clip-path=\"url(#clip062)\" style=\"stroke:#000000; stroke-width:4; stroke-opacity:1; fill:none\" points=\"\n  8765.21,1384.24 8765.21,1384.24 8792.94,1384.24 8765.21,1384.24 \n  \"/>\n<path clip-path=\"url(#clip062)\" d=\"\nM8792.94 1384.24 L8792.94 1384.24 L8820.67 1384.24 L8820.67 1384.24 L8792.94 1384.24 L8792.94 1384.24  Z\n  \" fill=\"#009af9\" fill-rule=\"evenodd\" fill-opacity=\"1\"/>\n<polyline clip-path=\"url(#clip062)\" style=\"stroke:#000000; stroke-width:4; stroke-opacity:1; fill:none\" points=\"\n  8792.94,1384.24 8792.94,1384.24 8820.67,1384.24 8792.94,1384.24 \n  \"/>\n<path clip-path=\"url(#clip062)\" d=\"\nM8820.67 1384.24 L8820.67 1384.24 L8848.39 1384.24 L8848.39 1384.24 L8820.67 1384.24 L8820.67 1384.24  Z\n  \" fill=\"#009af9\" fill-rule=\"evenodd\" fill-opacity=\"1\"/>\n<polyline clip-path=\"url(#clip062)\" style=\"stroke:#000000; stroke-width:4; stroke-opacity:1; fill:none\" points=\"\n  8820.67,1384.24 8820.67,1384.24 8848.39,1384.24 8820.67,1384.24 \n  \"/>\n<path clip-path=\"url(#clip062)\" d=\"\nM8848.39 1384.24 L8848.39 1384.24 L8876.12 1384.24 L8876.12 1384.24 L8848.39 1384.24 L8848.39 1384.24  Z\n  \" fill=\"#009af9\" fill-rule=\"evenodd\" fill-opacity=\"1\"/>\n<polyline clip-path=\"url(#clip062)\" style=\"stroke:#000000; stroke-width:4; stroke-opacity:1; fill:none\" points=\"\n  8848.39,1384.24 8848.39,1384.24 8876.12,1384.24 8848.39,1384.24 \n  \"/>\n<path clip-path=\"url(#clip062)\" d=\"\nM8876.12 1384.24 L8876.12 1384.24 L8903.85 1384.24 L8903.85 1384.24 L8876.12 1384.24 L8876.12 1384.24  Z\n  \" fill=\"#009af9\" fill-rule=\"evenodd\" fill-opacity=\"1\"/>\n<polyline clip-path=\"url(#clip062)\" style=\"stroke:#000000; stroke-width:4; stroke-opacity:1; fill:none\" points=\"\n  8876.12,1384.24 8876.12,1384.24 8903.85,1384.24 8876.12,1384.24 \n  \"/>\n<path clip-path=\"url(#clip062)\" d=\"\nM8903.85 1384.24 L8903.85 1384.24 L8931.58 1384.24 L8931.58 1384.24 L8903.85 1384.24 L8903.85 1384.24  Z\n  \" fill=\"#009af9\" fill-rule=\"evenodd\" fill-opacity=\"1\"/>\n<polyline clip-path=\"url(#clip062)\" style=\"stroke:#000000; stroke-width:4; stroke-opacity:1; fill:none\" points=\"\n  8903.85,1384.24 8903.85,1384.24 8931.58,1384.24 8903.85,1384.24 \n  \"/>\n<path clip-path=\"url(#clip062)\" d=\"\nM8931.58 1384.24 L8931.58 1384.24 L8959.3 1384.24 L8959.3 1384.24 L8931.58 1384.24 L8931.58 1384.24  Z\n  \" fill=\"#009af9\" fill-rule=\"evenodd\" fill-opacity=\"1\"/>\n<polyline clip-path=\"url(#clip062)\" style=\"stroke:#000000; stroke-width:4; stroke-opacity:1; fill:none\" points=\"\n  8931.58,1384.24 8931.58,1384.24 8959.3,1384.24 8931.58,1384.24 \n  \"/>\n<path clip-path=\"url(#clip062)\" d=\"\nM8959.3 1384.24 L8959.3 1384.24 L8987.03 1384.24 L8987.03 1384.24 L8959.3 1384.24 L8959.3 1384.24  Z\n  \" fill=\"#009af9\" fill-rule=\"evenodd\" fill-opacity=\"1\"/>\n<polyline clip-path=\"url(#clip062)\" style=\"stroke:#000000; stroke-width:4; stroke-opacity:1; fill:none\" points=\"\n  8959.3,1384.24 8959.3,1384.24 8987.03,1384.24 8959.3,1384.24 \n  \"/>\n<path clip-path=\"url(#clip062)\" d=\"\nM8987.03 1384.24 L8987.03 1384.24 L9014.76 1384.24 L9014.76 1384.24 L8987.03 1384.24 L8987.03 1384.24  Z\n  \" fill=\"#009af9\" fill-rule=\"evenodd\" fill-opacity=\"1\"/>\n<polyline clip-path=\"url(#clip062)\" style=\"stroke:#000000; stroke-width:4; stroke-opacity:1; fill:none\" points=\"\n  8987.03,1384.24 8987.03,1384.24 9014.76,1384.24 8987.03,1384.24 \n  \"/>\n<path clip-path=\"url(#clip062)\" d=\"\nM9014.76 1384.24 L9014.76 1384.24 L9042.49 1384.24 L9042.49 1384.24 L9014.76 1384.24 L9014.76 1384.24  Z\n  \" fill=\"#009af9\" fill-rule=\"evenodd\" fill-opacity=\"1\"/>\n<polyline clip-path=\"url(#clip062)\" style=\"stroke:#000000; stroke-width:4; stroke-opacity:1; fill:none\" points=\"\n  9014.76,1384.24 9014.76,1384.24 9042.49,1384.24 9014.76,1384.24 \n  \"/>\n<path clip-path=\"url(#clip062)\" d=\"\nM9042.49 1384.24 L9042.49 1384.24 L9070.21 1384.24 L9070.21 1384.24 L9042.49 1384.24 L9042.49 1384.24  Z\n  \" fill=\"#009af9\" fill-rule=\"evenodd\" fill-opacity=\"1\"/>\n<polyline clip-path=\"url(#clip062)\" style=\"stroke:#000000; stroke-width:4; stroke-opacity:1; fill:none\" points=\"\n  9042.49,1384.24 9042.49,1384.24 9070.21,1384.24 9042.49,1384.24 \n  \"/>\n<path clip-path=\"url(#clip062)\" d=\"\nM9070.21 1384.24 L9070.21 1384.24 L9097.94 1384.24 L9097.94 1384.24 L9070.21 1384.24 L9070.21 1384.24  Z\n  \" fill=\"#009af9\" fill-rule=\"evenodd\" fill-opacity=\"1\"/>\n<polyline clip-path=\"url(#clip062)\" style=\"stroke:#000000; stroke-width:4; stroke-opacity:1; fill:none\" points=\"\n  9070.21,1384.24 9070.21,1384.24 9097.94,1384.24 9070.21,1384.24 \n  \"/>\n<path clip-path=\"url(#clip062)\" d=\"\nM9097.94 1384.24 L9097.94 1384.24 L9125.67 1384.24 L9125.67 1384.24 L9097.94 1384.24 L9097.94 1384.24  Z\n  \" fill=\"#009af9\" fill-rule=\"evenodd\" fill-opacity=\"1\"/>\n<polyline clip-path=\"url(#clip062)\" style=\"stroke:#000000; stroke-width:4; stroke-opacity:1; fill:none\" points=\"\n  9097.94,1384.24 9097.94,1384.24 9125.67,1384.24 9097.94,1384.24 \n  \"/>\n<path clip-path=\"url(#clip062)\" d=\"\nM9125.67 1384.24 L9125.67 1384.24 L9153.4 1384.24 L9153.4 1384.24 L9125.67 1384.24 L9125.67 1384.24  Z\n  \" fill=\"#009af9\" fill-rule=\"evenodd\" fill-opacity=\"1\"/>\n<polyline clip-path=\"url(#clip062)\" style=\"stroke:#000000; stroke-width:4; stroke-opacity:1; fill:none\" points=\"\n  9125.67,1384.24 9125.67,1384.24 9153.4,1384.24 9125.67,1384.24 \n  \"/>\n<path clip-path=\"url(#clip062)\" d=\"\nM9153.4 1384.24 L9153.4 1384.24 L9181.12 1384.24 L9181.12 1384.24 L9153.4 1384.24 L9153.4 1384.24  Z\n  \" fill=\"#009af9\" fill-rule=\"evenodd\" fill-opacity=\"1\"/>\n<polyline clip-path=\"url(#clip062)\" style=\"stroke:#000000; stroke-width:4; stroke-opacity:1; fill:none\" points=\"\n  9153.4,1384.24 9153.4,1384.24 9181.12,1384.24 9153.4,1384.24 \n  \"/>\n<path clip-path=\"url(#clip062)\" d=\"\nM9181.12 1384.24 L9181.12 1384.24 L9208.85 1384.24 L9208.85 1384.24 L9181.12 1384.24 L9181.12 1384.24  Z\n  \" fill=\"#009af9\" fill-rule=\"evenodd\" fill-opacity=\"1\"/>\n<polyline clip-path=\"url(#clip062)\" style=\"stroke:#000000; stroke-width:4; stroke-opacity:1; fill:none\" points=\"\n  9181.12,1384.24 9181.12,1384.24 9208.85,1384.24 9181.12,1384.24 \n  \"/>\n<path clip-path=\"url(#clip062)\" d=\"\nM9208.85 1384.24 L9208.85 1384.24 L9236.58 1384.24 L9236.58 1384.24 L9208.85 1384.24 L9208.85 1384.24  Z\n  \" fill=\"#009af9\" fill-rule=\"evenodd\" fill-opacity=\"1\"/>\n<polyline clip-path=\"url(#clip062)\" style=\"stroke:#000000; stroke-width:4; stroke-opacity:1; fill:none\" points=\"\n  9208.85,1384.24 9208.85,1384.24 9236.58,1384.24 9208.85,1384.24 \n  \"/>\n<path clip-path=\"url(#clip062)\" d=\"\nM9236.58 1384.24 L9236.58 1384.24 L9264.3 1384.24 L9264.3 1384.24 L9236.58 1384.24 L9236.58 1384.24  Z\n  \" fill=\"#009af9\" fill-rule=\"evenodd\" fill-opacity=\"1\"/>\n<polyline clip-path=\"url(#clip062)\" style=\"stroke:#000000; stroke-width:4; stroke-opacity:1; fill:none\" points=\"\n  9236.58,1384.24 9236.58,1384.24 9264.3,1384.24 9236.58,1384.24 \n  \"/>\n<path clip-path=\"url(#clip062)\" d=\"\nM9264.3 1384.24 L9264.3 1384.24 L9292.03 1384.24 L9292.03 1384.24 L9264.3 1384.24 L9264.3 1384.24  Z\n  \" fill=\"#009af9\" fill-rule=\"evenodd\" fill-opacity=\"1\"/>\n<polyline clip-path=\"url(#clip062)\" style=\"stroke:#000000; stroke-width:4; stroke-opacity:1; fill:none\" points=\"\n  9264.3,1384.24 9264.3,1384.24 9292.03,1384.24 9264.3,1384.24 \n  \"/>\n<path clip-path=\"url(#clip062)\" d=\"\nM9292.03 1384.24 L9292.03 1384.24 L9319.76 1384.24 L9319.76 1384.24 L9292.03 1384.24 L9292.03 1384.24  Z\n  \" fill=\"#009af9\" fill-rule=\"evenodd\" fill-opacity=\"1\"/>\n<polyline clip-path=\"url(#clip062)\" style=\"stroke:#000000; stroke-width:4; stroke-opacity:1; fill:none\" points=\"\n  9292.03,1384.24 9292.03,1384.24 9319.76,1384.24 9292.03,1384.24 \n  \"/>\n<path clip-path=\"url(#clip062)\" d=\"\nM9319.76 1384.24 L9319.76 1384.24 L9347.49 1384.24 L9347.49 1384.24 L9319.76 1384.24 L9319.76 1384.24  Z\n  \" fill=\"#009af9\" fill-rule=\"evenodd\" fill-opacity=\"1\"/>\n<polyline clip-path=\"url(#clip062)\" style=\"stroke:#000000; stroke-width:4; stroke-opacity:1; fill:none\" points=\"\n  9319.76,1384.24 9319.76,1384.24 9347.49,1384.24 9319.76,1384.24 \n  \"/>\n<path clip-path=\"url(#clip062)\" d=\"\nM9347.49 1384.24 L9347.49 1384.24 L9375.21 1384.24 L9375.21 1384.24 L9347.49 1384.24 L9347.49 1384.24  Z\n  \" fill=\"#009af9\" fill-rule=\"evenodd\" fill-opacity=\"1\"/>\n<polyline clip-path=\"url(#clip062)\" style=\"stroke:#000000; stroke-width:4; stroke-opacity:1; fill:none\" points=\"\n  9347.49,1384.24 9347.49,1384.24 9375.21,1384.24 9347.49,1384.24 \n  \"/>\n<path clip-path=\"url(#clip062)\" d=\"\nM9375.21 1384.24 L9375.21 1384.24 L9402.94 1384.24 L9402.94 1384.24 L9375.21 1384.24 L9375.21 1384.24  Z\n  \" fill=\"#009af9\" fill-rule=\"evenodd\" fill-opacity=\"1\"/>\n<polyline clip-path=\"url(#clip062)\" style=\"stroke:#000000; stroke-width:4; stroke-opacity:1; fill:none\" points=\"\n  9375.21,1384.24 9375.21,1384.24 9402.94,1384.24 9375.21,1384.24 \n  \"/>\n<path clip-path=\"url(#clip062)\" d=\"\nM9402.94 1384.24 L9402.94 1384.24 L9430.67 1384.24 L9430.67 1384.24 L9402.94 1384.24 L9402.94 1384.24  Z\n  \" fill=\"#009af9\" fill-rule=\"evenodd\" fill-opacity=\"1\"/>\n<polyline clip-path=\"url(#clip062)\" style=\"stroke:#000000; stroke-width:4; stroke-opacity:1; fill:none\" points=\"\n  9402.94,1384.24 9402.94,1384.24 9430.67,1384.24 9402.94,1384.24 \n  \"/>\n<path clip-path=\"url(#clip062)\" d=\"\nM9430.67 1384.24 L9430.67 1384.24 L9458.4 1384.24 L9458.4 1384.24 L9430.67 1384.24 L9430.67 1384.24  Z\n  \" fill=\"#009af9\" fill-rule=\"evenodd\" fill-opacity=\"1\"/>\n<polyline clip-path=\"url(#clip062)\" style=\"stroke:#000000; stroke-width:4; stroke-opacity:1; fill:none\" points=\"\n  9430.67,1384.24 9430.67,1384.24 9458.4,1384.24 9430.67,1384.24 \n  \"/>\n<path clip-path=\"url(#clip062)\" d=\"\nM9458.4 1384.24 L9458.4 1384.24 L9486.12 1384.24 L9486.12 1384.24 L9458.4 1384.24 L9458.4 1384.24  Z\n  \" fill=\"#009af9\" fill-rule=\"evenodd\" fill-opacity=\"1\"/>\n<polyline clip-path=\"url(#clip062)\" style=\"stroke:#000000; stroke-width:4; stroke-opacity:1; fill:none\" points=\"\n  9458.4,1384.24 9458.4,1384.24 9486.12,1384.24 9458.4,1384.24 \n  \"/>\n<path clip-path=\"url(#clip062)\" d=\"\nM9486.12 1384.24 L9486.12 1384.24 L9513.85 1384.24 L9513.85 1384.24 L9486.12 1384.24 L9486.12 1384.24  Z\n  \" fill=\"#009af9\" fill-rule=\"evenodd\" fill-opacity=\"1\"/>\n<polyline clip-path=\"url(#clip062)\" style=\"stroke:#000000; stroke-width:4; stroke-opacity:1; fill:none\" points=\"\n  9486.12,1384.24 9486.12,1384.24 9513.85,1384.24 9486.12,1384.24 \n  \"/>\n<path clip-path=\"url(#clip062)\" d=\"\nM9513.85 1384.24 L9513.85 1384.24 L9541.58 1384.24 L9541.58 1384.24 L9513.85 1384.24 L9513.85 1384.24  Z\n  \" fill=\"#009af9\" fill-rule=\"evenodd\" fill-opacity=\"1\"/>\n<polyline clip-path=\"url(#clip062)\" style=\"stroke:#000000; stroke-width:4; stroke-opacity:1; fill:none\" points=\"\n  9513.85,1384.24 9513.85,1384.24 9541.58,1384.24 9513.85,1384.24 \n  \"/>\n<path clip-path=\"url(#clip062)\" d=\"\nM9541.58 1384.24 L9541.58 1384.24 L9569.31 1384.24 L9569.31 1384.24 L9541.58 1384.24 L9541.58 1384.24  Z\n  \" fill=\"#009af9\" fill-rule=\"evenodd\" fill-opacity=\"1\"/>\n<polyline clip-path=\"url(#clip062)\" style=\"stroke:#000000; stroke-width:4; stroke-opacity:1; fill:none\" points=\"\n  9541.58,1384.24 9541.58,1384.24 9569.31,1384.24 9541.58,1384.24 \n  \"/>\n<path clip-path=\"url(#clip062)\" d=\"\nM9569.31 1384.24 L9569.31 1384.24 L9597.03 1384.24 L9597.03 1384.24 L9569.31 1384.24 L9569.31 1384.24  Z\n  \" fill=\"#009af9\" fill-rule=\"evenodd\" fill-opacity=\"1\"/>\n<polyline clip-path=\"url(#clip062)\" style=\"stroke:#000000; stroke-width:4; stroke-opacity:1; fill:none\" points=\"\n  9569.31,1384.24 9569.31,1384.24 9597.03,1384.24 9569.31,1384.24 \n  \"/>\n<path clip-path=\"url(#clip062)\" d=\"\nM9597.03 1384.24 L9597.03 1384.24 L9624.76 1384.24 L9624.76 1384.24 L9597.03 1384.24 L9597.03 1384.24  Z\n  \" fill=\"#009af9\" fill-rule=\"evenodd\" fill-opacity=\"1\"/>\n<polyline clip-path=\"url(#clip062)\" style=\"stroke:#000000; stroke-width:4; stroke-opacity:1; fill:none\" points=\"\n  9597.03,1384.24 9597.03,1384.24 9624.76,1384.24 9597.03,1384.24 \n  \"/>\n<path clip-path=\"url(#clip062)\" d=\"\nM9624.76 1384.24 L9624.76 1384.24 L9652.49 1384.24 L9652.49 1384.24 L9624.76 1384.24 L9624.76 1384.24  Z\n  \" fill=\"#009af9\" fill-rule=\"evenodd\" fill-opacity=\"1\"/>\n<polyline clip-path=\"url(#clip062)\" style=\"stroke:#000000; stroke-width:4; stroke-opacity:1; fill:none\" points=\"\n  9624.76,1384.24 9624.76,1384.24 9652.49,1384.24 9624.76,1384.24 \n  \"/>\n<path clip-path=\"url(#clip062)\" d=\"\nM9652.49 1384.24 L9652.49 1384.24 L9680.22 1384.24 L9680.22 1384.24 L9652.49 1384.24 L9652.49 1384.24  Z\n  \" fill=\"#009af9\" fill-rule=\"evenodd\" fill-opacity=\"1\"/>\n<polyline clip-path=\"url(#clip062)\" style=\"stroke:#000000; stroke-width:4; stroke-opacity:1; fill:none\" points=\"\n  9652.49,1384.24 9652.49,1384.24 9680.22,1384.24 9652.49,1384.24 \n  \"/>\n<path clip-path=\"url(#clip062)\" d=\"\nM9680.22 1384.24 L9680.22 1384.24 L9707.94 1384.24 L9707.94 1384.24 L9680.22 1384.24 L9680.22 1384.24  Z\n  \" fill=\"#009af9\" fill-rule=\"evenodd\" fill-opacity=\"1\"/>\n<polyline clip-path=\"url(#clip062)\" style=\"stroke:#000000; stroke-width:4; stroke-opacity:1; fill:none\" points=\"\n  9680.22,1384.24 9680.22,1384.24 9707.94,1384.24 9680.22,1384.24 \n  \"/>\n<path clip-path=\"url(#clip062)\" d=\"\nM9707.94 1384.24 L9707.94 1384.24 L9735.67 1384.24 L9735.67 1384.24 L9707.94 1384.24 L9707.94 1384.24  Z\n  \" fill=\"#009af9\" fill-rule=\"evenodd\" fill-opacity=\"1\"/>\n<polyline clip-path=\"url(#clip062)\" style=\"stroke:#000000; stroke-width:4; stroke-opacity:1; fill:none\" points=\"\n  9707.94,1384.24 9707.94,1384.24 9735.67,1384.24 9707.94,1384.24 \n  \"/>\n<path clip-path=\"url(#clip062)\" d=\"\nM9735.67 1384.24 L9735.67 1384.24 L9763.4 1384.24 L9763.4 1384.24 L9735.67 1384.24 L9735.67 1384.24  Z\n  \" fill=\"#009af9\" fill-rule=\"evenodd\" fill-opacity=\"1\"/>\n<polyline clip-path=\"url(#clip062)\" style=\"stroke:#000000; stroke-width:4; stroke-opacity:1; fill:none\" points=\"\n  9735.67,1384.24 9735.67,1384.24 9763.4,1384.24 9735.67,1384.24 \n  \"/>\n<path clip-path=\"url(#clip062)\" d=\"\nM9763.4 1384.24 L9763.4 1384.24 L9791.12 1384.24 L9791.12 1384.24 L9763.4 1384.24 L9763.4 1384.24  Z\n  \" fill=\"#009af9\" fill-rule=\"evenodd\" fill-opacity=\"1\"/>\n<polyline clip-path=\"url(#clip062)\" style=\"stroke:#000000; stroke-width:4; stroke-opacity:1; fill:none\" points=\"\n  9763.4,1384.24 9763.4,1384.24 9791.12,1384.24 9763.4,1384.24 \n  \"/>\n<path clip-path=\"url(#clip062)\" d=\"\nM9791.12 1384.24 L9791.12 1384.24 L9818.85 1384.24 L9818.85 1384.24 L9791.12 1384.24 L9791.12 1384.24  Z\n  \" fill=\"#009af9\" fill-rule=\"evenodd\" fill-opacity=\"1\"/>\n<polyline clip-path=\"url(#clip062)\" style=\"stroke:#000000; stroke-width:4; stroke-opacity:1; fill:none\" points=\"\n  9791.12,1384.24 9791.12,1384.24 9818.85,1384.24 9791.12,1384.24 \n  \"/>\n<path clip-path=\"url(#clip062)\" d=\"\nM9818.85 1384.24 L9818.85 1384.24 L9846.58 1384.24 L9846.58 1384.24 L9818.85 1384.24 L9818.85 1384.24  Z\n  \" fill=\"#009af9\" fill-rule=\"evenodd\" fill-opacity=\"1\"/>\n<polyline clip-path=\"url(#clip062)\" style=\"stroke:#000000; stroke-width:4; stroke-opacity:1; fill:none\" points=\"\n  9818.85,1384.24 9818.85,1384.24 9846.58,1384.24 9818.85,1384.24 \n  \"/>\n<path clip-path=\"url(#clip062)\" d=\"\nM9846.58 1384.24 L9846.58 1384.24 L9874.31 1384.24 L9874.31 1384.24 L9846.58 1384.24 L9846.58 1384.24  Z\n  \" fill=\"#009af9\" fill-rule=\"evenodd\" fill-opacity=\"1\"/>\n<polyline clip-path=\"url(#clip062)\" style=\"stroke:#000000; stroke-width:4; stroke-opacity:1; fill:none\" points=\"\n  9846.58,1384.24 9846.58,1384.24 9874.31,1384.24 9846.58,1384.24 \n  \"/>\n<path clip-path=\"url(#clip062)\" d=\"\nM9874.31 1384.24 L9874.31 1384.24 L9902.03 1384.24 L9902.03 1384.24 L9874.31 1384.24 L9874.31 1384.24  Z\n  \" fill=\"#009af9\" fill-rule=\"evenodd\" fill-opacity=\"1\"/>\n<polyline clip-path=\"url(#clip062)\" style=\"stroke:#000000; stroke-width:4; stroke-opacity:1; fill:none\" points=\"\n  9874.31,1384.24 9874.31,1384.24 9902.03,1384.24 9874.31,1384.24 \n  \"/>\n<path clip-path=\"url(#clip062)\" d=\"\nM9902.03 1384.24 L9902.03 1384.24 L9929.76 1384.24 L9929.76 1384.24 L9902.03 1384.24 L9902.03 1384.24  Z\n  \" fill=\"#009af9\" fill-rule=\"evenodd\" fill-opacity=\"1\"/>\n<polyline clip-path=\"url(#clip062)\" style=\"stroke:#000000; stroke-width:4; stroke-opacity:1; fill:none\" points=\"\n  9902.03,1384.24 9902.03,1384.24 9929.76,1384.24 9902.03,1384.24 \n  \"/>\n<path clip-path=\"url(#clip062)\" d=\"\nM9929.76 1384.24 L9929.76 1384.24 L9957.49 1384.24 L9957.49 1384.24 L9929.76 1384.24 L9929.76 1384.24  Z\n  \" fill=\"#009af9\" fill-rule=\"evenodd\" fill-opacity=\"1\"/>\n<polyline clip-path=\"url(#clip062)\" style=\"stroke:#000000; stroke-width:4; stroke-opacity:1; fill:none\" points=\"\n  9929.76,1384.24 9929.76,1384.24 9957.49,1384.24 9929.76,1384.24 \n  \"/>\n<path clip-path=\"url(#clip062)\" d=\"\nM9957.49 1384.24 L9957.49 1384.24 L9985.22 1384.24 L9985.22 1384.24 L9957.49 1384.24 L9957.49 1384.24  Z\n  \" fill=\"#009af9\" fill-rule=\"evenodd\" fill-opacity=\"1\"/>\n<polyline clip-path=\"url(#clip062)\" style=\"stroke:#000000; stroke-width:4; stroke-opacity:1; fill:none\" points=\"\n  9957.49,1384.24 9957.49,1384.24 9985.22,1384.24 9957.49,1384.24 \n  \"/>\n<path clip-path=\"url(#clip062)\" d=\"\nM9985.22 1384.24 L9985.22 1384.24 L10012.9 1384.24 L10012.9 1384.24 L9985.22 1384.24 L9985.22 1384.24  Z\n  \" fill=\"#009af9\" fill-rule=\"evenodd\" fill-opacity=\"1\"/>\n<polyline clip-path=\"url(#clip062)\" style=\"stroke:#000000; stroke-width:4; stroke-opacity:1; fill:none\" points=\"\n  9985.22,1384.24 9985.22,1384.24 10012.9,1384.24 9985.22,1384.24 \n  \"/>\n<path clip-path=\"url(#clip062)\" d=\"\nM10012.9 1384.24 L10012.9 1384.24 L10040.7 1384.24 L10040.7 1384.24 L10012.9 1384.24 L10012.9 1384.24  Z\n  \" fill=\"#009af9\" fill-rule=\"evenodd\" fill-opacity=\"1\"/>\n<polyline clip-path=\"url(#clip062)\" style=\"stroke:#000000; stroke-width:4; stroke-opacity:1; fill:none\" points=\"\n  10012.9,1384.24 10012.9,1384.24 10040.7,1384.24 10012.9,1384.24 \n  \"/>\n<path clip-path=\"url(#clip062)\" d=\"\nM10040.7 1384.24 L10040.7 1384.24 L10068.4 1384.24 L10068.4 1384.24 L10040.7 1384.24 L10040.7 1384.24  Z\n  \" fill=\"#009af9\" fill-rule=\"evenodd\" fill-opacity=\"1\"/>\n<polyline clip-path=\"url(#clip062)\" style=\"stroke:#000000; stroke-width:4; stroke-opacity:1; fill:none\" points=\"\n  10040.7,1384.24 10040.7,1384.24 10068.4,1384.24 10040.7,1384.24 \n  \"/>\n<path clip-path=\"url(#clip062)\" d=\"\nM10068.4 1384.24 L10068.4 1384.24 L10096.1 1384.24 L10096.1 1384.24 L10068.4 1384.24 L10068.4 1384.24  Z\n  \" fill=\"#009af9\" fill-rule=\"evenodd\" fill-opacity=\"1\"/>\n<polyline clip-path=\"url(#clip062)\" style=\"stroke:#000000; stroke-width:4; stroke-opacity:1; fill:none\" points=\"\n  10068.4,1384.24 10068.4,1384.24 10096.1,1384.24 10068.4,1384.24 \n  \"/>\n<path clip-path=\"url(#clip062)\" d=\"\nM10096.1 1384.24 L10096.1 1384.24 L10123.9 1384.24 L10123.9 1384.24 L10096.1 1384.24 L10096.1 1384.24  Z\n  \" fill=\"#009af9\" fill-rule=\"evenodd\" fill-opacity=\"1\"/>\n<polyline clip-path=\"url(#clip062)\" style=\"stroke:#000000; stroke-width:4; stroke-opacity:1; fill:none\" points=\"\n  10096.1,1384.24 10096.1,1384.24 10123.9,1384.24 10096.1,1384.24 \n  \"/>\n<path clip-path=\"url(#clip062)\" d=\"\nM10123.9 1384.24 L10123.9 1384.24 L10151.6 1384.24 L10151.6 1384.24 L10123.9 1384.24 L10123.9 1384.24  Z\n  \" fill=\"#009af9\" fill-rule=\"evenodd\" fill-opacity=\"1\"/>\n<polyline clip-path=\"url(#clip062)\" style=\"stroke:#000000; stroke-width:4; stroke-opacity:1; fill:none\" points=\"\n  10123.9,1384.24 10123.9,1384.24 10151.6,1384.24 10123.9,1384.24 \n  \"/>\n<path clip-path=\"url(#clip062)\" d=\"\nM10151.6 1384.24 L10151.6 1384.24 L10179.3 1384.24 L10179.3 1384.24 L10151.6 1384.24 L10151.6 1384.24  Z\n  \" fill=\"#009af9\" fill-rule=\"evenodd\" fill-opacity=\"1\"/>\n<polyline clip-path=\"url(#clip062)\" style=\"stroke:#000000; stroke-width:4; stroke-opacity:1; fill:none\" points=\"\n  10151.6,1384.24 10151.6,1384.24 10179.3,1384.24 10151.6,1384.24 \n  \"/>\n<path clip-path=\"url(#clip062)\" d=\"\nM10179.3 1384.24 L10179.3 1384.24 L10207 1384.24 L10207 1384.24 L10179.3 1384.24 L10179.3 1384.24  Z\n  \" fill=\"#009af9\" fill-rule=\"evenodd\" fill-opacity=\"1\"/>\n<polyline clip-path=\"url(#clip062)\" style=\"stroke:#000000; stroke-width:4; stroke-opacity:1; fill:none\" points=\"\n  10179.3,1384.24 10179.3,1384.24 10207,1384.24 10179.3,1384.24 \n  \"/>\n<path clip-path=\"url(#clip062)\" d=\"\nM10207 1384.24 L10207 1384.24 L10234.8 1384.24 L10234.8 1384.24 L10207 1384.24 L10207 1384.24  Z\n  \" fill=\"#009af9\" fill-rule=\"evenodd\" fill-opacity=\"1\"/>\n<polyline clip-path=\"url(#clip062)\" style=\"stroke:#000000; stroke-width:4; stroke-opacity:1; fill:none\" points=\"\n  10207,1384.24 10207,1384.24 10234.8,1384.24 10207,1384.24 \n  \"/>\n<path clip-path=\"url(#clip062)\" d=\"\nM10234.8 1384.24 L10234.8 1384.24 L10262.5 1384.24 L10262.5 1384.24 L10234.8 1384.24 L10234.8 1384.24  Z\n  \" fill=\"#009af9\" fill-rule=\"evenodd\" fill-opacity=\"1\"/>\n<polyline clip-path=\"url(#clip062)\" style=\"stroke:#000000; stroke-width:4; stroke-opacity:1; fill:none\" points=\"\n  10234.8,1384.24 10234.8,1384.24 10262.5,1384.24 10234.8,1384.24 \n  \"/>\n<path clip-path=\"url(#clip062)\" d=\"\nM10262.5 1384.24 L10262.5 1384.24 L10290.2 1384.24 L10290.2 1384.24 L10262.5 1384.24 L10262.5 1384.24  Z\n  \" fill=\"#009af9\" fill-rule=\"evenodd\" fill-opacity=\"1\"/>\n<polyline clip-path=\"url(#clip062)\" style=\"stroke:#000000; stroke-width:4; stroke-opacity:1; fill:none\" points=\"\n  10262.5,1384.24 10262.5,1384.24 10290.2,1384.24 10262.5,1384.24 \n  \"/>\n<path clip-path=\"url(#clip062)\" d=\"\nM10290.2 1384.24 L10290.2 1384.24 L10317.9 1384.24 L10317.9 1384.24 L10290.2 1384.24 L10290.2 1384.24  Z\n  \" fill=\"#009af9\" fill-rule=\"evenodd\" fill-opacity=\"1\"/>\n<polyline clip-path=\"url(#clip062)\" style=\"stroke:#000000; stroke-width:4; stroke-opacity:1; fill:none\" points=\"\n  10290.2,1384.24 10290.2,1384.24 10317.9,1384.24 10290.2,1384.24 \n  \"/>\n<path clip-path=\"url(#clip062)\" d=\"\nM10317.9 1384.24 L10317.9 1384.24 L10345.7 1384.24 L10345.7 1384.24 L10317.9 1384.24 L10317.9 1384.24  Z\n  \" fill=\"#009af9\" fill-rule=\"evenodd\" fill-opacity=\"1\"/>\n<polyline clip-path=\"url(#clip062)\" style=\"stroke:#000000; stroke-width:4; stroke-opacity:1; fill:none\" points=\"\n  10317.9,1384.24 10317.9,1384.24 10345.7,1384.24 10317.9,1384.24 \n  \"/>\n<path clip-path=\"url(#clip062)\" d=\"\nM10345.7 1384.24 L10345.7 1384.24 L10373.4 1384.24 L10373.4 1384.24 L10345.7 1384.24 L10345.7 1384.24  Z\n  \" fill=\"#009af9\" fill-rule=\"evenodd\" fill-opacity=\"1\"/>\n<polyline clip-path=\"url(#clip062)\" style=\"stroke:#000000; stroke-width:4; stroke-opacity:1; fill:none\" points=\"\n  10345.7,1384.24 10345.7,1384.24 10373.4,1384.24 10345.7,1384.24 \n  \"/>\n<path clip-path=\"url(#clip062)\" d=\"\nM10373.4 1384.24 L10373.4 1384.24 L10401.1 1384.24 L10401.1 1384.24 L10373.4 1384.24 L10373.4 1384.24  Z\n  \" fill=\"#009af9\" fill-rule=\"evenodd\" fill-opacity=\"1\"/>\n<polyline clip-path=\"url(#clip062)\" style=\"stroke:#000000; stroke-width:4; stroke-opacity:1; fill:none\" points=\"\n  10373.4,1384.24 10373.4,1384.24 10401.1,1384.24 10373.4,1384.24 \n  \"/>\n<path clip-path=\"url(#clip062)\" d=\"\nM10401.1 1384.24 L10401.1 1384.24 L10428.9 1384.24 L10428.9 1384.24 L10401.1 1384.24 L10401.1 1384.24  Z\n  \" fill=\"#009af9\" fill-rule=\"evenodd\" fill-opacity=\"1\"/>\n<polyline clip-path=\"url(#clip062)\" style=\"stroke:#000000; stroke-width:4; stroke-opacity:1; fill:none\" points=\"\n  10401.1,1384.24 10401.1,1384.24 10428.9,1384.24 10401.1,1384.24 \n  \"/>\n<path clip-path=\"url(#clip062)\" d=\"\nM10428.9 1384.24 L10428.9 1384.24 L10456.6 1384.24 L10456.6 1384.24 L10428.9 1384.24 L10428.9 1384.24  Z\n  \" fill=\"#009af9\" fill-rule=\"evenodd\" fill-opacity=\"1\"/>\n<polyline clip-path=\"url(#clip062)\" style=\"stroke:#000000; stroke-width:4; stroke-opacity:1; fill:none\" points=\"\n  10428.9,1384.24 10428.9,1384.24 10456.6,1384.24 10428.9,1384.24 \n  \"/>\n<path clip-path=\"url(#clip062)\" d=\"\nM10456.6 1384.24 L10456.6 1384.24 L10484.3 1384.24 L10484.3 1384.24 L10456.6 1384.24 L10456.6 1384.24  Z\n  \" fill=\"#009af9\" fill-rule=\"evenodd\" fill-opacity=\"1\"/>\n<polyline clip-path=\"url(#clip062)\" style=\"stroke:#000000; stroke-width:4; stroke-opacity:1; fill:none\" points=\"\n  10456.6,1384.24 10456.6,1384.24 10484.3,1384.24 10456.6,1384.24 \n  \"/>\n<path clip-path=\"url(#clip062)\" d=\"\nM10484.3 1384.24 L10484.3 1384.24 L10512 1384.24 L10512 1384.24 L10484.3 1384.24 L10484.3 1384.24  Z\n  \" fill=\"#009af9\" fill-rule=\"evenodd\" fill-opacity=\"1\"/>\n<polyline clip-path=\"url(#clip062)\" style=\"stroke:#000000; stroke-width:4; stroke-opacity:1; fill:none\" points=\"\n  10484.3,1384.24 10484.3,1384.24 10512,1384.24 10484.3,1384.24 \n  \"/>\n<path clip-path=\"url(#clip062)\" d=\"\nM10512 1384.24 L10512 1384.24 L10539.8 1384.24 L10539.8 1384.24 L10512 1384.24 L10512 1384.24  Z\n  \" fill=\"#009af9\" fill-rule=\"evenodd\" fill-opacity=\"1\"/>\n<polyline clip-path=\"url(#clip062)\" style=\"stroke:#000000; stroke-width:4; stroke-opacity:1; fill:none\" points=\"\n  10512,1384.24 10512,1384.24 10539.8,1384.24 10512,1384.24 \n  \"/>\n<path clip-path=\"url(#clip062)\" d=\"\nM10539.8 1384.24 L10539.8 1384.24 L10567.5 1384.24 L10567.5 1384.24 L10539.8 1384.24 L10539.8 1384.24  Z\n  \" fill=\"#009af9\" fill-rule=\"evenodd\" fill-opacity=\"1\"/>\n<polyline clip-path=\"url(#clip062)\" style=\"stroke:#000000; stroke-width:4; stroke-opacity:1; fill:none\" points=\"\n  10539.8,1384.24 10539.8,1384.24 10567.5,1384.24 10539.8,1384.24 \n  \"/>\n<path clip-path=\"url(#clip062)\" d=\"\nM10567.5 1384.24 L10567.5 1384.24 L10595.2 1384.24 L10595.2 1384.24 L10567.5 1384.24 L10567.5 1384.24  Z\n  \" fill=\"#009af9\" fill-rule=\"evenodd\" fill-opacity=\"1\"/>\n<polyline clip-path=\"url(#clip062)\" style=\"stroke:#000000; stroke-width:4; stroke-opacity:1; fill:none\" points=\"\n  10567.5,1384.24 10567.5,1384.24 10595.2,1384.24 10567.5,1384.24 \n  \"/>\n<path clip-path=\"url(#clip062)\" d=\"\nM10595.2 1384.24 L10595.2 1384.24 L10622.9 1384.24 L10622.9 1384.24 L10595.2 1384.24 L10595.2 1384.24  Z\n  \" fill=\"#009af9\" fill-rule=\"evenodd\" fill-opacity=\"1\"/>\n<polyline clip-path=\"url(#clip062)\" style=\"stroke:#000000; stroke-width:4; stroke-opacity:1; fill:none\" points=\"\n  10595.2,1384.24 10595.2,1384.24 10622.9,1384.24 10595.2,1384.24 \n  \"/>\n<path clip-path=\"url(#clip062)\" d=\"\nM10622.9 1384.24 L10622.9 1384.24 L10650.7 1384.24 L10650.7 1384.24 L10622.9 1384.24 L10622.9 1384.24  Z\n  \" fill=\"#009af9\" fill-rule=\"evenodd\" fill-opacity=\"1\"/>\n<polyline clip-path=\"url(#clip062)\" style=\"stroke:#000000; stroke-width:4; stroke-opacity:1; fill:none\" points=\"\n  10622.9,1384.24 10622.9,1384.24 10650.7,1384.24 10622.9,1384.24 \n  \"/>\n<path clip-path=\"url(#clip062)\" d=\"\nM10650.7 1384.24 L10650.7 1384.24 L10678.4 1384.24 L10678.4 1384.24 L10650.7 1384.24 L10650.7 1384.24  Z\n  \" fill=\"#009af9\" fill-rule=\"evenodd\" fill-opacity=\"1\"/>\n<polyline clip-path=\"url(#clip062)\" style=\"stroke:#000000; stroke-width:4; stroke-opacity:1; fill:none\" points=\"\n  10650.7,1384.24 10650.7,1384.24 10678.4,1384.24 10650.7,1384.24 \n  \"/>\n<path clip-path=\"url(#clip062)\" d=\"\nM10678.4 1384.24 L10678.4 1384.24 L10706.1 1384.24 L10706.1 1384.24 L10678.4 1384.24 L10678.4 1384.24  Z\n  \" fill=\"#009af9\" fill-rule=\"evenodd\" fill-opacity=\"1\"/>\n<polyline clip-path=\"url(#clip062)\" style=\"stroke:#000000; stroke-width:4; stroke-opacity:1; fill:none\" points=\"\n  10678.4,1384.24 10678.4,1384.24 10706.1,1384.24 10678.4,1384.24 \n  \"/>\n<path clip-path=\"url(#clip062)\" d=\"\nM10706.1 1384.24 L10706.1 1384.24 L10733.9 1384.24 L10733.9 1384.24 L10706.1 1384.24 L10706.1 1384.24  Z\n  \" fill=\"#009af9\" fill-rule=\"evenodd\" fill-opacity=\"1\"/>\n<polyline clip-path=\"url(#clip062)\" style=\"stroke:#000000; stroke-width:4; stroke-opacity:1; fill:none\" points=\"\n  10706.1,1384.24 10706.1,1384.24 10733.9,1384.24 10706.1,1384.24 \n  \"/>\n<path clip-path=\"url(#clip062)\" d=\"\nM10733.9 1384.24 L10733.9 1384.24 L10761.6 1384.24 L10761.6 1384.24 L10733.9 1384.24 L10733.9 1384.24  Z\n  \" fill=\"#009af9\" fill-rule=\"evenodd\" fill-opacity=\"1\"/>\n<polyline clip-path=\"url(#clip062)\" style=\"stroke:#000000; stroke-width:4; stroke-opacity:1; fill:none\" points=\"\n  10733.9,1384.24 10733.9,1384.24 10761.6,1384.24 10733.9,1384.24 \n  \"/>\n<path clip-path=\"url(#clip062)\" d=\"\nM10761.6 1384.24 L10761.6 1384.24 L10789.3 1384.24 L10789.3 1384.24 L10761.6 1384.24 L10761.6 1384.24  Z\n  \" fill=\"#009af9\" fill-rule=\"evenodd\" fill-opacity=\"1\"/>\n<polyline clip-path=\"url(#clip062)\" style=\"stroke:#000000; stroke-width:4; stroke-opacity:1; fill:none\" points=\"\n  10761.6,1384.24 10761.6,1384.24 10789.3,1384.24 10761.6,1384.24 \n  \"/>\n<path clip-path=\"url(#clip062)\" d=\"\nM10789.3 1384.24 L10789.3 1384.24 L10817 1384.24 L10817 1384.24 L10789.3 1384.24 L10789.3 1384.24  Z\n  \" fill=\"#009af9\" fill-rule=\"evenodd\" fill-opacity=\"1\"/>\n<polyline clip-path=\"url(#clip062)\" style=\"stroke:#000000; stroke-width:4; stroke-opacity:1; fill:none\" points=\"\n  10789.3,1384.24 10789.3,1384.24 10817,1384.24 10789.3,1384.24 \n  \"/>\n<path clip-path=\"url(#clip062)\" d=\"\nM10817 1384.24 L10817 1384.24 L10844.8 1384.24 L10844.8 1384.24 L10817 1384.24 L10817 1384.24  Z\n  \" fill=\"#009af9\" fill-rule=\"evenodd\" fill-opacity=\"1\"/>\n<polyline clip-path=\"url(#clip062)\" style=\"stroke:#000000; stroke-width:4; stroke-opacity:1; fill:none\" points=\"\n  10817,1384.24 10817,1384.24 10844.8,1384.24 10817,1384.24 \n  \"/>\n<path clip-path=\"url(#clip062)\" d=\"\nM10844.8 1384.24 L10844.8 1384.24 L10872.5 1384.24 L10872.5 1384.24 L10844.8 1384.24 L10844.8 1384.24  Z\n  \" fill=\"#009af9\" fill-rule=\"evenodd\" fill-opacity=\"1\"/>\n<polyline clip-path=\"url(#clip062)\" style=\"stroke:#000000; stroke-width:4; stroke-opacity:1; fill:none\" points=\"\n  10844.8,1384.24 10844.8,1384.24 10872.5,1384.24 10844.8,1384.24 \n  \"/>\n<path clip-path=\"url(#clip062)\" d=\"\nM10872.5 1384.24 L10872.5 1384.24 L10900.2 1384.24 L10900.2 1384.24 L10872.5 1384.24 L10872.5 1384.24  Z\n  \" fill=\"#009af9\" fill-rule=\"evenodd\" fill-opacity=\"1\"/>\n<polyline clip-path=\"url(#clip062)\" style=\"stroke:#000000; stroke-width:4; stroke-opacity:1; fill:none\" points=\"\n  10872.5,1384.24 10872.5,1384.24 10900.2,1384.24 10872.5,1384.24 \n  \"/>\n<path clip-path=\"url(#clip062)\" d=\"\nM10900.2 1384.24 L10900.2 1384.24 L10927.9 1384.24 L10927.9 1384.24 L10900.2 1384.24 L10900.2 1384.24  Z\n  \" fill=\"#009af9\" fill-rule=\"evenodd\" fill-opacity=\"1\"/>\n<polyline clip-path=\"url(#clip062)\" style=\"stroke:#000000; stroke-width:4; stroke-opacity:1; fill:none\" points=\"\n  10900.2,1384.24 10900.2,1384.24 10927.9,1384.24 10900.2,1384.24 \n  \"/>\n<path clip-path=\"url(#clip062)\" d=\"\nM10927.9 1384.24 L10927.9 1384.24 L10955.7 1384.24 L10955.7 1384.24 L10927.9 1384.24 L10927.9 1384.24  Z\n  \" fill=\"#009af9\" fill-rule=\"evenodd\" fill-opacity=\"1\"/>\n<polyline clip-path=\"url(#clip062)\" style=\"stroke:#000000; stroke-width:4; stroke-opacity:1; fill:none\" points=\"\n  10927.9,1384.24 10927.9,1384.24 10955.7,1384.24 10927.9,1384.24 \n  \"/>\n<path clip-path=\"url(#clip062)\" d=\"\nM10955.7 1384.24 L10955.7 1384.24 L10983.4 1384.24 L10983.4 1384.24 L10955.7 1384.24 L10955.7 1384.24  Z\n  \" fill=\"#009af9\" fill-rule=\"evenodd\" fill-opacity=\"1\"/>\n<polyline clip-path=\"url(#clip062)\" style=\"stroke:#000000; stroke-width:4; stroke-opacity:1; fill:none\" points=\"\n  10955.7,1384.24 10955.7,1384.24 10983.4,1384.24 10955.7,1384.24 \n  \"/>\n<path clip-path=\"url(#clip062)\" d=\"\nM10983.4 1384.24 L10983.4 1384.24 L11011.1 1384.24 L11011.1 1384.24 L10983.4 1384.24 L10983.4 1384.24  Z\n  \" fill=\"#009af9\" fill-rule=\"evenodd\" fill-opacity=\"1\"/>\n<polyline clip-path=\"url(#clip062)\" style=\"stroke:#000000; stroke-width:4; stroke-opacity:1; fill:none\" points=\"\n  10983.4,1384.24 10983.4,1384.24 11011.1,1384.24 10983.4,1384.24 \n  \"/>\n<path clip-path=\"url(#clip062)\" d=\"\nM11011.1 1384.24 L11011.1 1384.24 L11038.9 1384.24 L11038.9 1384.24 L11011.1 1384.24 L11011.1 1384.24  Z\n  \" fill=\"#009af9\" fill-rule=\"evenodd\" fill-opacity=\"1\"/>\n<polyline clip-path=\"url(#clip062)\" style=\"stroke:#000000; stroke-width:4; stroke-opacity:1; fill:none\" points=\"\n  11011.1,1384.24 11011.1,1384.24 11038.9,1384.24 11011.1,1384.24 \n  \"/>\n<path clip-path=\"url(#clip062)\" d=\"\nM11038.9 1384.24 L11038.9 1384.24 L11066.6 1384.24 L11066.6 1384.24 L11038.9 1384.24 L11038.9 1384.24  Z\n  \" fill=\"#009af9\" fill-rule=\"evenodd\" fill-opacity=\"1\"/>\n<polyline clip-path=\"url(#clip062)\" style=\"stroke:#000000; stroke-width:4; stroke-opacity:1; fill:none\" points=\"\n  11038.9,1384.24 11038.9,1384.24 11066.6,1384.24 11038.9,1384.24 \n  \"/>\n<path clip-path=\"url(#clip062)\" d=\"\nM11066.6 1384.24 L11066.6 1384.24 L11094.3 1384.24 L11094.3 1384.24 L11066.6 1384.24 L11066.6 1384.24  Z\n  \" fill=\"#009af9\" fill-rule=\"evenodd\" fill-opacity=\"1\"/>\n<polyline clip-path=\"url(#clip062)\" style=\"stroke:#000000; stroke-width:4; stroke-opacity:1; fill:none\" points=\"\n  11066.6,1384.24 11066.6,1384.24 11094.3,1384.24 11066.6,1384.24 \n  \"/>\n<path clip-path=\"url(#clip062)\" d=\"\nM11094.3 1384.24 L11094.3 1384.24 L11122 1384.24 L11122 1384.24 L11094.3 1384.24 L11094.3 1384.24  Z\n  \" fill=\"#009af9\" fill-rule=\"evenodd\" fill-opacity=\"1\"/>\n<polyline clip-path=\"url(#clip062)\" style=\"stroke:#000000; stroke-width:4; stroke-opacity:1; fill:none\" points=\"\n  11094.3,1384.24 11094.3,1384.24 11122,1384.24 11094.3,1384.24 \n  \"/>\n<path clip-path=\"url(#clip062)\" d=\"\nM11122 1384.24 L11122 1384.24 L11149.8 1384.24 L11149.8 1384.24 L11122 1384.24 L11122 1384.24  Z\n  \" fill=\"#009af9\" fill-rule=\"evenodd\" fill-opacity=\"1\"/>\n<polyline clip-path=\"url(#clip062)\" style=\"stroke:#000000; stroke-width:4; stroke-opacity:1; fill:none\" points=\"\n  11122,1384.24 11122,1384.24 11149.8,1384.24 11122,1384.24 \n  \"/>\n<path clip-path=\"url(#clip062)\" d=\"\nM11149.8 1384.24 L11149.8 1384.24 L11177.5 1384.24 L11177.5 1384.24 L11149.8 1384.24 L11149.8 1384.24  Z\n  \" fill=\"#009af9\" fill-rule=\"evenodd\" fill-opacity=\"1\"/>\n<polyline clip-path=\"url(#clip062)\" style=\"stroke:#000000; stroke-width:4; stroke-opacity:1; fill:none\" points=\"\n  11149.8,1384.24 11149.8,1384.24 11177.5,1384.24 11149.8,1384.24 \n  \"/>\n<path clip-path=\"url(#clip062)\" d=\"\nM11177.5 1384.24 L11177.5 1384.24 L11205.2 1384.24 L11205.2 1384.24 L11177.5 1384.24 L11177.5 1384.24  Z\n  \" fill=\"#009af9\" fill-rule=\"evenodd\" fill-opacity=\"1\"/>\n<polyline clip-path=\"url(#clip062)\" style=\"stroke:#000000; stroke-width:4; stroke-opacity:1; fill:none\" points=\"\n  11177.5,1384.24 11177.5,1384.24 11205.2,1384.24 11177.5,1384.24 \n  \"/>\n<path clip-path=\"url(#clip062)\" d=\"\nM11205.2 1384.24 L11205.2 1384.24 L11232.9 1384.24 L11232.9 1384.24 L11205.2 1384.24 L11205.2 1384.24  Z\n  \" fill=\"#009af9\" fill-rule=\"evenodd\" fill-opacity=\"1\"/>\n<polyline clip-path=\"url(#clip062)\" style=\"stroke:#000000; stroke-width:4; stroke-opacity:1; fill:none\" points=\"\n  11205.2,1384.24 11205.2,1384.24 11232.9,1384.24 11205.2,1384.24 \n  \"/>\n<path clip-path=\"url(#clip062)\" d=\"\nM11232.9 1384.24 L11232.9 1384.24 L11260.7 1384.24 L11260.7 1384.24 L11232.9 1384.24 L11232.9 1384.24  Z\n  \" fill=\"#009af9\" fill-rule=\"evenodd\" fill-opacity=\"1\"/>\n<polyline clip-path=\"url(#clip062)\" style=\"stroke:#000000; stroke-width:4; stroke-opacity:1; fill:none\" points=\"\n  11232.9,1384.24 11232.9,1384.24 11260.7,1384.24 11232.9,1384.24 \n  \"/>\n<path clip-path=\"url(#clip062)\" d=\"\nM11260.7 1384.24 L11260.7 1384.24 L11288.4 1384.24 L11288.4 1384.24 L11260.7 1384.24 L11260.7 1384.24  Z\n  \" fill=\"#009af9\" fill-rule=\"evenodd\" fill-opacity=\"1\"/>\n<polyline clip-path=\"url(#clip062)\" style=\"stroke:#000000; stroke-width:4; stroke-opacity:1; fill:none\" points=\"\n  11260.7,1384.24 11260.7,1384.24 11288.4,1384.24 11260.7,1384.24 \n  \"/>\n<path clip-path=\"url(#clip062)\" d=\"\nM11288.4 1384.24 L11288.4 1384.24 L11316.1 1384.24 L11316.1 1384.24 L11288.4 1384.24 L11288.4 1384.24  Z\n  \" fill=\"#009af9\" fill-rule=\"evenodd\" fill-opacity=\"1\"/>\n<polyline clip-path=\"url(#clip062)\" style=\"stroke:#000000; stroke-width:4; stroke-opacity:1; fill:none\" points=\"\n  11288.4,1384.24 11288.4,1384.24 11316.1,1384.24 11288.4,1384.24 \n  \"/>\n<path clip-path=\"url(#clip062)\" d=\"\nM11316.1 1384.24 L11316.1 1384.24 L11343.9 1384.24 L11343.9 1384.24 L11316.1 1384.24 L11316.1 1384.24  Z\n  \" fill=\"#009af9\" fill-rule=\"evenodd\" fill-opacity=\"1\"/>\n<polyline clip-path=\"url(#clip062)\" style=\"stroke:#000000; stroke-width:4; stroke-opacity:1; fill:none\" points=\"\n  11316.1,1384.24 11316.1,1384.24 11343.9,1384.24 11316.1,1384.24 \n  \"/>\n<path clip-path=\"url(#clip062)\" d=\"\nM11343.9 1384.24 L11343.9 1384.24 L11371.6 1384.24 L11371.6 1384.24 L11343.9 1384.24 L11343.9 1384.24  Z\n  \" fill=\"#009af9\" fill-rule=\"evenodd\" fill-opacity=\"1\"/>\n<polyline clip-path=\"url(#clip062)\" style=\"stroke:#000000; stroke-width:4; stroke-opacity:1; fill:none\" points=\"\n  11343.9,1384.24 11343.9,1384.24 11371.6,1384.24 11343.9,1384.24 \n  \"/>\n<path clip-path=\"url(#clip062)\" d=\"\nM11371.6 1384.24 L11371.6 1384.24 L11399.3 1384.24 L11399.3 1384.24 L11371.6 1384.24 L11371.6 1384.24  Z\n  \" fill=\"#009af9\" fill-rule=\"evenodd\" fill-opacity=\"1\"/>\n<polyline clip-path=\"url(#clip062)\" style=\"stroke:#000000; stroke-width:4; stroke-opacity:1; fill:none\" points=\"\n  11371.6,1384.24 11371.6,1384.24 11399.3,1384.24 11371.6,1384.24 \n  \"/>\n<path clip-path=\"url(#clip062)\" d=\"\nM11399.3 1384.24 L11399.3 1384.24 L11427 1384.24 L11427 1384.24 L11399.3 1384.24 L11399.3 1384.24  Z\n  \" fill=\"#009af9\" fill-rule=\"evenodd\" fill-opacity=\"1\"/>\n<polyline clip-path=\"url(#clip062)\" style=\"stroke:#000000; stroke-width:4; stroke-opacity:1; fill:none\" points=\"\n  11399.3,1384.24 11399.3,1384.24 11427,1384.24 11399.3,1384.24 \n  \"/>\n<path clip-path=\"url(#clip062)\" d=\"\nM11427 1384.24 L11427 1384.24 L11454.8 1384.24 L11454.8 1384.24 L11427 1384.24 L11427 1384.24  Z\n  \" fill=\"#009af9\" fill-rule=\"evenodd\" fill-opacity=\"1\"/>\n<polyline clip-path=\"url(#clip062)\" style=\"stroke:#000000; stroke-width:4; stroke-opacity:1; fill:none\" points=\"\n  11427,1384.24 11427,1384.24 11454.8,1384.24 11427,1384.24 \n  \"/>\n<path clip-path=\"url(#clip062)\" d=\"\nM11454.8 1384.24 L11454.8 1384.24 L11482.5 1384.24 L11482.5 1384.24 L11454.8 1384.24 L11454.8 1384.24  Z\n  \" fill=\"#009af9\" fill-rule=\"evenodd\" fill-opacity=\"1\"/>\n<polyline clip-path=\"url(#clip062)\" style=\"stroke:#000000; stroke-width:4; stroke-opacity:1; fill:none\" points=\"\n  11454.8,1384.24 11454.8,1384.24 11482.5,1384.24 11454.8,1384.24 \n  \"/>\n<path clip-path=\"url(#clip062)\" d=\"\nM11482.5 1384.24 L11482.5 1384.24 L11510.2 1384.24 L11510.2 1384.24 L11482.5 1384.24 L11482.5 1384.24  Z\n  \" fill=\"#009af9\" fill-rule=\"evenodd\" fill-opacity=\"1\"/>\n<polyline clip-path=\"url(#clip062)\" style=\"stroke:#000000; stroke-width:4; stroke-opacity:1; fill:none\" points=\"\n  11482.5,1384.24 11482.5,1384.24 11510.2,1384.24 11482.5,1384.24 \n  \"/>\n<path clip-path=\"url(#clip062)\" d=\"\nM11510.2 1384.24 L11510.2 1384.24 L11538 1384.24 L11538 1384.24 L11510.2 1384.24 L11510.2 1384.24  Z\n  \" fill=\"#009af9\" fill-rule=\"evenodd\" fill-opacity=\"1\"/>\n<polyline clip-path=\"url(#clip062)\" style=\"stroke:#000000; stroke-width:4; stroke-opacity:1; fill:none\" points=\"\n  11510.2,1384.24 11510.2,1384.24 11538,1384.24 11510.2,1384.24 \n  \"/>\n<path clip-path=\"url(#clip062)\" d=\"\nM11538 1384.24 L11538 1384.24 L11565.7 1384.24 L11565.7 1384.24 L11538 1384.24 L11538 1384.24  Z\n  \" fill=\"#009af9\" fill-rule=\"evenodd\" fill-opacity=\"1\"/>\n<polyline clip-path=\"url(#clip062)\" style=\"stroke:#000000; stroke-width:4; stroke-opacity:1; fill:none\" points=\"\n  11538,1384.24 11538,1384.24 11565.7,1384.24 11538,1384.24 \n  \"/>\n<path clip-path=\"url(#clip062)\" d=\"\nM11565.7 1384.24 L11565.7 1384.24 L11593.4 1384.24 L11593.4 1384.24 L11565.7 1384.24 L11565.7 1384.24  Z\n  \" fill=\"#009af9\" fill-rule=\"evenodd\" fill-opacity=\"1\"/>\n<polyline clip-path=\"url(#clip062)\" style=\"stroke:#000000; stroke-width:4; stroke-opacity:1; fill:none\" points=\"\n  11565.7,1384.24 11565.7,1384.24 11593.4,1384.24 11565.7,1384.24 \n  \"/>\n<path clip-path=\"url(#clip062)\" d=\"\nM11593.4 1384.24 L11593.4 1384.24 L11621.1 1384.24 L11621.1 1384.24 L11593.4 1384.24 L11593.4 1384.24  Z\n  \" fill=\"#009af9\" fill-rule=\"evenodd\" fill-opacity=\"1\"/>\n<polyline clip-path=\"url(#clip062)\" style=\"stroke:#000000; stroke-width:4; stroke-opacity:1; fill:none\" points=\"\n  11593.4,1384.24 11593.4,1384.24 11621.1,1384.24 11593.4,1384.24 \n  \"/>\n<path clip-path=\"url(#clip062)\" d=\"\nM11621.1 1384.24 L11621.1 1384.24 L11648.9 1384.24 L11648.9 1384.24 L11621.1 1384.24 L11621.1 1384.24  Z\n  \" fill=\"#009af9\" fill-rule=\"evenodd\" fill-opacity=\"1\"/>\n<polyline clip-path=\"url(#clip062)\" style=\"stroke:#000000; stroke-width:4; stroke-opacity:1; fill:none\" points=\"\n  11621.1,1384.24 11621.1,1384.24 11648.9,1384.24 11621.1,1384.24 \n  \"/>\n<path clip-path=\"url(#clip062)\" d=\"\nM11648.9 1384.24 L11648.9 1384.24 L11676.6 1384.24 L11676.6 1384.24 L11648.9 1384.24 L11648.9 1384.24  Z\n  \" fill=\"#009af9\" fill-rule=\"evenodd\" fill-opacity=\"1\"/>\n<polyline clip-path=\"url(#clip062)\" style=\"stroke:#000000; stroke-width:4; stroke-opacity:1; fill:none\" points=\"\n  11648.9,1384.24 11648.9,1384.24 11676.6,1384.24 11648.9,1384.24 \n  \"/>\n<path clip-path=\"url(#clip062)\" d=\"\nM11676.6 1384.24 L11676.6 1384.24 L11704.3 1384.24 L11704.3 1384.24 L11676.6 1384.24 L11676.6 1384.24  Z\n  \" fill=\"#009af9\" fill-rule=\"evenodd\" fill-opacity=\"1\"/>\n<polyline clip-path=\"url(#clip062)\" style=\"stroke:#000000; stroke-width:4; stroke-opacity:1; fill:none\" points=\"\n  11676.6,1384.24 11676.6,1384.24 11704.3,1384.24 11676.6,1384.24 \n  \"/>\n<path clip-path=\"url(#clip062)\" d=\"\nM11704.3 1384.24 L11704.3 1384.24 L11732 1384.24 L11732 1384.24 L11704.3 1384.24 L11704.3 1384.24  Z\n  \" fill=\"#009af9\" fill-rule=\"evenodd\" fill-opacity=\"1\"/>\n<polyline clip-path=\"url(#clip062)\" style=\"stroke:#000000; stroke-width:4; stroke-opacity:1; fill:none\" points=\"\n  11704.3,1384.24 11704.3,1384.24 11732,1384.24 11704.3,1384.24 \n  \"/>\n<path clip-path=\"url(#clip062)\" d=\"\nM11732 1384.24 L11732 1384.24 L11759.8 1384.24 L11759.8 1384.24 L11732 1384.24 L11732 1384.24  Z\n  \" fill=\"#009af9\" fill-rule=\"evenodd\" fill-opacity=\"1\"/>\n<polyline clip-path=\"url(#clip062)\" style=\"stroke:#000000; stroke-width:4; stroke-opacity:1; fill:none\" points=\"\n  11732,1384.24 11732,1384.24 11759.8,1384.24 11732,1384.24 \n  \"/>\n<path clip-path=\"url(#clip062)\" d=\"\nM11759.8 1384.24 L11759.8 1384.24 L11787.5 1384.24 L11787.5 1384.24 L11759.8 1384.24 L11759.8 1384.24  Z\n  \" fill=\"#009af9\" fill-rule=\"evenodd\" fill-opacity=\"1\"/>\n<polyline clip-path=\"url(#clip062)\" style=\"stroke:#000000; stroke-width:4; stroke-opacity:1; fill:none\" points=\"\n  11759.8,1384.24 11759.8,1384.24 11787.5,1384.24 11759.8,1384.24 \n  \"/>\n<path clip-path=\"url(#clip062)\" d=\"\nM11787.5 1384.24 L11787.5 1384.24 L11815.2 1384.24 L11815.2 1384.24 L11787.5 1384.24 L11787.5 1384.24  Z\n  \" fill=\"#009af9\" fill-rule=\"evenodd\" fill-opacity=\"1\"/>\n<polyline clip-path=\"url(#clip062)\" style=\"stroke:#000000; stroke-width:4; stroke-opacity:1; fill:none\" points=\"\n  11787.5,1384.24 11787.5,1384.24 11815.2,1384.24 11787.5,1384.24 \n  \"/>\n<path clip-path=\"url(#clip062)\" d=\"\nM11815.2 1384.24 L11815.2 1384.24 L11843 1384.24 L11843 1384.24 L11815.2 1384.24 L11815.2 1384.24  Z\n  \" fill=\"#009af9\" fill-rule=\"evenodd\" fill-opacity=\"1\"/>\n<polyline clip-path=\"url(#clip062)\" style=\"stroke:#000000; stroke-width:4; stroke-opacity:1; fill:none\" points=\"\n  11815.2,1384.24 11815.2,1384.24 11843,1384.24 11815.2,1384.24 \n  \"/>\n<path clip-path=\"url(#clip062)\" d=\"\nM11843 1384.24 L11843 1384.24 L11870.7 1384.24 L11870.7 1384.24 L11843 1384.24 L11843 1384.24  Z\n  \" fill=\"#009af9\" fill-rule=\"evenodd\" fill-opacity=\"1\"/>\n<polyline clip-path=\"url(#clip062)\" style=\"stroke:#000000; stroke-width:4; stroke-opacity:1; fill:none\" points=\"\n  11843,1384.24 11843,1384.24 11870.7,1384.24 11843,1384.24 \n  \"/>\n<path clip-path=\"url(#clip062)\" d=\"\nM11870.7 1384.24 L11870.7 1384.24 L11898.4 1384.24 L11898.4 1384.24 L11870.7 1384.24 L11870.7 1384.24  Z\n  \" fill=\"#009af9\" fill-rule=\"evenodd\" fill-opacity=\"1\"/>\n<polyline clip-path=\"url(#clip062)\" style=\"stroke:#000000; stroke-width:4; stroke-opacity:1; fill:none\" points=\"\n  11870.7,1384.24 11870.7,1384.24 11898.4,1384.24 11870.7,1384.24 \n  \"/>\n<path clip-path=\"url(#clip062)\" d=\"\nM11898.4 1384.24 L11898.4 1384.24 L11926.1 1384.24 L11926.1 1384.24 L11898.4 1384.24 L11898.4 1384.24  Z\n  \" fill=\"#009af9\" fill-rule=\"evenodd\" fill-opacity=\"1\"/>\n<polyline clip-path=\"url(#clip062)\" style=\"stroke:#000000; stroke-width:4; stroke-opacity:1; fill:none\" points=\"\n  11898.4,1384.24 11898.4,1384.24 11926.1,1384.24 11898.4,1384.24 \n  \"/>\n<path clip-path=\"url(#clip062)\" d=\"\nM11926.1 1384.24 L11926.1 1384.24 L11953.9 1384.24 L11953.9 1384.24 L11926.1 1384.24 L11926.1 1384.24  Z\n  \" fill=\"#009af9\" fill-rule=\"evenodd\" fill-opacity=\"1\"/>\n<polyline clip-path=\"url(#clip062)\" style=\"stroke:#000000; stroke-width:4; stroke-opacity:1; fill:none\" points=\"\n  11926.1,1384.24 11926.1,1384.24 11953.9,1384.24 11926.1,1384.24 \n  \"/>\n<path clip-path=\"url(#clip062)\" d=\"\nM11953.9 1384.24 L11953.9 1384.24 L11981.6 1384.24 L11981.6 1384.24 L11953.9 1384.24 L11953.9 1384.24  Z\n  \" fill=\"#009af9\" fill-rule=\"evenodd\" fill-opacity=\"1\"/>\n<polyline clip-path=\"url(#clip062)\" style=\"stroke:#000000; stroke-width:4; stroke-opacity:1; fill:none\" points=\"\n  11953.9,1384.24 11953.9,1384.24 11981.6,1384.24 11953.9,1384.24 \n  \"/>\n<path clip-path=\"url(#clip062)\" d=\"\nM11981.6 1384.24 L11981.6 1384.24 L12009.3 1384.24 L12009.3 1384.24 L11981.6 1384.24 L11981.6 1384.24  Z\n  \" fill=\"#009af9\" fill-rule=\"evenodd\" fill-opacity=\"1\"/>\n<polyline clip-path=\"url(#clip062)\" style=\"stroke:#000000; stroke-width:4; stroke-opacity:1; fill:none\" points=\"\n  11981.6,1384.24 11981.6,1384.24 12009.3,1384.24 11981.6,1384.24 \n  \"/>\n<path clip-path=\"url(#clip062)\" d=\"\nM12009.3 1384.24 L12009.3 1384.24 L12037 1384.24 L12037 1384.24 L12009.3 1384.24 L12009.3 1384.24  Z\n  \" fill=\"#009af9\" fill-rule=\"evenodd\" fill-opacity=\"1\"/>\n<polyline clip-path=\"url(#clip062)\" style=\"stroke:#000000; stroke-width:4; stroke-opacity:1; fill:none\" points=\"\n  12009.3,1384.24 12009.3,1384.24 12037,1384.24 12009.3,1384.24 \n  \"/>\n<path clip-path=\"url(#clip062)\" d=\"\nM12037 1384.24 L12037 1384.24 L12064.8 1384.24 L12064.8 1384.24 L12037 1384.24 L12037 1384.24  Z\n  \" fill=\"#009af9\" fill-rule=\"evenodd\" fill-opacity=\"1\"/>\n<polyline clip-path=\"url(#clip062)\" style=\"stroke:#000000; stroke-width:4; stroke-opacity:1; fill:none\" points=\"\n  12037,1384.24 12037,1384.24 12064.8,1384.24 12037,1384.24 \n  \"/>\n<path clip-path=\"url(#clip062)\" d=\"\nM12064.8 1384.24 L12064.8 1384.24 L12092.5 1384.24 L12092.5 1384.24 L12064.8 1384.24 L12064.8 1384.24  Z\n  \" fill=\"#009af9\" fill-rule=\"evenodd\" fill-opacity=\"1\"/>\n<polyline clip-path=\"url(#clip062)\" style=\"stroke:#000000; stroke-width:4; stroke-opacity:1; fill:none\" points=\"\n  12064.8,1384.24 12064.8,1384.24 12092.5,1384.24 12064.8,1384.24 \n  \"/>\n<path clip-path=\"url(#clip062)\" d=\"\nM12092.5 1384.24 L12092.5 1384.24 L12120.2 1384.24 L12120.2 1384.24 L12092.5 1384.24 L12092.5 1384.24  Z\n  \" fill=\"#009af9\" fill-rule=\"evenodd\" fill-opacity=\"1\"/>\n<polyline clip-path=\"url(#clip062)\" style=\"stroke:#000000; stroke-width:4; stroke-opacity:1; fill:none\" points=\"\n  12092.5,1384.24 12092.5,1384.24 12120.2,1384.24 12092.5,1384.24 \n  \"/>\n<path clip-path=\"url(#clip062)\" d=\"\nM12120.2 1384.24 L12120.2 1384.24 L12148 1384.24 L12148 1384.24 L12120.2 1384.24 L12120.2 1384.24  Z\n  \" fill=\"#009af9\" fill-rule=\"evenodd\" fill-opacity=\"1\"/>\n<polyline clip-path=\"url(#clip062)\" style=\"stroke:#000000; stroke-width:4; stroke-opacity:1; fill:none\" points=\"\n  12120.2,1384.24 12120.2,1384.24 12148,1384.24 12120.2,1384.24 \n  \"/>\n<path clip-path=\"url(#clip062)\" d=\"\nM12148 1384.24 L12148 1384.24 L12175.7 1384.24 L12175.7 1384.24 L12148 1384.24 L12148 1384.24  Z\n  \" fill=\"#009af9\" fill-rule=\"evenodd\" fill-opacity=\"1\"/>\n<polyline clip-path=\"url(#clip062)\" style=\"stroke:#000000; stroke-width:4; stroke-opacity:1; fill:none\" points=\"\n  12148,1384.24 12148,1384.24 12175.7,1384.24 12148,1384.24 \n  \"/>\n<path clip-path=\"url(#clip062)\" d=\"\nM12175.7 1384.24 L12175.7 1384.24 L12203.4 1384.24 L12203.4 1384.24 L12175.7 1384.24 L12175.7 1384.24  Z\n  \" fill=\"#009af9\" fill-rule=\"evenodd\" fill-opacity=\"1\"/>\n<polyline clip-path=\"url(#clip062)\" style=\"stroke:#000000; stroke-width:4; stroke-opacity:1; fill:none\" points=\"\n  12175.7,1384.24 12175.7,1384.24 12203.4,1384.24 12175.7,1384.24 \n  \"/>\n<path clip-path=\"url(#clip062)\" d=\"\nM12203.4 1384.24 L12203.4 1384.24 L12231.1 1384.24 L12231.1 1384.24 L12203.4 1384.24 L12203.4 1384.24  Z\n  \" fill=\"#009af9\" fill-rule=\"evenodd\" fill-opacity=\"1\"/>\n<polyline clip-path=\"url(#clip062)\" style=\"stroke:#000000; stroke-width:4; stroke-opacity:1; fill:none\" points=\"\n  12203.4,1384.24 12203.4,1384.24 12231.1,1384.24 12203.4,1384.24 \n  \"/>\n<path clip-path=\"url(#clip062)\" d=\"\nM12231.1 1384.24 L12231.1 1384.24 L12258.9 1384.24 L12258.9 1384.24 L12231.1 1384.24 L12231.1 1384.24  Z\n  \" fill=\"#009af9\" fill-rule=\"evenodd\" fill-opacity=\"1\"/>\n<polyline clip-path=\"url(#clip062)\" style=\"stroke:#000000; stroke-width:4; stroke-opacity:1; fill:none\" points=\"\n  12231.1,1384.24 12231.1,1384.24 12258.9,1384.24 12231.1,1384.24 \n  \"/>\n<path clip-path=\"url(#clip062)\" d=\"\nM12258.9 1384.24 L12258.9 1384.24 L12286.6 1384.24 L12286.6 1384.24 L12258.9 1384.24 L12258.9 1384.24  Z\n  \" fill=\"#009af9\" fill-rule=\"evenodd\" fill-opacity=\"1\"/>\n<polyline clip-path=\"url(#clip062)\" style=\"stroke:#000000; stroke-width:4; stroke-opacity:1; fill:none\" points=\"\n  12258.9,1384.24 12258.9,1384.24 12286.6,1384.24 12258.9,1384.24 \n  \"/>\n<path clip-path=\"url(#clip062)\" d=\"\nM12286.6 1384.24 L12286.6 1384.24 L12314.3 1384.24 L12314.3 1384.24 L12286.6 1384.24 L12286.6 1384.24  Z\n  \" fill=\"#009af9\" fill-rule=\"evenodd\" fill-opacity=\"1\"/>\n<polyline clip-path=\"url(#clip062)\" style=\"stroke:#000000; stroke-width:4; stroke-opacity:1; fill:none\" points=\"\n  12286.6,1384.24 12286.6,1384.24 12314.3,1384.24 12286.6,1384.24 \n  \"/>\n<path clip-path=\"url(#clip062)\" d=\"\nM12314.3 1384.24 L12314.3 1384.24 L12342 1384.24 L12342 1384.24 L12314.3 1384.24 L12314.3 1384.24  Z\n  \" fill=\"#009af9\" fill-rule=\"evenodd\" fill-opacity=\"1\"/>\n<polyline clip-path=\"url(#clip062)\" style=\"stroke:#000000; stroke-width:4; stroke-opacity:1; fill:none\" points=\"\n  12314.3,1384.24 12314.3,1384.24 12342,1384.24 12314.3,1384.24 \n  \"/>\n<path clip-path=\"url(#clip062)\" d=\"\nM12342 1384.24 L12342 1384.24 L12369.8 1384.24 L12369.8 1384.24 L12342 1384.24 L12342 1384.24  Z\n  \" fill=\"#009af9\" fill-rule=\"evenodd\" fill-opacity=\"1\"/>\n<polyline clip-path=\"url(#clip062)\" style=\"stroke:#000000; stroke-width:4; stroke-opacity:1; fill:none\" points=\"\n  12342,1384.24 12342,1384.24 12369.8,1384.24 12342,1384.24 \n  \"/>\n<path clip-path=\"url(#clip062)\" d=\"\nM12369.8 1384.24 L12369.8 1384.24 L12397.5 1384.24 L12397.5 1384.24 L12369.8 1384.24 L12369.8 1384.24  Z\n  \" fill=\"#009af9\" fill-rule=\"evenodd\" fill-opacity=\"1\"/>\n<polyline clip-path=\"url(#clip062)\" style=\"stroke:#000000; stroke-width:4; stroke-opacity:1; fill:none\" points=\"\n  12369.8,1384.24 12369.8,1384.24 12397.5,1384.24 12369.8,1384.24 \n  \"/>\n<path clip-path=\"url(#clip062)\" d=\"\nM12397.5 1384.24 L12397.5 1384.24 L12425.2 1384.24 L12425.2 1384.24 L12397.5 1384.24 L12397.5 1384.24  Z\n  \" fill=\"#009af9\" fill-rule=\"evenodd\" fill-opacity=\"1\"/>\n<polyline clip-path=\"url(#clip062)\" style=\"stroke:#000000; stroke-width:4; stroke-opacity:1; fill:none\" points=\"\n  12397.5,1384.24 12397.5,1384.24 12425.2,1384.24 12397.5,1384.24 \n  \"/>\n<path clip-path=\"url(#clip062)\" d=\"\nM12425.2 1384.24 L12425.2 1384.24 L12453 1384.24 L12453 1384.24 L12425.2 1384.24 L12425.2 1384.24  Z\n  \" fill=\"#009af9\" fill-rule=\"evenodd\" fill-opacity=\"1\"/>\n<polyline clip-path=\"url(#clip062)\" style=\"stroke:#000000; stroke-width:4; stroke-opacity:1; fill:none\" points=\"\n  12425.2,1384.24 12425.2,1384.24 12453,1384.24 12425.2,1384.24 \n  \"/>\n<path clip-path=\"url(#clip062)\" d=\"\nM12453 1384.24 L12453 1384.24 L12480.7 1384.24 L12480.7 1384.24 L12453 1384.24 L12453 1384.24  Z\n  \" fill=\"#009af9\" fill-rule=\"evenodd\" fill-opacity=\"1\"/>\n<polyline clip-path=\"url(#clip062)\" style=\"stroke:#000000; stroke-width:4; stroke-opacity:1; fill:none\" points=\"\n  12453,1384.24 12453,1384.24 12480.7,1384.24 12453,1384.24 \n  \"/>\n<path clip-path=\"url(#clip062)\" d=\"\nM12480.7 1384.24 L12480.7 1384.24 L12508.4 1384.24 L12508.4 1384.24 L12480.7 1384.24 L12480.7 1384.24  Z\n  \" fill=\"#009af9\" fill-rule=\"evenodd\" fill-opacity=\"1\"/>\n<polyline clip-path=\"url(#clip062)\" style=\"stroke:#000000; stroke-width:4; stroke-opacity:1; fill:none\" points=\"\n  12480.7,1384.24 12480.7,1384.24 12508.4,1384.24 12480.7,1384.24 \n  \"/>\n<path clip-path=\"url(#clip062)\" d=\"\nM12508.4 1384.24 L12508.4 1384.24 L12536.1 1384.24 L12536.1 1384.24 L12508.4 1384.24 L12508.4 1384.24  Z\n  \" fill=\"#009af9\" fill-rule=\"evenodd\" fill-opacity=\"1\"/>\n<polyline clip-path=\"url(#clip062)\" style=\"stroke:#000000; stroke-width:4; stroke-opacity:1; fill:none\" points=\"\n  12508.4,1384.24 12508.4,1384.24 12536.1,1384.24 12508.4,1384.24 \n  \"/>\n<path clip-path=\"url(#clip062)\" d=\"\nM12536.1 1384.24 L12536.1 1384.24 L12563.9 1384.24 L12563.9 1384.24 L12536.1 1384.24 L12536.1 1384.24  Z\n  \" fill=\"#009af9\" fill-rule=\"evenodd\" fill-opacity=\"1\"/>\n<polyline clip-path=\"url(#clip062)\" style=\"stroke:#000000; stroke-width:4; stroke-opacity:1; fill:none\" points=\"\n  12536.1,1384.24 12536.1,1384.24 12563.9,1384.24 12536.1,1384.24 \n  \"/>\n<path clip-path=\"url(#clip062)\" d=\"\nM12563.9 1384.24 L12563.9 1384.24 L12591.6 1384.24 L12591.6 1384.24 L12563.9 1384.24 L12563.9 1384.24  Z\n  \" fill=\"#009af9\" fill-rule=\"evenodd\" fill-opacity=\"1\"/>\n<polyline clip-path=\"url(#clip062)\" style=\"stroke:#000000; stroke-width:4; stroke-opacity:1; fill:none\" points=\"\n  12563.9,1384.24 12563.9,1384.24 12591.6,1384.24 12563.9,1384.24 \n  \"/>\n<path clip-path=\"url(#clip062)\" d=\"\nM12591.6 1384.24 L12591.6 1384.24 L12619.3 1384.24 L12619.3 1384.24 L12591.6 1384.24 L12591.6 1384.24  Z\n  \" fill=\"#009af9\" fill-rule=\"evenodd\" fill-opacity=\"1\"/>\n<polyline clip-path=\"url(#clip062)\" style=\"stroke:#000000; stroke-width:4; stroke-opacity:1; fill:none\" points=\"\n  12591.6,1384.24 12591.6,1384.24 12619.3,1384.24 12591.6,1384.24 \n  \"/>\n<path clip-path=\"url(#clip062)\" d=\"\nM12619.3 1384.24 L12619.3 1384.24 L12647 1384.24 L12647 1384.24 L12619.3 1384.24 L12619.3 1384.24  Z\n  \" fill=\"#009af9\" fill-rule=\"evenodd\" fill-opacity=\"1\"/>\n<polyline clip-path=\"url(#clip062)\" style=\"stroke:#000000; stroke-width:4; stroke-opacity:1; fill:none\" points=\"\n  12619.3,1384.24 12619.3,1384.24 12647,1384.24 12619.3,1384.24 \n  \"/>\n<path clip-path=\"url(#clip062)\" d=\"\nM12647 1384.24 L12647 1384.24 L12674.8 1384.24 L12674.8 1384.24 L12647 1384.24 L12647 1384.24  Z\n  \" fill=\"#009af9\" fill-rule=\"evenodd\" fill-opacity=\"1\"/>\n<polyline clip-path=\"url(#clip062)\" style=\"stroke:#000000; stroke-width:4; stroke-opacity:1; fill:none\" points=\"\n  12647,1384.24 12647,1384.24 12674.8,1384.24 12647,1384.24 \n  \"/>\n<path clip-path=\"url(#clip062)\" d=\"\nM12674.8 1384.24 L12674.8 1384.24 L12702.5 1384.24 L12702.5 1384.24 L12674.8 1384.24 L12674.8 1384.24  Z\n  \" fill=\"#009af9\" fill-rule=\"evenodd\" fill-opacity=\"1\"/>\n<polyline clip-path=\"url(#clip062)\" style=\"stroke:#000000; stroke-width:4; stroke-opacity:1; fill:none\" points=\"\n  12674.8,1384.24 12674.8,1384.24 12702.5,1384.24 12674.8,1384.24 \n  \"/>\n<path clip-path=\"url(#clip062)\" d=\"\nM12702.5 1384.24 L12702.5 1384.24 L12730.2 1384.24 L12730.2 1384.24 L12702.5 1384.24 L12702.5 1384.24  Z\n  \" fill=\"#009af9\" fill-rule=\"evenodd\" fill-opacity=\"1\"/>\n<polyline clip-path=\"url(#clip062)\" style=\"stroke:#000000; stroke-width:4; stroke-opacity:1; fill:none\" points=\"\n  12702.5,1384.24 12702.5,1384.24 12730.2,1384.24 12702.5,1384.24 \n  \"/>\n<path clip-path=\"url(#clip062)\" d=\"\nM12730.2 1384.24 L12730.2 1384.24 L12758 1384.24 L12758 1384.24 L12730.2 1384.24 L12730.2 1384.24  Z\n  \" fill=\"#009af9\" fill-rule=\"evenodd\" fill-opacity=\"1\"/>\n<polyline clip-path=\"url(#clip062)\" style=\"stroke:#000000; stroke-width:4; stroke-opacity:1; fill:none\" points=\"\n  12730.2,1384.24 12730.2,1384.24 12758,1384.24 12730.2,1384.24 \n  \"/>\n<path clip-path=\"url(#clip062)\" d=\"\nM12758 1384.24 L12758 1384.24 L12785.7 1384.24 L12785.7 1384.24 L12758 1384.24 L12758 1384.24  Z\n  \" fill=\"#009af9\" fill-rule=\"evenodd\" fill-opacity=\"1\"/>\n<polyline clip-path=\"url(#clip062)\" style=\"stroke:#000000; stroke-width:4; stroke-opacity:1; fill:none\" points=\"\n  12758,1384.24 12758,1384.24 12785.7,1384.24 12758,1384.24 \n  \"/>\n<path clip-path=\"url(#clip062)\" d=\"\nM12785.7 1384.24 L12785.7 1384.24 L12813.4 1384.24 L12813.4 1384.24 L12785.7 1384.24 L12785.7 1384.24  Z\n  \" fill=\"#009af9\" fill-rule=\"evenodd\" fill-opacity=\"1\"/>\n<polyline clip-path=\"url(#clip062)\" style=\"stroke:#000000; stroke-width:4; stroke-opacity:1; fill:none\" points=\"\n  12785.7,1384.24 12785.7,1384.24 12813.4,1384.24 12785.7,1384.24 \n  \"/>\n<path clip-path=\"url(#clip062)\" d=\"\nM12813.4 1384.24 L12813.4 1384.24 L12841.1 1384.24 L12841.1 1384.24 L12813.4 1384.24 L12813.4 1384.24  Z\n  \" fill=\"#009af9\" fill-rule=\"evenodd\" fill-opacity=\"1\"/>\n<polyline clip-path=\"url(#clip062)\" style=\"stroke:#000000; stroke-width:4; stroke-opacity:1; fill:none\" points=\"\n  12813.4,1384.24 12813.4,1384.24 12841.1,1384.24 12813.4,1384.24 \n  \"/>\n<path clip-path=\"url(#clip062)\" d=\"\nM12841.1 1384.24 L12841.1 1384.24 L12868.9 1384.24 L12868.9 1384.24 L12841.1 1384.24 L12841.1 1384.24  Z\n  \" fill=\"#009af9\" fill-rule=\"evenodd\" fill-opacity=\"1\"/>\n<polyline clip-path=\"url(#clip062)\" style=\"stroke:#000000; stroke-width:4; stroke-opacity:1; fill:none\" points=\"\n  12841.1,1384.24 12841.1,1384.24 12868.9,1384.24 12841.1,1384.24 \n  \"/>\n<path clip-path=\"url(#clip062)\" d=\"\nM12868.9 1384.24 L12868.9 1384.24 L12896.6 1384.24 L12896.6 1384.24 L12868.9 1384.24 L12868.9 1384.24  Z\n  \" fill=\"#009af9\" fill-rule=\"evenodd\" fill-opacity=\"1\"/>\n<polyline clip-path=\"url(#clip062)\" style=\"stroke:#000000; stroke-width:4; stroke-opacity:1; fill:none\" points=\"\n  12868.9,1384.24 12868.9,1384.24 12896.6,1384.24 12868.9,1384.24 \n  \"/>\n<path clip-path=\"url(#clip062)\" d=\"\nM12896.6 1384.24 L12896.6 1384.24 L12924.3 1384.24 L12924.3 1384.24 L12896.6 1384.24 L12896.6 1384.24  Z\n  \" fill=\"#009af9\" fill-rule=\"evenodd\" fill-opacity=\"1\"/>\n<polyline clip-path=\"url(#clip062)\" style=\"stroke:#000000; stroke-width:4; stroke-opacity:1; fill:none\" points=\"\n  12896.6,1384.24 12896.6,1384.24 12924.3,1384.24 12896.6,1384.24 \n  \"/>\n<path clip-path=\"url(#clip062)\" d=\"\nM12924.3 1384.24 L12924.3 1384.24 L12952 1384.24 L12952 1384.24 L12924.3 1384.24 L12924.3 1384.24  Z\n  \" fill=\"#009af9\" fill-rule=\"evenodd\" fill-opacity=\"1\"/>\n<polyline clip-path=\"url(#clip062)\" style=\"stroke:#000000; stroke-width:4; stroke-opacity:1; fill:none\" points=\"\n  12924.3,1384.24 12924.3,1384.24 12952,1384.24 12924.3,1384.24 \n  \"/>\n<path clip-path=\"url(#clip062)\" d=\"\nM12952 1384.24 L12952 1384.24 L12979.8 1384.24 L12979.8 1384.24 L12952 1384.24 L12952 1384.24  Z\n  \" fill=\"#009af9\" fill-rule=\"evenodd\" fill-opacity=\"1\"/>\n<polyline clip-path=\"url(#clip062)\" style=\"stroke:#000000; stroke-width:4; stroke-opacity:1; fill:none\" points=\"\n  12952,1384.24 12952,1384.24 12979.8,1384.24 12952,1384.24 \n  \"/>\n<path clip-path=\"url(#clip062)\" d=\"\nM12979.8 1384.24 L12979.8 1384.24 L13007.5 1384.24 L13007.5 1384.24 L12979.8 1384.24 L12979.8 1384.24  Z\n  \" fill=\"#009af9\" fill-rule=\"evenodd\" fill-opacity=\"1\"/>\n<polyline clip-path=\"url(#clip062)\" style=\"stroke:#000000; stroke-width:4; stroke-opacity:1; fill:none\" points=\"\n  12979.8,1384.24 12979.8,1384.24 13007.5,1384.24 12979.8,1384.24 \n  \"/>\n<path clip-path=\"url(#clip062)\" d=\"\nM13007.5 1384.24 L13007.5 1384.24 L13035.2 1384.24 L13035.2 1384.24 L13007.5 1384.24 L13007.5 1384.24  Z\n  \" fill=\"#009af9\" fill-rule=\"evenodd\" fill-opacity=\"1\"/>\n<polyline clip-path=\"url(#clip062)\" style=\"stroke:#000000; stroke-width:4; stroke-opacity:1; fill:none\" points=\"\n  13007.5,1384.24 13007.5,1384.24 13035.2,1384.24 13007.5,1384.24 \n  \"/>\n<path clip-path=\"url(#clip062)\" d=\"\nM13035.2 1384.24 L13035.2 1384.24 L13063 1384.24 L13063 1384.24 L13035.2 1384.24 L13035.2 1384.24  Z\n  \" fill=\"#009af9\" fill-rule=\"evenodd\" fill-opacity=\"1\"/>\n<polyline clip-path=\"url(#clip062)\" style=\"stroke:#000000; stroke-width:4; stroke-opacity:1; fill:none\" points=\"\n  13035.2,1384.24 13035.2,1384.24 13063,1384.24 13035.2,1384.24 \n  \"/>\n<path clip-path=\"url(#clip062)\" d=\"\nM13063 1384.24 L13063 1384.24 L13090.7 1384.24 L13090.7 1384.24 L13063 1384.24 L13063 1384.24  Z\n  \" fill=\"#009af9\" fill-rule=\"evenodd\" fill-opacity=\"1\"/>\n<polyline clip-path=\"url(#clip062)\" style=\"stroke:#000000; stroke-width:4; stroke-opacity:1; fill:none\" points=\"\n  13063,1384.24 13063,1384.24 13090.7,1384.24 13063,1384.24 \n  \"/>\n<path clip-path=\"url(#clip062)\" d=\"\nM13090.7 1384.24 L13090.7 1384.24 L13118.4 1384.24 L13118.4 1384.24 L13090.7 1384.24 L13090.7 1384.24  Z\n  \" fill=\"#009af9\" fill-rule=\"evenodd\" fill-opacity=\"1\"/>\n<polyline clip-path=\"url(#clip062)\" style=\"stroke:#000000; stroke-width:4; stroke-opacity:1; fill:none\" points=\"\n  13090.7,1384.24 13090.7,1384.24 13118.4,1384.24 13090.7,1384.24 \n  \"/>\n<path clip-path=\"url(#clip062)\" d=\"\nM13118.4 1384.24 L13118.4 1384.24 L13146.1 1384.24 L13146.1 1384.24 L13118.4 1384.24 L13118.4 1384.24  Z\n  \" fill=\"#009af9\" fill-rule=\"evenodd\" fill-opacity=\"1\"/>\n<polyline clip-path=\"url(#clip062)\" style=\"stroke:#000000; stroke-width:4; stroke-opacity:1; fill:none\" points=\"\n  13118.4,1384.24 13118.4,1384.24 13146.1,1384.24 13118.4,1384.24 \n  \"/>\n<path clip-path=\"url(#clip062)\" d=\"\nM13146.1 1384.24 L13146.1 1384.24 L13173.9 1384.24 L13173.9 1384.24 L13146.1 1384.24 L13146.1 1384.24  Z\n  \" fill=\"#009af9\" fill-rule=\"evenodd\" fill-opacity=\"1\"/>\n<polyline clip-path=\"url(#clip062)\" style=\"stroke:#000000; stroke-width:4; stroke-opacity:1; fill:none\" points=\"\n  13146.1,1384.24 13146.1,1384.24 13173.9,1384.24 13146.1,1384.24 \n  \"/>\n<path clip-path=\"url(#clip062)\" d=\"\nM13173.9 1384.24 L13173.9 1384.24 L13201.6 1384.24 L13201.6 1384.24 L13173.9 1384.24 L13173.9 1384.24  Z\n  \" fill=\"#009af9\" fill-rule=\"evenodd\" fill-opacity=\"1\"/>\n<polyline clip-path=\"url(#clip062)\" style=\"stroke:#000000; stroke-width:4; stroke-opacity:1; fill:none\" points=\"\n  13173.9,1384.24 13173.9,1384.24 13201.6,1384.24 13173.9,1384.24 \n  \"/>\n<path clip-path=\"url(#clip062)\" d=\"\nM13201.6 1384.24 L13201.6 1384.24 L13229.3 1384.24 L13229.3 1384.24 L13201.6 1384.24 L13201.6 1384.24  Z\n  \" fill=\"#009af9\" fill-rule=\"evenodd\" fill-opacity=\"1\"/>\n<polyline clip-path=\"url(#clip062)\" style=\"stroke:#000000; stroke-width:4; stroke-opacity:1; fill:none\" points=\"\n  13201.6,1384.24 13201.6,1384.24 13229.3,1384.24 13201.6,1384.24 \n  \"/>\n<path clip-path=\"url(#clip062)\" d=\"\nM13229.3 1384.24 L13229.3 1384.24 L13257 1384.24 L13257 1384.24 L13229.3 1384.24 L13229.3 1384.24  Z\n  \" fill=\"#009af9\" fill-rule=\"evenodd\" fill-opacity=\"1\"/>\n<polyline clip-path=\"url(#clip062)\" style=\"stroke:#000000; stroke-width:4; stroke-opacity:1; fill:none\" points=\"\n  13229.3,1384.24 13229.3,1384.24 13257,1384.24 13229.3,1384.24 \n  \"/>\n<path clip-path=\"url(#clip062)\" d=\"\nM13257 1384.24 L13257 1384.24 L13284.8 1384.24 L13284.8 1384.24 L13257 1384.24 L13257 1384.24  Z\n  \" fill=\"#009af9\" fill-rule=\"evenodd\" fill-opacity=\"1\"/>\n<polyline clip-path=\"url(#clip062)\" style=\"stroke:#000000; stroke-width:4; stroke-opacity:1; fill:none\" points=\"\n  13257,1384.24 13257,1384.24 13284.8,1384.24 13257,1384.24 \n  \"/>\n<path clip-path=\"url(#clip062)\" d=\"\nM13284.8 1384.24 L13284.8 1384.24 L13312.5 1384.24 L13312.5 1384.24 L13284.8 1384.24 L13284.8 1384.24  Z\n  \" fill=\"#009af9\" fill-rule=\"evenodd\" fill-opacity=\"1\"/>\n<polyline clip-path=\"url(#clip062)\" style=\"stroke:#000000; stroke-width:4; stroke-opacity:1; fill:none\" points=\"\n  13284.8,1384.24 13284.8,1384.24 13312.5,1384.24 13284.8,1384.24 \n  \"/>\n<path clip-path=\"url(#clip062)\" d=\"\nM13312.5 1384.24 L13312.5 1384.24 L13340.2 1384.24 L13340.2 1384.24 L13312.5 1384.24 L13312.5 1384.24  Z\n  \" fill=\"#009af9\" fill-rule=\"evenodd\" fill-opacity=\"1\"/>\n<polyline clip-path=\"url(#clip062)\" style=\"stroke:#000000; stroke-width:4; stroke-opacity:1; fill:none\" points=\"\n  13312.5,1384.24 13312.5,1384.24 13340.2,1384.24 13312.5,1384.24 \n  \"/>\n<path clip-path=\"url(#clip062)\" d=\"\nM13340.2 1384.24 L13340.2 1384.24 L13368 1384.24 L13368 1384.24 L13340.2 1384.24 L13340.2 1384.24  Z\n  \" fill=\"#009af9\" fill-rule=\"evenodd\" fill-opacity=\"1\"/>\n<polyline clip-path=\"url(#clip062)\" style=\"stroke:#000000; stroke-width:4; stroke-opacity:1; fill:none\" points=\"\n  13340.2,1384.24 13340.2,1384.24 13368,1384.24 13340.2,1384.24 \n  \"/>\n<path clip-path=\"url(#clip062)\" d=\"\nM13368 1384.24 L13368 1384.24 L13395.7 1384.24 L13395.7 1384.24 L13368 1384.24 L13368 1384.24  Z\n  \" fill=\"#009af9\" fill-rule=\"evenodd\" fill-opacity=\"1\"/>\n<polyline clip-path=\"url(#clip062)\" style=\"stroke:#000000; stroke-width:4; stroke-opacity:1; fill:none\" points=\"\n  13368,1384.24 13368,1384.24 13395.7,1384.24 13368,1384.24 \n  \"/>\n<path clip-path=\"url(#clip062)\" d=\"\nM13395.7 1384.24 L13395.7 1384.24 L13423.4 1384.24 L13423.4 1384.24 L13395.7 1384.24 L13395.7 1384.24  Z\n  \" fill=\"#009af9\" fill-rule=\"evenodd\" fill-opacity=\"1\"/>\n<polyline clip-path=\"url(#clip062)\" style=\"stroke:#000000; stroke-width:4; stroke-opacity:1; fill:none\" points=\"\n  13395.7,1384.24 13395.7,1384.24 13423.4,1384.24 13395.7,1384.24 \n  \"/>\n<path clip-path=\"url(#clip062)\" d=\"\nM13423.4 1384.24 L13423.4 1384.24 L13451.1 1384.24 L13451.1 1384.24 L13423.4 1384.24 L13423.4 1384.24  Z\n  \" fill=\"#009af9\" fill-rule=\"evenodd\" fill-opacity=\"1\"/>\n<polyline clip-path=\"url(#clip062)\" style=\"stroke:#000000; stroke-width:4; stroke-opacity:1; fill:none\" points=\"\n  13423.4,1384.24 13423.4,1384.24 13451.1,1384.24 13423.4,1384.24 \n  \"/>\n<path clip-path=\"url(#clip062)\" d=\"\nM13451.1 1384.24 L13451.1 1384.24 L13478.9 1384.24 L13478.9 1384.24 L13451.1 1384.24 L13451.1 1384.24  Z\n  \" fill=\"#009af9\" fill-rule=\"evenodd\" fill-opacity=\"1\"/>\n<polyline clip-path=\"url(#clip062)\" style=\"stroke:#000000; stroke-width:4; stroke-opacity:1; fill:none\" points=\"\n  13451.1,1384.24 13451.1,1384.24 13478.9,1384.24 13451.1,1384.24 \n  \"/>\n<path clip-path=\"url(#clip062)\" d=\"\nM13478.9 1384.24 L13478.9 1384.24 L13506.6 1384.24 L13506.6 1384.24 L13478.9 1384.24 L13478.9 1384.24  Z\n  \" fill=\"#009af9\" fill-rule=\"evenodd\" fill-opacity=\"1\"/>\n<polyline clip-path=\"url(#clip062)\" style=\"stroke:#000000; stroke-width:4; stroke-opacity:1; fill:none\" points=\"\n  13478.9,1384.24 13478.9,1384.24 13506.6,1384.24 13478.9,1384.24 \n  \"/>\n<path clip-path=\"url(#clip062)\" d=\"\nM13506.6 1364.27 L13506.6 1384.24 L13534.3 1384.24 L13534.3 1364.27 L13506.6 1364.27 L13506.6 1364.27  Z\n  \" fill=\"#009af9\" fill-rule=\"evenodd\" fill-opacity=\"1\"/>\n<polyline clip-path=\"url(#clip062)\" style=\"stroke:#000000; stroke-width:4; stroke-opacity:1; fill:none\" points=\"\n  13506.6,1364.27 13506.6,1384.24 13534.3,1384.24 13534.3,1364.27 13506.6,1364.27 \n  \"/>\n</svg>\n"
     },
     "execution_count": 18,
     "metadata": {
     },
     "output_type": "execute_result"
    }
   ],
   "source": [
    "using Statistics\n",
    "t = c_bench.times / 1e6 # tempos em milisegundos\n",
    "m, σ = minimum(t), std(t)\n",
    "\n",
    "histogram(t, bins=500,\n",
    "    xlim=(m - 0.4σ, m + 2*σ),\n",
    "    xlabel=\"milisegundos\", ylabel=\"Frequência\", label=\"\")"
   ]
  },
  {
   "cell_type": "markdown",
   "metadata": {
    "collapsed": false
   },
   "source": [
    "## 2. C com -ffast-math\n",
    "\n",
    "Agora, vamos permitir que o C otimize suas operações de ponto flutuante.\n",
    "Dessa forma, ele vai vetorizar suas instruções usando [SIMD](https://en.wikipedia.org/wiki/SIMD) (single instruction, multiple data)."
   ]
  },
  {
   "cell_type": "code",
   "execution_count": 19,
   "metadata": {
    "collapsed": false
   },
   "outputs": [
    {
     "data": {
      "text/plain": [
       "c_sum_fastmath (generic function with 1 method)"
      ]
     },
     "execution_count": 19,
     "metadata": {
     },
     "output_type": "execute_result"
    }
   ],
   "source": [
    "const Clib_fastmath = tempname()\n",
    "\n",
    "# Como acima mas agora com a opção -ffast-math\n",
    "open(`gcc -fPIC -O3 -msse3 -xc -shared -ffast-math -o $(Clib_fastmath * \".\" * Libdl.dlext) -`, \"w\") do f\n",
    "    print(f, C_code) \n",
    "end\n",
    "\n",
    "# Define uma função em Julia que chama a função em C\n",
    "c_sum_fastmath(X::Array{Float64}) = ccall((\"c_sum\", Clib_fastmath), Float64, (Csize_t, Ptr{Float64}), length(X), X)"
   ]
  },
  {
   "cell_type": "code",
   "execution_count": 20,
   "metadata": {
    "collapsed": false
   },
   "outputs": [
    {
     "data": {
      "text/plain": [
       "BenchmarkTools.Trial: \n",
       "  memory estimate:  0 bytes\n",
       "  allocs estimate:  0\n",
       "  --------------\n",
       "  minimum time:     9.744 ms (0.00% GC)\n",
       "  median time:      10.177 ms (0.00% GC)\n",
       "  mean time:        10.551 ms (0.00% GC)\n",
       "  maximum time:     30.356 ms (0.00% GC)\n",
       "  --------------\n",
       "  samples:          474\n",
       "  evals/sample:     1"
      ]
     },
     "execution_count": 20,
     "metadata": {
     },
     "output_type": "execute_result"
    }
   ],
   "source": [
    "c_fastmath_bench = @benchmark $c_sum_fastmath($a)"
   ]
  },
  {
   "cell_type": "code",
   "execution_count": 21,
   "metadata": {
    "collapsed": false
   },
   "outputs": [
    {
     "data": {
      "text/plain": [
       "9.744077"
      ]
     },
     "execution_count": 21,
     "metadata": {
     },
     "output_type": "execute_result"
    }
   ],
   "source": [
    "d[\"C com -ffast-math\"] = minimum(c_fastmath_bench.times) / 1e6  # em milisegundos"
   ]
  },
  {
   "cell_type": "markdown",
   "metadata": {
    "collapsed": false
   },
   "source": [
    "## 3. Python\n",
    "\n",
    "O pacote `PyCall` fornece uma interface entre a Julia e o Python:"
   ]
  },
  {
   "cell_type": "code",
   "execution_count": 22,
   "metadata": {
    "collapsed": false
   },
   "outputs": [
    {
     "name": "stderr",
     "output_type": "stream",
     "text": [
      "\u001b[32m\u001b[1m  Resolving\u001b[22m\u001b[39m package versions...\n"
     ]
    },
    {
     "name": "stderr",
     "output_type": "stream",
     "text": [
      "\u001b[32m\u001b[1mNo Changes\u001b[22m\u001b[39m to `~/.julia/environment/v1.5/Project.toml`\n",
      "\u001b[32m\u001b[1mNo Changes\u001b[22m\u001b[39m to `~/.julia/environment/v1.5/Manifest.toml`\n"
     ]
    }
   ],
   "source": [
    "Pkg.add(\"PyCall\")"
   ]
  },
  {
   "cell_type": "code",
   "execution_count": 23,
   "metadata": {
    "collapsed": false
   },
   "outputs": [
   ],
   "source": [
    "using PyCall"
   ]
  },
  {
   "cell_type": "code",
   "execution_count": 24,
   "metadata": {
    "collapsed": false
   },
   "outputs": [
    {
     "data": {
      "text/plain": [
       "PyObject <built-in function sum>"
      ]
     },
     "execution_count": 24,
     "metadata": {
     },
     "output_type": "execute_result"
    }
   ],
   "source": [
    "# Importa a função \"sum\" do Python\n",
    "pysum = pybuiltin(\"sum\")"
   ]
  },
  {
   "cell_type": "code",
   "execution_count": 25,
   "metadata": {
    "collapsed": false
   },
   "outputs": [
    {
     "data": {
      "text/plain": [
       "4.999742658558146e6"
      ]
     },
     "execution_count": 25,
     "metadata": {
     },
     "output_type": "execute_result"
    }
   ],
   "source": [
    "pysum(a)"
   ]
  },
  {
   "cell_type": "code",
   "execution_count": 26,
   "metadata": {
    "collapsed": false
   },
   "outputs": [
    {
     "data": {
      "text/plain": [
       "true"
      ]
     },
     "execution_count": 26,
     "metadata": {
     },
     "output_type": "execute_result"
    }
   ],
   "source": [
    "pysum(a) ≈ sum(a)"
   ]
  },
  {
   "cell_type": "code",
   "execution_count": 27,
   "metadata": {
    "collapsed": false
   },
   "outputs": [
    {
     "data": {
      "text/plain": [
       "BenchmarkTools.Trial: \n",
       "  memory estimate:  336 bytes\n",
       "  allocs estimate:  6\n",
       "  --------------\n",
       "  minimum time:     1.858 s (0.00% GC)\n",
       "  median time:      1.997 s (0.00% GC)\n",
       "  mean time:        1.972 s (0.00% GC)\n",
       "  maximum time:     2.061 s (0.00% GC)\n",
       "  --------------\n",
       "  samples:          3\n",
       "  evals/sample:     1"
      ]
     },
     "execution_count": 27,
     "metadata": {
     },
     "output_type": "execute_result"
    }
   ],
   "source": [
    "py_list_bench = @benchmark $pysum($a)"
   ]
  },
  {
   "cell_type": "code",
   "execution_count": 28,
   "metadata": {
    "collapsed": false
   },
   "outputs": [
    {
     "data": {
      "text/plain": [
       "Dict{Any,Any} with 3 entries:\n",
       "  \"C com -ffast-math\" => 9.74408\n",
       "  \"C\"                 => 13.9106\n",
       "  \"Python\"            => 1858.15"
      ]
     },
     "execution_count": 28,
     "metadata": {
     },
     "output_type": "execute_result"
    }
   ],
   "source": [
    "d[\"Python\"] = minimum(py_list_bench.times) / 1e6\n",
    "d"
   ]
  },
  {
   "cell_type": "markdown",
   "metadata": {
    "collapsed": false
   },
   "source": [
    "## 4. Python `numpy`\n",
    "\n",
    "A biblioteca `numpy` do Python é escrita em C e também utiliza SIMD.\n",
    "Essa biblioteca pode ser instalada na Julia da seguinte forma:"
   ]
  },
  {
   "cell_type": "code",
   "execution_count": 29,
   "metadata": {
    "collapsed": false
   },
   "outputs": [
    {
     "name": "stderr",
     "output_type": "stream",
     "text": [
      "\u001b[32m\u001b[1m  Resolving\u001b[22m\u001b[39m package versions...\n"
     ]
    },
    {
     "name": "stderr",
     "output_type": "stream",
     "text": [
      "\u001b[32m\u001b[1mNo Changes\u001b[22m\u001b[39m to `~/.julia/environment/v1.5/Project.toml`\n",
      "\u001b[32m\u001b[1mNo Changes\u001b[22m\u001b[39m to `~/.julia/environment/v1.5/Manifest.toml`\n"
     ]
    }
   ],
   "source": [
    "Pkg.add(\"Conda\")"
   ]
  },
  {
   "cell_type": "code",
   "execution_count": 30,
   "metadata": {
    "collapsed": false
   },
   "outputs": [
   ],
   "source": [
    "using Conda"
   ]
  },
  {
   "cell_type": "code",
   "execution_count": 31,
   "metadata": {
    "collapsed": false
   },
   "outputs": [
    {
     "data": {
      "text/plain": [
       "BenchmarkTools.Trial: \n",
       "  memory estimate:  336 bytes\n",
       "  allocs estimate:  6\n",
       "  --------------\n",
       "  minimum time:     9.290 ms (0.00% GC)\n",
       "  median time:      10.636 ms (0.00% GC)\n",
       "  mean time:        11.075 ms (0.00% GC)\n",
       "  maximum time:     36.200 ms (0.00% GC)\n",
       "  --------------\n",
       "  samples:          451\n",
       "  evals/sample:     1"
      ]
     },
     "execution_count": 31,
     "metadata": {
     },
     "output_type": "execute_result"
    }
   ],
   "source": [
    "numpy_sum = pyimport(\"numpy\")[\"sum\"]\n",
    "\n",
    "py_numpy_bench = @benchmark $numpy_sum($a)"
   ]
  },
  {
   "cell_type": "code",
   "execution_count": 32,
   "metadata": {
    "collapsed": false
   },
   "outputs": [
    {
     "data": {
      "text/plain": [
       "4.999742658558004e6"
      ]
     },
     "execution_count": 32,
     "metadata": {
     },
     "output_type": "execute_result"
    }
   ],
   "source": [
    "numpy_sum(a)"
   ]
  },
  {
   "cell_type": "code",
   "execution_count": 33,
   "metadata": {
    "collapsed": false
   },
   "outputs": [
    {
     "data": {
      "text/plain": [
       "true"
      ]
     },
     "execution_count": 33,
     "metadata": {
     },
     "output_type": "execute_result"
    }
   ],
   "source": [
    "numpy_sum(a) ≈ sum(a)"
   ]
  },
  {
   "cell_type": "code",
   "execution_count": 34,
   "metadata": {
    "collapsed": false
   },
   "outputs": [
    {
     "data": {
      "text/plain": [
       "Dict{Any,Any} with 4 entries:\n",
       "  \"C com -ffast-math\" => 9.74408\n",
       "  \"C\"                 => 13.9106\n",
       "  \"Python numpy\"      => 9.28986\n",
       "  \"Python\"            => 1858.15"
      ]
     },
     "execution_count": 34,
     "metadata": {
     },
     "output_type": "execute_result"
    }
   ],
   "source": [
    "d[\"Python numpy\"] = minimum(py_numpy_bench.times) / 1e6\n",
    "d"
   ]
  },
  {
   "cell_type": "markdown",
   "metadata": {
    "collapsed": false
   },
   "source": [
    "## 5. Python (escrito à mão)"
   ]
  },
  {
   "cell_type": "code",
   "execution_count": 35,
   "metadata": {
    "collapsed": false
   },
   "outputs": [
    {
     "data": {
      "text/plain": [
       "PyObject <function py_sum at 0x7f46fa3865e0>"
      ]
     },
     "execution_count": 35,
     "metadata": {
     },
     "output_type": "execute_result"
    }
   ],
   "source": [
    "py\"\"\"\n",
    "def py_sum(A):\n",
    "    s = 0.0\n",
    "    for a in A:\n",
    "        s += a\n",
    "    return s\n",
    "\"\"\"\n",
    "\n",
    "sum_py = py\"py_sum\""
   ]
  },
  {
   "cell_type": "code",
   "execution_count": 36,
   "metadata": {
    "collapsed": false
   },
   "outputs": [
    {
     "data": {
      "text/plain": [
       "BenchmarkTools.Trial: \n",
       "  memory estimate:  336 bytes\n",
       "  allocs estimate:  6\n",
       "  --------------\n",
       "  minimum time:     2.359 s (0.00% GC)\n",
       "  median time:      2.492 s (0.00% GC)\n",
       "  mean time:        2.640 s (0.00% GC)\n",
       "  maximum time:     3.068 s (0.00% GC)\n",
       "  --------------\n",
       "  samples:          3\n",
       "  evals/sample:     1"
      ]
     },
     "execution_count": 36,
     "metadata": {
     },
     "output_type": "execute_result"
    }
   ],
   "source": [
    "py_hand = @benchmark $sum_py($a)"
   ]
  },
  {
   "cell_type": "code",
   "execution_count": 37,
   "metadata": {
    "collapsed": false
   },
   "outputs": [
    {
     "data": {
      "text/plain": [
       "4.999742658558146e6"
      ]
     },
     "execution_count": 37,
     "metadata": {
     },
     "output_type": "execute_result"
    }
   ],
   "source": [
    "sum_py(a)"
   ]
  },
  {
   "cell_type": "code",
   "execution_count": 38,
   "metadata": {
    "collapsed": false
   },
   "outputs": [
    {
     "data": {
      "text/plain": [
       "true"
      ]
     },
     "execution_count": 38,
     "metadata": {
     },
     "output_type": "execute_result"
    }
   ],
   "source": [
    "sum_py(a) ≈ sum(a)"
   ]
  },
  {
   "cell_type": "code",
   "execution_count": 39,
   "metadata": {
    "collapsed": false
   },
   "outputs": [
    {
     "data": {
      "text/plain": [
       "Dict{Any,Any} with 5 entries:\n",
       "  \"C com -ffast-math\"    => 9.74408\n",
       "  \"Python escrito à mão\" => 2359.03\n",
       "  \"C\"                    => 13.9106\n",
       "  \"Python numpy\"         => 9.28986\n",
       "  \"Python\"               => 1858.15"
      ]
     },
     "execution_count": 39,
     "metadata": {
     },
     "output_type": "execute_result"
    }
   ],
   "source": [
    "d[\"Python escrito à mão\"] = minimum(py_hand.times) / 1e6\n",
    "d"
   ]
  },
  {
   "cell_type": "markdown",
   "metadata": {
    "collapsed": false
   },
   "source": [
    "## 6. Julia\n",
    "\n",
    "Em Julia, a função `sum` é escrita em Julia, não em C."
   ]
  },
  {
   "cell_type": "code",
   "execution_count": 40,
   "metadata": {
    "collapsed": false
   },
   "outputs": [
    {
     "data": {
      "text/html": [
       "sum(a::<b>AbstractArray</b>; <i>dims</i>) in Base at <a href=\"https://github.com/JuliaLang/julia/tree/788b2c77c10c2160f4794a4d4b6b81a95a90940c/base/reducedim.jl#L722\" target=\"_blank\">reducedim.jl:722</a>"
      ],
      "text/plain": [
       "sum(a::AbstractArray; dims) in Base at reducedim.jl:722"
      ]
     },
     "execution_count": 40,
     "metadata": {
     },
     "output_type": "execute_result"
    }
   ],
   "source": [
    "@which sum(a)"
   ]
  },
  {
   "cell_type": "code",
   "execution_count": 41,
   "metadata": {
    "collapsed": false
   },
   "outputs": [
    {
     "data": {
      "text/plain": [
       "BenchmarkTools.Trial: \n",
       "  memory estimate:  0 bytes\n",
       "  allocs estimate:  0\n",
       "  --------------\n",
       "  minimum time:     8.200 ms (0.00% GC)\n",
       "  median time:      8.736 ms (0.00% GC)\n",
       "  mean time:        9.189 ms (0.00% GC)\n",
       "  maximum time:     27.118 ms (0.00% GC)\n",
       "  --------------\n",
       "  samples:          544\n",
       "  evals/sample:     1"
      ]
     },
     "execution_count": 41,
     "metadata": {
     },
     "output_type": "execute_result"
    }
   ],
   "source": [
    "j_bench = @benchmark sum($a)"
   ]
  },
  {
   "cell_type": "code",
   "execution_count": 42,
   "metadata": {
    "collapsed": false
   },
   "outputs": [
    {
     "data": {
      "text/plain": [
       "Dict{Any,Any} with 6 entries:\n",
       "  \"C com -ffast-math\"    => 9.74408\n",
       "  \"Python escrito à mão\" => 2359.03\n",
       "  \"C\"                    => 13.9106\n",
       "  \"Python numpy\"         => 9.28986\n",
       "  \"Julia\"                => 8.20014\n",
       "  \"Python\"               => 1858.15"
      ]
     },
     "execution_count": 42,
     "metadata": {
     },
     "output_type": "execute_result"
    }
   ],
   "source": [
    "d[\"Julia\"] = minimum(j_bench.times) / 1e6\n",
    "d"
   ]
  },
  {
   "cell_type": "markdown",
   "metadata": {
    "collapsed": false
   },
   "source": [
    "## 7. Julia (escrito à mão)"
   ]
  },
  {
   "cell_type": "code",
   "execution_count": 43,
   "metadata": {
    "collapsed": false
   },
   "outputs": [
    {
     "data": {
      "text/plain": [
       "mysum (generic function with 1 method)"
      ]
     },
     "execution_count": 43,
     "metadata": {
     },
     "output_type": "execute_result"
    }
   ],
   "source": [
    "function mysum(A)   \n",
    "    s = 0.0 # s = zero(eltype(a))\n",
    "    for a in A\n",
    "        s += a\n",
    "    end\n",
    "    s\n",
    "end"
   ]
  },
  {
   "cell_type": "code",
   "execution_count": 44,
   "metadata": {
    "collapsed": false
   },
   "outputs": [
    {
     "data": {
      "text/plain": [
       "BenchmarkTools.Trial: \n",
       "  memory estimate:  0 bytes\n",
       "  allocs estimate:  0\n",
       "  --------------\n",
       "  minimum time:     14.158 ms (0.00% GC)\n",
       "  median time:      14.683 ms (0.00% GC)\n",
       "  mean time:        15.043 ms (0.00% GC)\n",
       "  maximum time:     29.390 ms (0.00% GC)\n",
       "  --------------\n",
       "  samples:          333\n",
       "  evals/sample:     1"
      ]
     },
     "execution_count": 44,
     "metadata": {
     },
     "output_type": "execute_result"
    }
   ],
   "source": [
    "j_bench_hand = @benchmark mysum($a)"
   ]
  },
  {
   "cell_type": "code",
   "execution_count": 45,
   "metadata": {
    "collapsed": false
   },
   "outputs": [
    {
     "data": {
      "text/plain": [
       "Dict{Any,Any} with 7 entries:\n",
       "  \"C com -ffast-math\"    => 9.74408\n",
       "  \"Python escrito à mão\" => 2359.03\n",
       "  \"C\"                    => 13.9106\n",
       "  \"Python numpy\"         => 9.28986\n",
       "  \"Julia escrito à mão\"  => 14.1583\n",
       "  \"Julia\"                => 8.20014\n",
       "  \"Python\"               => 1858.15"
      ]
     },
     "execution_count": 45,
     "metadata": {
     },
     "output_type": "execute_result"
    }
   ],
   "source": [
    "d[\"Julia escrito à mão\"] = minimum(j_bench_hand.times) / 1e6\n",
    "d"
   ]
  },
  {
   "cell_type": "markdown",
   "metadata": {
    "collapsed": false
   },
   "source": [
    "## 8. Julia (escrito à mão com SIMD)"
   ]
  },
  {
   "cell_type": "code",
   "execution_count": 46,
   "metadata": {
    "collapsed": false
   },
   "outputs": [
    {
     "data": {
      "text/plain": [
       "mysum_simd (generic function with 1 method)"
      ]
     },
     "execution_count": 46,
     "metadata": {
     },
     "output_type": "execute_result"
    }
   ],
   "source": [
    "function mysum_simd(A)   \n",
    "    s = 0.0 # s = zero(eltype(A))\n",
    "    @simd for a in A\n",
    "        s += a\n",
    "    end\n",
    "    s\n",
    "end"
   ]
  },
  {
   "cell_type": "code",
   "execution_count": 47,
   "metadata": {
    "collapsed": false
   },
   "outputs": [
    {
     "data": {
      "text/plain": [
       "BenchmarkTools.Trial: \n",
       "  memory estimate:  0 bytes\n",
       "  allocs estimate:  0\n",
       "  --------------\n",
       "  minimum time:     7.394 ms (0.00% GC)\n",
       "  median time:      8.855 ms (0.00% GC)\n",
       "  mean time:        9.199 ms (0.00% GC)\n",
       "  maximum time:     59.779 ms (0.00% GC)\n",
       "  --------------\n",
       "  samples:          544\n",
       "  evals/sample:     1"
      ]
     },
     "execution_count": 47,
     "metadata": {
     },
     "output_type": "execute_result"
    }
   ],
   "source": [
    "j_bench_hand_simd = @benchmark mysum_simd($a)"
   ]
  },
  {
   "cell_type": "code",
   "execution_count": 48,
   "metadata": {
    "collapsed": false
   },
   "outputs": [
    {
     "data": {
      "text/plain": [
       "4.999742658558037e6"
      ]
     },
     "execution_count": 48,
     "metadata": {
     },
     "output_type": "execute_result"
    }
   ],
   "source": [
    "mysum_simd(a)"
   ]
  },
  {
   "cell_type": "code",
   "execution_count": 49,
   "metadata": {
    "collapsed": false
   },
   "outputs": [
    {
     "data": {
      "text/plain": [
       "Dict{Any,Any} with 8 entries:\n",
       "  \"Julia escrito à mão com SIMD\" => 7.39392\n",
       "  \"C com -ffast-math\"            => 9.74408\n",
       "  \"Python escrito à mão\"         => 2359.03\n",
       "  \"C\"                            => 13.9106\n",
       "  \"Python numpy\"                 => 9.28986\n",
       "  \"Julia escrito à mão\"          => 14.1583\n",
       "  \"Julia\"                        => 8.20014\n",
       "  \"Python\"                       => 1858.15"
      ]
     },
     "execution_count": 49,
     "metadata": {
     },
     "output_type": "execute_result"
    }
   ],
   "source": [
    "d[\"Julia escrito à mão com SIMD\"] = minimum(j_bench_hand_simd.times) / 1e6\n",
    "d"
   ]
  },
  {
   "cell_type": "markdown",
   "metadata": {
    "collapsed": false
   },
   "source": [
    "## Em resumo"
   ]
  },
  {
   "cell_type": "code",
   "execution_count": 50,
   "metadata": {
    "collapsed": false
   },
   "outputs": [
    {
     "name": "stdout",
     "output_type": "stream",
     "text": [
      "Julia escrito à mão com SIMD....7.39\n",
      "Julia............................8.2\n",
      "Python numpy....................9.29\n",
      "C com -ffast-math...............9.74\n",
      "C..............................13.91\n",
      "Julia escrito à mão............14.16\n",
      "Python........................1858.15\n",
      "Python escrito à mão..........2359.03\n"
     ]
    }
   ],
   "source": [
    "for (key, value) in sort(collect(d), by=last)\n",
    "    println(rpad(key, 30, \".\"), lpad(round(value; digits=2), 6, \".\"))\n",
    "end"
   ]
  }
 ],
 "metadata": {
  "kernelspec": {
   "display_name": "Julia 1.5",
   "env": {
    "JULIA_DEPOT_PATH": "/home/user/.julia/:/ext/julia/depot/",
    "JULIA_PROJECT": "/home/user/.julia/environment/v1.5"
   },
   "language": "julia",
   "metadata": {
    "cocalc": {
     "description": "The Julia Programming Language",
     "priority": 10,
     "url": "https://julialang.org/"
    }
   },
   "name": "julia-1.5",
   "resource_dir": "/ext/jupyter/kernels/julia-1.5"
  },
  "language_info": {
   "file_extension": ".jl",
   "mimetype": "application/julia",
   "name": "julia",
   "version": "1.5.3"
  }
 },
 "nbformat": 4,
 "nbformat_minor": 4
}