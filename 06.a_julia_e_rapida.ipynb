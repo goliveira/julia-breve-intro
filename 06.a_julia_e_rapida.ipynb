{
 "cells": [
  {
   "cell_type": "markdown",
   "metadata": {},
   "source": [
    "# A Julia é rápida\n",
    "\n",
    "Frequentemente, programas são executados em diferentes linguagens de programação com o propósito de comparar os desempenhos das linguagens.\n",
    "Esse tipo de comparação não é simples e pode gerar discussões.\n",
    "\n",
    "Neste notebook vamos fazer uma comparação simples entre algumas linguagens de programação e deixar que você tire suas próprias conclusões."
   ]
  },
  {
   "cell_type": "markdown",
   "metadata": {},
   "source": [
    "## A função soma\n",
    "\n",
    "Consideramos a função soma, denotada por `sum`, que é definida por\n",
    "$$\n",
    "\\mathrm{sum}(a) = \\sum_{j=1}^n a_j,\n",
    "$$\n",
    "onde $a = [a_1, a_2, \\dots, a_j]$ é uma lista com $n$ elementos.\n",
    "\n",
    "Vamos criar uma lista com 10<sup>7</sup> elementos escolhidos aleatoriamente no intervalo $[0,1]$:"
   ]
  },
  {
   "cell_type": "code",
   "execution_count": 1,
   "metadata": {},
   "outputs": [
    {
     "data": {
      "text/plain": [
       "10000000-element Vector{Float64}:\n",
       " 0.2205227528241649\n",
       " 0.08854167543874025\n",
       " 0.8338964653258178\n",
       " 0.8278085612974764\n",
       " 0.5903201130209599\n",
       " 0.3705450612366492\n",
       " 0.11440127198771255\n",
       " 0.7615273013750941\n",
       " 0.8379689066710789\n",
       " 0.44589329917772536\n",
       " 0.026052360369160033\n",
       " 0.792724677501762\n",
       " 0.5005174299819743\n",
       " ⋮\n",
       " 0.4077960304405295\n",
       " 0.4247639380540593\n",
       " 0.4154513865508189\n",
       " 0.30800910648882995\n",
       " 0.8536925987267352\n",
       " 0.6432542950518731\n",
       " 0.6167480231580984\n",
       " 0.5456091465939399\n",
       " 0.4779405510848356\n",
       " 0.8693156770981472\n",
       " 0.8932458729295958\n",
       " 0.7249875651359114"
      ]
     },
     "execution_count": 1,
     "metadata": {},
     "output_type": "execute_result"
    }
   ],
   "source": [
    "a = rand(10^7)"
   ]
  },
  {
   "cell_type": "markdown",
   "metadata": {},
   "source": [
    "Calculamos a soma dos elementos de `a`:"
   ]
  },
  {
   "cell_type": "code",
   "execution_count": 2,
   "metadata": {},
   "outputs": [
    {
     "data": {
      "text/plain": [
       "5.000614978701621e6"
      ]
     },
     "execution_count": 2,
     "metadata": {},
     "output_type": "execute_result"
    }
   ],
   "source": [
    "sum(a)"
   ]
  },
  {
   "cell_type": "markdown",
   "metadata": {},
   "source": [
    "O resultado esperado é 0.5 * 10<sup>7</sup>, pois o valor médio de cada elemento da lista é igual a 0.5."
   ]
  },
  {
   "cell_type": "markdown",
   "metadata": {},
   "source": [
    "## Medindo desempenho de formas diferentes, em linguagens diferentes"
   ]
  },
  {
   "cell_type": "code",
   "execution_count": 3,
   "metadata": {},
   "outputs": [
    {
     "name": "stdout",
     "output_type": "stream",
     "text": [
      "  0.011276 seconds (1 allocation: 16 bytes)\n"
     ]
    },
    {
     "data": {
      "text/plain": [
       "5.000614978701621e6"
      ]
     },
     "execution_count": 3,
     "metadata": {},
     "output_type": "execute_result"
    }
   ],
   "source": [
    "@time sum(a)"
   ]
  },
  {
   "cell_type": "markdown",
   "metadata": {},
   "source": [
    "A macro `@time` é boa para uma estimativa grosseira, mas não é muito precisa.\n",
    "\n",
    "O pacote `BenchmarkTools.jl` fornece um método simples e preciso de fazer comparações."
   ]
  },
  {
   "cell_type": "code",
   "execution_count": 4,
   "metadata": {},
   "outputs": [
    {
     "name": "stderr",
     "output_type": "stream",
     "text": [
      "\u001b[32m\u001b[1m    Updating\u001b[22m\u001b[39m registry at `~/.julia/registries/General`\n",
      "\u001b[32m\u001b[1m   Resolving\u001b[22m\u001b[39m package versions...\n",
      "\u001b[32m\u001b[1m  No Changes\u001b[22m\u001b[39m to `~/julia-breve-intro/Project.toml`\n",
      "\u001b[32m\u001b[1m  No Changes\u001b[22m\u001b[39m to `~/julia-breve-intro/Manifest.toml`\n"
     ]
    }
   ],
   "source": [
    "using Pkg\n",
    "Pkg.add(\"BenchmarkTools\")"
   ]
  },
  {
   "cell_type": "code",
   "execution_count": 5,
   "metadata": {},
   "outputs": [],
   "source": [
    "using BenchmarkTools"
   ]
  },
  {
   "cell_type": "markdown",
   "metadata": {},
   "source": [
    "## 1. C\n",
    "\n",
    "A linguagem C é considerada uma linguagem difícil para os humanos e simples para as máquinas.\n",
    "\n",
    "Em uma sessão da Julia, podemos inserir um programa em C, compilá-lo e executá-lo:"
   ]
  },
  {
   "cell_type": "code",
   "execution_count": 6,
   "metadata": {},
   "outputs": [
    {
     "data": {
      "text/plain": [
       "c_sum (generic function with 1 method)"
      ]
     },
     "execution_count": 6,
     "metadata": {},
     "output_type": "execute_result"
    }
   ],
   "source": [
    "using Libdl\n",
    "C_code = \"\"\"\n",
    "#include <stddef.h>\n",
    "double c_sum(size_t n, double *X) {\n",
    "    double s = 0.0;\n",
    "    for (size_t i = 0; i < n; ++i) {\n",
    "        s += X[i];\n",
    "    }\n",
    "    return s;\n",
    "}\n",
    "\"\"\"\n",
    "\n",
    "const Clib = tempname()  # Cria um arquivo temporário\n",
    "\n",
    "# Compila para uma biblioteca compartilhada passando\n",
    "# o código C_code para o compilador gcc (só funciona\n",
    "# se o gcc estiver instalado):\n",
    "\n",
    "open(`gcc -fPIC -O3 -msse3 -xc -shared -o $(Clib * \".\" * Libdl.dlext) -`, \"w\") do f\n",
    "    print(f, C_code) \n",
    "end\n",
    "\n",
    "# Define uma função em Julia que chama a função do C\n",
    "c_sum(X::Array{Float64}) = ccall((\"c_sum\", Clib), Float64, (Csize_t, Ptr{Float64}), length(X), X)"
   ]
  },
  {
   "cell_type": "code",
   "execution_count": 7,
   "metadata": {},
   "outputs": [
    {
     "data": {
      "text/plain": [
       "5.000614978701551e6"
      ]
     },
     "execution_count": 7,
     "metadata": {},
     "output_type": "execute_result"
    }
   ],
   "source": [
    "c_sum(a)"
   ]
  },
  {
   "cell_type": "code",
   "execution_count": 8,
   "metadata": {},
   "outputs": [
    {
     "data": {
      "text/plain": [
       "true"
      ]
     },
     "execution_count": 8,
     "metadata": {},
     "output_type": "execute_result"
    }
   ],
   "source": [
    "c_sum(a) ≈ sum(a)  # Digite \\approx e tecle <TAB> para obter o símbolo ≈"
   ]
  },
  {
   "cell_type": "code",
   "execution_count": 9,
   "metadata": {},
   "outputs": [
    {
     "data": {
      "text/plain": [
       "-6.984919309616089e-8"
      ]
     },
     "execution_count": 9,
     "metadata": {},
     "output_type": "execute_result"
    }
   ],
   "source": [
    "c_sum(a) - sum(a)"
   ]
  },
  {
   "cell_type": "code",
   "execution_count": 10,
   "metadata": {},
   "outputs": [
    {
     "data": {
      "text/plain": [
       "isapprox (generic function with 9 methods)"
      ]
     },
     "execution_count": 10,
     "metadata": {},
     "output_type": "execute_result"
    }
   ],
   "source": [
    "≈ # é uma abreviação (alias) para a função `isapprox`"
   ]
  },
  {
   "cell_type": "code",
   "execution_count": 11,
   "metadata": {},
   "outputs": [
    {
     "name": "stdout",
     "output_type": "stream",
     "text": [
      "search: \u001b[0m\u001b[1mi\u001b[22m\u001b[0m\u001b[1ms\u001b[22m\u001b[0m\u001b[1ma\u001b[22m\u001b[0m\u001b[1mp\u001b[22m\u001b[0m\u001b[1mp\u001b[22m\u001b[0m\u001b[1mr\u001b[22m\u001b[0m\u001b[1mo\u001b[22m\u001b[0m\u001b[1mx\u001b[22m\n",
      "\n"
     ]
    },
    {
     "data": {
      "text/latex": [
       "\\begin{verbatim}\n",
       "isapprox(x, y; atol::Real=0, rtol::Real=atol>0 ? 0 : √eps, nans::Bool=false[, norm::Function])\n",
       "\\end{verbatim}\n",
       "Inexact equality comparison: \\texttt{true} if \\texttt{norm(x-y) <= max(atol, rtol*max(norm(x), norm(y)))}. The default \\texttt{atol} is zero and the default \\texttt{rtol} depends on the types of \\texttt{x} and \\texttt{y}. The keyword argument \\texttt{nans} determines whether or not NaN values are considered equal (defaults to false).\n",
       "\n",
       "For real or complex floating-point values, if an \\texttt{atol > 0} is not specified, \\texttt{rtol} defaults to the square root of \\href{@ref}{\\texttt{eps}} of the type of \\texttt{x} or \\texttt{y}, whichever is bigger (least precise). This corresponds to requiring equality of about half of the significand digits. Otherwise, e.g. for integer arguments or if an \\texttt{atol > 0} is supplied, \\texttt{rtol} defaults to zero.\n",
       "\n",
       "The \\texttt{norm} keyword defaults to \\texttt{abs} for numeric \\texttt{(x,y)} and to \\texttt{LinearAlgebra.norm} for arrays (where an alternative \\texttt{norm} choice is sometimes useful). When \\texttt{x} and \\texttt{y} are arrays, if \\texttt{norm(x-y)} is not finite (i.e. \\texttt{±Inf} or \\texttt{NaN}), the comparison falls back to checking whether all elements of \\texttt{x} and \\texttt{y} are approximately equal component-wise.\n",
       "\n",
       "The binary operator \\texttt{≈} is equivalent to \\texttt{isapprox} with the default arguments, and \\texttt{x ≉ y} is equivalent to \\texttt{!isapprox(x,y)}.\n",
       "\n",
       "Note that \\texttt{x ≈ 0} (i.e., comparing to zero with the default tolerances) is equivalent to \\texttt{x == 0} since the default \\texttt{atol} is \\texttt{0}.  In such cases, you should either supply an appropriate \\texttt{atol} (or use \\texttt{norm(x) ≤ atol}) or rearrange your code (e.g. use \\texttt{x ≈ y} rather than \\texttt{x - y ≈ 0}).   It is not possible to pick a nonzero \\texttt{atol} automatically because it depends on the overall scaling (the \"units\") of your problem: for example, in \\texttt{x - y ≈ 0}, \\texttt{atol=1e-9} is an absurdly small tolerance if \\texttt{x} is the \\href{https://en.wikipedia.org/wiki/Earth_radius}{radius of the Earth} in meters, but an absurdly large tolerance if \\texttt{x} is the \\href{https://en.wikipedia.org/wiki/Bohr_radius}{radius of a Hydrogen atom} in meters.\n",
       "\n",
       "\\begin{quote}\n",
       "\\textbf{compat}\n",
       "\n",
       "Julia 1.6\n",
       "\n",
       "Passing the \\texttt{norm} keyword argument when comparing numeric (non-array) arguments requires Julia 1.6 or later.\n",
       "\n",
       "\\end{quote}\n",
       "\\section{Examples}\n",
       "\\begin{verbatim}\n",
       "julia> 0.1 ≈ (0.1 - 1e-10)\n",
       "true\n",
       "\n",
       "julia> isapprox(10, 11; atol = 2)\n",
       "true\n",
       "\n",
       "julia> isapprox([10.0^9, 1.0], [10.0^9, 2.0])\n",
       "true\n",
       "\n",
       "julia> 1e-10 ≈ 0\n",
       "false\n",
       "\n",
       "julia> isapprox(1e-10, 0, atol=1e-8)\n",
       "true\n",
       "\\end{verbatim}\n",
       "\\rule{\\textwidth}{1pt}\n",
       "\\begin{verbatim}\n",
       "isapprox(x; kwargs...) / ≈(x; kwargs...)\n",
       "\\end{verbatim}\n",
       "Create a function that compares its argument to \\texttt{x} using \\texttt{≈}, i.e. a function equivalent to \\texttt{y -> y ≈ x}.\n",
       "\n",
       "The keyword arguments supported here are the same as those in the 2-argument \\texttt{isapprox}.\n",
       "\n"
      ],
      "text/markdown": [
       "```\n",
       "isapprox(x, y; atol::Real=0, rtol::Real=atol>0 ? 0 : √eps, nans::Bool=false[, norm::Function])\n",
       "```\n",
       "\n",
       "Inexact equality comparison: `true` if `norm(x-y) <= max(atol, rtol*max(norm(x), norm(y)))`. The default `atol` is zero and the default `rtol` depends on the types of `x` and `y`. The keyword argument `nans` determines whether or not NaN values are considered equal (defaults to false).\n",
       "\n",
       "For real or complex floating-point values, if an `atol > 0` is not specified, `rtol` defaults to the square root of [`eps`](@ref) of the type of `x` or `y`, whichever is bigger (least precise). This corresponds to requiring equality of about half of the significand digits. Otherwise, e.g. for integer arguments or if an `atol > 0` is supplied, `rtol` defaults to zero.\n",
       "\n",
       "The `norm` keyword defaults to `abs` for numeric `(x,y)` and to `LinearAlgebra.norm` for arrays (where an alternative `norm` choice is sometimes useful). When `x` and `y` are arrays, if `norm(x-y)` is not finite (i.e. `±Inf` or `NaN`), the comparison falls back to checking whether all elements of `x` and `y` are approximately equal component-wise.\n",
       "\n",
       "The binary operator `≈` is equivalent to `isapprox` with the default arguments, and `x ≉ y` is equivalent to `!isapprox(x,y)`.\n",
       "\n",
       "Note that `x ≈ 0` (i.e., comparing to zero with the default tolerances) is equivalent to `x == 0` since the default `atol` is `0`.  In such cases, you should either supply an appropriate `atol` (or use `norm(x) ≤ atol`) or rearrange your code (e.g. use `x ≈ y` rather than `x - y ≈ 0`).   It is not possible to pick a nonzero `atol` automatically because it depends on the overall scaling (the \"units\") of your problem: for example, in `x - y ≈ 0`, `atol=1e-9` is an absurdly small tolerance if `x` is the [radius of the Earth](https://en.wikipedia.org/wiki/Earth_radius) in meters, but an absurdly large tolerance if `x` is the [radius of a Hydrogen atom](https://en.wikipedia.org/wiki/Bohr_radius) in meters.\n",
       "\n",
       "!!! compat \"Julia 1.6\"\n",
       "    Passing the `norm` keyword argument when comparing numeric (non-array) arguments requires Julia 1.6 or later.\n",
       "\n",
       "\n",
       "# Examples\n",
       "\n",
       "```jldoctest\n",
       "julia> 0.1 ≈ (0.1 - 1e-10)\n",
       "true\n",
       "\n",
       "julia> isapprox(10, 11; atol = 2)\n",
       "true\n",
       "\n",
       "julia> isapprox([10.0^9, 1.0], [10.0^9, 2.0])\n",
       "true\n",
       "\n",
       "julia> 1e-10 ≈ 0\n",
       "false\n",
       "\n",
       "julia> isapprox(1e-10, 0, atol=1e-8)\n",
       "true\n",
       "```\n",
       "\n",
       "---\n",
       "\n",
       "```\n",
       "isapprox(x; kwargs...) / ≈(x; kwargs...)\n",
       "```\n",
       "\n",
       "Create a function that compares its argument to `x` using `≈`, i.e. a function equivalent to `y -> y ≈ x`.\n",
       "\n",
       "The keyword arguments supported here are the same as those in the 2-argument `isapprox`.\n"
      ],
      "text/plain": [
       "\u001b[36m  isapprox(x, y; atol::Real=0, rtol::Real=atol>0 ? 0 : √eps, nans::Bool=false[, norm::Function])\u001b[39m\n",
       "\n",
       "  Inexact equality comparison: \u001b[36mtrue\u001b[39m if \u001b[36mnorm(x-y) <= max(atol,\n",
       "  rtol*max(norm(x), norm(y)))\u001b[39m. The default \u001b[36matol\u001b[39m is zero and the default \u001b[36mrtol\u001b[39m\n",
       "  depends on the types of \u001b[36mx\u001b[39m and \u001b[36my\u001b[39m. The keyword argument \u001b[36mnans\u001b[39m determines\n",
       "  whether or not NaN values are considered equal (defaults to false).\n",
       "\n",
       "  For real or complex floating-point values, if an \u001b[36matol > 0\u001b[39m is not specified,\n",
       "  \u001b[36mrtol\u001b[39m defaults to the square root of \u001b[36meps\u001b[39m of the type of \u001b[36mx\u001b[39m or \u001b[36my\u001b[39m, whichever is\n",
       "  bigger (least precise). This corresponds to requiring equality of about half\n",
       "  of the significand digits. Otherwise, e.g. for integer arguments or if an\n",
       "  \u001b[36matol > 0\u001b[39m is supplied, \u001b[36mrtol\u001b[39m defaults to zero.\n",
       "\n",
       "  The \u001b[36mnorm\u001b[39m keyword defaults to \u001b[36mabs\u001b[39m for numeric \u001b[36m(x,y)\u001b[39m and to \u001b[36mLinearAlgebra.norm\u001b[39m\n",
       "  for arrays (where an alternative \u001b[36mnorm\u001b[39m choice is sometimes useful). When \u001b[36mx\u001b[39m\n",
       "  and \u001b[36my\u001b[39m are arrays, if \u001b[36mnorm(x-y)\u001b[39m is not finite (i.e. \u001b[36m±Inf\u001b[39m or \u001b[36mNaN\u001b[39m), the\n",
       "  comparison falls back to checking whether all elements of \u001b[36mx\u001b[39m and \u001b[36my\u001b[39m are\n",
       "  approximately equal component-wise.\n",
       "\n",
       "  The binary operator \u001b[36m≈\u001b[39m is equivalent to \u001b[36misapprox\u001b[39m with the default arguments,\n",
       "  and \u001b[36mx ≉ y\u001b[39m is equivalent to \u001b[36m!isapprox(x,y)\u001b[39m.\n",
       "\n",
       "  Note that \u001b[36mx ≈ 0\u001b[39m (i.e., comparing to zero with the default tolerances) is\n",
       "  equivalent to \u001b[36mx == 0\u001b[39m since the default \u001b[36matol\u001b[39m is \u001b[36m0\u001b[39m. In such cases, you should\n",
       "  either supply an appropriate \u001b[36matol\u001b[39m (or use \u001b[36mnorm(x) ≤ atol\u001b[39m) or rearrange your\n",
       "  code (e.g. use \u001b[36mx ≈ y\u001b[39m rather than \u001b[36mx - y ≈ 0\u001b[39m). It is not possible to pick a\n",
       "  nonzero \u001b[36matol\u001b[39m automatically because it depends on the overall scaling (the\n",
       "  \"units\") of your problem: for example, in \u001b[36mx - y ≈ 0\u001b[39m, \u001b[36matol=1e-9\u001b[39m is an\n",
       "  absurdly small tolerance if \u001b[36mx\u001b[39m is the radius of the Earth\n",
       "  (https://en.wikipedia.org/wiki/Earth_radius) in meters, but an absurdly\n",
       "  large tolerance if \u001b[36mx\u001b[39m is the radius of a Hydrogen atom\n",
       "  (https://en.wikipedia.org/wiki/Bohr_radius) in meters.\n",
       "\n",
       "\u001b[39m\u001b[1m  │ \u001b[22m\u001b[39m\u001b[1mJulia 1.6\u001b[22m\n",
       "\u001b[39m\u001b[1m  │\u001b[22m\n",
       "\u001b[39m\u001b[1m  │\u001b[22m  Passing the \u001b[36mnorm\u001b[39m keyword argument when comparing numeric\n",
       "\u001b[39m\u001b[1m  │\u001b[22m  (non-array) arguments requires Julia 1.6 or later.\n",
       "\n",
       "\u001b[1m  Examples\u001b[22m\n",
       "\u001b[1m  ≡≡≡≡≡≡≡≡≡≡\u001b[22m\n",
       "\n",
       "\u001b[36m  julia> 0.1 ≈ (0.1 - 1e-10)\u001b[39m\n",
       "\u001b[36m  true\u001b[39m\n",
       "\u001b[36m  \u001b[39m\n",
       "\u001b[36m  julia> isapprox(10, 11; atol = 2)\u001b[39m\n",
       "\u001b[36m  true\u001b[39m\n",
       "\u001b[36m  \u001b[39m\n",
       "\u001b[36m  julia> isapprox([10.0^9, 1.0], [10.0^9, 2.0])\u001b[39m\n",
       "\u001b[36m  true\u001b[39m\n",
       "\u001b[36m  \u001b[39m\n",
       "\u001b[36m  julia> 1e-10 ≈ 0\u001b[39m\n",
       "\u001b[36m  false\u001b[39m\n",
       "\u001b[36m  \u001b[39m\n",
       "\u001b[36m  julia> isapprox(1e-10, 0, atol=1e-8)\u001b[39m\n",
       "\u001b[36m  true\u001b[39m\n",
       "\n",
       "  ────────────────────────────────────────────────────────────────────────────\n",
       "\n",
       "\u001b[36m  isapprox(x; kwargs...) / ≈(x; kwargs...)\u001b[39m\n",
       "\n",
       "  Create a function that compares its argument to \u001b[36mx\u001b[39m using \u001b[36m≈\u001b[39m, i.e. a function\n",
       "  equivalent to \u001b[36my -> y ≈ x\u001b[39m.\n",
       "\n",
       "  The keyword arguments supported here are the same as those in the 2-argument\n",
       "  \u001b[36misapprox\u001b[39m."
      ]
     },
     "execution_count": 11,
     "metadata": {},
     "output_type": "execute_result"
    }
   ],
   "source": [
    "?isapprox"
   ]
  },
  {
   "cell_type": "markdown",
   "metadata": {},
   "source": [
    "Agora podemos medir o desempenho do código C diretamente da sessão Julia."
   ]
  },
  {
   "cell_type": "code",
   "execution_count": 12,
   "metadata": {},
   "outputs": [
    {
     "data": {
      "text/plain": [
       "BenchmarkTools.Trial: 417 samples with 1 evaluation.\n",
       " Range \u001b[90m(\u001b[39m\u001b[36m\u001b[1mmin\u001b[22m\u001b[39m … \u001b[35mmax\u001b[39m\u001b[90m):  \u001b[39m\u001b[36m\u001b[1m11.949 ms\u001b[22m\u001b[39m … \u001b[35m12.401 ms\u001b[39m  \u001b[90m┊\u001b[39m GC \u001b[90m(\u001b[39mmin … max\u001b[90m): \u001b[39m0.00% … 0.00%\n",
       " Time  \u001b[90m(\u001b[39m\u001b[34m\u001b[1mmedian\u001b[22m\u001b[39m\u001b[90m):     \u001b[39m\u001b[34m\u001b[1m11.982 ms              \u001b[22m\u001b[39m\u001b[90m┊\u001b[39m GC \u001b[90m(\u001b[39mmedian\u001b[90m):    \u001b[39m0.00%\n",
       " Time  \u001b[90m(\u001b[39m\u001b[32m\u001b[1mmean\u001b[22m\u001b[39m ± \u001b[32mσ\u001b[39m\u001b[90m):   \u001b[39m\u001b[32m\u001b[1m12.001 ms\u001b[22m\u001b[39m ± \u001b[32m73.383 μs\u001b[39m  \u001b[90m┊\u001b[39m GC \u001b[90m(\u001b[39mmean ± σ\u001b[90m):  \u001b[39m0.00% ± 0.00%\n",
       "\n",
       "  \u001b[39m▂\u001b[39m▄\u001b[39m▇\u001b[39m█\u001b[39m█\u001b[34m█\u001b[39m\u001b[39m▆\u001b[39m▅\u001b[32m▂\u001b[39m\u001b[39m▂\u001b[39m \u001b[39m \u001b[39m \u001b[39m \u001b[39m \u001b[39m \u001b[39m \u001b[39m \u001b[39m \u001b[39m \u001b[39m \u001b[39m \u001b[39m \u001b[39m \u001b[39m \u001b[39m \u001b[39m \u001b[39m \u001b[39m \u001b[39m \u001b[39m \u001b[39m \u001b[39m \u001b[39m \u001b[39m \u001b[39m \u001b[39m \u001b[39m \u001b[39m \u001b[39m \u001b[39m \u001b[39m \u001b[39m \u001b[39m \u001b[39m \u001b[39m \u001b[39m \u001b[39m \u001b[39m \u001b[39m \u001b[39m \u001b[39m \u001b[39m \u001b[39m \u001b[39m \u001b[39m \u001b[39m \u001b[39m \u001b[39m \u001b[39m \u001b[39m \n",
       "  \u001b[39m█\u001b[39m█\u001b[39m█\u001b[39m█\u001b[39m█\u001b[34m█\u001b[39m\u001b[39m█\u001b[39m█\u001b[32m█\u001b[39m\u001b[39m█\u001b[39m▇\u001b[39m▇\u001b[39m▁\u001b[39m▆\u001b[39m▄\u001b[39m▄\u001b[39m▄\u001b[39m▄\u001b[39m▁\u001b[39m▄\u001b[39m▄\u001b[39m▄\u001b[39m▄\u001b[39m▁\u001b[39m▁\u001b[39m▁\u001b[39m▁\u001b[39m▆\u001b[39m▁\u001b[39m▁\u001b[39m▁\u001b[39m▁\u001b[39m▆\u001b[39m▄\u001b[39m▄\u001b[39m▄\u001b[39m▁\u001b[39m▁\u001b[39m▄\u001b[39m▄\u001b[39m▁\u001b[39m▄\u001b[39m▁\u001b[39m▁\u001b[39m▄\u001b[39m▁\u001b[39m▄\u001b[39m▄\u001b[39m▁\u001b[39m▁\u001b[39m▁\u001b[39m▄\u001b[39m▁\u001b[39m▁\u001b[39m▄\u001b[39m▁\u001b[39m▄\u001b[39m▄\u001b[39m▇\u001b[39m \u001b[39m▇\n",
       "  11.9 ms\u001b[90m      \u001b[39m\u001b[90mHistogram: \u001b[39m\u001b[90m\u001b[1mlog(\u001b[22m\u001b[39m\u001b[90mfrequency\u001b[39m\u001b[90m\u001b[1m)\u001b[22m\u001b[39m\u001b[90m by time\u001b[39m      12.3 ms \u001b[0m\u001b[1m<\u001b[22m\n",
       "\n",
       " Memory estimate\u001b[90m: \u001b[39m\u001b[33m0 bytes\u001b[39m, allocs estimate\u001b[90m: \u001b[39m\u001b[33m0\u001b[39m."
      ]
     },
     "execution_count": 12,
     "metadata": {},
     "output_type": "execute_result"
    }
   ],
   "source": [
    "c_bench = @benchmark c_sum($a)"
   ]
  },
  {
   "cell_type": "code",
   "execution_count": 13,
   "metadata": {},
   "outputs": [
    {
     "name": "stdout",
     "output_type": "stream",
     "text": [
      "C: O tempo mais rápido foi 11.949406 msec\n"
     ]
    }
   ],
   "source": [
    "println(\"C: O tempo mais rápido foi $(minimum(c_bench.times) / 1e6) msec\")"
   ]
  },
  {
   "cell_type": "code",
   "execution_count": 14,
   "metadata": {},
   "outputs": [
    {
     "data": {
      "text/plain": [
       "Dict{Any, Any} with 1 entry:\n",
       "  \"C\" => 11.9494"
      ]
     },
     "execution_count": 14,
     "metadata": {},
     "output_type": "execute_result"
    }
   ],
   "source": [
    "d = Dict()\n",
    "d[\"C\"] = minimum(c_bench.times) / 1e6  # em milisegundos\n",
    "d"
   ]
  },
  {
   "cell_type": "code",
   "execution_count": 15,
   "metadata": {},
   "outputs": [
    {
     "data": {
      "text/plain": [
       "Plots.GRBackend()"
      ]
     },
     "execution_count": 15,
     "metadata": {},
     "output_type": "execute_result"
    }
   ],
   "source": [
    "using Plots\n",
    "gr()"
   ]
  },
  {
   "cell_type": "code",
   "execution_count": 16,
   "metadata": {},
   "outputs": [
    {
     "data": {
      "image/svg+xml": [
       "<?xml version=\"1.0\" encoding=\"utf-8\"?>\n",
       "<svg xmlns=\"http://www.w3.org/2000/svg\" xmlns:xlink=\"http://www.w3.org/1999/xlink\" width=\"600\" height=\"400\" viewBox=\"0 0 2400 1600\">\n",
       "<defs>\n",
       "  <clipPath id=\"clip170\">\n",
       "    <rect x=\"0\" y=\"0\" width=\"2400\" height=\"1600\"/>\n",
       "  </clipPath>\n",
       "</defs>\n",
       "<path clip-path=\"url(#clip170)\" d=\"\n",
       "M0 1600 L2400 1600 L2400 0 L0 0  Z\n",
       "  \" fill=\"#ffffff\" fill-rule=\"evenodd\" fill-opacity=\"1\"/>\n",
       "<defs>\n",
       "  <clipPath id=\"clip171\">\n",
       "    <rect x=\"480\" y=\"0\" width=\"1681\" height=\"1600\"/>\n",
       "  </clipPath>\n",
       "</defs>\n",
       "<path clip-path=\"url(#clip170)\" d=\"\n",
       "M205.121 1423.18 L2352.76 1423.18 L2352.76 47.2441 L205.121 47.2441  Z\n",
       "  \" fill=\"#ffffff\" fill-rule=\"evenodd\" fill-opacity=\"1\"/>\n",
       "<defs>\n",
       "  <clipPath id=\"clip172\">\n",
       "    <rect x=\"205\" y=\"47\" width=\"2149\" height=\"1377\"/>\n",
       "  </clipPath>\n",
       "</defs>\n",
       "<polyline clip-path=\"url(#clip172)\" style=\"stroke:#000000; stroke-linecap:butt; stroke-linejoin:round; stroke-width:2; stroke-opacity:0.1; fill:none\" points=\"\n",
       "  439.028,1423.18 439.028,47.2441 \n",
       "  \"/>\n",
       "<polyline clip-path=\"url(#clip172)\" style=\"stroke:#000000; stroke-linecap:butt; stroke-linejoin:round; stroke-width:2; stroke-opacity:0.1; fill:none\" points=\"\n",
       "  926.794,1423.18 926.794,47.2441 \n",
       "  \"/>\n",
       "<polyline clip-path=\"url(#clip172)\" style=\"stroke:#000000; stroke-linecap:butt; stroke-linejoin:round; stroke-width:2; stroke-opacity:0.1; fill:none\" points=\"\n",
       "  1414.56,1423.18 1414.56,47.2441 \n",
       "  \"/>\n",
       "<polyline clip-path=\"url(#clip172)\" style=\"stroke:#000000; stroke-linecap:butt; stroke-linejoin:round; stroke-width:2; stroke-opacity:0.1; fill:none\" points=\"\n",
       "  1902.33,1423.18 1902.33,47.2441 \n",
       "  \"/>\n",
       "<polyline clip-path=\"url(#clip170)\" style=\"stroke:#000000; stroke-linecap:butt; stroke-linejoin:round; stroke-width:4; stroke-opacity:1; fill:none\" points=\"\n",
       "  205.121,1423.18 2352.76,1423.18 \n",
       "  \"/>\n",
       "<polyline clip-path=\"url(#clip170)\" style=\"stroke:#000000; stroke-linecap:butt; stroke-linejoin:round; stroke-width:4; stroke-opacity:1; fill:none\" points=\"\n",
       "  439.028,1423.18 439.028,1404.28 \n",
       "  \"/>\n",
       "<polyline clip-path=\"url(#clip170)\" style=\"stroke:#000000; stroke-linecap:butt; stroke-linejoin:round; stroke-width:4; stroke-opacity:1; fill:none\" points=\"\n",
       "  926.794,1423.18 926.794,1404.28 \n",
       "  \"/>\n",
       "<polyline clip-path=\"url(#clip170)\" style=\"stroke:#000000; stroke-linecap:butt; stroke-linejoin:round; stroke-width:4; stroke-opacity:1; fill:none\" points=\"\n",
       "  1414.56,1423.18 1414.56,1404.28 \n",
       "  \"/>\n",
       "<polyline clip-path=\"url(#clip170)\" style=\"stroke:#000000; stroke-linecap:butt; stroke-linejoin:round; stroke-width:4; stroke-opacity:1; fill:none\" points=\"\n",
       "  1902.33,1423.18 1902.33,1404.28 \n",
       "  \"/>\n",
       "<path clip-path=\"url(#clip170)\" d=\"M376.019 1479.92 L383.658 1479.92 L383.658 1453.55 L375.347 1455.22 L375.347 1450.96 L383.611 1449.29 L388.287 1449.29 L388.287 1479.92 L395.926 1479.92 L395.926 1483.85 L376.019 1483.85 L376.019 1479.92 Z\" fill=\"#000000\" fill-rule=\"evenodd\" fill-opacity=\"1\" /><path clip-path=\"url(#clip170)\" d=\"M406.181 1479.92 L413.819 1479.92 L413.819 1453.55 L405.509 1455.22 L405.509 1450.96 L413.773 1449.29 L418.449 1449.29 L418.449 1479.92 L426.088 1479.92 L426.088 1483.85 L406.181 1483.85 L406.181 1479.92 Z\" fill=\"#000000\" fill-rule=\"evenodd\" fill-opacity=\"1\" /><path clip-path=\"url(#clip170)\" d=\"M435.532 1477.97 L440.417 1477.97 L440.417 1483.85 L435.532 1483.85 L435.532 1477.97 Z\" fill=\"#000000\" fill-rule=\"evenodd\" fill-opacity=\"1\" /><path clip-path=\"url(#clip170)\" d=\"M450.741 1483.13 L450.741 1478.88 Q452.5 1479.71 454.305 1480.15 Q456.111 1480.59 457.847 1480.59 Q462.477 1480.59 464.907 1477.49 Q467.361 1474.36 467.708 1468.02 Q466.365 1470.01 464.305 1471.07 Q462.245 1472.14 459.745 1472.14 Q454.56 1472.14 451.528 1469.01 Q448.518 1465.87 448.518 1460.43 Q448.518 1455.1 451.666 1451.88 Q454.815 1448.67 460.046 1448.67 Q466.041 1448.67 469.19 1453.27 Q472.361 1457.86 472.361 1466.61 Q472.361 1474.78 468.472 1479.66 Q464.606 1484.52 458.055 1484.52 Q456.296 1484.52 454.491 1484.18 Q452.685 1483.83 450.741 1483.13 M460.046 1468.48 Q463.194 1468.48 465.023 1466.33 Q466.875 1464.18 466.875 1460.43 Q466.875 1456.7 465.023 1454.55 Q463.194 1452.37 460.046 1452.37 Q456.898 1452.37 455.046 1454.55 Q453.217 1456.7 453.217 1460.43 Q453.217 1464.18 455.046 1466.33 Q456.898 1468.48 460.046 1468.48 Z\" fill=\"#000000\" fill-rule=\"evenodd\" fill-opacity=\"1\" /><path clip-path=\"url(#clip170)\" d=\"M490.764 1452.37 Q487.152 1452.37 485.324 1455.94 Q483.518 1459.48 483.518 1466.61 Q483.518 1473.71 485.324 1477.28 Q487.152 1480.82 490.764 1480.82 Q494.398 1480.82 496.203 1477.28 Q498.032 1473.71 498.032 1466.61 Q498.032 1459.48 496.203 1455.94 Q494.398 1452.37 490.764 1452.37 M490.764 1448.67 Q496.574 1448.67 499.629 1453.27 Q502.708 1457.86 502.708 1466.61 Q502.708 1475.33 499.629 1479.94 Q496.574 1484.52 490.764 1484.52 Q484.953 1484.52 481.875 1479.94 Q478.819 1475.33 478.819 1466.61 Q478.819 1457.86 481.875 1453.27 Q484.953 1448.67 490.764 1448.67 Z\" fill=\"#000000\" fill-rule=\"evenodd\" fill-opacity=\"1\" /><path clip-path=\"url(#clip170)\" d=\"M864.283 1479.92 L871.922 1479.92 L871.922 1453.55 L863.611 1455.22 L863.611 1450.96 L871.875 1449.29 L876.551 1449.29 L876.551 1479.92 L884.19 1479.92 L884.19 1483.85 L864.283 1483.85 L864.283 1479.92 Z\" fill=\"#000000\" fill-rule=\"evenodd\" fill-opacity=\"1\" /><path clip-path=\"url(#clip170)\" d=\"M894.445 1479.92 L902.083 1479.92 L902.083 1453.55 L893.773 1455.22 L893.773 1450.96 L902.037 1449.29 L906.713 1449.29 L906.713 1479.92 L914.352 1479.92 L914.352 1483.85 L894.445 1483.85 L894.445 1479.92 Z\" fill=\"#000000\" fill-rule=\"evenodd\" fill-opacity=\"1\" /><path clip-path=\"url(#clip170)\" d=\"M923.796 1477.97 L928.681 1477.97 L928.681 1483.85 L923.796 1483.85 L923.796 1477.97 Z\" fill=\"#000000\" fill-rule=\"evenodd\" fill-opacity=\"1\" /><path clip-path=\"url(#clip170)\" d=\"M939.005 1483.13 L939.005 1478.88 Q940.764 1479.71 942.569 1480.15 Q944.375 1480.59 946.111 1480.59 Q950.741 1480.59 953.171 1477.49 Q955.625 1474.36 955.972 1468.02 Q954.629 1470.01 952.569 1471.07 Q950.509 1472.14 948.009 1472.14 Q942.824 1472.14 939.792 1469.01 Q936.782 1465.87 936.782 1460.43 Q936.782 1455.1 939.93 1451.88 Q943.079 1448.67 948.31 1448.67 Q954.305 1448.67 957.454 1453.27 Q960.625 1457.86 960.625 1466.61 Q960.625 1474.78 956.736 1479.66 Q952.87 1484.52 946.319 1484.52 Q944.56 1484.52 942.755 1484.18 Q940.949 1483.83 939.005 1483.13 M948.31 1468.48 Q951.458 1468.48 953.287 1466.33 Q955.139 1464.18 955.139 1460.43 Q955.139 1456.7 953.287 1454.55 Q951.458 1452.37 948.31 1452.37 Q945.162 1452.37 943.31 1454.55 Q941.481 1456.7 941.481 1460.43 Q941.481 1464.18 943.31 1466.33 Q945.162 1468.48 948.31 1468.48 Z\" fill=\"#000000\" fill-rule=\"evenodd\" fill-opacity=\"1\" /><path clip-path=\"url(#clip170)\" d=\"M969.074 1449.29 L987.43 1449.29 L987.43 1453.23 L973.356 1453.23 L973.356 1461.7 Q974.375 1461.35 975.393 1461.19 Q976.412 1461 977.43 1461 Q983.217 1461 986.597 1464.18 Q989.976 1467.35 989.976 1472.76 Q989.976 1478.34 986.504 1481.44 Q983.032 1484.52 976.713 1484.52 Q974.537 1484.52 972.268 1484.15 Q970.023 1483.78 967.615 1483.04 L967.615 1478.34 Q969.699 1479.48 971.921 1480.03 Q974.143 1480.59 976.62 1480.59 Q980.625 1480.59 982.963 1478.48 Q985.301 1476.38 985.301 1472.76 Q985.301 1469.15 982.963 1467.05 Q980.625 1464.94 976.62 1464.94 Q974.745 1464.94 972.87 1465.36 Q971.018 1465.77 969.074 1466.65 L969.074 1449.29 Z\" fill=\"#000000\" fill-rule=\"evenodd\" fill-opacity=\"1\" /><path clip-path=\"url(#clip170)\" d=\"M1351.55 1479.92 L1359.19 1479.92 L1359.19 1453.55 L1350.88 1455.22 L1350.88 1450.96 L1359.14 1449.29 L1363.82 1449.29 L1363.82 1479.92 L1371.46 1479.92 L1371.46 1483.85 L1351.55 1483.85 L1351.55 1479.92 Z\" fill=\"#000000\" fill-rule=\"evenodd\" fill-opacity=\"1\" /><path clip-path=\"url(#clip170)\" d=\"M1384.93 1479.92 L1401.25 1479.92 L1401.25 1483.85 L1379.31 1483.85 L1379.31 1479.92 Q1381.97 1477.16 1386.55 1472.53 Q1391.16 1467.88 1392.34 1466.54 Q1394.58 1464.01 1395.46 1462.28 Q1396.37 1460.52 1396.37 1458.83 Q1396.37 1456.07 1394.42 1454.34 Q1392.5 1452.6 1389.4 1452.6 Q1387.2 1452.6 1384.75 1453.37 Q1382.32 1454.13 1379.54 1455.68 L1379.54 1450.96 Q1382.36 1449.82 1384.82 1449.25 Q1387.27 1448.67 1389.31 1448.67 Q1394.68 1448.67 1397.87 1451.35 Q1401.06 1454.04 1401.06 1458.53 Q1401.06 1460.66 1400.25 1462.58 Q1399.47 1464.48 1397.36 1467.07 Q1396.78 1467.74 1393.68 1470.96 Q1390.58 1474.15 1384.93 1479.92 Z\" fill=\"#000000\" fill-rule=\"evenodd\" fill-opacity=\"1\" /><path clip-path=\"url(#clip170)\" d=\"M1411.06 1477.97 L1415.95 1477.97 L1415.95 1483.85 L1411.06 1483.85 L1411.06 1477.97 Z\" fill=\"#000000\" fill-rule=\"evenodd\" fill-opacity=\"1\" /><path clip-path=\"url(#clip170)\" d=\"M1436.13 1452.37 Q1432.52 1452.37 1430.69 1455.94 Q1428.89 1459.48 1428.89 1466.61 Q1428.89 1473.71 1430.69 1477.28 Q1432.52 1480.82 1436.13 1480.82 Q1439.77 1480.82 1441.57 1477.28 Q1443.4 1473.71 1443.4 1466.61 Q1443.4 1459.48 1441.57 1455.94 Q1439.77 1452.37 1436.13 1452.37 M1436.13 1448.67 Q1441.94 1448.67 1445 1453.27 Q1448.08 1457.86 1448.08 1466.61 Q1448.08 1475.33 1445 1479.94 Q1441.94 1484.52 1436.13 1484.52 Q1430.32 1484.52 1427.25 1479.94 Q1424.19 1475.33 1424.19 1466.61 Q1424.19 1457.86 1427.25 1453.27 Q1430.32 1448.67 1436.13 1448.67 Z\" fill=\"#000000\" fill-rule=\"evenodd\" fill-opacity=\"1\" /><path clip-path=\"url(#clip170)\" d=\"M1466.3 1452.37 Q1462.68 1452.37 1460.86 1455.94 Q1459.05 1459.48 1459.05 1466.61 Q1459.05 1473.71 1460.86 1477.28 Q1462.68 1480.82 1466.3 1480.82 Q1469.93 1480.82 1471.74 1477.28 Q1473.56 1473.71 1473.56 1466.61 Q1473.56 1459.48 1471.74 1455.94 Q1469.93 1452.37 1466.3 1452.37 M1466.3 1448.67 Q1472.11 1448.67 1475.16 1453.27 Q1478.24 1457.86 1478.24 1466.61 Q1478.24 1475.33 1475.16 1479.94 Q1472.11 1484.52 1466.3 1484.52 Q1460.49 1484.52 1457.41 1479.94 Q1454.35 1475.33 1454.35 1466.61 Q1454.35 1457.86 1457.41 1453.27 Q1460.49 1448.67 1466.3 1448.67 Z\" fill=\"#000000\" fill-rule=\"evenodd\" fill-opacity=\"1\" /><path clip-path=\"url(#clip170)\" d=\"M1839.82 1479.92 L1847.45 1479.92 L1847.45 1453.55 L1839.14 1455.22 L1839.14 1450.96 L1847.41 1449.29 L1852.08 1449.29 L1852.08 1479.92 L1859.72 1479.92 L1859.72 1483.85 L1839.82 1483.85 L1839.82 1479.92 Z\" fill=\"#000000\" fill-rule=\"evenodd\" fill-opacity=\"1\" /><path clip-path=\"url(#clip170)\" d=\"M1873.19 1479.92 L1889.51 1479.92 L1889.51 1483.85 L1867.57 1483.85 L1867.57 1479.92 Q1870.23 1477.16 1874.82 1472.53 Q1879.42 1467.88 1880.6 1466.54 Q1882.85 1464.01 1883.73 1462.28 Q1884.63 1460.52 1884.63 1458.83 Q1884.63 1456.07 1882.69 1454.34 Q1880.76 1452.6 1877.66 1452.6 Q1875.46 1452.6 1873.01 1453.37 Q1870.58 1454.13 1867.8 1455.68 L1867.8 1450.96 Q1870.63 1449.82 1873.08 1449.25 Q1875.53 1448.67 1877.57 1448.67 Q1882.94 1448.67 1886.13 1451.35 Q1889.33 1454.04 1889.33 1458.53 Q1889.33 1460.66 1888.52 1462.58 Q1887.73 1464.48 1885.63 1467.07 Q1885.05 1467.74 1881.94 1470.96 Q1878.84 1474.15 1873.19 1479.92 Z\" fill=\"#000000\" fill-rule=\"evenodd\" fill-opacity=\"1\" /><path clip-path=\"url(#clip170)\" d=\"M1899.33 1477.97 L1904.21 1477.97 L1904.21 1483.85 L1899.33 1483.85 L1899.33 1477.97 Z\" fill=\"#000000\" fill-rule=\"evenodd\" fill-opacity=\"1\" /><path clip-path=\"url(#clip170)\" d=\"M1924.4 1452.37 Q1920.79 1452.37 1918.96 1455.94 Q1917.15 1459.48 1917.15 1466.61 Q1917.15 1473.71 1918.96 1477.28 Q1920.79 1480.82 1924.4 1480.82 Q1928.03 1480.82 1929.84 1477.28 Q1931.67 1473.71 1931.67 1466.61 Q1931.67 1459.48 1929.84 1455.94 Q1928.03 1452.37 1924.4 1452.37 M1924.4 1448.67 Q1930.21 1448.67 1933.26 1453.27 Q1936.34 1457.86 1936.34 1466.61 Q1936.34 1475.33 1933.26 1479.94 Q1930.21 1484.52 1924.4 1484.52 Q1918.59 1484.52 1915.51 1479.94 Q1912.45 1475.33 1912.45 1466.61 Q1912.45 1457.86 1915.51 1453.27 Q1918.59 1448.67 1924.4 1448.67 Z\" fill=\"#000000\" fill-rule=\"evenodd\" fill-opacity=\"1\" /><path clip-path=\"url(#clip170)\" d=\"M1944.61 1449.29 L1962.96 1449.29 L1962.96 1453.23 L1948.89 1453.23 L1948.89 1461.7 Q1949.91 1461.35 1950.93 1461.19 Q1951.94 1461 1952.96 1461 Q1958.75 1461 1962.13 1464.18 Q1965.51 1467.35 1965.51 1472.76 Q1965.51 1478.34 1962.04 1481.44 Q1958.56 1484.52 1952.25 1484.52 Q1950.07 1484.52 1947.8 1484.15 Q1945.56 1483.78 1943.15 1483.04 L1943.15 1478.34 Q1945.23 1479.48 1947.45 1480.03 Q1949.68 1480.59 1952.15 1480.59 Q1956.16 1480.59 1958.5 1478.48 Q1960.83 1476.38 1960.83 1472.76 Q1960.83 1469.15 1958.5 1467.05 Q1956.16 1464.94 1952.15 1464.94 Q1950.28 1464.94 1948.4 1465.36 Q1946.55 1465.77 1944.61 1466.65 L1944.61 1449.29 Z\" fill=\"#000000\" fill-rule=\"evenodd\" fill-opacity=\"1\" /><path clip-path=\"url(#clip170)\" d=\"M1095.91 1539.24 Q1098.1 1535.29 1101.16 1533.41 Q1104.22 1531.54 1108.35 1531.54 Q1113.92 1531.54 1116.95 1535.45 Q1119.97 1539.33 1119.97 1546.53 L1119.97 1568.04 L1114.08 1568.04 L1114.08 1546.72 Q1114.08 1541.59 1112.27 1539.11 Q1110.45 1536.63 1106.73 1536.63 Q1102.18 1536.63 1099.54 1539.65 Q1096.9 1542.68 1096.9 1547.9 L1096.9 1568.04 L1091.01 1568.04 L1091.01 1546.72 Q1091.01 1541.56 1089.19 1539.11 Q1087.38 1536.63 1083.59 1536.63 Q1079.1 1536.63 1076.46 1539.68 Q1073.82 1542.71 1073.82 1547.9 L1073.82 1568.04 L1067.93 1568.04 L1067.93 1532.4 L1073.82 1532.4 L1073.82 1537.93 Q1075.82 1534.66 1078.63 1533.1 Q1081.43 1531.54 1085.28 1531.54 Q1089.16 1531.54 1091.87 1533.51 Q1094.6 1535.48 1095.91 1539.24 Z\" fill=\"#000000\" fill-rule=\"evenodd\" fill-opacity=\"1\" /><path clip-path=\"url(#clip170)\" d=\"M1131.65 1532.4 L1137.51 1532.4 L1137.51 1568.04 L1131.65 1568.04 L1131.65 1532.4 M1131.65 1518.52 L1137.51 1518.52 L1137.51 1525.93 L1131.65 1525.93 L1131.65 1518.52 Z\" fill=\"#000000\" fill-rule=\"evenodd\" fill-opacity=\"1\" /><path clip-path=\"url(#clip170)\" d=\"M1149.76 1518.52 L1155.62 1518.52 L1155.62 1568.04 L1149.76 1568.04 L1149.76 1518.52 Z\" fill=\"#000000\" fill-rule=\"evenodd\" fill-opacity=\"1\" /><path clip-path=\"url(#clip170)\" d=\"M1167.87 1532.4 L1173.73 1532.4 L1173.73 1568.04 L1167.87 1568.04 L1167.87 1532.4 M1167.87 1518.52 L1173.73 1518.52 L1173.73 1525.93 L1167.87 1525.93 L1167.87 1518.52 Z\" fill=\"#000000\" fill-rule=\"evenodd\" fill-opacity=\"1\" /><path clip-path=\"url(#clip170)\" d=\"M1208.71 1533.45 L1208.71 1538.98 Q1206.23 1537.71 1203.55 1537.07 Q1200.88 1536.44 1198.01 1536.44 Q1193.65 1536.44 1191.46 1537.77 Q1189.29 1539.11 1189.29 1541.79 Q1189.29 1543.82 1190.85 1545 Q1192.41 1546.15 1197.12 1547.2 L1199.13 1547.64 Q1205.37 1548.98 1207.98 1551.43 Q1210.62 1553.85 1210.62 1558.21 Q1210.62 1563.17 1206.67 1566.07 Q1202.76 1568.97 1195.88 1568.97 Q1193.02 1568.97 1189.9 1568.39 Q1186.81 1567.85 1183.37 1566.74 L1183.37 1560.69 Q1186.62 1562.38 1189.77 1563.24 Q1192.92 1564.07 1196.01 1564.07 Q1200.15 1564.07 1202.37 1562.66 Q1204.6 1561.23 1204.6 1558.65 Q1204.6 1556.27 1202.98 1554.99 Q1201.39 1553.72 1195.95 1552.54 L1193.91 1552.07 Q1188.47 1550.92 1186.05 1548.56 Q1183.63 1546.18 1183.63 1542.04 Q1183.63 1537.01 1187.19 1534.27 Q1190.76 1531.54 1197.31 1531.54 Q1200.56 1531.54 1203.43 1532.01 Q1206.29 1532.49 1208.71 1533.45 Z\" fill=\"#000000\" fill-rule=\"evenodd\" fill-opacity=\"1\" /><path clip-path=\"url(#clip170)\" d=\"M1250.44 1548.76 L1250.44 1551.62 L1223.51 1551.62 Q1223.89 1557.67 1227.14 1560.85 Q1230.42 1564 1236.24 1564 Q1239.61 1564 1242.77 1563.17 Q1245.95 1562.35 1249.07 1560.69 L1249.07 1566.23 Q1245.92 1567.57 1242.61 1568.27 Q1239.3 1568.97 1235.89 1568.97 Q1227.36 1568.97 1222.36 1564 Q1217.4 1559.04 1217.4 1550.57 Q1217.4 1541.82 1222.11 1536.69 Q1226.85 1531.54 1234.87 1531.54 Q1242.07 1531.54 1246.23 1536.18 Q1250.44 1540.8 1250.44 1548.76 M1244.58 1547.04 Q1244.52 1542.23 1241.87 1539.37 Q1239.26 1536.5 1234.94 1536.5 Q1230.03 1536.5 1227.07 1539.27 Q1224.15 1542.04 1223.7 1547.07 L1244.58 1547.04 Z\" fill=\"#000000\" fill-rule=\"evenodd\" fill-opacity=\"1\" /><path clip-path=\"url(#clip170)\" d=\"M1283.51 1549.81 Q1283.51 1543.44 1280.86 1539.94 Q1278.25 1536.44 1273.51 1536.44 Q1268.8 1536.44 1266.16 1539.94 Q1263.55 1543.44 1263.55 1549.81 Q1263.55 1556.14 1266.16 1559.64 Q1268.8 1563.14 1273.51 1563.14 Q1278.25 1563.14 1280.86 1559.64 Q1283.51 1556.14 1283.51 1549.81 M1289.36 1563.62 Q1289.36 1572.72 1285.32 1577.15 Q1281.28 1581.6 1272.94 1581.6 Q1269.85 1581.6 1267.11 1581.13 Q1264.38 1580.68 1261.8 1579.72 L1261.8 1574.03 Q1264.38 1575.43 1266.89 1576.1 Q1269.41 1576.76 1272.02 1576.76 Q1277.78 1576.76 1280.64 1573.74 Q1283.51 1570.75 1283.51 1564.67 L1283.51 1561.77 Q1281.69 1564.92 1278.86 1566.48 Q1276.03 1568.04 1272.08 1568.04 Q1265.52 1568.04 1261.51 1563.05 Q1257.5 1558.05 1257.5 1549.81 Q1257.5 1541.53 1261.51 1536.53 Q1265.52 1531.54 1272.08 1531.54 Q1276.03 1531.54 1278.86 1533.1 Q1281.69 1534.66 1283.51 1537.81 L1283.51 1532.4 L1289.36 1532.4 L1289.36 1563.62 Z\" fill=\"#000000\" fill-rule=\"evenodd\" fill-opacity=\"1\" /><path clip-path=\"url(#clip170)\" d=\"M1300.82 1553.98 L1300.82 1532.4 L1306.68 1532.4 L1306.68 1553.75 Q1306.68 1558.81 1308.65 1561.36 Q1310.62 1563.87 1314.57 1563.87 Q1319.31 1563.87 1322.05 1560.85 Q1324.82 1557.83 1324.82 1552.61 L1324.82 1532.4 L1330.68 1532.4 L1330.68 1568.04 L1324.82 1568.04 L1324.82 1562.57 Q1322.69 1565.82 1319.85 1567.41 Q1317.05 1568.97 1313.33 1568.97 Q1307.19 1568.97 1304 1565.15 Q1300.82 1561.33 1300.82 1553.98 M1315.56 1531.54 L1315.56 1531.54 Z\" fill=\"#000000\" fill-rule=\"evenodd\" fill-opacity=\"1\" /><path clip-path=\"url(#clip170)\" d=\"M1372.37 1546.53 L1372.37 1568.04 L1366.51 1568.04 L1366.51 1546.72 Q1366.51 1541.66 1364.54 1539.14 Q1362.57 1536.63 1358.62 1536.63 Q1353.88 1536.63 1351.14 1539.65 Q1348.4 1542.68 1348.4 1547.9 L1348.4 1568.04 L1342.52 1568.04 L1342.52 1532.4 L1348.4 1532.4 L1348.4 1537.93 Q1350.5 1534.72 1353.34 1533.13 Q1356.2 1531.54 1359.93 1531.54 Q1366.07 1531.54 1369.22 1535.36 Q1372.37 1539.14 1372.37 1546.53 Z\" fill=\"#000000\" fill-rule=\"evenodd\" fill-opacity=\"1\" /><path clip-path=\"url(#clip170)\" d=\"M1407.51 1537.81 L1407.51 1518.52 L1413.37 1518.52 L1413.37 1568.04 L1407.51 1568.04 L1407.51 1562.7 Q1405.66 1565.88 1402.83 1567.44 Q1400.03 1568.97 1396.08 1568.97 Q1389.62 1568.97 1385.55 1563.81 Q1381.51 1558.65 1381.51 1550.25 Q1381.51 1541.85 1385.55 1536.69 Q1389.62 1531.54 1396.08 1531.54 Q1400.03 1531.54 1402.83 1533.1 Q1405.66 1534.62 1407.51 1537.81 M1387.55 1550.25 Q1387.55 1556.71 1390.2 1560.4 Q1392.87 1564.07 1397.52 1564.07 Q1402.16 1564.07 1404.84 1560.4 Q1407.51 1556.71 1407.51 1550.25 Q1407.51 1543.79 1404.84 1540.13 Q1402.16 1536.44 1397.52 1536.44 Q1392.87 1536.44 1390.2 1540.13 Q1387.55 1543.79 1387.55 1550.25 Z\" fill=\"#000000\" fill-rule=\"evenodd\" fill-opacity=\"1\" /><path clip-path=\"url(#clip170)\" d=\"M1439.24 1536.5 Q1434.53 1536.5 1431.79 1540.19 Q1429.06 1543.85 1429.06 1550.25 Q1429.06 1556.65 1431.76 1560.34 Q1434.5 1564 1439.24 1564 Q1443.92 1564 1446.66 1560.31 Q1449.4 1556.62 1449.4 1550.25 Q1449.4 1543.92 1446.66 1540.23 Q1443.92 1536.5 1439.24 1536.5 M1439.24 1531.54 Q1446.88 1531.54 1451.24 1536.5 Q1455.6 1541.47 1455.6 1550.25 Q1455.6 1559 1451.24 1564 Q1446.88 1568.97 1439.24 1568.97 Q1431.57 1568.97 1427.21 1564 Q1422.88 1559 1422.88 1550.25 Q1422.88 1541.47 1427.21 1536.5 Q1431.57 1531.54 1439.24 1531.54 Z\" fill=\"#000000\" fill-rule=\"evenodd\" fill-opacity=\"1\" /><path clip-path=\"url(#clip170)\" d=\"M1488.04 1533.45 L1488.04 1538.98 Q1485.55 1537.71 1482.88 1537.07 Q1480.21 1536.44 1477.34 1536.44 Q1472.98 1536.44 1470.78 1537.77 Q1468.62 1539.11 1468.62 1541.79 Q1468.62 1543.82 1470.18 1545 Q1471.74 1546.15 1476.45 1547.2 L1478.46 1547.64 Q1484.69 1548.98 1487.3 1551.43 Q1489.95 1553.85 1489.95 1558.21 Q1489.95 1563.17 1486 1566.07 Q1482.08 1568.97 1475.21 1568.97 Q1472.34 1568.97 1469.23 1568.39 Q1466.14 1567.85 1462.7 1566.74 L1462.7 1560.69 Q1465.95 1562.38 1469.1 1563.24 Q1472.25 1564.07 1475.34 1564.07 Q1479.47 1564.07 1481.7 1562.66 Q1483.93 1561.23 1483.93 1558.65 Q1483.93 1556.27 1482.31 1554.99 Q1480.72 1553.72 1475.27 1552.54 L1473.24 1552.07 Q1467.79 1550.92 1465.37 1548.56 Q1462.96 1546.18 1462.96 1542.04 Q1462.96 1537.01 1466.52 1534.27 Q1470.08 1531.54 1476.64 1531.54 Q1479.89 1531.54 1482.75 1532.01 Q1485.62 1532.49 1488.04 1533.45 Z\" fill=\"#000000\" fill-rule=\"evenodd\" fill-opacity=\"1\" /><polyline clip-path=\"url(#clip172)\" style=\"stroke:#000000; stroke-linecap:butt; stroke-linejoin:round; stroke-width:2; stroke-opacity:0.1; fill:none\" points=\"\n",
       "  205.121,1384.24 2352.76,1384.24 \n",
       "  \"/>\n",
       "<polyline clip-path=\"url(#clip172)\" style=\"stroke:#000000; stroke-linecap:butt; stroke-linejoin:round; stroke-width:2; stroke-opacity:0.1; fill:none\" points=\"\n",
       "  205.121,1139.32 2352.76,1139.32 \n",
       "  \"/>\n",
       "<polyline clip-path=\"url(#clip172)\" style=\"stroke:#000000; stroke-linecap:butt; stroke-linejoin:round; stroke-width:2; stroke-opacity:0.1; fill:none\" points=\"\n",
       "  205.121,894.407 2352.76,894.407 \n",
       "  \"/>\n",
       "<polyline clip-path=\"url(#clip172)\" style=\"stroke:#000000; stroke-linecap:butt; stroke-linejoin:round; stroke-width:2; stroke-opacity:0.1; fill:none\" points=\"\n",
       "  205.121,649.492 2352.76,649.492 \n",
       "  \"/>\n",
       "<polyline clip-path=\"url(#clip172)\" style=\"stroke:#000000; stroke-linecap:butt; stroke-linejoin:round; stroke-width:2; stroke-opacity:0.1; fill:none\" points=\"\n",
       "  205.121,404.576 2352.76,404.576 \n",
       "  \"/>\n",
       "<polyline clip-path=\"url(#clip172)\" style=\"stroke:#000000; stroke-linecap:butt; stroke-linejoin:round; stroke-width:2; stroke-opacity:0.1; fill:none\" points=\"\n",
       "  205.121,159.66 2352.76,159.66 \n",
       "  \"/>\n",
       "<polyline clip-path=\"url(#clip170)\" style=\"stroke:#000000; stroke-linecap:butt; stroke-linejoin:round; stroke-width:4; stroke-opacity:1; fill:none\" points=\"\n",
       "  205.121,1423.18 205.121,47.2441 \n",
       "  \"/>\n",
       "<polyline clip-path=\"url(#clip170)\" style=\"stroke:#000000; stroke-linecap:butt; stroke-linejoin:round; stroke-width:4; stroke-opacity:1; fill:none\" points=\"\n",
       "  205.121,1384.24 224.019,1384.24 \n",
       "  \"/>\n",
       "<polyline clip-path=\"url(#clip170)\" style=\"stroke:#000000; stroke-linecap:butt; stroke-linejoin:round; stroke-width:4; stroke-opacity:1; fill:none\" points=\"\n",
       "  205.121,1139.32 224.019,1139.32 \n",
       "  \"/>\n",
       "<polyline clip-path=\"url(#clip170)\" style=\"stroke:#000000; stroke-linecap:butt; stroke-linejoin:round; stroke-width:4; stroke-opacity:1; fill:none\" points=\"\n",
       "  205.121,894.407 224.019,894.407 \n",
       "  \"/>\n",
       "<polyline clip-path=\"url(#clip170)\" style=\"stroke:#000000; stroke-linecap:butt; stroke-linejoin:round; stroke-width:4; stroke-opacity:1; fill:none\" points=\"\n",
       "  205.121,649.492 224.019,649.492 \n",
       "  \"/>\n",
       "<polyline clip-path=\"url(#clip170)\" style=\"stroke:#000000; stroke-linecap:butt; stroke-linejoin:round; stroke-width:4; stroke-opacity:1; fill:none\" points=\"\n",
       "  205.121,404.576 224.019,404.576 \n",
       "  \"/>\n",
       "<polyline clip-path=\"url(#clip170)\" style=\"stroke:#000000; stroke-linecap:butt; stroke-linejoin:round; stroke-width:4; stroke-opacity:1; fill:none\" points=\"\n",
       "  205.121,159.66 224.019,159.66 \n",
       "  \"/>\n",
       "<path clip-path=\"url(#clip170)\" d=\"M157.177 1370.04 Q153.566 1370.04 151.737 1373.6 Q149.931 1377.14 149.931 1384.27 Q149.931 1391.38 151.737 1394.94 Q153.566 1398.49 157.177 1398.49 Q160.811 1398.49 162.616 1394.94 Q164.445 1391.38 164.445 1384.27 Q164.445 1377.14 162.616 1373.6 Q160.811 1370.04 157.177 1370.04 M157.177 1366.33 Q162.987 1366.33 166.042 1370.94 Q169.121 1375.52 169.121 1384.27 Q169.121 1393 166.042 1397.61 Q162.987 1402.19 157.177 1402.19 Q151.366 1402.19 148.288 1397.61 Q145.232 1393 145.232 1384.27 Q145.232 1375.52 148.288 1370.94 Q151.366 1366.33 157.177 1366.33 Z\" fill=\"#000000\" fill-rule=\"evenodd\" fill-opacity=\"1\" /><path clip-path=\"url(#clip170)\" d=\"M117.825 1152.67 L125.464 1152.67 L125.464 1126.3 L117.154 1127.97 L117.154 1123.71 L125.418 1122.04 L130.093 1122.04 L130.093 1152.67 L137.732 1152.67 L137.732 1156.6 L117.825 1156.6 L117.825 1152.67 Z\" fill=\"#000000\" fill-rule=\"evenodd\" fill-opacity=\"1\" /><path clip-path=\"url(#clip170)\" d=\"M157.177 1125.12 Q153.566 1125.12 151.737 1128.69 Q149.931 1132.23 149.931 1139.36 Q149.931 1146.46 151.737 1150.03 Q153.566 1153.57 157.177 1153.57 Q160.811 1153.57 162.616 1150.03 Q164.445 1146.46 164.445 1139.36 Q164.445 1132.23 162.616 1128.69 Q160.811 1125.12 157.177 1125.12 M157.177 1121.42 Q162.987 1121.42 166.042 1126.02 Q169.121 1130.61 169.121 1139.36 Q169.121 1148.08 166.042 1152.69 Q162.987 1157.27 157.177 1157.27 Q151.366 1157.27 148.288 1152.69 Q145.232 1148.08 145.232 1139.36 Q145.232 1130.61 148.288 1126.02 Q151.366 1121.42 157.177 1121.42 Z\" fill=\"#000000\" fill-rule=\"evenodd\" fill-opacity=\"1\" /><path clip-path=\"url(#clip170)\" d=\"M121.043 907.752 L137.362 907.752 L137.362 911.687 L115.418 911.687 L115.418 907.752 Q118.08 904.997 122.663 900.368 Q127.269 895.715 128.45 894.372 Q130.695 891.849 131.575 890.113 Q132.478 888.354 132.478 886.664 Q132.478 883.909 130.533 882.173 Q128.612 880.437 125.51 880.437 Q123.311 880.437 120.857 881.201 Q118.427 881.965 115.649 883.516 L115.649 878.794 Q118.473 877.66 120.927 877.081 Q123.38 876.502 125.418 876.502 Q130.788 876.502 133.982 879.187 Q137.177 881.872 137.177 886.363 Q137.177 888.493 136.367 890.414 Q135.579 892.312 133.473 894.905 Q132.894 895.576 129.792 898.794 Q126.691 901.988 121.043 907.752 Z\" fill=\"#000000\" fill-rule=\"evenodd\" fill-opacity=\"1\" /><path clip-path=\"url(#clip170)\" d=\"M157.177 880.206 Q153.566 880.206 151.737 883.771 Q149.931 887.312 149.931 894.442 Q149.931 901.548 151.737 905.113 Q153.566 908.655 157.177 908.655 Q160.811 908.655 162.616 905.113 Q164.445 901.548 164.445 894.442 Q164.445 887.312 162.616 883.771 Q160.811 880.206 157.177 880.206 M157.177 876.502 Q162.987 876.502 166.042 881.109 Q169.121 885.692 169.121 894.442 Q169.121 903.169 166.042 907.775 Q162.987 912.358 157.177 912.358 Q151.366 912.358 148.288 907.775 Q145.232 903.169 145.232 894.442 Q145.232 885.692 148.288 881.109 Q151.366 876.502 157.177 876.502 Z\" fill=\"#000000\" fill-rule=\"evenodd\" fill-opacity=\"1\" /><path clip-path=\"url(#clip170)\" d=\"M131.181 648.137 Q134.538 648.855 136.413 651.123 Q138.311 653.392 138.311 656.725 Q138.311 661.841 134.792 664.642 Q131.274 667.443 124.793 667.443 Q122.617 667.443 120.302 667.003 Q118.01 666.586 115.556 665.73 L115.556 661.216 Q117.501 662.35 119.816 662.929 Q122.13 663.508 124.654 663.508 Q129.052 663.508 131.343 661.772 Q133.658 660.035 133.658 656.725 Q133.658 653.67 131.505 651.957 Q129.376 650.221 125.556 650.221 L121.529 650.221 L121.529 646.378 L125.742 646.378 Q129.191 646.378 131.019 645.012 Q132.848 643.623 132.848 641.031 Q132.848 638.369 130.95 636.957 Q129.075 635.522 125.556 635.522 Q123.635 635.522 121.436 635.938 Q119.237 636.355 116.598 637.235 L116.598 633.068 Q119.26 632.327 121.575 631.957 Q123.913 631.587 125.973 631.587 Q131.297 631.587 134.399 634.017 Q137.501 636.424 137.501 640.545 Q137.501 643.415 135.857 645.406 Q134.214 647.373 131.181 648.137 Z\" fill=\"#000000\" fill-rule=\"evenodd\" fill-opacity=\"1\" /><path clip-path=\"url(#clip170)\" d=\"M157.177 635.29 Q153.566 635.29 151.737 638.855 Q149.931 642.397 149.931 649.526 Q149.931 656.633 151.737 660.197 Q153.566 663.739 157.177 663.739 Q160.811 663.739 162.616 660.197 Q164.445 656.633 164.445 649.526 Q164.445 642.397 162.616 638.855 Q160.811 635.29 157.177 635.29 M157.177 631.587 Q162.987 631.587 166.042 636.193 Q169.121 640.776 169.121 649.526 Q169.121 658.253 166.042 662.859 Q162.987 667.443 157.177 667.443 Q151.366 667.443 148.288 662.859 Q145.232 658.253 145.232 649.526 Q145.232 640.776 148.288 636.193 Q151.366 631.587 157.177 631.587 Z\" fill=\"#000000\" fill-rule=\"evenodd\" fill-opacity=\"1\" /><path clip-path=\"url(#clip170)\" d=\"M129.862 391.37 L118.056 409.819 L129.862 409.819 L129.862 391.37 M128.635 387.296 L134.515 387.296 L134.515 409.819 L139.445 409.819 L139.445 413.708 L134.515 413.708 L134.515 421.856 L129.862 421.856 L129.862 413.708 L114.26 413.708 L114.26 409.194 L128.635 387.296 Z\" fill=\"#000000\" fill-rule=\"evenodd\" fill-opacity=\"1\" /><path clip-path=\"url(#clip170)\" d=\"M157.177 390.375 Q153.566 390.375 151.737 393.939 Q149.931 397.481 149.931 404.611 Q149.931 411.717 151.737 415.282 Q153.566 418.824 157.177 418.824 Q160.811 418.824 162.616 415.282 Q164.445 411.717 164.445 404.611 Q164.445 397.481 162.616 393.939 Q160.811 390.375 157.177 390.375 M157.177 386.671 Q162.987 386.671 166.042 391.277 Q169.121 395.861 169.121 404.611 Q169.121 413.337 166.042 417.944 Q162.987 422.527 157.177 422.527 Q151.366 422.527 148.288 417.944 Q145.232 413.337 145.232 404.611 Q145.232 395.861 148.288 391.277 Q151.366 386.671 157.177 386.671 Z\" fill=\"#000000\" fill-rule=\"evenodd\" fill-opacity=\"1\" /><path clip-path=\"url(#clip170)\" d=\"M117.061 142.38 L135.417 142.38 L135.417 146.316 L121.343 146.316 L121.343 154.788 Q122.362 154.44 123.38 154.278 Q124.399 154.093 125.418 154.093 Q131.205 154.093 134.584 157.265 Q137.964 160.436 137.964 165.852 Q137.964 171.431 134.492 174.533 Q131.019 177.612 124.7 177.612 Q122.524 177.612 120.255 177.241 Q118.01 176.871 115.603 176.13 L115.603 171.431 Q117.686 172.565 119.908 173.121 Q122.13 173.676 124.607 173.676 Q128.612 173.676 130.95 171.57 Q133.288 169.464 133.288 165.852 Q133.288 162.241 130.95 160.135 Q128.612 158.028 124.607 158.028 Q122.732 158.028 120.857 158.445 Q119.006 158.862 117.061 159.741 L117.061 142.38 Z\" fill=\"#000000\" fill-rule=\"evenodd\" fill-opacity=\"1\" /><path clip-path=\"url(#clip170)\" d=\"M157.177 145.459 Q153.566 145.459 151.737 149.024 Q149.931 152.565 149.931 159.695 Q149.931 166.802 151.737 170.366 Q153.566 173.908 157.177 173.908 Q160.811 173.908 162.616 170.366 Q164.445 166.802 164.445 159.695 Q164.445 152.565 162.616 149.024 Q160.811 145.459 157.177 145.459 M157.177 141.755 Q162.987 141.755 166.042 146.362 Q169.121 150.945 169.121 159.695 Q169.121 168.422 166.042 173.028 Q162.987 177.612 157.177 177.612 Q151.366 177.612 148.288 173.028 Q145.232 168.422 145.232 159.695 Q145.232 150.945 148.288 146.362 Q151.366 141.755 157.177 141.755 Z\" fill=\"#000000\" fill-rule=\"evenodd\" fill-opacity=\"1\" /><path clip-path=\"url(#clip170)\" d=\"M16.4842 907.166 L16.4842 879.857 L21.895 879.857 L21.895 900.736 L35.8996 900.736 L35.8996 881.894 L41.3104 881.894 L41.3104 900.736 L64.0042 900.736 L64.0042 907.166 L16.4842 907.166 Z\" fill=\"#000000\" fill-rule=\"evenodd\" fill-opacity=\"1\" /><path clip-path=\"url(#clip170)\" d=\"M33.8307 854.012 Q33.2578 854.999 33.0032 856.176 Q32.7167 857.322 32.7167 858.723 Q32.7167 863.688 35.9632 866.361 Q39.1779 869.003 45.2253 869.003 L64.0042 869.003 L64.0042 874.891 L28.3562 874.891 L28.3562 869.003 L33.8944 869.003 Q30.6479 867.157 29.0883 864.197 Q27.4968 861.237 27.4968 857.004 Q27.4968 856.399 27.5923 855.667 Q27.656 854.935 27.8151 854.044 L33.8307 854.012 Z\" fill=\"#000000\" fill-rule=\"evenodd\" fill-opacity=\"1\" /><path clip-path=\"url(#clip170)\" d=\"M44.7161 818.81 L47.5806 818.81 L47.5806 845.737 Q53.6281 845.355 56.8109 842.108 Q59.9619 838.83 59.9619 833.005 Q59.9619 829.631 59.1344 826.48 Q58.3069 823.297 56.6518 820.178 L62.1899 820.178 Q63.5267 823.329 64.227 826.639 Q64.9272 829.95 64.9272 833.355 Q64.9272 841.885 59.9619 846.882 Q54.9967 851.848 46.5303 851.848 Q37.7774 851.848 32.6531 847.137 Q27.4968 842.395 27.4968 834.374 Q27.4968 827.181 32.1438 823.011 Q36.7589 818.81 44.7161 818.81 M42.9973 824.666 Q38.1912 824.73 35.3266 827.371 Q32.4621 829.981 32.4621 834.31 Q32.4621 839.212 35.2312 842.172 Q38.0002 845.1 43.0292 845.546 L42.9973 824.666 Z\" fill=\"#000000\" fill-rule=\"evenodd\" fill-opacity=\"1\" /><path clip-path=\"url(#clip170)\" d=\"M46.212 805.696 Q52.6732 805.696 56.3653 803.054 Q60.0256 800.381 60.0256 795.734 Q60.0256 791.087 56.3653 788.413 Q52.6732 785.74 46.212 785.74 Q39.7508 785.74 36.0905 788.413 Q32.3984 791.087 32.3984 795.734 Q32.3984 800.381 36.0905 803.054 Q39.7508 805.696 46.212 805.696 M58.657 785.74 Q61.8398 787.586 63.3994 790.419 Q64.9272 793.219 64.9272 797.166 Q64.9272 803.627 59.771 807.701 Q54.6147 811.744 46.212 811.744 Q37.8093 811.744 32.6531 807.701 Q27.4968 803.627 27.4968 797.166 Q27.4968 793.219 29.0564 790.419 Q30.5842 787.586 33.7671 785.74 L28.3562 785.74 L28.3562 779.883 L77.5631 779.883 L77.5631 785.74 L58.657 785.74 Z\" fill=\"#000000\" fill-rule=\"evenodd\" fill-opacity=\"1\" /><path clip-path=\"url(#clip170)\" d=\"M49.9359 768.425 L28.3562 768.425 L28.3562 762.569 L49.7131 762.569 Q54.7739 762.569 57.3202 760.595 Q59.8346 758.622 59.8346 754.675 Q59.8346 749.933 56.8109 747.195 Q53.7872 744.426 48.5673 744.426 L28.3562 744.426 L28.3562 738.57 L64.0042 738.57 L64.0042 744.426 L58.5296 744.426 Q61.7762 746.559 63.3676 749.392 Q64.9272 752.192 64.9272 755.916 Q64.9272 762.059 61.1078 765.242 Q57.2883 768.425 49.9359 768.425 M27.4968 753.688 L27.4968 753.688 Z\" fill=\"#000000\" fill-rule=\"evenodd\" fill-opacity=\"1\" /><path clip-path=\"url(#clip170)\" d=\"M44.7161 696.015 L47.5806 696.015 L47.5806 722.942 Q53.6281 722.56 56.8109 719.314 Q59.9619 716.035 59.9619 710.211 Q59.9619 706.837 59.1344 703.686 Q58.3069 700.503 56.6518 697.384 L62.1899 697.384 Q63.5267 700.535 64.227 703.845 Q64.9272 707.155 64.9272 710.561 Q64.9272 719.091 59.9619 724.088 Q54.9967 729.053 46.5303 729.053 Q37.7774 729.053 32.6531 724.343 Q27.4968 719.6 27.4968 711.579 Q27.4968 704.386 32.1438 700.216 Q36.7589 696.015 44.7161 696.015 M42.9973 701.872 Q38.1912 701.935 35.3266 704.577 Q32.4621 707.187 32.4621 711.516 Q32.4621 716.417 35.2312 719.377 Q38.0002 722.305 43.0292 722.751 L42.9973 701.872 M11.869 714.285 L11.869 709.574 L23.8365 701.776 L23.8365 706.2 L16.0386 711.929 L23.8365 717.659 L23.8365 722.083 L11.869 714.285 Z\" fill=\"#000000\" fill-rule=\"evenodd\" fill-opacity=\"1\" /><path clip-path=\"url(#clip170)\" d=\"M42.4881 656.771 L64.0042 656.771 L64.0042 662.627 L42.679 662.627 Q37.6183 662.627 35.1038 664.6 Q32.5894 666.574 32.5894 670.52 Q32.5894 675.263 35.6131 678 Q38.6368 680.737 43.8567 680.737 L64.0042 680.737 L64.0042 686.626 L28.3562 686.626 L28.3562 680.737 L33.8944 680.737 Q30.6797 678.637 29.0883 675.804 Q27.4968 672.939 27.4968 669.216 Q27.4968 663.073 31.3163 659.922 Q35.1038 656.771 42.4881 656.771 Z\" fill=\"#000000\" fill-rule=\"evenodd\" fill-opacity=\"1\" /><path clip-path=\"url(#clip170)\" d=\"M29.7248 619.436 L35.1993 619.436 Q33.8307 621.918 33.1623 624.433 Q32.4621 626.915 32.4621 629.462 Q32.4621 635.159 36.0905 638.31 Q39.6872 641.461 46.212 641.461 Q52.7369 641.461 56.3653 638.31 Q59.9619 635.159 59.9619 629.462 Q59.9619 626.915 59.2935 624.433 Q58.5933 621.918 57.2247 619.436 L62.6355 619.436 Q63.7814 621.886 64.3543 624.528 Q64.9272 627.138 64.9272 630.098 Q64.9272 638.151 59.8664 642.893 Q54.8057 647.636 46.212 647.636 Q37.491 647.636 32.4939 642.861 Q27.4968 638.055 27.4968 629.716 Q27.4968 627.011 28.0697 624.433 Q28.6108 621.855 29.7248 619.436 Z\" fill=\"#000000\" fill-rule=\"evenodd\" fill-opacity=\"1\" /><path clip-path=\"url(#clip170)\" d=\"M28.3562 609.251 L28.3562 603.394 L64.0042 603.394 L64.0042 609.251 L28.3562 609.251 M14.479 609.251 L14.479 603.394 L21.895 603.394 L21.895 609.251 L14.479 609.251 Z\" fill=\"#000000\" fill-rule=\"evenodd\" fill-opacity=\"1\" /><path clip-path=\"url(#clip170)\" d=\"M46.0847 574.939 Q46.0847 582.037 47.7079 584.774 Q49.3312 587.512 53.2461 587.512 Q56.3653 587.512 58.2114 585.475 Q60.0256 583.406 60.0256 579.873 Q60.0256 575.003 56.5881 572.075 Q53.1188 569.115 47.3897 569.115 L46.0847 569.115 L46.0847 574.939 M43.6657 563.258 L64.0042 563.258 L64.0042 569.115 L58.5933 569.115 Q61.8398 571.12 63.3994 574.112 Q64.9272 577.104 64.9272 581.432 Q64.9272 586.907 61.8716 590.153 Q58.7843 593.368 53.6281 593.368 Q47.6125 593.368 44.5569 589.358 Q41.5014 585.315 41.5014 577.327 L41.5014 569.115 L40.9285 569.115 Q36.8862 569.115 34.6901 571.788 Q32.4621 574.43 32.4621 579.236 Q32.4621 582.292 33.1941 585.188 Q33.9262 588.085 35.3903 590.758 L29.9795 590.758 Q28.7381 587.543 28.1334 584.52 Q27.4968 581.496 27.4968 578.631 Q27.4968 570.897 31.5072 567.078 Q35.5176 563.258 43.6657 563.258 Z\" fill=\"#000000\" fill-rule=\"evenodd\" fill-opacity=\"1\" /><path clip-path=\"url(#clip172)\" d=\"\n",
       "M878.017 1335.26 L878.017 1384.24 L926.794 1384.24 L926.794 1335.26 L878.017 1335.26 L878.017 1335.26  Z\n",
       "  \" fill=\"#009af9\" fill-rule=\"evenodd\" fill-opacity=\"1\"/>\n",
       "<polyline clip-path=\"url(#clip172)\" style=\"stroke:#000000; stroke-linecap:butt; stroke-linejoin:round; stroke-width:4; stroke-opacity:1; fill:none\" points=\"\n",
       "  878.017,1335.26 878.017,1384.24 926.794,1384.24 926.794,1335.26 878.017,1335.26 \n",
       "  \"/>\n",
       "<path clip-path=\"url(#clip172)\" d=\"\n",
       "M926.794 1286.27 L926.794 1384.24 L975.571 1384.24 L975.571 1286.27 L926.794 1286.27 L926.794 1286.27  Z\n",
       "  \" fill=\"#009af9\" fill-rule=\"evenodd\" fill-opacity=\"1\"/>\n",
       "<polyline clip-path=\"url(#clip172)\" style=\"stroke:#000000; stroke-linecap:butt; stroke-linejoin:round; stroke-width:4; stroke-opacity:1; fill:none\" points=\"\n",
       "  926.794,1286.27 926.794,1384.24 975.571,1384.24 975.571,1286.27 926.794,1286.27 \n",
       "  \"/>\n",
       "<path clip-path=\"url(#clip172)\" d=\"\n",
       "M975.571 1041.36 L975.571 1384.24 L1024.35 1384.24 L1024.35 1041.36 L975.571 1041.36 L975.571 1041.36  Z\n",
       "  \" fill=\"#009af9\" fill-rule=\"evenodd\" fill-opacity=\"1\"/>\n",
       "<polyline clip-path=\"url(#clip172)\" style=\"stroke:#000000; stroke-linecap:butt; stroke-linejoin:round; stroke-width:4; stroke-opacity:1; fill:none\" points=\"\n",
       "  975.571,1041.36 975.571,1384.24 1024.35,1384.24 1024.35,1041.36 975.571,1041.36 \n",
       "  \"/>\n",
       "<path clip-path=\"url(#clip172)\" d=\"\n",
       "M1024.35 796.441 L1024.35 1384.24 L1073.12 1384.24 L1073.12 796.441 L1024.35 796.441 L1024.35 796.441  Z\n",
       "  \" fill=\"#009af9\" fill-rule=\"evenodd\" fill-opacity=\"1\"/>\n",
       "<polyline clip-path=\"url(#clip172)\" style=\"stroke:#000000; stroke-linecap:butt; stroke-linejoin:round; stroke-width:4; stroke-opacity:1; fill:none\" points=\"\n",
       "  1024.35,796.441 1024.35,1384.24 1073.12,1384.24 1073.12,796.441 1024.35,796.441 \n",
       "  \"/>\n",
       "<path clip-path=\"url(#clip172)\" d=\"\n",
       "M1073.12 331.101 L1073.12 1384.24 L1121.9 1384.24 L1121.9 331.101 L1073.12 331.101 L1073.12 331.101  Z\n",
       "  \" fill=\"#009af9\" fill-rule=\"evenodd\" fill-opacity=\"1\"/>\n",
       "<polyline clip-path=\"url(#clip172)\" style=\"stroke:#000000; stroke-linecap:butt; stroke-linejoin:round; stroke-width:4; stroke-opacity:1; fill:none\" points=\"\n",
       "  1073.12,331.101 1073.12,1384.24 1121.9,1384.24 1121.9,331.101 1073.12,331.101 \n",
       "  \"/>\n",
       "<path clip-path=\"url(#clip172)\" d=\"\n",
       "M1121.9 233.135 L1121.9 1384.24 L1170.68 1384.24 L1170.68 233.135 L1121.9 233.135 L1121.9 233.135  Z\n",
       "  \" fill=\"#009af9\" fill-rule=\"evenodd\" fill-opacity=\"1\"/>\n",
       "<polyline clip-path=\"url(#clip172)\" style=\"stroke:#000000; stroke-linecap:butt; stroke-linejoin:round; stroke-width:4; stroke-opacity:1; fill:none\" points=\"\n",
       "  1121.9,233.135 1121.9,1384.24 1170.68,1384.24 1170.68,233.135 1121.9,233.135 \n",
       "  \"/>\n",
       "<path clip-path=\"url(#clip172)\" d=\"\n",
       "M1170.68 159.66 L1170.68 1384.24 L1219.45 1384.24 L1219.45 159.66 L1170.68 159.66 L1170.68 159.66  Z\n",
       "  \" fill=\"#009af9\" fill-rule=\"evenodd\" fill-opacity=\"1\"/>\n",
       "<polyline clip-path=\"url(#clip172)\" style=\"stroke:#000000; stroke-linecap:butt; stroke-linejoin:round; stroke-width:4; stroke-opacity:1; fill:none\" points=\"\n",
       "  1170.68,159.66 1170.68,1384.24 1219.45,1384.24 1219.45,159.66 1170.68,159.66 \n",
       "  \"/>\n",
       "<path clip-path=\"url(#clip172)\" d=\"\n",
       "M1219.45 86.1857 L1219.45 1384.24 L1268.23 1384.24 L1268.23 86.1857 L1219.45 86.1857 L1219.45 86.1857  Z\n",
       "  \" fill=\"#009af9\" fill-rule=\"evenodd\" fill-opacity=\"1\"/>\n",
       "<polyline clip-path=\"url(#clip172)\" style=\"stroke:#000000; stroke-linecap:butt; stroke-linejoin:round; stroke-width:4; stroke-opacity:1; fill:none\" points=\"\n",
       "  1219.45,86.1857 1219.45,1384.24 1268.23,1384.24 1268.23,86.1857 1219.45,86.1857 \n",
       "  \"/>\n",
       "<path clip-path=\"url(#clip172)\" d=\"\n",
       "M1268.23 282.118 L1268.23 1384.24 L1317.01 1384.24 L1317.01 282.118 L1268.23 282.118 L1268.23 282.118  Z\n",
       "  \" fill=\"#009af9\" fill-rule=\"evenodd\" fill-opacity=\"1\"/>\n",
       "<polyline clip-path=\"url(#clip172)\" style=\"stroke:#000000; stroke-linecap:butt; stroke-linejoin:round; stroke-width:4; stroke-opacity:1; fill:none\" points=\"\n",
       "  1268.23,282.118 1268.23,1384.24 1317.01,1384.24 1317.01,282.118 1268.23,282.118 \n",
       "  \"/>\n",
       "<path clip-path=\"url(#clip172)\" d=\"\n",
       "M1317.01 649.492 L1317.01 1384.24 L1365.78 1384.24 L1365.78 649.492 L1317.01 649.492 L1317.01 649.492  Z\n",
       "  \" fill=\"#009af9\" fill-rule=\"evenodd\" fill-opacity=\"1\"/>\n",
       "<polyline clip-path=\"url(#clip172)\" style=\"stroke:#000000; stroke-linecap:butt; stroke-linejoin:round; stroke-width:4; stroke-opacity:1; fill:none\" points=\"\n",
       "  1317.01,649.492 1317.01,1384.24 1365.78,1384.24 1365.78,649.492 1317.01,649.492 \n",
       "  \"/>\n",
       "<path clip-path=\"url(#clip172)\" d=\"\n",
       "M1365.78 747.458 L1365.78 1384.24 L1414.56 1384.24 L1414.56 747.458 L1365.78 747.458 L1365.78 747.458  Z\n",
       "  \" fill=\"#009af9\" fill-rule=\"evenodd\" fill-opacity=\"1\"/>\n",
       "<polyline clip-path=\"url(#clip172)\" style=\"stroke:#000000; stroke-linecap:butt; stroke-linejoin:round; stroke-width:4; stroke-opacity:1; fill:none\" points=\"\n",
       "  1365.78,747.458 1365.78,1384.24 1414.56,1384.24 1414.56,747.458 1365.78,747.458 \n",
       "  \"/>\n",
       "<path clip-path=\"url(#clip172)\" d=\"\n",
       "M1414.56 967.882 L1414.56 1384.24 L1463.34 1384.24 L1463.34 967.882 L1414.56 967.882 L1414.56 967.882  Z\n",
       "  \" fill=\"#009af9\" fill-rule=\"evenodd\" fill-opacity=\"1\"/>\n",
       "<polyline clip-path=\"url(#clip172)\" style=\"stroke:#000000; stroke-linecap:butt; stroke-linejoin:round; stroke-width:4; stroke-opacity:1; fill:none\" points=\"\n",
       "  1414.56,967.882 1414.56,1384.24 1463.34,1384.24 1463.34,967.882 1414.56,967.882 \n",
       "  \"/>\n",
       "<path clip-path=\"url(#clip172)\" d=\"\n",
       "M1463.34 1139.32 L1463.34 1384.24 L1512.11 1384.24 L1512.11 1139.32 L1463.34 1139.32 L1463.34 1139.32  Z\n",
       "  \" fill=\"#009af9\" fill-rule=\"evenodd\" fill-opacity=\"1\"/>\n",
       "<polyline clip-path=\"url(#clip172)\" style=\"stroke:#000000; stroke-linecap:butt; stroke-linejoin:round; stroke-width:4; stroke-opacity:1; fill:none\" points=\"\n",
       "  1463.34,1139.32 1463.34,1384.24 1512.11,1384.24 1512.11,1139.32 1463.34,1139.32 \n",
       "  \"/>\n",
       "<path clip-path=\"url(#clip172)\" d=\"\n",
       "M1512.11 1212.8 L1512.11 1384.24 L1560.89 1384.24 L1560.89 1212.8 L1512.11 1212.8 L1512.11 1212.8  Z\n",
       "  \" fill=\"#009af9\" fill-rule=\"evenodd\" fill-opacity=\"1\"/>\n",
       "<polyline clip-path=\"url(#clip172)\" style=\"stroke:#000000; stroke-linecap:butt; stroke-linejoin:round; stroke-width:4; stroke-opacity:1; fill:none\" points=\"\n",
       "  1512.11,1212.8 1512.11,1384.24 1560.89,1384.24 1560.89,1212.8 1512.11,1212.8 \n",
       "  \"/>\n",
       "<path clip-path=\"url(#clip172)\" d=\"\n",
       "M1560.89 1310.76 L1560.89 1384.24 L1609.67 1384.24 L1609.67 1310.76 L1560.89 1310.76 L1560.89 1310.76  Z\n",
       "  \" fill=\"#009af9\" fill-rule=\"evenodd\" fill-opacity=\"1\"/>\n",
       "<polyline clip-path=\"url(#clip172)\" style=\"stroke:#000000; stroke-linecap:butt; stroke-linejoin:round; stroke-width:4; stroke-opacity:1; fill:none\" points=\"\n",
       "  1560.89,1310.76 1560.89,1384.24 1609.67,1384.24 1609.67,1310.76 1560.89,1310.76 \n",
       "  \"/>\n",
       "<path clip-path=\"url(#clip172)\" d=\"\n",
       "M1609.67 1310.76 L1609.67 1384.24 L1658.44 1384.24 L1658.44 1310.76 L1609.67 1310.76 L1609.67 1310.76  Z\n",
       "  \" fill=\"#009af9\" fill-rule=\"evenodd\" fill-opacity=\"1\"/>\n",
       "<polyline clip-path=\"url(#clip172)\" style=\"stroke:#000000; stroke-linecap:butt; stroke-linejoin:round; stroke-width:4; stroke-opacity:1; fill:none\" points=\"\n",
       "  1609.67,1310.76 1609.67,1384.24 1658.44,1384.24 1658.44,1310.76 1609.67,1310.76 \n",
       "  \"/>\n",
       "<path clip-path=\"url(#clip172)\" d=\"\n",
       "M1658.44 1286.27 L1658.44 1384.24 L1707.22 1384.24 L1707.22 1286.27 L1658.44 1286.27 L1658.44 1286.27  Z\n",
       "  \" fill=\"#009af9\" fill-rule=\"evenodd\" fill-opacity=\"1\"/>\n",
       "<polyline clip-path=\"url(#clip172)\" style=\"stroke:#000000; stroke-linecap:butt; stroke-linejoin:round; stroke-width:4; stroke-opacity:1; fill:none\" points=\"\n",
       "  1658.44,1286.27 1658.44,1384.24 1707.22,1384.24 1707.22,1286.27 1658.44,1286.27 \n",
       "  \"/>\n",
       "<path clip-path=\"url(#clip172)\" d=\"\n",
       "M1707.22 1384.24 L1707.22 1384.24 L1756 1384.24 L1756 1384.24 L1707.22 1384.24 L1707.22 1384.24  Z\n",
       "  \" fill=\"#009af9\" fill-rule=\"evenodd\" fill-opacity=\"1\"/>\n",
       "<polyline clip-path=\"url(#clip172)\" style=\"stroke:#000000; stroke-linecap:butt; stroke-linejoin:round; stroke-width:4; stroke-opacity:1; fill:none\" points=\"\n",
       "  1707.22,1384.24 1707.22,1384.24 1756,1384.24 1707.22,1384.24 \n",
       "  \"/>\n",
       "<path clip-path=\"url(#clip172)\" d=\"\n",
       "M1756 1359.75 L1756 1384.24 L1804.77 1384.24 L1804.77 1359.75 L1756 1359.75 L1756 1359.75  Z\n",
       "  \" fill=\"#009af9\" fill-rule=\"evenodd\" fill-opacity=\"1\"/>\n",
       "<polyline clip-path=\"url(#clip172)\" style=\"stroke:#000000; stroke-linecap:butt; stroke-linejoin:round; stroke-width:4; stroke-opacity:1; fill:none\" points=\"\n",
       "  1756,1359.75 1756,1384.24 1804.77,1384.24 1804.77,1359.75 1756,1359.75 \n",
       "  \"/>\n",
       "<path clip-path=\"url(#clip172)\" d=\"\n",
       "M1804.77 1359.75 L1804.77 1384.24 L1853.55 1384.24 L1853.55 1359.75 L1804.77 1359.75 L1804.77 1359.75  Z\n",
       "  \" fill=\"#009af9\" fill-rule=\"evenodd\" fill-opacity=\"1\"/>\n",
       "<polyline clip-path=\"url(#clip172)\" style=\"stroke:#000000; stroke-linecap:butt; stroke-linejoin:round; stroke-width:4; stroke-opacity:1; fill:none\" points=\"\n",
       "  1804.77,1359.75 1804.77,1384.24 1853.55,1384.24 1853.55,1359.75 1804.77,1359.75 \n",
       "  \"/>\n",
       "<path clip-path=\"url(#clip172)\" d=\"\n",
       "M1853.55 1359.75 L1853.55 1384.24 L1902.33 1384.24 L1902.33 1359.75 L1853.55 1359.75 L1853.55 1359.75  Z\n",
       "  \" fill=\"#009af9\" fill-rule=\"evenodd\" fill-opacity=\"1\"/>\n",
       "<polyline clip-path=\"url(#clip172)\" style=\"stroke:#000000; stroke-linecap:butt; stroke-linejoin:round; stroke-width:4; stroke-opacity:1; fill:none\" points=\"\n",
       "  1853.55,1359.75 1853.55,1384.24 1902.33,1384.24 1902.33,1359.75 1853.55,1359.75 \n",
       "  \"/>\n",
       "<path clip-path=\"url(#clip172)\" d=\"\n",
       "M1902.33 1359.75 L1902.33 1384.24 L1951.1 1384.24 L1951.1 1359.75 L1902.33 1359.75 L1902.33 1359.75  Z\n",
       "  \" fill=\"#009af9\" fill-rule=\"evenodd\" fill-opacity=\"1\"/>\n",
       "<polyline clip-path=\"url(#clip172)\" style=\"stroke:#000000; stroke-linecap:butt; stroke-linejoin:round; stroke-width:4; stroke-opacity:1; fill:none\" points=\"\n",
       "  1902.33,1359.75 1902.33,1384.24 1951.1,1384.24 1951.1,1359.75 1902.33,1359.75 \n",
       "  \"/>\n",
       "<path clip-path=\"url(#clip172)\" d=\"\n",
       "M1951.1 1359.75 L1951.1 1384.24 L1999.88 1384.24 L1999.88 1359.75 L1951.1 1359.75 L1951.1 1359.75  Z\n",
       "  \" fill=\"#009af9\" fill-rule=\"evenodd\" fill-opacity=\"1\"/>\n",
       "<polyline clip-path=\"url(#clip172)\" style=\"stroke:#000000; stroke-linecap:butt; stroke-linejoin:round; stroke-width:4; stroke-opacity:1; fill:none\" points=\"\n",
       "  1951.1,1359.75 1951.1,1384.24 1999.88,1384.24 1999.88,1359.75 1951.1,1359.75 \n",
       "  \"/>\n",
       "<path clip-path=\"url(#clip172)\" d=\"\n",
       "M1999.88 1384.24 L1999.88 1384.24 L2048.66 1384.24 L2048.66 1384.24 L1999.88 1384.24 L1999.88 1384.24  Z\n",
       "  \" fill=\"#009af9\" fill-rule=\"evenodd\" fill-opacity=\"1\"/>\n",
       "<polyline clip-path=\"url(#clip172)\" style=\"stroke:#000000; stroke-linecap:butt; stroke-linejoin:round; stroke-width:4; stroke-opacity:1; fill:none\" points=\"\n",
       "  1999.88,1384.24 1999.88,1384.24 2048.66,1384.24 1999.88,1384.24 \n",
       "  \"/>\n",
       "<path clip-path=\"url(#clip172)\" d=\"\n",
       "M2048.66 1359.75 L2048.66 1384.24 L2097.43 1384.24 L2097.43 1359.75 L2048.66 1359.75 L2048.66 1359.75  Z\n",
       "  \" fill=\"#009af9\" fill-rule=\"evenodd\" fill-opacity=\"1\"/>\n",
       "<polyline clip-path=\"url(#clip172)\" style=\"stroke:#000000; stroke-linecap:butt; stroke-linejoin:round; stroke-width:4; stroke-opacity:1; fill:none\" points=\"\n",
       "  2048.66,1359.75 2048.66,1384.24 2097.43,1384.24 2097.43,1359.75 2048.66,1359.75 \n",
       "  \"/>\n",
       "<path clip-path=\"url(#clip172)\" d=\"\n",
       "M2097.43 1384.24 L2097.43 1384.24 L2146.21 1384.24 L2146.21 1384.24 L2097.43 1384.24 L2097.43 1384.24  Z\n",
       "  \" fill=\"#009af9\" fill-rule=\"evenodd\" fill-opacity=\"1\"/>\n",
       "<polyline clip-path=\"url(#clip172)\" style=\"stroke:#000000; stroke-linecap:butt; stroke-linejoin:round; stroke-width:4; stroke-opacity:1; fill:none\" points=\"\n",
       "  2097.43,1384.24 2097.43,1384.24 2146.21,1384.24 2097.43,1384.24 \n",
       "  \"/>\n",
       "<path clip-path=\"url(#clip172)\" d=\"\n",
       "M2146.21 1384.24 L2146.21 1384.24 L2194.99 1384.24 L2194.99 1384.24 L2146.21 1384.24 L2146.21 1384.24  Z\n",
       "  \" fill=\"#009af9\" fill-rule=\"evenodd\" fill-opacity=\"1\"/>\n",
       "<polyline clip-path=\"url(#clip172)\" style=\"stroke:#000000; stroke-linecap:butt; stroke-linejoin:round; stroke-width:4; stroke-opacity:1; fill:none\" points=\"\n",
       "  2146.21,1384.24 2146.21,1384.24 2194.99,1384.24 2146.21,1384.24 \n",
       "  \"/>\n",
       "<path clip-path=\"url(#clip172)\" d=\"\n",
       "M2194.99 1359.75 L2194.99 1384.24 L2243.76 1384.24 L2243.76 1359.75 L2194.99 1359.75 L2194.99 1359.75  Z\n",
       "  \" fill=\"#009af9\" fill-rule=\"evenodd\" fill-opacity=\"1\"/>\n",
       "<polyline clip-path=\"url(#clip172)\" style=\"stroke:#000000; stroke-linecap:butt; stroke-linejoin:round; stroke-width:4; stroke-opacity:1; fill:none\" points=\"\n",
       "  2194.99,1359.75 2194.99,1384.24 2243.76,1384.24 2243.76,1359.75 2194.99,1359.75 \n",
       "  \"/>\n",
       "<path clip-path=\"url(#clip172)\" d=\"\n",
       "M2243.76 1359.75 L2243.76 1384.24 L2292.54 1384.24 L2292.54 1359.75 L2243.76 1359.75 L2243.76 1359.75  Z\n",
       "  \" fill=\"#009af9\" fill-rule=\"evenodd\" fill-opacity=\"1\"/>\n",
       "<polyline clip-path=\"url(#clip172)\" style=\"stroke:#000000; stroke-linecap:butt; stroke-linejoin:round; stroke-width:4; stroke-opacity:1; fill:none\" points=\"\n",
       "  2243.76,1359.75 2243.76,1384.24 2292.54,1384.24 2292.54,1359.75 2243.76,1359.75 \n",
       "  \"/>\n",
       "<path clip-path=\"url(#clip172)\" d=\"\n",
       "M2292.54 1359.75 L2292.54 1384.24 L2341.32 1384.24 L2341.32 1359.75 L2292.54 1359.75 L2292.54 1359.75  Z\n",
       "  \" fill=\"#009af9\" fill-rule=\"evenodd\" fill-opacity=\"1\"/>\n",
       "<polyline clip-path=\"url(#clip172)\" style=\"stroke:#000000; stroke-linecap:butt; stroke-linejoin:round; stroke-width:4; stroke-opacity:1; fill:none\" points=\"\n",
       "  2292.54,1359.75 2292.54,1384.24 2341.32,1384.24 2341.32,1359.75 2292.54,1359.75 \n",
       "  \"/>\n",
       "<path clip-path=\"url(#clip172)\" d=\"\n",
       "M2341.32 1359.75 L2341.32 1384.24 L2390.09 1384.24 L2390.09 1359.75 L2341.32 1359.75 L2341.32 1359.75  Z\n",
       "  \" fill=\"#009af9\" fill-rule=\"evenodd\" fill-opacity=\"1\"/>\n",
       "<polyline clip-path=\"url(#clip172)\" style=\"stroke:#000000; stroke-linecap:butt; stroke-linejoin:round; stroke-width:4; stroke-opacity:1; fill:none\" points=\"\n",
       "  2341.32,1359.75 2341.32,1384.24 2390.09,1384.24 2390.09,1359.75 2341.32,1359.75 \n",
       "  \"/>\n",
       "<path clip-path=\"url(#clip172)\" d=\"\n",
       "M2390.09 1384.24 L2390.09 1384.24 L2438.87 1384.24 L2438.87 1384.24 L2390.09 1384.24 L2390.09 1384.24  Z\n",
       "  \" fill=\"#009af9\" fill-rule=\"evenodd\" fill-opacity=\"1\"/>\n",
       "<polyline clip-path=\"url(#clip172)\" style=\"stroke:#000000; stroke-linecap:butt; stroke-linejoin:round; stroke-width:4; stroke-opacity:1; fill:none\" points=\"\n",
       "  2390.09,1384.24 2390.09,1384.24 2438.87,1384.24 2390.09,1384.24 \n",
       "  \"/>\n",
       "<path clip-path=\"url(#clip172)\" d=\"\n",
       "M2438.87 1384.24 L2438.87 1384.24 L2487.65 1384.24 L2487.65 1384.24 L2438.87 1384.24 L2438.87 1384.24  Z\n",
       "  \" fill=\"#009af9\" fill-rule=\"evenodd\" fill-opacity=\"1\"/>\n",
       "<polyline clip-path=\"url(#clip172)\" style=\"stroke:#000000; stroke-linecap:butt; stroke-linejoin:round; stroke-width:4; stroke-opacity:1; fill:none\" points=\"\n",
       "  2438.87,1384.24 2438.87,1384.24 2487.65,1384.24 2438.87,1384.24 \n",
       "  \"/>\n",
       "<path clip-path=\"url(#clip172)\" d=\"\n",
       "M2487.65 1384.24 L2487.65 1384.24 L2536.42 1384.24 L2536.42 1384.24 L2487.65 1384.24 L2487.65 1384.24  Z\n",
       "  \" fill=\"#009af9\" fill-rule=\"evenodd\" fill-opacity=\"1\"/>\n",
       "<polyline clip-path=\"url(#clip172)\" style=\"stroke:#000000; stroke-linecap:butt; stroke-linejoin:round; stroke-width:4; stroke-opacity:1; fill:none\" points=\"\n",
       "  2487.65,1384.24 2487.65,1384.24 2536.42,1384.24 2487.65,1384.24 \n",
       "  \"/>\n",
       "<path clip-path=\"url(#clip172)\" d=\"\n",
       "M2536.42 1384.24 L2536.42 1384.24 L2585.2 1384.24 L2585.2 1384.24 L2536.42 1384.24 L2536.42 1384.24  Z\n",
       "  \" fill=\"#009af9\" fill-rule=\"evenodd\" fill-opacity=\"1\"/>\n",
       "<polyline clip-path=\"url(#clip172)\" style=\"stroke:#000000; stroke-linecap:butt; stroke-linejoin:round; stroke-width:4; stroke-opacity:1; fill:none\" points=\"\n",
       "  2536.42,1384.24 2536.42,1384.24 2585.2,1384.24 2536.42,1384.24 \n",
       "  \"/>\n",
       "<path clip-path=\"url(#clip172)\" d=\"\n",
       "M2585.2 1384.24 L2585.2 1384.24 L2633.98 1384.24 L2633.98 1384.24 L2585.2 1384.24 L2585.2 1384.24  Z\n",
       "  \" fill=\"#009af9\" fill-rule=\"evenodd\" fill-opacity=\"1\"/>\n",
       "<polyline clip-path=\"url(#clip172)\" style=\"stroke:#000000; stroke-linecap:butt; stroke-linejoin:round; stroke-width:4; stroke-opacity:1; fill:none\" points=\"\n",
       "  2585.2,1384.24 2585.2,1384.24 2633.98,1384.24 2585.2,1384.24 \n",
       "  \"/>\n",
       "<path clip-path=\"url(#clip172)\" d=\"\n",
       "M2633.98 1384.24 L2633.98 1384.24 L2682.75 1384.24 L2682.75 1384.24 L2633.98 1384.24 L2633.98 1384.24  Z\n",
       "  \" fill=\"#009af9\" fill-rule=\"evenodd\" fill-opacity=\"1\"/>\n",
       "<polyline clip-path=\"url(#clip172)\" style=\"stroke:#000000; stroke-linecap:butt; stroke-linejoin:round; stroke-width:4; stroke-opacity:1; fill:none\" points=\"\n",
       "  2633.98,1384.24 2633.98,1384.24 2682.75,1384.24 2633.98,1384.24 \n",
       "  \"/>\n",
       "<path clip-path=\"url(#clip172)\" d=\"\n",
       "M2682.75 1335.26 L2682.75 1384.24 L2731.53 1384.24 L2731.53 1335.26 L2682.75 1335.26 L2682.75 1335.26  Z\n",
       "  \" fill=\"#009af9\" fill-rule=\"evenodd\" fill-opacity=\"1\"/>\n",
       "<polyline clip-path=\"url(#clip172)\" style=\"stroke:#000000; stroke-linecap:butt; stroke-linejoin:round; stroke-width:4; stroke-opacity:1; fill:none\" points=\"\n",
       "  2682.75,1335.26 2682.75,1384.24 2731.53,1384.24 2731.53,1335.26 2682.75,1335.26 \n",
       "  \"/>\n",
       "<path clip-path=\"url(#clip172)\" d=\"\n",
       "M2731.53 1384.24 L2731.53 1384.24 L2780.31 1384.24 L2780.31 1384.24 L2731.53 1384.24 L2731.53 1384.24  Z\n",
       "  \" fill=\"#009af9\" fill-rule=\"evenodd\" fill-opacity=\"1\"/>\n",
       "<polyline clip-path=\"url(#clip172)\" style=\"stroke:#000000; stroke-linecap:butt; stroke-linejoin:round; stroke-width:4; stroke-opacity:1; fill:none\" points=\"\n",
       "  2731.53,1384.24 2731.53,1384.24 2780.31,1384.24 2731.53,1384.24 \n",
       "  \"/>\n",
       "<path clip-path=\"url(#clip172)\" d=\"\n",
       "M2780.31 1384.24 L2780.31 1384.24 L2829.08 1384.24 L2829.08 1384.24 L2780.31 1384.24 L2780.31 1384.24  Z\n",
       "  \" fill=\"#009af9\" fill-rule=\"evenodd\" fill-opacity=\"1\"/>\n",
       "<polyline clip-path=\"url(#clip172)\" style=\"stroke:#000000; stroke-linecap:butt; stroke-linejoin:round; stroke-width:4; stroke-opacity:1; fill:none\" points=\"\n",
       "  2780.31,1384.24 2780.31,1384.24 2829.08,1384.24 2780.31,1384.24 \n",
       "  \"/>\n",
       "<path clip-path=\"url(#clip172)\" d=\"\n",
       "M2829.08 1384.24 L2829.08 1384.24 L2877.86 1384.24 L2877.86 1384.24 L2829.08 1384.24 L2829.08 1384.24  Z\n",
       "  \" fill=\"#009af9\" fill-rule=\"evenodd\" fill-opacity=\"1\"/>\n",
       "<polyline clip-path=\"url(#clip172)\" style=\"stroke:#000000; stroke-linecap:butt; stroke-linejoin:round; stroke-width:4; stroke-opacity:1; fill:none\" points=\"\n",
       "  2829.08,1384.24 2829.08,1384.24 2877.86,1384.24 2829.08,1384.24 \n",
       "  \"/>\n",
       "<path clip-path=\"url(#clip172)\" d=\"\n",
       "M2877.86 1384.24 L2877.86 1384.24 L2926.64 1384.24 L2926.64 1384.24 L2877.86 1384.24 L2877.86 1384.24  Z\n",
       "  \" fill=\"#009af9\" fill-rule=\"evenodd\" fill-opacity=\"1\"/>\n",
       "<polyline clip-path=\"url(#clip172)\" style=\"stroke:#000000; stroke-linecap:butt; stroke-linejoin:round; stroke-width:4; stroke-opacity:1; fill:none\" points=\"\n",
       "  2877.86,1384.24 2877.86,1384.24 2926.64,1384.24 2877.86,1384.24 \n",
       "  \"/>\n",
       "<path clip-path=\"url(#clip172)\" d=\"\n",
       "M2926.64 1384.24 L2926.64 1384.24 L2975.41 1384.24 L2975.41 1384.24 L2926.64 1384.24 L2926.64 1384.24  Z\n",
       "  \" fill=\"#009af9\" fill-rule=\"evenodd\" fill-opacity=\"1\"/>\n",
       "<polyline clip-path=\"url(#clip172)\" style=\"stroke:#000000; stroke-linecap:butt; stroke-linejoin:round; stroke-width:4; stroke-opacity:1; fill:none\" points=\"\n",
       "  2926.64,1384.24 2926.64,1384.24 2975.41,1384.24 2926.64,1384.24 \n",
       "  \"/>\n",
       "<path clip-path=\"url(#clip172)\" d=\"\n",
       "M2975.41 1384.24 L2975.41 1384.24 L3024.19 1384.24 L3024.19 1384.24 L2975.41 1384.24 L2975.41 1384.24  Z\n",
       "  \" fill=\"#009af9\" fill-rule=\"evenodd\" fill-opacity=\"1\"/>\n",
       "<polyline clip-path=\"url(#clip172)\" style=\"stroke:#000000; stroke-linecap:butt; stroke-linejoin:round; stroke-width:4; stroke-opacity:1; fill:none\" points=\"\n",
       "  2975.41,1384.24 2975.41,1384.24 3024.19,1384.24 2975.41,1384.24 \n",
       "  \"/>\n",
       "<path clip-path=\"url(#clip172)\" d=\"\n",
       "M3024.19 1310.76 L3024.19 1384.24 L3072.97 1384.24 L3072.97 1310.76 L3024.19 1310.76 L3024.19 1310.76  Z\n",
       "  \" fill=\"#009af9\" fill-rule=\"evenodd\" fill-opacity=\"1\"/>\n",
       "<polyline clip-path=\"url(#clip172)\" style=\"stroke:#000000; stroke-linecap:butt; stroke-linejoin:round; stroke-width:4; stroke-opacity:1; fill:none\" points=\"\n",
       "  3024.19,1310.76 3024.19,1384.24 3072.97,1384.24 3072.97,1310.76 3024.19,1310.76 \n",
       "  \"/>\n",
       "<path clip-path=\"url(#clip172)\" d=\"\n",
       "M3072.97 1384.24 L3072.97 1384.24 L3121.74 1384.24 L3121.74 1384.24 L3072.97 1384.24 L3072.97 1384.24  Z\n",
       "  \" fill=\"#009af9\" fill-rule=\"evenodd\" fill-opacity=\"1\"/>\n",
       "<polyline clip-path=\"url(#clip172)\" style=\"stroke:#000000; stroke-linecap:butt; stroke-linejoin:round; stroke-width:4; stroke-opacity:1; fill:none\" points=\"\n",
       "  3072.97,1384.24 3072.97,1384.24 3121.74,1384.24 3072.97,1384.24 \n",
       "  \"/>\n",
       "<path clip-path=\"url(#clip172)\" d=\"\n",
       "M3121.74 1359.75 L3121.74 1384.24 L3170.52 1384.24 L3170.52 1359.75 L3121.74 1359.75 L3121.74 1359.75  Z\n",
       "  \" fill=\"#009af9\" fill-rule=\"evenodd\" fill-opacity=\"1\"/>\n",
       "<polyline clip-path=\"url(#clip172)\" style=\"stroke:#000000; stroke-linecap:butt; stroke-linejoin:round; stroke-width:4; stroke-opacity:1; fill:none\" points=\"\n",
       "  3121.74,1359.75 3121.74,1384.24 3170.52,1384.24 3170.52,1359.75 3121.74,1359.75 \n",
       "  \"/>\n",
       "<path clip-path=\"url(#clip172)\" d=\"\n",
       "M3170.52 1359.75 L3170.52 1384.24 L3219.3 1384.24 L3219.3 1359.75 L3170.52 1359.75 L3170.52 1359.75  Z\n",
       "  \" fill=\"#009af9\" fill-rule=\"evenodd\" fill-opacity=\"1\"/>\n",
       "<polyline clip-path=\"url(#clip172)\" style=\"stroke:#000000; stroke-linecap:butt; stroke-linejoin:round; stroke-width:4; stroke-opacity:1; fill:none\" points=\"\n",
       "  3170.52,1359.75 3170.52,1384.24 3219.3,1384.24 3219.3,1359.75 3170.52,1359.75 \n",
       "  \"/>\n",
       "<path clip-path=\"url(#clip172)\" d=\"\n",
       "M3219.3 1384.24 L3219.3 1384.24 L3268.07 1384.24 L3268.07 1384.24 L3219.3 1384.24 L3219.3 1384.24  Z\n",
       "  \" fill=\"#009af9\" fill-rule=\"evenodd\" fill-opacity=\"1\"/>\n",
       "<polyline clip-path=\"url(#clip172)\" style=\"stroke:#000000; stroke-linecap:butt; stroke-linejoin:round; stroke-width:4; stroke-opacity:1; fill:none\" points=\"\n",
       "  3219.3,1384.24 3219.3,1384.24 3268.07,1384.24 3219.3,1384.24 \n",
       "  \"/>\n",
       "<path clip-path=\"url(#clip172)\" d=\"\n",
       "M3268.07 1384.24 L3268.07 1384.24 L3316.85 1384.24 L3316.85 1384.24 L3268.07 1384.24 L3268.07 1384.24  Z\n",
       "  \" fill=\"#009af9\" fill-rule=\"evenodd\" fill-opacity=\"1\"/>\n",
       "<polyline clip-path=\"url(#clip172)\" style=\"stroke:#000000; stroke-linecap:butt; stroke-linejoin:round; stroke-width:4; stroke-opacity:1; fill:none\" points=\"\n",
       "  3268.07,1384.24 3268.07,1384.24 3316.85,1384.24 3268.07,1384.24 \n",
       "  \"/>\n",
       "<path clip-path=\"url(#clip172)\" d=\"\n",
       "M3316.85 1384.24 L3316.85 1384.24 L3365.63 1384.24 L3365.63 1384.24 L3316.85 1384.24 L3316.85 1384.24  Z\n",
       "  \" fill=\"#009af9\" fill-rule=\"evenodd\" fill-opacity=\"1\"/>\n",
       "<polyline clip-path=\"url(#clip172)\" style=\"stroke:#000000; stroke-linecap:butt; stroke-linejoin:round; stroke-width:4; stroke-opacity:1; fill:none\" points=\"\n",
       "  3316.85,1384.24 3316.85,1384.24 3365.63,1384.24 3316.85,1384.24 \n",
       "  \"/>\n",
       "<path clip-path=\"url(#clip172)\" d=\"\n",
       "M3365.63 1384.24 L3365.63 1384.24 L3414.4 1384.24 L3414.4 1384.24 L3365.63 1384.24 L3365.63 1384.24  Z\n",
       "  \" fill=\"#009af9\" fill-rule=\"evenodd\" fill-opacity=\"1\"/>\n",
       "<polyline clip-path=\"url(#clip172)\" style=\"stroke:#000000; stroke-linecap:butt; stroke-linejoin:round; stroke-width:4; stroke-opacity:1; fill:none\" points=\"\n",
       "  3365.63,1384.24 3365.63,1384.24 3414.4,1384.24 3365.63,1384.24 \n",
       "  \"/>\n",
       "<path clip-path=\"url(#clip172)\" d=\"\n",
       "M3414.4 1359.75 L3414.4 1384.24 L3463.18 1384.24 L3463.18 1359.75 L3414.4 1359.75 L3414.4 1359.75  Z\n",
       "  \" fill=\"#009af9\" fill-rule=\"evenodd\" fill-opacity=\"1\"/>\n",
       "<polyline clip-path=\"url(#clip172)\" style=\"stroke:#000000; stroke-linecap:butt; stroke-linejoin:round; stroke-width:4; stroke-opacity:1; fill:none\" points=\"\n",
       "  3414.4,1359.75 3414.4,1384.24 3463.18,1384.24 3463.18,1359.75 3414.4,1359.75 \n",
       "  \"/>\n",
       "<path clip-path=\"url(#clip172)\" d=\"\n",
       "M3463.18 1359.75 L3463.18 1384.24 L3511.96 1384.24 L3511.96 1359.75 L3463.18 1359.75 L3463.18 1359.75  Z\n",
       "  \" fill=\"#009af9\" fill-rule=\"evenodd\" fill-opacity=\"1\"/>\n",
       "<polyline clip-path=\"url(#clip172)\" style=\"stroke:#000000; stroke-linecap:butt; stroke-linejoin:round; stroke-width:4; stroke-opacity:1; fill:none\" points=\"\n",
       "  3463.18,1359.75 3463.18,1384.24 3511.96,1384.24 3511.96,1359.75 3463.18,1359.75 \n",
       "  \"/>\n",
       "<path clip-path=\"url(#clip172)\" d=\"\n",
       "M3511.96 1384.24 L3511.96 1384.24 L3560.73 1384.24 L3560.73 1384.24 L3511.96 1384.24 L3511.96 1384.24  Z\n",
       "  \" fill=\"#009af9\" fill-rule=\"evenodd\" fill-opacity=\"1\"/>\n",
       "<polyline clip-path=\"url(#clip172)\" style=\"stroke:#000000; stroke-linecap:butt; stroke-linejoin:round; stroke-width:4; stroke-opacity:1; fill:none\" points=\"\n",
       "  3511.96,1384.24 3511.96,1384.24 3560.73,1384.24 3511.96,1384.24 \n",
       "  \"/>\n",
       "<path clip-path=\"url(#clip172)\" d=\"\n",
       "M3560.73 1384.24 L3560.73 1384.24 L3609.51 1384.24 L3609.51 1384.24 L3560.73 1384.24 L3560.73 1384.24  Z\n",
       "  \" fill=\"#009af9\" fill-rule=\"evenodd\" fill-opacity=\"1\"/>\n",
       "<polyline clip-path=\"url(#clip172)\" style=\"stroke:#000000; stroke-linecap:butt; stroke-linejoin:round; stroke-width:4; stroke-opacity:1; fill:none\" points=\"\n",
       "  3560.73,1384.24 3560.73,1384.24 3609.51,1384.24 3560.73,1384.24 \n",
       "  \"/>\n",
       "<path clip-path=\"url(#clip172)\" d=\"\n",
       "M3609.51 1359.75 L3609.51 1384.24 L3658.29 1384.24 L3658.29 1359.75 L3609.51 1359.75 L3609.51 1359.75  Z\n",
       "  \" fill=\"#009af9\" fill-rule=\"evenodd\" fill-opacity=\"1\"/>\n",
       "<polyline clip-path=\"url(#clip172)\" style=\"stroke:#000000; stroke-linecap:butt; stroke-linejoin:round; stroke-width:4; stroke-opacity:1; fill:none\" points=\"\n",
       "  3609.51,1359.75 3609.51,1384.24 3658.29,1384.24 3658.29,1359.75 3609.51,1359.75 \n",
       "  \"/>\n",
       "<path clip-path=\"url(#clip172)\" d=\"\n",
       "M3658.29 1384.24 L3658.29 1384.24 L3707.06 1384.24 L3707.06 1384.24 L3658.29 1384.24 L3658.29 1384.24  Z\n",
       "  \" fill=\"#009af9\" fill-rule=\"evenodd\" fill-opacity=\"1\"/>\n",
       "<polyline clip-path=\"url(#clip172)\" style=\"stroke:#000000; stroke-linecap:butt; stroke-linejoin:round; stroke-width:4; stroke-opacity:1; fill:none\" points=\"\n",
       "  3658.29,1384.24 3658.29,1384.24 3707.06,1384.24 3658.29,1384.24 \n",
       "  \"/>\n",
       "<path clip-path=\"url(#clip172)\" d=\"\n",
       "M3707.06 1384.24 L3707.06 1384.24 L3755.84 1384.24 L3755.84 1384.24 L3707.06 1384.24 L3707.06 1384.24  Z\n",
       "  \" fill=\"#009af9\" fill-rule=\"evenodd\" fill-opacity=\"1\"/>\n",
       "<polyline clip-path=\"url(#clip172)\" style=\"stroke:#000000; stroke-linecap:butt; stroke-linejoin:round; stroke-width:4; stroke-opacity:1; fill:none\" points=\"\n",
       "  3707.06,1384.24 3707.06,1384.24 3755.84,1384.24 3707.06,1384.24 \n",
       "  \"/>\n",
       "<path clip-path=\"url(#clip172)\" d=\"\n",
       "M3755.84 1384.24 L3755.84 1384.24 L3804.61 1384.24 L3804.61 1384.24 L3755.84 1384.24 L3755.84 1384.24  Z\n",
       "  \" fill=\"#009af9\" fill-rule=\"evenodd\" fill-opacity=\"1\"/>\n",
       "<polyline clip-path=\"url(#clip172)\" style=\"stroke:#000000; stroke-linecap:butt; stroke-linejoin:round; stroke-width:4; stroke-opacity:1; fill:none\" points=\"\n",
       "  3755.84,1384.24 3755.84,1384.24 3804.61,1384.24 3755.84,1384.24 \n",
       "  \"/>\n",
       "<path clip-path=\"url(#clip172)\" d=\"\n",
       "M3804.61 1359.75 L3804.61 1384.24 L3853.39 1384.24 L3853.39 1359.75 L3804.61 1359.75 L3804.61 1359.75  Z\n",
       "  \" fill=\"#009af9\" fill-rule=\"evenodd\" fill-opacity=\"1\"/>\n",
       "<polyline clip-path=\"url(#clip172)\" style=\"stroke:#000000; stroke-linecap:butt; stroke-linejoin:round; stroke-width:4; stroke-opacity:1; fill:none\" points=\"\n",
       "  3804.61,1359.75 3804.61,1384.24 3853.39,1384.24 3853.39,1359.75 3804.61,1359.75 \n",
       "  \"/>\n",
       "<path clip-path=\"url(#clip172)\" d=\"\n",
       "M3853.39 1384.24 L3853.39 1384.24 L3902.17 1384.24 L3902.17 1384.24 L3853.39 1384.24 L3853.39 1384.24  Z\n",
       "  \" fill=\"#009af9\" fill-rule=\"evenodd\" fill-opacity=\"1\"/>\n",
       "<polyline clip-path=\"url(#clip172)\" style=\"stroke:#000000; stroke-linecap:butt; stroke-linejoin:round; stroke-width:4; stroke-opacity:1; fill:none\" points=\"\n",
       "  3853.39,1384.24 3853.39,1384.24 3902.17,1384.24 3853.39,1384.24 \n",
       "  \"/>\n",
       "<path clip-path=\"url(#clip172)\" d=\"\n",
       "M3902.17 1384.24 L3902.17 1384.24 L3950.94 1384.24 L3950.94 1384.24 L3902.17 1384.24 L3902.17 1384.24  Z\n",
       "  \" fill=\"#009af9\" fill-rule=\"evenodd\" fill-opacity=\"1\"/>\n",
       "<polyline clip-path=\"url(#clip172)\" style=\"stroke:#000000; stroke-linecap:butt; stroke-linejoin:round; stroke-width:4; stroke-opacity:1; fill:none\" points=\"\n",
       "  3902.17,1384.24 3902.17,1384.24 3950.94,1384.24 3902.17,1384.24 \n",
       "  \"/>\n",
       "<path clip-path=\"url(#clip172)\" d=\"\n",
       "M3950.94 1359.75 L3950.94 1384.24 L3999.72 1384.24 L3999.72 1359.75 L3950.94 1359.75 L3950.94 1359.75  Z\n",
       "  \" fill=\"#009af9\" fill-rule=\"evenodd\" fill-opacity=\"1\"/>\n",
       "<polyline clip-path=\"url(#clip172)\" style=\"stroke:#000000; stroke-linecap:butt; stroke-linejoin:round; stroke-width:4; stroke-opacity:1; fill:none\" points=\"\n",
       "  3950.94,1359.75 3950.94,1384.24 3999.72,1384.24 3999.72,1359.75 3950.94,1359.75 \n",
       "  \"/>\n",
       "<path clip-path=\"url(#clip172)\" d=\"\n",
       "M3999.72 1359.75 L3999.72 1384.24 L4048.5 1384.24 L4048.5 1359.75 L3999.72 1359.75 L3999.72 1359.75  Z\n",
       "  \" fill=\"#009af9\" fill-rule=\"evenodd\" fill-opacity=\"1\"/>\n",
       "<polyline clip-path=\"url(#clip172)\" style=\"stroke:#000000; stroke-linecap:butt; stroke-linejoin:round; stroke-width:4; stroke-opacity:1; fill:none\" points=\"\n",
       "  3999.72,1359.75 3999.72,1384.24 4048.5,1384.24 4048.5,1359.75 3999.72,1359.75 \n",
       "  \"/>\n",
       "<path clip-path=\"url(#clip172)\" d=\"\n",
       "M4048.5 1384.24 L4048.5 1384.24 L4097.27 1384.24 L4097.27 1384.24 L4048.5 1384.24 L4048.5 1384.24  Z\n",
       "  \" fill=\"#009af9\" fill-rule=\"evenodd\" fill-opacity=\"1\"/>\n",
       "<polyline clip-path=\"url(#clip172)\" style=\"stroke:#000000; stroke-linecap:butt; stroke-linejoin:round; stroke-width:4; stroke-opacity:1; fill:none\" points=\"\n",
       "  4048.5,1384.24 4048.5,1384.24 4097.27,1384.24 4048.5,1384.24 \n",
       "  \"/>\n",
       "<path clip-path=\"url(#clip172)\" d=\"\n",
       "M4097.27 1384.24 L4097.27 1384.24 L4146.05 1384.24 L4146.05 1384.24 L4097.27 1384.24 L4097.27 1384.24  Z\n",
       "  \" fill=\"#009af9\" fill-rule=\"evenodd\" fill-opacity=\"1\"/>\n",
       "<polyline clip-path=\"url(#clip172)\" style=\"stroke:#000000; stroke-linecap:butt; stroke-linejoin:round; stroke-width:4; stroke-opacity:1; fill:none\" points=\"\n",
       "  4097.27,1384.24 4097.27,1384.24 4146.05,1384.24 4097.27,1384.24 \n",
       "  \"/>\n",
       "<path clip-path=\"url(#clip172)\" d=\"\n",
       "M4146.05 1384.24 L4146.05 1384.24 L4194.83 1384.24 L4194.83 1384.24 L4146.05 1384.24 L4146.05 1384.24  Z\n",
       "  \" fill=\"#009af9\" fill-rule=\"evenodd\" fill-opacity=\"1\"/>\n",
       "<polyline clip-path=\"url(#clip172)\" style=\"stroke:#000000; stroke-linecap:butt; stroke-linejoin:round; stroke-width:4; stroke-opacity:1; fill:none\" points=\"\n",
       "  4146.05,1384.24 4146.05,1384.24 4194.83,1384.24 4146.05,1384.24 \n",
       "  \"/>\n",
       "<path clip-path=\"url(#clip172)\" d=\"\n",
       "M4194.83 1384.24 L4194.83 1384.24 L4243.6 1384.24 L4243.6 1384.24 L4194.83 1384.24 L4194.83 1384.24  Z\n",
       "  \" fill=\"#009af9\" fill-rule=\"evenodd\" fill-opacity=\"1\"/>\n",
       "<polyline clip-path=\"url(#clip172)\" style=\"stroke:#000000; stroke-linecap:butt; stroke-linejoin:round; stroke-width:4; stroke-opacity:1; fill:none\" points=\"\n",
       "  4194.83,1384.24 4194.83,1384.24 4243.6,1384.24 4194.83,1384.24 \n",
       "  \"/>\n",
       "<path clip-path=\"url(#clip172)\" d=\"\n",
       "M4243.6 1359.75 L4243.6 1384.24 L4292.38 1384.24 L4292.38 1359.75 L4243.6 1359.75 L4243.6 1359.75  Z\n",
       "  \" fill=\"#009af9\" fill-rule=\"evenodd\" fill-opacity=\"1\"/>\n",
       "<polyline clip-path=\"url(#clip172)\" style=\"stroke:#000000; stroke-linecap:butt; stroke-linejoin:round; stroke-width:4; stroke-opacity:1; fill:none\" points=\"\n",
       "  4243.6,1359.75 4243.6,1384.24 4292.38,1384.24 4292.38,1359.75 4243.6,1359.75 \n",
       "  \"/>\n",
       "<path clip-path=\"url(#clip172)\" d=\"\n",
       "M4292.38 1384.24 L4292.38 1384.24 L4341.16 1384.24 L4341.16 1384.24 L4292.38 1384.24 L4292.38 1384.24  Z\n",
       "  \" fill=\"#009af9\" fill-rule=\"evenodd\" fill-opacity=\"1\"/>\n",
       "<polyline clip-path=\"url(#clip172)\" style=\"stroke:#000000; stroke-linecap:butt; stroke-linejoin:round; stroke-width:4; stroke-opacity:1; fill:none\" points=\"\n",
       "  4292.38,1384.24 4292.38,1384.24 4341.16,1384.24 4292.38,1384.24 \n",
       "  \"/>\n",
       "<path clip-path=\"url(#clip172)\" d=\"\n",
       "M4341.16 1384.24 L4341.16 1384.24 L4389.93 1384.24 L4389.93 1384.24 L4341.16 1384.24 L4341.16 1384.24  Z\n",
       "  \" fill=\"#009af9\" fill-rule=\"evenodd\" fill-opacity=\"1\"/>\n",
       "<polyline clip-path=\"url(#clip172)\" style=\"stroke:#000000; stroke-linecap:butt; stroke-linejoin:round; stroke-width:4; stroke-opacity:1; fill:none\" points=\"\n",
       "  4341.16,1384.24 4341.16,1384.24 4389.93,1384.24 4341.16,1384.24 \n",
       "  \"/>\n",
       "<path clip-path=\"url(#clip172)\" d=\"\n",
       "M4389.93 1384.24 L4389.93 1384.24 L4438.71 1384.24 L4438.71 1384.24 L4389.93 1384.24 L4389.93 1384.24  Z\n",
       "  \" fill=\"#009af9\" fill-rule=\"evenodd\" fill-opacity=\"1\"/>\n",
       "<polyline clip-path=\"url(#clip172)\" style=\"stroke:#000000; stroke-linecap:butt; stroke-linejoin:round; stroke-width:4; stroke-opacity:1; fill:none\" points=\"\n",
       "  4389.93,1384.24 4389.93,1384.24 4438.71,1384.24 4389.93,1384.24 \n",
       "  \"/>\n",
       "<path clip-path=\"url(#clip172)\" d=\"\n",
       "M4438.71 1359.75 L4438.71 1384.24 L4487.49 1384.24 L4487.49 1359.75 L4438.71 1359.75 L4438.71 1359.75  Z\n",
       "  \" fill=\"#009af9\" fill-rule=\"evenodd\" fill-opacity=\"1\"/>\n",
       "<polyline clip-path=\"url(#clip172)\" style=\"stroke:#000000; stroke-linecap:butt; stroke-linejoin:round; stroke-width:4; stroke-opacity:1; fill:none\" points=\"\n",
       "  4438.71,1359.75 4438.71,1384.24 4487.49,1384.24 4487.49,1359.75 4438.71,1359.75 \n",
       "  \"/>\n",
       "<path clip-path=\"url(#clip172)\" d=\"\n",
       "M4487.49 1384.24 L4487.49 1384.24 L4536.26 1384.24 L4536.26 1384.24 L4487.49 1384.24 L4487.49 1384.24  Z\n",
       "  \" fill=\"#009af9\" fill-rule=\"evenodd\" fill-opacity=\"1\"/>\n",
       "<polyline clip-path=\"url(#clip172)\" style=\"stroke:#000000; stroke-linecap:butt; stroke-linejoin:round; stroke-width:4; stroke-opacity:1; fill:none\" points=\"\n",
       "  4487.49,1384.24 4487.49,1384.24 4536.26,1384.24 4487.49,1384.24 \n",
       "  \"/>\n",
       "<path clip-path=\"url(#clip172)\" d=\"\n",
       "M4536.26 1384.24 L4536.26 1384.24 L4585.04 1384.24 L4585.04 1384.24 L4536.26 1384.24 L4536.26 1384.24  Z\n",
       "  \" fill=\"#009af9\" fill-rule=\"evenodd\" fill-opacity=\"1\"/>\n",
       "<polyline clip-path=\"url(#clip172)\" style=\"stroke:#000000; stroke-linecap:butt; stroke-linejoin:round; stroke-width:4; stroke-opacity:1; fill:none\" points=\"\n",
       "  4536.26,1384.24 4536.26,1384.24 4585.04,1384.24 4536.26,1384.24 \n",
       "  \"/>\n",
       "<path clip-path=\"url(#clip172)\" d=\"\n",
       "M4585.04 1359.75 L4585.04 1384.24 L4633.82 1384.24 L4633.82 1359.75 L4585.04 1359.75 L4585.04 1359.75  Z\n",
       "  \" fill=\"#009af9\" fill-rule=\"evenodd\" fill-opacity=\"1\"/>\n",
       "<polyline clip-path=\"url(#clip172)\" style=\"stroke:#000000; stroke-linecap:butt; stroke-linejoin:round; stroke-width:4; stroke-opacity:1; fill:none\" points=\"\n",
       "  4585.04,1359.75 4585.04,1384.24 4633.82,1384.24 4633.82,1359.75 4585.04,1359.75 \n",
       "  \"/>\n",
       "<path clip-path=\"url(#clip172)\" d=\"\n",
       "M4633.82 1359.75 L4633.82 1384.24 L4682.59 1384.24 L4682.59 1359.75 L4633.82 1359.75 L4633.82 1359.75  Z\n",
       "  \" fill=\"#009af9\" fill-rule=\"evenodd\" fill-opacity=\"1\"/>\n",
       "<polyline clip-path=\"url(#clip172)\" style=\"stroke:#000000; stroke-linecap:butt; stroke-linejoin:round; stroke-width:4; stroke-opacity:1; fill:none\" points=\"\n",
       "  4633.82,1359.75 4633.82,1384.24 4682.59,1384.24 4682.59,1359.75 4633.82,1359.75 \n",
       "  \"/>\n",
       "<path clip-path=\"url(#clip172)\" d=\"\n",
       "M4682.59 1359.75 L4682.59 1384.24 L4731.37 1384.24 L4731.37 1359.75 L4682.59 1359.75 L4682.59 1359.75  Z\n",
       "  \" fill=\"#009af9\" fill-rule=\"evenodd\" fill-opacity=\"1\"/>\n",
       "<polyline clip-path=\"url(#clip172)\" style=\"stroke:#000000; stroke-linecap:butt; stroke-linejoin:round; stroke-width:4; stroke-opacity:1; fill:none\" points=\"\n",
       "  4682.59,1359.75 4682.59,1384.24 4731.37,1384.24 4731.37,1359.75 4682.59,1359.75 \n",
       "  \"/>\n",
       "<path clip-path=\"url(#clip172)\" d=\"\n",
       "M4731.37 1310.76 L4731.37 1384.24 L4780.15 1384.24 L4780.15 1310.76 L4731.37 1310.76 L4731.37 1310.76  Z\n",
       "  \" fill=\"#009af9\" fill-rule=\"evenodd\" fill-opacity=\"1\"/>\n",
       "<polyline clip-path=\"url(#clip172)\" style=\"stroke:#000000; stroke-linecap:butt; stroke-linejoin:round; stroke-width:4; stroke-opacity:1; fill:none\" points=\"\n",
       "  4731.37,1310.76 4731.37,1384.24 4780.15,1384.24 4780.15,1310.76 4731.37,1310.76 \n",
       "  \"/>\n",
       "<path clip-path=\"url(#clip172)\" d=\"\n",
       "M4780.15 1384.24 L4780.15 1384.24 L4828.92 1384.24 L4828.92 1384.24 L4780.15 1384.24 L4780.15 1384.24  Z\n",
       "  \" fill=\"#009af9\" fill-rule=\"evenodd\" fill-opacity=\"1\"/>\n",
       "<polyline clip-path=\"url(#clip172)\" style=\"stroke:#000000; stroke-linecap:butt; stroke-linejoin:round; stroke-width:4; stroke-opacity:1; fill:none\" points=\"\n",
       "  4780.15,1384.24 4780.15,1384.24 4828.92,1384.24 4780.15,1384.24 \n",
       "  \"/>\n",
       "<path clip-path=\"url(#clip172)\" d=\"\n",
       "M4828.92 1384.24 L4828.92 1384.24 L4877.7 1384.24 L4877.7 1384.24 L4828.92 1384.24 L4828.92 1384.24  Z\n",
       "  \" fill=\"#009af9\" fill-rule=\"evenodd\" fill-opacity=\"1\"/>\n",
       "<polyline clip-path=\"url(#clip172)\" style=\"stroke:#000000; stroke-linecap:butt; stroke-linejoin:round; stroke-width:4; stroke-opacity:1; fill:none\" points=\"\n",
       "  4828.92,1384.24 4828.92,1384.24 4877.7,1384.24 4828.92,1384.24 \n",
       "  \"/>\n",
       "<path clip-path=\"url(#clip172)\" d=\"\n",
       "M4877.7 1384.24 L4877.7 1384.24 L4926.48 1384.24 L4926.48 1384.24 L4877.7 1384.24 L4877.7 1384.24  Z\n",
       "  \" fill=\"#009af9\" fill-rule=\"evenodd\" fill-opacity=\"1\"/>\n",
       "<polyline clip-path=\"url(#clip172)\" style=\"stroke:#000000; stroke-linecap:butt; stroke-linejoin:round; stroke-width:4; stroke-opacity:1; fill:none\" points=\"\n",
       "  4877.7,1384.24 4877.7,1384.24 4926.48,1384.24 4877.7,1384.24 \n",
       "  \"/>\n",
       "<path clip-path=\"url(#clip172)\" d=\"\n",
       "M4926.48 1359.75 L4926.48 1384.24 L4975.25 1384.24 L4975.25 1359.75 L4926.48 1359.75 L4926.48 1359.75  Z\n",
       "  \" fill=\"#009af9\" fill-rule=\"evenodd\" fill-opacity=\"1\"/>\n",
       "<polyline clip-path=\"url(#clip172)\" style=\"stroke:#000000; stroke-linecap:butt; stroke-linejoin:round; stroke-width:4; stroke-opacity:1; fill:none\" points=\"\n",
       "  4926.48,1359.75 4926.48,1384.24 4975.25,1384.24 4975.25,1359.75 4926.48,1359.75 \n",
       "  \"/>\n",
       "<path clip-path=\"url(#clip172)\" d=\"\n",
       "M4975.25 1384.24 L4975.25 1384.24 L5024.03 1384.24 L5024.03 1384.24 L4975.25 1384.24 L4975.25 1384.24  Z\n",
       "  \" fill=\"#009af9\" fill-rule=\"evenodd\" fill-opacity=\"1\"/>\n",
       "<polyline clip-path=\"url(#clip172)\" style=\"stroke:#000000; stroke-linecap:butt; stroke-linejoin:round; stroke-width:4; stroke-opacity:1; fill:none\" points=\"\n",
       "  4975.25,1384.24 4975.25,1384.24 5024.03,1384.24 4975.25,1384.24 \n",
       "  \"/>\n",
       "<path clip-path=\"url(#clip172)\" d=\"\n",
       "M5024.03 1384.24 L5024.03 1384.24 L5072.81 1384.24 L5072.81 1384.24 L5024.03 1384.24 L5024.03 1384.24  Z\n",
       "  \" fill=\"#009af9\" fill-rule=\"evenodd\" fill-opacity=\"1\"/>\n",
       "<polyline clip-path=\"url(#clip172)\" style=\"stroke:#000000; stroke-linecap:butt; stroke-linejoin:round; stroke-width:4; stroke-opacity:1; fill:none\" points=\"\n",
       "  5024.03,1384.24 5024.03,1384.24 5072.81,1384.24 5024.03,1384.24 \n",
       "  \"/>\n",
       "<path clip-path=\"url(#clip172)\" d=\"\n",
       "M5072.81 1359.75 L5072.81 1384.24 L5121.58 1384.24 L5121.58 1359.75 L5072.81 1359.75 L5072.81 1359.75  Z\n",
       "  \" fill=\"#009af9\" fill-rule=\"evenodd\" fill-opacity=\"1\"/>\n",
       "<polyline clip-path=\"url(#clip172)\" style=\"stroke:#000000; stroke-linecap:butt; stroke-linejoin:round; stroke-width:4; stroke-opacity:1; fill:none\" points=\"\n",
       "  5072.81,1359.75 5072.81,1384.24 5121.58,1384.24 5121.58,1359.75 5072.81,1359.75 \n",
       "  \"/>\n",
       "<path clip-path=\"url(#clip172)\" d=\"\n",
       "M5121.58 1384.24 L5121.58 1384.24 L5170.36 1384.24 L5170.36 1384.24 L5121.58 1384.24 L5121.58 1384.24  Z\n",
       "  \" fill=\"#009af9\" fill-rule=\"evenodd\" fill-opacity=\"1\"/>\n",
       "<polyline clip-path=\"url(#clip172)\" style=\"stroke:#000000; stroke-linecap:butt; stroke-linejoin:round; stroke-width:4; stroke-opacity:1; fill:none\" points=\"\n",
       "  5121.58,1384.24 5121.58,1384.24 5170.36,1384.24 5121.58,1384.24 \n",
       "  \"/>\n",
       "<path clip-path=\"url(#clip172)\" d=\"\n",
       "M5170.36 1359.75 L5170.36 1384.24 L5219.14 1384.24 L5219.14 1359.75 L5170.36 1359.75 L5170.36 1359.75  Z\n",
       "  \" fill=\"#009af9\" fill-rule=\"evenodd\" fill-opacity=\"1\"/>\n",
       "<polyline clip-path=\"url(#clip172)\" style=\"stroke:#000000; stroke-linecap:butt; stroke-linejoin:round; stroke-width:4; stroke-opacity:1; fill:none\" points=\"\n",
       "  5170.36,1359.75 5170.36,1384.24 5219.14,1384.24 5219.14,1359.75 5170.36,1359.75 \n",
       "  \"/>\n",
       "<path clip-path=\"url(#clip172)\" d=\"\n",
       "M5219.14 1384.24 L5219.14 1384.24 L5267.91 1384.24 L5267.91 1384.24 L5219.14 1384.24 L5219.14 1384.24  Z\n",
       "  \" fill=\"#009af9\" fill-rule=\"evenodd\" fill-opacity=\"1\"/>\n",
       "<polyline clip-path=\"url(#clip172)\" style=\"stroke:#000000; stroke-linecap:butt; stroke-linejoin:round; stroke-width:4; stroke-opacity:1; fill:none\" points=\"\n",
       "  5219.14,1384.24 5219.14,1384.24 5267.91,1384.24 5219.14,1384.24 \n",
       "  \"/>\n",
       "<path clip-path=\"url(#clip172)\" d=\"\n",
       "M5267.91 1384.24 L5267.91 1384.24 L5316.69 1384.24 L5316.69 1384.24 L5267.91 1384.24 L5267.91 1384.24  Z\n",
       "  \" fill=\"#009af9\" fill-rule=\"evenodd\" fill-opacity=\"1\"/>\n",
       "<polyline clip-path=\"url(#clip172)\" style=\"stroke:#000000; stroke-linecap:butt; stroke-linejoin:round; stroke-width:4; stroke-opacity:1; fill:none\" points=\"\n",
       "  5267.91,1384.24 5267.91,1384.24 5316.69,1384.24 5267.91,1384.24 \n",
       "  \"/>\n",
       "<path clip-path=\"url(#clip172)\" d=\"\n",
       "M5316.69 1359.75 L5316.69 1384.24 L5365.47 1384.24 L5365.47 1359.75 L5316.69 1359.75 L5316.69 1359.75  Z\n",
       "  \" fill=\"#009af9\" fill-rule=\"evenodd\" fill-opacity=\"1\"/>\n",
       "<polyline clip-path=\"url(#clip172)\" style=\"stroke:#000000; stroke-linecap:butt; stroke-linejoin:round; stroke-width:4; stroke-opacity:1; fill:none\" points=\"\n",
       "  5316.69,1359.75 5316.69,1384.24 5365.47,1384.24 5365.47,1359.75 5316.69,1359.75 \n",
       "  \"/>\n",
       "<circle clip-path=\"url(#clip172)\" style=\"fill:#009af9; stroke:none; fill-opacity:0\" cx=\"902.406\" cy=\"1335.26\" r=\"2\"/>\n",
       "<circle clip-path=\"url(#clip172)\" style=\"fill:#009af9; stroke:none; fill-opacity:0\" cx=\"951.182\" cy=\"1286.27\" r=\"2\"/>\n",
       "<circle clip-path=\"url(#clip172)\" style=\"fill:#009af9; stroke:none; fill-opacity:0\" cx=\"999.959\" cy=\"1041.36\" r=\"2\"/>\n",
       "<circle clip-path=\"url(#clip172)\" style=\"fill:#009af9; stroke:none; fill-opacity:0\" cx=\"1048.74\" cy=\"796.441\" r=\"2\"/>\n",
       "<circle clip-path=\"url(#clip172)\" style=\"fill:#009af9; stroke:none; fill-opacity:0\" cx=\"1097.51\" cy=\"331.101\" r=\"2\"/>\n",
       "<circle clip-path=\"url(#clip172)\" style=\"fill:#009af9; stroke:none; fill-opacity:0\" cx=\"1146.29\" cy=\"233.135\" r=\"2\"/>\n",
       "<circle clip-path=\"url(#clip172)\" style=\"fill:#009af9; stroke:none; fill-opacity:0\" cx=\"1195.07\" cy=\"159.66\" r=\"2\"/>\n",
       "<circle clip-path=\"url(#clip172)\" style=\"fill:#009af9; stroke:none; fill-opacity:0\" cx=\"1243.84\" cy=\"86.1857\" r=\"2\"/>\n",
       "<circle clip-path=\"url(#clip172)\" style=\"fill:#009af9; stroke:none; fill-opacity:0\" cx=\"1292.62\" cy=\"282.118\" r=\"2\"/>\n",
       "<circle clip-path=\"url(#clip172)\" style=\"fill:#009af9; stroke:none; fill-opacity:0\" cx=\"1341.4\" cy=\"649.492\" r=\"2\"/>\n",
       "<circle clip-path=\"url(#clip172)\" style=\"fill:#009af9; stroke:none; fill-opacity:0\" cx=\"1390.17\" cy=\"747.458\" r=\"2\"/>\n",
       "<circle clip-path=\"url(#clip172)\" style=\"fill:#009af9; stroke:none; fill-opacity:0\" cx=\"1438.95\" cy=\"967.882\" r=\"2\"/>\n",
       "<circle clip-path=\"url(#clip172)\" style=\"fill:#009af9; stroke:none; fill-opacity:0\" cx=\"1487.73\" cy=\"1139.32\" r=\"2\"/>\n",
       "<circle clip-path=\"url(#clip172)\" style=\"fill:#009af9; stroke:none; fill-opacity:0\" cx=\"1536.5\" cy=\"1212.8\" r=\"2\"/>\n",
       "<circle clip-path=\"url(#clip172)\" style=\"fill:#009af9; stroke:none; fill-opacity:0\" cx=\"1585.28\" cy=\"1310.76\" r=\"2\"/>\n",
       "<circle clip-path=\"url(#clip172)\" style=\"fill:#009af9; stroke:none; fill-opacity:0\" cx=\"1634.06\" cy=\"1310.76\" r=\"2\"/>\n",
       "<circle clip-path=\"url(#clip172)\" style=\"fill:#009af9; stroke:none; fill-opacity:0\" cx=\"1682.83\" cy=\"1286.27\" r=\"2\"/>\n",
       "<circle clip-path=\"url(#clip172)\" style=\"fill:#009af9; stroke:none; fill-opacity:0\" cx=\"1731.61\" cy=\"1384.24\" r=\"2\"/>\n",
       "<circle clip-path=\"url(#clip172)\" style=\"fill:#009af9; stroke:none; fill-opacity:0\" cx=\"1780.38\" cy=\"1359.75\" r=\"2\"/>\n",
       "<circle clip-path=\"url(#clip172)\" style=\"fill:#009af9; stroke:none; fill-opacity:0\" cx=\"1829.16\" cy=\"1359.75\" r=\"2\"/>\n",
       "<circle clip-path=\"url(#clip172)\" style=\"fill:#009af9; stroke:none; fill-opacity:0\" cx=\"1877.94\" cy=\"1359.75\" r=\"2\"/>\n",
       "<circle clip-path=\"url(#clip172)\" style=\"fill:#009af9; stroke:none; fill-opacity:0\" cx=\"1926.71\" cy=\"1359.75\" r=\"2\"/>\n",
       "<circle clip-path=\"url(#clip172)\" style=\"fill:#009af9; stroke:none; fill-opacity:0\" cx=\"1975.49\" cy=\"1359.75\" r=\"2\"/>\n",
       "<circle clip-path=\"url(#clip172)\" style=\"fill:#009af9; stroke:none; fill-opacity:0\" cx=\"2024.27\" cy=\"1384.24\" r=\"2\"/>\n",
       "<circle clip-path=\"url(#clip172)\" style=\"fill:#009af9; stroke:none; fill-opacity:0\" cx=\"2073.04\" cy=\"1359.75\" r=\"2\"/>\n",
       "<circle clip-path=\"url(#clip172)\" style=\"fill:#009af9; stroke:none; fill-opacity:0\" cx=\"2121.82\" cy=\"1384.24\" r=\"2\"/>\n",
       "<circle clip-path=\"url(#clip172)\" style=\"fill:#009af9; stroke:none; fill-opacity:0\" cx=\"2170.6\" cy=\"1384.24\" r=\"2\"/>\n",
       "<circle clip-path=\"url(#clip172)\" style=\"fill:#009af9; stroke:none; fill-opacity:0\" cx=\"2219.37\" cy=\"1359.75\" r=\"2\"/>\n",
       "<circle clip-path=\"url(#clip172)\" style=\"fill:#009af9; stroke:none; fill-opacity:0\" cx=\"2268.15\" cy=\"1359.75\" r=\"2\"/>\n",
       "<circle clip-path=\"url(#clip172)\" style=\"fill:#009af9; stroke:none; fill-opacity:0\" cx=\"2316.93\" cy=\"1359.75\" r=\"2\"/>\n",
       "</svg>\n"
      ]
     },
     "execution_count": 16,
     "metadata": {},
     "output_type": "execute_result"
    }
   ],
   "source": [
    "using Statistics\n",
    "t = c_bench.times / 1e6 # tempos em milisegundos\n",
    "m, σ = minimum(t), std(t)\n",
    "\n",
    "histogram(t, bins=100,\n",
    "    xlim=(m - σ, m + 2σ),\n",
    "    xlabel=\"milisegundos\", ylabel=\"Frequência\", label=\"\")"
   ]
  },
  {
   "cell_type": "markdown",
   "metadata": {},
   "source": [
    "## 2. C com -ffast-math\n",
    "\n",
    "Agora, vamos permitir que o C otimize suas operações de ponto flutuante.\n",
    "Dessa forma, ele vai vetorizar suas instruções usando [SIMD](https://en.wikipedia.org/wiki/SIMD) (single instruction, multiple data)."
   ]
  },
  {
   "cell_type": "code",
   "execution_count": 17,
   "metadata": {},
   "outputs": [
    {
     "data": {
      "text/plain": [
       "c_sum_fastmath (generic function with 1 method)"
      ]
     },
     "execution_count": 17,
     "metadata": {},
     "output_type": "execute_result"
    }
   ],
   "source": [
    "const Clib_fastmath = tempname()\n",
    "\n",
    "# Como acima mas agora com a opção -ffast-math\n",
    "open(`gcc -fPIC -O3 -msse3 -xc -shared -ffast-math -o $(Clib_fastmath * \".\" * Libdl.dlext) -`, \"w\") do f\n",
    "    print(f, C_code) \n",
    "end\n",
    "\n",
    "# Define uma função em Julia que chama a função em C\n",
    "c_sum_fastmath(X::Array{Float64}) = ccall((\"c_sum\", Clib_fastmath), Float64, (Csize_t, Ptr{Float64}), length(X), X)"
   ]
  },
  {
   "cell_type": "code",
   "execution_count": 18,
   "metadata": {},
   "outputs": [
    {
     "data": {
      "text/plain": [
       "BenchmarkTools.Trial: 773 samples with 1 evaluation.\n",
       " Range \u001b[90m(\u001b[39m\u001b[36m\u001b[1mmin\u001b[22m\u001b[39m … \u001b[35mmax\u001b[39m\u001b[90m):  \u001b[39m\u001b[36m\u001b[1m6.401 ms\u001b[22m\u001b[39m … \u001b[35m 7.168 ms\u001b[39m  \u001b[90m┊\u001b[39m GC \u001b[90m(\u001b[39mmin … max\u001b[90m): \u001b[39m0.00% … 0.00%\n",
       " Time  \u001b[90m(\u001b[39m\u001b[34m\u001b[1mmedian\u001b[22m\u001b[39m\u001b[90m):     \u001b[39m\u001b[34m\u001b[1m6.448 ms              \u001b[22m\u001b[39m\u001b[90m┊\u001b[39m GC \u001b[90m(\u001b[39mmedian\u001b[90m):    \u001b[39m0.00%\n",
       " Time  \u001b[90m(\u001b[39m\u001b[32m\u001b[1mmean\u001b[22m\u001b[39m ± \u001b[32mσ\u001b[39m\u001b[90m):   \u001b[39m\u001b[32m\u001b[1m6.464 ms\u001b[22m\u001b[39m ± \u001b[32m65.794 μs\u001b[39m  \u001b[90m┊\u001b[39m GC \u001b[90m(\u001b[39mmean ± σ\u001b[90m):  \u001b[39m0.00% ± 0.00%\n",
       "\n",
       "  \u001b[39m \u001b[39m \u001b[39m \u001b[39m▃\u001b[39m▆\u001b[39m▇\u001b[39m█\u001b[39m█\u001b[34m█\u001b[39m\u001b[39m▇\u001b[39m▇\u001b[32m▅\u001b[39m\u001b[39m▄\u001b[39m▂\u001b[39m \u001b[39m▂\u001b[39m \u001b[39m \u001b[39m \u001b[39m \u001b[39m \u001b[39m \u001b[39m \u001b[39m \u001b[39m \u001b[39m \u001b[39m \u001b[39m \u001b[39m \u001b[39m \u001b[39m \u001b[39m \u001b[39m \u001b[39m \u001b[39m \u001b[39m \u001b[39m \u001b[39m \u001b[39m \u001b[39m \u001b[39m \u001b[39m \u001b[39m \u001b[39m \u001b[39m \u001b[39m \u001b[39m \u001b[39m \u001b[39m \u001b[39m \u001b[39m \u001b[39m \u001b[39m \u001b[39m \u001b[39m \u001b[39m \u001b[39m \u001b[39m \u001b[39m \u001b[39m \n",
       "  \u001b[39m▇\u001b[39m▅\u001b[39m█\u001b[39m█\u001b[39m█\u001b[39m█\u001b[39m█\u001b[39m█\u001b[34m█\u001b[39m\u001b[39m█\u001b[39m█\u001b[32m█\u001b[39m\u001b[39m█\u001b[39m█\u001b[39m█\u001b[39m█\u001b[39m▆\u001b[39m▇\u001b[39m▆\u001b[39m▄\u001b[39m▆\u001b[39m▄\u001b[39m▄\u001b[39m▅\u001b[39m▄\u001b[39m▅\u001b[39m▄\u001b[39m▁\u001b[39m▄\u001b[39m▅\u001b[39m▁\u001b[39m▅\u001b[39m▄\u001b[39m▄\u001b[39m▁\u001b[39m▄\u001b[39m▄\u001b[39m▅\u001b[39m▄\u001b[39m▅\u001b[39m▄\u001b[39m▅\u001b[39m▁\u001b[39m▆\u001b[39m▅\u001b[39m▆\u001b[39m▄\u001b[39m▆\u001b[39m▁\u001b[39m▆\u001b[39m▇\u001b[39m▄\u001b[39m▅\u001b[39m▄\u001b[39m▄\u001b[39m▅\u001b[39m▁\u001b[39m▄\u001b[39m \u001b[39m█\n",
       "  6.4 ms\u001b[90m       \u001b[39m\u001b[90mHistogram: \u001b[39m\u001b[90m\u001b[1mlog(\u001b[22m\u001b[39m\u001b[90mfrequency\u001b[39m\u001b[90m\u001b[1m)\u001b[22m\u001b[39m\u001b[90m by time\u001b[39m     6.72 ms \u001b[0m\u001b[1m<\u001b[22m\n",
       "\n",
       " Memory estimate\u001b[90m: \u001b[39m\u001b[33m0 bytes\u001b[39m, allocs estimate\u001b[90m: \u001b[39m\u001b[33m0\u001b[39m."
      ]
     },
     "execution_count": 18,
     "metadata": {},
     "output_type": "execute_result"
    }
   ],
   "source": [
    "c_fastmath_bench = @benchmark $c_sum_fastmath($a)"
   ]
  },
  {
   "cell_type": "code",
   "execution_count": 19,
   "metadata": {},
   "outputs": [
    {
     "data": {
      "text/plain": [
       "6.400959"
      ]
     },
     "execution_count": 19,
     "metadata": {},
     "output_type": "execute_result"
    }
   ],
   "source": [
    "d[\"C com -ffast-math\"] = minimum(c_fastmath_bench.times) / 1e6  # em milisegundos"
   ]
  },
  {
   "cell_type": "markdown",
   "metadata": {},
   "source": [
    "## 3. Python\n",
    "\n",
    "O pacote `PyCall` fornece uma interface entre a Julia e o Python:"
   ]
  },
  {
   "cell_type": "code",
   "execution_count": 20,
   "metadata": {},
   "outputs": [
    {
     "name": "stderr",
     "output_type": "stream",
     "text": [
      "\u001b[32m\u001b[1m   Resolving\u001b[22m\u001b[39m package versions...\n",
      "\u001b[32m\u001b[1m  No Changes\u001b[22m\u001b[39m to `~/julia-breve-intro/Project.toml`\n",
      "\u001b[32m\u001b[1m  No Changes\u001b[22m\u001b[39m to `~/julia-breve-intro/Manifest.toml`\n"
     ]
    }
   ],
   "source": [
    "Pkg.add(\"PyCall\")"
   ]
  },
  {
   "cell_type": "code",
   "execution_count": 21,
   "metadata": {},
   "outputs": [],
   "source": [
    "using PyCall"
   ]
  },
  {
   "cell_type": "code",
   "execution_count": 22,
   "metadata": {},
   "outputs": [
    {
     "data": {
      "text/plain": [
       "PyObject <built-in function sum>"
      ]
     },
     "execution_count": 22,
     "metadata": {},
     "output_type": "execute_result"
    }
   ],
   "source": [
    "# Importa a função \"sum\" do Python\n",
    "pysum = pybuiltin(\"sum\")"
   ]
  },
  {
   "cell_type": "code",
   "execution_count": 23,
   "metadata": {},
   "outputs": [
    {
     "data": {
      "text/plain": [
       "5.000614978701551e6"
      ]
     },
     "execution_count": 23,
     "metadata": {},
     "output_type": "execute_result"
    }
   ],
   "source": [
    "pysum(a)"
   ]
  },
  {
   "cell_type": "code",
   "execution_count": 24,
   "metadata": {},
   "outputs": [
    {
     "data": {
      "text/plain": [
       "true"
      ]
     },
     "execution_count": 24,
     "metadata": {},
     "output_type": "execute_result"
    }
   ],
   "source": [
    "pysum(a) ≈ sum(a)"
   ]
  },
  {
   "cell_type": "code",
   "execution_count": 25,
   "metadata": {},
   "outputs": [
    {
     "data": {
      "text/plain": [
       "BenchmarkTools.Trial: 8 samples with 1 evaluation.\n",
       " Range \u001b[90m(\u001b[39m\u001b[36m\u001b[1mmin\u001b[22m\u001b[39m … \u001b[35mmax\u001b[39m\u001b[90m):  \u001b[39m\u001b[36m\u001b[1m655.119 ms\u001b[22m\u001b[39m … \u001b[35m661.156 ms\u001b[39m  \u001b[90m┊\u001b[39m GC \u001b[90m(\u001b[39mmin … max\u001b[90m): \u001b[39m0.00% … 0.00%\n",
       " Time  \u001b[90m(\u001b[39m\u001b[34m\u001b[1mmedian\u001b[22m\u001b[39m\u001b[90m):     \u001b[39m\u001b[34m\u001b[1m658.621 ms               \u001b[22m\u001b[39m\u001b[90m┊\u001b[39m GC \u001b[90m(\u001b[39mmedian\u001b[90m):    \u001b[39m0.00%\n",
       " Time  \u001b[90m(\u001b[39m\u001b[32m\u001b[1mmean\u001b[22m\u001b[39m ± \u001b[32mσ\u001b[39m\u001b[90m):   \u001b[39m\u001b[32m\u001b[1m658.488 ms\u001b[22m\u001b[39m ± \u001b[32m  1.909 ms\u001b[39m  \u001b[90m┊\u001b[39m GC \u001b[90m(\u001b[39mmean ± σ\u001b[90m):  \u001b[39m0.00% ± 0.00%\n",
       "\n",
       "  \u001b[39m█\u001b[39m \u001b[39m \u001b[39m \u001b[39m \u001b[39m \u001b[39m \u001b[39m \u001b[39m \u001b[39m \u001b[39m \u001b[39m \u001b[39m \u001b[39m \u001b[39m \u001b[39m \u001b[39m \u001b[39m \u001b[39m█\u001b[39m \u001b[39m \u001b[39m \u001b[39m \u001b[39m \u001b[39m \u001b[39m█\u001b[39m \u001b[39m \u001b[39m \u001b[39m \u001b[39m \u001b[39m \u001b[34m█\u001b[39m\u001b[39m \u001b[32m \u001b[39m\u001b[39m \u001b[39m \u001b[39m \u001b[39m█\u001b[39m \u001b[39m \u001b[39m \u001b[39m \u001b[39m \u001b[39m \u001b[39m█\u001b[39m \u001b[39m \u001b[39m \u001b[39m \u001b[39m█\u001b[39m \u001b[39m \u001b[39m \u001b[39m \u001b[39m \u001b[39m \u001b[39m \u001b[39m \u001b[39m \u001b[39m█\u001b[39m \u001b[39m \n",
       "  \u001b[39m█\u001b[39m▁\u001b[39m▁\u001b[39m▁\u001b[39m▁\u001b[39m▁\u001b[39m▁\u001b[39m▁\u001b[39m▁\u001b[39m▁\u001b[39m▁\u001b[39m▁\u001b[39m▁\u001b[39m▁\u001b[39m▁\u001b[39m▁\u001b[39m▁\u001b[39m▁\u001b[39m█\u001b[39m▁\u001b[39m▁\u001b[39m▁\u001b[39m▁\u001b[39m▁\u001b[39m▁\u001b[39m█\u001b[39m▁\u001b[39m▁\u001b[39m▁\u001b[39m▁\u001b[39m▁\u001b[39m▁\u001b[34m█\u001b[39m\u001b[39m▁\u001b[32m▁\u001b[39m\u001b[39m▁\u001b[39m▁\u001b[39m▁\u001b[39m█\u001b[39m▁\u001b[39m▁\u001b[39m▁\u001b[39m▁\u001b[39m▁\u001b[39m▁\u001b[39m█\u001b[39m▁\u001b[39m▁\u001b[39m▁\u001b[39m▁\u001b[39m█\u001b[39m▁\u001b[39m▁\u001b[39m▁\u001b[39m▁\u001b[39m▁\u001b[39m▁\u001b[39m▁\u001b[39m▁\u001b[39m▁\u001b[39m█\u001b[39m \u001b[39m▁\n",
       "  655 ms\u001b[90m           Histogram: frequency by time\u001b[39m          661 ms \u001b[0m\u001b[1m<\u001b[22m\n",
       "\n",
       " Memory estimate\u001b[90m: \u001b[39m\u001b[33m336 bytes\u001b[39m, allocs estimate\u001b[90m: \u001b[39m\u001b[33m6\u001b[39m."
      ]
     },
     "execution_count": 25,
     "metadata": {},
     "output_type": "execute_result"
    }
   ],
   "source": [
    "py_list_bench = @benchmark $pysum($a)"
   ]
  },
  {
   "cell_type": "code",
   "execution_count": 26,
   "metadata": {},
   "outputs": [
    {
     "data": {
      "text/plain": [
       "Dict{Any, Any} with 3 entries:\n",
       "  \"C com -ffast-math\" => 6.40096\n",
       "  \"C\"                 => 11.9494\n",
       "  \"Python\"            => 655.119"
      ]
     },
     "execution_count": 26,
     "metadata": {},
     "output_type": "execute_result"
    }
   ],
   "source": [
    "d[\"Python\"] = minimum(py_list_bench.times) / 1e6\n",
    "d"
   ]
  },
  {
   "cell_type": "markdown",
   "metadata": {},
   "source": [
    "## 4. Python `numpy`\n",
    "\n",
    "A biblioteca `numpy` do Python é escrita em C e também utiliza SIMD.\n",
    "Essa biblioteca pode ser instalada na Julia da seguinte forma:"
   ]
  },
  {
   "cell_type": "code",
   "execution_count": 27,
   "metadata": {},
   "outputs": [
    {
     "name": "stderr",
     "output_type": "stream",
     "text": [
      "\u001b[32m\u001b[1m   Resolving\u001b[22m\u001b[39m package versions...\n",
      "\u001b[32m\u001b[1m  No Changes\u001b[22m\u001b[39m to `~/julia-breve-intro/Project.toml`\n",
      "\u001b[32m\u001b[1m  No Changes\u001b[22m\u001b[39m to `~/julia-breve-intro/Manifest.toml`\n"
     ]
    }
   ],
   "source": [
    "Pkg.add(\"Conda\")"
   ]
  },
  {
   "cell_type": "code",
   "execution_count": 28,
   "metadata": {},
   "outputs": [],
   "source": [
    "using Conda"
   ]
  },
  {
   "cell_type": "code",
   "execution_count": 29,
   "metadata": {},
   "outputs": [
    {
     "data": {
      "text/plain": [
       "BenchmarkTools.Trial: 902 samples with 1 evaluation.\n",
       " Range \u001b[90m(\u001b[39m\u001b[36m\u001b[1mmin\u001b[22m\u001b[39m … \u001b[35mmax\u001b[39m\u001b[90m):  \u001b[39m\u001b[36m\u001b[1m5.459 ms\u001b[22m\u001b[39m … \u001b[35m 6.510 ms\u001b[39m  \u001b[90m┊\u001b[39m GC \u001b[90m(\u001b[39mmin … max\u001b[90m): \u001b[39m0.00% … 0.00%\n",
       " Time  \u001b[90m(\u001b[39m\u001b[34m\u001b[1mmedian\u001b[22m\u001b[39m\u001b[90m):     \u001b[39m\u001b[34m\u001b[1m5.511 ms              \u001b[22m\u001b[39m\u001b[90m┊\u001b[39m GC \u001b[90m(\u001b[39mmedian\u001b[90m):    \u001b[39m0.00%\n",
       " Time  \u001b[90m(\u001b[39m\u001b[32m\u001b[1mmean\u001b[22m\u001b[39m ± \u001b[32mσ\u001b[39m\u001b[90m):   \u001b[39m\u001b[32m\u001b[1m5.534 ms\u001b[22m\u001b[39m ± \u001b[32m91.191 μs\u001b[39m  \u001b[90m┊\u001b[39m GC \u001b[90m(\u001b[39mmean ± σ\u001b[90m):  \u001b[39m0.00% ± 0.00%\n",
       "\n",
       "  \u001b[39m \u001b[39m▂\u001b[39m▄\u001b[39m▆\u001b[39m█\u001b[39m▆\u001b[34m▅\u001b[39m\u001b[39m▅\u001b[39m▂\u001b[32m▁\u001b[39m\u001b[39m \u001b[39m \u001b[39m \u001b[39m \u001b[39m \u001b[39m \u001b[39m \u001b[39m \u001b[39m \u001b[39m \u001b[39m \u001b[39m \u001b[39m \u001b[39m \u001b[39m \u001b[39m \u001b[39m \u001b[39m \u001b[39m \u001b[39m \u001b[39m \u001b[39m \u001b[39m \u001b[39m \u001b[39m \u001b[39m \u001b[39m \u001b[39m \u001b[39m \u001b[39m \u001b[39m \u001b[39m \u001b[39m \u001b[39m \u001b[39m \u001b[39m \u001b[39m \u001b[39m \u001b[39m \u001b[39m \u001b[39m \u001b[39m \u001b[39m \u001b[39m \u001b[39m \u001b[39m \u001b[39m \u001b[39m \u001b[39m \u001b[39m \n",
       "  \u001b[39m▅\u001b[39m█\u001b[39m█\u001b[39m█\u001b[39m█\u001b[39m█\u001b[34m█\u001b[39m\u001b[39m█\u001b[39m█\u001b[32m█\u001b[39m\u001b[39m█\u001b[39m▆\u001b[39m▇\u001b[39m▄\u001b[39m▃\u001b[39m▃\u001b[39m▂\u001b[39m▂\u001b[39m▃\u001b[39m▃\u001b[39m▃\u001b[39m▂\u001b[39m▂\u001b[39m▂\u001b[39m▂\u001b[39m▂\u001b[39m▁\u001b[39m▁\u001b[39m▂\u001b[39m▂\u001b[39m▂\u001b[39m▂\u001b[39m▂\u001b[39m▁\u001b[39m▂\u001b[39m▃\u001b[39m▂\u001b[39m▂\u001b[39m▂\u001b[39m▃\u001b[39m▂\u001b[39m▃\u001b[39m▂\u001b[39m▂\u001b[39m▂\u001b[39m▂\u001b[39m▁\u001b[39m▂\u001b[39m▁\u001b[39m▁\u001b[39m▁\u001b[39m▂\u001b[39m▁\u001b[39m▁\u001b[39m▂\u001b[39m▁\u001b[39m▁\u001b[39m▂\u001b[39m \u001b[39m▃\n",
       "  5.46 ms\u001b[90m        Histogram: frequency by time\u001b[39m        5.94 ms \u001b[0m\u001b[1m<\u001b[22m\n",
       "\n",
       " Memory estimate\u001b[90m: \u001b[39m\u001b[33m336 bytes\u001b[39m, allocs estimate\u001b[90m: \u001b[39m\u001b[33m6\u001b[39m."
      ]
     },
     "execution_count": 29,
     "metadata": {},
     "output_type": "execute_result"
    }
   ],
   "source": [
    "numpy_sum = pyimport(\"numpy\")[\"sum\"]\n",
    "\n",
    "py_numpy_bench = @benchmark $numpy_sum($a)"
   ]
  },
  {
   "cell_type": "code",
   "execution_count": 30,
   "metadata": {},
   "outputs": [
    {
     "data": {
      "text/plain": [
       "5.000614978701623e6"
      ]
     },
     "execution_count": 30,
     "metadata": {},
     "output_type": "execute_result"
    }
   ],
   "source": [
    "numpy_sum(a)"
   ]
  },
  {
   "cell_type": "code",
   "execution_count": 31,
   "metadata": {},
   "outputs": [
    {
     "data": {
      "text/plain": [
       "true"
      ]
     },
     "execution_count": 31,
     "metadata": {},
     "output_type": "execute_result"
    }
   ],
   "source": [
    "numpy_sum(a) ≈ sum(a)"
   ]
  },
  {
   "cell_type": "code",
   "execution_count": 32,
   "metadata": {},
   "outputs": [
    {
     "data": {
      "text/plain": [
       "Dict{Any, Any} with 4 entries:\n",
       "  \"C com -ffast-math\" => 6.40096\n",
       "  \"C\"                 => 11.9494\n",
       "  \"Python numpy\"      => 5.45902\n",
       "  \"Python\"            => 655.119"
      ]
     },
     "execution_count": 32,
     "metadata": {},
     "output_type": "execute_result"
    }
   ],
   "source": [
    "d[\"Python numpy\"] = minimum(py_numpy_bench.times) / 1e6\n",
    "d"
   ]
  },
  {
   "cell_type": "markdown",
   "metadata": {},
   "source": [
    "## 5. Python (escrito à mão)"
   ]
  },
  {
   "cell_type": "code",
   "execution_count": 33,
   "metadata": {},
   "outputs": [
    {
     "data": {
      "text/plain": [
       "PyObject <function py_sum at 0x7f69417b24c0>"
      ]
     },
     "execution_count": 33,
     "metadata": {},
     "output_type": "execute_result"
    }
   ],
   "source": [
    "py\"\"\"\n",
    "def py_sum(A):\n",
    "    s = 0.0\n",
    "    for a in A:\n",
    "        s += a\n",
    "    return s\n",
    "\"\"\"\n",
    "\n",
    "sum_py = py\"py_sum\""
   ]
  },
  {
   "cell_type": "code",
   "execution_count": 34,
   "metadata": {},
   "outputs": [
    {
     "data": {
      "text/plain": [
       "BenchmarkTools.Trial: 7 samples with 1 evaluation.\n",
       " Range \u001b[90m(\u001b[39m\u001b[36m\u001b[1mmin\u001b[22m\u001b[39m … \u001b[35mmax\u001b[39m\u001b[90m):  \u001b[39m\u001b[36m\u001b[1m775.420 ms\u001b[22m\u001b[39m … \u001b[35m782.050 ms\u001b[39m  \u001b[90m┊\u001b[39m GC \u001b[90m(\u001b[39mmin … max\u001b[90m): \u001b[39m0.00% … 0.00%\n",
       " Time  \u001b[90m(\u001b[39m\u001b[34m\u001b[1mmedian\u001b[22m\u001b[39m\u001b[90m):     \u001b[39m\u001b[34m\u001b[1m779.590 ms               \u001b[22m\u001b[39m\u001b[90m┊\u001b[39m GC \u001b[90m(\u001b[39mmedian\u001b[90m):    \u001b[39m0.00%\n",
       " Time  \u001b[90m(\u001b[39m\u001b[32m\u001b[1mmean\u001b[22m\u001b[39m ± \u001b[32mσ\u001b[39m\u001b[90m):   \u001b[39m\u001b[32m\u001b[1m779.008 ms\u001b[22m\u001b[39m ± \u001b[32m  2.489 ms\u001b[39m  \u001b[90m┊\u001b[39m GC \u001b[90m(\u001b[39mmean ± σ\u001b[90m):  \u001b[39m0.00% ± 0.00%\n",
       "\n",
       "  \u001b[39m█\u001b[39m \u001b[39m \u001b[39m \u001b[39m \u001b[39m \u001b[39m \u001b[39m \u001b[39m \u001b[39m \u001b[39m \u001b[39m \u001b[39m \u001b[39m█\u001b[39m \u001b[39m \u001b[39m \u001b[39m█\u001b[34m \u001b[39m\u001b[39m \u001b[39m \u001b[39m \u001b[39m \u001b[39m \u001b[39m \u001b[39m \u001b[39m \u001b[39m \u001b[39m \u001b[39m \u001b[39m \u001b[39m \u001b[39m \u001b[32m \u001b[39m\u001b[39m \u001b[39m \u001b[39m \u001b[39m \u001b[39m█\u001b[39m \u001b[39m \u001b[39m \u001b[39m \u001b[39m \u001b[39m \u001b[39m \u001b[39m█\u001b[39m \u001b[39m \u001b[39m \u001b[39m \u001b[39m \u001b[39m \u001b[39m█\u001b[39m \u001b[39m \u001b[39m \u001b[39m \u001b[39m \u001b[39m \u001b[39m█\u001b[39m \u001b[39m \n",
       "  \u001b[39m█\u001b[39m▁\u001b[39m▁\u001b[39m▁\u001b[39m▁\u001b[39m▁\u001b[39m▁\u001b[39m▁\u001b[39m▁\u001b[39m▁\u001b[39m▁\u001b[39m▁\u001b[39m▁\u001b[39m█\u001b[39m▁\u001b[39m▁\u001b[39m▁\u001b[39m█\u001b[34m▁\u001b[39m\u001b[39m▁\u001b[39m▁\u001b[39m▁\u001b[39m▁\u001b[39m▁\u001b[39m▁\u001b[39m▁\u001b[39m▁\u001b[39m▁\u001b[39m▁\u001b[39m▁\u001b[39m▁\u001b[39m▁\u001b[39m▁\u001b[32m▁\u001b[39m\u001b[39m▁\u001b[39m▁\u001b[39m▁\u001b[39m▁\u001b[39m█\u001b[39m▁\u001b[39m▁\u001b[39m▁\u001b[39m▁\u001b[39m▁\u001b[39m▁\u001b[39m▁\u001b[39m█\u001b[39m▁\u001b[39m▁\u001b[39m▁\u001b[39m▁\u001b[39m▁\u001b[39m▁\u001b[39m█\u001b[39m▁\u001b[39m▁\u001b[39m▁\u001b[39m▁\u001b[39m▁\u001b[39m▁\u001b[39m█\u001b[39m \u001b[39m▁\n",
       "  775 ms\u001b[90m           Histogram: frequency by time\u001b[39m          782 ms \u001b[0m\u001b[1m<\u001b[22m\n",
       "\n",
       " Memory estimate\u001b[90m: \u001b[39m\u001b[33m336 bytes\u001b[39m, allocs estimate\u001b[90m: \u001b[39m\u001b[33m6\u001b[39m."
      ]
     },
     "execution_count": 34,
     "metadata": {},
     "output_type": "execute_result"
    }
   ],
   "source": [
    "py_hand = @benchmark $sum_py($a)"
   ]
  },
  {
   "cell_type": "code",
   "execution_count": 35,
   "metadata": {},
   "outputs": [
    {
     "data": {
      "text/plain": [
       "5.000614978701551e6"
      ]
     },
     "execution_count": 35,
     "metadata": {},
     "output_type": "execute_result"
    }
   ],
   "source": [
    "sum_py(a)"
   ]
  },
  {
   "cell_type": "code",
   "execution_count": 36,
   "metadata": {},
   "outputs": [
    {
     "data": {
      "text/plain": [
       "true"
      ]
     },
     "execution_count": 36,
     "metadata": {},
     "output_type": "execute_result"
    }
   ],
   "source": [
    "sum_py(a) ≈ sum(a)"
   ]
  },
  {
   "cell_type": "code",
   "execution_count": 37,
   "metadata": {},
   "outputs": [
    {
     "data": {
      "text/plain": [
       "Dict{Any, Any} with 5 entries:\n",
       "  \"C com -ffast-math\"    => 6.40096\n",
       "  \"Python escrito à mão\" => 775.42\n",
       "  \"C\"                    => 11.9494\n",
       "  \"Python numpy\"         => 5.45902\n",
       "  \"Python\"               => 655.119"
      ]
     },
     "execution_count": 37,
     "metadata": {},
     "output_type": "execute_result"
    }
   ],
   "source": [
    "d[\"Python escrito à mão\"] = minimum(py_hand.times) / 1e6\n",
    "d"
   ]
  },
  {
   "cell_type": "markdown",
   "metadata": {},
   "source": [
    "## 6. Julia\n",
    "\n",
    "Em Julia, a função `sum` é escrita em Julia, não em C."
   ]
  },
  {
   "cell_type": "code",
   "execution_count": 38,
   "metadata": {},
   "outputs": [
    {
     "data": {
      "text/html": [
       "sum(a::<b>AbstractArray</b>; <i>dims, kw...</i>) in Base at <a href=\"https://github.com/JuliaLang/julia/tree/1b93d53fc4bb59350ada898038ed4de2994cce33/base/reducedim.jl#L873\" target=\"_blank\">reducedim.jl:873</a>"
      ],
      "text/plain": [
       "sum(a::AbstractArray; dims, kw...) in Base at reducedim.jl:873"
      ]
     },
     "execution_count": 38,
     "metadata": {},
     "output_type": "execute_result"
    }
   ],
   "source": [
    "@which sum(a)"
   ]
  },
  {
   "cell_type": "code",
   "execution_count": 39,
   "metadata": {},
   "outputs": [
    {
     "data": {
      "text/plain": [
       "BenchmarkTools.Trial: 900 samples with 1 evaluation.\n",
       " Range \u001b[90m(\u001b[39m\u001b[36m\u001b[1mmin\u001b[22m\u001b[39m … \u001b[35mmax\u001b[39m\u001b[90m):  \u001b[39m\u001b[36m\u001b[1m5.456 ms\u001b[22m\u001b[39m … \u001b[35m 6.148 ms\u001b[39m  \u001b[90m┊\u001b[39m GC \u001b[90m(\u001b[39mmin … max\u001b[90m): \u001b[39m0.00% … 0.00%\n",
       " Time  \u001b[90m(\u001b[39m\u001b[34m\u001b[1mmedian\u001b[22m\u001b[39m\u001b[90m):     \u001b[39m\u001b[34m\u001b[1m5.520 ms              \u001b[22m\u001b[39m\u001b[90m┊\u001b[39m GC \u001b[90m(\u001b[39mmedian\u001b[90m):    \u001b[39m0.00%\n",
       " Time  \u001b[90m(\u001b[39m\u001b[32m\u001b[1mmean\u001b[22m\u001b[39m ± \u001b[32mσ\u001b[39m\u001b[90m):   \u001b[39m\u001b[32m\u001b[1m5.543 ms\u001b[22m\u001b[39m ± \u001b[32m88.517 μs\u001b[39m  \u001b[90m┊\u001b[39m GC \u001b[90m(\u001b[39mmean ± σ\u001b[90m):  \u001b[39m0.00% ± 0.00%\n",
       "\n",
       "  \u001b[39m \u001b[39m \u001b[39m▂\u001b[39m▂\u001b[39m▃\u001b[39m▅\u001b[39m▆\u001b[39m█\u001b[34m▄\u001b[39m\u001b[39m \u001b[32m▁\u001b[39m\u001b[39m \u001b[39m \u001b[39m \u001b[39m \u001b[39m \u001b[39m \u001b[39m \u001b[39m \u001b[39m \u001b[39m \u001b[39m \u001b[39m \u001b[39m \u001b[39m \u001b[39m \u001b[39m \u001b[39m \u001b[39m \u001b[39m \u001b[39m \u001b[39m \u001b[39m \u001b[39m \u001b[39m \u001b[39m \u001b[39m \u001b[39m \u001b[39m \u001b[39m \u001b[39m \u001b[39m \u001b[39m \u001b[39m \u001b[39m \u001b[39m \u001b[39m \u001b[39m \u001b[39m \u001b[39m \u001b[39m \u001b[39m \u001b[39m \u001b[39m \u001b[39m \u001b[39m \u001b[39m \u001b[39m \u001b[39m \u001b[39m \n",
       "  \u001b[39m▅\u001b[39m█\u001b[39m█\u001b[39m█\u001b[39m█\u001b[39m█\u001b[39m█\u001b[39m█\u001b[34m█\u001b[39m\u001b[39m█\u001b[32m█\u001b[39m\u001b[39m█\u001b[39m▆\u001b[39m▆\u001b[39m▅\u001b[39m▄\u001b[39m▄\u001b[39m▄\u001b[39m▄\u001b[39m▂\u001b[39m▃\u001b[39m▃\u001b[39m▂\u001b[39m▂\u001b[39m▂\u001b[39m▂\u001b[39m▂\u001b[39m▂\u001b[39m▂\u001b[39m▂\u001b[39m▂\u001b[39m▂\u001b[39m▁\u001b[39m▂\u001b[39m▂\u001b[39m▂\u001b[39m▂\u001b[39m▃\u001b[39m▂\u001b[39m▃\u001b[39m▃\u001b[39m▃\u001b[39m▂\u001b[39m▂\u001b[39m▁\u001b[39m▁\u001b[39m▁\u001b[39m▁\u001b[39m▁\u001b[39m▁\u001b[39m▁\u001b[39m▂\u001b[39m▂\u001b[39m▂\u001b[39m▂\u001b[39m▁\u001b[39m▂\u001b[39m▂\u001b[39m \u001b[39m▃\n",
       "  5.46 ms\u001b[90m        Histogram: frequency by time\u001b[39m        5.94 ms \u001b[0m\u001b[1m<\u001b[22m\n",
       "\n",
       " Memory estimate\u001b[90m: \u001b[39m\u001b[33m0 bytes\u001b[39m, allocs estimate\u001b[90m: \u001b[39m\u001b[33m0\u001b[39m."
      ]
     },
     "execution_count": 39,
     "metadata": {},
     "output_type": "execute_result"
    }
   ],
   "source": [
    "j_bench = @benchmark sum($a)"
   ]
  },
  {
   "cell_type": "code",
   "execution_count": 40,
   "metadata": {},
   "outputs": [
    {
     "data": {
      "text/plain": [
       "Dict{Any, Any} with 6 entries:\n",
       "  \"C com -ffast-math\"    => 6.40096\n",
       "  \"Python escrito à mão\" => 775.42\n",
       "  \"C\"                    => 11.9494\n",
       "  \"Python numpy\"         => 5.45902\n",
       "  \"Julia\"                => 5.45624\n",
       "  \"Python\"               => 655.119"
      ]
     },
     "execution_count": 40,
     "metadata": {},
     "output_type": "execute_result"
    }
   ],
   "source": [
    "d[\"Julia\"] = minimum(j_bench.times) / 1e6\n",
    "d"
   ]
  },
  {
   "cell_type": "markdown",
   "metadata": {},
   "source": [
    "## 7. Julia (escrito à mão)"
   ]
  },
  {
   "cell_type": "code",
   "execution_count": 41,
   "metadata": {},
   "outputs": [
    {
     "data": {
      "text/plain": [
       "mysum (generic function with 1 method)"
      ]
     },
     "execution_count": 41,
     "metadata": {},
     "output_type": "execute_result"
    }
   ],
   "source": [
    "function mysum(A)   \n",
    "    s = 0.0 # s = zero(eltype(a))\n",
    "    for a in A\n",
    "        s += a\n",
    "    end\n",
    "    s\n",
    "end"
   ]
  },
  {
   "cell_type": "code",
   "execution_count": 42,
   "metadata": {},
   "outputs": [
    {
     "data": {
      "text/plain": [
       "BenchmarkTools.Trial: 403 samples with 1 evaluation.\n",
       " Range \u001b[90m(\u001b[39m\u001b[36m\u001b[1mmin\u001b[22m\u001b[39m … \u001b[35mmax\u001b[39m\u001b[90m):  \u001b[39m\u001b[36m\u001b[1m12.369 ms\u001b[22m\u001b[39m … \u001b[35m13.012 ms\u001b[39m  \u001b[90m┊\u001b[39m GC \u001b[90m(\u001b[39mmin … max\u001b[90m): \u001b[39m0.00% … 0.00%\n",
       " Time  \u001b[90m(\u001b[39m\u001b[34m\u001b[1mmedian\u001b[22m\u001b[39m\u001b[90m):     \u001b[39m\u001b[34m\u001b[1m12.383 ms              \u001b[22m\u001b[39m\u001b[90m┊\u001b[39m GC \u001b[90m(\u001b[39mmedian\u001b[90m):    \u001b[39m0.00%\n",
       " Time  \u001b[90m(\u001b[39m\u001b[32m\u001b[1mmean\u001b[22m\u001b[39m ± \u001b[32mσ\u001b[39m\u001b[90m):   \u001b[39m\u001b[32m\u001b[1m12.406 ms\u001b[22m\u001b[39m ± \u001b[32m91.424 μs\u001b[39m  \u001b[90m┊\u001b[39m GC \u001b[90m(\u001b[39mmean ± σ\u001b[90m):  \u001b[39m0.00% ± 0.00%\n",
       "\n",
       "  \u001b[39m▆\u001b[39m█\u001b[34m▄\u001b[39m\u001b[39m \u001b[32m \u001b[39m\u001b[39m \u001b[39m \u001b[39m \u001b[39m \u001b[39m \u001b[39m \u001b[39m \u001b[39m \u001b[39m \u001b[39m \u001b[39m \u001b[39m \u001b[39m \u001b[39m \u001b[39m \u001b[39m \u001b[39m \u001b[39m \u001b[39m \u001b[39m \u001b[39m \u001b[39m \u001b[39m \u001b[39m \u001b[39m \u001b[39m \u001b[39m \u001b[39m \u001b[39m \u001b[39m \u001b[39m \u001b[39m \u001b[39m \u001b[39m \u001b[39m \u001b[39m \u001b[39m \u001b[39m \u001b[39m \u001b[39m \u001b[39m \u001b[39m \u001b[39m \u001b[39m \u001b[39m \u001b[39m \u001b[39m \u001b[39m \u001b[39m \u001b[39m \u001b[39m \u001b[39m \u001b[39m \u001b[39m \u001b[39m \u001b[39m \n",
       "  \u001b[39m█\u001b[39m█\u001b[34m█\u001b[39m\u001b[39m█\u001b[32m▄\u001b[39m\u001b[39m▄\u001b[39m▁\u001b[39m▁\u001b[39m▁\u001b[39m▁\u001b[39m▁\u001b[39m▄\u001b[39m▅\u001b[39m▅\u001b[39m▁\u001b[39m▁\u001b[39m▄\u001b[39m▄\u001b[39m▁\u001b[39m▁\u001b[39m▁\u001b[39m▄\u001b[39m▅\u001b[39m▁\u001b[39m▁\u001b[39m▁\u001b[39m▁\u001b[39m▁\u001b[39m▁\u001b[39m▄\u001b[39m▁\u001b[39m▁\u001b[39m▅\u001b[39m▁\u001b[39m▄\u001b[39m▁\u001b[39m▄\u001b[39m▅\u001b[39m▁\u001b[39m▆\u001b[39m▅\u001b[39m▆\u001b[39m▁\u001b[39m▁\u001b[39m▁\u001b[39m▁\u001b[39m▁\u001b[39m▁\u001b[39m▁\u001b[39m▁\u001b[39m▁\u001b[39m▁\u001b[39m▁\u001b[39m▁\u001b[39m▁\u001b[39m▁\u001b[39m▁\u001b[39m▁\u001b[39m▅\u001b[39m \u001b[39m▆\n",
       "  12.4 ms\u001b[90m      \u001b[39m\u001b[90mHistogram: \u001b[39m\u001b[90m\u001b[1mlog(\u001b[22m\u001b[39m\u001b[90mfrequency\u001b[39m\u001b[90m\u001b[1m)\u001b[22m\u001b[39m\u001b[90m by time\u001b[39m      12.9 ms \u001b[0m\u001b[1m<\u001b[22m\n",
       "\n",
       " Memory estimate\u001b[90m: \u001b[39m\u001b[33m0 bytes\u001b[39m, allocs estimate\u001b[90m: \u001b[39m\u001b[33m0\u001b[39m."
      ]
     },
     "execution_count": 42,
     "metadata": {},
     "output_type": "execute_result"
    }
   ],
   "source": [
    "j_bench_hand = @benchmark mysum($a)"
   ]
  },
  {
   "cell_type": "code",
   "execution_count": 43,
   "metadata": {},
   "outputs": [
    {
     "data": {
      "text/plain": [
       "Dict{Any, Any} with 7 entries:\n",
       "  \"C com -ffast-math\"    => 6.40096\n",
       "  \"Python escrito à mão\" => 775.42\n",
       "  \"C\"                    => 11.9494\n",
       "  \"Python numpy\"         => 5.45902\n",
       "  \"Julia escrito à mão\"  => 12.3693\n",
       "  \"Julia\"                => 5.45624\n",
       "  \"Python\"               => 655.119"
      ]
     },
     "execution_count": 43,
     "metadata": {},
     "output_type": "execute_result"
    }
   ],
   "source": [
    "d[\"Julia escrito à mão\"] = minimum(j_bench_hand.times) / 1e6\n",
    "d"
   ]
  },
  {
   "cell_type": "markdown",
   "metadata": {},
   "source": [
    "## 8. Julia (escrito à mão com SIMD)"
   ]
  },
  {
   "cell_type": "code",
   "execution_count": 44,
   "metadata": {},
   "outputs": [
    {
     "data": {
      "text/plain": [
       "mysum_simd (generic function with 1 method)"
      ]
     },
     "execution_count": 44,
     "metadata": {},
     "output_type": "execute_result"
    }
   ],
   "source": [
    "function mysum_simd(A)   \n",
    "    s = 0.0 # s = zero(eltype(A))\n",
    "    @simd for a in A\n",
    "        s += a\n",
    "    end\n",
    "    s\n",
    "end"
   ]
  },
  {
   "cell_type": "code",
   "execution_count": 45,
   "metadata": {},
   "outputs": [
    {
     "data": {
      "text/plain": [
       "BenchmarkTools.Trial: 907 samples with 1 evaluation.\n",
       " Range \u001b[90m(\u001b[39m\u001b[36m\u001b[1mmin\u001b[22m\u001b[39m … \u001b[35mmax\u001b[39m\u001b[90m):  \u001b[39m\u001b[36m\u001b[1m5.408 ms\u001b[22m\u001b[39m … \u001b[35m 6.229 ms\u001b[39m  \u001b[90m┊\u001b[39m GC \u001b[90m(\u001b[39mmin … max\u001b[90m): \u001b[39m0.00% … 0.00%\n",
       " Time  \u001b[90m(\u001b[39m\u001b[34m\u001b[1mmedian\u001b[22m\u001b[39m\u001b[90m):     \u001b[39m\u001b[34m\u001b[1m5.476 ms              \u001b[22m\u001b[39m\u001b[90m┊\u001b[39m GC \u001b[90m(\u001b[39mmedian\u001b[90m):    \u001b[39m0.00%\n",
       " Time  \u001b[90m(\u001b[39m\u001b[32m\u001b[1mmean\u001b[22m\u001b[39m ± \u001b[32mσ\u001b[39m\u001b[90m):   \u001b[39m\u001b[32m\u001b[1m5.499 ms\u001b[22m\u001b[39m ± \u001b[32m94.542 μs\u001b[39m  \u001b[90m┊\u001b[39m GC \u001b[90m(\u001b[39mmean ± σ\u001b[90m):  \u001b[39m0.00% ± 0.00%\n",
       "\n",
       "  \u001b[39m \u001b[39m \u001b[39m▂\u001b[39m▆\u001b[39m█\u001b[39m▆\u001b[39m▇\u001b[39m▆\u001b[34m▄\u001b[39m\u001b[39m▃\u001b[32m▁\u001b[39m\u001b[39m▁\u001b[39m▂\u001b[39m▁\u001b[39m \u001b[39m \u001b[39m \u001b[39m \u001b[39m \u001b[39m \u001b[39m \u001b[39m \u001b[39m \u001b[39m \u001b[39m \u001b[39m \u001b[39m \u001b[39m \u001b[39m \u001b[39m \u001b[39m \u001b[39m \u001b[39m \u001b[39m \u001b[39m \u001b[39m \u001b[39m \u001b[39m \u001b[39m \u001b[39m \u001b[39m \u001b[39m \u001b[39m \u001b[39m \u001b[39m \u001b[39m \u001b[39m \u001b[39m \u001b[39m \u001b[39m \u001b[39m \u001b[39m \u001b[39m \u001b[39m \u001b[39m \u001b[39m \u001b[39m \u001b[39m \u001b[39m \u001b[39m \n",
       "  \u001b[39m▅\u001b[39m▇\u001b[39m█\u001b[39m█\u001b[39m█\u001b[39m█\u001b[39m█\u001b[39m█\u001b[34m█\u001b[39m\u001b[39m█\u001b[32m█\u001b[39m\u001b[39m█\u001b[39m█\u001b[39m█\u001b[39m▆\u001b[39m▄\u001b[39m▄\u001b[39m▄\u001b[39m▃\u001b[39m▃\u001b[39m▂\u001b[39m▃\u001b[39m▂\u001b[39m▂\u001b[39m▂\u001b[39m▂\u001b[39m▁\u001b[39m▂\u001b[39m▂\u001b[39m▁\u001b[39m▂\u001b[39m▂\u001b[39m▂\u001b[39m▂\u001b[39m▂\u001b[39m▂\u001b[39m▃\u001b[39m▃\u001b[39m▃\u001b[39m▃\u001b[39m▂\u001b[39m▂\u001b[39m▂\u001b[39m▂\u001b[39m▂\u001b[39m▂\u001b[39m▂\u001b[39m▂\u001b[39m▂\u001b[39m▁\u001b[39m▁\u001b[39m▁\u001b[39m▁\u001b[39m▁\u001b[39m▁\u001b[39m▁\u001b[39m▁\u001b[39m▂\u001b[39m \u001b[39m▃\n",
       "  5.41 ms\u001b[90m        Histogram: frequency by time\u001b[39m        5.92 ms \u001b[0m\u001b[1m<\u001b[22m\n",
       "\n",
       " Memory estimate\u001b[90m: \u001b[39m\u001b[33m0 bytes\u001b[39m, allocs estimate\u001b[90m: \u001b[39m\u001b[33m0\u001b[39m."
      ]
     },
     "execution_count": 45,
     "metadata": {},
     "output_type": "execute_result"
    }
   ],
   "source": [
    "j_bench_hand_simd = @benchmark mysum_simd($a)"
   ]
  },
  {
   "cell_type": "code",
   "execution_count": 46,
   "metadata": {},
   "outputs": [
    {
     "data": {
      "text/plain": [
       "5.000614978701581e6"
      ]
     },
     "execution_count": 46,
     "metadata": {},
     "output_type": "execute_result"
    }
   ],
   "source": [
    "mysum_simd(a)"
   ]
  },
  {
   "cell_type": "code",
   "execution_count": 47,
   "metadata": {},
   "outputs": [
    {
     "data": {
      "text/plain": [
       "Dict{Any, Any} with 8 entries:\n",
       "  \"Julia escrito à mão com SIMD\" => 5.40793\n",
       "  \"C com -ffast-math\"            => 6.40096\n",
       "  \"Python escrito à mão\"         => 775.42\n",
       "  \"C\"                            => 11.9494\n",
       "  \"Python numpy\"                 => 5.45902\n",
       "  \"Julia escrito à mão\"          => 12.3693\n",
       "  \"Julia\"                        => 5.45624\n",
       "  \"Python\"                       => 655.119"
      ]
     },
     "execution_count": 47,
     "metadata": {},
     "output_type": "execute_result"
    }
   ],
   "source": [
    "d[\"Julia escrito à mão com SIMD\"] = minimum(j_bench_hand_simd.times) / 1e6\n",
    "d"
   ]
  },
  {
   "cell_type": "markdown",
   "metadata": {},
   "source": [
    "## Em resumo"
   ]
  },
  {
   "cell_type": "code",
   "execution_count": 48,
   "metadata": {},
   "outputs": [
    {
     "name": "stdout",
     "output_type": "stream",
     "text": [
      "Julia escrito à mão com SIMD....5.41\n",
      "Julia...........................5.46\n",
      "Python numpy....................5.46\n",
      "C com -ffast-math................6.4\n",
      "C..............................11.95\n",
      "Julia escrito à mão............12.37\n",
      "Python........................655.12\n",
      "Python escrito à mão..........775.42\n"
     ]
    }
   ],
   "source": [
    "for (key, value) in sort(collect(d), by=last)\n",
    "    println(rpad(key, 30, \".\"), lpad(round(value; digits=2), 6, \".\"))\n",
    "end"
   ]
  }
 ],
 "metadata": {
  "kernelspec": {
   "display_name": "Julia 1.6.0",
   "language": "julia",
   "name": "julia-1.6"
  },
  "language_info": {
   "file_extension": ".jl",
   "mimetype": "application/julia",
   "name": "julia",
   "version": "1.6.2"
  }
 },
 "nbformat": 4,
 "nbformat_minor": 4
}
