{
 "cells": [
  {
   "cell_type": "markdown",
   "metadata": {},
   "source": [
    "# A Julia é rápida\n",
    "\n",
    "Frequentemente, programas são executados em diferentes linguagens de programação com o propósito de comparar os desempenhos das linguagens.\n",
    "Esse tipo de comparação não é simples e pode gerar discussões.\n",
    "\n",
    "Neste notebook vamos fazer uma comparação simples entre algumas linguagens de programação e deixar que você tire suas próprias conclusões."
   ]
  },
  {
   "cell_type": "markdown",
   "metadata": {},
   "source": [
    "## A função soma\n",
    "\n",
    "Consideramos a função soma, denotada por `sum`, que é definida por\n",
    "$$\n",
    "\\mathrm{sum}(a) = \\sum_{j=1}^n a_j,\n",
    "$$\n",
    "onde $a = [a_1, a_2, \\dots, a_j]$ é uma lista com $n$ elementos.\n",
    "\n",
    "Vamos criar uma lista com 10<sup>7</sup> elementos escolhidos aleatoriamente no intervalo $[0,1]$:"
   ]
  },
  {
   "cell_type": "code",
   "execution_count": 1,
   "metadata": {},
   "outputs": [
    {
     "data": {
      "text/plain": [
       "10000000-element Vector{Float64}:\n",
       " 0.9502492761627674\n",
       " 0.5320522488662092\n",
       " 0.35586481238445966\n",
       " 0.07966623741005052\n",
       " 0.9936318947555094\n",
       " 0.30675358067635106\n",
       " 0.8268948204148372\n",
       " 0.9345695268097731\n",
       " 0.03883797846557302\n",
       " 0.3886544537685206\n",
       " 0.927003867847132\n",
       " 0.058226883131043516\n",
       " 0.5133963652987459\n",
       " ⋮\n",
       " 0.4090135255751435\n",
       " 0.09324908669766385\n",
       " 0.7488842192277696\n",
       " 0.6023466815753171\n",
       " 0.7113000461137551\n",
       " 0.6217833181640562\n",
       " 0.2396941897414302\n",
       " 0.0034723267216794085\n",
       " 0.9777608435100729\n",
       " 0.2299467473734984\n",
       " 0.3498048006637795\n",
       " 0.6581183079351809"
      ]
     },
     "execution_count": 1,
     "metadata": {},
     "output_type": "execute_result"
    }
   ],
   "source": [
    "a = rand(10^7)"
   ]
  },
  {
   "cell_type": "markdown",
   "metadata": {},
   "source": [
    "Calculamos a soma dos elementos de `a`:"
   ]
  },
  {
   "cell_type": "code",
   "execution_count": 2,
   "metadata": {},
   "outputs": [
    {
     "data": {
      "text/plain": [
       "5.001123917728793e6"
      ]
     },
     "execution_count": 2,
     "metadata": {},
     "output_type": "execute_result"
    }
   ],
   "source": [
    "sum(a)"
   ]
  },
  {
   "cell_type": "markdown",
   "metadata": {},
   "source": [
    "O resultado esperado é 0.5 * 10<sup>7</sup>, pois o valor médio de cada elemento da lista é igual a 0.5."
   ]
  },
  {
   "cell_type": "markdown",
   "metadata": {},
   "source": [
    "## Medindo desempenho de formas diferentes, em linguagens diferentes"
   ]
  },
  {
   "cell_type": "code",
   "execution_count": 3,
   "metadata": {},
   "outputs": [
    {
     "name": "stdout",
     "output_type": "stream",
     "text": [
      "  0.003788 seconds (1 allocation: 16 bytes)\n"
     ]
    },
    {
     "data": {
      "text/plain": [
       "5.001123917728793e6"
      ]
     },
     "execution_count": 3,
     "metadata": {},
     "output_type": "execute_result"
    }
   ],
   "source": [
    "@time sum(a)"
   ]
  },
  {
   "cell_type": "markdown",
   "metadata": {},
   "source": [
    "A macro `@time` é boa para uma estimativa grosseira, mas não é muito precisa.\n",
    "\n",
    "O pacote `BenchmarkTools.jl` fornece um método simples e preciso de fazer comparações."
   ]
  },
  {
   "cell_type": "code",
   "execution_count": 4,
   "metadata": {},
   "outputs": [
    {
     "name": "stderr",
     "output_type": "stream",
     "text": [
      "\u001b[32m\u001b[1m    Updating\u001b[22m\u001b[39m registry at `~/.julia/registries/General`\n",
      "\u001b[32m\u001b[1m   Resolving\u001b[22m\u001b[39m package versions...\n",
      "\u001b[32m\u001b[1m  No Changes\u001b[22m\u001b[39m to `~/Sync/julia-breve-intro/Project.toml`\n",
      "\u001b[32m\u001b[1m  No Changes\u001b[22m\u001b[39m to `~/Sync/julia-breve-intro/Manifest.toml`\n"
     ]
    }
   ],
   "source": [
    "using Pkg\n",
    "Pkg.add(\"BenchmarkTools\")"
   ]
  },
  {
   "cell_type": "code",
   "execution_count": 5,
   "metadata": {},
   "outputs": [],
   "source": [
    "using BenchmarkTools"
   ]
  },
  {
   "cell_type": "markdown",
   "metadata": {},
   "source": [
    "## 1. C\n",
    "\n",
    "A linguagem C é considerada uma linguagem difícil para os humanos e simples para as máquinas.\n",
    "\n",
    "Em uma sessão da Julia, podemos inserir um programa em C, compilá-lo e executá-lo:"
   ]
  },
  {
   "cell_type": "code",
   "execution_count": 6,
   "metadata": {},
   "outputs": [
    {
     "data": {
      "text/plain": [
       "c_sum (generic function with 1 method)"
      ]
     },
     "execution_count": 6,
     "metadata": {},
     "output_type": "execute_result"
    }
   ],
   "source": [
    "using Libdl\n",
    "C_code = \"\"\"\n",
    "#include <stddef.h>\n",
    "double c_sum(size_t n, double *X) {\n",
    "    double s = 0.0;\n",
    "    for (size_t i = 0; i < n; ++i) {\n",
    "        s += X[i];\n",
    "    }\n",
    "    return s;\n",
    "}\n",
    "\"\"\"\n",
    "\n",
    "const Clib = tempname()  # Cria um arquivo temporário\n",
    "\n",
    "# Compila para uma biblioteca compartilhada passando\n",
    "# o código C_code para o compilador gcc (só funciona\n",
    "# se o gcc estiver instalado):\n",
    "\n",
    "open(`gcc -fPIC -O3 -msse3 -xc -shared -o $(Clib * \".\" * Libdl.dlext) -`, \"w\") do f\n",
    "    print(f, C_code) \n",
    "end\n",
    "\n",
    "# Define uma função em Julia que chama a função do C\n",
    "c_sum(X::Array{Float64}) = ccall((\"c_sum\", Clib), Float64, (Csize_t, Ptr{Float64}), length(X), X)"
   ]
  },
  {
   "cell_type": "code",
   "execution_count": 7,
   "metadata": {},
   "outputs": [
    {
     "data": {
      "text/plain": [
       "5.001123917728872e6"
      ]
     },
     "execution_count": 7,
     "metadata": {},
     "output_type": "execute_result"
    }
   ],
   "source": [
    "c_sum(a)"
   ]
  },
  {
   "cell_type": "code",
   "execution_count": 8,
   "metadata": {},
   "outputs": [
    {
     "data": {
      "text/plain": [
       "true"
      ]
     },
     "execution_count": 8,
     "metadata": {},
     "output_type": "execute_result"
    }
   ],
   "source": [
    "c_sum(a) ≈ sum(a)  # Digite \\approx e tecle <TAB> para obter o símbolo ≈"
   ]
  },
  {
   "cell_type": "code",
   "execution_count": 9,
   "metadata": {},
   "outputs": [
    {
     "data": {
      "text/plain": [
       "7.916241884231567e-8"
      ]
     },
     "execution_count": 9,
     "metadata": {},
     "output_type": "execute_result"
    }
   ],
   "source": [
    "c_sum(a) - sum(a)"
   ]
  },
  {
   "cell_type": "code",
   "execution_count": 10,
   "metadata": {},
   "outputs": [
    {
     "data": {
      "text/plain": [
       "isapprox (generic function with 9 methods)"
      ]
     },
     "execution_count": 10,
     "metadata": {},
     "output_type": "execute_result"
    }
   ],
   "source": [
    "≈ # é uma abreviação (alias) para a função `isapprox`"
   ]
  },
  {
   "cell_type": "code",
   "execution_count": 11,
   "metadata": {},
   "outputs": [
    {
     "name": "stdout",
     "output_type": "stream",
     "text": [
      "search: \u001b[0m\u001b[1mi\u001b[22m\u001b[0m\u001b[1ms\u001b[22m\u001b[0m\u001b[1ma\u001b[22m\u001b[0m\u001b[1mp\u001b[22m\u001b[0m\u001b[1mp\u001b[22m\u001b[0m\u001b[1mr\u001b[22m\u001b[0m\u001b[1mo\u001b[22m\u001b[0m\u001b[1mx\u001b[22m\n",
      "\n"
     ]
    },
    {
     "data": {
      "text/latex": [
       "\\begin{verbatim}\n",
       "isapprox(x, y; atol::Real=0, rtol::Real=atol>0 ? 0 : √eps, nans::Bool=false[, norm::Function])\n",
       "\\end{verbatim}\n",
       "Inexact equality comparison: \\texttt{true} if \\texttt{norm(x-y) <= max(atol, rtol*max(norm(x), norm(y)))}. The default \\texttt{atol} is zero and the default \\texttt{rtol} depends on the types of \\texttt{x} and \\texttt{y}. The keyword argument \\texttt{nans} determines whether or not NaN values are considered equal (defaults to false).\n",
       "\n",
       "For real or complex floating-point values, if an \\texttt{atol > 0} is not specified, \\texttt{rtol} defaults to the square root of \\href{@ref}{\\texttt{eps}} of the type of \\texttt{x} or \\texttt{y}, whichever is bigger (least precise). This corresponds to requiring equality of about half of the significand digits. Otherwise, e.g. for integer arguments or if an \\texttt{atol > 0} is supplied, \\texttt{rtol} defaults to zero.\n",
       "\n",
       "The \\texttt{norm} keyword defaults to \\texttt{abs} for numeric \\texttt{(x,y)} and to \\texttt{LinearAlgebra.norm} for arrays (where an alternative \\texttt{norm} choice is sometimes useful). When \\texttt{x} and \\texttt{y} are arrays, if \\texttt{norm(x-y)} is not finite (i.e. \\texttt{±Inf} or \\texttt{NaN}), the comparison falls back to checking whether all elements of \\texttt{x} and \\texttt{y} are approximately equal component-wise.\n",
       "\n",
       "The binary operator \\texttt{≈} is equivalent to \\texttt{isapprox} with the default arguments, and \\texttt{x ≉ y} is equivalent to \\texttt{!isapprox(x,y)}.\n",
       "\n",
       "Note that \\texttt{x ≈ 0} (i.e., comparing to zero with the default tolerances) is equivalent to \\texttt{x == 0} since the default \\texttt{atol} is \\texttt{0}.  In such cases, you should either supply an appropriate \\texttt{atol} (or use \\texttt{norm(x) ≤ atol}) or rearrange your code (e.g. use \\texttt{x ≈ y} rather than \\texttt{x - y ≈ 0}).   It is not possible to pick a nonzero \\texttt{atol} automatically because it depends on the overall scaling (the \"units\") of your problem: for example, in \\texttt{x - y ≈ 0}, \\texttt{atol=1e-9} is an absurdly small tolerance if \\texttt{x} is the \\href{https://en.wikipedia.org/wiki/Earth_radius}{radius of the Earth} in meters, but an absurdly large tolerance if \\texttt{x} is the \\href{https://en.wikipedia.org/wiki/Bohr_radius}{radius of a Hydrogen atom} in meters.\n",
       "\n",
       "\\begin{quote}\n",
       "\\textbf{compat}\n",
       "\n",
       "Julia 1.6\n",
       "\n",
       "Passing the \\texttt{norm} keyword argument when comparing numeric (non-array) arguments requires Julia 1.6 or later.\n",
       "\n",
       "\\end{quote}\n",
       "\\section{Examples}\n",
       "\\begin{verbatim}\n",
       "julia> 0.1 ≈ (0.1 - 1e-10)\n",
       "true\n",
       "\n",
       "julia> isapprox(10, 11; atol = 2)\n",
       "true\n",
       "\n",
       "julia> isapprox([10.0^9, 1.0], [10.0^9, 2.0])\n",
       "true\n",
       "\n",
       "julia> 1e-10 ≈ 0\n",
       "false\n",
       "\n",
       "julia> isapprox(1e-10, 0, atol=1e-8)\n",
       "true\n",
       "\\end{verbatim}\n",
       "\\rule{\\textwidth}{1pt}\n",
       "\\begin{verbatim}\n",
       "isapprox(x; kwargs...) / ≈(x; kwargs...)\n",
       "\\end{verbatim}\n",
       "Create a function that compares its argument to \\texttt{x} using \\texttt{≈}, i.e. a function equivalent to \\texttt{y -> y ≈ x}.\n",
       "\n",
       "The keyword arguments supported here are the same as those in the 2-argument \\texttt{isapprox}.\n",
       "\n"
      ],
      "text/markdown": [
       "```\n",
       "isapprox(x, y; atol::Real=0, rtol::Real=atol>0 ? 0 : √eps, nans::Bool=false[, norm::Function])\n",
       "```\n",
       "\n",
       "Inexact equality comparison: `true` if `norm(x-y) <= max(atol, rtol*max(norm(x), norm(y)))`. The default `atol` is zero and the default `rtol` depends on the types of `x` and `y`. The keyword argument `nans` determines whether or not NaN values are considered equal (defaults to false).\n",
       "\n",
       "For real or complex floating-point values, if an `atol > 0` is not specified, `rtol` defaults to the square root of [`eps`](@ref) of the type of `x` or `y`, whichever is bigger (least precise). This corresponds to requiring equality of about half of the significand digits. Otherwise, e.g. for integer arguments or if an `atol > 0` is supplied, `rtol` defaults to zero.\n",
       "\n",
       "The `norm` keyword defaults to `abs` for numeric `(x,y)` and to `LinearAlgebra.norm` for arrays (where an alternative `norm` choice is sometimes useful). When `x` and `y` are arrays, if `norm(x-y)` is not finite (i.e. `±Inf` or `NaN`), the comparison falls back to checking whether all elements of `x` and `y` are approximately equal component-wise.\n",
       "\n",
       "The binary operator `≈` is equivalent to `isapprox` with the default arguments, and `x ≉ y` is equivalent to `!isapprox(x,y)`.\n",
       "\n",
       "Note that `x ≈ 0` (i.e., comparing to zero with the default tolerances) is equivalent to `x == 0` since the default `atol` is `0`.  In such cases, you should either supply an appropriate `atol` (or use `norm(x) ≤ atol`) or rearrange your code (e.g. use `x ≈ y` rather than `x - y ≈ 0`).   It is not possible to pick a nonzero `atol` automatically because it depends on the overall scaling (the \"units\") of your problem: for example, in `x - y ≈ 0`, `atol=1e-9` is an absurdly small tolerance if `x` is the [radius of the Earth](https://en.wikipedia.org/wiki/Earth_radius) in meters, but an absurdly large tolerance if `x` is the [radius of a Hydrogen atom](https://en.wikipedia.org/wiki/Bohr_radius) in meters.\n",
       "\n",
       "!!! compat \"Julia 1.6\"\n",
       "    Passing the `norm` keyword argument when comparing numeric (non-array) arguments requires Julia 1.6 or later.\n",
       "\n",
       "\n",
       "# Examples\n",
       "\n",
       "```jldoctest\n",
       "julia> 0.1 ≈ (0.1 - 1e-10)\n",
       "true\n",
       "\n",
       "julia> isapprox(10, 11; atol = 2)\n",
       "true\n",
       "\n",
       "julia> isapprox([10.0^9, 1.0], [10.0^9, 2.0])\n",
       "true\n",
       "\n",
       "julia> 1e-10 ≈ 0\n",
       "false\n",
       "\n",
       "julia> isapprox(1e-10, 0, atol=1e-8)\n",
       "true\n",
       "```\n",
       "\n",
       "---\n",
       "\n",
       "```\n",
       "isapprox(x; kwargs...) / ≈(x; kwargs...)\n",
       "```\n",
       "\n",
       "Create a function that compares its argument to `x` using `≈`, i.e. a function equivalent to `y -> y ≈ x`.\n",
       "\n",
       "The keyword arguments supported here are the same as those in the 2-argument `isapprox`.\n"
      ],
      "text/plain": [
       "\u001b[36m  isapprox(x, y; atol::Real=0, rtol::Real=atol>0 ? 0 : √eps, nans::Bool=false[, norm::Function])\u001b[39m\n",
       "\n",
       "  Inexact equality comparison: \u001b[36mtrue\u001b[39m if \u001b[36mnorm(x-y) <= max(atol,\n",
       "  rtol*max(norm(x), norm(y)))\u001b[39m. The default \u001b[36matol\u001b[39m is zero and the default \u001b[36mrtol\u001b[39m\n",
       "  depends on the types of \u001b[36mx\u001b[39m and \u001b[36my\u001b[39m. The keyword argument \u001b[36mnans\u001b[39m determines\n",
       "  whether or not NaN values are considered equal (defaults to false).\n",
       "\n",
       "  For real or complex floating-point values, if an \u001b[36matol > 0\u001b[39m is not specified,\n",
       "  \u001b[36mrtol\u001b[39m defaults to the square root of \u001b[36meps\u001b[39m of the type of \u001b[36mx\u001b[39m or \u001b[36my\u001b[39m, whichever is\n",
       "  bigger (least precise). This corresponds to requiring equality of about half\n",
       "  of the significand digits. Otherwise, e.g. for integer arguments or if an\n",
       "  \u001b[36matol > 0\u001b[39m is supplied, \u001b[36mrtol\u001b[39m defaults to zero.\n",
       "\n",
       "  The \u001b[36mnorm\u001b[39m keyword defaults to \u001b[36mabs\u001b[39m for numeric \u001b[36m(x,y)\u001b[39m and to \u001b[36mLinearAlgebra.norm\u001b[39m\n",
       "  for arrays (where an alternative \u001b[36mnorm\u001b[39m choice is sometimes useful). When \u001b[36mx\u001b[39m\n",
       "  and \u001b[36my\u001b[39m are arrays, if \u001b[36mnorm(x-y)\u001b[39m is not finite (i.e. \u001b[36m±Inf\u001b[39m or \u001b[36mNaN\u001b[39m), the\n",
       "  comparison falls back to checking whether all elements of \u001b[36mx\u001b[39m and \u001b[36my\u001b[39m are\n",
       "  approximately equal component-wise.\n",
       "\n",
       "  The binary operator \u001b[36m≈\u001b[39m is equivalent to \u001b[36misapprox\u001b[39m with the default arguments,\n",
       "  and \u001b[36mx ≉ y\u001b[39m is equivalent to \u001b[36m!isapprox(x,y)\u001b[39m.\n",
       "\n",
       "  Note that \u001b[36mx ≈ 0\u001b[39m (i.e., comparing to zero with the default tolerances) is\n",
       "  equivalent to \u001b[36mx == 0\u001b[39m since the default \u001b[36matol\u001b[39m is \u001b[36m0\u001b[39m. In such cases, you should\n",
       "  either supply an appropriate \u001b[36matol\u001b[39m (or use \u001b[36mnorm(x) ≤ atol\u001b[39m) or rearrange your\n",
       "  code (e.g. use \u001b[36mx ≈ y\u001b[39m rather than \u001b[36mx - y ≈ 0\u001b[39m). It is not possible to pick a\n",
       "  nonzero \u001b[36matol\u001b[39m automatically because it depends on the overall scaling (the\n",
       "  \"units\") of your problem: for example, in \u001b[36mx - y ≈ 0\u001b[39m, \u001b[36matol=1e-9\u001b[39m is an\n",
       "  absurdly small tolerance if \u001b[36mx\u001b[39m is the radius of the Earth\n",
       "  (https://en.wikipedia.org/wiki/Earth_radius) in meters, but an absurdly\n",
       "  large tolerance if \u001b[36mx\u001b[39m is the radius of a Hydrogen atom\n",
       "  (https://en.wikipedia.org/wiki/Bohr_radius) in meters.\n",
       "\n",
       "\u001b[39m\u001b[1m  │ \u001b[22m\u001b[39m\u001b[1mJulia 1.6\u001b[22m\n",
       "\u001b[39m\u001b[1m  │\u001b[22m\n",
       "\u001b[39m\u001b[1m  │\u001b[22m  Passing the \u001b[36mnorm\u001b[39m keyword argument when comparing numeric\n",
       "\u001b[39m\u001b[1m  │\u001b[22m  (non-array) arguments requires Julia 1.6 or later.\n",
       "\n",
       "\u001b[1m  Examples\u001b[22m\n",
       "\u001b[1m  ≡≡≡≡≡≡≡≡≡≡\u001b[22m\n",
       "\n",
       "\u001b[36m  julia> 0.1 ≈ (0.1 - 1e-10)\u001b[39m\n",
       "\u001b[36m  true\u001b[39m\n",
       "\u001b[36m  \u001b[39m\n",
       "\u001b[36m  julia> isapprox(10, 11; atol = 2)\u001b[39m\n",
       "\u001b[36m  true\u001b[39m\n",
       "\u001b[36m  \u001b[39m\n",
       "\u001b[36m  julia> isapprox([10.0^9, 1.0], [10.0^9, 2.0])\u001b[39m\n",
       "\u001b[36m  true\u001b[39m\n",
       "\u001b[36m  \u001b[39m\n",
       "\u001b[36m  julia> 1e-10 ≈ 0\u001b[39m\n",
       "\u001b[36m  false\u001b[39m\n",
       "\u001b[36m  \u001b[39m\n",
       "\u001b[36m  julia> isapprox(1e-10, 0, atol=1e-8)\u001b[39m\n",
       "\u001b[36m  true\u001b[39m\n",
       "\n",
       "  ────────────────────────────────────────────────────────────────────────────\n",
       "\n",
       "\u001b[36m  isapprox(x; kwargs...) / ≈(x; kwargs...)\u001b[39m\n",
       "\n",
       "  Create a function that compares its argument to \u001b[36mx\u001b[39m using \u001b[36m≈\u001b[39m, i.e. a function\n",
       "  equivalent to \u001b[36my -> y ≈ x\u001b[39m.\n",
       "\n",
       "  The keyword arguments supported here are the same as those in the 2-argument\n",
       "  \u001b[36misapprox\u001b[39m."
      ]
     },
     "execution_count": 11,
     "metadata": {},
     "output_type": "execute_result"
    }
   ],
   "source": [
    "?isapprox"
   ]
  },
  {
   "cell_type": "markdown",
   "metadata": {},
   "source": [
    "Agora podemos medir o desempenho do código C diretamente da sessão Julia."
   ]
  },
  {
   "cell_type": "code",
   "execution_count": 12,
   "metadata": {},
   "outputs": [
    {
     "data": {
      "text/plain": [
       "BenchmarkTools.Trial: 593 samples with 1 evaluation.\n",
       " Range \u001b[90m(\u001b[39m\u001b[36m\u001b[1mmin\u001b[22m\u001b[39m … \u001b[35mmax\u001b[39m\u001b[90m):  \u001b[39m\u001b[36m\u001b[1m8.414 ms\u001b[22m\u001b[39m … \u001b[35m8.498 ms\u001b[39m  \u001b[90m┊\u001b[39m GC \u001b[90m(\u001b[39mmin … max\u001b[90m): \u001b[39m0.00% … 0.00%\n",
       " Time  \u001b[90m(\u001b[39m\u001b[34m\u001b[1mmedian\u001b[22m\u001b[39m\u001b[90m):     \u001b[39m\u001b[34m\u001b[1m8.425 ms             \u001b[22m\u001b[39m\u001b[90m┊\u001b[39m GC \u001b[90m(\u001b[39mmedian\u001b[90m):    \u001b[39m0.00%\n",
       " Time  \u001b[90m(\u001b[39m\u001b[32m\u001b[1mmean\u001b[22m\u001b[39m ± \u001b[32mσ\u001b[39m\u001b[90m):   \u001b[39m\u001b[32m\u001b[1m8.427 ms\u001b[22m\u001b[39m ± \u001b[32m9.330 μs\u001b[39m  \u001b[90m┊\u001b[39m GC \u001b[90m(\u001b[39mmean ± σ\u001b[90m):  \u001b[39m0.00% ± 0.00%\n",
       "\n",
       "  \u001b[39m \u001b[39m \u001b[39m \u001b[39m▄\u001b[39m▃\u001b[39m▅\u001b[39m█\u001b[39m▃\u001b[39m▁\u001b[39m▁\u001b[39m▁\u001b[39m▁\u001b[39m▂\u001b[39m▅\u001b[39m▇\u001b[39m▂\u001b[34m▂\u001b[39m\u001b[39m▆\u001b[32m▁\u001b[39m\u001b[39m \u001b[39m▁\u001b[39m \u001b[39m \u001b[39m \u001b[39m \u001b[39m \u001b[39m▁\u001b[39m▅\u001b[39m▂\u001b[39m \u001b[39m \u001b[39m \u001b[39m \u001b[39m \u001b[39m \u001b[39m \u001b[39m \u001b[39m \u001b[39m \u001b[39m \u001b[39m \u001b[39m \u001b[39m \u001b[39m \u001b[39m \u001b[39m \u001b[39m \u001b[39m \u001b[39m \u001b[39m \u001b[39m \u001b[39m \u001b[39m \u001b[39m \u001b[39m \u001b[39m \u001b[39m \u001b[39m \u001b[39m \n",
       "  \u001b[39m▃\u001b[39m▆\u001b[39m▇\u001b[39m█\u001b[39m█\u001b[39m█\u001b[39m█\u001b[39m█\u001b[39m█\u001b[39m█\u001b[39m█\u001b[39m█\u001b[39m█\u001b[39m█\u001b[39m█\u001b[39m█\u001b[34m█\u001b[39m\u001b[39m█\u001b[32m█\u001b[39m\u001b[39m▇\u001b[39m█\u001b[39m█\u001b[39m▆\u001b[39m▃\u001b[39m▇\u001b[39m▅\u001b[39m█\u001b[39m█\u001b[39m█\u001b[39m▇\u001b[39m▆\u001b[39m▆\u001b[39m▆\u001b[39m▅\u001b[39m▄\u001b[39m▅\u001b[39m▂\u001b[39m▄\u001b[39m▄\u001b[39m▅\u001b[39m▁\u001b[39m▂\u001b[39m▃\u001b[39m▂\u001b[39m▃\u001b[39m▄\u001b[39m▃\u001b[39m▃\u001b[39m▂\u001b[39m▂\u001b[39m▂\u001b[39m▁\u001b[39m▃\u001b[39m▁\u001b[39m▁\u001b[39m▂\u001b[39m▂\u001b[39m \u001b[39m▄\n",
       "  8.41 ms\u001b[90m        Histogram: frequency by time\u001b[39m       8.45 ms \u001b[0m\u001b[1m<\u001b[22m\n",
       "\n",
       " Memory estimate\u001b[90m: \u001b[39m\u001b[33m0 bytes\u001b[39m, allocs estimate\u001b[90m: \u001b[39m\u001b[33m0\u001b[39m."
      ]
     },
     "execution_count": 12,
     "metadata": {},
     "output_type": "execute_result"
    }
   ],
   "source": [
    "c_bench = @benchmark c_sum($a)"
   ]
  },
  {
   "cell_type": "code",
   "execution_count": 13,
   "metadata": {},
   "outputs": [
    {
     "name": "stdout",
     "output_type": "stream",
     "text": [
      "C: O tempo mais rápido foi 8.413837 msec\n"
     ]
    }
   ],
   "source": [
    "println(\"C: O tempo mais rápido foi $(minimum(c_bench.times) / 1e6) msec\")"
   ]
  },
  {
   "cell_type": "code",
   "execution_count": 14,
   "metadata": {},
   "outputs": [
    {
     "data": {
      "text/plain": [
       "Dict{Any, Any} with 1 entry:\n",
       "  \"C\" => 8.41384"
      ]
     },
     "execution_count": 14,
     "metadata": {},
     "output_type": "execute_result"
    }
   ],
   "source": [
    "d = Dict()\n",
    "d[\"C\"] = minimum(c_bench.times) / 1e6  # em milisegundos\n",
    "d"
   ]
  },
  {
   "cell_type": "code",
   "execution_count": 15,
   "metadata": {},
   "outputs": [
    {
     "data": {
      "text/plain": [
       "Plots.GRBackend()"
      ]
     },
     "execution_count": 15,
     "metadata": {},
     "output_type": "execute_result"
    }
   ],
   "source": [
    "using Plots\n",
    "gr()"
   ]
  },
  {
   "cell_type": "code",
   "execution_count": 16,
   "metadata": {},
   "outputs": [
    {
     "data": {
      "image/svg+xml": [
       "<?xml version=\"1.0\" encoding=\"utf-8\"?>\n",
       "<svg xmlns=\"http://www.w3.org/2000/svg\" xmlns:xlink=\"http://www.w3.org/1999/xlink\" width=\"600\" height=\"400\" viewBox=\"0 0 2400 1600\">\n",
       "<defs>\n",
       "  <clipPath id=\"clip040\">\n",
       "    <rect x=\"0\" y=\"0\" width=\"2400\" height=\"1600\"/>\n",
       "  </clipPath>\n",
       "</defs>\n",
       "<path clip-path=\"url(#clip040)\" d=\"\n",
       "M0 1600 L2400 1600 L2400 0 L0 0  Z\n",
       "  \" fill=\"#ffffff\" fill-rule=\"evenodd\" fill-opacity=\"1\"/>\n",
       "<defs>\n",
       "  <clipPath id=\"clip041\">\n",
       "    <rect x=\"480\" y=\"0\" width=\"1681\" height=\"1600\"/>\n",
       "  </clipPath>\n",
       "</defs>\n",
       "<path clip-path=\"url(#clip040)\" d=\"\n",
       "M205.121 1423.18 L2352.76 1423.18 L2352.76 47.2441 L205.121 47.2441  Z\n",
       "  \" fill=\"#ffffff\" fill-rule=\"evenodd\" fill-opacity=\"1\"/>\n",
       "<defs>\n",
       "  <clipPath id=\"clip042\">\n",
       "    <rect x=\"205\" y=\"47\" width=\"2149\" height=\"1377\"/>\n",
       "  </clipPath>\n",
       "</defs>\n",
       "<polyline clip-path=\"url(#clip042)\" style=\"stroke:#000000; stroke-linecap:butt; stroke-linejoin:round; stroke-width:2; stroke-opacity:0.1; fill:none\" points=\"\n",
       "  242.976,1423.18 242.976,47.2441 \n",
       "  \"/>\n",
       "<polyline clip-path=\"url(#clip042)\" style=\"stroke:#000000; stroke-linecap:butt; stroke-linejoin:round; stroke-width:2; stroke-opacity:0.1; fill:none\" points=\"\n",
       "  626.603,1423.18 626.603,47.2441 \n",
       "  \"/>\n",
       "<polyline clip-path=\"url(#clip042)\" style=\"stroke:#000000; stroke-linecap:butt; stroke-linejoin:round; stroke-width:2; stroke-opacity:0.1; fill:none\" points=\"\n",
       "  1010.23,1423.18 1010.23,47.2441 \n",
       "  \"/>\n",
       "<polyline clip-path=\"url(#clip042)\" style=\"stroke:#000000; stroke-linecap:butt; stroke-linejoin:round; stroke-width:2; stroke-opacity:0.1; fill:none\" points=\"\n",
       "  1393.86,1423.18 1393.86,47.2441 \n",
       "  \"/>\n",
       "<polyline clip-path=\"url(#clip042)\" style=\"stroke:#000000; stroke-linecap:butt; stroke-linejoin:round; stroke-width:2; stroke-opacity:0.1; fill:none\" points=\"\n",
       "  1777.49,1423.18 1777.49,47.2441 \n",
       "  \"/>\n",
       "<polyline clip-path=\"url(#clip042)\" style=\"stroke:#000000; stroke-linecap:butt; stroke-linejoin:round; stroke-width:2; stroke-opacity:0.1; fill:none\" points=\"\n",
       "  2161.11,1423.18 2161.11,47.2441 \n",
       "  \"/>\n",
       "<polyline clip-path=\"url(#clip040)\" style=\"stroke:#000000; stroke-linecap:butt; stroke-linejoin:round; stroke-width:4; stroke-opacity:1; fill:none\" points=\"\n",
       "  205.121,1423.18 2352.76,1423.18 \n",
       "  \"/>\n",
       "<polyline clip-path=\"url(#clip040)\" style=\"stroke:#000000; stroke-linecap:butt; stroke-linejoin:round; stroke-width:4; stroke-opacity:1; fill:none\" points=\"\n",
       "  242.976,1423.18 242.976,1404.28 \n",
       "  \"/>\n",
       "<polyline clip-path=\"url(#clip040)\" style=\"stroke:#000000; stroke-linecap:butt; stroke-linejoin:round; stroke-width:4; stroke-opacity:1; fill:none\" points=\"\n",
       "  626.603,1423.18 626.603,1404.28 \n",
       "  \"/>\n",
       "<polyline clip-path=\"url(#clip040)\" style=\"stroke:#000000; stroke-linecap:butt; stroke-linejoin:round; stroke-width:4; stroke-opacity:1; fill:none\" points=\"\n",
       "  1010.23,1423.18 1010.23,1404.28 \n",
       "  \"/>\n",
       "<polyline clip-path=\"url(#clip040)\" style=\"stroke:#000000; stroke-linecap:butt; stroke-linejoin:round; stroke-width:4; stroke-opacity:1; fill:none\" points=\"\n",
       "  1393.86,1423.18 1393.86,1404.28 \n",
       "  \"/>\n",
       "<polyline clip-path=\"url(#clip040)\" style=\"stroke:#000000; stroke-linecap:butt; stroke-linejoin:round; stroke-width:4; stroke-opacity:1; fill:none\" points=\"\n",
       "  1777.49,1423.18 1777.49,1404.28 \n",
       "  \"/>\n",
       "<polyline clip-path=\"url(#clip040)\" style=\"stroke:#000000; stroke-linecap:butt; stroke-linejoin:round; stroke-width:4; stroke-opacity:1; fill:none\" points=\"\n",
       "  2161.11,1423.18 2161.11,1404.28 \n",
       "  \"/>\n",
       "<path clip-path=\"url(#clip040)\" d=\"M190.65 1467.44 Q187.316 1467.44 185.395 1469.22 Q183.497 1471 183.497 1474.13 Q183.497 1477.25 185.395 1479.04 Q187.316 1480.82 190.65 1480.82 Q193.983 1480.82 195.904 1479.04 Q197.826 1477.23 197.826 1474.13 Q197.826 1471 195.904 1469.22 Q194.006 1467.44 190.65 1467.44 M185.974 1465.45 Q182.965 1464.71 181.275 1462.65 Q179.608 1460.59 179.608 1457.63 Q179.608 1453.48 182.548 1451.07 Q185.511 1448.67 190.65 1448.67 Q195.812 1448.67 198.751 1451.07 Q201.691 1453.48 201.691 1457.63 Q201.691 1460.59 200.001 1462.65 Q198.335 1464.71 195.349 1465.45 Q198.728 1466.24 200.603 1468.53 Q202.501 1470.82 202.501 1474.13 Q202.501 1479.15 199.423 1481.84 Q196.367 1484.52 190.65 1484.52 Q184.932 1484.52 181.853 1481.84 Q178.798 1479.15 178.798 1474.13 Q178.798 1470.82 180.696 1468.53 Q182.594 1466.24 185.974 1465.45 M184.261 1458.06 Q184.261 1460.75 185.927 1462.25 Q187.617 1463.76 190.65 1463.76 Q193.659 1463.76 195.349 1462.25 Q197.062 1460.75 197.062 1458.06 Q197.062 1455.38 195.349 1453.88 Q193.659 1452.37 190.65 1452.37 Q187.617 1452.37 185.927 1453.88 Q184.261 1455.38 184.261 1458.06 Z\" fill=\"#000000\" fill-rule=\"evenodd\" fill-opacity=\"1\" /><path clip-path=\"url(#clip040)\" d=\"M210.812 1477.97 L215.696 1477.97 L215.696 1483.85 L210.812 1483.85 L210.812 1477.97 Z\" fill=\"#000000\" fill-rule=\"evenodd\" fill-opacity=\"1\" /><path clip-path=\"url(#clip040)\" d=\"M238.728 1453.37 L226.923 1471.81 L238.728 1471.81 L238.728 1453.37 M237.501 1449.29 L243.381 1449.29 L243.381 1471.81 L248.311 1471.81 L248.311 1475.7 L243.381 1475.7 L243.381 1483.85 L238.728 1483.85 L238.728 1475.7 L223.126 1475.7 L223.126 1471.19 L237.501 1449.29 Z\" fill=\"#000000\" fill-rule=\"evenodd\" fill-opacity=\"1\" /><path clip-path=\"url(#clip040)\" d=\"M266.043 1452.37 Q262.432 1452.37 260.603 1455.94 Q258.797 1459.48 258.797 1466.61 Q258.797 1473.71 260.603 1477.28 Q262.432 1480.82 266.043 1480.82 Q269.677 1480.82 271.483 1477.28 Q273.311 1473.71 273.311 1466.61 Q273.311 1459.48 271.483 1455.94 Q269.677 1452.37 266.043 1452.37 M266.043 1448.67 Q271.853 1448.67 274.908 1453.27 Q277.987 1457.86 277.987 1466.61 Q277.987 1475.33 274.908 1479.94 Q271.853 1484.52 266.043 1484.52 Q260.233 1484.52 257.154 1479.94 Q254.098 1475.33 254.098 1466.61 Q254.098 1457.86 257.154 1453.27 Q260.233 1448.67 266.043 1448.67 Z\" fill=\"#000000\" fill-rule=\"evenodd\" fill-opacity=\"1\" /><path clip-path=\"url(#clip040)\" d=\"M286.251 1449.29 L304.607 1449.29 L304.607 1453.23 L290.533 1453.23 L290.533 1461.7 Q291.552 1461.35 292.57 1461.19 Q293.589 1461 294.607 1461 Q300.394 1461 303.774 1464.18 Q307.154 1467.35 307.154 1472.76 Q307.154 1478.34 303.681 1481.44 Q300.209 1484.52 293.89 1484.52 Q291.714 1484.52 289.445 1484.15 Q287.2 1483.78 284.793 1483.04 L284.793 1478.34 Q286.876 1479.48 289.098 1480.03 Q291.32 1480.59 293.797 1480.59 Q297.802 1480.59 300.14 1478.48 Q302.478 1476.38 302.478 1472.76 Q302.478 1469.15 300.14 1467.05 Q297.802 1464.94 293.797 1464.94 Q291.922 1464.94 290.047 1465.36 Q288.195 1465.77 286.251 1466.65 L286.251 1449.29 Z\" fill=\"#000000\" fill-rule=\"evenodd\" fill-opacity=\"1\" /><path clip-path=\"url(#clip040)\" d=\"M573.78 1467.44 Q570.446 1467.44 568.525 1469.22 Q566.627 1471 566.627 1474.13 Q566.627 1477.25 568.525 1479.04 Q570.446 1480.82 573.78 1480.82 Q577.113 1480.82 579.034 1479.04 Q580.956 1477.23 580.956 1474.13 Q580.956 1471 579.034 1469.22 Q577.136 1467.44 573.78 1467.44 M569.104 1465.45 Q566.094 1464.71 564.405 1462.65 Q562.738 1460.59 562.738 1457.63 Q562.738 1453.48 565.678 1451.07 Q568.641 1448.67 573.78 1448.67 Q578.942 1448.67 581.881 1451.07 Q584.821 1453.48 584.821 1457.63 Q584.821 1460.59 583.131 1462.65 Q581.465 1464.71 578.479 1465.45 Q581.858 1466.24 583.733 1468.53 Q585.631 1470.82 585.631 1474.13 Q585.631 1479.15 582.553 1481.84 Q579.497 1484.52 573.78 1484.52 Q568.062 1484.52 564.983 1481.84 Q561.928 1479.15 561.928 1474.13 Q561.928 1470.82 563.826 1468.53 Q565.724 1466.24 569.104 1465.45 M567.391 1458.06 Q567.391 1460.75 569.057 1462.25 Q570.747 1463.76 573.78 1463.76 Q576.789 1463.76 578.479 1462.25 Q580.192 1460.75 580.192 1458.06 Q580.192 1455.38 578.479 1453.88 Q576.789 1452.37 573.78 1452.37 Q570.747 1452.37 569.057 1453.88 Q567.391 1455.38 567.391 1458.06 Z\" fill=\"#000000\" fill-rule=\"evenodd\" fill-opacity=\"1\" /><path clip-path=\"url(#clip040)\" d=\"M593.942 1477.97 L598.826 1477.97 L598.826 1483.85 L593.942 1483.85 L593.942 1477.97 Z\" fill=\"#000000\" fill-rule=\"evenodd\" fill-opacity=\"1\" /><path clip-path=\"url(#clip040)\" d=\"M621.858 1453.37 L610.053 1471.81 L621.858 1471.81 L621.858 1453.37 M620.631 1449.29 L626.511 1449.29 L626.511 1471.81 L631.441 1471.81 L631.441 1475.7 L626.511 1475.7 L626.511 1483.85 L621.858 1483.85 L621.858 1475.7 L606.256 1475.7 L606.256 1471.19 L620.631 1449.29 Z\" fill=\"#000000\" fill-rule=\"evenodd\" fill-opacity=\"1\" /><path clip-path=\"url(#clip040)\" d=\"M639.983 1479.92 L647.622 1479.92 L647.622 1453.55 L639.312 1455.22 L639.312 1450.96 L647.576 1449.29 L652.251 1449.29 L652.251 1479.92 L659.89 1479.92 L659.89 1483.85 L639.983 1483.85 L639.983 1479.92 Z\" fill=\"#000000\" fill-rule=\"evenodd\" fill-opacity=\"1\" /><path clip-path=\"url(#clip040)\" d=\"M679.335 1452.37 Q675.724 1452.37 673.895 1455.94 Q672.089 1459.48 672.089 1466.61 Q672.089 1473.71 673.895 1477.28 Q675.724 1480.82 679.335 1480.82 Q682.969 1480.82 684.774 1477.28 Q686.603 1473.71 686.603 1466.61 Q686.603 1459.48 684.774 1455.94 Q682.969 1452.37 679.335 1452.37 M679.335 1448.67 Q685.145 1448.67 688.2 1453.27 Q691.279 1457.86 691.279 1466.61 Q691.279 1475.33 688.2 1479.94 Q685.145 1484.52 679.335 1484.52 Q673.524 1484.52 670.446 1479.94 Q667.39 1475.33 667.39 1466.61 Q667.39 1457.86 670.446 1453.27 Q673.524 1448.67 679.335 1448.67 Z\" fill=\"#000000\" fill-rule=\"evenodd\" fill-opacity=\"1\" /><path clip-path=\"url(#clip040)\" d=\"M957.905 1467.44 Q954.572 1467.44 952.65 1469.22 Q950.752 1471 950.752 1474.13 Q950.752 1477.25 952.65 1479.04 Q954.572 1480.82 957.905 1480.82 Q961.238 1480.82 963.16 1479.04 Q965.081 1477.23 965.081 1474.13 Q965.081 1471 963.16 1469.22 Q961.261 1467.44 957.905 1467.44 M953.229 1465.45 Q950.22 1464.71 948.53 1462.65 Q946.863 1460.59 946.863 1457.63 Q946.863 1453.48 949.803 1451.07 Q952.766 1448.67 957.905 1448.67 Q963.067 1448.67 966.007 1451.07 Q968.947 1453.48 968.947 1457.63 Q968.947 1460.59 967.257 1462.65 Q965.59 1464.71 962.604 1465.45 Q965.984 1466.24 967.859 1468.53 Q969.757 1470.82 969.757 1474.13 Q969.757 1479.15 966.678 1481.84 Q963.623 1484.52 957.905 1484.52 Q952.187 1484.52 949.109 1481.84 Q946.053 1479.15 946.053 1474.13 Q946.053 1470.82 947.951 1468.53 Q949.849 1466.24 953.229 1465.45 M951.516 1458.06 Q951.516 1460.75 953.183 1462.25 Q954.873 1463.76 957.905 1463.76 Q960.914 1463.76 962.604 1462.25 Q964.317 1460.75 964.317 1458.06 Q964.317 1455.38 962.604 1453.88 Q960.914 1452.37 957.905 1452.37 Q954.873 1452.37 953.183 1453.88 Q951.516 1455.38 951.516 1458.06 Z\" fill=\"#000000\" fill-rule=\"evenodd\" fill-opacity=\"1\" /><path clip-path=\"url(#clip040)\" d=\"M978.067 1477.97 L982.951 1477.97 L982.951 1483.85 L978.067 1483.85 L978.067 1477.97 Z\" fill=\"#000000\" fill-rule=\"evenodd\" fill-opacity=\"1\" /><path clip-path=\"url(#clip040)\" d=\"M1005.98 1453.37 L994.178 1471.81 L1005.98 1471.81 L1005.98 1453.37 M1004.76 1449.29 L1010.64 1449.29 L1010.64 1471.81 L1015.57 1471.81 L1015.57 1475.7 L1010.64 1475.7 L1010.64 1483.85 L1005.98 1483.85 L1005.98 1475.7 L990.382 1475.7 L990.382 1471.19 L1004.76 1449.29 Z\" fill=\"#000000\" fill-rule=\"evenodd\" fill-opacity=\"1\" /><path clip-path=\"url(#clip040)\" d=\"M1024.11 1479.92 L1031.75 1479.92 L1031.75 1453.55 L1023.44 1455.22 L1023.44 1450.96 L1031.7 1449.29 L1036.38 1449.29 L1036.38 1479.92 L1044.02 1479.92 L1044.02 1483.85 L1024.11 1483.85 L1024.11 1479.92 Z\" fill=\"#000000\" fill-rule=\"evenodd\" fill-opacity=\"1\" /><path clip-path=\"url(#clip040)\" d=\"M1053.51 1449.29 L1071.86 1449.29 L1071.86 1453.23 L1057.79 1453.23 L1057.79 1461.7 Q1058.81 1461.35 1059.83 1461.19 Q1060.84 1461 1061.86 1461 Q1067.65 1461 1071.03 1464.18 Q1074.41 1467.35 1074.41 1472.76 Q1074.41 1478.34 1070.94 1481.44 Q1067.46 1484.52 1061.15 1484.52 Q1058.97 1484.52 1056.7 1484.15 Q1054.46 1483.78 1052.05 1483.04 L1052.05 1478.34 Q1054.13 1479.48 1056.35 1480.03 Q1058.58 1480.59 1061.05 1480.59 Q1065.06 1480.59 1067.4 1478.48 Q1069.73 1476.38 1069.73 1472.76 Q1069.73 1469.15 1067.4 1467.05 Q1065.06 1464.94 1061.05 1464.94 Q1059.18 1464.94 1057.3 1465.36 Q1055.45 1465.77 1053.51 1466.65 L1053.51 1449.29 Z\" fill=\"#000000\" fill-rule=\"evenodd\" fill-opacity=\"1\" /><path clip-path=\"url(#clip040)\" d=\"M1341.03 1467.44 Q1337.7 1467.44 1335.78 1469.22 Q1333.88 1471 1333.88 1474.13 Q1333.88 1477.25 1335.78 1479.04 Q1337.7 1480.82 1341.03 1480.82 Q1344.37 1480.82 1346.29 1479.04 Q1348.21 1477.23 1348.21 1474.13 Q1348.21 1471 1346.29 1469.22 Q1344.39 1467.44 1341.03 1467.44 M1336.36 1465.45 Q1333.35 1464.71 1331.66 1462.65 Q1329.99 1460.59 1329.99 1457.63 Q1329.99 1453.48 1332.93 1451.07 Q1335.9 1448.67 1341.03 1448.67 Q1346.2 1448.67 1349.14 1451.07 Q1352.08 1453.48 1352.08 1457.63 Q1352.08 1460.59 1350.39 1462.65 Q1348.72 1464.71 1345.73 1465.45 Q1349.11 1466.24 1350.99 1468.53 Q1352.89 1470.82 1352.89 1474.13 Q1352.89 1479.15 1349.81 1481.84 Q1346.75 1484.52 1341.03 1484.52 Q1335.32 1484.52 1332.24 1481.84 Q1329.18 1479.15 1329.18 1474.13 Q1329.18 1470.82 1331.08 1468.53 Q1332.98 1466.24 1336.36 1465.45 M1334.65 1458.06 Q1334.65 1460.75 1336.31 1462.25 Q1338 1463.76 1341.03 1463.76 Q1344.04 1463.76 1345.73 1462.25 Q1347.45 1460.75 1347.45 1458.06 Q1347.45 1455.38 1345.73 1453.88 Q1344.04 1452.37 1341.03 1452.37 Q1338 1452.37 1336.31 1453.88 Q1334.65 1455.38 1334.65 1458.06 Z\" fill=\"#000000\" fill-rule=\"evenodd\" fill-opacity=\"1\" /><path clip-path=\"url(#clip040)\" d=\"M1361.2 1477.97 L1366.08 1477.97 L1366.08 1483.85 L1361.2 1483.85 L1361.2 1477.97 Z\" fill=\"#000000\" fill-rule=\"evenodd\" fill-opacity=\"1\" /><path clip-path=\"url(#clip040)\" d=\"M1389.11 1453.37 L1377.31 1471.81 L1389.11 1471.81 L1389.11 1453.37 M1387.89 1449.29 L1393.77 1449.29 L1393.77 1471.81 L1398.7 1471.81 L1398.7 1475.7 L1393.77 1475.7 L1393.77 1483.85 L1389.11 1483.85 L1389.11 1475.7 L1373.51 1475.7 L1373.51 1471.19 L1387.89 1449.29 Z\" fill=\"#000000\" fill-rule=\"evenodd\" fill-opacity=\"1\" /><path clip-path=\"url(#clip040)\" d=\"M1410.46 1479.92 L1426.78 1479.92 L1426.78 1483.85 L1404.83 1483.85 L1404.83 1479.92 Q1407.49 1477.16 1412.08 1472.53 Q1416.68 1467.88 1417.86 1466.54 Q1420.11 1464.01 1420.99 1462.28 Q1421.89 1460.52 1421.89 1458.83 Q1421.89 1456.07 1419.95 1454.34 Q1418.03 1452.6 1414.92 1452.6 Q1412.72 1452.6 1410.27 1453.37 Q1407.84 1454.13 1405.06 1455.68 L1405.06 1450.96 Q1407.89 1449.82 1410.34 1449.25 Q1412.79 1448.67 1414.83 1448.67 Q1420.2 1448.67 1423.4 1451.35 Q1426.59 1454.04 1426.59 1458.53 Q1426.59 1460.66 1425.78 1462.58 Q1424.99 1464.48 1422.89 1467.07 Q1422.31 1467.74 1419.21 1470.96 Q1416.1 1474.15 1410.46 1479.92 Z\" fill=\"#000000\" fill-rule=\"evenodd\" fill-opacity=\"1\" /><path clip-path=\"url(#clip040)\" d=\"M1446.59 1452.37 Q1442.98 1452.37 1441.15 1455.94 Q1439.34 1459.48 1439.34 1466.61 Q1439.34 1473.71 1441.15 1477.28 Q1442.98 1480.82 1446.59 1480.82 Q1450.22 1480.82 1452.03 1477.28 Q1453.86 1473.71 1453.86 1466.61 Q1453.86 1459.48 1452.03 1455.94 Q1450.22 1452.37 1446.59 1452.37 M1446.59 1448.67 Q1452.4 1448.67 1455.46 1453.27 Q1458.53 1457.86 1458.53 1466.61 Q1458.53 1475.33 1455.46 1479.94 Q1452.4 1484.52 1446.59 1484.52 Q1440.78 1484.52 1437.7 1479.94 Q1434.65 1475.33 1434.65 1466.61 Q1434.65 1457.86 1437.7 1453.27 Q1440.78 1448.67 1446.59 1448.67 Z\" fill=\"#000000\" fill-rule=\"evenodd\" fill-opacity=\"1\" /><path clip-path=\"url(#clip040)\" d=\"M1725.16 1467.44 Q1721.83 1467.44 1719.91 1469.22 Q1718.01 1471 1718.01 1474.13 Q1718.01 1477.25 1719.91 1479.04 Q1721.83 1480.82 1725.16 1480.82 Q1728.49 1480.82 1730.41 1479.04 Q1732.34 1477.23 1732.34 1474.13 Q1732.34 1471 1730.41 1469.22 Q1728.52 1467.44 1725.16 1467.44 M1720.48 1465.45 Q1717.48 1464.71 1715.79 1462.65 Q1714.12 1460.59 1714.12 1457.63 Q1714.12 1453.48 1717.06 1451.07 Q1720.02 1448.67 1725.16 1448.67 Q1730.32 1448.67 1733.26 1451.07 Q1736.2 1453.48 1736.2 1457.63 Q1736.2 1460.59 1734.51 1462.65 Q1732.85 1464.71 1729.86 1465.45 Q1733.24 1466.24 1735.11 1468.53 Q1737.01 1470.82 1737.01 1474.13 Q1737.01 1479.15 1733.93 1481.84 Q1730.88 1484.52 1725.16 1484.52 Q1719.44 1484.52 1716.36 1481.84 Q1713.31 1479.15 1713.31 1474.13 Q1713.31 1470.82 1715.21 1468.53 Q1717.1 1466.24 1720.48 1465.45 M1718.77 1458.06 Q1718.77 1460.75 1720.44 1462.25 Q1722.13 1463.76 1725.16 1463.76 Q1728.17 1463.76 1729.86 1462.25 Q1731.57 1460.75 1731.57 1458.06 Q1731.57 1455.38 1729.86 1453.88 Q1728.17 1452.37 1725.16 1452.37 Q1722.13 1452.37 1720.44 1453.88 Q1718.77 1455.38 1718.77 1458.06 Z\" fill=\"#000000\" fill-rule=\"evenodd\" fill-opacity=\"1\" /><path clip-path=\"url(#clip040)\" d=\"M1745.32 1477.97 L1750.21 1477.97 L1750.21 1483.85 L1745.32 1483.85 L1745.32 1477.97 Z\" fill=\"#000000\" fill-rule=\"evenodd\" fill-opacity=\"1\" /><path clip-path=\"url(#clip040)\" d=\"M1773.24 1453.37 L1761.43 1471.81 L1773.24 1471.81 L1773.24 1453.37 M1772.01 1449.29 L1777.89 1449.29 L1777.89 1471.81 L1782.82 1471.81 L1782.82 1475.7 L1777.89 1475.7 L1777.89 1483.85 L1773.24 1483.85 L1773.24 1475.7 L1757.64 1475.7 L1757.64 1471.19 L1772.01 1449.29 Z\" fill=\"#000000\" fill-rule=\"evenodd\" fill-opacity=\"1\" /><path clip-path=\"url(#clip040)\" d=\"M1794.58 1479.92 L1810.9 1479.92 L1810.9 1483.85 L1788.96 1483.85 L1788.96 1479.92 Q1791.62 1477.16 1796.2 1472.53 Q1800.81 1467.88 1801.99 1466.54 Q1804.23 1464.01 1805.11 1462.28 Q1806.02 1460.52 1806.02 1458.83 Q1806.02 1456.07 1804.07 1454.34 Q1802.15 1452.6 1799.05 1452.6 Q1796.85 1452.6 1794.4 1453.37 Q1791.97 1454.13 1789.19 1455.68 L1789.19 1450.96 Q1792.01 1449.82 1794.47 1449.25 Q1796.92 1448.67 1798.96 1448.67 Q1804.33 1448.67 1807.52 1451.35 Q1810.72 1454.04 1810.72 1458.53 Q1810.72 1460.66 1809.91 1462.58 Q1809.12 1464.48 1807.01 1467.07 Q1806.43 1467.74 1803.33 1470.96 Q1800.23 1474.15 1794.58 1479.92 Z\" fill=\"#000000\" fill-rule=\"evenodd\" fill-opacity=\"1\" /><path clip-path=\"url(#clip040)\" d=\"M1820.76 1449.29 L1839.12 1449.29 L1839.12 1453.23 L1825.04 1453.23 L1825.04 1461.7 Q1826.06 1461.35 1827.08 1461.19 Q1828.1 1461 1829.12 1461 Q1834.91 1461 1838.28 1464.18 Q1841.66 1467.35 1841.66 1472.76 Q1841.66 1478.34 1838.19 1481.44 Q1834.72 1484.52 1828.4 1484.52 Q1826.22 1484.52 1823.96 1484.15 Q1821.71 1483.78 1819.3 1483.04 L1819.3 1478.34 Q1821.39 1479.48 1823.61 1480.03 Q1825.83 1480.59 1828.31 1480.59 Q1832.31 1480.59 1834.65 1478.48 Q1836.99 1476.38 1836.99 1472.76 Q1836.99 1469.15 1834.65 1467.05 Q1832.31 1464.94 1828.31 1464.94 Q1826.43 1464.94 1824.56 1465.36 Q1822.71 1465.77 1820.76 1466.65 L1820.76 1449.29 Z\" fill=\"#000000\" fill-rule=\"evenodd\" fill-opacity=\"1\" /><path clip-path=\"url(#clip040)\" d=\"M2108.29 1467.44 Q2104.96 1467.44 2103.04 1469.22 Q2101.14 1471 2101.14 1474.13 Q2101.14 1477.25 2103.04 1479.04 Q2104.96 1480.82 2108.29 1480.82 Q2111.62 1480.82 2113.54 1479.04 Q2115.47 1477.23 2115.47 1474.13 Q2115.47 1471 2113.54 1469.22 Q2111.65 1467.44 2108.29 1467.44 M2103.61 1465.45 Q2100.61 1464.71 2098.92 1462.65 Q2097.25 1460.59 2097.25 1457.63 Q2097.25 1453.48 2100.19 1451.07 Q2103.15 1448.67 2108.29 1448.67 Q2113.45 1448.67 2116.39 1451.07 Q2119.33 1453.48 2119.33 1457.63 Q2119.33 1460.59 2117.64 1462.65 Q2115.98 1464.71 2112.99 1465.45 Q2116.37 1466.24 2118.24 1468.53 Q2120.14 1470.82 2120.14 1474.13 Q2120.14 1479.15 2117.06 1481.84 Q2114.01 1484.52 2108.29 1484.52 Q2102.57 1484.52 2099.49 1481.84 Q2096.44 1479.15 2096.44 1474.13 Q2096.44 1470.82 2098.34 1468.53 Q2100.23 1466.24 2103.61 1465.45 M2101.9 1458.06 Q2101.9 1460.75 2103.57 1462.25 Q2105.26 1463.76 2108.29 1463.76 Q2111.3 1463.76 2112.99 1462.25 Q2114.7 1460.75 2114.7 1458.06 Q2114.7 1455.38 2112.99 1453.88 Q2111.3 1452.37 2108.29 1452.37 Q2105.26 1452.37 2103.57 1453.88 Q2101.9 1455.38 2101.9 1458.06 Z\" fill=\"#000000\" fill-rule=\"evenodd\" fill-opacity=\"1\" /><path clip-path=\"url(#clip040)\" d=\"M2128.45 1477.97 L2133.34 1477.97 L2133.34 1483.85 L2128.45 1483.85 L2128.45 1477.97 Z\" fill=\"#000000\" fill-rule=\"evenodd\" fill-opacity=\"1\" /><path clip-path=\"url(#clip040)\" d=\"M2156.37 1453.37 L2144.56 1471.81 L2156.37 1471.81 L2156.37 1453.37 M2155.14 1449.29 L2161.02 1449.29 L2161.02 1471.81 L2165.95 1471.81 L2165.95 1475.7 L2161.02 1475.7 L2161.02 1483.85 L2156.37 1483.85 L2156.37 1475.7 L2140.77 1475.7 L2140.77 1471.19 L2155.14 1449.29 Z\" fill=\"#000000\" fill-rule=\"evenodd\" fill-opacity=\"1\" /><path clip-path=\"url(#clip040)\" d=\"M2187.85 1465.22 Q2191.21 1465.94 2193.08 1468.2 Q2194.98 1470.47 2194.98 1473.81 Q2194.98 1478.92 2191.46 1481.72 Q2187.94 1484.52 2181.46 1484.52 Q2179.29 1484.52 2176.97 1484.08 Q2174.68 1483.67 2172.23 1482.81 L2172.23 1478.3 Q2174.17 1479.43 2176.48 1480.01 Q2178.8 1480.59 2181.32 1480.59 Q2185.72 1480.59 2188.01 1478.85 Q2190.33 1477.12 2190.33 1473.81 Q2190.33 1470.75 2188.17 1469.04 Q2186.04 1467.3 2182.23 1467.3 L2178.2 1467.3 L2178.2 1463.46 L2182.41 1463.46 Q2185.86 1463.46 2187.69 1462.09 Q2189.52 1460.7 2189.52 1458.11 Q2189.52 1455.45 2187.62 1454.04 Q2185.74 1452.6 2182.23 1452.6 Q2180.3 1452.6 2178.1 1453.02 Q2175.91 1453.44 2173.27 1454.31 L2173.27 1450.15 Q2175.93 1449.41 2178.24 1449.04 Q2180.58 1448.67 2182.64 1448.67 Q2187.97 1448.67 2191.07 1451.1 Q2194.17 1453.5 2194.17 1457.63 Q2194.17 1460.5 2192.53 1462.49 Q2190.88 1464.45 2187.85 1465.22 Z\" fill=\"#000000\" fill-rule=\"evenodd\" fill-opacity=\"1\" /><path clip-path=\"url(#clip040)\" d=\"M2213.85 1452.37 Q2210.23 1452.37 2208.41 1455.94 Q2206.6 1459.48 2206.6 1466.61 Q2206.6 1473.71 2208.41 1477.28 Q2210.23 1480.82 2213.85 1480.82 Q2217.48 1480.82 2219.28 1477.28 Q2221.11 1473.71 2221.11 1466.61 Q2221.11 1459.48 2219.28 1455.94 Q2217.48 1452.37 2213.85 1452.37 M2213.85 1448.67 Q2219.66 1448.67 2222.71 1453.27 Q2225.79 1457.86 2225.79 1466.61 Q2225.79 1475.33 2222.71 1479.94 Q2219.66 1484.52 2213.85 1484.52 Q2208.04 1484.52 2204.96 1479.94 Q2201.9 1475.33 2201.9 1466.61 Q2201.9 1457.86 2204.96 1453.27 Q2208.04 1448.67 2213.85 1448.67 Z\" fill=\"#000000\" fill-rule=\"evenodd\" fill-opacity=\"1\" /><path clip-path=\"url(#clip040)\" d=\"M1095.91 1539.24 Q1098.1 1535.29 1101.16 1533.41 Q1104.22 1531.54 1108.35 1531.54 Q1113.92 1531.54 1116.95 1535.45 Q1119.97 1539.33 1119.97 1546.53 L1119.97 1568.04 L1114.08 1568.04 L1114.08 1546.72 Q1114.08 1541.59 1112.27 1539.11 Q1110.45 1536.63 1106.73 1536.63 Q1102.18 1536.63 1099.54 1539.65 Q1096.9 1542.68 1096.9 1547.9 L1096.9 1568.04 L1091.01 1568.04 L1091.01 1546.72 Q1091.01 1541.56 1089.19 1539.11 Q1087.38 1536.63 1083.59 1536.63 Q1079.1 1536.63 1076.46 1539.68 Q1073.82 1542.71 1073.82 1547.9 L1073.82 1568.04 L1067.93 1568.04 L1067.93 1532.4 L1073.82 1532.4 L1073.82 1537.93 Q1075.82 1534.66 1078.63 1533.1 Q1081.43 1531.54 1085.28 1531.54 Q1089.16 1531.54 1091.87 1533.51 Q1094.6 1535.48 1095.91 1539.24 Z\" fill=\"#000000\" fill-rule=\"evenodd\" fill-opacity=\"1\" /><path clip-path=\"url(#clip040)\" d=\"M1131.65 1532.4 L1137.51 1532.4 L1137.51 1568.04 L1131.65 1568.04 L1131.65 1532.4 M1131.65 1518.52 L1137.51 1518.52 L1137.51 1525.93 L1131.65 1525.93 L1131.65 1518.52 Z\" fill=\"#000000\" fill-rule=\"evenodd\" fill-opacity=\"1\" /><path clip-path=\"url(#clip040)\" d=\"M1149.76 1518.52 L1155.62 1518.52 L1155.62 1568.04 L1149.76 1568.04 L1149.76 1518.52 Z\" fill=\"#000000\" fill-rule=\"evenodd\" fill-opacity=\"1\" /><path clip-path=\"url(#clip040)\" d=\"M1167.87 1532.4 L1173.73 1532.4 L1173.73 1568.04 L1167.87 1568.04 L1167.87 1532.4 M1167.87 1518.52 L1173.73 1518.52 L1173.73 1525.93 L1167.87 1525.93 L1167.87 1518.52 Z\" fill=\"#000000\" fill-rule=\"evenodd\" fill-opacity=\"1\" /><path clip-path=\"url(#clip040)\" d=\"M1208.71 1533.45 L1208.71 1538.98 Q1206.23 1537.71 1203.55 1537.07 Q1200.88 1536.44 1198.01 1536.44 Q1193.65 1536.44 1191.46 1537.77 Q1189.29 1539.11 1189.29 1541.79 Q1189.29 1543.82 1190.85 1545 Q1192.41 1546.15 1197.12 1547.2 L1199.13 1547.64 Q1205.37 1548.98 1207.98 1551.43 Q1210.62 1553.85 1210.62 1558.21 Q1210.62 1563.17 1206.67 1566.07 Q1202.76 1568.97 1195.88 1568.97 Q1193.02 1568.97 1189.9 1568.39 Q1186.81 1567.85 1183.37 1566.74 L1183.37 1560.69 Q1186.62 1562.38 1189.77 1563.24 Q1192.92 1564.07 1196.01 1564.07 Q1200.15 1564.07 1202.37 1562.66 Q1204.6 1561.23 1204.6 1558.65 Q1204.6 1556.27 1202.98 1554.99 Q1201.39 1553.72 1195.95 1552.54 L1193.91 1552.07 Q1188.47 1550.92 1186.05 1548.56 Q1183.63 1546.18 1183.63 1542.04 Q1183.63 1537.01 1187.19 1534.27 Q1190.76 1531.54 1197.31 1531.54 Q1200.56 1531.54 1203.43 1532.01 Q1206.29 1532.49 1208.71 1533.45 Z\" fill=\"#000000\" fill-rule=\"evenodd\" fill-opacity=\"1\" /><path clip-path=\"url(#clip040)\" d=\"M1250.44 1548.76 L1250.44 1551.62 L1223.51 1551.62 Q1223.89 1557.67 1227.14 1560.85 Q1230.42 1564 1236.24 1564 Q1239.61 1564 1242.77 1563.17 Q1245.95 1562.35 1249.07 1560.69 L1249.07 1566.23 Q1245.92 1567.57 1242.61 1568.27 Q1239.3 1568.97 1235.89 1568.97 Q1227.36 1568.97 1222.36 1564 Q1217.4 1559.04 1217.4 1550.57 Q1217.4 1541.82 1222.11 1536.69 Q1226.85 1531.54 1234.87 1531.54 Q1242.07 1531.54 1246.23 1536.18 Q1250.44 1540.8 1250.44 1548.76 M1244.58 1547.04 Q1244.52 1542.23 1241.87 1539.37 Q1239.26 1536.5 1234.94 1536.5 Q1230.03 1536.5 1227.07 1539.27 Q1224.15 1542.04 1223.7 1547.07 L1244.58 1547.04 Z\" fill=\"#000000\" fill-rule=\"evenodd\" fill-opacity=\"1\" /><path clip-path=\"url(#clip040)\" d=\"M1283.51 1549.81 Q1283.51 1543.44 1280.86 1539.94 Q1278.25 1536.44 1273.51 1536.44 Q1268.8 1536.44 1266.16 1539.94 Q1263.55 1543.44 1263.55 1549.81 Q1263.55 1556.14 1266.16 1559.64 Q1268.8 1563.14 1273.51 1563.14 Q1278.25 1563.14 1280.86 1559.64 Q1283.51 1556.14 1283.51 1549.81 M1289.36 1563.62 Q1289.36 1572.72 1285.32 1577.15 Q1281.28 1581.6 1272.94 1581.6 Q1269.85 1581.6 1267.11 1581.13 Q1264.38 1580.68 1261.8 1579.72 L1261.8 1574.03 Q1264.38 1575.43 1266.89 1576.1 Q1269.41 1576.76 1272.02 1576.76 Q1277.78 1576.76 1280.64 1573.74 Q1283.51 1570.75 1283.51 1564.67 L1283.51 1561.77 Q1281.69 1564.92 1278.86 1566.48 Q1276.03 1568.04 1272.08 1568.04 Q1265.52 1568.04 1261.51 1563.05 Q1257.5 1558.05 1257.5 1549.81 Q1257.5 1541.53 1261.51 1536.53 Q1265.52 1531.54 1272.08 1531.54 Q1276.03 1531.54 1278.86 1533.1 Q1281.69 1534.66 1283.51 1537.81 L1283.51 1532.4 L1289.36 1532.4 L1289.36 1563.62 Z\" fill=\"#000000\" fill-rule=\"evenodd\" fill-opacity=\"1\" /><path clip-path=\"url(#clip040)\" d=\"M1300.82 1553.98 L1300.82 1532.4 L1306.68 1532.4 L1306.68 1553.75 Q1306.68 1558.81 1308.65 1561.36 Q1310.62 1563.87 1314.57 1563.87 Q1319.31 1563.87 1322.05 1560.85 Q1324.82 1557.83 1324.82 1552.61 L1324.82 1532.4 L1330.68 1532.4 L1330.68 1568.04 L1324.82 1568.04 L1324.82 1562.57 Q1322.69 1565.82 1319.85 1567.41 Q1317.05 1568.97 1313.33 1568.97 Q1307.19 1568.97 1304 1565.15 Q1300.82 1561.33 1300.82 1553.98 M1315.56 1531.54 L1315.56 1531.54 Z\" fill=\"#000000\" fill-rule=\"evenodd\" fill-opacity=\"1\" /><path clip-path=\"url(#clip040)\" d=\"M1372.37 1546.53 L1372.37 1568.04 L1366.51 1568.04 L1366.51 1546.72 Q1366.51 1541.66 1364.54 1539.14 Q1362.57 1536.63 1358.62 1536.63 Q1353.88 1536.63 1351.14 1539.65 Q1348.4 1542.68 1348.4 1547.9 L1348.4 1568.04 L1342.52 1568.04 L1342.52 1532.4 L1348.4 1532.4 L1348.4 1537.93 Q1350.5 1534.72 1353.34 1533.13 Q1356.2 1531.54 1359.93 1531.54 Q1366.07 1531.54 1369.22 1535.36 Q1372.37 1539.14 1372.37 1546.53 Z\" fill=\"#000000\" fill-rule=\"evenodd\" fill-opacity=\"1\" /><path clip-path=\"url(#clip040)\" d=\"M1407.51 1537.81 L1407.51 1518.52 L1413.37 1518.52 L1413.37 1568.04 L1407.51 1568.04 L1407.51 1562.7 Q1405.66 1565.88 1402.83 1567.44 Q1400.03 1568.97 1396.08 1568.97 Q1389.62 1568.97 1385.55 1563.81 Q1381.51 1558.65 1381.51 1550.25 Q1381.51 1541.85 1385.55 1536.69 Q1389.62 1531.54 1396.08 1531.54 Q1400.03 1531.54 1402.83 1533.1 Q1405.66 1534.62 1407.51 1537.81 M1387.55 1550.25 Q1387.55 1556.71 1390.2 1560.4 Q1392.87 1564.07 1397.52 1564.07 Q1402.16 1564.07 1404.84 1560.4 Q1407.51 1556.71 1407.51 1550.25 Q1407.51 1543.79 1404.84 1540.13 Q1402.16 1536.44 1397.52 1536.44 Q1392.87 1536.44 1390.2 1540.13 Q1387.55 1543.79 1387.55 1550.25 Z\" fill=\"#000000\" fill-rule=\"evenodd\" fill-opacity=\"1\" /><path clip-path=\"url(#clip040)\" d=\"M1439.24 1536.5 Q1434.53 1536.5 1431.79 1540.19 Q1429.06 1543.85 1429.06 1550.25 Q1429.06 1556.65 1431.76 1560.34 Q1434.5 1564 1439.24 1564 Q1443.92 1564 1446.66 1560.31 Q1449.4 1556.62 1449.4 1550.25 Q1449.4 1543.92 1446.66 1540.23 Q1443.92 1536.5 1439.24 1536.5 M1439.24 1531.54 Q1446.88 1531.54 1451.24 1536.5 Q1455.6 1541.47 1455.6 1550.25 Q1455.6 1559 1451.24 1564 Q1446.88 1568.97 1439.24 1568.97 Q1431.57 1568.97 1427.21 1564 Q1422.88 1559 1422.88 1550.25 Q1422.88 1541.47 1427.21 1536.5 Q1431.57 1531.54 1439.24 1531.54 Z\" fill=\"#000000\" fill-rule=\"evenodd\" fill-opacity=\"1\" /><path clip-path=\"url(#clip040)\" d=\"M1488.04 1533.45 L1488.04 1538.98 Q1485.55 1537.71 1482.88 1537.07 Q1480.21 1536.44 1477.34 1536.44 Q1472.98 1536.44 1470.78 1537.77 Q1468.62 1539.11 1468.62 1541.79 Q1468.62 1543.82 1470.18 1545 Q1471.74 1546.15 1476.45 1547.2 L1478.46 1547.64 Q1484.69 1548.98 1487.3 1551.43 Q1489.95 1553.85 1489.95 1558.21 Q1489.95 1563.17 1486 1566.07 Q1482.08 1568.97 1475.21 1568.97 Q1472.34 1568.97 1469.23 1568.39 Q1466.14 1567.85 1462.7 1566.74 L1462.7 1560.69 Q1465.95 1562.38 1469.1 1563.24 Q1472.25 1564.07 1475.34 1564.07 Q1479.47 1564.07 1481.7 1562.66 Q1483.93 1561.23 1483.93 1558.65 Q1483.93 1556.27 1482.31 1554.99 Q1480.72 1553.72 1475.27 1552.54 L1473.24 1552.07 Q1467.79 1550.92 1465.37 1548.56 Q1462.96 1546.18 1462.96 1542.04 Q1462.96 1537.01 1466.52 1534.27 Q1470.08 1531.54 1476.64 1531.54 Q1479.89 1531.54 1482.75 1532.01 Q1485.62 1532.49 1488.04 1533.45 Z\" fill=\"#000000\" fill-rule=\"evenodd\" fill-opacity=\"1\" /><polyline clip-path=\"url(#clip042)\" style=\"stroke:#000000; stroke-linecap:butt; stroke-linejoin:round; stroke-width:2; stroke-opacity:0.1; fill:none\" points=\"\n",
       "  205.121,1384.24 2352.76,1384.24 \n",
       "  \"/>\n",
       "<polyline clip-path=\"url(#clip042)\" style=\"stroke:#000000; stroke-linecap:butt; stroke-linejoin:round; stroke-width:2; stroke-opacity:0.1; fill:none\" points=\"\n",
       "  205.121,1075.18 2352.76,1075.18 \n",
       "  \"/>\n",
       "<polyline clip-path=\"url(#clip042)\" style=\"stroke:#000000; stroke-linecap:butt; stroke-linejoin:round; stroke-width:2; stroke-opacity:0.1; fill:none\" points=\"\n",
       "  205.121,766.118 2352.76,766.118 \n",
       "  \"/>\n",
       "<polyline clip-path=\"url(#clip042)\" style=\"stroke:#000000; stroke-linecap:butt; stroke-linejoin:round; stroke-width:2; stroke-opacity:0.1; fill:none\" points=\"\n",
       "  205.121,457.058 2352.76,457.058 \n",
       "  \"/>\n",
       "<polyline clip-path=\"url(#clip042)\" style=\"stroke:#000000; stroke-linecap:butt; stroke-linejoin:round; stroke-width:2; stroke-opacity:0.1; fill:none\" points=\"\n",
       "  205.121,147.998 2352.76,147.998 \n",
       "  \"/>\n",
       "<polyline clip-path=\"url(#clip040)\" style=\"stroke:#000000; stroke-linecap:butt; stroke-linejoin:round; stroke-width:4; stroke-opacity:1; fill:none\" points=\"\n",
       "  205.121,1423.18 205.121,47.2441 \n",
       "  \"/>\n",
       "<polyline clip-path=\"url(#clip040)\" style=\"stroke:#000000; stroke-linecap:butt; stroke-linejoin:round; stroke-width:4; stroke-opacity:1; fill:none\" points=\"\n",
       "  205.121,1384.24 224.019,1384.24 \n",
       "  \"/>\n",
       "<polyline clip-path=\"url(#clip040)\" style=\"stroke:#000000; stroke-linecap:butt; stroke-linejoin:round; stroke-width:4; stroke-opacity:1; fill:none\" points=\"\n",
       "  205.121,1075.18 224.019,1075.18 \n",
       "  \"/>\n",
       "<polyline clip-path=\"url(#clip040)\" style=\"stroke:#000000; stroke-linecap:butt; stroke-linejoin:round; stroke-width:4; stroke-opacity:1; fill:none\" points=\"\n",
       "  205.121,766.118 224.019,766.118 \n",
       "  \"/>\n",
       "<polyline clip-path=\"url(#clip040)\" style=\"stroke:#000000; stroke-linecap:butt; stroke-linejoin:round; stroke-width:4; stroke-opacity:1; fill:none\" points=\"\n",
       "  205.121,457.058 224.019,457.058 \n",
       "  \"/>\n",
       "<polyline clip-path=\"url(#clip040)\" style=\"stroke:#000000; stroke-linecap:butt; stroke-linejoin:round; stroke-width:4; stroke-opacity:1; fill:none\" points=\"\n",
       "  205.121,147.998 224.019,147.998 \n",
       "  \"/>\n",
       "<path clip-path=\"url(#clip040)\" d=\"M157.177 1370.04 Q153.566 1370.04 151.737 1373.6 Q149.931 1377.14 149.931 1384.27 Q149.931 1391.38 151.737 1394.94 Q153.566 1398.49 157.177 1398.49 Q160.811 1398.49 162.616 1394.94 Q164.445 1391.38 164.445 1384.27 Q164.445 1377.14 162.616 1373.6 Q160.811 1370.04 157.177 1370.04 M157.177 1366.33 Q162.987 1366.33 166.042 1370.94 Q169.121 1375.52 169.121 1384.27 Q169.121 1393 166.042 1397.61 Q162.987 1402.19 157.177 1402.19 Q151.366 1402.19 148.288 1397.61 Q145.232 1393 145.232 1384.27 Q145.232 1375.52 148.288 1370.94 Q151.366 1366.33 157.177 1366.33 Z\" fill=\"#000000\" fill-rule=\"evenodd\" fill-opacity=\"1\" /><path clip-path=\"url(#clip040)\" d=\"M117.825 1088.52 L125.464 1088.52 L125.464 1062.16 L117.154 1063.82 L117.154 1059.56 L125.418 1057.9 L130.093 1057.9 L130.093 1088.52 L137.732 1088.52 L137.732 1092.46 L117.825 1092.46 L117.825 1088.52 Z\" fill=\"#000000\" fill-rule=\"evenodd\" fill-opacity=\"1\" /><path clip-path=\"url(#clip040)\" d=\"M157.177 1060.98 Q153.566 1060.98 151.737 1064.54 Q149.931 1068.08 149.931 1075.21 Q149.931 1082.32 151.737 1085.88 Q153.566 1089.43 157.177 1089.43 Q160.811 1089.43 162.616 1085.88 Q164.445 1082.32 164.445 1075.21 Q164.445 1068.08 162.616 1064.54 Q160.811 1060.98 157.177 1060.98 M157.177 1057.27 Q162.987 1057.27 166.042 1061.88 Q169.121 1066.46 169.121 1075.21 Q169.121 1083.94 166.042 1088.55 Q162.987 1093.13 157.177 1093.13 Q151.366 1093.13 148.288 1088.55 Q145.232 1083.94 145.232 1075.21 Q145.232 1066.46 148.288 1061.88 Q151.366 1057.27 157.177 1057.27 Z\" fill=\"#000000\" fill-rule=\"evenodd\" fill-opacity=\"1\" /><path clip-path=\"url(#clip040)\" d=\"M121.043 779.463 L137.362 779.463 L137.362 783.398 L115.418 783.398 L115.418 779.463 Q118.08 776.708 122.663 772.079 Q127.269 767.426 128.45 766.083 Q130.695 763.56 131.575 761.824 Q132.478 760.065 132.478 758.375 Q132.478 755.62 130.533 753.884 Q128.612 752.148 125.51 752.148 Q123.311 752.148 120.857 752.912 Q118.427 753.676 115.649 755.227 L115.649 750.505 Q118.473 749.37 120.927 748.792 Q123.38 748.213 125.418 748.213 Q130.788 748.213 133.982 750.898 Q137.177 753.583 137.177 758.074 Q137.177 760.204 136.367 762.125 Q135.579 764.023 133.473 766.616 Q132.894 767.287 129.792 770.505 Q126.691 773.699 121.043 779.463 Z\" fill=\"#000000\" fill-rule=\"evenodd\" fill-opacity=\"1\" /><path clip-path=\"url(#clip040)\" d=\"M157.177 751.917 Q153.566 751.917 151.737 755.481 Q149.931 759.023 149.931 766.153 Q149.931 773.259 151.737 776.824 Q153.566 780.366 157.177 780.366 Q160.811 780.366 162.616 776.824 Q164.445 773.259 164.445 766.153 Q164.445 759.023 162.616 755.481 Q160.811 751.917 157.177 751.917 M157.177 748.213 Q162.987 748.213 166.042 752.819 Q169.121 757.403 169.121 766.153 Q169.121 774.88 166.042 779.486 Q162.987 784.069 157.177 784.069 Q151.366 784.069 148.288 779.486 Q145.232 774.88 145.232 766.153 Q145.232 757.403 148.288 752.819 Q151.366 748.213 157.177 748.213 Z\" fill=\"#000000\" fill-rule=\"evenodd\" fill-opacity=\"1\" /><path clip-path=\"url(#clip040)\" d=\"M131.181 455.704 Q134.538 456.421 136.413 458.69 Q138.311 460.958 138.311 464.292 Q138.311 469.407 134.792 472.208 Q131.274 475.009 124.793 475.009 Q122.617 475.009 120.302 474.569 Q118.01 474.153 115.556 473.296 L115.556 468.782 Q117.501 469.917 119.816 470.495 Q122.13 471.074 124.654 471.074 Q129.052 471.074 131.343 469.338 Q133.658 467.602 133.658 464.292 Q133.658 461.236 131.505 459.523 Q129.376 457.787 125.556 457.787 L121.529 457.787 L121.529 453.944 L125.742 453.944 Q129.191 453.944 131.019 452.579 Q132.848 451.19 132.848 448.597 Q132.848 445.935 130.95 444.523 Q129.075 443.088 125.556 443.088 Q123.635 443.088 121.436 443.505 Q119.237 443.921 116.598 444.801 L116.598 440.634 Q119.26 439.894 121.575 439.523 Q123.913 439.153 125.973 439.153 Q131.297 439.153 134.399 441.583 Q137.501 443.991 137.501 448.111 Q137.501 450.981 135.857 452.972 Q134.214 454.94 131.181 455.704 Z\" fill=\"#000000\" fill-rule=\"evenodd\" fill-opacity=\"1\" /><path clip-path=\"url(#clip040)\" d=\"M157.177 442.857 Q153.566 442.857 151.737 446.421 Q149.931 449.963 149.931 457.093 Q149.931 464.199 151.737 467.764 Q153.566 471.305 157.177 471.305 Q160.811 471.305 162.616 467.764 Q164.445 464.199 164.445 457.093 Q164.445 449.963 162.616 446.421 Q160.811 442.857 157.177 442.857 M157.177 439.153 Q162.987 439.153 166.042 443.759 Q169.121 448.343 169.121 457.093 Q169.121 465.819 166.042 470.426 Q162.987 475.009 157.177 475.009 Q151.366 475.009 148.288 470.426 Q145.232 465.819 145.232 457.093 Q145.232 448.343 148.288 443.759 Q151.366 439.153 157.177 439.153 Z\" fill=\"#000000\" fill-rule=\"evenodd\" fill-opacity=\"1\" /><path clip-path=\"url(#clip040)\" d=\"M129.862 134.792 L118.056 153.241 L129.862 153.241 L129.862 134.792 M128.635 130.718 L134.515 130.718 L134.515 153.241 L139.445 153.241 L139.445 157.13 L134.515 157.13 L134.515 165.278 L129.862 165.278 L129.862 157.13 L114.26 157.13 L114.26 152.616 L128.635 130.718 Z\" fill=\"#000000\" fill-rule=\"evenodd\" fill-opacity=\"1\" /><path clip-path=\"url(#clip040)\" d=\"M157.177 133.796 Q153.566 133.796 151.737 137.361 Q149.931 140.903 149.931 148.032 Q149.931 155.139 151.737 158.704 Q153.566 162.245 157.177 162.245 Q160.811 162.245 162.616 158.704 Q164.445 155.139 164.445 148.032 Q164.445 140.903 162.616 137.361 Q160.811 133.796 157.177 133.796 M157.177 130.093 Q162.987 130.093 166.042 134.699 Q169.121 139.282 169.121 148.032 Q169.121 156.759 166.042 161.366 Q162.987 165.949 157.177 165.949 Q151.366 165.949 148.288 161.366 Q145.232 156.759 145.232 148.032 Q145.232 139.282 148.288 134.699 Q151.366 130.093 157.177 130.093 Z\" fill=\"#000000\" fill-rule=\"evenodd\" fill-opacity=\"1\" /><path clip-path=\"url(#clip040)\" d=\"M16.4842 907.166 L16.4842 879.857 L21.895 879.857 L21.895 900.736 L35.8996 900.736 L35.8996 881.894 L41.3104 881.894 L41.3104 900.736 L64.0042 900.736 L64.0042 907.166 L16.4842 907.166 Z\" fill=\"#000000\" fill-rule=\"evenodd\" fill-opacity=\"1\" /><path clip-path=\"url(#clip040)\" d=\"M33.8307 854.012 Q33.2578 854.999 33.0032 856.176 Q32.7167 857.322 32.7167 858.723 Q32.7167 863.688 35.9632 866.361 Q39.1779 869.003 45.2253 869.003 L64.0042 869.003 L64.0042 874.891 L28.3562 874.891 L28.3562 869.003 L33.8944 869.003 Q30.6479 867.157 29.0883 864.197 Q27.4968 861.237 27.4968 857.004 Q27.4968 856.399 27.5923 855.667 Q27.656 854.935 27.8151 854.044 L33.8307 854.012 Z\" fill=\"#000000\" fill-rule=\"evenodd\" fill-opacity=\"1\" /><path clip-path=\"url(#clip040)\" d=\"M44.7161 818.81 L47.5806 818.81 L47.5806 845.737 Q53.6281 845.355 56.8109 842.108 Q59.9619 838.83 59.9619 833.005 Q59.9619 829.631 59.1344 826.48 Q58.3069 823.297 56.6518 820.178 L62.1899 820.178 Q63.5267 823.329 64.227 826.639 Q64.9272 829.95 64.9272 833.355 Q64.9272 841.885 59.9619 846.882 Q54.9967 851.848 46.5303 851.848 Q37.7774 851.848 32.6531 847.137 Q27.4968 842.395 27.4968 834.374 Q27.4968 827.181 32.1438 823.011 Q36.7589 818.81 44.7161 818.81 M42.9973 824.666 Q38.1912 824.73 35.3266 827.371 Q32.4621 829.981 32.4621 834.31 Q32.4621 839.212 35.2312 842.172 Q38.0002 845.1 43.0292 845.546 L42.9973 824.666 Z\" fill=\"#000000\" fill-rule=\"evenodd\" fill-opacity=\"1\" /><path clip-path=\"url(#clip040)\" d=\"M46.212 805.696 Q52.6732 805.696 56.3653 803.054 Q60.0256 800.381 60.0256 795.734 Q60.0256 791.087 56.3653 788.413 Q52.6732 785.74 46.212 785.74 Q39.7508 785.74 36.0905 788.413 Q32.3984 791.087 32.3984 795.734 Q32.3984 800.381 36.0905 803.054 Q39.7508 805.696 46.212 805.696 M58.657 785.74 Q61.8398 787.586 63.3994 790.419 Q64.9272 793.219 64.9272 797.166 Q64.9272 803.627 59.771 807.701 Q54.6147 811.744 46.212 811.744 Q37.8093 811.744 32.6531 807.701 Q27.4968 803.627 27.4968 797.166 Q27.4968 793.219 29.0564 790.419 Q30.5842 787.586 33.7671 785.74 L28.3562 785.74 L28.3562 779.883 L77.5631 779.883 L77.5631 785.74 L58.657 785.74 Z\" fill=\"#000000\" fill-rule=\"evenodd\" fill-opacity=\"1\" /><path clip-path=\"url(#clip040)\" d=\"M49.9359 768.425 L28.3562 768.425 L28.3562 762.569 L49.7131 762.569 Q54.7739 762.569 57.3202 760.595 Q59.8346 758.622 59.8346 754.675 Q59.8346 749.933 56.8109 747.195 Q53.7872 744.426 48.5673 744.426 L28.3562 744.426 L28.3562 738.57 L64.0042 738.57 L64.0042 744.426 L58.5296 744.426 Q61.7762 746.559 63.3676 749.392 Q64.9272 752.192 64.9272 755.916 Q64.9272 762.059 61.1078 765.242 Q57.2883 768.425 49.9359 768.425 M27.4968 753.688 L27.4968 753.688 Z\" fill=\"#000000\" fill-rule=\"evenodd\" fill-opacity=\"1\" /><path clip-path=\"url(#clip040)\" d=\"M44.7161 696.015 L47.5806 696.015 L47.5806 722.942 Q53.6281 722.56 56.8109 719.314 Q59.9619 716.035 59.9619 710.211 Q59.9619 706.837 59.1344 703.686 Q58.3069 700.503 56.6518 697.384 L62.1899 697.384 Q63.5267 700.535 64.227 703.845 Q64.9272 707.155 64.9272 710.561 Q64.9272 719.091 59.9619 724.088 Q54.9967 729.053 46.5303 729.053 Q37.7774 729.053 32.6531 724.343 Q27.4968 719.6 27.4968 711.579 Q27.4968 704.386 32.1438 700.216 Q36.7589 696.015 44.7161 696.015 M42.9973 701.872 Q38.1912 701.935 35.3266 704.577 Q32.4621 707.187 32.4621 711.516 Q32.4621 716.417 35.2312 719.377 Q38.0002 722.305 43.0292 722.751 L42.9973 701.872 M11.869 714.285 L11.869 709.574 L23.8365 701.776 L23.8365 706.2 L16.0386 711.929 L23.8365 717.659 L23.8365 722.083 L11.869 714.285 Z\" fill=\"#000000\" fill-rule=\"evenodd\" fill-opacity=\"1\" /><path clip-path=\"url(#clip040)\" d=\"M42.4881 656.771 L64.0042 656.771 L64.0042 662.627 L42.679 662.627 Q37.6183 662.627 35.1038 664.6 Q32.5894 666.574 32.5894 670.52 Q32.5894 675.263 35.6131 678 Q38.6368 680.737 43.8567 680.737 L64.0042 680.737 L64.0042 686.626 L28.3562 686.626 L28.3562 680.737 L33.8944 680.737 Q30.6797 678.637 29.0883 675.804 Q27.4968 672.939 27.4968 669.216 Q27.4968 663.073 31.3163 659.922 Q35.1038 656.771 42.4881 656.771 Z\" fill=\"#000000\" fill-rule=\"evenodd\" fill-opacity=\"1\" /><path clip-path=\"url(#clip040)\" d=\"M29.7248 619.436 L35.1993 619.436 Q33.8307 621.918 33.1623 624.433 Q32.4621 626.915 32.4621 629.462 Q32.4621 635.159 36.0905 638.31 Q39.6872 641.461 46.212 641.461 Q52.7369 641.461 56.3653 638.31 Q59.9619 635.159 59.9619 629.462 Q59.9619 626.915 59.2935 624.433 Q58.5933 621.918 57.2247 619.436 L62.6355 619.436 Q63.7814 621.886 64.3543 624.528 Q64.9272 627.138 64.9272 630.098 Q64.9272 638.151 59.8664 642.893 Q54.8057 647.636 46.212 647.636 Q37.491 647.636 32.4939 642.861 Q27.4968 638.055 27.4968 629.716 Q27.4968 627.011 28.0697 624.433 Q28.6108 621.855 29.7248 619.436 Z\" fill=\"#000000\" fill-rule=\"evenodd\" fill-opacity=\"1\" /><path clip-path=\"url(#clip040)\" d=\"M28.3562 609.251 L28.3562 603.394 L64.0042 603.394 L64.0042 609.251 L28.3562 609.251 M14.479 609.251 L14.479 603.394 L21.895 603.394 L21.895 609.251 L14.479 609.251 Z\" fill=\"#000000\" fill-rule=\"evenodd\" fill-opacity=\"1\" /><path clip-path=\"url(#clip040)\" d=\"M46.0847 574.939 Q46.0847 582.037 47.7079 584.774 Q49.3312 587.512 53.2461 587.512 Q56.3653 587.512 58.2114 585.475 Q60.0256 583.406 60.0256 579.873 Q60.0256 575.003 56.5881 572.075 Q53.1188 569.115 47.3897 569.115 L46.0847 569.115 L46.0847 574.939 M43.6657 563.258 L64.0042 563.258 L64.0042 569.115 L58.5933 569.115 Q61.8398 571.12 63.3994 574.112 Q64.9272 577.104 64.9272 581.432 Q64.9272 586.907 61.8716 590.153 Q58.7843 593.368 53.6281 593.368 Q47.6125 593.368 44.5569 589.358 Q41.5014 585.315 41.5014 577.327 L41.5014 569.115 L40.9285 569.115 Q36.8862 569.115 34.6901 571.788 Q32.4621 574.43 32.4621 579.236 Q32.4621 582.292 33.1941 585.188 Q33.9262 588.085 35.3903 590.758 L29.9795 590.758 Q28.7381 587.543 28.1334 584.52 Q27.4968 581.496 27.4968 578.631 Q27.4968 570.897 31.5072 567.078 Q35.5176 563.258 43.6657 563.258 Z\" fill=\"#000000\" fill-rule=\"evenodd\" fill-opacity=\"1\" /><path clip-path=\"url(#clip042)\" d=\"\n",
       "M856.78 1353.33 L856.78 1384.24 L933.506 1384.24 L933.506 1353.33 L856.78 1353.33 L856.78 1353.33  Z\n",
       "  \" fill=\"#009af9\" fill-rule=\"evenodd\" fill-opacity=\"1\"/>\n",
       "<polyline clip-path=\"url(#clip042)\" style=\"stroke:#000000; stroke-linecap:butt; stroke-linejoin:round; stroke-width:4; stroke-opacity:1; fill:none\" points=\"\n",
       "  856.78,1353.33 856.78,1384.24 933.506,1384.24 933.506,1353.33 856.78,1353.33 \n",
       "  \"/>\n",
       "<path clip-path=\"url(#clip042)\" d=\"\n",
       "M933.506 1106.08 L933.506 1384.24 L1010.23 1384.24 L1010.23 1106.08 L933.506 1106.08 L933.506 1106.08  Z\n",
       "  \" fill=\"#009af9\" fill-rule=\"evenodd\" fill-opacity=\"1\"/>\n",
       "<polyline clip-path=\"url(#clip042)\" style=\"stroke:#000000; stroke-linecap:butt; stroke-linejoin:round; stroke-width:4; stroke-opacity:1; fill:none\" points=\"\n",
       "  933.506,1106.08 933.506,1384.24 1010.23,1384.24 1010.23,1106.08 933.506,1106.08 \n",
       "  \"/>\n",
       "<path clip-path=\"url(#clip042)\" d=\"\n",
       "M1010.23 982.46 L1010.23 1384.24 L1086.96 1384.24 L1086.96 982.46 L1010.23 982.46 L1010.23 982.46  Z\n",
       "  \" fill=\"#009af9\" fill-rule=\"evenodd\" fill-opacity=\"1\"/>\n",
       "<polyline clip-path=\"url(#clip042)\" style=\"stroke:#000000; stroke-linecap:butt; stroke-linejoin:round; stroke-width:4; stroke-opacity:1; fill:none\" points=\"\n",
       "  1010.23,982.46 1010.23,1384.24 1086.96,1384.24 1086.96,982.46 1010.23,982.46 \n",
       "  \"/>\n",
       "<path clip-path=\"url(#clip042)\" d=\"\n",
       "M1086.96 364.34 L1086.96 1384.24 L1163.68 1384.24 L1163.68 364.34 L1086.96 364.34 L1086.96 364.34  Z\n",
       "  \" fill=\"#009af9\" fill-rule=\"evenodd\" fill-opacity=\"1\"/>\n",
       "<polyline clip-path=\"url(#clip042)\" style=\"stroke:#000000; stroke-linecap:butt; stroke-linejoin:round; stroke-width:4; stroke-opacity:1; fill:none\" points=\"\n",
       "  1086.96,364.34 1086.96,1384.24 1163.68,1384.24 1163.68,364.34 1086.96,364.34 \n",
       "  \"/>\n",
       "<path clip-path=\"url(#clip042)\" d=\"\n",
       "M1163.68 518.87 L1163.68 1384.24 L1240.41 1384.24 L1240.41 518.87 L1163.68 518.87 L1163.68 518.87  Z\n",
       "  \" fill=\"#009af9\" fill-rule=\"evenodd\" fill-opacity=\"1\"/>\n",
       "<polyline clip-path=\"url(#clip042)\" style=\"stroke:#000000; stroke-linecap:butt; stroke-linejoin:round; stroke-width:4; stroke-opacity:1; fill:none\" points=\"\n",
       "  1163.68,518.87 1163.68,1384.24 1240.41,1384.24 1240.41,518.87 1163.68,518.87 \n",
       "  \"/>\n",
       "<path clip-path=\"url(#clip042)\" d=\"\n",
       "M1240.41 86.1857 L1240.41 1384.24 L1317.13 1384.24 L1317.13 86.1857 L1240.41 86.1857 L1240.41 86.1857  Z\n",
       "  \" fill=\"#009af9\" fill-rule=\"evenodd\" fill-opacity=\"1\"/>\n",
       "<polyline clip-path=\"url(#clip042)\" style=\"stroke:#000000; stroke-linecap:butt; stroke-linejoin:round; stroke-width:4; stroke-opacity:1; fill:none\" points=\"\n",
       "  1240.41,86.1857 1240.41,1384.24 1317.13,1384.24 1317.13,86.1857 1240.41,86.1857 \n",
       "  \"/>\n",
       "<path clip-path=\"url(#clip042)\" d=\"\n",
       "M1317.13 487.964 L1317.13 1384.24 L1393.86 1384.24 L1393.86 487.964 L1317.13 487.964 L1317.13 487.964  Z\n",
       "  \" fill=\"#009af9\" fill-rule=\"evenodd\" fill-opacity=\"1\"/>\n",
       "<polyline clip-path=\"url(#clip042)\" style=\"stroke:#000000; stroke-linecap:butt; stroke-linejoin:round; stroke-width:4; stroke-opacity:1; fill:none\" points=\"\n",
       "  1317.13,487.964 1317.13,1384.24 1393.86,1384.24 1393.86,487.964 1317.13,487.964 \n",
       "  \"/>\n",
       "<path clip-path=\"url(#clip042)\" d=\"\n",
       "M1393.86 735.212 L1393.86 1384.24 L1470.58 1384.24 L1470.58 735.212 L1393.86 735.212 L1393.86 735.212  Z\n",
       "  \" fill=\"#009af9\" fill-rule=\"evenodd\" fill-opacity=\"1\"/>\n",
       "<polyline clip-path=\"url(#clip042)\" style=\"stroke:#000000; stroke-linecap:butt; stroke-linejoin:round; stroke-width:4; stroke-opacity:1; fill:none\" points=\"\n",
       "  1393.86,735.212 1393.86,1384.24 1470.58,1384.24 1470.58,735.212 1393.86,735.212 \n",
       "  \"/>\n",
       "<path clip-path=\"url(#clip042)\" d=\"\n",
       "M1470.58 735.212 L1470.58 1384.24 L1547.31 1384.24 L1547.31 735.212 L1470.58 735.212 L1470.58 735.212  Z\n",
       "  \" fill=\"#009af9\" fill-rule=\"evenodd\" fill-opacity=\"1\"/>\n",
       "<polyline clip-path=\"url(#clip042)\" style=\"stroke:#000000; stroke-linecap:butt; stroke-linejoin:round; stroke-width:4; stroke-opacity:1; fill:none\" points=\"\n",
       "  1470.58,735.212 1470.58,1384.24 1547.31,1384.24 1547.31,735.212 1470.58,735.212 \n",
       "  \"/>\n",
       "<path clip-path=\"url(#clip042)\" d=\"\n",
       "M1547.31 611.588 L1547.31 1384.24 L1624.04 1384.24 L1624.04 611.588 L1547.31 611.588 L1547.31 611.588  Z\n",
       "  \" fill=\"#009af9\" fill-rule=\"evenodd\" fill-opacity=\"1\"/>\n",
       "<polyline clip-path=\"url(#clip042)\" style=\"stroke:#000000; stroke-linecap:butt; stroke-linejoin:round; stroke-width:4; stroke-opacity:1; fill:none\" points=\"\n",
       "  1547.31,611.588 1547.31,1384.24 1624.04,1384.24 1624.04,611.588 1547.31,611.588 \n",
       "  \"/>\n",
       "<path clip-path=\"url(#clip042)\" d=\"\n",
       "M1624.04 395.246 L1624.04 1384.24 L1700.76 1384.24 L1700.76 395.246 L1624.04 395.246 L1624.04 395.246  Z\n",
       "  \" fill=\"#009af9\" fill-rule=\"evenodd\" fill-opacity=\"1\"/>\n",
       "<polyline clip-path=\"url(#clip042)\" style=\"stroke:#000000; stroke-linecap:butt; stroke-linejoin:round; stroke-width:4; stroke-opacity:1; fill:none\" points=\"\n",
       "  1624.04,395.246 1624.04,1384.24 1700.76,1384.24 1700.76,395.246 1624.04,395.246 \n",
       "  \"/>\n",
       "<path clip-path=\"url(#clip042)\" d=\"\n",
       "M1700.76 271.622 L1700.76 1384.24 L1777.49 1384.24 L1777.49 271.622 L1700.76 271.622 L1700.76 271.622  Z\n",
       "  \" fill=\"#009af9\" fill-rule=\"evenodd\" fill-opacity=\"1\"/>\n",
       "<polyline clip-path=\"url(#clip042)\" style=\"stroke:#000000; stroke-linecap:butt; stroke-linejoin:round; stroke-width:4; stroke-opacity:1; fill:none\" points=\"\n",
       "  1700.76,271.622 1700.76,1384.24 1777.49,1384.24 1777.49,271.622 1700.76,271.622 \n",
       "  \"/>\n",
       "<path clip-path=\"url(#clip042)\" d=\"\n",
       "M1777.49 549.776 L1777.49 1384.24 L1854.21 1384.24 L1854.21 549.776 L1777.49 549.776 L1777.49 549.776  Z\n",
       "  \" fill=\"#009af9\" fill-rule=\"evenodd\" fill-opacity=\"1\"/>\n",
       "<polyline clip-path=\"url(#clip042)\" style=\"stroke:#000000; stroke-linecap:butt; stroke-linejoin:round; stroke-width:4; stroke-opacity:1; fill:none\" points=\"\n",
       "  1777.49,549.776 1777.49,1384.24 1854.21,1384.24 1854.21,549.776 1777.49,549.776 \n",
       "  \"/>\n",
       "<path clip-path=\"url(#clip042)\" d=\"\n",
       "M1854.21 426.152 L1854.21 1384.24 L1930.94 1384.24 L1930.94 426.152 L1854.21 426.152 L1854.21 426.152  Z\n",
       "  \" fill=\"#009af9\" fill-rule=\"evenodd\" fill-opacity=\"1\"/>\n",
       "<polyline clip-path=\"url(#clip042)\" style=\"stroke:#000000; stroke-linecap:butt; stroke-linejoin:round; stroke-width:4; stroke-opacity:1; fill:none\" points=\"\n",
       "  1854.21,426.152 1854.21,1384.24 1930.94,1384.24 1930.94,426.152 1854.21,426.152 \n",
       "  \"/>\n",
       "<path clip-path=\"url(#clip042)\" d=\"\n",
       "M1930.94 797.024 L1930.94 1384.24 L2007.66 1384.24 L2007.66 797.024 L1930.94 797.024 L1930.94 797.024  Z\n",
       "  \" fill=\"#009af9\" fill-rule=\"evenodd\" fill-opacity=\"1\"/>\n",
       "<polyline clip-path=\"url(#clip042)\" style=\"stroke:#000000; stroke-linecap:butt; stroke-linejoin:round; stroke-width:4; stroke-opacity:1; fill:none\" points=\"\n",
       "  1930.94,797.024 1930.94,1384.24 2007.66,1384.24 2007.66,797.024 1930.94,797.024 \n",
       "  \"/>\n",
       "<path clip-path=\"url(#clip042)\" d=\"\n",
       "M2007.66 673.4 L2007.66 1384.24 L2084.39 1384.24 L2084.39 673.4 L2007.66 673.4 L2007.66 673.4  Z\n",
       "  \" fill=\"#009af9\" fill-rule=\"evenodd\" fill-opacity=\"1\"/>\n",
       "<polyline clip-path=\"url(#clip042)\" style=\"stroke:#000000; stroke-linecap:butt; stroke-linejoin:round; stroke-width:4; stroke-opacity:1; fill:none\" points=\"\n",
       "  2007.66,673.4 2007.66,1384.24 2084.39,1384.24 2084.39,673.4 2007.66,673.4 \n",
       "  \"/>\n",
       "<path clip-path=\"url(#clip042)\" d=\"\n",
       "M2084.39 889.742 L2084.39 1384.24 L2161.11 1384.24 L2161.11 889.742 L2084.39 889.742 L2084.39 889.742  Z\n",
       "  \" fill=\"#009af9\" fill-rule=\"evenodd\" fill-opacity=\"1\"/>\n",
       "<polyline clip-path=\"url(#clip042)\" style=\"stroke:#000000; stroke-linecap:butt; stroke-linejoin:round; stroke-width:4; stroke-opacity:1; fill:none\" points=\"\n",
       "  2084.39,889.742 2084.39,1384.24 2161.11,1384.24 2161.11,889.742 2084.39,889.742 \n",
       "  \"/>\n",
       "<path clip-path=\"url(#clip042)\" d=\"\n",
       "M2161.11 1167.9 L2161.11 1384.24 L2237.84 1384.24 L2237.84 1167.9 L2161.11 1167.9 L2161.11 1167.9  Z\n",
       "  \" fill=\"#009af9\" fill-rule=\"evenodd\" fill-opacity=\"1\"/>\n",
       "<polyline clip-path=\"url(#clip042)\" style=\"stroke:#000000; stroke-linecap:butt; stroke-linejoin:round; stroke-width:4; stroke-opacity:1; fill:none\" points=\"\n",
       "  2161.11,1167.9 2161.11,1384.24 2237.84,1384.24 2237.84,1167.9 2161.11,1167.9 \n",
       "  \"/>\n",
       "<path clip-path=\"url(#clip042)\" d=\"\n",
       "M2237.84 982.46 L2237.84 1384.24 L2314.57 1384.24 L2314.57 982.46 L2237.84 982.46 L2237.84 982.46  Z\n",
       "  \" fill=\"#009af9\" fill-rule=\"evenodd\" fill-opacity=\"1\"/>\n",
       "<polyline clip-path=\"url(#clip042)\" style=\"stroke:#000000; stroke-linecap:butt; stroke-linejoin:round; stroke-width:4; stroke-opacity:1; fill:none\" points=\"\n",
       "  2237.84,982.46 2237.84,1384.24 2314.57,1384.24 2314.57,982.46 2237.84,982.46 \n",
       "  \"/>\n",
       "<path clip-path=\"url(#clip042)\" d=\"\n",
       "M2314.57 920.648 L2314.57 1384.24 L2391.29 1384.24 L2391.29 920.648 L2314.57 920.648 L2314.57 920.648  Z\n",
       "  \" fill=\"#009af9\" fill-rule=\"evenodd\" fill-opacity=\"1\"/>\n",
       "<polyline clip-path=\"url(#clip042)\" style=\"stroke:#000000; stroke-linecap:butt; stroke-linejoin:round; stroke-width:4; stroke-opacity:1; fill:none\" points=\"\n",
       "  2314.57,920.648 2314.57,1384.24 2391.29,1384.24 2391.29,920.648 2314.57,920.648 \n",
       "  \"/>\n",
       "<path clip-path=\"url(#clip042)\" d=\"\n",
       "M2391.29 457.058 L2391.29 1384.24 L2468.02 1384.24 L2468.02 457.058 L2391.29 457.058 L2391.29 457.058  Z\n",
       "  \" fill=\"#009af9\" fill-rule=\"evenodd\" fill-opacity=\"1\"/>\n",
       "<polyline clip-path=\"url(#clip042)\" style=\"stroke:#000000; stroke-linecap:butt; stroke-linejoin:round; stroke-width:4; stroke-opacity:1; fill:none\" points=\"\n",
       "  2391.29,457.058 2391.29,1384.24 2468.02,1384.24 2468.02,457.058 2391.29,457.058 \n",
       "  \"/>\n",
       "<path clip-path=\"url(#clip042)\" d=\"\n",
       "M2468.02 611.588 L2468.02 1384.24 L2544.74 1384.24 L2544.74 611.588 L2468.02 611.588 L2468.02 611.588  Z\n",
       "  \" fill=\"#009af9\" fill-rule=\"evenodd\" fill-opacity=\"1\"/>\n",
       "<polyline clip-path=\"url(#clip042)\" style=\"stroke:#000000; stroke-linecap:butt; stroke-linejoin:round; stroke-width:4; stroke-opacity:1; fill:none\" points=\"\n",
       "  2468.02,611.588 2468.02,1384.24 2544.74,1384.24 2544.74,611.588 2468.02,611.588 \n",
       "  \"/>\n",
       "<path clip-path=\"url(#clip042)\" d=\"\n",
       "M2544.74 982.46 L2544.74 1384.24 L2621.47 1384.24 L2621.47 982.46 L2544.74 982.46 L2544.74 982.46  Z\n",
       "  \" fill=\"#009af9\" fill-rule=\"evenodd\" fill-opacity=\"1\"/>\n",
       "<polyline clip-path=\"url(#clip042)\" style=\"stroke:#000000; stroke-linecap:butt; stroke-linejoin:round; stroke-width:4; stroke-opacity:1; fill:none\" points=\"\n",
       "  2544.74,982.46 2544.74,1384.24 2621.47,1384.24 2621.47,982.46 2544.74,982.46 \n",
       "  \"/>\n",
       "<path clip-path=\"url(#clip042)\" d=\"\n",
       "M2621.47 1013.37 L2621.47 1384.24 L2698.19 1384.24 L2698.19 1013.37 L2621.47 1013.37 L2621.47 1013.37  Z\n",
       "  \" fill=\"#009af9\" fill-rule=\"evenodd\" fill-opacity=\"1\"/>\n",
       "<polyline clip-path=\"url(#clip042)\" style=\"stroke:#000000; stroke-linecap:butt; stroke-linejoin:round; stroke-width:4; stroke-opacity:1; fill:none\" points=\"\n",
       "  2621.47,1013.37 2621.47,1384.24 2698.19,1384.24 2698.19,1013.37 2621.47,1013.37 \n",
       "  \"/>\n",
       "<path clip-path=\"url(#clip042)\" d=\"\n",
       "M2698.19 1044.27 L2698.19 1384.24 L2774.92 1384.24 L2774.92 1044.27 L2698.19 1044.27 L2698.19 1044.27  Z\n",
       "  \" fill=\"#009af9\" fill-rule=\"evenodd\" fill-opacity=\"1\"/>\n",
       "<polyline clip-path=\"url(#clip042)\" style=\"stroke:#000000; stroke-linecap:butt; stroke-linejoin:round; stroke-width:4; stroke-opacity:1; fill:none\" points=\"\n",
       "  2698.19,1044.27 2698.19,1384.24 2774.92,1384.24 2774.92,1044.27 2698.19,1044.27 \n",
       "  \"/>\n",
       "<path clip-path=\"url(#clip042)\" d=\"\n",
       "M2774.92 1136.99 L2774.92 1384.24 L2851.64 1384.24 L2851.64 1136.99 L2774.92 1136.99 L2774.92 1136.99  Z\n",
       "  \" fill=\"#009af9\" fill-rule=\"evenodd\" fill-opacity=\"1\"/>\n",
       "<polyline clip-path=\"url(#clip042)\" style=\"stroke:#000000; stroke-linecap:butt; stroke-linejoin:round; stroke-width:4; stroke-opacity:1; fill:none\" points=\"\n",
       "  2774.92,1136.99 2774.92,1384.24 2851.64,1384.24 2851.64,1136.99 2774.92,1136.99 \n",
       "  \"/>\n",
       "<path clip-path=\"url(#clip042)\" d=\"\n",
       "M2851.64 1198.8 L2851.64 1384.24 L2928.37 1384.24 L2928.37 1198.8 L2851.64 1198.8 L2851.64 1198.8  Z\n",
       "  \" fill=\"#009af9\" fill-rule=\"evenodd\" fill-opacity=\"1\"/>\n",
       "<polyline clip-path=\"url(#clip042)\" style=\"stroke:#000000; stroke-linecap:butt; stroke-linejoin:round; stroke-width:4; stroke-opacity:1; fill:none\" points=\"\n",
       "  2851.64,1198.8 2851.64,1384.24 2928.37,1384.24 2928.37,1198.8 2851.64,1198.8 \n",
       "  \"/>\n",
       "<path clip-path=\"url(#clip042)\" d=\"\n",
       "M2928.37 1260.61 L2928.37 1384.24 L3005.09 1384.24 L3005.09 1260.61 L2928.37 1260.61 L2928.37 1260.61  Z\n",
       "  \" fill=\"#009af9\" fill-rule=\"evenodd\" fill-opacity=\"1\"/>\n",
       "<polyline clip-path=\"url(#clip042)\" style=\"stroke:#000000; stroke-linecap:butt; stroke-linejoin:round; stroke-width:4; stroke-opacity:1; fill:none\" points=\"\n",
       "  2928.37,1260.61 2928.37,1384.24 3005.09,1384.24 3005.09,1260.61 2928.37,1260.61 \n",
       "  \"/>\n",
       "<path clip-path=\"url(#clip042)\" d=\"\n",
       "M3005.09 1136.99 L3005.09 1384.24 L3081.82 1384.24 L3081.82 1136.99 L3005.09 1136.99 L3005.09 1136.99  Z\n",
       "  \" fill=\"#009af9\" fill-rule=\"evenodd\" fill-opacity=\"1\"/>\n",
       "<polyline clip-path=\"url(#clip042)\" style=\"stroke:#000000; stroke-linecap:butt; stroke-linejoin:round; stroke-width:4; stroke-opacity:1; fill:none\" points=\"\n",
       "  3005.09,1136.99 3005.09,1384.24 3081.82,1384.24 3081.82,1136.99 3005.09,1136.99 \n",
       "  \"/>\n",
       "<path clip-path=\"url(#clip042)\" d=\"\n",
       "M3081.82 1198.8 L3081.82 1384.24 L3158.55 1384.24 L3158.55 1198.8 L3081.82 1198.8 L3081.82 1198.8  Z\n",
       "  \" fill=\"#009af9\" fill-rule=\"evenodd\" fill-opacity=\"1\"/>\n",
       "<polyline clip-path=\"url(#clip042)\" style=\"stroke:#000000; stroke-linecap:butt; stroke-linejoin:round; stroke-width:4; stroke-opacity:1; fill:none\" points=\"\n",
       "  3081.82,1198.8 3081.82,1384.24 3158.55,1384.24 3158.55,1198.8 3081.82,1198.8 \n",
       "  \"/>\n",
       "<path clip-path=\"url(#clip042)\" d=\"\n",
       "M3158.55 1384.24 L3158.55 1384.24 L3235.27 1384.24 L3235.27 1384.24 L3158.55 1384.24 L3158.55 1384.24  Z\n",
       "  \" fill=\"#009af9\" fill-rule=\"evenodd\" fill-opacity=\"1\"/>\n",
       "<polyline clip-path=\"url(#clip042)\" style=\"stroke:#000000; stroke-linecap:butt; stroke-linejoin:round; stroke-width:4; stroke-opacity:1; fill:none\" points=\"\n",
       "  3158.55,1384.24 3158.55,1384.24 3235.27,1384.24 3158.55,1384.24 \n",
       "  \"/>\n",
       "<path clip-path=\"url(#clip042)\" d=\"\n",
       "M3235.27 1291.52 L3235.27 1384.24 L3312 1384.24 L3312 1291.52 L3235.27 1291.52 L3235.27 1291.52  Z\n",
       "  \" fill=\"#009af9\" fill-rule=\"evenodd\" fill-opacity=\"1\"/>\n",
       "<polyline clip-path=\"url(#clip042)\" style=\"stroke:#000000; stroke-linecap:butt; stroke-linejoin:round; stroke-width:4; stroke-opacity:1; fill:none\" points=\"\n",
       "  3235.27,1291.52 3235.27,1384.24 3312,1384.24 3312,1291.52 3235.27,1291.52 \n",
       "  \"/>\n",
       "<path clip-path=\"url(#clip042)\" d=\"\n",
       "M3312 1322.43 L3312 1384.24 L3388.72 1384.24 L3388.72 1322.43 L3312 1322.43 L3312 1322.43  Z\n",
       "  \" fill=\"#009af9\" fill-rule=\"evenodd\" fill-opacity=\"1\"/>\n",
       "<polyline clip-path=\"url(#clip042)\" style=\"stroke:#000000; stroke-linecap:butt; stroke-linejoin:round; stroke-width:4; stroke-opacity:1; fill:none\" points=\"\n",
       "  3312,1322.43 3312,1384.24 3388.72,1384.24 3388.72,1322.43 3312,1322.43 \n",
       "  \"/>\n",
       "<path clip-path=\"url(#clip042)\" d=\"\n",
       "M3388.72 1198.8 L3388.72 1384.24 L3465.45 1384.24 L3465.45 1198.8 L3388.72 1198.8 L3388.72 1198.8  Z\n",
       "  \" fill=\"#009af9\" fill-rule=\"evenodd\" fill-opacity=\"1\"/>\n",
       "<polyline clip-path=\"url(#clip042)\" style=\"stroke:#000000; stroke-linecap:butt; stroke-linejoin:round; stroke-width:4; stroke-opacity:1; fill:none\" points=\"\n",
       "  3388.72,1198.8 3388.72,1384.24 3465.45,1384.24 3465.45,1198.8 3388.72,1198.8 \n",
       "  \"/>\n",
       "<path clip-path=\"url(#clip042)\" d=\"\n",
       "M3465.45 1260.61 L3465.45 1384.24 L3542.17 1384.24 L3542.17 1260.61 L3465.45 1260.61 L3465.45 1260.61  Z\n",
       "  \" fill=\"#009af9\" fill-rule=\"evenodd\" fill-opacity=\"1\"/>\n",
       "<polyline clip-path=\"url(#clip042)\" style=\"stroke:#000000; stroke-linecap:butt; stroke-linejoin:round; stroke-width:4; stroke-opacity:1; fill:none\" points=\"\n",
       "  3465.45,1260.61 3465.45,1384.24 3542.17,1384.24 3542.17,1260.61 3465.45,1260.61 \n",
       "  \"/>\n",
       "<path clip-path=\"url(#clip042)\" d=\"\n",
       "M3542.17 1322.43 L3542.17 1384.24 L3618.9 1384.24 L3618.9 1322.43 L3542.17 1322.43 L3542.17 1322.43  Z\n",
       "  \" fill=\"#009af9\" fill-rule=\"evenodd\" fill-opacity=\"1\"/>\n",
       "<polyline clip-path=\"url(#clip042)\" style=\"stroke:#000000; stroke-linecap:butt; stroke-linejoin:round; stroke-width:4; stroke-opacity:1; fill:none\" points=\"\n",
       "  3542.17,1322.43 3542.17,1384.24 3618.9,1384.24 3618.9,1322.43 3542.17,1322.43 \n",
       "  \"/>\n",
       "<path clip-path=\"url(#clip042)\" d=\"\n",
       "M3618.9 1353.33 L3618.9 1384.24 L3695.62 1384.24 L3695.62 1353.33 L3618.9 1353.33 L3618.9 1353.33  Z\n",
       "  \" fill=\"#009af9\" fill-rule=\"evenodd\" fill-opacity=\"1\"/>\n",
       "<polyline clip-path=\"url(#clip042)\" style=\"stroke:#000000; stroke-linecap:butt; stroke-linejoin:round; stroke-width:4; stroke-opacity:1; fill:none\" points=\"\n",
       "  3618.9,1353.33 3618.9,1384.24 3695.62,1384.24 3695.62,1353.33 3618.9,1353.33 \n",
       "  \"/>\n",
       "<path clip-path=\"url(#clip042)\" d=\"\n",
       "M3695.62 1353.33 L3695.62 1384.24 L3772.35 1384.24 L3772.35 1353.33 L3695.62 1353.33 L3695.62 1353.33  Z\n",
       "  \" fill=\"#009af9\" fill-rule=\"evenodd\" fill-opacity=\"1\"/>\n",
       "<polyline clip-path=\"url(#clip042)\" style=\"stroke:#000000; stroke-linecap:butt; stroke-linejoin:round; stroke-width:4; stroke-opacity:1; fill:none\" points=\"\n",
       "  3695.62,1353.33 3695.62,1384.24 3772.35,1384.24 3772.35,1353.33 3695.62,1353.33 \n",
       "  \"/>\n",
       "<path clip-path=\"url(#clip042)\" d=\"\n",
       "M3772.35 1322.43 L3772.35 1384.24 L3849.08 1384.24 L3849.08 1322.43 L3772.35 1322.43 L3772.35 1322.43  Z\n",
       "  \" fill=\"#009af9\" fill-rule=\"evenodd\" fill-opacity=\"1\"/>\n",
       "<polyline clip-path=\"url(#clip042)\" style=\"stroke:#000000; stroke-linecap:butt; stroke-linejoin:round; stroke-width:4; stroke-opacity:1; fill:none\" points=\"\n",
       "  3772.35,1322.43 3772.35,1384.24 3849.08,1384.24 3849.08,1322.43 3772.35,1322.43 \n",
       "  \"/>\n",
       "<path clip-path=\"url(#clip042)\" d=\"\n",
       "M3849.08 1384.24 L3849.08 1384.24 L3925.8 1384.24 L3925.8 1384.24 L3849.08 1384.24 L3849.08 1384.24  Z\n",
       "  \" fill=\"#009af9\" fill-rule=\"evenodd\" fill-opacity=\"1\"/>\n",
       "<polyline clip-path=\"url(#clip042)\" style=\"stroke:#000000; stroke-linecap:butt; stroke-linejoin:round; stroke-width:4; stroke-opacity:1; fill:none\" points=\"\n",
       "  3849.08,1384.24 3849.08,1384.24 3925.8,1384.24 3849.08,1384.24 \n",
       "  \"/>\n",
       "<path clip-path=\"url(#clip042)\" d=\"\n",
       "M3925.8 1384.24 L3925.8 1384.24 L4002.53 1384.24 L4002.53 1384.24 L3925.8 1384.24 L3925.8 1384.24  Z\n",
       "  \" fill=\"#009af9\" fill-rule=\"evenodd\" fill-opacity=\"1\"/>\n",
       "<polyline clip-path=\"url(#clip042)\" style=\"stroke:#000000; stroke-linecap:butt; stroke-linejoin:round; stroke-width:4; stroke-opacity:1; fill:none\" points=\"\n",
       "  3925.8,1384.24 3925.8,1384.24 4002.53,1384.24 3925.8,1384.24 \n",
       "  \"/>\n",
       "<path clip-path=\"url(#clip042)\" d=\"\n",
       "M4002.53 1322.43 L4002.53 1384.24 L4079.25 1384.24 L4079.25 1322.43 L4002.53 1322.43 L4002.53 1322.43  Z\n",
       "  \" fill=\"#009af9\" fill-rule=\"evenodd\" fill-opacity=\"1\"/>\n",
       "<polyline clip-path=\"url(#clip042)\" style=\"stroke:#000000; stroke-linecap:butt; stroke-linejoin:round; stroke-width:4; stroke-opacity:1; fill:none\" points=\"\n",
       "  4002.53,1322.43 4002.53,1384.24 4079.25,1384.24 4079.25,1322.43 4002.53,1322.43 \n",
       "  \"/>\n",
       "<path clip-path=\"url(#clip042)\" d=\"\n",
       "M4079.25 1384.24 L4079.25 1384.24 L4155.98 1384.24 L4155.98 1384.24 L4079.25 1384.24 L4079.25 1384.24  Z\n",
       "  \" fill=\"#009af9\" fill-rule=\"evenodd\" fill-opacity=\"1\"/>\n",
       "<polyline clip-path=\"url(#clip042)\" style=\"stroke:#000000; stroke-linecap:butt; stroke-linejoin:round; stroke-width:4; stroke-opacity:1; fill:none\" points=\"\n",
       "  4079.25,1384.24 4079.25,1384.24 4155.98,1384.24 4079.25,1384.24 \n",
       "  \"/>\n",
       "<path clip-path=\"url(#clip042)\" d=\"\n",
       "M4155.98 1322.43 L4155.98 1384.24 L4232.7 1384.24 L4232.7 1322.43 L4155.98 1322.43 L4155.98 1322.43  Z\n",
       "  \" fill=\"#009af9\" fill-rule=\"evenodd\" fill-opacity=\"1\"/>\n",
       "<polyline clip-path=\"url(#clip042)\" style=\"stroke:#000000; stroke-linecap:butt; stroke-linejoin:round; stroke-width:4; stroke-opacity:1; fill:none\" points=\"\n",
       "  4155.98,1322.43 4155.98,1384.24 4232.7,1384.24 4232.7,1322.43 4155.98,1322.43 \n",
       "  \"/>\n",
       "<path clip-path=\"url(#clip042)\" d=\"\n",
       "M4232.7 1384.24 L4232.7 1384.24 L4309.43 1384.24 L4309.43 1384.24 L4232.7 1384.24 L4232.7 1384.24  Z\n",
       "  \" fill=\"#009af9\" fill-rule=\"evenodd\" fill-opacity=\"1\"/>\n",
       "<polyline clip-path=\"url(#clip042)\" style=\"stroke:#000000; stroke-linecap:butt; stroke-linejoin:round; stroke-width:4; stroke-opacity:1; fill:none\" points=\"\n",
       "  4232.7,1384.24 4232.7,1384.24 4309.43,1384.24 4232.7,1384.24 \n",
       "  \"/>\n",
       "<path clip-path=\"url(#clip042)\" d=\"\n",
       "M4309.43 1384.24 L4309.43 1384.24 L4386.15 1384.24 L4386.15 1384.24 L4309.43 1384.24 L4309.43 1384.24  Z\n",
       "  \" fill=\"#009af9\" fill-rule=\"evenodd\" fill-opacity=\"1\"/>\n",
       "<polyline clip-path=\"url(#clip042)\" style=\"stroke:#000000; stroke-linecap:butt; stroke-linejoin:round; stroke-width:4; stroke-opacity:1; fill:none\" points=\"\n",
       "  4309.43,1384.24 4309.43,1384.24 4386.15,1384.24 4309.43,1384.24 \n",
       "  \"/>\n",
       "<path clip-path=\"url(#clip042)\" d=\"\n",
       "M4386.15 1384.24 L4386.15 1384.24 L4462.88 1384.24 L4462.88 1384.24 L4386.15 1384.24 L4386.15 1384.24  Z\n",
       "  \" fill=\"#009af9\" fill-rule=\"evenodd\" fill-opacity=\"1\"/>\n",
       "<polyline clip-path=\"url(#clip042)\" style=\"stroke:#000000; stroke-linecap:butt; stroke-linejoin:round; stroke-width:4; stroke-opacity:1; fill:none\" points=\"\n",
       "  4386.15,1384.24 4386.15,1384.24 4462.88,1384.24 4386.15,1384.24 \n",
       "  \"/>\n",
       "<path clip-path=\"url(#clip042)\" d=\"\n",
       "M4462.88 1384.24 L4462.88 1384.24 L4539.61 1384.24 L4539.61 1384.24 L4462.88 1384.24 L4462.88 1384.24  Z\n",
       "  \" fill=\"#009af9\" fill-rule=\"evenodd\" fill-opacity=\"1\"/>\n",
       "<polyline clip-path=\"url(#clip042)\" style=\"stroke:#000000; stroke-linecap:butt; stroke-linejoin:round; stroke-width:4; stroke-opacity:1; fill:none\" points=\"\n",
       "  4462.88,1384.24 4462.88,1384.24 4539.61,1384.24 4462.88,1384.24 \n",
       "  \"/>\n",
       "<path clip-path=\"url(#clip042)\" d=\"\n",
       "M4539.61 1384.24 L4539.61 1384.24 L4616.33 1384.24 L4616.33 1384.24 L4539.61 1384.24 L4539.61 1384.24  Z\n",
       "  \" fill=\"#009af9\" fill-rule=\"evenodd\" fill-opacity=\"1\"/>\n",
       "<polyline clip-path=\"url(#clip042)\" style=\"stroke:#000000; stroke-linecap:butt; stroke-linejoin:round; stroke-width:4; stroke-opacity:1; fill:none\" points=\"\n",
       "  4539.61,1384.24 4539.61,1384.24 4616.33,1384.24 4539.61,1384.24 \n",
       "  \"/>\n",
       "<path clip-path=\"url(#clip042)\" d=\"\n",
       "M4616.33 1384.24 L4616.33 1384.24 L4693.06 1384.24 L4693.06 1384.24 L4616.33 1384.24 L4616.33 1384.24  Z\n",
       "  \" fill=\"#009af9\" fill-rule=\"evenodd\" fill-opacity=\"1\"/>\n",
       "<polyline clip-path=\"url(#clip042)\" style=\"stroke:#000000; stroke-linecap:butt; stroke-linejoin:round; stroke-width:4; stroke-opacity:1; fill:none\" points=\"\n",
       "  4616.33,1384.24 4616.33,1384.24 4693.06,1384.24 4616.33,1384.24 \n",
       "  \"/>\n",
       "<path clip-path=\"url(#clip042)\" d=\"\n",
       "M4693.06 1384.24 L4693.06 1384.24 L4769.78 1384.24 L4769.78 1384.24 L4693.06 1384.24 L4693.06 1384.24  Z\n",
       "  \" fill=\"#009af9\" fill-rule=\"evenodd\" fill-opacity=\"1\"/>\n",
       "<polyline clip-path=\"url(#clip042)\" style=\"stroke:#000000; stroke-linecap:butt; stroke-linejoin:round; stroke-width:4; stroke-opacity:1; fill:none\" points=\"\n",
       "  4693.06,1384.24 4693.06,1384.24 4769.78,1384.24 4693.06,1384.24 \n",
       "  \"/>\n",
       "<path clip-path=\"url(#clip042)\" d=\"\n",
       "M4769.78 1353.33 L4769.78 1384.24 L4846.51 1384.24 L4846.51 1353.33 L4769.78 1353.33 L4769.78 1353.33  Z\n",
       "  \" fill=\"#009af9\" fill-rule=\"evenodd\" fill-opacity=\"1\"/>\n",
       "<polyline clip-path=\"url(#clip042)\" style=\"stroke:#000000; stroke-linecap:butt; stroke-linejoin:round; stroke-width:4; stroke-opacity:1; fill:none\" points=\"\n",
       "  4769.78,1353.33 4769.78,1384.24 4846.51,1384.24 4846.51,1353.33 4769.78,1353.33 \n",
       "  \"/>\n",
       "<path clip-path=\"url(#clip042)\" d=\"\n",
       "M4846.51 1384.24 L4846.51 1384.24 L4923.23 1384.24 L4923.23 1384.24 L4846.51 1384.24 L4846.51 1384.24  Z\n",
       "  \" fill=\"#009af9\" fill-rule=\"evenodd\" fill-opacity=\"1\"/>\n",
       "<polyline clip-path=\"url(#clip042)\" style=\"stroke:#000000; stroke-linecap:butt; stroke-linejoin:round; stroke-width:4; stroke-opacity:1; fill:none\" points=\"\n",
       "  4846.51,1384.24 4846.51,1384.24 4923.23,1384.24 4846.51,1384.24 \n",
       "  \"/>\n",
       "<path clip-path=\"url(#clip042)\" d=\"\n",
       "M4923.23 1384.24 L4923.23 1384.24 L4999.96 1384.24 L4999.96 1384.24 L4923.23 1384.24 L4923.23 1384.24  Z\n",
       "  \" fill=\"#009af9\" fill-rule=\"evenodd\" fill-opacity=\"1\"/>\n",
       "<polyline clip-path=\"url(#clip042)\" style=\"stroke:#000000; stroke-linecap:butt; stroke-linejoin:round; stroke-width:4; stroke-opacity:1; fill:none\" points=\"\n",
       "  4923.23,1384.24 4923.23,1384.24 4999.96,1384.24 4923.23,1384.24 \n",
       "  \"/>\n",
       "<path clip-path=\"url(#clip042)\" d=\"\n",
       "M4999.96 1353.33 L4999.96 1384.24 L5076.68 1384.24 L5076.68 1353.33 L4999.96 1353.33 L4999.96 1353.33  Z\n",
       "  \" fill=\"#009af9\" fill-rule=\"evenodd\" fill-opacity=\"1\"/>\n",
       "<polyline clip-path=\"url(#clip042)\" style=\"stroke:#000000; stroke-linecap:butt; stroke-linejoin:round; stroke-width:4; stroke-opacity:1; fill:none\" points=\"\n",
       "  4999.96,1353.33 4999.96,1384.24 5076.68,1384.24 5076.68,1353.33 4999.96,1353.33 \n",
       "  \"/>\n",
       "<path clip-path=\"url(#clip042)\" d=\"\n",
       "M5076.68 1384.24 L5076.68 1384.24 L5153.41 1384.24 L5153.41 1384.24 L5076.68 1384.24 L5076.68 1384.24  Z\n",
       "  \" fill=\"#009af9\" fill-rule=\"evenodd\" fill-opacity=\"1\"/>\n",
       "<polyline clip-path=\"url(#clip042)\" style=\"stroke:#000000; stroke-linecap:butt; stroke-linejoin:round; stroke-width:4; stroke-opacity:1; fill:none\" points=\"\n",
       "  5076.68,1384.24 5076.68,1384.24 5153.41,1384.24 5076.68,1384.24 \n",
       "  \"/>\n",
       "<path clip-path=\"url(#clip042)\" d=\"\n",
       "M5153.41 1384.24 L5153.41 1384.24 L5230.14 1384.24 L5230.14 1384.24 L5153.41 1384.24 L5153.41 1384.24  Z\n",
       "  \" fill=\"#009af9\" fill-rule=\"evenodd\" fill-opacity=\"1\"/>\n",
       "<polyline clip-path=\"url(#clip042)\" style=\"stroke:#000000; stroke-linecap:butt; stroke-linejoin:round; stroke-width:4; stroke-opacity:1; fill:none\" points=\"\n",
       "  5153.41,1384.24 5153.41,1384.24 5230.14,1384.24 5153.41,1384.24 \n",
       "  \"/>\n",
       "<path clip-path=\"url(#clip042)\" d=\"\n",
       "M5230.14 1384.24 L5230.14 1384.24 L5306.86 1384.24 L5306.86 1384.24 L5230.14 1384.24 L5230.14 1384.24  Z\n",
       "  \" fill=\"#009af9\" fill-rule=\"evenodd\" fill-opacity=\"1\"/>\n",
       "<polyline clip-path=\"url(#clip042)\" style=\"stroke:#000000; stroke-linecap:butt; stroke-linejoin:round; stroke-width:4; stroke-opacity:1; fill:none\" points=\"\n",
       "  5230.14,1384.24 5230.14,1384.24 5306.86,1384.24 5230.14,1384.24 \n",
       "  \"/>\n",
       "<path clip-path=\"url(#clip042)\" d=\"\n",
       "M5306.86 1353.33 L5306.86 1384.24 L5383.59 1384.24 L5383.59 1353.33 L5306.86 1353.33 L5306.86 1353.33  Z\n",
       "  \" fill=\"#009af9\" fill-rule=\"evenodd\" fill-opacity=\"1\"/>\n",
       "<polyline clip-path=\"url(#clip042)\" style=\"stroke:#000000; stroke-linecap:butt; stroke-linejoin:round; stroke-width:4; stroke-opacity:1; fill:none\" points=\"\n",
       "  5306.86,1353.33 5306.86,1384.24 5383.59,1384.24 5383.59,1353.33 5306.86,1353.33 \n",
       "  \"/>\n",
       "<path clip-path=\"url(#clip042)\" d=\"\n",
       "M5383.59 1384.24 L5383.59 1384.24 L5460.31 1384.24 L5460.31 1384.24 L5383.59 1384.24 L5383.59 1384.24  Z\n",
       "  \" fill=\"#009af9\" fill-rule=\"evenodd\" fill-opacity=\"1\"/>\n",
       "<polyline clip-path=\"url(#clip042)\" style=\"stroke:#000000; stroke-linecap:butt; stroke-linejoin:round; stroke-width:4; stroke-opacity:1; fill:none\" points=\"\n",
       "  5383.59,1384.24 5383.59,1384.24 5460.31,1384.24 5383.59,1384.24 \n",
       "  \"/>\n",
       "<path clip-path=\"url(#clip042)\" d=\"\n",
       "M5460.31 1384.24 L5460.31 1384.24 L5537.04 1384.24 L5537.04 1384.24 L5460.31 1384.24 L5460.31 1384.24  Z\n",
       "  \" fill=\"#009af9\" fill-rule=\"evenodd\" fill-opacity=\"1\"/>\n",
       "<polyline clip-path=\"url(#clip042)\" style=\"stroke:#000000; stroke-linecap:butt; stroke-linejoin:round; stroke-width:4; stroke-opacity:1; fill:none\" points=\"\n",
       "  5460.31,1384.24 5460.31,1384.24 5537.04,1384.24 5460.31,1384.24 \n",
       "  \"/>\n",
       "<path clip-path=\"url(#clip042)\" d=\"\n",
       "M5537.04 1384.24 L5537.04 1384.24 L5613.76 1384.24 L5613.76 1384.24 L5537.04 1384.24 L5537.04 1384.24  Z\n",
       "  \" fill=\"#009af9\" fill-rule=\"evenodd\" fill-opacity=\"1\"/>\n",
       "<polyline clip-path=\"url(#clip042)\" style=\"stroke:#000000; stroke-linecap:butt; stroke-linejoin:round; stroke-width:4; stroke-opacity:1; fill:none\" points=\"\n",
       "  5537.04,1384.24 5537.04,1384.24 5613.76,1384.24 5537.04,1384.24 \n",
       "  \"/>\n",
       "<path clip-path=\"url(#clip042)\" d=\"\n",
       "M5613.76 1384.24 L5613.76 1384.24 L5690.49 1384.24 L5690.49 1384.24 L5613.76 1384.24 L5613.76 1384.24  Z\n",
       "  \" fill=\"#009af9\" fill-rule=\"evenodd\" fill-opacity=\"1\"/>\n",
       "<polyline clip-path=\"url(#clip042)\" style=\"stroke:#000000; stroke-linecap:butt; stroke-linejoin:round; stroke-width:4; stroke-opacity:1; fill:none\" points=\"\n",
       "  5613.76,1384.24 5613.76,1384.24 5690.49,1384.24 5613.76,1384.24 \n",
       "  \"/>\n",
       "<path clip-path=\"url(#clip042)\" d=\"\n",
       "M5690.49 1384.24 L5690.49 1384.24 L5767.21 1384.24 L5767.21 1384.24 L5690.49 1384.24 L5690.49 1384.24  Z\n",
       "  \" fill=\"#009af9\" fill-rule=\"evenodd\" fill-opacity=\"1\"/>\n",
       "<polyline clip-path=\"url(#clip042)\" style=\"stroke:#000000; stroke-linecap:butt; stroke-linejoin:round; stroke-width:4; stroke-opacity:1; fill:none\" points=\"\n",
       "  5690.49,1384.24 5690.49,1384.24 5767.21,1384.24 5690.49,1384.24 \n",
       "  \"/>\n",
       "<path clip-path=\"url(#clip042)\" d=\"\n",
       "M5767.21 1384.24 L5767.21 1384.24 L5843.94 1384.24 L5843.94 1384.24 L5767.21 1384.24 L5767.21 1384.24  Z\n",
       "  \" fill=\"#009af9\" fill-rule=\"evenodd\" fill-opacity=\"1\"/>\n",
       "<polyline clip-path=\"url(#clip042)\" style=\"stroke:#000000; stroke-linecap:butt; stroke-linejoin:round; stroke-width:4; stroke-opacity:1; fill:none\" points=\"\n",
       "  5767.21,1384.24 5767.21,1384.24 5843.94,1384.24 5767.21,1384.24 \n",
       "  \"/>\n",
       "<path clip-path=\"url(#clip042)\" d=\"\n",
       "M5843.94 1384.24 L5843.94 1384.24 L5920.66 1384.24 L5920.66 1384.24 L5843.94 1384.24 L5843.94 1384.24  Z\n",
       "  \" fill=\"#009af9\" fill-rule=\"evenodd\" fill-opacity=\"1\"/>\n",
       "<polyline clip-path=\"url(#clip042)\" style=\"stroke:#000000; stroke-linecap:butt; stroke-linejoin:round; stroke-width:4; stroke-opacity:1; fill:none\" points=\"\n",
       "  5843.94,1384.24 5843.94,1384.24 5920.66,1384.24 5843.94,1384.24 \n",
       "  \"/>\n",
       "<path clip-path=\"url(#clip042)\" d=\"\n",
       "M5920.66 1384.24 L5920.66 1384.24 L5997.39 1384.24 L5997.39 1384.24 L5920.66 1384.24 L5920.66 1384.24  Z\n",
       "  \" fill=\"#009af9\" fill-rule=\"evenodd\" fill-opacity=\"1\"/>\n",
       "<polyline clip-path=\"url(#clip042)\" style=\"stroke:#000000; stroke-linecap:butt; stroke-linejoin:round; stroke-width:4; stroke-opacity:1; fill:none\" points=\"\n",
       "  5920.66,1384.24 5920.66,1384.24 5997.39,1384.24 5920.66,1384.24 \n",
       "  \"/>\n",
       "<path clip-path=\"url(#clip042)\" d=\"\n",
       "M5997.39 1384.24 L5997.39 1384.24 L6074.12 1384.24 L6074.12 1384.24 L5997.39 1384.24 L5997.39 1384.24  Z\n",
       "  \" fill=\"#009af9\" fill-rule=\"evenodd\" fill-opacity=\"1\"/>\n",
       "<polyline clip-path=\"url(#clip042)\" style=\"stroke:#000000; stroke-linecap:butt; stroke-linejoin:round; stroke-width:4; stroke-opacity:1; fill:none\" points=\"\n",
       "  5997.39,1384.24 5997.39,1384.24 6074.12,1384.24 5997.39,1384.24 \n",
       "  \"/>\n",
       "<path clip-path=\"url(#clip042)\" d=\"\n",
       "M6074.12 1384.24 L6074.12 1384.24 L6150.84 1384.24 L6150.84 1384.24 L6074.12 1384.24 L6074.12 1384.24  Z\n",
       "  \" fill=\"#009af9\" fill-rule=\"evenodd\" fill-opacity=\"1\"/>\n",
       "<polyline clip-path=\"url(#clip042)\" style=\"stroke:#000000; stroke-linecap:butt; stroke-linejoin:round; stroke-width:4; stroke-opacity:1; fill:none\" points=\"\n",
       "  6074.12,1384.24 6074.12,1384.24 6150.84,1384.24 6074.12,1384.24 \n",
       "  \"/>\n",
       "<path clip-path=\"url(#clip042)\" d=\"\n",
       "M6150.84 1384.24 L6150.84 1384.24 L6227.57 1384.24 L6227.57 1384.24 L6150.84 1384.24 L6150.84 1384.24  Z\n",
       "  \" fill=\"#009af9\" fill-rule=\"evenodd\" fill-opacity=\"1\"/>\n",
       "<polyline clip-path=\"url(#clip042)\" style=\"stroke:#000000; stroke-linecap:butt; stroke-linejoin:round; stroke-width:4; stroke-opacity:1; fill:none\" points=\"\n",
       "  6150.84,1384.24 6150.84,1384.24 6227.57,1384.24 6150.84,1384.24 \n",
       "  \"/>\n",
       "<path clip-path=\"url(#clip042)\" d=\"\n",
       "M6227.57 1384.24 L6227.57 1384.24 L6304.29 1384.24 L6304.29 1384.24 L6227.57 1384.24 L6227.57 1384.24  Z\n",
       "  \" fill=\"#009af9\" fill-rule=\"evenodd\" fill-opacity=\"1\"/>\n",
       "<polyline clip-path=\"url(#clip042)\" style=\"stroke:#000000; stroke-linecap:butt; stroke-linejoin:round; stroke-width:4; stroke-opacity:1; fill:none\" points=\"\n",
       "  6227.57,1384.24 6227.57,1384.24 6304.29,1384.24 6227.57,1384.24 \n",
       "  \"/>\n",
       "<path clip-path=\"url(#clip042)\" d=\"\n",
       "M6304.29 1384.24 L6304.29 1384.24 L6381.02 1384.24 L6381.02 1384.24 L6304.29 1384.24 L6304.29 1384.24  Z\n",
       "  \" fill=\"#009af9\" fill-rule=\"evenodd\" fill-opacity=\"1\"/>\n",
       "<polyline clip-path=\"url(#clip042)\" style=\"stroke:#000000; stroke-linecap:butt; stroke-linejoin:round; stroke-width:4; stroke-opacity:1; fill:none\" points=\"\n",
       "  6304.29,1384.24 6304.29,1384.24 6381.02,1384.24 6304.29,1384.24 \n",
       "  \"/>\n",
       "<path clip-path=\"url(#clip042)\" d=\"\n",
       "M6381.02 1384.24 L6381.02 1384.24 L6457.74 1384.24 L6457.74 1384.24 L6381.02 1384.24 L6381.02 1384.24  Z\n",
       "  \" fill=\"#009af9\" fill-rule=\"evenodd\" fill-opacity=\"1\"/>\n",
       "<polyline clip-path=\"url(#clip042)\" style=\"stroke:#000000; stroke-linecap:butt; stroke-linejoin:round; stroke-width:4; stroke-opacity:1; fill:none\" points=\"\n",
       "  6381.02,1384.24 6381.02,1384.24 6457.74,1384.24 6381.02,1384.24 \n",
       "  \"/>\n",
       "<path clip-path=\"url(#clip042)\" d=\"\n",
       "M6457.74 1384.24 L6457.74 1384.24 L6534.47 1384.24 L6534.47 1384.24 L6457.74 1384.24 L6457.74 1384.24  Z\n",
       "  \" fill=\"#009af9\" fill-rule=\"evenodd\" fill-opacity=\"1\"/>\n",
       "<polyline clip-path=\"url(#clip042)\" style=\"stroke:#000000; stroke-linecap:butt; stroke-linejoin:round; stroke-width:4; stroke-opacity:1; fill:none\" points=\"\n",
       "  6457.74,1384.24 6457.74,1384.24 6534.47,1384.24 6457.74,1384.24 \n",
       "  \"/>\n",
       "<path clip-path=\"url(#clip042)\" d=\"\n",
       "M6534.47 1384.24 L6534.47 1384.24 L6611.19 1384.24 L6611.19 1384.24 L6534.47 1384.24 L6534.47 1384.24  Z\n",
       "  \" fill=\"#009af9\" fill-rule=\"evenodd\" fill-opacity=\"1\"/>\n",
       "<polyline clip-path=\"url(#clip042)\" style=\"stroke:#000000; stroke-linecap:butt; stroke-linejoin:round; stroke-width:4; stroke-opacity:1; fill:none\" points=\"\n",
       "  6534.47,1384.24 6534.47,1384.24 6611.19,1384.24 6534.47,1384.24 \n",
       "  \"/>\n",
       "<path clip-path=\"url(#clip042)\" d=\"\n",
       "M6611.19 1384.24 L6611.19 1384.24 L6687.92 1384.24 L6687.92 1384.24 L6611.19 1384.24 L6611.19 1384.24  Z\n",
       "  \" fill=\"#009af9\" fill-rule=\"evenodd\" fill-opacity=\"1\"/>\n",
       "<polyline clip-path=\"url(#clip042)\" style=\"stroke:#000000; stroke-linecap:butt; stroke-linejoin:round; stroke-width:4; stroke-opacity:1; fill:none\" points=\"\n",
       "  6611.19,1384.24 6611.19,1384.24 6687.92,1384.24 6611.19,1384.24 \n",
       "  \"/>\n",
       "<path clip-path=\"url(#clip042)\" d=\"\n",
       "M6687.92 1384.24 L6687.92 1384.24 L6764.65 1384.24 L6764.65 1384.24 L6687.92 1384.24 L6687.92 1384.24  Z\n",
       "  \" fill=\"#009af9\" fill-rule=\"evenodd\" fill-opacity=\"1\"/>\n",
       "<polyline clip-path=\"url(#clip042)\" style=\"stroke:#000000; stroke-linecap:butt; stroke-linejoin:round; stroke-width:4; stroke-opacity:1; fill:none\" points=\"\n",
       "  6687.92,1384.24 6687.92,1384.24 6764.65,1384.24 6687.92,1384.24 \n",
       "  \"/>\n",
       "<path clip-path=\"url(#clip042)\" d=\"\n",
       "M6764.65 1384.24 L6764.65 1384.24 L6841.37 1384.24 L6841.37 1384.24 L6764.65 1384.24 L6764.65 1384.24  Z\n",
       "  \" fill=\"#009af9\" fill-rule=\"evenodd\" fill-opacity=\"1\"/>\n",
       "<polyline clip-path=\"url(#clip042)\" style=\"stroke:#000000; stroke-linecap:butt; stroke-linejoin:round; stroke-width:4; stroke-opacity:1; fill:none\" points=\"\n",
       "  6764.65,1384.24 6764.65,1384.24 6841.37,1384.24 6764.65,1384.24 \n",
       "  \"/>\n",
       "<path clip-path=\"url(#clip042)\" d=\"\n",
       "M6841.37 1384.24 L6841.37 1384.24 L6918.1 1384.24 L6918.1 1384.24 L6841.37 1384.24 L6841.37 1384.24  Z\n",
       "  \" fill=\"#009af9\" fill-rule=\"evenodd\" fill-opacity=\"1\"/>\n",
       "<polyline clip-path=\"url(#clip042)\" style=\"stroke:#000000; stroke-linecap:butt; stroke-linejoin:round; stroke-width:4; stroke-opacity:1; fill:none\" points=\"\n",
       "  6841.37,1384.24 6841.37,1384.24 6918.1,1384.24 6841.37,1384.24 \n",
       "  \"/>\n",
       "<path clip-path=\"url(#clip042)\" d=\"\n",
       "M6918.1 1384.24 L6918.1 1384.24 L6994.82 1384.24 L6994.82 1384.24 L6918.1 1384.24 L6918.1 1384.24  Z\n",
       "  \" fill=\"#009af9\" fill-rule=\"evenodd\" fill-opacity=\"1\"/>\n",
       "<polyline clip-path=\"url(#clip042)\" style=\"stroke:#000000; stroke-linecap:butt; stroke-linejoin:round; stroke-width:4; stroke-opacity:1; fill:none\" points=\"\n",
       "  6918.1,1384.24 6918.1,1384.24 6994.82,1384.24 6918.1,1384.24 \n",
       "  \"/>\n",
       "<path clip-path=\"url(#clip042)\" d=\"\n",
       "M6994.82 1384.24 L6994.82 1384.24 L7071.55 1384.24 L7071.55 1384.24 L6994.82 1384.24 L6994.82 1384.24  Z\n",
       "  \" fill=\"#009af9\" fill-rule=\"evenodd\" fill-opacity=\"1\"/>\n",
       "<polyline clip-path=\"url(#clip042)\" style=\"stroke:#000000; stroke-linecap:butt; stroke-linejoin:round; stroke-width:4; stroke-opacity:1; fill:none\" points=\"\n",
       "  6994.82,1384.24 6994.82,1384.24 7071.55,1384.24 6994.82,1384.24 \n",
       "  \"/>\n",
       "<path clip-path=\"url(#clip042)\" d=\"\n",
       "M7071.55 1384.24 L7071.55 1384.24 L7148.27 1384.24 L7148.27 1384.24 L7071.55 1384.24 L7071.55 1384.24  Z\n",
       "  \" fill=\"#009af9\" fill-rule=\"evenodd\" fill-opacity=\"1\"/>\n",
       "<polyline clip-path=\"url(#clip042)\" style=\"stroke:#000000; stroke-linecap:butt; stroke-linejoin:round; stroke-width:4; stroke-opacity:1; fill:none\" points=\"\n",
       "  7071.55,1384.24 7071.55,1384.24 7148.27,1384.24 7071.55,1384.24 \n",
       "  \"/>\n",
       "<path clip-path=\"url(#clip042)\" d=\"\n",
       "M7148.27 1384.24 L7148.27 1384.24 L7225 1384.24 L7225 1384.24 L7148.27 1384.24 L7148.27 1384.24  Z\n",
       "  \" fill=\"#009af9\" fill-rule=\"evenodd\" fill-opacity=\"1\"/>\n",
       "<polyline clip-path=\"url(#clip042)\" style=\"stroke:#000000; stroke-linecap:butt; stroke-linejoin:round; stroke-width:4; stroke-opacity:1; fill:none\" points=\"\n",
       "  7148.27,1384.24 7148.27,1384.24 7225,1384.24 7148.27,1384.24 \n",
       "  \"/>\n",
       "<path clip-path=\"url(#clip042)\" d=\"\n",
       "M7225 1384.24 L7225 1384.24 L7301.72 1384.24 L7301.72 1384.24 L7225 1384.24 L7225 1384.24  Z\n",
       "  \" fill=\"#009af9\" fill-rule=\"evenodd\" fill-opacity=\"1\"/>\n",
       "<polyline clip-path=\"url(#clip042)\" style=\"stroke:#000000; stroke-linecap:butt; stroke-linejoin:round; stroke-width:4; stroke-opacity:1; fill:none\" points=\"\n",
       "  7225,1384.24 7225,1384.24 7301.72,1384.24 7225,1384.24 \n",
       "  \"/>\n",
       "<path clip-path=\"url(#clip042)\" d=\"\n",
       "M7301.72 1353.33 L7301.72 1384.24 L7378.45 1384.24 L7378.45 1353.33 L7301.72 1353.33 L7301.72 1353.33  Z\n",
       "  \" fill=\"#009af9\" fill-rule=\"evenodd\" fill-opacity=\"1\"/>\n",
       "<polyline clip-path=\"url(#clip042)\" style=\"stroke:#000000; stroke-linecap:butt; stroke-linejoin:round; stroke-width:4; stroke-opacity:1; fill:none\" points=\"\n",
       "  7301.72,1353.33 7301.72,1384.24 7378.45,1384.24 7378.45,1353.33 7301.72,1353.33 \n",
       "  \"/>\n",
       "<circle clip-path=\"url(#clip042)\" style=\"fill:#009af9; stroke:none; fill-opacity:0\" cx=\"895.143\" cy=\"1353.33\" r=\"2\"/>\n",
       "<circle clip-path=\"url(#clip042)\" style=\"fill:#009af9; stroke:none; fill-opacity:0\" cx=\"971.868\" cy=\"1106.08\" r=\"2\"/>\n",
       "<circle clip-path=\"url(#clip042)\" style=\"fill:#009af9; stroke:none; fill-opacity:0\" cx=\"1048.59\" cy=\"982.46\" r=\"2\"/>\n",
       "<circle clip-path=\"url(#clip042)\" style=\"fill:#009af9; stroke:none; fill-opacity:0\" cx=\"1125.32\" cy=\"364.34\" r=\"2\"/>\n",
       "<circle clip-path=\"url(#clip042)\" style=\"fill:#009af9; stroke:none; fill-opacity:0\" cx=\"1202.04\" cy=\"518.87\" r=\"2\"/>\n",
       "<circle clip-path=\"url(#clip042)\" style=\"fill:#009af9; stroke:none; fill-opacity:0\" cx=\"1278.77\" cy=\"86.1857\" r=\"2\"/>\n",
       "<circle clip-path=\"url(#clip042)\" style=\"fill:#009af9; stroke:none; fill-opacity:0\" cx=\"1355.5\" cy=\"487.964\" r=\"2\"/>\n",
       "<circle clip-path=\"url(#clip042)\" style=\"fill:#009af9; stroke:none; fill-opacity:0\" cx=\"1432.22\" cy=\"735.212\" r=\"2\"/>\n",
       "<circle clip-path=\"url(#clip042)\" style=\"fill:#009af9; stroke:none; fill-opacity:0\" cx=\"1508.95\" cy=\"735.212\" r=\"2\"/>\n",
       "<circle clip-path=\"url(#clip042)\" style=\"fill:#009af9; stroke:none; fill-opacity:0\" cx=\"1585.67\" cy=\"611.588\" r=\"2\"/>\n",
       "<circle clip-path=\"url(#clip042)\" style=\"fill:#009af9; stroke:none; fill-opacity:0\" cx=\"1662.4\" cy=\"395.246\" r=\"2\"/>\n",
       "<circle clip-path=\"url(#clip042)\" style=\"fill:#009af9; stroke:none; fill-opacity:0\" cx=\"1739.12\" cy=\"271.622\" r=\"2\"/>\n",
       "<circle clip-path=\"url(#clip042)\" style=\"fill:#009af9; stroke:none; fill-opacity:0\" cx=\"1815.85\" cy=\"549.776\" r=\"2\"/>\n",
       "<circle clip-path=\"url(#clip042)\" style=\"fill:#009af9; stroke:none; fill-opacity:0\" cx=\"1892.57\" cy=\"426.152\" r=\"2\"/>\n",
       "<circle clip-path=\"url(#clip042)\" style=\"fill:#009af9; stroke:none; fill-opacity:0\" cx=\"1969.3\" cy=\"797.024\" r=\"2\"/>\n",
       "<circle clip-path=\"url(#clip042)\" style=\"fill:#009af9; stroke:none; fill-opacity:0\" cx=\"2046.03\" cy=\"673.4\" r=\"2\"/>\n",
       "<circle clip-path=\"url(#clip042)\" style=\"fill:#009af9; stroke:none; fill-opacity:0\" cx=\"2122.75\" cy=\"889.742\" r=\"2\"/>\n",
       "<circle clip-path=\"url(#clip042)\" style=\"fill:#009af9; stroke:none; fill-opacity:0\" cx=\"2199.48\" cy=\"1167.9\" r=\"2\"/>\n",
       "<circle clip-path=\"url(#clip042)\" style=\"fill:#009af9; stroke:none; fill-opacity:0\" cx=\"2276.2\" cy=\"982.46\" r=\"2\"/>\n",
       "</svg>\n"
      ]
     },
     "execution_count": 16,
     "metadata": {},
     "output_type": "execute_result"
    }
   ],
   "source": [
    "using Statistics\n",
    "t = c_bench.times / 1e6 # tempos em milisegundos\n",
    "m, σ = minimum(t), std(t)\n",
    "\n",
    "histogram(t, bins=100,\n",
    "    xlim=(m - σ, m + 2σ),\n",
    "    xlabel=\"milisegundos\", ylabel=\"Frequência\", label=\"\")"
   ]
  },
  {
   "cell_type": "markdown",
   "metadata": {},
   "source": [
    "## 2. C com -ffast-math\n",
    "\n",
    "Agora, vamos permitir que o C otimize suas operações de ponto flutuante.\n",
    "Dessa forma, ele vai vetorizar suas instruções usando [SIMD](https://en.wikipedia.org/wiki/SIMD) (single instruction, multiple data)."
   ]
  },
  {
   "cell_type": "code",
   "execution_count": 17,
   "metadata": {},
   "outputs": [
    {
     "data": {
      "text/plain": [
       "c_sum_fastmath (generic function with 1 method)"
      ]
     },
     "execution_count": 17,
     "metadata": {},
     "output_type": "execute_result"
    }
   ],
   "source": [
    "const Clib_fastmath = tempname()\n",
    "\n",
    "# Como acima mas agora com a opção -ffast-math\n",
    "open(`gcc -fPIC -O3 -msse3 -xc -shared -ffast-math -o $(Clib_fastmath * \".\" * Libdl.dlext) -`, \"w\") do f\n",
    "    print(f, C_code) \n",
    "end\n",
    "\n",
    "# Define uma função em Julia que chama a função em C\n",
    "c_sum_fastmath(X::Array{Float64}) = ccall((\"c_sum\", Clib_fastmath), Float64, (Csize_t, Ptr{Float64}), length(X), X)"
   ]
  },
  {
   "cell_type": "code",
   "execution_count": 18,
   "metadata": {},
   "outputs": [
    {
     "data": {
      "text/plain": [
       "BenchmarkTools.Trial: 971 samples with 1 evaluation.\n",
       " Range \u001b[90m(\u001b[39m\u001b[36m\u001b[1mmin\u001b[22m\u001b[39m … \u001b[35mmax\u001b[39m\u001b[90m):  \u001b[39m\u001b[36m\u001b[1m5.104 ms\u001b[22m\u001b[39m … \u001b[35m 5.682 ms\u001b[39m  \u001b[90m┊\u001b[39m GC \u001b[90m(\u001b[39mmin … max\u001b[90m): \u001b[39m0.00% … 0.00%\n",
       " Time  \u001b[90m(\u001b[39m\u001b[34m\u001b[1mmedian\u001b[22m\u001b[39m\u001b[90m):     \u001b[39m\u001b[34m\u001b[1m5.127 ms              \u001b[22m\u001b[39m\u001b[90m┊\u001b[39m GC \u001b[90m(\u001b[39mmedian\u001b[90m):    \u001b[39m0.00%\n",
       " Time  \u001b[90m(\u001b[39m\u001b[32m\u001b[1mmean\u001b[22m\u001b[39m ± \u001b[32mσ\u001b[39m\u001b[90m):   \u001b[39m\u001b[32m\u001b[1m5.132 ms\u001b[22m\u001b[39m ± \u001b[32m38.842 μs\u001b[39m  \u001b[90m┊\u001b[39m GC \u001b[90m(\u001b[39mmean ± σ\u001b[90m):  \u001b[39m0.00% ± 0.00%\n",
       "\n",
       "  \u001b[39m \u001b[39m \u001b[39m \u001b[39m \u001b[39m \u001b[39m▁\u001b[39m▅\u001b[39m▄\u001b[39m▅\u001b[39m▅\u001b[39m█\u001b[39m▅\u001b[39m▆\u001b[34m▄\u001b[39m\u001b[39m▄\u001b[39m▁\u001b[32m▃\u001b[39m\u001b[39m▁\u001b[39m▂\u001b[39m \u001b[39m▁\u001b[39m \u001b[39m \u001b[39m \u001b[39m \u001b[39m \u001b[39m \u001b[39m \u001b[39m \u001b[39m \u001b[39m \u001b[39m \u001b[39m \u001b[39m \u001b[39m \u001b[39m \u001b[39m \u001b[39m \u001b[39m \u001b[39m \u001b[39m \u001b[39m \u001b[39m \u001b[39m \u001b[39m \u001b[39m \u001b[39m \u001b[39m \u001b[39m \u001b[39m \u001b[39m \u001b[39m \u001b[39m \u001b[39m \u001b[39m \u001b[39m \u001b[39m \u001b[39m \u001b[39m \u001b[39m \n",
       "  \u001b[39m▃\u001b[39m▃\u001b[39m▃\u001b[39m▆\u001b[39m▇\u001b[39m█\u001b[39m█\u001b[39m█\u001b[39m█\u001b[39m█\u001b[39m█\u001b[39m█\u001b[39m█\u001b[34m█\u001b[39m\u001b[39m█\u001b[39m█\u001b[32m█\u001b[39m\u001b[39m█\u001b[39m█\u001b[39m█\u001b[39m█\u001b[39m▇\u001b[39m█\u001b[39m█\u001b[39m▆\u001b[39m▅\u001b[39m▅\u001b[39m▄\u001b[39m▃\u001b[39m▂\u001b[39m▄\u001b[39m▄\u001b[39m▂\u001b[39m▂\u001b[39m▃\u001b[39m▂\u001b[39m▂\u001b[39m▃\u001b[39m▂\u001b[39m▁\u001b[39m▁\u001b[39m▁\u001b[39m▁\u001b[39m▁\u001b[39m▁\u001b[39m▁\u001b[39m▃\u001b[39m▂\u001b[39m▁\u001b[39m▁\u001b[39m▁\u001b[39m▁\u001b[39m▁\u001b[39m▂\u001b[39m▁\u001b[39m▂\u001b[39m▁\u001b[39m▂\u001b[39m \u001b[39m▄\n",
       "  5.1 ms\u001b[90m         Histogram: frequency by time\u001b[39m         5.2 ms \u001b[0m\u001b[1m<\u001b[22m\n",
       "\n",
       " Memory estimate\u001b[90m: \u001b[39m\u001b[33m0 bytes\u001b[39m, allocs estimate\u001b[90m: \u001b[39m\u001b[33m0\u001b[39m."
      ]
     },
     "execution_count": 18,
     "metadata": {},
     "output_type": "execute_result"
    }
   ],
   "source": [
    "c_fastmath_bench = @benchmark $c_sum_fastmath($a)"
   ]
  },
  {
   "cell_type": "code",
   "execution_count": 19,
   "metadata": {},
   "outputs": [
    {
     "data": {
      "text/plain": [
       "5.103714"
      ]
     },
     "execution_count": 19,
     "metadata": {},
     "output_type": "execute_result"
    }
   ],
   "source": [
    "d[\"C com -ffast-math\"] = minimum(c_fastmath_bench.times) / 1e6  # em milisegundos"
   ]
  },
  {
   "cell_type": "markdown",
   "metadata": {},
   "source": [
    "## 3. Python\n",
    "\n",
    "O pacote `PyCall` fornece uma interface entre a Julia e o Python:"
   ]
  },
  {
   "cell_type": "code",
   "execution_count": 20,
   "metadata": {},
   "outputs": [
    {
     "name": "stderr",
     "output_type": "stream",
     "text": [
      "\u001b[32m\u001b[1m   Resolving\u001b[22m\u001b[39m package versions...\n",
      "\u001b[32m\u001b[1m  No Changes\u001b[22m\u001b[39m to `~/Sync/julia-breve-intro/Project.toml`\n",
      "\u001b[32m\u001b[1m  No Changes\u001b[22m\u001b[39m to `~/Sync/julia-breve-intro/Manifest.toml`\n"
     ]
    }
   ],
   "source": [
    "Pkg.add(\"PyCall\")"
   ]
  },
  {
   "cell_type": "code",
   "execution_count": 21,
   "metadata": {},
   "outputs": [],
   "source": [
    "using PyCall"
   ]
  },
  {
   "cell_type": "code",
   "execution_count": 22,
   "metadata": {},
   "outputs": [
    {
     "data": {
      "text/plain": [
       "PyObject <built-in function sum>"
      ]
     },
     "execution_count": 22,
     "metadata": {},
     "output_type": "execute_result"
    }
   ],
   "source": [
    "# Importa a função \"sum\" do Python\n",
    "pysum = pybuiltin(\"sum\")"
   ]
  },
  {
   "cell_type": "code",
   "execution_count": 23,
   "metadata": {},
   "outputs": [
    {
     "data": {
      "text/plain": [
       "5.001123917728872e6"
      ]
     },
     "execution_count": 23,
     "metadata": {},
     "output_type": "execute_result"
    }
   ],
   "source": [
    "pysum(a)"
   ]
  },
  {
   "cell_type": "code",
   "execution_count": 24,
   "metadata": {},
   "outputs": [
    {
     "data": {
      "text/plain": [
       "true"
      ]
     },
     "execution_count": 24,
     "metadata": {},
     "output_type": "execute_result"
    }
   ],
   "source": [
    "pysum(a) ≈ sum(a)"
   ]
  },
  {
   "cell_type": "code",
   "execution_count": 25,
   "metadata": {},
   "outputs": [
    {
     "data": {
      "text/plain": [
       "BenchmarkTools.Trial: 6 samples with 1 evaluation.\n",
       " Range \u001b[90m(\u001b[39m\u001b[36m\u001b[1mmin\u001b[22m\u001b[39m … \u001b[35mmax\u001b[39m\u001b[90m):  \u001b[39m\u001b[36m\u001b[1m845.186 ms\u001b[22m\u001b[39m … \u001b[35m851.514 ms\u001b[39m  \u001b[90m┊\u001b[39m GC \u001b[90m(\u001b[39mmin … max\u001b[90m): \u001b[39m0.00% … 0.00%\n",
       " Time  \u001b[90m(\u001b[39m\u001b[34m\u001b[1mmedian\u001b[22m\u001b[39m\u001b[90m):     \u001b[39m\u001b[34m\u001b[1m846.832 ms               \u001b[22m\u001b[39m\u001b[90m┊\u001b[39m GC \u001b[90m(\u001b[39mmedian\u001b[90m):    \u001b[39m0.00%\n",
       " Time  \u001b[90m(\u001b[39m\u001b[32m\u001b[1mmean\u001b[22m\u001b[39m ± \u001b[32mσ\u001b[39m\u001b[90m):   \u001b[39m\u001b[32m\u001b[1m847.278 ms\u001b[22m\u001b[39m ± \u001b[32m  2.176 ms\u001b[39m  \u001b[90m┊\u001b[39m GC \u001b[90m(\u001b[39mmean ± σ\u001b[90m):  \u001b[39m0.00% ± 0.00%\n",
       "\n",
       "  \u001b[39m▁\u001b[39m \u001b[39m \u001b[39m \u001b[39m \u001b[39m \u001b[39m \u001b[39m \u001b[39m \u001b[39m \u001b[39m \u001b[39m▁\u001b[39m \u001b[39m \u001b[39m \u001b[34m▁\u001b[39m\u001b[39m█\u001b[39m \u001b[39m \u001b[39m \u001b[32m \u001b[39m\u001b[39m \u001b[39m \u001b[39m \u001b[39m \u001b[39m \u001b[39m \u001b[39m \u001b[39m \u001b[39m \u001b[39m \u001b[39m \u001b[39m \u001b[39m \u001b[39m \u001b[39m \u001b[39m \u001b[39m \u001b[39m \u001b[39m \u001b[39m \u001b[39m \u001b[39m \u001b[39m \u001b[39m \u001b[39m \u001b[39m \u001b[39m \u001b[39m \u001b[39m \u001b[39m \u001b[39m \u001b[39m \u001b[39m \u001b[39m \u001b[39m \u001b[39m \u001b[39m \u001b[39m \u001b[39m \u001b[39m▁\u001b[39m \u001b[39m \n",
       "  \u001b[39m█\u001b[39m▁\u001b[39m▁\u001b[39m▁\u001b[39m▁\u001b[39m▁\u001b[39m▁\u001b[39m▁\u001b[39m▁\u001b[39m▁\u001b[39m▁\u001b[39m█\u001b[39m▁\u001b[39m▁\u001b[39m▁\u001b[34m█\u001b[39m\u001b[39m█\u001b[39m▁\u001b[39m▁\u001b[39m▁\u001b[32m▁\u001b[39m\u001b[39m▁\u001b[39m▁\u001b[39m▁\u001b[39m▁\u001b[39m▁\u001b[39m▁\u001b[39m▁\u001b[39m▁\u001b[39m▁\u001b[39m▁\u001b[39m▁\u001b[39m▁\u001b[39m▁\u001b[39m▁\u001b[39m▁\u001b[39m▁\u001b[39m▁\u001b[39m▁\u001b[39m▁\u001b[39m▁\u001b[39m▁\u001b[39m▁\u001b[39m▁\u001b[39m▁\u001b[39m▁\u001b[39m▁\u001b[39m▁\u001b[39m▁\u001b[39m▁\u001b[39m▁\u001b[39m▁\u001b[39m▁\u001b[39m▁\u001b[39m▁\u001b[39m▁\u001b[39m▁\u001b[39m▁\u001b[39m▁\u001b[39m▁\u001b[39m█\u001b[39m \u001b[39m▁\n",
       "  845 ms\u001b[90m           Histogram: frequency by time\u001b[39m          852 ms \u001b[0m\u001b[1m<\u001b[22m\n",
       "\n",
       " Memory estimate\u001b[90m: \u001b[39m\u001b[33m336 bytes\u001b[39m, allocs estimate\u001b[90m: \u001b[39m\u001b[33m6\u001b[39m."
      ]
     },
     "execution_count": 25,
     "metadata": {},
     "output_type": "execute_result"
    }
   ],
   "source": [
    "py_list_bench = @benchmark $pysum($a)"
   ]
  },
  {
   "cell_type": "code",
   "execution_count": 26,
   "metadata": {},
   "outputs": [
    {
     "data": {
      "text/plain": [
       "Dict{Any, Any} with 3 entries:\n",
       "  \"C com -ffast-math\" => 5.10371\n",
       "  \"C\"                 => 8.41384\n",
       "  \"Python\"            => 845.186"
      ]
     },
     "execution_count": 26,
     "metadata": {},
     "output_type": "execute_result"
    }
   ],
   "source": [
    "d[\"Python\"] = minimum(py_list_bench.times) / 1e6\n",
    "d"
   ]
  },
  {
   "cell_type": "markdown",
   "metadata": {},
   "source": [
    "## 4. Python `numpy`\n",
    "\n",
    "A biblioteca `numpy` do Python é escrita em C e também utiliza SIMD.\n",
    "Essa biblioteca pode ser instalada na Julia da seguinte forma:"
   ]
  },
  {
   "cell_type": "code",
   "execution_count": 27,
   "metadata": {},
   "outputs": [
    {
     "name": "stderr",
     "output_type": "stream",
     "text": [
      "\u001b[32m\u001b[1m   Resolving\u001b[22m\u001b[39m package versions...\n",
      "\u001b[32m\u001b[1m  No Changes\u001b[22m\u001b[39m to `~/Sync/julia-breve-intro/Project.toml`\n",
      "\u001b[32m\u001b[1m  No Changes\u001b[22m\u001b[39m to `~/Sync/julia-breve-intro/Manifest.toml`\n"
     ]
    }
   ],
   "source": [
    "Pkg.add(\"Conda\")"
   ]
  },
  {
   "cell_type": "code",
   "execution_count": 28,
   "metadata": {},
   "outputs": [],
   "source": [
    "using Conda"
   ]
  },
  {
   "cell_type": "code",
   "execution_count": 29,
   "metadata": {},
   "outputs": [
    {
     "data": {
      "text/plain": [
       "BenchmarkTools.Trial: 1280 samples with 1 evaluation.\n",
       " Range \u001b[90m(\u001b[39m\u001b[36m\u001b[1mmin\u001b[22m\u001b[39m … \u001b[35mmax\u001b[39m\u001b[90m):  \u001b[39m\u001b[36m\u001b[1m3.856 ms\u001b[22m\u001b[39m … \u001b[35m 4.697 ms\u001b[39m  \u001b[90m┊\u001b[39m GC \u001b[90m(\u001b[39mmin … max\u001b[90m): \u001b[39m0.00% … 0.00%\n",
       " Time  \u001b[90m(\u001b[39m\u001b[34m\u001b[1mmedian\u001b[22m\u001b[39m\u001b[90m):     \u001b[39m\u001b[34m\u001b[1m3.883 ms              \u001b[22m\u001b[39m\u001b[90m┊\u001b[39m GC \u001b[90m(\u001b[39mmedian\u001b[90m):    \u001b[39m0.00%\n",
       " Time  \u001b[90m(\u001b[39m\u001b[32m\u001b[1mmean\u001b[22m\u001b[39m ± \u001b[32mσ\u001b[39m\u001b[90m):   \u001b[39m\u001b[32m\u001b[1m3.888 ms\u001b[22m\u001b[39m ± \u001b[32m38.735 μs\u001b[39m  \u001b[90m┊\u001b[39m GC \u001b[90m(\u001b[39mmean ± σ\u001b[90m):  \u001b[39m0.00% ± 0.00%\n",
       "\n",
       "  \u001b[39m \u001b[39m \u001b[39m \u001b[39m \u001b[39m \u001b[39m \u001b[39m▃\u001b[39m▆\u001b[39m▅\u001b[34m█\u001b[39m\u001b[39m▄\u001b[32m▃\u001b[39m\u001b[39m \u001b[39m \u001b[39m \u001b[39m \u001b[39m \u001b[39m \u001b[39m \u001b[39m \u001b[39m \u001b[39m \u001b[39m \u001b[39m \u001b[39m \u001b[39m \u001b[39m \u001b[39m \u001b[39m \u001b[39m \u001b[39m \u001b[39m \u001b[39m \u001b[39m \u001b[39m \u001b[39m \u001b[39m \u001b[39m \u001b[39m \u001b[39m \u001b[39m \u001b[39m \u001b[39m \u001b[39m \u001b[39m \u001b[39m \u001b[39m \u001b[39m \u001b[39m \u001b[39m \u001b[39m \u001b[39m \u001b[39m \u001b[39m \u001b[39m \u001b[39m \u001b[39m \u001b[39m \u001b[39m \u001b[39m \n",
       "  \u001b[39m▂\u001b[39m▂\u001b[39m▃\u001b[39m▄\u001b[39m▅\u001b[39m█\u001b[39m█\u001b[39m█\u001b[39m█\u001b[34m█\u001b[39m\u001b[39m█\u001b[32m█\u001b[39m\u001b[39m▇\u001b[39m▆\u001b[39m▄\u001b[39m▃\u001b[39m▃\u001b[39m▃\u001b[39m▃\u001b[39m▃\u001b[39m▂\u001b[39m▂\u001b[39m▂\u001b[39m▂\u001b[39m▂\u001b[39m▂\u001b[39m▁\u001b[39m▂\u001b[39m▂\u001b[39m▁\u001b[39m▂\u001b[39m▂\u001b[39m▂\u001b[39m▂\u001b[39m▂\u001b[39m▂\u001b[39m▁\u001b[39m▂\u001b[39m▁\u001b[39m▂\u001b[39m▂\u001b[39m▁\u001b[39m▁\u001b[39m▁\u001b[39m▂\u001b[39m▁\u001b[39m▁\u001b[39m▁\u001b[39m▂\u001b[39m▂\u001b[39m▂\u001b[39m▁\u001b[39m▁\u001b[39m▂\u001b[39m▁\u001b[39m▁\u001b[39m▁\u001b[39m▂\u001b[39m \u001b[39m▃\n",
       "  3.86 ms\u001b[90m        Histogram: frequency by time\u001b[39m         420 ms \u001b[0m\u001b[1m<\u001b[22m\n",
       "\n",
       " Memory estimate\u001b[90m: \u001b[39m\u001b[33m336 bytes\u001b[39m, allocs estimate\u001b[90m: \u001b[39m\u001b[33m6\u001b[39m."
      ]
     },
     "execution_count": 29,
     "metadata": {},
     "output_type": "execute_result"
    }
   ],
   "source": [
    "numpy_sum = pyimport(\"numpy\")[\"sum\"]\n",
    "\n",
    "py_numpy_bench = @benchmark $numpy_sum($a)"
   ]
  },
  {
   "cell_type": "code",
   "execution_count": 30,
   "metadata": {},
   "outputs": [
    {
     "data": {
      "text/plain": [
       "5.001123917728795e6"
      ]
     },
     "execution_count": 30,
     "metadata": {},
     "output_type": "execute_result"
    }
   ],
   "source": [
    "numpy_sum(a)"
   ]
  },
  {
   "cell_type": "code",
   "execution_count": 31,
   "metadata": {},
   "outputs": [
    {
     "data": {
      "text/plain": [
       "true"
      ]
     },
     "execution_count": 31,
     "metadata": {},
     "output_type": "execute_result"
    }
   ],
   "source": [
    "numpy_sum(a) ≈ sum(a)"
   ]
  },
  {
   "cell_type": "code",
   "execution_count": 32,
   "metadata": {},
   "outputs": [
    {
     "data": {
      "text/plain": [
       "Dict{Any, Any} with 4 entries:\n",
       "  \"C com -ffast-math\" => 5.10371\n",
       "  \"C\"                 => 8.41384\n",
       "  \"Python numpy\"      => 3.85594\n",
       "  \"Python\"            => 845.186"
      ]
     },
     "execution_count": 32,
     "metadata": {},
     "output_type": "execute_result"
    }
   ],
   "source": [
    "d[\"Python numpy\"] = minimum(py_numpy_bench.times) / 1e6\n",
    "d"
   ]
  },
  {
   "cell_type": "markdown",
   "metadata": {},
   "source": [
    "## 5. Python (escrito à mão)"
   ]
  },
  {
   "cell_type": "code",
   "execution_count": 33,
   "metadata": {},
   "outputs": [
    {
     "data": {
      "text/plain": [
       "PyObject <function py_sum at 0x7fc110e994c0>"
      ]
     },
     "execution_count": 33,
     "metadata": {},
     "output_type": "execute_result"
    }
   ],
   "source": [
    "py\"\"\"\n",
    "def py_sum(A):\n",
    "    s = 0.0\n",
    "    for a in A:\n",
    "        s += a\n",
    "    return s\n",
    "\"\"\"\n",
    "\n",
    "sum_py = py\"py_sum\""
   ]
  },
  {
   "cell_type": "code",
   "execution_count": 34,
   "metadata": {},
   "outputs": [
    {
     "data": {
      "text/plain": [
       "BenchmarkTools.Trial: 6 samples with 1 evaluation.\n",
       " Range \u001b[90m(\u001b[39m\u001b[36m\u001b[1mmin\u001b[22m\u001b[39m … \u001b[35mmax\u001b[39m\u001b[90m):  \u001b[39m\u001b[36m\u001b[1m965.205 ms\u001b[22m\u001b[39m … \u001b[35m983.055 ms\u001b[39m  \u001b[90m┊\u001b[39m GC \u001b[90m(\u001b[39mmin … max\u001b[90m): \u001b[39m0.00% … 0.00%\n",
       " Time  \u001b[90m(\u001b[39m\u001b[34m\u001b[1mmedian\u001b[22m\u001b[39m\u001b[90m):     \u001b[39m\u001b[34m\u001b[1m972.741 ms               \u001b[22m\u001b[39m\u001b[90m┊\u001b[39m GC \u001b[90m(\u001b[39mmedian\u001b[90m):    \u001b[39m0.00%\n",
       " Time  \u001b[90m(\u001b[39m\u001b[32m\u001b[1mmean\u001b[22m\u001b[39m ± \u001b[32mσ\u001b[39m\u001b[90m):   \u001b[39m\u001b[32m\u001b[1m972.997 ms\u001b[22m\u001b[39m ± \u001b[32m  6.723 ms\u001b[39m  \u001b[90m┊\u001b[39m GC \u001b[90m(\u001b[39mmean ± σ\u001b[90m):  \u001b[39m0.00% ± 0.00%\n",
       "\n",
       "  \u001b[39m█\u001b[39m \u001b[39m \u001b[39m \u001b[39m \u001b[39m \u001b[39m█\u001b[39m \u001b[39m \u001b[39m \u001b[39m \u001b[39m \u001b[39m \u001b[39m \u001b[39m \u001b[39m \u001b[34m█\u001b[39m\u001b[39m \u001b[39m \u001b[39m \u001b[39m \u001b[39m \u001b[39m \u001b[39m \u001b[39m \u001b[39m \u001b[39m \u001b[32m \u001b[39m\u001b[39m \u001b[39m \u001b[39m \u001b[39m \u001b[39m \u001b[39m \u001b[39m \u001b[39m█\u001b[39m \u001b[39m \u001b[39m \u001b[39m \u001b[39m█\u001b[39m \u001b[39m \u001b[39m \u001b[39m \u001b[39m \u001b[39m \u001b[39m \u001b[39m \u001b[39m \u001b[39m \u001b[39m \u001b[39m \u001b[39m \u001b[39m \u001b[39m \u001b[39m \u001b[39m \u001b[39m \u001b[39m \u001b[39m█\u001b[39m \u001b[39m \n",
       "  \u001b[39m█\u001b[39m▁\u001b[39m▁\u001b[39m▁\u001b[39m▁\u001b[39m▁\u001b[39m█\u001b[39m▁\u001b[39m▁\u001b[39m▁\u001b[39m▁\u001b[39m▁\u001b[39m▁\u001b[39m▁\u001b[39m▁\u001b[39m▁\u001b[34m█\u001b[39m\u001b[39m▁\u001b[39m▁\u001b[39m▁\u001b[39m▁\u001b[39m▁\u001b[39m▁\u001b[39m▁\u001b[39m▁\u001b[39m▁\u001b[39m▁\u001b[32m▁\u001b[39m\u001b[39m▁\u001b[39m▁\u001b[39m▁\u001b[39m▁\u001b[39m▁\u001b[39m▁\u001b[39m▁\u001b[39m█\u001b[39m▁\u001b[39m▁\u001b[39m▁\u001b[39m▁\u001b[39m█\u001b[39m▁\u001b[39m▁\u001b[39m▁\u001b[39m▁\u001b[39m▁\u001b[39m▁\u001b[39m▁\u001b[39m▁\u001b[39m▁\u001b[39m▁\u001b[39m▁\u001b[39m▁\u001b[39m▁\u001b[39m▁\u001b[39m▁\u001b[39m▁\u001b[39m▁\u001b[39m▁\u001b[39m▁\u001b[39m█\u001b[39m \u001b[39m▁\n",
       "  965 ms\u001b[90m           Histogram: frequency by time\u001b[39m          983 ms \u001b[0m\u001b[1m<\u001b[22m\n",
       "\n",
       " Memory estimate\u001b[90m: \u001b[39m\u001b[33m336 bytes\u001b[39m, allocs estimate\u001b[90m: \u001b[39m\u001b[33m6\u001b[39m."
      ]
     },
     "execution_count": 34,
     "metadata": {},
     "output_type": "execute_result"
    }
   ],
   "source": [
    "py_hand = @benchmark $sum_py($a)"
   ]
  },
  {
   "cell_type": "code",
   "execution_count": 35,
   "metadata": {},
   "outputs": [
    {
     "data": {
      "text/plain": [
       "5.001123917728872e6"
      ]
     },
     "execution_count": 35,
     "metadata": {},
     "output_type": "execute_result"
    }
   ],
   "source": [
    "sum_py(a)"
   ]
  },
  {
   "cell_type": "code",
   "execution_count": 36,
   "metadata": {},
   "outputs": [
    {
     "data": {
      "text/plain": [
       "true"
      ]
     },
     "execution_count": 36,
     "metadata": {},
     "output_type": "execute_result"
    }
   ],
   "source": [
    "sum_py(a) ≈ sum(a)"
   ]
  },
  {
   "cell_type": "code",
   "execution_count": 37,
   "metadata": {},
   "outputs": [
    {
     "data": {
      "text/plain": [
       "Dict{Any, Any} with 5 entries:\n",
       "  \"C com -ffast-math\"    => 5.10371\n",
       "  \"Python escrito à mão\" => 965.205\n",
       "  \"C\"                    => 8.41384\n",
       "  \"Python numpy\"         => 3.85594\n",
       "  \"Python\"               => 845.186"
      ]
     },
     "execution_count": 37,
     "metadata": {},
     "output_type": "execute_result"
    }
   ],
   "source": [
    "d[\"Python escrito à mão\"] = minimum(py_hand.times) / 1e6\n",
    "d"
   ]
  },
  {
   "cell_type": "markdown",
   "metadata": {},
   "source": [
    "## 6. Julia\n",
    "\n",
    "Em Julia, a função `sum` é escrita em Julia, não em C."
   ]
  },
  {
   "cell_type": "code",
   "execution_count": 38,
   "metadata": {},
   "outputs": [
    {
     "data": {
      "text/html": [
       "sum(a::<b>AbstractArray</b>; <i>dims, kw...</i>) in Base at <a href=\"https://github.com/JuliaLang/julia/tree/1b93d53fc4bb59350ada898038ed4de2994cce33/base/reducedim.jl#L873\" target=\"_blank\">reducedim.jl:873</a>"
      ],
      "text/plain": [
       "sum(a::AbstractArray; dims, kw...) in Base at reducedim.jl:873"
      ]
     },
     "execution_count": 38,
     "metadata": {},
     "output_type": "execute_result"
    }
   ],
   "source": [
    "@which sum(a)"
   ]
  },
  {
   "cell_type": "code",
   "execution_count": 39,
   "metadata": {},
   "outputs": [
    {
     "data": {
      "text/plain": [
       "BenchmarkTools.Trial: 1312 samples with 1 evaluation.\n",
       " Range \u001b[90m(\u001b[39m\u001b[36m\u001b[1mmin\u001b[22m\u001b[39m … \u001b[35mmax\u001b[39m\u001b[90m):  \u001b[39m\u001b[36m\u001b[1m3.766 ms\u001b[22m\u001b[39m … \u001b[35m 4.155 ms\u001b[39m  \u001b[90m┊\u001b[39m GC \u001b[90m(\u001b[39mmin … max\u001b[90m): \u001b[39m0.00% … 0.00%\n",
       " Time  \u001b[90m(\u001b[39m\u001b[34m\u001b[1mmedian\u001b[22m\u001b[39m\u001b[90m):     \u001b[39m\u001b[34m\u001b[1m3.790 ms              \u001b[22m\u001b[39m\u001b[90m┊\u001b[39m GC \u001b[90m(\u001b[39mmedian\u001b[90m):    \u001b[39m0.00%\n",
       " Time  \u001b[90m(\u001b[39m\u001b[32m\u001b[1mmean\u001b[22m\u001b[39m ± \u001b[32mσ\u001b[39m\u001b[90m):   \u001b[39m\u001b[32m\u001b[1m3.793 ms\u001b[22m\u001b[39m ± \u001b[32m19.322 μs\u001b[39m  \u001b[90m┊\u001b[39m GC \u001b[90m(\u001b[39mmean ± σ\u001b[90m):  \u001b[39m0.00% ± 0.00%\n",
       "\n",
       "  \u001b[39m \u001b[39m \u001b[39m \u001b[39m \u001b[39m \u001b[39m \u001b[39m \u001b[39m \u001b[39m \u001b[39m \u001b[39m \u001b[39m▂\u001b[39m▄\u001b[39m█\u001b[34m▇\u001b[39m\u001b[32m▄\u001b[39m\u001b[39m \u001b[39m \u001b[39m \u001b[39m \u001b[39m \u001b[39m \u001b[39m \u001b[39m \u001b[39m \u001b[39m \u001b[39m \u001b[39m \u001b[39m \u001b[39m \u001b[39m \u001b[39m \u001b[39m \u001b[39m \u001b[39m \u001b[39m \u001b[39m \u001b[39m \u001b[39m \u001b[39m \u001b[39m \u001b[39m \u001b[39m \u001b[39m \u001b[39m \u001b[39m \u001b[39m \u001b[39m \u001b[39m \u001b[39m \u001b[39m \u001b[39m \u001b[39m \u001b[39m \u001b[39m \u001b[39m \u001b[39m \u001b[39m \u001b[39m \u001b[39m \n",
       "  \u001b[39m▂\u001b[39m▁\u001b[39m▂\u001b[39m▂\u001b[39m▂\u001b[39m▃\u001b[39m▃\u001b[39m▅\u001b[39m▆\u001b[39m█\u001b[39m█\u001b[39m█\u001b[39m█\u001b[39m█\u001b[34m█\u001b[39m\u001b[32m█\u001b[39m\u001b[39m█\u001b[39m▆\u001b[39m▄\u001b[39m▃\u001b[39m▃\u001b[39m▃\u001b[39m▃\u001b[39m▃\u001b[39m▂\u001b[39m▃\u001b[39m▂\u001b[39m▂\u001b[39m▂\u001b[39m▂\u001b[39m▂\u001b[39m▁\u001b[39m▂\u001b[39m▂\u001b[39m▂\u001b[39m▂\u001b[39m▂\u001b[39m▁\u001b[39m▂\u001b[39m▂\u001b[39m▁\u001b[39m▂\u001b[39m▁\u001b[39m▁\u001b[39m▁\u001b[39m▂\u001b[39m▁\u001b[39m▂\u001b[39m▁\u001b[39m▁\u001b[39m▂\u001b[39m▁\u001b[39m▂\u001b[39m▁\u001b[39m▁\u001b[39m▁\u001b[39m▂\u001b[39m▂\u001b[39m \u001b[39m▃\n",
       "  3.77 ms\u001b[90m        Histogram: frequency by time\u001b[39m        3.87 ms \u001b[0m\u001b[1m<\u001b[22m\n",
       "\n",
       " Memory estimate\u001b[90m: \u001b[39m\u001b[33m0 bytes\u001b[39m, allocs estimate\u001b[90m: \u001b[39m\u001b[33m0\u001b[39m."
      ]
     },
     "execution_count": 39,
     "metadata": {},
     "output_type": "execute_result"
    }
   ],
   "source": [
    "j_bench = @benchmark sum($a)"
   ]
  },
  {
   "cell_type": "code",
   "execution_count": 40,
   "metadata": {},
   "outputs": [
    {
     "data": {
      "text/plain": [
       "Dict{Any, Any} with 6 entries:\n",
       "  \"C com -ffast-math\"    => 5.10371\n",
       "  \"Python escrito à mão\" => 965.205\n",
       "  \"C\"                    => 8.41384\n",
       "  \"Python numpy\"         => 3.85594\n",
       "  \"Julia\"                => 3.76571\n",
       "  \"Python\"               => 845.186"
      ]
     },
     "execution_count": 40,
     "metadata": {},
     "output_type": "execute_result"
    }
   ],
   "source": [
    "d[\"Julia\"] = minimum(j_bench.times) / 1e6\n",
    "d"
   ]
  },
  {
   "cell_type": "markdown",
   "metadata": {},
   "source": [
    "## 7. Julia (escrito à mão)"
   ]
  },
  {
   "cell_type": "code",
   "execution_count": 41,
   "metadata": {},
   "outputs": [
    {
     "data": {
      "text/plain": [
       "mysum (generic function with 1 method)"
      ]
     },
     "execution_count": 41,
     "metadata": {},
     "output_type": "execute_result"
    }
   ],
   "source": [
    "function mysum(A)   \n",
    "    s = 0.0 # s = zero(eltype(a))\n",
    "    for a in A\n",
    "        s += a\n",
    "    end\n",
    "    s\n",
    "end"
   ]
  },
  {
   "cell_type": "code",
   "execution_count": 42,
   "metadata": {},
   "outputs": [
    {
     "data": {
      "text/plain": [
       "BenchmarkTools.Trial: 584 samples with 1 evaluation.\n",
       " Range \u001b[90m(\u001b[39m\u001b[36m\u001b[1mmin\u001b[22m\u001b[39m … \u001b[35mmax\u001b[39m\u001b[90m):  \u001b[39m\u001b[36m\u001b[1m8.467 ms\u001b[22m\u001b[39m … \u001b[35m 8.626 ms\u001b[39m  \u001b[90m┊\u001b[39m GC \u001b[90m(\u001b[39mmin … max\u001b[90m): \u001b[39m0.00% … 0.00%\n",
       " Time  \u001b[90m(\u001b[39m\u001b[34m\u001b[1mmedian\u001b[22m\u001b[39m\u001b[90m):     \u001b[39m\u001b[34m\u001b[1m8.557 ms              \u001b[22m\u001b[39m\u001b[90m┊\u001b[39m GC \u001b[90m(\u001b[39mmedian\u001b[90m):    \u001b[39m0.00%\n",
       " Time  \u001b[90m(\u001b[39m\u001b[32m\u001b[1mmean\u001b[22m\u001b[39m ± \u001b[32mσ\u001b[39m\u001b[90m):   \u001b[39m\u001b[32m\u001b[1m8.551 ms\u001b[22m\u001b[39m ± \u001b[32m29.488 μs\u001b[39m  \u001b[90m┊\u001b[39m GC \u001b[90m(\u001b[39mmean ± σ\u001b[90m):  \u001b[39m0.00% ± 0.00%\n",
       "\n",
       "  \u001b[39m \u001b[39m \u001b[39m \u001b[39m \u001b[39m \u001b[39m \u001b[39m \u001b[39m \u001b[39m \u001b[39m \u001b[39m \u001b[39m \u001b[39m \u001b[39m \u001b[39m \u001b[39m \u001b[39m \u001b[39m \u001b[39m \u001b[39m \u001b[39m▃\u001b[39m▁\u001b[39m▃\u001b[39m▁\u001b[39m▃\u001b[39m \u001b[39m▂\u001b[39m \u001b[39m \u001b[39m \u001b[39m \u001b[39m \u001b[39m \u001b[39m \u001b[39m \u001b[32m \u001b[39m\u001b[39m \u001b[39m▃\u001b[34m▄\u001b[39m\u001b[39m▅\u001b[39m▁\u001b[39m▂\u001b[39m█\u001b[39m▃\u001b[39m▂\u001b[39m \u001b[39m▁\u001b[39m▁\u001b[39m \u001b[39m \u001b[39m▃\u001b[39m \u001b[39m \u001b[39m \u001b[39m \u001b[39m \u001b[39m \u001b[39m \u001b[39m \u001b[39m \n",
       "  \u001b[39m▃\u001b[39m▁\u001b[39m▃\u001b[39m▃\u001b[39m▁\u001b[39m▃\u001b[39m▃\u001b[39m▃\u001b[39m▃\u001b[39m▃\u001b[39m▁\u001b[39m▂\u001b[39m▁\u001b[39m▂\u001b[39m▂\u001b[39m▅\u001b[39m▄\u001b[39m▆\u001b[39m▇\u001b[39m▇\u001b[39m█\u001b[39m█\u001b[39m█\u001b[39m█\u001b[39m█\u001b[39m▇\u001b[39m█\u001b[39m█\u001b[39m▅\u001b[39m▆\u001b[39m▆\u001b[39m▄\u001b[39m▆\u001b[39m▆\u001b[39m▆\u001b[32m▆\u001b[39m\u001b[39m▇\u001b[39m█\u001b[34m█\u001b[39m\u001b[39m█\u001b[39m█\u001b[39m█\u001b[39m█\u001b[39m█\u001b[39m█\u001b[39m▅\u001b[39m█\u001b[39m█\u001b[39m█\u001b[39m█\u001b[39m█\u001b[39m▄\u001b[39m▆\u001b[39m▅\u001b[39m▅\u001b[39m▄\u001b[39m▄\u001b[39m▄\u001b[39m \u001b[39m▄\n",
       "  8.47 ms\u001b[90m        Histogram: frequency by time\u001b[39m        8.61 ms \u001b[0m\u001b[1m<\u001b[22m\n",
       "\n",
       " Memory estimate\u001b[90m: \u001b[39m\u001b[33m0 bytes\u001b[39m, allocs estimate\u001b[90m: \u001b[39m\u001b[33m0\u001b[39m."
      ]
     },
     "execution_count": 42,
     "metadata": {},
     "output_type": "execute_result"
    }
   ],
   "source": [
    "j_bench_hand = @benchmark mysum($a)"
   ]
  },
  {
   "cell_type": "code",
   "execution_count": 43,
   "metadata": {},
   "outputs": [
    {
     "data": {
      "text/plain": [
       "Dict{Any, Any} with 7 entries:\n",
       "  \"C com -ffast-math\"    => 5.10371\n",
       "  \"Python escrito à mão\" => 965.205\n",
       "  \"C\"                    => 8.41384\n",
       "  \"Python numpy\"         => 3.85594\n",
       "  \"Julia escrito à mão\"  => 8.46739\n",
       "  \"Julia\"                => 3.76571\n",
       "  \"Python\"               => 845.186"
      ]
     },
     "execution_count": 43,
     "metadata": {},
     "output_type": "execute_result"
    }
   ],
   "source": [
    "d[\"Julia escrito à mão\"] = minimum(j_bench_hand.times) / 1e6\n",
    "d"
   ]
  },
  {
   "cell_type": "markdown",
   "metadata": {},
   "source": [
    "## 8. Julia (escrito à mão com SIMD)"
   ]
  },
  {
   "cell_type": "code",
   "execution_count": 44,
   "metadata": {},
   "outputs": [
    {
     "data": {
      "text/plain": [
       "mysum_simd (generic function with 1 method)"
      ]
     },
     "execution_count": 44,
     "metadata": {},
     "output_type": "execute_result"
    }
   ],
   "source": [
    "function mysum_simd(A)   \n",
    "    s = 0.0 # s = zero(eltype(A))\n",
    "    @simd for a in A\n",
    "        s += a\n",
    "    end\n",
    "    s\n",
    "end"
   ]
  },
  {
   "cell_type": "code",
   "execution_count": 45,
   "metadata": {},
   "outputs": [
    {
     "data": {
      "text/plain": [
       "BenchmarkTools.Trial: 1361 samples with 1 evaluation.\n",
       " Range \u001b[90m(\u001b[39m\u001b[36m\u001b[1mmin\u001b[22m\u001b[39m … \u001b[35mmax\u001b[39m\u001b[90m):  \u001b[39m\u001b[36m\u001b[1m3.632 ms\u001b[22m\u001b[39m … \u001b[35m 4.240 ms\u001b[39m  \u001b[90m┊\u001b[39m GC \u001b[90m(\u001b[39mmin … max\u001b[90m): \u001b[39m0.00% … 0.00%\n",
       " Time  \u001b[90m(\u001b[39m\u001b[34m\u001b[1mmedian\u001b[22m\u001b[39m\u001b[90m):     \u001b[39m\u001b[34m\u001b[1m3.652 ms              \u001b[22m\u001b[39m\u001b[90m┊\u001b[39m GC \u001b[90m(\u001b[39mmedian\u001b[90m):    \u001b[39m0.00%\n",
       " Time  \u001b[90m(\u001b[39m\u001b[32m\u001b[1mmean\u001b[22m\u001b[39m ± \u001b[32mσ\u001b[39m\u001b[90m):   \u001b[39m\u001b[32m\u001b[1m3.655 ms\u001b[22m\u001b[39m ± \u001b[32m31.631 μs\u001b[39m  \u001b[90m┊\u001b[39m GC \u001b[90m(\u001b[39mmean ± σ\u001b[90m):  \u001b[39m0.00% ± 0.00%\n",
       "\n",
       "  \u001b[39m \u001b[39m \u001b[39m \u001b[39m \u001b[39m \u001b[39m \u001b[39m \u001b[39m \u001b[39m▄\u001b[39m▄\u001b[39m▄\u001b[39m▃\u001b[39m▆\u001b[34m█\u001b[39m\u001b[39m▇\u001b[39m▄\u001b[32m▄\u001b[39m\u001b[39m▂\u001b[39m \u001b[39m \u001b[39m \u001b[39m \u001b[39m \u001b[39m \u001b[39m \u001b[39m \u001b[39m \u001b[39m \u001b[39m \u001b[39m \u001b[39m \u001b[39m \u001b[39m \u001b[39m \u001b[39m \u001b[39m \u001b[39m \u001b[39m \u001b[39m \u001b[39m \u001b[39m \u001b[39m \u001b[39m \u001b[39m \u001b[39m \u001b[39m \u001b[39m \u001b[39m \u001b[39m \u001b[39m \u001b[39m \u001b[39m \u001b[39m \u001b[39m \u001b[39m \u001b[39m \u001b[39m \u001b[39m \u001b[39m \u001b[39m \n",
       "  \u001b[39m▂\u001b[39m▃\u001b[39m▃\u001b[39m▃\u001b[39m▃\u001b[39m▄\u001b[39m▇\u001b[39m▅\u001b[39m█\u001b[39m█\u001b[39m█\u001b[39m█\u001b[39m█\u001b[34m█\u001b[39m\u001b[39m█\u001b[39m█\u001b[32m█\u001b[39m\u001b[39m█\u001b[39m▇\u001b[39m▅\u001b[39m▅\u001b[39m▅\u001b[39m▃\u001b[39m▃\u001b[39m▃\u001b[39m▃\u001b[39m▂\u001b[39m▂\u001b[39m▃\u001b[39m▂\u001b[39m▂\u001b[39m▃\u001b[39m▁\u001b[39m▂\u001b[39m▂\u001b[39m▁\u001b[39m▂\u001b[39m▂\u001b[39m▁\u001b[39m▂\u001b[39m▁\u001b[39m▁\u001b[39m▁\u001b[39m▂\u001b[39m▂\u001b[39m▁\u001b[39m▂\u001b[39m▂\u001b[39m▁\u001b[39m▂\u001b[39m▂\u001b[39m▁\u001b[39m▁\u001b[39m▂\u001b[39m▁\u001b[39m▂\u001b[39m▁\u001b[39m▂\u001b[39m \u001b[39m▃\n",
       "  3.63 ms\u001b[90m        Histogram: frequency by time\u001b[39m        3.72 ms \u001b[0m\u001b[1m<\u001b[22m\n",
       "\n",
       " Memory estimate\u001b[90m: \u001b[39m\u001b[33m0 bytes\u001b[39m, allocs estimate\u001b[90m: \u001b[39m\u001b[33m0\u001b[39m."
      ]
     },
     "execution_count": 45,
     "metadata": {},
     "output_type": "execute_result"
    }
   ],
   "source": [
    "j_bench_hand_simd = @benchmark mysum_simd($a)"
   ]
  },
  {
   "cell_type": "code",
   "execution_count": 46,
   "metadata": {},
   "outputs": [
    {
     "data": {
      "text/plain": [
       "5.0011239177288e6"
      ]
     },
     "execution_count": 46,
     "metadata": {},
     "output_type": "execute_result"
    }
   ],
   "source": [
    "mysum_simd(a)"
   ]
  },
  {
   "cell_type": "code",
   "execution_count": 47,
   "metadata": {},
   "outputs": [
    {
     "data": {
      "text/plain": [
       "Dict{Any, Any} with 8 entries:\n",
       "  \"Julia escrito à mão com SIMD\" => 3.63208\n",
       "  \"C com -ffast-math\"            => 5.10371\n",
       "  \"Python escrito à mão\"         => 965.205\n",
       "  \"C\"                            => 8.41384\n",
       "  \"Python numpy\"                 => 3.85594\n",
       "  \"Julia escrito à mão\"          => 8.46739\n",
       "  \"Julia\"                        => 3.76571\n",
       "  \"Python\"                       => 845.186"
      ]
     },
     "execution_count": 47,
     "metadata": {},
     "output_type": "execute_result"
    }
   ],
   "source": [
    "d[\"Julia escrito à mão com SIMD\"] = minimum(j_bench_hand_simd.times) / 1e6\n",
    "d"
   ]
  },
  {
   "cell_type": "markdown",
   "metadata": {},
   "source": [
    "## Em resumo"
   ]
  },
  {
   "cell_type": "code",
   "execution_count": 48,
   "metadata": {},
   "outputs": [
    {
     "name": "stdout",
     "output_type": "stream",
     "text": [
      "Julia escrito à mão com SIMD....3.63\n",
      "Julia...........................3.77\n",
      "Python numpy....................3.86\n",
      "C com -ffast-math................5.1\n",
      "C...............................8.41\n",
      "Julia escrito à mão.............8.47\n",
      "Python........................845.19\n",
      "Python escrito à mão..........965.21\n"
     ]
    }
   ],
   "source": [
    "for (key, value) in sort(collect(d), by=last)\n",
    "    println(rpad(key, 30, \".\"), lpad(round(value; digits=2), 6, \".\"))\n",
    "end"
   ]
  }
 ],
 "metadata": {
  "kernelspec": {
   "display_name": "Julia 1.6.0",
   "language": "julia",
   "name": "julia-1.6"
  },
  "language_info": {
   "file_extension": ".jl",
   "mimetype": "application/julia",
   "name": "julia",
   "version": "1.6.2"
  }
 },
 "nbformat": 4,
 "nbformat_minor": 4
}
