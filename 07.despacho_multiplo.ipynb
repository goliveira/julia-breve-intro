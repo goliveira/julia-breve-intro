{
 "cells": [
  {
   "cell_type": "markdown",
   "metadata": {},
   "source": [
    "# Despacho múltiplo\n",
    "\n",
    "Neste notebook, vamos explorar o conceito de [despacho múltiplo](https://en.wikipedia.org/wiki/Multiple_dispatch), que é um recurso chave da linguagem Julia.\n",
    "\n",
    "Para entender despacho múltiplo em Julia, vamos começar com um exemplo que nós já vimos.\n",
    "\n",
    "Em Julia, podemos declarar funções sem informar o tipo dos argumentos da função.\n",
    "Por exemplo:"
   ]
  },
  {
   "cell_type": "code",
   "execution_count": 1,
   "metadata": {},
   "outputs": [
    {
     "data": {
      "text/plain": [
       "f (generic function with 1 method)"
      ]
     },
     "execution_count": 1,
     "metadata": {},
     "output_type": "execute_result"
    }
   ],
   "source": [
    "f(x) = x^2"
   ]
  },
  {
   "cell_type": "markdown",
   "metadata": {},
   "source": [
    "Então a Julia vai determinar automaticamente sobre quais tipos de argumentos faz sentido aplicar a função, e sobre quais tipos não faz:"
   ]
  },
  {
   "cell_type": "code",
   "execution_count": 2,
   "metadata": {},
   "outputs": [
    {
     "data": {
      "text/plain": [
       "81"
      ]
     },
     "execution_count": 2,
     "metadata": {},
     "output_type": "execute_result"
    }
   ],
   "source": [
    "f(9)"
   ]
  },
  {
   "cell_type": "code",
   "execution_count": 3,
   "metadata": {},
   "outputs": [
    {
     "ename": "LoadError",
     "evalue": "MethodError: no method matching ^(::Vector{Int64}, ::Int64)\n\u001b[0mClosest candidates are:\n\u001b[0m  ^(\u001b[91m::Union{AbstractChar, AbstractString}\u001b[39m, ::Integer) at /usr/share/julia/base/strings/basic.jl:721\n\u001b[0m  ^(\u001b[91m::LinearAlgebra.Symmetric{var\"#s859\", S} where {var\"#s859\"<:Real, S<:(AbstractMatrix{<:var\"#s859\"})}\u001b[39m, ::Integer) at /usr/share/julia/stdlib/v1.7/LinearAlgebra/src/symmetric.jl:704\n\u001b[0m  ^(\u001b[91m::LinearAlgebra.Symmetric{var\"#s859\", S} where {var\"#s859\"<:Complex, S<:(AbstractMatrix{<:var\"#s859\"})}\u001b[39m, ::Integer) at /usr/share/julia/stdlib/v1.7/LinearAlgebra/src/symmetric.jl:705\n\u001b[0m  ...",
     "output_type": "error",
     "traceback": [
      "MethodError: no method matching ^(::Vector{Int64}, ::Int64)\n\u001b[0mClosest candidates are:\n\u001b[0m  ^(\u001b[91m::Union{AbstractChar, AbstractString}\u001b[39m, ::Integer) at /usr/share/julia/base/strings/basic.jl:721\n\u001b[0m  ^(\u001b[91m::LinearAlgebra.Symmetric{var\"#s859\", S} where {var\"#s859\"<:Real, S<:(AbstractMatrix{<:var\"#s859\"})}\u001b[39m, ::Integer) at /usr/share/julia/stdlib/v1.7/LinearAlgebra/src/symmetric.jl:704\n\u001b[0m  ^(\u001b[91m::LinearAlgebra.Symmetric{var\"#s859\", S} where {var\"#s859\"<:Complex, S<:(AbstractMatrix{<:var\"#s859\"})}\u001b[39m, ::Integer) at /usr/share/julia/stdlib/v1.7/LinearAlgebra/src/symmetric.jl:705\n\u001b[0m  ...",
      "",
      "Stacktrace:",
      " [1] literal_pow",
      "   @ ./intfuncs.jl:325 [inlined]",
      " [2] f(x::Vector{Int64})",
      "   @ Main ./In[1]:1",
      " [3] top-level scope",
      "   @ In[3]:1",
      " [4] eval",
      "   @ ./boot.jl:373 [inlined]",
      " [5] include_string(mapexpr::typeof(REPL.softscope), mod::Module, code::String, filename::String)",
      "   @ Base ./loading.jl:1196"
     ]
    }
   ],
   "source": [
    "f([1, 2, 3])"
   ]
  },
  {
   "cell_type": "markdown",
   "metadata": {},
   "source": [
    "## Especificando os tipos dos argumentos\n",
    "\n",
    "Temos a opção de declarar explicitamente quais tipos de argumentos uma função pode receber.\n",
    "Por exemplo, vamos definir uma função `teste` que só pode receber argumentos do tipo `String`:"
   ]
  },
  {
   "cell_type": "code",
   "execution_count": 4,
   "metadata": {},
   "outputs": [
    {
     "data": {
      "text/plain": [
       "teste (generic function with 1 method)"
      ]
     },
     "execution_count": 4,
     "metadata": {},
     "output_type": "execute_result"
    }
   ],
   "source": [
    "teste(x::String, y::String) = println(\"Os argumentos x e y são strings\")"
   ]
  },
  {
   "cell_type": "markdown",
   "metadata": {},
   "source": [
    "Vamos verificar que a função `teste` age sobre strings, mas não age sobre argumentos de outros tipos:"
   ]
  },
  {
   "cell_type": "code",
   "execution_count": 5,
   "metadata": {},
   "outputs": [
    {
     "name": "stdout",
     "output_type": "stream",
     "text": [
      "Os argumentos x e y são strings\n"
     ]
    }
   ],
   "source": [
    "teste(\"despacho\", \"múltiplo\")"
   ]
  },
  {
   "cell_type": "code",
   "execution_count": 6,
   "metadata": {},
   "outputs": [
    {
     "ename": "LoadError",
     "evalue": "MethodError: no method matching teste(::Int64, ::Int64)",
     "output_type": "error",
     "traceback": [
      "MethodError: no method matching teste(::Int64, ::Int64)",
      "",
      "Stacktrace:",
      " [1] top-level scope",
      "   @ In[6]:1",
      " [2] eval",
      "   @ ./boot.jl:373 [inlined]",
      " [3] include_string(mapexpr::typeof(REPL.softscope), mod::Module, code::String, filename::String)",
      "   @ Base ./loading.jl:1196"
     ]
    }
   ],
   "source": [
    "teste(2, 3)"
   ]
  },
  {
   "cell_type": "markdown",
   "metadata": {},
   "source": [
    "Para fazer com que a função `teste` aceite números inteiros, vamos definir `teste` para argumentos do tipo `Int`:"
   ]
  },
  {
   "cell_type": "code",
   "execution_count": 7,
   "metadata": {},
   "outputs": [
    {
     "data": {
      "text/plain": [
       "teste (generic function with 2 methods)"
      ]
     },
     "execution_count": 7,
     "metadata": {},
     "output_type": "execute_result"
    }
   ],
   "source": [
    "teste(x::Int, y::Int) = println(\"Os argumentos x e y são números inteiros\")"
   ]
  },
  {
   "cell_type": "code",
   "execution_count": 8,
   "metadata": {},
   "outputs": [
    {
     "name": "stdout",
     "output_type": "stream",
     "text": [
      "Os argumentos x e y são números inteiros\n"
     ]
    }
   ],
   "source": [
    "teste(2, 3)"
   ]
  },
  {
   "cell_type": "markdown",
   "metadata": {},
   "source": [
    "Agora `teste` age sobre os inteiros.\n",
    "Mas observe, a função `teste` continua definida quando `x` e `y` são strings:"
   ]
  },
  {
   "cell_type": "code",
   "execution_count": 9,
   "metadata": {},
   "outputs": [
    {
     "name": "stdout",
     "output_type": "stream",
     "text": [
      "Os argumentos x e y são strings\n"
     ]
    }
   ],
   "source": [
    "teste(\"despacho\", \"múltiplo\")"
   ]
  },
  {
   "cell_type": "markdown",
   "metadata": {},
   "source": [
    "Quando declaramos\n",
    "```julia\n",
    "teste(x::Int, y::Int) = println(\"Os argumentos x e y são números inteiros\"),\n",
    "```\n",
    "não removemos ou substituímos\n",
    "```julia\n",
    "teste(x::String, y::String),\n",
    "```\n",
    "simplesmente adicionamos um método à função genérica `teste`.\n",
    "\n",
    "Uma **função genérica** é um conceito abstrato associado a uma operação.\n",
    "Por exemplo, a função genérica `+` representa o conceito de adição.\n",
    "Um **método** é uma implementação específica de uma função genérica para um tipo específico de argumento.\n",
    "Por exemplo, a função `+` possui métodos para números de precisão flutuante, inteiros, matrizes, etc.\n",
    "Podemos usar `methods` para ver os métodos que a função `teste` possui:"
   ]
  },
  {
   "cell_type": "code",
   "execution_count": 10,
   "metadata": {},
   "outputs": [
    {
     "data": {
      "text/html": [
       "# 2 methods for generic function <b>teste</b>:<ul><li> teste(x::<b>String</b>, y::<b>String</b>) in Main at In[4]:1</li> <li> teste(x::<b>Int64</b>, y::<b>Int64</b>) in Main at In[7]:1</li> </ul>"
      ],
      "text/plain": [
       "# 2 methods for generic function \"teste\":\n",
       "[1] teste(x::String, y::String) in Main at In[4]:1\n",
       "[2] teste(x::Int64, y::Int64) in Main at In[7]:1"
      ]
     },
     "execution_count": 10,
     "metadata": {},
     "output_type": "execute_result"
    }
   ],
   "source": [
    "methods(teste)"
   ]
  },
  {
   "cell_type": "markdown",
   "metadata": {},
   "source": [
    "E podemos ver os métodos da função `+`:"
   ]
  },
  {
   "cell_type": "code",
   "execution_count": 11,
   "metadata": {},
   "outputs": [
    {
     "data": {
      "text/html": [
       "# 208 methods for generic function <b>+</b>:<ul><li> +(x::<b>T</b>, y::<b>T</b>)<i> where T<:Union{Int128, Int16, Int32, Int64, Int8, UInt128, UInt16, UInt32, UInt64, UInt8}</i> in Base at <a href=\"https://github.com/JuliaLang/julia/tree/bf534986350a991e4a1b29126de0342ffd76205e/base/int.jl#L87\" target=\"_blank\">int.jl:87</a></li> <li> +(c::<b>Union{UInt16, UInt32, UInt64, UInt8}</b>, x::<b>BigInt</b>) in Base.GMP at <a href=\"https://github.com/JuliaLang/julia/tree/bf534986350a991e4a1b29126de0342ffd76205e/base/gmp.jl#L529\" target=\"_blank\">gmp.jl:529</a></li> <li> +(c::<b>Union{Int16, Int32, Int64, Int8}</b>, x::<b>BigInt</b>) in Base.GMP at <a href=\"https://github.com/JuliaLang/julia/tree/bf534986350a991e4a1b29126de0342ffd76205e/base/gmp.jl#L535\" target=\"_blank\">gmp.jl:535</a></li> <li> +(c::<b>Union{UInt16, UInt32, UInt64, UInt8}</b>, x::<b>BigFloat</b>) in Base.MPFR at <a href=\"https://github.com/JuliaLang/julia/tree/bf534986350a991e4a1b29126de0342ffd76205e/base/mpfr.jl#L390\" target=\"_blank\">mpfr.jl:390</a></li> <li> +(c::<b>Union{Int16, Int32, Int64, Int8}</b>, x::<b>BigFloat</b>) in Base.MPFR at <a href=\"https://github.com/JuliaLang/julia/tree/bf534986350a991e4a1b29126de0342ffd76205e/base/mpfr.jl#L398\" target=\"_blank\">mpfr.jl:398</a></li> <li> +(c::<b>Union{Float16, Float32, Float64}</b>, x::<b>BigFloat</b>) in Base.MPFR at <a href=\"https://github.com/JuliaLang/julia/tree/bf534986350a991e4a1b29126de0342ffd76205e/base/mpfr.jl#L406\" target=\"_blank\">mpfr.jl:406</a></li> <li> +(x::<b>Union{Dates.CompoundPeriod, Dates.Period}</b>) in Dates at <a href=\"file:///build/julia/src/julia-1.7.2/usr/share/julia/stdlib/v1.7/Dates/src/periods.jl\" target=\"_blank\">/usr/share/julia/stdlib/v1.7/Dates/src/periods.jl:372</a></li> <li> +(y::<b>Dates.TimeType</b>, x::<b>StridedArray{<:Union{Dates.CompoundPeriod, Dates.Period}}</b>) in Dates at <a href=\"file:///build/julia/src/julia-1.7.2/usr/share/julia/stdlib/v1.7/Dates/src/deprecated.jl\" target=\"_blank\">/usr/share/julia/stdlib/v1.7/Dates/src/deprecated.jl:18</a></li> <li> +(A::<b>LinearAlgebra.Tridiagonal</b>, B::<b>LinearAlgebra.Tridiagonal</b>) in LinearAlgebra at <a href=\"file:///build/julia/src/julia-1.7.2/usr/share/julia/stdlib/v1.7/LinearAlgebra/src/tridiag.jl\" target=\"_blank\">/usr/share/julia/stdlib/v1.7/LinearAlgebra/src/tridiag.jl:740</a></li> <li> +(x::<b>LinearAlgebra.Tridiagonal</b>, H::<b>LinearAlgebra.UpperHessenberg</b>) in LinearAlgebra at <a href=\"file:///build/julia/src/julia-1.7.2/usr/share/julia/stdlib/v1.7/LinearAlgebra/src/hessenberg.jl\" target=\"_blank\">/usr/share/julia/stdlib/v1.7/LinearAlgebra/src/hessenberg.jl:107</a></li> <li> +(A::<b>LinearAlgebra.Tridiagonal</b>, B::<b>LinearAlgebra.SymTridiagonal</b>) in LinearAlgebra at <a href=\"file:///build/julia/src/julia-1.7.2/usr/share/julia/stdlib/v1.7/LinearAlgebra/src/special.jl\" target=\"_blank\">/usr/share/julia/stdlib/v1.7/LinearAlgebra/src/special.jl:157</a></li> <li> +(A::<b>LinearAlgebra.Tridiagonal</b>, B::<b>LinearAlgebra.Diagonal</b>) in LinearAlgebra at <a href=\"file:///build/julia/src/julia-1.7.2/usr/share/julia/stdlib/v1.7/LinearAlgebra/src/special.jl\" target=\"_blank\">/usr/share/julia/stdlib/v1.7/LinearAlgebra/src/special.jl:173</a></li> <li> +(A::<b>LinearAlgebra.Tridiagonal</b>, B::<b>LinearAlgebra.Bidiagonal</b>) in LinearAlgebra at <a href=\"file:///build/julia/src/julia-1.7.2/usr/share/julia/stdlib/v1.7/LinearAlgebra/src/special.jl\" target=\"_blank\">/usr/share/julia/stdlib/v1.7/LinearAlgebra/src/special.jl:193</a></li> <li> +(A::<b>LinearAlgebra.Tridiagonal{var\"#s859\", V} where {var\"#s859\"<:Number, V<:AbstractVector{var\"#s859\"}}</b>, B::<b>LinearAlgebra.UniformScaling</b>) in LinearAlgebra at <a href=\"file:///build/julia/src/julia-1.7.2/usr/share/julia/stdlib/v1.7/LinearAlgebra/src/special.jl\" target=\"_blank\">/usr/share/julia/stdlib/v1.7/LinearAlgebra/src/special.jl:226</a></li> <li> +(index1::<b>CartesianIndex{N}</b>, index2::<b>CartesianIndex{N}</b>)<i> where N</i> in Base.IteratorsMD at <a href=\"https://github.com/JuliaLang/julia/tree/bf534986350a991e4a1b29126de0342ffd76205e/base/multidimensional.jl#L114\" target=\"_blank\">multidimensional.jl:114</a></li> <li> +(A::<b>LinearAlgebra.Hermitian</b>, B::<b>LinearAlgebra.Hermitian</b>) in LinearAlgebra at <a href=\"file:///build/julia/src/julia-1.7.2/usr/share/julia/stdlib/v1.7/LinearAlgebra/src/symmetric.jl\" target=\"_blank\">/usr/share/julia/stdlib/v1.7/LinearAlgebra/src/symmetric.jl:469</a></li> <li> +(A::<b>LinearAlgebra.Hermitian</b>, B::<b>LinearAlgebra.SymTridiagonal{var\"#s856\", V} where {var\"#s856\"<:Real, V<:AbstractVector{var\"#s856\"}}</b>) in LinearAlgebra at <a href=\"file:///build/julia/src/julia-1.7.2/usr/share/julia/stdlib/v1.7/LinearAlgebra/src/symmetric.jl\" target=\"_blank\">/usr/share/julia/stdlib/v1.7/LinearAlgebra/src/symmetric.jl:488</a></li> <li> +(H::<b>LinearAlgebra.Hermitian</b>, D::<b>LinearAlgebra.Diagonal{var\"#s859\", V} where {var\"#s859\"<:Real, V<:AbstractVector{var\"#s859\"}}</b>) in LinearAlgebra at <a href=\"file:///build/julia/src/julia-1.7.2/usr/share/julia/stdlib/v1.7/LinearAlgebra/src/diagonal.jl\" target=\"_blank\">/usr/share/julia/stdlib/v1.7/LinearAlgebra/src/diagonal.jl:185</a></li> <li> +(A::<b>LinearAlgebra.Hermitian</b>, J::<b>LinearAlgebra.UniformScaling{<:Complex}</b>) in LinearAlgebra at <a href=\"file:///build/julia/src/julia-1.7.2/usr/share/julia/stdlib/v1.7/LinearAlgebra/src/uniformscaling.jl\" target=\"_blank\">/usr/share/julia/stdlib/v1.7/LinearAlgebra/src/uniformscaling.jl:196</a></li> <li> +(A::<b>LinearAlgebra.Hermitian{<:Any, <:SparseArrays.AbstractSparseMatrix}</b>, B::<b>SparseArrays.AbstractSparseMatrix</b>) in SparseArrays at <a href=\"file:///build/julia/src/julia-1.7.2/usr/share/julia/stdlib/v1.7/SparseArrays/src/linalg.jl\" target=\"_blank\">/usr/share/julia/stdlib/v1.7/SparseArrays/src/linalg.jl:15</a></li> <li> +(A::<b>LinearAlgebra.Hermitian</b>, B::<b>SparseArrays.AbstractSparseMatrix</b>) in SparseArrays at <a href=\"file:///build/julia/src/julia-1.7.2/usr/share/julia/stdlib/v1.7/SparseArrays/src/linalg.jl\" target=\"_blank\">/usr/share/julia/stdlib/v1.7/SparseArrays/src/linalg.jl:18</a></li> <li> +(A::<b>LinearAlgebra.Hermitian{<:Any, <:SparseArrays.AbstractSparseMatrix}</b>, B::<b>LinearAlgebra.Symmetric{<:Real, <:SparseArrays.AbstractSparseMatrix}</b>) in SparseArrays at <a href=\"file:///build/julia/src/julia-1.7.2/usr/share/julia/stdlib/v1.7/SparseArrays/src/linalg.jl\" target=\"_blank\">/usr/share/julia/stdlib/v1.7/SparseArrays/src/linalg.jl:26</a></li> <li> +(A::<b>LinearAlgebra.Hermitian</b>, B::<b>LinearAlgebra.Symmetric{var\"#s859\", S} where {var\"#s859\"<:Real, S<:(AbstractMatrix{<:var\"#s859\"})}</b>) in LinearAlgebra at <a href=\"file:///build/julia/src/julia-1.7.2/usr/share/julia/stdlib/v1.7/LinearAlgebra/src/symmetric.jl\" target=\"_blank\">/usr/share/julia/stdlib/v1.7/LinearAlgebra/src/symmetric.jl:483</a></li> <li> +(A::<b>LinearAlgebra.Hermitian{<:Any, <:SparseArrays.AbstractSparseMatrix}</b>, B::<b>LinearAlgebra.Symmetric{<:Any, <:SparseArrays.AbstractSparseMatrix}</b>) in SparseArrays at <a href=\"file:///build/julia/src/julia-1.7.2/usr/share/julia/stdlib/v1.7/SparseArrays/src/linalg.jl\" target=\"_blank\">/usr/share/julia/stdlib/v1.7/SparseArrays/src/linalg.jl:24</a></li> <li> +(A::<b>LinearAlgebra.UnitUpperTriangular</b>, B::<b>LinearAlgebra.UpperTriangular</b>) in LinearAlgebra at <a href=\"file:///build/julia/src/julia-1.7.2/usr/share/julia/stdlib/v1.7/LinearAlgebra/src/triangular.jl\" target=\"_blank\">/usr/share/julia/stdlib/v1.7/LinearAlgebra/src/triangular.jl:640</a></li> <li> +(A::<b>LinearAlgebra.UnitUpperTriangular</b>, B::<b>LinearAlgebra.UnitUpperTriangular</b>) in LinearAlgebra at <a href=\"file:///build/julia/src/julia-1.7.2/usr/share/julia/stdlib/v1.7/LinearAlgebra/src/triangular.jl\" target=\"_blank\">/usr/share/julia/stdlib/v1.7/LinearAlgebra/src/triangular.jl:642</a></li> <li> +(UL::<b>LinearAlgebra.UnitUpperTriangular</b>, J::<b>LinearAlgebra.UniformScaling</b>) in LinearAlgebra at <a href=\"file:///build/julia/src/julia-1.7.2/usr/share/julia/stdlib/v1.7/LinearAlgebra/src/uniformscaling.jl\" target=\"_blank\">/usr/share/julia/stdlib/v1.7/LinearAlgebra/src/uniformscaling.jl:182</a></li> <li> +(x::<b>LinearAlgebra.UnitUpperTriangular</b>, H::<b>LinearAlgebra.UpperHessenberg</b>) in LinearAlgebra at <a href=\"file:///build/julia/src/julia-1.7.2/usr/share/julia/stdlib/v1.7/LinearAlgebra/src/hessenberg.jl\" target=\"_blank\">/usr/share/julia/stdlib/v1.7/LinearAlgebra/src/hessenberg.jl:107</a></li> <li> +(A::<b>LinearAlgebra.UnitUpperTriangular</b>, B::<b>LinearAlgebra.Bidiagonal</b>) in LinearAlgebra at <a href=\"file:///build/julia/src/julia-1.7.2/usr/share/julia/stdlib/v1.7/LinearAlgebra/src/special.jl\" target=\"_blank\">/usr/share/julia/stdlib/v1.7/LinearAlgebra/src/special.jl:86</a></li> <li> +(r::<b>AbstractRange{<:Dates.TimeType}</b>, x::<b>Dates.Period</b>) in Dates at <a href=\"file:///build/julia/src/julia-1.7.2/usr/share/julia/stdlib/v1.7/Dates/src/ranges.jl\" target=\"_blank\">/usr/share/julia/stdlib/v1.7/Dates/src/ranges.jl:63</a></li> <li> +(x::<b>AbstractArray{<:Dates.TimeType}</b>, y::<b>Union{Dates.CompoundPeriod, Dates.Period}</b>) in Dates at <a href=\"file:///build/julia/src/julia-1.7.2/usr/share/julia/stdlib/v1.7/Dates/src/deprecated.jl\" target=\"_blank\">/usr/share/julia/stdlib/v1.7/Dates/src/deprecated.jl:6</a></li> <li> +(x::<b>AbstractIrrational</b>, y::<b>AbstractIrrational</b>) in Base at <a href=\"https://github.com/JuliaLang/julia/tree/bf534986350a991e4a1b29126de0342ffd76205e/base/irrationals.jl#L158\" target=\"_blank\">irrationals.jl:158</a></li> <li> +(y::<b>AbstractFloat</b>, x::<b>Bool</b>) in Base at <a href=\"https://github.com/JuliaLang/julia/tree/bf534986350a991e4a1b29126de0342ffd76205e/base/bool.jl#L172\" target=\"_blank\">bool.jl:172</a></li> <li> +(Da::<b>LinearAlgebra.Diagonal</b>, Db::<b>LinearAlgebra.Diagonal</b>) in LinearAlgebra at <a href=\"file:///build/julia/src/julia-1.7.2/usr/share/julia/stdlib/v1.7/LinearAlgebra/src/diagonal.jl\" target=\"_blank\">/usr/share/julia/stdlib/v1.7/LinearAlgebra/src/diagonal.jl:172</a></li> <li> +(D::<b>LinearAlgebra.Diagonal</b>, S::<b>LinearAlgebra.Symmetric</b>) in LinearAlgebra at <a href=\"file:///build/julia/src/julia-1.7.2/usr/share/julia/stdlib/v1.7/LinearAlgebra/src/diagonal.jl\" target=\"_blank\">/usr/share/julia/stdlib/v1.7/LinearAlgebra/src/diagonal.jl:176</a></li> <li> +(D::<b>LinearAlgebra.Diagonal{var\"#s859\", V} where {var\"#s859\"<:Real, V<:AbstractVector{var\"#s859\"}}</b>, H::<b>LinearAlgebra.Hermitian</b>) in LinearAlgebra at <a href=\"file:///build/julia/src/julia-1.7.2/usr/share/julia/stdlib/v1.7/LinearAlgebra/src/diagonal.jl\" target=\"_blank\">/usr/share/julia/stdlib/v1.7/LinearAlgebra/src/diagonal.jl:182</a></li> <li> +(x::<b>LinearAlgebra.Diagonal</b>, H::<b>LinearAlgebra.UpperHessenberg</b>) in LinearAlgebra at <a href=\"file:///build/julia/src/julia-1.7.2/usr/share/julia/stdlib/v1.7/LinearAlgebra/src/hessenberg.jl\" target=\"_blank\">/usr/share/julia/stdlib/v1.7/LinearAlgebra/src/hessenberg.jl:107</a></li> <li> +(A::<b>LinearAlgebra.Diagonal</b>, B::<b>LinearAlgebra.Bidiagonal</b>) in LinearAlgebra at <a href=\"file:///build/julia/src/julia-1.7.2/usr/share/julia/stdlib/v1.7/LinearAlgebra/src/special.jl\" target=\"_blank\">/usr/share/julia/stdlib/v1.7/LinearAlgebra/src/special.jl:125</a></li> <li> +(A::<b>LinearAlgebra.Diagonal</b>, B::<b>LinearAlgebra.SymTridiagonal</b>) in LinearAlgebra at <a href=\"file:///build/julia/src/julia-1.7.2/usr/share/julia/stdlib/v1.7/LinearAlgebra/src/special.jl\" target=\"_blank\">/usr/share/julia/stdlib/v1.7/LinearAlgebra/src/special.jl:135</a></li> <li> +(A::<b>LinearAlgebra.Diagonal</b>, B::<b>LinearAlgebra.Tridiagonal</b>) in LinearAlgebra at <a href=\"file:///build/julia/src/julia-1.7.2/usr/share/julia/stdlib/v1.7/LinearAlgebra/src/special.jl\" target=\"_blank\">/usr/share/julia/stdlib/v1.7/LinearAlgebra/src/special.jl:163</a></li> <li> +(A::<b>LinearAlgebra.Diagonal{var\"#s859\", V} where {var\"#s859\"<:Number, V<:AbstractVector{var\"#s859\"}}</b>, B::<b>LinearAlgebra.UniformScaling</b>) in LinearAlgebra at <a href=\"file:///build/julia/src/julia-1.7.2/usr/share/julia/stdlib/v1.7/LinearAlgebra/src/special.jl\" target=\"_blank\">/usr/share/julia/stdlib/v1.7/LinearAlgebra/src/special.jl:241</a></li> <li> +(A::<b>LinearAlgebra.UpperTriangular</b>, B::<b>LinearAlgebra.UpperTriangular</b>) in LinearAlgebra at <a href=\"file:///build/julia/src/julia-1.7.2/usr/share/julia/stdlib/v1.7/LinearAlgebra/src/triangular.jl\" target=\"_blank\">/usr/share/julia/stdlib/v1.7/LinearAlgebra/src/triangular.jl:636</a></li> <li> +(A::<b>LinearAlgebra.UpperTriangular</b>, B::<b>LinearAlgebra.UnitUpperTriangular</b>) in LinearAlgebra at <a href=\"file:///build/julia/src/julia-1.7.2/usr/share/julia/stdlib/v1.7/LinearAlgebra/src/triangular.jl\" target=\"_blank\">/usr/share/julia/stdlib/v1.7/LinearAlgebra/src/triangular.jl:638</a></li> <li> +(x::<b>LinearAlgebra.UpperTriangular</b>, H::<b>LinearAlgebra.UpperHessenberg</b>) in LinearAlgebra at <a href=\"file:///build/julia/src/julia-1.7.2/usr/share/julia/stdlib/v1.7/LinearAlgebra/src/hessenberg.jl\" target=\"_blank\">/usr/share/julia/stdlib/v1.7/LinearAlgebra/src/hessenberg.jl:107</a></li> <li> +(A::<b>LinearAlgebra.UpperTriangular</b>, B::<b>LinearAlgebra.Bidiagonal</b>) in LinearAlgebra at <a href=\"file:///build/julia/src/julia-1.7.2/usr/share/julia/stdlib/v1.7/LinearAlgebra/src/special.jl\" target=\"_blank\">/usr/share/julia/stdlib/v1.7/LinearAlgebra/src/special.jl:86</a></li> <li> +(x::<b>Rational</b>, y::<b>Integer</b>) in Base at <a href=\"https://github.com/JuliaLang/julia/tree/bf534986350a991e4a1b29126de0342ffd76205e/base/rational.jl#L311\" target=\"_blank\">rational.jl:311</a></li> <li> +(x::<b>P</b>, y::<b>P</b>)<i> where P<:Dates.Period</i> in Dates at <a href=\"file:///build/julia/src/julia-1.7.2/usr/share/julia/stdlib/v1.7/Dates/src/periods.jl\" target=\"_blank\">/usr/share/julia/stdlib/v1.7/Dates/src/periods.jl:79</a></li> <li> +(x::<b>Dates.Period</b>, y::<b>Dates.Period</b>) in Dates at <a href=\"file:///build/julia/src/julia-1.7.2/usr/share/julia/stdlib/v1.7/Dates/src/periods.jl\" target=\"_blank\">/usr/share/julia/stdlib/v1.7/Dates/src/periods.jl:361</a></li> <li> +(y::<b>Dates.Period</b>, x::<b>Dates.CompoundPeriod</b>) in Dates at <a href=\"file:///build/julia/src/julia-1.7.2/usr/share/julia/stdlib/v1.7/Dates/src/periods.jl\" target=\"_blank\">/usr/share/julia/stdlib/v1.7/Dates/src/periods.jl:363</a></li> <li> +(y::<b>Dates.Period</b>, x::<b>Dates.TimeType</b>) in Dates at <a href=\"file:///build/julia/src/julia-1.7.2/usr/share/julia/stdlib/v1.7/Dates/src/arithmetic.jl\" target=\"_blank\">/usr/share/julia/stdlib/v1.7/Dates/src/arithmetic.jl:85</a></li> <li> +(x::<b>Dates.Period</b>, r::<b>AbstractRange{<:Dates.TimeType}</b>) in Dates at <a href=\"file:///build/julia/src/julia-1.7.2/usr/share/julia/stdlib/v1.7/Dates/src/ranges.jl\" target=\"_blank\">/usr/share/julia/stdlib/v1.7/Dates/src/ranges.jl:62</a></li> <li> +(y::<b>Union{Dates.CompoundPeriod, Dates.Period}</b>, x::<b>AbstractArray{<:Dates.TimeType}</b>) in Dates at <a href=\"file:///build/julia/src/julia-1.7.2/usr/share/julia/stdlib/v1.7/Dates/src/deprecated.jl\" target=\"_blank\">/usr/share/julia/stdlib/v1.7/Dates/src/deprecated.jl:14</a></li> <li> +(x::<b>Base.TwicePrecision</b>, y::<b>Number</b>) in Base at <a href=\"https://github.com/JuliaLang/julia/tree/bf534986350a991e4a1b29126de0342ffd76205e/base/twiceprecision.jl#L279\" target=\"_blank\">twiceprecision.jl:279</a></li> <li> +(x::<b>Base.TwicePrecision{T}</b>, y::<b>Base.TwicePrecision{T}</b>)<i> where T</i> in Base at <a href=\"https://github.com/JuliaLang/julia/tree/bf534986350a991e4a1b29126de0342ffd76205e/base/twiceprecision.jl#L285\" target=\"_blank\">twiceprecision.jl:285</a></li> <li> +(x::<b>Base.TwicePrecision</b>, y::<b>Base.TwicePrecision</b>) in Base at <a href=\"https://github.com/JuliaLang/julia/tree/bf534986350a991e4a1b29126de0342ffd76205e/base/twiceprecision.jl#L290\" target=\"_blank\">twiceprecision.jl:290</a></li> <li> +(A::<b>BitArray</b>, B::<b>BitArray</b>) in Base at <a href=\"https://github.com/JuliaLang/julia/tree/bf534986350a991e4a1b29126de0342ffd76205e/base/bitarray.jl#L1180\" target=\"_blank\">bitarray.jl:1180</a></li> <li> +(F::<b>LinearAlgebra.Hessenberg</b>, J::<b>LinearAlgebra.UniformScaling</b>) in LinearAlgebra at <a href=\"file:///build/julia/src/julia-1.7.2/usr/share/julia/stdlib/v1.7/LinearAlgebra/src/hessenberg.jl\" target=\"_blank\">/usr/share/julia/stdlib/v1.7/LinearAlgebra/src/hessenberg.jl:640</a></li> <li> +(A::<b>LinearAlgebra.Symmetric</b>, B::<b>LinearAlgebra.Symmetric</b>) in LinearAlgebra at <a href=\"file:///build/julia/src/julia-1.7.2/usr/share/julia/stdlib/v1.7/LinearAlgebra/src/symmetric.jl\" target=\"_blank\">/usr/share/julia/stdlib/v1.7/LinearAlgebra/src/symmetric.jl:469</a></li> <li> +(A::<b>LinearAlgebra.Symmetric</b>, B::<b>LinearAlgebra.SymTridiagonal</b>) in LinearAlgebra at <a href=\"file:///build/julia/src/julia-1.7.2/usr/share/julia/stdlib/v1.7/LinearAlgebra/src/symmetric.jl\" target=\"_blank\">/usr/share/julia/stdlib/v1.7/LinearAlgebra/src/symmetric.jl:486</a></li> <li> +(S::<b>LinearAlgebra.Symmetric</b>, D::<b>LinearAlgebra.Diagonal</b>) in LinearAlgebra at <a href=\"file:///build/julia/src/julia-1.7.2/usr/share/julia/stdlib/v1.7/LinearAlgebra/src/diagonal.jl\" target=\"_blank\">/usr/share/julia/stdlib/v1.7/LinearAlgebra/src/diagonal.jl:179</a></li> <li> +(A::<b>LinearAlgebra.Symmetric{<:Any, <:SparseArrays.AbstractSparseMatrix}</b>, B::<b>SparseArrays.AbstractSparseMatrix</b>) in SparseArrays at <a href=\"file:///build/julia/src/julia-1.7.2/usr/share/julia/stdlib/v1.7/SparseArrays/src/linalg.jl\" target=\"_blank\">/usr/share/julia/stdlib/v1.7/SparseArrays/src/linalg.jl:15</a></li> <li> +(A::<b>LinearAlgebra.Symmetric</b>, B::<b>SparseArrays.AbstractSparseMatrix</b>) in SparseArrays at <a href=\"file:///build/julia/src/julia-1.7.2/usr/share/julia/stdlib/v1.7/SparseArrays/src/linalg.jl\" target=\"_blank\">/usr/share/julia/stdlib/v1.7/SparseArrays/src/linalg.jl:18</a></li> <li> +(A::<b>LinearAlgebra.Symmetric{<:Real, <:SparseArrays.AbstractSparseMatrix}</b>, B::<b>LinearAlgebra.Hermitian{<:Any, <:SparseArrays.AbstractSparseMatrix}</b>) in SparseArrays at <a href=\"file:///build/julia/src/julia-1.7.2/usr/share/julia/stdlib/v1.7/SparseArrays/src/linalg.jl\" target=\"_blank\">/usr/share/julia/stdlib/v1.7/SparseArrays/src/linalg.jl:25</a></li> <li> +(A::<b>LinearAlgebra.Symmetric{var\"#s858\", S} where {var\"#s858\"<:Real, S<:(AbstractMatrix{<:var\"#s858\"})}</b>, B::<b>LinearAlgebra.Hermitian</b>) in LinearAlgebra at <a href=\"file:///build/julia/src/julia-1.7.2/usr/share/julia/stdlib/v1.7/LinearAlgebra/src/symmetric.jl\" target=\"_blank\">/usr/share/julia/stdlib/v1.7/LinearAlgebra/src/symmetric.jl:484</a></li> <li> +(A::<b>LinearAlgebra.Symmetric{<:Any, <:SparseArrays.AbstractSparseMatrix}</b>, B::<b>LinearAlgebra.Hermitian{<:Any, <:SparseArrays.AbstractSparseMatrix}</b>) in SparseArrays at <a href=\"file:///build/julia/src/julia-1.7.2/usr/share/julia/stdlib/v1.7/SparseArrays/src/linalg.jl\" target=\"_blank\">/usr/share/julia/stdlib/v1.7/SparseArrays/src/linalg.jl:23</a></li> <li> +(A::<b>LinearAlgebra.SymTridiagonal</b>, B::<b>LinearAlgebra.SymTridiagonal</b>) in LinearAlgebra at <a href=\"file:///build/julia/src/julia-1.7.2/usr/share/julia/stdlib/v1.7/LinearAlgebra/src/tridiag.jl\" target=\"_blank\">/usr/share/julia/stdlib/v1.7/LinearAlgebra/src/tridiag.jl:208</a></li> <li> +(A::<b>LinearAlgebra.SymTridiagonal</b>, B::<b>LinearAlgebra.Symmetric</b>) in LinearAlgebra at <a href=\"file:///build/julia/src/julia-1.7.2/usr/share/julia/stdlib/v1.7/LinearAlgebra/src/symmetric.jl\" target=\"_blank\">/usr/share/julia/stdlib/v1.7/LinearAlgebra/src/symmetric.jl:485</a></li> <li> +(A::<b>LinearAlgebra.SymTridiagonal{var\"#s857\", V} where {var\"#s857\"<:Real, V<:AbstractVector{var\"#s857\"}}</b>, B::<b>LinearAlgebra.Hermitian</b>) in LinearAlgebra at <a href=\"file:///build/julia/src/julia-1.7.2/usr/share/julia/stdlib/v1.7/LinearAlgebra/src/symmetric.jl\" target=\"_blank\">/usr/share/julia/stdlib/v1.7/LinearAlgebra/src/symmetric.jl:487</a></li> <li> +(x::<b>LinearAlgebra.SymTridiagonal</b>, H::<b>LinearAlgebra.UpperHessenberg</b>) in LinearAlgebra at <a href=\"file:///build/julia/src/julia-1.7.2/usr/share/julia/stdlib/v1.7/LinearAlgebra/src/hessenberg.jl\" target=\"_blank\">/usr/share/julia/stdlib/v1.7/LinearAlgebra/src/hessenberg.jl:107</a></li> <li> +(A::<b>LinearAlgebra.SymTridiagonal</b>, B::<b>LinearAlgebra.Diagonal</b>) in LinearAlgebra at <a href=\"file:///build/julia/src/julia-1.7.2/usr/share/julia/stdlib/v1.7/LinearAlgebra/src/special.jl\" target=\"_blank\">/usr/share/julia/stdlib/v1.7/LinearAlgebra/src/special.jl:145</a></li> <li> +(A::<b>LinearAlgebra.SymTridiagonal</b>, B::<b>LinearAlgebra.Tridiagonal</b>) in LinearAlgebra at <a href=\"file:///build/julia/src/julia-1.7.2/usr/share/julia/stdlib/v1.7/LinearAlgebra/src/special.jl\" target=\"_blank\">/usr/share/julia/stdlib/v1.7/LinearAlgebra/src/special.jl:159</a></li> <li> +(A::<b>LinearAlgebra.SymTridiagonal</b>, B::<b>LinearAlgebra.Bidiagonal</b>) in LinearAlgebra at <a href=\"file:///build/julia/src/julia-1.7.2/usr/share/julia/stdlib/v1.7/LinearAlgebra/src/special.jl\" target=\"_blank\">/usr/share/julia/stdlib/v1.7/LinearAlgebra/src/special.jl:213</a></li> <li> +(A::<b>LinearAlgebra.SymTridiagonal{var\"#s859\", V} where {var\"#s859\"<:Number, V<:AbstractVector{var\"#s859\"}}</b>, B::<b>LinearAlgebra.UniformScaling</b>) in LinearAlgebra at <a href=\"file:///build/julia/src/julia-1.7.2/usr/share/julia/stdlib/v1.7/LinearAlgebra/src/special.jl\" target=\"_blank\">/usr/share/julia/stdlib/v1.7/LinearAlgebra/src/special.jl:231</a></li> <li> +(A::<b>SparseArrays.AbstractSparseMatrixCSC</b>, B::<b>SparseArrays.AbstractSparseMatrixCSC</b>) in SparseArrays at <a href=\"file:///build/julia/src/julia-1.7.2/usr/share/julia/stdlib/v1.7/SparseArrays/src/sparsematrix.jl\" target=\"_blank\">/usr/share/julia/stdlib/v1.7/SparseArrays/src/sparsematrix.jl:1771</a></li> <li> +(A::<b>SparseArrays.AbstractSparseMatrixCSC</b>, B::<b>Array</b>) in SparseArrays at <a href=\"file:///build/julia/src/julia-1.7.2/usr/share/julia/stdlib/v1.7/SparseArrays/src/sparsematrix.jl\" target=\"_blank\">/usr/share/julia/stdlib/v1.7/SparseArrays/src/sparsematrix.jl:1774</a></li> <li> +(A::<b>SparseArrays.AbstractSparseMatrixCSC</b>, J::<b>LinearAlgebra.UniformScaling</b>) in SparseArrays at <a href=\"file:///build/julia/src/julia-1.7.2/usr/share/julia/stdlib/v1.7/SparseArrays/src/sparsematrix.jl\" target=\"_blank\">/usr/share/julia/stdlib/v1.7/SparseArrays/src/sparsematrix.jl:3754</a></li> <li> +(A::<b>LinearAlgebra.LowerTriangular</b>, B::<b>LinearAlgebra.LowerTriangular</b>) in LinearAlgebra at <a href=\"file:///build/julia/src/julia-1.7.2/usr/share/julia/stdlib/v1.7/LinearAlgebra/src/triangular.jl\" target=\"_blank\">/usr/share/julia/stdlib/v1.7/LinearAlgebra/src/triangular.jl:637</a></li> <li> +(A::<b>LinearAlgebra.LowerTriangular</b>, B::<b>LinearAlgebra.UnitLowerTriangular</b>) in LinearAlgebra at <a href=\"file:///build/julia/src/julia-1.7.2/usr/share/julia/stdlib/v1.7/LinearAlgebra/src/triangular.jl\" target=\"_blank\">/usr/share/julia/stdlib/v1.7/LinearAlgebra/src/triangular.jl:639</a></li> <li> +(A::<b>LinearAlgebra.LowerTriangular</b>, B::<b>LinearAlgebra.Bidiagonal</b>) in LinearAlgebra at <a href=\"file:///build/julia/src/julia-1.7.2/usr/share/julia/stdlib/v1.7/LinearAlgebra/src/special.jl\" target=\"_blank\">/usr/share/julia/stdlib/v1.7/LinearAlgebra/src/special.jl:86</a></li> <li> +(x::<b>Dates.Instant</b>) in Dates at <a href=\"file:///build/julia/src/julia-1.7.2/usr/share/julia/stdlib/v1.7/Dates/src/arithmetic.jl\" target=\"_blank\">/usr/share/julia/stdlib/v1.7/Dates/src/arithmetic.jl:4</a></li> <li> +(x::<b>Dates.AbstractTime</b>, y::<b>Missing</b>) in Dates at <a href=\"file:///build/julia/src/julia-1.7.2/usr/share/julia/stdlib/v1.7/Dates/src/arithmetic.jl\" target=\"_blank\">/usr/share/julia/stdlib/v1.7/Dates/src/arithmetic.jl:88</a></li> <li> +(r1::<b>OrdinalRange</b>, r2::<b>OrdinalRange</b>) in Base at <a href=\"https://github.com/JuliaLang/julia/tree/bf534986350a991e4a1b29126de0342ffd76205e/base/range.jl#L1347\" target=\"_blank\">range.jl:1347</a></li> <li> +(A::<b>LinearAlgebra.UpperHessenberg</b>, B::<b>LinearAlgebra.UpperHessenberg</b>) in LinearAlgebra at <a href=\"file:///build/julia/src/julia-1.7.2/usr/share/julia/stdlib/v1.7/LinearAlgebra/src/hessenberg.jl\" target=\"_blank\">/usr/share/julia/stdlib/v1.7/LinearAlgebra/src/hessenberg.jl:99</a></li> <li> +(H::<b>LinearAlgebra.UpperHessenberg</b>, x::<b>LinearAlgebra.UniformScaling</b>) in LinearAlgebra at <a href=\"file:///build/julia/src/julia-1.7.2/usr/share/julia/stdlib/v1.7/LinearAlgebra/src/hessenberg.jl\" target=\"_blank\">/usr/share/julia/stdlib/v1.7/LinearAlgebra/src/hessenberg.jl:106</a></li> <li> +(H::<b>LinearAlgebra.UpperHessenberg</b>, x::<b>LinearAlgebra.Diagonal</b>) in LinearAlgebra at <a href=\"file:///build/julia/src/julia-1.7.2/usr/share/julia/stdlib/v1.7/LinearAlgebra/src/hessenberg.jl\" target=\"_blank\">/usr/share/julia/stdlib/v1.7/LinearAlgebra/src/hessenberg.jl:106</a></li> <li> +(H::<b>LinearAlgebra.UpperHessenberg</b>, x::<b>LinearAlgebra.Bidiagonal</b>) in LinearAlgebra at <a href=\"file:///build/julia/src/julia-1.7.2/usr/share/julia/stdlib/v1.7/LinearAlgebra/src/hessenberg.jl\" target=\"_blank\">/usr/share/julia/stdlib/v1.7/LinearAlgebra/src/hessenberg.jl:106</a></li> <li> +(H::<b>LinearAlgebra.UpperHessenberg</b>, x::<b>LinearAlgebra.Tridiagonal</b>) in LinearAlgebra at <a href=\"file:///build/julia/src/julia-1.7.2/usr/share/julia/stdlib/v1.7/LinearAlgebra/src/hessenberg.jl\" target=\"_blank\">/usr/share/julia/stdlib/v1.7/LinearAlgebra/src/hessenberg.jl:106</a></li> <li> +(H::<b>LinearAlgebra.UpperHessenberg</b>, x::<b>LinearAlgebra.SymTridiagonal</b>) in LinearAlgebra at <a href=\"file:///build/julia/src/julia-1.7.2/usr/share/julia/stdlib/v1.7/LinearAlgebra/src/hessenberg.jl\" target=\"_blank\">/usr/share/julia/stdlib/v1.7/LinearAlgebra/src/hessenberg.jl:106</a></li> <li> +(H::<b>LinearAlgebra.UpperHessenberg</b>, x::<b>LinearAlgebra.UpperTriangular</b>) in LinearAlgebra at <a href=\"file:///build/julia/src/julia-1.7.2/usr/share/julia/stdlib/v1.7/LinearAlgebra/src/hessenberg.jl\" target=\"_blank\">/usr/share/julia/stdlib/v1.7/LinearAlgebra/src/hessenberg.jl:106</a></li> <li> +(H::<b>LinearAlgebra.UpperHessenberg</b>, x::<b>LinearAlgebra.UnitUpperTriangular</b>) in LinearAlgebra at <a href=\"file:///build/julia/src/julia-1.7.2/usr/share/julia/stdlib/v1.7/LinearAlgebra/src/hessenberg.jl\" target=\"_blank\">/usr/share/julia/stdlib/v1.7/LinearAlgebra/src/hessenberg.jl:106</a></li> <li> +(J::<b>LinearAlgebra.UniformScaling</b>) in LinearAlgebra at <a href=\"file:///build/julia/src/julia-1.7.2/usr/share/julia/stdlib/v1.7/LinearAlgebra/src/uniformscaling.jl\" target=\"_blank\">/usr/share/julia/stdlib/v1.7/LinearAlgebra/src/uniformscaling.jl:150</a></li> <li> +(J::<b>LinearAlgebra.UniformScaling</b>, x::<b>Number</b>) in LinearAlgebra at <a href=\"file:///build/julia/src/julia-1.7.2/usr/share/julia/stdlib/v1.7/LinearAlgebra/src/uniformscaling.jl\" target=\"_blank\">/usr/share/julia/stdlib/v1.7/LinearAlgebra/src/uniformscaling.jl:145</a></li> <li> +(J1::<b>LinearAlgebra.UniformScaling</b>, J2::<b>LinearAlgebra.UniformScaling</b>) in LinearAlgebra at <a href=\"file:///build/julia/src/julia-1.7.2/usr/share/julia/stdlib/v1.7/LinearAlgebra/src/uniformscaling.jl\" target=\"_blank\">/usr/share/julia/stdlib/v1.7/LinearAlgebra/src/uniformscaling.jl:151</a></li> <li> +(J::<b>LinearAlgebra.UniformScaling</b>, B::<b>BitMatrix</b>) in LinearAlgebra at <a href=\"file:///build/julia/src/julia-1.7.2/usr/share/julia/stdlib/v1.7/LinearAlgebra/src/uniformscaling.jl\" target=\"_blank\">/usr/share/julia/stdlib/v1.7/LinearAlgebra/src/uniformscaling.jl:153</a></li> <li> +(x::<b>LinearAlgebra.UniformScaling</b>, H::<b>LinearAlgebra.UpperHessenberg</b>) in LinearAlgebra at <a href=\"file:///build/julia/src/julia-1.7.2/usr/share/julia/stdlib/v1.7/LinearAlgebra/src/hessenberg.jl\" target=\"_blank\">/usr/share/julia/stdlib/v1.7/LinearAlgebra/src/hessenberg.jl:107</a></li> <li> +(J::<b>LinearAlgebra.UniformScaling</b>, F::<b>LinearAlgebra.Hessenberg</b>) in LinearAlgebra at <a href=\"file:///build/julia/src/julia-1.7.2/usr/share/julia/stdlib/v1.7/LinearAlgebra/src/hessenberg.jl\" target=\"_blank\">/usr/share/julia/stdlib/v1.7/LinearAlgebra/src/hessenberg.jl:641</a></li> <li> +(A::<b>LinearAlgebra.UniformScaling</b>, B::<b>LinearAlgebra.Tridiagonal{var\"#s859\", V} where {var\"#s859\"<:Number, V<:AbstractVector{var\"#s859\"}}</b>) in LinearAlgebra at <a href=\"file:///build/julia/src/julia-1.7.2/usr/share/julia/stdlib/v1.7/LinearAlgebra/src/special.jl\" target=\"_blank\">/usr/share/julia/stdlib/v1.7/LinearAlgebra/src/special.jl:245</a></li> <li> +(A::<b>LinearAlgebra.UniformScaling</b>, B::<b>LinearAlgebra.SymTridiagonal{var\"#s859\", V} where {var\"#s859\"<:Number, V<:AbstractVector{var\"#s859\"}}</b>) in LinearAlgebra at <a href=\"file:///build/julia/src/julia-1.7.2/usr/share/julia/stdlib/v1.7/LinearAlgebra/src/special.jl\" target=\"_blank\">/usr/share/julia/stdlib/v1.7/LinearAlgebra/src/special.jl:250</a></li> <li> +(A::<b>LinearAlgebra.UniformScaling</b>, B::<b>LinearAlgebra.Bidiagonal{var\"#s859\", V} where {var\"#s859\"<:Number, V<:AbstractVector{var\"#s859\"}}</b>) in LinearAlgebra at <a href=\"file:///build/julia/src/julia-1.7.2/usr/share/julia/stdlib/v1.7/LinearAlgebra/src/special.jl\" target=\"_blank\">/usr/share/julia/stdlib/v1.7/LinearAlgebra/src/special.jl:255</a></li> <li> +(A::<b>LinearAlgebra.UniformScaling</b>, B::<b>LinearAlgebra.Diagonal{var\"#s859\", V} where {var\"#s859\"<:Number, V<:AbstractVector{var\"#s859\"}}</b>) in LinearAlgebra at <a href=\"file:///build/julia/src/julia-1.7.2/usr/share/julia/stdlib/v1.7/LinearAlgebra/src/special.jl\" target=\"_blank\">/usr/share/julia/stdlib/v1.7/LinearAlgebra/src/special.jl:260</a></li> <li> +(J::<b>LinearAlgebra.UniformScaling</b>, A::<b>AbstractMatrix</b>) in LinearAlgebra at <a href=\"file:///build/julia/src/julia-1.7.2/usr/share/julia/stdlib/v1.7/LinearAlgebra/src/uniformscaling.jl\" target=\"_blank\">/usr/share/julia/stdlib/v1.7/LinearAlgebra/src/uniformscaling.jl:154</a></li> <li> +(x::<b>Ptr</b>, y::<b>Integer</b>) in Base at <a href=\"https://github.com/JuliaLang/julia/tree/bf534986350a991e4a1b29126de0342ffd76205e/base/pointer.jl#L159\" target=\"_blank\">pointer.jl:159</a></li> <li> +(r1::<b>StepRangeLen{T, R}</b>, r2::<b>StepRangeLen{T, R}</b>)<i> where {R<:Base.TwicePrecision, T}</i> in Base at <a href=\"https://github.com/JuliaLang/julia/tree/bf534986350a991e4a1b29126de0342ffd76205e/base/twiceprecision.jl#L613\" target=\"_blank\">twiceprecision.jl:613</a></li> <li> +(r1::<b>StepRangeLen{T, S}</b>, r2::<b>StepRangeLen{T, S}</b>)<i> where {T, S}</i> in Base at <a href=\"https://github.com/JuliaLang/julia/tree/bf534986350a991e4a1b29126de0342ffd76205e/base/range.jl#L1370\" target=\"_blank\">range.jl:1370</a></li> <li> +(A::<b>LinearAlgebra.UnitLowerTriangular</b>, B::<b>LinearAlgebra.LowerTriangular</b>) in LinearAlgebra at <a href=\"file:///build/julia/src/julia-1.7.2/usr/share/julia/stdlib/v1.7/LinearAlgebra/src/triangular.jl\" target=\"_blank\">/usr/share/julia/stdlib/v1.7/LinearAlgebra/src/triangular.jl:641</a></li> <li> +(A::<b>LinearAlgebra.UnitLowerTriangular</b>, B::<b>LinearAlgebra.UnitLowerTriangular</b>) in LinearAlgebra at <a href=\"file:///build/julia/src/julia-1.7.2/usr/share/julia/stdlib/v1.7/LinearAlgebra/src/triangular.jl\" target=\"_blank\">/usr/share/julia/stdlib/v1.7/LinearAlgebra/src/triangular.jl:643</a></li> <li> +(UL::<b>LinearAlgebra.UnitLowerTriangular</b>, J::<b>LinearAlgebra.UniformScaling</b>) in LinearAlgebra at <a href=\"file:///build/julia/src/julia-1.7.2/usr/share/julia/stdlib/v1.7/LinearAlgebra/src/uniformscaling.jl\" target=\"_blank\">/usr/share/julia/stdlib/v1.7/LinearAlgebra/src/uniformscaling.jl:182</a></li> <li> +(A::<b>LinearAlgebra.UnitLowerTriangular</b>, B::<b>LinearAlgebra.Bidiagonal</b>) in LinearAlgebra at <a href=\"file:///build/julia/src/julia-1.7.2/usr/share/julia/stdlib/v1.7/LinearAlgebra/src/special.jl\" target=\"_blank\">/usr/share/julia/stdlib/v1.7/LinearAlgebra/src/special.jl:86</a></li> <li> +(r1::<b>LinRange{T}</b>, r2::<b>LinRange{T}</b>)<i> where T</i> in Base at <a href=\"https://github.com/JuliaLang/julia/tree/bf534986350a991e4a1b29126de0342ffd76205e/base/range.jl#L1354\" target=\"_blank\">range.jl:1354</a></li> <li> +(r1::<b>Union{LinRange, OrdinalRange, StepRangeLen}</b>, r2::<b>Union{LinRange, OrdinalRange, StepRangeLen}</b>) in Base at <a href=\"https://github.com/JuliaLang/julia/tree/bf534986350a991e4a1b29126de0342ffd76205e/base/range.jl#L1363\" target=\"_blank\">range.jl:1363</a></li> <li> +(x::<b>T</b>, y::<b>Integer</b>)<i> where T<:AbstractChar</i> in Base at <a href=\"https://github.com/JuliaLang/julia/tree/bf534986350a991e4a1b29126de0342ffd76205e/base/char.jl#L237\" target=\"_blank\">char.jl:237</a></li> <li> +(A::<b>LinearAlgebra.Bidiagonal</b>, B::<b>LinearAlgebra.Bidiagonal</b>) in LinearAlgebra at <a href=\"file:///build/julia/src/julia-1.7.2/usr/share/julia/stdlib/v1.7/LinearAlgebra/src/bidiag.jl\" target=\"_blank\">/usr/share/julia/stdlib/v1.7/LinearAlgebra/src/bidiag.jl:354</a></li> <li> +(x::<b>LinearAlgebra.Bidiagonal</b>, H::<b>LinearAlgebra.UpperHessenberg</b>) in LinearAlgebra at <a href=\"file:///build/julia/src/julia-1.7.2/usr/share/julia/stdlib/v1.7/LinearAlgebra/src/hessenberg.jl\" target=\"_blank\">/usr/share/julia/stdlib/v1.7/LinearAlgebra/src/hessenberg.jl:107</a></li> <li> +(A::<b>LinearAlgebra.Bidiagonal</b>, B::<b>LinearAlgebra.UpperTriangular</b>) in LinearAlgebra at <a href=\"file:///build/julia/src/julia-1.7.2/usr/share/julia/stdlib/v1.7/LinearAlgebra/src/special.jl\" target=\"_blank\">/usr/share/julia/stdlib/v1.7/LinearAlgebra/src/special.jl:94</a></li> <li> +(A::<b>LinearAlgebra.Bidiagonal</b>, B::<b>LinearAlgebra.UnitUpperTriangular</b>) in LinearAlgebra at <a href=\"file:///build/julia/src/julia-1.7.2/usr/share/julia/stdlib/v1.7/LinearAlgebra/src/special.jl\" target=\"_blank\">/usr/share/julia/stdlib/v1.7/LinearAlgebra/src/special.jl:94</a></li> <li> +(A::<b>LinearAlgebra.Bidiagonal</b>, B::<b>LinearAlgebra.LowerTriangular</b>) in LinearAlgebra at <a href=\"file:///build/julia/src/julia-1.7.2/usr/share/julia/stdlib/v1.7/LinearAlgebra/src/special.jl\" target=\"_blank\">/usr/share/julia/stdlib/v1.7/LinearAlgebra/src/special.jl:94</a></li> <li> +(A::<b>LinearAlgebra.Bidiagonal</b>, B::<b>LinearAlgebra.UnitLowerTriangular</b>) in LinearAlgebra at <a href=\"file:///build/julia/src/julia-1.7.2/usr/share/julia/stdlib/v1.7/LinearAlgebra/src/special.jl\" target=\"_blank\">/usr/share/julia/stdlib/v1.7/LinearAlgebra/src/special.jl:94</a></li> <li> +(A::<b>LinearAlgebra.Bidiagonal</b>, B::<b>LinearAlgebra.Diagonal</b>) in LinearAlgebra at <a href=\"file:///build/julia/src/julia-1.7.2/usr/share/julia/stdlib/v1.7/LinearAlgebra/src/special.jl\" target=\"_blank\">/usr/share/julia/stdlib/v1.7/LinearAlgebra/src/special.jl:115</a></li> <li> +(A::<b>LinearAlgebra.Bidiagonal</b>, B::<b>LinearAlgebra.Tridiagonal</b>) in LinearAlgebra at <a href=\"file:///build/julia/src/julia-1.7.2/usr/share/julia/stdlib/v1.7/LinearAlgebra/src/special.jl\" target=\"_blank\">/usr/share/julia/stdlib/v1.7/LinearAlgebra/src/special.jl:183</a></li> <li> +(A::<b>LinearAlgebra.Bidiagonal</b>, B::<b>LinearAlgebra.SymTridiagonal</b>) in LinearAlgebra at <a href=\"file:///build/julia/src/julia-1.7.2/usr/share/julia/stdlib/v1.7/LinearAlgebra/src/special.jl\" target=\"_blank\">/usr/share/julia/stdlib/v1.7/LinearAlgebra/src/special.jl:203</a></li> <li> +(A::<b>LinearAlgebra.Bidiagonal{var\"#s859\", V} where {var\"#s859\"<:Number, V<:AbstractVector{var\"#s859\"}}</b>, B::<b>LinearAlgebra.UniformScaling</b>) in LinearAlgebra at <a href=\"file:///build/julia/src/julia-1.7.2/usr/share/julia/stdlib/v1.7/LinearAlgebra/src/special.jl\" target=\"_blank\">/usr/share/julia/stdlib/v1.7/LinearAlgebra/src/special.jl:236</a></li> <li> +(A::<b>LinearAlgebra.AbstractTriangular</b>, B::<b>LinearAlgebra.AbstractTriangular</b>) in LinearAlgebra at <a href=\"file:///build/julia/src/julia-1.7.2/usr/share/julia/stdlib/v1.7/LinearAlgebra/src/triangular.jl\" target=\"_blank\">/usr/share/julia/stdlib/v1.7/LinearAlgebra/src/triangular.jl:644</a></li> <li> +(z::<b>Complex</b>, w::<b>Complex</b>) in Base at <a href=\"https://github.com/JuliaLang/julia/tree/bf534986350a991e4a1b29126de0342ffd76205e/base/complex.jl#L288\" target=\"_blank\">complex.jl:288</a></li> <li> +(x::<b>SparseArrays.AbstractSparseVector</b>, y::<b>SparseArrays.AbstractSparseVector</b>) in SparseArrays at <a href=\"file:///build/julia/src/julia-1.7.2/usr/share/julia/stdlib/v1.7/SparseArrays/src/sparsevector.jl\" target=\"_blank\">/usr/share/julia/stdlib/v1.7/SparseArrays/src/sparsevector.jl:1355</a></li> <li> +(A::<b>SparseArrays.AbstractSparseMatrix</b>, B::<b>LinearAlgebra.Hermitian{<:Any, <:SparseArrays.AbstractSparseMatrix}</b>) in SparseArrays at <a href=\"file:///build/julia/src/julia-1.7.2/usr/share/julia/stdlib/v1.7/SparseArrays/src/linalg.jl\" target=\"_blank\">/usr/share/julia/stdlib/v1.7/SparseArrays/src/linalg.jl:14</a></li> <li> +(A::<b>SparseArrays.AbstractSparseMatrix</b>, B::<b>LinearAlgebra.Hermitian</b>) in SparseArrays at <a href=\"file:///build/julia/src/julia-1.7.2/usr/share/julia/stdlib/v1.7/SparseArrays/src/linalg.jl\" target=\"_blank\">/usr/share/julia/stdlib/v1.7/SparseArrays/src/linalg.jl:17</a></li> <li> +(A::<b>SparseArrays.AbstractSparseMatrix</b>, B::<b>LinearAlgebra.Symmetric{<:Any, <:SparseArrays.AbstractSparseMatrix}</b>) in SparseArrays at <a href=\"file:///build/julia/src/julia-1.7.2/usr/share/julia/stdlib/v1.7/SparseArrays/src/linalg.jl\" target=\"_blank\">/usr/share/julia/stdlib/v1.7/SparseArrays/src/linalg.jl:14</a></li> <li> +(A::<b>SparseArrays.AbstractSparseMatrix</b>, B::<b>LinearAlgebra.Symmetric</b>) in SparseArrays at <a href=\"file:///build/julia/src/julia-1.7.2/usr/share/julia/stdlib/v1.7/SparseArrays/src/linalg.jl\" target=\"_blank\">/usr/share/julia/stdlib/v1.7/SparseArrays/src/linalg.jl:17</a></li> <li> +(A::<b>Array</b>, Bs::<b>Array...</b>) in Base at <a href=\"https://github.com/JuliaLang/julia/tree/bf534986350a991e4a1b29126de0342ffd76205e/base/arraymath.jl#L43\" target=\"_blank\">arraymath.jl:43</a></li> <li> +(X::<b>StridedArray{<:Union{Dates.CompoundPeriod, Dates.Period}}</b>, Y::<b>StridedArray{<:Union{Dates.CompoundPeriod, Dates.Period}}</b>) in Dates at <a href=\"file:///build/julia/src/julia-1.7.2/usr/share/julia/stdlib/v1.7/Dates/src/deprecated.jl\" target=\"_blank\">/usr/share/julia/stdlib/v1.7/Dates/src/deprecated.jl:62</a></li> <li> +(A::<b>Array</b>, B::<b>SparseArrays.AbstractSparseMatrixCSC</b>) in SparseArrays at <a href=\"file:///build/julia/src/julia-1.7.2/usr/share/julia/stdlib/v1.7/SparseArrays/src/sparsematrix.jl\" target=\"_blank\">/usr/share/julia/stdlib/v1.7/SparseArrays/src/sparsematrix.jl:1775</a></li> <li> +(x::<b>StridedArray{<:Union{Dates.CompoundPeriod, Dates.Period}}</b>) in Dates at <a href=\"file:///build/julia/src/julia-1.7.2/usr/share/julia/stdlib/v1.7/Dates/src/deprecated.jl\" target=\"_blank\">/usr/share/julia/stdlib/v1.7/Dates/src/deprecated.jl:55</a></li> <li> +(x::<b>StridedArray{<:Union{Dates.CompoundPeriod, Dates.Period}}</b>, y::<b>Dates.TimeType</b>) in Dates at <a href=\"file:///build/julia/src/julia-1.7.2/usr/share/julia/stdlib/v1.7/Dates/src/deprecated.jl\" target=\"_blank\">/usr/share/julia/stdlib/v1.7/Dates/src/deprecated.jl:10</a></li> <li> +(A::<b>AbstractArray</b>, B::<b>AbstractArray</b>) in Base at <a href=\"https://github.com/JuliaLang/julia/tree/bf534986350a991e4a1b29126de0342ffd76205e/base/arraymath.jl#L37\" target=\"_blank\">arraymath.jl:37</a></li> <li> +(x::<b>BigFloat</b>, c::<b>Union{UInt16, UInt32, UInt64, UInt8}</b>) in Base.MPFR at <a href=\"https://github.com/JuliaLang/julia/tree/bf534986350a991e4a1b29126de0342ffd76205e/base/mpfr.jl#L385\" target=\"_blank\">mpfr.jl:385</a></li> <li> +(x::<b>BigFloat</b>, c::<b>Union{Int16, Int32, Int64, Int8}</b>) in Base.MPFR at <a href=\"https://github.com/JuliaLang/julia/tree/bf534986350a991e4a1b29126de0342ffd76205e/base/mpfr.jl#L393\" target=\"_blank\">mpfr.jl:393</a></li> <li> +(x::<b>BigFloat</b>, c::<b>Union{Float16, Float32, Float64}</b>) in Base.MPFR at <a href=\"https://github.com/JuliaLang/julia/tree/bf534986350a991e4a1b29126de0342ffd76205e/base/mpfr.jl#L401\" target=\"_blank\">mpfr.jl:401</a></li> <li> +(x::<b>BigFloat</b>, y::<b>BigFloat</b>) in Base.MPFR at <a href=\"https://github.com/JuliaLang/julia/tree/bf534986350a991e4a1b29126de0342ffd76205e/base/mpfr.jl#L378\" target=\"_blank\">mpfr.jl:378</a></li> <li> +(x::<b>BigFloat</b>, c::<b>BigInt</b>) in Base.MPFR at <a href=\"https://github.com/JuliaLang/julia/tree/bf534986350a991e4a1b29126de0342ffd76205e/base/mpfr.jl#L409\" target=\"_blank\">mpfr.jl:409</a></li> <li> +(a::<b>BigFloat</b>, b::<b>BigFloat</b>, c::<b>BigFloat</b>) in Base.MPFR at <a href=\"https://github.com/JuliaLang/julia/tree/bf534986350a991e4a1b29126de0342ffd76205e/base/mpfr.jl#L550\" target=\"_blank\">mpfr.jl:550</a></li> <li> +(a::<b>BigFloat</b>, b::<b>BigFloat</b>, c::<b>BigFloat</b>, d::<b>BigFloat</b>) in Base.MPFR at <a href=\"https://github.com/JuliaLang/julia/tree/bf534986350a991e4a1b29126de0342ffd76205e/base/mpfr.jl#L556\" target=\"_blank\">mpfr.jl:556</a></li> <li> +(a::<b>BigFloat</b>, b::<b>BigFloat</b>, c::<b>BigFloat</b>, d::<b>BigFloat</b>, e::<b>BigFloat</b>) in Base.MPFR at <a href=\"https://github.com/JuliaLang/julia/tree/bf534986350a991e4a1b29126de0342ffd76205e/base/mpfr.jl#L563\" target=\"_blank\">mpfr.jl:563</a></li> <li> +(::<b>Missing</b>) in Base at <a href=\"https://github.com/JuliaLang/julia/tree/bf534986350a991e4a1b29126de0342ffd76205e/base/missing.jl#L101\" target=\"_blank\">missing.jl:101</a></li> <li> +(::<b>Missing</b>, ::<b>Number</b>) in Base at <a href=\"https://github.com/JuliaLang/julia/tree/bf534986350a991e4a1b29126de0342ffd76205e/base/missing.jl#L123\" target=\"_blank\">missing.jl:123</a></li> <li> +(x::<b>Missing</b>, y::<b>Dates.AbstractTime</b>) in Dates at <a href=\"file:///build/julia/src/julia-1.7.2/usr/share/julia/stdlib/v1.7/Dates/src/arithmetic.jl\" target=\"_blank\">/usr/share/julia/stdlib/v1.7/Dates/src/arithmetic.jl:89</a></li> <li> +(::<b>Missing</b>, ::<b>Missing</b>) in Base at <a href=\"https://github.com/JuliaLang/julia/tree/bf534986350a991e4a1b29126de0342ffd76205e/base/missing.jl#L122\" target=\"_blank\">missing.jl:122</a></li> <li> +(x::<b>Rational{BigInt}</b>, y::<b>Rational{BigInt}</b>) in Base.GMP.MPQ at <a href=\"https://github.com/JuliaLang/julia/tree/bf534986350a991e4a1b29126de0342ffd76205e/base/gmp.jl#L885\" target=\"_blank\">gmp.jl:885</a></li> <li> +(x::<b>Rational</b>) in Base at <a href=\"https://github.com/JuliaLang/julia/tree/bf534986350a991e4a1b29126de0342ffd76205e/base/rational.jl#L268\" target=\"_blank\">rational.jl:268</a></li> <li> +(x::<b>Rational</b>, y::<b>Rational</b>) in Base at <a href=\"https://github.com/JuliaLang/julia/tree/bf534986350a991e4a1b29126de0342ffd76205e/base/rational.jl#L282\" target=\"_blank\">rational.jl:282</a></li> <li> +(x::<b>Bool</b>) in Base at <a href=\"https://github.com/JuliaLang/julia/tree/bf534986350a991e4a1b29126de0342ffd76205e/base/bool.jl#L159\" target=\"_blank\">bool.jl:159</a></li> <li> +(x::<b>Integer</b>, y::<b>Ptr</b>) in Base at <a href=\"https://github.com/JuliaLang/julia/tree/bf534986350a991e4a1b29126de0342ffd76205e/base/pointer.jl#L161\" target=\"_blank\">pointer.jl:161</a></li> <li> +(y::<b>Integer</b>, x::<b>Rational</b>) in Base at <a href=\"https://github.com/JuliaLang/julia/tree/bf534986350a991e4a1b29126de0342ffd76205e/base/rational.jl#L318\" target=\"_blank\">rational.jl:318</a></li> <li> +(x::<b>Integer</b>, y::<b>AbstractChar</b>) in Base at <a href=\"https://github.com/JuliaLang/julia/tree/bf534986350a991e4a1b29126de0342ffd76205e/base/char.jl#L247\" target=\"_blank\">char.jl:247</a></li> <li> +(x::<b>Bool</b>, y::<b>T</b>)<i> where T<:AbstractFloat</i> in Base at <a href=\"https://github.com/JuliaLang/julia/tree/bf534986350a991e4a1b29126de0342ffd76205e/base/bool.jl#L169\" target=\"_blank\">bool.jl:169</a></li> <li> +(x::<b>Bool</b>, y::<b>Bool</b>) in Base at <a href=\"https://github.com/JuliaLang/julia/tree/bf534986350a991e4a1b29126de0342ffd76205e/base/bool.jl#L162\" target=\"_blank\">bool.jl:162</a></li> <li> +(x::<b>Bool</b>, z::<b>Complex{Bool}</b>) in Base at <a href=\"https://github.com/JuliaLang/julia/tree/bf534986350a991e4a1b29126de0342ffd76205e/base/complex.jl#L299\" target=\"_blank\">complex.jl:299</a></li> <li> +(x::<b>Real</b>, z::<b>Complex{Bool}</b>) in Base at <a href=\"https://github.com/JuliaLang/julia/tree/bf534986350a991e4a1b29126de0342ffd76205e/base/complex.jl#L313\" target=\"_blank\">complex.jl:313</a></li> <li> +(x::<b>Bool</b>, z::<b>Complex</b>) in Base at <a href=\"https://github.com/JuliaLang/julia/tree/bf534986350a991e4a1b29126de0342ffd76205e/base/complex.jl#L306\" target=\"_blank\">complex.jl:306</a></li> <li> +(x::<b>Real</b>, z::<b>Complex</b>) in Base at <a href=\"https://github.com/JuliaLang/julia/tree/bf534986350a991e4a1b29126de0342ffd76205e/base/complex.jl#L325\" target=\"_blank\">complex.jl:325</a></li> <li> +(dt::<b>Dates.Date</b>, t::<b>Dates.Time</b>) in Dates at <a href=\"file:///build/julia/src/julia-1.7.2/usr/share/julia/stdlib/v1.7/Dates/src/arithmetic.jl\" target=\"_blank\">/usr/share/julia/stdlib/v1.7/Dates/src/arithmetic.jl:19</a></li> <li> +(dt::<b>Dates.Date</b>, y::<b>Dates.Year</b>) in Dates at <a href=\"file:///build/julia/src/julia-1.7.2/usr/share/julia/stdlib/v1.7/Dates/src/arithmetic.jl\" target=\"_blank\">/usr/share/julia/stdlib/v1.7/Dates/src/arithmetic.jl:27</a></li> <li> +(dt::<b>Dates.Date</b>, z::<b>Dates.Month</b>) in Dates at <a href=\"file:///build/julia/src/julia-1.7.2/usr/share/julia/stdlib/v1.7/Dates/src/arithmetic.jl\" target=\"_blank\">/usr/share/julia/stdlib/v1.7/Dates/src/arithmetic.jl:54</a></li> <li> +(x::<b>Dates.Date</b>, y::<b>Dates.Quarter</b>) in Dates at <a href=\"file:///build/julia/src/julia-1.7.2/usr/share/julia/stdlib/v1.7/Dates/src/arithmetic.jl\" target=\"_blank\">/usr/share/julia/stdlib/v1.7/Dates/src/arithmetic.jl:73</a></li> <li> +(x::<b>Dates.Date</b>, y::<b>Dates.Week</b>) in Dates at <a href=\"file:///build/julia/src/julia-1.7.2/usr/share/julia/stdlib/v1.7/Dates/src/arithmetic.jl\" target=\"_blank\">/usr/share/julia/stdlib/v1.7/Dates/src/arithmetic.jl:77</a></li> <li> +(x::<b>Dates.Date</b>, y::<b>Dates.Day</b>) in Dates at <a href=\"file:///build/julia/src/julia-1.7.2/usr/share/julia/stdlib/v1.7/Dates/src/arithmetic.jl\" target=\"_blank\">/usr/share/julia/stdlib/v1.7/Dates/src/arithmetic.jl:79</a></li> <li> +(x::<b>BigInt</b>, c::<b>Union{UInt16, UInt32, UInt64, UInt8}</b>) in Base.GMP at <a href=\"https://github.com/JuliaLang/julia/tree/bf534986350a991e4a1b29126de0342ffd76205e/base/gmp.jl#L528\" target=\"_blank\">gmp.jl:528</a></li> <li> +(x::<b>BigInt</b>, c::<b>Union{Int16, Int32, Int64, Int8}</b>) in Base.GMP at <a href=\"https://github.com/JuliaLang/julia/tree/bf534986350a991e4a1b29126de0342ffd76205e/base/gmp.jl#L534\" target=\"_blank\">gmp.jl:534</a></li> <li> +(x::<b>BigInt</b>, y::<b>BigInt</b>) in Base.GMP at <a href=\"https://github.com/JuliaLang/julia/tree/bf534986350a991e4a1b29126de0342ffd76205e/base/gmp.jl#L480\" target=\"_blank\">gmp.jl:480</a></li> <li> +(a::<b>BigInt</b>, b::<b>BigInt</b>, c::<b>BigInt</b>) in Base.GMP at <a href=\"https://github.com/JuliaLang/julia/tree/bf534986350a991e4a1b29126de0342ffd76205e/base/gmp.jl#L520\" target=\"_blank\">gmp.jl:520</a></li> <li> +(a::<b>BigInt</b>, b::<b>BigInt</b>, c::<b>BigInt</b>, d::<b>BigInt</b>) in Base.GMP at <a href=\"https://github.com/JuliaLang/julia/tree/bf534986350a991e4a1b29126de0342ffd76205e/base/gmp.jl#L521\" target=\"_blank\">gmp.jl:521</a></li> <li> +(a::<b>BigInt</b>, b::<b>BigInt</b>, c::<b>BigInt</b>, d::<b>BigInt</b>, e::<b>BigInt</b>) in Base.GMP at <a href=\"https://github.com/JuliaLang/julia/tree/bf534986350a991e4a1b29126de0342ffd76205e/base/gmp.jl#L522\" target=\"_blank\">gmp.jl:522</a></li> <li> +(x::<b>BigInt</b>, y::<b>BigInt</b>, rest::<b>BigInt...</b>) in Base.GMP at <a href=\"https://github.com/JuliaLang/julia/tree/bf534986350a991e4a1b29126de0342ffd76205e/base/gmp.jl#L635\" target=\"_blank\">gmp.jl:635</a></li> <li> +(a::<b>Integer</b>, b::<b>Integer</b>) in Base at <a href=\"https://github.com/JuliaLang/julia/tree/bf534986350a991e4a1b29126de0342ffd76205e/base/int.jl#L978\" target=\"_blank\">int.jl:978</a></li> <li> +(c::<b>BigInt</b>, x::<b>BigFloat</b>) in Base.MPFR at <a href=\"https://github.com/JuliaLang/julia/tree/bf534986350a991e4a1b29126de0342ffd76205e/base/mpfr.jl#L414\" target=\"_blank\">mpfr.jl:414</a></li> <li> +(x::<b>Float32</b>, y::<b>Float32</b>) in Base at <a href=\"https://github.com/JuliaLang/julia/tree/bf534986350a991e4a1b29126de0342ffd76205e/base/float.jl#L398\" target=\"_blank\">float.jl:398</a></li> <li> +(z::<b>Complex{Bool}</b>, x::<b>Bool</b>) in Base at <a href=\"https://github.com/JuliaLang/julia/tree/bf534986350a991e4a1b29126de0342ffd76205e/base/complex.jl#L300\" target=\"_blank\">complex.jl:300</a></li> <li> +(z::<b>Complex</b>, x::<b>Bool</b>) in Base at <a href=\"https://github.com/JuliaLang/julia/tree/bf534986350a991e4a1b29126de0342ffd76205e/base/complex.jl#L307\" target=\"_blank\">complex.jl:307</a></li> <li> +(z::<b>Complex{Bool}</b>, x::<b>Real</b>) in Base at <a href=\"https://github.com/JuliaLang/julia/tree/bf534986350a991e4a1b29126de0342ffd76205e/base/complex.jl#L314\" target=\"_blank\">complex.jl:314</a></li> <li> +(z::<b>Complex</b>) in Base at <a href=\"https://github.com/JuliaLang/julia/tree/bf534986350a991e4a1b29126de0342ffd76205e/base/complex.jl#L286\" target=\"_blank\">complex.jl:286</a></li> <li> +(x::<b>Number</b>, y::<b>Base.TwicePrecision</b>) in Base at <a href=\"https://github.com/JuliaLang/julia/tree/bf534986350a991e4a1b29126de0342ffd76205e/base/twiceprecision.jl#L283\" target=\"_blank\">twiceprecision.jl:283</a></li> <li> +(::<b>Number</b>, ::<b>Missing</b>) in Base at <a href=\"https://github.com/JuliaLang/julia/tree/bf534986350a991e4a1b29126de0342ffd76205e/base/missing.jl#L124\" target=\"_blank\">missing.jl:124</a></li> <li> +(x::<b>Number</b>, J::<b>LinearAlgebra.UniformScaling</b>) in LinearAlgebra at <a href=\"file:///build/julia/src/julia-1.7.2/usr/share/julia/stdlib/v1.7/LinearAlgebra/src/uniformscaling.jl\" target=\"_blank\">/usr/share/julia/stdlib/v1.7/LinearAlgebra/src/uniformscaling.jl:146</a></li> <li> +(z::<b>Complex</b>, x::<b>Real</b>) in Base at <a href=\"https://github.com/JuliaLang/julia/tree/bf534986350a991e4a1b29126de0342ffd76205e/base/complex.jl#L326\" target=\"_blank\">complex.jl:326</a></li> <li> +(level::<b>Base.CoreLogging.LogLevel</b>, inc::<b>Integer</b>) in Base.CoreLogging at <a href=\"https://github.com/JuliaLang/julia/tree/bf534986350a991e4a1b29126de0342ffd76205e/base/logging.jl#L131\" target=\"_blank\">logging.jl:131</a></li> <li> +(x::<b>Float16</b>, y::<b>Float16</b>) in Base at <a href=\"https://github.com/JuliaLang/julia/tree/bf534986350a991e4a1b29126de0342ffd76205e/base/float.jl#L397\" target=\"_blank\">float.jl:397</a></li> <li> +(dt::<b>Dates.DateTime</b>, y::<b>Dates.Year</b>) in Dates at <a href=\"file:///build/julia/src/julia-1.7.2/usr/share/julia/stdlib/v1.7/Dates/src/arithmetic.jl\" target=\"_blank\">/usr/share/julia/stdlib/v1.7/Dates/src/arithmetic.jl:23</a></li> <li> +(dt::<b>Dates.DateTime</b>, z::<b>Dates.Month</b>) in Dates at <a href=\"file:///build/julia/src/julia-1.7.2/usr/share/julia/stdlib/v1.7/Dates/src/arithmetic.jl\" target=\"_blank\">/usr/share/julia/stdlib/v1.7/Dates/src/arithmetic.jl:47</a></li> <li> +(x::<b>Dates.DateTime</b>, y::<b>Dates.Quarter</b>) in Dates at <a href=\"file:///build/julia/src/julia-1.7.2/usr/share/julia/stdlib/v1.7/Dates/src/arithmetic.jl\" target=\"_blank\">/usr/share/julia/stdlib/v1.7/Dates/src/arithmetic.jl:75</a></li> <li> +(x::<b>Dates.DateTime</b>, y::<b>Dates.Period</b>) in Dates at <a href=\"file:///build/julia/src/julia-1.7.2/usr/share/julia/stdlib/v1.7/Dates/src/arithmetic.jl\" target=\"_blank\">/usr/share/julia/stdlib/v1.7/Dates/src/arithmetic.jl:81</a></li> <li> +(x::<b>Dates.CompoundPeriod</b>, y::<b>Dates.Period</b>) in Dates at <a href=\"file:///build/julia/src/julia-1.7.2/usr/share/julia/stdlib/v1.7/Dates/src/periods.jl\" target=\"_blank\">/usr/share/julia/stdlib/v1.7/Dates/src/periods.jl:362</a></li> <li> +(x::<b>Dates.CompoundPeriod</b>, y::<b>Dates.TimeType</b>) in Dates at <a href=\"file:///build/julia/src/julia-1.7.2/usr/share/julia/stdlib/v1.7/Dates/src/periods.jl\" target=\"_blank\">/usr/share/julia/stdlib/v1.7/Dates/src/periods.jl:392</a></li> <li> +(x::<b>Dates.CompoundPeriod</b>, y::<b>Dates.CompoundPeriod</b>) in Dates at <a href=\"file:///build/julia/src/julia-1.7.2/usr/share/julia/stdlib/v1.7/Dates/src/periods.jl\" target=\"_blank\">/usr/share/julia/stdlib/v1.7/Dates/src/periods.jl:364</a></li> <li> +(a::<b>Pkg.Resolve.VersionWeight</b>, b::<b>Pkg.Resolve.VersionWeight</b>) in Pkg.Resolve at <a href=\"file:///build/julia/src/julia-1.7.2/usr/share/julia/stdlib/v1.7/Pkg/src/Resolve/versionweights.jl\" target=\"_blank\">/usr/share/julia/stdlib/v1.7/Pkg/src/Resolve/versionweights.jl:22</a></li> <li> +(x::<b>Dates.Time</b>, y::<b>Dates.TimePeriod</b>) in Dates at <a href=\"file:///build/julia/src/julia-1.7.2/usr/share/julia/stdlib/v1.7/Dates/src/arithmetic.jl\" target=\"_blank\">/usr/share/julia/stdlib/v1.7/Dates/src/arithmetic.jl:83</a></li> <li> +(t::<b>Dates.Time</b>, dt::<b>Dates.Date</b>) in Dates at <a href=\"file:///build/julia/src/julia-1.7.2/usr/share/julia/stdlib/v1.7/Dates/src/arithmetic.jl\" target=\"_blank\">/usr/share/julia/stdlib/v1.7/Dates/src/arithmetic.jl:20</a></li> <li> +(x::<b>Dates.TimeType</b>) in Dates at <a href=\"file:///build/julia/src/julia-1.7.2/usr/share/julia/stdlib/v1.7/Dates/src/arithmetic.jl\" target=\"_blank\">/usr/share/julia/stdlib/v1.7/Dates/src/arithmetic.jl:8</a></li> <li> +(a::<b>Dates.TimeType</b>, b::<b>Dates.Period</b>, c::<b>Dates.Period</b>) in Dates at <a href=\"file:///build/julia/src/julia-1.7.2/usr/share/julia/stdlib/v1.7/Dates/src/periods.jl\" target=\"_blank\">/usr/share/julia/stdlib/v1.7/Dates/src/periods.jl:383</a></li> <li> +(a::<b>Dates.TimeType</b>, b::<b>Dates.Period</b>, c::<b>Dates.Period</b>, d::<b>Dates.Period...</b>) in Dates at <a href=\"file:///build/julia/src/julia-1.7.2/usr/share/julia/stdlib/v1.7/Dates/src/periods.jl\" target=\"_blank\">/usr/share/julia/stdlib/v1.7/Dates/src/periods.jl:384</a></li> <li> +(x::<b>Dates.TimeType</b>, y::<b>Dates.CompoundPeriod</b>) in Dates at <a href=\"file:///build/julia/src/julia-1.7.2/usr/share/julia/stdlib/v1.7/Dates/src/periods.jl\" target=\"_blank\">/usr/share/julia/stdlib/v1.7/Dates/src/periods.jl:386</a></li> <li> +(x::<b>Float64</b>, y::<b>Float64</b>) in Base at <a href=\"https://github.com/JuliaLang/julia/tree/bf534986350a991e4a1b29126de0342ffd76205e/base/float.jl#L399\" target=\"_blank\">float.jl:399</a></li> <li> +(x::<b>Number</b>) in Base at <a href=\"https://github.com/JuliaLang/julia/tree/bf534986350a991e4a1b29126de0342ffd76205e/base/operators.jl#L592\" target=\"_blank\">operators.jl:592</a></li> <li> +(x::<b>T</b>, y::<b>T</b>)<i> where T<:Number</i> in Base at <a href=\"https://github.com/JuliaLang/julia/tree/bf534986350a991e4a1b29126de0342ffd76205e/base/promotion.jl#L454\" target=\"_blank\">promotion.jl:454</a></li> <li> +(x::<b>Number</b>, y::<b>Number</b>) in Base at <a href=\"https://github.com/JuliaLang/julia/tree/bf534986350a991e4a1b29126de0342ffd76205e/base/promotion.jl#L379\" target=\"_blank\">promotion.jl:379</a></li> <li> +(B::<b>BitMatrix</b>, J::<b>LinearAlgebra.UniformScaling</b>) in LinearAlgebra at <a href=\"file:///build/julia/src/julia-1.7.2/usr/share/julia/stdlib/v1.7/LinearAlgebra/src/uniformscaling.jl\" target=\"_blank\">/usr/share/julia/stdlib/v1.7/LinearAlgebra/src/uniformscaling.jl:152</a></li> <li> +(A::<b>AbstractMatrix</b>, J::<b>LinearAlgebra.UniformScaling</b>) in LinearAlgebra at <a href=\"file:///build/julia/src/julia-1.7.2/usr/share/julia/stdlib/v1.7/LinearAlgebra/src/uniformscaling.jl\" target=\"_blank\">/usr/share/julia/stdlib/v1.7/LinearAlgebra/src/uniformscaling.jl:215</a></li> <li> +(x::<b>AbstractArray{<:Number}</b>) in Base at <a href=\"https://github.com/JuliaLang/julia/tree/bf534986350a991e4a1b29126de0342ffd76205e/base/abstractarraymath.jl#L104\" target=\"_blank\">abstractarraymath.jl:104</a></li> <li> +(a::<b>Pkg.Resolve.FieldValue</b>, b::<b>Pkg.Resolve.FieldValue</b>) in Pkg.Resolve at <a href=\"file:///build/julia/src/julia-1.7.2/usr/share/julia/stdlib/v1.7/Pkg/src/Resolve/fieldvalues.jl\" target=\"_blank\">/usr/share/julia/stdlib/v1.7/Pkg/src/Resolve/fieldvalues.jl:43</a></li> <li> +(a, b, c, xs...) in Base at <a href=\"https://github.com/JuliaLang/julia/tree/bf534986350a991e4a1b29126de0342ffd76205e/base/operators.jl#L655\" target=\"_blank\">operators.jl:655</a></li> </ul>"
      ],
      "text/plain": [
       "# 208 methods for generic function \"+\":\n",
       "[1] +(x::T, y::T) where T<:Union{Int128, Int16, Int32, Int64, Int8, UInt128, UInt16, UInt32, UInt64, UInt8} in Base at int.jl:87\n",
       "[2] +(c::Union{UInt16, UInt32, UInt64, UInt8}, x::BigInt) in Base.GMP at gmp.jl:529\n",
       "[3] +(c::Union{Int16, Int32, Int64, Int8}, x::BigInt) in Base.GMP at gmp.jl:535\n",
       "[4] +(c::Union{UInt16, UInt32, UInt64, UInt8}, x::BigFloat) in Base.MPFR at mpfr.jl:390\n",
       "[5] +(c::Union{Int16, Int32, Int64, Int8}, x::BigFloat) in Base.MPFR at mpfr.jl:398\n",
       "[6] +(c::Union{Float16, Float32, Float64}, x::BigFloat) in Base.MPFR at mpfr.jl:406\n",
       "[7] +(x::Union{Dates.CompoundPeriod, Dates.Period}) in Dates at /usr/share/julia/stdlib/v1.7/Dates/src/periods.jl:372\n",
       "[8] +(y::Dates.TimeType, x::StridedArray{<:Union{Dates.CompoundPeriod, Dates.Period}}) in Dates at /usr/share/julia/stdlib/v1.7/Dates/src/deprecated.jl:18\n",
       "[9] +(A::LinearAlgebra.Tridiagonal, B::LinearAlgebra.Tridiagonal) in LinearAlgebra at /usr/share/julia/stdlib/v1.7/LinearAlgebra/src/tridiag.jl:740\n",
       "[10] +(x::LinearAlgebra.Tridiagonal, H::LinearAlgebra.UpperHessenberg) in LinearAlgebra at /usr/share/julia/stdlib/v1.7/LinearAlgebra/src/hessenberg.jl:107\n",
       "[11] +(A::LinearAlgebra.Tridiagonal, B::LinearAlgebra.SymTridiagonal) in LinearAlgebra at /usr/share/julia/stdlib/v1.7/LinearAlgebra/src/special.jl:157\n",
       "[12] +(A::LinearAlgebra.Tridiagonal, B::LinearAlgebra.Diagonal) in LinearAlgebra at /usr/share/julia/stdlib/v1.7/LinearAlgebra/src/special.jl:173\n",
       "[13] +(A::LinearAlgebra.Tridiagonal, B::LinearAlgebra.Bidiagonal) in LinearAlgebra at /usr/share/julia/stdlib/v1.7/LinearAlgebra/src/special.jl:193\n",
       "[14] +(A::LinearAlgebra.Tridiagonal{var\"#s859\", V} where {var\"#s859\"<:Number, V<:AbstractVector{var\"#s859\"}}, B::LinearAlgebra.UniformScaling) in LinearAlgebra at /usr/share/julia/stdlib/v1.7/LinearAlgebra/src/special.jl:226\n",
       "[15] +(index1::CartesianIndex{N}, index2::CartesianIndex{N}) where N in Base.IteratorsMD at multidimensional.jl:114\n",
       "[16] +(A::LinearAlgebra.Hermitian, B::LinearAlgebra.Hermitian) in LinearAlgebra at /usr/share/julia/stdlib/v1.7/LinearAlgebra/src/symmetric.jl:469\n",
       "[17] +(A::LinearAlgebra.Hermitian, B::LinearAlgebra.SymTridiagonal{var\"#s856\", V} where {var\"#s856\"<:Real, V<:AbstractVector{var\"#s856\"}}) in LinearAlgebra at /usr/share/julia/stdlib/v1.7/LinearAlgebra/src/symmetric.jl:488\n",
       "[18] +(H::LinearAlgebra.Hermitian, D::LinearAlgebra.Diagonal{var\"#s859\", V} where {var\"#s859\"<:Real, V<:AbstractVector{var\"#s859\"}}) in LinearAlgebra at /usr/share/julia/stdlib/v1.7/LinearAlgebra/src/diagonal.jl:185\n",
       "[19] +(A::LinearAlgebra.Hermitian, J::LinearAlgebra.UniformScaling{<:Complex}) in LinearAlgebra at /usr/share/julia/stdlib/v1.7/LinearAlgebra/src/uniformscaling.jl:196\n",
       "[20] +(A::LinearAlgebra.Hermitian{<:Any, <:SparseArrays.AbstractSparseMatrix}, B::SparseArrays.AbstractSparseMatrix) in SparseArrays at /usr/share/julia/stdlib/v1.7/SparseArrays/src/linalg.jl:15\n",
       "[21] +(A::LinearAlgebra.Hermitian, B::SparseArrays.AbstractSparseMatrix) in SparseArrays at /usr/share/julia/stdlib/v1.7/SparseArrays/src/linalg.jl:18\n",
       "[22] +(A::LinearAlgebra.Hermitian{<:Any, <:SparseArrays.AbstractSparseMatrix}, B::LinearAlgebra.Symmetric{<:Real, <:SparseArrays.AbstractSparseMatrix}) in SparseArrays at /usr/share/julia/stdlib/v1.7/SparseArrays/src/linalg.jl:26\n",
       "[23] +(A::LinearAlgebra.Hermitian, B::LinearAlgebra.Symmetric{var\"#s859\", S} where {var\"#s859\"<:Real, S<:(AbstractMatrix{<:var\"#s859\"})}) in LinearAlgebra at /usr/share/julia/stdlib/v1.7/LinearAlgebra/src/symmetric.jl:483\n",
       "[24] +(A::LinearAlgebra.Hermitian{<:Any, <:SparseArrays.AbstractSparseMatrix}, B::LinearAlgebra.Symmetric{<:Any, <:SparseArrays.AbstractSparseMatrix}) in SparseArrays at /usr/share/julia/stdlib/v1.7/SparseArrays/src/linalg.jl:24\n",
       "[25] +(A::LinearAlgebra.UnitUpperTriangular, B::LinearAlgebra.UpperTriangular) in LinearAlgebra at /usr/share/julia/stdlib/v1.7/LinearAlgebra/src/triangular.jl:640\n",
       "[26] +(A::LinearAlgebra.UnitUpperTriangular, B::LinearAlgebra.UnitUpperTriangular) in LinearAlgebra at /usr/share/julia/stdlib/v1.7/LinearAlgebra/src/triangular.jl:642\n",
       "[27] +(UL::LinearAlgebra.UnitUpperTriangular, J::LinearAlgebra.UniformScaling) in LinearAlgebra at /usr/share/julia/stdlib/v1.7/LinearAlgebra/src/uniformscaling.jl:182\n",
       "[28] +(x::LinearAlgebra.UnitUpperTriangular, H::LinearAlgebra.UpperHessenberg) in LinearAlgebra at /usr/share/julia/stdlib/v1.7/LinearAlgebra/src/hessenberg.jl:107\n",
       "[29] +(A::LinearAlgebra.UnitUpperTriangular, B::LinearAlgebra.Bidiagonal) in LinearAlgebra at /usr/share/julia/stdlib/v1.7/LinearAlgebra/src/special.jl:86\n",
       "[30] +(r::AbstractRange{<:Dates.TimeType}, x::Dates.Period) in Dates at /usr/share/julia/stdlib/v1.7/Dates/src/ranges.jl:63\n",
       "[31] +(x::AbstractArray{<:Dates.TimeType}, y::Union{Dates.CompoundPeriod, Dates.Period}) in Dates at /usr/share/julia/stdlib/v1.7/Dates/src/deprecated.jl:6\n",
       "[32] +(x::AbstractIrrational, y::AbstractIrrational) in Base at irrationals.jl:158\n",
       "[33] +(y::AbstractFloat, x::Bool) in Base at bool.jl:172\n",
       "[34] +(Da::LinearAlgebra.Diagonal, Db::LinearAlgebra.Diagonal) in LinearAlgebra at /usr/share/julia/stdlib/v1.7/LinearAlgebra/src/diagonal.jl:172\n",
       "[35] +(D::LinearAlgebra.Diagonal, S::LinearAlgebra.Symmetric) in LinearAlgebra at /usr/share/julia/stdlib/v1.7/LinearAlgebra/src/diagonal.jl:176\n",
       "[36] +(D::LinearAlgebra.Diagonal{var\"#s859\", V} where {var\"#s859\"<:Real, V<:AbstractVector{var\"#s859\"}}, H::LinearAlgebra.Hermitian) in LinearAlgebra at /usr/share/julia/stdlib/v1.7/LinearAlgebra/src/diagonal.jl:182\n",
       "[37] +(x::LinearAlgebra.Diagonal, H::LinearAlgebra.UpperHessenberg) in LinearAlgebra at /usr/share/julia/stdlib/v1.7/LinearAlgebra/src/hessenberg.jl:107\n",
       "[38] +(A::LinearAlgebra.Diagonal, B::LinearAlgebra.Bidiagonal) in LinearAlgebra at /usr/share/julia/stdlib/v1.7/LinearAlgebra/src/special.jl:125\n",
       "[39] +(A::LinearAlgebra.Diagonal, B::LinearAlgebra.SymTridiagonal) in LinearAlgebra at /usr/share/julia/stdlib/v1.7/LinearAlgebra/src/special.jl:135\n",
       "[40] +(A::LinearAlgebra.Diagonal, B::LinearAlgebra.Tridiagonal) in LinearAlgebra at /usr/share/julia/stdlib/v1.7/LinearAlgebra/src/special.jl:163\n",
       "[41] +(A::LinearAlgebra.Diagonal{var\"#s859\", V} where {var\"#s859\"<:Number, V<:AbstractVector{var\"#s859\"}}, B::LinearAlgebra.UniformScaling) in LinearAlgebra at /usr/share/julia/stdlib/v1.7/LinearAlgebra/src/special.jl:241\n",
       "[42] +(A::LinearAlgebra.UpperTriangular, B::LinearAlgebra.UpperTriangular) in LinearAlgebra at /usr/share/julia/stdlib/v1.7/LinearAlgebra/src/triangular.jl:636\n",
       "[43] +(A::LinearAlgebra.UpperTriangular, B::LinearAlgebra.UnitUpperTriangular) in LinearAlgebra at /usr/share/julia/stdlib/v1.7/LinearAlgebra/src/triangular.jl:638\n",
       "[44] +(x::LinearAlgebra.UpperTriangular, H::LinearAlgebra.UpperHessenberg) in LinearAlgebra at /usr/share/julia/stdlib/v1.7/LinearAlgebra/src/hessenberg.jl:107\n",
       "[45] +(A::LinearAlgebra.UpperTriangular, B::LinearAlgebra.Bidiagonal) in LinearAlgebra at /usr/share/julia/stdlib/v1.7/LinearAlgebra/src/special.jl:86\n",
       "[46] +(x::Rational, y::Integer) in Base at rational.jl:311\n",
       "[47] +(x::P, y::P) where P<:Dates.Period in Dates at /usr/share/julia/stdlib/v1.7/Dates/src/periods.jl:79\n",
       "[48] +(x::Dates.Period, y::Dates.Period) in Dates at /usr/share/julia/stdlib/v1.7/Dates/src/periods.jl:361\n",
       "[49] +(y::Dates.Period, x::Dates.CompoundPeriod) in Dates at /usr/share/julia/stdlib/v1.7/Dates/src/periods.jl:363\n",
       "[50] +(y::Dates.Period, x::Dates.TimeType) in Dates at /usr/share/julia/stdlib/v1.7/Dates/src/arithmetic.jl:85\n",
       "[51] +(x::Dates.Period, r::AbstractRange{<:Dates.TimeType}) in Dates at /usr/share/julia/stdlib/v1.7/Dates/src/ranges.jl:62\n",
       "[52] +(y::Union{Dates.CompoundPeriod, Dates.Period}, x::AbstractArray{<:Dates.TimeType}) in Dates at /usr/share/julia/stdlib/v1.7/Dates/src/deprecated.jl:14\n",
       "[53] +(x::Base.TwicePrecision, y::Number) in Base at twiceprecision.jl:279\n",
       "[54] +(x::Base.TwicePrecision{T}, y::Base.TwicePrecision{T}) where T in Base at twiceprecision.jl:285\n",
       "[55] +(x::Base.TwicePrecision, y::Base.TwicePrecision) in Base at twiceprecision.jl:290\n",
       "[56] +(A::BitArray, B::BitArray) in Base at bitarray.jl:1180\n",
       "[57] +(F::LinearAlgebra.Hessenberg, J::LinearAlgebra.UniformScaling) in LinearAlgebra at /usr/share/julia/stdlib/v1.7/LinearAlgebra/src/hessenberg.jl:640\n",
       "[58] +(A::LinearAlgebra.Symmetric, B::LinearAlgebra.Symmetric) in LinearAlgebra at /usr/share/julia/stdlib/v1.7/LinearAlgebra/src/symmetric.jl:469\n",
       "[59] +(A::LinearAlgebra.Symmetric, B::LinearAlgebra.SymTridiagonal) in LinearAlgebra at /usr/share/julia/stdlib/v1.7/LinearAlgebra/src/symmetric.jl:486\n",
       "[60] +(S::LinearAlgebra.Symmetric, D::LinearAlgebra.Diagonal) in LinearAlgebra at /usr/share/julia/stdlib/v1.7/LinearAlgebra/src/diagonal.jl:179\n",
       "[61] +(A::LinearAlgebra.Symmetric{<:Any, <:SparseArrays.AbstractSparseMatrix}, B::SparseArrays.AbstractSparseMatrix) in SparseArrays at /usr/share/julia/stdlib/v1.7/SparseArrays/src/linalg.jl:15\n",
       "[62] +(A::LinearAlgebra.Symmetric, B::SparseArrays.AbstractSparseMatrix) in SparseArrays at /usr/share/julia/stdlib/v1.7/SparseArrays/src/linalg.jl:18\n",
       "[63] +(A::LinearAlgebra.Symmetric{<:Real, <:SparseArrays.AbstractSparseMatrix}, B::LinearAlgebra.Hermitian{<:Any, <:SparseArrays.AbstractSparseMatrix}) in SparseArrays at /usr/share/julia/stdlib/v1.7/SparseArrays/src/linalg.jl:25\n",
       "[64] +(A::LinearAlgebra.Symmetric{var\"#s858\", S} where {var\"#s858\"<:Real, S<:(AbstractMatrix{<:var\"#s858\"})}, B::LinearAlgebra.Hermitian) in LinearAlgebra at /usr/share/julia/stdlib/v1.7/LinearAlgebra/src/symmetric.jl:484\n",
       "[65] +(A::LinearAlgebra.Symmetric{<:Any, <:SparseArrays.AbstractSparseMatrix}, B::LinearAlgebra.Hermitian{<:Any, <:SparseArrays.AbstractSparseMatrix}) in SparseArrays at /usr/share/julia/stdlib/v1.7/SparseArrays/src/linalg.jl:23\n",
       "[66] +(A::LinearAlgebra.SymTridiagonal, B::LinearAlgebra.SymTridiagonal) in LinearAlgebra at /usr/share/julia/stdlib/v1.7/LinearAlgebra/src/tridiag.jl:208\n",
       "[67] +(A::LinearAlgebra.SymTridiagonal, B::LinearAlgebra.Symmetric) in LinearAlgebra at /usr/share/julia/stdlib/v1.7/LinearAlgebra/src/symmetric.jl:485\n",
       "[68] +(A::LinearAlgebra.SymTridiagonal{var\"#s857\", V} where {var\"#s857\"<:Real, V<:AbstractVector{var\"#s857\"}}, B::LinearAlgebra.Hermitian) in LinearAlgebra at /usr/share/julia/stdlib/v1.7/LinearAlgebra/src/symmetric.jl:487\n",
       "[69] +(x::LinearAlgebra.SymTridiagonal, H::LinearAlgebra.UpperHessenberg) in LinearAlgebra at /usr/share/julia/stdlib/v1.7/LinearAlgebra/src/hessenberg.jl:107\n",
       "[70] +(A::LinearAlgebra.SymTridiagonal, B::LinearAlgebra.Diagonal) in LinearAlgebra at /usr/share/julia/stdlib/v1.7/LinearAlgebra/src/special.jl:145\n",
       "[71] +(A::LinearAlgebra.SymTridiagonal, B::LinearAlgebra.Tridiagonal) in LinearAlgebra at /usr/share/julia/stdlib/v1.7/LinearAlgebra/src/special.jl:159\n",
       "[72] +(A::LinearAlgebra.SymTridiagonal, B::LinearAlgebra.Bidiagonal) in LinearAlgebra at /usr/share/julia/stdlib/v1.7/LinearAlgebra/src/special.jl:213\n",
       "[73] +(A::LinearAlgebra.SymTridiagonal{var\"#s859\", V} where {var\"#s859\"<:Number, V<:AbstractVector{var\"#s859\"}}, B::LinearAlgebra.UniformScaling) in LinearAlgebra at /usr/share/julia/stdlib/v1.7/LinearAlgebra/src/special.jl:231\n",
       "[74] +(A::SparseArrays.AbstractSparseMatrixCSC, B::SparseArrays.AbstractSparseMatrixCSC) in SparseArrays at /usr/share/julia/stdlib/v1.7/SparseArrays/src/sparsematrix.jl:1771\n",
       "[75] +(A::SparseArrays.AbstractSparseMatrixCSC, B::Array) in SparseArrays at /usr/share/julia/stdlib/v1.7/SparseArrays/src/sparsematrix.jl:1774\n",
       "[76] +(A::SparseArrays.AbstractSparseMatrixCSC, J::LinearAlgebra.UniformScaling) in SparseArrays at /usr/share/julia/stdlib/v1.7/SparseArrays/src/sparsematrix.jl:3754\n",
       "[77] +(A::LinearAlgebra.LowerTriangular, B::LinearAlgebra.LowerTriangular) in LinearAlgebra at /usr/share/julia/stdlib/v1.7/LinearAlgebra/src/triangular.jl:637\n",
       "[78] +(A::LinearAlgebra.LowerTriangular, B::LinearAlgebra.UnitLowerTriangular) in LinearAlgebra at /usr/share/julia/stdlib/v1.7/LinearAlgebra/src/triangular.jl:639\n",
       "[79] +(A::LinearAlgebra.LowerTriangular, B::LinearAlgebra.Bidiagonal) in LinearAlgebra at /usr/share/julia/stdlib/v1.7/LinearAlgebra/src/special.jl:86\n",
       "[80] +(x::Dates.Instant) in Dates at /usr/share/julia/stdlib/v1.7/Dates/src/arithmetic.jl:4\n",
       "[81] +(x::Dates.AbstractTime, y::Missing) in Dates at /usr/share/julia/stdlib/v1.7/Dates/src/arithmetic.jl:88\n",
       "[82] +(r1::OrdinalRange, r2::OrdinalRange) in Base at range.jl:1347\n",
       "[83] +(A::LinearAlgebra.UpperHessenberg, B::LinearAlgebra.UpperHessenberg) in LinearAlgebra at /usr/share/julia/stdlib/v1.7/LinearAlgebra/src/hessenberg.jl:99\n",
       "[84] +(H::LinearAlgebra.UpperHessenberg, x::LinearAlgebra.UniformScaling) in LinearAlgebra at /usr/share/julia/stdlib/v1.7/LinearAlgebra/src/hessenberg.jl:106\n",
       "[85] +(H::LinearAlgebra.UpperHessenberg, x::LinearAlgebra.Diagonal) in LinearAlgebra at /usr/share/julia/stdlib/v1.7/LinearAlgebra/src/hessenberg.jl:106\n",
       "[86] +(H::LinearAlgebra.UpperHessenberg, x::LinearAlgebra.Bidiagonal) in LinearAlgebra at /usr/share/julia/stdlib/v1.7/LinearAlgebra/src/hessenberg.jl:106\n",
       "[87] +(H::LinearAlgebra.UpperHessenberg, x::LinearAlgebra.Tridiagonal) in LinearAlgebra at /usr/share/julia/stdlib/v1.7/LinearAlgebra/src/hessenberg.jl:106\n",
       "[88] +(H::LinearAlgebra.UpperHessenberg, x::LinearAlgebra.SymTridiagonal) in LinearAlgebra at /usr/share/julia/stdlib/v1.7/LinearAlgebra/src/hessenberg.jl:106\n",
       "[89] +(H::LinearAlgebra.UpperHessenberg, x::LinearAlgebra.UpperTriangular) in LinearAlgebra at /usr/share/julia/stdlib/v1.7/LinearAlgebra/src/hessenberg.jl:106\n",
       "[90] +(H::LinearAlgebra.UpperHessenberg, x::LinearAlgebra.UnitUpperTriangular) in LinearAlgebra at /usr/share/julia/stdlib/v1.7/LinearAlgebra/src/hessenberg.jl:106\n",
       "[91] +(J::LinearAlgebra.UniformScaling) in LinearAlgebra at /usr/share/julia/stdlib/v1.7/LinearAlgebra/src/uniformscaling.jl:150\n",
       "[92] +(J::LinearAlgebra.UniformScaling, x::Number) in LinearAlgebra at /usr/share/julia/stdlib/v1.7/LinearAlgebra/src/uniformscaling.jl:145\n",
       "[93] +(J1::LinearAlgebra.UniformScaling, J2::LinearAlgebra.UniformScaling) in LinearAlgebra at /usr/share/julia/stdlib/v1.7/LinearAlgebra/src/uniformscaling.jl:151\n",
       "[94] +(J::LinearAlgebra.UniformScaling, B::BitMatrix) in LinearAlgebra at /usr/share/julia/stdlib/v1.7/LinearAlgebra/src/uniformscaling.jl:153\n",
       "[95] +(x::LinearAlgebra.UniformScaling, H::LinearAlgebra.UpperHessenberg) in LinearAlgebra at /usr/share/julia/stdlib/v1.7/LinearAlgebra/src/hessenberg.jl:107\n",
       "[96] +(J::LinearAlgebra.UniformScaling, F::LinearAlgebra.Hessenberg) in LinearAlgebra at /usr/share/julia/stdlib/v1.7/LinearAlgebra/src/hessenberg.jl:641\n",
       "[97] +(A::LinearAlgebra.UniformScaling, B::LinearAlgebra.Tridiagonal{var\"#s859\", V} where {var\"#s859\"<:Number, V<:AbstractVector{var\"#s859\"}}) in LinearAlgebra at /usr/share/julia/stdlib/v1.7/LinearAlgebra/src/special.jl:245\n",
       "[98] +(A::LinearAlgebra.UniformScaling, B::LinearAlgebra.SymTridiagonal{var\"#s859\", V} where {var\"#s859\"<:Number, V<:AbstractVector{var\"#s859\"}}) in LinearAlgebra at /usr/share/julia/stdlib/v1.7/LinearAlgebra/src/special.jl:250\n",
       "[99] +(A::LinearAlgebra.UniformScaling, B::LinearAlgebra.Bidiagonal{var\"#s859\", V} where {var\"#s859\"<:Number, V<:AbstractVector{var\"#s859\"}}) in LinearAlgebra at /usr/share/julia/stdlib/v1.7/LinearAlgebra/src/special.jl:255\n",
       "[100] +(A::LinearAlgebra.UniformScaling, B::LinearAlgebra.Diagonal{var\"#s859\", V} where {var\"#s859\"<:Number, V<:AbstractVector{var\"#s859\"}}) in LinearAlgebra at /usr/share/julia/stdlib/v1.7/LinearAlgebra/src/special.jl:260\n",
       "[101] +(J::LinearAlgebra.UniformScaling, A::AbstractMatrix) in LinearAlgebra at /usr/share/julia/stdlib/v1.7/LinearAlgebra/src/uniformscaling.jl:154\n",
       "[102] +(x::Ptr, y::Integer) in Base at pointer.jl:159\n",
       "[103] +(r1::StepRangeLen{T, R}, r2::StepRangeLen{T, R}) where {R<:Base.TwicePrecision, T} in Base at twiceprecision.jl:613\n",
       "[104] +(r1::StepRangeLen{T, S}, r2::StepRangeLen{T, S}) where {T, S} in Base at range.jl:1370\n",
       "[105] +(A::LinearAlgebra.UnitLowerTriangular, B::LinearAlgebra.LowerTriangular) in LinearAlgebra at /usr/share/julia/stdlib/v1.7/LinearAlgebra/src/triangular.jl:641\n",
       "[106] +(A::LinearAlgebra.UnitLowerTriangular, B::LinearAlgebra.UnitLowerTriangular) in LinearAlgebra at /usr/share/julia/stdlib/v1.7/LinearAlgebra/src/triangular.jl:643\n",
       "[107] +(UL::LinearAlgebra.UnitLowerTriangular, J::LinearAlgebra.UniformScaling) in LinearAlgebra at /usr/share/julia/stdlib/v1.7/LinearAlgebra/src/uniformscaling.jl:182\n",
       "[108] +(A::LinearAlgebra.UnitLowerTriangular, B::LinearAlgebra.Bidiagonal) in LinearAlgebra at /usr/share/julia/stdlib/v1.7/LinearAlgebra/src/special.jl:86\n",
       "[109] +(r1::LinRange{T}, r2::LinRange{T}) where T in Base at range.jl:1354\n",
       "[110] +(r1::Union{LinRange, OrdinalRange, StepRangeLen}, r2::Union{LinRange, OrdinalRange, StepRangeLen}) in Base at range.jl:1363\n",
       "[111] +(x::T, y::Integer) where T<:AbstractChar in Base at char.jl:237\n",
       "[112] +(A::LinearAlgebra.Bidiagonal, B::LinearAlgebra.Bidiagonal) in LinearAlgebra at /usr/share/julia/stdlib/v1.7/LinearAlgebra/src/bidiag.jl:354\n",
       "[113] +(x::LinearAlgebra.Bidiagonal, H::LinearAlgebra.UpperHessenberg) in LinearAlgebra at /usr/share/julia/stdlib/v1.7/LinearAlgebra/src/hessenberg.jl:107\n",
       "[114] +(A::LinearAlgebra.Bidiagonal, B::LinearAlgebra.UpperTriangular) in LinearAlgebra at /usr/share/julia/stdlib/v1.7/LinearAlgebra/src/special.jl:94\n",
       "[115] +(A::LinearAlgebra.Bidiagonal, B::LinearAlgebra.UnitUpperTriangular) in LinearAlgebra at /usr/share/julia/stdlib/v1.7/LinearAlgebra/src/special.jl:94\n",
       "[116] +(A::LinearAlgebra.Bidiagonal, B::LinearAlgebra.LowerTriangular) in LinearAlgebra at /usr/share/julia/stdlib/v1.7/LinearAlgebra/src/special.jl:94\n",
       "[117] +(A::LinearAlgebra.Bidiagonal, B::LinearAlgebra.UnitLowerTriangular) in LinearAlgebra at /usr/share/julia/stdlib/v1.7/LinearAlgebra/src/special.jl:94\n",
       "[118] +(A::LinearAlgebra.Bidiagonal, B::LinearAlgebra.Diagonal) in LinearAlgebra at /usr/share/julia/stdlib/v1.7/LinearAlgebra/src/special.jl:115\n",
       "[119] +(A::LinearAlgebra.Bidiagonal, B::LinearAlgebra.Tridiagonal) in LinearAlgebra at /usr/share/julia/stdlib/v1.7/LinearAlgebra/src/special.jl:183\n",
       "[120] +(A::LinearAlgebra.Bidiagonal, B::LinearAlgebra.SymTridiagonal) in LinearAlgebra at /usr/share/julia/stdlib/v1.7/LinearAlgebra/src/special.jl:203\n",
       "[121] +(A::LinearAlgebra.Bidiagonal{var\"#s859\", V} where {var\"#s859\"<:Number, V<:AbstractVector{var\"#s859\"}}, B::LinearAlgebra.UniformScaling) in LinearAlgebra at /usr/share/julia/stdlib/v1.7/LinearAlgebra/src/special.jl:236\n",
       "[122] +(A::LinearAlgebra.AbstractTriangular, B::LinearAlgebra.AbstractTriangular) in LinearAlgebra at /usr/share/julia/stdlib/v1.7/LinearAlgebra/src/triangular.jl:644\n",
       "[123] +(z::Complex, w::Complex) in Base at complex.jl:288\n",
       "[124] +(x::SparseArrays.AbstractSparseVector, y::SparseArrays.AbstractSparseVector) in SparseArrays at /usr/share/julia/stdlib/v1.7/SparseArrays/src/sparsevector.jl:1355\n",
       "[125] +(A::SparseArrays.AbstractSparseMatrix, B::LinearAlgebra.Hermitian{<:Any, <:SparseArrays.AbstractSparseMatrix}) in SparseArrays at /usr/share/julia/stdlib/v1.7/SparseArrays/src/linalg.jl:14\n",
       "[126] +(A::SparseArrays.AbstractSparseMatrix, B::LinearAlgebra.Hermitian) in SparseArrays at /usr/share/julia/stdlib/v1.7/SparseArrays/src/linalg.jl:17\n",
       "[127] +(A::SparseArrays.AbstractSparseMatrix, B::LinearAlgebra.Symmetric{<:Any, <:SparseArrays.AbstractSparseMatrix}) in SparseArrays at /usr/share/julia/stdlib/v1.7/SparseArrays/src/linalg.jl:14\n",
       "[128] +(A::SparseArrays.AbstractSparseMatrix, B::LinearAlgebra.Symmetric) in SparseArrays at /usr/share/julia/stdlib/v1.7/SparseArrays/src/linalg.jl:17\n",
       "[129] +(A::Array, Bs::Array...) in Base at arraymath.jl:43\n",
       "[130] +(X::StridedArray{<:Union{Dates.CompoundPeriod, Dates.Period}}, Y::StridedArray{<:Union{Dates.CompoundPeriod, Dates.Period}}) in Dates at /usr/share/julia/stdlib/v1.7/Dates/src/deprecated.jl:62\n",
       "[131] +(A::Array, B::SparseArrays.AbstractSparseMatrixCSC) in SparseArrays at /usr/share/julia/stdlib/v1.7/SparseArrays/src/sparsematrix.jl:1775\n",
       "[132] +(x::StridedArray{<:Union{Dates.CompoundPeriod, Dates.Period}}) in Dates at /usr/share/julia/stdlib/v1.7/Dates/src/deprecated.jl:55\n",
       "[133] +(x::StridedArray{<:Union{Dates.CompoundPeriod, Dates.Period}}, y::Dates.TimeType) in Dates at /usr/share/julia/stdlib/v1.7/Dates/src/deprecated.jl:10\n",
       "[134] +(A::AbstractArray, B::AbstractArray) in Base at arraymath.jl:37\n",
       "[135] +(x::BigFloat, c::Union{UInt16, UInt32, UInt64, UInt8}) in Base.MPFR at mpfr.jl:385\n",
       "[136] +(x::BigFloat, c::Union{Int16, Int32, Int64, Int8}) in Base.MPFR at mpfr.jl:393\n",
       "[137] +(x::BigFloat, c::Union{Float16, Float32, Float64}) in Base.MPFR at mpfr.jl:401\n",
       "[138] +(x::BigFloat, y::BigFloat) in Base.MPFR at mpfr.jl:378\n",
       "[139] +(x::BigFloat, c::BigInt) in Base.MPFR at mpfr.jl:409\n",
       "[140] +(a::BigFloat, b::BigFloat, c::BigFloat) in Base.MPFR at mpfr.jl:550\n",
       "[141] +(a::BigFloat, b::BigFloat, c::BigFloat, d::BigFloat) in Base.MPFR at mpfr.jl:556\n",
       "[142] +(a::BigFloat, b::BigFloat, c::BigFloat, d::BigFloat, e::BigFloat) in Base.MPFR at mpfr.jl:563\n",
       "[143] +(::Missing) in Base at missing.jl:101\n",
       "[144] +(::Missing, ::Number) in Base at missing.jl:123\n",
       "[145] +(x::Missing, y::Dates.AbstractTime) in Dates at /usr/share/julia/stdlib/v1.7/Dates/src/arithmetic.jl:89\n",
       "[146] +(::Missing, ::Missing) in Base at missing.jl:122\n",
       "[147] +(x::Rational{BigInt}, y::Rational{BigInt}) in Base.GMP.MPQ at gmp.jl:885\n",
       "[148] +(x::Rational) in Base at rational.jl:268\n",
       "[149] +(x::Rational, y::Rational) in Base at rational.jl:282\n",
       "[150] +(x::Bool) in Base at bool.jl:159\n",
       "[151] +(x::Integer, y::Ptr) in Base at pointer.jl:161\n",
       "[152] +(y::Integer, x::Rational) in Base at rational.jl:318\n",
       "[153] +(x::Integer, y::AbstractChar) in Base at char.jl:247\n",
       "[154] +(x::Bool, y::T) where T<:AbstractFloat in Base at bool.jl:169\n",
       "[155] +(x::Bool, y::Bool) in Base at bool.jl:162\n",
       "[156] +(x::Bool, z::Complex{Bool}) in Base at complex.jl:299\n",
       "[157] +(x::Real, z::Complex{Bool}) in Base at complex.jl:313\n",
       "[158] +(x::Bool, z::Complex) in Base at complex.jl:306\n",
       "[159] +(x::Real, z::Complex) in Base at complex.jl:325\n",
       "[160] +(dt::Dates.Date, t::Dates.Time) in Dates at /usr/share/julia/stdlib/v1.7/Dates/src/arithmetic.jl:19\n",
       "[161] +(dt::Dates.Date, y::Dates.Year) in Dates at /usr/share/julia/stdlib/v1.7/Dates/src/arithmetic.jl:27\n",
       "[162] +(dt::Dates.Date, z::Dates.Month) in Dates at /usr/share/julia/stdlib/v1.7/Dates/src/arithmetic.jl:54\n",
       "[163] +(x::Dates.Date, y::Dates.Quarter) in Dates at /usr/share/julia/stdlib/v1.7/Dates/src/arithmetic.jl:73\n",
       "[164] +(x::Dates.Date, y::Dates.Week) in Dates at /usr/share/julia/stdlib/v1.7/Dates/src/arithmetic.jl:77\n",
       "[165] +(x::Dates.Date, y::Dates.Day) in Dates at /usr/share/julia/stdlib/v1.7/Dates/src/arithmetic.jl:79\n",
       "[166] +(x::BigInt, c::Union{UInt16, UInt32, UInt64, UInt8}) in Base.GMP at gmp.jl:528\n",
       "[167] +(x::BigInt, c::Union{Int16, Int32, Int64, Int8}) in Base.GMP at gmp.jl:534\n",
       "[168] +(x::BigInt, y::BigInt) in Base.GMP at gmp.jl:480\n",
       "[169] +(a::BigInt, b::BigInt, c::BigInt) in Base.GMP at gmp.jl:520\n",
       "[170] +(a::BigInt, b::BigInt, c::BigInt, d::BigInt) in Base.GMP at gmp.jl:521\n",
       "[171] +(a::BigInt, b::BigInt, c::BigInt, d::BigInt, e::BigInt) in Base.GMP at gmp.jl:522\n",
       "[172] +(x::BigInt, y::BigInt, rest::BigInt...) in Base.GMP at gmp.jl:635\n",
       "[173] +(a::Integer, b::Integer) in Base at int.jl:978\n",
       "[174] +(c::BigInt, x::BigFloat) in Base.MPFR at mpfr.jl:414\n",
       "[175] +(x::Float32, y::Float32) in Base at float.jl:398\n",
       "[176] +(z::Complex{Bool}, x::Bool) in Base at complex.jl:300\n",
       "[177] +(z::Complex, x::Bool) in Base at complex.jl:307\n",
       "[178] +(z::Complex{Bool}, x::Real) in Base at complex.jl:314\n",
       "[179] +(z::Complex) in Base at complex.jl:286\n",
       "[180] +(x::Number, y::Base.TwicePrecision) in Base at twiceprecision.jl:283\n",
       "[181] +(::Number, ::Missing) in Base at missing.jl:124\n",
       "[182] +(x::Number, J::LinearAlgebra.UniformScaling) in LinearAlgebra at /usr/share/julia/stdlib/v1.7/LinearAlgebra/src/uniformscaling.jl:146\n",
       "[183] +(z::Complex, x::Real) in Base at complex.jl:326\n",
       "[184] +(level::Base.CoreLogging.LogLevel, inc::Integer) in Base.CoreLogging at logging.jl:131\n",
       "[185] +(x::Float16, y::Float16) in Base at float.jl:397\n",
       "[186] +(dt::Dates.DateTime, y::Dates.Year) in Dates at /usr/share/julia/stdlib/v1.7/Dates/src/arithmetic.jl:23\n",
       "[187] +(dt::Dates.DateTime, z::Dates.Month) in Dates at /usr/share/julia/stdlib/v1.7/Dates/src/arithmetic.jl:47\n",
       "[188] +(x::Dates.DateTime, y::Dates.Quarter) in Dates at /usr/share/julia/stdlib/v1.7/Dates/src/arithmetic.jl:75\n",
       "[189] +(x::Dates.DateTime, y::Dates.Period) in Dates at /usr/share/julia/stdlib/v1.7/Dates/src/arithmetic.jl:81\n",
       "[190] +(x::Dates.CompoundPeriod, y::Dates.Period) in Dates at /usr/share/julia/stdlib/v1.7/Dates/src/periods.jl:362\n",
       "[191] +(x::Dates.CompoundPeriod, y::Dates.TimeType) in Dates at /usr/share/julia/stdlib/v1.7/Dates/src/periods.jl:392\n",
       "[192] +(x::Dates.CompoundPeriod, y::Dates.CompoundPeriod) in Dates at /usr/share/julia/stdlib/v1.7/Dates/src/periods.jl:364\n",
       "[193] +(a::Pkg.Resolve.VersionWeight, b::Pkg.Resolve.VersionWeight) in Pkg.Resolve at /usr/share/julia/stdlib/v1.7/Pkg/src/Resolve/versionweights.jl:22\n",
       "[194] +(x::Dates.Time, y::Dates.TimePeriod) in Dates at /usr/share/julia/stdlib/v1.7/Dates/src/arithmetic.jl:83\n",
       "[195] +(t::Dates.Time, dt::Dates.Date) in Dates at /usr/share/julia/stdlib/v1.7/Dates/src/arithmetic.jl:20\n",
       "[196] +(x::Dates.TimeType) in Dates at /usr/share/julia/stdlib/v1.7/Dates/src/arithmetic.jl:8\n",
       "[197] +(a::Dates.TimeType, b::Dates.Period, c::Dates.Period) in Dates at /usr/share/julia/stdlib/v1.7/Dates/src/periods.jl:383\n",
       "[198] +(a::Dates.TimeType, b::Dates.Period, c::Dates.Period, d::Dates.Period...) in Dates at /usr/share/julia/stdlib/v1.7/Dates/src/periods.jl:384\n",
       "[199] +(x::Dates.TimeType, y::Dates.CompoundPeriod) in Dates at /usr/share/julia/stdlib/v1.7/Dates/src/periods.jl:386\n",
       "[200] +(x::Float64, y::Float64) in Base at float.jl:399\n",
       "[201] +(x::Number) in Base at operators.jl:592\n",
       "[202] +(x::T, y::T) where T<:Number in Base at promotion.jl:454\n",
       "[203] +(x::Number, y::Number) in Base at promotion.jl:379\n",
       "[204] +(B::BitMatrix, J::LinearAlgebra.UniformScaling) in LinearAlgebra at /usr/share/julia/stdlib/v1.7/LinearAlgebra/src/uniformscaling.jl:152\n",
       "[205] +(A::AbstractMatrix, J::LinearAlgebra.UniformScaling) in LinearAlgebra at /usr/share/julia/stdlib/v1.7/LinearAlgebra/src/uniformscaling.jl:215\n",
       "[206] +(x::AbstractArray{<:Number}) in Base at abstractarraymath.jl:104\n",
       "[207] +(a::Pkg.Resolve.FieldValue, b::Pkg.Resolve.FieldValue) in Pkg.Resolve at /usr/share/julia/stdlib/v1.7/Pkg/src/Resolve/fieldvalues.jl:43\n",
       "[208] +(a, b, c, xs...) in Base at operators.jl:655"
      ]
     },
     "execution_count": 11,
     "metadata": {},
     "output_type": "execute_result"
    }
   ],
   "source": [
    "methods(+)"
   ]
  },
  {
   "cell_type": "markdown",
   "metadata": {},
   "source": [
    "Portanto, agora podemos aplicar `teste` a strings e inteiros.\n",
    "Quando aplicamos `teste` a um par de argumentos, a Julia vai inferir os tipos dos argumentos e despachar o método apropriado.\n",
    "Isso é **despacho múltiplo**.\n",
    "Despacho múltiplo torna os programas genéricos e rápidos.\n",
    "\n",
    "Para ver qual método está sendo despachado quando chamamos uma função genérica, usamos a macro `@which`:"
   ]
  },
  {
   "cell_type": "code",
   "execution_count": 12,
   "metadata": {},
   "outputs": [
    {
     "data": {
      "text/html": [
       "teste(x::<b>Int64</b>, y::<b>Int64</b>) in Main at In[7]:1"
      ],
      "text/plain": [
       "teste(x::Int64, y::Int64) in Main at In[7]:1"
      ]
     },
     "execution_count": 12,
     "metadata": {},
     "output_type": "execute_result"
    }
   ],
   "source": [
    "@which teste(2, 3)"
   ]
  },
  {
   "cell_type": "code",
   "execution_count": 13,
   "metadata": {},
   "outputs": [
    {
     "data": {
      "text/html": [
       "+(x::<b>Float64</b>, y::<b>Float64</b>) in Base at <a href=\"https://github.com/JuliaLang/julia/tree/bf534986350a991e4a1b29126de0342ffd76205e/base/float.jl#L399\" target=\"_blank\">float.jl:399</a>"
      ],
      "text/plain": [
       "+(x::Float64, y::Float64) in Base at float.jl:399"
      ]
     },
     "execution_count": 13,
     "metadata": {},
     "output_type": "execute_result"
    }
   ],
   "source": [
    "@which 3.0 + 5.0"
   ]
  }
 ],
 "metadata": {
  "kernelspec": {
   "display_name": "Julia 1.7.2",
   "language": "julia",
   "name": "julia-1.7"
  },
  "language_info": {
   "file_extension": ".jl",
   "mimetype": "application/julia",
   "name": "julia",
   "version": "1.7.2"
  }
 },
 "nbformat": 4,
 "nbformat_minor": 4
}
