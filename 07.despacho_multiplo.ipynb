{
 "cells": [
  {
   "cell_type": "markdown",
   "metadata": {
    "collapsed": false
   },
   "source": [
    "# Despacho múltiplo\n",
    "\n",
    "Neste notebook, vamos explorar o conceito de [despacho múltiplo](https://en.wikipedia.org/wiki/Multiple_dispatch), que é um recurso chave da linguagem Julia.\n",
    "\n",
    "Para entender despacho múltiplo em Julia, vamos começar com um exemplo que nós já vimos.\n",
    "\n",
    "Em Julia, podemos declarar funções sem informar o tipo dos argumentos da função.\n",
    "Por exemplo:"
   ]
  },
  {
   "cell_type": "code",
   "execution_count": 1,
   "metadata": {
    "collapsed": false
   },
   "outputs": [
    {
     "data": {
      "text/plain": [
       "f (generic function with 1 method)"
      ]
     },
     "execution_count": 1,
     "metadata": {
     },
     "output_type": "execute_result"
    }
   ],
   "source": [
    "f(x) = x^2"
   ]
  },
  {
   "cell_type": "markdown",
   "metadata": {
    "collapsed": false
   },
   "source": [
    "Então a Julia vai determinar automaticamente sobre quais tipos de argumentos faz sentido aplicar a função, e sobre quais tipos não faz:"
   ]
  },
  {
   "cell_type": "code",
   "execution_count": 0,
   "metadata": {
    "collapsed": false
   },
   "outputs": [
   ],
   "source": [
    "f(9)"
   ]
  },
  {
   "cell_type": "code",
   "execution_count": 0,
   "metadata": {
    "collapsed": false
   },
   "outputs": [
   ],
   "source": [
    "f([1, 2, 3])"
   ]
  },
  {
   "cell_type": "markdown",
   "metadata": {
    "collapsed": false
   },
   "source": [
    "## Especificando os tipos dos argumentos\n",
    "\n",
    "Temos a opção de declarar explicitamente quais tipos de argumentos uma função pode receber.\n",
    "Por exemplo, vamos definir uma função `teste` que só pode receber argumentos do tipo `String`:"
   ]
  },
  {
   "cell_type": "code",
   "execution_count": 0,
   "metadata": {
    "collapsed": false
   },
   "outputs": [
   ],
   "source": [
    "teste(x::String, y::String) = println(\"Os argumentos x e y são strings\")"
   ]
  },
  {
   "cell_type": "markdown",
   "metadata": {
    "collapsed": false
   },
   "source": [
    "Vamos verificar que a função `teste` age sobre strings, mas não age sobre argumentos de outros tipos:"
   ]
  },
  {
   "cell_type": "code",
   "execution_count": 0,
   "metadata": {
    "collapsed": false
   },
   "outputs": [
   ],
   "source": [
    "teste(\"despacho\", \"múltiplo\")"
   ]
  },
  {
   "cell_type": "code",
   "execution_count": 0,
   "metadata": {
    "collapsed": false
   },
   "outputs": [
   ],
   "source": [
    "teste(2, 3)"
   ]
  },
  {
   "cell_type": "markdown",
   "metadata": {
    "collapsed": false
   },
   "source": [
    "Para fazer com que a função `teste` aceite números inteiros, vamos definir `teste` para argumentos do tipo `Int`:"
   ]
  },
  {
   "cell_type": "code",
   "execution_count": 0,
   "metadata": {
    "collapsed": false
   },
   "outputs": [
   ],
   "source": [
    "teste(x::Int, y::Int) = println(\"Os argumentos x e y são números inteiros\")"
   ]
  },
  {
   "cell_type": "code",
   "execution_count": 0,
   "metadata": {
    "collapsed": false
   },
   "outputs": [
   ],
   "source": [
    "teste(2, 3)"
   ]
  },
  {
   "cell_type": "markdown",
   "metadata": {
    "collapsed": false
   },
   "source": [
    "Agora `teste` age sobre os inteiros.\n",
    "Mas observe, a função `teste` continua definida quando `x` e `y` são strings:"
   ]
  },
  {
   "cell_type": "code",
   "execution_count": 0,
   "metadata": {
    "collapsed": false
   },
   "outputs": [
   ],
   "source": [
    "teste(\"despacho\", \"múltiplo\")"
   ]
  },
  {
   "cell_type": "markdown",
   "metadata": {
    "collapsed": false
   },
   "source": [
    "Quando declaramos\n",
    "```julia\n",
    "teste(x::Int, y::Int) = println(\"Os argumentos x e y são números inteiros\"),\n",
    "```\n",
    "não removemos ou substituímos\n",
    "```julia\n",
    "teste(x::String, y::String),\n",
    "```\n",
    "simplesmente adicionamos um método à função genérica `teste`.\n",
    "\n",
    "Uma **função genérica** é um conceito abstrato associado a uma operação.\n",
    "Por exemplo, a função genérica `+` representa o conceito de adição.\n",
    "Um **método** é uma implementação específica de uma função genérica para um tipo específico de argumento.\n",
    "Por exemplo, a função `+` possui métodos para números de precisão flutuante, inteiros, matrizes, etc.\n",
    "Podemos usar `methods` para ver os métodos que a função `teste` possui:"
   ]
  },
  {
   "cell_type": "code",
   "execution_count": 0,
   "metadata": {
    "collapsed": false
   },
   "outputs": [
   ],
   "source": [
    "methods(teste)"
   ]
  },
  {
   "cell_type": "markdown",
   "metadata": {
    "collapsed": false
   },
   "source": [
    "E podemos ver os métodos da função `+`:"
   ]
  },
  {
   "cell_type": "code",
   "execution_count": 0,
   "metadata": {
    "collapsed": false
   },
   "outputs": [
   ],
   "source": [
    "methods(+)"
   ]
  },
  {
   "cell_type": "markdown",
   "metadata": {
    "collapsed": false
   },
   "source": [
    "Portanto, agora podemos aplicar `teste` a strings e inteiros.\n",
    "Quando aplicamos `teste` a um par de argumentos, a Julia vai inferir os tipos dos argumentos e despachar o método apropriado.\n",
    "Isso é **despacho múltiplo**.\n",
    "Despacho múltiplo torna os programas genéricos e rápidos.\n",
    "\n",
    "Para ver qual método está sendo despachado quando chamamos uma função genérica, usamos a macro `@which`:"
   ]
  },
  {
   "cell_type": "code",
   "execution_count": 0,
   "metadata": {
    "collapsed": false
   },
   "outputs": [
   ],
   "source": [
    "@which teste(2, 3)"
   ]
  },
  {
   "cell_type": "code",
   "execution_count": 0,
   "metadata": {
    "collapsed": false
   },
   "outputs": [
   ],
   "source": [
    "@which 3.0 + 5.0"
   ]
  }
 ],
 "metadata": {
  "kernelspec": {
   "display_name": "Julia 1.5",
   "env": {
    "JULIA_DEPOT_PATH": "/home/user/.julia/:/ext/julia/depot/",
    "JULIA_PROJECT": "/home/user/.julia/environment/v1.5"
   },
   "language": "julia",
   "metadata": {
    "cocalc": {
     "description": "The Julia Programming Language",
     "priority": 10,
     "url": "https://julialang.org/"
    }
   },
   "name": "julia-1.5",
   "resource_dir": "/ext/jupyter/kernels/julia-1.5"
  },
  "language_info": {
   "file_extension": ".jl",
   "mimetype": "application/julia",
   "name": "julia",
   "version": "1.5.3"
  }
 },
 "nbformat": 4,
 "nbformat_minor": 4
}