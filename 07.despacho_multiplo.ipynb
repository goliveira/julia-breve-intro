{
 "cells": [
  {
   "cell_type": "markdown",
   "metadata": {},
   "source": [
    "# Despacho múltiplo\n",
    "\n",
    "Neste notebook, vamos explorar o conceito de [despacho múltiplo](https://en.wikipedia.org/wiki/Multiple_dispatch), que é um recurso chave da linguagem Julia.\n",
    "\n",
    "Para entender despacho múltiplo em Julia, vamos começar com um exemplo que nós já vimos.\n",
    "\n",
    "Em Julia, podemos declarar funções sem informar o tipo dos argumentos da função.\n",
    "Por exemplo:"
   ]
  },
  {
   "cell_type": "code",
   "execution_count": 1,
   "metadata": {},
   "outputs": [
    {
     "data": {
      "text/plain": [
       "f (generic function with 1 method)"
      ]
     },
     "execution_count": 1,
     "metadata": {},
     "output_type": "execute_result"
    }
   ],
   "source": [
    "f(x) = x^2"
   ]
  },
  {
   "cell_type": "markdown",
   "metadata": {},
   "source": [
    "Então a Julia vai determinar automaticamente sobre quais tipos de argumentos faz sentido aplicar a função, e sobre quais tipos não faz:"
   ]
  },
  {
   "cell_type": "code",
   "execution_count": 2,
   "metadata": {},
   "outputs": [
    {
     "data": {
      "text/plain": [
       "81"
      ]
     },
     "execution_count": 2,
     "metadata": {},
     "output_type": "execute_result"
    }
   ],
   "source": [
    "f(9)"
   ]
  },
  {
   "cell_type": "code",
   "execution_count": 3,
   "metadata": {},
   "outputs": [
    {
     "ename": "MethodError",
     "evalue": "MethodError: no method matching ^(::Array{Int64,1}, ::Int64)\nClosest candidates are:\n  ^(!Matched::Float16, ::Integer) at math.jl:862\n  ^(!Matched::Regex, ::Integer) at regex.jl:712\n  ^(!Matched::Missing, ::Integer) at missing.jl:151\n  ...",
     "output_type": "error",
     "traceback": [
      "MethodError: no method matching ^(::Array{Int64,1}, ::Int64)\nClosest candidates are:\n  ^(!Matched::Float16, ::Integer) at math.jl:862\n  ^(!Matched::Regex, ::Integer) at regex.jl:712\n  ^(!Matched::Missing, ::Integer) at missing.jl:151\n  ...",
      "",
      "Stacktrace:",
      " [1] macro expansion at ./none:0 [inlined]",
      " [2] literal_pow at ./none:0 [inlined]",
      " [3] f(::Array{Int64,1}) at ./In[1]:1",
      " [4] top-level scope at In[3]:1"
     ]
    }
   ],
   "source": [
    "f([1, 2, 3])"
   ]
  },
  {
   "cell_type": "markdown",
   "metadata": {},
   "source": [
    "## Especificando os tipos dos argumentos\n",
    "\n",
    "Temos a opção de declarar explicitamente quais tipos de argumentos uma função pode receber.\n",
    "Por exemplo, vamos definir uma função `teste` que só pode receber argumentos do tipo `String`:"
   ]
  },
  {
   "cell_type": "code",
   "execution_count": 4,
   "metadata": {},
   "outputs": [
    {
     "data": {
      "text/plain": [
       "teste (generic function with 1 method)"
      ]
     },
     "execution_count": 4,
     "metadata": {},
     "output_type": "execute_result"
    }
   ],
   "source": [
    "teste(x::String, y::String) = println(\"Os argumentos x e y são strings\")"
   ]
  },
  {
   "cell_type": "markdown",
   "metadata": {},
   "source": [
    "Vamos verificar que a função `teste` age sobre strings, mas não age sobre argumentos de outros tipos:"
   ]
  },
  {
   "cell_type": "code",
   "execution_count": 5,
   "metadata": {},
   "outputs": [
    {
     "name": "stdout",
     "output_type": "stream",
     "text": [
      "Os argumentos x e y são strings\n"
     ]
    }
   ],
   "source": [
    "teste(\"despacho\", \"múltiplo\")"
   ]
  },
  {
   "cell_type": "code",
   "execution_count": 6,
   "metadata": {},
   "outputs": [
    {
     "ename": "MethodError",
     "evalue": "MethodError: no method matching teste(::Int64, ::Int64)",
     "output_type": "error",
     "traceback": [
      "MethodError: no method matching teste(::Int64, ::Int64)",
      "",
      "Stacktrace:",
      " [1] top-level scope at In[6]:1"
     ]
    }
   ],
   "source": [
    "teste(2, 3)"
   ]
  },
  {
   "cell_type": "markdown",
   "metadata": {},
   "source": [
    "Para fazer com que a função `teste` aceite números inteiros, vamos definir `teste` para argumentos do tipo `Int`:"
   ]
  },
  {
   "cell_type": "code",
   "execution_count": 7,
   "metadata": {},
   "outputs": [
    {
     "data": {
      "text/plain": [
       "teste (generic function with 2 methods)"
      ]
     },
     "execution_count": 7,
     "metadata": {},
     "output_type": "execute_result"
    }
   ],
   "source": [
    "teste(x::Int, y::Int) = println(\"Os argumentos x e y são números inteiros\")"
   ]
  },
  {
   "cell_type": "code",
   "execution_count": 8,
   "metadata": {},
   "outputs": [
    {
     "name": "stdout",
     "output_type": "stream",
     "text": [
      "Os argumentos x e y são números inteiros\n"
     ]
    }
   ],
   "source": [
    "teste(2, 3)"
   ]
  },
  {
   "cell_type": "markdown",
   "metadata": {},
   "source": [
    "Agora `teste` age sobre os inteiros.\n",
    "Mas observe, a função `teste` continua definida quando `x` e `y` são strings:"
   ]
  },
  {
   "cell_type": "code",
   "execution_count": 9,
   "metadata": {},
   "outputs": [
    {
     "name": "stdout",
     "output_type": "stream",
     "text": [
      "Os argumentos x e y são strings\n"
     ]
    }
   ],
   "source": [
    "teste(\"despacho\", \"múltiplo\")"
   ]
  },
  {
   "cell_type": "markdown",
   "metadata": {},
   "source": [
    "Quando declaramos\n",
    "```julia\n",
    "teste(x::Int, y::Int) = println(\"Os argumentos x e y são números inteiros\"),\n",
    "```\n",
    "não removemos ou substituímos\n",
    "```julia\n",
    "teste(x::String, y::String),\n",
    "```\n",
    "simplesmente adicionamos um método à função genérica `teste`.\n",
    "\n",
    "Uma **função genérica** é um conceito abstrato associado a uma operação.\n",
    "Por exemplo, a função genérica `+` representa o conceito de adição.\n",
    "Um **método** é uma implementação específica de uma função genérica para um tipo específico de argumento.\n",
    "Por exemplo, a função `+` possui métodos para números de precisão flutuante, inteiros, matrizes, etc.\n",
    "Podemos usar `methods` para ver os métodos que a função `teste` possui:"
   ]
  },
  {
   "cell_type": "code",
   "execution_count": 10,
   "metadata": {},
   "outputs": [
    {
     "data": {
      "text/html": [
       "# 2 methods for generic function <b>teste</b>:<ul><li> teste(x::<b>Int64</b>, y::<b>Int64</b>) in Main at In[7]:1</li> <li> teste(x::<b>String</b>, y::<b>String</b>) in Main at In[4]:1</li> </ul>"
      ],
      "text/plain": [
       "# 2 methods for generic function \"teste\":\n",
       "[1] teste(x::Int64, y::Int64) in Main at In[7]:1\n",
       "[2] teste(x::String, y::String) in Main at In[4]:1"
      ]
     },
     "execution_count": 10,
     "metadata": {},
     "output_type": "execute_result"
    }
   ],
   "source": [
    "methods(teste)"
   ]
  },
  {
   "cell_type": "markdown",
   "metadata": {},
   "source": [
    "E podemos ver os métodos da função `+`:"
   ]
  },
  {
   "cell_type": "code",
   "execution_count": 11,
   "metadata": {},
   "outputs": [
    {
     "data": {
      "text/html": [
       "# 166 methods for generic function <b>+</b>:<ul><li> +(x::<b>Bool</b>, z::<b>Complex{Bool}</b>) in Base at <a href=\"https://github.com/JuliaLang/julia/tree/2d5741174ce3e6a394010d2e470e4269ca54607f/base/complex.jl#L282\" target=\"_blank\">complex.jl:282</a></li> <li> +(x::<b>Bool</b>, y::<b>Bool</b>) in Base at <a href=\"https://github.com/JuliaLang/julia/tree/2d5741174ce3e6a394010d2e470e4269ca54607f/base/bool.jl#L96\" target=\"_blank\">bool.jl:96</a></li> <li> +(x::<b>Bool</b>) in Base at <a href=\"https://github.com/JuliaLang/julia/tree/2d5741174ce3e6a394010d2e470e4269ca54607f/base/bool.jl#L93\" target=\"_blank\">bool.jl:93</a></li> <li> +(x::<b>Bool</b>, y::<b>T</b>)<i> where T<:AbstractFloat</i> in Base at <a href=\"https://github.com/JuliaLang/julia/tree/2d5741174ce3e6a394010d2e470e4269ca54607f/base/bool.jl#L104\" target=\"_blank\">bool.jl:104</a></li> <li> +(x::<b>Bool</b>, z::<b>Complex</b>) in Base at <a href=\"https://github.com/JuliaLang/julia/tree/2d5741174ce3e6a394010d2e470e4269ca54607f/base/complex.jl#L289\" target=\"_blank\">complex.jl:289</a></li> <li> +(a::<b>Float16</b>, b::<b>Float16</b>) in Base at <a href=\"https://github.com/JuliaLang/julia/tree/2d5741174ce3e6a394010d2e470e4269ca54607f/base/float.jl#L398\" target=\"_blank\">float.jl:398</a></li> <li> +(x::<b>Float32</b>, y::<b>Float32</b>) in Base at <a href=\"https://github.com/JuliaLang/julia/tree/2d5741174ce3e6a394010d2e470e4269ca54607f/base/float.jl#L400\" target=\"_blank\">float.jl:400</a></li> <li> +(x::<b>Float64</b>, y::<b>Float64</b>) in Base at <a href=\"https://github.com/JuliaLang/julia/tree/2d5741174ce3e6a394010d2e470e4269ca54607f/base/float.jl#L401\" target=\"_blank\">float.jl:401</a></li> <li> +(z::<b>Complex{Bool}</b>, x::<b>Bool</b>) in Base at <a href=\"https://github.com/JuliaLang/julia/tree/2d5741174ce3e6a394010d2e470e4269ca54607f/base/complex.jl#L283\" target=\"_blank\">complex.jl:283</a></li> <li> +(z::<b>Complex{Bool}</b>, x::<b>Real</b>) in Base at <a href=\"https://github.com/JuliaLang/julia/tree/2d5741174ce3e6a394010d2e470e4269ca54607f/base/complex.jl#L297\" target=\"_blank\">complex.jl:297</a></li> <li> +(::<b>Missing</b>, ::<b>Missing</b>) in Base at <a href=\"https://github.com/JuliaLang/julia/tree/2d5741174ce3e6a394010d2e470e4269ca54607f/base/missing.jl#L114\" target=\"_blank\">missing.jl:114</a></li> <li> +(::<b>Missing</b>) in Base at <a href=\"https://github.com/JuliaLang/julia/tree/2d5741174ce3e6a394010d2e470e4269ca54607f/base/missing.jl#L100\" target=\"_blank\">missing.jl:100</a></li> <li> +(::<b>Missing</b>, ::<b>Number</b>) in Base at <a href=\"https://github.com/JuliaLang/julia/tree/2d5741174ce3e6a394010d2e470e4269ca54607f/base/missing.jl#L115\" target=\"_blank\">missing.jl:115</a></li> <li> +(level::<b>Base.CoreLogging.LogLevel</b>, inc::<b>Integer</b>) in Base.CoreLogging at <a href=\"https://github.com/JuliaLang/julia/tree/2d5741174ce3e6a394010d2e470e4269ca54607f/base/logging.jl#L106\" target=\"_blank\">logging.jl:106</a></li> <li> +(c::<b>BigInt</b>, x::<b>BigFloat</b>) in Base.MPFR at <a href=\"https://github.com/JuliaLang/julia/tree/2d5741174ce3e6a394010d2e470e4269ca54607f/base/mpfr.jl#L413\" target=\"_blank\">mpfr.jl:413</a></li> <li> +(a::<b>BigInt</b>, b::<b>BigInt</b>, c::<b>BigInt</b>, d::<b>BigInt</b>, e::<b>BigInt</b>) in Base.GMP at <a href=\"https://github.com/JuliaLang/julia/tree/2d5741174ce3e6a394010d2e470e4269ca54607f/base/gmp.jl#L503\" target=\"_blank\">gmp.jl:503</a></li> <li> +(a::<b>BigInt</b>, b::<b>BigInt</b>, c::<b>BigInt</b>, d::<b>BigInt</b>) in Base.GMP at <a href=\"https://github.com/JuliaLang/julia/tree/2d5741174ce3e6a394010d2e470e4269ca54607f/base/gmp.jl#L502\" target=\"_blank\">gmp.jl:502</a></li> <li> +(a::<b>BigInt</b>, b::<b>BigInt</b>, c::<b>BigInt</b>) in Base.GMP at <a href=\"https://github.com/JuliaLang/julia/tree/2d5741174ce3e6a394010d2e470e4269ca54607f/base/gmp.jl#L501\" target=\"_blank\">gmp.jl:501</a></li> <li> +(x::<b>BigInt</b>, y::<b>BigInt</b>) in Base.GMP at <a href=\"https://github.com/JuliaLang/julia/tree/2d5741174ce3e6a394010d2e470e4269ca54607f/base/gmp.jl#L472\" target=\"_blank\">gmp.jl:472</a></li> <li> +(x::<b>BigInt</b>, c::<b>Union{UInt16, UInt32, UInt64, UInt8}</b>) in Base.GMP at <a href=\"https://github.com/JuliaLang/julia/tree/2d5741174ce3e6a394010d2e470e4269ca54607f/base/gmp.jl#L509\" target=\"_blank\">gmp.jl:509</a></li> <li> +(x::<b>BigInt</b>, c::<b>Union{Int16, Int32, Int64, Int8}</b>) in Base.GMP at <a href=\"https://github.com/JuliaLang/julia/tree/2d5741174ce3e6a394010d2e470e4269ca54607f/base/gmp.jl#L515\" target=\"_blank\">gmp.jl:515</a></li> <li> +(a::<b>BigFloat</b>, b::<b>BigFloat</b>, c::<b>BigFloat</b>, d::<b>BigFloat</b>, e::<b>BigFloat</b>) in Base.MPFR at <a href=\"https://github.com/JuliaLang/julia/tree/2d5741174ce3e6a394010d2e470e4269ca54607f/base/mpfr.jl#L563\" target=\"_blank\">mpfr.jl:563</a></li> <li> +(a::<b>BigFloat</b>, b::<b>BigFloat</b>, c::<b>BigFloat</b>, d::<b>BigFloat</b>) in Base.MPFR at <a href=\"https://github.com/JuliaLang/julia/tree/2d5741174ce3e6a394010d2e470e4269ca54607f/base/mpfr.jl#L556\" target=\"_blank\">mpfr.jl:556</a></li> <li> +(a::<b>BigFloat</b>, b::<b>BigFloat</b>, c::<b>BigFloat</b>) in Base.MPFR at <a href=\"https://github.com/JuliaLang/julia/tree/2d5741174ce3e6a394010d2e470e4269ca54607f/base/mpfr.jl#L550\" target=\"_blank\">mpfr.jl:550</a></li> <li> +(x::<b>BigFloat</b>, c::<b>BigInt</b>) in Base.MPFR at <a href=\"https://github.com/JuliaLang/julia/tree/2d5741174ce3e6a394010d2e470e4269ca54607f/base/mpfr.jl#L409\" target=\"_blank\">mpfr.jl:409</a></li> <li> +(x::<b>BigFloat</b>, y::<b>BigFloat</b>) in Base.MPFR at <a href=\"https://github.com/JuliaLang/julia/tree/2d5741174ce3e6a394010d2e470e4269ca54607f/base/mpfr.jl#L378\" target=\"_blank\">mpfr.jl:378</a></li> <li> +(x::<b>BigFloat</b>, c::<b>Union{UInt16, UInt32, UInt64, UInt8}</b>) in Base.MPFR at <a href=\"https://github.com/JuliaLang/julia/tree/2d5741174ce3e6a394010d2e470e4269ca54607f/base/mpfr.jl#L385\" target=\"_blank\">mpfr.jl:385</a></li> <li> +(x::<b>BigFloat</b>, c::<b>Union{Int16, Int32, Int64, Int8}</b>) in Base.MPFR at <a href=\"https://github.com/JuliaLang/julia/tree/2d5741174ce3e6a394010d2e470e4269ca54607f/base/mpfr.jl#L393\" target=\"_blank\">mpfr.jl:393</a></li> <li> +(x::<b>BigFloat</b>, c::<b>Union{Float16, Float32, Float64}</b>) in Base.MPFR at <a href=\"https://github.com/JuliaLang/julia/tree/2d5741174ce3e6a394010d2e470e4269ca54607f/base/mpfr.jl#L401\" target=\"_blank\">mpfr.jl:401</a></li> <li> +(x::<b>Dates.CompoundPeriod</b>, y::<b>Dates.CompoundPeriod</b>) in Dates at <a href=\"file:///build/julia/src/julia-1.3.1/usr/share/julia/stdlib/v1.3/Dates/src/periods.jl\" target=\"_blank\">/build/julia/src/julia-1.3.1/usr/share/julia/stdlib/v1.3/Dates/src/periods.jl:343</a></li> <li> +(x::<b>Dates.CompoundPeriod</b>, y::<b>Dates.Period</b>) in Dates at <a href=\"file:///build/julia/src/julia-1.3.1/usr/share/julia/stdlib/v1.3/Dates/src/periods.jl\" target=\"_blank\">/build/julia/src/julia-1.3.1/usr/share/julia/stdlib/v1.3/Dates/src/periods.jl:341</a></li> <li> +(x::<b>Dates.CompoundPeriod</b>, y::<b>Dates.TimeType</b>) in Dates at <a href=\"file:///build/julia/src/julia-1.3.1/usr/share/julia/stdlib/v1.3/Dates/src/periods.jl\" target=\"_blank\">/build/julia/src/julia-1.3.1/usr/share/julia/stdlib/v1.3/Dates/src/periods.jl:371</a></li> <li> +(x::<b>Dates.Date</b>, y::<b>Dates.Day</b>) in Dates at <a href=\"file:///build/julia/src/julia-1.3.1/usr/share/julia/stdlib/v1.3/Dates/src/arithmetic.jl\" target=\"_blank\">/build/julia/src/julia-1.3.1/usr/share/julia/stdlib/v1.3/Dates/src/arithmetic.jl:74</a></li> <li> +(x::<b>Dates.Date</b>, y::<b>Dates.Week</b>) in Dates at <a href=\"file:///build/julia/src/julia-1.3.1/usr/share/julia/stdlib/v1.3/Dates/src/arithmetic.jl\" target=\"_blank\">/build/julia/src/julia-1.3.1/usr/share/julia/stdlib/v1.3/Dates/src/arithmetic.jl:72</a></li> <li> +(dt::<b>Dates.Date</b>, z::<b>Dates.Month</b>) in Dates at <a href=\"file:///build/julia/src/julia-1.3.1/usr/share/julia/stdlib/v1.3/Dates/src/arithmetic.jl\" target=\"_blank\">/build/julia/src/julia-1.3.1/usr/share/julia/stdlib/v1.3/Dates/src/arithmetic.jl:55</a></li> <li> +(dt::<b>Dates.Date</b>, y::<b>Dates.Year</b>) in Dates at <a href=\"file:///build/julia/src/julia-1.3.1/usr/share/julia/stdlib/v1.3/Dates/src/arithmetic.jl\" target=\"_blank\">/build/julia/src/julia-1.3.1/usr/share/julia/stdlib/v1.3/Dates/src/arithmetic.jl:28</a></li> <li> +(dt::<b>Dates.Date</b>, t::<b>Dates.Time</b>) in Dates at <a href=\"file:///build/julia/src/julia-1.3.1/usr/share/julia/stdlib/v1.3/Dates/src/arithmetic.jl\" target=\"_blank\">/build/julia/src/julia-1.3.1/usr/share/julia/stdlib/v1.3/Dates/src/arithmetic.jl:19</a></li> <li> +(t::<b>Dates.Time</b>, dt::<b>Dates.Date</b>) in Dates at <a href=\"file:///build/julia/src/julia-1.3.1/usr/share/julia/stdlib/v1.3/Dates/src/arithmetic.jl\" target=\"_blank\">/build/julia/src/julia-1.3.1/usr/share/julia/stdlib/v1.3/Dates/src/arithmetic.jl:20</a></li> <li> +(x::<b>Dates.Time</b>, y::<b>Dates.TimePeriod</b>) in Dates at <a href=\"file:///build/julia/src/julia-1.3.1/usr/share/julia/stdlib/v1.3/Dates/src/arithmetic.jl\" target=\"_blank\">/build/julia/src/julia-1.3.1/usr/share/julia/stdlib/v1.3/Dates/src/arithmetic.jl:78</a></li> <li> +(dt::<b>Dates.DateTime</b>, z::<b>Dates.Month</b>) in Dates at <a href=\"file:///build/julia/src/julia-1.3.1/usr/share/julia/stdlib/v1.3/Dates/src/arithmetic.jl\" target=\"_blank\">/build/julia/src/julia-1.3.1/usr/share/julia/stdlib/v1.3/Dates/src/arithmetic.jl:48</a></li> <li> +(dt::<b>Dates.DateTime</b>, y::<b>Dates.Year</b>) in Dates at <a href=\"file:///build/julia/src/julia-1.3.1/usr/share/julia/stdlib/v1.3/Dates/src/arithmetic.jl\" target=\"_blank\">/build/julia/src/julia-1.3.1/usr/share/julia/stdlib/v1.3/Dates/src/arithmetic.jl:24</a></li> <li> +(x::<b>Dates.DateTime</b>, y::<b>Dates.Period</b>) in Dates at <a href=\"file:///build/julia/src/julia-1.3.1/usr/share/julia/stdlib/v1.3/Dates/src/arithmetic.jl\" target=\"_blank\">/build/julia/src/julia-1.3.1/usr/share/julia/stdlib/v1.3/Dates/src/arithmetic.jl:76</a></li> <li> +(B::<b>BitArray{2}</b>, J::<b>LinearAlgebra.UniformScaling</b>) in LinearAlgebra at <a href=\"file:///build/julia/src/julia-1.3.1/usr/share/julia/stdlib/v1.3/LinearAlgebra/src/uniformscaling.jl\" target=\"_blank\">/build/julia/src/julia-1.3.1/usr/share/julia/stdlib/v1.3/LinearAlgebra/src/uniformscaling.jl:115</a></li> <li> +(a::<b>Pkg.Resolve.VersionWeights.VersionWeight</b>, b::<b>Pkg.Resolve.VersionWeights.VersionWeight</b>) in Pkg.Resolve.VersionWeights at <a href=\"file:///build/julia/src/julia-1.3.1/usr/share/julia/stdlib/v1.3/Pkg/src/resolve/VersionWeights.jl\" target=\"_blank\">/build/julia/src/julia-1.3.1/usr/share/julia/stdlib/v1.3/Pkg/src/resolve/VersionWeights.jl:26</a></li> <li> +(a::<b>Pkg.Resolve.MaxSum.FieldValues.FieldValue</b>, b::<b>Pkg.Resolve.MaxSum.FieldValues.FieldValue</b>) in Pkg.Resolve.MaxSum.FieldValues at <a href=\"file:///build/julia/src/julia-1.3.1/usr/share/julia/stdlib/v1.3/Pkg/src/resolve/FieldValues.jl\" target=\"_blank\">/build/julia/src/julia-1.3.1/usr/share/julia/stdlib/v1.3/Pkg/src/resolve/FieldValues.jl:49</a></li> <li> +(y::<b>AbstractFloat</b>, x::<b>Bool</b>) in Base at <a href=\"https://github.com/JuliaLang/julia/tree/2d5741174ce3e6a394010d2e470e4269ca54607f/base/bool.jl#L106\" target=\"_blank\">bool.jl:106</a></li> <li> +(x::<b>T</b>, y::<b>T</b>)<i> where T<:Union{Int128, Int16, Int32, Int64, Int8, UInt128, UInt16, UInt32, UInt64, UInt8}</i> in Base at <a href=\"https://github.com/JuliaLang/julia/tree/2d5741174ce3e6a394010d2e470e4269ca54607f/base/int.jl#L53\" target=\"_blank\">int.jl:53</a></li> <li> +(c::<b>Union{UInt16, UInt32, UInt64, UInt8}</b>, x::<b>BigInt</b>) in Base.GMP at <a href=\"https://github.com/JuliaLang/julia/tree/2d5741174ce3e6a394010d2e470e4269ca54607f/base/gmp.jl#L510\" target=\"_blank\">gmp.jl:510</a></li> <li> +(c::<b>Union{Int16, Int32, Int64, Int8}</b>, x::<b>BigInt</b>) in Base.GMP at <a href=\"https://github.com/JuliaLang/julia/tree/2d5741174ce3e6a394010d2e470e4269ca54607f/base/gmp.jl#L516\" target=\"_blank\">gmp.jl:516</a></li> <li> +(a::<b>Integer</b>, b::<b>Integer</b>) in Base at <a href=\"https://github.com/JuliaLang/julia/tree/2d5741174ce3e6a394010d2e470e4269ca54607f/base/int.jl#L871\" target=\"_blank\">int.jl:871</a></li> <li> +(x::<b>Integer</b>, y::<b>Ptr</b>) in Base at <a href=\"https://github.com/JuliaLang/julia/tree/2d5741174ce3e6a394010d2e470e4269ca54607f/base/pointer.jl#L161\" target=\"_blank\">pointer.jl:161</a></li> <li> +(z::<b>Complex</b>) in Base at <a href=\"https://github.com/JuliaLang/julia/tree/2d5741174ce3e6a394010d2e470e4269ca54607f/base/complex.jl#L269\" target=\"_blank\">complex.jl:269</a></li> <li> +(z::<b>Complex</b>, w::<b>Complex</b>) in Base at <a href=\"https://github.com/JuliaLang/julia/tree/2d5741174ce3e6a394010d2e470e4269ca54607f/base/complex.jl#L271\" target=\"_blank\">complex.jl:271</a></li> <li> +(z::<b>Complex</b>, x::<b>Bool</b>) in Base at <a href=\"https://github.com/JuliaLang/julia/tree/2d5741174ce3e6a394010d2e470e4269ca54607f/base/complex.jl#L290\" target=\"_blank\">complex.jl:290</a></li> <li> +(x::<b>Rational</b>) in Base at <a href=\"https://github.com/JuliaLang/julia/tree/2d5741174ce3e6a394010d2e470e4269ca54607f/base/rational.jl#L241\" target=\"_blank\">rational.jl:241</a></li> <li> +(x::<b>Real</b>, z::<b>Complex{Bool}</b>) in Base at <a href=\"https://github.com/JuliaLang/julia/tree/2d5741174ce3e6a394010d2e470e4269ca54607f/base/complex.jl#L296\" target=\"_blank\">complex.jl:296</a></li> <li> +(x::<b>Real</b>, z::<b>Complex</b>) in Base at <a href=\"https://github.com/JuliaLang/julia/tree/2d5741174ce3e6a394010d2e470e4269ca54607f/base/complex.jl#L308\" target=\"_blank\">complex.jl:308</a></li> <li> +(z::<b>Complex</b>, x::<b>Real</b>) in Base at <a href=\"https://github.com/JuliaLang/julia/tree/2d5741174ce3e6a394010d2e470e4269ca54607f/base/complex.jl#L309\" target=\"_blank\">complex.jl:309</a></li> <li> +(x::<b>Rational</b>, y::<b>Rational</b>) in Base at <a href=\"https://github.com/JuliaLang/julia/tree/2d5741174ce3e6a394010d2e470e4269ca54607f/base/rational.jl#L257\" target=\"_blank\">rational.jl:257</a></li> <li> +(x::<b>Integer</b>, y::<b>AbstractChar</b>) in Base at <a href=\"https://github.com/JuliaLang/julia/tree/2d5741174ce3e6a394010d2e470e4269ca54607f/base/char.jl#L224\" target=\"_blank\">char.jl:224</a></li> <li> +(c::<b>Union{UInt16, UInt32, UInt64, UInt8}</b>, x::<b>BigFloat</b>) in Base.MPFR at <a href=\"https://github.com/JuliaLang/julia/tree/2d5741174ce3e6a394010d2e470e4269ca54607f/base/mpfr.jl#L389\" target=\"_blank\">mpfr.jl:389</a></li> <li> +(c::<b>Union{Int16, Int32, Int64, Int8}</b>, x::<b>BigFloat</b>) in Base.MPFR at <a href=\"https://github.com/JuliaLang/julia/tree/2d5741174ce3e6a394010d2e470e4269ca54607f/base/mpfr.jl#L397\" target=\"_blank\">mpfr.jl:397</a></li> <li> +(c::<b>Union{Float16, Float32, Float64}</b>, x::<b>BigFloat</b>) in Base.MPFR at <a href=\"https://github.com/JuliaLang/julia/tree/2d5741174ce3e6a394010d2e470e4269ca54607f/base/mpfr.jl#L405\" target=\"_blank\">mpfr.jl:405</a></li> <li> +(x::<b>AbstractIrrational</b>, y::<b>AbstractIrrational</b>) in Base at <a href=\"https://github.com/JuliaLang/julia/tree/2d5741174ce3e6a394010d2e470e4269ca54607f/base/irrationals.jl#L137\" target=\"_blank\">irrationals.jl:137</a></li> <li> +(x::<b>Number</b>) in Base at <a href=\"https://github.com/JuliaLang/julia/tree/2d5741174ce3e6a394010d2e470e4269ca54607f/base/operators.jl#L504\" target=\"_blank\">operators.jl:504</a></li> <li> +(x::<b>T</b>, y::<b>T</b>)<i> where T<:Number</i> in Base at <a href=\"https://github.com/JuliaLang/julia/tree/2d5741174ce3e6a394010d2e470e4269ca54607f/base/promotion.jl#L387\" target=\"_blank\">promotion.jl:387</a></li> <li> +(x::<b>Number</b>, y::<b>Number</b>) in Base at <a href=\"https://github.com/JuliaLang/julia/tree/2d5741174ce3e6a394010d2e470e4269ca54607f/base/promotion.jl#L311\" target=\"_blank\">promotion.jl:311</a></li> <li> +(r1::<b>OrdinalRange</b>, r2::<b>OrdinalRange</b>) in Base at <a href=\"https://github.com/JuliaLang/julia/tree/2d5741174ce3e6a394010d2e470e4269ca54607f/base/range.jl#L1011\" target=\"_blank\">range.jl:1011</a></li> <li> +(r1::<b>LinRange{T}</b>, r2::<b>LinRange{T}</b>)<i> where T</i> in Base at <a href=\"https://github.com/JuliaLang/julia/tree/2d5741174ce3e6a394010d2e470e4269ca54607f/base/range.jl#L1018\" target=\"_blank\">range.jl:1018</a></li> <li> +(r1::<b>StepRangeLen{T,R,S} where S</b>, r2::<b>StepRangeLen{T,R,S} where S</b>)<i> where {R<:Base.TwicePrecision, T}</i> in Base at <a href=\"https://github.com/JuliaLang/julia/tree/2d5741174ce3e6a394010d2e470e4269ca54607f/base/twiceprecision.jl#L557\" target=\"_blank\">twiceprecision.jl:557</a></li> <li> +(r1::<b>StepRangeLen{T,S,S1} where S1</b>, r2::<b>StepRangeLen{T,S,S1} where S1</b>)<i> where {T, S}</i> in Base at <a href=\"https://github.com/JuliaLang/julia/tree/2d5741174ce3e6a394010d2e470e4269ca54607f/base/range.jl#L1034\" target=\"_blank\">range.jl:1034</a></li> <li> +(r1::<b>Union{LinRange, OrdinalRange, StepRangeLen}</b>, r2::<b>Union{LinRange, OrdinalRange, StepRangeLen}</b>) in Base at <a href=\"https://github.com/JuliaLang/julia/tree/2d5741174ce3e6a394010d2e470e4269ca54607f/base/range.jl#L1026\" target=\"_blank\">range.jl:1026</a></li> <li> +(x::<b>Ptr</b>, y::<b>Integer</b>) in Base at <a href=\"https://github.com/JuliaLang/julia/tree/2d5741174ce3e6a394010d2e470e4269ca54607f/base/pointer.jl#L159\" target=\"_blank\">pointer.jl:159</a></li> <li> +(x::<b>Base.TwicePrecision</b>, y::<b>Number</b>) in Base at <a href=\"https://github.com/JuliaLang/julia/tree/2d5741174ce3e6a394010d2e470e4269ca54607f/base/twiceprecision.jl#L265\" target=\"_blank\">twiceprecision.jl:265</a></li> <li> +(x::<b>Number</b>, y::<b>Base.TwicePrecision</b>) in Base at <a href=\"https://github.com/JuliaLang/julia/tree/2d5741174ce3e6a394010d2e470e4269ca54607f/base/twiceprecision.jl#L268\" target=\"_blank\">twiceprecision.jl:268</a></li> <li> +(x::<b>Base.TwicePrecision{T}</b>, y::<b>Base.TwicePrecision{T}</b>)<i> where T</i> in Base at <a href=\"https://github.com/JuliaLang/julia/tree/2d5741174ce3e6a394010d2e470e4269ca54607f/base/twiceprecision.jl#L271\" target=\"_blank\">twiceprecision.jl:271</a></li> <li> +(x::<b>Base.TwicePrecision</b>, y::<b>Base.TwicePrecision</b>) in Base at <a href=\"https://github.com/JuliaLang/julia/tree/2d5741174ce3e6a394010d2e470e4269ca54607f/base/twiceprecision.jl#L275\" target=\"_blank\">twiceprecision.jl:275</a></li> <li> +(A::<b>Array</b>, Bs::<b>Array...</b>) in Base at <a href=\"https://github.com/JuliaLang/julia/tree/2d5741174ce3e6a394010d2e470e4269ca54607f/base/arraymath.jl#L44\" target=\"_blank\">arraymath.jl:44</a></li> <li> +(A::<b>BitArray</b>, B::<b>BitArray</b>) in Base at <a href=\"https://github.com/JuliaLang/julia/tree/2d5741174ce3e6a394010d2e470e4269ca54607f/base/bitarray.jl#L1084\" target=\"_blank\">bitarray.jl:1084</a></li> <li> +(r::<b>AbstractRange{#s627} where #s627<:Dates.TimeType</b>, x::<b>Dates.Period</b>) in Dates at <a href=\"file:///build/julia/src/julia-1.3.1/usr/share/julia/stdlib/v1.3/Dates/src/ranges.jl\" target=\"_blank\">/build/julia/src/julia-1.3.1/usr/share/julia/stdlib/v1.3/Dates/src/ranges.jl:59</a></li> <li> +(A::<b>Array</b>, B::<b>SparseArrays.SparseMatrixCSC</b>) in SparseArrays at <a href=\"file:///build/julia/src/julia-1.3.1/usr/share/julia/stdlib/v1.3/SparseArrays/src/sparsematrix.jl\" target=\"_blank\">/build/julia/src/julia-1.3.1/usr/share/julia/stdlib/v1.3/SparseArrays/src/sparsematrix.jl:1647</a></li> <li> +(x::<b>Union{DenseArray{#s627,N}, Base.ReinterpretArray{#s627,N,S,A} where S where A<:Union{SubArray{T,N,A,I,true} where I<:Union{Tuple{Vararg{Real,N} where N}, Tuple{AbstractUnitRange,Vararg{Any,N} where N}} where A<:DenseArray where N where T, DenseArray}, Base.ReshapedArray{#s627,N,A,MI} where MI<:Tuple{Vararg{Base.MultiplicativeInverses.SignedMultiplicativeInverse{Int64},N} where N} where A<:Union{Base.ReinterpretArray{T,N,S,A} where S where A<:Union{SubArray{T,N,A,I,true} where I<:Union{Tuple{Vararg{Real,N} where N}, Tuple{AbstractUnitRange,Vararg{Any,N} where N}} where A<:DenseArray where N where T, DenseArray} where N where T, SubArray{T,N,A,I,true} where I<:Union{Tuple{Vararg{Real,N} where N}, Tuple{AbstractUnitRange,Vararg{Any,N} where N}} where A<:DenseArray where N where T, DenseArray}, SubArray{#s627,N,A,I,L} where L where I<:Tuple{Vararg{Union{Int64, AbstractRange{Int64}, Base.AbstractCartesianIndex},N} where N} where A<:Union{Base.ReinterpretArray{T,N,S,A} where S where A<:Union{SubArray{T,N,A,I,true} where I<:Union{Tuple{Vararg{Real,N} where N}, Tuple{AbstractUnitRange,Vararg{Any,N} where N}} where A<:DenseArray where N where T, DenseArray} where N where T, Base.ReshapedArray{T,N,A,MI} where MI<:Tuple{Vararg{Base.MultiplicativeInverses.SignedMultiplicativeInverse{Int64},N} where N} where A<:Union{Base.ReinterpretArray{T,N,S,A} where S where A<:Union{SubArray{T,N,A,I,true} where I<:Union{Tuple{Vararg{Real,N} where N}, Tuple{AbstractUnitRange,Vararg{Any,N} where N}} where A<:DenseArray where N where T, DenseArray} where N where T, SubArray{T,N,A,I,true} where I<:Union{Tuple{Vararg{Real,N} where N}, Tuple{AbstractUnitRange,Vararg{Any,N} where N}} where A<:DenseArray where N where T, DenseArray} where N where T, DenseArray}} where N where #s627<:Union{Dates.CompoundPeriod, Dates.Period}</b>) in Dates at <a href=\"file:///build/julia/src/julia-1.3.1/usr/share/julia/stdlib/v1.3/Dates/src/deprecated.jl\" target=\"_blank\">/build/julia/src/julia-1.3.1/usr/share/julia/stdlib/v1.3/Dates/src/deprecated.jl:57</a></li> <li> +(x::<b>Union{DenseArray{#s627,N}, Base.ReinterpretArray{#s627,N,S,A} where S where A<:Union{SubArray{T,N,A,I,true} where I<:Union{Tuple{Vararg{Real,N} where N}, Tuple{AbstractUnitRange,Vararg{Any,N} where N}} where A<:DenseArray where N where T, DenseArray}, Base.ReshapedArray{#s627,N,A,MI} where MI<:Tuple{Vararg{Base.MultiplicativeInverses.SignedMultiplicativeInverse{Int64},N} where N} where A<:Union{Base.ReinterpretArray{T,N,S,A} where S where A<:Union{SubArray{T,N,A,I,true} where I<:Union{Tuple{Vararg{Real,N} where N}, Tuple{AbstractUnitRange,Vararg{Any,N} where N}} where A<:DenseArray where N where T, DenseArray} where N where T, SubArray{T,N,A,I,true} where I<:Union{Tuple{Vararg{Real,N} where N}, Tuple{AbstractUnitRange,Vararg{Any,N} where N}} where A<:DenseArray where N where T, DenseArray}, SubArray{#s627,N,A,I,L} where L where I<:Tuple{Vararg{Union{Int64, AbstractRange{Int64}, Base.AbstractCartesianIndex},N} where N} where A<:Union{Base.ReinterpretArray{T,N,S,A} where S where A<:Union{SubArray{T,N,A,I,true} where I<:Union{Tuple{Vararg{Real,N} where N}, Tuple{AbstractUnitRange,Vararg{Any,N} where N}} where A<:DenseArray where N where T, DenseArray} where N where T, Base.ReshapedArray{T,N,A,MI} where MI<:Tuple{Vararg{Base.MultiplicativeInverses.SignedMultiplicativeInverse{Int64},N} where N} where A<:Union{Base.ReinterpretArray{T,N,S,A} where S where A<:Union{SubArray{T,N,A,I,true} where I<:Union{Tuple{Vararg{Real,N} where N}, Tuple{AbstractUnitRange,Vararg{Any,N} where N}} where A<:DenseArray where N where T, DenseArray} where N where T, SubArray{T,N,A,I,true} where I<:Union{Tuple{Vararg{Real,N} where N}, Tuple{AbstractUnitRange,Vararg{Any,N} where N}} where A<:DenseArray where N where T, DenseArray} where N where T, DenseArray}} where N where #s627<:Union{Dates.CompoundPeriod, Dates.Period}</b>, y::<b>Dates.TimeType</b>) in Dates at <a href=\"file:///build/julia/src/julia-1.3.1/usr/share/julia/stdlib/v1.3/Dates/src/deprecated.jl\" target=\"_blank\">/build/julia/src/julia-1.3.1/usr/share/julia/stdlib/v1.3/Dates/src/deprecated.jl:12</a></li> <li> +(X::<b>Union{DenseArray{#s627,N}, Base.ReinterpretArray{#s627,N,S,A} where S where A<:Union{SubArray{T,N,A,I,true} where I<:Union{Tuple{Vararg{Real,N} where N}, Tuple{AbstractUnitRange,Vararg{Any,N} where N}} where A<:DenseArray where N where T, DenseArray}, Base.ReshapedArray{#s627,N,A,MI} where MI<:Tuple{Vararg{Base.MultiplicativeInverses.SignedMultiplicativeInverse{Int64},N} where N} where A<:Union{Base.ReinterpretArray{T,N,S,A} where S where A<:Union{SubArray{T,N,A,I,true} where I<:Union{Tuple{Vararg{Real,N} where N}, Tuple{AbstractUnitRange,Vararg{Any,N} where N}} where A<:DenseArray where N where T, DenseArray} where N where T, SubArray{T,N,A,I,true} where I<:Union{Tuple{Vararg{Real,N} where N}, Tuple{AbstractUnitRange,Vararg{Any,N} where N}} where A<:DenseArray where N where T, DenseArray}, SubArray{#s627,N,A,I,L} where L where I<:Tuple{Vararg{Union{Int64, AbstractRange{Int64}, Base.AbstractCartesianIndex},N} where N} where A<:Union{Base.ReinterpretArray{T,N,S,A} where S where A<:Union{SubArray{T,N,A,I,true} where I<:Union{Tuple{Vararg{Real,N} where N}, Tuple{AbstractUnitRange,Vararg{Any,N} where N}} where A<:DenseArray where N where T, DenseArray} where N where T, Base.ReshapedArray{T,N,A,MI} where MI<:Tuple{Vararg{Base.MultiplicativeInverses.SignedMultiplicativeInverse{Int64},N} where N} where A<:Union{Base.ReinterpretArray{T,N,S,A} where S where A<:Union{SubArray{T,N,A,I,true} where I<:Union{Tuple{Vararg{Real,N} where N}, Tuple{AbstractUnitRange,Vararg{Any,N} where N}} where A<:DenseArray where N where T, DenseArray} where N where T, SubArray{T,N,A,I,true} where I<:Union{Tuple{Vararg{Real,N} where N}, Tuple{AbstractUnitRange,Vararg{Any,N} where N}} where A<:DenseArray where N where T, DenseArray} where N where T, DenseArray}} where N where #s627<:Union{Dates.CompoundPeriod, Dates.Period}</b>, Y::<b>Union{DenseArray{#s626,N}, Base.ReinterpretArray{#s626,N,S,A} where S where A<:Union{SubArray{T,N,A,I,true} where I<:Union{Tuple{Vararg{Real,N} where N}, Tuple{AbstractUnitRange,Vararg{Any,N} where N}} where A<:DenseArray where N where T, DenseArray}, Base.ReshapedArray{#s626,N,A,MI} where MI<:Tuple{Vararg{Base.MultiplicativeInverses.SignedMultiplicativeInverse{Int64},N} where N} where A<:Union{Base.ReinterpretArray{T,N,S,A} where S where A<:Union{SubArray{T,N,A,I,true} where I<:Union{Tuple{Vararg{Real,N} where N}, Tuple{AbstractUnitRange,Vararg{Any,N} where N}} where A<:DenseArray where N where T, DenseArray} where N where T, SubArray{T,N,A,I,true} where I<:Union{Tuple{Vararg{Real,N} where N}, Tuple{AbstractUnitRange,Vararg{Any,N} where N}} where A<:DenseArray where N where T, DenseArray}, SubArray{#s626,N,A,I,L} where L where I<:Tuple{Vararg{Union{Int64, AbstractRange{Int64}, Base.AbstractCartesianIndex},N} where N} where A<:Union{Base.ReinterpretArray{T,N,S,A} where S where A<:Union{SubArray{T,N,A,I,true} where I<:Union{Tuple{Vararg{Real,N} where N}, Tuple{AbstractUnitRange,Vararg{Any,N} where N}} where A<:DenseArray where N where T, DenseArray} where N where T, Base.ReshapedArray{T,N,A,MI} where MI<:Tuple{Vararg{Base.MultiplicativeInverses.SignedMultiplicativeInverse{Int64},N} where N} where A<:Union{Base.ReinterpretArray{T,N,S,A} where S where A<:Union{SubArray{T,N,A,I,true} where I<:Union{Tuple{Vararg{Real,N} where N}, Tuple{AbstractUnitRange,Vararg{Any,N} where N}} where A<:DenseArray where N where T, DenseArray} where N where T, SubArray{T,N,A,I,true} where I<:Union{Tuple{Vararg{Real,N} where N}, Tuple{AbstractUnitRange,Vararg{Any,N} where N}} where A<:DenseArray where N where T, DenseArray} where N where T, DenseArray}} where N where #s626<:Union{Dates.CompoundPeriod, Dates.Period}</b>) in Dates at <a href=\"file:///build/julia/src/julia-1.3.1/usr/share/julia/stdlib/v1.3/Dates/src/deprecated.jl\" target=\"_blank\">/build/julia/src/julia-1.3.1/usr/share/julia/stdlib/v1.3/Dates/src/deprecated.jl:64</a></li> <li> +(A::<b>LinearAlgebra.SymTridiagonal</b>, B::<b>LinearAlgebra.SymTridiagonal</b>) in LinearAlgebra at <a href=\"file:///build/julia/src/julia-1.3.1/usr/share/julia/stdlib/v1.3/LinearAlgebra/src/tridiag.jl\" target=\"_blank\">/build/julia/src/julia-1.3.1/usr/share/julia/stdlib/v1.3/LinearAlgebra/src/tridiag.jl:158</a></li> <li> +(A::<b>LinearAlgebra.Tridiagonal</b>, B::<b>LinearAlgebra.Tridiagonal</b>) in LinearAlgebra at <a href=\"file:///build/julia/src/julia-1.3.1/usr/share/julia/stdlib/v1.3/LinearAlgebra/src/tridiag.jl\" target=\"_blank\">/build/julia/src/julia-1.3.1/usr/share/julia/stdlib/v1.3/LinearAlgebra/src/tridiag.jl:636</a></li> <li> +(A::<b>LinearAlgebra.UpperTriangular</b>, B::<b>LinearAlgebra.UpperTriangular</b>) in LinearAlgebra at <a href=\"file:///build/julia/src/julia-1.3.1/usr/share/julia/stdlib/v1.3/LinearAlgebra/src/triangular.jl\" target=\"_blank\">/build/julia/src/julia-1.3.1/usr/share/julia/stdlib/v1.3/LinearAlgebra/src/triangular.jl:554</a></li> <li> +(A::<b>LinearAlgebra.LowerTriangular</b>, B::<b>LinearAlgebra.LowerTriangular</b>) in LinearAlgebra at <a href=\"file:///build/julia/src/julia-1.3.1/usr/share/julia/stdlib/v1.3/LinearAlgebra/src/triangular.jl\" target=\"_blank\">/build/julia/src/julia-1.3.1/usr/share/julia/stdlib/v1.3/LinearAlgebra/src/triangular.jl:555</a></li> <li> +(A::<b>LinearAlgebra.UpperTriangular</b>, B::<b>LinearAlgebra.UnitUpperTriangular</b>) in LinearAlgebra at <a href=\"file:///build/julia/src/julia-1.3.1/usr/share/julia/stdlib/v1.3/LinearAlgebra/src/triangular.jl\" target=\"_blank\">/build/julia/src/julia-1.3.1/usr/share/julia/stdlib/v1.3/LinearAlgebra/src/triangular.jl:556</a></li> <li> +(A::<b>LinearAlgebra.LowerTriangular</b>, B::<b>LinearAlgebra.UnitLowerTriangular</b>) in LinearAlgebra at <a href=\"file:///build/julia/src/julia-1.3.1/usr/share/julia/stdlib/v1.3/LinearAlgebra/src/triangular.jl\" target=\"_blank\">/build/julia/src/julia-1.3.1/usr/share/julia/stdlib/v1.3/LinearAlgebra/src/triangular.jl:557</a></li> <li> +(A::<b>LinearAlgebra.UnitUpperTriangular</b>, B::<b>LinearAlgebra.UpperTriangular</b>) in LinearAlgebra at <a href=\"file:///build/julia/src/julia-1.3.1/usr/share/julia/stdlib/v1.3/LinearAlgebra/src/triangular.jl\" target=\"_blank\">/build/julia/src/julia-1.3.1/usr/share/julia/stdlib/v1.3/LinearAlgebra/src/triangular.jl:558</a></li> <li> +(A::<b>LinearAlgebra.UnitLowerTriangular</b>, B::<b>LinearAlgebra.LowerTriangular</b>) in LinearAlgebra at <a href=\"file:///build/julia/src/julia-1.3.1/usr/share/julia/stdlib/v1.3/LinearAlgebra/src/triangular.jl\" target=\"_blank\">/build/julia/src/julia-1.3.1/usr/share/julia/stdlib/v1.3/LinearAlgebra/src/triangular.jl:559</a></li> <li> +(A::<b>LinearAlgebra.UnitUpperTriangular</b>, B::<b>LinearAlgebra.UnitUpperTriangular</b>) in LinearAlgebra at <a href=\"file:///build/julia/src/julia-1.3.1/usr/share/julia/stdlib/v1.3/LinearAlgebra/src/triangular.jl\" target=\"_blank\">/build/julia/src/julia-1.3.1/usr/share/julia/stdlib/v1.3/LinearAlgebra/src/triangular.jl:560</a></li> <li> +(A::<b>LinearAlgebra.UnitLowerTriangular</b>, B::<b>LinearAlgebra.UnitLowerTriangular</b>) in LinearAlgebra at <a href=\"file:///build/julia/src/julia-1.3.1/usr/share/julia/stdlib/v1.3/LinearAlgebra/src/triangular.jl\" target=\"_blank\">/build/julia/src/julia-1.3.1/usr/share/julia/stdlib/v1.3/LinearAlgebra/src/triangular.jl:561</a></li> <li> +(A::<b>LinearAlgebra.AbstractTriangular</b>, B::<b>LinearAlgebra.AbstractTriangular</b>) in LinearAlgebra at <a href=\"file:///build/julia/src/julia-1.3.1/usr/share/julia/stdlib/v1.3/LinearAlgebra/src/triangular.jl\" target=\"_blank\">/build/julia/src/julia-1.3.1/usr/share/julia/stdlib/v1.3/LinearAlgebra/src/triangular.jl:562</a></li> <li> +(A::<b>LinearAlgebra.Symmetric</b>, B::<b>LinearAlgebra.Symmetric</b>) in LinearAlgebra at <a href=\"file:///build/julia/src/julia-1.3.1/usr/share/julia/stdlib/v1.3/LinearAlgebra/src/symmetric.jl\" target=\"_blank\">/build/julia/src/julia-1.3.1/usr/share/julia/stdlib/v1.3/LinearAlgebra/src/symmetric.jl:422</a></li> <li> +(A::<b>LinearAlgebra.Hermitian</b>, B::<b>LinearAlgebra.Hermitian</b>) in LinearAlgebra at <a href=\"file:///build/julia/src/julia-1.3.1/usr/share/julia/stdlib/v1.3/LinearAlgebra/src/symmetric.jl\" target=\"_blank\">/build/julia/src/julia-1.3.1/usr/share/julia/stdlib/v1.3/LinearAlgebra/src/symmetric.jl:423</a></li> <li> +(A::<b>LinearAlgebra.Hermitian</b>, B::<b>LinearAlgebra.Symmetric{#s627,S} where S<:(AbstractArray{#s6271,2} where #s6271<:#s627) where #s627<:Real</b>) in LinearAlgebra at <a href=\"file:///build/julia/src/julia-1.3.1/usr/share/julia/stdlib/v1.3/LinearAlgebra/src/symmetric.jl\" target=\"_blank\">/build/julia/src/julia-1.3.1/usr/share/julia/stdlib/v1.3/LinearAlgebra/src/symmetric.jl:424</a></li> <li> +(A::<b>LinearAlgebra.Symmetric{#s627,S} where S<:(AbstractArray{#s6271,2} where #s6271<:#s627) where #s627<:Real</b>, B::<b>LinearAlgebra.Hermitian</b>) in LinearAlgebra at <a href=\"file:///build/julia/src/julia-1.3.1/usr/share/julia/stdlib/v1.3/LinearAlgebra/src/symmetric.jl\" target=\"_blank\">/build/julia/src/julia-1.3.1/usr/share/julia/stdlib/v1.3/LinearAlgebra/src/symmetric.jl:425</a></li> <li> +(Da::<b>LinearAlgebra.Diagonal</b>, Db::<b>LinearAlgebra.Diagonal</b>) in LinearAlgebra at <a href=\"file:///build/julia/src/julia-1.3.1/usr/share/julia/stdlib/v1.3/LinearAlgebra/src/diagonal.jl\" target=\"_blank\">/build/julia/src/julia-1.3.1/usr/share/julia/stdlib/v1.3/LinearAlgebra/src/diagonal.jl:156</a></li> <li> +(A::<b>LinearAlgebra.Bidiagonal</b>, B::<b>LinearAlgebra.Bidiagonal</b>) in LinearAlgebra at <a href=\"file:///build/julia/src/julia-1.3.1/usr/share/julia/stdlib/v1.3/LinearAlgebra/src/bidiag.jl\" target=\"_blank\">/build/julia/src/julia-1.3.1/usr/share/julia/stdlib/v1.3/LinearAlgebra/src/bidiag.jl:309</a></li> <li> +(UL::<b>LinearAlgebra.UnitUpperTriangular</b>, J::<b>LinearAlgebra.UniformScaling</b>) in LinearAlgebra at <a href=\"file:///build/julia/src/julia-1.3.1/usr/share/julia/stdlib/v1.3/LinearAlgebra/src/uniformscaling.jl\" target=\"_blank\">/build/julia/src/julia-1.3.1/usr/share/julia/stdlib/v1.3/LinearAlgebra/src/uniformscaling.jl:131</a></li> <li> +(UL::<b>LinearAlgebra.UnitLowerTriangular</b>, J::<b>LinearAlgebra.UniformScaling</b>) in LinearAlgebra at <a href=\"file:///build/julia/src/julia-1.3.1/usr/share/julia/stdlib/v1.3/LinearAlgebra/src/uniformscaling.jl\" target=\"_blank\">/build/julia/src/julia-1.3.1/usr/share/julia/stdlib/v1.3/LinearAlgebra/src/uniformscaling.jl:131</a></li> <li> +(A::<b>LinearAlgebra.Hermitian</b>, J::<b>LinearAlgebra.UniformScaling{#s627} where #s627<:Complex</b>) in LinearAlgebra at <a href=\"file:///build/julia/src/julia-1.3.1/usr/share/julia/stdlib/v1.3/LinearAlgebra/src/uniformscaling.jl\" target=\"_blank\">/build/julia/src/julia-1.3.1/usr/share/julia/stdlib/v1.3/LinearAlgebra/src/uniformscaling.jl:145</a></li> <li> +(H::<b>LinearAlgebra.UpperHessenberg</b>, J::<b>LinearAlgebra.UniformScaling</b>) in LinearAlgebra at <a href=\"file:///build/julia/src/julia-1.3.1/usr/share/julia/stdlib/v1.3/LinearAlgebra/src/hessenberg.jl\" target=\"_blank\">/build/julia/src/julia-1.3.1/usr/share/julia/stdlib/v1.3/LinearAlgebra/src/hessenberg.jl:106</a></li> <li> +(A::<b>LinearAlgebra.Tridiagonal{#s627,V} where V<:AbstractArray{#s627,1} where #s627<:Number</b>, B::<b>LinearAlgebra.UniformScaling</b>) in LinearAlgebra at <a href=\"file:///build/julia/src/julia-1.3.1/usr/share/julia/stdlib/v1.3/LinearAlgebra/src/special.jl\" target=\"_blank\">/build/julia/src/julia-1.3.1/usr/share/julia/stdlib/v1.3/LinearAlgebra/src/special.jl:238</a></li> <li> +(A::<b>LinearAlgebra.SymTridiagonal{#s627,V} where V<:AbstractArray{#s627,1} where #s627<:Number</b>, B::<b>LinearAlgebra.UniformScaling</b>) in LinearAlgebra at <a href=\"file:///build/julia/src/julia-1.3.1/usr/share/julia/stdlib/v1.3/LinearAlgebra/src/special.jl\" target=\"_blank\">/build/julia/src/julia-1.3.1/usr/share/julia/stdlib/v1.3/LinearAlgebra/src/special.jl:243</a></li> <li> +(A::<b>LinearAlgebra.Bidiagonal{#s627,V} where V<:AbstractArray{#s627,1} where #s627<:Number</b>, B::<b>LinearAlgebra.UniformScaling</b>) in LinearAlgebra at <a href=\"file:///build/julia/src/julia-1.3.1/usr/share/julia/stdlib/v1.3/LinearAlgebra/src/special.jl\" target=\"_blank\">/build/julia/src/julia-1.3.1/usr/share/julia/stdlib/v1.3/LinearAlgebra/src/special.jl:248</a></li> <li> +(A::<b>LinearAlgebra.Diagonal{#s627,V} where V<:AbstractArray{#s627,1} where #s627<:Number</b>, B::<b>LinearAlgebra.UniformScaling</b>) in LinearAlgebra at <a href=\"file:///build/julia/src/julia-1.3.1/usr/share/julia/stdlib/v1.3/LinearAlgebra/src/special.jl\" target=\"_blank\">/build/julia/src/julia-1.3.1/usr/share/julia/stdlib/v1.3/LinearAlgebra/src/special.jl:253</a></li> <li> +(A::<b>SparseArrays.SparseMatrixCSC</b>, J::<b>LinearAlgebra.UniformScaling</b>) in SparseArrays at <a href=\"file:///build/julia/src/julia-1.3.1/usr/share/julia/stdlib/v1.3/SparseArrays/src/sparsematrix.jl\" target=\"_blank\">/build/julia/src/julia-1.3.1/usr/share/julia/stdlib/v1.3/SparseArrays/src/sparsematrix.jl:3605</a></li> <li> +(A::<b>AbstractArray{T,2} where T</b>, J::<b>LinearAlgebra.UniformScaling</b>) in LinearAlgebra at <a href=\"file:///build/julia/src/julia-1.3.1/usr/share/julia/stdlib/v1.3/LinearAlgebra/src/uniformscaling.jl\" target=\"_blank\">/build/julia/src/julia-1.3.1/usr/share/julia/stdlib/v1.3/LinearAlgebra/src/uniformscaling.jl:164</a></li> <li> +(A::<b>LinearAlgebra.UpperHessenberg</b>, B::<b>LinearAlgebra.UpperHessenberg</b>) in LinearAlgebra at <a href=\"file:///build/julia/src/julia-1.3.1/usr/share/julia/stdlib/v1.3/LinearAlgebra/src/hessenberg.jl\" target=\"_blank\">/build/julia/src/julia-1.3.1/usr/share/julia/stdlib/v1.3/LinearAlgebra/src/hessenberg.jl:101</a></li> <li> +(A::<b>LinearAlgebra.UpperTriangular</b>, B::<b>LinearAlgebra.Bidiagonal</b>) in LinearAlgebra at <a href=\"file:///build/julia/src/julia-1.3.1/usr/share/julia/stdlib/v1.3/LinearAlgebra/src/special.jl\" target=\"_blank\">/build/julia/src/julia-1.3.1/usr/share/julia/stdlib/v1.3/LinearAlgebra/src/special.jl:98</a></li> <li> +(A::<b>LinearAlgebra.Bidiagonal</b>, B::<b>LinearAlgebra.UpperTriangular</b>) in LinearAlgebra at <a href=\"file:///build/julia/src/julia-1.3.1/usr/share/julia/stdlib/v1.3/LinearAlgebra/src/special.jl\" target=\"_blank\">/build/julia/src/julia-1.3.1/usr/share/julia/stdlib/v1.3/LinearAlgebra/src/special.jl:106</a></li> <li> +(A::<b>LinearAlgebra.UnitUpperTriangular</b>, B::<b>LinearAlgebra.Bidiagonal</b>) in LinearAlgebra at <a href=\"file:///build/julia/src/julia-1.3.1/usr/share/julia/stdlib/v1.3/LinearAlgebra/src/special.jl\" target=\"_blank\">/build/julia/src/julia-1.3.1/usr/share/julia/stdlib/v1.3/LinearAlgebra/src/special.jl:98</a></li> <li> +(A::<b>LinearAlgebra.Bidiagonal</b>, B::<b>LinearAlgebra.UnitUpperTriangular</b>) in LinearAlgebra at <a href=\"file:///build/julia/src/julia-1.3.1/usr/share/julia/stdlib/v1.3/LinearAlgebra/src/special.jl\" target=\"_blank\">/build/julia/src/julia-1.3.1/usr/share/julia/stdlib/v1.3/LinearAlgebra/src/special.jl:106</a></li> <li> +(A::<b>LinearAlgebra.LowerTriangular</b>, B::<b>LinearAlgebra.Bidiagonal</b>) in LinearAlgebra at <a href=\"file:///build/julia/src/julia-1.3.1/usr/share/julia/stdlib/v1.3/LinearAlgebra/src/special.jl\" target=\"_blank\">/build/julia/src/julia-1.3.1/usr/share/julia/stdlib/v1.3/LinearAlgebra/src/special.jl:98</a></li> <li> +(A::<b>LinearAlgebra.Bidiagonal</b>, B::<b>LinearAlgebra.LowerTriangular</b>) in LinearAlgebra at <a href=\"file:///build/julia/src/julia-1.3.1/usr/share/julia/stdlib/v1.3/LinearAlgebra/src/special.jl\" target=\"_blank\">/build/julia/src/julia-1.3.1/usr/share/julia/stdlib/v1.3/LinearAlgebra/src/special.jl:106</a></li> <li> +(A::<b>LinearAlgebra.UnitLowerTriangular</b>, B::<b>LinearAlgebra.Bidiagonal</b>) in LinearAlgebra at <a href=\"file:///build/julia/src/julia-1.3.1/usr/share/julia/stdlib/v1.3/LinearAlgebra/src/special.jl\" target=\"_blank\">/build/julia/src/julia-1.3.1/usr/share/julia/stdlib/v1.3/LinearAlgebra/src/special.jl:98</a></li> <li> +(A::<b>LinearAlgebra.Bidiagonal</b>, B::<b>LinearAlgebra.UnitLowerTriangular</b>) in LinearAlgebra at <a href=\"file:///build/julia/src/julia-1.3.1/usr/share/julia/stdlib/v1.3/LinearAlgebra/src/special.jl\" target=\"_blank\">/build/julia/src/julia-1.3.1/usr/share/julia/stdlib/v1.3/LinearAlgebra/src/special.jl:106</a></li> <li> +(A::<b>LinearAlgebra.Bidiagonal</b>, B::<b>LinearAlgebra.Diagonal</b>) in LinearAlgebra at <a href=\"file:///build/julia/src/julia-1.3.1/usr/share/julia/stdlib/v1.3/LinearAlgebra/src/special.jl\" target=\"_blank\">/build/julia/src/julia-1.3.1/usr/share/julia/stdlib/v1.3/LinearAlgebra/src/special.jl:127</a></li> <li> +(A::<b>LinearAlgebra.Diagonal</b>, B::<b>LinearAlgebra.Bidiagonal</b>) in LinearAlgebra at <a href=\"file:///build/julia/src/julia-1.3.1/usr/share/julia/stdlib/v1.3/LinearAlgebra/src/special.jl\" target=\"_blank\">/build/julia/src/julia-1.3.1/usr/share/julia/stdlib/v1.3/LinearAlgebra/src/special.jl:137</a></li> <li> +(A::<b>LinearAlgebra.Diagonal</b>, B::<b>LinearAlgebra.SymTridiagonal</b>) in LinearAlgebra at <a href=\"file:///build/julia/src/julia-1.3.1/usr/share/julia/stdlib/v1.3/LinearAlgebra/src/special.jl\" target=\"_blank\">/build/julia/src/julia-1.3.1/usr/share/julia/stdlib/v1.3/LinearAlgebra/src/special.jl:147</a></li> <li> +(A::<b>LinearAlgebra.SymTridiagonal</b>, B::<b>LinearAlgebra.Diagonal</b>) in LinearAlgebra at <a href=\"file:///build/julia/src/julia-1.3.1/usr/share/julia/stdlib/v1.3/LinearAlgebra/src/special.jl\" target=\"_blank\">/build/julia/src/julia-1.3.1/usr/share/julia/stdlib/v1.3/LinearAlgebra/src/special.jl:157</a></li> <li> +(A::<b>LinearAlgebra.Tridiagonal</b>, B::<b>LinearAlgebra.SymTridiagonal</b>) in LinearAlgebra at <a href=\"file:///build/julia/src/julia-1.3.1/usr/share/julia/stdlib/v1.3/LinearAlgebra/src/special.jl\" target=\"_blank\">/build/julia/src/julia-1.3.1/usr/share/julia/stdlib/v1.3/LinearAlgebra/src/special.jl:168</a></li> <li> +(A::<b>LinearAlgebra.SymTridiagonal</b>, B::<b>LinearAlgebra.Tridiagonal</b>) in LinearAlgebra at <a href=\"file:///build/julia/src/julia-1.3.1/usr/share/julia/stdlib/v1.3/LinearAlgebra/src/special.jl\" target=\"_blank\">/build/julia/src/julia-1.3.1/usr/share/julia/stdlib/v1.3/LinearAlgebra/src/special.jl:170</a></li> <li> +(A::<b>LinearAlgebra.Diagonal</b>, B::<b>LinearAlgebra.Tridiagonal</b>) in LinearAlgebra at <a href=\"file:///build/julia/src/julia-1.3.1/usr/share/julia/stdlib/v1.3/LinearAlgebra/src/special.jl\" target=\"_blank\">/build/julia/src/julia-1.3.1/usr/share/julia/stdlib/v1.3/LinearAlgebra/src/special.jl:175</a></li> <li> +(A::<b>LinearAlgebra.Tridiagonal</b>, B::<b>LinearAlgebra.Diagonal</b>) in LinearAlgebra at <a href=\"file:///build/julia/src/julia-1.3.1/usr/share/julia/stdlib/v1.3/LinearAlgebra/src/special.jl\" target=\"_blank\">/build/julia/src/julia-1.3.1/usr/share/julia/stdlib/v1.3/LinearAlgebra/src/special.jl:185</a></li> <li> +(A::<b>LinearAlgebra.Bidiagonal</b>, B::<b>LinearAlgebra.Tridiagonal</b>) in LinearAlgebra at <a href=\"file:///build/julia/src/julia-1.3.1/usr/share/julia/stdlib/v1.3/LinearAlgebra/src/special.jl\" target=\"_blank\">/build/julia/src/julia-1.3.1/usr/share/julia/stdlib/v1.3/LinearAlgebra/src/special.jl:195</a></li> <li> +(A::<b>LinearAlgebra.Tridiagonal</b>, B::<b>LinearAlgebra.Bidiagonal</b>) in LinearAlgebra at <a href=\"file:///build/julia/src/julia-1.3.1/usr/share/julia/stdlib/v1.3/LinearAlgebra/src/special.jl\" target=\"_blank\">/build/julia/src/julia-1.3.1/usr/share/julia/stdlib/v1.3/LinearAlgebra/src/special.jl:205</a></li> <li> +(A::<b>LinearAlgebra.Bidiagonal</b>, B::<b>LinearAlgebra.SymTridiagonal</b>) in LinearAlgebra at <a href=\"file:///build/julia/src/julia-1.3.1/usr/share/julia/stdlib/v1.3/LinearAlgebra/src/special.jl\" target=\"_blank\">/build/julia/src/julia-1.3.1/usr/share/julia/stdlib/v1.3/LinearAlgebra/src/special.jl:215</a></li> <li> +(A::<b>LinearAlgebra.SymTridiagonal</b>, B::<b>LinearAlgebra.Bidiagonal</b>) in LinearAlgebra at <a href=\"file:///build/julia/src/julia-1.3.1/usr/share/julia/stdlib/v1.3/LinearAlgebra/src/special.jl\" target=\"_blank\">/build/julia/src/julia-1.3.1/usr/share/julia/stdlib/v1.3/LinearAlgebra/src/special.jl:225</a></li> <li> +(A::<b>SparseArrays.SparseMatrixCSC</b>, B::<b>SparseArrays.SparseMatrixCSC</b>) in SparseArrays at <a href=\"file:///build/julia/src/julia-1.3.1/usr/share/julia/stdlib/v1.3/SparseArrays/src/sparsematrix.jl\" target=\"_blank\">/build/julia/src/julia-1.3.1/usr/share/julia/stdlib/v1.3/SparseArrays/src/sparsematrix.jl:1643</a></li> <li> +(A::<b>SparseArrays.SparseMatrixCSC</b>, B::<b>Array</b>) in SparseArrays at <a href=\"file:///build/julia/src/julia-1.3.1/usr/share/julia/stdlib/v1.3/SparseArrays/src/sparsematrix.jl\" target=\"_blank\">/build/julia/src/julia-1.3.1/usr/share/julia/stdlib/v1.3/SparseArrays/src/sparsematrix.jl:1646</a></li> <li> +(x::<b>SparseArrays.AbstractSparseArray{Tv,Ti,1} where Ti where Tv</b>, y::<b>SparseArrays.AbstractSparseArray{Tv,Ti,1} where Ti where Tv</b>) in SparseArrays at <a href=\"file:///build/julia/src/julia-1.3.1/usr/share/julia/stdlib/v1.3/SparseArrays/src/sparsevector.jl\" target=\"_blank\">/build/julia/src/julia-1.3.1/usr/share/julia/stdlib/v1.3/SparseArrays/src/sparsevector.jl:1304</a></li> <li> +(x::<b>AbstractArray{#s66,N} where N where #s66<:Number</b>) in Base at <a href=\"https://github.com/JuliaLang/julia/tree/2d5741174ce3e6a394010d2e470e4269ca54607f/base/abstractarraymath.jl#L97\" target=\"_blank\">abstractarraymath.jl:97</a></li> <li> +(A::<b>AbstractArray</b>, B::<b>AbstractArray</b>) in Base at <a href=\"https://github.com/JuliaLang/julia/tree/2d5741174ce3e6a394010d2e470e4269ca54607f/base/arraymath.jl#L38\" target=\"_blank\">arraymath.jl:38</a></li> <li> +(x::<b>T</b>, y::<b>Integer</b>)<i> where T<:AbstractChar</i> in Base at <a href=\"https://github.com/JuliaLang/julia/tree/2d5741174ce3e6a394010d2e470e4269ca54607f/base/char.jl#L223\" target=\"_blank\">char.jl:223</a></li> <li> +(index1::<b>CartesianIndex{N}</b>, index2::<b>CartesianIndex{N}</b>)<i> where N</i> in Base.IteratorsMD at <a href=\"https://github.com/JuliaLang/julia/tree/2d5741174ce3e6a394010d2e470e4269ca54607f/base/multidimensional.jl#L110\" target=\"_blank\">multidimensional.jl:110</a></li> <li> +(::<b>Number</b>, ::<b>Missing</b>) in Base at <a href=\"https://github.com/JuliaLang/julia/tree/2d5741174ce3e6a394010d2e470e4269ca54607f/base/missing.jl#L116\" target=\"_blank\">missing.jl:116</a></li> <li> +(x::<b>P</b>, y::<b>P</b>)<i> where P<:Dates.Period</i> in Dates at <a href=\"file:///build/julia/src/julia-1.3.1/usr/share/julia/stdlib/v1.3/Dates/src/periods.jl\" target=\"_blank\">/build/julia/src/julia-1.3.1/usr/share/julia/stdlib/v1.3/Dates/src/periods.jl:75</a></li> <li> +(x::<b>Dates.Period</b>, y::<b>Dates.Period</b>) in Dates at <a href=\"file:///build/julia/src/julia-1.3.1/usr/share/julia/stdlib/v1.3/Dates/src/periods.jl\" target=\"_blank\">/build/julia/src/julia-1.3.1/usr/share/julia/stdlib/v1.3/Dates/src/periods.jl:340</a></li> <li> +(y::<b>Dates.Period</b>, x::<b>Dates.CompoundPeriod</b>) in Dates at <a href=\"file:///build/julia/src/julia-1.3.1/usr/share/julia/stdlib/v1.3/Dates/src/periods.jl\" target=\"_blank\">/build/julia/src/julia-1.3.1/usr/share/julia/stdlib/v1.3/Dates/src/periods.jl:342</a></li> <li> +(x::<b>Union{Dates.CompoundPeriod, Dates.Period}</b>) in Dates at <a href=\"file:///build/julia/src/julia-1.3.1/usr/share/julia/stdlib/v1.3/Dates/src/periods.jl\" target=\"_blank\">/build/julia/src/julia-1.3.1/usr/share/julia/stdlib/v1.3/Dates/src/periods.jl:351</a></li> <li> +(x::<b>Dates.TimeType</b>) in Dates at <a href=\"file:///build/julia/src/julia-1.3.1/usr/share/julia/stdlib/v1.3/Dates/src/arithmetic.jl\" target=\"_blank\">/build/julia/src/julia-1.3.1/usr/share/julia/stdlib/v1.3/Dates/src/arithmetic.jl:8</a></li> <li> +(a::<b>Dates.TimeType</b>, b::<b>Dates.Period</b>, c::<b>Dates.Period</b>) in Dates at <a href=\"file:///build/julia/src/julia-1.3.1/usr/share/julia/stdlib/v1.3/Dates/src/periods.jl\" target=\"_blank\">/build/julia/src/julia-1.3.1/usr/share/julia/stdlib/v1.3/Dates/src/periods.jl:362</a></li> <li> +(a::<b>Dates.TimeType</b>, b::<b>Dates.Period</b>, c::<b>Dates.Period</b>, d::<b>Dates.Period...</b>) in Dates at <a href=\"file:///build/julia/src/julia-1.3.1/usr/share/julia/stdlib/v1.3/Dates/src/periods.jl\" target=\"_blank\">/build/julia/src/julia-1.3.1/usr/share/julia/stdlib/v1.3/Dates/src/periods.jl:363</a></li> <li> +(x::<b>Dates.TimeType</b>, y::<b>Dates.CompoundPeriod</b>) in Dates at <a href=\"file:///build/julia/src/julia-1.3.1/usr/share/julia/stdlib/v1.3/Dates/src/periods.jl\" target=\"_blank\">/build/julia/src/julia-1.3.1/usr/share/julia/stdlib/v1.3/Dates/src/periods.jl:366</a></li> <li> +(x::<b>Dates.Instant</b>) in Dates at <a href=\"file:///build/julia/src/julia-1.3.1/usr/share/julia/stdlib/v1.3/Dates/src/arithmetic.jl\" target=\"_blank\">/build/julia/src/julia-1.3.1/usr/share/julia/stdlib/v1.3/Dates/src/arithmetic.jl:4</a></li> <li> +(y::<b>Dates.Period</b>, x::<b>Dates.TimeType</b>) in Dates at <a href=\"file:///build/julia/src/julia-1.3.1/usr/share/julia/stdlib/v1.3/Dates/src/arithmetic.jl\" target=\"_blank\">/build/julia/src/julia-1.3.1/usr/share/julia/stdlib/v1.3/Dates/src/arithmetic.jl:80</a></li> <li> +(x::<b>Dates.Period</b>, r::<b>AbstractRange{#s627} where #s627<:Dates.TimeType</b>) in Dates at <a href=\"file:///build/julia/src/julia-1.3.1/usr/share/julia/stdlib/v1.3/Dates/src/ranges.jl\" target=\"_blank\">/build/julia/src/julia-1.3.1/usr/share/julia/stdlib/v1.3/Dates/src/ranges.jl:58</a></li> <li> +(x::<b>AbstractArray{#s627,N} where N where #s627<:Dates.TimeType</b>, y::<b>Union{Dates.CompoundPeriod, Dates.Period}</b>) in Dates at <a href=\"file:///build/julia/src/julia-1.3.1/usr/share/julia/stdlib/v1.3/Dates/src/deprecated.jl\" target=\"_blank\">/build/julia/src/julia-1.3.1/usr/share/julia/stdlib/v1.3/Dates/src/deprecated.jl:8</a></li> <li> +(y::<b>Union{Dates.CompoundPeriod, Dates.Period}</b>, x::<b>AbstractArray{#s627,N} where N where #s627<:Dates.TimeType</b>) in Dates at <a href=\"file:///build/julia/src/julia-1.3.1/usr/share/julia/stdlib/v1.3/Dates/src/deprecated.jl\" target=\"_blank\">/build/julia/src/julia-1.3.1/usr/share/julia/stdlib/v1.3/Dates/src/deprecated.jl:16</a></li> <li> +(y::<b>Dates.TimeType</b>, x::<b>Union{DenseArray{#s627,N}, Base.ReinterpretArray{#s627,N,S,A} where S where A<:Union{SubArray{T,N,A,I,true} where I<:Union{Tuple{Vararg{Real,N} where N}, Tuple{AbstractUnitRange,Vararg{Any,N} where N}} where A<:DenseArray where N where T, DenseArray}, Base.ReshapedArray{#s627,N,A,MI} where MI<:Tuple{Vararg{Base.MultiplicativeInverses.SignedMultiplicativeInverse{Int64},N} where N} where A<:Union{Base.ReinterpretArray{T,N,S,A} where S where A<:Union{SubArray{T,N,A,I,true} where I<:Union{Tuple{Vararg{Real,N} where N}, Tuple{AbstractUnitRange,Vararg{Any,N} where N}} where A<:DenseArray where N where T, DenseArray} where N where T, SubArray{T,N,A,I,true} where I<:Union{Tuple{Vararg{Real,N} where N}, Tuple{AbstractUnitRange,Vararg{Any,N} where N}} where A<:DenseArray where N where T, DenseArray}, SubArray{#s627,N,A,I,L} where L where I<:Tuple{Vararg{Union{Int64, AbstractRange{Int64}, Base.AbstractCartesianIndex},N} where N} where A<:Union{Base.ReinterpretArray{T,N,S,A} where S where A<:Union{SubArray{T,N,A,I,true} where I<:Union{Tuple{Vararg{Real,N} where N}, Tuple{AbstractUnitRange,Vararg{Any,N} where N}} where A<:DenseArray where N where T, DenseArray} where N where T, Base.ReshapedArray{T,N,A,MI} where MI<:Tuple{Vararg{Base.MultiplicativeInverses.SignedMultiplicativeInverse{Int64},N} where N} where A<:Union{Base.ReinterpretArray{T,N,S,A} where S where A<:Union{SubArray{T,N,A,I,true} where I<:Union{Tuple{Vararg{Real,N} where N}, Tuple{AbstractUnitRange,Vararg{Any,N} where N}} where A<:DenseArray where N where T, DenseArray} where N where T, SubArray{T,N,A,I,true} where I<:Union{Tuple{Vararg{Real,N} where N}, Tuple{AbstractUnitRange,Vararg{Any,N} where N}} where A<:DenseArray where N where T, DenseArray} where N where T, DenseArray}} where N where #s627<:Union{Dates.CompoundPeriod, Dates.Period}</b>) in Dates at <a href=\"file:///build/julia/src/julia-1.3.1/usr/share/julia/stdlib/v1.3/Dates/src/deprecated.jl\" target=\"_blank\">/build/julia/src/julia-1.3.1/usr/share/julia/stdlib/v1.3/Dates/src/deprecated.jl:20</a></li> <li> +(J::<b>LinearAlgebra.UniformScaling</b>, x::<b>Number</b>) in LinearAlgebra at <a href=\"file:///build/julia/src/julia-1.3.1/usr/share/julia/stdlib/v1.3/LinearAlgebra/src/uniformscaling.jl\" target=\"_blank\">/build/julia/src/julia-1.3.1/usr/share/julia/stdlib/v1.3/LinearAlgebra/src/uniformscaling.jl:109</a></li> <li> +(x::<b>Number</b>, J::<b>LinearAlgebra.UniformScaling</b>) in LinearAlgebra at <a href=\"file:///build/julia/src/julia-1.3.1/usr/share/julia/stdlib/v1.3/LinearAlgebra/src/uniformscaling.jl\" target=\"_blank\">/build/julia/src/julia-1.3.1/usr/share/julia/stdlib/v1.3/LinearAlgebra/src/uniformscaling.jl:110</a></li> <li> +(J1::<b>LinearAlgebra.UniformScaling</b>, J2::<b>LinearAlgebra.UniformScaling</b>) in LinearAlgebra at <a href=\"file:///build/julia/src/julia-1.3.1/usr/share/julia/stdlib/v1.3/LinearAlgebra/src/uniformscaling.jl\" target=\"_blank\">/build/julia/src/julia-1.3.1/usr/share/julia/stdlib/v1.3/LinearAlgebra/src/uniformscaling.jl:114</a></li> <li> +(J::<b>LinearAlgebra.UniformScaling</b>, B::<b>BitArray{2}</b>) in LinearAlgebra at <a href=\"file:///build/julia/src/julia-1.3.1/usr/share/julia/stdlib/v1.3/LinearAlgebra/src/uniformscaling.jl\" target=\"_blank\">/build/julia/src/julia-1.3.1/usr/share/julia/stdlib/v1.3/LinearAlgebra/src/uniformscaling.jl:116</a></li> <li> +(A::<b>LinearAlgebra.UniformScaling</b>, B::<b>LinearAlgebra.Tridiagonal{#s627,V} where V<:AbstractArray{#s627,1} where #s627<:Number</b>) in LinearAlgebra at <a href=\"file:///build/julia/src/julia-1.3.1/usr/share/julia/stdlib/v1.3/LinearAlgebra/src/special.jl\" target=\"_blank\">/build/julia/src/julia-1.3.1/usr/share/julia/stdlib/v1.3/LinearAlgebra/src/special.jl:257</a></li> <li> +(A::<b>LinearAlgebra.UniformScaling</b>, B::<b>LinearAlgebra.SymTridiagonal{#s627,V} where V<:AbstractArray{#s627,1} where #s627<:Number</b>) in LinearAlgebra at <a href=\"file:///build/julia/src/julia-1.3.1/usr/share/julia/stdlib/v1.3/LinearAlgebra/src/special.jl\" target=\"_blank\">/build/julia/src/julia-1.3.1/usr/share/julia/stdlib/v1.3/LinearAlgebra/src/special.jl:262</a></li> <li> +(A::<b>LinearAlgebra.UniformScaling</b>, B::<b>LinearAlgebra.Bidiagonal{#s627,V} where V<:AbstractArray{#s627,1} where #s627<:Number</b>) in LinearAlgebra at <a href=\"file:///build/julia/src/julia-1.3.1/usr/share/julia/stdlib/v1.3/LinearAlgebra/src/special.jl\" target=\"_blank\">/build/julia/src/julia-1.3.1/usr/share/julia/stdlib/v1.3/LinearAlgebra/src/special.jl:267</a></li> <li> +(A::<b>LinearAlgebra.UniformScaling</b>, B::<b>LinearAlgebra.Diagonal{#s627,V} where V<:AbstractArray{#s627,1} where #s627<:Number</b>) in LinearAlgebra at <a href=\"file:///build/julia/src/julia-1.3.1/usr/share/julia/stdlib/v1.3/LinearAlgebra/src/special.jl\" target=\"_blank\">/build/julia/src/julia-1.3.1/usr/share/julia/stdlib/v1.3/LinearAlgebra/src/special.jl:272</a></li> <li> +(J::<b>LinearAlgebra.UniformScaling</b>, A::<b>AbstractArray{T,2} where T</b>) in LinearAlgebra at <a href=\"file:///build/julia/src/julia-1.3.1/usr/share/julia/stdlib/v1.3/LinearAlgebra/src/uniformscaling.jl\" target=\"_blank\">/build/julia/src/julia-1.3.1/usr/share/julia/stdlib/v1.3/LinearAlgebra/src/uniformscaling.jl:117</a></li> <li> +(F::<b>LinearAlgebra.Hessenberg</b>, J::<b>LinearAlgebra.UniformScaling</b>) in LinearAlgebra at <a href=\"file:///build/julia/src/julia-1.3.1/usr/share/julia/stdlib/v1.3/LinearAlgebra/src/hessenberg.jl\" target=\"_blank\">/build/julia/src/julia-1.3.1/usr/share/julia/stdlib/v1.3/LinearAlgebra/src/hessenberg.jl:517</a></li> <li> +(J::<b>LinearAlgebra.UniformScaling</b>, F::<b>LinearAlgebra.Hessenberg</b>) in LinearAlgebra at <a href=\"file:///build/julia/src/julia-1.3.1/usr/share/julia/stdlib/v1.3/LinearAlgebra/src/hessenberg.jl\" target=\"_blank\">/build/julia/src/julia-1.3.1/usr/share/julia/stdlib/v1.3/LinearAlgebra/src/hessenberg.jl:518</a></li> <li> +(a, b, c, xs...) in Base at <a href=\"https://github.com/JuliaLang/julia/tree/2d5741174ce3e6a394010d2e470e4269ca54607f/base/operators.jl#L529\" target=\"_blank\">operators.jl:529</a></li> </ul>"
      ],
      "text/plain": [
       "# 166 methods for generic function \"+\":\n",
       "[1] +(x::Bool, z::Complex{Bool}) in Base at complex.jl:282\n",
       "[2] +(x::Bool, y::Bool) in Base at bool.jl:96\n",
       "[3] +(x::Bool) in Base at bool.jl:93\n",
       "[4] +(x::Bool, y::T) where T<:AbstractFloat in Base at bool.jl:104\n",
       "[5] +(x::Bool, z::Complex) in Base at complex.jl:289\n",
       "[6] +(a::Float16, b::Float16) in Base at float.jl:398\n",
       "[7] +(x::Float32, y::Float32) in Base at float.jl:400\n",
       "[8] +(x::Float64, y::Float64) in Base at float.jl:401\n",
       "[9] +(z::Complex{Bool}, x::Bool) in Base at complex.jl:283\n",
       "[10] +(z::Complex{Bool}, x::Real) in Base at complex.jl:297\n",
       "[11] +(::Missing, ::Missing) in Base at missing.jl:114\n",
       "[12] +(::Missing) in Base at missing.jl:100\n",
       "[13] +(::Missing, ::Number) in Base at missing.jl:115\n",
       "[14] +(level::Base.CoreLogging.LogLevel, inc::Integer) in Base.CoreLogging at logging.jl:106\n",
       "[15] +(c::BigInt, x::BigFloat) in Base.MPFR at mpfr.jl:413\n",
       "[16] +(a::BigInt, b::BigInt, c::BigInt, d::BigInt, e::BigInt) in Base.GMP at gmp.jl:503\n",
       "[17] +(a::BigInt, b::BigInt, c::BigInt, d::BigInt) in Base.GMP at gmp.jl:502\n",
       "[18] +(a::BigInt, b::BigInt, c::BigInt) in Base.GMP at gmp.jl:501\n",
       "[19] +(x::BigInt, y::BigInt) in Base.GMP at gmp.jl:472\n",
       "[20] +(x::BigInt, c::Union{UInt16, UInt32, UInt64, UInt8}) in Base.GMP at gmp.jl:509\n",
       "[21] +(x::BigInt, c::Union{Int16, Int32, Int64, Int8}) in Base.GMP at gmp.jl:515\n",
       "[22] +(a::BigFloat, b::BigFloat, c::BigFloat, d::BigFloat, e::BigFloat) in Base.MPFR at mpfr.jl:563\n",
       "[23] +(a::BigFloat, b::BigFloat, c::BigFloat, d::BigFloat) in Base.MPFR at mpfr.jl:556\n",
       "[24] +(a::BigFloat, b::BigFloat, c::BigFloat) in Base.MPFR at mpfr.jl:550\n",
       "[25] +(x::BigFloat, c::BigInt) in Base.MPFR at mpfr.jl:409\n",
       "[26] +(x::BigFloat, y::BigFloat) in Base.MPFR at mpfr.jl:378\n",
       "[27] +(x::BigFloat, c::Union{UInt16, UInt32, UInt64, UInt8}) in Base.MPFR at mpfr.jl:385\n",
       "[28] +(x::BigFloat, c::Union{Int16, Int32, Int64, Int8}) in Base.MPFR at mpfr.jl:393\n",
       "[29] +(x::BigFloat, c::Union{Float16, Float32, Float64}) in Base.MPFR at mpfr.jl:401\n",
       "[30] +(x::Dates.CompoundPeriod, y::Dates.CompoundPeriod) in Dates at /build/julia/src/julia-1.3.1/usr/share/julia/stdlib/v1.3/Dates/src/periods.jl:343\n",
       "[31] +(x::Dates.CompoundPeriod, y::Dates.Period) in Dates at /build/julia/src/julia-1.3.1/usr/share/julia/stdlib/v1.3/Dates/src/periods.jl:341\n",
       "[32] +(x::Dates.CompoundPeriod, y::Dates.TimeType) in Dates at /build/julia/src/julia-1.3.1/usr/share/julia/stdlib/v1.3/Dates/src/periods.jl:371\n",
       "[33] +(x::Dates.Date, y::Dates.Day) in Dates at /build/julia/src/julia-1.3.1/usr/share/julia/stdlib/v1.3/Dates/src/arithmetic.jl:74\n",
       "[34] +(x::Dates.Date, y::Dates.Week) in Dates at /build/julia/src/julia-1.3.1/usr/share/julia/stdlib/v1.3/Dates/src/arithmetic.jl:72\n",
       "[35] +(dt::Dates.Date, z::Dates.Month) in Dates at /build/julia/src/julia-1.3.1/usr/share/julia/stdlib/v1.3/Dates/src/arithmetic.jl:55\n",
       "[36] +(dt::Dates.Date, y::Dates.Year) in Dates at /build/julia/src/julia-1.3.1/usr/share/julia/stdlib/v1.3/Dates/src/arithmetic.jl:28\n",
       "[37] +(dt::Dates.Date, t::Dates.Time) in Dates at /build/julia/src/julia-1.3.1/usr/share/julia/stdlib/v1.3/Dates/src/arithmetic.jl:19\n",
       "[38] +(t::Dates.Time, dt::Dates.Date) in Dates at /build/julia/src/julia-1.3.1/usr/share/julia/stdlib/v1.3/Dates/src/arithmetic.jl:20\n",
       "[39] +(x::Dates.Time, y::Dates.TimePeriod) in Dates at /build/julia/src/julia-1.3.1/usr/share/julia/stdlib/v1.3/Dates/src/arithmetic.jl:78\n",
       "[40] +(dt::Dates.DateTime, z::Dates.Month) in Dates at /build/julia/src/julia-1.3.1/usr/share/julia/stdlib/v1.3/Dates/src/arithmetic.jl:48\n",
       "[41] +(dt::Dates.DateTime, y::Dates.Year) in Dates at /build/julia/src/julia-1.3.1/usr/share/julia/stdlib/v1.3/Dates/src/arithmetic.jl:24\n",
       "[42] +(x::Dates.DateTime, y::Dates.Period) in Dates at /build/julia/src/julia-1.3.1/usr/share/julia/stdlib/v1.3/Dates/src/arithmetic.jl:76\n",
       "[43] +(B::BitArray{2}, J::LinearAlgebra.UniformScaling) in LinearAlgebra at /build/julia/src/julia-1.3.1/usr/share/julia/stdlib/v1.3/LinearAlgebra/src/uniformscaling.jl:115\n",
       "[44] +(a::Pkg.Resolve.VersionWeights.VersionWeight, b::Pkg.Resolve.VersionWeights.VersionWeight) in Pkg.Resolve.VersionWeights at /build/julia/src/julia-1.3.1/usr/share/julia/stdlib/v1.3/Pkg/src/resolve/VersionWeights.jl:26\n",
       "[45] +(a::Pkg.Resolve.MaxSum.FieldValues.FieldValue, b::Pkg.Resolve.MaxSum.FieldValues.FieldValue) in Pkg.Resolve.MaxSum.FieldValues at /build/julia/src/julia-1.3.1/usr/share/julia/stdlib/v1.3/Pkg/src/resolve/FieldValues.jl:49\n",
       "[46] +(y::AbstractFloat, x::Bool) in Base at bool.jl:106\n",
       "[47] +(x::T, y::T) where T<:Union{Int128, Int16, Int32, Int64, Int8, UInt128, UInt16, UInt32, UInt64, UInt8} in Base at int.jl:53\n",
       "[48] +(c::Union{UInt16, UInt32, UInt64, UInt8}, x::BigInt) in Base.GMP at gmp.jl:510\n",
       "[49] +(c::Union{Int16, Int32, Int64, Int8}, x::BigInt) in Base.GMP at gmp.jl:516\n",
       "[50] +(a::Integer, b::Integer) in Base at int.jl:871\n",
       "[51] +(x::Integer, y::Ptr) in Base at pointer.jl:161\n",
       "[52] +(z::Complex) in Base at complex.jl:269\n",
       "[53] +(z::Complex, w::Complex) in Base at complex.jl:271\n",
       "[54] +(z::Complex, x::Bool) in Base at complex.jl:290\n",
       "[55] +(x::Rational) in Base at rational.jl:241\n",
       "[56] +(x::Real, z::Complex{Bool}) in Base at complex.jl:296\n",
       "[57] +(x::Real, z::Complex) in Base at complex.jl:308\n",
       "[58] +(z::Complex, x::Real) in Base at complex.jl:309\n",
       "[59] +(x::Rational, y::Rational) in Base at rational.jl:257\n",
       "[60] +(x::Integer, y::AbstractChar) in Base at char.jl:224\n",
       "[61] +(c::Union{UInt16, UInt32, UInt64, UInt8}, x::BigFloat) in Base.MPFR at mpfr.jl:389\n",
       "[62] +(c::Union{Int16, Int32, Int64, Int8}, x::BigFloat) in Base.MPFR at mpfr.jl:397\n",
       "[63] +(c::Union{Float16, Float32, Float64}, x::BigFloat) in Base.MPFR at mpfr.jl:405\n",
       "[64] +(x::AbstractIrrational, y::AbstractIrrational) in Base at irrationals.jl:137\n",
       "[65] +(x::Number) in Base at operators.jl:504\n",
       "[66] +(x::T, y::T) where T<:Number in Base at promotion.jl:387\n",
       "[67] +(x::Number, y::Number) in Base at promotion.jl:311\n",
       "[68] +(r1::OrdinalRange, r2::OrdinalRange) in Base at range.jl:1011\n",
       "[69] +(r1::LinRange{T}, r2::LinRange{T}) where T in Base at range.jl:1018\n",
       "[70] +(r1::StepRangeLen{T,R,S} where S, r2::StepRangeLen{T,R,S} where S) where {R<:Base.TwicePrecision, T} in Base at twiceprecision.jl:557\n",
       "[71] +(r1::StepRangeLen{T,S,S1} where S1, r2::StepRangeLen{T,S,S1} where S1) where {T, S} in Base at range.jl:1034\n",
       "[72] +(r1::Union{LinRange, OrdinalRange, StepRangeLen}, r2::Union{LinRange, OrdinalRange, StepRangeLen}) in Base at range.jl:1026\n",
       "[73] +(x::Ptr, y::Integer) in Base at pointer.jl:159\n",
       "[74] +(x::Base.TwicePrecision, y::Number) in Base at twiceprecision.jl:265\n",
       "[75] +(x::Number, y::Base.TwicePrecision) in Base at twiceprecision.jl:268\n",
       "[76] +(x::Base.TwicePrecision{T}, y::Base.TwicePrecision{T}) where T in Base at twiceprecision.jl:271\n",
       "[77] +(x::Base.TwicePrecision, y::Base.TwicePrecision) in Base at twiceprecision.jl:275\n",
       "[78] +(A::Array, Bs::Array...) in Base at arraymath.jl:44\n",
       "[79] +(A::BitArray, B::BitArray) in Base at bitarray.jl:1084\n",
       "[80] +(r::AbstractRange{#s627} where #s627<:Dates.TimeType, x::Dates.Period) in Dates at /build/julia/src/julia-1.3.1/usr/share/julia/stdlib/v1.3/Dates/src/ranges.jl:59\n",
       "[81] +(A::Array, B::SparseArrays.SparseMatrixCSC) in SparseArrays at /build/julia/src/julia-1.3.1/usr/share/julia/stdlib/v1.3/SparseArrays/src/sparsematrix.jl:1647\n",
       "[82] +(x::Union{DenseArray{#s627,N}, Base.ReinterpretArray{#s627,N,S,A} where S where A<:Union{SubArray{T,N,A,I,true} where I<:Union{Tuple{Vararg{Real,N} where N}, Tuple{AbstractUnitRange,Vararg{Any,N} where N}} where A<:DenseArray where N where T, DenseArray}, Base.ReshapedArray{#s627,N,A,MI} where MI<:Tuple{Vararg{Base.MultiplicativeInverses.SignedMultiplicativeInverse{Int64},N} where N} where A<:Union{Base.ReinterpretArray{T,N,S,A} where S where A<:Union{SubArray{T,N,A,I,true} where I<:Union{Tuple{Vararg{Real,N} where N}, Tuple{AbstractUnitRange,Vararg{Any,N} where N}} where A<:DenseArray where N where T, DenseArray} where N where T, SubArray{T,N,A,I,true} where I<:Union{Tuple{Vararg{Real,N} where N}, Tuple{AbstractUnitRange,Vararg{Any,N} where N}} where A<:DenseArray where N where T, DenseArray}, SubArray{#s627,N,A,I,L} where L where I<:Tuple{Vararg{Union{Int64, AbstractRange{Int64}, Base.AbstractCartesianIndex},N} where N} where A<:Union{Base.ReinterpretArray{T,N,S,A} where S where A<:Union{SubArray{T,N,A,I,true} where I<:Union{Tuple{Vararg{Real,N} where N}, Tuple{AbstractUnitRange,Vararg{Any,N} where N}} where A<:DenseArray where N where T, DenseArray} where N where T, Base.ReshapedArray{T,N,A,MI} where MI<:Tuple{Vararg{Base.MultiplicativeInverses.SignedMultiplicativeInverse{Int64},N} where N} where A<:Union{Base.ReinterpretArray{T,N,S,A} where S where A<:Union{SubArray{T,N,A,I,true} where I<:Union{Tuple{Vararg{Real,N} where N}, Tuple{AbstractUnitRange,Vararg{Any,N} where N}} where A<:DenseArray where N where T, DenseArray} where N where T, SubArray{T,N,A,I,true} where I<:Union{Tuple{Vararg{Real,N} where N}, Tuple{AbstractUnitRange,Vararg{Any,N} where N}} where A<:DenseArray where N where T, DenseArray} where N where T, DenseArray}} where N where #s627<:Union{Dates.CompoundPeriod, Dates.Period}) in Dates at /build/julia/src/julia-1.3.1/usr/share/julia/stdlib/v1.3/Dates/src/deprecated.jl:57\n",
       "[83] +(x::Union{DenseArray{#s627,N}, Base.ReinterpretArray{#s627,N,S,A} where S where A<:Union{SubArray{T,N,A,I,true} where I<:Union{Tuple{Vararg{Real,N} where N}, Tuple{AbstractUnitRange,Vararg{Any,N} where N}} where A<:DenseArray where N where T, DenseArray}, Base.ReshapedArray{#s627,N,A,MI} where MI<:Tuple{Vararg{Base.MultiplicativeInverses.SignedMultiplicativeInverse{Int64},N} where N} where A<:Union{Base.ReinterpretArray{T,N,S,A} where S where A<:Union{SubArray{T,N,A,I,true} where I<:Union{Tuple{Vararg{Real,N} where N}, Tuple{AbstractUnitRange,Vararg{Any,N} where N}} where A<:DenseArray where N where T, DenseArray} where N where T, SubArray{T,N,A,I,true} where I<:Union{Tuple{Vararg{Real,N} where N}, Tuple{AbstractUnitRange,Vararg{Any,N} where N}} where A<:DenseArray where N where T, DenseArray}, SubArray{#s627,N,A,I,L} where L where I<:Tuple{Vararg{Union{Int64, AbstractRange{Int64}, Base.AbstractCartesianIndex},N} where N} where A<:Union{Base.ReinterpretArray{T,N,S,A} where S where A<:Union{SubArray{T,N,A,I,true} where I<:Union{Tuple{Vararg{Real,N} where N}, Tuple{AbstractUnitRange,Vararg{Any,N} where N}} where A<:DenseArray where N where T, DenseArray} where N where T, Base.ReshapedArray{T,N,A,MI} where MI<:Tuple{Vararg{Base.MultiplicativeInverses.SignedMultiplicativeInverse{Int64},N} where N} where A<:Union{Base.ReinterpretArray{T,N,S,A} where S where A<:Union{SubArray{T,N,A,I,true} where I<:Union{Tuple{Vararg{Real,N} where N}, Tuple{AbstractUnitRange,Vararg{Any,N} where N}} where A<:DenseArray where N where T, DenseArray} where N where T, SubArray{T,N,A,I,true} where I<:Union{Tuple{Vararg{Real,N} where N}, Tuple{AbstractUnitRange,Vararg{Any,N} where N}} where A<:DenseArray where N where T, DenseArray} where N where T, DenseArray}} where N where #s627<:Union{Dates.CompoundPeriod, Dates.Period}, y::Dates.TimeType) in Dates at /build/julia/src/julia-1.3.1/usr/share/julia/stdlib/v1.3/Dates/src/deprecated.jl:12\n",
       "[84] +(X::Union{DenseArray{#s627,N}, Base.ReinterpretArray{#s627,N,S,A} where S where A<:Union{SubArray{T,N,A,I,true} where I<:Union{Tuple{Vararg{Real,N} where N}, Tuple{AbstractUnitRange,Vararg{Any,N} where N}} where A<:DenseArray where N where T, DenseArray}, Base.ReshapedArray{#s627,N,A,MI} where MI<:Tuple{Vararg{Base.MultiplicativeInverses.SignedMultiplicativeInverse{Int64},N} where N} where A<:Union{Base.ReinterpretArray{T,N,S,A} where S where A<:Union{SubArray{T,N,A,I,true} where I<:Union{Tuple{Vararg{Real,N} where N}, Tuple{AbstractUnitRange,Vararg{Any,N} where N}} where A<:DenseArray where N where T, DenseArray} where N where T, SubArray{T,N,A,I,true} where I<:Union{Tuple{Vararg{Real,N} where N}, Tuple{AbstractUnitRange,Vararg{Any,N} where N}} where A<:DenseArray where N where T, DenseArray}, SubArray{#s627,N,A,I,L} where L where I<:Tuple{Vararg{Union{Int64, AbstractRange{Int64}, Base.AbstractCartesianIndex},N} where N} where A<:Union{Base.ReinterpretArray{T,N,S,A} where S where A<:Union{SubArray{T,N,A,I,true} where I<:Union{Tuple{Vararg{Real,N} where N}, Tuple{AbstractUnitRange,Vararg{Any,N} where N}} where A<:DenseArray where N where T, DenseArray} where N where T, Base.ReshapedArray{T,N,A,MI} where MI<:Tuple{Vararg{Base.MultiplicativeInverses.SignedMultiplicativeInverse{Int64},N} where N} where A<:Union{Base.ReinterpretArray{T,N,S,A} where S where A<:Union{SubArray{T,N,A,I,true} where I<:Union{Tuple{Vararg{Real,N} where N}, Tuple{AbstractUnitRange,Vararg{Any,N} where N}} where A<:DenseArray where N where T, DenseArray} where N where T, SubArray{T,N,A,I,true} where I<:Union{Tuple{Vararg{Real,N} where N}, Tuple{AbstractUnitRange,Vararg{Any,N} where N}} where A<:DenseArray where N where T, DenseArray} where N where T, DenseArray}} where N where #s627<:Union{Dates.CompoundPeriod, Dates.Period}, Y::Union{DenseArray{#s626,N}, Base.ReinterpretArray{#s626,N,S,A} where S where A<:Union{SubArray{T,N,A,I,true} where I<:Union{Tuple{Vararg{Real,N} where N}, Tuple{AbstractUnitRange,Vararg{Any,N} where N}} where A<:DenseArray where N where T, DenseArray}, Base.ReshapedArray{#s626,N,A,MI} where MI<:Tuple{Vararg{Base.MultiplicativeInverses.SignedMultiplicativeInverse{Int64},N} where N} where A<:Union{Base.ReinterpretArray{T,N,S,A} where S where A<:Union{SubArray{T,N,A,I,true} where I<:Union{Tuple{Vararg{Real,N} where N}, Tuple{AbstractUnitRange,Vararg{Any,N} where N}} where A<:DenseArray where N where T, DenseArray} where N where T, SubArray{T,N,A,I,true} where I<:Union{Tuple{Vararg{Real,N} where N}, Tuple{AbstractUnitRange,Vararg{Any,N} where N}} where A<:DenseArray where N where T, DenseArray}, SubArray{#s626,N,A,I,L} where L where I<:Tuple{Vararg{Union{Int64, AbstractRange{Int64}, Base.AbstractCartesianIndex},N} where N} where A<:Union{Base.ReinterpretArray{T,N,S,A} where S where A<:Union{SubArray{T,N,A,I,true} where I<:Union{Tuple{Vararg{Real,N} where N}, Tuple{AbstractUnitRange,Vararg{Any,N} where N}} where A<:DenseArray where N where T, DenseArray} where N where T, Base.ReshapedArray{T,N,A,MI} where MI<:Tuple{Vararg{Base.MultiplicativeInverses.SignedMultiplicativeInverse{Int64},N} where N} where A<:Union{Base.ReinterpretArray{T,N,S,A} where S where A<:Union{SubArray{T,N,A,I,true} where I<:Union{Tuple{Vararg{Real,N} where N}, Tuple{AbstractUnitRange,Vararg{Any,N} where N}} where A<:DenseArray where N where T, DenseArray} where N where T, SubArray{T,N,A,I,true} where I<:Union{Tuple{Vararg{Real,N} where N}, Tuple{AbstractUnitRange,Vararg{Any,N} where N}} where A<:DenseArray where N where T, DenseArray} where N where T, DenseArray}} where N where #s626<:Union{Dates.CompoundPeriod, Dates.Period}) in Dates at /build/julia/src/julia-1.3.1/usr/share/julia/stdlib/v1.3/Dates/src/deprecated.jl:64\n",
       "[85] +(A::LinearAlgebra.SymTridiagonal, B::LinearAlgebra.SymTridiagonal) in LinearAlgebra at /build/julia/src/julia-1.3.1/usr/share/julia/stdlib/v1.3/LinearAlgebra/src/tridiag.jl:158\n",
       "[86] +(A::LinearAlgebra.Tridiagonal, B::LinearAlgebra.Tridiagonal) in LinearAlgebra at /build/julia/src/julia-1.3.1/usr/share/julia/stdlib/v1.3/LinearAlgebra/src/tridiag.jl:636\n",
       "[87] +(A::LinearAlgebra.UpperTriangular, B::LinearAlgebra.UpperTriangular) in LinearAlgebra at /build/julia/src/julia-1.3.1/usr/share/julia/stdlib/v1.3/LinearAlgebra/src/triangular.jl:554\n",
       "[88] +(A::LinearAlgebra.LowerTriangular, B::LinearAlgebra.LowerTriangular) in LinearAlgebra at /build/julia/src/julia-1.3.1/usr/share/julia/stdlib/v1.3/LinearAlgebra/src/triangular.jl:555\n",
       "[89] +(A::LinearAlgebra.UpperTriangular, B::LinearAlgebra.UnitUpperTriangular) in LinearAlgebra at /build/julia/src/julia-1.3.1/usr/share/julia/stdlib/v1.3/LinearAlgebra/src/triangular.jl:556\n",
       "[90] +(A::LinearAlgebra.LowerTriangular, B::LinearAlgebra.UnitLowerTriangular) in LinearAlgebra at /build/julia/src/julia-1.3.1/usr/share/julia/stdlib/v1.3/LinearAlgebra/src/triangular.jl:557\n",
       "[91] +(A::LinearAlgebra.UnitUpperTriangular, B::LinearAlgebra.UpperTriangular) in LinearAlgebra at /build/julia/src/julia-1.3.1/usr/share/julia/stdlib/v1.3/LinearAlgebra/src/triangular.jl:558\n",
       "[92] +(A::LinearAlgebra.UnitLowerTriangular, B::LinearAlgebra.LowerTriangular) in LinearAlgebra at /build/julia/src/julia-1.3.1/usr/share/julia/stdlib/v1.3/LinearAlgebra/src/triangular.jl:559\n",
       "[93] +(A::LinearAlgebra.UnitUpperTriangular, B::LinearAlgebra.UnitUpperTriangular) in LinearAlgebra at /build/julia/src/julia-1.3.1/usr/share/julia/stdlib/v1.3/LinearAlgebra/src/triangular.jl:560\n",
       "[94] +(A::LinearAlgebra.UnitLowerTriangular, B::LinearAlgebra.UnitLowerTriangular) in LinearAlgebra at /build/julia/src/julia-1.3.1/usr/share/julia/stdlib/v1.3/LinearAlgebra/src/triangular.jl:561\n",
       "[95] +(A::LinearAlgebra.AbstractTriangular, B::LinearAlgebra.AbstractTriangular) in LinearAlgebra at /build/julia/src/julia-1.3.1/usr/share/julia/stdlib/v1.3/LinearAlgebra/src/triangular.jl:562\n",
       "[96] +(A::LinearAlgebra.Symmetric, B::LinearAlgebra.Symmetric) in LinearAlgebra at /build/julia/src/julia-1.3.1/usr/share/julia/stdlib/v1.3/LinearAlgebra/src/symmetric.jl:422\n",
       "[97] +(A::LinearAlgebra.Hermitian, B::LinearAlgebra.Hermitian) in LinearAlgebra at /build/julia/src/julia-1.3.1/usr/share/julia/stdlib/v1.3/LinearAlgebra/src/symmetric.jl:423\n",
       "[98] +(A::LinearAlgebra.Hermitian, B::LinearAlgebra.Symmetric{#s627,S} where S<:(AbstractArray{#s6271,2} where #s6271<:#s627) where #s627<:Real) in LinearAlgebra at /build/julia/src/julia-1.3.1/usr/share/julia/stdlib/v1.3/LinearAlgebra/src/symmetric.jl:424\n",
       "[99] +(A::LinearAlgebra.Symmetric{#s627,S} where S<:(AbstractArray{#s6271,2} where #s6271<:#s627) where #s627<:Real, B::LinearAlgebra.Hermitian) in LinearAlgebra at /build/julia/src/julia-1.3.1/usr/share/julia/stdlib/v1.3/LinearAlgebra/src/symmetric.jl:425\n",
       "[100] +(Da::LinearAlgebra.Diagonal, Db::LinearAlgebra.Diagonal) in LinearAlgebra at /build/julia/src/julia-1.3.1/usr/share/julia/stdlib/v1.3/LinearAlgebra/src/diagonal.jl:156\n",
       "[101] +(A::LinearAlgebra.Bidiagonal, B::LinearAlgebra.Bidiagonal) in LinearAlgebra at /build/julia/src/julia-1.3.1/usr/share/julia/stdlib/v1.3/LinearAlgebra/src/bidiag.jl:309\n",
       "[102] +(UL::LinearAlgebra.UnitUpperTriangular, J::LinearAlgebra.UniformScaling) in LinearAlgebra at /build/julia/src/julia-1.3.1/usr/share/julia/stdlib/v1.3/LinearAlgebra/src/uniformscaling.jl:131\n",
       "[103] +(UL::LinearAlgebra.UnitLowerTriangular, J::LinearAlgebra.UniformScaling) in LinearAlgebra at /build/julia/src/julia-1.3.1/usr/share/julia/stdlib/v1.3/LinearAlgebra/src/uniformscaling.jl:131\n",
       "[104] +(A::LinearAlgebra.Hermitian, J::LinearAlgebra.UniformScaling{#s627} where #s627<:Complex) in LinearAlgebra at /build/julia/src/julia-1.3.1/usr/share/julia/stdlib/v1.3/LinearAlgebra/src/uniformscaling.jl:145\n",
       "[105] +(H::LinearAlgebra.UpperHessenberg, J::LinearAlgebra.UniformScaling) in LinearAlgebra at /build/julia/src/julia-1.3.1/usr/share/julia/stdlib/v1.3/LinearAlgebra/src/hessenberg.jl:106\n",
       "[106] +(A::LinearAlgebra.Tridiagonal{#s627,V} where V<:AbstractArray{#s627,1} where #s627<:Number, B::LinearAlgebra.UniformScaling) in LinearAlgebra at /build/julia/src/julia-1.3.1/usr/share/julia/stdlib/v1.3/LinearAlgebra/src/special.jl:238\n",
       "[107] +(A::LinearAlgebra.SymTridiagonal{#s627,V} where V<:AbstractArray{#s627,1} where #s627<:Number, B::LinearAlgebra.UniformScaling) in LinearAlgebra at /build/julia/src/julia-1.3.1/usr/share/julia/stdlib/v1.3/LinearAlgebra/src/special.jl:243\n",
       "[108] +(A::LinearAlgebra.Bidiagonal{#s627,V} where V<:AbstractArray{#s627,1} where #s627<:Number, B::LinearAlgebra.UniformScaling) in LinearAlgebra at /build/julia/src/julia-1.3.1/usr/share/julia/stdlib/v1.3/LinearAlgebra/src/special.jl:248\n",
       "[109] +(A::LinearAlgebra.Diagonal{#s627,V} where V<:AbstractArray{#s627,1} where #s627<:Number, B::LinearAlgebra.UniformScaling) in LinearAlgebra at /build/julia/src/julia-1.3.1/usr/share/julia/stdlib/v1.3/LinearAlgebra/src/special.jl:253\n",
       "[110] +(A::SparseArrays.SparseMatrixCSC, J::LinearAlgebra.UniformScaling) in SparseArrays at /build/julia/src/julia-1.3.1/usr/share/julia/stdlib/v1.3/SparseArrays/src/sparsematrix.jl:3605\n",
       "[111] +(A::AbstractArray{T,2} where T, J::LinearAlgebra.UniformScaling) in LinearAlgebra at /build/julia/src/julia-1.3.1/usr/share/julia/stdlib/v1.3/LinearAlgebra/src/uniformscaling.jl:164\n",
       "[112] +(A::LinearAlgebra.UpperHessenberg, B::LinearAlgebra.UpperHessenberg) in LinearAlgebra at /build/julia/src/julia-1.3.1/usr/share/julia/stdlib/v1.3/LinearAlgebra/src/hessenberg.jl:101\n",
       "[113] +(A::LinearAlgebra.UpperTriangular, B::LinearAlgebra.Bidiagonal) in LinearAlgebra at /build/julia/src/julia-1.3.1/usr/share/julia/stdlib/v1.3/LinearAlgebra/src/special.jl:98\n",
       "[114] +(A::LinearAlgebra.Bidiagonal, B::LinearAlgebra.UpperTriangular) in LinearAlgebra at /build/julia/src/julia-1.3.1/usr/share/julia/stdlib/v1.3/LinearAlgebra/src/special.jl:106\n",
       "[115] +(A::LinearAlgebra.UnitUpperTriangular, B::LinearAlgebra.Bidiagonal) in LinearAlgebra at /build/julia/src/julia-1.3.1/usr/share/julia/stdlib/v1.3/LinearAlgebra/src/special.jl:98\n",
       "[116] +(A::LinearAlgebra.Bidiagonal, B::LinearAlgebra.UnitUpperTriangular) in LinearAlgebra at /build/julia/src/julia-1.3.1/usr/share/julia/stdlib/v1.3/LinearAlgebra/src/special.jl:106\n",
       "[117] +(A::LinearAlgebra.LowerTriangular, B::LinearAlgebra.Bidiagonal) in LinearAlgebra at /build/julia/src/julia-1.3.1/usr/share/julia/stdlib/v1.3/LinearAlgebra/src/special.jl:98\n",
       "[118] +(A::LinearAlgebra.Bidiagonal, B::LinearAlgebra.LowerTriangular) in LinearAlgebra at /build/julia/src/julia-1.3.1/usr/share/julia/stdlib/v1.3/LinearAlgebra/src/special.jl:106\n",
       "[119] +(A::LinearAlgebra.UnitLowerTriangular, B::LinearAlgebra.Bidiagonal) in LinearAlgebra at /build/julia/src/julia-1.3.1/usr/share/julia/stdlib/v1.3/LinearAlgebra/src/special.jl:98\n",
       "[120] +(A::LinearAlgebra.Bidiagonal, B::LinearAlgebra.UnitLowerTriangular) in LinearAlgebra at /build/julia/src/julia-1.3.1/usr/share/julia/stdlib/v1.3/LinearAlgebra/src/special.jl:106\n",
       "[121] +(A::LinearAlgebra.Bidiagonal, B::LinearAlgebra.Diagonal) in LinearAlgebra at /build/julia/src/julia-1.3.1/usr/share/julia/stdlib/v1.3/LinearAlgebra/src/special.jl:127\n",
       "[122] +(A::LinearAlgebra.Diagonal, B::LinearAlgebra.Bidiagonal) in LinearAlgebra at /build/julia/src/julia-1.3.1/usr/share/julia/stdlib/v1.3/LinearAlgebra/src/special.jl:137\n",
       "[123] +(A::LinearAlgebra.Diagonal, B::LinearAlgebra.SymTridiagonal) in LinearAlgebra at /build/julia/src/julia-1.3.1/usr/share/julia/stdlib/v1.3/LinearAlgebra/src/special.jl:147\n",
       "[124] +(A::LinearAlgebra.SymTridiagonal, B::LinearAlgebra.Diagonal) in LinearAlgebra at /build/julia/src/julia-1.3.1/usr/share/julia/stdlib/v1.3/LinearAlgebra/src/special.jl:157\n",
       "[125] +(A::LinearAlgebra.Tridiagonal, B::LinearAlgebra.SymTridiagonal) in LinearAlgebra at /build/julia/src/julia-1.3.1/usr/share/julia/stdlib/v1.3/LinearAlgebra/src/special.jl:168\n",
       "[126] +(A::LinearAlgebra.SymTridiagonal, B::LinearAlgebra.Tridiagonal) in LinearAlgebra at /build/julia/src/julia-1.3.1/usr/share/julia/stdlib/v1.3/LinearAlgebra/src/special.jl:170\n",
       "[127] +(A::LinearAlgebra.Diagonal, B::LinearAlgebra.Tridiagonal) in LinearAlgebra at /build/julia/src/julia-1.3.1/usr/share/julia/stdlib/v1.3/LinearAlgebra/src/special.jl:175\n",
       "[128] +(A::LinearAlgebra.Tridiagonal, B::LinearAlgebra.Diagonal) in LinearAlgebra at /build/julia/src/julia-1.3.1/usr/share/julia/stdlib/v1.3/LinearAlgebra/src/special.jl:185\n",
       "[129] +(A::LinearAlgebra.Bidiagonal, B::LinearAlgebra.Tridiagonal) in LinearAlgebra at /build/julia/src/julia-1.3.1/usr/share/julia/stdlib/v1.3/LinearAlgebra/src/special.jl:195\n",
       "[130] +(A::LinearAlgebra.Tridiagonal, B::LinearAlgebra.Bidiagonal) in LinearAlgebra at /build/julia/src/julia-1.3.1/usr/share/julia/stdlib/v1.3/LinearAlgebra/src/special.jl:205\n",
       "[131] +(A::LinearAlgebra.Bidiagonal, B::LinearAlgebra.SymTridiagonal) in LinearAlgebra at /build/julia/src/julia-1.3.1/usr/share/julia/stdlib/v1.3/LinearAlgebra/src/special.jl:215\n",
       "[132] +(A::LinearAlgebra.SymTridiagonal, B::LinearAlgebra.Bidiagonal) in LinearAlgebra at /build/julia/src/julia-1.3.1/usr/share/julia/stdlib/v1.3/LinearAlgebra/src/special.jl:225\n",
       "[133] +(A::SparseArrays.SparseMatrixCSC, B::SparseArrays.SparseMatrixCSC) in SparseArrays at /build/julia/src/julia-1.3.1/usr/share/julia/stdlib/v1.3/SparseArrays/src/sparsematrix.jl:1643\n",
       "[134] +(A::SparseArrays.SparseMatrixCSC, B::Array) in SparseArrays at /build/julia/src/julia-1.3.1/usr/share/julia/stdlib/v1.3/SparseArrays/src/sparsematrix.jl:1646\n",
       "[135] +(x::SparseArrays.AbstractSparseArray{Tv,Ti,1} where Ti where Tv, y::SparseArrays.AbstractSparseArray{Tv,Ti,1} where Ti where Tv) in SparseArrays at /build/julia/src/julia-1.3.1/usr/share/julia/stdlib/v1.3/SparseArrays/src/sparsevector.jl:1304\n",
       "[136] +(x::AbstractArray{#s66,N} where N where #s66<:Number) in Base at abstractarraymath.jl:97\n",
       "[137] +(A::AbstractArray, B::AbstractArray) in Base at arraymath.jl:38\n",
       "[138] +(x::T, y::Integer) where T<:AbstractChar in Base at char.jl:223\n",
       "[139] +(index1::CartesianIndex{N}, index2::CartesianIndex{N}) where N in Base.IteratorsMD at multidimensional.jl:110\n",
       "[140] +(::Number, ::Missing) in Base at missing.jl:116\n",
       "[141] +(x::P, y::P) where P<:Dates.Period in Dates at /build/julia/src/julia-1.3.1/usr/share/julia/stdlib/v1.3/Dates/src/periods.jl:75\n",
       "[142] +(x::Dates.Period, y::Dates.Period) in Dates at /build/julia/src/julia-1.3.1/usr/share/julia/stdlib/v1.3/Dates/src/periods.jl:340\n",
       "[143] +(y::Dates.Period, x::Dates.CompoundPeriod) in Dates at /build/julia/src/julia-1.3.1/usr/share/julia/stdlib/v1.3/Dates/src/periods.jl:342\n",
       "[144] +(x::Union{Dates.CompoundPeriod, Dates.Period}) in Dates at /build/julia/src/julia-1.3.1/usr/share/julia/stdlib/v1.3/Dates/src/periods.jl:351\n",
       "[145] +(x::Dates.TimeType) in Dates at /build/julia/src/julia-1.3.1/usr/share/julia/stdlib/v1.3/Dates/src/arithmetic.jl:8\n",
       "[146] +(a::Dates.TimeType, b::Dates.Period, c::Dates.Period) in Dates at /build/julia/src/julia-1.3.1/usr/share/julia/stdlib/v1.3/Dates/src/periods.jl:362\n",
       "[147] +(a::Dates.TimeType, b::Dates.Period, c::Dates.Period, d::Dates.Period...) in Dates at /build/julia/src/julia-1.3.1/usr/share/julia/stdlib/v1.3/Dates/src/periods.jl:363\n",
       "[148] +(x::Dates.TimeType, y::Dates.CompoundPeriod) in Dates at /build/julia/src/julia-1.3.1/usr/share/julia/stdlib/v1.3/Dates/src/periods.jl:366\n",
       "[149] +(x::Dates.Instant) in Dates at /build/julia/src/julia-1.3.1/usr/share/julia/stdlib/v1.3/Dates/src/arithmetic.jl:4\n",
       "[150] +(y::Dates.Period, x::Dates.TimeType) in Dates at /build/julia/src/julia-1.3.1/usr/share/julia/stdlib/v1.3/Dates/src/arithmetic.jl:80\n",
       "[151] +(x::Dates.Period, r::AbstractRange{#s627} where #s627<:Dates.TimeType) in Dates at /build/julia/src/julia-1.3.1/usr/share/julia/stdlib/v1.3/Dates/src/ranges.jl:58\n",
       "[152] +(x::AbstractArray{#s627,N} where N where #s627<:Dates.TimeType, y::Union{Dates.CompoundPeriod, Dates.Period}) in Dates at /build/julia/src/julia-1.3.1/usr/share/julia/stdlib/v1.3/Dates/src/deprecated.jl:8\n",
       "[153] +(y::Union{Dates.CompoundPeriod, Dates.Period}, x::AbstractArray{#s627,N} where N where #s627<:Dates.TimeType) in Dates at /build/julia/src/julia-1.3.1/usr/share/julia/stdlib/v1.3/Dates/src/deprecated.jl:16\n",
       "[154] +(y::Dates.TimeType, x::Union{DenseArray{#s627,N}, Base.ReinterpretArray{#s627,N,S,A} where S where A<:Union{SubArray{T,N,A,I,true} where I<:Union{Tuple{Vararg{Real,N} where N}, Tuple{AbstractUnitRange,Vararg{Any,N} where N}} where A<:DenseArray where N where T, DenseArray}, Base.ReshapedArray{#s627,N,A,MI} where MI<:Tuple{Vararg{Base.MultiplicativeInverses.SignedMultiplicativeInverse{Int64},N} where N} where A<:Union{Base.ReinterpretArray{T,N,S,A} where S where A<:Union{SubArray{T,N,A,I,true} where I<:Union{Tuple{Vararg{Real,N} where N}, Tuple{AbstractUnitRange,Vararg{Any,N} where N}} where A<:DenseArray where N where T, DenseArray} where N where T, SubArray{T,N,A,I,true} where I<:Union{Tuple{Vararg{Real,N} where N}, Tuple{AbstractUnitRange,Vararg{Any,N} where N}} where A<:DenseArray where N where T, DenseArray}, SubArray{#s627,N,A,I,L} where L where I<:Tuple{Vararg{Union{Int64, AbstractRange{Int64}, Base.AbstractCartesianIndex},N} where N} where A<:Union{Base.ReinterpretArray{T,N,S,A} where S where A<:Union{SubArray{T,N,A,I,true} where I<:Union{Tuple{Vararg{Real,N} where N}, Tuple{AbstractUnitRange,Vararg{Any,N} where N}} where A<:DenseArray where N where T, DenseArray} where N where T, Base.ReshapedArray{T,N,A,MI} where MI<:Tuple{Vararg{Base.MultiplicativeInverses.SignedMultiplicativeInverse{Int64},N} where N} where A<:Union{Base.ReinterpretArray{T,N,S,A} where S where A<:Union{SubArray{T,N,A,I,true} where I<:Union{Tuple{Vararg{Real,N} where N}, Tuple{AbstractUnitRange,Vararg{Any,N} where N}} where A<:DenseArray where N where T, DenseArray} where N where T, SubArray{T,N,A,I,true} where I<:Union{Tuple{Vararg{Real,N} where N}, Tuple{AbstractUnitRange,Vararg{Any,N} where N}} where A<:DenseArray where N where T, DenseArray} where N where T, DenseArray}} where N where #s627<:Union{Dates.CompoundPeriod, Dates.Period}) in Dates at /build/julia/src/julia-1.3.1/usr/share/julia/stdlib/v1.3/Dates/src/deprecated.jl:20\n",
       "[155] +(J::LinearAlgebra.UniformScaling, x::Number) in LinearAlgebra at /build/julia/src/julia-1.3.1/usr/share/julia/stdlib/v1.3/LinearAlgebra/src/uniformscaling.jl:109\n",
       "[156] +(x::Number, J::LinearAlgebra.UniformScaling) in LinearAlgebra at /build/julia/src/julia-1.3.1/usr/share/julia/stdlib/v1.3/LinearAlgebra/src/uniformscaling.jl:110\n",
       "[157] +(J1::LinearAlgebra.UniformScaling, J2::LinearAlgebra.UniformScaling) in LinearAlgebra at /build/julia/src/julia-1.3.1/usr/share/julia/stdlib/v1.3/LinearAlgebra/src/uniformscaling.jl:114\n",
       "[158] +(J::LinearAlgebra.UniformScaling, B::BitArray{2}) in LinearAlgebra at /build/julia/src/julia-1.3.1/usr/share/julia/stdlib/v1.3/LinearAlgebra/src/uniformscaling.jl:116\n",
       "[159] +(A::LinearAlgebra.UniformScaling, B::LinearAlgebra.Tridiagonal{#s627,V} where V<:AbstractArray{#s627,1} where #s627<:Number) in LinearAlgebra at /build/julia/src/julia-1.3.1/usr/share/julia/stdlib/v1.3/LinearAlgebra/src/special.jl:257\n",
       "[160] +(A::LinearAlgebra.UniformScaling, B::LinearAlgebra.SymTridiagonal{#s627,V} where V<:AbstractArray{#s627,1} where #s627<:Number) in LinearAlgebra at /build/julia/src/julia-1.3.1/usr/share/julia/stdlib/v1.3/LinearAlgebra/src/special.jl:262\n",
       "[161] +(A::LinearAlgebra.UniformScaling, B::LinearAlgebra.Bidiagonal{#s627,V} where V<:AbstractArray{#s627,1} where #s627<:Number) in LinearAlgebra at /build/julia/src/julia-1.3.1/usr/share/julia/stdlib/v1.3/LinearAlgebra/src/special.jl:267\n",
       "[162] +(A::LinearAlgebra.UniformScaling, B::LinearAlgebra.Diagonal{#s627,V} where V<:AbstractArray{#s627,1} where #s627<:Number) in LinearAlgebra at /build/julia/src/julia-1.3.1/usr/share/julia/stdlib/v1.3/LinearAlgebra/src/special.jl:272\n",
       "[163] +(J::LinearAlgebra.UniformScaling, A::AbstractArray{T,2} where T) in LinearAlgebra at /build/julia/src/julia-1.3.1/usr/share/julia/stdlib/v1.3/LinearAlgebra/src/uniformscaling.jl:117\n",
       "[164] +(F::LinearAlgebra.Hessenberg, J::LinearAlgebra.UniformScaling) in LinearAlgebra at /build/julia/src/julia-1.3.1/usr/share/julia/stdlib/v1.3/LinearAlgebra/src/hessenberg.jl:517\n",
       "[165] +(J::LinearAlgebra.UniformScaling, F::LinearAlgebra.Hessenberg) in LinearAlgebra at /build/julia/src/julia-1.3.1/usr/share/julia/stdlib/v1.3/LinearAlgebra/src/hessenberg.jl:518\n",
       "[166] +(a, b, c, xs...) in Base at operators.jl:529"
      ]
     },
     "execution_count": 11,
     "metadata": {},
     "output_type": "execute_result"
    }
   ],
   "source": [
    "methods(+)"
   ]
  },
  {
   "cell_type": "markdown",
   "metadata": {},
   "source": [
    "Portanto, agora podemos aplicar `teste` a strings e inteiros.\n",
    "Quando aplicamos `teste` a um par de argumentos, a Julia vai inferir os tipos dos argumentos e despachar o método apropriado.\n",
    "Isso é **despacho múltiplo**.\n",
    "Despacho múltiplo torna os programas genéricos e rápidos.\n",
    "\n",
    "Para ver qual método está sendo despachado quando chamamos uma função genérica, usamos a macro `@which`:"
   ]
  },
  {
   "cell_type": "code",
   "execution_count": 12,
   "metadata": {},
   "outputs": [
    {
     "data": {
      "text/html": [
       "teste(x::<b>Int64</b>, y::<b>Int64</b>) in Main at In[7]:1"
      ],
      "text/plain": [
       "teste(x::Int64, y::Int64) in Main at In[7]:1"
      ]
     },
     "execution_count": 12,
     "metadata": {},
     "output_type": "execute_result"
    }
   ],
   "source": [
    "@which teste(2, 3)"
   ]
  },
  {
   "cell_type": "code",
   "execution_count": 13,
   "metadata": {},
   "outputs": [
    {
     "data": {
      "text/html": [
       "+(x::<b>Float64</b>, y::<b>Float64</b>) in Base at <a href=\"https://github.com/JuliaLang/julia/tree/2d5741174ce3e6a394010d2e470e4269ca54607f/base/float.jl#L401\" target=\"_blank\">float.jl:401</a>"
      ],
      "text/plain": [
       "+(x::Float64, y::Float64) in Base at float.jl:401"
      ]
     },
     "execution_count": 13,
     "metadata": {},
     "output_type": "execute_result"
    }
   ],
   "source": [
    "@which 3.0 + 5.0"
   ]
  }
 ],
 "metadata": {
  "kernelspec": {
   "display_name": "Julia 1.3.1",
   "language": "julia",
   "name": "julia-1.3"
  },
  "language_info": {
   "file_extension": ".jl",
   "mimetype": "application/julia",
   "name": "julia",
   "version": "1.3.1"
  }
 },
 "nbformat": 4,
 "nbformat_minor": 2
}
