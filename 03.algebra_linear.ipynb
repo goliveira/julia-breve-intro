{
 "cells": [
  {
   "cell_type": "markdown",
   "metadata": {
    "collapsed": false
   },
   "source": [
    "# Álgebra linear em Julia"
   ]
  },
  {
   "cell_type": "markdown",
   "metadata": {
    "collapsed": false
   },
   "source": [
    "## Operações básicas\n",
    "\n",
    "Primeiro, vamos construir uma matriz 3x3 com entradas entre 1 e 4 escolhidas aleatoriamente:"
   ]
  },
  {
   "cell_type": "code",
   "execution_count": 1,
   "metadata": {
    "collapsed": false
   },
   "outputs": [
    {
     "data": {
      "text/plain": [
       "3×3 Array{Int64,2}:\n",
       " 3  3  4\n",
       " 4  4  2\n",
       " 1  4  3"
      ]
     },
     "execution_count": 1,
     "metadata": {
     },
     "output_type": "execute_result"
    }
   ],
   "source": [
    "A = rand(1:4, 3, 3)"
   ]
  },
  {
   "cell_type": "markdown",
   "metadata": {
    "collapsed": false
   },
   "source": [
    "Agora, vamos construir um vetor com 3 coordenadas todas iguais a 1:"
   ]
  },
  {
   "cell_type": "code",
   "execution_count": 2,
   "metadata": {
    "collapsed": false
   },
   "outputs": [
    {
     "data": {
      "text/plain": [
       "3-element Array{Float64,1}:\n",
       " 1.0\n",
       " 1.0\n",
       " 1.0"
      ]
     },
     "execution_count": 2,
     "metadata": {
     },
     "output_type": "execute_result"
    }
   ],
   "source": [
    "v = fill(1.0, (3))"
   ]
  },
  {
   "cell_type": "markdown",
   "metadata": {
    "collapsed": false
   },
   "source": [
    "### Multiplicação"
   ]
  },
  {
   "cell_type": "code",
   "execution_count": 3,
   "metadata": {
    "collapsed": false
   },
   "outputs": [
    {
     "data": {
      "text/plain": [
       "3-element Array{Float64,1}:\n",
       " 10.0\n",
       " 10.0\n",
       "  8.0"
      ]
     },
     "execution_count": 3,
     "metadata": {
     },
     "output_type": "execute_result"
    }
   ],
   "source": [
    "b = A*v"
   ]
  },
  {
   "cell_type": "markdown",
   "metadata": {
    "collapsed": false
   },
   "source": [
    "### Transposição\n",
    "\n",
    "A matriz `transpose(A)` é a transposta de `A`:"
   ]
  },
  {
   "cell_type": "code",
   "execution_count": 4,
   "metadata": {
    "collapsed": false
   },
   "outputs": [
    {
     "data": {
      "text/plain": [
       "3×3 LinearAlgebra.Transpose{Int64,Array{Int64,2}}:\n",
       " 3  4  1\n",
       " 3  4  4\n",
       " 4  2  3"
      ]
     },
     "execution_count": 4,
     "metadata": {
     },
     "output_type": "execute_result"
    }
   ],
   "source": [
    "transpose(A)"
   ]
  },
  {
   "cell_type": "markdown",
   "metadata": {
    "collapsed": false
   },
   "source": [
    "A matriz `A'` é a adjunta de `A`, ou seja, a transposta conjugada de `A`, que coincide com a transposta de `A` quando `A` é real."
   ]
  },
  {
   "cell_type": "code",
   "execution_count": 5,
   "metadata": {
    "collapsed": false
   },
   "outputs": [
    {
     "data": {
      "text/plain": [
       "3×3 LinearAlgebra.Adjoint{Int64,Array{Int64,2}}:\n",
       " 3  4  1\n",
       " 3  4  4\n",
       " 4  2  3"
      ]
     },
     "execution_count": 5,
     "metadata": {
     },
     "output_type": "execute_result"
    }
   ],
   "source": [
    "A'"
   ]
  },
  {
   "cell_type": "markdown",
   "metadata": {
    "collapsed": false
   },
   "source": [
    "### Multiplicação pela transposta\n",
    "\n",
    "Em Julia, podemos escrever simplesmente `A'A` em vez de `(A')*A`:"
   ]
  },
  {
   "cell_type": "code",
   "execution_count": 6,
   "metadata": {
    "collapsed": false
   },
   "outputs": [
    {
     "data": {
      "text/plain": [
       "3×3 Array{Int64,2}:\n",
       " 26  29  23\n",
       " 29  41  32\n",
       " 23  32  29"
      ]
     },
     "execution_count": 6,
     "metadata": {
     },
     "output_type": "execute_result"
    }
   ],
   "source": [
    "A'A"
   ]
  },
  {
   "cell_type": "code",
   "execution_count": 7,
   "metadata": {
    "collapsed": false
   },
   "outputs": [
    {
     "data": {
      "text/plain": [
       "3×3 Array{Int64,2}:\n",
       " 26  29  23\n",
       " 29  41  32\n",
       " 23  32  29"
      ]
     },
     "execution_count": 7,
     "metadata": {
     },
     "output_type": "execute_result"
    }
   ],
   "source": [
    "(A')*A"
   ]
  },
  {
   "cell_type": "markdown",
   "metadata": {
    "collapsed": false
   },
   "source": [
    "## Resolvendo sistemas de equações lineares\n",
    "\n",
    "O problema $Ax = b$ pode ser resolvido usando a função `\\`."
   ]
  },
  {
   "cell_type": "code",
   "execution_count": 8,
   "metadata": {
    "collapsed": false
   },
   "outputs": [
    {
     "data": {
      "text/plain": [
       "3-element Array{Float64,1}:\n",
       " 1.0\n",
       " 1.0\n",
       " 1.0"
      ]
     },
     "execution_count": 8,
     "metadata": {
     },
     "output_type": "execute_result"
    }
   ],
   "source": [
    "x = A\\b"
   ]
  },
  {
   "cell_type": "markdown",
   "metadata": {
    "collapsed": false
   },
   "source": [
    "## Matrizes com estrutura especial"
   ]
  },
  {
   "cell_type": "code",
   "execution_count": 9,
   "metadata": {
    "collapsed": false
   },
   "outputs": [
   ],
   "source": [
    "using LinearAlgebra"
   ]
  },
  {
   "cell_type": "code",
   "execution_count": 10,
   "metadata": {
    "collapsed": false
   },
   "outputs": [
   ],
   "source": [
    "n = 1000\n",
    "A = randn(n,n);"
   ]
  },
  {
   "cell_type": "markdown",
   "metadata": {
    "collapsed": false
   },
   "source": [
    "Frequentemente, é possível inferir a estrutura de uma matriz:"
   ]
  },
  {
   "cell_type": "code",
   "execution_count": 11,
   "metadata": {
    "collapsed": false
   },
   "outputs": [
    {
     "data": {
      "text/plain": [
       "true"
      ]
     },
     "execution_count": 11,
     "metadata": {
     },
     "output_type": "execute_result"
    }
   ],
   "source": [
    "Asim = A + A'\n",
    "issymmetric(Asim)"
   ]
  },
  {
   "cell_type": "markdown",
   "metadata": {
    "collapsed": false
   },
   "source": [
    "Todavia, muitas vezes os arredondamentos numéricos atrapalham:"
   ]
  },
  {
   "cell_type": "code",
   "execution_count": 12,
   "metadata": {
    "collapsed": false
   },
   "outputs": [
    {
     "name": "stdout",
     "output_type": "stream",
     "text": [
      "ruido = 1.1102230246251565e-15\n"
     ]
    },
    {
     "data": {
      "text/plain": [
       "false"
      ]
     },
     "execution_count": 12,
     "metadata": {
     },
     "output_type": "execute_result"
    }
   ],
   "source": [
    "Asim_ruido = copy(Asim)\n",
    "ruido = 5eps()\n",
    "println(\"ruido = $ruido\")\n",
    "Asim_ruido[1,2] += ruido\n",
    "issymmetric(Asim_ruido)"
   ]
  },
  {
   "cell_type": "markdown",
   "metadata": {
    "collapsed": false
   },
   "source": [
    "O comando acima inseriu um ruído da ordem de 10<sup>-15</sup> no elemento (1,2) da matriz `Asim`.\n",
    "\n",
    "A linguagem Julia permite que declaremos explicitamente a estrutura de uma matriz usando, por exemplo, `Diagonal`, `Triangular`, `Symmetric`, `Hermitian`, `Tridiagonal` e `SymTridiagonal`."
   ]
  },
  {
   "cell_type": "code",
   "execution_count": 13,
   "metadata": {
    "collapsed": false
   },
   "outputs": [
    {
     "data": {
      "text/plain": [
       "true"
      ]
     },
     "execution_count": 13,
     "metadata": {
     },
     "output_type": "execute_result"
    }
   ],
   "source": [
    "Asim_explicita = Symmetric(Asim_ruido)\n",
    "issymmetric(Asim_explicita)"
   ]
  },
  {
   "cell_type": "markdown",
   "metadata": {
    "collapsed": false
   },
   "source": [
    "Vamos comparar quanto tempo leva para a Julia calcular os autovalores de `Asim`, `Asim_ruido` e `Asim_explicita`."
   ]
  },
  {
   "cell_type": "code",
   "execution_count": 14,
   "metadata": {
    "collapsed": false
   },
   "outputs": [
    {
     "name": "stdout",
     "output_type": "stream",
     "text": [
      "  1.245386 seconds (679.55 k allocations: 42.589 MiB, 1.05% gc time)\n"
     ]
    }
   ],
   "source": [
    "@time eigvals(Asim);"
   ]
  },
  {
   "cell_type": "code",
   "execution_count": 15,
   "metadata": {
    "collapsed": false
   },
   "outputs": [
    {
     "name": "stdout",
     "output_type": "stream",
     "text": [
      "  9.227904 seconds (13 allocations: 7.920 MiB)\n"
     ]
    }
   ],
   "source": [
    "@time eigvals(Asim_ruido);"
   ]
  },
  {
   "cell_type": "code",
   "execution_count": 16,
   "metadata": {
    "collapsed": false
   },
   "outputs": [
    {
     "name": "stdout",
     "output_type": "stream",
     "text": [
      "  0.652045 seconds (6.82 k allocations: 8.354 MiB)\n"
     ]
    }
   ],
   "source": [
    "@time eigvals(Asim_explicita);"
   ]
  },
  {
   "cell_type": "markdown",
   "metadata": {
    "collapsed": false
   },
   "source": [
    "Observamos que o cálculo com `Asim_explicita` (onde usamos `Symmetric()`) foi muitas vezes mais rápido do que o cálculo com `Asim_ruido`."
   ]
  },
  {
   "cell_type": "markdown",
   "metadata": {
    "collapsed": false
   },
   "source": [
    "## Um problema grande\n",
    "\n",
    "Usando os tipos `Tridiagonal` e `SymTridiagonal`, podemos armazenar matrizes de forma eficiente.\n",
    "Isso torna possível fazer cálculos com matrizes muito grandes.\n",
    "Por exemplo, não seria possível resolver em um laptop o seguinte problema se armazenássemos a matriz usando o tipo `Array`."
   ]
  },
  {
   "cell_type": "code",
   "execution_count": 17,
   "metadata": {
    "collapsed": false
   },
   "outputs": [
    {
     "name": "stdout",
     "output_type": "stream",
     "text": [
      "  0.886968 seconds (453.00 k allocations: 206.245 MiB, 5.00% gc time)\n"
     ]
    },
    {
     "data": {
      "text/plain": [
       "6.209671428337593"
      ]
     },
     "execution_count": 17,
     "metadata": {
     },
     "output_type": "execute_result"
    }
   ],
   "source": [
    "n = 1_000_000;\n",
    "A = SymTridiagonal(randn(n), randn(n-1));\n",
    "@time eigmax(A)"
   ]
  },
  {
   "cell_type": "markdown",
   "metadata": {
    "collapsed": false
   },
   "source": [
    "O cálculo acima demorou menos de 1 segundo.\n",
    "Explicamos a seguir o significado dos comandos.\n",
    "\n",
    "O comando abaixo cria uma matriz simétrica 6x6 especificando 6 números aleatórios na diagonal e 5 números aleatórios na diagonal secundária."
   ]
  },
  {
   "cell_type": "code",
   "execution_count": 18,
   "metadata": {
    "collapsed": false
   },
   "outputs": [
    {
     "data": {
      "text/plain": [
       "6×6 SymTridiagonal{Float64,Array{Float64,1}}:\n",
       " -0.561416  -1.06418    ⋅         ⋅          ⋅         ⋅ \n",
       " -1.06418   -2.13597  -0.48408    ⋅          ⋅         ⋅ \n",
       "   ⋅        -0.48408   0.547315  0.985968    ⋅         ⋅ \n",
       "   ⋅          ⋅        0.985968  0.129725   0.661481   ⋅ \n",
       "   ⋅          ⋅         ⋅        0.661481  -0.806141  0.90259\n",
       "   ⋅          ⋅         ⋅         ⋅         0.90259   0.234341"
      ]
     },
     "execution_count": 18,
     "metadata": {
     },
     "output_type": "execute_result"
    }
   ],
   "source": [
    "B = SymTridiagonal(randn(6), randn(6-1))"
   ]
  },
  {
   "cell_type": "markdown",
   "metadata": {
    "collapsed": false
   },
   "source": [
    "Portanto, a matriz `A` acima tem estrutura semelhante mas é de ordem **1 milhão x 1 milhão**:"
   ]
  },
  {
   "cell_type": "code",
   "execution_count": 19,
   "metadata": {
    "collapsed": false
   },
   "outputs": [
    {
     "data": {
      "text/plain": [
       "1000000×1000000 SymTridiagonal{Float64,Array{Float64,1}}:\n",
       "  0.548335  -0.276958     ⋅         …    ⋅          ⋅          ⋅ \n",
       " -0.276958   0.169436    0.0487422       ⋅          ⋅          ⋅ \n",
       "   ⋅         0.0487422  -0.397755        ⋅          ⋅          ⋅ \n",
       "   ⋅          ⋅          1.39036         ⋅          ⋅          ⋅ \n",
       "   ⋅          ⋅           ⋅              ⋅          ⋅          ⋅ \n",
       "   ⋅          ⋅           ⋅         …    ⋅          ⋅          ⋅ \n",
       "   ⋅          ⋅           ⋅              ⋅          ⋅          ⋅ \n",
       "   ⋅          ⋅           ⋅              ⋅          ⋅          ⋅ \n",
       "   ⋅          ⋅           ⋅              ⋅          ⋅          ⋅ \n",
       "   ⋅          ⋅           ⋅              ⋅          ⋅          ⋅ \n",
       "   ⋅          ⋅           ⋅         …    ⋅          ⋅          ⋅ \n",
       "   ⋅          ⋅           ⋅              ⋅          ⋅          ⋅ \n",
       "   ⋅          ⋅           ⋅              ⋅          ⋅          ⋅ \n",
       "  ⋮                                 ⋱                        \n",
       "   ⋅          ⋅           ⋅              ⋅          ⋅          ⋅ \n",
       "   ⋅          ⋅           ⋅              ⋅          ⋅          ⋅ \n",
       "   ⋅          ⋅           ⋅         …    ⋅          ⋅          ⋅ \n",
       "   ⋅          ⋅           ⋅              ⋅          ⋅          ⋅ \n",
       "   ⋅          ⋅           ⋅              ⋅          ⋅          ⋅ \n",
       "   ⋅          ⋅           ⋅              ⋅          ⋅          ⋅ \n",
       "   ⋅          ⋅           ⋅              ⋅          ⋅          ⋅ \n",
       "   ⋅          ⋅           ⋅         …    ⋅          ⋅          ⋅ \n",
       "   ⋅          ⋅           ⋅             0.363571    ⋅          ⋅ \n",
       "   ⋅          ⋅           ⋅             0.602692  -0.394608    ⋅ \n",
       "   ⋅          ⋅           ⋅            -0.394608   0.684399   0.648244\n",
       "   ⋅          ⋅           ⋅              ⋅         0.648244  -0.390031"
      ]
     },
     "execution_count": 19,
     "metadata": {
     },
     "output_type": "execute_result"
    }
   ],
   "source": [
    "A"
   ]
  },
  {
   "cell_type": "markdown",
   "metadata": {
    "collapsed": false
   },
   "source": [
    "O comando `randn(6)` cria uma lista de 6 números aleatórios."
   ]
  },
  {
   "cell_type": "code",
   "execution_count": 20,
   "metadata": {
    "collapsed": false,
    "scrolled": true
   },
   "outputs": [
    {
     "data": {
      "text/plain": [
       "6-element Array{Float64,1}:\n",
       "  0.5058495630849918\n",
       " -0.18242505770019732\n",
       " -0.2703450484756285\n",
       " -1.2899348096803827\n",
       "  0.5949947209101717\n",
       " -0.9785539596756307"
      ]
     },
     "execution_count": 20,
     "metadata": {
     },
     "output_type": "execute_result"
    }
   ],
   "source": [
    "randn(6)"
   ]
  },
  {
   "cell_type": "markdown",
   "metadata": {
    "collapsed": false
   },
   "source": [
    "O comando `eigmax(A)` calcula o maior autovalor de `A`.\n",
    "\n",
    "Com os comandos a seguir, podemos ler as documentações sobre as funções (lembre da dica de copiar a descrição e colar em https://translate.google.com):"
   ]
  },
  {
   "cell_type": "code",
   "execution_count": 21,
   "metadata": {
    "collapsed": false
   },
   "outputs": [
    {
     "name": "stdout",
     "output_type": "stream",
     "text": [
      "search: "
     ]
    },
    {
     "name": "stdout",
     "output_type": "stream",
     "text": [
      "\u001b[0m\u001b[1me\u001b[22m\u001b[0m\u001b[1mi\u001b[22m\u001b[0m\u001b[1mg\u001b[22m\u001b[0m\u001b[1mm\u001b[22m\u001b[0m\u001b[1ma\u001b[22m\u001b[0m\u001b[1mx\u001b[22m\n",
      "\n"
     ]
    },
    {
     "data": {
      "text/latex": [
       "\\begin{verbatim}\n",
       "eigmax(A; permute::Bool=true, scale::Bool=true)\n",
       "\\end{verbatim}\n",
       "Return the largest eigenvalue of \\texttt{A}. The option \\texttt{permute=true} permutes the matrix to become closer to upper triangular, and \\texttt{scale=true} scales the matrix by its diagonal elements to make rows and columns more equal in norm. Note that if the eigenvalues of \\texttt{A} are complex, this method will fail, since complex numbers cannot be sorted.\n",
       "\n",
       "\\section{Examples}\n",
       "\\begin{verbatim}\n",
       "julia> A = [0 im; -im 0]\n",
       "2×2 Array{Complex{Int64},2}:\n",
       " 0+0im  0+1im\n",
       " 0-1im  0+0im\n",
       "\n",
       "julia> eigmax(A)\n",
       "1.0\n",
       "\n",
       "julia> A = [0 im; -1 0]\n",
       "2×2 Array{Complex{Int64},2}:\n",
       "  0+0im  0+1im\n",
       " -1+0im  0+0im\n",
       "\n",
       "julia> eigmax(A)\n",
       "ERROR: DomainError with Complex{Int64}[0+0im 0+1im; -1+0im 0+0im]:\n",
       "`A` cannot have complex eigenvalues.\n",
       "Stacktrace:\n",
       "[...]\n",
       "\\end{verbatim}\n"
      ],
      "text/markdown": [
       "```\n",
       "eigmax(A; permute::Bool=true, scale::Bool=true)\n",
       "```\n",
       "\n",
       "Return the largest eigenvalue of `A`. The option `permute=true` permutes the matrix to become closer to upper triangular, and `scale=true` scales the matrix by its diagonal elements to make rows and columns more equal in norm. Note that if the eigenvalues of `A` are complex, this method will fail, since complex numbers cannot be sorted.\n",
       "\n",
       "# Examples\n",
       "\n",
       "```jldoctest\n",
       "julia> A = [0 im; -im 0]\n",
       "2×2 Array{Complex{Int64},2}:\n",
       " 0+0im  0+1im\n",
       " 0-1im  0+0im\n",
       "\n",
       "julia> eigmax(A)\n",
       "1.0\n",
       "\n",
       "julia> A = [0 im; -1 0]\n",
       "2×2 Array{Complex{Int64},2}:\n",
       "  0+0im  0+1im\n",
       " -1+0im  0+0im\n",
       "\n",
       "julia> eigmax(A)\n",
       "ERROR: DomainError with Complex{Int64}[0+0im 0+1im; -1+0im 0+0im]:\n",
       "`A` cannot have complex eigenvalues.\n",
       "Stacktrace:\n",
       "[...]\n",
       "```\n"
      ],
      "text/plain": [
       "\u001b[36m  eigmax(A; permute::Bool=true, scale::Bool=true)\u001b[39m\n",
       "\n",
       "  Return the largest eigenvalue of \u001b[36mA\u001b[39m. The option \u001b[36mpermute=true\u001b[39m permutes the\n",
       "  matrix to become closer to upper triangular, and \u001b[36mscale=true\u001b[39m scales the\n",
       "  matrix by its diagonal elements to make rows and columns more equal in norm.\n",
       "  Note that if the eigenvalues of \u001b[36mA\u001b[39m are complex, this method will fail, since\n",
       "  complex numbers cannot be sorted.\n",
       "\n",
       "\u001b[1m  Examples\u001b[22m\n",
       "\u001b[1m  ≡≡≡≡≡≡≡≡≡≡\u001b[22m\n",
       "\n",
       "\u001b[36m  julia> A = [0 im; -im 0]\u001b[39m\n",
       "\u001b[36m  2×2 Array{Complex{Int64},2}:\u001b[39m\n",
       "\u001b[36m   0+0im  0+1im\u001b[39m\n",
       "\u001b[36m   0-1im  0+0im\u001b[39m\n",
       "\u001b[36m  \u001b[39m\n",
       "\u001b[36m  julia> eigmax(A)\u001b[39m\n",
       "\u001b[36m  1.0\u001b[39m\n",
       "\u001b[36m  \u001b[39m\n",
       "\u001b[36m  julia> A = [0 im; -1 0]\u001b[39m\n",
       "\u001b[36m  2×2 Array{Complex{Int64},2}:\u001b[39m\n",
       "\u001b[36m    0+0im  0+1im\u001b[39m\n",
       "\u001b[36m   -1+0im  0+0im\u001b[39m\n",
       "\u001b[36m  \u001b[39m\n",
       "\u001b[36m  julia> eigmax(A)\u001b[39m\n",
       "\u001b[36m  ERROR: DomainError with Complex{Int64}[0+0im 0+1im; -1+0im 0+0im]:\u001b[39m\n",
       "\u001b[36m  `A` cannot have complex eigenvalues.\u001b[39m\n",
       "\u001b[36m  Stacktrace:\u001b[39m\n",
       "\u001b[36m  [...]\u001b[39m"
      ]
     },
     "execution_count": 21,
     "metadata": {
     },
     "output_type": "execute_result"
    }
   ],
   "source": [
    "?eigmax"
   ]
  },
  {
   "cell_type": "code",
   "execution_count": 22,
   "metadata": {
    "collapsed": false
   },
   "outputs": [
    {
     "name": "stdout",
     "output_type": "stream",
     "text": [
      "search: \u001b[0m\u001b[1mr\u001b[22m\u001b[0m\u001b[1ma\u001b[22m\u001b[0m\u001b[1mn\u001b[22m\u001b[0m\u001b[1md\u001b[22m\u001b[0m\u001b[1mn\u001b[22m low\u001b[0m\u001b[1mr\u001b[22m\u001b[0m\u001b[1ma\u001b[22m\u001b[0m\u001b[1mn\u001b[22mk\u001b[0m\u001b[1md\u001b[22mow\u001b[0m\u001b[1mn\u001b[22mdate low\u001b[0m\u001b[1mr\u001b[22m\u001b[0m\u001b[1ma\u001b[22m\u001b[0m\u001b[1mn\u001b[22mk\u001b[0m\u001b[1md\u001b[22mow\u001b[0m\u001b[1mn\u001b[22mdate! \u001b[0m\u001b[1mR\u001b[22m\u001b[0m\u001b[1ma\u001b[22m\u001b[0m\u001b[1mn\u001b[22mk\u001b[0m\u001b[1mD\u001b[22meficie\u001b[0m\u001b[1mn\u001b[22mtException \u001b[0m\u001b[1mr\u001b[22m\u001b[0m\u001b[1ma\u001b[22m\u001b[0m\u001b[1mn\u001b[22m\u001b[0m\u001b[1md\u001b[22m\n",
      "\n"
     ]
    },
    {
     "data": {
      "text/latex": [
       "\\begin{verbatim}\n",
       "randn([rng=GLOBAL_RNG], [T=Float64], [dims...])\n",
       "\\end{verbatim}\n",
       "Generate a normally-distributed random number of type \\texttt{T} with mean 0 and standard deviation 1. Optionally generate an array of normally-distributed random numbers. The \\texttt{Base} module currently provides an implementation for the types \\href{@ref}{\\texttt{Float16}}, \\href{@ref}{\\texttt{Float32}}, and \\href{@ref}{\\texttt{Float64}} (the default), and their \\href{@ref}{\\texttt{Complex}} counterparts. When the type argument is complex, the values are drawn from the circularly symmetric complex normal distribution of variance 1 (corresponding to real and imaginary part having independent normal distribution with mean zero and variance \\texttt{1/2}).\n",
       "\n",
       "\\section{Examples}\n",
       "\\begin{verbatim}\n",
       "julia> using Random\n",
       "\n",
       "julia> rng = MersenneTwister(1234);\n",
       "\n",
       "julia> randn(rng, ComplexF64)\n",
       "0.6133070881429037 - 0.6376291670853887im\n",
       "\n",
       "julia> randn(rng, ComplexF32, (2, 3))\n",
       "2×3 Array{Complex{Float32},2}:\n",
       " -0.349649-0.638457im  0.376756-0.192146im  -0.396334-0.0136413im\n",
       "  0.611224+1.56403im   0.355204-0.365563im  0.0905552+1.31012im\n",
       "\\end{verbatim}\n"
      ],
      "text/markdown": [
       "```\n",
       "randn([rng=GLOBAL_RNG], [T=Float64], [dims...])\n",
       "```\n",
       "\n",
       "Generate a normally-distributed random number of type `T` with mean 0 and standard deviation 1. Optionally generate an array of normally-distributed random numbers. The `Base` module currently provides an implementation for the types [`Float16`](@ref), [`Float32`](@ref), and [`Float64`](@ref) (the default), and their [`Complex`](@ref) counterparts. When the type argument is complex, the values are drawn from the circularly symmetric complex normal distribution of variance 1 (corresponding to real and imaginary part having independent normal distribution with mean zero and variance `1/2`).\n",
       "\n",
       "# Examples\n",
       "\n",
       "```jldoctest\n",
       "julia> using Random\n",
       "\n",
       "julia> rng = MersenneTwister(1234);\n",
       "\n",
       "julia> randn(rng, ComplexF64)\n",
       "0.6133070881429037 - 0.6376291670853887im\n",
       "\n",
       "julia> randn(rng, ComplexF32, (2, 3))\n",
       "2×3 Array{Complex{Float32},2}:\n",
       " -0.349649-0.638457im  0.376756-0.192146im  -0.396334-0.0136413im\n",
       "  0.611224+1.56403im   0.355204-0.365563im  0.0905552+1.31012im\n",
       "```\n"
      ],
      "text/plain": [
       "\u001b[36m  randn([rng=GLOBAL_RNG], [T=Float64], [dims...])\u001b[39m\n",
       "\n",
       "  Generate a normally-distributed random number of type \u001b[36mT\u001b[39m with mean 0 and\n",
       "  standard deviation 1. Optionally generate an array of normally-distributed\n",
       "  random numbers. The \u001b[36mBase\u001b[39m module currently provides an implementation for the\n",
       "  types \u001b[36mFloat16\u001b[39m, \u001b[36mFloat32\u001b[39m, and \u001b[36mFloat64\u001b[39m (the default), and their \u001b[36mComplex\u001b[39m\n",
       "  counterparts. When the type argument is complex, the values are drawn from\n",
       "  the circularly symmetric complex normal distribution of variance 1\n",
       "  (corresponding to real and imaginary part having independent normal\n",
       "  distribution with mean zero and variance \u001b[36m1/2\u001b[39m).\n",
       "\n",
       "\u001b[1m  Examples\u001b[22m\n",
       "\u001b[1m  ≡≡≡≡≡≡≡≡≡≡\u001b[22m\n",
       "\n",
       "\u001b[36m  julia> using Random\u001b[39m\n",
       "\u001b[36m  \u001b[39m\n",
       "\u001b[36m  julia> rng = MersenneTwister(1234);\u001b[39m\n",
       "\u001b[36m  \u001b[39m\n",
       "\u001b[36m  julia> randn(rng, ComplexF64)\u001b[39m\n",
       "\u001b[36m  0.6133070881429037 - 0.6376291670853887im\u001b[39m\n",
       "\u001b[36m  \u001b[39m\n",
       "\u001b[36m  julia> randn(rng, ComplexF32, (2, 3))\u001b[39m\n",
       "\u001b[36m  2×3 Array{Complex{Float32},2}:\u001b[39m\n",
       "\u001b[36m   -0.349649-0.638457im  0.376756-0.192146im  -0.396334-0.0136413im\u001b[39m\n",
       "\u001b[36m    0.611224+1.56403im   0.355204-0.365563im  0.0905552+1.31012im\u001b[39m"
      ]
     },
     "execution_count": 22,
     "metadata": {
     },
     "output_type": "execute_result"
    }
   ],
   "source": [
    "?randn"
   ]
  }
 ],
 "metadata": {
  "kernelspec": {
   "display_name": "Julia 1.5",
   "env": {
    "JULIA_DEPOT_PATH": "/home/user/.julia/:/ext/julia/depot/",
    "JULIA_PROJECT": "/home/user/.julia/environment/v1.5"
   },
   "language": "julia",
   "metadata": {
    "cocalc": {
     "description": "The Julia Programming Language",
     "priority": 10,
     "url": "https://julialang.org/"
    }
   },
   "name": "julia-1.5",
   "resource_dir": "/ext/jupyter/kernels/julia-1.5"
  },
  "language_info": {
   "file_extension": ".jl",
   "mimetype": "application/julia",
   "name": "julia",
   "version": "1.5.3"
  }
 },
 "nbformat": 4,
 "nbformat_minor": 4
}