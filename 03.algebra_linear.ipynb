{
 "cells": [
  {
   "cell_type": "markdown",
   "metadata": {},
   "source": [
    "# Álgebra linear em Julia"
   ]
  },
  {
   "cell_type": "markdown",
   "metadata": {},
   "source": [
    "## Operações básicas\n",
    "\n",
    "Primeiro, vamos construir uma matriz 3x3 com entradas entre 1 e 4 escolhidas aleatoriamente:"
   ]
  },
  {
   "cell_type": "code",
   "execution_count": 1,
   "metadata": {},
   "outputs": [
    {
     "data": {
      "text/plain": [
       "3×3 Array{Int64,2}:\n",
       " 1  2  1\n",
       " 1  2  2\n",
       " 2  2  3"
      ]
     },
     "execution_count": 1,
     "metadata": {},
     "output_type": "execute_result"
    }
   ],
   "source": [
    "A = rand(1:4, 3, 3)"
   ]
  },
  {
   "cell_type": "markdown",
   "metadata": {},
   "source": [
    "Agora, vamos construir um vetor com 3 coordenadas todas iguais a 1:"
   ]
  },
  {
   "cell_type": "code",
   "execution_count": 2,
   "metadata": {},
   "outputs": [
    {
     "data": {
      "text/plain": [
       "3-element Array{Float64,1}:\n",
       " 1.0\n",
       " 1.0\n",
       " 1.0"
      ]
     },
     "execution_count": 2,
     "metadata": {},
     "output_type": "execute_result"
    }
   ],
   "source": [
    "v = fill(1.0, (3))"
   ]
  },
  {
   "cell_type": "markdown",
   "metadata": {},
   "source": [
    "### Multiplicação"
   ]
  },
  {
   "cell_type": "code",
   "execution_count": 3,
   "metadata": {},
   "outputs": [
    {
     "data": {
      "text/plain": [
       "3-element Array{Float64,1}:\n",
       " 4.0\n",
       " 5.0\n",
       " 7.0"
      ]
     },
     "execution_count": 3,
     "metadata": {},
     "output_type": "execute_result"
    }
   ],
   "source": [
    "b = A*v"
   ]
  },
  {
   "cell_type": "markdown",
   "metadata": {},
   "source": [
    "### Transposição\n",
    "\n",
    "A matriz `transpose(A)` é a transposta de `A`:"
   ]
  },
  {
   "cell_type": "code",
   "execution_count": 4,
   "metadata": {},
   "outputs": [
    {
     "data": {
      "text/plain": [
       "3×3 LinearAlgebra.Transpose{Int64,Array{Int64,2}}:\n",
       " 1  1  2\n",
       " 2  2  2\n",
       " 1  2  3"
      ]
     },
     "execution_count": 4,
     "metadata": {},
     "output_type": "execute_result"
    }
   ],
   "source": [
    "transpose(A)"
   ]
  },
  {
   "cell_type": "markdown",
   "metadata": {},
   "source": [
    "A matriz `A'` é a adjunta de `A`, ou seja, a transposta conjugada de `A`, que coincide com a transposta de `A` (`transpose(A)`) quando `A` é real."
   ]
  },
  {
   "cell_type": "code",
   "execution_count": 5,
   "metadata": {},
   "outputs": [
    {
     "data": {
      "text/plain": [
       "3×3 LinearAlgebra.Adjoint{Int64,Array{Int64,2}}:\n",
       " 1  1  2\n",
       " 2  2  2\n",
       " 1  2  3"
      ]
     },
     "execution_count": 5,
     "metadata": {},
     "output_type": "execute_result"
    }
   ],
   "source": [
    "A'"
   ]
  },
  {
   "cell_type": "markdown",
   "metadata": {},
   "source": [
    "### Multiplicação pela transposta\n",
    "\n",
    "Em Julia, podemos escrever simplesmente `A'A` em vez de `(A')*A`:"
   ]
  },
  {
   "cell_type": "code",
   "execution_count": 6,
   "metadata": {},
   "outputs": [
    {
     "data": {
      "text/plain": [
       "3×3 Array{Int64,2}:\n",
       " 6   8   9\n",
       " 8  12  12\n",
       " 9  12  14"
      ]
     },
     "execution_count": 6,
     "metadata": {},
     "output_type": "execute_result"
    }
   ],
   "source": [
    "A'A"
   ]
  },
  {
   "cell_type": "code",
   "execution_count": 7,
   "metadata": {},
   "outputs": [
    {
     "data": {
      "text/plain": [
       "3×3 Array{Int64,2}:\n",
       " 6   8   9\n",
       " 8  12  12\n",
       " 9  12  14"
      ]
     },
     "execution_count": 7,
     "metadata": {},
     "output_type": "execute_result"
    }
   ],
   "source": [
    "(A')*A"
   ]
  },
  {
   "cell_type": "markdown",
   "metadata": {},
   "source": [
    "## Resolvendo sistemas de equações lineares\n",
    "\n",
    "O problema $Ax = b$ pode ser resolvido usando a função `\\`."
   ]
  },
  {
   "cell_type": "code",
   "execution_count": 8,
   "metadata": {},
   "outputs": [
    {
     "data": {
      "text/plain": [
       "3-element Array{Float64,1}:\n",
       " 1.0\n",
       " 1.0\n",
       " 1.0"
      ]
     },
     "execution_count": 8,
     "metadata": {},
     "output_type": "execute_result"
    }
   ],
   "source": [
    "x = A\\b"
   ]
  },
  {
   "cell_type": "markdown",
   "metadata": {},
   "source": [
    "## Matrizes com estrutura especial"
   ]
  },
  {
   "cell_type": "code",
   "execution_count": 9,
   "metadata": {},
   "outputs": [],
   "source": [
    "using LinearAlgebra"
   ]
  },
  {
   "cell_type": "code",
   "execution_count": 10,
   "metadata": {},
   "outputs": [],
   "source": [
    "n = 1000\n",
    "A = randn(n,n);"
   ]
  },
  {
   "cell_type": "markdown",
   "metadata": {},
   "source": [
    "Frequentemente, é possível inferir a estrutura de uma matriz:"
   ]
  },
  {
   "cell_type": "code",
   "execution_count": 11,
   "metadata": {},
   "outputs": [
    {
     "data": {
      "text/plain": [
       "true"
      ]
     },
     "execution_count": 11,
     "metadata": {},
     "output_type": "execute_result"
    }
   ],
   "source": [
    "Asim = A + A'\n",
    "issymmetric(Asim)"
   ]
  },
  {
   "cell_type": "markdown",
   "metadata": {},
   "source": [
    "Todavia, muitas vezes os arredondamentos numéricos atrapalham:"
   ]
  },
  {
   "cell_type": "code",
   "execution_count": 12,
   "metadata": {},
   "outputs": [
    {
     "name": "stdout",
     "output_type": "stream",
     "text": [
      "ruido = 1.1102230246251565e-15\n"
     ]
    },
    {
     "data": {
      "text/plain": [
       "false"
      ]
     },
     "execution_count": 12,
     "metadata": {},
     "output_type": "execute_result"
    }
   ],
   "source": [
    "Asim_ruido = copy(Asim)\n",
    "ruido = 5eps()\n",
    "println(\"ruido = $ruido\")\n",
    "Asim_ruido[1,2] += ruido\n",
    "issymmetric(Asim_ruido)"
   ]
  },
  {
   "cell_type": "markdown",
   "metadata": {},
   "source": [
    "O comando acima inseriu um ruído da ordem de 10<sup>-15</sup> no elemento (1,2) da matriz `Asim`."
   ]
  },
  {
   "cell_type": "markdown",
   "metadata": {},
   "source": [
    "A linguagem Julia permite que declaremos explicitamente a estrutura de uma matriz usando, por exemplo, `Diagonal`, `Triangular`, `Symmetric`, `Hermitian`, `Tridiagonal` e `SymTridiagonal`."
   ]
  },
  {
   "cell_type": "code",
   "execution_count": 13,
   "metadata": {},
   "outputs": [
    {
     "data": {
      "text/plain": [
       "true"
      ]
     },
     "execution_count": 13,
     "metadata": {},
     "output_type": "execute_result"
    }
   ],
   "source": [
    "Asim_explicita = Symmetric(Asim_ruido)\n",
    "issymmetric(Asim_explicita)"
   ]
  },
  {
   "cell_type": "markdown",
   "metadata": {},
   "source": [
    "Vamos comparar quanto tempo leva para a Julia calcular os autovalores de `Asim`, `Asim_ruido` e `Asim_explicita`."
   ]
  },
  {
   "cell_type": "code",
   "execution_count": 14,
   "metadata": {},
   "outputs": [
    {
     "name": "stdout",
     "output_type": "stream",
     "text": [
      "  0.383190 seconds (858.56 k allocations: 49.301 MiB, 3.22% gc time)\n"
     ]
    }
   ],
   "source": [
    "@time eigvals(Asim);"
   ]
  },
  {
   "cell_type": "code",
   "execution_count": 15,
   "metadata": {},
   "outputs": [
    {
     "name": "stdout",
     "output_type": "stream",
     "text": [
      "  0.767084 seconds (18 allocations: 7.921 MiB, 0.97% gc time)\n"
     ]
    }
   ],
   "source": [
    "@time eigvals(Asim_ruido);"
   ]
  },
  {
   "cell_type": "code",
   "execution_count": 16,
   "metadata": {},
   "outputs": [
    {
     "name": "stdout",
     "output_type": "stream",
     "text": [
      "  0.098052 seconds (6.66 k allocations: 8.297 MiB)\n"
     ]
    }
   ],
   "source": [
    "@time eigvals(Asim_explicita);"
   ]
  },
  {
   "cell_type": "markdown",
   "metadata": {},
   "source": [
    "Observamos que o cálculo com `Asim_explicita` (onde usamos `Symmetric()`) foi muitas vezes mais rápido do que o cálculo com `Asim_ruido`."
   ]
  },
  {
   "cell_type": "markdown",
   "metadata": {},
   "source": [
    "## Um problema grande\n",
    "\n",
    "Usando os tipos `Tridiagonal` e `SymTridiagonal`, podemos armazenar matrizes de forma eficiente.\n",
    "Isso torna possível fazer cálculos com matrizes muito grandes.\n",
    "Por exemplo, não seria possível resolver em um laptop o seguinte problema se armazenássemos a matriz usando o tipo `Array`."
   ]
  },
  {
   "cell_type": "code",
   "execution_count": 17,
   "metadata": {},
   "outputs": [
    {
     "name": "stdout",
     "output_type": "stream",
     "text": [
      "  0.778396 seconds (573.55 k allocations: 180.880 MiB, 9.32% gc time)\n"
     ]
    },
    {
     "data": {
      "text/plain": [
       "6.364223488857943"
      ]
     },
     "execution_count": 17,
     "metadata": {},
     "output_type": "execute_result"
    }
   ],
   "source": [
    "n = 1_000_000;\n",
    "A = SymTridiagonal(randn(n), randn(n-1));\n",
    "@time eigmax(A)"
   ]
  },
  {
   "cell_type": "markdown",
   "metadata": {},
   "source": [
    "O cálculo acima demorou menos de 1 segundo.\n",
    "Explicamos a seguir o significado dos comandos.\n",
    "\n",
    "O comando abaixo cria uma matriz simétrica 6x6 especificando 6 números aleatórios na diagonal e 5 números aleatórios na diagonal secundária."
   ]
  },
  {
   "cell_type": "code",
   "execution_count": 18,
   "metadata": {},
   "outputs": [
    {
     "data": {
      "text/plain": [
       "6×6 SymTridiagonal{Float64,Array{Float64,1}}:\n",
       " -1.42893  -0.74123     ⋅          ⋅          ⋅         ⋅      \n",
       " -0.74123  -1.00566    0.394494    ⋅          ⋅         ⋅      \n",
       "   ⋅        0.394494   0.122927  -0.899586    ⋅         ⋅      \n",
       "   ⋅         ⋅        -0.899586   0.504053  -0.221936   ⋅      \n",
       "   ⋅         ⋅          ⋅        -0.221936   0.199231  1.46452 \n",
       "   ⋅         ⋅          ⋅          ⋅         1.46452   0.778833"
      ]
     },
     "execution_count": 18,
     "metadata": {},
     "output_type": "execute_result"
    }
   ],
   "source": [
    "B = SymTridiagonal(randn(6), randn(6-1))"
   ]
  },
  {
   "cell_type": "markdown",
   "metadata": {},
   "source": [
    "Portanto, a matriz `A` acima tem estrutura semelhante mas é de ordem **1 milhão x 1 milhão**:"
   ]
  },
  {
   "cell_type": "code",
   "execution_count": 19,
   "metadata": {},
   "outputs": [
    {
     "data": {
      "text/plain": [
       "1000000×1000000 SymTridiagonal{Float64,Array{Float64,1}}:\n",
       " -0.354246   1.11562     ⋅        …    ⋅          ⋅          ⋅      \n",
       "  1.11562   -0.226126  -0.987676       ⋅          ⋅          ⋅      \n",
       "   ⋅        -0.987676   0.135718       ⋅          ⋅          ⋅      \n",
       "   ⋅          ⋅         0.110276       ⋅          ⋅          ⋅      \n",
       "   ⋅          ⋅          ⋅             ⋅          ⋅          ⋅      \n",
       "   ⋅          ⋅          ⋅        …    ⋅          ⋅          ⋅      \n",
       "   ⋅          ⋅          ⋅             ⋅          ⋅          ⋅      \n",
       "   ⋅          ⋅          ⋅             ⋅          ⋅          ⋅      \n",
       "   ⋅          ⋅          ⋅             ⋅          ⋅          ⋅      \n",
       "   ⋅          ⋅          ⋅             ⋅          ⋅          ⋅      \n",
       "   ⋅          ⋅          ⋅        …    ⋅          ⋅          ⋅      \n",
       "   ⋅          ⋅          ⋅             ⋅          ⋅          ⋅      \n",
       "   ⋅          ⋅          ⋅             ⋅          ⋅          ⋅      \n",
       "  ⋮                               ⋱                                 \n",
       "   ⋅          ⋅          ⋅             ⋅          ⋅          ⋅      \n",
       "   ⋅          ⋅          ⋅             ⋅          ⋅          ⋅      \n",
       "   ⋅          ⋅          ⋅        …    ⋅          ⋅          ⋅      \n",
       "   ⋅          ⋅          ⋅             ⋅          ⋅          ⋅      \n",
       "   ⋅          ⋅          ⋅             ⋅          ⋅          ⋅      \n",
       "   ⋅          ⋅          ⋅             ⋅          ⋅          ⋅      \n",
       "   ⋅          ⋅          ⋅             ⋅          ⋅          ⋅      \n",
       "   ⋅          ⋅          ⋅        …    ⋅          ⋅          ⋅      \n",
       "   ⋅          ⋅          ⋅            0.144538    ⋅          ⋅      \n",
       "   ⋅          ⋅          ⋅           -2.07228    0.10014     ⋅      \n",
       "   ⋅          ⋅          ⋅            0.10014   -0.544581  -1.38018 \n",
       "   ⋅          ⋅          ⋅             ⋅        -1.38018   -0.883346"
      ]
     },
     "execution_count": 19,
     "metadata": {},
     "output_type": "execute_result"
    }
   ],
   "source": [
    "A"
   ]
  },
  {
   "cell_type": "markdown",
   "metadata": {},
   "source": [
    "O comando `randn(6)` cria uma lista de 6 números aleatórios."
   ]
  },
  {
   "cell_type": "code",
   "execution_count": 20,
   "metadata": {
    "scrolled": true
   },
   "outputs": [
    {
     "data": {
      "text/plain": [
       "6-element Array{Float64,1}:\n",
       " -1.3934484752355702\n",
       " -1.1620924895713112\n",
       " -1.5374341827044993\n",
       " -1.0859109660548516\n",
       " -0.4609719981587992\n",
       " -0.2796215589930371"
      ]
     },
     "execution_count": 20,
     "metadata": {},
     "output_type": "execute_result"
    }
   ],
   "source": [
    "randn(6)"
   ]
  },
  {
   "cell_type": "markdown",
   "metadata": {},
   "source": [
    "O comando `eigmax(A)` calcula o maior autovalor de `A`.\n",
    "\n",
    "Com os comandos a seguir, podemos ler as documentações sobre as funções (lembre da dica de copiar a descrição e colar em https://translate.google.com):"
   ]
  },
  {
   "cell_type": "code",
   "execution_count": 21,
   "metadata": {},
   "outputs": [
    {
     "name": "stdout",
     "output_type": "stream",
     "text": [
      "search: \u001b[0m\u001b[1me\u001b[22m\u001b[0m\u001b[1mi\u001b[22m\u001b[0m\u001b[1mg\u001b[22m\u001b[0m\u001b[1mm\u001b[22m\u001b[0m\u001b[1ma\u001b[22m\u001b[0m\u001b[1mx\u001b[22m\n",
      "\n"
     ]
    },
    {
     "data": {
      "text/latex": [
       "\\begin{verbatim}\n",
       "eigmax(A; permute::Bool=true, scale::Bool=true)\n",
       "\\end{verbatim}\n",
       "Return the largest eigenvalue of \\texttt{A}. The option \\texttt{permute=true} permutes the matrix to become closer to upper triangular, and \\texttt{scale=true} scales the matrix by its diagonal elements to make rows and columns more equal in norm. Note that if the eigenvalues of \\texttt{A} are complex, this method will fail, since complex numbers cannot be sorted.\n",
       "\n",
       "\\section{Examples}\n",
       "\\begin{verbatim}\n",
       "julia> A = [0 im; -im 0]\n",
       "2×2 Array{Complex{Int64},2}:\n",
       " 0+0im  0+1im\n",
       " 0-1im  0+0im\n",
       "\n",
       "julia> eigmax(A)\n",
       "1.0\n",
       "\n",
       "julia> A = [0 im; -1 0]\n",
       "2×2 Array{Complex{Int64},2}:\n",
       "  0+0im  0+1im\n",
       " -1+0im  0+0im\n",
       "\n",
       "julia> eigmax(A)\n",
       "ERROR: DomainError with Complex{Int64}[0+0im 0+1im; -1+0im 0+0im]:\n",
       "`A` cannot have complex eigenvalues.\n",
       "Stacktrace:\n",
       "[...]\n",
       "\\end{verbatim}\n"
      ],
      "text/markdown": [
       "```\n",
       "eigmax(A; permute::Bool=true, scale::Bool=true)\n",
       "```\n",
       "\n",
       "Return the largest eigenvalue of `A`. The option `permute=true` permutes the matrix to become closer to upper triangular, and `scale=true` scales the matrix by its diagonal elements to make rows and columns more equal in norm. Note that if the eigenvalues of `A` are complex, this method will fail, since complex numbers cannot be sorted.\n",
       "\n",
       "# Examples\n",
       "\n",
       "```jldoctest\n",
       "julia> A = [0 im; -im 0]\n",
       "2×2 Array{Complex{Int64},2}:\n",
       " 0+0im  0+1im\n",
       " 0-1im  0+0im\n",
       "\n",
       "julia> eigmax(A)\n",
       "1.0\n",
       "\n",
       "julia> A = [0 im; -1 0]\n",
       "2×2 Array{Complex{Int64},2}:\n",
       "  0+0im  0+1im\n",
       " -1+0im  0+0im\n",
       "\n",
       "julia> eigmax(A)\n",
       "ERROR: DomainError with Complex{Int64}[0+0im 0+1im; -1+0im 0+0im]:\n",
       "`A` cannot have complex eigenvalues.\n",
       "Stacktrace:\n",
       "[...]\n",
       "```\n"
      ],
      "text/plain": [
       "\u001b[36m  eigmax(A; permute::Bool=true, scale::Bool=true)\u001b[39m\n",
       "\n",
       "  Return the largest eigenvalue of \u001b[36mA\u001b[39m. The option \u001b[36mpermute=true\u001b[39m permutes the\n",
       "  matrix to become closer to upper triangular, and \u001b[36mscale=true\u001b[39m scales the\n",
       "  matrix by its diagonal elements to make rows and columns more equal in norm.\n",
       "  Note that if the eigenvalues of \u001b[36mA\u001b[39m are complex, this method will fail, since\n",
       "  complex numbers cannot be sorted.\n",
       "\n",
       "\u001b[1m  Examples\u001b[22m\n",
       "\u001b[1m  ≡≡≡≡≡≡≡≡≡≡\u001b[22m\n",
       "\n",
       "\u001b[36m  julia> A = [0 im; -im 0]\u001b[39m\n",
       "\u001b[36m  2×2 Array{Complex{Int64},2}:\u001b[39m\n",
       "\u001b[36m   0+0im  0+1im\u001b[39m\n",
       "\u001b[36m   0-1im  0+0im\u001b[39m\n",
       "\u001b[36m  \u001b[39m\n",
       "\u001b[36m  julia> eigmax(A)\u001b[39m\n",
       "\u001b[36m  1.0\u001b[39m\n",
       "\u001b[36m  \u001b[39m\n",
       "\u001b[36m  julia> A = [0 im; -1 0]\u001b[39m\n",
       "\u001b[36m  2×2 Array{Complex{Int64},2}:\u001b[39m\n",
       "\u001b[36m    0+0im  0+1im\u001b[39m\n",
       "\u001b[36m   -1+0im  0+0im\u001b[39m\n",
       "\u001b[36m  \u001b[39m\n",
       "\u001b[36m  julia> eigmax(A)\u001b[39m\n",
       "\u001b[36m  ERROR: DomainError with Complex{Int64}[0+0im 0+1im; -1+0im 0+0im]:\u001b[39m\n",
       "\u001b[36m  `A` cannot have complex eigenvalues.\u001b[39m\n",
       "\u001b[36m  Stacktrace:\u001b[39m\n",
       "\u001b[36m  [...]\u001b[39m"
      ]
     },
     "execution_count": 21,
     "metadata": {},
     "output_type": "execute_result"
    }
   ],
   "source": [
    "?eigmax"
   ]
  },
  {
   "cell_type": "code",
   "execution_count": 22,
   "metadata": {},
   "outputs": [
    {
     "name": "stdout",
     "output_type": "stream",
     "text": [
      "search: \u001b[0m\u001b[1mr\u001b[22m\u001b[0m\u001b[1ma\u001b[22m\u001b[0m\u001b[1mn\u001b[22m\u001b[0m\u001b[1md\u001b[22m\u001b[0m\u001b[1mn\u001b[22m low\u001b[0m\u001b[1mr\u001b[22m\u001b[0m\u001b[1ma\u001b[22m\u001b[0m\u001b[1mn\u001b[22mk\u001b[0m\u001b[1md\u001b[22mow\u001b[0m\u001b[1mn\u001b[22mdate low\u001b[0m\u001b[1mr\u001b[22m\u001b[0m\u001b[1ma\u001b[22m\u001b[0m\u001b[1mn\u001b[22mk\u001b[0m\u001b[1md\u001b[22mow\u001b[0m\u001b[1mn\u001b[22mdate! \u001b[0m\u001b[1mR\u001b[22m\u001b[0m\u001b[1ma\u001b[22m\u001b[0m\u001b[1mn\u001b[22mk\u001b[0m\u001b[1mD\u001b[22meficie\u001b[0m\u001b[1mn\u001b[22mtException \u001b[0m\u001b[1mr\u001b[22m\u001b[0m\u001b[1ma\u001b[22m\u001b[0m\u001b[1mn\u001b[22m\u001b[0m\u001b[1md\u001b[22m\n",
      "\n"
     ]
    },
    {
     "data": {
      "text/latex": [
       "\\begin{verbatim}\n",
       "randn([rng=GLOBAL_RNG], [T=Float64], [dims...])\n",
       "\\end{verbatim}\n",
       "Generate a normally-distributed random number of type \\texttt{T} with mean 0 and standard deviation 1. Optionally generate an array of normally-distributed random numbers. The \\texttt{Base} module currently provides an implementation for the types \\href{@ref}{\\texttt{Float16}}, \\href{@ref}{\\texttt{Float32}}, and \\href{@ref}{\\texttt{Float64}} (the default), and their \\href{@ref}{\\texttt{Complex}} counterparts. When the type argument is complex, the values are drawn from the circularly symmetric complex normal distribution.\n",
       "\n",
       "\\section{Examples}\n",
       "\\begin{verbatim}\n",
       "julia> rng = MersenneTwister(1234);\n",
       "\n",
       "julia> randn(rng, ComplexF64)\n",
       "0.6133070881429037 - 0.6376291670853887im\n",
       "\n",
       "julia> randn(rng, ComplexF32, (2, 3))\n",
       "2×3 Array{Complex{Float32},2}:\n",
       " -0.349649-0.638457im  0.376756-0.192146im  -0.396334-0.0136413im\n",
       "  0.611224+1.56403im   0.355204-0.365563im  0.0905552+1.31012im\n",
       "\\end{verbatim}\n"
      ],
      "text/markdown": [
       "```\n",
       "randn([rng=GLOBAL_RNG], [T=Float64], [dims...])\n",
       "```\n",
       "\n",
       "Generate a normally-distributed random number of type `T` with mean 0 and standard deviation 1. Optionally generate an array of normally-distributed random numbers. The `Base` module currently provides an implementation for the types [`Float16`](@ref), [`Float32`](@ref), and [`Float64`](@ref) (the default), and their [`Complex`](@ref) counterparts. When the type argument is complex, the values are drawn from the circularly symmetric complex normal distribution.\n",
       "\n",
       "# Examples\n",
       "\n",
       "```jldoctest\n",
       "julia> rng = MersenneTwister(1234);\n",
       "\n",
       "julia> randn(rng, ComplexF64)\n",
       "0.6133070881429037 - 0.6376291670853887im\n",
       "\n",
       "julia> randn(rng, ComplexF32, (2, 3))\n",
       "2×3 Array{Complex{Float32},2}:\n",
       " -0.349649-0.638457im  0.376756-0.192146im  -0.396334-0.0136413im\n",
       "  0.611224+1.56403im   0.355204-0.365563im  0.0905552+1.31012im\n",
       "```\n"
      ],
      "text/plain": [
       "\u001b[36m  randn([rng=GLOBAL_RNG], [T=Float64], [dims...])\u001b[39m\n",
       "\n",
       "  Generate a normally-distributed random number of type \u001b[36mT\u001b[39m with mean 0 and\n",
       "  standard deviation 1. Optionally generate an array of normally-distributed\n",
       "  random numbers. The \u001b[36mBase\u001b[39m module currently provides an implementation for the\n",
       "  types \u001b[36mFloat16\u001b[39m, \u001b[36mFloat32\u001b[39m, and \u001b[36mFloat64\u001b[39m (the default), and their \u001b[36mComplex\u001b[39m\n",
       "  counterparts. When the type argument is complex, the values are drawn from\n",
       "  the circularly symmetric complex normal distribution.\n",
       "\n",
       "\u001b[1m  Examples\u001b[22m\n",
       "\u001b[1m  ≡≡≡≡≡≡≡≡≡≡\u001b[22m\n",
       "\n",
       "\u001b[36m  julia> rng = MersenneTwister(1234);\u001b[39m\n",
       "\u001b[36m  \u001b[39m\n",
       "\u001b[36m  julia> randn(rng, ComplexF64)\u001b[39m\n",
       "\u001b[36m  0.6133070881429037 - 0.6376291670853887im\u001b[39m\n",
       "\u001b[36m  \u001b[39m\n",
       "\u001b[36m  julia> randn(rng, ComplexF32, (2, 3))\u001b[39m\n",
       "\u001b[36m  2×3 Array{Complex{Float32},2}:\u001b[39m\n",
       "\u001b[36m   -0.349649-0.638457im  0.376756-0.192146im  -0.396334-0.0136413im\u001b[39m\n",
       "\u001b[36m    0.611224+1.56403im   0.355204-0.365563im  0.0905552+1.31012im\u001b[39m"
      ]
     },
     "execution_count": 22,
     "metadata": {},
     "output_type": "execute_result"
    }
   ],
   "source": [
    "?randn"
   ]
  }
 ],
 "metadata": {
  "kernelspec": {
   "display_name": "Julia 1.0.3",
   "language": "julia",
   "name": "julia-1.0"
  },
  "language_info": {
   "file_extension": ".jl",
   "mimetype": "application/julia",
   "name": "julia",
   "version": "1.1.0"
  }
 },
 "nbformat": 4,
 "nbformat_minor": 1
}
