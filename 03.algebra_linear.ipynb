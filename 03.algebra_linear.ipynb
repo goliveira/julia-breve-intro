{
 "cells": [
  {
   "cell_type": "markdown",
   "metadata": {},
   "source": [
    "# Álgebra linear em Julia"
   ]
  },
  {
   "cell_type": "markdown",
   "metadata": {},
   "source": [
    "## Operações básicas\n",
    "\n",
    "Primeiro, vamos construir uma matriz 3x3 com entradas entre 1 e 4 escolhidas aleatoriamente:"
   ]
  },
  {
   "cell_type": "code",
   "execution_count": 1,
   "metadata": {},
   "outputs": [
    {
     "data": {
      "text/plain": [
       "3×3 Matrix{Int64}:\n",
       " 3  2  3\n",
       " 4  3  1\n",
       " 2  2  2"
      ]
     },
     "execution_count": 1,
     "metadata": {},
     "output_type": "execute_result"
    }
   ],
   "source": [
    "A = rand(1:4, 3, 3)"
   ]
  },
  {
   "cell_type": "markdown",
   "metadata": {},
   "source": [
    "Agora, vamos construir um vetor com 3 coordenadas todas iguais a 1:"
   ]
  },
  {
   "cell_type": "code",
   "execution_count": 2,
   "metadata": {},
   "outputs": [
    {
     "data": {
      "text/plain": [
       "3-element Vector{Float64}:\n",
       " 1.0\n",
       " 1.0\n",
       " 1.0"
      ]
     },
     "execution_count": 2,
     "metadata": {},
     "output_type": "execute_result"
    }
   ],
   "source": [
    "v = fill(1.0, (3))"
   ]
  },
  {
   "cell_type": "markdown",
   "metadata": {},
   "source": [
    "### Multiplicação"
   ]
  },
  {
   "cell_type": "code",
   "execution_count": 3,
   "metadata": {},
   "outputs": [
    {
     "data": {
      "text/plain": [
       "3-element Vector{Float64}:\n",
       " 8.0\n",
       " 8.0\n",
       " 6.0"
      ]
     },
     "execution_count": 3,
     "metadata": {},
     "output_type": "execute_result"
    }
   ],
   "source": [
    "b = A*v"
   ]
  },
  {
   "cell_type": "markdown",
   "metadata": {},
   "source": [
    "### Transposição\n",
    "\n",
    "A matriz `transpose(A)` é a transposta de `A`:"
   ]
  },
  {
   "cell_type": "code",
   "execution_count": 4,
   "metadata": {},
   "outputs": [
    {
     "data": {
      "text/plain": [
       "3×3 transpose(::Matrix{Int64}) with eltype Int64:\n",
       " 3  4  2\n",
       " 2  3  2\n",
       " 3  1  2"
      ]
     },
     "execution_count": 4,
     "metadata": {},
     "output_type": "execute_result"
    }
   ],
   "source": [
    "transpose(A)"
   ]
  },
  {
   "cell_type": "markdown",
   "metadata": {},
   "source": [
    "A matriz `A'` é a adjunta de `A`, ou seja, a transposta conjugada de `A`, que coincide com a transposta quando `A` é real."
   ]
  },
  {
   "cell_type": "code",
   "execution_count": 5,
   "metadata": {},
   "outputs": [
    {
     "data": {
      "text/plain": [
       "3×3 adjoint(::Matrix{Int64}) with eltype Int64:\n",
       " 3  4  2\n",
       " 2  3  2\n",
       " 3  1  2"
      ]
     },
     "execution_count": 5,
     "metadata": {},
     "output_type": "execute_result"
    }
   ],
   "source": [
    "A'"
   ]
  },
  {
   "cell_type": "markdown",
   "metadata": {},
   "source": [
    "### Multiplicação pela transposta\n",
    "\n",
    "Em Julia, podemos escrever simplesmente `A'A` em vez de `(A')*A`:"
   ]
  },
  {
   "cell_type": "code",
   "execution_count": 6,
   "metadata": {},
   "outputs": [
    {
     "data": {
      "text/plain": [
       "3×3 Matrix{Int64}:\n",
       " 29  22  17\n",
       " 22  17  13\n",
       " 17  13  14"
      ]
     },
     "execution_count": 6,
     "metadata": {},
     "output_type": "execute_result"
    }
   ],
   "source": [
    "A'A"
   ]
  },
  {
   "cell_type": "code",
   "execution_count": 7,
   "metadata": {},
   "outputs": [
    {
     "data": {
      "text/plain": [
       "3×3 Matrix{Int64}:\n",
       " 29  22  17\n",
       " 22  17  13\n",
       " 17  13  14"
      ]
     },
     "execution_count": 7,
     "metadata": {},
     "output_type": "execute_result"
    }
   ],
   "source": [
    "(A')*A"
   ]
  },
  {
   "cell_type": "markdown",
   "metadata": {},
   "source": [
    "## Resolvendo sistemas de equações lineares\n",
    "\n",
    "O problema $Ax = b$ pode ser resolvido usando a função `\\`."
   ]
  },
  {
   "cell_type": "code",
   "execution_count": 8,
   "metadata": {},
   "outputs": [
    {
     "data": {
      "text/plain": [
       "3-element Vector{Float64}:\n",
       " 1.0\n",
       " 1.0\n",
       " 1.0"
      ]
     },
     "execution_count": 8,
     "metadata": {},
     "output_type": "execute_result"
    }
   ],
   "source": [
    "x = A\\b"
   ]
  },
  {
   "cell_type": "markdown",
   "metadata": {},
   "source": [
    "## Matrizes com estrutura especial"
   ]
  },
  {
   "cell_type": "code",
   "execution_count": 9,
   "metadata": {},
   "outputs": [],
   "source": [
    "using LinearAlgebra"
   ]
  },
  {
   "cell_type": "code",
   "execution_count": 10,
   "metadata": {},
   "outputs": [],
   "source": [
    "n = 1000\n",
    "A = randn(n,n);"
   ]
  },
  {
   "cell_type": "markdown",
   "metadata": {},
   "source": [
    "Frequentemente, é possível inferir a estrutura de uma matriz:"
   ]
  },
  {
   "cell_type": "code",
   "execution_count": 11,
   "metadata": {},
   "outputs": [
    {
     "data": {
      "text/plain": [
       "true"
      ]
     },
     "execution_count": 11,
     "metadata": {},
     "output_type": "execute_result"
    }
   ],
   "source": [
    "Asim = A + A'\n",
    "issymmetric(Asim)"
   ]
  },
  {
   "cell_type": "markdown",
   "metadata": {},
   "source": [
    "Todavia, muitas vezes os arredondamentos numéricos atrapalham:"
   ]
  },
  {
   "cell_type": "code",
   "execution_count": 12,
   "metadata": {},
   "outputs": [
    {
     "name": "stdout",
     "output_type": "stream",
     "text": [
      "ruido = 1.1102230246251565e-15\n"
     ]
    },
    {
     "data": {
      "text/plain": [
       "false"
      ]
     },
     "execution_count": 12,
     "metadata": {},
     "output_type": "execute_result"
    }
   ],
   "source": [
    "Asim_ruido = copy(Asim)\n",
    "ruido = 5eps()\n",
    "println(\"ruido = $ruido\")\n",
    "Asim_ruido[1,2] += ruido\n",
    "issymmetric(Asim_ruido)"
   ]
  },
  {
   "cell_type": "markdown",
   "metadata": {},
   "source": [
    "O comando acima inseriu um ruído da ordem de 10<sup>-15</sup> no elemento (1,2) da matriz `Asim`.\n",
    "\n",
    "A linguagem Julia permite que declaremos explicitamente a estrutura de uma matriz usando, por exemplo, `Diagonal`, `Triangular`, `Symmetric`, `Hermitian`, `Tridiagonal` e `SymTridiagonal`."
   ]
  },
  {
   "cell_type": "code",
   "execution_count": 13,
   "metadata": {},
   "outputs": [
    {
     "data": {
      "text/plain": [
       "true"
      ]
     },
     "execution_count": 13,
     "metadata": {},
     "output_type": "execute_result"
    }
   ],
   "source": [
    "Asim_explicita = Symmetric(Asim_ruido)\n",
    "issymmetric(Asim_explicita)"
   ]
  },
  {
   "cell_type": "markdown",
   "metadata": {},
   "source": [
    "Vamos comparar quanto tempo leva para a Julia calcular os autovalores de `Asim`, `Asim_ruido` e `Asim_explicita`."
   ]
  },
  {
   "cell_type": "code",
   "execution_count": 14,
   "metadata": {},
   "outputs": [
    {
     "name": "stdout",
     "output_type": "stream",
     "text": [
      "  0.405022 seconds (668.70 k allocations: 46.791 MiB, 3.39% gc time, 74.93% compilation time)\n"
     ]
    }
   ],
   "source": [
    "@time eigvals(Asim);"
   ]
  },
  {
   "cell_type": "code",
   "execution_count": 15,
   "metadata": {},
   "outputs": [
    {
     "name": "stdout",
     "output_type": "stream",
     "text": [
      "  0.749117 seconds (13 allocations: 7.920 MiB)\n"
     ]
    }
   ],
   "source": [
    "@time eigvals(Asim_ruido);"
   ]
  },
  {
   "cell_type": "code",
   "execution_count": 16,
   "metadata": {},
   "outputs": [
    {
     "name": "stdout",
     "output_type": "stream",
     "text": [
      "  0.114899 seconds (5.88 k allocations: 8.312 MiB, 5.54% compilation time)\n"
     ]
    }
   ],
   "source": [
    "@time eigvals(Asim_explicita);"
   ]
  },
  {
   "cell_type": "markdown",
   "metadata": {},
   "source": [
    "Observamos que o cálculo com `Asim_explicita` (onde usamos `Symmetric()`) foi muitas vezes mais rápido do que o cálculo com `Asim_ruido`."
   ]
  },
  {
   "cell_type": "markdown",
   "metadata": {},
   "source": [
    "## Um problema grande\n",
    "\n",
    "Usando os tipos `Tridiagonal` e `SymTridiagonal`, podemos armazenar matrizes de forma eficiente.\n",
    "Isso torna possível fazer cálculos com matrizes muito grandes.\n",
    "Por exemplo, não seria possível resolver em um laptop o seguinte problema se armazenássemos a matriz usando o tipo `Array`."
   ]
  },
  {
   "cell_type": "code",
   "execution_count": 17,
   "metadata": {},
   "outputs": [
    {
     "name": "stdout",
     "output_type": "stream",
     "text": [
      "  0.821819 seconds (836.76 k allocations: 199.595 MiB, 13.05% gc time, 27.85% compilation time)\n"
     ]
    },
    {
     "data": {
      "text/plain": [
       "6.285241029768017"
      ]
     },
     "execution_count": 17,
     "metadata": {},
     "output_type": "execute_result"
    }
   ],
   "source": [
    "n = 1_000_000;\n",
    "A = SymTridiagonal(randn(n), randn(n-1));\n",
    "@time eigmax(A)"
   ]
  },
  {
   "cell_type": "markdown",
   "metadata": {},
   "source": [
    "O cálculo acima demorou menos de 1 segundo.\n",
    "Explicamos a seguir o significado dos comandos.\n",
    "\n",
    "O comando abaixo cria uma matriz simétrica 6x6 especificando 6 números aleatórios na diagonal e 5 números aleatórios na diagonal secundária."
   ]
  },
  {
   "cell_type": "code",
   "execution_count": 18,
   "metadata": {},
   "outputs": [
    {
     "data": {
      "text/plain": [
       "6×6 SymTridiagonal{Float64, Vector{Float64}}:\n",
       " 0.0576524   1.79899    ⋅         ⋅          ⋅          ⋅ \n",
       " 1.79899    -0.179178  1.2785     ⋅          ⋅          ⋅ \n",
       "  ⋅          1.2785    0.41075   1.90509     ⋅          ⋅ \n",
       "  ⋅           ⋅        1.90509   0.769035  -0.735527    ⋅ \n",
       "  ⋅           ⋅         ⋅       -0.735527  -0.135487  -1.13723\n",
       "  ⋅           ⋅         ⋅         ⋅        -1.13723   -1.52489"
      ]
     },
     "execution_count": 18,
     "metadata": {},
     "output_type": "execute_result"
    }
   ],
   "source": [
    "B = SymTridiagonal(randn(6), randn(6-1))"
   ]
  },
  {
   "cell_type": "markdown",
   "metadata": {},
   "source": [
    "Portanto, a matriz `A` acima tem estrutura semelhante mas é de ordem **1 milhão x 1 milhão**:"
   ]
  },
  {
   "cell_type": "code",
   "execution_count": 19,
   "metadata": {},
   "outputs": [
    {
     "data": {
      "text/plain": [
       "1000000×1000000 SymTridiagonal{Float64, Vector{Float64}}:\n",
       "  1.26648   -0.934508    ⋅          ⋅        …   ⋅         ⋅         ⋅ \n",
       " -0.934508   0.590161  -0.738032    ⋅            ⋅         ⋅         ⋅ \n",
       "   ⋅        -0.738032   0.535463   0.552278      ⋅         ⋅         ⋅ \n",
       "   ⋅          ⋅         0.552278  -1.01656       ⋅         ⋅         ⋅ \n",
       "   ⋅          ⋅          ⋅         1.57763       ⋅         ⋅         ⋅ \n",
       "   ⋅          ⋅          ⋅          ⋅        …   ⋅         ⋅         ⋅ \n",
       "   ⋅          ⋅          ⋅          ⋅            ⋅         ⋅         ⋅ \n",
       "   ⋅          ⋅          ⋅          ⋅            ⋅         ⋅         ⋅ \n",
       "   ⋅          ⋅          ⋅          ⋅            ⋅         ⋅         ⋅ \n",
       "   ⋅          ⋅          ⋅          ⋅            ⋅         ⋅         ⋅ \n",
       "   ⋅          ⋅          ⋅          ⋅        …   ⋅         ⋅         ⋅ \n",
       "   ⋅          ⋅          ⋅          ⋅            ⋅         ⋅         ⋅ \n",
       "   ⋅          ⋅          ⋅          ⋅            ⋅         ⋅         ⋅ \n",
       "  ⋮                                          ⋱                      \n",
       "   ⋅          ⋅          ⋅          ⋅            ⋅         ⋅         ⋅ \n",
       "   ⋅          ⋅          ⋅          ⋅            ⋅         ⋅         ⋅ \n",
       "   ⋅          ⋅          ⋅          ⋅        …   ⋅         ⋅         ⋅ \n",
       "   ⋅          ⋅          ⋅          ⋅            ⋅         ⋅         ⋅ \n",
       "   ⋅          ⋅          ⋅          ⋅            ⋅         ⋅         ⋅ \n",
       "   ⋅          ⋅          ⋅          ⋅            ⋅         ⋅         ⋅ \n",
       "   ⋅          ⋅          ⋅          ⋅            ⋅         ⋅         ⋅ \n",
       "   ⋅          ⋅          ⋅          ⋅        …   ⋅         ⋅         ⋅ \n",
       "   ⋅          ⋅          ⋅          ⋅           1.03592    ⋅         ⋅ \n",
       "   ⋅          ⋅          ⋅          ⋅           0.628437  0.790895   ⋅ \n",
       "   ⋅          ⋅          ⋅          ⋅           0.790895  0.756301  2.50745\n",
       "   ⋅          ⋅          ⋅          ⋅            ⋅        2.50745   0.674931"
      ]
     },
     "execution_count": 19,
     "metadata": {},
     "output_type": "execute_result"
    }
   ],
   "source": [
    "A"
   ]
  },
  {
   "cell_type": "markdown",
   "metadata": {},
   "source": [
    "O comando `randn(6)` cria uma lista de 6 números aleatórios."
   ]
  },
  {
   "cell_type": "code",
   "execution_count": 20,
   "metadata": {
    "scrolled": true
   },
   "outputs": [
    {
     "data": {
      "text/plain": [
       "6-element Vector{Float64}:\n",
       "  0.9642832338780403\n",
       "  0.9392706999299429\n",
       " -1.498749508841941\n",
       " -1.5200145224561683\n",
       " -1.2174591122386123\n",
       "  0.4669009261067783"
      ]
     },
     "execution_count": 20,
     "metadata": {},
     "output_type": "execute_result"
    }
   ],
   "source": [
    "randn(6)"
   ]
  },
  {
   "cell_type": "markdown",
   "metadata": {},
   "source": [
    "O comando `eigmax(A)` calcula o maior autovalor de `A`.\n",
    "\n",
    "Com os comandos a seguir, podemos ler as documentações sobre as funções (lembre da dica de traduzir usando https://translate.google.com):"
   ]
  },
  {
   "cell_type": "code",
   "execution_count": 21,
   "metadata": {},
   "outputs": [
    {
     "name": "stdout",
     "output_type": "stream",
     "text": [
      "search: \u001b[0m\u001b[1me\u001b[22m\u001b[0m\u001b[1mi\u001b[22m\u001b[0m\u001b[1mg\u001b[22m\u001b[0m\u001b[1mm\u001b[22m\u001b[0m\u001b[1ma\u001b[22m\u001b[0m\u001b[1mx\u001b[22m\n",
      "\n"
     ]
    },
    {
     "data": {
      "text/latex": [
       "\\begin{verbatim}\n",
       "eigmax(A; permute::Bool=true, scale::Bool=true)\n",
       "\\end{verbatim}\n",
       "Return the largest eigenvalue of \\texttt{A}. The option \\texttt{permute=true} permutes the matrix to become closer to upper triangular, and \\texttt{scale=true} scales the matrix by its diagonal elements to make rows and columns more equal in norm. Note that if the eigenvalues of \\texttt{A} are complex, this method will fail, since complex numbers cannot be sorted.\n",
       "\n",
       "\\section{Examples}\n",
       "\\begin{verbatim}\n",
       "julia> A = [0 im; -im 0]\n",
       "2×2 Matrix{Complex{Int64}}:\n",
       " 0+0im  0+1im\n",
       " 0-1im  0+0im\n",
       "\n",
       "julia> eigmax(A)\n",
       "1.0\n",
       "\n",
       "julia> A = [0 im; -1 0]\n",
       "2×2 Matrix{Complex{Int64}}:\n",
       "  0+0im  0+1im\n",
       " -1+0im  0+0im\n",
       "\n",
       "julia> eigmax(A)\n",
       "ERROR: DomainError with Complex{Int64}[0+0im 0+1im; -1+0im 0+0im]:\n",
       "`A` cannot have complex eigenvalues.\n",
       "Stacktrace:\n",
       "[...]\n",
       "\\end{verbatim}\n"
      ],
      "text/markdown": [
       "```\n",
       "eigmax(A; permute::Bool=true, scale::Bool=true)\n",
       "```\n",
       "\n",
       "Return the largest eigenvalue of `A`. The option `permute=true` permutes the matrix to become closer to upper triangular, and `scale=true` scales the matrix by its diagonal elements to make rows and columns more equal in norm. Note that if the eigenvalues of `A` are complex, this method will fail, since complex numbers cannot be sorted.\n",
       "\n",
       "# Examples\n",
       "\n",
       "```jldoctest\n",
       "julia> A = [0 im; -im 0]\n",
       "2×2 Matrix{Complex{Int64}}:\n",
       " 0+0im  0+1im\n",
       " 0-1im  0+0im\n",
       "\n",
       "julia> eigmax(A)\n",
       "1.0\n",
       "\n",
       "julia> A = [0 im; -1 0]\n",
       "2×2 Matrix{Complex{Int64}}:\n",
       "  0+0im  0+1im\n",
       " -1+0im  0+0im\n",
       "\n",
       "julia> eigmax(A)\n",
       "ERROR: DomainError with Complex{Int64}[0+0im 0+1im; -1+0im 0+0im]:\n",
       "`A` cannot have complex eigenvalues.\n",
       "Stacktrace:\n",
       "[...]\n",
       "```\n"
      ],
      "text/plain": [
       "\u001b[36m  eigmax(A; permute::Bool=true, scale::Bool=true)\u001b[39m\n",
       "\n",
       "  Return the largest eigenvalue of \u001b[36mA\u001b[39m. The option \u001b[36mpermute=true\u001b[39m permutes the\n",
       "  matrix to become closer to upper triangular, and \u001b[36mscale=true\u001b[39m scales the\n",
       "  matrix by its diagonal elements to make rows and columns more equal in norm.\n",
       "  Note that if the eigenvalues of \u001b[36mA\u001b[39m are complex, this method will fail, since\n",
       "  complex numbers cannot be sorted.\n",
       "\n",
       "\u001b[1m  Examples\u001b[22m\n",
       "\u001b[1m  ≡≡≡≡≡≡≡≡≡≡\u001b[22m\n",
       "\n",
       "\u001b[36m  julia> A = [0 im; -im 0]\u001b[39m\n",
       "\u001b[36m  2×2 Matrix{Complex{Int64}}:\u001b[39m\n",
       "\u001b[36m   0+0im  0+1im\u001b[39m\n",
       "\u001b[36m   0-1im  0+0im\u001b[39m\n",
       "\u001b[36m  \u001b[39m\n",
       "\u001b[36m  julia> eigmax(A)\u001b[39m\n",
       "\u001b[36m  1.0\u001b[39m\n",
       "\u001b[36m  \u001b[39m\n",
       "\u001b[36m  julia> A = [0 im; -1 0]\u001b[39m\n",
       "\u001b[36m  2×2 Matrix{Complex{Int64}}:\u001b[39m\n",
       "\u001b[36m    0+0im  0+1im\u001b[39m\n",
       "\u001b[36m   -1+0im  0+0im\u001b[39m\n",
       "\u001b[36m  \u001b[39m\n",
       "\u001b[36m  julia> eigmax(A)\u001b[39m\n",
       "\u001b[36m  ERROR: DomainError with Complex{Int64}[0+0im 0+1im; -1+0im 0+0im]:\u001b[39m\n",
       "\u001b[36m  `A` cannot have complex eigenvalues.\u001b[39m\n",
       "\u001b[36m  Stacktrace:\u001b[39m\n",
       "\u001b[36m  [...]\u001b[39m"
      ]
     },
     "execution_count": 21,
     "metadata": {},
     "output_type": "execute_result"
    }
   ],
   "source": [
    "?eigmax"
   ]
  },
  {
   "cell_type": "code",
   "execution_count": 22,
   "metadata": {},
   "outputs": [
    {
     "name": "stdout",
     "output_type": "stream",
     "text": [
      "search: \u001b[0m\u001b[1mr\u001b[22m\u001b[0m\u001b[1ma\u001b[22m\u001b[0m\u001b[1mn\u001b[22m\u001b[0m\u001b[1md\u001b[22m\u001b[0m\u001b[1mn\u001b[22m low\u001b[0m\u001b[1mr\u001b[22m\u001b[0m\u001b[1ma\u001b[22m\u001b[0m\u001b[1mn\u001b[22mk\u001b[0m\u001b[1md\u001b[22mow\u001b[0m\u001b[1mn\u001b[22mdate low\u001b[0m\u001b[1mr\u001b[22m\u001b[0m\u001b[1ma\u001b[22m\u001b[0m\u001b[1mn\u001b[22mk\u001b[0m\u001b[1md\u001b[22mow\u001b[0m\u001b[1mn\u001b[22mdate! \u001b[0m\u001b[1mR\u001b[22m\u001b[0m\u001b[1ma\u001b[22m\u001b[0m\u001b[1mn\u001b[22mk\u001b[0m\u001b[1mD\u001b[22meficie\u001b[0m\u001b[1mn\u001b[22mtException \u001b[0m\u001b[1mr\u001b[22m\u001b[0m\u001b[1ma\u001b[22m\u001b[0m\u001b[1mn\u001b[22m\u001b[0m\u001b[1md\u001b[22m\n",
      "\n"
     ]
    },
    {
     "data": {
      "text/latex": [
       "\\begin{verbatim}\n",
       "randn([rng=GLOBAL_RNG], [T=Float64], [dims...])\n",
       "\\end{verbatim}\n",
       "Generate a normally-distributed random number of type \\texttt{T} with mean 0 and standard deviation 1. Optionally generate an array of normally-distributed random numbers. The \\texttt{Base} module currently provides an implementation for the types \\href{@ref}{\\texttt{Float16}}, \\href{@ref}{\\texttt{Float32}}, and \\href{@ref}{\\texttt{Float64}} (the default), and their \\href{@ref}{\\texttt{Complex}} counterparts. When the type argument is complex, the values are drawn from the circularly symmetric complex normal distribution of variance 1 (corresponding to real and imaginary part having independent normal distribution with mean zero and variance \\texttt{1/2}).\n",
       "\n",
       "\\section{Examples}\n",
       "\\begin{verbatim}\n",
       "julia> using Random\n",
       "\n",
       "julia> rng = MersenneTwister(1234);\n",
       "\n",
       "julia> randn(rng, ComplexF64)\n",
       "0.6133070881429037 - 0.6376291670853887im\n",
       "\n",
       "julia> randn(rng, ComplexF32, (2, 3))\n",
       "2×3 Matrix{ComplexF32}:\n",
       " -0.349649-0.638457im  0.376756-0.192146im  -0.396334-0.0136413im\n",
       "  0.611224+1.56403im   0.355204-0.365563im  0.0905552+1.31012im\n",
       "\\end{verbatim}\n"
      ],
      "text/markdown": [
       "```\n",
       "randn([rng=GLOBAL_RNG], [T=Float64], [dims...])\n",
       "```\n",
       "\n",
       "Generate a normally-distributed random number of type `T` with mean 0 and standard deviation 1. Optionally generate an array of normally-distributed random numbers. The `Base` module currently provides an implementation for the types [`Float16`](@ref), [`Float32`](@ref), and [`Float64`](@ref) (the default), and their [`Complex`](@ref) counterparts. When the type argument is complex, the values are drawn from the circularly symmetric complex normal distribution of variance 1 (corresponding to real and imaginary part having independent normal distribution with mean zero and variance `1/2`).\n",
       "\n",
       "# Examples\n",
       "\n",
       "```jldoctest\n",
       "julia> using Random\n",
       "\n",
       "julia> rng = MersenneTwister(1234);\n",
       "\n",
       "julia> randn(rng, ComplexF64)\n",
       "0.6133070881429037 - 0.6376291670853887im\n",
       "\n",
       "julia> randn(rng, ComplexF32, (2, 3))\n",
       "2×3 Matrix{ComplexF32}:\n",
       " -0.349649-0.638457im  0.376756-0.192146im  -0.396334-0.0136413im\n",
       "  0.611224+1.56403im   0.355204-0.365563im  0.0905552+1.31012im\n",
       "```\n"
      ],
      "text/plain": [
       "\u001b[36m  randn([rng=GLOBAL_RNG], [T=Float64], [dims...])\u001b[39m\n",
       "\n",
       "  Generate a normally-distributed random number of type \u001b[36mT\u001b[39m with mean 0 and\n",
       "  standard deviation 1. Optionally generate an array of normally-distributed\n",
       "  random numbers. The \u001b[36mBase\u001b[39m module currently provides an implementation for the\n",
       "  types \u001b[36mFloat16\u001b[39m, \u001b[36mFloat32\u001b[39m, and \u001b[36mFloat64\u001b[39m (the default), and their \u001b[36mComplex\u001b[39m\n",
       "  counterparts. When the type argument is complex, the values are drawn from\n",
       "  the circularly symmetric complex normal distribution of variance 1\n",
       "  (corresponding to real and imaginary part having independent normal\n",
       "  distribution with mean zero and variance \u001b[36m1/2\u001b[39m).\n",
       "\n",
       "\u001b[1m  Examples\u001b[22m\n",
       "\u001b[1m  ≡≡≡≡≡≡≡≡≡≡\u001b[22m\n",
       "\n",
       "\u001b[36m  julia> using Random\u001b[39m\n",
       "\u001b[36m  \u001b[39m\n",
       "\u001b[36m  julia> rng = MersenneTwister(1234);\u001b[39m\n",
       "\u001b[36m  \u001b[39m\n",
       "\u001b[36m  julia> randn(rng, ComplexF64)\u001b[39m\n",
       "\u001b[36m  0.6133070881429037 - 0.6376291670853887im\u001b[39m\n",
       "\u001b[36m  \u001b[39m\n",
       "\u001b[36m  julia> randn(rng, ComplexF32, (2, 3))\u001b[39m\n",
       "\u001b[36m  2×3 Matrix{ComplexF32}:\u001b[39m\n",
       "\u001b[36m   -0.349649-0.638457im  0.376756-0.192146im  -0.396334-0.0136413im\u001b[39m\n",
       "\u001b[36m    0.611224+1.56403im   0.355204-0.365563im  0.0905552+1.31012im\u001b[39m"
      ]
     },
     "execution_count": 22,
     "metadata": {},
     "output_type": "execute_result"
    }
   ],
   "source": [
    "?randn"
   ]
  }
 ],
 "metadata": {
  "kernelspec": {
   "display_name": "Julia 1.6.0",
   "language": "julia",
   "name": "julia-1.6"
  },
  "language_info": {
   "file_extension": ".jl",
   "mimetype": "application/julia",
   "name": "julia",
   "version": "1.6.2"
  }
 },
 "nbformat": 4,
 "nbformat_minor": 4
}
